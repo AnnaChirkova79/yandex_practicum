{
 "cells": [
  {
   "cell_type": "markdown",
   "metadata": {},
   "source": [
    "# Исследование объявлений о продаже квартир\n",
    "\n",
    "В вашем распоряжении данные сервиса Яндекс.Недвижимость — архив объявлений о продаже квартир в Санкт-Петербурге и соседних населённых пунктов за несколько лет. Нужно научиться определять рыночную стоимость объектов недвижимости. Ваша задача — установить параметры. Это позволит построить автоматизированную систему: она отследит аномалии и мошенническую деятельность. \n",
    "\n",
    "По каждой квартире на продажу доступны два вида данных. Первые вписаны пользователем, вторые — получены автоматически на основе картографических данных. Например, расстояние до центра, аэропорта, ближайшего парка и водоёма. "
   ]
  },
  {
   "cell_type": "markdown",
   "metadata": {},
   "source": [
    "### Откройте файл с данными и изучите общую информацию. "
   ]
  },
  {
   "cell_type": "markdown",
   "metadata": {},
   "source": [
    "**Задание 1. Импортируем библиотеки.**"
   ]
  },
  {
   "cell_type": "code",
   "execution_count": 1,
   "metadata": {},
   "outputs": [],
   "source": [
    "import pandas as pd\n",
    "import matplotlib.pyplot as plt"
   ]
  },
  {
   "cell_type": "markdown",
   "metadata": {},
   "source": [
    "**Задание 2. Считаем данные из csv-файла в датафрейм и сохраним в переменную data. Путь к файлу:/datasets/real_estate_data.csv**"
   ]
  },
  {
   "cell_type": "code",
   "execution_count": 2,
   "metadata": {},
   "outputs": [],
   "source": [
    "data = pd.read_csv('/datasets/real_estate_data.csv', sep='\\t')"
   ]
  },
  {
   "cell_type": "markdown",
   "metadata": {},
   "source": [
    "**Задание 3. О качестве данных ничего неизвестно, поэтому перед проверкой гипотез понадобится обзор данных. Выведем 5 строчек таблицы на экран, чтобы ознакомиться с содержимым файла.**"
   ]
  },
  {
   "cell_type": "code",
   "execution_count": 3,
   "metadata": {},
   "outputs": [
    {
     "data": {
      "text/html": [
       "<div>\n",
       "<style scoped>\n",
       "    .dataframe tbody tr th:only-of-type {\n",
       "        vertical-align: middle;\n",
       "    }\n",
       "\n",
       "    .dataframe tbody tr th {\n",
       "        vertical-align: top;\n",
       "    }\n",
       "\n",
       "    .dataframe thead th {\n",
       "        text-align: right;\n",
       "    }\n",
       "</style>\n",
       "<table border=\"1\" class=\"dataframe\">\n",
       "  <thead>\n",
       "    <tr style=\"text-align: right;\">\n",
       "      <th></th>\n",
       "      <th>total_images</th>\n",
       "      <th>last_price</th>\n",
       "      <th>total_area</th>\n",
       "      <th>first_day_exposition</th>\n",
       "      <th>rooms</th>\n",
       "      <th>ceiling_height</th>\n",
       "      <th>floors_total</th>\n",
       "      <th>living_area</th>\n",
       "      <th>floor</th>\n",
       "      <th>is_apartment</th>\n",
       "      <th>...</th>\n",
       "      <th>kitchen_area</th>\n",
       "      <th>balcony</th>\n",
       "      <th>locality_name</th>\n",
       "      <th>airports_nearest</th>\n",
       "      <th>cityCenters_nearest</th>\n",
       "      <th>parks_around3000</th>\n",
       "      <th>parks_nearest</th>\n",
       "      <th>ponds_around3000</th>\n",
       "      <th>ponds_nearest</th>\n",
       "      <th>days_exposition</th>\n",
       "    </tr>\n",
       "  </thead>\n",
       "  <tbody>\n",
       "    <tr>\n",
       "      <th>0</th>\n",
       "      <td>20</td>\n",
       "      <td>13000000.0</td>\n",
       "      <td>108.0</td>\n",
       "      <td>2019-03-07T00:00:00</td>\n",
       "      <td>3</td>\n",
       "      <td>2.70</td>\n",
       "      <td>16.0</td>\n",
       "      <td>51.0</td>\n",
       "      <td>8</td>\n",
       "      <td>NaN</td>\n",
       "      <td>...</td>\n",
       "      <td>25.0</td>\n",
       "      <td>NaN</td>\n",
       "      <td>Санкт-Петербург</td>\n",
       "      <td>18863.0</td>\n",
       "      <td>16028.0</td>\n",
       "      <td>1.0</td>\n",
       "      <td>482.0</td>\n",
       "      <td>2.0</td>\n",
       "      <td>755.0</td>\n",
       "      <td>NaN</td>\n",
       "    </tr>\n",
       "    <tr>\n",
       "      <th>1</th>\n",
       "      <td>7</td>\n",
       "      <td>3350000.0</td>\n",
       "      <td>40.4</td>\n",
       "      <td>2018-12-04T00:00:00</td>\n",
       "      <td>1</td>\n",
       "      <td>NaN</td>\n",
       "      <td>11.0</td>\n",
       "      <td>18.6</td>\n",
       "      <td>1</td>\n",
       "      <td>NaN</td>\n",
       "      <td>...</td>\n",
       "      <td>11.0</td>\n",
       "      <td>2.0</td>\n",
       "      <td>посёлок Шушары</td>\n",
       "      <td>12817.0</td>\n",
       "      <td>18603.0</td>\n",
       "      <td>0.0</td>\n",
       "      <td>NaN</td>\n",
       "      <td>0.0</td>\n",
       "      <td>NaN</td>\n",
       "      <td>81.0</td>\n",
       "    </tr>\n",
       "    <tr>\n",
       "      <th>2</th>\n",
       "      <td>10</td>\n",
       "      <td>5196000.0</td>\n",
       "      <td>56.0</td>\n",
       "      <td>2015-08-20T00:00:00</td>\n",
       "      <td>2</td>\n",
       "      <td>NaN</td>\n",
       "      <td>5.0</td>\n",
       "      <td>34.3</td>\n",
       "      <td>4</td>\n",
       "      <td>NaN</td>\n",
       "      <td>...</td>\n",
       "      <td>8.3</td>\n",
       "      <td>0.0</td>\n",
       "      <td>Санкт-Петербург</td>\n",
       "      <td>21741.0</td>\n",
       "      <td>13933.0</td>\n",
       "      <td>1.0</td>\n",
       "      <td>90.0</td>\n",
       "      <td>2.0</td>\n",
       "      <td>574.0</td>\n",
       "      <td>558.0</td>\n",
       "    </tr>\n",
       "    <tr>\n",
       "      <th>3</th>\n",
       "      <td>0</td>\n",
       "      <td>64900000.0</td>\n",
       "      <td>159.0</td>\n",
       "      <td>2015-07-24T00:00:00</td>\n",
       "      <td>3</td>\n",
       "      <td>NaN</td>\n",
       "      <td>14.0</td>\n",
       "      <td>NaN</td>\n",
       "      <td>9</td>\n",
       "      <td>NaN</td>\n",
       "      <td>...</td>\n",
       "      <td>NaN</td>\n",
       "      <td>0.0</td>\n",
       "      <td>Санкт-Петербург</td>\n",
       "      <td>28098.0</td>\n",
       "      <td>6800.0</td>\n",
       "      <td>2.0</td>\n",
       "      <td>84.0</td>\n",
       "      <td>3.0</td>\n",
       "      <td>234.0</td>\n",
       "      <td>424.0</td>\n",
       "    </tr>\n",
       "    <tr>\n",
       "      <th>4</th>\n",
       "      <td>2</td>\n",
       "      <td>10000000.0</td>\n",
       "      <td>100.0</td>\n",
       "      <td>2018-06-19T00:00:00</td>\n",
       "      <td>2</td>\n",
       "      <td>3.03</td>\n",
       "      <td>14.0</td>\n",
       "      <td>32.0</td>\n",
       "      <td>13</td>\n",
       "      <td>NaN</td>\n",
       "      <td>...</td>\n",
       "      <td>41.0</td>\n",
       "      <td>NaN</td>\n",
       "      <td>Санкт-Петербург</td>\n",
       "      <td>31856.0</td>\n",
       "      <td>8098.0</td>\n",
       "      <td>2.0</td>\n",
       "      <td>112.0</td>\n",
       "      <td>1.0</td>\n",
       "      <td>48.0</td>\n",
       "      <td>121.0</td>\n",
       "    </tr>\n",
       "  </tbody>\n",
       "</table>\n",
       "<p>5 rows × 22 columns</p>\n",
       "</div>"
      ],
      "text/plain": [
       "   total_images  last_price  total_area first_day_exposition  rooms  \\\n",
       "0            20  13000000.0       108.0  2019-03-07T00:00:00      3   \n",
       "1             7   3350000.0        40.4  2018-12-04T00:00:00      1   \n",
       "2            10   5196000.0        56.0  2015-08-20T00:00:00      2   \n",
       "3             0  64900000.0       159.0  2015-07-24T00:00:00      3   \n",
       "4             2  10000000.0       100.0  2018-06-19T00:00:00      2   \n",
       "\n",
       "   ceiling_height  floors_total  living_area  floor is_apartment  ...  \\\n",
       "0            2.70          16.0         51.0      8          NaN  ...   \n",
       "1             NaN          11.0         18.6      1          NaN  ...   \n",
       "2             NaN           5.0         34.3      4          NaN  ...   \n",
       "3             NaN          14.0          NaN      9          NaN  ...   \n",
       "4            3.03          14.0         32.0     13          NaN  ...   \n",
       "\n",
       "   kitchen_area  balcony    locality_name  airports_nearest  \\\n",
       "0          25.0      NaN  Санкт-Петербург           18863.0   \n",
       "1          11.0      2.0   посёлок Шушары           12817.0   \n",
       "2           8.3      0.0  Санкт-Петербург           21741.0   \n",
       "3           NaN      0.0  Санкт-Петербург           28098.0   \n",
       "4          41.0      NaN  Санкт-Петербург           31856.0   \n",
       "\n",
       "  cityCenters_nearest  parks_around3000  parks_nearest  ponds_around3000  \\\n",
       "0             16028.0               1.0          482.0               2.0   \n",
       "1             18603.0               0.0            NaN               0.0   \n",
       "2             13933.0               1.0           90.0               2.0   \n",
       "3              6800.0               2.0           84.0               3.0   \n",
       "4              8098.0               2.0          112.0               1.0   \n",
       "\n",
       "   ponds_nearest  days_exposition  \n",
       "0          755.0              NaN  \n",
       "1            NaN             81.0  \n",
       "2          574.0            558.0  \n",
       "3          234.0            424.0  \n",
       "4           48.0            121.0  \n",
       "\n",
       "[5 rows x 22 columns]"
      ]
     },
     "execution_count": 3,
     "metadata": {},
     "output_type": "execute_result"
    }
   ],
   "source": [
    "data.head()"
   ]
  },
  {
   "cell_type": "markdown",
   "metadata": {},
   "source": [
    "**Задание 4. Выведем основную информацию о датафрейме. Найдем дубликаты.**"
   ]
  },
  {
   "cell_type": "code",
   "execution_count": 4,
   "metadata": {},
   "outputs": [
    {
     "name": "stdout",
     "output_type": "stream",
     "text": [
      "<class 'pandas.core.frame.DataFrame'>\n",
      "RangeIndex: 23699 entries, 0 to 23698\n",
      "Data columns (total 22 columns):\n",
      " #   Column                Non-Null Count  Dtype  \n",
      "---  ------                --------------  -----  \n",
      " 0   total_images          23699 non-null  int64  \n",
      " 1   last_price            23699 non-null  float64\n",
      " 2   total_area            23699 non-null  float64\n",
      " 3   first_day_exposition  23699 non-null  object \n",
      " 4   rooms                 23699 non-null  int64  \n",
      " 5   ceiling_height        14504 non-null  float64\n",
      " 6   floors_total          23613 non-null  float64\n",
      " 7   living_area           21796 non-null  float64\n",
      " 8   floor                 23699 non-null  int64  \n",
      " 9   is_apartment          2775 non-null   object \n",
      " 10  studio                23699 non-null  bool   \n",
      " 11  open_plan             23699 non-null  bool   \n",
      " 12  kitchen_area          21421 non-null  float64\n",
      " 13  balcony               12180 non-null  float64\n",
      " 14  locality_name         23650 non-null  object \n",
      " 15  airports_nearest      18157 non-null  float64\n",
      " 16  cityCenters_nearest   18180 non-null  float64\n",
      " 17  parks_around3000      18181 non-null  float64\n",
      " 18  parks_nearest         8079 non-null   float64\n",
      " 19  ponds_around3000      18181 non-null  float64\n",
      " 20  ponds_nearest         9110 non-null   float64\n",
      " 21  days_exposition       20518 non-null  float64\n",
      "dtypes: bool(2), float64(14), int64(3), object(3)\n",
      "memory usage: 3.7+ MB\n",
      "\n",
      "Число дубликатов: 0\n"
     ]
    }
   ],
   "source": [
    "data.info()\n",
    "print('\\nЧисло дубликатов:', data.duplicated().sum())"
   ]
  },
  {
   "cell_type": "code",
   "execution_count": 5,
   "metadata": {},
   "outputs": [
    {
     "data": {
      "text/html": [
       "<div>\n",
       "<style scoped>\n",
       "    .dataframe tbody tr th:only-of-type {\n",
       "        vertical-align: middle;\n",
       "    }\n",
       "\n",
       "    .dataframe tbody tr th {\n",
       "        vertical-align: top;\n",
       "    }\n",
       "\n",
       "    .dataframe thead th {\n",
       "        text-align: right;\n",
       "    }\n",
       "</style>\n",
       "<table border=\"1\" class=\"dataframe\">\n",
       "  <thead>\n",
       "    <tr style=\"text-align: right;\">\n",
       "      <th></th>\n",
       "      <th>total_images</th>\n",
       "      <th>last_price</th>\n",
       "      <th>total_area</th>\n",
       "      <th>rooms</th>\n",
       "      <th>ceiling_height</th>\n",
       "      <th>floors_total</th>\n",
       "      <th>living_area</th>\n",
       "      <th>floor</th>\n",
       "      <th>kitchen_area</th>\n",
       "      <th>balcony</th>\n",
       "      <th>airports_nearest</th>\n",
       "      <th>cityCenters_nearest</th>\n",
       "      <th>parks_around3000</th>\n",
       "      <th>parks_nearest</th>\n",
       "      <th>ponds_around3000</th>\n",
       "      <th>ponds_nearest</th>\n",
       "      <th>days_exposition</th>\n",
       "    </tr>\n",
       "  </thead>\n",
       "  <tbody>\n",
       "    <tr>\n",
       "      <th>count</th>\n",
       "      <td>23699.000000</td>\n",
       "      <td>2.369900e+04</td>\n",
       "      <td>23699.000000</td>\n",
       "      <td>23699.000000</td>\n",
       "      <td>14504.000000</td>\n",
       "      <td>23613.000000</td>\n",
       "      <td>21796.000000</td>\n",
       "      <td>23699.000000</td>\n",
       "      <td>21421.000000</td>\n",
       "      <td>12180.000000</td>\n",
       "      <td>18157.000000</td>\n",
       "      <td>18180.000000</td>\n",
       "      <td>18181.000000</td>\n",
       "      <td>8079.000000</td>\n",
       "      <td>18181.000000</td>\n",
       "      <td>9110.000000</td>\n",
       "      <td>20518.000000</td>\n",
       "    </tr>\n",
       "    <tr>\n",
       "      <th>mean</th>\n",
       "      <td>9.858475</td>\n",
       "      <td>6.541549e+06</td>\n",
       "      <td>60.348651</td>\n",
       "      <td>2.070636</td>\n",
       "      <td>2.771499</td>\n",
       "      <td>10.673824</td>\n",
       "      <td>34.457852</td>\n",
       "      <td>5.892358</td>\n",
       "      <td>10.569807</td>\n",
       "      <td>1.150082</td>\n",
       "      <td>28793.672193</td>\n",
       "      <td>14191.277833</td>\n",
       "      <td>0.611408</td>\n",
       "      <td>490.804555</td>\n",
       "      <td>0.770255</td>\n",
       "      <td>517.980900</td>\n",
       "      <td>180.888634</td>\n",
       "    </tr>\n",
       "    <tr>\n",
       "      <th>std</th>\n",
       "      <td>5.682529</td>\n",
       "      <td>1.088701e+07</td>\n",
       "      <td>35.654083</td>\n",
       "      <td>1.078405</td>\n",
       "      <td>1.261056</td>\n",
       "      <td>6.597173</td>\n",
       "      <td>22.030445</td>\n",
       "      <td>4.885249</td>\n",
       "      <td>5.905438</td>\n",
       "      <td>1.071300</td>\n",
       "      <td>12630.880622</td>\n",
       "      <td>8608.386210</td>\n",
       "      <td>0.802074</td>\n",
       "      <td>342.317995</td>\n",
       "      <td>0.938346</td>\n",
       "      <td>277.720643</td>\n",
       "      <td>219.727988</td>\n",
       "    </tr>\n",
       "    <tr>\n",
       "      <th>min</th>\n",
       "      <td>0.000000</td>\n",
       "      <td>1.219000e+04</td>\n",
       "      <td>12.000000</td>\n",
       "      <td>0.000000</td>\n",
       "      <td>1.000000</td>\n",
       "      <td>1.000000</td>\n",
       "      <td>2.000000</td>\n",
       "      <td>1.000000</td>\n",
       "      <td>1.300000</td>\n",
       "      <td>0.000000</td>\n",
       "      <td>0.000000</td>\n",
       "      <td>181.000000</td>\n",
       "      <td>0.000000</td>\n",
       "      <td>1.000000</td>\n",
       "      <td>0.000000</td>\n",
       "      <td>13.000000</td>\n",
       "      <td>1.000000</td>\n",
       "    </tr>\n",
       "    <tr>\n",
       "      <th>25%</th>\n",
       "      <td>6.000000</td>\n",
       "      <td>3.400000e+06</td>\n",
       "      <td>40.000000</td>\n",
       "      <td>1.000000</td>\n",
       "      <td>2.520000</td>\n",
       "      <td>5.000000</td>\n",
       "      <td>18.600000</td>\n",
       "      <td>2.000000</td>\n",
       "      <td>7.000000</td>\n",
       "      <td>0.000000</td>\n",
       "      <td>18585.000000</td>\n",
       "      <td>9238.000000</td>\n",
       "      <td>0.000000</td>\n",
       "      <td>288.000000</td>\n",
       "      <td>0.000000</td>\n",
       "      <td>294.000000</td>\n",
       "      <td>45.000000</td>\n",
       "    </tr>\n",
       "    <tr>\n",
       "      <th>50%</th>\n",
       "      <td>9.000000</td>\n",
       "      <td>4.650000e+06</td>\n",
       "      <td>52.000000</td>\n",
       "      <td>2.000000</td>\n",
       "      <td>2.650000</td>\n",
       "      <td>9.000000</td>\n",
       "      <td>30.000000</td>\n",
       "      <td>4.000000</td>\n",
       "      <td>9.100000</td>\n",
       "      <td>1.000000</td>\n",
       "      <td>26726.000000</td>\n",
       "      <td>13098.500000</td>\n",
       "      <td>0.000000</td>\n",
       "      <td>455.000000</td>\n",
       "      <td>1.000000</td>\n",
       "      <td>502.000000</td>\n",
       "      <td>95.000000</td>\n",
       "    </tr>\n",
       "    <tr>\n",
       "      <th>75%</th>\n",
       "      <td>14.000000</td>\n",
       "      <td>6.800000e+06</td>\n",
       "      <td>69.900000</td>\n",
       "      <td>3.000000</td>\n",
       "      <td>2.800000</td>\n",
       "      <td>16.000000</td>\n",
       "      <td>42.300000</td>\n",
       "      <td>8.000000</td>\n",
       "      <td>12.000000</td>\n",
       "      <td>2.000000</td>\n",
       "      <td>37273.000000</td>\n",
       "      <td>16293.000000</td>\n",
       "      <td>1.000000</td>\n",
       "      <td>612.000000</td>\n",
       "      <td>1.000000</td>\n",
       "      <td>729.000000</td>\n",
       "      <td>232.000000</td>\n",
       "    </tr>\n",
       "    <tr>\n",
       "      <th>max</th>\n",
       "      <td>50.000000</td>\n",
       "      <td>7.630000e+08</td>\n",
       "      <td>900.000000</td>\n",
       "      <td>19.000000</td>\n",
       "      <td>100.000000</td>\n",
       "      <td>60.000000</td>\n",
       "      <td>409.700000</td>\n",
       "      <td>33.000000</td>\n",
       "      <td>112.000000</td>\n",
       "      <td>5.000000</td>\n",
       "      <td>84869.000000</td>\n",
       "      <td>65968.000000</td>\n",
       "      <td>3.000000</td>\n",
       "      <td>3190.000000</td>\n",
       "      <td>3.000000</td>\n",
       "      <td>1344.000000</td>\n",
       "      <td>1580.000000</td>\n",
       "    </tr>\n",
       "  </tbody>\n",
       "</table>\n",
       "</div>"
      ],
      "text/plain": [
       "       total_images    last_price    total_area         rooms  ceiling_height  \\\n",
       "count  23699.000000  2.369900e+04  23699.000000  23699.000000    14504.000000   \n",
       "mean       9.858475  6.541549e+06     60.348651      2.070636        2.771499   \n",
       "std        5.682529  1.088701e+07     35.654083      1.078405        1.261056   \n",
       "min        0.000000  1.219000e+04     12.000000      0.000000        1.000000   \n",
       "25%        6.000000  3.400000e+06     40.000000      1.000000        2.520000   \n",
       "50%        9.000000  4.650000e+06     52.000000      2.000000        2.650000   \n",
       "75%       14.000000  6.800000e+06     69.900000      3.000000        2.800000   \n",
       "max       50.000000  7.630000e+08    900.000000     19.000000      100.000000   \n",
       "\n",
       "       floors_total   living_area         floor  kitchen_area       balcony  \\\n",
       "count  23613.000000  21796.000000  23699.000000  21421.000000  12180.000000   \n",
       "mean      10.673824     34.457852      5.892358     10.569807      1.150082   \n",
       "std        6.597173     22.030445      4.885249      5.905438      1.071300   \n",
       "min        1.000000      2.000000      1.000000      1.300000      0.000000   \n",
       "25%        5.000000     18.600000      2.000000      7.000000      0.000000   \n",
       "50%        9.000000     30.000000      4.000000      9.100000      1.000000   \n",
       "75%       16.000000     42.300000      8.000000     12.000000      2.000000   \n",
       "max       60.000000    409.700000     33.000000    112.000000      5.000000   \n",
       "\n",
       "       airports_nearest  cityCenters_nearest  parks_around3000  parks_nearest  \\\n",
       "count      18157.000000         18180.000000      18181.000000    8079.000000   \n",
       "mean       28793.672193         14191.277833          0.611408     490.804555   \n",
       "std        12630.880622          8608.386210          0.802074     342.317995   \n",
       "min            0.000000           181.000000          0.000000       1.000000   \n",
       "25%        18585.000000          9238.000000          0.000000     288.000000   \n",
       "50%        26726.000000         13098.500000          0.000000     455.000000   \n",
       "75%        37273.000000         16293.000000          1.000000     612.000000   \n",
       "max        84869.000000         65968.000000          3.000000    3190.000000   \n",
       "\n",
       "       ponds_around3000  ponds_nearest  days_exposition  \n",
       "count      18181.000000    9110.000000     20518.000000  \n",
       "mean           0.770255     517.980900       180.888634  \n",
       "std            0.938346     277.720643       219.727988  \n",
       "min            0.000000      13.000000         1.000000  \n",
       "25%            0.000000     294.000000        45.000000  \n",
       "50%            1.000000     502.000000        95.000000  \n",
       "75%            1.000000     729.000000       232.000000  \n",
       "max            3.000000    1344.000000      1580.000000  "
      ]
     },
     "execution_count": 5,
     "metadata": {},
     "output_type": "execute_result"
    }
   ],
   "source": [
    "data.describe()"
   ]
  },
  {
   "cell_type": "markdown",
   "metadata": {},
   "source": [
    "После вызова метода info() видно явное несоответствие типов данных и наличие пропусков, а именно: количество значений в столбцах различается, есть пропущенные значения в 14 столбцах из 22. Необходимо выяснить, с чем связаные данные пропуски и определить на какие значения их можно заменить (0, среднее, медиана), или исключить из таблицы, как выбросы."
   ]
  },
  {
   "cell_type": "markdown",
   "metadata": {},
   "source": [
    "**Задание 5. Построем общую гистограмму для всех числовых столбцов таблицы.**"
   ]
  },
  {
   "cell_type": "code",
   "execution_count": 6,
   "metadata": {},
   "outputs": [
    {
     "data": {
      "text/plain": [
       "array([[<AxesSubplot:title={'center':'total_images'}>,\n",
       "        <AxesSubplot:title={'center':'last_price'}>,\n",
       "        <AxesSubplot:title={'center':'total_area'}>,\n",
       "        <AxesSubplot:title={'center':'rooms'}>],\n",
       "       [<AxesSubplot:title={'center':'ceiling_height'}>,\n",
       "        <AxesSubplot:title={'center':'floors_total'}>,\n",
       "        <AxesSubplot:title={'center':'living_area'}>,\n",
       "        <AxesSubplot:title={'center':'floor'}>],\n",
       "       [<AxesSubplot:title={'center':'kitchen_area'}>,\n",
       "        <AxesSubplot:title={'center':'balcony'}>,\n",
       "        <AxesSubplot:title={'center':'airports_nearest'}>,\n",
       "        <AxesSubplot:title={'center':'cityCenters_nearest'}>],\n",
       "       [<AxesSubplot:title={'center':'parks_around3000'}>,\n",
       "        <AxesSubplot:title={'center':'parks_nearest'}>,\n",
       "        <AxesSubplot:title={'center':'ponds_around3000'}>,\n",
       "        <AxesSubplot:title={'center':'ponds_nearest'}>],\n",
       "       [<AxesSubplot:title={'center':'days_exposition'}>, <AxesSubplot:>,\n",
       "        <AxesSubplot:>, <AxesSubplot:>]], dtype=object)"
      ]
     },
     "execution_count": 6,
     "metadata": {},
     "output_type": "execute_result"
    },
    {
     "data": {
      "image/png": "[encoded data removed]",
      "text/plain": [
       "<Figure size 1080x1440 with 20 Axes>"
      ]
     },
     "metadata": {
      "needs_background": "light"
     },
     "output_type": "display_data"
    }
   ],
   "source": [
    "data.hist(figsize=(15, 20))"
   ]
  },
  {
   "cell_type": "markdown",
   "metadata": {},
   "source": [
    "### Предобработка данных"
   ]
  },
  {
   "cell_type": "markdown",
   "metadata": {},
   "source": [
    "#### Найдем и изучим пропущенные значения в столбцах"
   ]
  },
  {
   "cell_type": "markdown",
   "metadata": {},
   "source": [
    "Найдем столбцы с пропущенными значениями"
   ]
  },
  {
   "cell_type": "code",
   "execution_count": 7,
   "metadata": {},
   "outputs": [
    {
     "name": "stdout",
     "output_type": "stream",
     "text": [
      "total_images                0\n",
      "last_price                  0\n",
      "total_area                  0\n",
      "first_day_exposition        0\n",
      "rooms                       0\n",
      "ceiling_height           9195\n",
      "floors_total               86\n",
      "living_area              1903\n",
      "floor                       0\n",
      "is_apartment            20924\n",
      "studio                      0\n",
      "open_plan                   0\n",
      "kitchen_area             2278\n",
      "balcony                 11519\n",
      "locality_name              49\n",
      "airports_nearest         5542\n",
      "cityCenters_nearest      5519\n",
      "parks_around3000         5518\n",
      "parks_nearest           15620\n",
      "ponds_around3000         5518\n",
      "ponds_nearest           14589\n",
      "days_exposition          3181\n",
      "dtype: int64\n"
     ]
    }
   ],
   "source": [
    "print(data.isna().sum())"
   ]
  },
  {
   "cell_type": "markdown",
   "metadata": {},
   "source": [
    "В 14 столбцах из 22 выявлены пропущенные значения.\n",
    "1. в столбце \"высота потолков\" данные могут быть пропущены по причине того, что их высота стандартная для многоквартирной застройки - 2,45 или 2,50 м. данном случае, этот параметр не является привлекательным (более высокие потолки \"рекламируют\" квартиру при ее продаже). Количество пропущенных данных значительно, поэтому будем менять пропуски на стандартное значение - 2,5 м.\n",
    "2. в столбце \"всего этажей в доме\" данные могут быть пропущены по причине продажи одноэтажного дома. Количество пропусков в данном столбце незначительно, заменим пропуски на значение \"1\".\n",
    "3. в столбце \"жилая площадь в квадратных метрах\" данные могут пропущены по причине совпадения жилой и общей площади квартиры, в связи с чем при подаче заявления продавец не счел нужным указывать ту же самую площадь два раза. Заменим пропущенные значения на соответствующие значения из столбца \"общая площадь\".\n",
    "4. в столбце апартаменты (булев массив) данные пропущены по причине того, что продаваемые квартиры не являются апартаментами. В данном случае пропуски заменим на \"0\", так как \"0\" в булевом массиве означает отсутствие информации.\n",
    "5. В столбце \"Площадь кухни в квадратных метрах\" информация может отсутствовать по причине отсутствия самого помещения (например, это студия). Пропущенные значения можно не заполнять.\n",
    "6. В столбце \"число балконов\" пропуски значений обусловлены, скорее всего отсутствием балконов. Такие пропуски мы заменим на \"0\".\n",
    "7. в столбце \"название населённого пункта\" пропуски носят критичный характер, потому что необходимо точно знать, где находится продаваемая квартира. Поэтому подобные строки(а их немного) необходимо удалить из датасета.\n",
    "8. Пропуски в таких столбцах как \"расстояние до ближайшего аэропорта в метрах (м)\", \" расстояние до центра города (м)\", \"расстояние до ближайшего парка (м)\", , \"расстояние до ближайшего водоёма (м)\" обусловлены скорее всего отсутствием подобных расчетов у продавца, либо отсутствие таких локаций, как пруд или парк. Подобные пропуски не могут быть заполнены никакими данными.\n",
    "9. Пропуски в столбцах \"число парков в радиусе 3 км\" и \"число водоёмов в радиусе 3 км\" могут означать их отсутствие. Заменим пропуски на 0.\n",
    "10. В столбце \"сколько дней было размещено объявление (от публикации до снятия)\" отсутствие пропусков скорее всего связано с тем, что объявление еще снято, то есть квартира на момент получения данных (формирования массива данных) не была продана."
   ]
  },
  {
   "cell_type": "code",
   "execution_count": 8,
   "metadata": {},
   "outputs": [],
   "source": [
    "# заменяем пропущенные значения на стандартные значения в столбце \"ceiling_height\"\n",
    "data['ceiling_height'] = data['ceiling_height'].fillna(value='2.5') "
   ]
  },
  {
   "cell_type": "code",
   "execution_count": 9,
   "metadata": {},
   "outputs": [],
   "source": [
    "# заменяем пропущенные значения в столбце \"floors_total\"\n",
    "#data['floors_total'] = data['floors_total'].fillna(value='1')"
   ]
  },
  {
   "cell_type": "code",
   "execution_count": 10,
   "metadata": {},
   "outputs": [],
   "source": [
    "# заменяем пропущенные значения в столбце \"living_area\" на среднее значение в соответствующей строке столбца \"total_area\"\n",
    "living_ratio = data['living_area'].mean() / data['total_area'].mean()\n",
    "data['living_area'].fillna(living_ratio * data['total_area'], inplace=True)"
   ]
  },
  {
   "cell_type": "code",
   "execution_count": 11,
   "metadata": {},
   "outputs": [],
   "source": [
    "# заменяем пропущенные значения в столбце \"is_apartment\" на нет\n",
    "data['is_apartment'] = data['is_apartment'].fillna(value=False)"
   ]
  },
  {
   "cell_type": "code",
   "execution_count": 12,
   "metadata": {},
   "outputs": [],
   "source": [
    "# заменяем пропущенные значения в столбце \"balcony\" на 0\n",
    "data['balcony'] = data['balcony'].fillna(value=0)"
   ]
  },
  {
   "cell_type": "code",
   "execution_count": 13,
   "metadata": {},
   "outputs": [],
   "source": [
    "# удаляем записи, где отсутствуют данные в столбце \"locality_name\"\n",
    "data.dropna(subset=['locality_name'], inplace=True)"
   ]
  },
  {
   "cell_type": "code",
   "execution_count": 14,
   "metadata": {},
   "outputs": [],
   "source": [
    "# заменяем пропущенные значения в столбцах \"parks_around3000\" и \"ponds_around3000\" на 0\n",
    "data['parks_around3000'] = data['parks_around3000'].fillna(value=0)\n",
    "data['ponds_around3000'] = data['ponds_around3000'].fillna(value=0)"
   ]
  },
  {
   "cell_type": "markdown",
   "metadata": {},
   "source": [
    "Проверим пропущенные значения после обработки"
   ]
  },
  {
   "cell_type": "code",
   "execution_count": 15,
   "metadata": {},
   "outputs": [
    {
     "data": {
      "text/plain": [
       "total_images                0\n",
       "last_price                  0\n",
       "total_area                  0\n",
       "first_day_exposition        0\n",
       "rooms                       0\n",
       "ceiling_height              0\n",
       "floors_total               85\n",
       "living_area                 0\n",
       "floor                       0\n",
       "is_apartment                0\n",
       "studio                      0\n",
       "open_plan                   0\n",
       "kitchen_area             2269\n",
       "balcony                     0\n",
       "locality_name               0\n",
       "airports_nearest         5534\n",
       "cityCenters_nearest      5511\n",
       "parks_around3000            0\n",
       "parks_nearest           15586\n",
       "ponds_around3000            0\n",
       "ponds_nearest           14565\n",
       "days_exposition          3180\n",
       "dtype: int64"
      ]
     },
     "execution_count": 15,
     "metadata": {},
     "output_type": "execute_result"
    }
   ],
   "source": [
    "data.isna().sum()"
   ]
  },
  {
   "cell_type": "markdown",
   "metadata": {},
   "source": [
    "#### Работа с типами данных"
   ]
  },
  {
   "cell_type": "markdown",
   "metadata": {},
   "source": [
    "Изменим типы данных в тех столбцах, где это необходимо для наглядности."
   ]
  },
  {
   "cell_type": "code",
   "execution_count": 16,
   "metadata": {},
   "outputs": [],
   "source": [
    "# Приводим к типу даты данные столбца \"дата публикации\"\n",
    "data['first_day_exposition'] = pd.to_datetime(data['first_day_exposition'], format='%Y-%m-%dT%H:%M:%S')"
   ]
  },
  {
   "cell_type": "code",
   "execution_count": 17,
   "metadata": {},
   "outputs": [],
   "source": [
    "# Приводим в целочисленный вид данные столбца \"число балконов\"\n",
    "data['balcony'] = data['balcony'].astype(int)"
   ]
  },
  {
   "cell_type": "code",
   "execution_count": 18,
   "metadata": {},
   "outputs": [],
   "source": [
    "# Приводим в целочисленный вид данные столбца \"число парков в радиусе 3 км\" и \"число водоёмов в радиусе 3 км\"\n",
    "data['parks_around3000'] = data['parks_around3000'].astype(int)\n",
    "data['ponds_around3000'] = data['ponds_around3000'].astype(int)"
   ]
  },
  {
   "cell_type": "code",
   "execution_count": 19,
   "metadata": {},
   "outputs": [],
   "source": [
    "# Приводим столбец \"Высота потолков\" к числовому значению\n",
    "data['ceiling_height'] = data['ceiling_height'].astype('float64')"
   ]
  },
  {
   "cell_type": "code",
   "execution_count": 20,
   "metadata": {},
   "outputs": [],
   "source": [
    "# Приводим столбец \"Этажей в доме\" к числовому значению\n",
    "data['floors_total'] = data['floors_total'].astype('float64')"
   ]
  },
  {
   "cell_type": "code",
   "execution_count": 21,
   "metadata": {},
   "outputs": [
    {
     "name": "stdout",
     "output_type": "stream",
     "text": [
      "<class 'pandas.core.frame.DataFrame'>\n",
      "Int64Index: 23650 entries, 0 to 23698\n",
      "Data columns (total 22 columns):\n",
      " #   Column                Non-Null Count  Dtype         \n",
      "---  ------                --------------  -----         \n",
      " 0   total_images          23650 non-null  int64         \n",
      " 1   last_price            23650 non-null  float64       \n",
      " 2   total_area            23650 non-null  float64       \n",
      " 3   first_day_exposition  23650 non-null  datetime64[ns]\n",
      " 4   rooms                 23650 non-null  int64         \n",
      " 5   ceiling_height        23650 non-null  float64       \n",
      " 6   floors_total          23565 non-null  float64       \n",
      " 7   living_area           23650 non-null  float64       \n",
      " 8   floor                 23650 non-null  int64         \n",
      " 9   is_apartment          23650 non-null  bool          \n",
      " 10  studio                23650 non-null  bool          \n",
      " 11  open_plan             23650 non-null  bool          \n",
      " 12  kitchen_area          21381 non-null  float64       \n",
      " 13  balcony               23650 non-null  int64         \n",
      " 14  locality_name         23650 non-null  object        \n",
      " 15  airports_nearest      18116 non-null  float64       \n",
      " 16  cityCenters_nearest   18139 non-null  float64       \n",
      " 17  parks_around3000      23650 non-null  int64         \n",
      " 18  parks_nearest         8064 non-null   float64       \n",
      " 19  ponds_around3000      23650 non-null  int64         \n",
      " 20  ponds_nearest         9085 non-null   float64       \n",
      " 21  days_exposition       20470 non-null  float64       \n",
      "dtypes: bool(3), datetime64[ns](1), float64(11), int64(6), object(1)\n",
      "memory usage: 3.7+ MB\n"
     ]
    }
   ],
   "source": [
    "data.info()"
   ]
  },
  {
   "cell_type": "markdown",
   "metadata": {},
   "source": [
    "Были изменены типы данных в следующих столбцах: \"дата публикации\", \"число балконов\", \"высота потолков\", \"этажей в доме\", \"число парков в радиусе 3 км\" и \"число водоёмов в радиусе 3 км\". В получившемся формате дата становится удобной для прочтения и анализа, число балконов, парков и прудов не должна состоять из дробных частей, поэтому их мы перевели в целочисленный вид."
   ]
  },
  {
   "cell_type": "markdown",
   "metadata": {},
   "source": [
    "#### Устранение дубликатов"
   ]
  },
  {
   "cell_type": "code",
   "execution_count": 22,
   "metadata": {},
   "outputs": [
    {
     "data": {
      "text/plain": [
       "0"
      ]
     },
     "execution_count": 22,
     "metadata": {},
     "output_type": "execute_result"
    }
   ],
   "source": [
    "# проверим наличие явных дубликатов\n",
    "data.duplicated().sum()"
   ]
  },
  {
   "cell_type": "code",
   "execution_count": 23,
   "metadata": {},
   "outputs": [
    {
     "data": {
      "text/plain": [
       "array(['Санкт-Петербург', 'посёлок Шушары', 'городской посёлок Янино-1',\n",
       "       'посёлок Парголово', 'посёлок Мурино', 'Ломоносов', 'Сертолово',\n",
       "       'Петергоф', 'Пушкин', 'деревня Кудрово', 'Коммунар', 'Колпино',\n",
       "       'поселок городского типа Красный Бор', 'Гатчина', 'поселок Мурино',\n",
       "       'деревня Фёдоровское', 'Выборг', 'Кронштадт', 'Кировск',\n",
       "       'деревня Новое Девяткино', 'посёлок Металлострой',\n",
       "       'посёлок городского типа Лебяжье',\n",
       "       'посёлок городского типа Сиверский', 'поселок Молодцово',\n",
       "       'поселок городского типа Кузьмоловский',\n",
       "       'садовое товарищество Новая Ропша', 'Павловск',\n",
       "       'деревня Пикколово', 'Всеволожск', 'Волхов', 'Кингисепп',\n",
       "       'Приозерск', 'Сестрорецк', 'деревня Куттузи', 'посёлок Аннино',\n",
       "       'поселок городского типа Ефимовский', 'посёлок Плодовое',\n",
       "       'деревня Заклинье', 'поселок Торковичи', 'поселок Первомайское',\n",
       "       'Красное Село', 'посёлок Понтонный', 'Сясьстрой', 'деревня Старая',\n",
       "       'деревня Лесколово', 'посёлок Новый Свет', 'Сланцы',\n",
       "       'село Путилово', 'Ивангород', 'Мурино', 'Шлиссельбург',\n",
       "       'Никольское', 'Зеленогорск', 'Сосновый Бор', 'поселок Новый Свет',\n",
       "       'деревня Оржицы', 'деревня Кальтино', 'Кудрово',\n",
       "       'поселок Романовка', 'посёлок Бугры', 'поселок Бугры',\n",
       "       'поселок городского типа Рощино', 'Кириши', 'Луга', 'Волосово',\n",
       "       'Отрадное', 'село Павлово', 'поселок Оредеж', 'село Копорье',\n",
       "       'посёлок городского типа Красный Бор', 'посёлок Молодёжное',\n",
       "       'Тихвин', 'посёлок Победа', 'деревня Нурма',\n",
       "       'поселок городского типа Синявино', 'Тосно',\n",
       "       'посёлок городского типа Кузьмоловский', 'посёлок Стрельна',\n",
       "       'Бокситогорск', 'посёлок Александровская', 'деревня Лопухинка',\n",
       "       'Пикалёво', 'поселок Терволово',\n",
       "       'поселок городского типа Советский', 'Подпорожье',\n",
       "       'посёлок Петровское', 'посёлок городского типа Токсово',\n",
       "       'поселок Сельцо', 'посёлок городского типа Вырица',\n",
       "       'деревня Кипень', 'деревня Келози', 'деревня Вартемяги',\n",
       "       'посёлок Тельмана', 'поселок Севастьяново',\n",
       "       'городской поселок Большая Ижора', 'городской посёлок Павлово',\n",
       "       'деревня Агалатово', 'посёлок Новогорелово',\n",
       "       'городской посёлок Лесогорский', 'деревня Лаголово',\n",
       "       'поселок Цвелодубово', 'поселок городского типа Рахья',\n",
       "       'поселок городского типа Вырица', 'деревня Белогорка',\n",
       "       'поселок Заводской', 'городской посёлок Новоселье',\n",
       "       'деревня Большие Колпаны', 'деревня Горбунки', 'деревня Батово',\n",
       "       'деревня Заневка', 'деревня Иссад', 'Приморск',\n",
       "       'городской посёлок Фёдоровское', 'деревня Мистолово',\n",
       "       'Новая Ладога', 'поселок Зимитицы', 'поселок Барышево',\n",
       "       'деревня Разметелево', 'поселок городского типа имени Свердлова',\n",
       "       'деревня Пеники', 'поселок Рябово', 'деревня Пудомяги',\n",
       "       'поселок станции Корнево', 'деревня Низино', 'деревня Бегуницы',\n",
       "       'посёлок Поляны', 'городской посёлок Мга', 'поселок Елизаветино',\n",
       "       'посёлок городского типа Кузнечное', 'деревня Колтуши',\n",
       "       'поселок Запорожское', 'посёлок городского типа Рощино',\n",
       "       'деревня Гостилицы', 'деревня Малое Карлино',\n",
       "       'посёлок Мичуринское', 'посёлок городского типа имени Морозова',\n",
       "       'посёлок Песочный', 'посёлок Сосново', 'деревня Аро',\n",
       "       'поселок Ильичёво', 'посёлок городского типа Тайцы',\n",
       "       'деревня Малое Верево', 'деревня Извара', 'поселок станции Вещево',\n",
       "       'село Паша', 'деревня Калитино',\n",
       "       'посёлок городского типа Ульяновка', 'деревня Чудской Бор',\n",
       "       'поселок городского типа Дубровка', 'деревня Мины',\n",
       "       'поселок Войсковицы', 'посёлок городского типа имени Свердлова',\n",
       "       'деревня Коркино', 'посёлок Ропша',\n",
       "       'поселок городского типа Приладожский', 'посёлок Щеглово',\n",
       "       'посёлок Гаврилово', 'Лодейное Поле', 'деревня Рабитицы',\n",
       "       'поселок городского типа Никольский', 'деревня Кузьмолово',\n",
       "       'деревня Малые Колпаны', 'поселок Тельмана',\n",
       "       'посёлок Петро-Славянка', 'городской посёлок Назия',\n",
       "       'посёлок Репино', 'посёлок Ильичёво', 'поселок Углово',\n",
       "       'поселок Старая Малукса', 'садовое товарищество Рахья',\n",
       "       'поселок Аннино', 'поселок Победа', 'деревня Меньково',\n",
       "       'деревня Старые Бегуницы', 'посёлок Сапёрный', 'поселок Семрино',\n",
       "       'поселок Гаврилово', 'поселок Глажево', 'поселок Кобринское',\n",
       "       'деревня Гарболово', 'деревня Юкки',\n",
       "       'поселок станции Приветнинское', 'деревня Мануйлово',\n",
       "       'деревня Пчева', 'поселок Поляны', 'поселок Цвылёво',\n",
       "       'поселок Мельниково', 'посёлок Пудость', 'посёлок Усть-Луга',\n",
       "       'Светогорск', 'Любань', 'поселок Селезнёво',\n",
       "       'поселок городского типа Рябово', 'Каменногорск', 'деревня Кривко',\n",
       "       'поселок Глебычево', 'деревня Парицы', 'поселок Жилпосёлок',\n",
       "       'посёлок городского типа Мга', 'городской поселок Янино-1',\n",
       "       'посёлок Войскорово', 'село Никольское', 'посёлок Терволово',\n",
       "       'поселок Стеклянный', 'посёлок городского типа Важины',\n",
       "       'посёлок Мыза-Ивановка', 'село Русско-Высоцкое',\n",
       "       'поселок городского типа Лебяжье',\n",
       "       'поселок городского типа Форносово', 'село Старая Ладога',\n",
       "       'поселок Житково', 'городской посёлок Виллози', 'деревня Лампово',\n",
       "       'деревня Шпаньково', 'деревня Лаврики', 'посёлок Сумино',\n",
       "       'посёлок Возрождение', 'деревня Старосиверская',\n",
       "       'посёлок Кикерино', 'поселок Возрождение',\n",
       "       'деревня Старое Хинколово', 'посёлок Пригородный',\n",
       "       'посёлок Торфяное', 'городской посёлок Будогощь',\n",
       "       'поселок Суходолье', 'поселок Красная Долина', 'деревня Хапо-Ое',\n",
       "       'поселок городского типа Дружная Горка', 'поселок Лисий Нос',\n",
       "       'деревня Яльгелево', 'посёлок Стеклянный', 'село Рождествено',\n",
       "       'деревня Старополье', 'посёлок Левашово', 'деревня Сяськелево',\n",
       "       'деревня Камышовка',\n",
       "       'садоводческое некоммерческое товарищество Лесная Поляна',\n",
       "       'деревня Хязельки', 'поселок Жилгородок',\n",
       "       'посёлок городского типа Павлово', 'деревня Ялгино',\n",
       "       'поселок Новый Учхоз', 'городской посёлок Рощино',\n",
       "       'поселок Гончарово', 'поселок Почап', 'посёлок Сапёрное',\n",
       "       'посёлок Платформа 69-й километр', 'поселок Каложицы',\n",
       "       'деревня Фалилеево', 'деревня Пельгора',\n",
       "       'поселок городского типа Лесогорский', 'деревня Торошковичи',\n",
       "       'посёлок Белоостров', 'посёлок Алексеевка', 'поселок Серебрянский',\n",
       "       'поселок Лукаши', 'поселок Петровское', 'деревня Щеглово',\n",
       "       'поселок Мичуринское', 'деревня Тарасово', 'поселок Кингисеппский',\n",
       "       'посёлок при железнодорожной станции Вещево', 'поселок Ушаки',\n",
       "       'деревня Котлы', 'деревня Сижно', 'деревня Торосово',\n",
       "       'посёлок Форт Красная Горка', 'поселок городского типа Токсово',\n",
       "       'деревня Новолисино', 'посёлок станции Громово', 'деревня Глинка',\n",
       "       'посёлок Мельниково', 'поселок городского типа Назия',\n",
       "       'деревня Старая Пустошь', 'поселок Коммунары', 'поселок Починок',\n",
       "       'посёлок городского типа Вознесенье', 'деревня Разбегаево',\n",
       "       'посёлок городского типа Рябово', 'поселок Гладкое',\n",
       "       'посёлок при железнодорожной станции Приветнинское',\n",
       "       'поселок Тёсово-4', 'посёлок Жилгородок', 'деревня Бор',\n",
       "       'посёлок Коробицыно', 'деревня Большая Вруда', 'деревня Курковицы',\n",
       "       'посёлок Лисий Нос', 'городской посёлок Советский',\n",
       "       'посёлок Кобралово', 'деревня Суоранда', 'поселок Кобралово',\n",
       "       'поселок городского типа Кондратьево',\n",
       "       'коттеджный поселок Счастье', 'поселок Любань', 'деревня Реброво',\n",
       "       'деревня Зимитицы', 'деревня Тойворово', 'поселок Семиозерье',\n",
       "       'поселок Лесное', 'поселок Совхозный', 'поселок Усть-Луга',\n",
       "       'посёлок Ленинское', 'посёлок Суйда',\n",
       "       'посёлок городского типа Форносово', 'деревня Нижние Осельки',\n",
       "       'посёлок станции Свирь', 'поселок Перово', 'Высоцк',\n",
       "       'поселок Гарболово', 'село Шум', 'поселок Котельский',\n",
       "       'поселок станции Лужайка', 'деревня Большая Пустомержа',\n",
       "       'поселок Красносельское', 'деревня Вахнова Кара', 'деревня Пижма',\n",
       "       'коттеджный поселок Кивеннапа Север', 'поселок Коробицыно',\n",
       "       'поселок Ромашки', 'посёлок Перово', 'деревня Каськово',\n",
       "       'деревня Куровицы', 'посёлок Плоское', 'поселок Сумино',\n",
       "       'поселок городского типа Большая Ижора', 'поселок Кирпичное',\n",
       "       'деревня Ям-Тесово', 'деревня Раздолье', 'деревня Терпилицы',\n",
       "       'посёлок Шугозеро', 'деревня Ваганово', 'поселок Пушное',\n",
       "       'садовое товарищество Садко', 'посёлок Усть-Ижора',\n",
       "       'деревня Выскатка', 'городской посёлок Свирьстрой',\n",
       "       'поселок Громово', 'деревня Кисельня', 'посёлок Старая Малукса',\n",
       "       'деревня Трубников Бор', 'поселок Калитино',\n",
       "       'посёлок Высокоключевой', 'садовое товарищество Приладожский',\n",
       "       'посёлок Пансионат Зелёный Бор', 'деревня Ненимяки',\n",
       "       'поселок Пансионат Зелёный Бор', 'деревня Снегирёвка',\n",
       "       'деревня Рапполово', 'деревня Пустынка', 'поселок Рабитицы',\n",
       "       'деревня Большой Сабск', 'деревня Русско', 'деревня Лупполово',\n",
       "       'деревня Большое Рейзино', 'деревня Малая Романовка',\n",
       "       'поселок Дружноселье', 'поселок Пчевжа', 'поселок Володарское',\n",
       "       'деревня Нижняя', 'коттеджный посёлок Лесное', 'деревня Тихковицы',\n",
       "       'деревня Борисова Грива', 'посёлок Дзержинского'], dtype=object)"
      ]
     },
     "execution_count": 23,
     "metadata": {},
     "output_type": "execute_result"
    }
   ],
   "source": [
    "# просмотр уникальных значений в столбце locality_name.\n",
    "data['locality_name'].unique()"
   ]
  },
  {
   "cell_type": "markdown",
   "metadata": {},
   "source": [
    "При просмотре уникальных значений выявлены различные написания одного и того же населенного пункта: например, «поселок городского типа Красный Бор» и «посёлок городского типа Красный Бор», «поселок Мурино» и «посёлок Мурино» — это обозначения одних и тех же населённых пунктов. Видимо, это связано с субъективным человеческим фактором при заполнении объявления продавцами. Удалим название типа населенного пункта, оставив только его название."
   ]
  },
  {
   "cell_type": "code",
   "execution_count": 24,
   "metadata": {},
   "outputs": [
    {
     "data": {
      "text/plain": [
       "count               23650\n",
       "unique                364\n",
       "top       Санкт-Петербург\n",
       "freq                15721\n",
       "Name: locality_name, dtype: object"
      ]
     },
     "execution_count": 24,
     "metadata": {},
     "output_type": "execute_result"
    }
   ],
   "source": [
    "# количество уникальных значений до исправления (категоризации)\n",
    "data['locality_name'].describe()"
   ]
  },
  {
   "cell_type": "code",
   "execution_count": 25,
   "metadata": {},
   "outputs": [
    {
     "name": "stdout",
     "output_type": "stream",
     "text": [
      "количество уникальных значений до категоризации: 364\n"
     ]
    }
   ],
   "source": [
    "print('количество уникальных значений до категоризации:', len(data['locality_name'].unique()))"
   ]
  },
  {
   "cell_type": "code",
   "execution_count": 26,
   "metadata": {},
   "outputs": [],
   "source": [
    "#поиск в строковых переменных текстового фрагмента и его замена!\n",
    "#словарь для удаления значений\n",
    "replace_dict = ['поселок ', 'городского типа ', 'городской ',  'деревня ', \n",
    "                'коттеджный ', 'село ', 'посёлок ', 'при железнодорожной станции ',\n",
    "                'станции ', 'садоводческое некоммерческое товарищество ', 'садовое товарищество ']\n",
    "\n",
    "#функция , удаляющая значения из replace_dict в столбце locality_name:\n",
    "for value in replace_dict:\n",
    "    data['locality_name'] = data['locality_name'].str.replace(value, '')"
   ]
  },
  {
   "cell_type": "code",
   "execution_count": 27,
   "metadata": {},
   "outputs": [
    {
     "data": {
      "text/plain": [
       "count               23650\n",
       "unique                305\n",
       "top       Санкт-Петербург\n",
       "freq                15721\n",
       "Name: locality_name, dtype: object"
      ]
     },
     "execution_count": 27,
     "metadata": {},
     "output_type": "execute_result"
    }
   ],
   "source": [
    "data['locality_name'].describe()"
   ]
  },
  {
   "cell_type": "code",
   "execution_count": 28,
   "metadata": {},
   "outputs": [
    {
     "name": "stdout",
     "output_type": "stream",
     "text": [
      "количество уникальных значений после категоризации: 305\n"
     ]
    }
   ],
   "source": [
    "print('количество уникальных значений после категоризации:', len(data['locality_name'].unique()))"
   ]
  },
  {
   "cell_type": "markdown",
   "metadata": {},
   "source": [
    "Количество уникальных значений сократилось, значит нам удалось исключить неявные дубликаты в виде некорректного наименования одного того же населенного пункта."
   ]
  },
  {
   "cell_type": "markdown",
   "metadata": {},
   "source": [
    "#### Поиск и устранение редких и выбивающихся значений"
   ]
  },
  {
   "cell_type": "markdown",
   "metadata": {},
   "source": [
    "Столбец last_price"
   ]
  },
  {
   "cell_type": "code",
   "execution_count": 29,
   "metadata": {},
   "outputs": [
    {
     "data": {
      "text/html": [
       "<div>\n",
       "<style scoped>\n",
       "    .dataframe tbody tr th:only-of-type {\n",
       "        vertical-align: middle;\n",
       "    }\n",
       "\n",
       "    .dataframe tbody tr th {\n",
       "        vertical-align: top;\n",
       "    }\n",
       "\n",
       "    .dataframe thead th {\n",
       "        text-align: right;\n",
       "    }\n",
       "</style>\n",
       "<table border=\"1\" class=\"dataframe\">\n",
       "  <thead>\n",
       "    <tr style=\"text-align: right;\">\n",
       "      <th></th>\n",
       "      <th>total_images</th>\n",
       "      <th>last_price</th>\n",
       "      <th>total_area</th>\n",
       "      <th>first_day_exposition</th>\n",
       "      <th>rooms</th>\n",
       "      <th>ceiling_height</th>\n",
       "      <th>floors_total</th>\n",
       "      <th>living_area</th>\n",
       "      <th>floor</th>\n",
       "      <th>is_apartment</th>\n",
       "      <th>...</th>\n",
       "      <th>kitchen_area</th>\n",
       "      <th>balcony</th>\n",
       "      <th>locality_name</th>\n",
       "      <th>airports_nearest</th>\n",
       "      <th>cityCenters_nearest</th>\n",
       "      <th>parks_around3000</th>\n",
       "      <th>parks_nearest</th>\n",
       "      <th>ponds_around3000</th>\n",
       "      <th>ponds_nearest</th>\n",
       "      <th>days_exposition</th>\n",
       "    </tr>\n",
       "  </thead>\n",
       "  <tbody>\n",
       "    <tr>\n",
       "      <th>8793</th>\n",
       "      <td>7</td>\n",
       "      <td>12190.0</td>\n",
       "      <td>109.0</td>\n",
       "      <td>2019-03-20</td>\n",
       "      <td>2</td>\n",
       "      <td>2.75</td>\n",
       "      <td>25.0</td>\n",
       "      <td>32.0</td>\n",
       "      <td>25</td>\n",
       "      <td>False</td>\n",
       "      <td>...</td>\n",
       "      <td>40.5</td>\n",
       "      <td>0</td>\n",
       "      <td>Санкт-Петербург</td>\n",
       "      <td>36421.0</td>\n",
       "      <td>9176.0</td>\n",
       "      <td>1</td>\n",
       "      <td>805.0</td>\n",
       "      <td>0</td>\n",
       "      <td>NaN</td>\n",
       "      <td>8.0</td>\n",
       "    </tr>\n",
       "  </tbody>\n",
       "</table>\n",
       "<p>1 rows × 22 columns</p>\n",
       "</div>"
      ],
      "text/plain": [
       "      total_images  last_price  total_area first_day_exposition  rooms  \\\n",
       "8793             7     12190.0       109.0           2019-03-20      2   \n",
       "\n",
       "      ceiling_height  floors_total  living_area  floor  is_apartment  ...  \\\n",
       "8793            2.75          25.0         32.0     25         False  ...   \n",
       "\n",
       "      kitchen_area  balcony    locality_name  airports_nearest  \\\n",
       "8793          40.5        0  Санкт-Петербург           36421.0   \n",
       "\n",
       "     cityCenters_nearest  parks_around3000  parks_nearest  ponds_around3000  \\\n",
       "8793              9176.0                 1          805.0                 0   \n",
       "\n",
       "      ponds_nearest  days_exposition  \n",
       "8793            NaN              8.0  \n",
       "\n",
       "[1 rows x 22 columns]"
      ]
     },
     "metadata": {},
     "output_type": "display_data"
    }
   ],
   "source": [
    "# Проверим цены на объективность\n",
    "display(data.loc[(data['last_price'] < 1000000)&(data['locality_name'] == 'Санкт-Петербург' )])"
   ]
  },
  {
   "cell_type": "markdown",
   "metadata": {},
   "source": [
    "Цена за квартиру в Санкт-Петербурге составляет 12190 рублей. Видимо, продавец при заполнении объявления указал цену в тыс. рублей. Исправим цену."
   ]
  },
  {
   "cell_type": "code",
   "execution_count": 30,
   "metadata": {},
   "outputs": [],
   "source": [
    "data.loc[8793, 'last_price'] = 12190000"
   ]
  },
  {
   "cell_type": "code",
   "execution_count": 31,
   "metadata": {},
   "outputs": [
    {
     "data": {
      "text/html": [
       "<div>\n",
       "<style scoped>\n",
       "    .dataframe tbody tr th:only-of-type {\n",
       "        vertical-align: middle;\n",
       "    }\n",
       "\n",
       "    .dataframe tbody tr th {\n",
       "        vertical-align: top;\n",
       "    }\n",
       "\n",
       "    .dataframe thead th {\n",
       "        text-align: right;\n",
       "    }\n",
       "</style>\n",
       "<table border=\"1\" class=\"dataframe\">\n",
       "  <thead>\n",
       "    <tr style=\"text-align: right;\">\n",
       "      <th></th>\n",
       "      <th>total_images</th>\n",
       "      <th>last_price</th>\n",
       "      <th>total_area</th>\n",
       "      <th>first_day_exposition</th>\n",
       "      <th>rooms</th>\n",
       "      <th>ceiling_height</th>\n",
       "      <th>floors_total</th>\n",
       "      <th>living_area</th>\n",
       "      <th>floor</th>\n",
       "      <th>is_apartment</th>\n",
       "      <th>...</th>\n",
       "      <th>kitchen_area</th>\n",
       "      <th>balcony</th>\n",
       "      <th>locality_name</th>\n",
       "      <th>airports_nearest</th>\n",
       "      <th>cityCenters_nearest</th>\n",
       "      <th>parks_around3000</th>\n",
       "      <th>parks_nearest</th>\n",
       "      <th>ponds_around3000</th>\n",
       "      <th>ponds_nearest</th>\n",
       "      <th>days_exposition</th>\n",
       "    </tr>\n",
       "  </thead>\n",
       "  <tbody>\n",
       "  </tbody>\n",
       "</table>\n",
       "<p>0 rows × 22 columns</p>\n",
       "</div>"
      ],
      "text/plain": [
       "Empty DataFrame\n",
       "Columns: [total_images, last_price, total_area, first_day_exposition, rooms, ceiling_height, floors_total, living_area, floor, is_apartment, studio, open_plan, kitchen_area, balcony, locality_name, airports_nearest, cityCenters_nearest, parks_around3000, parks_nearest, ponds_around3000, ponds_nearest, days_exposition]\n",
       "Index: []\n",
       "\n",
       "[0 rows x 22 columns]"
      ]
     },
     "metadata": {},
     "output_type": "display_data"
    }
   ],
   "source": [
    "# проверим еще раз цены\n",
    "display(data.loc[(data['last_price'] < 1000000)&(data['locality_name'] == 'Санкт-Петербург' )])"
   ]
  },
  {
   "cell_type": "markdown",
   "metadata": {},
   "source": [
    "Было выявлено одно выбивающееся значение в столбце last_price. Данное несоответствие устранено вручную, исправлением цены на рубли."
   ]
  },
  {
   "cell_type": "markdown",
   "metadata": {},
   "source": [
    "Столбец rooms"
   ]
  },
  {
   "cell_type": "code",
   "execution_count": 32,
   "metadata": {},
   "outputs": [
    {
     "data": {
      "text/plain": [
       "rooms\n",
       "0      197\n",
       "1     8036\n",
       "2     7924\n",
       "3     5797\n",
       "4     1175\n",
       "5      326\n",
       "6      105\n",
       "7       59\n",
       "8       12\n",
       "9        8\n",
       "10       3\n",
       "11       2\n",
       "12       1\n",
       "14       2\n",
       "15       1\n",
       "16       1\n",
       "19       1\n",
       "Name: rooms, dtype: int64"
      ]
     },
     "execution_count": 32,
     "metadata": {},
     "output_type": "execute_result"
    }
   ],
   "source": [
    "# сгруппируем данные по столбцу \"комнаты\" и посчитаем количество объектов в разрезе комнат \n",
    "city_rooms = data.groupby('rooms')['rooms'].count()\n",
    "city_rooms"
   ]
  },
  {
   "cell_type": "code",
   "execution_count": 33,
   "metadata": {},
   "outputs": [],
   "source": [
    "# отбросим выбивающиеся значения\n",
    "data = data[data['rooms'] < 10]"
   ]
  },
  {
   "cell_type": "code",
   "execution_count": 34,
   "metadata": {},
   "outputs": [
    {
     "data": {
      "text/plain": [
       "rooms\n",
       "0     197\n",
       "1    8036\n",
       "2    7924\n",
       "3    5797\n",
       "4    1175\n",
       "5     326\n",
       "6     105\n",
       "7      59\n",
       "8      12\n",
       "9       8\n",
       "Name: rooms, dtype: int64"
      ]
     },
     "execution_count": 34,
     "metadata": {},
     "output_type": "execute_result"
    }
   ],
   "source": [
    "# проверим, что у нас все получилось.\n",
    "city_rooms = data.groupby('rooms')['rooms'].count()\n",
    "city_rooms"
   ]
  },
  {
   "cell_type": "markdown",
   "metadata": {},
   "source": [
    "Столбец total_area"
   ]
  },
  {
   "cell_type": "code",
   "execution_count": 35,
   "metadata": {},
   "outputs": [
    {
     "data": {
      "text/plain": [
       "count    23639.000000\n",
       "mean        60.192182\n",
       "std         34.824049\n",
       "min         12.000000\n",
       "25%         40.000000\n",
       "50%         52.000000\n",
       "75%         69.700000\n",
       "max        631.200000\n",
       "Name: total_area, dtype: float64"
      ]
     },
     "execution_count": 35,
     "metadata": {},
     "output_type": "execute_result"
    }
   ],
   "source": [
    "data['total_area'].describe()"
   ]
  },
  {
   "cell_type": "code",
   "execution_count": 36,
   "metadata": {},
   "outputs": [
    {
     "data": {
      "text/plain": [
       "14088    402.00\n",
       "13749    410.00\n",
       "14991    413.50\n",
       "22131    422.20\n",
       "21955    431.00\n",
       "3676     441.98\n",
       "20273    460.80\n",
       "6221     470.30\n",
       "660      483.90\n",
       "6621     488.00\n",
       "22494    491.00\n",
       "9826     494.10\n",
       "12401    495.00\n",
       "15016    500.00\n",
       "5893     500.00\n",
       "8018     507.00\n",
       "4237     517.00\n",
       "15651    618.00\n",
       "3117     631.00\n",
       "12859    631.20\n",
       "Name: total_area, dtype: float64"
      ]
     },
     "execution_count": 36,
     "metadata": {},
     "output_type": "execute_result"
    }
   ],
   "source": [
    "data['total_area'].sort_values().tail(20)"
   ]
  },
  {
   "cell_type": "markdown",
   "metadata": {},
   "source": [
    "Столбец ceiling_height."
   ]
  },
  {
   "cell_type": "code",
   "execution_count": 37,
   "metadata": {},
   "outputs": [
    {
     "data": {
      "text/plain": [
       "ceiling_height\n",
       "14.0     1\n",
       "20.0     1\n",
       "22.6     1\n",
       "24.0     1\n",
       "25.0     7\n",
       "26.0     1\n",
       "27.0     8\n",
       "27.5     1\n",
       "32.0     2\n",
       "100.0    1\n",
       "Name: ceiling_height, dtype: int64"
      ]
     },
     "execution_count": 37,
     "metadata": {},
     "output_type": "execute_result"
    }
   ],
   "source": [
    "# проверим количество значений с аномальной высотой потолка\n",
    "city_ceiling_height = data.groupby('ceiling_height')['ceiling_height'].count()\n",
    "city_ceiling_height.tail(10)"
   ]
  },
  {
   "cell_type": "markdown",
   "metadata": {},
   "source": [
    "<div class=\"alert alert-info\">\n",
    "<b>Комментарий студента v1:</b>\n",
    "<br>Таких значений оказалось немного, но скорее всего присутствует ошибка при заполнении объявления (человеческий фактор). Заменим значения по следующему условию.\n",
    "</div>"
   ]
  },
  {
   "cell_type": "code",
   "execution_count": 38,
   "metadata": {},
   "outputs": [],
   "source": [
    "data.update(data[(data['ceiling_height'] >=25)&(data['ceiling_height'] <=36)]['ceiling_height']/10)"
   ]
  },
  {
   "cell_type": "code",
   "execution_count": 39,
   "metadata": {},
   "outputs": [
    {
     "data": {
      "text/plain": [
       "ceiling_height\n",
       "5.8      1\n",
       "6.0      1\n",
       "8.0      3\n",
       "8.3      1\n",
       "10.3     1\n",
       "14.0     1\n",
       "20.0     1\n",
       "22.6     1\n",
       "24.0     1\n",
       "100.0    1\n",
       "Name: ceiling_height, dtype: int64"
      ]
     },
     "execution_count": 39,
     "metadata": {},
     "output_type": "execute_result"
    }
   ],
   "source": [
    "# проверим исправление данных\n",
    "data_ceiling_height = data.groupby('ceiling_height')['ceiling_height'].count()\n",
    "data_ceiling_height.tail(10)"
   ]
  },
  {
   "cell_type": "code",
   "execution_count": 40,
   "metadata": {},
   "outputs": [],
   "source": [
    "# отбросим выбивающиеся значения по условию\n",
    "data = data[(data['ceiling_height'] >= 2.4)&(data['ceiling_height'] < 8)]"
   ]
  },
  {
   "cell_type": "code",
   "execution_count": 41,
   "metadata": {},
   "outputs": [
    {
     "data": {
      "text/plain": [
       "ceiling_height\n",
       "2.40       23\n",
       "2.45       15\n",
       "2.46        2\n",
       "2.47        3\n",
       "2.48        8\n",
       "2.49        1\n",
       "2.50    12680\n",
       "2.51       34\n",
       "2.52       79\n",
       "2.53       67\n",
       "Name: ceiling_height, dtype: int64"
      ]
     },
     "execution_count": 41,
     "metadata": {},
     "output_type": "execute_result"
    }
   ],
   "source": [
    "# проверим исправление данных\n",
    "data_ceiling_height = data.groupby('ceiling_height')['ceiling_height'].count()\n",
    "data_ceiling_height.head(10)"
   ]
  },
  {
   "cell_type": "markdown",
   "metadata": {},
   "source": [
    "Выводы по разделу 2:\n",
    "1. найдены пропущенные значения и заменены на данные (или 0 (число балконов, к примеру), стандартное значение (высота потолков), среднее (жилая площадь)).\n",
    "2. данные, которые невозможно было заполнить, удалены (строки с пропущенными значениями по столбцу \"название населенного пункта\")\n",
    "3. изменены типы данных в тех столбцах, где это необходимо.\n",
    "4. устранены неявные дубликаты в столбце \"название населенного пункта\".\n",
    "5. **найдены редкие и выбивающееся значение в столбцах \"цена на момент снятия с публикации\", \"высота потолков\",\"количество комнат\", \"общая площадь\". Проведены необходимые исправления.**\n",
    "\n",
    "Можно выделить следующие причины пропусков данных:\n",
    "1. в случае отсутствия информации продавец просто не заполнял поля, оставляя их пустыми. Это могло происходить также специально со стороны продавца, чтобы выгоднее представить продаваемый объект, либо неспециально, так как продавец мог не знать о наличии, либо отсутствии пруда или парка рядом.\n",
    "2. данные могли собираться из разных источников, в которых могло не быть изначально некоторых вопросов, которые потом и загрузились в базу с пропусками.\n",
    "3. как вариант, сбой при выгрузке данных."
   ]
  },
  {
   "cell_type": "markdown",
   "metadata": {},
   "source": [
    "### Посчитайте и добавьте в таблицу новые столбцы"
   ]
  },
  {
   "cell_type": "code",
   "execution_count": 42,
   "metadata": {},
   "outputs": [],
   "source": [
    "# добавим столбец, содержащий цену 1 кв.м.\n",
    "data['one_metr_price'] = data['last_price']/data['total_area']\n",
    "# переводим тип данных нового столбца к целочисленному виду\n",
    "data['one_metr_price'] = data['one_metr_price'].astype(int)"
   ]
  },
  {
   "cell_type": "code",
   "execution_count": 43,
   "metadata": {},
   "outputs": [],
   "source": [
    "# добавим столбец, содержащий день недели публикации объявления\n",
    "data['day_week']= pd.to_datetime(data['first_day_exposition']).dt.dayofweek"
   ]
  },
  {
   "cell_type": "code",
   "execution_count": 44,
   "metadata": {},
   "outputs": [],
   "source": [
    "# добавим столбец, содержащий месяц публикации объявления\n",
    "data['month'] = pd.to_datetime(data['first_day_exposition']).dt.month"
   ]
  },
  {
   "cell_type": "code",
   "execution_count": 45,
   "metadata": {},
   "outputs": [],
   "source": [
    "# добавим столбец, содержащий год публикации объявления\n",
    "data['year'] = pd.to_datetime(data['first_day_exposition']).dt.year"
   ]
  },
  {
   "cell_type": "code",
   "execution_count": 46,
   "metadata": {},
   "outputs": [],
   "source": [
    "# добавим столбец, содержащий тип этажа квартиры\n",
    "# создаем функцию\n",
    "def type_floor_function(row):\n",
    "    if row['floor'] == 1:\n",
    "        return 'первый'\n",
    "    elif row['floor'] == row['floors_total']:\n",
    "        return 'последний'\n",
    "    else:\n",
    "        return 'другой'\n",
    "\n",
    "data['type_floor'] = data.apply(type_floor_function, axis=1)"
   ]
  },
  {
   "cell_type": "code",
   "execution_count": 47,
   "metadata": {},
   "outputs": [],
   "source": [
    "# добавим столбец, содержащий расстояние до центра города в км\n",
    "data['city_centres_km'] = round(data['cityCenters_nearest']/1000)"
   ]
  },
  {
   "cell_type": "markdown",
   "metadata": {},
   "source": [
    "Для дальнейшего анализа были добавлены столбцы, содержащие информацию о цене за 1 кв. м., день недели, месяц и год публикации объявления, тип этажа квартиры и расстояние до центра города в км."
   ]
  },
  {
   "cell_type": "markdown",
   "metadata": {},
   "source": [
    "### Проведите исследовательский анализ данных"
   ]
  },
  {
   "cell_type": "markdown",
   "metadata": {},
   "source": [
    "#### Изучение общих параметров объекта"
   ]
  },
  {
   "cell_type": "code",
   "execution_count": 48,
   "metadata": {},
   "outputs": [
    {
     "name": "stdout",
     "output_type": "stream",
     "text": [
      "Наибольшие по площади варианты:\n"
     ]
    },
    {
     "data": {
      "text/plain": [
       "12859    631.2\n",
       "3117     631.0\n",
       "15651    618.0\n",
       "4237     517.0\n",
       "8018     507.0\n",
       "15016    500.0\n",
       "5893     500.0\n",
       "12401    495.0\n",
       "9826     494.1\n",
       "22494    491.0\n",
       "Name: total_area, dtype: float64"
      ]
     },
     "execution_count": 48,
     "metadata": {},
     "output_type": "execute_result"
    },
    {
     "data": {
      "image/png": "[encoded data removed]",
      "text/plain": [
       "<Figure size 432x288 with 1 Axes>"
      ]
     },
     "metadata": {
      "needs_background": "light"
     },
     "output_type": "display_data"
    }
   ],
   "source": [
    "# изучим данные столбца общая площадь, построив гистограмму\n",
    "plt.hist(data['total_area'], bins=70, range=(10,500))\n",
    "plt.title('Площадь квартир')\n",
    "plt.xlabel('Квадратные метры')\n",
    "plt.ylabel('Количество квартир')\n",
    "plt.show\n",
    "print('Наибольшие по площади варианты:')\n",
    "data['total_area'].sort_values(ascending=False).head(10)"
   ]
  },
  {
   "cell_type": "markdown",
   "metadata": {},
   "source": [
    "В основном представлены квартиры общей площадью  от 30 до 100 кв.м. с пиком в сегменте 30-50 кв.м.. в Сегменте от 50 до 75 кв.м. представлено меньше квартир"
   ]
  },
  {
   "cell_type": "code",
   "execution_count": 49,
   "metadata": {},
   "outputs": [
    {
     "name": "stdout",
     "output_type": "stream",
     "text": [
      "Наибольшие по жилой площади варианты:\n"
     ]
    },
    {
     "data": {
      "text/plain": [
       "3117     360.288168\n",
       "12401    347.500000\n",
       "4237     332.000000\n",
       "12859    322.300000\n",
       "660      312.500000\n",
       "8018     301.500000\n",
       "14088    300.000000\n",
       "5893     285.489832\n",
       "15016    285.489832\n",
       "9826     282.121052\n",
       "Name: living_area, dtype: float64"
      ]
     },
     "execution_count": 49,
     "metadata": {},
     "output_type": "execute_result"
    },
    {
     "data": {
      "image/png": "[encoded data removed]",
      "text/plain": [
       "<Figure size 432x288 with 1 Axes>"
      ]
     },
     "metadata": {
      "needs_background": "light"
     },
     "output_type": "display_data"
    }
   ],
   "source": [
    "# изучим данные столбца жилая площадь, построив гистограмму\n",
    "plt.hist(data['living_area'], bins=30, range=(10,200))\n",
    "plt.title('Жилая площадь квартир')\n",
    "plt.xlabel('Квадратные метры')\n",
    "plt.ylabel('Количество квартир')\n",
    "plt.show\n",
    "print('Наибольшие по жилой площади варианты:')\n",
    "data['living_area'].sort_values(ascending=False).head(10)"
   ]
  },
  {
   "cell_type": "markdown",
   "metadata": {},
   "source": [
    "По гистограмме видно, что в основном представлены квартиры с жилой площадью от 15 - 50 кв. с пиком 20-30 кв.м. Квартиры с жилой площадью более 50 кв.м. представлены в меньшем количестве, что соотносится с данными по общей площади."
   ]
  },
  {
   "cell_type": "code",
   "execution_count": 50,
   "metadata": {},
   "outputs": [
    {
     "name": "stdout",
     "output_type": "stream",
     "text": [
      "Наибольшие по площади кухни варианты:\n"
     ]
    },
    {
     "data": {
      "text/plain": [
       "20215    107.0\n",
       "2489     100.7\n",
       "16239     93.2\n",
       "16797     93.0\n",
       "10867     87.2\n",
       "4394      77.0\n",
       "492       77.0\n",
       "14644     75.0\n",
       "16647     72.0\n",
       "6193      70.0\n",
       "Name: kitchen_area, dtype: float64"
      ]
     },
     "execution_count": 50,
     "metadata": {},
     "output_type": "execute_result"
    },
    {
     "data": {
      "image/png": "[encoded data removed]",
      "text/plain": [
       "<Figure size 432x288 with 1 Axes>"
      ]
     },
     "metadata": {
      "needs_background": "light"
     },
     "output_type": "display_data"
    }
   ],
   "source": [
    "# изучим данные столбца площадь кухни, построив гистограмму\n",
    "plt.hist(data['kitchen_area'], bins=60, range=(5,50))\n",
    "plt.title('Площадь кухни')\n",
    "plt.xlabel('Квадратные метры')\n",
    "plt.ylabel('Количество квартир')\n",
    "plt.show\n",
    "print('Наибольшие по площади кухни варианты:')\n",
    "data['kitchen_area'].sort_values(ascending=False).head(10)"
   ]
  },
  {
   "cell_type": "markdown",
   "metadata": {},
   "source": [
    "По гистограмме видно, что в основном в квартирах представлены кухни площадью от 5 до 15 кв. м., с пиком в 7, 10, 12 и 15 кв.м.. По представленным данным, площадь кухни носит среднестатический характер."
   ]
  },
  {
   "cell_type": "code",
   "execution_count": 51,
   "metadata": {},
   "outputs": [
    {
     "name": "stdout",
     "output_type": "stream",
     "text": [
      "Наибольшие по стоимости варианты:\n"
     ]
    },
    {
     "data": {
      "text/plain": [
       "12971    763.0000\n",
       "14706    401.3000\n",
       "1436     330.0000\n",
       "15651    300.0000\n",
       "22831    289.2384\n",
       "16461    245.0000\n",
       "13749    240.0000\n",
       "5893     230.0000\n",
       "8900     190.8700\n",
       "19865    180.0000\n",
       "Name: last_price_1, dtype: float64"
      ]
     },
     "execution_count": 51,
     "metadata": {},
     "output_type": "execute_result"
    },
    {
     "data": {
      "image/png": "[encoded data removed]",
      "text/plain": [
       "<Figure size 432x288 with 1 Axes>"
      ]
     },
     "metadata": {
      "needs_background": "light"
     },
     "output_type": "display_data"
    }
   ],
   "source": [
    "# изучим данные столбца цена объекта, построив гистограмму\n",
    "data['last_price_1'] = data['last_price']/1000000\n",
    "plt.hist(data['last_price_1'], bins=50, range=(1,20))\n",
    "plt.title('Цена квартиры')\n",
    "plt.xlabel('Стоимость квартиры')\n",
    "plt.ylabel('Количество квартир')\n",
    "plt.show\n",
    "print('Наибольшие по стоимости варианты:')\n",
    "data['last_price_1'].sort_values(ascending=False).head(10)"
   ]
  },
  {
   "cell_type": "markdown",
   "metadata": {},
   "source": [
    "<div class=\"alert alert-info\">\n",
    "<b>Комментарий студента:</b>\n",
    "<br>Рекомендации учтены. Действительно, более читаемо 👌\n",
    "</div>"
   ]
  },
  {
   "cell_type": "markdown",
   "metadata": {},
   "source": [
    "Цены на квартиры в основном находятся в диапазоне от 2,5 млн. рублей до 10 млн. рублей. Наибольшее количество квартир представлено в диапазоне 3 - 6 млн. рублей."
   ]
  },
  {
   "cell_type": "code",
   "execution_count": 52,
   "metadata": {},
   "outputs": [
    {
     "data": {
      "image/png": "[encoded data removed]",
      "text/plain": [
       "<Figure size 432x288 with 1 Axes>"
      ]
     },
     "metadata": {
      "needs_background": "light"
     },
     "output_type": "display_data"
    },
    {
     "name": "stdout",
     "output_type": "stream",
     "text": [
      "Наибольшие по числу комнат варианты:\n",
      "20791    9\n",
      "9550     9\n",
      "8822     9\n",
      "8860     9\n",
      "13019    9\n",
      "16915    9\n",
      "15151    9\n",
      "13397    9\n",
      "11436    8\n",
      "18945    8\n",
      "Name: rooms, dtype: int64\n"
     ]
    }
   ],
   "source": [
    "# изучим данные столбца комнаты, построив гистограмму\n",
    "plt.hist(data['rooms'], bins=7, range=(1,20))\n",
    "plt.title('Комнаты')\n",
    "plt.xlabel('Количество комнат')\n",
    "plt.ylabel('Количество квартир')\n",
    "plt.show()\n",
    "print('Наибольшие по числу комнат варианты:')\n",
    "print(data['rooms'].sort_values(ascending=False).head(10))\n"
   ]
  },
  {
   "cell_type": "markdown",
   "metadata": {},
   "source": [
    "В нашей выборке преобладают стандартные по количеству комнат квартиры: от 2 до 4 шт. 5 и Более комнат в квартирах представлены намного реже."
   ]
  },
  {
   "cell_type": "code",
   "execution_count": 53,
   "metadata": {},
   "outputs": [
    {
     "data": {
      "image/png": "[encoded data removed]",
      "text/plain": [
       "<Figure size 432x288 with 1 Axes>"
      ]
     },
     "metadata": {
      "needs_background": "light"
     },
     "output_type": "display_data"
    },
    {
     "name": "stdout",
     "output_type": "stream",
     "text": [
      "Наибольшие по высоте потолков варианты:\n",
      "20264    6.0\n",
      "21227    5.8\n",
      "1388     5.6\n",
      "7578     5.5\n",
      "1026     5.3\n",
      "12628    5.3\n",
      "464      5.2\n",
      "1053     5.0\n",
      "21923    4.9\n",
      "2802     4.8\n",
      "Name: ceiling_height, dtype: float64\n"
     ]
    }
   ],
   "source": [
    "# изучим данные столбца высота потолков, построив гистограмму\n",
    "plt.hist(data.query('(ceiling_height > 2) & (ceiling_height < 4)')['ceiling_height'], bins=20)\n",
    "plt.title('Высота потолков')\n",
    "plt.xlabel('Метры')\n",
    "plt.ylabel('Количество квартир')\n",
    "plt.show()\n",
    "print('Наибольшие по высоте потолков варианты:')\n",
    "print(data['ceiling_height'].sort_values(ascending=False).head(10))"
   ]
  },
  {
   "cell_type": "markdown",
   "metadata": {},
   "source": [
    "В нашей выборке преобладают стандартные по высоте потолки в квартирах: 2,5 м. Также достаточно квартир по высоте потолков представлены в диапазоне от 2.5 до 3 м."
   ]
  },
  {
   "cell_type": "code",
   "execution_count": 54,
   "metadata": {},
   "outputs": [
    {
     "data": {
      "image/png": "[encoded data removed]",
      "text/plain": [
       "<Figure size 432x288 with 1 Axes>"
      ]
     },
     "metadata": {
      "needs_background": "light"
     },
     "output_type": "display_data"
    }
   ],
   "source": [
    "# изучим данные столбца этаж квартиры, построив гистограмму\n",
    "plt.hist(data['floor'], bins=7, range=(1,50))\n",
    "plt.title('Этажи')\n",
    "plt.xlabel('Этажи')\n",
    "plt.ylabel('Количество квартир')\n",
    "plt.show()"
   ]
  },
  {
   "cell_type": "markdown",
   "metadata": {},
   "source": [
    "В нашей выборке представлены в основном квартиры, расположенные с 1 по 10 этаж. Скорее всего, таких домов в принципе построено больше, чем многоэтажных домов - свыше 15 этажей (это тенденция уже последних лет). "
   ]
  },
  {
   "cell_type": "code",
   "execution_count": 55,
   "metadata": {},
   "outputs": [
    {
     "data": {
      "image/png": "[encoded data removed]",
      "text/plain": [
       "<Figure size 432x288 with 1 Axes>"
      ]
     },
     "metadata": {
      "needs_background": "light"
     },
     "output_type": "display_data"
    }
   ],
   "source": [
    "# изучим данные столбца тип этажа квартиры, построив гистограмму\n",
    "plt.hist(data['type_floor'], bins=5)\n",
    "plt.title('Тип этажа')\n",
    "plt.xlabel('Тип этажа')\n",
    "plt.ylabel('Количество квартир')\n",
    "plt.show()"
   ]
  },
  {
   "cell_type": "markdown",
   "metadata": {},
   "source": [
    "В нашей выборке представлены в большинстве случаев квартиры не на первом и не на последнем этаже."
   ]
  },
  {
   "cell_type": "code",
   "execution_count": 56,
   "metadata": {},
   "outputs": [
    {
     "data": {
      "image/png": "[encoded data removed]",
      "text/plain": [
       "<Figure size 432x288 with 1 Axes>"
      ]
     },
     "metadata": {
      "needs_background": "light"
     },
     "output_type": "display_data"
    }
   ],
   "source": [
    "# изучим данные столбца всего этажей в доме, построив гистограмму\n",
    "plt.hist(data['floors_total'], bins=10, range=(1,70))\n",
    "plt.title('Всего этажей в доме')\n",
    "plt.xlabel('Количество этажей')\n",
    "plt.ylabel('Количество квартир')\n",
    "plt.show()"
   ]
  },
  {
   "cell_type": "markdown",
   "metadata": {},
   "source": [
    "В нашей выборке представлены дома этажностью от 1 до 10 в большинстве случаев. Это соотносится с гистограммой этажности продаваемых квартир."
   ]
  },
  {
   "cell_type": "code",
   "execution_count": 57,
   "metadata": {},
   "outputs": [
    {
     "data": {
      "image/png": "[encoded data removed]",
      "text/plain": [
       "<Figure size 432x288 with 1 Axes>"
      ]
     },
     "metadata": {
      "needs_background": "light"
     },
     "output_type": "display_data"
    }
   ],
   "source": [
    "# изучим данные столбца расстояние до центра города в метрах, построив гистограмму\n",
    "plt.hist(data['cityCenters_nearest'], bins=10, range=(100,50000))\n",
    "plt.title('Расстояние до центра города в метрах')\n",
    "plt.xlabel('Расстояние, м')\n",
    "plt.ylabel('Количество квартир')\n",
    "plt.show()"
   ]
  },
  {
   "cell_type": "markdown",
   "metadata": {},
   "source": [
    "В основном, расстояние до центра города - 10-15 км. Остальные варианты находятся дальше, возможно это пригород, он представлен в небольшом количестве относительно всей выборки."
   ]
  },
  {
   "cell_type": "code",
   "execution_count": 58,
   "metadata": {},
   "outputs": [
    {
     "data": {
      "image/png": "[encoded data removed]",
      "text/plain": [
       "<Figure size 432x288 with 1 Axes>"
      ]
     },
     "metadata": {
      "needs_background": "light"
     },
     "output_type": "display_data"
    }
   ],
   "source": [
    "# изучим данные столбца расстояние до ближайшего аэропорта, построив гистограмму\n",
    "plt.hist(data['airports_nearest'], bins=10, range=(1,100000))\n",
    "plt.title('Расстояние до ближайшего аэропорта')\n",
    "plt.xlabel('Расстояние, м')\n",
    "plt.ylabel('Количество квартир')\n",
    "plt.show()"
   ]
  },
  {
   "cell_type": "markdown",
   "metadata": {},
   "source": [
    "В большинстве случаев, расстояние до аэропорта составляет от 10 до 40 км."
   ]
  },
  {
   "cell_type": "code",
   "execution_count": 59,
   "metadata": {},
   "outputs": [
    {
     "data": {
      "image/png": "[encoded data removed]",
      "text/plain": [
       "<Figure size 432x288 with 1 Axes>"
      ]
     },
     "metadata": {
      "needs_background": "light"
     },
     "output_type": "display_data"
    }
   ],
   "source": [
    "# изучим данные столбца расстояние до ближайшего парка, построив гистограмму\n",
    "plt.hist(data['parks_nearest'], bins=10, range=(1,2000))\n",
    "plt.title('Расстояние до ближайшего парка')\n",
    "plt.xlabel('Расстояние, м')\n",
    "plt.ylabel('Количество квартир')\n",
    "plt.show()"
   ]
  },
  {
   "cell_type": "markdown",
   "metadata": {},
   "source": [
    "В большинстве случаев расстояние до ближайшего парка составляет 500 м, свыше 750 м. - уже реже."
   ]
  },
  {
   "cell_type": "code",
   "execution_count": 60,
   "metadata": {},
   "outputs": [
    {
     "data": {
      "image/png": "[encoded data removed]",
      "text/plain": [
       "<Figure size 432x288 with 1 Axes>"
      ]
     },
     "metadata": {
      "needs_background": "light"
     },
     "output_type": "display_data"
    }
   ],
   "source": [
    "# изучим данные столбца день публикации объявления, построив гистограмму\n",
    "plt.hist(data['day_week'], bins=7, range=(0,7))\n",
    "plt.title('День публикации объявления')\n",
    "plt.xlabel('День недели')\n",
    "plt.ylabel('Количество квартир')\n",
    "plt.show()"
   ]
  },
  {
   "cell_type": "markdown",
   "metadata": {},
   "source": [
    "Наибольшая активность по публикации обявлений приходится на будние дни - со вторника по пятницу, в субботу и воскресенье активность резко падает."
   ]
  },
  {
   "cell_type": "code",
   "execution_count": 61,
   "metadata": {},
   "outputs": [
    {
     "data": {
      "image/png": "[encoded data removed]",
      "text/plain": [
       "<Figure size 432x288 with 1 Axes>"
      ]
     },
     "metadata": {
      "needs_background": "light"
     },
     "output_type": "display_data"
    }
   ],
   "source": [
    "# изучим данные столбца месяц публикации объявления, построив гистограмму\n",
    "plt.hist(data['month'], bins=10, range=(0,12))\n",
    "plt.title('Месяц публикации объявления')\n",
    "plt.xlabel('Месяц')\n",
    "plt.ylabel('Количество квартир')\n",
    "plt.show()"
   ]
  },
  {
   "cell_type": "markdown",
   "metadata": {},
   "source": [
    "Наибольшая активность по публикации объявлений в разрезе месяцев июль и декабрь, наименьшая - январь и июнь."
   ]
  },
  {
   "cell_type": "code",
   "execution_count": 62,
   "metadata": {},
   "outputs": [
    {
     "data": {
      "image/png": "[encoded data removed]",
      "text/plain": [
       "<Figure size 432x288 with 1 Axes>"
      ]
     },
     "metadata": {
      "needs_background": "light"
     },
     "output_type": "display_data"
    }
   ],
   "source": [
    "# изучим данные столбца год публикации объявления, построив гистограмму\n",
    "plt.hist(data['year'], bins=10, range=(2010, 2021))\n",
    "plt.title('Год публикации объявления')\n",
    "plt.xlabel('Год')\n",
    "plt.ylabel('Количество квартир')\n",
    "plt.show()"
   ]
  },
  {
   "cell_type": "markdown",
   "metadata": {},
   "source": [
    "Наблюдается повышение активности по продаже и покупке квартир, начиная с 2016 по 2019 годы."
   ]
  },
  {
   "cell_type": "markdown",
   "metadata": {},
   "source": [
    "Вывод:\n",
    "1. Площадь. Большинство квартир - менее 100 квадратных метров, больше площадь встречается редко.\n",
    "2. Стоимость. В основном стоимость квартир - порядка 3-6 миллионов.\n",
    "3. Комнаты. В основном квартиры состоят из 1, 2 и 3 комнат. Есть небольшое количество квартир с 4 и более комнатами.\n",
    "4. Высота потолков. Большинство вариантов имеют высоту потолков от 2,5 до 3 метров.\n",
    "5. Площадь кухни. Самые распространённые кухни - от 5 до 15 метров. Больше 20 метров кухни практически не встречаются. Больше 30 - единичные случаи.\n",
    "6. Жилая площадь. Самые распространённые варианты с жилой площадью от 10 до 50 метров. Два пика графика вызваны, вероятно, тем, что это жилые площади для 1-комнатной, затем для 2-комнатной.\n",
    "7. Этаж, тип этажа и всего этажей в доме. В основном, представлены квартиры на этажах с 1 по 10. Есть квартиры (и дома соответсвенно) выше 15 этажей. Преобладают варианты квартир не на первом и не на последнем этаже.\n",
    "8. Наибольшая активность по публикации обявлений приходится на будние дни - со вторника по пятницу, в субботу и воскресенье активность резко падает.\n",
    "9. Наибольшая активность по публикации объявлений в разрезе месяцев июль и декабрь, наименьшая - январь и июнь."
   ]
  },
  {
   "cell_type": "markdown",
   "metadata": {},
   "source": [
    "#### Сроки продажи квартиры"
   ]
  },
  {
   "cell_type": "code",
   "execution_count": 63,
   "metadata": {},
   "outputs": [
    {
     "data": {
      "image/png": "[encoded data removed]",
      "text/plain": [
       "<Figure size 432x288 with 1 Axes>"
      ]
     },
     "metadata": {
      "needs_background": "light"
     },
     "output_type": "display_data"
    }
   ],
   "source": [
    "# определим время продажи квартиры, построив гистограмму для наглядности и удобства анализа\n",
    "plt.hist(data['days_exposition'], bins=50, range=(1,1000))\n",
    "plt.title('Время продажи квартиры')\n",
    "plt.xlabel('Количество суток')\n",
    "plt.ylabel('Количество квартир')\n",
    "plt.show()"
   ]
  },
  {
   "cell_type": "code",
   "execution_count": 64,
   "metadata": {},
   "outputs": [
    {
     "data": {
      "text/plain": [
       "180.73950278946853"
      ]
     },
     "execution_count": 64,
     "metadata": {},
     "output_type": "execute_result"
    }
   ],
   "source": [
    "data['days_exposition'].mean()"
   ]
  },
  {
   "cell_type": "code",
   "execution_count": 65,
   "metadata": {},
   "outputs": [
    {
     "data": {
      "text/plain": [
       "95.0"
      ]
     },
     "execution_count": 65,
     "metadata": {},
     "output_type": "execute_result"
    }
   ],
   "source": [
    "data['days_exposition'].median()"
   ]
  },
  {
   "cell_type": "markdown",
   "metadata": {},
   "source": [
    "Вывод:\n",
    "\n",
    "Медианное время продажи - 95 дней. Среднее время продажи - 181 день.\n",
    "В основном квартиры продаются за срок в 100 дней. Есть большое число квартир, проданных всего за несколько дней после публикации. А также есть варианты, которые продавались несколько десятков месяцев.\n",
    "\n",
    "Быстрой продажей можно назвать срок в 50 дней и меньше. Долгой продажей - 230 дней (7,5 месяцев) и дольше.\n"
   ]
  },
  {
   "cell_type": "markdown",
   "metadata": {},
   "source": [
    "#### Факторы, влияющие на стоимость объекта."
   ]
  },
  {
   "cell_type": "code",
   "execution_count": 66,
   "metadata": {},
   "outputs": [
    {
     "data": {
      "text/html": [
       "<div>\n",
       "<style scoped>\n",
       "    .dataframe tbody tr th:only-of-type {\n",
       "        vertical-align: middle;\n",
       "    }\n",
       "\n",
       "    .dataframe tbody tr th {\n",
       "        vertical-align: top;\n",
       "    }\n",
       "\n",
       "    .dataframe thead th {\n",
       "        text-align: right;\n",
       "    }\n",
       "</style>\n",
       "<table border=\"1\" class=\"dataframe\">\n",
       "  <thead>\n",
       "    <tr style=\"text-align: right;\">\n",
       "      <th></th>\n",
       "      <th>last_price</th>\n",
       "      <th>total_area</th>\n",
       "      <th>living_area</th>\n",
       "      <th>kitchen_area</th>\n",
       "      <th>rooms</th>\n",
       "      <th>day_week</th>\n",
       "      <th>month</th>\n",
       "      <th>year</th>\n",
       "    </tr>\n",
       "  </thead>\n",
       "  <tbody>\n",
       "    <tr>\n",
       "      <th>count</th>\n",
       "      <td>2.360800e+04</td>\n",
       "      <td>23608.000000</td>\n",
       "      <td>23608.000000</td>\n",
       "      <td>21344.000000</td>\n",
       "      <td>23608.000000</td>\n",
       "      <td>23608.000000</td>\n",
       "      <td>23608.000000</td>\n",
       "      <td>23608.000000</td>\n",
       "    </tr>\n",
       "    <tr>\n",
       "      <th>mean</th>\n",
       "      <td>6.517145e+06</td>\n",
       "      <td>60.207983</td>\n",
       "      <td>34.504013</td>\n",
       "      <td>10.556673</td>\n",
       "      <td>2.065359</td>\n",
       "      <td>2.568790</td>\n",
       "      <td>6.401644</td>\n",
       "      <td>2017.370044</td>\n",
       "    </tr>\n",
       "    <tr>\n",
       "      <th>std</th>\n",
       "      <td>1.055247e+07</td>\n",
       "      <td>34.839417</td>\n",
       "      <td>21.914239</td>\n",
       "      <td>5.828087</td>\n",
       "      <td>1.051722</td>\n",
       "      <td>1.788735</td>\n",
       "      <td>3.491383</td>\n",
       "      <td>1.037879</td>\n",
       "    </tr>\n",
       "    <tr>\n",
       "      <th>min</th>\n",
       "      <td>4.300000e+05</td>\n",
       "      <td>12.000000</td>\n",
       "      <td>2.000000</td>\n",
       "      <td>1.300000</td>\n",
       "      <td>0.000000</td>\n",
       "      <td>0.000000</td>\n",
       "      <td>1.000000</td>\n",
       "      <td>2014.000000</td>\n",
       "    </tr>\n",
       "    <tr>\n",
       "      <th>25%</th>\n",
       "      <td>3.405000e+06</td>\n",
       "      <td>40.000000</td>\n",
       "      <td>19.000000</td>\n",
       "      <td>7.000000</td>\n",
       "      <td>1.000000</td>\n",
       "      <td>1.000000</td>\n",
       "      <td>3.000000</td>\n",
       "      <td>2017.000000</td>\n",
       "    </tr>\n",
       "    <tr>\n",
       "      <th>50%</th>\n",
       "      <td>4.650000e+06</td>\n",
       "      <td>52.000000</td>\n",
       "      <td>30.000000</td>\n",
       "      <td>9.100000</td>\n",
       "      <td>2.000000</td>\n",
       "      <td>3.000000</td>\n",
       "      <td>6.000000</td>\n",
       "      <td>2017.000000</td>\n",
       "    </tr>\n",
       "    <tr>\n",
       "      <th>75%</th>\n",
       "      <td>6.792250e+06</td>\n",
       "      <td>69.700000</td>\n",
       "      <td>42.100000</td>\n",
       "      <td>12.000000</td>\n",
       "      <td>3.000000</td>\n",
       "      <td>4.000000</td>\n",
       "      <td>10.000000</td>\n",
       "      <td>2018.000000</td>\n",
       "    </tr>\n",
       "    <tr>\n",
       "      <th>max</th>\n",
       "      <td>7.630000e+08</td>\n",
       "      <td>631.200000</td>\n",
       "      <td>360.288168</td>\n",
       "      <td>107.000000</td>\n",
       "      <td>9.000000</td>\n",
       "      <td>6.000000</td>\n",
       "      <td>12.000000</td>\n",
       "      <td>2019.000000</td>\n",
       "    </tr>\n",
       "  </tbody>\n",
       "</table>\n",
       "</div>"
      ],
      "text/plain": [
       "         last_price    total_area   living_area  kitchen_area         rooms  \\\n",
       "count  2.360800e+04  23608.000000  23608.000000  21344.000000  23608.000000   \n",
       "mean   6.517145e+06     60.207983     34.504013     10.556673      2.065359   \n",
       "std    1.055247e+07     34.839417     21.914239      5.828087      1.051722   \n",
       "min    4.300000e+05     12.000000      2.000000      1.300000      0.000000   \n",
       "25%    3.405000e+06     40.000000     19.000000      7.000000      1.000000   \n",
       "50%    4.650000e+06     52.000000     30.000000      9.100000      2.000000   \n",
       "75%    6.792250e+06     69.700000     42.100000     12.000000      3.000000   \n",
       "max    7.630000e+08    631.200000    360.288168    107.000000      9.000000   \n",
       "\n",
       "           day_week         month          year  \n",
       "count  23608.000000  23608.000000  23608.000000  \n",
       "mean       2.568790      6.401644   2017.370044  \n",
       "std        1.788735      3.491383      1.037879  \n",
       "min        0.000000      1.000000   2014.000000  \n",
       "25%        1.000000      3.000000   2017.000000  \n",
       "50%        3.000000      6.000000   2017.000000  \n",
       "75%        4.000000     10.000000   2018.000000  \n",
       "max        6.000000     12.000000   2019.000000  "
      ]
     },
     "execution_count": 66,
     "metadata": {},
     "output_type": "execute_result"
    }
   ],
   "source": [
    "#основные данные \n",
    "data[['last_price', 'total_area', 'living_area', 'kitchen_area', 'rooms', 'type_floor', 'day_week', 'month', 'year']].describe()"
   ]
  },
  {
   "cell_type": "code",
   "execution_count": 67,
   "metadata": {},
   "outputs": [
    {
     "data": {
      "image/png": "[encoded data removed]",
      "text/plain": [
       "<Figure size 360x360 with 1 Axes>"
      ]
     },
     "metadata": {
      "needs_background": "light"
     },
     "output_type": "display_data"
    },
    {
     "data": {
      "text/html": [
       "<div>\n",
       "<style scoped>\n",
       "    .dataframe tbody tr th:only-of-type {\n",
       "        vertical-align: middle;\n",
       "    }\n",
       "\n",
       "    .dataframe tbody tr th {\n",
       "        vertical-align: top;\n",
       "    }\n",
       "\n",
       "    .dataframe thead th {\n",
       "        text-align: right;\n",
       "    }\n",
       "</style>\n",
       "<table border=\"1\" class=\"dataframe\">\n",
       "  <thead>\n",
       "    <tr style=\"text-align: right;\">\n",
       "      <th></th>\n",
       "      <th>total_area</th>\n",
       "      <th>last_price</th>\n",
       "    </tr>\n",
       "  </thead>\n",
       "  <tbody>\n",
       "    <tr>\n",
       "      <th>total_area</th>\n",
       "      <td>1.000000</td>\n",
       "      <td>0.643955</td>\n",
       "    </tr>\n",
       "    <tr>\n",
       "      <th>last_price</th>\n",
       "      <td>0.643955</td>\n",
       "      <td>1.000000</td>\n",
       "    </tr>\n",
       "  </tbody>\n",
       "</table>\n",
       "</div>"
      ],
      "text/plain": [
       "            total_area  last_price\n",
       "total_area    1.000000    0.643955\n",
       "last_price    0.643955    1.000000"
      ]
     },
     "execution_count": 67,
     "metadata": {},
     "output_type": "execute_result"
    }
   ],
   "source": [
    "# определяем зависимость цены от общей площади\n",
    "(\n",
    "    data.pivot_table(index='total_area', values='last_price')\n",
    "    .plot(grid=True, style='o', figsize=(5, 5))\n",
    ")\n",
    "plt.show()\n",
    "data[['total_area', 'last_price']].corr()"
   ]
  },
  {
   "cell_type": "markdown",
   "metadata": {},
   "source": [
    "Судя по коэффициенту корреляции есть зависимости цены от общей площади. Чем больше площадь, тем больше стоимость квартиры."
   ]
  },
  {
   "cell_type": "code",
   "execution_count": 68,
   "metadata": {},
   "outputs": [
    {
     "data": {
      "image/png": "[encoded data removed]",
      "text/plain": [
       "<Figure size 360x360 with 1 Axes>"
      ]
     },
     "metadata": {
      "needs_background": "light"
     },
     "output_type": "display_data"
    },
    {
     "data": {
      "text/html": [
       "<div>\n",
       "<style scoped>\n",
       "    .dataframe tbody tr th:only-of-type {\n",
       "        vertical-align: middle;\n",
       "    }\n",
       "\n",
       "    .dataframe tbody tr th {\n",
       "        vertical-align: top;\n",
       "    }\n",
       "\n",
       "    .dataframe thead th {\n",
       "        text-align: right;\n",
       "    }\n",
       "</style>\n",
       "<table border=\"1\" class=\"dataframe\">\n",
       "  <thead>\n",
       "    <tr style=\"text-align: right;\">\n",
       "      <th></th>\n",
       "      <th>living_area</th>\n",
       "      <th>last_price</th>\n",
       "    </tr>\n",
       "  </thead>\n",
       "  <tbody>\n",
       "    <tr>\n",
       "      <th>living_area</th>\n",
       "      <td>1.000000</td>\n",
       "      <td>0.580742</td>\n",
       "    </tr>\n",
       "    <tr>\n",
       "      <th>last_price</th>\n",
       "      <td>0.580742</td>\n",
       "      <td>1.000000</td>\n",
       "    </tr>\n",
       "  </tbody>\n",
       "</table>\n",
       "</div>"
      ],
      "text/plain": [
       "             living_area  last_price\n",
       "living_area     1.000000    0.580742\n",
       "last_price      0.580742    1.000000"
      ]
     },
     "execution_count": 68,
     "metadata": {},
     "output_type": "execute_result"
    }
   ],
   "source": [
    "# определяем зависимость цены от жилой площади\n",
    "(\n",
    "    data.pivot_table(index='living_area', values='last_price')\n",
    "    .plot(grid=True, style='o', figsize=(5, 5))\n",
    ")\n",
    "plt.show()\n",
    "data[['living_area', 'last_price']].corr()"
   ]
  },
  {
   "cell_type": "markdown",
   "metadata": {},
   "source": [
    "Коэффициент корреляции примерно похож на коэффициент корреляции от общей площади. Зависимость есть: чем больше жилая площадь, тем больше стоимость квартиры."
   ]
  },
  {
   "cell_type": "code",
   "execution_count": 69,
   "metadata": {},
   "outputs": [
    {
     "data": {
      "image/png": "[encoded data removed]",
      "text/plain": [
       "<Figure size 360x360 with 1 Axes>"
      ]
     },
     "metadata": {
      "needs_background": "light"
     },
     "output_type": "display_data"
    },
    {
     "data": {
      "text/html": [
       "<div>\n",
       "<style scoped>\n",
       "    .dataframe tbody tr th:only-of-type {\n",
       "        vertical-align: middle;\n",
       "    }\n",
       "\n",
       "    .dataframe tbody tr th {\n",
       "        vertical-align: top;\n",
       "    }\n",
       "\n",
       "    .dataframe thead th {\n",
       "        text-align: right;\n",
       "    }\n",
       "</style>\n",
       "<table border=\"1\" class=\"dataframe\">\n",
       "  <thead>\n",
       "    <tr style=\"text-align: right;\">\n",
       "      <th></th>\n",
       "      <th>kitchen_area</th>\n",
       "      <th>last_price</th>\n",
       "    </tr>\n",
       "  </thead>\n",
       "  <tbody>\n",
       "    <tr>\n",
       "      <th>kitchen_area</th>\n",
       "      <td>1.000000</td>\n",
       "      <td>0.509914</td>\n",
       "    </tr>\n",
       "    <tr>\n",
       "      <th>last_price</th>\n",
       "      <td>0.509914</td>\n",
       "      <td>1.000000</td>\n",
       "    </tr>\n",
       "  </tbody>\n",
       "</table>\n",
       "</div>"
      ],
      "text/plain": [
       "              kitchen_area  last_price\n",
       "kitchen_area      1.000000    0.509914\n",
       "last_price        0.509914    1.000000"
      ]
     },
     "execution_count": 69,
     "metadata": {},
     "output_type": "execute_result"
    }
   ],
   "source": [
    "# определяем зависимость цены от площади кухни\n",
    "(\n",
    "    data.pivot_table(index='kitchen_area', values='last_price')\n",
    "    .plot(grid=True, style='o', figsize=(5, 5))\n",
    ")\n",
    "plt.show()\n",
    "data[['kitchen_area', 'last_price']].corr()"
   ]
  },
  {
   "cell_type": "markdown",
   "metadata": {},
   "source": [
    "Судя по коэффициенту корреляции зависимость цены от площади кухни выражена неярко."
   ]
  },
  {
   "cell_type": "code",
   "execution_count": 70,
   "metadata": {},
   "outputs": [
    {
     "data": {
      "image/png": "[encoded data removed]",
      "text/plain": [
       "<Figure size 360x360 with 1 Axes>"
      ]
     },
     "metadata": {
      "needs_background": "light"
     },
     "output_type": "display_data"
    },
    {
     "data": {
      "text/html": [
       "<div>\n",
       "<style scoped>\n",
       "    .dataframe tbody tr th:only-of-type {\n",
       "        vertical-align: middle;\n",
       "    }\n",
       "\n",
       "    .dataframe tbody tr th {\n",
       "        vertical-align: top;\n",
       "    }\n",
       "\n",
       "    .dataframe thead th {\n",
       "        text-align: right;\n",
       "    }\n",
       "</style>\n",
       "<table border=\"1\" class=\"dataframe\">\n",
       "  <thead>\n",
       "    <tr style=\"text-align: right;\">\n",
       "      <th></th>\n",
       "      <th>rooms</th>\n",
       "      <th>last_price</th>\n",
       "    </tr>\n",
       "  </thead>\n",
       "  <tbody>\n",
       "    <tr>\n",
       "      <th>rooms</th>\n",
       "      <td>1.000000</td>\n",
       "      <td>0.359158</td>\n",
       "    </tr>\n",
       "    <tr>\n",
       "      <th>last_price</th>\n",
       "      <td>0.359158</td>\n",
       "      <td>1.000000</td>\n",
       "    </tr>\n",
       "  </tbody>\n",
       "</table>\n",
       "</div>"
      ],
      "text/plain": [
       "               rooms  last_price\n",
       "rooms       1.000000    0.359158\n",
       "last_price  0.359158    1.000000"
      ]
     },
     "execution_count": 70,
     "metadata": {},
     "output_type": "execute_result"
    }
   ],
   "source": [
    "# определяем зависимость цены от количества комнат\n",
    "(\n",
    "    data.query('rooms > 0').pivot_table(index='rooms', values='last_price')\n",
    "    .plot(grid=True, style='o-', figsize=(5, 5))\n",
    ")\n",
    "plt.show()\n",
    "data[['rooms', 'last_price']].corr()"
   ]
  },
  {
   "cell_type": "markdown",
   "metadata": {},
   "source": [
    "Значение коэффициента корреляции стремится к нулю и, соответственно линейная зависимость отсутствует."
   ]
  },
  {
   "cell_type": "code",
   "execution_count": 71,
   "metadata": {},
   "outputs": [
    {
     "data": {
      "image/png": "[encoded data removed]",
      "text/plain": [
       "<Figure size 360x360 with 1 Axes>"
      ]
     },
     "metadata": {
      "needs_background": "light"
     },
     "output_type": "display_data"
    }
   ],
   "source": [
    "# определяем зависимость цены от типа этажа\n",
    "(\n",
    "    data.pivot_table(index='type_floor', values='last_price')\n",
    "    .plot(grid=True, style='o-', figsize=(5, 5))\n",
    ")\n",
    "plt.show()"
   ]
  },
  {
   "cell_type": "markdown",
   "metadata": {},
   "source": [
    "Самая низкая цена - у квартир на 1 этаже. Цена остальных квартир может зависеть от этажа, также наблюдаем увеличенную стоимость квартир на последних этажах. Это может зависеть от последних этажей новых высоток (вид из окна). "
   ]
  },
  {
   "cell_type": "code",
   "execution_count": 72,
   "metadata": {},
   "outputs": [
    {
     "data": {
      "image/png": "[encoded data removed]",
      "text/plain": [
       "<Figure size 360x360 with 1 Axes>"
      ]
     },
     "metadata": {
      "needs_background": "light"
     },
     "output_type": "display_data"
    }
   ],
   "source": [
    "# определяем зависимость цены от даты размещения объявления\n",
    "(\n",
    "    data.pivot_table(index='day_week', values='last_price')\n",
    "    .plot(grid=True, style='o-', figsize=(5, 5))\n",
    ")\n",
    "plt.show()"
   ]
  },
  {
   "cell_type": "code",
   "execution_count": 73,
   "metadata": {},
   "outputs": [
    {
     "data": {
      "image/png": "[encoded data removed]",
      "text/plain": [
       "<Figure size 360x360 with 1 Axes>"
      ]
     },
     "metadata": {
      "needs_background": "light"
     },
     "output_type": "display_data"
    }
   ],
   "source": [
    "# определяем зависимость цены от месяца размещения объявления\n",
    "(\n",
    "    data.pivot_table(index='month', values='last_price')\n",
    "    .plot(grid=True, style='o-', figsize=(5, 5))\n",
    ")\n",
    "plt.show()"
   ]
  },
  {
   "cell_type": "code",
   "execution_count": 74,
   "metadata": {},
   "outputs": [
    {
     "data": {
      "image/png": "[encoded data removed]",
      "text/plain": [
       "<Figure size 360x360 with 1 Axes>"
      ]
     },
     "metadata": {
      "needs_background": "light"
     },
     "output_type": "display_data"
    }
   ],
   "source": [
    "# определяем зависимость цены от года размещения объявления\n",
    "(\n",
    "    data.pivot_table(index='year', values='last_price')\n",
    "    .plot(grid=True, style='o-', figsize=(5, 5))\n",
    ")\n",
    "plt.show()"
   ]
  },
  {
   "cell_type": "markdown",
   "metadata": {},
   "source": [
    "Значение коэффициента корреляции по временным параметрам (день недели, месяц, год) стремится к нулю и, соответственно отсутствует."
   ]
  },
  {
   "cell_type": "markdown",
   "metadata": {},
   "source": [
    "<div class=\"alert alert-info\">\n",
    "<b>Комментарий студента:</b>\n",
    "<br>Согласно рекомендациям, расчет корреляции удален.\n",
    "</div>"
   ]
  },
  {
   "cell_type": "markdown",
   "metadata": {},
   "source": [
    "#### Населённые пункты с самой высокой и низкой стоимостью квадратного метра."
   ]
  },
  {
   "cell_type": "code",
   "execution_count": 75,
   "metadata": {},
   "outputs": [
    {
     "data": {
      "text/html": [
       "<div>\n",
       "<style scoped>\n",
       "    .dataframe tbody tr th:only-of-type {\n",
       "        vertical-align: middle;\n",
       "    }\n",
       "\n",
       "    .dataframe tbody tr th {\n",
       "        vertical-align: top;\n",
       "    }\n",
       "\n",
       "    .dataframe thead th {\n",
       "        text-align: right;\n",
       "    }\n",
       "</style>\n",
       "<table border=\"1\" class=\"dataframe\">\n",
       "  <thead>\n",
       "    <tr style=\"text-align: right;\">\n",
       "      <th></th>\n",
       "      <th>one_metr_price</th>\n",
       "    </tr>\n",
       "    <tr>\n",
       "      <th>locality_name</th>\n",
       "      <th></th>\n",
       "    </tr>\n",
       "  </thead>\n",
       "  <tbody>\n",
       "    <tr>\n",
       "      <th>Санкт-Петербург</th>\n",
       "      <td>114816.750589</td>\n",
       "    </tr>\n",
       "    <tr>\n",
       "      <th>Пушкин</th>\n",
       "      <td>103125.373984</td>\n",
       "    </tr>\n",
       "    <tr>\n",
       "      <th>Кудрово</th>\n",
       "      <td>95325.726115</td>\n",
       "    </tr>\n",
       "    <tr>\n",
       "      <th>Парголово</th>\n",
       "      <td>90175.489297</td>\n",
       "    </tr>\n",
       "    <tr>\n",
       "      <th>Мурино</th>\n",
       "      <td>86087.055932</td>\n",
       "    </tr>\n",
       "    <tr>\n",
       "      <th>Шушары</th>\n",
       "      <td>78676.904545</td>\n",
       "    </tr>\n",
       "    <tr>\n",
       "      <th>Колпино</th>\n",
       "      <td>75424.150888</td>\n",
       "    </tr>\n",
       "    <tr>\n",
       "      <th>Гатчина</th>\n",
       "      <td>68745.693811</td>\n",
       "    </tr>\n",
       "    <tr>\n",
       "      <th>Всеволожск</th>\n",
       "      <td>68718.853904</td>\n",
       "    </tr>\n",
       "    <tr>\n",
       "      <th>Выборг</th>\n",
       "      <td>58237.723404</td>\n",
       "    </tr>\n",
       "  </tbody>\n",
       "</table>\n",
       "</div>"
      ],
      "text/plain": [
       "                 one_metr_price\n",
       "locality_name                  \n",
       "Санкт-Петербург   114816.750589\n",
       "Пушкин            103125.373984\n",
       "Кудрово            95325.726115\n",
       "Парголово          90175.489297\n",
       "Мурино             86087.055932\n",
       "Шушары             78676.904545\n",
       "Колпино            75424.150888\n",
       "Гатчина            68745.693811\n",
       "Всеволожск         68718.853904\n",
       "Выборг             58237.723404"
      ]
     },
     "execution_count": 75,
     "metadata": {},
     "output_type": "execute_result"
    }
   ],
   "source": [
    "# Сравниваем среднюю стоимость квадратного метра в топ-10 городов по числу объявлений\n",
    "city_ten_high_number = data['locality_name'].value_counts().head(10)\n",
    "city_ten_price = data.query('locality_name in (@city_ten_high_number.index)').pivot_table(values='one_metr_price', index='locality_name')\n",
    "city_ten_price.sort_values('one_metr_price', ascending=False)"
   ]
  },
  {
   "cell_type": "markdown",
   "metadata": {},
   "source": [
    "Наибольшая средняя стоимость квадратного метра, вполне очевидно, в Санкт-Петербурге. Затем идёт Пушкин, что, вероятно, вызвано большим количеством парков. Затем идут районы Мурино и Кудрово, которые непосредственно примыкают к Санкт-Петербургу. Из топ-10 наименьшая стоимость в Гатчине, Всеволожске и Выборге, что обусловлено большим расстоянием от Санкт-Петербурга."
   ]
  },
  {
   "cell_type": "markdown",
   "metadata": {},
   "source": [
    "#### Cредняя цена каждого километра"
   ]
  },
  {
   "cell_type": "code",
   "execution_count": 76,
   "metadata": {},
   "outputs": [
    {
     "data": {
      "image/png": "[encoded data removed]",
      "text/plain": [
       "<Figure size 720x360 with 1 Axes>"
      ]
     },
     "metadata": {
      "needs_background": "light"
     },
     "output_type": "display_data"
    }
   ],
   "source": [
    "# Ранее мы рассчитали расстояние до центра в километрах.\n",
    "# Теперь выделим квартиры в Санкт-Петербурге с помощью столбца locality_name и вычислим среднюю цену каждого километра.\n",
    "\n",
    "(\n",
    "    data.query('locality_name == \"Санкт-Петербург\"')\n",
    "    .pivot_table(index='city_centres_km', values='last_price')\n",
    "    .plot(grid=True, style='o-', xlim=(0,15), figsize=(10, 5))\n",
    ")\n",
    "plt.show()"
   ]
  },
  {
   "cell_type": "markdown",
   "metadata": {},
   "source": [
    "По графику видно, что дальше 7 км от центра цена снижается."
   ]
  },
  {
   "cell_type": "markdown",
   "metadata": {},
   "source": [
    "Выводы по пункту 4:\n",
    "\n",
    "Большинство квартир - менее 100 квадратных метров. В основном стоимость квартир - порядка 3-6 миллионов.\n",
    "\n",
    "Медианное время продажи - 95 дней. Среднее время продажи - 181 день. В основном квартиры продаются за срок в 100 дней. Есть большое число квартир, проданных всего за несколько дней после публикации. А также есть варианты, которые продавались несколько десятков месяцев.\n",
    "Быстрой продажей можно назвать срок в 50 дней и меньше. Долгой продажей - 230 дней (7,5 месяцев) и дольше.\n",
    "\n",
    "Существует линейная зависимость между общей и жилой площадью квартиры и стоимостью квартиры. Самая низкая цена у квартир на первом этаже. Зависимость цены от площади кухни возможно существует, но не носит ярко выраженный линейный характер. Значение коэффициента корреляции по временным параметрам (день недели, месяц, год) стремится к нулю и, соответственно отсутствует.\n",
    "\n",
    "Наибольшая средняя стоимость квадратного метра, вполне очевидно, в Санкт-Петербурге. Затем идёт Пушкин, что, вероятно, вызвано большим количеством парков. Затем идут районы Мурино и Кудрово, которые непосредственно примыкают к Санкт-Петербургу. Из топ-10 наименьшая стоимость в Гатчине, Всеволожске и Выборге, что обусловлено большим расстоянием от Санкт-Петербурга.\n",
    "\n",
    "Стоимость квартир в центре Санкт-Петербурга выше, и дальше от центра цена снижается."
   ]
  },
  {
   "cell_type": "markdown",
   "metadata": {},
   "source": [
    "### Общий вывод"
   ]
  },
  {
   "cell_type": "markdown",
   "metadata": {},
   "source": [
    "Представленные для анализа данные были изучены.\n",
    "\n",
    "В процессе предварительной обработки данных были выявлены явные и неявные пропуски, ошибки представления значений (значения, не соответствующие действительности: стоимость одного объекта недвижимости была указаны в тыс. рублей, а не в рублях), **найдены редкие и выбивающееся значение в столбцах \"цена на момент снятия с публикации\", \"высота потолков\",\"количество комнат\", \"общая площадь\". Проведены необходимые исправления.**\n",
    "Можно выделить следующие причины пропусков данных:\n",
    "1. в случае отсутствия информации продавец просто не заполнял поля, оставляя их пустыми. Это могло происходить также специально со стороны продавца, чтобы выгоднее представить продаваемый объект, либо неспециально, так как продавец мог не знать о наличии, либо отсутствии пруда или парка рядом.\n",
    "2. данные могли собираться из разных источников, в которых могло не быть изначально некоторых вопросов, которые потом и загрузились в базу с пропусками.\n",
    "3. как вариант, сбой при выгрузке данных.\n",
    "Указанные проблемы были устранены.\n",
    "\n",
    "Для дальнейшего анализа рассчитаны и добавлены отдельными столбцами значения цены 1 кв.м., дня недели, месяца и года публикации объявления, типа этажа (первый, последний, другой), расстояние до центра города в км.\n",
    "\n",
    "Были рассмотрены следующие параметры:\n",
    "1. зависимость стоимости квартиры от общей площади, от типа этажа, города расположения продаваемого объекта. Изучение общих параметров объектов показало, что на рынке недвижимости представлено жилье общей площадью до 100 кв.м. стоимостью 3-6 млн. рублей, также представлены квартиры, как меньшие по стоимости, так и большие. Спросом пользуются 1-3 комнатные квартиры небольшой площади 30-75 кв.м. Большинство вариантов имеют высоту потолков от 2,5 до 3 метров. Самые распространённые кухни - от 5 до 15 метров. Больше 20 метров кухни практически не встречаются. В основном, представлены квартиры на этажах с 1 по 10. Есть квартиры (и дома соответственно) выше 15 этажей. Преобладают варианты квартир не на первом и не на последнем этаже.\n",
    "Наибольшая активность по публикации объявлений приходится на будние дни - со вторника по пятницу, в субботу и воскресенье активность резко падает, в разрезе месяцев: наибольшая активность - в июле и декабре, наименьшая - в январе и июне.\n",
    "2. Медианное время продажи - 95 дней. Среднее время продажи - 181 день. В основном квартиры продаются за срок в 100 дней. Есть большое число квартир, проданных всего за несколько дней после публикации. А также есть варианты, которые продавались несколько десятков месяцев. Быстрой продажей можно назвать срок в 50 дней и меньше. Долгой продажей - 230 дней (7,5 месяцев) и дольше.\n",
    "3. Факторы, влияющие на стоимость: на стоимость больше влияет площадь квартиры, чем число комнат, или площадь кухни (коэфициент корреляции составляет 0,65). Первый этаж значительно дешевле остальных вариантов.\n",
    "4. Стоимость квадратного метра в топ-10 населённых пунктов: максимальная стоимость квадратного метра - в Санкт-Петербурге (114856), минимальная - в Выборге (58141).\n",
    "\n",
    "Сервис Яндекс.Недвижимость конкурирует с такими сервисами, как ЦИАН, ДомКлик, Авито и др. по привлечению большей целевой аудитории и пользователей, которые могут быть потенциальными клиентами.\n",
    "Рекомендации:\n",
    "1. Доработать внесение информации в автоматическом режиме по тем позициям, которые получаются автоматически на основе картографических данных. Например, продавцу не надо будет вводить данные по расстоянию до центра, до аэропорта, ближайшего парка и водоёма. В связи с этим необходимо добавить обязательный параметр \"адрес объекта\".\n",
    "2. Добавить новую позицию (к уже имеющимся позициям по расстояниям) - расстояние до метро (очень актуально в таком большом городе, как Санкт-Петербург, и одновременно привлекательно для покупателей)."
   ]
  },
  {
   "cell_type": "code",
   "execution_count": null,
   "metadata": {},
   "outputs": [],
   "source": []
  }
 ],
 "metadata": {
  "ExecuteTimeLog": [
   {
    "duration": 828,
    "start_time": "2023-01-21T10:16:21.752Z"
   },
   {
    "duration": 329,
    "start_time": "2023-01-21T10:24:15.590Z"
   },
   {
    "duration": 7,
    "start_time": "2023-01-21T10:25:11.364Z"
   },
   {
    "duration": 104,
    "start_time": "2023-01-21T10:25:53.061Z"
   },
   {
    "duration": 17,
    "start_time": "2023-01-21T10:25:56.189Z"
   },
   {
    "duration": 18,
    "start_time": "2023-01-21T10:27:25.924Z"
   },
   {
    "duration": 15,
    "start_time": "2023-01-21T10:27:49.882Z"
   },
   {
    "duration": 16,
    "start_time": "2023-01-21T10:28:11.870Z"
   },
   {
    "duration": 85,
    "start_time": "2023-01-21T11:00:42.515Z"
   },
   {
    "duration": 1759,
    "start_time": "2023-01-21T11:02:16.353Z"
   },
   {
    "duration": 6414,
    "start_time": "2023-01-21T11:02:36.903Z"
   },
   {
    "duration": 2316,
    "start_time": "2023-01-21T11:03:19.758Z"
   },
   {
    "duration": 2092,
    "start_time": "2023-01-21T11:04:26.975Z"
   },
   {
    "duration": 8,
    "start_time": "2023-01-21T11:23:13.973Z"
   },
   {
    "duration": 52,
    "start_time": "2023-01-21T18:46:34.303Z"
   },
   {
    "duration": 924,
    "start_time": "2023-01-21T18:46:47.434Z"
   },
   {
    "duration": 344,
    "start_time": "2023-01-21T18:46:48.361Z"
   },
   {
    "duration": 19,
    "start_time": "2023-01-21T18:46:48.706Z"
   },
   {
    "duration": 18,
    "start_time": "2023-01-21T18:46:48.727Z"
   },
   {
    "duration": 2656,
    "start_time": "2023-01-21T18:46:48.748Z"
   },
   {
    "duration": 10,
    "start_time": "2023-01-21T18:46:51.406Z"
   },
   {
    "duration": 12,
    "start_time": "2023-01-21T18:46:51.418Z"
   },
   {
    "duration": 5,
    "start_time": "2023-01-21T18:47:00.454Z"
   },
   {
    "duration": 14,
    "start_time": "2023-01-21T18:47:15.500Z"
   },
   {
    "duration": 8,
    "start_time": "2023-01-21T18:49:37.404Z"
   },
   {
    "duration": 57,
    "start_time": "2023-01-21T18:54:35.391Z"
   },
   {
    "duration": 76,
    "start_time": "2023-01-21T19:07:15.223Z"
   },
   {
    "duration": 5,
    "start_time": "2023-01-21T19:07:25.990Z"
   },
   {
    "duration": 89,
    "start_time": "2023-01-21T19:12:55.088Z"
   },
   {
    "duration": 39,
    "start_time": "2023-01-21T19:13:07.454Z"
   },
   {
    "duration": 94,
    "start_time": "2023-01-21T19:13:28.346Z"
   },
   {
    "duration": 35,
    "start_time": "2023-01-21T19:13:45.171Z"
   },
   {
    "duration": 55,
    "start_time": "2023-01-21T19:14:08.597Z"
   },
   {
    "duration": 6,
    "start_time": "2023-01-21T19:18:19.687Z"
   },
   {
    "duration": 12,
    "start_time": "2023-01-21T19:19:56.053Z"
   },
   {
    "duration": 10,
    "start_time": "2023-01-21T19:22:12.862Z"
   },
   {
    "duration": 13,
    "start_time": "2023-01-21T19:26:18.764Z"
   },
   {
    "duration": 640,
    "start_time": "2023-01-21T19:28:53.433Z"
   },
   {
    "duration": 101,
    "start_time": "2023-01-21T19:28:54.075Z"
   },
   {
    "duration": 33,
    "start_time": "2023-01-21T19:28:54.178Z"
   },
   {
    "duration": 64,
    "start_time": "2023-01-21T19:28:54.215Z"
   },
   {
    "duration": 107,
    "start_time": "2023-01-21T19:28:54.281Z"
   },
   {
    "duration": 1833,
    "start_time": "2023-01-21T19:28:54.391Z"
   },
   {
    "duration": 12,
    "start_time": "2023-01-21T19:28:56.226Z"
   },
   {
    "duration": 15,
    "start_time": "2023-01-21T19:28:56.239Z"
   },
   {
    "duration": 11,
    "start_time": "2023-01-21T19:28:56.256Z"
   },
   {
    "duration": 2,
    "start_time": "2023-01-21T19:28:56.270Z"
   },
   {
    "duration": 14,
    "start_time": "2023-01-21T19:28:56.274Z"
   },
   {
    "duration": 64,
    "start_time": "2023-01-21T19:28:56.290Z"
   },
   {
    "duration": 16,
    "start_time": "2023-01-21T19:28:56.356Z"
   },
   {
    "duration": 13,
    "start_time": "2023-01-21T19:28:56.374Z"
   },
   {
    "duration": 52,
    "start_time": "2023-01-22T06:24:30.203Z"
   },
   {
    "duration": 799,
    "start_time": "2023-01-22T06:24:38.276Z"
   },
   {
    "duration": 340,
    "start_time": "2023-01-22T06:24:39.077Z"
   },
   {
    "duration": 32,
    "start_time": "2023-01-22T06:24:39.419Z"
   },
   {
    "duration": 36,
    "start_time": "2023-01-22T06:24:39.452Z"
   },
   {
    "duration": 96,
    "start_time": "2023-01-22T06:24:39.491Z"
   },
   {
    "duration": 2095,
    "start_time": "2023-01-22T06:24:39.589Z"
   },
   {
    "duration": 9,
    "start_time": "2023-01-22T06:24:41.686Z"
   },
   {
    "duration": 19,
    "start_time": "2023-01-22T06:24:41.697Z"
   },
   {
    "duration": 15,
    "start_time": "2023-01-22T06:24:41.718Z"
   },
   {
    "duration": 12,
    "start_time": "2023-01-22T06:24:41.735Z"
   },
   {
    "duration": 18,
    "start_time": "2023-01-22T06:24:41.749Z"
   },
   {
    "duration": 21,
    "start_time": "2023-01-22T06:24:41.769Z"
   },
   {
    "duration": 13,
    "start_time": "2023-01-22T06:24:41.791Z"
   },
   {
    "duration": 12,
    "start_time": "2023-01-22T06:24:41.807Z"
   },
   {
    "duration": 77,
    "start_time": "2023-01-22T06:24:41.821Z"
   },
   {
    "duration": 8,
    "start_time": "2023-01-22T06:25:02.900Z"
   },
   {
    "duration": 6,
    "start_time": "2023-01-22T06:25:17.882Z"
   },
   {
    "duration": 4,
    "start_time": "2023-01-22T06:25:36.798Z"
   },
   {
    "duration": 351,
    "start_time": "2023-01-22T06:34:59.284Z"
   },
   {
    "duration": 433,
    "start_time": "2023-01-22T06:35:16.256Z"
   },
   {
    "duration": 58,
    "start_time": "2023-01-22T06:56:21.967Z"
   },
   {
    "duration": 60,
    "start_time": "2023-01-22T10:21:46.821Z"
   },
   {
    "duration": 879,
    "start_time": "2023-01-22T10:21:53.256Z"
   },
   {
    "duration": 213,
    "start_time": "2023-01-22T10:21:54.137Z"
   },
   {
    "duration": 41,
    "start_time": "2023-01-22T10:21:54.352Z"
   },
   {
    "duration": 44,
    "start_time": "2023-01-22T10:21:54.394Z"
   },
   {
    "duration": 100,
    "start_time": "2023-01-22T10:21:54.440Z"
   },
   {
    "duration": 2434,
    "start_time": "2023-01-22T10:21:54.543Z"
   },
   {
    "duration": 10,
    "start_time": "2023-01-22T10:21:56.979Z"
   },
   {
    "duration": 19,
    "start_time": "2023-01-22T10:21:56.990Z"
   },
   {
    "duration": 20,
    "start_time": "2023-01-22T10:21:57.011Z"
   },
   {
    "duration": 63,
    "start_time": "2023-01-22T10:21:57.034Z"
   },
   {
    "duration": 9,
    "start_time": "2023-01-22T10:21:57.105Z"
   },
   {
    "duration": 23,
    "start_time": "2023-01-22T10:21:57.115Z"
   },
   {
    "duration": 10,
    "start_time": "2023-01-22T10:21:57.140Z"
   },
   {
    "duration": 10,
    "start_time": "2023-01-22T10:21:57.152Z"
   },
   {
    "duration": 91,
    "start_time": "2023-01-22T10:21:57.164Z"
   },
   {
    "duration": 5,
    "start_time": "2023-01-22T10:31:49.725Z"
   },
   {
    "duration": 14,
    "start_time": "2023-01-22T10:33:03.102Z"
   },
   {
    "duration": 392,
    "start_time": "2023-01-22T10:46:33.909Z"
   },
   {
    "duration": 4,
    "start_time": "2023-01-22T10:47:40.013Z"
   },
   {
    "duration": 308,
    "start_time": "2023-01-22T10:47:44.073Z"
   },
   {
    "duration": 16,
    "start_time": "2023-01-22T10:48:31.562Z"
   },
   {
    "duration": 4,
    "start_time": "2023-01-22T10:48:32.382Z"
   },
   {
    "duration": 308,
    "start_time": "2023-01-22T10:48:45.837Z"
   },
   {
    "duration": 278,
    "start_time": "2023-01-22T10:49:52.417Z"
   },
   {
    "duration": 301,
    "start_time": "2023-01-22T10:50:10.281Z"
   },
   {
    "duration": 15,
    "start_time": "2023-01-22T10:50:15.643Z"
   },
   {
    "duration": 16,
    "start_time": "2023-01-22T10:51:38.986Z"
   },
   {
    "duration": 113,
    "start_time": "2023-01-22T10:58:01.565Z"
   },
   {
    "duration": 15,
    "start_time": "2023-01-22T10:58:06.063Z"
   },
   {
    "duration": 46,
    "start_time": "2023-01-22T10:58:45.617Z"
   },
   {
    "duration": 33,
    "start_time": "2023-01-22T10:59:01.146Z"
   },
   {
    "duration": 4,
    "start_time": "2023-01-22T11:02:23.316Z"
   },
   {
    "duration": 3,
    "start_time": "2023-01-22T11:02:24.903Z"
   },
   {
    "duration": 5,
    "start_time": "2023-01-22T11:02:25.500Z"
   },
   {
    "duration": 3,
    "start_time": "2023-01-22T11:02:26.055Z"
   },
   {
    "duration": 277,
    "start_time": "2023-01-22T11:02:26.570Z"
   },
   {
    "duration": 10,
    "start_time": "2023-01-22T11:02:27.044Z"
   },
   {
    "duration": 5,
    "start_time": "2023-01-22T11:03:15.011Z"
   },
   {
    "duration": 4,
    "start_time": "2023-01-22T11:03:26.176Z"
   },
   {
    "duration": 15,
    "start_time": "2023-01-22T11:03:41.781Z"
   },
   {
    "duration": 6,
    "start_time": "2023-01-22T11:04:07.014Z"
   },
   {
    "duration": 10,
    "start_time": "2023-01-22T11:04:11.818Z"
   },
   {
    "duration": 14,
    "start_time": "2023-01-22T11:04:20.147Z"
   },
   {
    "duration": 323,
    "start_time": "2023-01-22T11:05:02.655Z"
   },
   {
    "duration": 2,
    "start_time": "2023-01-22T11:05:58.078Z"
   },
   {
    "duration": 11,
    "start_time": "2023-01-22T11:06:10.576Z"
   },
   {
    "duration": 618,
    "start_time": "2023-01-22T11:06:32.335Z"
   },
   {
    "duration": 85,
    "start_time": "2023-01-22T11:06:32.954Z"
   },
   {
    "duration": 28,
    "start_time": "2023-01-22T11:06:33.040Z"
   },
   {
    "duration": 44,
    "start_time": "2023-01-22T11:06:33.070Z"
   },
   {
    "duration": 84,
    "start_time": "2023-01-22T11:06:33.116Z"
   },
   {
    "duration": 2051,
    "start_time": "2023-01-22T11:06:33.202Z"
   },
   {
    "duration": 8,
    "start_time": "2023-01-22T11:06:35.255Z"
   },
   {
    "duration": 27,
    "start_time": "2023-01-22T11:06:35.264Z"
   },
   {
    "duration": 31,
    "start_time": "2023-01-22T11:06:35.293Z"
   },
   {
    "duration": 45,
    "start_time": "2023-01-22T11:06:35.326Z"
   },
   {
    "duration": 18,
    "start_time": "2023-01-22T11:06:35.373Z"
   },
   {
    "duration": 47,
    "start_time": "2023-01-22T11:06:35.393Z"
   },
   {
    "duration": 61,
    "start_time": "2023-01-22T11:06:35.442Z"
   },
   {
    "duration": 34,
    "start_time": "2023-01-22T11:06:35.506Z"
   },
   {
    "duration": 30,
    "start_time": "2023-01-22T11:06:35.542Z"
   },
   {
    "duration": 36,
    "start_time": "2023-01-22T11:06:35.574Z"
   },
   {
    "duration": 39,
    "start_time": "2023-01-22T11:06:35.612Z"
   },
   {
    "duration": 60,
    "start_time": "2023-01-22T11:06:35.654Z"
   },
   {
    "duration": 13,
    "start_time": "2023-01-22T11:07:35.020Z"
   },
   {
    "duration": 4,
    "start_time": "2023-01-22T11:08:10.163Z"
   },
   {
    "duration": 9,
    "start_time": "2023-01-22T11:08:16.076Z"
   },
   {
    "duration": 17,
    "start_time": "2023-01-22T11:08:22.209Z"
   },
   {
    "duration": 4,
    "start_time": "2023-01-22T11:09:19.569Z"
   },
   {
    "duration": 13,
    "start_time": "2023-01-22T11:09:22.890Z"
   },
   {
    "duration": 5,
    "start_time": "2023-01-22T11:12:32.571Z"
   },
   {
    "duration": 14,
    "start_time": "2023-01-22T11:12:38.642Z"
   },
   {
    "duration": 83,
    "start_time": "2023-01-22T11:13:49.386Z"
   },
   {
    "duration": 25,
    "start_time": "2023-01-22T11:16:49.997Z"
   },
   {
    "duration": 25,
    "start_time": "2023-01-22T11:22:47.026Z"
   },
   {
    "duration": 19,
    "start_time": "2023-01-22T11:23:08.482Z"
   },
   {
    "duration": 8,
    "start_time": "2023-01-22T11:26:02.704Z"
   },
   {
    "duration": 4,
    "start_time": "2023-01-22T11:34:10.909Z"
   },
   {
    "duration": 7,
    "start_time": "2023-01-22T11:34:28.994Z"
   },
   {
    "duration": 4,
    "start_time": "2023-01-22T11:34:38.784Z"
   },
   {
    "duration": 3,
    "start_time": "2023-01-22T11:38:12.274Z"
   },
   {
    "duration": 4,
    "start_time": "2023-01-22T11:39:18.167Z"
   },
   {
    "duration": 7,
    "start_time": "2023-01-22T11:39:41.710Z"
   },
   {
    "duration": 7,
    "start_time": "2023-01-22T11:39:53.183Z"
   },
   {
    "duration": 4,
    "start_time": "2023-01-22T11:40:01.216Z"
   },
   {
    "duration": 4,
    "start_time": "2023-01-22T11:40:16.899Z"
   },
   {
    "duration": 10,
    "start_time": "2023-01-22T12:13:38.559Z"
   },
   {
    "duration": 46,
    "start_time": "2023-01-22T16:31:59.074Z"
   },
   {
    "duration": 788,
    "start_time": "2023-01-22T16:32:05.149Z"
   },
   {
    "duration": 140,
    "start_time": "2023-01-22T16:32:05.940Z"
   },
   {
    "duration": 31,
    "start_time": "2023-01-22T16:32:06.082Z"
   },
   {
    "duration": 36,
    "start_time": "2023-01-22T16:32:06.114Z"
   },
   {
    "duration": 86,
    "start_time": "2023-01-22T16:32:06.152Z"
   },
   {
    "duration": 2031,
    "start_time": "2023-01-22T16:32:06.240Z"
   },
   {
    "duration": 8,
    "start_time": "2023-01-22T16:32:08.273Z"
   },
   {
    "duration": 9,
    "start_time": "2023-01-22T16:32:08.283Z"
   },
   {
    "duration": 8,
    "start_time": "2023-01-22T16:32:08.294Z"
   },
   {
    "duration": 6,
    "start_time": "2023-01-22T16:32:08.304Z"
   },
   {
    "duration": 5,
    "start_time": "2023-01-22T16:32:08.311Z"
   },
   {
    "duration": 3,
    "start_time": "2023-01-22T16:32:08.327Z"
   },
   {
    "duration": 18,
    "start_time": "2023-01-22T16:32:08.332Z"
   },
   {
    "duration": 5,
    "start_time": "2023-01-22T16:32:08.352Z"
   },
   {
    "duration": 11,
    "start_time": "2023-01-22T16:32:08.359Z"
   },
   {
    "duration": 10,
    "start_time": "2023-01-22T16:32:08.371Z"
   },
   {
    "duration": 9,
    "start_time": "2023-01-22T16:32:08.382Z"
   },
   {
    "duration": 7,
    "start_time": "2023-01-22T16:32:08.393Z"
   },
   {
    "duration": 35,
    "start_time": "2023-01-22T16:32:08.402Z"
   },
   {
    "duration": 23,
    "start_time": "2023-01-22T16:32:08.439Z"
   },
   {
    "duration": 6,
    "start_time": "2023-01-22T16:32:08.464Z"
   },
   {
    "duration": 69,
    "start_time": "2023-01-22T16:47:09.556Z"
   },
   {
    "duration": 10,
    "start_time": "2023-01-22T16:47:24.448Z"
   },
   {
    "duration": 13,
    "start_time": "2023-01-22T16:48:30.651Z"
   },
   {
    "duration": 10,
    "start_time": "2023-01-22T16:48:37.887Z"
   },
   {
    "duration": 9,
    "start_time": "2023-01-22T16:49:00.769Z"
   },
   {
    "duration": 5,
    "start_time": "2023-01-22T16:49:03.487Z"
   },
   {
    "duration": 10,
    "start_time": "2023-01-22T16:49:57.407Z"
   },
   {
    "duration": 183,
    "start_time": "2023-01-22T16:50:12.983Z"
   },
   {
    "duration": 12,
    "start_time": "2023-01-22T16:50:32.006Z"
   },
   {
    "duration": 5,
    "start_time": "2023-01-22T16:51:13.945Z"
   },
   {
    "duration": 26,
    "start_time": "2023-01-22T17:02:45.261Z"
   },
   {
    "duration": 12,
    "start_time": "2023-01-22T17:12:33.159Z"
   },
   {
    "duration": 30,
    "start_time": "2023-01-22T17:13:01.117Z"
   },
   {
    "duration": 3,
    "start_time": "2023-01-22T17:13:20.713Z"
   },
   {
    "duration": 18,
    "start_time": "2023-01-22T17:13:21.562Z"
   },
   {
    "duration": 14,
    "start_time": "2023-01-22T17:21:52.180Z"
   },
   {
    "duration": 6,
    "start_time": "2023-01-22T17:24:07.491Z"
   },
   {
    "duration": 11,
    "start_time": "2023-01-22T17:25:04.588Z"
   },
   {
    "duration": 11,
    "start_time": "2023-01-22T17:25:19.395Z"
   },
   {
    "duration": 26,
    "start_time": "2023-01-22T17:30:30.629Z"
   },
   {
    "duration": 7,
    "start_time": "2023-01-22T17:38:22.157Z"
   },
   {
    "duration": 8,
    "start_time": "2023-01-22T17:39:37.604Z"
   },
   {
    "duration": 3,
    "start_time": "2023-01-22T17:39:47.578Z"
   },
   {
    "duration": 16,
    "start_time": "2023-01-22T17:39:52.325Z"
   },
   {
    "duration": 8,
    "start_time": "2023-01-22T17:42:16.328Z"
   },
   {
    "duration": 8,
    "start_time": "2023-01-22T17:42:43.482Z"
   },
   {
    "duration": 7,
    "start_time": "2023-01-22T18:29:20.581Z"
   },
   {
    "duration": 4,
    "start_time": "2023-01-22T18:29:27.435Z"
   },
   {
    "duration": 10,
    "start_time": "2023-01-22T18:29:56.013Z"
   },
   {
    "duration": 8,
    "start_time": "2023-01-22T18:32:19.700Z"
   },
   {
    "duration": 8,
    "start_time": "2023-01-22T18:32:29.966Z"
   },
   {
    "duration": 8,
    "start_time": "2023-01-22T18:33:01.635Z"
   },
   {
    "duration": 9,
    "start_time": "2023-01-22T18:34:02.047Z"
   },
   {
    "duration": 8,
    "start_time": "2023-01-22T18:39:30.245Z"
   },
   {
    "duration": 7,
    "start_time": "2023-01-22T18:40:18.892Z"
   },
   {
    "duration": 8,
    "start_time": "2023-01-22T18:40:37.367Z"
   },
   {
    "duration": 4,
    "start_time": "2023-01-22T19:02:32.440Z"
   },
   {
    "duration": 72,
    "start_time": "2023-01-22T19:02:58.440Z"
   },
   {
    "duration": 27,
    "start_time": "2023-01-22T19:03:23.246Z"
   },
   {
    "duration": 15,
    "start_time": "2023-01-22T19:10:26.691Z"
   },
   {
    "duration": 15,
    "start_time": "2023-01-22T19:10:45.058Z"
   },
   {
    "duration": 33,
    "start_time": "2023-01-22T19:10:55.309Z"
   },
   {
    "duration": 27,
    "start_time": "2023-01-22T19:16:45.440Z"
   },
   {
    "duration": 15,
    "start_time": "2023-01-22T19:17:42.640Z"
   },
   {
    "duration": 38,
    "start_time": "2023-01-22T19:18:09.717Z"
   },
   {
    "duration": 15,
    "start_time": "2023-01-22T19:18:45.140Z"
   },
   {
    "duration": 46,
    "start_time": "2023-01-23T09:36:34.325Z"
   },
   {
    "duration": 803,
    "start_time": "2023-01-23T09:36:40.834Z"
   },
   {
    "duration": 323,
    "start_time": "2023-01-23T09:36:41.638Z"
   },
   {
    "duration": 29,
    "start_time": "2023-01-23T09:36:41.962Z"
   },
   {
    "duration": 33,
    "start_time": "2023-01-23T09:36:41.993Z"
   },
   {
    "duration": 88,
    "start_time": "2023-01-23T09:36:42.027Z"
   },
   {
    "duration": 1868,
    "start_time": "2023-01-23T09:36:42.116Z"
   },
   {
    "duration": 9,
    "start_time": "2023-01-23T09:36:43.985Z"
   },
   {
    "duration": 9,
    "start_time": "2023-01-23T09:36:43.995Z"
   },
   {
    "duration": 8,
    "start_time": "2023-01-23T09:36:44.005Z"
   },
   {
    "duration": 5,
    "start_time": "2023-01-23T09:36:44.016Z"
   },
   {
    "duration": 7,
    "start_time": "2023-01-23T09:36:44.022Z"
   },
   {
    "duration": 11,
    "start_time": "2023-01-23T09:36:44.030Z"
   },
   {
    "duration": 15,
    "start_time": "2023-01-23T09:36:44.042Z"
   },
   {
    "duration": 13,
    "start_time": "2023-01-23T09:36:44.058Z"
   },
   {
    "duration": 14,
    "start_time": "2023-01-23T09:36:44.073Z"
   },
   {
    "duration": 11,
    "start_time": "2023-01-23T09:36:44.088Z"
   },
   {
    "duration": 5,
    "start_time": "2023-01-23T09:36:44.100Z"
   },
   {
    "duration": 5,
    "start_time": "2023-01-23T09:36:44.107Z"
   },
   {
    "duration": 13,
    "start_time": "2023-01-23T09:36:44.114Z"
   },
   {
    "duration": 15,
    "start_time": "2023-01-23T09:36:44.128Z"
   },
   {
    "duration": 35,
    "start_time": "2023-01-23T09:36:44.145Z"
   },
   {
    "duration": 6,
    "start_time": "2023-01-23T09:36:44.182Z"
   },
   {
    "duration": 11,
    "start_time": "2023-01-23T09:36:44.189Z"
   },
   {
    "duration": 5,
    "start_time": "2023-01-23T09:36:44.202Z"
   },
   {
    "duration": 136,
    "start_time": "2023-01-23T09:36:44.209Z"
   },
   {
    "duration": 9,
    "start_time": "2023-01-23T09:36:44.347Z"
   },
   {
    "duration": 15,
    "start_time": "2023-01-23T09:36:44.357Z"
   },
   {
    "duration": 26,
    "start_time": "2023-01-23T09:36:44.376Z"
   },
   {
    "duration": 3,
    "start_time": "2023-01-23T09:36:44.404Z"
   },
   {
    "duration": 31,
    "start_time": "2023-01-23T09:36:44.409Z"
   },
   {
    "duration": 6,
    "start_time": "2023-01-23T09:36:44.441Z"
   },
   {
    "duration": 25,
    "start_time": "2023-01-23T09:36:44.448Z"
   },
   {
    "duration": 14,
    "start_time": "2023-01-23T09:36:44.475Z"
   },
   {
    "duration": 15,
    "start_time": "2023-01-23T09:36:44.490Z"
   },
   {
    "duration": 393,
    "start_time": "2023-01-23T09:36:44.507Z"
   },
   {
    "duration": 3,
    "start_time": "2023-01-23T09:36:44.902Z"
   },
   {
    "duration": 22,
    "start_time": "2023-01-23T09:37:07.725Z"
   },
   {
    "duration": 15,
    "start_time": "2023-01-23T09:37:37.571Z"
   },
   {
    "duration": 5,
    "start_time": "2023-01-23T09:39:28.044Z"
   },
   {
    "duration": 15,
    "start_time": "2023-01-23T09:39:32.699Z"
   },
   {
    "duration": 88,
    "start_time": "2023-01-23T09:49:16.726Z"
   },
   {
    "duration": 6,
    "start_time": "2023-01-23T09:49:27.631Z"
   },
   {
    "duration": 4,
    "start_time": "2023-01-23T09:54:18.930Z"
   },
   {
    "duration": 28,
    "start_time": "2023-01-23T09:54:30.218Z"
   },
   {
    "duration": 185,
    "start_time": "2023-01-23T10:09:02.072Z"
   },
   {
    "duration": 168,
    "start_time": "2023-01-23T10:42:34.456Z"
   },
   {
    "duration": 165,
    "start_time": "2023-01-23T10:42:47.179Z"
   },
   {
    "duration": 184,
    "start_time": "2023-01-23T10:43:09.384Z"
   },
   {
    "duration": 174,
    "start_time": "2023-01-23T10:43:17.115Z"
   },
   {
    "duration": 199,
    "start_time": "2023-01-23T10:44:37.026Z"
   },
   {
    "duration": 192,
    "start_time": "2023-01-23T10:44:46.053Z"
   },
   {
    "duration": 157,
    "start_time": "2023-01-23T10:44:54.776Z"
   },
   {
    "duration": 220,
    "start_time": "2023-01-23T10:45:10.969Z"
   },
   {
    "duration": 337,
    "start_time": "2023-01-23T10:45:29.314Z"
   },
   {
    "duration": 201,
    "start_time": "2023-01-23T10:45:42.951Z"
   },
   {
    "duration": 51,
    "start_time": "2023-01-24T03:03:33.748Z"
   },
   {
    "duration": 815,
    "start_time": "2023-01-24T03:03:44.133Z"
   },
   {
    "duration": 156,
    "start_time": "2023-01-24T03:03:44.950Z"
   },
   {
    "duration": 31,
    "start_time": "2023-01-24T03:03:45.108Z"
   },
   {
    "duration": 36,
    "start_time": "2023-01-24T03:03:45.141Z"
   },
   {
    "duration": 94,
    "start_time": "2023-01-24T03:03:45.179Z"
   },
   {
    "duration": 2066,
    "start_time": "2023-01-24T03:03:45.275Z"
   },
   {
    "duration": 11,
    "start_time": "2023-01-24T03:03:47.343Z"
   },
   {
    "duration": 8,
    "start_time": "2023-01-24T03:03:47.356Z"
   },
   {
    "duration": 10,
    "start_time": "2023-01-24T03:03:47.365Z"
   },
   {
    "duration": 6,
    "start_time": "2023-01-24T03:03:47.378Z"
   },
   {
    "duration": 8,
    "start_time": "2023-01-24T03:03:47.385Z"
   },
   {
    "duration": 6,
    "start_time": "2023-01-24T03:03:47.394Z"
   },
   {
    "duration": 46,
    "start_time": "2023-01-24T03:03:47.402Z"
   },
   {
    "duration": 4,
    "start_time": "2023-01-24T03:03:47.450Z"
   },
   {
    "duration": 17,
    "start_time": "2023-01-24T03:03:47.456Z"
   },
   {
    "duration": 9,
    "start_time": "2023-01-24T03:03:47.475Z"
   },
   {
    "duration": 8,
    "start_time": "2023-01-24T03:03:47.485Z"
   },
   {
    "duration": 8,
    "start_time": "2023-01-24T03:03:47.494Z"
   },
   {
    "duration": 10,
    "start_time": "2023-01-24T03:03:47.503Z"
   },
   {
    "duration": 36,
    "start_time": "2023-01-24T03:03:47.515Z"
   },
   {
    "duration": 21,
    "start_time": "2023-01-24T03:03:47.553Z"
   },
   {
    "duration": 7,
    "start_time": "2023-01-24T03:03:47.576Z"
   },
   {
    "duration": 11,
    "start_time": "2023-01-24T03:03:47.584Z"
   },
   {
    "duration": 7,
    "start_time": "2023-01-24T03:03:47.597Z"
   },
   {
    "duration": 152,
    "start_time": "2023-01-24T03:03:47.605Z"
   },
   {
    "duration": 11,
    "start_time": "2023-01-24T03:03:47.759Z"
   },
   {
    "duration": 9,
    "start_time": "2023-01-24T03:03:47.772Z"
   },
   {
    "duration": 28,
    "start_time": "2023-01-24T03:03:47.784Z"
   },
   {
    "duration": 5,
    "start_time": "2023-01-24T03:03:47.839Z"
   },
   {
    "duration": 20,
    "start_time": "2023-01-24T03:03:47.845Z"
   },
   {
    "duration": 5,
    "start_time": "2023-01-24T03:03:47.866Z"
   },
   {
    "duration": 15,
    "start_time": "2023-01-24T03:03:47.873Z"
   },
   {
    "duration": 18,
    "start_time": "2023-01-24T03:03:47.889Z"
   },
   {
    "duration": 39,
    "start_time": "2023-01-24T03:03:47.909Z"
   },
   {
    "duration": 430,
    "start_time": "2023-01-24T03:03:47.950Z"
   },
   {
    "duration": 4,
    "start_time": "2023-01-24T03:03:48.381Z"
   },
   {
    "duration": 200,
    "start_time": "2023-01-24T03:03:48.387Z"
   },
   {
    "duration": 186,
    "start_time": "2023-01-24T03:03:48.588Z"
   },
   {
    "duration": 297,
    "start_time": "2023-01-24T03:03:48.776Z"
   },
   {
    "duration": 238,
    "start_time": "2023-01-24T03:03:49.074Z"
   },
   {
    "duration": 206,
    "start_time": "2023-01-24T03:05:27.683Z"
   },
   {
    "duration": 214,
    "start_time": "2023-01-24T03:05:48.281Z"
   },
   {
    "duration": 259,
    "start_time": "2023-01-24T03:06:18.067Z"
   },
   {
    "duration": 265,
    "start_time": "2023-01-24T03:06:26.377Z"
   },
   {
    "duration": 390,
    "start_time": "2023-01-24T03:06:37.273Z"
   },
   {
    "duration": 162,
    "start_time": "2023-01-24T03:07:33.864Z"
   },
   {
    "duration": 141,
    "start_time": "2023-01-24T03:07:41.042Z"
   },
   {
    "duration": 157,
    "start_time": "2023-01-24T03:07:50.421Z"
   },
   {
    "duration": 146,
    "start_time": "2023-01-24T03:08:03.076Z"
   },
   {
    "duration": 182,
    "start_time": "2023-01-24T03:08:54.326Z"
   },
   {
    "duration": 242,
    "start_time": "2023-01-24T03:10:18.470Z"
   },
   {
    "duration": 17,
    "start_time": "2023-01-24T03:11:19.929Z"
   },
   {
    "duration": 4,
    "start_time": "2023-01-24T03:11:35.136Z"
   },
   {
    "duration": 116,
    "start_time": "2023-01-24T03:11:44.781Z"
   },
   {
    "duration": 122,
    "start_time": "2023-01-24T03:11:53.895Z"
   },
   {
    "duration": 123,
    "start_time": "2023-01-24T03:12:06.288Z"
   },
   {
    "duration": 251,
    "start_time": "2023-01-24T03:12:59.741Z"
   },
   {
    "duration": 4,
    "start_time": "2023-01-24T03:14:48.644Z"
   },
   {
    "duration": 15,
    "start_time": "2023-01-24T03:14:52.417Z"
   },
   {
    "duration": 175,
    "start_time": "2023-01-24T03:15:03.398Z"
   },
   {
    "duration": 139,
    "start_time": "2023-01-24T03:16:21.178Z"
   },
   {
    "duration": 4,
    "start_time": "2023-01-24T03:17:04.840Z"
   },
   {
    "duration": 154,
    "start_time": "2023-01-24T03:17:10.298Z"
   },
   {
    "duration": 167,
    "start_time": "2023-01-24T03:17:21.410Z"
   },
   {
    "duration": 159,
    "start_time": "2023-01-24T03:17:30.823Z"
   },
   {
    "duration": 141,
    "start_time": "2023-01-24T03:17:41.703Z"
   },
   {
    "duration": 251,
    "start_time": "2023-01-24T03:19:26.726Z"
   },
   {
    "duration": 136,
    "start_time": "2023-01-24T03:19:39.407Z"
   },
   {
    "duration": 138,
    "start_time": "2023-01-24T03:19:50.849Z"
   },
   {
    "duration": 205,
    "start_time": "2023-01-24T03:20:38.694Z"
   },
   {
    "duration": 222,
    "start_time": "2023-01-24T03:20:48.748Z"
   },
   {
    "duration": 163,
    "start_time": "2023-01-24T03:20:56.561Z"
   },
   {
    "duration": 133,
    "start_time": "2023-01-24T03:21:02.925Z"
   },
   {
    "duration": 149,
    "start_time": "2023-01-24T03:21:10.616Z"
   },
   {
    "duration": 166,
    "start_time": "2023-01-24T03:22:23.999Z"
   },
   {
    "duration": 144,
    "start_time": "2023-01-24T03:22:53.829Z"
   },
   {
    "duration": 144,
    "start_time": "2023-01-24T03:23:10.366Z"
   },
   {
    "duration": 250,
    "start_time": "2023-01-24T03:23:19.041Z"
   },
   {
    "duration": 147,
    "start_time": "2023-01-24T03:23:30.456Z"
   },
   {
    "duration": 144,
    "start_time": "2023-01-24T03:23:41.284Z"
   },
   {
    "duration": 129,
    "start_time": "2023-01-24T03:23:52.497Z"
   },
   {
    "duration": 161,
    "start_time": "2023-01-24T03:32:03.318Z"
   },
   {
    "duration": 127,
    "start_time": "2023-01-24T03:32:11.655Z"
   },
   {
    "duration": 143,
    "start_time": "2023-01-24T03:32:23.444Z"
   },
   {
    "duration": 167,
    "start_time": "2023-01-24T03:32:31.603Z"
   },
   {
    "duration": 201,
    "start_time": "2023-01-24T03:35:13.698Z"
   },
   {
    "duration": 887,
    "start_time": "2023-01-24T03:35:22.893Z"
   },
   {
    "duration": 302,
    "start_time": "2023-01-24T03:35:30.812Z"
   },
   {
    "duration": 314,
    "start_time": "2023-01-24T03:35:36.378Z"
   },
   {
    "duration": 935,
    "start_time": "2023-01-24T03:35:50.436Z"
   },
   {
    "duration": 852,
    "start_time": "2023-01-24T03:36:04.795Z"
   },
   {
    "duration": 1056,
    "start_time": "2023-01-24T03:36:28.378Z"
   },
   {
    "duration": 341,
    "start_time": "2023-01-24T03:36:49.702Z"
   },
   {
    "duration": 281,
    "start_time": "2023-01-24T03:40:26.040Z"
   },
   {
    "duration": 183,
    "start_time": "2023-01-24T03:40:33.311Z"
   },
   {
    "duration": 250,
    "start_time": "2023-01-24T03:40:39.804Z"
   },
   {
    "duration": 302,
    "start_time": "2023-01-24T03:40:51.978Z"
   },
   {
    "duration": 9,
    "start_time": "2023-01-24T03:41:51.935Z"
   },
   {
    "duration": 9,
    "start_time": "2023-01-24T03:42:09.877Z"
   },
   {
    "duration": 74,
    "start_time": "2023-01-24T05:04:36.410Z"
   },
   {
    "duration": 1122,
    "start_time": "2023-01-24T05:04:41.921Z"
   },
   {
    "duration": 192,
    "start_time": "2023-01-24T05:04:43.046Z"
   },
   {
    "duration": 53,
    "start_time": "2023-01-24T05:04:43.241Z"
   },
   {
    "duration": 67,
    "start_time": "2023-01-24T05:04:43.298Z"
   },
   {
    "duration": 116,
    "start_time": "2023-01-24T05:04:43.367Z"
   },
   {
    "duration": 3212,
    "start_time": "2023-01-24T05:04:43.485Z"
   },
   {
    "duration": 14,
    "start_time": "2023-01-24T05:04:46.699Z"
   },
   {
    "duration": 10,
    "start_time": "2023-01-24T05:04:46.715Z"
   },
   {
    "duration": 10,
    "start_time": "2023-01-24T05:04:46.728Z"
   },
   {
    "duration": 9,
    "start_time": "2023-01-24T05:04:46.742Z"
   },
   {
    "duration": 9,
    "start_time": "2023-01-24T05:04:46.753Z"
   },
   {
    "duration": 7,
    "start_time": "2023-01-24T05:04:46.764Z"
   },
   {
    "duration": 20,
    "start_time": "2023-01-24T05:04:46.773Z"
   },
   {
    "duration": 6,
    "start_time": "2023-01-24T05:04:46.795Z"
   },
   {
    "duration": 51,
    "start_time": "2023-01-24T05:04:46.803Z"
   },
   {
    "duration": 14,
    "start_time": "2023-01-24T05:04:46.857Z"
   },
   {
    "duration": 16,
    "start_time": "2023-01-24T05:04:46.873Z"
   },
   {
    "duration": 11,
    "start_time": "2023-01-24T05:04:46.892Z"
   },
   {
    "duration": 8,
    "start_time": "2023-01-24T05:04:46.906Z"
   },
   {
    "duration": 26,
    "start_time": "2023-01-24T05:04:46.917Z"
   },
   {
    "duration": 25,
    "start_time": "2023-01-24T05:04:46.946Z"
   },
   {
    "duration": 29,
    "start_time": "2023-01-24T05:04:46.974Z"
   },
   {
    "duration": 11,
    "start_time": "2023-01-24T05:04:47.005Z"
   },
   {
    "duration": 18,
    "start_time": "2023-01-24T05:04:47.041Z"
   },
   {
    "duration": 10,
    "start_time": "2023-01-24T05:04:47.062Z"
   },
   {
    "duration": 252,
    "start_time": "2023-01-24T05:04:47.075Z"
   },
   {
    "duration": 24,
    "start_time": "2023-01-24T05:04:47.330Z"
   },
   {
    "duration": 8,
    "start_time": "2023-01-24T05:04:47.360Z"
   },
   {
    "duration": 40,
    "start_time": "2023-01-24T05:04:47.370Z"
   },
   {
    "duration": 32,
    "start_time": "2023-01-24T05:04:47.413Z"
   },
   {
    "duration": 36,
    "start_time": "2023-01-24T05:04:47.448Z"
   },
   {
    "duration": 7,
    "start_time": "2023-01-24T05:04:47.486Z"
   },
   {
    "duration": 27,
    "start_time": "2023-01-24T05:04:47.496Z"
   },
   {
    "duration": 19,
    "start_time": "2023-01-24T05:04:47.541Z"
   },
   {
    "duration": 28,
    "start_time": "2023-01-24T05:04:47.562Z"
   },
   {
    "duration": 613,
    "start_time": "2023-01-24T05:04:47.593Z"
   },
   {
    "duration": 12,
    "start_time": "2023-01-24T05:04:48.208Z"
   },
   {
    "duration": 325,
    "start_time": "2023-01-24T05:04:48.222Z"
   },
   {
    "duration": 295,
    "start_time": "2023-01-24T05:04:48.549Z"
   },
   {
    "duration": 315,
    "start_time": "2023-01-24T05:04:48.846Z"
   },
   {
    "duration": 421,
    "start_time": "2023-01-24T05:04:49.164Z"
   },
   {
    "duration": 242,
    "start_time": "2023-01-24T05:04:49.588Z"
   },
   {
    "duration": 310,
    "start_time": "2023-01-24T05:04:49.832Z"
   },
   {
    "duration": 211,
    "start_time": "2023-01-24T05:04:50.145Z"
   },
   {
    "duration": 197,
    "start_time": "2023-01-24T05:04:50.358Z"
   },
   {
    "duration": 327,
    "start_time": "2023-01-24T05:04:50.557Z"
   },
   {
    "duration": 244,
    "start_time": "2023-01-24T05:04:50.887Z"
   },
   {
    "duration": 229,
    "start_time": "2023-01-24T05:04:51.135Z"
   },
   {
    "duration": 240,
    "start_time": "2023-01-24T05:04:51.366Z"
   },
   {
    "duration": 214,
    "start_time": "2023-01-24T05:04:51.609Z"
   },
   {
    "duration": 233,
    "start_time": "2023-01-24T05:04:51.825Z"
   },
   {
    "duration": 320,
    "start_time": "2023-01-24T05:04:52.061Z"
   },
   {
    "duration": 6,
    "start_time": "2023-01-24T05:04:52.383Z"
   },
   {
    "duration": 30,
    "start_time": "2023-01-24T05:04:52.391Z"
   },
   {
    "duration": 72,
    "start_time": "2023-01-24T05:04:52.423Z"
   },
   {
    "duration": 0,
    "start_time": "2023-01-24T05:04:52.498Z"
   },
   {
    "duration": 45,
    "start_time": "2023-01-24T05:05:07.424Z"
   },
   {
    "duration": 55,
    "start_time": "2023-01-24T05:06:47.552Z"
   },
   {
    "duration": 294,
    "start_time": "2023-01-24T05:08:18.875Z"
   },
   {
    "duration": 0,
    "start_time": "2023-01-24T05:09:26.329Z"
   },
   {
    "duration": 59,
    "start_time": "2023-01-24T05:28:03.621Z"
   },
   {
    "duration": 18,
    "start_time": "2023-01-24T05:28:48.454Z"
   },
   {
    "duration": 320,
    "start_time": "2023-01-24T05:30:40.334Z"
   },
   {
    "duration": 3395,
    "start_time": "2023-01-24T05:36:48.714Z"
   },
   {
    "duration": 22,
    "start_time": "2023-01-24T05:37:45.030Z"
   },
   {
    "duration": 2441,
    "start_time": "2023-01-24T05:38:22.076Z"
   },
   {
    "duration": 166,
    "start_time": "2023-01-24T05:40:53.106Z"
   },
   {
    "duration": 272,
    "start_time": "2023-01-24T05:42:24.580Z"
   },
   {
    "duration": 149,
    "start_time": "2023-01-24T05:47:07.153Z"
   },
   {
    "duration": 171,
    "start_time": "2023-01-24T05:49:46.807Z"
   },
   {
    "duration": 141,
    "start_time": "2023-01-24T05:50:19.663Z"
   },
   {
    "duration": 147,
    "start_time": "2023-01-24T05:50:57.784Z"
   },
   {
    "duration": 216,
    "start_time": "2023-01-24T05:51:28.871Z"
   },
   {
    "duration": 161,
    "start_time": "2023-01-24T05:52:49.481Z"
   },
   {
    "duration": 149,
    "start_time": "2023-01-24T05:54:17.247Z"
   },
   {
    "duration": 248,
    "start_time": "2023-01-24T05:54:48.868Z"
   },
   {
    "duration": 185,
    "start_time": "2023-01-24T05:56:15.964Z"
   },
   {
    "duration": 155,
    "start_time": "2023-01-24T05:56:51.517Z"
   },
   {
    "duration": 31,
    "start_time": "2023-01-24T06:04:52.755Z"
   },
   {
    "duration": 9,
    "start_time": "2023-01-24T06:05:08.586Z"
   },
   {
    "duration": 11,
    "start_time": "2023-01-24T06:05:27.154Z"
   },
   {
    "duration": 31,
    "start_time": "2023-01-24T06:21:53.833Z"
   },
   {
    "duration": 8,
    "start_time": "2023-01-24T06:22:11.561Z"
   },
   {
    "duration": 149,
    "start_time": "2023-01-24T08:56:31.561Z"
   },
   {
    "duration": 179,
    "start_time": "2023-01-24T08:57:00.577Z"
   },
   {
    "duration": 178,
    "start_time": "2023-01-24T08:57:22.117Z"
   },
   {
    "duration": 167,
    "start_time": "2023-01-24T08:57:51.963Z"
   },
   {
    "duration": 186,
    "start_time": "2023-01-24T08:58:18.707Z"
   },
   {
    "duration": 157,
    "start_time": "2023-01-24T08:59:27.714Z"
   },
   {
    "duration": 176,
    "start_time": "2023-01-24T08:59:51.156Z"
   },
   {
    "duration": 188,
    "start_time": "2023-01-24T09:00:09.588Z"
   },
   {
    "duration": 200,
    "start_time": "2023-01-24T09:00:34.589Z"
   },
   {
    "duration": 11,
    "start_time": "2023-01-24T09:03:54.303Z"
   },
   {
    "duration": 17,
    "start_time": "2023-01-24T09:14:06.251Z"
   },
   {
    "duration": 12,
    "start_time": "2023-01-24T09:14:25.092Z"
   },
   {
    "duration": 14,
    "start_time": "2023-01-24T09:46:51.823Z"
   },
   {
    "duration": 12,
    "start_time": "2023-01-24T09:47:23.439Z"
   },
   {
    "duration": 12,
    "start_time": "2023-01-24T09:47:30.348Z"
   },
   {
    "duration": 190,
    "start_time": "2023-01-24T10:16:25.253Z"
   },
   {
    "duration": 327,
    "start_time": "2023-01-24T10:16:32.123Z"
   },
   {
    "duration": 163,
    "start_time": "2023-01-24T10:16:37.499Z"
   },
   {
    "duration": 211,
    "start_time": "2023-01-24T10:16:45.364Z"
   },
   {
    "duration": 264,
    "start_time": "2023-01-24T10:17:13.984Z"
   },
   {
    "duration": 218,
    "start_time": "2023-01-24T10:23:59.851Z"
   },
   {
    "duration": 221,
    "start_time": "2023-01-24T10:29:45.081Z"
   },
   {
    "duration": 172,
    "start_time": "2023-01-24T10:29:58.450Z"
   },
   {
    "duration": 54,
    "start_time": "2023-01-24T10:46:58.336Z"
   },
   {
    "duration": 992,
    "start_time": "2023-01-24T10:47:09.708Z"
   },
   {
    "duration": 174,
    "start_time": "2023-01-24T10:47:10.703Z"
   },
   {
    "duration": 44,
    "start_time": "2023-01-24T10:47:10.879Z"
   },
   {
    "duration": 44,
    "start_time": "2023-01-24T10:47:10.925Z"
   },
   {
    "duration": 92,
    "start_time": "2023-01-24T10:47:10.971Z"
   },
   {
    "duration": 2489,
    "start_time": "2023-01-24T10:47:11.065Z"
   },
   {
    "duration": 10,
    "start_time": "2023-01-24T10:47:13.556Z"
   },
   {
    "duration": 11,
    "start_time": "2023-01-24T10:47:13.569Z"
   },
   {
    "duration": 15,
    "start_time": "2023-01-24T10:47:13.582Z"
   },
   {
    "duration": 17,
    "start_time": "2023-01-24T10:47:13.603Z"
   },
   {
    "duration": 35,
    "start_time": "2023-01-24T10:47:13.623Z"
   },
   {
    "duration": 13,
    "start_time": "2023-01-24T10:47:13.660Z"
   },
   {
    "duration": 37,
    "start_time": "2023-01-24T10:47:13.675Z"
   },
   {
    "duration": 10,
    "start_time": "2023-01-24T10:47:13.715Z"
   },
   {
    "duration": 26,
    "start_time": "2023-01-24T10:47:13.727Z"
   },
   {
    "duration": 10,
    "start_time": "2023-01-24T10:47:13.755Z"
   },
   {
    "duration": 10,
    "start_time": "2023-01-24T10:47:13.767Z"
   },
   {
    "duration": 30,
    "start_time": "2023-01-24T10:47:13.779Z"
   },
   {
    "duration": 9,
    "start_time": "2023-01-24T10:47:13.811Z"
   },
   {
    "duration": 11,
    "start_time": "2023-01-24T10:47:13.822Z"
   },
   {
    "duration": 29,
    "start_time": "2023-01-24T10:47:13.835Z"
   },
   {
    "duration": 27,
    "start_time": "2023-01-24T10:47:13.866Z"
   },
   {
    "duration": 10,
    "start_time": "2023-01-24T10:47:13.896Z"
   },
   {
    "duration": 15,
    "start_time": "2023-01-24T10:47:13.908Z"
   },
   {
    "duration": 9,
    "start_time": "2023-01-24T10:47:13.926Z"
   },
   {
    "duration": 204,
    "start_time": "2023-01-24T10:47:13.937Z"
   },
   {
    "duration": 12,
    "start_time": "2023-01-24T10:47:14.143Z"
   },
   {
    "duration": 6,
    "start_time": "2023-01-24T10:47:14.160Z"
   },
   {
    "duration": 44,
    "start_time": "2023-01-24T10:47:14.185Z"
   },
   {
    "duration": 3,
    "start_time": "2023-01-24T10:47:14.231Z"
   },
   {
    "duration": 21,
    "start_time": "2023-01-24T10:47:14.236Z"
   },
   {
    "duration": 10,
    "start_time": "2023-01-24T10:47:14.259Z"
   },
   {
    "duration": 42,
    "start_time": "2023-01-24T10:47:14.272Z"
   },
   {
    "duration": 24,
    "start_time": "2023-01-24T10:47:14.317Z"
   },
   {
    "duration": 22,
    "start_time": "2023-01-24T10:47:14.343Z"
   },
   {
    "duration": 485,
    "start_time": "2023-01-24T10:47:14.367Z"
   },
   {
    "duration": 5,
    "start_time": "2023-01-24T10:47:14.854Z"
   },
   {
    "duration": 283,
    "start_time": "2023-01-24T10:47:14.861Z"
   },
   {
    "duration": 220,
    "start_time": "2023-01-24T10:47:15.146Z"
   },
   {
    "duration": 263,
    "start_time": "2023-01-24T10:47:15.368Z"
   },
   {
    "duration": 324,
    "start_time": "2023-01-24T10:47:15.633Z"
   },
   {
    "duration": 164,
    "start_time": "2023-01-24T10:47:15.959Z"
   },
   {
    "duration": 207,
    "start_time": "2023-01-24T10:47:16.125Z"
   },
   {
    "duration": 181,
    "start_time": "2023-01-24T10:47:16.334Z"
   },
   {
    "duration": 158,
    "start_time": "2023-01-24T10:47:16.517Z"
   },
   {
    "duration": 285,
    "start_time": "2023-01-24T10:47:16.677Z"
   },
   {
    "duration": 173,
    "start_time": "2023-01-24T10:47:16.964Z"
   },
   {
    "duration": 162,
    "start_time": "2023-01-24T10:47:17.139Z"
   },
   {
    "duration": 180,
    "start_time": "2023-01-24T10:47:17.303Z"
   },
   {
    "duration": 169,
    "start_time": "2023-01-24T10:47:17.486Z"
   },
   {
    "duration": 185,
    "start_time": "2023-01-24T10:47:17.657Z"
   },
   {
    "duration": 223,
    "start_time": "2023-01-24T10:47:17.844Z"
   },
   {
    "duration": 18,
    "start_time": "2023-01-24T10:47:18.069Z"
   },
   {
    "duration": 24,
    "start_time": "2023-01-24T10:47:18.089Z"
   },
   {
    "duration": 56,
    "start_time": "2023-01-24T10:47:18.115Z"
   },
   {
    "duration": 202,
    "start_time": "2023-01-24T10:47:18.173Z"
   },
   {
    "duration": 176,
    "start_time": "2023-01-24T10:47:18.377Z"
   },
   {
    "duration": 195,
    "start_time": "2023-01-24T10:47:18.554Z"
   },
   {
    "duration": 182,
    "start_time": "2023-01-24T10:47:18.751Z"
   },
   {
    "duration": 304,
    "start_time": "2023-01-24T10:47:18.934Z"
   },
   {
    "duration": 173,
    "start_time": "2023-01-24T10:47:19.240Z"
   },
   {
    "duration": 192,
    "start_time": "2023-01-24T10:47:19.415Z"
   },
   {
    "duration": 232,
    "start_time": "2023-01-24T10:47:19.608Z"
   },
   {
    "duration": 247,
    "start_time": "2023-01-24T10:47:19.843Z"
   },
   {
    "duration": 14,
    "start_time": "2023-01-24T10:47:20.093Z"
   },
   {
    "duration": 51,
    "start_time": "2023-01-24T10:47:20.110Z"
   },
   {
    "duration": 75,
    "start_time": "2023-01-24T10:47:20.163Z"
   },
   {
    "duration": 154,
    "start_time": "2023-01-24T11:02:33.845Z"
   },
   {
    "duration": 164,
    "start_time": "2023-01-24T11:02:46.168Z"
   },
   {
    "duration": 161,
    "start_time": "2023-01-24T11:03:00.701Z"
   },
   {
    "duration": 312,
    "start_time": "2023-01-24T11:03:04.303Z"
   },
   {
    "duration": 524,
    "start_time": "2023-01-24T11:03:29.490Z"
   },
   {
    "duration": 288,
    "start_time": "2023-01-24T11:03:42.213Z"
   },
   {
    "duration": 162,
    "start_time": "2023-01-24T11:03:45.006Z"
   },
   {
    "duration": 166,
    "start_time": "2023-01-24T11:03:50.341Z"
   },
   {
    "duration": 180,
    "start_time": "2023-01-24T11:03:56.116Z"
   },
   {
    "duration": 64,
    "start_time": "2023-01-24T17:11:18.289Z"
   },
   {
    "duration": 910,
    "start_time": "2023-01-24T17:11:29.274Z"
   },
   {
    "duration": 146,
    "start_time": "2023-01-24T17:11:30.186Z"
   },
   {
    "duration": 32,
    "start_time": "2023-01-24T17:11:30.334Z"
   },
   {
    "duration": 39,
    "start_time": "2023-01-24T17:11:30.368Z"
   },
   {
    "duration": 77,
    "start_time": "2023-01-24T17:11:30.409Z"
   },
   {
    "duration": 2085,
    "start_time": "2023-01-24T17:11:30.488Z"
   },
   {
    "duration": 9,
    "start_time": "2023-01-24T17:11:32.575Z"
   },
   {
    "duration": 14,
    "start_time": "2023-01-24T17:11:32.585Z"
   },
   {
    "duration": 17,
    "start_time": "2023-01-24T17:11:32.601Z"
   },
   {
    "duration": 12,
    "start_time": "2023-01-24T17:11:32.622Z"
   },
   {
    "duration": 10,
    "start_time": "2023-01-24T17:11:32.636Z"
   },
   {
    "duration": 16,
    "start_time": "2023-01-24T17:11:32.648Z"
   },
   {
    "duration": 24,
    "start_time": "2023-01-24T17:11:32.665Z"
   },
   {
    "duration": 5,
    "start_time": "2023-01-24T17:11:32.690Z"
   },
   {
    "duration": 24,
    "start_time": "2023-01-24T17:11:32.697Z"
   },
   {
    "duration": 21,
    "start_time": "2023-01-24T17:11:32.723Z"
   },
   {
    "duration": 12,
    "start_time": "2023-01-24T17:11:32.745Z"
   },
   {
    "duration": 8,
    "start_time": "2023-01-24T17:11:32.759Z"
   },
   {
    "duration": 7,
    "start_time": "2023-01-24T17:11:32.768Z"
   },
   {
    "duration": 6,
    "start_time": "2023-01-24T17:11:32.777Z"
   },
   {
    "duration": 15,
    "start_time": "2023-01-24T17:11:32.784Z"
   },
   {
    "duration": 25,
    "start_time": "2023-01-24T17:11:32.801Z"
   },
   {
    "duration": 9,
    "start_time": "2023-01-24T17:11:32.828Z"
   },
   {
    "duration": 20,
    "start_time": "2023-01-24T17:11:32.839Z"
   },
   {
    "duration": 15,
    "start_time": "2023-01-24T17:11:32.860Z"
   },
   {
    "duration": 181,
    "start_time": "2023-01-24T17:11:32.877Z"
   },
   {
    "duration": 10,
    "start_time": "2023-01-24T17:11:33.060Z"
   },
   {
    "duration": 7,
    "start_time": "2023-01-24T17:11:33.075Z"
   },
   {
    "duration": 48,
    "start_time": "2023-01-24T17:11:33.083Z"
   },
   {
    "duration": 4,
    "start_time": "2023-01-24T17:11:33.133Z"
   },
   {
    "duration": 26,
    "start_time": "2023-01-24T17:11:33.139Z"
   },
   {
    "duration": 6,
    "start_time": "2023-01-24T17:11:33.166Z"
   },
   {
    "duration": 36,
    "start_time": "2023-01-24T17:11:33.174Z"
   },
   {
    "duration": 21,
    "start_time": "2023-01-24T17:11:33.212Z"
   },
   {
    "duration": 44,
    "start_time": "2023-01-24T17:11:33.235Z"
   },
   {
    "duration": 392,
    "start_time": "2023-01-24T17:11:33.281Z"
   },
   {
    "duration": 5,
    "start_time": "2023-01-24T17:11:33.674Z"
   },
   {
    "duration": 255,
    "start_time": "2023-01-24T17:11:33.680Z"
   },
   {
    "duration": 236,
    "start_time": "2023-01-24T17:11:33.937Z"
   },
   {
    "duration": 265,
    "start_time": "2023-01-24T17:11:34.178Z"
   },
   {
    "duration": 294,
    "start_time": "2023-01-24T17:11:34.445Z"
   },
   {
    "duration": 156,
    "start_time": "2023-01-24T17:11:34.741Z"
   },
   {
    "duration": 204,
    "start_time": "2023-01-24T17:11:34.899Z"
   },
   {
    "duration": 179,
    "start_time": "2023-01-24T17:11:35.105Z"
   },
   {
    "duration": 242,
    "start_time": "2023-01-24T17:11:35.286Z"
   },
   {
    "duration": 161,
    "start_time": "2023-01-24T17:11:35.530Z"
   },
   {
    "duration": 162,
    "start_time": "2023-01-24T17:11:35.692Z"
   },
   {
    "duration": 149,
    "start_time": "2023-01-24T17:11:35.856Z"
   },
   {
    "duration": 157,
    "start_time": "2023-01-24T17:11:36.007Z"
   },
   {
    "duration": 167,
    "start_time": "2023-01-24T17:11:36.166Z"
   },
   {
    "duration": 161,
    "start_time": "2023-01-24T17:11:36.335Z"
   },
   {
    "duration": 161,
    "start_time": "2023-01-24T17:11:36.497Z"
   },
   {
    "duration": 204,
    "start_time": "2023-01-24T17:11:36.660Z"
   },
   {
    "duration": 4,
    "start_time": "2023-01-24T17:11:36.866Z"
   },
   {
    "duration": 36,
    "start_time": "2023-01-24T17:11:36.872Z"
   },
   {
    "duration": 83,
    "start_time": "2023-01-24T17:11:36.910Z"
   },
   {
    "duration": 184,
    "start_time": "2023-01-24T17:11:36.995Z"
   },
   {
    "duration": 196,
    "start_time": "2023-01-24T17:11:37.181Z"
   },
   {
    "duration": 174,
    "start_time": "2023-01-24T17:11:37.380Z"
   },
   {
    "duration": 267,
    "start_time": "2023-01-24T17:11:37.555Z"
   },
   {
    "duration": 185,
    "start_time": "2023-01-24T17:11:37.824Z"
   },
   {
    "duration": 171,
    "start_time": "2023-01-24T17:11:38.011Z"
   },
   {
    "duration": 170,
    "start_time": "2023-01-24T17:11:38.184Z"
   },
   {
    "duration": 160,
    "start_time": "2023-01-24T17:11:38.356Z"
   },
   {
    "duration": 7,
    "start_time": "2023-01-24T17:11:38.518Z"
   },
   {
    "duration": 61,
    "start_time": "2023-01-24T17:11:38.526Z"
   },
   {
    "duration": 65,
    "start_time": "2023-01-24T17:11:38.588Z"
   },
   {
    "duration": 142,
    "start_time": "2023-01-24T17:12:08.480Z"
   },
   {
    "duration": 18,
    "start_time": "2023-01-24T17:17:25.790Z"
   },
   {
    "duration": 104,
    "start_time": "2023-01-24T17:18:23.860Z"
   },
   {
    "duration": 18,
    "start_time": "2023-01-24T17:18:59.722Z"
   },
   {
    "duration": 18,
    "start_time": "2023-01-24T17:19:18.887Z"
   },
   {
    "duration": 20,
    "start_time": "2023-01-24T17:20:08.494Z"
   },
   {
    "duration": 17,
    "start_time": "2023-01-24T17:20:46.694Z"
   },
   {
    "duration": 17,
    "start_time": "2023-01-24T17:21:20.155Z"
   },
   {
    "duration": 22,
    "start_time": "2023-01-24T17:21:27.223Z"
   },
   {
    "duration": 20,
    "start_time": "2023-01-24T17:22:30.875Z"
   },
   {
    "duration": 18,
    "start_time": "2023-01-24T17:22:51.320Z"
   },
   {
    "duration": 28,
    "start_time": "2023-01-24T17:23:05.839Z"
   },
   {
    "duration": 20,
    "start_time": "2023-01-24T17:23:19.118Z"
   },
   {
    "duration": 145,
    "start_time": "2023-01-24T18:25:46.709Z"
   },
   {
    "duration": 140,
    "start_time": "2023-01-24T18:26:11.203Z"
   },
   {
    "duration": 23,
    "start_time": "2023-01-24T18:33:12.763Z"
   },
   {
    "duration": 25,
    "start_time": "2023-01-24T18:43:01.229Z"
   },
   {
    "duration": 19,
    "start_time": "2023-01-24T18:43:12.523Z"
   },
   {
    "duration": 24,
    "start_time": "2023-01-24T18:43:23.798Z"
   },
   {
    "duration": 26,
    "start_time": "2023-01-24T18:43:29.835Z"
   },
   {
    "duration": 30,
    "start_time": "2023-01-24T18:43:46.212Z"
   },
   {
    "duration": 24,
    "start_time": "2023-01-24T18:44:13.422Z"
   },
   {
    "duration": 216,
    "start_time": "2023-01-24T18:59:28.094Z"
   },
   {
    "duration": 44,
    "start_time": "2023-01-25T06:02:17.829Z"
   },
   {
    "duration": 764,
    "start_time": "2023-01-25T06:02:23.242Z"
   },
   {
    "duration": 329,
    "start_time": "2023-01-25T06:02:24.009Z"
   },
   {
    "duration": 30,
    "start_time": "2023-01-25T06:02:24.340Z"
   },
   {
    "duration": 35,
    "start_time": "2023-01-25T06:02:24.372Z"
   },
   {
    "duration": 89,
    "start_time": "2023-01-25T06:02:24.408Z"
   },
   {
    "duration": 2048,
    "start_time": "2023-01-25T06:02:24.499Z"
   },
   {
    "duration": 12,
    "start_time": "2023-01-25T06:02:26.549Z"
   },
   {
    "duration": 15,
    "start_time": "2023-01-25T06:02:26.563Z"
   },
   {
    "duration": 20,
    "start_time": "2023-01-25T06:02:26.580Z"
   },
   {
    "duration": 6,
    "start_time": "2023-01-25T06:02:26.604Z"
   },
   {
    "duration": 32,
    "start_time": "2023-01-25T06:02:26.611Z"
   },
   {
    "duration": 6,
    "start_time": "2023-01-25T06:02:26.645Z"
   },
   {
    "duration": 14,
    "start_time": "2023-01-25T06:02:26.653Z"
   },
   {
    "duration": 4,
    "start_time": "2023-01-25T06:02:26.669Z"
   },
   {
    "duration": 19,
    "start_time": "2023-01-25T06:02:26.675Z"
   },
   {
    "duration": 18,
    "start_time": "2023-01-25T06:02:26.696Z"
   },
   {
    "duration": 9,
    "start_time": "2023-01-25T06:02:26.716Z"
   },
   {
    "duration": 28,
    "start_time": "2023-01-25T06:02:26.727Z"
   },
   {
    "duration": 11,
    "start_time": "2023-01-25T06:02:26.757Z"
   },
   {
    "duration": 13,
    "start_time": "2023-01-25T06:02:26.770Z"
   },
   {
    "duration": 15,
    "start_time": "2023-01-25T06:02:26.785Z"
   },
   {
    "duration": 35,
    "start_time": "2023-01-25T06:02:26.802Z"
   },
   {
    "duration": 8,
    "start_time": "2023-01-25T06:02:26.839Z"
   },
   {
    "duration": 21,
    "start_time": "2023-01-25T06:02:26.848Z"
   },
   {
    "duration": 7,
    "start_time": "2023-01-25T06:02:26.871Z"
   },
   {
    "duration": 223,
    "start_time": "2023-01-25T06:02:26.880Z"
   },
   {
    "duration": 13,
    "start_time": "2023-01-25T06:02:27.105Z"
   },
   {
    "duration": 7,
    "start_time": "2023-01-25T06:02:27.123Z"
   },
   {
    "duration": 39,
    "start_time": "2023-01-25T06:02:27.148Z"
   },
   {
    "duration": 4,
    "start_time": "2023-01-25T06:02:27.189Z"
   },
   {
    "duration": 25,
    "start_time": "2023-01-25T06:02:27.195Z"
   },
   {
    "duration": 27,
    "start_time": "2023-01-25T06:02:27.221Z"
   },
   {
    "duration": 23,
    "start_time": "2023-01-25T06:02:27.250Z"
   },
   {
    "duration": 12,
    "start_time": "2023-01-25T06:02:27.274Z"
   },
   {
    "duration": 18,
    "start_time": "2023-01-25T06:02:27.288Z"
   },
   {
    "duration": 396,
    "start_time": "2023-01-25T06:02:27.308Z"
   },
   {
    "duration": 4,
    "start_time": "2023-01-25T06:02:27.706Z"
   },
   {
    "duration": 225,
    "start_time": "2023-01-25T06:02:27.711Z"
   },
   {
    "duration": 169,
    "start_time": "2023-01-25T06:02:27.938Z"
   },
   {
    "duration": 200,
    "start_time": "2023-01-25T06:02:28.111Z"
   },
   {
    "duration": 262,
    "start_time": "2023-01-25T06:02:28.313Z"
   },
   {
    "duration": 132,
    "start_time": "2023-01-25T06:02:28.576Z"
   },
   {
    "duration": 167,
    "start_time": "2023-01-25T06:02:28.710Z"
   },
   {
    "duration": 768,
    "start_time": "2023-01-25T06:02:28.879Z"
   },
   {
    "duration": 119,
    "start_time": "2023-01-25T06:02:29.649Z"
   },
   {
    "duration": 230,
    "start_time": "2023-01-25T06:02:29.769Z"
   },
   {
    "duration": 150,
    "start_time": "2023-01-25T06:02:30.001Z"
   },
   {
    "duration": 136,
    "start_time": "2023-01-25T06:02:30.153Z"
   },
   {
    "duration": 141,
    "start_time": "2023-01-25T06:02:30.291Z"
   },
   {
    "duration": 130,
    "start_time": "2023-01-25T06:02:30.434Z"
   },
   {
    "duration": 137,
    "start_time": "2023-01-25T06:02:30.566Z"
   },
   {
    "duration": 140,
    "start_time": "2023-01-25T06:02:30.704Z"
   },
   {
    "duration": 188,
    "start_time": "2023-01-25T06:02:30.848Z"
   },
   {
    "duration": 10,
    "start_time": "2023-01-25T06:02:31.038Z"
   },
   {
    "duration": 36,
    "start_time": "2023-01-25T06:02:31.050Z"
   },
   {
    "duration": 71,
    "start_time": "2023-01-25T06:02:31.088Z"
   },
   {
    "duration": 183,
    "start_time": "2023-01-25T06:02:31.160Z"
   },
   {
    "duration": 147,
    "start_time": "2023-01-25T06:02:31.347Z"
   },
   {
    "duration": 145,
    "start_time": "2023-01-25T06:02:31.495Z"
   },
   {
    "duration": 142,
    "start_time": "2023-01-25T06:02:31.641Z"
   },
   {
    "duration": 214,
    "start_time": "2023-01-25T06:02:31.785Z"
   },
   {
    "duration": 152,
    "start_time": "2023-01-25T06:02:32.001Z"
   },
   {
    "duration": 151,
    "start_time": "2023-01-25T06:02:32.155Z"
   },
   {
    "duration": 157,
    "start_time": "2023-01-25T06:02:32.308Z"
   },
   {
    "duration": 20,
    "start_time": "2023-01-25T06:02:32.467Z"
   },
   {
    "duration": 168,
    "start_time": "2023-01-25T06:02:32.488Z"
   },
   {
    "duration": 11,
    "start_time": "2023-01-25T06:25:09.520Z"
   },
   {
    "duration": 18,
    "start_time": "2023-01-25T06:25:23.308Z"
   },
   {
    "duration": 65,
    "start_time": "2023-01-25T06:31:27.348Z"
   },
   {
    "duration": 15,
    "start_time": "2023-01-25T06:31:51.652Z"
   },
   {
    "duration": 27,
    "start_time": "2023-01-25T06:32:19.221Z"
   },
   {
    "duration": 21,
    "start_time": "2023-01-25T06:37:49.411Z"
   },
   {
    "duration": 256,
    "start_time": "2023-01-25T06:39:07.252Z"
   },
   {
    "duration": 14,
    "start_time": "2023-01-25T06:39:26.229Z"
   },
   {
    "duration": 265,
    "start_time": "2023-01-25T06:39:34.885Z"
   },
   {
    "duration": 589,
    "start_time": "2023-01-25T07:35:36.074Z"
   },
   {
    "duration": 90,
    "start_time": "2023-01-25T07:35:36.665Z"
   },
   {
    "duration": 27,
    "start_time": "2023-01-25T07:35:36.757Z"
   },
   {
    "duration": 31,
    "start_time": "2023-01-25T07:35:36.786Z"
   },
   {
    "duration": 93,
    "start_time": "2023-01-25T07:35:36.818Z"
   },
   {
    "duration": 1826,
    "start_time": "2023-01-25T07:35:36.913Z"
   },
   {
    "duration": 8,
    "start_time": "2023-01-25T07:35:38.740Z"
   },
   {
    "duration": 28,
    "start_time": "2023-01-25T07:35:38.750Z"
   },
   {
    "duration": 31,
    "start_time": "2023-01-25T07:35:38.779Z"
   },
   {
    "duration": 13,
    "start_time": "2023-01-25T07:35:38.812Z"
   },
   {
    "duration": 27,
    "start_time": "2023-01-25T07:35:38.826Z"
   },
   {
    "duration": 23,
    "start_time": "2023-01-25T07:35:38.855Z"
   },
   {
    "duration": 15,
    "start_time": "2023-01-25T07:35:38.880Z"
   },
   {
    "duration": 15,
    "start_time": "2023-01-25T07:35:38.897Z"
   },
   {
    "duration": 25,
    "start_time": "2023-01-25T07:35:38.913Z"
   },
   {
    "duration": 11,
    "start_time": "2023-01-25T07:35:38.940Z"
   },
   {
    "duration": 6,
    "start_time": "2023-01-25T07:35:38.952Z"
   },
   {
    "duration": 8,
    "start_time": "2023-01-25T07:35:38.960Z"
   },
   {
    "duration": 11,
    "start_time": "2023-01-25T07:35:38.969Z"
   },
   {
    "duration": 10,
    "start_time": "2023-01-25T07:35:38.982Z"
   },
   {
    "duration": 21,
    "start_time": "2023-01-25T07:35:38.994Z"
   },
   {
    "duration": 18,
    "start_time": "2023-01-25T07:35:39.017Z"
   },
   {
    "duration": 13,
    "start_time": "2023-01-25T07:35:39.036Z"
   },
   {
    "duration": 11,
    "start_time": "2023-01-25T07:35:39.051Z"
   },
   {
    "duration": 7,
    "start_time": "2023-01-25T07:35:39.064Z"
   },
   {
    "duration": 144,
    "start_time": "2023-01-25T07:35:39.073Z"
   },
   {
    "duration": 9,
    "start_time": "2023-01-25T07:35:39.219Z"
   },
   {
    "duration": 17,
    "start_time": "2023-01-25T07:35:39.231Z"
   },
   {
    "duration": 24,
    "start_time": "2023-01-25T07:35:39.249Z"
   },
   {
    "duration": 3,
    "start_time": "2023-01-25T07:35:39.275Z"
   },
   {
    "duration": 29,
    "start_time": "2023-01-25T07:35:39.279Z"
   },
   {
    "duration": 6,
    "start_time": "2023-01-25T07:35:39.310Z"
   },
   {
    "duration": 15,
    "start_time": "2023-01-25T07:35:39.317Z"
   },
   {
    "duration": 20,
    "start_time": "2023-01-25T07:35:39.333Z"
   },
   {
    "duration": 12,
    "start_time": "2023-01-25T07:35:39.354Z"
   },
   {
    "duration": 367,
    "start_time": "2023-01-25T07:35:39.367Z"
   },
   {
    "duration": 4,
    "start_time": "2023-01-25T07:35:39.736Z"
   },
   {
    "duration": 225,
    "start_time": "2023-01-25T07:35:39.747Z"
   },
   {
    "duration": 176,
    "start_time": "2023-01-25T07:35:39.974Z"
   },
   {
    "duration": 189,
    "start_time": "2023-01-25T07:35:40.151Z"
   },
   {
    "duration": 257,
    "start_time": "2023-01-25T07:35:40.342Z"
   },
   {
    "duration": 134,
    "start_time": "2023-01-25T07:35:40.601Z"
   },
   {
    "duration": 182,
    "start_time": "2023-01-25T07:35:40.736Z"
   },
   {
    "duration": 133,
    "start_time": "2023-01-25T07:35:40.919Z"
   },
   {
    "duration": 120,
    "start_time": "2023-01-25T07:35:41.054Z"
   },
   {
    "duration": 221,
    "start_time": "2023-01-25T07:35:41.176Z"
   },
   {
    "duration": 136,
    "start_time": "2023-01-25T07:35:41.398Z"
   },
   {
    "duration": 139,
    "start_time": "2023-01-25T07:35:41.536Z"
   },
   {
    "duration": 145,
    "start_time": "2023-01-25T07:35:41.677Z"
   },
   {
    "duration": 138,
    "start_time": "2023-01-25T07:35:41.823Z"
   },
   {
    "duration": 149,
    "start_time": "2023-01-25T07:35:41.963Z"
   },
   {
    "duration": 166,
    "start_time": "2023-01-25T07:35:42.114Z"
   },
   {
    "duration": 194,
    "start_time": "2023-01-25T07:35:42.281Z"
   },
   {
    "duration": 4,
    "start_time": "2023-01-25T07:35:42.477Z"
   },
   {
    "duration": 9,
    "start_time": "2023-01-25T07:35:42.483Z"
   },
   {
    "duration": 54,
    "start_time": "2023-01-25T07:35:42.494Z"
   },
   {
    "duration": 153,
    "start_time": "2023-01-25T07:35:42.550Z"
   },
   {
    "duration": 170,
    "start_time": "2023-01-25T07:35:42.704Z"
   },
   {
    "duration": 149,
    "start_time": "2023-01-25T07:35:42.876Z"
   },
   {
    "duration": 152,
    "start_time": "2023-01-25T07:35:43.027Z"
   },
   {
    "duration": 225,
    "start_time": "2023-01-25T07:35:43.180Z"
   },
   {
    "duration": 169,
    "start_time": "2023-01-25T07:35:43.407Z"
   },
   {
    "duration": 157,
    "start_time": "2023-01-25T07:35:43.577Z"
   },
   {
    "duration": 157,
    "start_time": "2023-01-25T07:35:43.736Z"
   },
   {
    "duration": 23,
    "start_time": "2023-01-25T07:35:43.895Z"
   },
   {
    "duration": 168,
    "start_time": "2023-01-25T07:35:43.920Z"
   },
   {
    "duration": 882,
    "start_time": "2023-01-25T08:02:24.780Z"
   },
   {
    "duration": 351,
    "start_time": "2023-01-25T08:02:25.665Z"
   },
   {
    "duration": 35,
    "start_time": "2023-01-25T08:02:26.018Z"
   },
   {
    "duration": 42,
    "start_time": "2023-01-25T08:02:26.056Z"
   },
   {
    "duration": 101,
    "start_time": "2023-01-25T08:02:26.100Z"
   },
   {
    "duration": 2239,
    "start_time": "2023-01-25T08:02:26.204Z"
   },
   {
    "duration": 10,
    "start_time": "2023-01-25T08:02:28.445Z"
   },
   {
    "duration": 30,
    "start_time": "2023-01-25T08:02:28.456Z"
   },
   {
    "duration": 15,
    "start_time": "2023-01-25T08:02:28.489Z"
   },
   {
    "duration": 15,
    "start_time": "2023-01-25T08:02:28.508Z"
   },
   {
    "duration": 25,
    "start_time": "2023-01-25T08:02:28.524Z"
   },
   {
    "duration": 14,
    "start_time": "2023-01-25T08:02:28.551Z"
   },
   {
    "duration": 20,
    "start_time": "2023-01-25T08:02:28.568Z"
   },
   {
    "duration": 16,
    "start_time": "2023-01-25T08:02:28.590Z"
   },
   {
    "duration": 28,
    "start_time": "2023-01-25T08:02:28.608Z"
   },
   {
    "duration": 43,
    "start_time": "2023-01-25T08:02:28.637Z"
   },
   {
    "duration": 45,
    "start_time": "2023-01-25T08:02:28.681Z"
   },
   {
    "duration": 35,
    "start_time": "2023-01-25T08:02:28.728Z"
   },
   {
    "duration": 37,
    "start_time": "2023-01-25T08:02:28.765Z"
   },
   {
    "duration": 22,
    "start_time": "2023-01-25T08:02:28.804Z"
   },
   {
    "duration": 41,
    "start_time": "2023-01-25T08:02:28.828Z"
   },
   {
    "duration": 35,
    "start_time": "2023-01-25T08:02:28.872Z"
   },
   {
    "duration": 19,
    "start_time": "2023-01-25T08:02:28.909Z"
   },
   {
    "duration": 20,
    "start_time": "2023-01-25T08:02:28.930Z"
   },
   {
    "duration": 19,
    "start_time": "2023-01-25T08:02:28.952Z"
   },
   {
    "duration": 159,
    "start_time": "2023-01-25T08:02:28.974Z"
   },
   {
    "duration": 11,
    "start_time": "2023-01-25T08:02:29.135Z"
   },
   {
    "duration": 12,
    "start_time": "2023-01-25T08:02:29.150Z"
   },
   {
    "duration": 30,
    "start_time": "2023-01-25T08:02:29.164Z"
   },
   {
    "duration": 19,
    "start_time": "2023-01-25T08:02:29.196Z"
   },
   {
    "duration": 41,
    "start_time": "2023-01-25T08:02:29.217Z"
   },
   {
    "duration": 24,
    "start_time": "2023-01-25T08:02:29.260Z"
   },
   {
    "duration": 26,
    "start_time": "2023-01-25T08:02:29.286Z"
   },
   {
    "duration": 30,
    "start_time": "2023-01-25T08:02:29.313Z"
   },
   {
    "duration": 26,
    "start_time": "2023-01-25T08:02:29.345Z"
   },
   {
    "duration": 503,
    "start_time": "2023-01-25T08:02:29.373Z"
   },
   {
    "duration": 5,
    "start_time": "2023-01-25T08:02:29.878Z"
   },
   {
    "duration": 256,
    "start_time": "2023-01-25T08:02:29.885Z"
   },
   {
    "duration": 202,
    "start_time": "2023-01-25T08:02:30.144Z"
   },
   {
    "duration": 233,
    "start_time": "2023-01-25T08:02:30.348Z"
   },
   {
    "duration": 297,
    "start_time": "2023-01-25T08:02:30.583Z"
   },
   {
    "duration": 149,
    "start_time": "2023-01-25T08:02:30.881Z"
   },
   {
    "duration": 191,
    "start_time": "2023-01-25T08:02:31.038Z"
   },
   {
    "duration": 151,
    "start_time": "2023-01-25T08:02:31.237Z"
   },
   {
    "duration": 142,
    "start_time": "2023-01-25T08:02:31.390Z"
   },
   {
    "duration": 257,
    "start_time": "2023-01-25T08:02:31.534Z"
   },
   {
    "duration": 163,
    "start_time": "2023-01-25T08:02:31.793Z"
   },
   {
    "duration": 153,
    "start_time": "2023-01-25T08:02:31.958Z"
   },
   {
    "duration": 168,
    "start_time": "2023-01-25T08:02:32.113Z"
   },
   {
    "duration": 178,
    "start_time": "2023-01-25T08:02:32.283Z"
   },
   {
    "duration": 237,
    "start_time": "2023-01-25T08:02:32.464Z"
   },
   {
    "duration": 172,
    "start_time": "2023-01-25T08:02:32.703Z"
   },
   {
    "duration": 207,
    "start_time": "2023-01-25T08:02:32.877Z"
   },
   {
    "duration": 5,
    "start_time": "2023-01-25T08:02:33.086Z"
   },
   {
    "duration": 30,
    "start_time": "2023-01-25T08:02:33.093Z"
   },
   {
    "duration": 71,
    "start_time": "2023-01-25T08:02:33.125Z"
   },
   {
    "duration": 164,
    "start_time": "2023-01-25T08:02:33.198Z"
   },
   {
    "duration": 201,
    "start_time": "2023-01-25T08:02:33.363Z"
   },
   {
    "duration": 161,
    "start_time": "2023-01-25T08:02:33.566Z"
   },
   {
    "duration": 168,
    "start_time": "2023-01-25T08:02:33.729Z"
   },
   {
    "duration": 257,
    "start_time": "2023-01-25T08:02:33.899Z"
   },
   {
    "duration": 187,
    "start_time": "2023-01-25T08:02:34.158Z"
   },
   {
    "duration": 208,
    "start_time": "2023-01-25T08:02:34.347Z"
   },
   {
    "duration": 174,
    "start_time": "2023-01-25T08:02:34.556Z"
   },
   {
    "duration": 35,
    "start_time": "2023-01-25T08:02:34.738Z"
   },
   {
    "duration": 193,
    "start_time": "2023-01-25T08:02:34.775Z"
   },
   {
    "duration": 719,
    "start_time": "2023-01-25T08:20:05.740Z"
   },
   {
    "duration": 102,
    "start_time": "2023-01-25T08:20:06.460Z"
   },
   {
    "duration": 31,
    "start_time": "2023-01-25T08:20:06.564Z"
   },
   {
    "duration": 48,
    "start_time": "2023-01-25T08:20:06.597Z"
   },
   {
    "duration": 92,
    "start_time": "2023-01-25T08:20:06.647Z"
   },
   {
    "duration": 2288,
    "start_time": "2023-01-25T08:20:06.740Z"
   },
   {
    "duration": 9,
    "start_time": "2023-01-25T08:20:09.030Z"
   },
   {
    "duration": 21,
    "start_time": "2023-01-25T08:20:09.041Z"
   },
   {
    "duration": 24,
    "start_time": "2023-01-25T08:20:09.064Z"
   },
   {
    "duration": 37,
    "start_time": "2023-01-25T08:20:09.091Z"
   },
   {
    "duration": 20,
    "start_time": "2023-01-25T08:20:09.130Z"
   },
   {
    "duration": 12,
    "start_time": "2023-01-25T08:20:09.152Z"
   },
   {
    "duration": 33,
    "start_time": "2023-01-25T08:20:09.166Z"
   },
   {
    "duration": 6,
    "start_time": "2023-01-25T08:20:09.202Z"
   },
   {
    "duration": 22,
    "start_time": "2023-01-25T08:20:09.210Z"
   },
   {
    "duration": 14,
    "start_time": "2023-01-25T08:20:09.234Z"
   },
   {
    "duration": 16,
    "start_time": "2023-01-25T08:20:09.250Z"
   },
   {
    "duration": 19,
    "start_time": "2023-01-25T08:20:09.269Z"
   },
   {
    "duration": 25,
    "start_time": "2023-01-25T08:20:09.291Z"
   },
   {
    "duration": 17,
    "start_time": "2023-01-25T08:20:09.319Z"
   },
   {
    "duration": 41,
    "start_time": "2023-01-25T08:20:09.338Z"
   },
   {
    "duration": 38,
    "start_time": "2023-01-25T08:20:09.380Z"
   },
   {
    "duration": 11,
    "start_time": "2023-01-25T08:20:09.421Z"
   },
   {
    "duration": 21,
    "start_time": "2023-01-25T08:20:09.435Z"
   },
   {
    "duration": 19,
    "start_time": "2023-01-25T08:20:09.458Z"
   },
   {
    "duration": 154,
    "start_time": "2023-01-25T08:20:09.480Z"
   },
   {
    "duration": 11,
    "start_time": "2023-01-25T08:20:09.638Z"
   },
   {
    "duration": 11,
    "start_time": "2023-01-25T08:20:09.656Z"
   },
   {
    "duration": 34,
    "start_time": "2023-01-25T08:20:09.670Z"
   },
   {
    "duration": 4,
    "start_time": "2023-01-25T08:20:09.706Z"
   },
   {
    "duration": 38,
    "start_time": "2023-01-25T08:20:09.712Z"
   },
   {
    "duration": 5,
    "start_time": "2023-01-25T08:20:09.752Z"
   },
   {
    "duration": 20,
    "start_time": "2023-01-25T08:20:09.759Z"
   },
   {
    "duration": 22,
    "start_time": "2023-01-25T08:20:09.781Z"
   },
   {
    "duration": 44,
    "start_time": "2023-01-25T08:20:09.805Z"
   },
   {
    "duration": 456,
    "start_time": "2023-01-25T08:20:09.850Z"
   },
   {
    "duration": 6,
    "start_time": "2023-01-25T08:20:10.308Z"
   },
   {
    "duration": 278,
    "start_time": "2023-01-25T08:20:10.316Z"
   },
   {
    "duration": 204,
    "start_time": "2023-01-25T08:20:10.596Z"
   },
   {
    "duration": 243,
    "start_time": "2023-01-25T08:20:10.802Z"
   },
   {
    "duration": 328,
    "start_time": "2023-01-25T08:20:11.047Z"
   },
   {
    "duration": 171,
    "start_time": "2023-01-25T08:20:11.378Z"
   },
   {
    "duration": 202,
    "start_time": "2023-01-25T08:20:11.551Z"
   },
   {
    "duration": 166,
    "start_time": "2023-01-25T08:20:11.756Z"
   },
   {
    "duration": 158,
    "start_time": "2023-01-25T08:20:11.925Z"
   },
   {
    "duration": 313,
    "start_time": "2023-01-25T08:20:12.086Z"
   },
   {
    "duration": 270,
    "start_time": "2023-01-25T08:20:12.402Z"
   },
   {
    "duration": 199,
    "start_time": "2023-01-25T08:20:12.673Z"
   },
   {
    "duration": 187,
    "start_time": "2023-01-25T08:20:12.874Z"
   },
   {
    "duration": 159,
    "start_time": "2023-01-25T08:20:13.063Z"
   },
   {
    "duration": 179,
    "start_time": "2023-01-25T08:20:13.224Z"
   },
   {
    "duration": 179,
    "start_time": "2023-01-25T08:20:13.405Z"
   },
   {
    "duration": 217,
    "start_time": "2023-01-25T08:20:13.586Z"
   },
   {
    "duration": 5,
    "start_time": "2023-01-25T08:20:13.805Z"
   },
   {
    "duration": 8,
    "start_time": "2023-01-25T08:20:13.812Z"
   },
   {
    "duration": 45,
    "start_time": "2023-01-25T08:20:13.837Z"
   },
   {
    "duration": 172,
    "start_time": "2023-01-25T08:20:13.884Z"
   },
   {
    "duration": 206,
    "start_time": "2023-01-25T08:20:14.058Z"
   },
   {
    "duration": 176,
    "start_time": "2023-01-25T08:20:14.266Z"
   },
   {
    "duration": 177,
    "start_time": "2023-01-25T08:20:14.444Z"
   },
   {
    "duration": 275,
    "start_time": "2023-01-25T08:20:14.622Z"
   },
   {
    "duration": 184,
    "start_time": "2023-01-25T08:20:14.899Z"
   },
   {
    "duration": 204,
    "start_time": "2023-01-25T08:20:15.085Z"
   },
   {
    "duration": 200,
    "start_time": "2023-01-25T08:20:15.291Z"
   },
   {
    "duration": 27,
    "start_time": "2023-01-25T08:20:15.493Z"
   },
   {
    "duration": 183,
    "start_time": "2023-01-25T08:20:15.548Z"
   },
   {
    "duration": 6,
    "start_time": "2023-01-25T10:15:03.621Z"
   },
   {
    "duration": 17,
    "start_time": "2023-01-25T10:15:22.527Z"
   },
   {
    "duration": 91,
    "start_time": "2023-01-25T10:15:27.537Z"
   },
   {
    "duration": 8,
    "start_time": "2023-01-25T10:15:38.919Z"
   },
   {
    "duration": 53,
    "start_time": "2023-01-25T11:43:29.193Z"
   },
   {
    "duration": 841,
    "start_time": "2023-01-25T11:43:36.932Z"
   },
   {
    "duration": 332,
    "start_time": "2023-01-25T11:43:37.776Z"
   },
   {
    "duration": 34,
    "start_time": "2023-01-25T11:43:38.110Z"
   },
   {
    "duration": 43,
    "start_time": "2023-01-25T11:43:38.147Z"
   },
   {
    "duration": 96,
    "start_time": "2023-01-25T11:43:38.192Z"
   },
   {
    "duration": 2154,
    "start_time": "2023-01-25T11:43:38.290Z"
   },
   {
    "duration": 10,
    "start_time": "2023-01-25T11:43:40.446Z"
   },
   {
    "duration": 15,
    "start_time": "2023-01-25T11:43:40.458Z"
   },
   {
    "duration": 20,
    "start_time": "2023-01-25T11:43:40.475Z"
   },
   {
    "duration": 10,
    "start_time": "2023-01-25T11:43:40.499Z"
   },
   {
    "duration": 19,
    "start_time": "2023-01-25T11:43:40.512Z"
   },
   {
    "duration": 18,
    "start_time": "2023-01-25T11:43:40.533Z"
   },
   {
    "duration": 27,
    "start_time": "2023-01-25T11:43:40.553Z"
   },
   {
    "duration": 7,
    "start_time": "2023-01-25T11:43:40.582Z"
   },
   {
    "duration": 27,
    "start_time": "2023-01-25T11:43:40.591Z"
   },
   {
    "duration": 13,
    "start_time": "2023-01-25T11:43:40.620Z"
   },
   {
    "duration": 7,
    "start_time": "2023-01-25T11:43:40.635Z"
   },
   {
    "duration": 19,
    "start_time": "2023-01-25T11:43:40.644Z"
   },
   {
    "duration": 15,
    "start_time": "2023-01-25T11:43:40.665Z"
   },
   {
    "duration": 18,
    "start_time": "2023-01-25T11:43:40.682Z"
   },
   {
    "duration": 23,
    "start_time": "2023-01-25T11:43:40.702Z"
   },
   {
    "duration": 22,
    "start_time": "2023-01-25T11:43:40.727Z"
   },
   {
    "duration": 6,
    "start_time": "2023-01-25T11:43:40.751Z"
   },
   {
    "duration": 14,
    "start_time": "2023-01-25T11:43:40.759Z"
   },
   {
    "duration": 11,
    "start_time": "2023-01-25T11:43:40.775Z"
   },
   {
    "duration": 149,
    "start_time": "2023-01-25T11:43:40.788Z"
   },
   {
    "duration": 10,
    "start_time": "2023-01-25T11:43:40.940Z"
   },
   {
    "duration": 8,
    "start_time": "2023-01-25T11:43:40.953Z"
   },
   {
    "duration": 31,
    "start_time": "2023-01-25T11:43:40.962Z"
   },
   {
    "duration": 4,
    "start_time": "2023-01-25T11:43:40.994Z"
   },
   {
    "duration": 40,
    "start_time": "2023-01-25T11:43:41.000Z"
   },
   {
    "duration": 6,
    "start_time": "2023-01-25T11:43:41.043Z"
   },
   {
    "duration": 23,
    "start_time": "2023-01-25T11:43:41.051Z"
   },
   {
    "duration": 22,
    "start_time": "2023-01-25T11:43:41.076Z"
   },
   {
    "duration": 28,
    "start_time": "2023-01-25T11:43:41.099Z"
   },
   {
    "duration": 404,
    "start_time": "2023-01-25T11:43:41.129Z"
   },
   {
    "duration": 4,
    "start_time": "2023-01-25T11:43:41.535Z"
   },
   {
    "duration": 236,
    "start_time": "2023-01-25T11:43:41.541Z"
   },
   {
    "duration": 210,
    "start_time": "2023-01-25T11:43:41.779Z"
   },
   {
    "duration": 233,
    "start_time": "2023-01-25T11:43:41.991Z"
   },
   {
    "duration": 354,
    "start_time": "2023-01-25T11:43:42.226Z"
   },
   {
    "duration": 171,
    "start_time": "2023-01-25T11:43:42.583Z"
   },
   {
    "duration": 199,
    "start_time": "2023-01-25T11:43:42.755Z"
   },
   {
    "duration": 152,
    "start_time": "2023-01-25T11:43:42.956Z"
   },
   {
    "duration": 139,
    "start_time": "2023-01-25T11:43:43.110Z"
   },
   {
    "duration": 253,
    "start_time": "2023-01-25T11:43:43.251Z"
   },
   {
    "duration": 159,
    "start_time": "2023-01-25T11:43:43.506Z"
   },
   {
    "duration": 148,
    "start_time": "2023-01-25T11:43:43.667Z"
   },
   {
    "duration": 175,
    "start_time": "2023-01-25T11:43:43.817Z"
   },
   {
    "duration": 155,
    "start_time": "2023-01-25T11:43:43.994Z"
   },
   {
    "duration": 185,
    "start_time": "2023-01-25T11:43:44.152Z"
   },
   {
    "duration": 161,
    "start_time": "2023-01-25T11:43:44.339Z"
   },
   {
    "duration": 205,
    "start_time": "2023-01-25T11:43:44.502Z"
   },
   {
    "duration": 5,
    "start_time": "2023-01-25T11:43:44.708Z"
   },
   {
    "duration": 16,
    "start_time": "2023-01-25T11:43:44.714Z"
   },
   {
    "duration": 56,
    "start_time": "2023-01-25T11:43:44.731Z"
   },
   {
    "duration": 149,
    "start_time": "2023-01-25T11:43:44.789Z"
   },
   {
    "duration": 172,
    "start_time": "2023-01-25T11:43:44.940Z"
   },
   {
    "duration": 159,
    "start_time": "2023-01-25T11:43:45.114Z"
   },
   {
    "duration": 170,
    "start_time": "2023-01-25T11:43:45.275Z"
   },
   {
    "duration": 250,
    "start_time": "2023-01-25T11:43:45.447Z"
   },
   {
    "duration": 178,
    "start_time": "2023-01-25T11:43:45.698Z"
   },
   {
    "duration": 182,
    "start_time": "2023-01-25T11:43:45.878Z"
   },
   {
    "duration": 180,
    "start_time": "2023-01-25T11:43:46.062Z"
   },
   {
    "duration": 22,
    "start_time": "2023-01-25T11:43:46.243Z"
   },
   {
    "duration": 179,
    "start_time": "2023-01-25T11:43:46.267Z"
   },
   {
    "duration": 156,
    "start_time": "2023-01-25T11:43:58.423Z"
   },
   {
    "duration": 159,
    "start_time": "2023-01-25T11:44:03.298Z"
   },
   {
    "duration": 167,
    "start_time": "2023-01-25T11:46:52.764Z"
   },
   {
    "duration": 162,
    "start_time": "2023-01-25T11:47:01.075Z"
   },
   {
    "duration": 155,
    "start_time": "2023-01-25T11:47:11.266Z"
   },
   {
    "duration": 3,
    "start_time": "2023-01-25T13:53:57.849Z"
   },
   {
    "duration": 25,
    "start_time": "2023-01-25T13:54:11.968Z"
   },
   {
    "duration": 91,
    "start_time": "2023-01-25T13:54:35.888Z"
   },
   {
    "duration": 4,
    "start_time": "2023-01-25T13:54:47.001Z"
   },
   {
    "duration": 24,
    "start_time": "2023-01-25T13:54:57.917Z"
   },
   {
    "duration": 5,
    "start_time": "2023-01-25T13:56:19.949Z"
   },
   {
    "duration": 43,
    "start_time": "2023-01-26T06:47:27.682Z"
   },
   {
    "duration": 830,
    "start_time": "2023-01-26T06:47:32.765Z"
   },
   {
    "duration": 679,
    "start_time": "2023-01-26T06:47:33.597Z"
   },
   {
    "duration": 29,
    "start_time": "2023-01-26T06:47:34.278Z"
   },
   {
    "duration": 34,
    "start_time": "2023-01-26T06:47:34.310Z"
   },
   {
    "duration": 80,
    "start_time": "2023-01-26T06:47:34.345Z"
   },
   {
    "duration": 1958,
    "start_time": "2023-01-26T06:47:34.426Z"
   },
   {
    "duration": 8,
    "start_time": "2023-01-26T06:47:36.386Z"
   },
   {
    "duration": 9,
    "start_time": "2023-01-26T06:47:36.396Z"
   },
   {
    "duration": 7,
    "start_time": "2023-01-26T06:47:36.407Z"
   },
   {
    "duration": 16,
    "start_time": "2023-01-26T06:47:36.417Z"
   },
   {
    "duration": 10,
    "start_time": "2023-01-26T06:47:36.434Z"
   },
   {
    "duration": 31,
    "start_time": "2023-01-26T06:47:36.446Z"
   },
   {
    "duration": 7,
    "start_time": "2023-01-26T06:47:36.478Z"
   },
   {
    "duration": 12,
    "start_time": "2023-01-26T06:47:36.487Z"
   },
   {
    "duration": 4,
    "start_time": "2023-01-26T06:47:36.501Z"
   },
   {
    "duration": 14,
    "start_time": "2023-01-26T06:47:36.507Z"
   },
   {
    "duration": 8,
    "start_time": "2023-01-26T06:47:36.523Z"
   },
   {
    "duration": 11,
    "start_time": "2023-01-26T06:47:36.532Z"
   },
   {
    "duration": 25,
    "start_time": "2023-01-26T06:47:36.545Z"
   },
   {
    "duration": 7,
    "start_time": "2023-01-26T06:47:36.572Z"
   },
   {
    "duration": 7,
    "start_time": "2023-01-26T06:47:36.580Z"
   },
   {
    "duration": 16,
    "start_time": "2023-01-26T06:47:36.588Z"
   },
   {
    "duration": 21,
    "start_time": "2023-01-26T06:47:36.606Z"
   },
   {
    "duration": 7,
    "start_time": "2023-01-26T06:47:36.628Z"
   },
   {
    "duration": 11,
    "start_time": "2023-01-26T06:47:36.666Z"
   },
   {
    "duration": 14,
    "start_time": "2023-01-26T06:47:36.679Z"
   },
   {
    "duration": 180,
    "start_time": "2023-01-26T06:47:36.695Z"
   },
   {
    "duration": 12,
    "start_time": "2023-01-26T06:47:36.879Z"
   },
   {
    "duration": 11,
    "start_time": "2023-01-26T06:47:36.893Z"
   },
   {
    "duration": 30,
    "start_time": "2023-01-26T06:47:36.906Z"
   },
   {
    "duration": 4,
    "start_time": "2023-01-26T06:47:36.938Z"
   },
   {
    "duration": 40,
    "start_time": "2023-01-26T06:47:36.943Z"
   },
   {
    "duration": 10,
    "start_time": "2023-01-26T06:47:36.985Z"
   },
   {
    "duration": 18,
    "start_time": "2023-01-26T06:47:36.997Z"
   },
   {
    "duration": 20,
    "start_time": "2023-01-26T06:47:37.017Z"
   },
   {
    "duration": 33,
    "start_time": "2023-01-26T06:47:37.039Z"
   },
   {
    "duration": 404,
    "start_time": "2023-01-26T06:47:37.074Z"
   },
   {
    "duration": 4,
    "start_time": "2023-01-26T06:47:37.480Z"
   },
   {
    "duration": 238,
    "start_time": "2023-01-26T06:47:37.485Z"
   },
   {
    "duration": 193,
    "start_time": "2023-01-26T06:47:37.726Z"
   },
   {
    "duration": 199,
    "start_time": "2023-01-26T06:47:37.921Z"
   },
   {
    "duration": 256,
    "start_time": "2023-01-26T06:47:38.122Z"
   },
   {
    "duration": 138,
    "start_time": "2023-01-26T06:47:38.379Z"
   },
   {
    "duration": 175,
    "start_time": "2023-01-26T06:47:38.519Z"
   },
   {
    "duration": 135,
    "start_time": "2023-01-26T06:47:38.696Z"
   },
   {
    "duration": 128,
    "start_time": "2023-01-26T06:47:38.832Z"
   },
   {
    "duration": 230,
    "start_time": "2023-01-26T06:47:38.961Z"
   },
   {
    "duration": 147,
    "start_time": "2023-01-26T06:47:39.193Z"
   },
   {
    "duration": 145,
    "start_time": "2023-01-26T06:47:39.342Z"
   },
   {
    "duration": 143,
    "start_time": "2023-01-26T06:47:39.488Z"
   },
   {
    "duration": 136,
    "start_time": "2023-01-26T06:47:39.633Z"
   },
   {
    "duration": 154,
    "start_time": "2023-01-26T06:47:39.771Z"
   },
   {
    "duration": 150,
    "start_time": "2023-01-26T06:47:39.926Z"
   },
   {
    "duration": 183,
    "start_time": "2023-01-26T06:47:40.078Z"
   },
   {
    "duration": 6,
    "start_time": "2023-01-26T06:47:40.263Z"
   },
   {
    "duration": 7,
    "start_time": "2023-01-26T06:47:40.271Z"
   },
   {
    "duration": 39,
    "start_time": "2023-01-26T06:47:40.279Z"
   },
   {
    "duration": 148,
    "start_time": "2023-01-26T06:47:40.320Z"
   },
   {
    "duration": 155,
    "start_time": "2023-01-26T06:47:40.470Z"
   },
   {
    "duration": 147,
    "start_time": "2023-01-26T06:47:40.627Z"
   },
   {
    "duration": 158,
    "start_time": "2023-01-26T06:47:40.775Z"
   },
   {
    "duration": 250,
    "start_time": "2023-01-26T06:47:40.935Z"
   },
   {
    "duration": 167,
    "start_time": "2023-01-26T06:47:41.187Z"
   },
   {
    "duration": 163,
    "start_time": "2023-01-26T06:47:41.356Z"
   },
   {
    "duration": 175,
    "start_time": "2023-01-26T06:47:41.521Z"
   },
   {
    "duration": 24,
    "start_time": "2023-01-26T06:47:41.697Z"
   },
   {
    "duration": 178,
    "start_time": "2023-01-26T06:47:41.722Z"
   },
   {
    "duration": 15,
    "start_time": "2023-01-26T06:48:39.272Z"
   },
   {
    "duration": 8,
    "start_time": "2023-01-26T06:49:20.717Z"
   },
   {
    "duration": 3,
    "start_time": "2023-01-26T06:49:38.172Z"
   },
   {
    "duration": 9,
    "start_time": "2023-01-26T06:49:40.298Z"
   },
   {
    "duration": 62,
    "start_time": "2023-01-26T06:52:30.726Z"
   },
   {
    "duration": 47,
    "start_time": "2023-01-26T06:52:45.751Z"
   },
   {
    "duration": 5,
    "start_time": "2023-01-26T06:52:53.397Z"
   },
   {
    "duration": 74,
    "start_time": "2023-01-26T06:53:08.787Z"
   },
   {
    "duration": 5,
    "start_time": "2023-01-26T06:53:36.446Z"
   },
   {
    "duration": 34,
    "start_time": "2023-01-26T06:55:31.777Z"
   },
   {
    "duration": 787,
    "start_time": "2023-01-26T06:56:47.482Z"
   },
   {
    "duration": 47,
    "start_time": "2023-01-26T06:57:14.166Z"
   },
   {
    "duration": 35,
    "start_time": "2023-01-26T06:57:38.283Z"
   },
   {
    "duration": 46,
    "start_time": "2023-01-26T06:59:53.045Z"
   },
   {
    "duration": 8,
    "start_time": "2023-01-26T07:01:35.314Z"
   },
   {
    "duration": 12,
    "start_time": "2023-01-26T07:01:46.935Z"
   },
   {
    "duration": 2,
    "start_time": "2023-01-26T07:02:09.823Z"
   },
   {
    "duration": 9,
    "start_time": "2023-01-26T07:02:12.745Z"
   },
   {
    "duration": 580,
    "start_time": "2023-01-26T07:03:05.523Z"
   },
   {
    "duration": 87,
    "start_time": "2023-01-26T07:03:06.105Z"
   },
   {
    "duration": 27,
    "start_time": "2023-01-26T07:03:06.193Z"
   },
   {
    "duration": 45,
    "start_time": "2023-01-26T07:03:06.222Z"
   },
   {
    "duration": 64,
    "start_time": "2023-01-26T07:03:06.269Z"
   },
   {
    "duration": 1937,
    "start_time": "2023-01-26T07:03:06.335Z"
   },
   {
    "duration": 10,
    "start_time": "2023-01-26T07:03:08.274Z"
   },
   {
    "duration": 17,
    "start_time": "2023-01-26T07:03:08.286Z"
   },
   {
    "duration": 12,
    "start_time": "2023-01-26T07:03:08.305Z"
   },
   {
    "duration": 3,
    "start_time": "2023-01-26T07:03:08.321Z"
   },
   {
    "duration": 8,
    "start_time": "2023-01-26T07:03:08.326Z"
   },
   {
    "duration": 6,
    "start_time": "2023-01-26T07:03:08.335Z"
   },
   {
    "duration": 26,
    "start_time": "2023-01-26T07:03:08.343Z"
   },
   {
    "duration": 13,
    "start_time": "2023-01-26T07:03:08.371Z"
   },
   {
    "duration": 5,
    "start_time": "2023-01-26T07:03:08.386Z"
   },
   {
    "duration": 11,
    "start_time": "2023-01-26T07:03:08.392Z"
   },
   {
    "duration": 8,
    "start_time": "2023-01-26T07:03:08.404Z"
   },
   {
    "duration": 8,
    "start_time": "2023-01-26T07:03:08.413Z"
   },
   {
    "duration": 10,
    "start_time": "2023-01-26T07:03:08.423Z"
   },
   {
    "duration": 6,
    "start_time": "2023-01-26T07:03:08.434Z"
   },
   {
    "duration": 28,
    "start_time": "2023-01-26T07:03:08.441Z"
   },
   {
    "duration": 17,
    "start_time": "2023-01-26T07:03:08.470Z"
   },
   {
    "duration": 18,
    "start_time": "2023-01-26T07:03:08.489Z"
   },
   {
    "duration": 7,
    "start_time": "2023-01-26T07:03:08.508Z"
   },
   {
    "duration": 12,
    "start_time": "2023-01-26T07:03:08.516Z"
   },
   {
    "duration": 5,
    "start_time": "2023-01-26T07:03:08.531Z"
   },
   {
    "duration": 119,
    "start_time": "2023-01-26T07:03:08.567Z"
   },
   {
    "duration": 10,
    "start_time": "2023-01-26T07:03:08.690Z"
   },
   {
    "duration": 18,
    "start_time": "2023-01-26T07:03:08.702Z"
   },
   {
    "duration": 24,
    "start_time": "2023-01-26T07:03:08.721Z"
   },
   {
    "duration": 21,
    "start_time": "2023-01-26T07:03:08.746Z"
   },
   {
    "duration": 15,
    "start_time": "2023-01-26T07:03:08.768Z"
   },
   {
    "duration": 5,
    "start_time": "2023-01-26T07:03:08.785Z"
   },
   {
    "duration": 15,
    "start_time": "2023-01-26T07:03:08.791Z"
   },
   {
    "duration": 12,
    "start_time": "2023-01-26T07:03:08.807Z"
   },
   {
    "duration": 23,
    "start_time": "2023-01-26T07:03:08.820Z"
   },
   {
    "duration": 392,
    "start_time": "2023-01-26T07:03:08.844Z"
   },
   {
    "duration": 4,
    "start_time": "2023-01-26T07:03:09.237Z"
   },
   {
    "duration": 211,
    "start_time": "2023-01-26T07:03:09.243Z"
   },
   {
    "duration": 168,
    "start_time": "2023-01-26T07:03:09.455Z"
   },
   {
    "duration": 191,
    "start_time": "2023-01-26T07:03:09.625Z"
   },
   {
    "duration": 257,
    "start_time": "2023-01-26T07:03:09.817Z"
   },
   {
    "duration": 130,
    "start_time": "2023-01-26T07:03:10.075Z"
   },
   {
    "duration": 170,
    "start_time": "2023-01-26T07:03:10.206Z"
   },
   {
    "duration": 138,
    "start_time": "2023-01-26T07:03:10.378Z"
   },
   {
    "duration": 130,
    "start_time": "2023-01-26T07:03:10.518Z"
   },
   {
    "duration": 222,
    "start_time": "2023-01-26T07:03:10.650Z"
   },
   {
    "duration": 146,
    "start_time": "2023-01-26T07:03:10.873Z"
   },
   {
    "duration": 130,
    "start_time": "2023-01-26T07:03:11.020Z"
   },
   {
    "duration": 144,
    "start_time": "2023-01-26T07:03:11.151Z"
   },
   {
    "duration": 125,
    "start_time": "2023-01-26T07:03:11.296Z"
   },
   {
    "duration": 144,
    "start_time": "2023-01-26T07:03:11.423Z"
   },
   {
    "duration": 145,
    "start_time": "2023-01-26T07:03:11.569Z"
   },
   {
    "duration": 175,
    "start_time": "2023-01-26T07:03:11.716Z"
   },
   {
    "duration": 4,
    "start_time": "2023-01-26T07:03:11.893Z"
   },
   {
    "duration": 5,
    "start_time": "2023-01-26T07:03:11.899Z"
   },
   {
    "duration": 37,
    "start_time": "2023-01-26T07:03:11.906Z"
   },
   {
    "duration": 151,
    "start_time": "2023-01-26T07:03:11.945Z"
   },
   {
    "duration": 152,
    "start_time": "2023-01-26T07:03:12.098Z"
   },
   {
    "duration": 136,
    "start_time": "2023-01-26T07:03:12.252Z"
   },
   {
    "duration": 148,
    "start_time": "2023-01-26T07:03:12.389Z"
   },
   {
    "duration": 215,
    "start_time": "2023-01-26T07:03:12.539Z"
   },
   {
    "duration": 173,
    "start_time": "2023-01-26T07:03:12.756Z"
   },
   {
    "duration": 171,
    "start_time": "2023-01-26T07:03:12.932Z"
   },
   {
    "duration": 162,
    "start_time": "2023-01-26T07:03:13.105Z"
   },
   {
    "duration": 24,
    "start_time": "2023-01-26T07:03:13.269Z"
   },
   {
    "duration": 169,
    "start_time": "2023-01-26T07:03:13.295Z"
   },
   {
    "duration": 222,
    "start_time": "2023-01-26T07:14:33.996Z"
   },
   {
    "duration": 248,
    "start_time": "2023-01-26T07:14:48.132Z"
   },
   {
    "duration": 241,
    "start_time": "2023-01-26T07:17:13.119Z"
   },
   {
    "duration": 341,
    "start_time": "2023-01-26T07:17:20.749Z"
   },
   {
    "duration": 252,
    "start_time": "2023-01-26T07:17:36.097Z"
   },
   {
    "duration": 271,
    "start_time": "2023-01-26T07:17:43.264Z"
   },
   {
    "duration": 245,
    "start_time": "2023-01-26T07:18:10.047Z"
   },
   {
    "duration": 260,
    "start_time": "2023-01-26T07:18:16.655Z"
   },
   {
    "duration": 359,
    "start_time": "2023-01-26T07:18:32.240Z"
   },
   {
    "duration": 270,
    "start_time": "2023-01-26T07:18:39.288Z"
   },
   {
    "duration": 231,
    "start_time": "2023-01-26T07:18:48.049Z"
   },
   {
    "duration": 240,
    "start_time": "2023-01-26T07:19:05.448Z"
   },
   {
    "duration": 17,
    "start_time": "2023-01-26T07:29:10.169Z"
   },
   {
    "duration": 7,
    "start_time": "2023-01-26T07:29:47.547Z"
   },
   {
    "duration": 7,
    "start_time": "2023-01-26T07:29:59.483Z"
   },
   {
    "duration": 4,
    "start_time": "2023-01-26T07:33:08.193Z"
   },
   {
    "duration": 6,
    "start_time": "2023-01-26T07:33:27.519Z"
   },
   {
    "duration": 8,
    "start_time": "2023-01-26T07:38:21.021Z"
   },
   {
    "duration": 6,
    "start_time": "2023-01-26T07:38:34.379Z"
   },
   {
    "duration": 913,
    "start_time": "2023-01-26T08:33:30.832Z"
   },
   {
    "duration": 43,
    "start_time": "2023-01-26T08:40:20.782Z"
   },
   {
    "duration": 6,
    "start_time": "2023-01-26T08:40:58.645Z"
   },
   {
    "duration": 666,
    "start_time": "2023-01-26T08:41:10.977Z"
   },
   {
    "duration": 98,
    "start_time": "2023-01-26T08:41:11.645Z"
   },
   {
    "duration": 33,
    "start_time": "2023-01-26T08:41:11.745Z"
   },
   {
    "duration": 33,
    "start_time": "2023-01-26T08:41:11.780Z"
   },
   {
    "duration": 90,
    "start_time": "2023-01-26T08:41:11.816Z"
   },
   {
    "duration": 1989,
    "start_time": "2023-01-26T08:41:11.907Z"
   },
   {
    "duration": 8,
    "start_time": "2023-01-26T08:41:13.898Z"
   },
   {
    "duration": 8,
    "start_time": "2023-01-26T08:41:13.907Z"
   },
   {
    "duration": 6,
    "start_time": "2023-01-26T08:41:13.916Z"
   },
   {
    "duration": 10,
    "start_time": "2023-01-26T08:41:13.924Z"
   },
   {
    "duration": 12,
    "start_time": "2023-01-26T08:41:13.935Z"
   },
   {
    "duration": 5,
    "start_time": "2023-01-26T08:41:13.948Z"
   },
   {
    "duration": 17,
    "start_time": "2023-01-26T08:41:13.955Z"
   },
   {
    "duration": 4,
    "start_time": "2023-01-26T08:41:13.974Z"
   },
   {
    "duration": 9,
    "start_time": "2023-01-26T08:41:13.979Z"
   },
   {
    "duration": 8,
    "start_time": "2023-01-26T08:41:13.989Z"
   },
   {
    "duration": 8,
    "start_time": "2023-01-26T08:41:13.998Z"
   },
   {
    "duration": 8,
    "start_time": "2023-01-26T08:41:14.008Z"
   },
   {
    "duration": 5,
    "start_time": "2023-01-26T08:41:14.017Z"
   },
   {
    "duration": 4,
    "start_time": "2023-01-26T08:41:14.023Z"
   },
   {
    "duration": 14,
    "start_time": "2023-01-26T08:41:14.029Z"
   },
   {
    "duration": 40,
    "start_time": "2023-01-26T08:41:14.044Z"
   },
   {
    "duration": 6,
    "start_time": "2023-01-26T08:41:14.085Z"
   },
   {
    "duration": 10,
    "start_time": "2023-01-26T08:41:14.092Z"
   },
   {
    "duration": 13,
    "start_time": "2023-01-26T08:41:14.103Z"
   },
   {
    "duration": 190,
    "start_time": "2023-01-26T08:41:14.118Z"
   },
   {
    "duration": 10,
    "start_time": "2023-01-26T08:41:14.310Z"
   },
   {
    "duration": 7,
    "start_time": "2023-01-26T08:41:14.323Z"
   },
   {
    "duration": 25,
    "start_time": "2023-01-26T08:41:14.368Z"
   },
   {
    "duration": 3,
    "start_time": "2023-01-26T08:41:14.395Z"
   },
   {
    "duration": 20,
    "start_time": "2023-01-26T08:41:14.399Z"
   },
   {
    "duration": 5,
    "start_time": "2023-01-26T08:41:14.421Z"
   },
   {
    "duration": 7,
    "start_time": "2023-01-26T08:41:14.428Z"
   },
   {
    "duration": 76,
    "start_time": "2023-01-26T08:41:14.437Z"
   },
   {
    "duration": 7,
    "start_time": "2023-01-26T08:41:14.515Z"
   },
   {
    "duration": 8,
    "start_time": "2023-01-26T08:41:14.523Z"
   },
   {
    "duration": 36,
    "start_time": "2023-01-26T08:41:14.533Z"
   },
   {
    "duration": 16,
    "start_time": "2023-01-26T08:41:14.571Z"
   },
   {
    "duration": 17,
    "start_time": "2023-01-26T08:41:14.589Z"
   },
   {
    "duration": 449,
    "start_time": "2023-01-26T08:41:14.607Z"
   },
   {
    "duration": 10,
    "start_time": "2023-01-26T08:41:15.058Z"
   },
   {
    "duration": 230,
    "start_time": "2023-01-26T08:41:15.070Z"
   },
   {
    "duration": 184,
    "start_time": "2023-01-26T08:41:15.301Z"
   },
   {
    "duration": 227,
    "start_time": "2023-01-26T08:41:15.488Z"
   },
   {
    "duration": 223,
    "start_time": "2023-01-26T08:41:15.717Z"
   },
   {
    "duration": 129,
    "start_time": "2023-01-26T08:41:15.942Z"
   },
   {
    "duration": 163,
    "start_time": "2023-01-26T08:41:16.073Z"
   },
   {
    "duration": 145,
    "start_time": "2023-01-26T08:41:16.238Z"
   },
   {
    "duration": 122,
    "start_time": "2023-01-26T08:41:16.385Z"
   },
   {
    "duration": 144,
    "start_time": "2023-01-26T08:41:16.509Z"
   },
   {
    "duration": 259,
    "start_time": "2023-01-26T08:41:16.654Z"
   },
   {
    "duration": 154,
    "start_time": "2023-01-26T08:41:16.915Z"
   },
   {
    "duration": 154,
    "start_time": "2023-01-26T08:41:17.071Z"
   },
   {
    "duration": 134,
    "start_time": "2023-01-26T08:41:17.227Z"
   },
   {
    "duration": 143,
    "start_time": "2023-01-26T08:41:17.367Z"
   },
   {
    "duration": 147,
    "start_time": "2023-01-26T08:41:17.512Z"
   },
   {
    "duration": 184,
    "start_time": "2023-01-26T08:41:17.661Z"
   },
   {
    "duration": 5,
    "start_time": "2023-01-26T08:41:17.847Z"
   },
   {
    "duration": 18,
    "start_time": "2023-01-26T08:41:17.853Z"
   },
   {
    "duration": 38,
    "start_time": "2023-01-26T08:41:17.872Z"
   },
   {
    "duration": 152,
    "start_time": "2023-01-26T08:41:17.911Z"
   },
   {
    "duration": 153,
    "start_time": "2023-01-26T08:41:18.067Z"
   },
   {
    "duration": 137,
    "start_time": "2023-01-26T08:41:18.221Z"
   },
   {
    "duration": 152,
    "start_time": "2023-01-26T08:41:18.360Z"
   },
   {
    "duration": 143,
    "start_time": "2023-01-26T08:41:18.513Z"
   },
   {
    "duration": 251,
    "start_time": "2023-01-26T08:41:18.657Z"
   },
   {
    "duration": 156,
    "start_time": "2023-01-26T08:41:18.909Z"
   },
   {
    "duration": 131,
    "start_time": "2023-01-26T08:41:19.067Z"
   },
   {
    "duration": 22,
    "start_time": "2023-01-26T08:41:19.199Z"
   },
   {
    "duration": 162,
    "start_time": "2023-01-26T08:41:19.222Z"
   },
   {
    "duration": 38,
    "start_time": "2023-01-26T08:42:38.862Z"
   },
   {
    "duration": 9,
    "start_time": "2023-01-26T08:42:45.710Z"
   },
   {
    "duration": 73,
    "start_time": "2023-01-26T08:46:40.834Z"
   },
   {
    "duration": 7,
    "start_time": "2023-01-26T08:46:58.642Z"
   },
   {
    "duration": 7,
    "start_time": "2023-01-26T08:47:13.059Z"
   },
   {
    "duration": 10,
    "start_time": "2023-01-26T08:48:54.066Z"
   },
   {
    "duration": 613,
    "start_time": "2023-01-26T08:49:12.983Z"
   },
   {
    "duration": 88,
    "start_time": "2023-01-26T08:49:13.598Z"
   },
   {
    "duration": 25,
    "start_time": "2023-01-26T08:49:13.687Z"
   },
   {
    "duration": 34,
    "start_time": "2023-01-26T08:49:13.714Z"
   },
   {
    "duration": 86,
    "start_time": "2023-01-26T08:49:13.750Z"
   },
   {
    "duration": 1978,
    "start_time": "2023-01-26T08:49:13.838Z"
   },
   {
    "duration": 10,
    "start_time": "2023-01-26T08:49:15.818Z"
   },
   {
    "duration": 16,
    "start_time": "2023-01-26T08:49:15.830Z"
   },
   {
    "duration": 12,
    "start_time": "2023-01-26T08:49:15.847Z"
   },
   {
    "duration": 20,
    "start_time": "2023-01-26T08:49:15.862Z"
   },
   {
    "duration": 13,
    "start_time": "2023-01-26T08:49:15.884Z"
   },
   {
    "duration": 24,
    "start_time": "2023-01-26T08:49:15.898Z"
   },
   {
    "duration": 28,
    "start_time": "2023-01-26T08:49:15.924Z"
   },
   {
    "duration": 7,
    "start_time": "2023-01-26T08:49:15.954Z"
   },
   {
    "duration": 22,
    "start_time": "2023-01-26T08:49:15.963Z"
   },
   {
    "duration": 9,
    "start_time": "2023-01-26T08:49:15.987Z"
   },
   {
    "duration": 12,
    "start_time": "2023-01-26T08:49:15.997Z"
   },
   {
    "duration": 14,
    "start_time": "2023-01-26T08:49:16.010Z"
   },
   {
    "duration": 10,
    "start_time": "2023-01-26T08:49:16.026Z"
   },
   {
    "duration": 18,
    "start_time": "2023-01-26T08:49:16.038Z"
   },
   {
    "duration": 38,
    "start_time": "2023-01-26T08:49:16.057Z"
   },
   {
    "duration": 22,
    "start_time": "2023-01-26T08:49:16.098Z"
   },
   {
    "duration": 6,
    "start_time": "2023-01-26T08:49:16.121Z"
   },
   {
    "duration": 24,
    "start_time": "2023-01-26T08:49:16.128Z"
   },
   {
    "duration": 20,
    "start_time": "2023-01-26T08:49:16.153Z"
   },
   {
    "duration": 120,
    "start_time": "2023-01-26T08:49:16.174Z"
   },
   {
    "duration": 9,
    "start_time": "2023-01-26T08:49:16.295Z"
   },
   {
    "duration": 6,
    "start_time": "2023-01-26T08:49:16.308Z"
   },
   {
    "duration": 24,
    "start_time": "2023-01-26T08:49:16.315Z"
   },
   {
    "duration": 27,
    "start_time": "2023-01-26T08:49:16.341Z"
   },
   {
    "duration": 16,
    "start_time": "2023-01-26T08:49:16.369Z"
   },
   {
    "duration": 8,
    "start_time": "2023-01-26T08:49:16.386Z"
   },
   {
    "duration": 7,
    "start_time": "2023-01-26T08:49:16.396Z"
   },
   {
    "duration": 92,
    "start_time": "2023-01-26T08:49:16.405Z"
   },
   {
    "duration": 0,
    "start_time": "2023-01-26T08:49:16.499Z"
   },
   {
    "duration": 0,
    "start_time": "2023-01-26T08:49:16.500Z"
   },
   {
    "duration": 0,
    "start_time": "2023-01-26T08:49:16.502Z"
   },
   {
    "duration": 0,
    "start_time": "2023-01-26T08:49:16.503Z"
   },
   {
    "duration": 0,
    "start_time": "2023-01-26T08:49:16.505Z"
   },
   {
    "duration": 0,
    "start_time": "2023-01-26T08:49:16.506Z"
   },
   {
    "duration": 0,
    "start_time": "2023-01-26T08:49:16.507Z"
   },
   {
    "duration": 0,
    "start_time": "2023-01-26T08:49:16.508Z"
   },
   {
    "duration": 0,
    "start_time": "2023-01-26T08:49:16.510Z"
   },
   {
    "duration": 0,
    "start_time": "2023-01-26T08:49:16.511Z"
   },
   {
    "duration": 0,
    "start_time": "2023-01-26T08:49:16.512Z"
   },
   {
    "duration": 0,
    "start_time": "2023-01-26T08:49:16.514Z"
   },
   {
    "duration": 0,
    "start_time": "2023-01-26T08:49:16.515Z"
   },
   {
    "duration": 0,
    "start_time": "2023-01-26T08:49:16.517Z"
   },
   {
    "duration": 0,
    "start_time": "2023-01-26T08:49:16.518Z"
   },
   {
    "duration": 0,
    "start_time": "2023-01-26T08:49:16.519Z"
   },
   {
    "duration": 0,
    "start_time": "2023-01-26T08:49:16.520Z"
   },
   {
    "duration": 0,
    "start_time": "2023-01-26T08:49:16.522Z"
   },
   {
    "duration": 0,
    "start_time": "2023-01-26T08:49:16.523Z"
   },
   {
    "duration": 0,
    "start_time": "2023-01-26T08:49:16.525Z"
   },
   {
    "duration": 0,
    "start_time": "2023-01-26T08:49:16.568Z"
   },
   {
    "duration": 0,
    "start_time": "2023-01-26T08:49:16.569Z"
   },
   {
    "duration": 0,
    "start_time": "2023-01-26T08:49:16.570Z"
   },
   {
    "duration": 0,
    "start_time": "2023-01-26T08:49:16.572Z"
   },
   {
    "duration": 0,
    "start_time": "2023-01-26T08:49:16.573Z"
   },
   {
    "duration": 0,
    "start_time": "2023-01-26T08:49:16.575Z"
   },
   {
    "duration": 0,
    "start_time": "2023-01-26T08:49:16.576Z"
   },
   {
    "duration": 0,
    "start_time": "2023-01-26T08:49:16.577Z"
   },
   {
    "duration": 0,
    "start_time": "2023-01-26T08:49:16.579Z"
   },
   {
    "duration": 0,
    "start_time": "2023-01-26T08:49:16.580Z"
   },
   {
    "duration": 0,
    "start_time": "2023-01-26T08:49:16.581Z"
   },
   {
    "duration": 0,
    "start_time": "2023-01-26T08:49:16.583Z"
   },
   {
    "duration": 0,
    "start_time": "2023-01-26T08:49:16.584Z"
   },
   {
    "duration": 0,
    "start_time": "2023-01-26T08:49:16.585Z"
   },
   {
    "duration": 0,
    "start_time": "2023-01-26T08:49:16.587Z"
   },
   {
    "duration": 17,
    "start_time": "2023-01-26T09:26:13.421Z"
   },
   {
    "duration": 8,
    "start_time": "2023-01-26T09:26:57.397Z"
   },
   {
    "duration": 6,
    "start_time": "2023-01-26T09:27:06.136Z"
   },
   {
    "duration": 7,
    "start_time": "2023-01-26T09:35:17.637Z"
   },
   {
    "duration": 9,
    "start_time": "2023-01-26T09:38:25.433Z"
   },
   {
    "duration": 5,
    "start_time": "2023-01-26T09:38:52.289Z"
   },
   {
    "duration": 7,
    "start_time": "2023-01-26T09:39:16.019Z"
   },
   {
    "duration": 8,
    "start_time": "2023-01-26T09:39:26.609Z"
   },
   {
    "duration": 204,
    "start_time": "2023-01-26T09:40:05.862Z"
   },
   {
    "duration": 673,
    "start_time": "2023-01-26T09:40:13.456Z"
   },
   {
    "duration": 92,
    "start_time": "2023-01-26T09:40:14.131Z"
   },
   {
    "duration": 27,
    "start_time": "2023-01-26T09:40:14.225Z"
   },
   {
    "duration": 44,
    "start_time": "2023-01-26T09:40:14.254Z"
   },
   {
    "duration": 84,
    "start_time": "2023-01-26T09:40:14.299Z"
   },
   {
    "duration": 2036,
    "start_time": "2023-01-26T09:40:14.384Z"
   },
   {
    "duration": 9,
    "start_time": "2023-01-26T09:40:16.422Z"
   },
   {
    "duration": 11,
    "start_time": "2023-01-26T09:40:16.433Z"
   },
   {
    "duration": 3,
    "start_time": "2023-01-26T09:40:16.446Z"
   },
   {
    "duration": 11,
    "start_time": "2023-01-26T09:40:16.451Z"
   },
   {
    "duration": 7,
    "start_time": "2023-01-26T09:40:16.464Z"
   },
   {
    "duration": 10,
    "start_time": "2023-01-26T09:40:16.473Z"
   },
   {
    "duration": 12,
    "start_time": "2023-01-26T09:40:16.484Z"
   },
   {
    "duration": 4,
    "start_time": "2023-01-26T09:40:16.498Z"
   },
   {
    "duration": 10,
    "start_time": "2023-01-26T09:40:16.504Z"
   },
   {
    "duration": 8,
    "start_time": "2023-01-26T09:40:16.516Z"
   },
   {
    "duration": 12,
    "start_time": "2023-01-26T09:40:16.526Z"
   },
   {
    "duration": 8,
    "start_time": "2023-01-26T09:40:16.539Z"
   },
   {
    "duration": 23,
    "start_time": "2023-01-26T09:40:16.549Z"
   },
   {
    "duration": 5,
    "start_time": "2023-01-26T09:40:16.574Z"
   },
   {
    "duration": 17,
    "start_time": "2023-01-26T09:40:16.581Z"
   },
   {
    "duration": 20,
    "start_time": "2023-01-26T09:40:16.600Z"
   },
   {
    "duration": 8,
    "start_time": "2023-01-26T09:40:16.621Z"
   },
   {
    "duration": 39,
    "start_time": "2023-01-26T09:40:16.631Z"
   },
   {
    "duration": 6,
    "start_time": "2023-01-26T09:40:16.672Z"
   },
   {
    "duration": 151,
    "start_time": "2023-01-26T09:40:16.680Z"
   },
   {
    "duration": 13,
    "start_time": "2023-01-26T09:40:16.834Z"
   },
   {
    "duration": 17,
    "start_time": "2023-01-26T09:40:16.851Z"
   },
   {
    "duration": 26,
    "start_time": "2023-01-26T09:40:16.870Z"
   },
   {
    "duration": 3,
    "start_time": "2023-01-26T09:40:16.897Z"
   },
   {
    "duration": 18,
    "start_time": "2023-01-26T09:40:16.902Z"
   },
   {
    "duration": 9,
    "start_time": "2023-01-26T09:40:16.922Z"
   },
   {
    "duration": 39,
    "start_time": "2023-01-26T09:40:16.932Z"
   },
   {
    "duration": 7,
    "start_time": "2023-01-26T09:40:16.973Z"
   },
   {
    "duration": 6,
    "start_time": "2023-01-26T09:40:16.982Z"
   },
   {
    "duration": 14,
    "start_time": "2023-01-26T09:40:16.989Z"
   },
   {
    "duration": 8,
    "start_time": "2023-01-26T09:40:17.005Z"
   },
   {
    "duration": 5,
    "start_time": "2023-01-26T09:40:17.015Z"
   },
   {
    "duration": 55,
    "start_time": "2023-01-26T09:40:17.022Z"
   },
   {
    "duration": 15,
    "start_time": "2023-01-26T09:40:17.078Z"
   },
   {
    "duration": 15,
    "start_time": "2023-01-26T09:40:17.095Z"
   },
   {
    "duration": 388,
    "start_time": "2023-01-26T09:40:17.112Z"
   },
   {
    "duration": 5,
    "start_time": "2023-01-26T09:40:17.501Z"
   },
   {
    "duration": 231,
    "start_time": "2023-01-26T09:40:17.508Z"
   },
   {
    "duration": 160,
    "start_time": "2023-01-26T09:40:17.741Z"
   },
   {
    "duration": 198,
    "start_time": "2023-01-26T09:40:17.903Z"
   },
   {
    "duration": 214,
    "start_time": "2023-01-26T09:40:18.102Z"
   },
   {
    "duration": 135,
    "start_time": "2023-01-26T09:40:18.317Z"
   },
   {
    "duration": 157,
    "start_time": "2023-01-26T09:40:18.454Z"
   },
   {
    "duration": 120,
    "start_time": "2023-01-26T09:40:18.612Z"
   },
   {
    "duration": 121,
    "start_time": "2023-01-26T09:40:18.734Z"
   },
   {
    "duration": 132,
    "start_time": "2023-01-26T09:40:18.856Z"
   },
   {
    "duration": 228,
    "start_time": "2023-01-26T09:40:18.989Z"
   },
   {
    "duration": 139,
    "start_time": "2023-01-26T09:40:19.219Z"
   },
   {
    "duration": 149,
    "start_time": "2023-01-26T09:40:19.360Z"
   },
   {
    "duration": 131,
    "start_time": "2023-01-26T09:40:19.510Z"
   },
   {
    "duration": 138,
    "start_time": "2023-01-26T09:40:19.642Z"
   },
   {
    "duration": 146,
    "start_time": "2023-01-26T09:40:19.782Z"
   },
   {
    "duration": 179,
    "start_time": "2023-01-26T09:40:19.930Z"
   },
   {
    "duration": 4,
    "start_time": "2023-01-26T09:40:20.111Z"
   },
   {
    "duration": 22,
    "start_time": "2023-01-26T09:40:20.116Z"
   },
   {
    "duration": 37,
    "start_time": "2023-01-26T09:40:20.140Z"
   },
   {
    "duration": 139,
    "start_time": "2023-01-26T09:40:20.178Z"
   },
   {
    "duration": 164,
    "start_time": "2023-01-26T09:40:20.318Z"
   },
   {
    "duration": 152,
    "start_time": "2023-01-26T09:40:20.483Z"
   },
   {
    "duration": 181,
    "start_time": "2023-01-26T09:40:20.637Z"
   },
   {
    "duration": 141,
    "start_time": "2023-01-26T09:40:20.819Z"
   },
   {
    "duration": 241,
    "start_time": "2023-01-26T09:40:20.962Z"
   },
   {
    "duration": 157,
    "start_time": "2023-01-26T09:40:21.204Z"
   },
   {
    "duration": 137,
    "start_time": "2023-01-26T09:40:21.362Z"
   },
   {
    "duration": 23,
    "start_time": "2023-01-26T09:40:21.500Z"
   },
   {
    "duration": 168,
    "start_time": "2023-01-26T09:40:21.524Z"
   },
   {
    "duration": 11,
    "start_time": "2023-01-26T09:42:46.114Z"
   },
   {
    "duration": 7,
    "start_time": "2023-01-26T10:36:56.515Z"
   },
   {
    "duration": 42,
    "start_time": "2023-01-26T10:37:03.325Z"
   },
   {
    "duration": 8,
    "start_time": "2023-01-26T10:37:20.664Z"
   },
   {
    "duration": 6,
    "start_time": "2023-01-26T10:38:39.063Z"
   },
   {
    "duration": 663,
    "start_time": "2023-01-26T10:40:32.867Z"
   },
   {
    "duration": 93,
    "start_time": "2023-01-26T10:40:33.532Z"
   },
   {
    "duration": 28,
    "start_time": "2023-01-26T10:40:33.627Z"
   },
   {
    "duration": 34,
    "start_time": "2023-01-26T10:40:33.666Z"
   },
   {
    "duration": 91,
    "start_time": "2023-01-26T10:40:33.701Z"
   },
   {
    "duration": 2130,
    "start_time": "2023-01-26T10:40:33.794Z"
   },
   {
    "duration": 8,
    "start_time": "2023-01-26T10:40:35.925Z"
   },
   {
    "duration": 26,
    "start_time": "2023-01-26T10:40:35.936Z"
   },
   {
    "duration": 2,
    "start_time": "2023-01-26T10:40:35.964Z"
   },
   {
    "duration": 18,
    "start_time": "2023-01-26T10:40:35.969Z"
   },
   {
    "duration": 17,
    "start_time": "2023-01-26T10:40:35.989Z"
   },
   {
    "duration": 27,
    "start_time": "2023-01-26T10:40:36.007Z"
   },
   {
    "duration": 18,
    "start_time": "2023-01-26T10:40:36.036Z"
   },
   {
    "duration": 3,
    "start_time": "2023-01-26T10:40:36.056Z"
   },
   {
    "duration": 12,
    "start_time": "2023-01-26T10:40:36.061Z"
   },
   {
    "duration": 7,
    "start_time": "2023-01-26T10:40:36.074Z"
   },
   {
    "duration": 9,
    "start_time": "2023-01-26T10:40:36.082Z"
   },
   {
    "duration": 5,
    "start_time": "2023-01-26T10:40:36.093Z"
   },
   {
    "duration": 5,
    "start_time": "2023-01-26T10:40:36.100Z"
   },
   {
    "duration": 5,
    "start_time": "2023-01-26T10:40:36.107Z"
   },
   {
    "duration": 15,
    "start_time": "2023-01-26T10:40:36.113Z"
   },
   {
    "duration": 39,
    "start_time": "2023-01-26T10:40:36.130Z"
   },
   {
    "duration": 6,
    "start_time": "2023-01-26T10:40:36.170Z"
   },
   {
    "duration": 17,
    "start_time": "2023-01-26T10:40:36.177Z"
   },
   {
    "duration": 5,
    "start_time": "2023-01-26T10:40:36.196Z"
   },
   {
    "duration": 145,
    "start_time": "2023-01-26T10:40:36.202Z"
   },
   {
    "duration": 9,
    "start_time": "2023-01-26T10:40:36.348Z"
   },
   {
    "duration": 5,
    "start_time": "2023-01-26T10:40:36.367Z"
   },
   {
    "duration": 38,
    "start_time": "2023-01-26T10:40:36.373Z"
   },
   {
    "duration": 4,
    "start_time": "2023-01-26T10:40:36.413Z"
   },
   {
    "duration": 16,
    "start_time": "2023-01-26T10:40:36.418Z"
   },
   {
    "duration": 6,
    "start_time": "2023-01-26T10:40:36.468Z"
   },
   {
    "duration": 42,
    "start_time": "2023-01-26T10:40:36.475Z"
   },
   {
    "duration": 5,
    "start_time": "2023-01-26T10:40:36.519Z"
   },
   {
    "duration": 12,
    "start_time": "2023-01-26T10:40:36.525Z"
   },
   {
    "duration": 30,
    "start_time": "2023-01-26T10:40:36.538Z"
   },
   {
    "duration": 8,
    "start_time": "2023-01-26T10:40:36.570Z"
   },
   {
    "duration": 17,
    "start_time": "2023-01-26T10:40:36.580Z"
   },
   {
    "duration": 6,
    "start_time": "2023-01-26T10:40:36.599Z"
   },
   {
    "duration": 5,
    "start_time": "2023-01-26T10:40:36.606Z"
   },
   {
    "duration": 18,
    "start_time": "2023-01-26T10:40:36.613Z"
   },
   {
    "duration": 17,
    "start_time": "2023-01-26T10:40:36.633Z"
   },
   {
    "duration": 13,
    "start_time": "2023-01-26T10:40:36.668Z"
   },
   {
    "duration": 412,
    "start_time": "2023-01-26T10:40:36.683Z"
   },
   {
    "duration": 3,
    "start_time": "2023-01-26T10:40:37.097Z"
   },
   {
    "duration": 218,
    "start_time": "2023-01-26T10:40:37.102Z"
   },
   {
    "duration": 192,
    "start_time": "2023-01-26T10:40:37.322Z"
   },
   {
    "duration": 220,
    "start_time": "2023-01-26T10:40:37.516Z"
   },
   {
    "duration": 213,
    "start_time": "2023-01-26T10:40:37.738Z"
   },
   {
    "duration": 144,
    "start_time": "2023-01-26T10:40:37.953Z"
   },
   {
    "duration": 176,
    "start_time": "2023-01-26T10:40:38.099Z"
   },
   {
    "duration": 126,
    "start_time": "2023-01-26T10:40:38.277Z"
   },
   {
    "duration": 132,
    "start_time": "2023-01-26T10:40:38.404Z"
   },
   {
    "duration": 145,
    "start_time": "2023-01-26T10:40:38.538Z"
   },
   {
    "duration": 229,
    "start_time": "2023-01-26T10:40:38.684Z"
   },
   {
    "duration": 164,
    "start_time": "2023-01-26T10:40:38.915Z"
   },
   {
    "duration": 133,
    "start_time": "2023-01-26T10:40:39.081Z"
   },
   {
    "duration": 143,
    "start_time": "2023-01-26T10:40:39.215Z"
   },
   {
    "duration": 132,
    "start_time": "2023-01-26T10:40:39.367Z"
   },
   {
    "duration": 142,
    "start_time": "2023-01-26T10:40:39.501Z"
   },
   {
    "duration": 174,
    "start_time": "2023-01-26T10:40:39.645Z"
   },
   {
    "duration": 5,
    "start_time": "2023-01-26T10:40:39.820Z"
   },
   {
    "duration": 19,
    "start_time": "2023-01-26T10:40:39.826Z"
   },
   {
    "duration": 47,
    "start_time": "2023-01-26T10:40:39.847Z"
   },
   {
    "duration": 175,
    "start_time": "2023-01-26T10:40:39.896Z"
   },
   {
    "duration": 170,
    "start_time": "2023-01-26T10:40:40.073Z"
   },
   {
    "duration": 147,
    "start_time": "2023-01-26T10:40:40.245Z"
   },
   {
    "duration": 181,
    "start_time": "2023-01-26T10:40:40.394Z"
   },
   {
    "duration": 220,
    "start_time": "2023-01-26T10:40:40.577Z"
   },
   {
    "duration": 163,
    "start_time": "2023-01-26T10:40:40.799Z"
   },
   {
    "duration": 140,
    "start_time": "2023-01-26T10:40:40.963Z"
   },
   {
    "duration": 139,
    "start_time": "2023-01-26T10:40:41.104Z"
   },
   {
    "duration": 35,
    "start_time": "2023-01-26T10:40:41.245Z"
   },
   {
    "duration": 156,
    "start_time": "2023-01-26T10:40:41.281Z"
   },
   {
    "duration": 7,
    "start_time": "2023-01-26T10:42:05.224Z"
   },
   {
    "duration": 7,
    "start_time": "2023-01-26T10:42:11.143Z"
   },
   {
    "duration": 234,
    "start_time": "2023-01-26T10:43:45.473Z"
   },
   {
    "duration": 215,
    "start_time": "2023-01-26T10:43:52.065Z"
   },
   {
    "duration": 199,
    "start_time": "2023-01-26T10:43:59.647Z"
   },
   {
    "duration": 299,
    "start_time": "2023-01-26T10:44:05.397Z"
   },
   {
    "duration": 240,
    "start_time": "2023-01-26T10:44:12.993Z"
   },
   {
    "duration": 17,
    "start_time": "2023-01-26T10:47:17.667Z"
   },
   {
    "duration": 5,
    "start_time": "2023-01-26T10:49:14.663Z"
   },
   {
    "duration": 6,
    "start_time": "2023-01-26T10:49:29.174Z"
   },
   {
    "duration": 5,
    "start_time": "2023-01-26T10:49:40.481Z"
   },
   {
    "duration": 7,
    "start_time": "2023-01-26T10:50:08.775Z"
   },
   {
    "duration": 638,
    "start_time": "2023-01-26T10:51:53.847Z"
   },
   {
    "duration": 92,
    "start_time": "2023-01-26T10:51:54.487Z"
   },
   {
    "duration": 27,
    "start_time": "2023-01-26T10:51:54.581Z"
   },
   {
    "duration": 38,
    "start_time": "2023-01-26T10:51:54.610Z"
   },
   {
    "duration": 85,
    "start_time": "2023-01-26T10:51:54.650Z"
   },
   {
    "duration": 1983,
    "start_time": "2023-01-26T10:51:54.737Z"
   },
   {
    "duration": 10,
    "start_time": "2023-01-26T10:51:56.722Z"
   },
   {
    "duration": 20,
    "start_time": "2023-01-26T10:51:56.734Z"
   },
   {
    "duration": 3,
    "start_time": "2023-01-26T10:51:56.756Z"
   },
   {
    "duration": 12,
    "start_time": "2023-01-26T10:51:56.761Z"
   },
   {
    "duration": 30,
    "start_time": "2023-01-26T10:51:56.775Z"
   },
   {
    "duration": 18,
    "start_time": "2023-01-26T10:51:56.807Z"
   },
   {
    "duration": 26,
    "start_time": "2023-01-26T10:51:56.827Z"
   },
   {
    "duration": 9,
    "start_time": "2023-01-26T10:51:56.855Z"
   },
   {
    "duration": 14,
    "start_time": "2023-01-26T10:51:56.866Z"
   },
   {
    "duration": 7,
    "start_time": "2023-01-26T10:51:56.882Z"
   },
   {
    "duration": 10,
    "start_time": "2023-01-26T10:51:56.890Z"
   },
   {
    "duration": 6,
    "start_time": "2023-01-26T10:51:56.902Z"
   },
   {
    "duration": 6,
    "start_time": "2023-01-26T10:51:56.909Z"
   },
   {
    "duration": 5,
    "start_time": "2023-01-26T10:51:56.917Z"
   },
   {
    "duration": 16,
    "start_time": "2023-01-26T10:51:56.923Z"
   },
   {
    "duration": 44,
    "start_time": "2023-01-26T10:51:56.940Z"
   },
   {
    "duration": 5,
    "start_time": "2023-01-26T10:51:56.986Z"
   },
   {
    "duration": 9,
    "start_time": "2023-01-26T10:51:56.993Z"
   },
   {
    "duration": 10,
    "start_time": "2023-01-26T10:51:57.003Z"
   },
   {
    "duration": 152,
    "start_time": "2023-01-26T10:51:57.015Z"
   },
   {
    "duration": 10,
    "start_time": "2023-01-26T10:51:57.169Z"
   },
   {
    "duration": 7,
    "start_time": "2023-01-26T10:51:57.182Z"
   },
   {
    "duration": 24,
    "start_time": "2023-01-26T10:51:57.190Z"
   },
   {
    "duration": 3,
    "start_time": "2023-01-26T10:51:57.216Z"
   },
   {
    "duration": 16,
    "start_time": "2023-01-26T10:51:57.220Z"
   },
   {
    "duration": 30,
    "start_time": "2023-01-26T10:51:57.238Z"
   },
   {
    "duration": 6,
    "start_time": "2023-01-26T10:51:57.270Z"
   },
   {
    "duration": 7,
    "start_time": "2023-01-26T10:51:57.277Z"
   },
   {
    "duration": 9,
    "start_time": "2023-01-26T10:51:57.285Z"
   },
   {
    "duration": 8,
    "start_time": "2023-01-26T10:51:57.296Z"
   },
   {
    "duration": 6,
    "start_time": "2023-01-26T10:51:57.306Z"
   },
   {
    "duration": 13,
    "start_time": "2023-01-26T10:51:57.314Z"
   },
   {
    "duration": 7,
    "start_time": "2023-01-26T10:51:57.368Z"
   },
   {
    "duration": 10,
    "start_time": "2023-01-26T10:51:57.377Z"
   },
   {
    "duration": 16,
    "start_time": "2023-01-26T10:51:57.389Z"
   },
   {
    "duration": 13,
    "start_time": "2023-01-26T10:51:57.406Z"
   },
   {
    "duration": 11,
    "start_time": "2023-01-26T10:51:57.421Z"
   },
   {
    "duration": 400,
    "start_time": "2023-01-26T10:51:57.434Z"
   },
   {
    "duration": 4,
    "start_time": "2023-01-26T10:51:57.836Z"
   },
   {
    "duration": 225,
    "start_time": "2023-01-26T10:51:57.842Z"
   },
   {
    "duration": 174,
    "start_time": "2023-01-26T10:51:58.069Z"
   },
   {
    "duration": 197,
    "start_time": "2023-01-26T10:51:58.245Z"
   },
   {
    "duration": 200,
    "start_time": "2023-01-26T10:51:58.444Z"
   },
   {
    "duration": 129,
    "start_time": "2023-01-26T10:51:58.646Z"
   },
   {
    "duration": 169,
    "start_time": "2023-01-26T10:51:58.777Z"
   },
   {
    "duration": 135,
    "start_time": "2023-01-26T10:51:58.948Z"
   },
   {
    "duration": 117,
    "start_time": "2023-01-26T10:51:59.085Z"
   },
   {
    "duration": 134,
    "start_time": "2023-01-26T10:51:59.204Z"
   },
   {
    "duration": 244,
    "start_time": "2023-01-26T10:51:59.339Z"
   },
   {
    "duration": 135,
    "start_time": "2023-01-26T10:51:59.593Z"
   },
   {
    "duration": 158,
    "start_time": "2023-01-26T10:51:59.729Z"
   },
   {
    "duration": 146,
    "start_time": "2023-01-26T10:51:59.889Z"
   },
   {
    "duration": 150,
    "start_time": "2023-01-26T10:52:00.037Z"
   },
   {
    "duration": 146,
    "start_time": "2023-01-26T10:52:00.189Z"
   },
   {
    "duration": 183,
    "start_time": "2023-01-26T10:52:00.336Z"
   },
   {
    "duration": 4,
    "start_time": "2023-01-26T10:52:00.521Z"
   },
   {
    "duration": 55,
    "start_time": "2023-01-26T10:52:00.527Z"
   },
   {
    "duration": 73,
    "start_time": "2023-01-26T10:52:00.583Z"
   },
   {
    "duration": 189,
    "start_time": "2023-01-26T10:52:00.658Z"
   },
   {
    "duration": 180,
    "start_time": "2023-01-26T10:52:00.849Z"
   },
   {
    "duration": 159,
    "start_time": "2023-01-26T10:52:01.031Z"
   },
   {
    "duration": 155,
    "start_time": "2023-01-26T10:52:01.191Z"
   },
   {
    "duration": 227,
    "start_time": "2023-01-26T10:52:01.347Z"
   },
   {
    "duration": 152,
    "start_time": "2023-01-26T10:52:01.576Z"
   },
   {
    "duration": 139,
    "start_time": "2023-01-26T10:52:01.730Z"
   },
   {
    "duration": 140,
    "start_time": "2023-01-26T10:52:01.870Z"
   },
   {
    "duration": 21,
    "start_time": "2023-01-26T10:52:02.012Z"
   },
   {
    "duration": 168,
    "start_time": "2023-01-26T10:52:02.035Z"
   },
   {
    "duration": 776,
    "start_time": "2023-01-26T11:02:07.829Z"
   },
   {
    "duration": 15,
    "start_time": "2023-01-26T11:02:28.676Z"
   },
   {
    "duration": 684,
    "start_time": "2023-01-26T11:05:45.673Z"
   },
   {
    "duration": 8,
    "start_time": "2023-01-26T11:05:58.652Z"
   },
   {
    "duration": 8,
    "start_time": "2023-01-26T11:06:04.017Z"
   },
   {
    "duration": 7,
    "start_time": "2023-01-26T11:06:22.040Z"
   },
   {
    "duration": 7,
    "start_time": "2023-01-26T11:06:38.984Z"
   },
   {
    "duration": 10,
    "start_time": "2023-01-26T11:07:30.000Z"
   },
   {
    "duration": 662,
    "start_time": "2023-01-26T11:08:18.082Z"
   },
   {
    "duration": 102,
    "start_time": "2023-01-26T11:08:18.746Z"
   },
   {
    "duration": 29,
    "start_time": "2023-01-26T11:08:18.850Z"
   },
   {
    "duration": 34,
    "start_time": "2023-01-26T11:08:18.881Z"
   },
   {
    "duration": 92,
    "start_time": "2023-01-26T11:08:18.917Z"
   },
   {
    "duration": 2010,
    "start_time": "2023-01-26T11:08:19.010Z"
   },
   {
    "duration": 9,
    "start_time": "2023-01-26T11:08:21.023Z"
   },
   {
    "duration": 7,
    "start_time": "2023-01-26T11:08:21.034Z"
   },
   {
    "duration": 5,
    "start_time": "2023-01-26T11:08:21.043Z"
   },
   {
    "duration": 7,
    "start_time": "2023-01-26T11:08:21.051Z"
   },
   {
    "duration": 9,
    "start_time": "2023-01-26T11:08:21.060Z"
   },
   {
    "duration": 6,
    "start_time": "2023-01-26T11:08:21.071Z"
   },
   {
    "duration": 19,
    "start_time": "2023-01-26T11:08:21.078Z"
   },
   {
    "duration": 8,
    "start_time": "2023-01-26T11:08:21.099Z"
   },
   {
    "duration": 17,
    "start_time": "2023-01-26T11:08:21.109Z"
   },
   {
    "duration": 7,
    "start_time": "2023-01-26T11:08:21.128Z"
   },
   {
    "duration": 13,
    "start_time": "2023-01-26T11:08:21.137Z"
   },
   {
    "duration": 13,
    "start_time": "2023-01-26T11:08:21.151Z"
   },
   {
    "duration": 12,
    "start_time": "2023-01-26T11:08:21.165Z"
   },
   {
    "duration": 10,
    "start_time": "2023-01-26T11:08:21.179Z"
   },
   {
    "duration": 23,
    "start_time": "2023-01-26T11:08:21.190Z"
   },
   {
    "duration": 31,
    "start_time": "2023-01-26T11:08:21.215Z"
   },
   {
    "duration": 7,
    "start_time": "2023-01-26T11:08:21.247Z"
   },
   {
    "duration": 16,
    "start_time": "2023-01-26T11:08:21.256Z"
   },
   {
    "duration": 9,
    "start_time": "2023-01-26T11:08:21.273Z"
   },
   {
    "duration": 148,
    "start_time": "2023-01-26T11:08:21.284Z"
   },
   {
    "duration": 10,
    "start_time": "2023-01-26T11:08:21.434Z"
   },
   {
    "duration": 20,
    "start_time": "2023-01-26T11:08:21.449Z"
   },
   {
    "duration": 33,
    "start_time": "2023-01-26T11:08:21.470Z"
   },
   {
    "duration": 5,
    "start_time": "2023-01-26T11:08:21.505Z"
   },
   {
    "duration": 45,
    "start_time": "2023-01-26T11:08:21.523Z"
   },
   {
    "duration": 11,
    "start_time": "2023-01-26T11:08:21.570Z"
   },
   {
    "duration": 7,
    "start_time": "2023-01-26T11:08:21.582Z"
   },
   {
    "duration": 7,
    "start_time": "2023-01-26T11:08:21.591Z"
   },
   {
    "duration": 10,
    "start_time": "2023-01-26T11:08:21.600Z"
   },
   {
    "duration": 10,
    "start_time": "2023-01-26T11:08:21.612Z"
   },
   {
    "duration": 7,
    "start_time": "2023-01-26T11:08:21.624Z"
   },
   {
    "duration": 17,
    "start_time": "2023-01-26T11:08:21.666Z"
   },
   {
    "duration": 9,
    "start_time": "2023-01-26T11:08:21.685Z"
   },
   {
    "duration": 7,
    "start_time": "2023-01-26T11:08:21.695Z"
   },
   {
    "duration": 35,
    "start_time": "2023-01-26T11:08:21.704Z"
   },
   {
    "duration": 16,
    "start_time": "2023-01-26T11:08:21.741Z"
   },
   {
    "duration": 24,
    "start_time": "2023-01-26T11:08:21.759Z"
   },
   {
    "duration": 19,
    "start_time": "2023-01-26T11:08:21.785Z"
   },
   {
    "duration": 14,
    "start_time": "2023-01-26T11:08:21.805Z"
   },
   {
    "duration": 371,
    "start_time": "2023-01-26T11:08:21.821Z"
   },
   {
    "duration": 4,
    "start_time": "2023-01-26T11:08:22.193Z"
   },
   {
    "duration": 222,
    "start_time": "2023-01-26T11:08:22.199Z"
   },
   {
    "duration": 224,
    "start_time": "2023-01-26T11:08:22.424Z"
   },
   {
    "duration": 200,
    "start_time": "2023-01-26T11:08:22.650Z"
   },
   {
    "duration": 225,
    "start_time": "2023-01-26T11:08:22.852Z"
   },
   {
    "duration": 147,
    "start_time": "2023-01-26T11:08:23.078Z"
   },
   {
    "duration": 188,
    "start_time": "2023-01-26T11:08:23.227Z"
   },
   {
    "duration": 150,
    "start_time": "2023-01-26T11:08:23.417Z"
   },
   {
    "duration": 126,
    "start_time": "2023-01-26T11:08:23.569Z"
   },
   {
    "duration": 150,
    "start_time": "2023-01-26T11:08:23.696Z"
   },
   {
    "duration": 223,
    "start_time": "2023-01-26T11:08:23.848Z"
   },
   {
    "duration": 136,
    "start_time": "2023-01-26T11:08:24.072Z"
   },
   {
    "duration": 140,
    "start_time": "2023-01-26T11:08:24.210Z"
   },
   {
    "duration": 146,
    "start_time": "2023-01-26T11:08:24.352Z"
   },
   {
    "duration": 148,
    "start_time": "2023-01-26T11:08:24.500Z"
   },
   {
    "duration": 156,
    "start_time": "2023-01-26T11:08:24.650Z"
   },
   {
    "duration": 181,
    "start_time": "2023-01-26T11:08:24.808Z"
   },
   {
    "duration": 4,
    "start_time": "2023-01-26T11:08:24.991Z"
   },
   {
    "duration": 13,
    "start_time": "2023-01-26T11:08:24.997Z"
   },
   {
    "duration": 58,
    "start_time": "2023-01-26T11:08:25.014Z"
   },
   {
    "duration": 232,
    "start_time": "2023-01-26T11:08:25.074Z"
   },
   {
    "duration": 188,
    "start_time": "2023-01-26T11:08:25.308Z"
   },
   {
    "duration": 166,
    "start_time": "2023-01-26T11:08:25.501Z"
   },
   {
    "duration": 167,
    "start_time": "2023-01-26T11:08:25.669Z"
   },
   {
    "duration": 230,
    "start_time": "2023-01-26T11:08:25.837Z"
   },
   {
    "duration": 156,
    "start_time": "2023-01-26T11:08:26.069Z"
   },
   {
    "duration": 137,
    "start_time": "2023-01-26T11:08:26.226Z"
   },
   {
    "duration": 142,
    "start_time": "2023-01-26T11:08:26.367Z"
   },
   {
    "duration": 23,
    "start_time": "2023-01-26T11:08:26.511Z"
   },
   {
    "duration": 158,
    "start_time": "2023-01-26T11:08:26.536Z"
   },
   {
    "duration": 641,
    "start_time": "2023-01-26T11:16:17.882Z"
   },
   {
    "duration": 106,
    "start_time": "2023-01-26T11:16:18.525Z"
   },
   {
    "duration": 44,
    "start_time": "2023-01-26T11:16:18.633Z"
   },
   {
    "duration": 35,
    "start_time": "2023-01-26T11:16:18.681Z"
   },
   {
    "duration": 88,
    "start_time": "2023-01-26T11:16:18.717Z"
   },
   {
    "duration": 2067,
    "start_time": "2023-01-26T11:16:18.807Z"
   },
   {
    "duration": 12,
    "start_time": "2023-01-26T11:16:20.876Z"
   },
   {
    "duration": 7,
    "start_time": "2023-01-26T11:16:20.891Z"
   },
   {
    "duration": 6,
    "start_time": "2023-01-26T11:16:20.900Z"
   },
   {
    "duration": 18,
    "start_time": "2023-01-26T11:16:20.908Z"
   },
   {
    "duration": 6,
    "start_time": "2023-01-26T11:16:20.928Z"
   },
   {
    "duration": 14,
    "start_time": "2023-01-26T11:16:20.935Z"
   },
   {
    "duration": 13,
    "start_time": "2023-01-26T11:16:20.951Z"
   },
   {
    "duration": 14,
    "start_time": "2023-01-26T11:16:20.966Z"
   },
   {
    "duration": 10,
    "start_time": "2023-01-26T11:16:20.983Z"
   },
   {
    "duration": 26,
    "start_time": "2023-01-26T11:16:20.994Z"
   },
   {
    "duration": 13,
    "start_time": "2023-01-26T11:16:21.021Z"
   },
   {
    "duration": 8,
    "start_time": "2023-01-26T11:16:21.036Z"
   },
   {
    "duration": 7,
    "start_time": "2023-01-26T11:16:21.045Z"
   },
   {
    "duration": 6,
    "start_time": "2023-01-26T11:16:21.054Z"
   },
   {
    "duration": 35,
    "start_time": "2023-01-26T11:16:21.062Z"
   },
   {
    "duration": 19,
    "start_time": "2023-01-26T11:16:21.099Z"
   },
   {
    "duration": 6,
    "start_time": "2023-01-26T11:16:21.119Z"
   },
   {
    "duration": 12,
    "start_time": "2023-01-26T11:16:21.127Z"
   },
   {
    "duration": 15,
    "start_time": "2023-01-26T11:16:21.141Z"
   },
   {
    "duration": 152,
    "start_time": "2023-01-26T11:16:21.158Z"
   },
   {
    "duration": 9,
    "start_time": "2023-01-26T11:16:21.312Z"
   },
   {
    "duration": 9,
    "start_time": "2023-01-26T11:16:21.323Z"
   },
   {
    "duration": 49,
    "start_time": "2023-01-26T11:16:21.333Z"
   },
   {
    "duration": 3,
    "start_time": "2023-01-26T11:16:21.384Z"
   },
   {
    "duration": 17,
    "start_time": "2023-01-26T11:16:21.389Z"
   },
   {
    "duration": 6,
    "start_time": "2023-01-26T11:16:21.408Z"
   },
   {
    "duration": 7,
    "start_time": "2023-01-26T11:16:21.416Z"
   },
   {
    "duration": 8,
    "start_time": "2023-01-26T11:16:21.425Z"
   },
   {
    "duration": 7,
    "start_time": "2023-01-26T11:16:21.435Z"
   },
   {
    "duration": 28,
    "start_time": "2023-01-26T11:16:21.444Z"
   },
   {
    "duration": 9,
    "start_time": "2023-01-26T11:16:21.473Z"
   },
   {
    "duration": 16,
    "start_time": "2023-01-26T11:16:21.484Z"
   },
   {
    "duration": 7,
    "start_time": "2023-01-26T11:16:21.502Z"
   },
   {
    "duration": 14,
    "start_time": "2023-01-26T11:16:21.511Z"
   },
   {
    "duration": 8,
    "start_time": "2023-01-26T11:16:21.530Z"
   },
   {
    "duration": 9,
    "start_time": "2023-01-26T11:16:21.540Z"
   },
   {
    "duration": 30,
    "start_time": "2023-01-26T11:16:21.551Z"
   },
   {
    "duration": 17,
    "start_time": "2023-01-26T11:16:21.582Z"
   },
   {
    "duration": 14,
    "start_time": "2023-01-26T11:16:21.600Z"
   },
   {
    "duration": 393,
    "start_time": "2023-01-26T11:16:21.616Z"
   },
   {
    "duration": 4,
    "start_time": "2023-01-26T11:16:22.010Z"
   },
   {
    "duration": 226,
    "start_time": "2023-01-26T11:16:22.016Z"
   },
   {
    "duration": 178,
    "start_time": "2023-01-26T11:16:22.244Z"
   },
   {
    "duration": 192,
    "start_time": "2023-01-26T11:16:22.424Z"
   },
   {
    "duration": 202,
    "start_time": "2023-01-26T11:16:22.618Z"
   },
   {
    "duration": 156,
    "start_time": "2023-01-26T11:16:22.821Z"
   },
   {
    "duration": 201,
    "start_time": "2023-01-26T11:16:22.984Z"
   },
   {
    "duration": 138,
    "start_time": "2023-01-26T11:16:23.187Z"
   },
   {
    "duration": 133,
    "start_time": "2023-01-26T11:16:23.327Z"
   },
   {
    "duration": 148,
    "start_time": "2023-01-26T11:16:23.461Z"
   },
   {
    "duration": 259,
    "start_time": "2023-01-26T11:16:23.611Z"
   },
   {
    "duration": 154,
    "start_time": "2023-01-26T11:16:23.872Z"
   },
   {
    "duration": 162,
    "start_time": "2023-01-26T11:16:24.028Z"
   },
   {
    "duration": 150,
    "start_time": "2023-01-26T11:16:24.192Z"
   },
   {
    "duration": 167,
    "start_time": "2023-01-26T11:16:24.347Z"
   },
   {
    "duration": 166,
    "start_time": "2023-01-26T11:16:24.516Z"
   },
   {
    "duration": 173,
    "start_time": "2023-01-26T11:16:24.683Z"
   },
   {
    "duration": 19,
    "start_time": "2023-01-26T11:16:24.857Z"
   },
   {
    "duration": 44,
    "start_time": "2023-01-26T11:16:24.877Z"
   },
   {
    "duration": 36,
    "start_time": "2023-01-26T11:16:24.923Z"
   },
   {
    "duration": 187,
    "start_time": "2023-01-26T11:16:24.961Z"
   },
   {
    "duration": 213,
    "start_time": "2023-01-26T11:16:25.149Z"
   },
   {
    "duration": 165,
    "start_time": "2023-01-26T11:16:25.369Z"
   },
   {
    "duration": 165,
    "start_time": "2023-01-26T11:16:25.535Z"
   },
   {
    "duration": 221,
    "start_time": "2023-01-26T11:16:25.702Z"
   },
   {
    "duration": 159,
    "start_time": "2023-01-26T11:16:25.925Z"
   },
   {
    "duration": 132,
    "start_time": "2023-01-26T11:16:26.086Z"
   },
   {
    "duration": 138,
    "start_time": "2023-01-26T11:16:26.220Z"
   },
   {
    "duration": 29,
    "start_time": "2023-01-26T11:16:26.360Z"
   },
   {
    "duration": 152,
    "start_time": "2023-01-26T11:16:26.391Z"
   },
   {
    "duration": 656,
    "start_time": "2023-01-26T18:26:07.350Z"
   },
   {
    "duration": 91,
    "start_time": "2023-01-26T18:26:08.007Z"
   },
   {
    "duration": 31,
    "start_time": "2023-01-26T18:26:08.100Z"
   },
   {
    "duration": 33,
    "start_time": "2023-01-26T18:26:08.137Z"
   },
   {
    "duration": 87,
    "start_time": "2023-01-26T18:26:08.172Z"
   },
   {
    "duration": 2034,
    "start_time": "2023-01-26T18:26:08.260Z"
   },
   {
    "duration": 9,
    "start_time": "2023-01-26T18:26:10.296Z"
   },
   {
    "duration": 22,
    "start_time": "2023-01-26T18:26:10.307Z"
   },
   {
    "duration": 3,
    "start_time": "2023-01-26T18:26:10.331Z"
   },
   {
    "duration": 25,
    "start_time": "2023-01-26T18:26:10.337Z"
   },
   {
    "duration": 16,
    "start_time": "2023-01-26T18:26:10.364Z"
   },
   {
    "duration": 13,
    "start_time": "2023-01-26T18:26:10.382Z"
   },
   {
    "duration": 16,
    "start_time": "2023-01-26T18:26:10.397Z"
   },
   {
    "duration": 5,
    "start_time": "2023-01-26T18:26:10.415Z"
   },
   {
    "duration": 35,
    "start_time": "2023-01-26T18:26:10.422Z"
   },
   {
    "duration": 16,
    "start_time": "2023-01-26T18:26:10.459Z"
   },
   {
    "duration": 10,
    "start_time": "2023-01-26T18:26:10.477Z"
   },
   {
    "duration": 13,
    "start_time": "2023-01-26T18:26:10.490Z"
   },
   {
    "duration": 9,
    "start_time": "2023-01-26T18:26:10.505Z"
   },
   {
    "duration": 10,
    "start_time": "2023-01-26T18:26:10.515Z"
   },
   {
    "duration": 35,
    "start_time": "2023-01-26T18:26:10.527Z"
   },
   {
    "duration": 21,
    "start_time": "2023-01-26T18:26:10.564Z"
   },
   {
    "duration": 6,
    "start_time": "2023-01-26T18:26:10.586Z"
   },
   {
    "duration": 9,
    "start_time": "2023-01-26T18:26:10.594Z"
   },
   {
    "duration": 6,
    "start_time": "2023-01-26T18:26:10.605Z"
   },
   {
    "duration": 139,
    "start_time": "2023-01-26T18:26:10.626Z"
   },
   {
    "duration": 9,
    "start_time": "2023-01-26T18:26:10.767Z"
   },
   {
    "duration": 10,
    "start_time": "2023-01-26T18:26:10.780Z"
   },
   {
    "duration": 44,
    "start_time": "2023-01-26T18:26:10.792Z"
   },
   {
    "duration": 4,
    "start_time": "2023-01-26T18:26:10.837Z"
   },
   {
    "duration": 20,
    "start_time": "2023-01-26T18:26:10.843Z"
   },
   {
    "duration": 8,
    "start_time": "2023-01-26T18:26:10.864Z"
   },
   {
    "duration": 7,
    "start_time": "2023-01-26T18:26:10.873Z"
   },
   {
    "duration": 7,
    "start_time": "2023-01-26T18:26:10.882Z"
   },
   {
    "duration": 36,
    "start_time": "2023-01-26T18:26:10.891Z"
   },
   {
    "duration": 16,
    "start_time": "2023-01-26T18:26:10.929Z"
   },
   {
    "duration": 11,
    "start_time": "2023-01-26T18:26:10.947Z"
   },
   {
    "duration": 12,
    "start_time": "2023-01-26T18:26:10.960Z"
   },
   {
    "duration": 7,
    "start_time": "2023-01-26T18:26:10.974Z"
   },
   {
    "duration": 5,
    "start_time": "2023-01-26T18:26:10.983Z"
   },
   {
    "duration": 11,
    "start_time": "2023-01-26T18:26:10.989Z"
   },
   {
    "duration": 30,
    "start_time": "2023-01-26T18:26:11.001Z"
   },
   {
    "duration": 26,
    "start_time": "2023-01-26T18:26:11.033Z"
   },
   {
    "duration": 14,
    "start_time": "2023-01-26T18:26:11.060Z"
   },
   {
    "duration": 12,
    "start_time": "2023-01-26T18:26:11.076Z"
   },
   {
    "duration": 401,
    "start_time": "2023-01-26T18:26:11.089Z"
   },
   {
    "duration": 4,
    "start_time": "2023-01-26T18:26:11.492Z"
   },
   {
    "duration": 248,
    "start_time": "2023-01-26T18:26:11.497Z"
   },
   {
    "duration": 195,
    "start_time": "2023-01-26T18:26:11.747Z"
   },
   {
    "duration": 211,
    "start_time": "2023-01-26T18:26:11.944Z"
   },
   {
    "duration": 219,
    "start_time": "2023-01-26T18:26:12.157Z"
   },
   {
    "duration": 152,
    "start_time": "2023-01-26T18:26:12.378Z"
   },
   {
    "duration": 204,
    "start_time": "2023-01-26T18:26:12.533Z"
   },
   {
    "duration": 144,
    "start_time": "2023-01-26T18:26:12.739Z"
   },
   {
    "duration": 138,
    "start_time": "2023-01-26T18:26:12.885Z"
   },
   {
    "duration": 144,
    "start_time": "2023-01-26T18:26:13.027Z"
   },
   {
    "duration": 249,
    "start_time": "2023-01-26T18:26:13.173Z"
   },
   {
    "duration": 141,
    "start_time": "2023-01-26T18:26:13.424Z"
   },
   {
    "duration": 154,
    "start_time": "2023-01-26T18:26:13.567Z"
   },
   {
    "duration": 143,
    "start_time": "2023-01-26T18:26:13.727Z"
   },
   {
    "duration": 149,
    "start_time": "2023-01-26T18:26:13.872Z"
   },
   {
    "duration": 150,
    "start_time": "2023-01-26T18:26:14.027Z"
   },
   {
    "duration": 181,
    "start_time": "2023-01-26T18:26:14.179Z"
   },
   {
    "duration": 4,
    "start_time": "2023-01-26T18:26:14.362Z"
   },
   {
    "duration": 7,
    "start_time": "2023-01-26T18:26:14.368Z"
   },
   {
    "duration": 53,
    "start_time": "2023-01-26T18:26:14.376Z"
   },
   {
    "duration": 165,
    "start_time": "2023-01-26T18:26:14.431Z"
   },
   {
    "duration": 178,
    "start_time": "2023-01-26T18:26:14.597Z"
   },
   {
    "duration": 169,
    "start_time": "2023-01-26T18:26:14.777Z"
   },
   {
    "duration": 156,
    "start_time": "2023-01-26T18:26:14.948Z"
   },
   {
    "duration": 233,
    "start_time": "2023-01-26T18:26:15.105Z"
   },
   {
    "duration": 140,
    "start_time": "2023-01-26T18:26:15.339Z"
   },
   {
    "duration": 150,
    "start_time": "2023-01-26T18:26:15.480Z"
   },
   {
    "duration": 149,
    "start_time": "2023-01-26T18:26:15.632Z"
   },
   {
    "duration": 23,
    "start_time": "2023-01-26T18:26:15.784Z"
   },
   {
    "duration": 172,
    "start_time": "2023-01-26T18:26:15.809Z"
   },
   {
    "duration": 14,
    "start_time": "2023-01-26T18:27:13.055Z"
   },
   {
    "duration": 93,
    "start_time": "2023-01-26T18:27:17.793Z"
   }
  ],
  "kernelspec": {
   "display_name": "Python 3 (ipykernel)",
   "language": "python",
   "name": "python3"
  },
  "language_info": {
   "codemirror_mode": {
    "name": "ipython",
    "version": 3
   },
   "file_extension": ".py",
   "mimetype": "text/x-python",
   "name": "python",
   "nbconvert_exporter": "python",
   "pygments_lexer": "ipython3",
   "version": "3.10.9"
  },
  "toc": {
   "base_numbering": 1,
   "nav_menu": {},
   "number_sections": true,
   "sideBar": true,
   "skip_h1_title": true,
   "title_cell": "Table of Contents",
   "title_sidebar": "Contents",
   "toc_cell": false,
   "toc_position": {},
   "toc_section_display": true,
   "toc_window_display": true
  }
 },
 "nbformat": 4,
 "nbformat_minor": 2
}

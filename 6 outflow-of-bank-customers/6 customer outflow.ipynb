{
 "cells": [
  {
   "cell_type": "markdown",
   "metadata": {
    "toc": true
   },
   "source": [
    "<h1>Содержание<span class=\"tocSkip\"></span></h1>\n",
    "<div class=\"toc\"><ul class=\"toc-item\"><li><span><a href=\"#Подготовка-и-обзор-данных\" data-toc-modified-id=\"Подготовка-и-обзор-данных-1\"><span class=\"toc-item-num\">1&nbsp;&nbsp;</span>Подготовка и обзор данных</a></span><ul class=\"toc-item\"><li><span><a href=\"#Обзор-данных\" data-toc-modified-id=\"Обзор-данных-1.1\"><span class=\"toc-item-num\">1.1&nbsp;&nbsp;</span>Обзор данных</a></span></li><li><span><a href=\"#Предобработка-данных\" data-toc-modified-id=\"Предобработка-данных-1.2\"><span class=\"toc-item-num\">1.2&nbsp;&nbsp;</span>Предобработка данных</a></span></li><li><span><a href=\"#Исследовательский-анализ-данных.\" data-toc-modified-id=\"Исследовательский-анализ-данных.-1.3\"><span class=\"toc-item-num\">1.3&nbsp;&nbsp;</span>Исследовательский анализ данных.</a></span></li></ul></li><li><span><a href=\"#Исследование-задачи\" data-toc-modified-id=\"Исследование-задачи-2\"><span class=\"toc-item-num\">2&nbsp;&nbsp;</span>Исследование задачи</a></span><ul class=\"toc-item\"><li><span><a href=\"#исследование-данных\" data-toc-modified-id=\"исследование-данных-2.1\"><span class=\"toc-item-num\">2.1&nbsp;&nbsp;</span>исследование данных</a></span></li><li><span><a href=\"#Модель-прогнозирования-оттока-пользователей\" data-toc-modified-id=\"Модель-прогнозирования-оттока-пользователей-2.2\"><span class=\"toc-item-num\">2.2&nbsp;&nbsp;</span>Модель прогнозирования оттока пользователей</a></span><ul class=\"toc-item\"><li><span><a href=\"#подготовка-данных\" data-toc-modified-id=\"подготовка-данных-2.2.1\"><span class=\"toc-item-num\">2.2.1&nbsp;&nbsp;</span>подготовка данных</a></span></li><li><span><a href=\"#Обучаем-модель-дерево-решений.\" data-toc-modified-id=\"Обучаем-модель-дерево-решений.-2.2.2\"><span class=\"toc-item-num\">2.2.2&nbsp;&nbsp;</span>Обучаем модель дерево решений.</a></span></li><li><span><a href=\"#Обучаем-модель-случайный-лес.\" data-toc-modified-id=\"Обучаем-модель-случайный-лес.-2.2.3\"><span class=\"toc-item-num\">2.2.3&nbsp;&nbsp;</span>Обучаем модель случайный лес.</a></span></li><li><span><a href=\"#Обучение-с-помощью-модели-Логистической-регрессии.\" data-toc-modified-id=\"Обучение-с-помощью-модели-Логистической-регрессии.-2.2.4\"><span class=\"toc-item-num\">2.2.4&nbsp;&nbsp;</span>Обучение с помощью модели Логистической регрессии.</a></span></li></ul></li></ul></li><li><span><a href=\"#Борьба-с-дисбалансом\" data-toc-modified-id=\"Борьба-с-дисбалансом-3\"><span class=\"toc-item-num\">3&nbsp;&nbsp;</span>Борьба с дисбалансом</a></span><ul class=\"toc-item\"><li><span><a href=\"#Upsampling\" data-toc-modified-id=\"Upsampling-3.1\"><span class=\"toc-item-num\">3.1&nbsp;&nbsp;</span>Upsampling</a></span></li><li><span><a href=\"#Downsampling\" data-toc-modified-id=\"Downsampling-3.2\"><span class=\"toc-item-num\">3.2&nbsp;&nbsp;</span>Downsampling</a></span></li><li><span><a href=\"#Балансировка-весов-классов\" data-toc-modified-id=\"Балансировка-весов-классов-3.3\"><span class=\"toc-item-num\">3.3&nbsp;&nbsp;</span>Балансировка весов классов</a></span></li></ul></li><li><span><a href=\"#Тестирование-модели\" data-toc-modified-id=\"Тестирование-модели-4\"><span class=\"toc-item-num\">4&nbsp;&nbsp;</span>Тестирование модели</a></span></li><li><span><a href=\"#Чек-лист-готовности-проекта\" data-toc-modified-id=\"Чек-лист-готовности-проекта-5\"><span class=\"toc-item-num\">5&nbsp;&nbsp;</span>Чек-лист готовности проекта</a></span></li></ul></div>"
   ]
  },
  {
   "cell_type": "markdown",
   "metadata": {},
   "source": [
    "# Отток клиентов"
   ]
  },
  {
   "cell_type": "markdown",
   "metadata": {},
   "source": [
    "Из «Бета-Банка» стали уходить клиенты. Каждый месяц. Немного, но заметно. Банковские маркетологи посчитали: сохранять текущих клиентов дешевле, чем привлекать новых.\n",
    "\n",
    "Нужно спрогнозировать, уйдёт клиент из банка в ближайшее время или нет. Вам предоставлены исторические данные о поведении клиентов и расторжении договоров с банком. \n",
    "\n",
    "Постройте модель с предельно большим значением *F1*-меры. Чтобы сдать проект успешно, нужно довести метрику до 0.59. Проверьте *F1*-меру на тестовой выборке самостоятельно.\n",
    "\n",
    "Дополнительно измеряйте *AUC-ROC*, сравнивайте её значение с *F1*-мерой.\n",
    "\n",
    "Источник данных: [https://www.kaggle.com/barelydedicated/bank-customer-churn-modeling](https://www.kaggle.com/barelydedicated/bank-customer-churn-modeling)"
   ]
  },
  {
   "cell_type": "markdown",
   "metadata": {},
   "source": [
    "# Цель исследования\n",
    "Распространенная проблема банков - отток клиентов. Необходимо посторить модель для прогнозирования оттока клиентов из банка на основании представленных исторических  данных о поведении клиентов и расторжении договоров с банком.  \n",
    "\n",
    "Исследование пройдет по следующим шагам:\n",
    "1. Подготовка и обзор данных.\n",
    "2. Исследование задачи.\n",
    "3. Борьба с дисбалансом.\n",
    "4. Тестирование модели."
   ]
  },
  {
   "cell_type": "markdown",
   "metadata": {},
   "source": [
    "## Подготовка и обзор данных"
   ]
  },
  {
   "cell_type": "markdown",
   "metadata": {},
   "source": [
    "### Обзор данных"
   ]
  },
  {
   "cell_type": "markdown",
   "metadata": {},
   "source": [
    "Импортируем все необходимые библиотеки"
   ]
  },
  {
   "cell_type": "code",
   "execution_count": 1,
   "metadata": {},
   "outputs": [],
   "source": [
    "import pandas as pd\n",
    "\n",
    "import matplotlib.pyplot as plt\n",
    "import seaborn as sns\n",
    "import numpy as np\n",
    "from scipy import stats as st\n",
    "\n",
    "from sklearn.model_selection import train_test_split\n",
    "from sklearn.linear_model import LinearRegression\n",
    "from sklearn.tree import DecisionTreeRegressor\n",
    "from sklearn.ensemble import RandomForestRegressor\n",
    "from sklearn.ensemble import RandomForestClassifier\n",
    "from sklearn.metrics import mean_absolute_error\n",
    "\n",
    "from sklearn.tree import DecisionTreeClassifier\n",
    "from sklearn.metrics import accuracy_score\n",
    "from sklearn.linear_model import LogisticRegression\n",
    "from sklearn.linear_model import LinearRegression\n",
    "\n",
    "from sklearn.metrics import precision_score\n",
    "from sklearn.metrics import recall_score\n",
    "from sklearn.metrics import f1_score\n",
    "\n",
    "from sklearn.preprocessing import StandardScaler\n",
    "from sklearn.utils import shuffle\n",
    "from sklearn.metrics import roc_curve\n",
    "from sklearn.metrics import roc_auc_score\n",
    "from sklearn.metrics import r2_score\n",
    "\n",
    "import warnings\n",
    "#убираем системные предупреждения\n",
    "warnings.filterwarnings('ignore')"
   ]
  },
  {
   "cell_type": "markdown",
   "metadata": {},
   "source": [
    "Считаем данные из csv-файла в датафрейм и сохраним в переменную data. Путь к файлу:/datasets/Churn.csv"
   ]
  },
  {
   "cell_type": "code",
   "execution_count": 2,
   "metadata": {},
   "outputs": [],
   "source": [
    "data = pd.read_csv('/datasets/Churn.csv')"
   ]
  },
  {
   "cell_type": "markdown",
   "metadata": {},
   "source": [
    "Проверим качество данных. Выведем 5 строчек таблицы на экран, чтобы ознакомиться с содержимым файла."
   ]
  },
  {
   "cell_type": "code",
   "execution_count": 3,
   "metadata": {},
   "outputs": [
    {
     "data": {
      "text/html": [
       "<div>\n",
       "<style scoped>\n",
       "    .dataframe tbody tr th:only-of-type {\n",
       "        vertical-align: middle;\n",
       "    }\n",
       "\n",
       "    .dataframe tbody tr th {\n",
       "        vertical-align: top;\n",
       "    }\n",
       "\n",
       "    .dataframe thead th {\n",
       "        text-align: right;\n",
       "    }\n",
       "</style>\n",
       "<table border=\"1\" class=\"dataframe\">\n",
       "  <thead>\n",
       "    <tr style=\"text-align: right;\">\n",
       "      <th></th>\n",
       "      <th>RowNumber</th>\n",
       "      <th>CustomerId</th>\n",
       "      <th>Surname</th>\n",
       "      <th>CreditScore</th>\n",
       "      <th>Geography</th>\n",
       "      <th>Gender</th>\n",
       "      <th>Age</th>\n",
       "      <th>Tenure</th>\n",
       "      <th>Balance</th>\n",
       "      <th>NumOfProducts</th>\n",
       "      <th>HasCrCard</th>\n",
       "      <th>IsActiveMember</th>\n",
       "      <th>EstimatedSalary</th>\n",
       "      <th>Exited</th>\n",
       "    </tr>\n",
       "  </thead>\n",
       "  <tbody>\n",
       "    <tr>\n",
       "      <th>0</th>\n",
       "      <td>1</td>\n",
       "      <td>15634602</td>\n",
       "      <td>Hargrave</td>\n",
       "      <td>619</td>\n",
       "      <td>France</td>\n",
       "      <td>Female</td>\n",
       "      <td>42</td>\n",
       "      <td>2.0</td>\n",
       "      <td>0.00</td>\n",
       "      <td>1</td>\n",
       "      <td>1</td>\n",
       "      <td>1</td>\n",
       "      <td>101348.88</td>\n",
       "      <td>1</td>\n",
       "    </tr>\n",
       "    <tr>\n",
       "      <th>1</th>\n",
       "      <td>2</td>\n",
       "      <td>15647311</td>\n",
       "      <td>Hill</td>\n",
       "      <td>608</td>\n",
       "      <td>Spain</td>\n",
       "      <td>Female</td>\n",
       "      <td>41</td>\n",
       "      <td>1.0</td>\n",
       "      <td>83807.86</td>\n",
       "      <td>1</td>\n",
       "      <td>0</td>\n",
       "      <td>1</td>\n",
       "      <td>112542.58</td>\n",
       "      <td>0</td>\n",
       "    </tr>\n",
       "    <tr>\n",
       "      <th>2</th>\n",
       "      <td>3</td>\n",
       "      <td>15619304</td>\n",
       "      <td>Onio</td>\n",
       "      <td>502</td>\n",
       "      <td>France</td>\n",
       "      <td>Female</td>\n",
       "      <td>42</td>\n",
       "      <td>8.0</td>\n",
       "      <td>159660.80</td>\n",
       "      <td>3</td>\n",
       "      <td>1</td>\n",
       "      <td>0</td>\n",
       "      <td>113931.57</td>\n",
       "      <td>1</td>\n",
       "    </tr>\n",
       "    <tr>\n",
       "      <th>3</th>\n",
       "      <td>4</td>\n",
       "      <td>15701354</td>\n",
       "      <td>Boni</td>\n",
       "      <td>699</td>\n",
       "      <td>France</td>\n",
       "      <td>Female</td>\n",
       "      <td>39</td>\n",
       "      <td>1.0</td>\n",
       "      <td>0.00</td>\n",
       "      <td>2</td>\n",
       "      <td>0</td>\n",
       "      <td>0</td>\n",
       "      <td>93826.63</td>\n",
       "      <td>0</td>\n",
       "    </tr>\n",
       "    <tr>\n",
       "      <th>4</th>\n",
       "      <td>5</td>\n",
       "      <td>15737888</td>\n",
       "      <td>Mitchell</td>\n",
       "      <td>850</td>\n",
       "      <td>Spain</td>\n",
       "      <td>Female</td>\n",
       "      <td>43</td>\n",
       "      <td>2.0</td>\n",
       "      <td>125510.82</td>\n",
       "      <td>1</td>\n",
       "      <td>1</td>\n",
       "      <td>1</td>\n",
       "      <td>79084.10</td>\n",
       "      <td>0</td>\n",
       "    </tr>\n",
       "  </tbody>\n",
       "</table>\n",
       "</div>"
      ],
      "text/plain": [
       "   RowNumber  CustomerId   Surname  CreditScore Geography  Gender  Age  \\\n",
       "0          1    15634602  Hargrave          619    France  Female   42   \n",
       "1          2    15647311      Hill          608     Spain  Female   41   \n",
       "2          3    15619304      Onio          502    France  Female   42   \n",
       "3          4    15701354      Boni          699    France  Female   39   \n",
       "4          5    15737888  Mitchell          850     Spain  Female   43   \n",
       "\n",
       "   Tenure    Balance  NumOfProducts  HasCrCard  IsActiveMember  \\\n",
       "0     2.0       0.00              1          1               1   \n",
       "1     1.0   83807.86              1          0               1   \n",
       "2     8.0  159660.80              3          1               0   \n",
       "3     1.0       0.00              2          0               0   \n",
       "4     2.0  125510.82              1          1               1   \n",
       "\n",
       "   EstimatedSalary  Exited  \n",
       "0        101348.88       1  \n",
       "1        112542.58       0  \n",
       "2        113931.57       1  \n",
       "3         93826.63       0  \n",
       "4         79084.10       0  "
      ]
     },
     "execution_count": 3,
     "metadata": {},
     "output_type": "execute_result"
    }
   ],
   "source": [
    "data.head()"
   ]
  },
  {
   "cell_type": "markdown",
   "metadata": {},
   "source": [
    "Выведем основную информацию о датафрейме. Найдем дубликаты."
   ]
  },
  {
   "cell_type": "code",
   "execution_count": 4,
   "metadata": {},
   "outputs": [
    {
     "name": "stdout",
     "output_type": "stream",
     "text": [
      "<class 'pandas.core.frame.DataFrame'>\n",
      "RangeIndex: 10000 entries, 0 to 9999\n",
      "Data columns (total 14 columns):\n",
      " #   Column           Non-Null Count  Dtype  \n",
      "---  ------           --------------  -----  \n",
      " 0   RowNumber        10000 non-null  int64  \n",
      " 1   CustomerId       10000 non-null  int64  \n",
      " 2   Surname          10000 non-null  object \n",
      " 3   CreditScore      10000 non-null  int64  \n",
      " 4   Geography        10000 non-null  object \n",
      " 5   Gender           10000 non-null  object \n",
      " 6   Age              10000 non-null  int64  \n",
      " 7   Tenure           9091 non-null   float64\n",
      " 8   Balance          10000 non-null  float64\n",
      " 9   NumOfProducts    10000 non-null  int64  \n",
      " 10  HasCrCard        10000 non-null  int64  \n",
      " 11  IsActiveMember   10000 non-null  int64  \n",
      " 12  EstimatedSalary  10000 non-null  float64\n",
      " 13  Exited           10000 non-null  int64  \n",
      "dtypes: float64(3), int64(8), object(3)\n",
      "memory usage: 1.1+ MB\n",
      "\n",
      "Число дубликатов: 0\n"
     ]
    }
   ],
   "source": [
    "data.info()\n",
    "print('\\nЧисло дубликатов:', data.duplicated().sum())"
   ]
  },
  {
   "cell_type": "markdown",
   "metadata": {},
   "source": [
    "**<u>Вывод по шагу 1.1</u>**\n",
    "\n",
    "В представленном для анализа датафрейме 10000 строк с данными по клиентам банка.\n",
    "\n",
    "Таблица содержит 14 столбцов.\n",
    "\n",
    "**Признаки**:\n",
    "\n",
    "- RowNumber — индекс строки в данных\n",
    "- CustomerId — уникальный идентификатор клиента\n",
    "- Surname — фамилия\n",
    "- CreditScore — кредитный рейтинг\n",
    "- Geography — страна проживания\n",
    "- Gender — пол\n",
    "- Age — возраст\n",
    "- Tenure — сколько лет человек является клиентом банка\n",
    "- Balance — баланс на счёте\n",
    "- NumOfProducts — количество продуктов банка, используемых клиентом\n",
    "- HasCrCard — наличие кредитной карты\n",
    "- IsActiveMember — активность клиента\n",
    "- EstimatedSalary — предполагаемая зарплата\n",
    "\n",
    "**Целевой признак**:\n",
    "- Exited — факт ухода клиента.\n",
    "\n",
    "После вызова метода info() выявлено:\n",
    "1. наличие пропусков в столбце Tenure. Необходимо выяснить, с чем связаные данные пропуски и определить на какие значения их можно заменить (0, среднее, медиана), или исключить из таблицы, как выбросы.\n",
    "2. необходимо привести названия столбцов к нижнему регистру.\n",
    "3. данные столбца Tenure переведем из float64 в Int64.\n",
    "4. явные дубликаты отсутствуют."
   ]
  },
  {
   "cell_type": "markdown",
   "metadata": {},
   "source": [
    "### Предобработка данных"
   ]
  },
  {
   "cell_type": "markdown",
   "metadata": {},
   "source": [
    "Приведем наименования столбцов к нижнему регистру"
   ]
  },
  {
   "cell_type": "code",
   "execution_count": 5,
   "metadata": {},
   "outputs": [
    {
     "data": {
      "text/plain": [
       "Index(['RowNumber', 'CustomerId', 'Surname', 'CreditScore', 'Geography',\n",
       "       'Gender', 'Age', 'Tenure', 'Balance', 'NumOfProducts', 'HasCrCard',\n",
       "       'IsActiveMember', 'EstimatedSalary', 'Exited'],\n",
       "      dtype='object')"
      ]
     },
     "execution_count": 5,
     "metadata": {},
     "output_type": "execute_result"
    }
   ],
   "source": [
    "data.columns"
   ]
  },
  {
   "cell_type": "code",
   "execution_count": 6,
   "metadata": {},
   "outputs": [
    {
     "data": {
      "text/html": [
       "<div>\n",
       "<style scoped>\n",
       "    .dataframe tbody tr th:only-of-type {\n",
       "        vertical-align: middle;\n",
       "    }\n",
       "\n",
       "    .dataframe tbody tr th {\n",
       "        vertical-align: top;\n",
       "    }\n",
       "\n",
       "    .dataframe thead th {\n",
       "        text-align: right;\n",
       "    }\n",
       "</style>\n",
       "<table border=\"1\" class=\"dataframe\">\n",
       "  <thead>\n",
       "    <tr style=\"text-align: right;\">\n",
       "      <th></th>\n",
       "      <th>row_number</th>\n",
       "      <th>customer_id</th>\n",
       "      <th>surname</th>\n",
       "      <th>credit_score</th>\n",
       "      <th>geography</th>\n",
       "      <th>gender</th>\n",
       "      <th>age</th>\n",
       "      <th>tenure</th>\n",
       "      <th>balance</th>\n",
       "      <th>num_of_products</th>\n",
       "      <th>has_cr_card</th>\n",
       "      <th>is_active_member</th>\n",
       "      <th>estimated_salary</th>\n",
       "      <th>exited</th>\n",
       "    </tr>\n",
       "  </thead>\n",
       "  <tbody>\n",
       "    <tr>\n",
       "      <th>0</th>\n",
       "      <td>1</td>\n",
       "      <td>15634602</td>\n",
       "      <td>Hargrave</td>\n",
       "      <td>619</td>\n",
       "      <td>France</td>\n",
       "      <td>Female</td>\n",
       "      <td>42</td>\n",
       "      <td>2.0</td>\n",
       "      <td>0.00</td>\n",
       "      <td>1</td>\n",
       "      <td>1</td>\n",
       "      <td>1</td>\n",
       "      <td>101348.88</td>\n",
       "      <td>1</td>\n",
       "    </tr>\n",
       "    <tr>\n",
       "      <th>1</th>\n",
       "      <td>2</td>\n",
       "      <td>15647311</td>\n",
       "      <td>Hill</td>\n",
       "      <td>608</td>\n",
       "      <td>Spain</td>\n",
       "      <td>Female</td>\n",
       "      <td>41</td>\n",
       "      <td>1.0</td>\n",
       "      <td>83807.86</td>\n",
       "      <td>1</td>\n",
       "      <td>0</td>\n",
       "      <td>1</td>\n",
       "      <td>112542.58</td>\n",
       "      <td>0</td>\n",
       "    </tr>\n",
       "    <tr>\n",
       "      <th>2</th>\n",
       "      <td>3</td>\n",
       "      <td>15619304</td>\n",
       "      <td>Onio</td>\n",
       "      <td>502</td>\n",
       "      <td>France</td>\n",
       "      <td>Female</td>\n",
       "      <td>42</td>\n",
       "      <td>8.0</td>\n",
       "      <td>159660.80</td>\n",
       "      <td>3</td>\n",
       "      <td>1</td>\n",
       "      <td>0</td>\n",
       "      <td>113931.57</td>\n",
       "      <td>1</td>\n",
       "    </tr>\n",
       "    <tr>\n",
       "      <th>3</th>\n",
       "      <td>4</td>\n",
       "      <td>15701354</td>\n",
       "      <td>Boni</td>\n",
       "      <td>699</td>\n",
       "      <td>France</td>\n",
       "      <td>Female</td>\n",
       "      <td>39</td>\n",
       "      <td>1.0</td>\n",
       "      <td>0.00</td>\n",
       "      <td>2</td>\n",
       "      <td>0</td>\n",
       "      <td>0</td>\n",
       "      <td>93826.63</td>\n",
       "      <td>0</td>\n",
       "    </tr>\n",
       "    <tr>\n",
       "      <th>4</th>\n",
       "      <td>5</td>\n",
       "      <td>15737888</td>\n",
       "      <td>Mitchell</td>\n",
       "      <td>850</td>\n",
       "      <td>Spain</td>\n",
       "      <td>Female</td>\n",
       "      <td>43</td>\n",
       "      <td>2.0</td>\n",
       "      <td>125510.82</td>\n",
       "      <td>1</td>\n",
       "      <td>1</td>\n",
       "      <td>1</td>\n",
       "      <td>79084.10</td>\n",
       "      <td>0</td>\n",
       "    </tr>\n",
       "  </tbody>\n",
       "</table>\n",
       "</div>"
      ],
      "text/plain": [
       "   row_number  customer_id   surname  credit_score geography  gender  age  \\\n",
       "0           1     15634602  Hargrave           619    France  Female   42   \n",
       "1           2     15647311      Hill           608     Spain  Female   41   \n",
       "2           3     15619304      Onio           502    France  Female   42   \n",
       "3           4     15701354      Boni           699    France  Female   39   \n",
       "4           5     15737888  Mitchell           850     Spain  Female   43   \n",
       "\n",
       "   tenure    balance  num_of_products  has_cr_card  is_active_member  \\\n",
       "0     2.0       0.00                1            1                 1   \n",
       "1     1.0   83807.86                1            0                 1   \n",
       "2     8.0  159660.80                3            1                 0   \n",
       "3     1.0       0.00                2            0                 0   \n",
       "4     2.0  125510.82                1            1                 1   \n",
       "\n",
       "   estimated_salary  exited  \n",
       "0         101348.88       1  \n",
       "1         112542.58       0  \n",
       "2         113931.57       1  \n",
       "3          93826.63       0  \n",
       "4          79084.10       0  "
      ]
     },
     "execution_count": 6,
     "metadata": {},
     "output_type": "execute_result"
    }
   ],
   "source": [
    "new_names = ['row_number', 'customer_id', 'surname', 'credit_score', 'geography',\n",
    "       'gender', 'age', 'tenure', 'balance', 'num_of_products', 'has_cr_card',\n",
    "       'is_active_member', 'estimated_salary', 'exited']\n",
    "data.rename(columns=dict(zip(data.columns, new_names)), inplace=True)\n",
    "data.head() # проверим внесенные изменения"
   ]
  },
  {
   "cell_type": "markdown",
   "metadata": {},
   "source": [
    "Наименования столбцов приведены к нижнему регистру. Использован змеиный стиль."
   ]
  },
  {
   "cell_type": "code",
   "execution_count": 7,
   "metadata": {},
   "outputs": [
    {
     "data": {
      "text/plain": [
       "0          2\n",
       "1          1\n",
       "2          8\n",
       "3          1\n",
       "4          2\n",
       "        ... \n",
       "9995       5\n",
       "9996      10\n",
       "9997       7\n",
       "9998       3\n",
       "9999    <NA>\n",
       "Name: tenure, Length: 10000, dtype: Int64"
      ]
     },
     "execution_count": 7,
     "metadata": {},
     "output_type": "execute_result"
    }
   ],
   "source": [
    "# данные столбца Tenure переведем из float64 в Int64.\n",
    "data['tenure'] = data['tenure'].astype('Int64')\n",
    "data['tenure']"
   ]
  },
  {
   "cell_type": "code",
   "execution_count": 8,
   "metadata": {},
   "outputs": [
    {
     "data": {
      "text/plain": [
       "<IntegerArray>\n",
       "[2, 1, 8, 7, 4, 6, 3, 10, 5, 9, 0, <NA>]\n",
       "Length: 12, dtype: Int64"
      ]
     },
     "execution_count": 8,
     "metadata": {},
     "output_type": "execute_result"
    }
   ],
   "source": [
    "data['tenure'].unique()"
   ]
  },
  {
   "cell_type": "code",
   "execution_count": 9,
   "metadata": {},
   "outputs": [
    {
     "data": {
      "text/plain": [
       "row_number            0\n",
       "customer_id           0\n",
       "surname               0\n",
       "credit_score          0\n",
       "geography             0\n",
       "gender                0\n",
       "age                   0\n",
       "tenure              909\n",
       "balance               0\n",
       "num_of_products       0\n",
       "has_cr_card           0\n",
       "is_active_member      0\n",
       "estimated_salary      0\n",
       "exited                0\n",
       "dtype: int64"
      ]
     },
     "execution_count": 9,
     "metadata": {},
     "output_type": "execute_result"
    }
   ],
   "source": [
    "# проверим пропуски\n",
    "data.isna().sum()"
   ]
  },
  {
   "cell_type": "code",
   "execution_count": 10,
   "metadata": {},
   "outputs": [
    {
     "data": {
      "text/html": [
       "<style  type=\"text/css\" >\n",
       "#T_d0a59_row0_col0,#T_d0a59_row1_col0,#T_d0a59_row2_col0,#T_d0a59_row3_col0,#T_d0a59_row4_col0,#T_d0a59_row5_col0,#T_d0a59_row6_col0,#T_d0a59_row8_col0,#T_d0a59_row9_col0,#T_d0a59_row10_col0,#T_d0a59_row11_col0,#T_d0a59_row12_col0,#T_d0a59_row13_col0{\n",
       "            background-color:  #3b4cc0;\n",
       "            color:  #f1f1f1;\n",
       "        }#T_d0a59_row7_col0{\n",
       "            background-color:  #b40426;\n",
       "            color:  #f1f1f1;\n",
       "        }</style><table id=\"T_d0a59_\" ><thead>    <tr>        <th class=\"blank level0\" ></th>        <th class=\"col_heading level0 col0\" >0</th>    </tr></thead><tbody>\n",
       "                <tr>\n",
       "                        <th id=\"T_d0a59_level0_row0\" class=\"row_heading level0 row0\" >row_number</th>\n",
       "                        <td id=\"T_d0a59_row0_col0\" class=\"data row0 col0\" >0.000000</td>\n",
       "            </tr>\n",
       "            <tr>\n",
       "                        <th id=\"T_d0a59_level0_row1\" class=\"row_heading level0 row1\" >customer_id</th>\n",
       "                        <td id=\"T_d0a59_row1_col0\" class=\"data row1 col0\" >0.000000</td>\n",
       "            </tr>\n",
       "            <tr>\n",
       "                        <th id=\"T_d0a59_level0_row2\" class=\"row_heading level0 row2\" >surname</th>\n",
       "                        <td id=\"T_d0a59_row2_col0\" class=\"data row2 col0\" >0.000000</td>\n",
       "            </tr>\n",
       "            <tr>\n",
       "                        <th id=\"T_d0a59_level0_row3\" class=\"row_heading level0 row3\" >credit_score</th>\n",
       "                        <td id=\"T_d0a59_row3_col0\" class=\"data row3 col0\" >0.000000</td>\n",
       "            </tr>\n",
       "            <tr>\n",
       "                        <th id=\"T_d0a59_level0_row4\" class=\"row_heading level0 row4\" >geography</th>\n",
       "                        <td id=\"T_d0a59_row4_col0\" class=\"data row4 col0\" >0.000000</td>\n",
       "            </tr>\n",
       "            <tr>\n",
       "                        <th id=\"T_d0a59_level0_row5\" class=\"row_heading level0 row5\" >gender</th>\n",
       "                        <td id=\"T_d0a59_row5_col0\" class=\"data row5 col0\" >0.000000</td>\n",
       "            </tr>\n",
       "            <tr>\n",
       "                        <th id=\"T_d0a59_level0_row6\" class=\"row_heading level0 row6\" >age</th>\n",
       "                        <td id=\"T_d0a59_row6_col0\" class=\"data row6 col0\" >0.000000</td>\n",
       "            </tr>\n",
       "            <tr>\n",
       "                        <th id=\"T_d0a59_level0_row7\" class=\"row_heading level0 row7\" >tenure</th>\n",
       "                        <td id=\"T_d0a59_row7_col0\" class=\"data row7 col0\" >9.100000</td>\n",
       "            </tr>\n",
       "            <tr>\n",
       "                        <th id=\"T_d0a59_level0_row8\" class=\"row_heading level0 row8\" >balance</th>\n",
       "                        <td id=\"T_d0a59_row8_col0\" class=\"data row8 col0\" >0.000000</td>\n",
       "            </tr>\n",
       "            <tr>\n",
       "                        <th id=\"T_d0a59_level0_row9\" class=\"row_heading level0 row9\" >num_of_products</th>\n",
       "                        <td id=\"T_d0a59_row9_col0\" class=\"data row9 col0\" >0.000000</td>\n",
       "            </tr>\n",
       "            <tr>\n",
       "                        <th id=\"T_d0a59_level0_row10\" class=\"row_heading level0 row10\" >has_cr_card</th>\n",
       "                        <td id=\"T_d0a59_row10_col0\" class=\"data row10 col0\" >0.000000</td>\n",
       "            </tr>\n",
       "            <tr>\n",
       "                        <th id=\"T_d0a59_level0_row11\" class=\"row_heading level0 row11\" >is_active_member</th>\n",
       "                        <td id=\"T_d0a59_row11_col0\" class=\"data row11 col0\" >0.000000</td>\n",
       "            </tr>\n",
       "            <tr>\n",
       "                        <th id=\"T_d0a59_level0_row12\" class=\"row_heading level0 row12\" >estimated_salary</th>\n",
       "                        <td id=\"T_d0a59_row12_col0\" class=\"data row12 col0\" >0.000000</td>\n",
       "            </tr>\n",
       "            <tr>\n",
       "                        <th id=\"T_d0a59_level0_row13\" class=\"row_heading level0 row13\" >exited</th>\n",
       "                        <td id=\"T_d0a59_row13_col0\" class=\"data row13 col0\" >0.000000</td>\n",
       "            </tr>\n",
       "    </tbody></table>"
      ],
      "text/plain": [
       "<pandas.io.formats.style.Styler at 0x7f4da7e80610>"
      ]
     },
     "execution_count": 10,
     "metadata": {},
     "output_type": "execute_result"
    }
   ],
   "source": [
    "# так мы можем посмотреть долю пропусков\n",
    "pd.DataFrame(round(data.isna().mean()*100,1)).style.background_gradient('coolwarm')"
   ]
  },
  {
   "cell_type": "code",
   "execution_count": 11,
   "metadata": {},
   "outputs": [
    {
     "data": {
      "text/html": [
       "<div>\n",
       "<style scoped>\n",
       "    .dataframe tbody tr th:only-of-type {\n",
       "        vertical-align: middle;\n",
       "    }\n",
       "\n",
       "    .dataframe tbody tr th {\n",
       "        vertical-align: top;\n",
       "    }\n",
       "\n",
       "    .dataframe thead th {\n",
       "        text-align: right;\n",
       "    }\n",
       "</style>\n",
       "<table border=\"1\" class=\"dataframe\">\n",
       "  <thead>\n",
       "    <tr style=\"text-align: right;\">\n",
       "      <th></th>\n",
       "      <th>tenure</th>\n",
       "      <th>count</th>\n",
       "    </tr>\n",
       "  </thead>\n",
       "  <tbody>\n",
       "    <tr>\n",
       "      <th>0</th>\n",
       "      <td>0</td>\n",
       "      <td>382</td>\n",
       "    </tr>\n",
       "    <tr>\n",
       "      <th>1</th>\n",
       "      <td>1</td>\n",
       "      <td>952</td>\n",
       "    </tr>\n",
       "    <tr>\n",
       "      <th>2</th>\n",
       "      <td>2</td>\n",
       "      <td>950</td>\n",
       "    </tr>\n",
       "    <tr>\n",
       "      <th>3</th>\n",
       "      <td>3</td>\n",
       "      <td>928</td>\n",
       "    </tr>\n",
       "    <tr>\n",
       "      <th>4</th>\n",
       "      <td>4</td>\n",
       "      <td>885</td>\n",
       "    </tr>\n",
       "    <tr>\n",
       "      <th>5</th>\n",
       "      <td>5</td>\n",
       "      <td>927</td>\n",
       "    </tr>\n",
       "    <tr>\n",
       "      <th>6</th>\n",
       "      <td>6</td>\n",
       "      <td>881</td>\n",
       "    </tr>\n",
       "    <tr>\n",
       "      <th>7</th>\n",
       "      <td>7</td>\n",
       "      <td>925</td>\n",
       "    </tr>\n",
       "    <tr>\n",
       "      <th>8</th>\n",
       "      <td>8</td>\n",
       "      <td>933</td>\n",
       "    </tr>\n",
       "    <tr>\n",
       "      <th>9</th>\n",
       "      <td>9</td>\n",
       "      <td>882</td>\n",
       "    </tr>\n",
       "    <tr>\n",
       "      <th>10</th>\n",
       "      <td>10</td>\n",
       "      <td>446</td>\n",
       "    </tr>\n",
       "  </tbody>\n",
       "</table>\n",
       "</div>"
      ],
      "text/plain": [
       "    tenure  count\n",
       "0        0    382\n",
       "1        1    952\n",
       "2        2    950\n",
       "3        3    928\n",
       "4        4    885\n",
       "5        5    927\n",
       "6        6    881\n",
       "7        7    925\n",
       "8        8    933\n",
       "9        9    882\n",
       "10      10    446"
      ]
     },
     "execution_count": 11,
     "metadata": {},
     "output_type": "execute_result"
    }
   ],
   "source": [
    "# посчитаем количество клиентов по годам обслуживания в банке\n",
    "data_tenure = data.groupby('tenure')['row_number'].agg('count').reset_index()\n",
    "data_tenure.columns = ['tenure', 'count']\n",
    "data_tenure"
   ]
  },
  {
   "cell_type": "markdown",
   "metadata": {},
   "source": [
    "Срок обслуживания в банке - это важная метрика при принятии решения о причинах оттока, в нашем случае отсутствующие данные составляют 9.1% от объема имеющихся данных. Это много, поэтому мы не можем просто удалить данные.  Принято решение заменить строки с отсутствующими значениями столбца tenure на 0."
   ]
  },
  {
   "cell_type": "code",
   "execution_count": 12,
   "metadata": {},
   "outputs": [],
   "source": [
    "# заполняем пропуски 0.\n",
    "data['tenure'] = data['tenure'].fillna(0)"
   ]
  },
  {
   "cell_type": "code",
   "execution_count": 13,
   "metadata": {},
   "outputs": [
    {
     "data": {
      "text/plain": [
       "row_number          0\n",
       "customer_id         0\n",
       "surname             0\n",
       "credit_score        0\n",
       "geography           0\n",
       "gender              0\n",
       "age                 0\n",
       "tenure              0\n",
       "balance             0\n",
       "num_of_products     0\n",
       "has_cr_card         0\n",
       "is_active_member    0\n",
       "estimated_salary    0\n",
       "exited              0\n",
       "dtype: int64"
      ]
     },
     "execution_count": 13,
     "metadata": {},
     "output_type": "execute_result"
    }
   ],
   "source": [
    "# проверяем отсутствие пропусков после замены\n",
    "data.isna().sum()"
   ]
  },
  {
   "cell_type": "markdown",
   "metadata": {},
   "source": [
    "Пропуски заполнены."
   ]
  },
  {
   "cell_type": "markdown",
   "metadata": {},
   "source": [
    "В данных присутствуют столбцы, которые не нужны при анализе оттока клиентов банка. Их можно удалить."
   ]
  },
  {
   "cell_type": "code",
   "execution_count": 14,
   "metadata": {},
   "outputs": [
    {
     "data": {
      "text/html": [
       "<div>\n",
       "<style scoped>\n",
       "    .dataframe tbody tr th:only-of-type {\n",
       "        vertical-align: middle;\n",
       "    }\n",
       "\n",
       "    .dataframe tbody tr th {\n",
       "        vertical-align: top;\n",
       "    }\n",
       "\n",
       "    .dataframe thead th {\n",
       "        text-align: right;\n",
       "    }\n",
       "</style>\n",
       "<table border=\"1\" class=\"dataframe\">\n",
       "  <thead>\n",
       "    <tr style=\"text-align: right;\">\n",
       "      <th></th>\n",
       "      <th>credit_score</th>\n",
       "      <th>geography</th>\n",
       "      <th>gender</th>\n",
       "      <th>age</th>\n",
       "      <th>tenure</th>\n",
       "      <th>balance</th>\n",
       "      <th>num_of_products</th>\n",
       "      <th>has_cr_card</th>\n",
       "      <th>is_active_member</th>\n",
       "      <th>estimated_salary</th>\n",
       "      <th>exited</th>\n",
       "    </tr>\n",
       "  </thead>\n",
       "  <tbody>\n",
       "    <tr>\n",
       "      <th>0</th>\n",
       "      <td>619</td>\n",
       "      <td>France</td>\n",
       "      <td>Female</td>\n",
       "      <td>42</td>\n",
       "      <td>2</td>\n",
       "      <td>0.00</td>\n",
       "      <td>1</td>\n",
       "      <td>1</td>\n",
       "      <td>1</td>\n",
       "      <td>101348.88</td>\n",
       "      <td>1</td>\n",
       "    </tr>\n",
       "    <tr>\n",
       "      <th>1</th>\n",
       "      <td>608</td>\n",
       "      <td>Spain</td>\n",
       "      <td>Female</td>\n",
       "      <td>41</td>\n",
       "      <td>1</td>\n",
       "      <td>83807.86</td>\n",
       "      <td>1</td>\n",
       "      <td>0</td>\n",
       "      <td>1</td>\n",
       "      <td>112542.58</td>\n",
       "      <td>0</td>\n",
       "    </tr>\n",
       "    <tr>\n",
       "      <th>2</th>\n",
       "      <td>502</td>\n",
       "      <td>France</td>\n",
       "      <td>Female</td>\n",
       "      <td>42</td>\n",
       "      <td>8</td>\n",
       "      <td>159660.80</td>\n",
       "      <td>3</td>\n",
       "      <td>1</td>\n",
       "      <td>0</td>\n",
       "      <td>113931.57</td>\n",
       "      <td>1</td>\n",
       "    </tr>\n",
       "    <tr>\n",
       "      <th>3</th>\n",
       "      <td>699</td>\n",
       "      <td>France</td>\n",
       "      <td>Female</td>\n",
       "      <td>39</td>\n",
       "      <td>1</td>\n",
       "      <td>0.00</td>\n",
       "      <td>2</td>\n",
       "      <td>0</td>\n",
       "      <td>0</td>\n",
       "      <td>93826.63</td>\n",
       "      <td>0</td>\n",
       "    </tr>\n",
       "    <tr>\n",
       "      <th>4</th>\n",
       "      <td>850</td>\n",
       "      <td>Spain</td>\n",
       "      <td>Female</td>\n",
       "      <td>43</td>\n",
       "      <td>2</td>\n",
       "      <td>125510.82</td>\n",
       "      <td>1</td>\n",
       "      <td>1</td>\n",
       "      <td>1</td>\n",
       "      <td>79084.10</td>\n",
       "      <td>0</td>\n",
       "    </tr>\n",
       "  </tbody>\n",
       "</table>\n",
       "</div>"
      ],
      "text/plain": [
       "   credit_score geography  gender  age  tenure    balance  num_of_products  \\\n",
       "0           619    France  Female   42       2       0.00                1   \n",
       "1           608     Spain  Female   41       1   83807.86                1   \n",
       "2           502    France  Female   42       8  159660.80                3   \n",
       "3           699    France  Female   39       1       0.00                2   \n",
       "4           850     Spain  Female   43       2  125510.82                1   \n",
       "\n",
       "   has_cr_card  is_active_member  estimated_salary  exited  \n",
       "0            1                 1         101348.88       1  \n",
       "1            0                 1         112542.58       0  \n",
       "2            1                 0         113931.57       1  \n",
       "3            0                 0          93826.63       0  \n",
       "4            1                 1          79084.10       0  "
      ]
     },
     "execution_count": 14,
     "metadata": {},
     "output_type": "execute_result"
    }
   ],
   "source": [
    "data_del = data.drop(['row_number', 'customer_id', 'surname'], axis=1)\n",
    "data_del.head()"
   ]
  },
  {
   "cell_type": "code",
   "execution_count": 15,
   "metadata": {},
   "outputs": [
    {
     "name": "stdout",
     "output_type": "stream",
     "text": [
      "<class 'pandas.core.frame.DataFrame'>\n",
      "RangeIndex: 10000 entries, 0 to 9999\n",
      "Data columns (total 11 columns):\n",
      " #   Column            Non-Null Count  Dtype  \n",
      "---  ------            --------------  -----  \n",
      " 0   credit_score      10000 non-null  int64  \n",
      " 1   geography         10000 non-null  object \n",
      " 2   gender            10000 non-null  object \n",
      " 3   age               10000 non-null  int64  \n",
      " 4   tenure            10000 non-null  Int64  \n",
      " 5   balance           10000 non-null  float64\n",
      " 6   num_of_products   10000 non-null  int64  \n",
      " 7   has_cr_card       10000 non-null  int64  \n",
      " 8   is_active_member  10000 non-null  int64  \n",
      " 9   estimated_salary  10000 non-null  float64\n",
      " 10  exited            10000 non-null  int64  \n",
      "dtypes: Int64(1), float64(2), int64(6), object(2)\n",
      "memory usage: 869.3+ KB\n"
     ]
    }
   ],
   "source": [
    "data_del.info()"
   ]
  },
  {
   "cell_type": "markdown",
   "metadata": {},
   "source": [
    "**<u>Вывод по шагу 1.2</u>**\n",
    "\n",
    "В процессе предобработки данных:\n",
    "1. была произведена замена наименований столбцов на нижний регистр, применен змеиный стиль.\n",
    "2. тип данных столбца tenure приведен к типу данных Int64.\n",
    "3. пропуски в столбце tenure заменены на 0.\n",
    "4. удалены не нужные для анализа столбцы: row_number, customer_id, surname.\n",
    "5. дубликаты отсутствуют. "
   ]
  },
  {
   "cell_type": "markdown",
   "metadata": {},
   "source": [
    "### Исследовательский анализ данных."
   ]
  },
  {
   "cell_type": "markdown",
   "metadata": {},
   "source": [
    "Посмотрим на наш датасет"
   ]
  },
  {
   "cell_type": "code",
   "execution_count": 16,
   "metadata": {},
   "outputs": [
    {
     "data": {
      "text/html": [
       "<div>\n",
       "<style scoped>\n",
       "    .dataframe tbody tr th:only-of-type {\n",
       "        vertical-align: middle;\n",
       "    }\n",
       "\n",
       "    .dataframe tbody tr th {\n",
       "        vertical-align: top;\n",
       "    }\n",
       "\n",
       "    .dataframe thead th {\n",
       "        text-align: right;\n",
       "    }\n",
       "</style>\n",
       "<table border=\"1\" class=\"dataframe\">\n",
       "  <thead>\n",
       "    <tr style=\"text-align: right;\">\n",
       "      <th></th>\n",
       "      <th>credit_score</th>\n",
       "      <th>age</th>\n",
       "      <th>tenure</th>\n",
       "      <th>balance</th>\n",
       "      <th>num_of_products</th>\n",
       "      <th>has_cr_card</th>\n",
       "      <th>is_active_member</th>\n",
       "      <th>estimated_salary</th>\n",
       "      <th>exited</th>\n",
       "    </tr>\n",
       "  </thead>\n",
       "  <tbody>\n",
       "    <tr>\n",
       "      <th>count</th>\n",
       "      <td>10000.000000</td>\n",
       "      <td>10000.000000</td>\n",
       "      <td>10000.000000</td>\n",
       "      <td>10000.000000</td>\n",
       "      <td>10000.000000</td>\n",
       "      <td>10000.00000</td>\n",
       "      <td>10000.000000</td>\n",
       "      <td>10000.000000</td>\n",
       "      <td>10000.000000</td>\n",
       "    </tr>\n",
       "    <tr>\n",
       "      <th>mean</th>\n",
       "      <td>650.528800</td>\n",
       "      <td>38.921800</td>\n",
       "      <td>4.543400</td>\n",
       "      <td>76485.889288</td>\n",
       "      <td>1.530200</td>\n",
       "      <td>0.70550</td>\n",
       "      <td>0.515100</td>\n",
       "      <td>100090.239881</td>\n",
       "      <td>0.203700</td>\n",
       "    </tr>\n",
       "    <tr>\n",
       "      <th>std</th>\n",
       "      <td>96.653299</td>\n",
       "      <td>10.487806</td>\n",
       "      <td>3.111573</td>\n",
       "      <td>62397.405202</td>\n",
       "      <td>0.581654</td>\n",
       "      <td>0.45584</td>\n",
       "      <td>0.499797</td>\n",
       "      <td>57510.492818</td>\n",
       "      <td>0.402769</td>\n",
       "    </tr>\n",
       "    <tr>\n",
       "      <th>min</th>\n",
       "      <td>350.000000</td>\n",
       "      <td>18.000000</td>\n",
       "      <td>0.000000</td>\n",
       "      <td>0.000000</td>\n",
       "      <td>1.000000</td>\n",
       "      <td>0.00000</td>\n",
       "      <td>0.000000</td>\n",
       "      <td>11.580000</td>\n",
       "      <td>0.000000</td>\n",
       "    </tr>\n",
       "    <tr>\n",
       "      <th>25%</th>\n",
       "      <td>584.000000</td>\n",
       "      <td>32.000000</td>\n",
       "      <td>2.000000</td>\n",
       "      <td>0.000000</td>\n",
       "      <td>1.000000</td>\n",
       "      <td>0.00000</td>\n",
       "      <td>0.000000</td>\n",
       "      <td>51002.110000</td>\n",
       "      <td>0.000000</td>\n",
       "    </tr>\n",
       "    <tr>\n",
       "      <th>50%</th>\n",
       "      <td>652.000000</td>\n",
       "      <td>37.000000</td>\n",
       "      <td>4.000000</td>\n",
       "      <td>97198.540000</td>\n",
       "      <td>1.000000</td>\n",
       "      <td>1.00000</td>\n",
       "      <td>1.000000</td>\n",
       "      <td>100193.915000</td>\n",
       "      <td>0.000000</td>\n",
       "    </tr>\n",
       "    <tr>\n",
       "      <th>75%</th>\n",
       "      <td>718.000000</td>\n",
       "      <td>44.000000</td>\n",
       "      <td>7.000000</td>\n",
       "      <td>127644.240000</td>\n",
       "      <td>2.000000</td>\n",
       "      <td>1.00000</td>\n",
       "      <td>1.000000</td>\n",
       "      <td>149388.247500</td>\n",
       "      <td>0.000000</td>\n",
       "    </tr>\n",
       "    <tr>\n",
       "      <th>max</th>\n",
       "      <td>850.000000</td>\n",
       "      <td>92.000000</td>\n",
       "      <td>10.000000</td>\n",
       "      <td>250898.090000</td>\n",
       "      <td>4.000000</td>\n",
       "      <td>1.00000</td>\n",
       "      <td>1.000000</td>\n",
       "      <td>199992.480000</td>\n",
       "      <td>1.000000</td>\n",
       "    </tr>\n",
       "  </tbody>\n",
       "</table>\n",
       "</div>"
      ],
      "text/plain": [
       "       credit_score           age        tenure        balance  \\\n",
       "count  10000.000000  10000.000000  10000.000000   10000.000000   \n",
       "mean     650.528800     38.921800      4.543400   76485.889288   \n",
       "std       96.653299     10.487806      3.111573   62397.405202   \n",
       "min      350.000000     18.000000      0.000000       0.000000   \n",
       "25%      584.000000     32.000000      2.000000       0.000000   \n",
       "50%      652.000000     37.000000      4.000000   97198.540000   \n",
       "75%      718.000000     44.000000      7.000000  127644.240000   \n",
       "max      850.000000     92.000000     10.000000  250898.090000   \n",
       "\n",
       "       num_of_products  has_cr_card  is_active_member  estimated_salary  \\\n",
       "count     10000.000000  10000.00000      10000.000000      10000.000000   \n",
       "mean          1.530200      0.70550          0.515100     100090.239881   \n",
       "std           0.581654      0.45584          0.499797      57510.492818   \n",
       "min           1.000000      0.00000          0.000000         11.580000   \n",
       "25%           1.000000      0.00000          0.000000      51002.110000   \n",
       "50%           1.000000      1.00000          1.000000     100193.915000   \n",
       "75%           2.000000      1.00000          1.000000     149388.247500   \n",
       "max           4.000000      1.00000          1.000000     199992.480000   \n",
       "\n",
       "             exited  \n",
       "count  10000.000000  \n",
       "mean       0.203700  \n",
       "std        0.402769  \n",
       "min        0.000000  \n",
       "25%        0.000000  \n",
       "50%        0.000000  \n",
       "75%        0.000000  \n",
       "max        1.000000  "
      ]
     },
     "execution_count": 16,
     "metadata": {},
     "output_type": "execute_result"
    }
   ],
   "source": [
    "data_del.describe()"
   ]
  },
  {
   "cell_type": "code",
   "execution_count": 17,
   "metadata": {},
   "outputs": [
    {
     "data": {
      "text/html": [
       "<div>\n",
       "<style scoped>\n",
       "    .dataframe tbody tr th:only-of-type {\n",
       "        vertical-align: middle;\n",
       "    }\n",
       "\n",
       "    .dataframe tbody tr th {\n",
       "        vertical-align: top;\n",
       "    }\n",
       "\n",
       "    .dataframe thead th {\n",
       "        text-align: right;\n",
       "    }\n",
       "</style>\n",
       "<table border=\"1\" class=\"dataframe\">\n",
       "  <thead>\n",
       "    <tr style=\"text-align: right;\">\n",
       "      <th></th>\n",
       "      <th>gender</th>\n",
       "      <th>count</th>\n",
       "    </tr>\n",
       "  </thead>\n",
       "  <tbody>\n",
       "    <tr>\n",
       "      <th>0</th>\n",
       "      <td>Female</td>\n",
       "      <td>4543</td>\n",
       "    </tr>\n",
       "    <tr>\n",
       "      <th>1</th>\n",
       "      <td>Male</td>\n",
       "      <td>5457</td>\n",
       "    </tr>\n",
       "  </tbody>\n",
       "</table>\n",
       "</div>"
      ],
      "text/plain": [
       "   gender  count\n",
       "0  Female   4543\n",
       "1    Male   5457"
      ]
     },
     "execution_count": 17,
     "metadata": {},
     "output_type": "execute_result"
    }
   ],
   "source": [
    "data_del_gender = data_del.groupby('gender')['is_active_member'].agg('count').reset_index()\n",
    "data_del_gender.columns = ['gender', 'count']\n",
    "data_del_gender"
   ]
  },
  {
   "cell_type": "code",
   "execution_count": 18,
   "metadata": {},
   "outputs": [
    {
     "data": {
      "image/png": "[encoded data removed]",
      "text/plain": [
       "<Figure size 1800x1800 with 9 Axes>"
      ]
     },
     "metadata": {
      "needs_background": "light"
     },
     "output_type": "display_data"
    }
   ],
   "source": [
    "# посмотрим распределения по всем полям\n",
    "data_del.hist(figsize=(25,25), bins=35)\n",
    "plt.show()"
   ]
  },
  {
   "cell_type": "markdown",
   "metadata": {},
   "source": [
    "**<u>Вывод по шагу 1.3</u>**\n",
    "\n",
    "Мы видим, что в банке почти поровну мужчин и женщин. Средний возраст клиента составляет 38,9 лет, минимальный возраст клиента - 18 лет, максимальный - 92 года. Все укладывается в логику, такой возраст (и максимальный, и минимальный) существуют, в других данных несоответствия не найдены."
   ]
  },
  {
   "cell_type": "markdown",
   "metadata": {},
   "source": [
    "## Исследование задачи"
   ]
  },
  {
   "cell_type": "markdown",
   "metadata": {},
   "source": [
    "### исследование данных"
   ]
  },
  {
   "cell_type": "code",
   "execution_count": 19,
   "metadata": {},
   "outputs": [
    {
     "name": "stdout",
     "output_type": "stream",
     "text": [
      "0    7963\n",
      "1    2037\n",
      "Name: exited, dtype: int64\n"
     ]
    },
    {
     "data": {
      "text/plain": [
       "<AxesSubplot:title={'center':'Наглядное изображение тех, кто остался, и тех, кто ушел'}>"
      ]
     },
     "execution_count": 19,
     "metadata": {},
     "output_type": "execute_result"
    },
    {
     "data": {
      "image/png": "[encoded data removed]",
      "text/plain": [
       "<Figure size 720x432 with 1 Axes>"
      ]
     },
     "metadata": {
      "needs_background": "light"
     },
     "output_type": "display_data"
    }
   ],
   "source": [
    "# посморим на данные оставшихся и ушедших клиентов\n",
    "print(data['exited'].value_counts())\n",
    "# нарисуем гистограмму значений оттока и оставшихся клиентов\n",
    "data_del['exited'].value_counts().plot(kind='bar', grid=True, figsize=(10,6), title='Наглядное изображение тех, кто остался, и тех, кто ушел')"
   ]
  },
  {
   "cell_type": "markdown",
   "metadata": {},
   "source": [
    "Соотношение оттока и тех, кто остался 1:4. Такое соотношение говорит о том, что присутствует дисбаланс в данных."
   ]
  },
  {
   "cell_type": "code",
   "execution_count": 20,
   "metadata": {},
   "outputs": [
    {
     "data": {
      "text/plain": [
       "<AxesSubplot:title={'center':'Зависимость оттока от возраста'}, xlabel='age'>"
      ]
     },
     "execution_count": 20,
     "metadata": {},
     "output_type": "execute_result"
    },
    {
     "data": {
      "image/png": "[encoded data removed]",
      "text/plain": [
       "<Figure size 1080x432 with 1 Axes>"
      ]
     },
     "metadata": {
      "needs_background": "light"
     },
     "output_type": "display_data"
    }
   ],
   "source": [
    "# посмотрим, как зависит возраст и отток клиентов\n",
    "data_del.groupby('age')['exited'].agg(['count', 'sum']).plot(figsize=(15,6), kind='bar', title='Зависимость оттока от возраста')"
   ]
  },
  {
   "cell_type": "code",
   "execution_count": 21,
   "metadata": {},
   "outputs": [
    {
     "data": {
      "text/plain": [
       "<AxesSubplot:title={'center':'Зависимость оттока от количества продуктов'}, xlabel='num_of_products'>"
      ]
     },
     "execution_count": 21,
     "metadata": {},
     "output_type": "execute_result"
    },
    {
     "data": {
      "image/png": "[encoded data removed]",
      "text/plain": [
       "<Figure size 1080x432 with 1 Axes>"
      ]
     },
     "metadata": {
      "needs_background": "light"
     },
     "output_type": "display_data"
    }
   ],
   "source": [
    "data_del.groupby('num_of_products')['exited'].agg(['count', 'mean']).plot(figsize=(15,6), kind='bar', title='Зависимость оттока от количества продуктов')"
   ]
  },
  {
   "cell_type": "code",
   "execution_count": 22,
   "metadata": {},
   "outputs": [
    {
     "data": {
      "text/plain": [
       "<AxesSubplot:title={'center':'Зависимость оттока от наличия кредитной карты'}, xlabel='has_cr_card'>"
      ]
     },
     "execution_count": 22,
     "metadata": {},
     "output_type": "execute_result"
    },
    {
     "data": {
      "image/png": "[encoded data removed]",
      "text/plain": [
       "<Figure size 1080x432 with 1 Axes>"
      ]
     },
     "metadata": {
      "needs_background": "light"
     },
     "output_type": "display_data"
    }
   ],
   "source": [
    "data_del.groupby('has_cr_card')['exited'].agg(['count', 'sum']).plot(figsize=(15,6), kind='bar', title='Зависимость оттока от наличия кредитной карты')"
   ]
  },
  {
   "cell_type": "code",
   "execution_count": 23,
   "metadata": {},
   "outputs": [
    {
     "data": {
      "text/plain": [
       "<AxesSubplot:title={'center':'Зависимость оттока от активности клиента'}, xlabel='exited'>"
      ]
     },
     "execution_count": 23,
     "metadata": {},
     "output_type": "execute_result"
    },
    {
     "data": {
      "image/png": "[encoded data removed]",
      "text/plain": [
       "<Figure size 1080x432 with 1 Axes>"
      ]
     },
     "metadata": {
      "needs_background": "light"
     },
     "output_type": "display_data"
    }
   ],
   "source": [
    "data_del.groupby('exited')['is_active_member'].agg(['count', 'mean']).plot(figsize=(15,6), kind='bar', title='Зависимость оттока от активности клиента')"
   ]
  },
  {
   "cell_type": "code",
   "execution_count": 24,
   "metadata": {
    "scrolled": true
   },
   "outputs": [
    {
     "data": {
      "text/html": [
       "<div>\n",
       "<style scoped>\n",
       "    .dataframe tbody tr th:only-of-type {\n",
       "        vertical-align: middle;\n",
       "    }\n",
       "\n",
       "    .dataframe tbody tr th {\n",
       "        vertical-align: top;\n",
       "    }\n",
       "\n",
       "    .dataframe thead th {\n",
       "        text-align: right;\n",
       "    }\n",
       "</style>\n",
       "<table border=\"1\" class=\"dataframe\">\n",
       "  <thead>\n",
       "    <tr style=\"text-align: right;\">\n",
       "      <th></th>\n",
       "      <th>credit_score</th>\n",
       "      <th>age</th>\n",
       "      <th>tenure</th>\n",
       "      <th>balance</th>\n",
       "      <th>num_of_products</th>\n",
       "      <th>has_cr_card</th>\n",
       "      <th>is_active_member</th>\n",
       "      <th>estimated_salary</th>\n",
       "      <th>exited</th>\n",
       "    </tr>\n",
       "  </thead>\n",
       "  <tbody>\n",
       "    <tr>\n",
       "      <th>credit_score</th>\n",
       "      <td>1.000000</td>\n",
       "      <td>-0.003965</td>\n",
       "      <td>0.003087</td>\n",
       "      <td>0.006268</td>\n",
       "      <td>0.012238</td>\n",
       "      <td>-0.005458</td>\n",
       "      <td>0.025651</td>\n",
       "      <td>-0.001384</td>\n",
       "      <td>-0.027094</td>\n",
       "    </tr>\n",
       "    <tr>\n",
       "      <th>age</th>\n",
       "      <td>-0.003965</td>\n",
       "      <td>1.000000</td>\n",
       "      <td>-0.007368</td>\n",
       "      <td>0.028308</td>\n",
       "      <td>-0.030680</td>\n",
       "      <td>-0.011721</td>\n",
       "      <td>0.085472</td>\n",
       "      <td>-0.007201</td>\n",
       "      <td>0.285323</td>\n",
       "    </tr>\n",
       "    <tr>\n",
       "      <th>tenure</th>\n",
       "      <td>0.003087</td>\n",
       "      <td>-0.007368</td>\n",
       "      <td>1.000000</td>\n",
       "      <td>-0.005821</td>\n",
       "      <td>0.010106</td>\n",
       "      <td>0.021387</td>\n",
       "      <td>-0.025856</td>\n",
       "      <td>0.011225</td>\n",
       "      <td>-0.013319</td>\n",
       "    </tr>\n",
       "    <tr>\n",
       "      <th>balance</th>\n",
       "      <td>0.006268</td>\n",
       "      <td>0.028308</td>\n",
       "      <td>-0.005821</td>\n",
       "      <td>1.000000</td>\n",
       "      <td>-0.304180</td>\n",
       "      <td>-0.014858</td>\n",
       "      <td>-0.010084</td>\n",
       "      <td>0.012797</td>\n",
       "      <td>0.118533</td>\n",
       "    </tr>\n",
       "    <tr>\n",
       "      <th>num_of_products</th>\n",
       "      <td>0.012238</td>\n",
       "      <td>-0.030680</td>\n",
       "      <td>0.010106</td>\n",
       "      <td>-0.304180</td>\n",
       "      <td>1.000000</td>\n",
       "      <td>0.003183</td>\n",
       "      <td>0.009612</td>\n",
       "      <td>0.014204</td>\n",
       "      <td>-0.047820</td>\n",
       "    </tr>\n",
       "    <tr>\n",
       "      <th>has_cr_card</th>\n",
       "      <td>-0.005458</td>\n",
       "      <td>-0.011721</td>\n",
       "      <td>0.021387</td>\n",
       "      <td>-0.014858</td>\n",
       "      <td>0.003183</td>\n",
       "      <td>1.000000</td>\n",
       "      <td>-0.011866</td>\n",
       "      <td>-0.009933</td>\n",
       "      <td>-0.007138</td>\n",
       "    </tr>\n",
       "    <tr>\n",
       "      <th>is_active_member</th>\n",
       "      <td>0.025651</td>\n",
       "      <td>0.085472</td>\n",
       "      <td>-0.025856</td>\n",
       "      <td>-0.010084</td>\n",
       "      <td>0.009612</td>\n",
       "      <td>-0.011866</td>\n",
       "      <td>1.000000</td>\n",
       "      <td>-0.011421</td>\n",
       "      <td>-0.156128</td>\n",
       "    </tr>\n",
       "    <tr>\n",
       "      <th>estimated_salary</th>\n",
       "      <td>-0.001384</td>\n",
       "      <td>-0.007201</td>\n",
       "      <td>0.011225</td>\n",
       "      <td>0.012797</td>\n",
       "      <td>0.014204</td>\n",
       "      <td>-0.009933</td>\n",
       "      <td>-0.011421</td>\n",
       "      <td>1.000000</td>\n",
       "      <td>0.012097</td>\n",
       "    </tr>\n",
       "    <tr>\n",
       "      <th>exited</th>\n",
       "      <td>-0.027094</td>\n",
       "      <td>0.285323</td>\n",
       "      <td>-0.013319</td>\n",
       "      <td>0.118533</td>\n",
       "      <td>-0.047820</td>\n",
       "      <td>-0.007138</td>\n",
       "      <td>-0.156128</td>\n",
       "      <td>0.012097</td>\n",
       "      <td>1.000000</td>\n",
       "    </tr>\n",
       "  </tbody>\n",
       "</table>\n",
       "</div>"
      ],
      "text/plain": [
       "                  credit_score       age    tenure   balance  num_of_products  \\\n",
       "credit_score          1.000000 -0.003965  0.003087  0.006268         0.012238   \n",
       "age                  -0.003965  1.000000 -0.007368  0.028308        -0.030680   \n",
       "tenure                0.003087 -0.007368  1.000000 -0.005821         0.010106   \n",
       "balance               0.006268  0.028308 -0.005821  1.000000        -0.304180   \n",
       "num_of_products       0.012238 -0.030680  0.010106 -0.304180         1.000000   \n",
       "has_cr_card          -0.005458 -0.011721  0.021387 -0.014858         0.003183   \n",
       "is_active_member      0.025651  0.085472 -0.025856 -0.010084         0.009612   \n",
       "estimated_salary     -0.001384 -0.007201  0.011225  0.012797         0.014204   \n",
       "exited               -0.027094  0.285323 -0.013319  0.118533        -0.047820   \n",
       "\n",
       "                  has_cr_card  is_active_member  estimated_salary    exited  \n",
       "credit_score        -0.005458          0.025651         -0.001384 -0.027094  \n",
       "age                 -0.011721          0.085472         -0.007201  0.285323  \n",
       "tenure               0.021387         -0.025856          0.011225 -0.013319  \n",
       "balance             -0.014858         -0.010084          0.012797  0.118533  \n",
       "num_of_products      0.003183          0.009612          0.014204 -0.047820  \n",
       "has_cr_card          1.000000         -0.011866         -0.009933 -0.007138  \n",
       "is_active_member    -0.011866          1.000000         -0.011421 -0.156128  \n",
       "estimated_salary    -0.009933         -0.011421          1.000000  0.012097  \n",
       "exited              -0.007138         -0.156128          0.012097  1.000000  "
      ]
     },
     "execution_count": 24,
     "metadata": {},
     "output_type": "execute_result"
    }
   ],
   "source": [
    "# посчитаем корреляцию\n",
    "data_del.corr()"
   ]
  },
  {
   "cell_type": "markdown",
   "metadata": {},
   "source": [
    "**<u>Вывод по шагу 2.1</u>**\n",
    "\n",
    "Видно, что все признаки не сильно коррелируются с целевым признаком. Линейная зависимость не выявлена.\n",
    "\n",
    "1. Клиенты в возрасте от 39 до 52 уходят чаще. Однако прямой зависимостью это назвать нельзя, так как клиентов в данном возрасте больше, чем в других возрастных группах.\n",
    "2. Клиенты, у которых всего 1 или два продукта банка уходят чаще.\n",
    "3. Зависимость оттока от наличия кредитной карты не выявлена.\n",
    "4. Неактивные клиенты уходят чаще."
   ]
  },
  {
   "cell_type": "markdown",
   "metadata": {},
   "source": [
    "### Модель прогнозирования оттока пользователей"
   ]
  },
  {
   "cell_type": "markdown",
   "metadata": {},
   "source": [
    "За целевой признак берем столбец exited. Остальные столбцы (признаки) помогут нам предсказывать решение по целевому признаку. В нашем случае решается задача классификации, так как определенный нами целевой признак exited - категориальный. Когда категорий всего две (0, 1) речь идёт о бинарной (двоичной) классификации. Построим модель прогнозирования оттока клиентов методами решающего дерева, случайного леса  и логистической регресии."
   ]
  },
  {
   "cell_type": "markdown",
   "metadata": {},
   "source": [
    "#### подготовка данных"
   ]
  },
  {
   "cell_type": "markdown",
   "metadata": {},
   "source": [
    "Пoдготовим данные: выделим целевую переменную и признаки, поделим выборку на обучающую и валидационную.\n",
    "<div class=\"alert alert-block alert-warning\">\n",
    "<b>Изменения:</b> поделим выборку на обучающую, валидационную и тестовую.\n",
    "</div>\n",
    "Преобразовать категориальные признаки в численные поможет техника прямого кодирования, или отображения (англ. One-Hot Encoding, OHE)."
   ]
  },
  {
   "cell_type": "code",
   "execution_count": 25,
   "metadata": {},
   "outputs": [],
   "source": [
    "# print(pd.get_dummies(data_del['gender']).head(10))"
   ]
  },
  {
   "cell_type": "code",
   "execution_count": 26,
   "metadata": {},
   "outputs": [
    {
     "data": {
      "text/html": [
       "<div>\n",
       "<style scoped>\n",
       "    .dataframe tbody tr th:only-of-type {\n",
       "        vertical-align: middle;\n",
       "    }\n",
       "\n",
       "    .dataframe tbody tr th {\n",
       "        vertical-align: top;\n",
       "    }\n",
       "\n",
       "    .dataframe thead th {\n",
       "        text-align: right;\n",
       "    }\n",
       "</style>\n",
       "<table border=\"1\" class=\"dataframe\">\n",
       "  <thead>\n",
       "    <tr style=\"text-align: right;\">\n",
       "      <th></th>\n",
       "      <th>credit_score</th>\n",
       "      <th>age</th>\n",
       "      <th>tenure</th>\n",
       "      <th>balance</th>\n",
       "      <th>num_of_products</th>\n",
       "      <th>has_cr_card</th>\n",
       "      <th>is_active_member</th>\n",
       "      <th>estimated_salary</th>\n",
       "      <th>exited</th>\n",
       "      <th>geography_Germany</th>\n",
       "      <th>geography_Spain</th>\n",
       "      <th>gender_Male</th>\n",
       "    </tr>\n",
       "  </thead>\n",
       "  <tbody>\n",
       "    <tr>\n",
       "      <th>0</th>\n",
       "      <td>619</td>\n",
       "      <td>42</td>\n",
       "      <td>2</td>\n",
       "      <td>0.00</td>\n",
       "      <td>1</td>\n",
       "      <td>1</td>\n",
       "      <td>1</td>\n",
       "      <td>101348.88</td>\n",
       "      <td>1</td>\n",
       "      <td>0</td>\n",
       "      <td>0</td>\n",
       "      <td>0</td>\n",
       "    </tr>\n",
       "    <tr>\n",
       "      <th>1</th>\n",
       "      <td>608</td>\n",
       "      <td>41</td>\n",
       "      <td>1</td>\n",
       "      <td>83807.86</td>\n",
       "      <td>1</td>\n",
       "      <td>0</td>\n",
       "      <td>1</td>\n",
       "      <td>112542.58</td>\n",
       "      <td>0</td>\n",
       "      <td>0</td>\n",
       "      <td>1</td>\n",
       "      <td>0</td>\n",
       "    </tr>\n",
       "    <tr>\n",
       "      <th>2</th>\n",
       "      <td>502</td>\n",
       "      <td>42</td>\n",
       "      <td>8</td>\n",
       "      <td>159660.80</td>\n",
       "      <td>3</td>\n",
       "      <td>1</td>\n",
       "      <td>0</td>\n",
       "      <td>113931.57</td>\n",
       "      <td>1</td>\n",
       "      <td>0</td>\n",
       "      <td>0</td>\n",
       "      <td>0</td>\n",
       "    </tr>\n",
       "    <tr>\n",
       "      <th>3</th>\n",
       "      <td>699</td>\n",
       "      <td>39</td>\n",
       "      <td>1</td>\n",
       "      <td>0.00</td>\n",
       "      <td>2</td>\n",
       "      <td>0</td>\n",
       "      <td>0</td>\n",
       "      <td>93826.63</td>\n",
       "      <td>0</td>\n",
       "      <td>0</td>\n",
       "      <td>0</td>\n",
       "      <td>0</td>\n",
       "    </tr>\n",
       "    <tr>\n",
       "      <th>4</th>\n",
       "      <td>850</td>\n",
       "      <td>43</td>\n",
       "      <td>2</td>\n",
       "      <td>125510.82</td>\n",
       "      <td>1</td>\n",
       "      <td>1</td>\n",
       "      <td>1</td>\n",
       "      <td>79084.10</td>\n",
       "      <td>0</td>\n",
       "      <td>0</td>\n",
       "      <td>1</td>\n",
       "      <td>0</td>\n",
       "    </tr>\n",
       "    <tr>\n",
       "      <th>...</th>\n",
       "      <td>...</td>\n",
       "      <td>...</td>\n",
       "      <td>...</td>\n",
       "      <td>...</td>\n",
       "      <td>...</td>\n",
       "      <td>...</td>\n",
       "      <td>...</td>\n",
       "      <td>...</td>\n",
       "      <td>...</td>\n",
       "      <td>...</td>\n",
       "      <td>...</td>\n",
       "      <td>...</td>\n",
       "    </tr>\n",
       "    <tr>\n",
       "      <th>9995</th>\n",
       "      <td>771</td>\n",
       "      <td>39</td>\n",
       "      <td>5</td>\n",
       "      <td>0.00</td>\n",
       "      <td>2</td>\n",
       "      <td>1</td>\n",
       "      <td>0</td>\n",
       "      <td>96270.64</td>\n",
       "      <td>0</td>\n",
       "      <td>0</td>\n",
       "      <td>0</td>\n",
       "      <td>1</td>\n",
       "    </tr>\n",
       "    <tr>\n",
       "      <th>9996</th>\n",
       "      <td>516</td>\n",
       "      <td>35</td>\n",
       "      <td>10</td>\n",
       "      <td>57369.61</td>\n",
       "      <td>1</td>\n",
       "      <td>1</td>\n",
       "      <td>1</td>\n",
       "      <td>101699.77</td>\n",
       "      <td>0</td>\n",
       "      <td>0</td>\n",
       "      <td>0</td>\n",
       "      <td>1</td>\n",
       "    </tr>\n",
       "    <tr>\n",
       "      <th>9997</th>\n",
       "      <td>709</td>\n",
       "      <td>36</td>\n",
       "      <td>7</td>\n",
       "      <td>0.00</td>\n",
       "      <td>1</td>\n",
       "      <td>0</td>\n",
       "      <td>1</td>\n",
       "      <td>42085.58</td>\n",
       "      <td>1</td>\n",
       "      <td>0</td>\n",
       "      <td>0</td>\n",
       "      <td>0</td>\n",
       "    </tr>\n",
       "    <tr>\n",
       "      <th>9998</th>\n",
       "      <td>772</td>\n",
       "      <td>42</td>\n",
       "      <td>3</td>\n",
       "      <td>75075.31</td>\n",
       "      <td>2</td>\n",
       "      <td>1</td>\n",
       "      <td>0</td>\n",
       "      <td>92888.52</td>\n",
       "      <td>1</td>\n",
       "      <td>1</td>\n",
       "      <td>0</td>\n",
       "      <td>1</td>\n",
       "    </tr>\n",
       "    <tr>\n",
       "      <th>9999</th>\n",
       "      <td>792</td>\n",
       "      <td>28</td>\n",
       "      <td>0</td>\n",
       "      <td>130142.79</td>\n",
       "      <td>1</td>\n",
       "      <td>1</td>\n",
       "      <td>0</td>\n",
       "      <td>38190.78</td>\n",
       "      <td>0</td>\n",
       "      <td>0</td>\n",
       "      <td>0</td>\n",
       "      <td>0</td>\n",
       "    </tr>\n",
       "  </tbody>\n",
       "</table>\n",
       "<p>10000 rows × 12 columns</p>\n",
       "</div>"
      ],
      "text/plain": [
       "      credit_score  age  tenure    balance  num_of_products  has_cr_card  \\\n",
       "0              619   42       2       0.00                1            1   \n",
       "1              608   41       1   83807.86                1            0   \n",
       "2              502   42       8  159660.80                3            1   \n",
       "3              699   39       1       0.00                2            0   \n",
       "4              850   43       2  125510.82                1            1   \n",
       "...            ...  ...     ...        ...              ...          ...   \n",
       "9995           771   39       5       0.00                2            1   \n",
       "9996           516   35      10   57369.61                1            1   \n",
       "9997           709   36       7       0.00                1            0   \n",
       "9998           772   42       3   75075.31                2            1   \n",
       "9999           792   28       0  130142.79                1            1   \n",
       "\n",
       "      is_active_member  estimated_salary  exited  geography_Germany  \\\n",
       "0                    1         101348.88       1                  0   \n",
       "1                    1         112542.58       0                  0   \n",
       "2                    0         113931.57       1                  0   \n",
       "3                    0          93826.63       0                  0   \n",
       "4                    1          79084.10       0                  0   \n",
       "...                ...               ...     ...                ...   \n",
       "9995                 0          96270.64       0                  0   \n",
       "9996                 1         101699.77       0                  0   \n",
       "9997                 1          42085.58       1                  0   \n",
       "9998                 0          92888.52       1                  1   \n",
       "9999                 0          38190.78       0                  0   \n",
       "\n",
       "      geography_Spain  gender_Male  \n",
       "0                   0            0  \n",
       "1                   1            0  \n",
       "2                   0            0  \n",
       "3                   0            0  \n",
       "4                   1            0  \n",
       "...               ...          ...  \n",
       "9995                0            1  \n",
       "9996                0            1  \n",
       "9997                0            0  \n",
       "9998                0            1  \n",
       "9999                0            0  \n",
       "\n",
       "[10000 rows x 12 columns]"
      ]
     },
     "execution_count": 26,
     "metadata": {},
     "output_type": "execute_result"
    }
   ],
   "source": [
    "# применим технику прямого кодирование полей для всего датасета\n",
    "data_del_ohe = pd.get_dummies(data_del, drop_first=True)\n",
    "data_del_ohe"
   ]
  },
  {
   "cell_type": "code",
   "execution_count": 27,
   "metadata": {},
   "outputs": [
    {
     "data": {
      "text/plain": [
       "Index(['credit_score', 'age', 'tenure', 'balance', 'num_of_products',\n",
       "       'has_cr_card', 'is_active_member', 'estimated_salary', 'exited',\n",
       "       'geography_Germany', 'geography_Spain', 'gender_Male'],\n",
       "      dtype='object')"
      ]
     },
     "execution_count": 27,
     "metadata": {},
     "output_type": "execute_result"
    }
   ],
   "source": [
    "data_del_ohe.columns"
   ]
  },
  {
   "cell_type": "code",
   "execution_count": 28,
   "metadata": {},
   "outputs": [
    {
     "data": {
      "text/plain": [
       "Index(['credit_score', 'age', 'tenure', 'balance', 'num_of_products',\n",
       "       'has_cr_card', 'is_active_member', 'estimated_salary', 'exited',\n",
       "       'geography_germany', 'geography_spain', 'gender_male'],\n",
       "      dtype='object')"
      ]
     },
     "execution_count": 28,
     "metadata": {},
     "output_type": "execute_result"
    }
   ],
   "source": [
    "# переименуем названия столбцов\n",
    "data_del_ohe = data_del_ohe.rename(\n",
    "    columns={'geography_Germany':'geography_germany', 'geography_Spain':'geography_spain', 'gender_Male':'gender_male'})\n",
    "data_del_ohe.columns"
   ]
  },
  {
   "cell_type": "code",
   "execution_count": 29,
   "metadata": {},
   "outputs": [],
   "source": [
    "# data_train, data_valid = train_test_split(data_del_ohe, test_size=0.25, random_state=12345)\n",
    "\n",
    "# print('Размер обучающей выборки', data_train.shape[0])\n",
    "# print('Размер валидационной выборки', data_valid.shape[0])"
   ]
  },
  {
   "cell_type": "markdown",
   "metadata": {},
   "source": [
    "<div class=\"alert alert-block alert-warning\">\n",
    "<b>Комментарий студента:</b> Разобьем выборку по принципу 70/15/15. Так как предыдущий шаг выполнен неверно, я его закомментила, удалять не стала.\n",
    "</div>"
   ]
  },
  {
   "cell_type": "code",
   "execution_count": 30,
   "metadata": {},
   "outputs": [
    {
     "name": "stdout",
     "output_type": "stream",
     "text": [
      "Размер обучающей выборки 7000\n",
      "Размер валидационной выборки 1500\n",
      "Размер тестовой выборки 1500\n"
     ]
    }
   ],
   "source": [
    "data_train, data_pr = train_test_split(data_del_ohe, test_size=0.30, random_state=12345)\n",
    "data_valid, data_test = train_test_split(data_pr, test_size=0.5, random_state=12345)\n",
    "\n",
    "print('Размер обучающей выборки', data_train.shape[0])\n",
    "print('Размер валидационной выборки', data_valid.shape[0])\n",
    "print('Размер тестовой выборки', data_test.shape[0])"
   ]
  },
  {
   "cell_type": "markdown",
   "metadata": {},
   "source": [
    "Составим переменные для признаков и целового признака ('exited') для каждой выборки."
   ]
  },
  {
   "cell_type": "code",
   "execution_count": 31,
   "metadata": {},
   "outputs": [],
   "source": [
    "features_train = data_train.drop(['exited'], axis=1) # признак\n",
    "target_train = data_train['exited'] # целевой признак\n",
    "features_valid = data_valid.drop(['exited'], axis=1) # признак\n",
    "target_valid = data_valid['exited'] # целевой признак\n",
    "features_test = data_test.drop(['exited'], axis=1) # признак\n",
    "target_test = data_test['exited'] # целевой признак"
   ]
  },
  {
   "cell_type": "markdown",
   "metadata": {},
   "source": [
    "<div class=\"alert alert-block alert-warning\">\n",
    "<b>Изменения:</b> Были внесены следующие изменения: в код добавлены новые переменные для тестовой выборки - features_test и target_test.\n",
    "</div>"
   ]
  },
  {
   "cell_type": "markdown",
   "metadata": {},
   "source": [
    "У признаков разный масштаб. Необходимо их стандартизировать."
   ]
  },
  {
   "cell_type": "code",
   "execution_count": 32,
   "metadata": {},
   "outputs": [],
   "source": [
    "numeric = ['credit_score', 'balance', 'estimated_salary']\n",
    "scaler = StandardScaler()\n",
    "scaler.fit(features_train[numeric]) \n",
    "features_train[numeric] = scaler.transform(features_train[numeric])\n",
    "features_valid[numeric] = scaler.transform(features_valid[numeric])\n",
    "features_test[numeric] = scaler.transform(features_test[numeric])"
   ]
  },
  {
   "cell_type": "markdown",
   "metadata": {},
   "source": [
    "**<u>Вывод по шагу 2.2.1</u>**\n",
    "\n",
    "Пoдготовлены данные: выделены целевая переменная и признаки, выборка разделена на обучающую и валидационную, признаки стандартизированы."
   ]
  },
  {
   "cell_type": "markdown",
   "metadata": {},
   "source": [
    "#### Обучаем модель дерево решений."
   ]
  },
  {
   "cell_type": "code",
   "execution_count": 33,
   "metadata": {
    "scrolled": true
   },
   "outputs": [
    {
     "name": "stdout",
     "output_type": "stream",
     "text": [
      "Глубина дерева 1 Точность 0.7953333333333333 F1 0.0\n",
      "Глубина дерева 2 Точность 0.8246666666666667 F1 0.5191956124314443\n",
      "Глубина дерева 3 Точность 0.8453333333333334 F1 0.4678899082568807\n",
      "Глубина дерева 4 Точность 0.8506666666666667 F1 0.4954954954954955\n",
      "Глубина дерева 5 Точность 0.8533333333333334 F1 0.5634920634920635\n",
      "Глубина дерева 6 Точность 0.864 F1 0.5545851528384279\n",
      "Глубина дерева 7 Точность 0.8573333333333333 F1 0.5578512396694214\n",
      "Глубина дерева 8 Точность 0.8493333333333334 F1 0.5170940170940171\n",
      "Глубина дерева 9 Точность 0.842 F1 0.5343811394891946\n",
      "Глубина дерева 10 Точность 0.8426666666666667 F1 0.5645756457564577\n",
      "Глубина дерева 11 Точность 0.8326666666666667 F1 0.5477477477477477\n",
      "Глубина дерева 12 Точность 0.8346666666666667 F1 0.5539568345323742\n",
      "Глубина дерева 13 Точность 0.8246666666666667 F1 0.5377855887521968\n",
      "Глубина дерева 14 Точность 0.8093333333333333 F1 0.5201342281879195\n",
      "Глубина дерева 15 Точность 0.8026666666666666 F1 0.5066666666666667\n",
      "Глубина дерева 16 Точность 0.8013333333333333 F1 0.5066225165562913\n",
      "Глубина дерева 17 Точность 0.7973333333333333 F1 0.5096774193548388\n",
      "Глубина дерева 18 Точность 0.7926666666666666 F1 0.5055643879173292\n",
      "Глубина дерева 19 Точность 0.7933333333333333 F1 0.5032051282051282\n"
     ]
    }
   ],
   "source": [
    "for depth in range(1, 20):\n",
    "    model = DecisionTreeClassifier(random_state=12345, max_depth=depth) # объявляем модель с заданной глубиной дерева\n",
    "    model.fit(features_train, target_train) # обучение модели\n",
    "    predictions_valid = model.predict(features_valid) # получение предсказания модели\n",
    "    result = accuracy_score(target_valid, predictions_valid) # считаем качество модели\n",
    "    print('Глубина дерева', depth, 'Точность', result, 'F1', f1_score(target_valid, predictions_valid))"
   ]
  },
  {
   "cell_type": "markdown",
   "metadata": {},
   "source": [
    "<div class=\"alert alert-block alert-warning\">\n",
    "<b>Комментарий студента:</b> посчитаем ROC-AUC.\n",
    "</div>"
   ]
  },
  {
   "cell_type": "code",
   "execution_count": 34,
   "metadata": {},
   "outputs": [
    {
     "data": {
      "text/plain": [
       "0.6854329407974313"
      ]
     },
     "execution_count": 34,
     "metadata": {},
     "output_type": "execute_result"
    }
   ],
   "source": [
    "model = DecisionTreeClassifier(random_state=12345)\n",
    "model.fit(features_train, target_train)\n",
    "\n",
    "probabilities_valid=model.predict_proba(features_valid)\n",
    "probabilities_one_valid=probabilities_valid[:,1]\n",
    "fpr_tree,tpr_tree,thresholds=roc_curve(target_valid,probabilities_one_valid)\n",
    "\n",
    "auc_roc=roc_auc_score(target_valid,probabilities_one_valid)\n",
    "\n",
    "auc_roc"
   ]
  },
  {
   "cell_type": "markdown",
   "metadata": {},
   "source": [
    "<div class=\"alert alert-block alert-warning\">\n",
    "<b>Комментарий студента:</b> Вывод: лучшее значение max_depth = 10, при котором F1 = 0.564, ROC-AUC = 0.685\n",
    "</div>"
   ]
  },
  {
   "cell_type": "markdown",
   "metadata": {},
   "source": [
    "#### Обучаем модель случайный лес."
   ]
  },
  {
   "cell_type": "code",
   "execution_count": 35,
   "metadata": {
    "scrolled": true
   },
   "outputs": [
    {
     "name": "stdout",
     "output_type": "stream",
     "text": [
      "max_depth 1 Точность 0.7953333333333333 F1 0.0\n",
      "max_depth 2 Точность 0.812 F1 0.15568862275449102\n",
      "max_depth 3 Точность 0.818 F1 0.2177650429799427\n",
      "max_depth 4 Точность 0.8366666666666667 F1 0.38287153652392947\n",
      "max_depth 5 Точность 0.8513333333333334 F1 0.48735632183908045\n",
      "max_depth 6 Точность 0.8593333333333333 F1 0.5279642058165548\n",
      "max_depth 7 Точность 0.8673333333333333 F1 0.5664488017429193\n",
      "max_depth 8 Точность 0.8653333333333333 F1 0.5646551724137931\n",
      "max_depth 9 Точность 0.866 F1 0.5714285714285714\n",
      "max_depth 10 Точность 0.8653333333333333 F1 0.5720338983050848\n",
      "max_depth 11 Точность 0.8633333333333333 F1 0.570230607966457\n",
      "max_depth 12 Точность 0.8666666666666667 F1 0.5867768595041322\n",
      "max_depth 13 Точность 0.8646666666666667 F1 0.5865580448065173\n",
      "max_depth 14 Точность 0.8673333333333333 F1 0.5930470347648261\n",
      "max_depth 15 Точность 0.8653333333333333 F1 0.5877551020408163\n",
      "max_depth 16 Точность 0.864 F1 0.5903614457831325\n",
      "max_depth 17 Точность 0.862 F1 0.5851703406813626\n",
      "max_depth 18 Точность 0.8606666666666667 F1 0.5690721649484536\n",
      "max_depth 19 Точность 0.8653333333333333 F1 0.5910931174089069\n",
      "max_depth 20 Точность 0.8606666666666667 F1 0.579476861167002\n",
      "max_depth 21 Точность 0.8626666666666667 F1 0.5863453815261045\n",
      "max_depth 22 Точность 0.862 F1 0.5818181818181818\n",
      "max_depth 23 Точность 0.862 F1 0.5801217038539555\n",
      "max_depth 24 Точность 0.8626666666666667 F1 0.5896414342629482\n",
      "max_depth 25 Точность 0.8626666666666667 F1 0.582995951417004\n",
      "max_depth 26 Точность 0.8646666666666667 F1 0.5865580448065173\n",
      "max_depth 27 Точность 0.864 F1 0.5853658536585366\n",
      "max_depth 28 Точность 0.864 F1 0.5853658536585366\n",
      "max_depth 29 Точность 0.864 F1 0.5853658536585366\n",
      "max_depth 30 Точность 0.864 F1 0.5853658536585366\n",
      "max_depth 31 Точность 0.864 F1 0.5853658536585366\n",
      "max_depth 32 Точность 0.864 F1 0.5853658536585366\n",
      "max_depth 33 Точность 0.864 F1 0.5853658536585366\n",
      "max_depth 34 Точность 0.864 F1 0.5853658536585366\n",
      "max_depth 35 Точность 0.864 F1 0.5853658536585366\n",
      "max_depth 36 Точность 0.864 F1 0.5853658536585366\n",
      "max_depth 37 Точность 0.864 F1 0.5853658536585366\n",
      "max_depth 38 Точность 0.864 F1 0.5853658536585366\n",
      "max_depth 39 Точность 0.864 F1 0.5853658536585366\n",
      "max_depth 40 Точность 0.864 F1 0.5853658536585366\n",
      "max_depth 41 Точность 0.864 F1 0.5853658536585366\n",
      "max_depth 42 Точность 0.864 F1 0.5853658536585366\n",
      "max_depth 43 Точность 0.864 F1 0.5853658536585366\n",
      "max_depth 44 Точность 0.864 F1 0.5853658536585366\n",
      "max_depth 45 Точность 0.864 F1 0.5853658536585366\n",
      "max_depth 46 Точность 0.864 F1 0.5853658536585366\n",
      "max_depth 47 Точность 0.864 F1 0.5853658536585366\n",
      "max_depth 48 Точность 0.864 F1 0.5853658536585366\n",
      "max_depth 49 Точность 0.864 F1 0.5853658536585366\n",
      "max_depth 50 Точность 0.864 F1 0.5853658536585366\n",
      "max_depth 51 Точность 0.864 F1 0.5853658536585366\n",
      "max_depth 52 Точность 0.864 F1 0.5853658536585366\n",
      "max_depth 53 Точность 0.864 F1 0.5853658536585366\n",
      "max_depth 54 Точность 0.864 F1 0.5853658536585366\n",
      "max_depth 55 Точность 0.864 F1 0.5853658536585366\n",
      "max_depth 56 Точность 0.864 F1 0.5853658536585366\n",
      "max_depth 57 Точность 0.864 F1 0.5853658536585366\n",
      "max_depth 58 Точность 0.864 F1 0.5853658536585366\n",
      "max_depth 59 Точность 0.864 F1 0.5853658536585366\n",
      "max_depth 60 Точность 0.864 F1 0.5853658536585366\n",
      "max_depth 61 Точность 0.864 F1 0.5853658536585366\n",
      "max_depth 62 Точность 0.864 F1 0.5853658536585366\n",
      "max_depth 63 Точность 0.864 F1 0.5853658536585366\n",
      "max_depth 64 Точность 0.864 F1 0.5853658536585366\n",
      "max_depth 65 Точность 0.864 F1 0.5853658536585366\n",
      "max_depth 66 Точность 0.864 F1 0.5853658536585366\n",
      "max_depth 67 Точность 0.864 F1 0.5853658536585366\n",
      "max_depth 68 Точность 0.864 F1 0.5853658536585366\n",
      "max_depth 69 Точность 0.864 F1 0.5853658536585366\n",
      "max_depth 70 Точность 0.864 F1 0.5853658536585366\n",
      "max_depth 71 Точность 0.864 F1 0.5853658536585366\n",
      "max_depth 72 Точность 0.864 F1 0.5853658536585366\n",
      "max_depth 73 Точность 0.864 F1 0.5853658536585366\n",
      "max_depth 74 Точность 0.864 F1 0.5853658536585366\n",
      "max_depth 75 Точность 0.864 F1 0.5853658536585366\n",
      "max_depth 76 Точность 0.864 F1 0.5853658536585366\n",
      "max_depth 77 Точность 0.864 F1 0.5853658536585366\n",
      "max_depth 78 Точность 0.864 F1 0.5853658536585366\n",
      "max_depth 79 Точность 0.864 F1 0.5853658536585366\n"
     ]
    }
   ],
   "source": [
    "# подберем циклом лучший параметр max_depth.\n",
    "for max_depth in range(1, 80):\n",
    "    model = RandomForestClassifier(max_depth=max_depth, random_state=12345, n_estimators=80) # объявляем модель \n",
    "    model.fit(features_train, target_train) # обучение модель на тренировочной выборке\n",
    "    predictions_valid = model.predict(features_valid) # получение предсказания модели\n",
    "    result = accuracy_score(target_valid, predictions_valid) # посчитаем качество модели на валидационной выборке\n",
    "    print('max_depth', max_depth, 'Точность', result, 'F1', f1_score(target_valid, predictions_valid))"
   ]
  },
  {
   "cell_type": "markdown",
   "metadata": {},
   "source": [
    "<div class=\"alert alert-block alert-warning\">\n",
    "<b>Комментарий студента:</b> посчитаем ROC_AUC.\n",
    "</div>"
   ]
  },
  {
   "cell_type": "code",
   "execution_count": 36,
   "metadata": {},
   "outputs": [
    {
     "data": {
      "text/plain": [
       "0.8470871069294009"
      ]
     },
     "execution_count": 36,
     "metadata": {},
     "output_type": "execute_result"
    }
   ],
   "source": [
    "model = RandomForestClassifier(random_state=12345)\n",
    "model.fit(features_train, target_train)\n",
    "\n",
    "probabilities_valid=model.predict_proba(features_valid)\n",
    "probabilities_one_valid=probabilities_valid[:,1]\n",
    "fpr_forest,tpr_forest,thresholds=roc_curve(target_valid,probabilities_one_valid)\n",
    "\n",
    "auc_roc=roc_auc_score(target_valid,probabilities_one_valid)\n",
    "\n",
    "auc_roc"
   ]
  },
  {
   "cell_type": "markdown",
   "metadata": {},
   "source": [
    "<div class=\"alert alert-block alert-warning\">\n",
    "<b>Изменения:</b> Были внесены следующие изменения Вывод: лучшее значение max_depth = 14, при котором F1 = 0.593, ROC_AUC = 0.847.\n",
    "</div>"
   ]
  },
  {
   "cell_type": "code",
   "execution_count": 37,
   "metadata": {
    "scrolled": true
   },
   "outputs": [
    {
     "name": "stdout",
     "output_type": "stream",
     "text": [
      "Количество деревьев 1 Точность 0.8053333333333333 F1 0.4930555555555556\n",
      "Количество деревьев 2 Точность 0.818 F1 0.46783625730994155\n",
      "Количество деревьев 3 Точность 0.8373333333333334 F1 0.5307692307692308\n",
      "Количество деревьев 4 Точность 0.8406666666666667 F1 0.5248508946322067\n",
      "Количество деревьев 5 Точность 0.8466666666666667 F1 0.5472440944881889\n",
      "Количество деревьев 6 Точность 0.848 F1 0.5384615384615385\n",
      "Количество деревьев 7 Точность 0.848 F1 0.5421686746987951\n",
      "Количество деревьев 8 Точность 0.8486666666666667 F1 0.5414141414141415\n",
      "Количество деревьев 9 Точность 0.8493333333333334 F1 0.5461847389558232\n",
      "Количество деревьев 10 Точность 0.8486666666666667 F1 0.5432595573440643\n",
      "Количество деревьев 11 Точность 0.852 F1 0.5469387755102041\n",
      "Количество деревьев 12 Точность 0.8526666666666667 F1 0.5443298969072166\n",
      "Количество деревьев 13 Точность 0.858 F1 0.5696969696969697\n",
      "Количество деревьев 14 Точность 0.8586666666666667 F1 0.5691056910569106\n",
      "Количество деревьев 15 Точность 0.8566666666666667 F1 0.5603271983640081\n",
      "Количество деревьев 16 Точность 0.862 F1 0.5731958762886598\n",
      "Количество деревьев 17 Точность 0.8633333333333333 F1 0.5841784989858012\n",
      "Количество деревьев 18 Точность 0.8626666666666667 F1 0.5813008130081302\n",
      "Количество деревьев 19 Точность 0.8613333333333333 F1 0.5789473684210527\n",
      "Количество деревьев 20 Точность 0.8633333333333333 F1 0.5790554414784393\n",
      "Количество деревьев 21 Точность 0.8613333333333333 F1 0.5755102040816327\n",
      "Количество деревьев 22 Точность 0.864 F1 0.5785123966942148\n",
      "Количество деревьев 23 Точность 0.8653333333333333 F1 0.5809128630705394\n",
      "Количество деревьев 24 Точность 0.8646666666666667 F1 0.5831622176591374\n",
      "Количество деревьев 25 Точность 0.8633333333333333 F1 0.5755693581780538\n",
      "Количество деревьев 26 Точность 0.8646666666666667 F1 0.5814432989690722\n",
      "Количество деревьев 27 Точность 0.864 F1 0.5819672131147541\n",
      "Количество деревьев 28 Точность 0.8633333333333333 F1 0.5790554414784393\n",
      "Количество деревьев 29 Точность 0.8633333333333333 F1 0.5807770961145193\n",
      "Количество деревьев 30 Точность 0.8653333333333333 F1 0.5910931174089069\n",
      "Количество деревьев 31 Точность 0.8646666666666667 F1 0.5848670756646216\n",
      "Количество деревьев 32 Точность 0.864 F1 0.5836734693877551\n",
      "Количество деревьев 33 Точность 0.8646666666666667 F1 0.5814432989690722\n",
      "Количество деревьев 34 Точность 0.8646666666666667 F1 0.5814432989690722\n",
      "Количество деревьев 35 Точность 0.864 F1 0.5819672131147541\n",
      "Количество деревьев 36 Точность 0.866 F1 0.5872689938398357\n",
      "Количество деревьев 37 Точность 0.8653333333333333 F1 0.5860655737704917\n",
      "Количество деревьев 38 Точность 0.8673333333333333 F1 0.5930470347648261\n",
      "Количество деревьев 39 Точность 0.866 F1 0.5872689938398357\n",
      "Количество деревьев 40 Точность 0.866 F1 0.5889570552147239\n",
      "Количество деревьев 41 Точность 0.868 F1 0.5942622950819673\n",
      "Количество деревьев 42 Точность 0.866 F1 0.5872689938398357\n",
      "Количество деревьев 43 Точность 0.8673333333333333 F1 0.5930470347648261\n",
      "Количество деревьев 44 Точность 0.8686666666666667 F1 0.595482546201232\n",
      "Количество деревьев 45 Точность 0.8686666666666667 F1 0.5971370143149284\n",
      "Количество деревьев 46 Точность 0.8693333333333333 F1 0.5983606557377049\n",
      "Количество деревьев 47 Точность 0.868 F1 0.5942622950819673\n",
      "Количество деревьев 48 Точность 0.868 F1 0.5942622950819673\n",
      "Количество деревьев 49 Точность 0.8666666666666667 F1 0.5901639344262295\n",
      "Количество деревьев 50 Точность 0.8653333333333333 F1 0.5860655737704917\n",
      "Количество деревьев 51 Точность 0.8653333333333333 F1 0.5877551020408163\n",
      "Количество деревьев 52 Точность 0.8666666666666667 F1 0.588477366255144\n",
      "Количество деревьев 53 Точность 0.8653333333333333 F1 0.5860655737704917\n",
      "Количество деревьев 54 Точность 0.8653333333333333 F1 0.5860655737704917\n"
     ]
    }
   ],
   "source": [
    "# подбираем циклом гиперпараметр n_estimators (количество деревьев).\n",
    "for est in range(1, 55, 1):\n",
    "    model = RandomForestClassifier(max_depth=14, random_state=12345, n_estimators=est) # объявляем модель с заданным количеством деревьев\n",
    "    model.fit(features_train, target_train) # обучение модель на тренировочной выборке\n",
    "    predictions_valid = model.predict(features_valid) # получение предсказания модели\n",
    "    result = accuracy_score(target_valid, predictions_valid) # посчитаем качество модели на валидационной выборке\n",
    "    print('Количество деревьев', est, 'Точность', result, 'F1', f1_score(target_valid, predictions_valid))"
   ]
  },
  {
   "cell_type": "markdown",
   "metadata": {},
   "source": [
    "<div class=\"alert alert-block alert-warning\">\n",
    "<b>Изменения:</b> Были внесены следующие изменения: Вывод: лучшее значение max_depth = 14, и n_estimators = 46, при котором F1 = 0.598, ROC_AUC = 0.847. F1 увеличилась.\n",
    "</div>"
   ]
  },
  {
   "cell_type": "markdown",
   "metadata": {},
   "source": [
    "#### Обучение с помощью модели Логистической регрессии."
   ]
  },
  {
   "cell_type": "code",
   "execution_count": 38,
   "metadata": {},
   "outputs": [
    {
     "name": "stdout",
     "output_type": "stream",
     "text": [
      "Точность 0.8073333333333333 F1 0.31999999999999995\n"
     ]
    }
   ],
   "source": [
    "model = LogisticRegression() # объявляем модель с заданным количеством итераций\n",
    "model.fit(features_train, target_train) # обучение модель на тренировочной выборке\n",
    "predictions_valid = model.predict(features_valid) # получение предсказания модели\n",
    "result = accuracy_score(target_valid, predictions_valid) # посчитаем качество модели на валидационной выборке\n",
    "print('Точность', result, 'F1', f1_score(target_valid, predictions_valid))"
   ]
  },
  {
   "cell_type": "code",
   "execution_count": 39,
   "metadata": {},
   "outputs": [
    {
     "name": "stdout",
     "output_type": "stream",
     "text": [
      "0.7745043699539388\n"
     ]
    }
   ],
   "source": [
    "model = LogisticRegression(random_state=12345, solver='liblinear')\n",
    "model.fit(features_train, target_train)\n",
    "\n",
    "probabilities_valid = model.predict_proba(features_valid)\n",
    "probabilities_one_valid = probabilities_valid[:, 1]\n",
    "fpr_log,tpr_log,thresholds=roc_curve(target_valid,probabilities_one_valid)\n",
    "\n",
    "auc_roc = roc_auc_score(target_valid, probabilities_one_valid)\n",
    "\n",
    "print(auc_roc)"
   ]
  },
  {
   "cell_type": "markdown",
   "metadata": {},
   "source": [
    "<div class=\"alert alert-block alert-warning\">\n",
    "<b>Изменения:</b> Были внесены следующие изменения: Вывод: F1 = 0,319. ROC_AUC = 0.774.\n",
    "</div>"
   ]
  },
  {
   "cell_type": "markdown",
   "metadata": {},
   "source": [
    "**<u>Вывод по шагу 2.2</u>**\n",
    "\n",
    "Были рассмотрены данные с дисбалансом, данные были стандартизированы.\n",
    "Среди трех моделей можно сделать вывод ,что самая лучшая модель оказалась модель случайного леса при max_depth = 21, n_estimators = 47 и F1 = 0.586.\n",
    "\n",
    "<div class=\"alert alert-block alert-warning\">\n",
    "<b>Изменения:</b> Были рассмотрены данные с дисбалансом, данные были стандартизированы.\n",
    "Среди трех моделей можно сделать вывод ,что самая лучшая модель оказалась модель случайного леса при max_depth = 14, n_estimators = 46 и F1 = 0.598. ROC_AUC = 0.847.\n",
    "</div>"
   ]
  },
  {
   "cell_type": "markdown",
   "metadata": {},
   "source": [
    "## Борьба с дисбалансом"
   ]
  },
  {
   "cell_type": "markdown",
   "metadata": {},
   "source": [
    "Алгоритмы машинного обучения считают все объекты обучающей выборки равнозначными по умолчанию. \n",
    "\n",
    "В нашей задаче наблюдается явный дисбаланс и есть три пути решения этой проблемы:\n",
    "\n",
    "- Upsampling.\n",
    "- Downsampling.\n",
    "- Добавить в модель параметр class_weight.\n",
    "\n",
    "Рассмотрим эти 3 способа."
   ]
  },
  {
   "cell_type": "markdown",
   "metadata": {},
   "source": [
    "### Upsampling"
   ]
  },
  {
   "cell_type": "markdown",
   "metadata": {},
   "source": [
    "Воспользуемся функцией Upsampling и увеличим количество клиентов оттока (target == 1)"
   ]
  },
  {
   "cell_type": "code",
   "execution_count": 40,
   "metadata": {},
   "outputs": [
    {
     "name": "stdout",
     "output_type": "stream",
     "text": [
      "F1: 0.6115107913669066\n"
     ]
    }
   ],
   "source": [
    "def upsample(features, target, repeat):\n",
    "    features_zeros = features[target == 0]\n",
    "    features_ones = features[target == 1]\n",
    "    target_zeros = target[target == 0]\n",
    "    target_ones = target[target == 1]\n",
    "\n",
    "    features_upsampled = pd.concat([features_zeros] + [features_ones] * repeat)\n",
    "    target_upsampled = pd.concat([target_zeros] + [target_ones] * repeat)\n",
    "    \n",
    "    features_upsampled, target_upsampled = shuffle(\n",
    "        features_upsampled, target_upsampled, random_state=12345) # перемешаем строки\n",
    "    \n",
    "    return features_upsampled, target_upsampled\n",
    "\n",
    "features_upsampled, target_upsampled = upsample(features_train, target_train, 4)\n",
    "\n",
    "model = RandomForestClassifier(random_state=12345)\n",
    "model.fit(features_upsampled, target_upsampled)\n",
    "predicted_valid = model.predict(features_valid)\n",
    "\n",
    "print(\"F1:\", f1_score(target_valid, predicted_valid))"
   ]
  },
  {
   "cell_type": "markdown",
   "metadata": {},
   "source": [
    "### Downsampling"
   ]
  },
  {
   "cell_type": "code",
   "execution_count": 41,
   "metadata": {},
   "outputs": [
    {
     "name": "stdout",
     "output_type": "stream",
     "text": [
      "F1: 0.5780645161290323\n"
     ]
    }
   ],
   "source": [
    "def downsample(features, target, fraction):\n",
    "    features_zeros = features[target == 0]\n",
    "    features_ones = features[target == 1]\n",
    "    target_zeros = target[target == 0]\n",
    "    target_ones = target[target == 1]\n",
    "\n",
    "    features_downsampled = pd.concat(\n",
    "        [features_zeros.sample(frac=fraction, random_state=12345)] + [features_ones])\n",
    "    target_downsampled = pd.concat(\n",
    "        [target_zeros.sample(frac=fraction, random_state=12345)] + [target_ones])\n",
    "    \n",
    "    features_downsampled, target_downsampled = shuffle(\n",
    "        features_downsampled, target_downsampled, random_state=12345)\n",
    "    \n",
    "    return features_downsampled, target_downsampled\n",
    "\n",
    "features_downsampled, target_downsampled = downsample(features_train, target_train, 0.268)\n",
    "\n",
    "model = RandomForestClassifier(random_state=12345)\n",
    "model.fit(features_downsampled, target_downsampled)\n",
    "predicted_valid = model.predict(features_valid)\n",
    "\n",
    "print(\"F1:\", f1_score(target_valid, predicted_valid))"
   ]
  },
  {
   "cell_type": "code",
   "execution_count": 42,
   "metadata": {},
   "outputs": [
    {
     "data": {
      "text/plain": [
       "0    1498\n",
       "1    1411\n",
       "Name: exited, dtype: int64"
      ]
     },
     "execution_count": 42,
     "metadata": {},
     "output_type": "execute_result"
    }
   ],
   "source": [
    "target_downsampled.value_counts()"
   ]
  },
  {
   "cell_type": "markdown",
   "metadata": {},
   "source": [
    "<div class=\"alert alert-block alert-warning\">\n",
    "<b>Комментарий студента:</b> Согласно рекомендациям избавляемся от дисбаланса: использован такой fraction, который устраняет дисбаланс. Проверили через target_downsampled.value_counts()\n",
    "</div>"
   ]
  },
  {
   "cell_type": "markdown",
   "metadata": {},
   "source": [
    "### Балансировка весов классов"
   ]
  },
  {
   "cell_type": "code",
   "execution_count": 43,
   "metadata": {},
   "outputs": [],
   "source": [
    "# инициируем модель логистической регрессии\n",
    "model_log_balanced = LogisticRegression(random_state=12345, solver='liblinear', class_weight='balanced')"
   ]
  },
  {
   "cell_type": "code",
   "execution_count": 44,
   "metadata": {},
   "outputs": [
    {
     "data": {
      "text/plain": [
       "LogisticRegression(class_weight='balanced', random_state=12345,\n",
       "                   solver='liblinear')"
      ]
     },
     "execution_count": 44,
     "metadata": {},
     "output_type": "execute_result"
    }
   ],
   "source": [
    "# обучим модель\n",
    "model_log_balanced.fit(features_train, target_train)"
   ]
  },
  {
   "cell_type": "code",
   "execution_count": 45,
   "metadata": {},
   "outputs": [],
   "source": [
    "# спрогнозируем целевой параметр\n",
    "predicted_valid_balanced = model_log_balanced.predict(features_valid)"
   ]
  },
  {
   "cell_type": "code",
   "execution_count": 46,
   "metadata": {},
   "outputs": [
    {
     "data": {
      "text/plain": [
       "0.5039370078740157"
      ]
     },
     "execution_count": 46,
     "metadata": {},
     "output_type": "execute_result"
    }
   ],
   "source": [
    "# получим критерий f1\n",
    "f1_score(predicted_valid_balanced, target_valid)"
   ]
  },
  {
   "cell_type": "markdown",
   "metadata": {},
   "source": [
    "Опробован альтернативный вариант балансировки классов."
   ]
  },
  {
   "cell_type": "markdown",
   "metadata": {},
   "source": [
    "**<u>Вывод по шагу 3</u>**:\n",
    "\n",
    "Количество данных не так много, принято решение не пользоваться методом уменьшения выборки (Downsampling). Будем использовать Upsampling."
   ]
  },
  {
   "cell_type": "markdown",
   "metadata": {},
   "source": [
    "<div class=\"alert alert-block alert-warning\">\n",
    "<b>Комментарий студента:</b> здесь также посчитаем ROC_AUC\n",
    "</div>"
   ]
  },
  {
   "cell_type": "code",
   "execution_count": 47,
   "metadata": {},
   "outputs": [
    {
     "data": {
      "text/plain": [
       "0.8431362644743633"
      ]
     },
     "execution_count": 47,
     "metadata": {},
     "output_type": "execute_result"
    }
   ],
   "source": [
    "model = RandomForestClassifier(random_state=12345)\n",
    "model.fit(features_upsampled, target_upsampled)\n",
    "\n",
    "probabilities_valid=model.predict_proba(features_valid)\n",
    "probabilities_one_valid=probabilities_valid[:,1]\n",
    "fpr_forest,tpr_forest,thresholds=roc_curve(target_valid,probabilities_one_valid)\n",
    "\n",
    "auc_roc=roc_auc_score(target_valid,probabilities_one_valid)\n",
    "\n",
    "auc_roc"
   ]
  },
  {
   "cell_type": "code",
   "execution_count": 48,
   "metadata": {},
   "outputs": [
    {
     "data": {
      "text/plain": [
       "0.8448263622488402"
      ]
     },
     "execution_count": 48,
     "metadata": {},
     "output_type": "execute_result"
    }
   ],
   "source": [
    "model = RandomForestClassifier(random_state=12345)\n",
    "model.fit(features_downsampled, target_downsampled)\n",
    "\n",
    "probabilities_valid=model.predict_proba(features_valid)\n",
    "probabilities_one_valid=probabilities_valid[:,1]\n",
    "fpr_forest,tpr_forest,thresholds=roc_curve(target_valid,probabilities_one_valid)\n",
    "\n",
    "auc_roc=roc_auc_score(target_valid,probabilities_one_valid)\n",
    "\n",
    "auc_roc"
   ]
  },
  {
   "cell_type": "code",
   "execution_count": 49,
   "metadata": {},
   "outputs": [
    {
     "name": "stdout",
     "output_type": "stream",
     "text": [
      "0.7790504326268051\n"
     ]
    }
   ],
   "source": [
    "model = LogisticRegression(random_state=12345, solver='liblinear')\n",
    "model.fit(features_upsampled, target_upsampled)\n",
    "\n",
    "probabilities_valid = model.predict_proba(features_valid)\n",
    "probabilities_one_valid = probabilities_valid[:, 1]\n",
    "fpr_log,tpr_log,thresholds=roc_curve(target_valid,probabilities_one_valid)\n",
    "\n",
    "auc_roc = roc_auc_score(target_valid, probabilities_one_valid)\n",
    "\n",
    "print(auc_roc)"
   ]
  },
  {
   "cell_type": "markdown",
   "metadata": {},
   "source": [
    "## Тестирование модели"
   ]
  },
  {
   "cell_type": "markdown",
   "metadata": {},
   "source": [
    "Обучение с помощью модели Решающее дерево (после балансирования данных)."
   ]
  },
  {
   "cell_type": "code",
   "execution_count": 50,
   "metadata": {},
   "outputs": [
    {
     "name": "stdout",
     "output_type": "stream",
     "text": [
      "F1: 0.49328859060402686\n",
      "CPU times: user 94.7 ms, sys: 20.3 ms, total: 115 ms\n",
      "Wall time: 132 ms\n"
     ]
    }
   ],
   "source": [
    "%%time\n",
    "\n",
    "model = DecisionTreeClassifier(random_state=12345)\n",
    "model.fit(features_upsampled, target_upsampled)\n",
    "predicted_valid = model.predict(features_valid)\n",
    "\n",
    "print(\"F1:\", f1_score(target_valid, predicted_valid))"
   ]
  },
  {
   "cell_type": "markdown",
   "metadata": {},
   "source": [
    "Обучение с помощью модели случайный лес (после балансирования данных)."
   ]
  },
  {
   "cell_type": "code",
   "execution_count": 51,
   "metadata": {},
   "outputs": [
    {
     "name": "stdout",
     "output_type": "stream",
     "text": [
      "F1: 0.6115107913669066\n",
      "CPU times: user 1.23 s, sys: 0 ns, total: 1.23 s\n",
      "Wall time: 1.24 s\n"
     ]
    }
   ],
   "source": [
    "%%time\n",
    "\n",
    "model = RandomForestClassifier(random_state=12345)\n",
    "model.fit(features_upsampled, target_upsampled)\n",
    "predicted_valid = model.predict(features_valid)\n",
    "\n",
    "print(\"F1:\", f1_score(target_valid, predicted_valid))"
   ]
  },
  {
   "cell_type": "markdown",
   "metadata": {},
   "source": [
    "Обучение с помощью модели логистическая регрессия (после балансирования данных)."
   ]
  },
  {
   "cell_type": "code",
   "execution_count": 52,
   "metadata": {},
   "outputs": [
    {
     "name": "stdout",
     "output_type": "stream",
     "text": [
      "F1: 0.5\n",
      "CPU times: user 1.68 s, sys: 2.71 s, total: 4.39 s\n",
      "Wall time: 4.33 s\n"
     ]
    }
   ],
   "source": [
    "%%time\n",
    "\n",
    "model = LogisticRegression(random_state=12345)\n",
    "model.fit(features_upsampled, target_upsampled)\n",
    "predicted_valid = model.predict(features_valid)\n",
    "\n",
    "print(\"F1:\", f1_score(target_valid, predicted_valid))"
   ]
  },
  {
   "cell_type": "markdown",
   "metadata": {},
   "source": [
    "**Вывод**: самый лучший результат на сбалансированных данных (как и на данных с дисбалансом), показала модель случайного леса (F1 = 0,604)."
   ]
  },
  {
   "cell_type": "markdown",
   "metadata": {},
   "source": [
    "<div class=\"alert alert-block alert-warning\">\n",
    "<b>Комментарий студента:</b> оценим нашу модель на независимой выборке (тестовой). Посчитаем для нее f1, roc_auc\n",
    "</div>"
   ]
  },
  {
   "cell_type": "code",
   "execution_count": 53,
   "metadata": {},
   "outputs": [
    {
     "name": "stdout",
     "output_type": "stream",
     "text": [
      "F1: 0.59552495697074\n",
      "CPU times: user 1.24 s, sys: 35.9 ms, total: 1.28 s\n",
      "Wall time: 1.29 s\n"
     ]
    }
   ],
   "source": [
    "%%time\n",
    "\n",
    "model = RandomForestClassifier(random_state=12345)\n",
    "model.fit(features_upsampled, target_upsampled)\n",
    "predicted_test = model.predict(features_test)\n",
    "\n",
    "print(\"F1:\", f1_score(target_test, predicted_test))"
   ]
  },
  {
   "cell_type": "code",
   "execution_count": 54,
   "metadata": {},
   "outputs": [
    {
     "data": {
      "text/plain": [
       "0.8470360116685556"
      ]
     },
     "execution_count": 54,
     "metadata": {},
     "output_type": "execute_result"
    }
   ],
   "source": [
    "model = RandomForestClassifier(random_state=12345)\n",
    "model.fit(features_upsampled, target_upsampled)\n",
    "\n",
    "probabilities_test=model.predict_proba(features_test)\n",
    "probabilities_one_test=probabilities_test[:,1]\n",
    "fpr_forest,tpr_forest,thresholds=roc_curve(target_test,probabilities_one_test)\n",
    "\n",
    "auc_roc=roc_auc_score(target_test,probabilities_one_test)\n",
    "\n",
    "auc_roc"
   ]
  },
  {
   "cell_type": "markdown",
   "metadata": {},
   "source": [
    "<div class=\"alert alert-block alert-warning\">\n",
    "<b>Комментарий студента:</b> Вывод: на тестовой выборке значение F1 модели случайный лес составляет 0.595, ROC_AUC = 0.847.\n",
    "</div>"
   ]
  },
  {
   "cell_type": "markdown",
   "metadata": {},
   "source": [
    "Чтобы выявить, как сильно наша модель отличается от случайной, посчитаем площадь под ROC-кривой — AUC-ROC (от англ. Area Under Curve ROC, «площадь под ROC-кривой»). Это новая метрика качества, которая изменяется от 0 до 1. AUC-ROC случайной модели равна 0.5."
   ]
  },
  {
   "cell_type": "code",
   "execution_count": 55,
   "metadata": {},
   "outputs": [
    {
     "data": {
      "text/plain": [
       "0.6798998501027983"
      ]
     },
     "execution_count": 55,
     "metadata": {},
     "output_type": "execute_result"
    }
   ],
   "source": [
    "model = DecisionTreeClassifier(random_state=12345)\n",
    "model.fit(features_upsampled, target_upsampled)\n",
    "\n",
    "probabilities_valid=model.predict_proba(features_valid)\n",
    "probabilities_one_valid=probabilities_valid[:,1]\n",
    "fpr_tree,tpr_tree,thresholds=roc_curve(target_valid,probabilities_one_valid)\n",
    "\n",
    "auc_roc=roc_auc_score(target_valid,probabilities_one_valid)\n",
    "\n",
    "auc_roc"
   ]
  },
  {
   "cell_type": "code",
   "execution_count": 56,
   "metadata": {},
   "outputs": [
    {
     "data": {
      "text/plain": [
       "0.8431362644743633"
      ]
     },
     "execution_count": 56,
     "metadata": {},
     "output_type": "execute_result"
    }
   ],
   "source": [
    "model = RandomForestClassifier(random_state=12345)\n",
    "model.fit(features_upsampled, target_upsampled)\n",
    "\n",
    "probabilities_valid=model.predict_proba(features_valid)\n",
    "probabilities_one_valid=probabilities_valid[:,1]\n",
    "fpr_forest,tpr_forest,thresholds=roc_curve(target_valid,probabilities_one_valid)\n",
    "\n",
    "auc_roc=roc_auc_score(target_valid,probabilities_one_valid)\n",
    "\n",
    "auc_roc"
   ]
  },
  {
   "cell_type": "code",
   "execution_count": 57,
   "metadata": {},
   "outputs": [
    {
     "name": "stdout",
     "output_type": "stream",
     "text": [
      "0.7790504326268051\n"
     ]
    }
   ],
   "source": [
    "model = LogisticRegression(random_state=12345, solver='liblinear')\n",
    "model.fit(features_upsampled, target_upsampled)\n",
    "\n",
    "probabilities_valid = model.predict_proba(features_valid)\n",
    "probabilities_one_valid = probabilities_valid[:, 1]\n",
    "fpr_log,tpr_log,thresholds=roc_curve(target_valid,probabilities_one_valid)\n",
    "\n",
    "auc_roc = roc_auc_score(target_valid, probabilities_one_valid)\n",
    "\n",
    "print(auc_roc)"
   ]
  },
  {
   "cell_type": "code",
   "execution_count": 58,
   "metadata": {},
   "outputs": [
    {
     "data": {
      "text/plain": [
       "<Figure size 432x288 with 0 Axes>"
      ]
     },
     "metadata": {},
     "output_type": "display_data"
    },
    {
     "data": {
      "image/png": "[encoded data removed]",
      "text/plain": [
       "<Figure size 720x504 with 1 Axes>"
      ]
     },
     "metadata": {
      "needs_background": "light"
     },
     "output_type": "display_data"
    }
   ],
   "source": [
    "plt.figure()\n",
    "\n",
    "plt.figure(figsize=(10,7))\n",
    "plt.plot([0, 1], [0, 1], linestyle='--')\n",
    "plt.xlim([0.0, 1.0])\n",
    "plt.ylim([0.0, 1.0])\n",
    "plt.plot(fpr_log,tpr_log)\n",
    "plt.plot(fpr_tree,tpr_tree)\n",
    "plt.plot(fpr_forest,tpr_forest)\n",
    "plt.xlabel('False Positive Rate')\n",
    "plt.ylabel('True Positive Rate')\n",
    "plt.title('ROC-кривая')\n",
    "plt.legend(('Случайная модель','Случайный лес','Логистическая регрессия','Дерево решения'),\n",
    "           loc= 'upper left') \n",
    "plt.show()"
   ]
  },
  {
   "cell_type": "markdown",
   "metadata": {},
   "source": [
    "Лучшее значение метрики auc roc=0.850 у модели Случайный лес"
   ]
  },
  {
   "cell_type": "code",
   "execution_count": 59,
   "metadata": {},
   "outputs": [
    {
     "data": {
      "text/plain": [
       "<Figure size 432x288 with 0 Axes>"
      ]
     },
     "metadata": {},
     "output_type": "display_data"
    },
    {
     "data": {
      "image/png": "[encoded data removed]",
      "text/plain": [
       "<Figure size 720x504 with 1 Axes>"
      ]
     },
     "metadata": {
      "needs_background": "light"
     },
     "output_type": "display_data"
    }
   ],
   "source": [
    "plt.figure()\n",
    "\n",
    "plt.figure(figsize=(10,7))\n",
    "plt.plot([0, 1], [0, 1], linestyle='--')\n",
    "plt.xlim([0.0, 1.0])\n",
    "plt.ylim([0.0, 1.0])\n",
    "plt.plot(fpr_forest,tpr_forest)\n",
    "plt.xlabel('False Positive Rate')\n",
    "plt.ylabel('True Positive Rate')\n",
    "plt.title('ROC-кривая')\n",
    "plt.legend(('Случайная модель','Случайный лес'),\n",
    "           loc= 'upper left') \n",
    "plt.show()"
   ]
  },
  {
   "cell_type": "markdown",
   "metadata": {},
   "source": [
    "**<u>Вывод по шагу 4</u>**. \n",
    "\n",
    "Рассматривая данные после балансирования данных между тремя моделями можно сделать вывод, что самая лучшая модель оказалась Случайный лес: мы имеем F1 меру = 0,595 на тестовой выборке, ROC_AUC = 0.847."
   ]
  },
  {
   "cell_type": "markdown",
   "metadata": {},
   "source": [
    "# Общий вывод"
   ]
  },
  {
   "cell_type": "markdown",
   "metadata": {},
   "source": [
    "Проведено построение модели по прогнозированию оттока клиентов банка на основе исторических данных поведения клиентов.\n",
    "\n",
    "В процессе предобработки данных:\n",
    "\n",
    "1. была произведена замена наименований столбцов на нижний регистр, применен змеиный стиль.\n",
    "2. тип данных столбца tenure приведен к типу данных Int64.\n",
    "3. пропуски в столбце tenure заменены на 0.\n",
    "4. удалены не нужные для анализа столбцы: row_number, customer_id, surname.\n",
    "5. дубликаты отсутствуют.\n",
    "6. проанализированы выбросы.\n",
    "\n",
    "В процессе исследования данных:\n",
    "\n",
    "1. Признаки не сильно коррелируются с целевым признаком. Линейная зависимость не выявлена.\n",
    "2. Клиенты в возрасте от 39 до 52 уходят чаще. Однако прямой зависимостью это назвать нельзя, так как клиентов в данном возрасте больше, чем в других возрастных группах.\n",
    "3. Клиенты, у которых всего 1 или два продукта банка уходят чаще.\n",
    "4. Зависимость оттока от наличия кредитной карты не выявлена.\n",
    "5. Неактивные клиенты уходят чаще.\n",
    "6. Категориальные признаки переведены в дамми переменные.\n",
    "\n",
    "Для борьбы с дисбалансом использована техника upsampling. Поэтому для дальнейшего прогноза были использованы данные features_upsampled, target_upsampled полученные с помощью техники upsampling.\n",
    "\n",
    "Проведен выбор лучшей модели для дальнейшего прогнозирования. Проанализированы модели LogisticRegression, DecisionTreeClassifier, RandomForestClassifier.\n",
    "\n",
    "Рассматривая данные после балансирования данных между тремя моделями можно сделать вывод, что самая лучшая модель оказалась Случайный лес: мы имеем F1 меру = 0,604 на тестовой(валидной) выборке.\n",
    "<div class=\"alert alert-block alert-warning\">\n",
    "<b>Изменения:</b> Были внесены следующие изменения Рассматривая данные после балансирования данных между тремя моделями можно сделать вывод, что самая лучшая модель оказалась Случайный лес: мы имеем F1 меру = 0,595 на тестовой выборке. Дополнительно построена ROC - кривая, и измерена AUC-ROC = 0.843 у модели Случайный лес.\n",
    "</div>"
   ]
  }
 ],
 "metadata": {
  "ExecuteTimeLog": [
   {
    "duration": 2253,
    "start_time": "2023-03-16T11:05:18.441Z"
   },
   {
    "duration": 124,
    "start_time": "2023-03-16T11:06:25.512Z"
   },
   {
    "duration": 44,
    "start_time": "2023-03-16T11:07:05.483Z"
   },
   {
    "duration": 47,
    "start_time": "2023-03-16T11:08:14.734Z"
   },
   {
    "duration": 6,
    "start_time": "2023-03-16T12:42:08.950Z"
   },
   {
    "duration": 145,
    "start_time": "2023-03-16T12:44:29.918Z"
   },
   {
    "duration": 87,
    "start_time": "2023-03-16T12:55:14.124Z"
   },
   {
    "duration": 5,
    "start_time": "2023-03-16T12:55:31.229Z"
   },
   {
    "duration": 43,
    "start_time": "2023-03-16T12:55:36.633Z"
   },
   {
    "duration": 24,
    "start_time": "2023-03-16T12:55:45.432Z"
   },
   {
    "duration": 7,
    "start_time": "2023-03-16T12:58:08.231Z"
   },
   {
    "duration": 9,
    "start_time": "2023-03-16T13:00:00.182Z"
   },
   {
    "duration": 8,
    "start_time": "2023-03-16T13:00:28.017Z"
   },
   {
    "duration": 20,
    "start_time": "2023-03-16T13:00:39.096Z"
   },
   {
    "duration": 9,
    "start_time": "2023-03-16T13:00:42.497Z"
   },
   {
    "duration": 9,
    "start_time": "2023-03-16T13:01:04.453Z"
   },
   {
    "duration": 8,
    "start_time": "2023-03-16T13:02:00.019Z"
   },
   {
    "duration": 20,
    "start_time": "2023-03-16T13:02:13.753Z"
   },
   {
    "duration": 10,
    "start_time": "2023-03-16T13:05:45.228Z"
   },
   {
    "duration": 64,
    "start_time": "2023-03-16T13:05:49.294Z"
   },
   {
    "duration": 13,
    "start_time": "2023-03-16T13:07:10.425Z"
   },
   {
    "duration": 20,
    "start_time": "2023-03-16T13:07:44.001Z"
   },
   {
    "duration": 9,
    "start_time": "2023-03-16T13:07:55.943Z"
   },
   {
    "duration": 50,
    "start_time": "2023-03-16T13:08:56.354Z"
   },
   {
    "duration": 15,
    "start_time": "2023-03-16T13:10:54.492Z"
   },
   {
    "duration": 1633,
    "start_time": "2023-03-16T18:26:31.006Z"
   },
   {
    "duration": 115,
    "start_time": "2023-03-16T18:32:18.931Z"
   },
   {
    "duration": 1310,
    "start_time": "2023-03-16T18:32:25.522Z"
   },
   {
    "duration": 176,
    "start_time": "2023-03-16T18:32:26.834Z"
   },
   {
    "duration": 17,
    "start_time": "2023-03-16T18:32:27.011Z"
   },
   {
    "duration": 20,
    "start_time": "2023-03-16T18:32:27.029Z"
   },
   {
    "duration": 4,
    "start_time": "2023-03-16T18:32:27.052Z"
   },
   {
    "duration": 16,
    "start_time": "2023-03-16T18:32:27.057Z"
   },
   {
    "duration": 18,
    "start_time": "2023-03-16T18:32:27.074Z"
   },
   {
    "duration": 13,
    "start_time": "2023-03-16T18:32:27.094Z"
   },
   {
    "duration": 50,
    "start_time": "2023-03-16T18:32:27.108Z"
   },
   {
    "duration": 23,
    "start_time": "2023-03-16T18:32:27.159Z"
   },
   {
    "duration": 52,
    "start_time": "2023-03-16T18:32:27.184Z"
   },
   {
    "duration": 9,
    "start_time": "2023-03-16T18:32:27.238Z"
   },
   {
    "duration": 34,
    "start_time": "2023-03-16T18:32:27.248Z"
   },
   {
    "duration": 81,
    "start_time": "2023-03-16T18:32:57.276Z"
   },
   {
    "duration": 12,
    "start_time": "2023-03-16T18:33:10.508Z"
   },
   {
    "duration": 17,
    "start_time": "2023-03-16T18:34:25.521Z"
   },
   {
    "duration": 14,
    "start_time": "2023-03-16T18:34:52.606Z"
   },
   {
    "duration": 1419,
    "start_time": "2023-03-16T18:35:41.535Z"
   },
   {
    "duration": 40,
    "start_time": "2023-03-16T18:35:42.957Z"
   },
   {
    "duration": 18,
    "start_time": "2023-03-16T18:35:42.999Z"
   },
   {
    "duration": 21,
    "start_time": "2023-03-16T18:35:43.020Z"
   },
   {
    "duration": 4,
    "start_time": "2023-03-16T18:35:43.043Z"
   },
   {
    "duration": 31,
    "start_time": "2023-03-16T18:35:43.050Z"
   },
   {
    "duration": 7,
    "start_time": "2023-03-16T18:35:43.083Z"
   },
   {
    "duration": 7,
    "start_time": "2023-03-16T18:35:43.092Z"
   },
   {
    "duration": 8,
    "start_time": "2023-03-16T18:35:43.100Z"
   },
   {
    "duration": 72,
    "start_time": "2023-03-16T18:35:43.110Z"
   },
   {
    "duration": 10,
    "start_time": "2023-03-16T18:35:43.184Z"
   },
   {
    "duration": 25,
    "start_time": "2023-03-16T18:35:43.196Z"
   },
   {
    "duration": 6,
    "start_time": "2023-03-16T18:52:15.996Z"
   },
   {
    "duration": 5,
    "start_time": "2023-03-16T18:52:17.828Z"
   },
   {
    "duration": 9,
    "start_time": "2023-03-16T18:54:33.655Z"
   },
   {
    "duration": 13,
    "start_time": "2023-03-16T18:56:53.504Z"
   },
   {
    "duration": 40,
    "start_time": "2023-03-16T19:05:25.945Z"
   },
   {
    "duration": 10,
    "start_time": "2023-03-16T19:09:08.724Z"
   },
   {
    "duration": 4,
    "start_time": "2023-03-16T19:09:29.517Z"
   },
   {
    "duration": 107,
    "start_time": "2023-03-16T19:09:43.669Z"
   },
   {
    "duration": 10,
    "start_time": "2023-03-16T19:09:51.325Z"
   },
   {
    "duration": 10,
    "start_time": "2023-03-16T19:09:57.902Z"
   },
   {
    "duration": 12,
    "start_time": "2023-03-16T19:11:15.261Z"
   },
   {
    "duration": 47,
    "start_time": "2023-03-17T07:32:57.951Z"
   },
   {
    "duration": 1582,
    "start_time": "2023-03-17T07:33:03.842Z"
   },
   {
    "duration": 180,
    "start_time": "2023-03-17T07:33:05.426Z"
   },
   {
    "duration": 17,
    "start_time": "2023-03-17T07:33:05.608Z"
   },
   {
    "duration": 21,
    "start_time": "2023-03-17T07:33:05.627Z"
   },
   {
    "duration": 4,
    "start_time": "2023-03-17T07:33:05.649Z"
   },
   {
    "duration": 20,
    "start_time": "2023-03-17T07:33:05.654Z"
   },
   {
    "duration": 14,
    "start_time": "2023-03-17T07:33:05.675Z"
   },
   {
    "duration": 4,
    "start_time": "2023-03-17T07:33:05.691Z"
   },
   {
    "duration": 12,
    "start_time": "2023-03-17T07:33:05.697Z"
   },
   {
    "duration": 61,
    "start_time": "2023-03-17T07:33:05.711Z"
   },
   {
    "duration": 9,
    "start_time": "2023-03-17T07:33:05.773Z"
   },
   {
    "duration": 28,
    "start_time": "2023-03-17T07:33:05.783Z"
   },
   {
    "duration": 406,
    "start_time": "2023-03-17T07:33:05.813Z"
   },
   {
    "duration": 0,
    "start_time": "2023-03-17T07:33:06.221Z"
   },
   {
    "duration": 0,
    "start_time": "2023-03-17T07:33:06.222Z"
   },
   {
    "duration": 293,
    "start_time": "2023-03-17T07:33:26.193Z"
   },
   {
    "duration": 9,
    "start_time": "2023-03-17T07:33:43.942Z"
   },
   {
    "duration": 9,
    "start_time": "2023-03-17T07:35:30.038Z"
   },
   {
    "duration": 6,
    "start_time": "2023-03-17T07:38:25.225Z"
   },
   {
    "duration": 10,
    "start_time": "2023-03-17T07:38:35.607Z"
   },
   {
    "duration": 6,
    "start_time": "2023-03-17T07:41:57.996Z"
   },
   {
    "duration": 6,
    "start_time": "2023-03-17T07:42:10.069Z"
   },
   {
    "duration": 10,
    "start_time": "2023-03-17T07:44:32.154Z"
   },
   {
    "duration": 10,
    "start_time": "2023-03-17T07:48:03.030Z"
   },
   {
    "duration": 1458,
    "start_time": "2023-03-17T07:48:21.866Z"
   },
   {
    "duration": 48,
    "start_time": "2023-03-17T07:48:23.326Z"
   },
   {
    "duration": 20,
    "start_time": "2023-03-17T07:48:23.376Z"
   },
   {
    "duration": 26,
    "start_time": "2023-03-17T07:48:23.398Z"
   },
   {
    "duration": 5,
    "start_time": "2023-03-17T07:48:23.426Z"
   },
   {
    "duration": 24,
    "start_time": "2023-03-17T07:48:23.433Z"
   },
   {
    "duration": 9,
    "start_time": "2023-03-17T07:48:23.459Z"
   },
   {
    "duration": 6,
    "start_time": "2023-03-17T07:48:23.470Z"
   },
   {
    "duration": 9,
    "start_time": "2023-03-17T07:48:23.478Z"
   },
   {
    "duration": 89,
    "start_time": "2023-03-17T07:48:23.490Z"
   },
   {
    "duration": 12,
    "start_time": "2023-03-17T07:48:23.581Z"
   },
   {
    "duration": 24,
    "start_time": "2023-03-17T07:48:23.595Z"
   },
   {
    "duration": 45,
    "start_time": "2023-03-17T07:48:23.640Z"
   },
   {
    "duration": 10,
    "start_time": "2023-03-17T07:48:23.687Z"
   },
   {
    "duration": 6,
    "start_time": "2023-03-17T07:48:23.698Z"
   },
   {
    "duration": 41,
    "start_time": "2023-03-17T07:48:23.706Z"
   },
   {
    "duration": 6,
    "start_time": "2023-03-17T07:48:23.749Z"
   },
   {
    "duration": 106,
    "start_time": "2023-03-17T07:50:43.423Z"
   },
   {
    "duration": 25,
    "start_time": "2023-03-17T07:51:13.735Z"
   },
   {
    "duration": 11,
    "start_time": "2023-03-17T07:52:10.462Z"
   },
   {
    "duration": 1472,
    "start_time": "2023-03-17T07:52:19.473Z"
   },
   {
    "duration": 43,
    "start_time": "2023-03-17T07:52:20.948Z"
   },
   {
    "duration": 25,
    "start_time": "2023-03-17T07:52:20.993Z"
   },
   {
    "duration": 30,
    "start_time": "2023-03-17T07:52:21.021Z"
   },
   {
    "duration": 6,
    "start_time": "2023-03-17T07:52:21.052Z"
   },
   {
    "duration": 31,
    "start_time": "2023-03-17T07:52:21.060Z"
   },
   {
    "duration": 20,
    "start_time": "2023-03-17T07:52:21.093Z"
   },
   {
    "duration": 39,
    "start_time": "2023-03-17T07:52:21.115Z"
   },
   {
    "duration": 31,
    "start_time": "2023-03-17T07:52:21.156Z"
   },
   {
    "duration": 77,
    "start_time": "2023-03-17T07:52:21.190Z"
   },
   {
    "duration": 11,
    "start_time": "2023-03-17T07:52:21.269Z"
   },
   {
    "duration": 28,
    "start_time": "2023-03-17T07:52:21.281Z"
   },
   {
    "duration": 60,
    "start_time": "2023-03-17T07:52:21.311Z"
   },
   {
    "duration": 8,
    "start_time": "2023-03-17T07:52:21.374Z"
   },
   {
    "duration": 18,
    "start_time": "2023-03-17T07:52:21.383Z"
   },
   {
    "duration": 15,
    "start_time": "2023-03-17T07:52:21.403Z"
   },
   {
    "duration": 22,
    "start_time": "2023-03-17T07:52:21.420Z"
   },
   {
    "duration": 143,
    "start_time": "2023-03-17T07:52:21.444Z"
   },
   {
    "duration": 4,
    "start_time": "2023-03-17T07:53:26.433Z"
   },
   {
    "duration": 5,
    "start_time": "2023-03-17T07:54:12.400Z"
   },
   {
    "duration": 12,
    "start_time": "2023-03-17T07:55:27.618Z"
   },
   {
    "duration": 5,
    "start_time": "2023-03-17T07:55:59.594Z"
   },
   {
    "duration": 23,
    "start_time": "2023-03-17T07:56:04.308Z"
   },
   {
    "duration": 26,
    "start_time": "2023-03-17T07:56:08.741Z"
   },
   {
    "duration": 13,
    "start_time": "2023-03-17T07:59:40.372Z"
   },
   {
    "duration": 14,
    "start_time": "2023-03-17T07:59:44.953Z"
   },
   {
    "duration": 7,
    "start_time": "2023-03-17T07:59:47.984Z"
   },
   {
    "duration": 20,
    "start_time": "2023-03-17T07:59:49.961Z"
   },
   {
    "duration": 33,
    "start_time": "2023-03-17T08:00:00.836Z"
   },
   {
    "duration": 77,
    "start_time": "2023-03-17T08:02:56.529Z"
   },
   {
    "duration": 14,
    "start_time": "2023-03-17T08:03:09.969Z"
   },
   {
    "duration": 7,
    "start_time": "2023-03-17T08:04:13.179Z"
   },
   {
    "duration": 6,
    "start_time": "2023-03-17T08:04:15.133Z"
   },
   {
    "duration": 23,
    "start_time": "2023-03-17T08:04:16.654Z"
   },
   {
    "duration": 28,
    "start_time": "2023-03-17T08:04:25.159Z"
   },
   {
    "duration": 13,
    "start_time": "2023-03-17T08:04:40.986Z"
   },
   {
    "duration": 7,
    "start_time": "2023-03-17T08:04:44.843Z"
   },
   {
    "duration": 6,
    "start_time": "2023-03-17T08:04:46.307Z"
   },
   {
    "duration": 27,
    "start_time": "2023-03-17T08:04:53.331Z"
   },
   {
    "duration": 21,
    "start_time": "2023-03-17T08:05:02.669Z"
   },
   {
    "duration": 7,
    "start_time": "2023-03-17T09:22:12.687Z"
   },
   {
    "duration": 5,
    "start_time": "2023-03-17T09:22:32.332Z"
   },
   {
    "duration": 25,
    "start_time": "2023-03-17T09:34:22.849Z"
   },
   {
    "duration": 22,
    "start_time": "2023-03-17T09:41:07.313Z"
   },
   {
    "duration": 27,
    "start_time": "2023-03-17T09:42:42.834Z"
   },
   {
    "duration": 4,
    "start_time": "2023-03-17T09:48:16.942Z"
   },
   {
    "duration": 5,
    "start_time": "2023-03-17T09:48:48.822Z"
   },
   {
    "duration": 10,
    "start_time": "2023-03-17T09:49:33.833Z"
   },
   {
    "duration": 22,
    "start_time": "2023-03-17T09:51:55.408Z"
   },
   {
    "duration": 22,
    "start_time": "2023-03-17T09:52:08.413Z"
   },
   {
    "duration": 1529,
    "start_time": "2023-03-17T09:54:38.311Z"
   },
   {
    "duration": 44,
    "start_time": "2023-03-17T09:54:39.843Z"
   },
   {
    "duration": 16,
    "start_time": "2023-03-17T09:54:39.889Z"
   },
   {
    "duration": 20,
    "start_time": "2023-03-17T09:54:39.907Z"
   },
   {
    "duration": 4,
    "start_time": "2023-03-17T09:54:39.930Z"
   },
   {
    "duration": 16,
    "start_time": "2023-03-17T09:54:39.936Z"
   },
   {
    "duration": 11,
    "start_time": "2023-03-17T09:54:39.953Z"
   },
   {
    "duration": 12,
    "start_time": "2023-03-17T09:54:39.966Z"
   },
   {
    "duration": 12,
    "start_time": "2023-03-17T09:54:39.980Z"
   },
   {
    "duration": 71,
    "start_time": "2023-03-17T09:54:39.993Z"
   },
   {
    "duration": 12,
    "start_time": "2023-03-17T09:54:40.065Z"
   },
   {
    "duration": 32,
    "start_time": "2023-03-17T09:54:40.079Z"
   },
   {
    "duration": 4,
    "start_time": "2023-03-17T09:54:40.113Z"
   },
   {
    "duration": 25,
    "start_time": "2023-03-17T09:54:40.120Z"
   },
   {
    "duration": 42,
    "start_time": "2023-03-17T09:54:40.147Z"
   },
   {
    "duration": 13,
    "start_time": "2023-03-17T09:54:40.191Z"
   },
   {
    "duration": 35,
    "start_time": "2023-03-17T09:54:40.207Z"
   },
   {
    "duration": 126,
    "start_time": "2023-03-17T09:54:40.244Z"
   },
   {
    "duration": 0,
    "start_time": "2023-03-17T09:54:40.372Z"
   },
   {
    "duration": 0,
    "start_time": "2023-03-17T09:54:40.373Z"
   },
   {
    "duration": 0,
    "start_time": "2023-03-17T09:54:40.374Z"
   },
   {
    "duration": 0,
    "start_time": "2023-03-17T09:54:40.375Z"
   },
   {
    "duration": 20,
    "start_time": "2023-03-17T09:56:21.806Z"
   },
   {
    "duration": 14,
    "start_time": "2023-03-17T09:56:39.258Z"
   },
   {
    "duration": 14,
    "start_time": "2023-03-17T09:56:53.927Z"
   },
   {
    "duration": 10,
    "start_time": "2023-03-17T09:57:26.127Z"
   },
   {
    "duration": 163,
    "start_time": "2023-03-17T10:01:53.268Z"
   },
   {
    "duration": 147,
    "start_time": "2023-03-17T10:02:36.457Z"
   },
   {
    "duration": 290,
    "start_time": "2023-03-17T10:02:59.293Z"
   },
   {
    "duration": 885,
    "start_time": "2023-03-17T10:07:39.241Z"
   },
   {
    "duration": 7,
    "start_time": "2023-03-17T10:09:18.699Z"
   },
   {
    "duration": 17,
    "start_time": "2023-03-17T10:10:38.804Z"
   },
   {
    "duration": 1017,
    "start_time": "2023-03-17T10:11:14.903Z"
   },
   {
    "duration": 1121,
    "start_time": "2023-03-17T10:42:58.795Z"
   },
   {
    "duration": 153,
    "start_time": "2023-03-17T10:44:53.477Z"
   },
   {
    "duration": 247,
    "start_time": "2023-03-17T10:46:14.959Z"
   },
   {
    "duration": 16,
    "start_time": "2023-03-17T10:51:03.130Z"
   },
   {
    "duration": 9,
    "start_time": "2023-03-17T11:01:30.485Z"
   },
   {
    "duration": 6,
    "start_time": "2023-03-17T11:05:06.552Z"
   },
   {
    "duration": 6,
    "start_time": "2023-03-17T11:05:34.961Z"
   },
   {
    "duration": 6,
    "start_time": "2023-03-17T11:05:46.400Z"
   },
   {
    "duration": 11,
    "start_time": "2023-03-17T11:06:31.057Z"
   },
   {
    "duration": 5,
    "start_time": "2023-03-17T11:06:54.297Z"
   },
   {
    "duration": 27,
    "start_time": "2023-03-17T11:08:18.771Z"
   },
   {
    "duration": 19,
    "start_time": "2023-03-17T11:08:36.909Z"
   },
   {
    "duration": 27,
    "start_time": "2023-03-17T11:09:12.556Z"
   },
   {
    "duration": 25,
    "start_time": "2023-03-17T11:09:56.244Z"
   },
   {
    "duration": 23,
    "start_time": "2023-03-17T11:11:35.879Z"
   },
   {
    "duration": 9,
    "start_time": "2023-03-17T11:12:48.190Z"
   },
   {
    "duration": 13,
    "start_time": "2023-03-17T11:25:18.669Z"
   },
   {
    "duration": 7,
    "start_time": "2023-03-17T11:25:36.494Z"
   },
   {
    "duration": 1438,
    "start_time": "2023-03-17T11:25:41.758Z"
   },
   {
    "duration": 43,
    "start_time": "2023-03-17T11:25:43.198Z"
   },
   {
    "duration": 17,
    "start_time": "2023-03-17T11:25:43.242Z"
   },
   {
    "duration": 18,
    "start_time": "2023-03-17T11:25:43.261Z"
   },
   {
    "duration": 6,
    "start_time": "2023-03-17T11:25:43.281Z"
   },
   {
    "duration": 14,
    "start_time": "2023-03-17T11:25:43.288Z"
   },
   {
    "duration": 15,
    "start_time": "2023-03-17T11:25:43.303Z"
   },
   {
    "duration": 5,
    "start_time": "2023-03-17T11:25:43.341Z"
   },
   {
    "duration": 17,
    "start_time": "2023-03-17T11:25:43.348Z"
   },
   {
    "duration": 52,
    "start_time": "2023-03-17T11:25:43.366Z"
   },
   {
    "duration": 21,
    "start_time": "2023-03-17T11:25:43.420Z"
   },
   {
    "duration": 29,
    "start_time": "2023-03-17T11:25:43.443Z"
   },
   {
    "duration": 3,
    "start_time": "2023-03-17T11:25:43.473Z"
   },
   {
    "duration": 7,
    "start_time": "2023-03-17T11:25:43.479Z"
   },
   {
    "duration": 13,
    "start_time": "2023-03-17T11:25:43.487Z"
   },
   {
    "duration": 12,
    "start_time": "2023-03-17T11:25:43.501Z"
   },
   {
    "duration": 44,
    "start_time": "2023-03-17T11:25:43.540Z"
   },
   {
    "duration": 10,
    "start_time": "2023-03-17T11:25:43.586Z"
   },
   {
    "duration": 176,
    "start_time": "2023-03-17T11:25:43.598Z"
   },
   {
    "duration": 1152,
    "start_time": "2023-03-17T11:25:43.776Z"
   },
   {
    "duration": 220,
    "start_time": "2023-03-17T11:25:44.930Z"
   },
   {
    "duration": 189,
    "start_time": "2023-03-17T11:25:45.152Z"
   },
   {
    "duration": 20,
    "start_time": "2023-03-17T11:25:45.343Z"
   },
   {
    "duration": 3,
    "start_time": "2023-03-17T11:25:45.365Z"
   },
   {
    "duration": 38,
    "start_time": "2023-03-17T11:25:45.369Z"
   },
   {
    "duration": 20,
    "start_time": "2023-03-17T11:25:45.409Z"
   },
   {
    "duration": 14,
    "start_time": "2023-03-17T11:25:45.430Z"
   },
   {
    "duration": 29,
    "start_time": "2023-03-17T11:25:45.446Z"
   },
   {
    "duration": 73,
    "start_time": "2023-03-17T11:25:45.477Z"
   },
   {
    "duration": 5779,
    "start_time": "2023-03-17T11:25:45.554Z"
   },
   {
    "duration": 8206,
    "start_time": "2023-03-17T11:25:51.335Z"
   },
   {
    "duration": 122,
    "start_time": "2023-03-17T11:28:07.808Z"
   },
   {
    "duration": 539,
    "start_time": "2023-03-17T11:28:56.910Z"
   },
   {
    "duration": 624,
    "start_time": "2023-03-17T11:30:31.761Z"
   },
   {
    "duration": 614,
    "start_time": "2023-03-17T11:30:49.241Z"
   },
   {
    "duration": 5373,
    "start_time": "2023-03-17T11:33:54.317Z"
   },
   {
    "duration": 1013,
    "start_time": "2023-03-17T11:36:56.248Z"
   },
   {
    "duration": 2769,
    "start_time": "2023-03-17T11:37:12.865Z"
   },
   {
    "duration": 5439,
    "start_time": "2023-03-17T11:37:40.706Z"
   },
   {
    "duration": 13343,
    "start_time": "2023-03-17T11:38:10.800Z"
   },
   {
    "duration": 7165,
    "start_time": "2023-03-17T11:38:39.074Z"
   },
   {
    "duration": 12077,
    "start_time": "2023-03-17T11:42:25.285Z"
   },
   {
    "duration": 6755,
    "start_time": "2023-03-17T11:42:49.606Z"
   },
   {
    "duration": 3639,
    "start_time": "2023-03-17T11:44:26.167Z"
   },
   {
    "duration": 6992,
    "start_time": "2023-03-17T11:44:40.999Z"
   },
   {
    "duration": 13401,
    "start_time": "2023-03-17T11:45:08.256Z"
   },
   {
    "duration": 8641,
    "start_time": "2023-03-17T11:50:08.100Z"
   },
   {
    "duration": 130551,
    "start_time": "2023-03-17T11:50:24.300Z"
   },
   {
    "duration": 2388,
    "start_time": "2023-03-17T11:52:56.855Z"
   },
   {
    "duration": 1195,
    "start_time": "2023-03-17T11:53:29.751Z"
   },
   {
    "duration": 57,
    "start_time": "2023-03-17T14:47:08.248Z"
   },
   {
    "duration": 1678,
    "start_time": "2023-03-17T14:47:15.156Z"
   },
   {
    "duration": 378,
    "start_time": "2023-03-17T14:47:16.837Z"
   },
   {
    "duration": 18,
    "start_time": "2023-03-17T14:47:17.217Z"
   },
   {
    "duration": 23,
    "start_time": "2023-03-17T14:47:17.237Z"
   },
   {
    "duration": 3,
    "start_time": "2023-03-17T14:47:17.262Z"
   },
   {
    "duration": 23,
    "start_time": "2023-03-17T14:47:17.267Z"
   },
   {
    "duration": 7,
    "start_time": "2023-03-17T14:47:17.291Z"
   },
   {
    "duration": 5,
    "start_time": "2023-03-17T14:47:17.300Z"
   },
   {
    "duration": 10,
    "start_time": "2023-03-17T14:47:17.307Z"
   },
   {
    "duration": 78,
    "start_time": "2023-03-17T14:47:17.320Z"
   },
   {
    "duration": 10,
    "start_time": "2023-03-17T14:47:17.400Z"
   },
   {
    "duration": 63,
    "start_time": "2023-03-17T14:47:17.412Z"
   },
   {
    "duration": 4,
    "start_time": "2023-03-17T14:47:17.477Z"
   },
   {
    "duration": 26,
    "start_time": "2023-03-17T14:47:17.482Z"
   },
   {
    "duration": 39,
    "start_time": "2023-03-17T14:47:17.510Z"
   },
   {
    "duration": 72,
    "start_time": "2023-03-17T14:47:17.551Z"
   },
   {
    "duration": 68,
    "start_time": "2023-03-17T14:47:17.625Z"
   },
   {
    "duration": 18,
    "start_time": "2023-03-17T14:47:17.696Z"
   },
   {
    "duration": 222,
    "start_time": "2023-03-17T14:47:17.717Z"
   },
   {
    "duration": 1280,
    "start_time": "2023-03-17T14:47:17.941Z"
   },
   {
    "duration": 219,
    "start_time": "2023-03-17T14:47:19.223Z"
   },
   {
    "duration": 201,
    "start_time": "2023-03-17T14:47:19.444Z"
   },
   {
    "duration": 18,
    "start_time": "2023-03-17T14:47:19.646Z"
   },
   {
    "duration": 4,
    "start_time": "2023-03-17T14:47:19.666Z"
   },
   {
    "duration": 45,
    "start_time": "2023-03-17T14:47:19.671Z"
   },
   {
    "duration": 8,
    "start_time": "2023-03-17T14:47:19.718Z"
   },
   {
    "duration": 9,
    "start_time": "2023-03-17T14:47:19.728Z"
   },
   {
    "duration": 18,
    "start_time": "2023-03-17T14:47:19.740Z"
   },
   {
    "duration": 633,
    "start_time": "2023-03-17T14:47:19.760Z"
   },
   {
    "duration": 7206,
    "start_time": "2023-03-17T14:47:20.395Z"
   },
   {
    "duration": 14637,
    "start_time": "2023-03-17T14:47:27.604Z"
   },
   {
    "duration": 5453,
    "start_time": "2023-03-17T14:47:42.243Z"
   },
   {
    "duration": 134,
    "start_time": "2023-03-17T14:48:15.112Z"
   },
   {
    "duration": 629,
    "start_time": "2023-03-17T14:48:29.475Z"
   },
   {
    "duration": 57964,
    "start_time": "2023-03-17T14:50:15.254Z"
   },
   {
    "duration": 14648,
    "start_time": "2023-03-17T14:52:20.926Z"
   },
   {
    "duration": 25,
    "start_time": "2023-03-17T14:57:03.827Z"
   },
   {
    "duration": 11,
    "start_time": "2023-03-17T14:57:25.324Z"
   },
   {
    "duration": 1613,
    "start_time": "2023-03-17T14:57:30.720Z"
   },
   {
    "duration": 45,
    "start_time": "2023-03-17T14:57:32.335Z"
   },
   {
    "duration": 35,
    "start_time": "2023-03-17T14:57:32.381Z"
   },
   {
    "duration": 20,
    "start_time": "2023-03-17T14:57:32.422Z"
   },
   {
    "duration": 5,
    "start_time": "2023-03-17T14:57:32.446Z"
   },
   {
    "duration": 20,
    "start_time": "2023-03-17T14:57:32.453Z"
   },
   {
    "duration": 13,
    "start_time": "2023-03-17T14:57:32.474Z"
   },
   {
    "duration": 32,
    "start_time": "2023-03-17T14:57:32.497Z"
   },
   {
    "duration": 9,
    "start_time": "2023-03-17T14:57:32.531Z"
   },
   {
    "duration": 58,
    "start_time": "2023-03-17T14:57:32.542Z"
   },
   {
    "duration": 26,
    "start_time": "2023-03-17T14:57:32.602Z"
   },
   {
    "duration": 46,
    "start_time": "2023-03-17T14:57:32.631Z"
   },
   {
    "duration": 4,
    "start_time": "2023-03-17T14:57:32.679Z"
   },
   {
    "duration": 21,
    "start_time": "2023-03-17T14:57:32.686Z"
   },
   {
    "duration": 27,
    "start_time": "2023-03-17T14:57:32.709Z"
   },
   {
    "duration": 12,
    "start_time": "2023-03-17T14:57:32.738Z"
   },
   {
    "duration": 71,
    "start_time": "2023-03-17T14:57:32.751Z"
   },
   {
    "duration": 11,
    "start_time": "2023-03-17T14:57:32.824Z"
   },
   {
    "duration": 212,
    "start_time": "2023-03-17T14:57:32.836Z"
   },
   {
    "duration": 1363,
    "start_time": "2023-03-17T14:57:33.049Z"
   },
   {
    "duration": 200,
    "start_time": "2023-03-17T14:57:34.414Z"
   },
   {
    "duration": 223,
    "start_time": "2023-03-17T14:57:34.617Z"
   },
   {
    "duration": 27,
    "start_time": "2023-03-17T14:57:34.842Z"
   },
   {
    "duration": 21,
    "start_time": "2023-03-17T14:57:34.871Z"
   },
   {
    "duration": 39,
    "start_time": "2023-03-17T14:57:34.894Z"
   },
   {
    "duration": 14,
    "start_time": "2023-03-17T14:57:34.934Z"
   },
   {
    "duration": 10,
    "start_time": "2023-03-17T14:57:34.951Z"
   },
   {
    "duration": 56,
    "start_time": "2023-03-17T14:57:34.962Z"
   },
   {
    "duration": 706,
    "start_time": "2023-03-17T14:57:35.021Z"
   },
   {
    "duration": 60112,
    "start_time": "2023-03-17T14:57:35.730Z"
   },
   {
    "duration": 15834,
    "start_time": "2023-03-17T14:58:35.844Z"
   },
   {
    "duration": 2055,
    "start_time": "2023-03-17T14:58:51.680Z"
   },
   {
    "duration": 241,
    "start_time": "2023-03-17T14:58:53.793Z"
   },
   {
    "duration": 2096,
    "start_time": "2023-03-17T14:59:28.331Z"
   },
   {
    "duration": 1406,
    "start_time": "2023-03-17T15:03:38.626Z"
   },
   {
    "duration": 12421,
    "start_time": "2023-03-17T15:03:46.251Z"
   },
   {
    "duration": 2081,
    "start_time": "2023-03-17T15:04:03.658Z"
   },
   {
    "duration": 99,
    "start_time": "2023-03-17T15:07:01.038Z"
   },
   {
    "duration": 16,
    "start_time": "2023-03-17T15:07:51.473Z"
   },
   {
    "duration": 83,
    "start_time": "2023-03-17T15:07:53.616Z"
   },
   {
    "duration": 2099,
    "start_time": "2023-03-17T15:07:54.944Z"
   },
   {
    "duration": 3554,
    "start_time": "2023-03-17T15:11:38.853Z"
   },
   {
    "duration": 8,
    "start_time": "2023-03-17T15:14:11.623Z"
   },
   {
    "duration": 132,
    "start_time": "2023-03-17T15:17:40.261Z"
   },
   {
    "duration": 10,
    "start_time": "2023-03-17T15:17:51.732Z"
   },
   {
    "duration": 135,
    "start_time": "2023-03-17T15:18:03.961Z"
   },
   {
    "duration": 14,
    "start_time": "2023-03-17T15:25:10.871Z"
   },
   {
    "duration": 86,
    "start_time": "2023-03-17T15:25:20.314Z"
   },
   {
    "duration": 112,
    "start_time": "2023-03-17T15:25:53.932Z"
   },
   {
    "duration": 132196,
    "start_time": "2023-03-17T16:29:53.153Z"
   },
   {
    "duration": 18,
    "start_time": "2023-03-17T16:33:50.237Z"
   },
   {
    "duration": 24,
    "start_time": "2023-03-17T16:34:05.058Z"
   },
   {
    "duration": 42,
    "start_time": "2023-03-17T16:35:13.314Z"
   },
   {
    "duration": 29,
    "start_time": "2023-03-17T16:35:46.036Z"
   },
   {
    "duration": 32,
    "start_time": "2023-03-17T16:36:57.177Z"
   },
   {
    "duration": 79,
    "start_time": "2023-03-17T16:46:15.443Z"
   },
   {
    "duration": 1833,
    "start_time": "2023-03-17T16:46:47.103Z"
   },
   {
    "duration": 149,
    "start_time": "2023-03-17T16:47:19.839Z"
   },
   {
    "duration": 80,
    "start_time": "2023-03-17T16:48:30.047Z"
   },
   {
    "duration": 1640,
    "start_time": "2023-03-17T16:48:44.708Z"
   },
   {
    "duration": 88,
    "start_time": "2023-03-17T16:48:56.902Z"
   },
   {
    "duration": 180,
    "start_time": "2023-03-17T16:49:15.110Z"
   },
   {
    "duration": 11,
    "start_time": "2023-03-17T16:59:48.608Z"
   },
   {
    "duration": 1805,
    "start_time": "2023-03-18T06:23:12.801Z"
   },
   {
    "duration": 133,
    "start_time": "2023-03-18T06:24:42.105Z"
   },
   {
    "duration": 1490,
    "start_time": "2023-03-18T06:24:48.483Z"
   },
   {
    "duration": 106,
    "start_time": "2023-03-18T06:24:49.975Z"
   },
   {
    "duration": 17,
    "start_time": "2023-03-18T06:24:50.083Z"
   },
   {
    "duration": 27,
    "start_time": "2023-03-18T06:24:50.102Z"
   },
   {
    "duration": 6,
    "start_time": "2023-03-18T06:24:50.131Z"
   },
   {
    "duration": 26,
    "start_time": "2023-03-18T06:24:50.139Z"
   },
   {
    "duration": 20,
    "start_time": "2023-03-18T06:24:50.167Z"
   },
   {
    "duration": 7,
    "start_time": "2023-03-18T06:24:50.189Z"
   },
   {
    "duration": 10,
    "start_time": "2023-03-18T06:24:50.198Z"
   },
   {
    "duration": 75,
    "start_time": "2023-03-18T06:24:50.210Z"
   },
   {
    "duration": 10,
    "start_time": "2023-03-18T06:24:50.287Z"
   },
   {
    "duration": 49,
    "start_time": "2023-03-18T06:24:50.298Z"
   },
   {
    "duration": 4,
    "start_time": "2023-03-18T06:24:50.350Z"
   },
   {
    "duration": 8,
    "start_time": "2023-03-18T06:24:50.357Z"
   },
   {
    "duration": 12,
    "start_time": "2023-03-18T06:24:50.367Z"
   },
   {
    "duration": 12,
    "start_time": "2023-03-18T06:24:50.381Z"
   },
   {
    "duration": 80,
    "start_time": "2023-03-18T06:24:50.394Z"
   },
   {
    "duration": 13,
    "start_time": "2023-03-18T06:24:50.476Z"
   },
   {
    "duration": 201,
    "start_time": "2023-03-18T06:24:50.491Z"
   },
   {
    "duration": 1348,
    "start_time": "2023-03-18T06:24:50.694Z"
   },
   {
    "duration": 256,
    "start_time": "2023-03-18T06:24:52.044Z"
   },
   {
    "duration": 208,
    "start_time": "2023-03-18T06:24:52.302Z"
   },
   {
    "duration": 42,
    "start_time": "2023-03-18T06:24:52.512Z"
   },
   {
    "duration": 4,
    "start_time": "2023-03-18T06:24:52.557Z"
   },
   {
    "duration": 36,
    "start_time": "2023-03-18T06:24:52.564Z"
   },
   {
    "duration": 31,
    "start_time": "2023-03-18T06:24:52.602Z"
   },
   {
    "duration": 19,
    "start_time": "2023-03-18T06:24:52.635Z"
   },
   {
    "duration": 24,
    "start_time": "2023-03-18T06:24:52.656Z"
   },
   {
    "duration": 733,
    "start_time": "2023-03-18T06:24:52.682Z"
   },
   {
    "duration": 57393,
    "start_time": "2023-03-18T06:24:53.418Z"
   },
   {
    "duration": 15143,
    "start_time": "2023-03-18T06:25:50.813Z"
   },
   {
    "duration": 2802,
    "start_time": "2023-03-18T06:26:05.958Z"
   },
   {
    "duration": 130,
    "start_time": "2023-03-18T06:26:08.763Z"
   },
   {
    "duration": 123,
    "start_time": "2023-03-18T06:26:08.895Z"
   },
   {
    "duration": 1904,
    "start_time": "2023-03-18T06:26:09.020Z"
   },
   {
    "duration": 2819,
    "start_time": "2023-03-18T06:26:10.926Z"
   },
   {
    "duration": 239,
    "start_time": "2023-03-18T06:26:13.747Z"
   },
   {
    "duration": 2132,
    "start_time": "2023-03-18T06:26:13.988Z"
   },
   {
    "duration": 124,
    "start_time": "2023-03-18T06:26:16.122Z"
   },
   {
    "duration": 353,
    "start_time": "2023-03-18T06:26:16.248Z"
   },
   {
    "duration": 10,
    "start_time": "2023-03-18T06:26:16.605Z"
   },
   {
    "duration": 980,
    "start_time": "2023-03-18T06:33:42.987Z"
   },
   {
    "duration": 52,
    "start_time": "2023-03-18T06:33:57.419Z"
   },
   {
    "duration": 797,
    "start_time": "2023-03-18T06:34:04.426Z"
   },
   {
    "duration": 949,
    "start_time": "2023-03-18T06:34:32.259Z"
   },
   {
    "duration": 4,
    "start_time": "2023-03-18T06:42:58.871Z"
   },
   {
    "duration": 10,
    "start_time": "2023-03-18T06:46:34.695Z"
   },
   {
    "duration": 27,
    "start_time": "2023-03-18T06:46:47.545Z"
   },
   {
    "duration": 1536,
    "start_time": "2023-03-18T06:47:20.158Z"
   },
   {
    "duration": 58,
    "start_time": "2023-03-18T06:47:21.696Z"
   },
   {
    "duration": 26,
    "start_time": "2023-03-18T06:47:21.764Z"
   },
   {
    "duration": 34,
    "start_time": "2023-03-18T06:47:21.793Z"
   },
   {
    "duration": 21,
    "start_time": "2023-03-18T06:47:21.830Z"
   },
   {
    "duration": 49,
    "start_time": "2023-03-18T06:47:21.853Z"
   },
   {
    "duration": 11,
    "start_time": "2023-03-18T06:47:21.903Z"
   },
   {
    "duration": 5,
    "start_time": "2023-03-18T06:47:21.916Z"
   },
   {
    "duration": 15,
    "start_time": "2023-03-18T06:47:21.923Z"
   },
   {
    "duration": 90,
    "start_time": "2023-03-18T06:47:21.939Z"
   },
   {
    "duration": 14,
    "start_time": "2023-03-18T06:47:22.033Z"
   },
   {
    "duration": 36,
    "start_time": "2023-03-18T06:47:22.052Z"
   },
   {
    "duration": 12,
    "start_time": "2023-03-18T06:47:22.090Z"
   },
   {
    "duration": 8,
    "start_time": "2023-03-18T06:47:22.107Z"
   },
   {
    "duration": 22,
    "start_time": "2023-03-18T06:47:22.117Z"
   },
   {
    "duration": 41,
    "start_time": "2023-03-18T06:47:22.141Z"
   },
   {
    "duration": 53,
    "start_time": "2023-03-18T06:47:22.184Z"
   },
   {
    "duration": 13,
    "start_time": "2023-03-18T06:47:22.239Z"
   },
   {
    "duration": 183,
    "start_time": "2023-03-18T06:47:22.254Z"
   },
   {
    "duration": 1317,
    "start_time": "2023-03-18T06:47:22.440Z"
   },
   {
    "duration": 212,
    "start_time": "2023-03-18T06:47:23.760Z"
   },
   {
    "duration": 208,
    "start_time": "2023-03-18T06:47:23.974Z"
   },
   {
    "duration": 17,
    "start_time": "2023-03-18T06:47:24.183Z"
   },
   {
    "duration": 3,
    "start_time": "2023-03-18T06:47:24.201Z"
   },
   {
    "duration": 61,
    "start_time": "2023-03-18T06:47:24.205Z"
   },
   {
    "duration": 11,
    "start_time": "2023-03-18T06:47:24.268Z"
   },
   {
    "duration": 9,
    "start_time": "2023-03-18T06:47:24.281Z"
   },
   {
    "duration": 37,
    "start_time": "2023-03-18T06:47:24.292Z"
   },
   {
    "duration": 674,
    "start_time": "2023-03-18T06:47:24.334Z"
   },
   {
    "duration": 59276,
    "start_time": "2023-03-18T06:47:25.009Z"
   },
   {
    "duration": 17835,
    "start_time": "2023-03-18T06:48:24.331Z"
   },
   {
    "duration": 2171,
    "start_time": "2023-03-18T06:48:42.168Z"
   },
   {
    "duration": 108,
    "start_time": "2023-03-18T06:48:44.341Z"
   },
   {
    "duration": 122,
    "start_time": "2023-03-18T06:48:44.451Z"
   },
   {
    "duration": 3477,
    "start_time": "2023-03-18T06:48:44.575Z"
   },
   {
    "duration": 3682,
    "start_time": "2023-03-18T06:48:48.056Z"
   },
   {
    "duration": 301,
    "start_time": "2023-03-18T06:48:51.740Z"
   },
   {
    "duration": 3072,
    "start_time": "2023-03-18T06:48:52.043Z"
   },
   {
    "duration": 118,
    "start_time": "2023-03-18T06:48:55.117Z"
   },
   {
    "duration": 607,
    "start_time": "2023-03-18T06:48:55.269Z"
   },
   {
    "duration": 64,
    "start_time": "2023-03-18T06:48:55.881Z"
   },
   {
    "duration": 42,
    "start_time": "2023-03-18T06:48:55.951Z"
   },
   {
    "duration": 200,
    "start_time": "2023-03-18T07:51:40.893Z"
   },
   {
    "duration": 11,
    "start_time": "2023-03-18T07:51:58.241Z"
   },
   {
    "duration": 51,
    "start_time": "2023-03-18T07:53:14.405Z"
   },
   {
    "duration": 22,
    "start_time": "2023-03-18T07:53:20.429Z"
   },
   {
    "duration": 1543,
    "start_time": "2023-03-18T07:53:36.995Z"
   },
   {
    "duration": 46,
    "start_time": "2023-03-18T07:53:38.546Z"
   },
   {
    "duration": 20,
    "start_time": "2023-03-18T07:53:38.594Z"
   },
   {
    "duration": 35,
    "start_time": "2023-03-18T07:53:38.616Z"
   },
   {
    "duration": 6,
    "start_time": "2023-03-18T07:53:38.655Z"
   },
   {
    "duration": 27,
    "start_time": "2023-03-18T07:53:38.663Z"
   },
   {
    "duration": 13,
    "start_time": "2023-03-18T07:53:38.692Z"
   },
   {
    "duration": 26,
    "start_time": "2023-03-18T07:53:38.708Z"
   },
   {
    "duration": 24,
    "start_time": "2023-03-18T07:53:38.740Z"
   },
   {
    "duration": 82,
    "start_time": "2023-03-18T07:53:38.766Z"
   },
   {
    "duration": 15,
    "start_time": "2023-03-18T07:53:38.850Z"
   },
   {
    "duration": 7,
    "start_time": "2023-03-18T07:53:38.867Z"
   },
   {
    "duration": 14,
    "start_time": "2023-03-18T07:53:38.876Z"
   },
   {
    "duration": 19,
    "start_time": "2023-03-18T07:53:38.895Z"
   },
   {
    "duration": 55,
    "start_time": "2023-03-18T07:53:38.915Z"
   },
   {
    "duration": 50,
    "start_time": "2023-03-18T07:53:38.973Z"
   },
   {
    "duration": 150,
    "start_time": "2023-03-18T07:53:39.026Z"
   },
   {
    "duration": 0,
    "start_time": "2023-03-18T07:53:39.178Z"
   },
   {
    "duration": 0,
    "start_time": "2023-03-18T07:53:39.180Z"
   },
   {
    "duration": 0,
    "start_time": "2023-03-18T07:53:39.181Z"
   },
   {
    "duration": 0,
    "start_time": "2023-03-18T07:53:39.183Z"
   },
   {
    "duration": 0,
    "start_time": "2023-03-18T07:53:39.184Z"
   },
   {
    "duration": 0,
    "start_time": "2023-03-18T07:53:39.186Z"
   },
   {
    "duration": 0,
    "start_time": "2023-03-18T07:53:39.187Z"
   },
   {
    "duration": 0,
    "start_time": "2023-03-18T07:53:39.189Z"
   },
   {
    "duration": 0,
    "start_time": "2023-03-18T07:53:39.190Z"
   },
   {
    "duration": 0,
    "start_time": "2023-03-18T07:53:39.191Z"
   },
   {
    "duration": 0,
    "start_time": "2023-03-18T07:53:39.193Z"
   },
   {
    "duration": 0,
    "start_time": "2023-03-18T07:53:39.195Z"
   },
   {
    "duration": 0,
    "start_time": "2023-03-18T07:53:39.196Z"
   },
   {
    "duration": 0,
    "start_time": "2023-03-18T07:53:39.199Z"
   },
   {
    "duration": 0,
    "start_time": "2023-03-18T07:53:39.234Z"
   },
   {
    "duration": 0,
    "start_time": "2023-03-18T07:53:39.235Z"
   },
   {
    "duration": 0,
    "start_time": "2023-03-18T07:53:39.236Z"
   },
   {
    "duration": 0,
    "start_time": "2023-03-18T07:53:39.237Z"
   },
   {
    "duration": 0,
    "start_time": "2023-03-18T07:53:39.238Z"
   },
   {
    "duration": 0,
    "start_time": "2023-03-18T07:53:39.239Z"
   },
   {
    "duration": 0,
    "start_time": "2023-03-18T07:53:39.240Z"
   },
   {
    "duration": 0,
    "start_time": "2023-03-18T07:53:39.240Z"
   },
   {
    "duration": 0,
    "start_time": "2023-03-18T07:53:39.242Z"
   },
   {
    "duration": 17,
    "start_time": "2023-03-18T07:53:53.270Z"
   },
   {
    "duration": 26,
    "start_time": "2023-03-18T07:54:25.117Z"
   },
   {
    "duration": 14,
    "start_time": "2023-03-18T07:54:59.767Z"
   },
   {
    "duration": 322,
    "start_time": "2023-03-18T07:56:34.152Z"
   },
   {
    "duration": 294,
    "start_time": "2023-03-18T07:56:45.545Z"
   },
   {
    "duration": 221,
    "start_time": "2023-03-18T07:57:00.994Z"
   },
   {
    "duration": 230,
    "start_time": "2023-03-18T07:57:08.266Z"
   },
   {
    "duration": 1660,
    "start_time": "2023-03-18T07:57:25.699Z"
   },
   {
    "duration": 200,
    "start_time": "2023-03-18T08:22:10.512Z"
   },
   {
    "duration": 1495,
    "start_time": "2023-03-18T08:22:35.448Z"
   },
   {
    "duration": 223,
    "start_time": "2023-03-18T08:22:40.502Z"
   },
   {
    "duration": 241,
    "start_time": "2023-03-18T08:22:46.065Z"
   },
   {
    "duration": 18,
    "start_time": "2023-03-18T08:23:44.468Z"
   },
   {
    "duration": 255,
    "start_time": "2023-03-18T08:23:54.919Z"
   },
   {
    "duration": 367,
    "start_time": "2023-03-18T08:24:42.011Z"
   },
   {
    "duration": 44,
    "start_time": "2023-03-18T08:29:27.816Z"
   },
   {
    "duration": 22,
    "start_time": "2023-03-18T08:36:43.619Z"
   },
   {
    "duration": 56,
    "start_time": "2023-03-18T09:03:38.324Z"
   },
   {
    "duration": 18,
    "start_time": "2023-03-18T09:03:53.169Z"
   },
   {
    "duration": 11,
    "start_time": "2023-03-18T09:05:41.156Z"
   },
   {
    "duration": 42,
    "start_time": "2023-03-18T09:05:43.047Z"
   },
   {
    "duration": 793,
    "start_time": "2023-03-18T09:06:20.823Z"
   },
   {
    "duration": 70158,
    "start_time": "2023-03-18T09:07:22.516Z"
   },
   {
    "duration": 18181,
    "start_time": "2023-03-18T09:08:52.448Z"
   },
   {
    "duration": 3628,
    "start_time": "2023-03-18T09:11:00.719Z"
   },
   {
    "duration": 42,
    "start_time": "2023-03-18T09:13:05.867Z"
   },
   {
    "duration": 61,
    "start_time": "2023-03-18T09:24:34.654Z"
   },
   {
    "duration": 6,
    "start_time": "2023-03-18T09:24:41.752Z"
   },
   {
    "duration": 6,
    "start_time": "2023-03-18T09:24:47.455Z"
   },
   {
    "duration": 46,
    "start_time": "2023-03-18T09:25:58.546Z"
   },
   {
    "duration": 92,
    "start_time": "2023-03-18T09:27:20.487Z"
   },
   {
    "duration": 25,
    "start_time": "2023-03-18T09:27:28.449Z"
   },
   {
    "duration": 8,
    "start_time": "2023-03-18T09:28:31.371Z"
   },
   {
    "duration": 2424,
    "start_time": "2023-03-18T10:24:59.458Z"
   },
   {
    "duration": 2642,
    "start_time": "2023-03-18T10:26:20.951Z"
   },
   {
    "duration": 28,
    "start_time": "2023-03-18T10:29:49.485Z"
   },
   {
    "duration": 5,
    "start_time": "2023-03-18T10:31:21.708Z"
   },
   {
    "duration": 9,
    "start_time": "2023-03-18T10:32:46.928Z"
   },
   {
    "duration": 40,
    "start_time": "2023-03-18T10:43:26.403Z"
   },
   {
    "duration": 134,
    "start_time": "2023-03-18T10:44:51.054Z"
   },
   {
    "duration": 47,
    "start_time": "2023-03-18T10:45:41.120Z"
   },
   {
    "duration": 2130,
    "start_time": "2023-03-18T10:45:52.045Z"
   },
   {
    "duration": 436,
    "start_time": "2023-03-18T10:46:20.119Z"
   },
   {
    "duration": 667,
    "start_time": "2023-03-18T10:47:21.254Z"
   },
   {
    "duration": 1595,
    "start_time": "2023-03-18T10:47:33.363Z"
   },
   {
    "duration": 438,
    "start_time": "2023-03-18T10:47:49.210Z"
   },
   {
    "duration": 101,
    "start_time": "2023-03-18T10:50:15.019Z"
   },
   {
    "duration": 6,
    "start_time": "2023-03-18T10:50:28.484Z"
   },
   {
    "duration": 84,
    "start_time": "2023-03-18T10:53:56.128Z"
   },
   {
    "duration": 1463,
    "start_time": "2023-03-18T10:54:01.528Z"
   },
   {
    "duration": 2494,
    "start_time": "2023-03-18T10:54:20.260Z"
   },
   {
    "duration": 74,
    "start_time": "2023-03-18T10:55:36.069Z"
   },
   {
    "duration": 1480,
    "start_time": "2023-03-18T10:55:45.124Z"
   },
   {
    "duration": 2522,
    "start_time": "2023-03-18T10:55:57.055Z"
   },
   {
    "duration": 101,
    "start_time": "2023-03-18T10:59:55.191Z"
   },
   {
    "duration": 1689,
    "start_time": "2023-03-18T11:00:03.204Z"
   },
   {
    "duration": 212,
    "start_time": "2023-03-18T11:00:09.870Z"
   },
   {
    "duration": 309,
    "start_time": "2023-03-18T11:00:29.627Z"
   },
   {
    "duration": 314,
    "start_time": "2023-03-18T11:00:44.483Z"
   },
   {
    "duration": 285,
    "start_time": "2023-03-18T11:00:50.360Z"
   },
   {
    "duration": 14,
    "start_time": "2023-03-18T11:04:01.606Z"
   },
   {
    "duration": 1296,
    "start_time": "2023-03-18T11:05:42.601Z"
   },
   {
    "duration": 9,
    "start_time": "2023-03-18T11:06:04.069Z"
   },
   {
    "duration": 1261,
    "start_time": "2023-03-18T11:06:14.219Z"
   },
   {
    "duration": 82,
    "start_time": "2023-03-18T11:07:02.046Z"
   },
   {
    "duration": 19,
    "start_time": "2023-03-18T11:07:34.595Z"
   },
   {
    "duration": 2270,
    "start_time": "2023-03-18T11:26:51.107Z"
   },
   {
    "duration": 75,
    "start_time": "2023-03-18T11:26:53.383Z"
   },
   {
    "duration": 43,
    "start_time": "2023-03-18T11:26:53.460Z"
   },
   {
    "duration": 50,
    "start_time": "2023-03-18T11:26:53.507Z"
   },
   {
    "duration": 44,
    "start_time": "2023-03-18T11:26:53.562Z"
   },
   {
    "duration": 76,
    "start_time": "2023-03-18T11:26:53.609Z"
   },
   {
    "duration": 105,
    "start_time": "2023-03-18T11:26:53.689Z"
   },
   {
    "duration": 29,
    "start_time": "2023-03-18T11:26:53.796Z"
   },
   {
    "duration": 27,
    "start_time": "2023-03-18T11:26:53.827Z"
   },
   {
    "duration": 197,
    "start_time": "2023-03-18T11:26:53.856Z"
   },
   {
    "duration": 19,
    "start_time": "2023-03-18T11:26:54.058Z"
   },
   {
    "duration": 33,
    "start_time": "2023-03-18T11:26:54.084Z"
   },
   {
    "duration": 10,
    "start_time": "2023-03-18T11:26:54.119Z"
   },
   {
    "duration": 74,
    "start_time": "2023-03-18T11:26:54.135Z"
   },
   {
    "duration": 14,
    "start_time": "2023-03-18T11:26:54.211Z"
   },
   {
    "duration": 84,
    "start_time": "2023-03-18T11:26:54.227Z"
   },
   {
    "duration": 12,
    "start_time": "2023-03-18T11:26:54.313Z"
   },
   {
    "duration": 2384,
    "start_time": "2023-03-18T11:26:54.327Z"
   },
   {
    "duration": 243,
    "start_time": "2023-03-18T11:26:56.714Z"
   },
   {
    "duration": 1801,
    "start_time": "2023-03-18T11:26:56.962Z"
   },
   {
    "duration": 254,
    "start_time": "2023-03-18T11:26:58.771Z"
   },
   {
    "duration": 221,
    "start_time": "2023-03-18T11:26:59.038Z"
   },
   {
    "duration": 405,
    "start_time": "2023-03-18T11:26:59.261Z"
   },
   {
    "duration": 27,
    "start_time": "2023-03-18T11:26:59.671Z"
   },
   {
    "duration": 17,
    "start_time": "2023-03-18T11:26:59.701Z"
   },
   {
    "duration": 58,
    "start_time": "2023-03-18T11:26:59.720Z"
   },
   {
    "duration": 29,
    "start_time": "2023-03-18T11:26:59.782Z"
   },
   {
    "duration": 14,
    "start_time": "2023-03-18T11:26:59.813Z"
   },
   {
    "duration": 69,
    "start_time": "2023-03-18T11:26:59.829Z"
   },
   {
    "duration": 12,
    "start_time": "2023-03-18T11:26:59.900Z"
   },
   {
    "duration": 47,
    "start_time": "2023-03-18T11:26:59.914Z"
   },
   {
    "duration": 886,
    "start_time": "2023-03-18T11:26:59.963Z"
   },
   {
    "duration": 69817,
    "start_time": "2023-03-18T11:27:00.851Z"
   },
   {
    "duration": 18505,
    "start_time": "2023-03-18T11:28:10.674Z"
   },
   {
    "duration": 3087,
    "start_time": "2023-03-18T11:28:29.184Z"
   },
   {
    "duration": 1811,
    "start_time": "2023-03-18T11:28:32.295Z"
   },
   {
    "duration": 584,
    "start_time": "2023-03-18T11:28:34.108Z"
   },
   {
    "duration": 5,
    "start_time": "2023-03-18T11:28:34.699Z"
   },
   {
    "duration": 153,
    "start_time": "2023-03-18T11:28:34.709Z"
   },
   {
    "duration": 59,
    "start_time": "2023-03-18T11:28:34.866Z"
   },
   {
    "duration": 152,
    "start_time": "2023-03-18T11:28:34.949Z"
   },
   {
    "duration": 149,
    "start_time": "2023-03-18T11:28:35.105Z"
   },
   {
    "duration": 1697,
    "start_time": "2023-03-18T11:28:35.260Z"
   },
   {
    "duration": 1992,
    "start_time": "2023-03-18T11:28:36.970Z"
   },
   {
    "duration": 166,
    "start_time": "2023-03-18T11:28:38.983Z"
   },
   {
    "duration": 1611,
    "start_time": "2023-03-18T11:28:39.154Z"
   },
   {
    "duration": 194,
    "start_time": "2023-03-18T11:28:40.771Z"
   },
   {
    "duration": 278,
    "start_time": "2023-03-18T11:28:40.980Z"
   },
   {
    "duration": 88,
    "start_time": "2023-03-19T10:36:53.557Z"
   },
   {
    "duration": 2052,
    "start_time": "2023-03-19T10:37:00.131Z"
   },
   {
    "duration": 140,
    "start_time": "2023-03-19T10:37:02.186Z"
   },
   {
    "duration": 24,
    "start_time": "2023-03-19T10:37:02.330Z"
   },
   {
    "duration": 34,
    "start_time": "2023-03-19T10:37:02.360Z"
   },
   {
    "duration": 16,
    "start_time": "2023-03-19T10:37:02.396Z"
   },
   {
    "duration": 54,
    "start_time": "2023-03-19T10:37:02.417Z"
   },
   {
    "duration": 10,
    "start_time": "2023-03-19T10:37:02.473Z"
   },
   {
    "duration": 27,
    "start_time": "2023-03-19T10:37:02.485Z"
   },
   {
    "duration": 48,
    "start_time": "2023-03-19T10:37:02.514Z"
   },
   {
    "duration": 82,
    "start_time": "2023-03-19T10:37:02.564Z"
   },
   {
    "duration": 11,
    "start_time": "2023-03-19T10:37:02.652Z"
   },
   {
    "duration": 16,
    "start_time": "2023-03-19T10:37:02.664Z"
   },
   {
    "duration": 21,
    "start_time": "2023-03-19T10:37:02.682Z"
   },
   {
    "duration": 64,
    "start_time": "2023-03-19T10:37:02.705Z"
   },
   {
    "duration": 37,
    "start_time": "2023-03-19T10:37:02.771Z"
   },
   {
    "duration": 69,
    "start_time": "2023-03-19T10:37:02.817Z"
   },
   {
    "duration": 44,
    "start_time": "2023-03-19T10:37:02.888Z"
   },
   {
    "duration": 2252,
    "start_time": "2023-03-19T10:37:02.934Z"
   },
   {
    "duration": 290,
    "start_time": "2023-03-19T10:37:05.188Z"
   },
   {
    "duration": 1723,
    "start_time": "2023-03-19T10:37:05.481Z"
   },
   {
    "duration": 251,
    "start_time": "2023-03-19T10:37:07.206Z"
   },
   {
    "duration": 242,
    "start_time": "2023-03-19T10:37:07.459Z"
   },
   {
    "duration": 356,
    "start_time": "2023-03-19T10:37:07.706Z"
   },
   {
    "duration": 23,
    "start_time": "2023-03-19T10:37:08.063Z"
   },
   {
    "duration": 10,
    "start_time": "2023-03-19T10:37:08.088Z"
   },
   {
    "duration": 105,
    "start_time": "2023-03-19T10:37:08.100Z"
   },
   {
    "duration": 39,
    "start_time": "2023-03-19T10:37:08.207Z"
   },
   {
    "duration": 23,
    "start_time": "2023-03-19T10:37:08.248Z"
   },
   {
    "duration": 10,
    "start_time": "2023-03-19T10:37:08.272Z"
   },
   {
    "duration": 32,
    "start_time": "2023-03-19T10:37:08.284Z"
   },
   {
    "duration": 43,
    "start_time": "2023-03-19T10:37:08.318Z"
   },
   {
    "duration": 24,
    "start_time": "2023-03-19T10:37:08.362Z"
   },
   {
    "duration": 781,
    "start_time": "2023-03-19T10:37:08.388Z"
   },
   {
    "duration": 65479,
    "start_time": "2023-03-19T10:37:09.172Z"
   },
   {
    "duration": 18291,
    "start_time": "2023-03-19T10:38:14.664Z"
   },
   {
    "duration": 4219,
    "start_time": "2023-03-19T10:38:32.957Z"
   },
   {
    "duration": 1664,
    "start_time": "2023-03-19T10:38:37.196Z"
   },
   {
    "duration": 437,
    "start_time": "2023-03-19T10:38:38.862Z"
   },
   {
    "duration": 3,
    "start_time": "2023-03-19T10:38:39.300Z"
   },
   {
    "duration": 45,
    "start_time": "2023-03-19T10:38:39.313Z"
   },
   {
    "duration": 12,
    "start_time": "2023-03-19T10:38:39.360Z"
   },
   {
    "duration": 82,
    "start_time": "2023-03-19T10:38:39.426Z"
   },
   {
    "duration": 110,
    "start_time": "2023-03-19T10:38:39.514Z"
   },
   {
    "duration": 1467,
    "start_time": "2023-03-19T10:38:39.637Z"
   },
   {
    "duration": 3750,
    "start_time": "2023-03-19T10:38:41.106Z"
   },
   {
    "duration": 217,
    "start_time": "2023-03-19T10:38:44.858Z"
   },
   {
    "duration": 1555,
    "start_time": "2023-03-19T10:38:45.077Z"
   },
   {
    "duration": 164,
    "start_time": "2023-03-19T10:38:46.637Z"
   },
   {
    "duration": 320,
    "start_time": "2023-03-19T10:38:46.815Z"
   },
   {
    "duration": 22,
    "start_time": "2023-03-19T10:44:16.074Z"
   },
   {
    "duration": 24,
    "start_time": "2023-03-19T10:46:14.530Z"
   },
   {
    "duration": 10,
    "start_time": "2023-03-19T10:46:57.014Z"
   },
   {
    "duration": 25,
    "start_time": "2023-03-19T10:48:23.430Z"
   },
   {
    "duration": 154,
    "start_time": "2023-03-19T10:49:08.116Z"
   },
   {
    "duration": 1612,
    "start_time": "2023-03-19T10:49:33.121Z"
   },
   {
    "duration": 40,
    "start_time": "2023-03-19T10:49:34.735Z"
   },
   {
    "duration": 52,
    "start_time": "2023-03-19T10:49:34.777Z"
   },
   {
    "duration": 32,
    "start_time": "2023-03-19T10:49:34.832Z"
   },
   {
    "duration": 5,
    "start_time": "2023-03-19T10:49:34.865Z"
   },
   {
    "duration": 30,
    "start_time": "2023-03-19T10:49:34.871Z"
   },
   {
    "duration": 38,
    "start_time": "2023-03-19T10:49:34.910Z"
   },
   {
    "duration": 5,
    "start_time": "2023-03-19T10:49:34.950Z"
   },
   {
    "duration": 9,
    "start_time": "2023-03-19T10:49:34.957Z"
   },
   {
    "duration": 77,
    "start_time": "2023-03-19T10:49:34.968Z"
   },
   {
    "duration": 13,
    "start_time": "2023-03-19T10:49:35.048Z"
   },
   {
    "duration": 4,
    "start_time": "2023-03-19T10:49:35.063Z"
   },
   {
    "duration": 13,
    "start_time": "2023-03-19T10:49:35.069Z"
   },
   {
    "duration": 19,
    "start_time": "2023-03-19T10:49:35.096Z"
   },
   {
    "duration": 42,
    "start_time": "2023-03-19T10:49:35.117Z"
   },
   {
    "duration": 49,
    "start_time": "2023-03-19T10:49:35.161Z"
   },
   {
    "duration": 19,
    "start_time": "2023-03-19T10:49:35.211Z"
   },
   {
    "duration": 2105,
    "start_time": "2023-03-19T10:49:35.237Z"
   },
   {
    "duration": 146,
    "start_time": "2023-03-19T10:49:37.344Z"
   },
   {
    "duration": 1252,
    "start_time": "2023-03-19T10:49:37.491Z"
   },
   {
    "duration": 194,
    "start_time": "2023-03-19T10:49:38.745Z"
   },
   {
    "duration": 185,
    "start_time": "2023-03-19T10:49:38.941Z"
   },
   {
    "duration": 332,
    "start_time": "2023-03-19T10:49:39.128Z"
   },
   {
    "duration": 17,
    "start_time": "2023-03-19T10:49:39.463Z"
   },
   {
    "duration": 22,
    "start_time": "2023-03-19T10:49:39.482Z"
   },
   {
    "duration": 42,
    "start_time": "2023-03-19T10:49:39.517Z"
   },
   {
    "duration": 4,
    "start_time": "2023-03-19T10:49:39.561Z"
   },
   {
    "duration": 7,
    "start_time": "2023-03-19T10:49:39.569Z"
   },
   {
    "duration": 4,
    "start_time": "2023-03-19T10:49:39.577Z"
   },
   {
    "duration": 27,
    "start_time": "2023-03-19T10:49:39.583Z"
   },
   {
    "duration": 24,
    "start_time": "2023-03-19T10:49:39.622Z"
   },
   {
    "duration": 19,
    "start_time": "2023-03-19T10:49:39.648Z"
   },
   {
    "duration": 163,
    "start_time": "2023-03-19T10:49:39.669Z"
   },
   {
    "duration": 0,
    "start_time": "2023-03-19T10:49:39.834Z"
   },
   {
    "duration": 0,
    "start_time": "2023-03-19T10:49:39.835Z"
   },
   {
    "duration": 0,
    "start_time": "2023-03-19T10:49:39.836Z"
   },
   {
    "duration": 0,
    "start_time": "2023-03-19T10:49:39.837Z"
   },
   {
    "duration": 0,
    "start_time": "2023-03-19T10:49:39.838Z"
   },
   {
    "duration": 0,
    "start_time": "2023-03-19T10:49:39.839Z"
   },
   {
    "duration": 0,
    "start_time": "2023-03-19T10:49:39.840Z"
   },
   {
    "duration": 0,
    "start_time": "2023-03-19T10:49:39.841Z"
   },
   {
    "duration": 0,
    "start_time": "2023-03-19T10:49:39.842Z"
   },
   {
    "duration": 0,
    "start_time": "2023-03-19T10:49:39.843Z"
   },
   {
    "duration": 0,
    "start_time": "2023-03-19T10:49:39.844Z"
   },
   {
    "duration": 0,
    "start_time": "2023-03-19T10:49:39.845Z"
   },
   {
    "duration": 0,
    "start_time": "2023-03-19T10:49:39.846Z"
   },
   {
    "duration": 0,
    "start_time": "2023-03-19T10:49:39.847Z"
   },
   {
    "duration": 0,
    "start_time": "2023-03-19T10:49:39.848Z"
   },
   {
    "duration": 0,
    "start_time": "2023-03-19T10:49:39.849Z"
   },
   {
    "duration": 10,
    "start_time": "2023-03-19T10:50:38.033Z"
   },
   {
    "duration": 14,
    "start_time": "2023-03-19T10:50:42.082Z"
   },
   {
    "duration": 35,
    "start_time": "2023-03-19T10:50:46.508Z"
   },
   {
    "duration": 565,
    "start_time": "2023-03-19T10:50:50.652Z"
   },
   {
    "duration": 57,
    "start_time": "2023-03-19T10:53:08.020Z"
   },
   {
    "duration": 48455,
    "start_time": "2023-03-19T10:59:18.638Z"
   },
   {
    "duration": 814,
    "start_time": "2023-03-19T11:01:34.953Z"
   },
   {
    "duration": 13208,
    "start_time": "2023-03-19T11:03:12.252Z"
   },
   {
    "duration": 13493,
    "start_time": "2023-03-19T11:04:05.389Z"
   },
   {
    "duration": 946,
    "start_time": "2023-03-19T11:05:45.978Z"
   },
   {
    "duration": 134,
    "start_time": "2023-03-19T11:07:53.656Z"
   },
   {
    "duration": 4503,
    "start_time": "2023-03-19T11:08:58.809Z"
   },
   {
    "duration": 14,
    "start_time": "2023-03-19T11:12:37.033Z"
   },
   {
    "duration": 355,
    "start_time": "2023-03-19T11:12:49.418Z"
   },
   {
    "duration": 6,
    "start_time": "2023-03-19T11:12:52.645Z"
   },
   {
    "duration": 600,
    "start_time": "2023-03-19T11:13:14.251Z"
   },
   {
    "duration": 9,
    "start_time": "2023-03-19T11:13:16.814Z"
   },
   {
    "duration": 661,
    "start_time": "2023-03-19T11:13:34.514Z"
   },
   {
    "duration": 9,
    "start_time": "2023-03-19T11:13:36.327Z"
   },
   {
    "duration": 477,
    "start_time": "2023-03-19T11:13:47.851Z"
   },
   {
    "duration": 6,
    "start_time": "2023-03-19T11:13:48.635Z"
   },
   {
    "duration": 412,
    "start_time": "2023-03-19T11:13:59.519Z"
   },
   {
    "duration": 15,
    "start_time": "2023-03-19T11:14:00.417Z"
   },
   {
    "duration": 467,
    "start_time": "2023-03-19T11:14:07.688Z"
   },
   {
    "duration": 12,
    "start_time": "2023-03-19T11:14:08.521Z"
   },
   {
    "duration": 468,
    "start_time": "2023-03-19T11:14:28.118Z"
   },
   {
    "duration": 7,
    "start_time": "2023-03-19T11:14:28.882Z"
   },
   {
    "duration": 603,
    "start_time": "2023-03-19T11:14:41.283Z"
   },
   {
    "duration": 16,
    "start_time": "2023-03-19T11:14:41.993Z"
   },
   {
    "duration": 548,
    "start_time": "2023-03-19T11:14:50.191Z"
   },
   {
    "duration": 24,
    "start_time": "2023-03-19T11:14:51.017Z"
   },
   {
    "duration": 491,
    "start_time": "2023-03-19T11:15:12.418Z"
   },
   {
    "duration": 7,
    "start_time": "2023-03-19T11:15:14.878Z"
   },
   {
    "duration": 468,
    "start_time": "2023-03-19T11:15:22.887Z"
   },
   {
    "duration": 22,
    "start_time": "2023-03-19T11:15:24.416Z"
   },
   {
    "duration": 442,
    "start_time": "2023-03-19T11:15:29.519Z"
   },
   {
    "duration": 13,
    "start_time": "2023-03-19T11:15:31.087Z"
   },
   {
    "duration": 434,
    "start_time": "2023-03-19T11:15:35.520Z"
   },
   {
    "duration": 8,
    "start_time": "2023-03-19T11:15:36.500Z"
   },
   {
    "duration": 423,
    "start_time": "2023-03-19T11:15:41.845Z"
   },
   {
    "duration": 11,
    "start_time": "2023-03-19T11:15:43.023Z"
   },
   {
    "duration": 449,
    "start_time": "2023-03-19T11:15:47.049Z"
   },
   {
    "duration": 8,
    "start_time": "2023-03-19T11:15:48.329Z"
   },
   {
    "duration": 437,
    "start_time": "2023-03-19T11:15:55.324Z"
   },
   {
    "duration": 7,
    "start_time": "2023-03-19T11:15:56.270Z"
   },
   {
    "duration": 465,
    "start_time": "2023-03-19T11:16:00.319Z"
   },
   {
    "duration": 7,
    "start_time": "2023-03-19T11:16:01.240Z"
   },
   {
    "duration": 463,
    "start_time": "2023-03-19T11:16:07.277Z"
   },
   {
    "duration": 5,
    "start_time": "2023-03-19T11:16:09.178Z"
   },
   {
    "duration": 1205,
    "start_time": "2023-03-19T11:16:53.871Z"
   },
   {
    "duration": 7,
    "start_time": "2023-03-19T11:16:57.641Z"
   },
   {
    "duration": 1191,
    "start_time": "2023-03-19T11:17:06.782Z"
   },
   {
    "duration": 5,
    "start_time": "2023-03-19T11:17:08.772Z"
   },
   {
    "duration": 1108,
    "start_time": "2023-03-19T11:17:14.378Z"
   },
   {
    "duration": 5,
    "start_time": "2023-03-19T11:17:16.377Z"
   },
   {
    "duration": 1137,
    "start_time": "2023-03-19T11:17:21.937Z"
   },
   {
    "duration": 9,
    "start_time": "2023-03-19T11:17:24.315Z"
   },
   {
    "duration": 3,
    "start_time": "2023-03-19T11:20:37.329Z"
   },
   {
    "duration": 35,
    "start_time": "2023-03-19T11:20:37.813Z"
   },
   {
    "duration": 7,
    "start_time": "2023-03-19T11:20:38.243Z"
   },
   {
    "duration": 13,
    "start_time": "2023-03-19T11:20:39.909Z"
   },
   {
    "duration": 56,
    "start_time": "2023-03-19T11:23:39.773Z"
   },
   {
    "duration": 1050,
    "start_time": "2023-03-19T11:23:42.268Z"
   },
   {
    "duration": 3928,
    "start_time": "2023-03-19T11:23:44.870Z"
   },
   {
    "duration": 63,
    "start_time": "2023-03-19T11:24:12.176Z"
   },
   {
    "duration": 1110,
    "start_time": "2023-03-19T11:24:13.174Z"
   },
   {
    "duration": 113,
    "start_time": "2023-03-19T11:24:14.991Z"
   },
   {
    "duration": 214,
    "start_time": "2023-03-19T11:24:22.985Z"
   },
   {
    "duration": 55,
    "start_time": "2023-03-19T11:26:46.769Z"
   },
   {
    "duration": 1118,
    "start_time": "2023-03-19T11:26:47.821Z"
   },
   {
    "duration": 65,
    "start_time": "2023-03-19T11:26:49.674Z"
   },
   {
    "duration": 458,
    "start_time": "2023-03-19T11:28:18.181Z"
   },
   {
    "duration": 1288,
    "start_time": "2023-03-19T11:29:51.332Z"
   },
   {
    "duration": 478,
    "start_time": "2023-03-19T11:29:56.243Z"
   },
   {
    "duration": 77,
    "start_time": "2023-03-19T11:30:00.328Z"
   },
   {
    "duration": 1154,
    "start_time": "2023-03-19T11:31:21.618Z"
   },
   {
    "duration": 1127,
    "start_time": "2023-03-19T11:31:54.742Z"
   },
   {
    "duration": 3911,
    "start_time": "2023-03-19T11:31:57.884Z"
   },
   {
    "duration": 51,
    "start_time": "2023-03-19T11:32:49.718Z"
   },
   {
    "duration": 4835,
    "start_time": "2023-03-19T11:33:30.671Z"
   },
   {
    "duration": 1676,
    "start_time": "2023-03-19T11:33:55.668Z"
   },
   {
    "duration": 41,
    "start_time": "2023-03-19T11:33:57.346Z"
   },
   {
    "duration": 34,
    "start_time": "2023-03-19T11:33:57.388Z"
   },
   {
    "duration": 34,
    "start_time": "2023-03-19T11:33:57.424Z"
   },
   {
    "duration": 4,
    "start_time": "2023-03-19T11:33:57.459Z"
   },
   {
    "duration": 16,
    "start_time": "2023-03-19T11:33:57.465Z"
   },
   {
    "duration": 31,
    "start_time": "2023-03-19T11:33:57.483Z"
   },
   {
    "duration": 17,
    "start_time": "2023-03-19T11:33:57.517Z"
   },
   {
    "duration": 10,
    "start_time": "2023-03-19T11:33:57.536Z"
   },
   {
    "duration": 77,
    "start_time": "2023-03-19T11:33:57.550Z"
   },
   {
    "duration": 10,
    "start_time": "2023-03-19T11:33:57.632Z"
   },
   {
    "duration": 7,
    "start_time": "2023-03-19T11:33:57.643Z"
   },
   {
    "duration": 8,
    "start_time": "2023-03-19T11:33:57.651Z"
   },
   {
    "duration": 13,
    "start_time": "2023-03-19T11:33:57.661Z"
   },
   {
    "duration": 27,
    "start_time": "2023-03-19T11:33:57.675Z"
   },
   {
    "duration": 50,
    "start_time": "2023-03-19T11:33:57.704Z"
   },
   {
    "duration": 9,
    "start_time": "2023-03-19T11:33:57.755Z"
   },
   {
    "duration": 2046,
    "start_time": "2023-03-19T11:33:57.766Z"
   },
   {
    "duration": 160,
    "start_time": "2023-03-19T11:33:59.814Z"
   },
   {
    "duration": 1284,
    "start_time": "2023-03-19T11:33:59.976Z"
   },
   {
    "duration": 205,
    "start_time": "2023-03-19T11:34:01.262Z"
   },
   {
    "duration": 205,
    "start_time": "2023-03-19T11:34:01.469Z"
   },
   {
    "duration": 312,
    "start_time": "2023-03-19T11:34:01.677Z"
   },
   {
    "duration": 28,
    "start_time": "2023-03-19T11:34:02.009Z"
   },
   {
    "duration": 16,
    "start_time": "2023-03-19T11:34:02.039Z"
   },
   {
    "duration": 60,
    "start_time": "2023-03-19T11:34:02.056Z"
   },
   {
    "duration": 34,
    "start_time": "2023-03-19T11:34:02.118Z"
   },
   {
    "duration": 20,
    "start_time": "2023-03-19T11:34:02.156Z"
   },
   {
    "duration": 4,
    "start_time": "2023-03-19T11:34:02.178Z"
   },
   {
    "duration": 55,
    "start_time": "2023-03-19T11:34:02.183Z"
   },
   {
    "duration": 6,
    "start_time": "2023-03-19T11:34:02.240Z"
   },
   {
    "duration": 23,
    "start_time": "2023-03-19T11:34:02.247Z"
   },
   {
    "duration": 546,
    "start_time": "2023-03-19T11:34:02.271Z"
   },
   {
    "duration": 47,
    "start_time": "2023-03-19T11:34:02.819Z"
   },
   {
    "duration": 48540,
    "start_time": "2023-03-19T11:34:02.868Z"
   },
   {
    "duration": 820,
    "start_time": "2023-03-19T11:34:51.410Z"
   },
   {
    "duration": 12375,
    "start_time": "2023-03-19T11:34:52.232Z"
   },
   {
    "duration": 3909,
    "start_time": "2023-03-19T11:35:04.618Z"
   },
   {
    "duration": 206,
    "start_time": "2023-03-19T11:35:08.531Z"
   },
   {
    "duration": 1244,
    "start_time": "2023-03-19T11:35:08.793Z"
   },
   {
    "duration": 430,
    "start_time": "2023-03-19T11:35:10.038Z"
   },
   {
    "duration": 6,
    "start_time": "2023-03-19T11:35:10.470Z"
   },
   {
    "duration": 14,
    "start_time": "2023-03-19T11:35:10.478Z"
   },
   {
    "duration": 60,
    "start_time": "2023-03-19T11:35:10.494Z"
   },
   {
    "duration": 6,
    "start_time": "2023-03-19T11:35:10.556Z"
   },
   {
    "duration": 138,
    "start_time": "2023-03-19T11:35:10.565Z"
   },
   {
    "duration": 1141,
    "start_time": "2023-03-19T11:35:10.707Z"
   },
   {
    "duration": 433,
    "start_time": "2023-03-19T11:35:11.850Z"
   },
   {
    "duration": 112,
    "start_time": "2023-03-19T11:35:12.284Z"
   },
   {
    "duration": 140,
    "start_time": "2023-03-19T11:35:12.405Z"
   },
   {
    "duration": 1101,
    "start_time": "2023-03-19T11:35:12.547Z"
   },
   {
    "duration": 4786,
    "start_time": "2023-03-19T11:35:13.650Z"
   },
   {
    "duration": 142,
    "start_time": "2023-03-19T11:35:18.499Z"
   },
   {
    "duration": 1129,
    "start_time": "2023-03-19T11:35:18.642Z"
   },
   {
    "duration": 3934,
    "start_time": "2023-03-19T11:35:19.773Z"
   },
   {
    "duration": 140,
    "start_time": "2023-03-19T11:35:23.711Z"
   },
   {
    "duration": 1092,
    "start_time": "2023-03-19T11:35:23.852Z"
   },
   {
    "duration": 74,
    "start_time": "2023-03-19T11:35:24.946Z"
   },
   {
    "duration": 367,
    "start_time": "2023-03-19T11:35:25.024Z"
   },
   {
    "duration": 178,
    "start_time": "2023-03-19T11:38:22.738Z"
   },
   {
    "duration": 29,
    "start_time": "2023-03-19T11:38:27.569Z"
   },
   {
    "duration": 1676,
    "start_time": "2023-03-19T11:38:53.433Z"
   },
   {
    "duration": 63,
    "start_time": "2023-03-19T11:38:55.112Z"
   },
   {
    "duration": 39,
    "start_time": "2023-03-19T11:38:55.177Z"
   },
   {
    "duration": 37,
    "start_time": "2023-03-19T11:38:55.220Z"
   },
   {
    "duration": 4,
    "start_time": "2023-03-19T11:38:55.259Z"
   },
   {
    "duration": 20,
    "start_time": "2023-03-19T11:38:55.265Z"
   },
   {
    "duration": 55,
    "start_time": "2023-03-19T11:38:55.286Z"
   },
   {
    "duration": 5,
    "start_time": "2023-03-19T11:38:55.343Z"
   },
   {
    "duration": 14,
    "start_time": "2023-03-19T11:38:55.350Z"
   },
   {
    "duration": 76,
    "start_time": "2023-03-19T11:38:55.365Z"
   },
   {
    "duration": 27,
    "start_time": "2023-03-19T11:38:55.443Z"
   },
   {
    "duration": 14,
    "start_time": "2023-03-19T11:38:55.472Z"
   },
   {
    "duration": 60,
    "start_time": "2023-03-19T11:38:55.487Z"
   },
   {
    "duration": 20,
    "start_time": "2023-03-19T11:38:55.552Z"
   },
   {
    "duration": 33,
    "start_time": "2023-03-19T11:38:55.573Z"
   },
   {
    "duration": 70,
    "start_time": "2023-03-19T11:38:55.608Z"
   },
   {
    "duration": 8,
    "start_time": "2023-03-19T11:38:55.680Z"
   },
   {
    "duration": 2126,
    "start_time": "2023-03-19T11:38:55.690Z"
   },
   {
    "duration": 160,
    "start_time": "2023-03-19T11:38:57.821Z"
   },
   {
    "duration": 1272,
    "start_time": "2023-03-19T11:38:57.983Z"
   },
   {
    "duration": 213,
    "start_time": "2023-03-19T11:38:59.256Z"
   },
   {
    "duration": 200,
    "start_time": "2023-03-19T11:38:59.471Z"
   },
   {
    "duration": 325,
    "start_time": "2023-03-19T11:38:59.673Z"
   },
   {
    "duration": 26,
    "start_time": "2023-03-19T11:39:00.010Z"
   },
   {
    "duration": 14,
    "start_time": "2023-03-19T11:39:00.042Z"
   },
   {
    "duration": 60,
    "start_time": "2023-03-19T11:39:00.057Z"
   },
   {
    "duration": 27,
    "start_time": "2023-03-19T11:39:00.118Z"
   },
   {
    "duration": 15,
    "start_time": "2023-03-19T11:39:00.147Z"
   },
   {
    "duration": 3,
    "start_time": "2023-03-19T11:39:00.164Z"
   },
   {
    "duration": 14,
    "start_time": "2023-03-19T11:39:00.169Z"
   },
   {
    "duration": 22,
    "start_time": "2023-03-19T11:39:00.185Z"
   },
   {
    "duration": 42,
    "start_time": "2023-03-19T11:39:00.217Z"
   },
   {
    "duration": 573,
    "start_time": "2023-03-19T11:39:00.260Z"
   },
   {
    "duration": 45,
    "start_time": "2023-03-19T11:39:00.839Z"
   },
   {
    "duration": 50559,
    "start_time": "2023-03-19T11:39:00.897Z"
   },
   {
    "duration": 839,
    "start_time": "2023-03-19T11:39:51.458Z"
   },
   {
    "duration": 12932,
    "start_time": "2023-03-19T11:39:52.299Z"
   },
   {
    "duration": 3975,
    "start_time": "2023-03-19T11:40:05.233Z"
   },
   {
    "duration": 189,
    "start_time": "2023-03-19T11:40:09.215Z"
   },
   {
    "duration": 1231,
    "start_time": "2023-03-19T11:40:09.411Z"
   },
   {
    "duration": 471,
    "start_time": "2023-03-19T11:40:10.647Z"
   },
   {
    "duration": 9,
    "start_time": "2023-03-19T11:40:11.120Z"
   },
   {
    "duration": 16,
    "start_time": "2023-03-19T11:40:11.131Z"
   },
   {
    "duration": 27,
    "start_time": "2023-03-19T11:40:11.149Z"
   },
   {
    "duration": 41,
    "start_time": "2023-03-19T11:40:11.178Z"
   },
   {
    "duration": 75,
    "start_time": "2023-03-19T11:40:11.221Z"
   },
   {
    "duration": 1175,
    "start_time": "2023-03-19T11:40:11.300Z"
   },
   {
    "duration": 464,
    "start_time": "2023-03-19T11:40:12.477Z"
   },
   {
    "duration": 69,
    "start_time": "2023-03-19T11:40:12.943Z"
   },
   {
    "duration": 148,
    "start_time": "2023-03-19T11:40:13.015Z"
   },
   {
    "duration": 1202,
    "start_time": "2023-03-19T11:40:13.164Z"
   },
   {
    "duration": 3970,
    "start_time": "2023-03-19T11:40:14.369Z"
   },
   {
    "duration": 203,
    "start_time": "2023-03-19T11:40:18.347Z"
   },
   {
    "duration": 1200,
    "start_time": "2023-03-19T11:40:18.552Z"
   },
   {
    "duration": 4554,
    "start_time": "2023-03-19T11:40:19.754Z"
   },
   {
    "duration": 158,
    "start_time": "2023-03-19T11:40:24.310Z"
   },
   {
    "duration": 1242,
    "start_time": "2023-03-19T11:40:24.470Z"
   },
   {
    "duration": 90,
    "start_time": "2023-03-19T11:40:25.715Z"
   },
   {
    "duration": 310,
    "start_time": "2023-03-19T11:40:25.811Z"
   },
   {
    "duration": 1207,
    "start_time": "2023-03-19T11:48:36.229Z"
   },
   {
    "duration": 13,
    "start_time": "2023-03-19T11:53:59.135Z"
   },
   {
    "duration": 1882,
    "start_time": "2023-03-19T11:54:14.910Z"
   },
   {
    "duration": 72,
    "start_time": "2023-03-19T11:54:16.799Z"
   },
   {
    "duration": 47,
    "start_time": "2023-03-19T11:54:16.873Z"
   },
   {
    "duration": 53,
    "start_time": "2023-03-19T11:54:16.923Z"
   },
   {
    "duration": 6,
    "start_time": "2023-03-19T11:54:16.979Z"
   },
   {
    "duration": 77,
    "start_time": "2023-03-19T11:54:16.987Z"
   },
   {
    "duration": 16,
    "start_time": "2023-03-19T11:54:17.066Z"
   },
   {
    "duration": 54,
    "start_time": "2023-03-19T11:54:17.085Z"
   },
   {
    "duration": 12,
    "start_time": "2023-03-19T11:54:17.146Z"
   },
   {
    "duration": 89,
    "start_time": "2023-03-19T11:54:17.161Z"
   },
   {
    "duration": 14,
    "start_time": "2023-03-19T11:54:17.252Z"
   },
   {
    "duration": 16,
    "start_time": "2023-03-19T11:54:17.267Z"
   },
   {
    "duration": 32,
    "start_time": "2023-03-19T11:54:17.285Z"
   },
   {
    "duration": 35,
    "start_time": "2023-03-19T11:54:17.322Z"
   },
   {
    "duration": 18,
    "start_time": "2023-03-19T11:54:17.359Z"
   },
   {
    "duration": 76,
    "start_time": "2023-03-19T11:54:17.379Z"
   },
   {
    "duration": 11,
    "start_time": "2023-03-19T11:54:17.458Z"
   },
   {
    "duration": 2582,
    "start_time": "2023-03-19T11:54:17.471Z"
   },
   {
    "duration": 210,
    "start_time": "2023-03-19T11:54:20.055Z"
   },
   {
    "duration": 1485,
    "start_time": "2023-03-19T11:54:20.268Z"
   },
   {
    "duration": 288,
    "start_time": "2023-03-19T11:54:21.756Z"
   },
   {
    "duration": 219,
    "start_time": "2023-03-19T11:54:22.053Z"
   },
   {
    "duration": 481,
    "start_time": "2023-03-19T11:54:22.273Z"
   },
   {
    "duration": 19,
    "start_time": "2023-03-19T11:54:22.762Z"
   },
   {
    "duration": 3,
    "start_time": "2023-03-19T11:54:22.782Z"
   },
   {
    "duration": 87,
    "start_time": "2023-03-19T11:54:22.786Z"
   },
   {
    "duration": 4,
    "start_time": "2023-03-19T11:54:22.875Z"
   },
   {
    "duration": 6,
    "start_time": "2023-03-19T11:54:22.881Z"
   },
   {
    "duration": 74,
    "start_time": "2023-03-19T11:54:22.889Z"
   },
   {
    "duration": 15,
    "start_time": "2023-03-19T11:54:22.966Z"
   },
   {
    "duration": 29,
    "start_time": "2023-03-19T11:54:22.983Z"
   },
   {
    "duration": 72,
    "start_time": "2023-03-19T11:54:23.014Z"
   },
   {
    "duration": 756,
    "start_time": "2023-03-19T11:54:23.089Z"
   },
   {
    "duration": 67,
    "start_time": "2023-03-19T11:54:23.849Z"
   },
   {
    "duration": 52440,
    "start_time": "2023-03-19T11:54:23.922Z"
   },
   {
    "duration": 904,
    "start_time": "2023-03-19T11:55:16.364Z"
   },
   {
    "duration": 13273,
    "start_time": "2023-03-19T11:55:17.270Z"
   },
   {
    "duration": 3479,
    "start_time": "2023-03-19T11:55:30.545Z"
   },
   {
    "duration": 205,
    "start_time": "2023-03-19T11:55:34.029Z"
   },
   {
    "duration": 1365,
    "start_time": "2023-03-19T11:55:34.241Z"
   },
   {
    "duration": 514,
    "start_time": "2023-03-19T11:55:35.621Z"
   },
   {
    "duration": 7,
    "start_time": "2023-03-19T11:55:36.136Z"
   },
   {
    "duration": 22,
    "start_time": "2023-03-19T11:55:36.146Z"
   },
   {
    "duration": 66,
    "start_time": "2023-03-19T11:55:36.170Z"
   },
   {
    "duration": 61,
    "start_time": "2023-03-19T11:55:36.239Z"
   },
   {
    "duration": 34,
    "start_time": "2023-03-19T11:55:36.315Z"
   },
   {
    "duration": 1346,
    "start_time": "2023-03-19T11:55:36.394Z"
   },
   {
    "duration": 467,
    "start_time": "2023-03-19T11:55:37.747Z"
   },
   {
    "duration": 89,
    "start_time": "2023-03-19T11:55:38.217Z"
   },
   {
    "duration": 139,
    "start_time": "2023-03-19T11:55:38.308Z"
   },
   {
    "duration": 1155,
    "start_time": "2023-03-19T11:55:38.449Z"
   },
   {
    "duration": 4194,
    "start_time": "2023-03-19T11:55:39.614Z"
   },
   {
    "duration": 1311,
    "start_time": "2023-03-19T11:55:43.816Z"
   },
   {
    "duration": 1199,
    "start_time": "2023-03-19T11:55:45.133Z"
   },
   {
    "duration": 49,
    "start_time": "2023-03-19T11:55:46.338Z"
   },
   {
    "duration": 1231,
    "start_time": "2023-03-19T11:55:46.389Z"
   },
   {
    "duration": 184,
    "start_time": "2023-03-19T11:55:47.628Z"
   },
   {
    "duration": 252,
    "start_time": "2023-03-19T11:55:47.826Z"
   },
   {
    "duration": 10,
    "start_time": "2023-03-19T12:03:22.643Z"
   },
   {
    "duration": 1486,
    "start_time": "2023-03-19T12:03:30.952Z"
   },
   {
    "duration": 43,
    "start_time": "2023-03-19T12:03:32.440Z"
   },
   {
    "duration": 34,
    "start_time": "2023-03-19T12:03:32.485Z"
   },
   {
    "duration": 26,
    "start_time": "2023-03-19T12:03:32.522Z"
   },
   {
    "duration": 5,
    "start_time": "2023-03-19T12:03:32.550Z"
   },
   {
    "duration": 15,
    "start_time": "2023-03-19T12:03:32.556Z"
   },
   {
    "duration": 19,
    "start_time": "2023-03-19T12:03:32.573Z"
   },
   {
    "duration": 14,
    "start_time": "2023-03-19T12:03:32.597Z"
   },
   {
    "duration": 19,
    "start_time": "2023-03-19T12:03:32.613Z"
   },
   {
    "duration": 53,
    "start_time": "2023-03-19T12:03:32.633Z"
   },
   {
    "duration": 25,
    "start_time": "2023-03-19T12:03:32.688Z"
   },
   {
    "duration": 9,
    "start_time": "2023-03-19T12:03:32.721Z"
   },
   {
    "duration": 22,
    "start_time": "2023-03-19T12:03:32.731Z"
   },
   {
    "duration": 12,
    "start_time": "2023-03-19T12:03:32.759Z"
   },
   {
    "duration": 14,
    "start_time": "2023-03-19T12:03:32.774Z"
   },
   {
    "duration": 66,
    "start_time": "2023-03-19T12:03:32.789Z"
   },
   {
    "duration": 9,
    "start_time": "2023-03-19T12:03:32.857Z"
   },
   {
    "duration": 1929,
    "start_time": "2023-03-19T12:03:32.868Z"
   },
   {
    "duration": 152,
    "start_time": "2023-03-19T12:03:34.808Z"
   },
   {
    "duration": 1222,
    "start_time": "2023-03-19T12:03:34.962Z"
   },
   {
    "duration": 203,
    "start_time": "2023-03-19T12:03:36.185Z"
   },
   {
    "duration": 229,
    "start_time": "2023-03-19T12:03:36.393Z"
   },
   {
    "duration": 326,
    "start_time": "2023-03-19T12:03:36.624Z"
   },
   {
    "duration": 17,
    "start_time": "2023-03-19T12:03:36.952Z"
   },
   {
    "duration": 2,
    "start_time": "2023-03-19T12:03:36.971Z"
   },
   {
    "duration": 48,
    "start_time": "2023-03-19T12:03:36.974Z"
   },
   {
    "duration": 4,
    "start_time": "2023-03-19T12:03:37.024Z"
   },
   {
    "duration": 9,
    "start_time": "2023-03-19T12:03:37.029Z"
   },
   {
    "duration": 4,
    "start_time": "2023-03-19T12:03:37.039Z"
   },
   {
    "duration": 12,
    "start_time": "2023-03-19T12:03:37.044Z"
   },
   {
    "duration": 7,
    "start_time": "2023-03-19T12:03:37.057Z"
   },
   {
    "duration": 50,
    "start_time": "2023-03-19T12:03:37.066Z"
   },
   {
    "duration": 563,
    "start_time": "2023-03-19T12:03:37.118Z"
   },
   {
    "duration": 61,
    "start_time": "2023-03-19T12:03:37.683Z"
   },
   {
    "duration": 51452,
    "start_time": "2023-03-19T12:03:37.746Z"
   },
   {
    "duration": 907,
    "start_time": "2023-03-19T12:04:29.200Z"
   },
   {
    "duration": 13155,
    "start_time": "2023-03-19T12:04:30.109Z"
   },
   {
    "duration": 4626,
    "start_time": "2023-03-19T12:04:43.266Z"
   },
   {
    "duration": 132,
    "start_time": "2023-03-19T12:04:47.897Z"
   },
   {
    "duration": 1344,
    "start_time": "2023-03-19T12:04:48.097Z"
   },
   {
    "duration": 477,
    "start_time": "2023-03-19T12:04:49.445Z"
   },
   {
    "duration": 7,
    "start_time": "2023-03-19T12:04:49.925Z"
   },
   {
    "duration": 6,
    "start_time": "2023-03-19T12:04:49.934Z"
   },
   {
    "duration": 30,
    "start_time": "2023-03-19T12:04:49.942Z"
   },
   {
    "duration": 34,
    "start_time": "2023-03-19T12:04:49.991Z"
   },
   {
    "duration": 68,
    "start_time": "2023-03-19T12:04:50.026Z"
   },
   {
    "duration": 1373,
    "start_time": "2023-03-19T12:04:50.096Z"
   },
   {
    "duration": 476,
    "start_time": "2023-03-19T12:04:51.471Z"
   },
   {
    "duration": 141,
    "start_time": "2023-03-19T12:04:51.949Z"
   },
   {
    "duration": 158,
    "start_time": "2023-03-19T12:04:52.092Z"
   },
   {
    "duration": 1227,
    "start_time": "2023-03-19T12:04:52.252Z"
   },
   {
    "duration": 4017,
    "start_time": "2023-03-19T12:04:53.481Z"
   },
   {
    "duration": 1332,
    "start_time": "2023-03-19T12:04:57.500Z"
   },
   {
    "duration": 1173,
    "start_time": "2023-03-19T12:04:58.833Z"
   },
   {
    "duration": 53,
    "start_time": "2023-03-19T12:05:00.013Z"
   },
   {
    "duration": 1241,
    "start_time": "2023-03-19T12:05:00.068Z"
   },
   {
    "duration": 86,
    "start_time": "2023-03-19T12:05:01.317Z"
   },
   {
    "duration": 284,
    "start_time": "2023-03-19T12:05:01.406Z"
   },
   {
    "duration": 12601,
    "start_time": "2023-03-19T12:06:18.319Z"
   },
   {
    "duration": 461,
    "start_time": "2023-03-19T12:07:39.580Z"
   },
   {
    "duration": 11,
    "start_time": "2023-03-19T12:07:42.299Z"
   },
   {
    "duration": 448,
    "start_time": "2023-03-19T12:07:47.687Z"
   },
   {
    "duration": 5,
    "start_time": "2023-03-19T12:07:48.416Z"
   },
   {
    "duration": 477,
    "start_time": "2023-03-19T12:07:54.688Z"
   },
   {
    "duration": 10,
    "start_time": "2023-03-19T12:07:55.383Z"
   },
   {
    "duration": 464,
    "start_time": "2023-03-19T12:08:00.121Z"
   },
   {
    "duration": 10,
    "start_time": "2023-03-19T12:08:00.818Z"
   },
   {
    "duration": 494,
    "start_time": "2023-03-19T12:08:05.719Z"
   },
   {
    "duration": 7,
    "start_time": "2023-03-19T12:08:06.332Z"
   },
   {
    "duration": 492,
    "start_time": "2023-03-19T12:08:11.132Z"
   },
   {
    "duration": 6,
    "start_time": "2023-03-19T12:08:11.747Z"
   },
   {
    "duration": 487,
    "start_time": "2023-03-19T12:08:17.527Z"
   },
   {
    "duration": 6,
    "start_time": "2023-03-19T12:08:20.320Z"
   },
   {
    "duration": 480,
    "start_time": "2023-03-19T12:08:41.532Z"
   },
   {
    "duration": 6,
    "start_time": "2023-03-19T12:08:42.621Z"
   },
   {
    "duration": 495,
    "start_time": "2023-03-19T12:08:47.936Z"
   },
   {
    "duration": 6,
    "start_time": "2023-03-19T12:08:49.028Z"
   },
   {
    "duration": 486,
    "start_time": "2023-03-19T12:08:52.980Z"
   },
   {
    "duration": 7,
    "start_time": "2023-03-19T12:08:54.045Z"
   },
   {
    "duration": 490,
    "start_time": "2023-03-19T12:08:59.078Z"
   },
   {
    "duration": 6,
    "start_time": "2023-03-19T12:09:00.016Z"
   },
   {
    "duration": 468,
    "start_time": "2023-03-19T12:09:13.418Z"
   },
   {
    "duration": 6,
    "start_time": "2023-03-19T12:09:14.222Z"
   },
   {
    "duration": 11,
    "start_time": "2023-03-19T12:10:58.449Z"
   },
   {
    "duration": 15,
    "start_time": "2023-03-19T12:11:57.017Z"
   },
   {
    "duration": 1692,
    "start_time": "2023-03-19T12:12:08.075Z"
   },
   {
    "duration": 60,
    "start_time": "2023-03-19T12:12:09.769Z"
   },
   {
    "duration": 18,
    "start_time": "2023-03-19T12:12:09.830Z"
   },
   {
    "duration": 28,
    "start_time": "2023-03-19T12:12:09.850Z"
   },
   {
    "duration": 5,
    "start_time": "2023-03-19T12:12:09.880Z"
   },
   {
    "duration": 65,
    "start_time": "2023-03-19T12:12:09.886Z"
   },
   {
    "duration": 16,
    "start_time": "2023-03-19T12:12:09.953Z"
   },
   {
    "duration": 10,
    "start_time": "2023-03-19T12:12:09.971Z"
   },
   {
    "duration": 53,
    "start_time": "2023-03-19T12:12:09.983Z"
   },
   {
    "duration": 89,
    "start_time": "2023-03-19T12:12:10.039Z"
   },
   {
    "duration": 12,
    "start_time": "2023-03-19T12:12:10.131Z"
   },
   {
    "duration": 28,
    "start_time": "2023-03-19T12:12:10.145Z"
   },
   {
    "duration": 33,
    "start_time": "2023-03-19T12:12:10.175Z"
   },
   {
    "duration": 53,
    "start_time": "2023-03-19T12:12:10.211Z"
   },
   {
    "duration": 35,
    "start_time": "2023-03-19T12:12:10.266Z"
   },
   {
    "duration": 101,
    "start_time": "2023-03-19T12:12:10.307Z"
   },
   {
    "duration": 22,
    "start_time": "2023-03-19T12:12:10.416Z"
   },
   {
    "duration": 2176,
    "start_time": "2023-03-19T12:12:10.440Z"
   },
   {
    "duration": 161,
    "start_time": "2023-03-19T12:12:12.621Z"
   },
   {
    "duration": 1327,
    "start_time": "2023-03-19T12:12:12.784Z"
   },
   {
    "duration": 252,
    "start_time": "2023-03-19T12:12:14.113Z"
   },
   {
    "duration": 270,
    "start_time": "2023-03-19T12:12:14.368Z"
   },
   {
    "duration": 337,
    "start_time": "2023-03-19T12:12:14.642Z"
   },
   {
    "duration": 27,
    "start_time": "2023-03-19T12:12:14.981Z"
   },
   {
    "duration": 10,
    "start_time": "2023-03-19T12:12:15.011Z"
   },
   {
    "duration": 54,
    "start_time": "2023-03-19T12:12:15.023Z"
   },
   {
    "duration": 5,
    "start_time": "2023-03-19T12:12:15.079Z"
   },
   {
    "duration": 73,
    "start_time": "2023-03-19T12:12:15.088Z"
   },
   {
    "duration": 3,
    "start_time": "2023-03-19T12:12:15.163Z"
   },
   {
    "duration": 18,
    "start_time": "2023-03-19T12:12:15.168Z"
   },
   {
    "duration": 11,
    "start_time": "2023-03-19T12:12:15.188Z"
   },
   {
    "duration": 73,
    "start_time": "2023-03-19T12:12:15.203Z"
   },
   {
    "duration": 601,
    "start_time": "2023-03-19T12:12:15.279Z"
   },
   {
    "duration": 59,
    "start_time": "2023-03-19T12:12:15.882Z"
   },
   {
    "duration": 48807,
    "start_time": "2023-03-19T12:12:15.943Z"
   },
   {
    "duration": 885,
    "start_time": "2023-03-19T12:13:04.752Z"
   },
   {
    "duration": 12175,
    "start_time": "2023-03-19T12:13:05.639Z"
   },
   {
    "duration": 3672,
    "start_time": "2023-03-19T12:13:17.822Z"
   },
   {
    "duration": 137,
    "start_time": "2023-03-19T12:13:21.497Z"
   },
   {
    "duration": 1289,
    "start_time": "2023-03-19T12:13:21.636Z"
   },
   {
    "duration": 432,
    "start_time": "2023-03-19T12:13:22.927Z"
   },
   {
    "duration": 6,
    "start_time": "2023-03-19T12:13:23.361Z"
   },
   {
    "duration": 8,
    "start_time": "2023-03-19T12:13:23.369Z"
   },
   {
    "duration": 71,
    "start_time": "2023-03-19T12:13:23.379Z"
   },
   {
    "duration": 13,
    "start_time": "2023-03-19T12:13:23.452Z"
   },
   {
    "duration": 160,
    "start_time": "2023-03-19T12:13:23.467Z"
   },
   {
    "duration": 1119,
    "start_time": "2023-03-19T12:13:23.629Z"
   },
   {
    "duration": 463,
    "start_time": "2023-03-19T12:13:24.750Z"
   },
   {
    "duration": 106,
    "start_time": "2023-03-19T12:13:25.215Z"
   },
   {
    "duration": 63,
    "start_time": "2023-03-19T12:13:25.393Z"
   },
   {
    "duration": 1244,
    "start_time": "2023-03-19T12:13:25.458Z"
   },
   {
    "duration": 3727,
    "start_time": "2023-03-19T12:13:26.715Z"
   },
   {
    "duration": 1323,
    "start_time": "2023-03-19T12:13:30.447Z"
   },
   {
    "duration": 1189,
    "start_time": "2023-03-19T12:13:31.772Z"
   },
   {
    "duration": 86,
    "start_time": "2023-03-19T12:13:32.963Z"
   },
   {
    "duration": 1222,
    "start_time": "2023-03-19T12:13:33.052Z"
   },
   {
    "duration": 71,
    "start_time": "2023-03-19T12:13:34.276Z"
   },
   {
    "duration": 408,
    "start_time": "2023-03-19T12:13:34.350Z"
   },
   {
    "duration": 12088,
    "start_time": "2023-03-19T12:15:57.135Z"
   },
   {
    "duration": 13,
    "start_time": "2023-03-19T12:35:17.718Z"
   },
   {
    "duration": 1798,
    "start_time": "2023-03-19T12:35:26.989Z"
   },
   {
    "duration": 71,
    "start_time": "2023-03-19T12:35:28.789Z"
   },
   {
    "duration": 25,
    "start_time": "2023-03-19T12:35:28.862Z"
   },
   {
    "duration": 50,
    "start_time": "2023-03-19T12:35:28.889Z"
   },
   {
    "duration": 12,
    "start_time": "2023-03-19T12:35:28.942Z"
   },
   {
    "duration": 16,
    "start_time": "2023-03-19T12:35:28.956Z"
   },
   {
    "duration": 10,
    "start_time": "2023-03-19T12:35:28.975Z"
   },
   {
    "duration": 16,
    "start_time": "2023-03-19T12:35:28.986Z"
   },
   {
    "duration": 39,
    "start_time": "2023-03-19T12:35:29.004Z"
   },
   {
    "duration": 57,
    "start_time": "2023-03-19T12:35:29.045Z"
   },
   {
    "duration": 17,
    "start_time": "2023-03-19T12:35:29.104Z"
   },
   {
    "duration": 22,
    "start_time": "2023-03-19T12:35:29.127Z"
   },
   {
    "duration": 20,
    "start_time": "2023-03-19T12:35:29.151Z"
   },
   {
    "duration": 32,
    "start_time": "2023-03-19T12:35:29.177Z"
   },
   {
    "duration": 36,
    "start_time": "2023-03-19T12:35:29.221Z"
   },
   {
    "duration": 51,
    "start_time": "2023-03-19T12:35:29.259Z"
   },
   {
    "duration": 13,
    "start_time": "2023-03-19T12:35:29.312Z"
   },
   {
    "duration": 2159,
    "start_time": "2023-03-19T12:35:29.327Z"
   },
   {
    "duration": 163,
    "start_time": "2023-03-19T12:35:31.488Z"
   },
   {
    "duration": 1398,
    "start_time": "2023-03-19T12:35:31.653Z"
   },
   {
    "duration": 217,
    "start_time": "2023-03-19T12:35:33.053Z"
   },
   {
    "duration": 245,
    "start_time": "2023-03-19T12:35:33.272Z"
   },
   {
    "duration": 312,
    "start_time": "2023-03-19T12:35:33.519Z"
   },
   {
    "duration": 17,
    "start_time": "2023-03-19T12:35:33.833Z"
   },
   {
    "duration": 18,
    "start_time": "2023-03-19T12:35:33.852Z"
   },
   {
    "duration": 88,
    "start_time": "2023-03-19T12:35:33.872Z"
   },
   {
    "duration": 5,
    "start_time": "2023-03-19T12:35:33.962Z"
   },
   {
    "duration": 86,
    "start_time": "2023-03-19T12:35:33.969Z"
   },
   {
    "duration": 86,
    "start_time": "2023-03-19T12:35:34.057Z"
   },
   {
    "duration": 81,
    "start_time": "2023-03-19T12:35:34.145Z"
   },
   {
    "duration": 46,
    "start_time": "2023-03-19T12:35:34.228Z"
   },
   {
    "duration": 82,
    "start_time": "2023-03-19T12:35:34.276Z"
   },
   {
    "duration": 671,
    "start_time": "2023-03-19T12:35:34.360Z"
   },
   {
    "duration": 68,
    "start_time": "2023-03-19T12:35:35.036Z"
   },
   {
    "duration": 56505,
    "start_time": "2023-03-19T12:35:35.106Z"
   },
   {
    "duration": 987,
    "start_time": "2023-03-19T12:36:31.619Z"
   },
   {
    "duration": 14242,
    "start_time": "2023-03-19T12:36:32.608Z"
   },
   {
    "duration": 2965,
    "start_time": "2023-03-19T12:36:46.852Z"
   },
   {
    "duration": 208,
    "start_time": "2023-03-19T12:36:49.826Z"
   },
   {
    "duration": 1390,
    "start_time": "2023-03-19T12:36:50.091Z"
   },
   {
    "duration": 518,
    "start_time": "2023-03-19T12:36:51.490Z"
   },
   {
    "duration": 11,
    "start_time": "2023-03-19T12:36:52.016Z"
   },
   {
    "duration": 10,
    "start_time": "2023-03-19T12:36:52.029Z"
   },
   {
    "duration": 33,
    "start_time": "2023-03-19T12:36:52.041Z"
   },
   {
    "duration": 6,
    "start_time": "2023-03-19T12:36:52.075Z"
   },
   {
    "duration": 97,
    "start_time": "2023-03-19T12:36:52.095Z"
   },
   {
    "duration": 1370,
    "start_time": "2023-03-19T12:36:52.194Z"
   },
   {
    "duration": 509,
    "start_time": "2023-03-19T12:36:53.566Z"
   },
   {
    "duration": 114,
    "start_time": "2023-03-19T12:36:54.077Z"
   },
   {
    "duration": 157,
    "start_time": "2023-03-19T12:36:54.193Z"
   },
   {
    "duration": 1390,
    "start_time": "2023-03-19T12:36:54.351Z"
   },
   {
    "duration": 3074,
    "start_time": "2023-03-19T12:36:55.747Z"
   },
   {
    "duration": 1483,
    "start_time": "2023-03-19T12:36:58.902Z"
   },
   {
    "duration": 1434,
    "start_time": "2023-03-19T12:37:00.387Z"
   },
   {
    "duration": 60,
    "start_time": "2023-03-19T12:37:01.833Z"
   },
   {
    "duration": 2775,
    "start_time": "2023-03-19T12:37:01.895Z"
   },
   {
    "duration": 135,
    "start_time": "2023-03-19T12:37:04.672Z"
   },
   {
    "duration": 366,
    "start_time": "2023-03-19T12:37:04.810Z"
   },
   {
    "duration": 14021,
    "start_time": "2023-03-19T12:37:32.941Z"
   },
   {
    "duration": 12,
    "start_time": "2023-03-19T12:38:45.517Z"
   },
   {
    "duration": 1526,
    "start_time": "2023-03-19T12:38:52.340Z"
   },
   {
    "duration": 67,
    "start_time": "2023-03-19T12:38:53.868Z"
   },
   {
    "duration": 18,
    "start_time": "2023-03-19T12:38:53.937Z"
   },
   {
    "duration": 21,
    "start_time": "2023-03-19T12:38:53.957Z"
   },
   {
    "duration": 4,
    "start_time": "2023-03-19T12:38:53.980Z"
   },
   {
    "duration": 55,
    "start_time": "2023-03-19T12:38:53.986Z"
   },
   {
    "duration": 11,
    "start_time": "2023-03-19T12:38:54.044Z"
   },
   {
    "duration": 7,
    "start_time": "2023-03-19T12:38:54.056Z"
   },
   {
    "duration": 9,
    "start_time": "2023-03-19T12:38:54.065Z"
   },
   {
    "duration": 73,
    "start_time": "2023-03-19T12:38:54.076Z"
   },
   {
    "duration": 10,
    "start_time": "2023-03-19T12:38:54.151Z"
   },
   {
    "duration": 8,
    "start_time": "2023-03-19T12:38:54.163Z"
   },
   {
    "duration": 19,
    "start_time": "2023-03-19T12:38:54.173Z"
   },
   {
    "duration": 19,
    "start_time": "2023-03-19T12:38:54.193Z"
   },
   {
    "duration": 27,
    "start_time": "2023-03-19T12:38:54.213Z"
   },
   {
    "duration": 37,
    "start_time": "2023-03-19T12:38:54.242Z"
   },
   {
    "duration": 25,
    "start_time": "2023-03-19T12:38:54.281Z"
   },
   {
    "duration": 2107,
    "start_time": "2023-03-19T12:38:54.308Z"
   },
   {
    "duration": 205,
    "start_time": "2023-03-19T12:38:56.417Z"
   },
   {
    "duration": 1398,
    "start_time": "2023-03-19T12:38:56.630Z"
   },
   {
    "duration": 196,
    "start_time": "2023-03-19T12:38:58.030Z"
   },
   {
    "duration": 200,
    "start_time": "2023-03-19T12:38:58.229Z"
   },
   {
    "duration": 311,
    "start_time": "2023-03-19T12:38:58.431Z"
   },
   {
    "duration": 18,
    "start_time": "2023-03-19T12:38:58.743Z"
   },
   {
    "duration": 5,
    "start_time": "2023-03-19T12:38:58.762Z"
   },
   {
    "duration": 50,
    "start_time": "2023-03-19T12:38:58.769Z"
   },
   {
    "duration": 13,
    "start_time": "2023-03-19T12:38:58.823Z"
   },
   {
    "duration": 7,
    "start_time": "2023-03-19T12:38:58.841Z"
   },
   {
    "duration": 8,
    "start_time": "2023-03-19T12:38:58.849Z"
   },
   {
    "duration": 13,
    "start_time": "2023-03-19T12:38:58.859Z"
   },
   {
    "duration": 31,
    "start_time": "2023-03-19T12:38:58.874Z"
   },
   {
    "duration": 45,
    "start_time": "2023-03-19T12:38:58.907Z"
   },
   {
    "duration": 691,
    "start_time": "2023-03-19T12:38:58.954Z"
   },
   {
    "duration": 74,
    "start_time": "2023-03-19T12:38:59.647Z"
   },
   {
    "duration": 61294,
    "start_time": "2023-03-19T12:38:59.722Z"
   },
   {
    "duration": 1057,
    "start_time": "2023-03-19T12:40:01.025Z"
   },
   {
    "duration": 15263,
    "start_time": "2023-03-19T12:40:02.083Z"
   },
   {
    "duration": 2265,
    "start_time": "2023-03-19T12:40:17.348Z"
   },
   {
    "duration": 130,
    "start_time": "2023-03-19T12:40:19.620Z"
   },
   {
    "duration": 1711,
    "start_time": "2023-03-19T12:40:19.793Z"
   },
   {
    "duration": 548,
    "start_time": "2023-03-19T12:40:21.507Z"
   },
   {
    "duration": 7,
    "start_time": "2023-03-19T12:40:22.057Z"
   },
   {
    "duration": 5,
    "start_time": "2023-03-19T12:40:22.066Z"
   },
   {
    "duration": 62,
    "start_time": "2023-03-19T12:40:22.073Z"
   },
   {
    "duration": 14,
    "start_time": "2023-03-19T12:40:22.137Z"
   },
   {
    "duration": 145,
    "start_time": "2023-03-19T12:40:22.154Z"
   },
   {
    "duration": 1595,
    "start_time": "2023-03-19T12:40:22.302Z"
   },
   {
    "duration": 584,
    "start_time": "2023-03-19T12:40:23.903Z"
   },
   {
    "duration": 109,
    "start_time": "2023-03-19T12:40:24.497Z"
   },
   {
    "duration": 153,
    "start_time": "2023-03-19T12:40:24.608Z"
   },
   {
    "duration": 1550,
    "start_time": "2023-03-19T12:40:24.764Z"
   },
   {
    "duration": 2728,
    "start_time": "2023-03-19T12:40:26.316Z"
   },
   {
    "duration": 1676,
    "start_time": "2023-03-19T12:40:29.051Z"
   },
   {
    "duration": 1614,
    "start_time": "2023-03-19T12:40:30.736Z"
   },
   {
    "duration": 102,
    "start_time": "2023-03-19T12:40:32.352Z"
   },
   {
    "duration": 1480,
    "start_time": "2023-03-19T12:40:32.458Z"
   },
   {
    "duration": 85,
    "start_time": "2023-03-19T12:40:33.940Z"
   },
   {
    "duration": 411,
    "start_time": "2023-03-19T12:40:34.028Z"
   },
   {
    "duration": 15806,
    "start_time": "2023-03-19T12:42:49.674Z"
   },
   {
    "duration": 17,
    "start_time": "2023-03-19T12:44:47.283Z"
   },
   {
    "duration": 1569,
    "start_time": "2023-03-19T12:44:58.329Z"
   },
   {
    "duration": 60,
    "start_time": "2023-03-19T12:44:59.901Z"
   },
   {
    "duration": 17,
    "start_time": "2023-03-19T12:44:59.963Z"
   },
   {
    "duration": 45,
    "start_time": "2023-03-19T12:44:59.982Z"
   },
   {
    "duration": 17,
    "start_time": "2023-03-19T12:45:00.029Z"
   },
   {
    "duration": 29,
    "start_time": "2023-03-19T12:45:00.049Z"
   },
   {
    "duration": 55,
    "start_time": "2023-03-19T12:45:00.080Z"
   },
   {
    "duration": 37,
    "start_time": "2023-03-19T12:45:00.136Z"
   },
   {
    "duration": 59,
    "start_time": "2023-03-19T12:45:00.175Z"
   },
   {
    "duration": 152,
    "start_time": "2023-03-19T12:45:00.236Z"
   },
   {
    "duration": 15,
    "start_time": "2023-03-19T12:45:00.390Z"
   },
   {
    "duration": 70,
    "start_time": "2023-03-19T12:45:00.406Z"
   },
   {
    "duration": 69,
    "start_time": "2023-03-19T12:45:00.478Z"
   },
   {
    "duration": 55,
    "start_time": "2023-03-19T12:45:00.554Z"
   },
   {
    "duration": 45,
    "start_time": "2023-03-19T12:45:00.616Z"
   },
   {
    "duration": 72,
    "start_time": "2023-03-19T12:45:00.663Z"
   },
   {
    "duration": 23,
    "start_time": "2023-03-19T12:45:00.737Z"
   },
   {
    "duration": 2030,
    "start_time": "2023-03-19T12:45:00.762Z"
   },
   {
    "duration": 221,
    "start_time": "2023-03-19T12:45:02.803Z"
   },
   {
    "duration": 1376,
    "start_time": "2023-03-19T12:45:03.036Z"
   },
   {
    "duration": 241,
    "start_time": "2023-03-19T12:45:04.414Z"
   },
   {
    "duration": 259,
    "start_time": "2023-03-19T12:45:04.657Z"
   },
   {
    "duration": 382,
    "start_time": "2023-03-19T12:45:04.921Z"
   },
   {
    "duration": 27,
    "start_time": "2023-03-19T12:45:05.310Z"
   },
   {
    "duration": 42,
    "start_time": "2023-03-19T12:45:05.339Z"
   },
   {
    "duration": 145,
    "start_time": "2023-03-19T12:45:05.384Z"
   },
   {
    "duration": 28,
    "start_time": "2023-03-19T12:45:05.534Z"
   },
   {
    "duration": 27,
    "start_time": "2023-03-19T12:45:05.564Z"
   },
   {
    "duration": 71,
    "start_time": "2023-03-19T12:45:05.596Z"
   },
   {
    "duration": 28,
    "start_time": "2023-03-19T12:45:05.669Z"
   },
   {
    "duration": 44,
    "start_time": "2023-03-19T12:45:05.705Z"
   },
   {
    "duration": 86,
    "start_time": "2023-03-19T12:45:05.752Z"
   },
   {
    "duration": 753,
    "start_time": "2023-03-19T12:45:05.841Z"
   },
   {
    "duration": 60,
    "start_time": "2023-03-19T12:45:06.600Z"
   },
   {
    "duration": 56858,
    "start_time": "2023-03-19T12:45:06.662Z"
   },
   {
    "duration": 934,
    "start_time": "2023-03-19T12:46:03.527Z"
   },
   {
    "duration": 14368,
    "start_time": "2023-03-19T12:46:04.464Z"
   },
   {
    "duration": 4799,
    "start_time": "2023-03-19T12:46:18.834Z"
   },
   {
    "duration": 127,
    "start_time": "2023-03-19T12:46:23.691Z"
   },
   {
    "duration": 1405,
    "start_time": "2023-03-19T12:46:23.828Z"
   },
   {
    "duration": 488,
    "start_time": "2023-03-19T12:46:25.237Z"
   },
   {
    "duration": 6,
    "start_time": "2023-03-19T12:46:25.729Z"
   },
   {
    "duration": 3,
    "start_time": "2023-03-19T12:46:25.737Z"
   },
   {
    "duration": 30,
    "start_time": "2023-03-19T12:46:25.741Z"
   },
   {
    "duration": 65,
    "start_time": "2023-03-19T12:46:25.773Z"
   },
   {
    "duration": 14,
    "start_time": "2023-03-19T12:46:25.898Z"
   },
   {
    "duration": 1427,
    "start_time": "2023-03-19T12:46:25.915Z"
   },
   {
    "duration": 488,
    "start_time": "2023-03-19T12:46:27.343Z"
   },
   {
    "duration": 88,
    "start_time": "2023-03-19T12:46:27.833Z"
   },
   {
    "duration": 174,
    "start_time": "2023-03-19T12:46:27.923Z"
   },
   {
    "duration": 1311,
    "start_time": "2023-03-19T12:46:28.100Z"
   },
   {
    "duration": 3496,
    "start_time": "2023-03-19T12:46:29.418Z"
   },
   {
    "duration": 1353,
    "start_time": "2023-03-19T12:46:32.925Z"
   },
   {
    "duration": 1328,
    "start_time": "2023-03-19T12:46:34.280Z"
   },
   {
    "duration": 56,
    "start_time": "2023-03-19T12:46:35.610Z"
   },
   {
    "duration": 1345,
    "start_time": "2023-03-19T12:46:35.669Z"
   },
   {
    "duration": 82,
    "start_time": "2023-03-19T12:46:37.022Z"
   },
   {
    "duration": 323,
    "start_time": "2023-03-19T12:46:37.106Z"
   },
   {
    "duration": 13697,
    "start_time": "2023-03-19T12:47:13.852Z"
   },
   {
    "duration": 13,
    "start_time": "2023-03-19T12:48:27.857Z"
   },
   {
    "duration": 1616,
    "start_time": "2023-03-19T12:48:35.660Z"
   },
   {
    "duration": 70,
    "start_time": "2023-03-19T12:48:37.278Z"
   },
   {
    "duration": 17,
    "start_time": "2023-03-19T12:48:37.350Z"
   },
   {
    "duration": 33,
    "start_time": "2023-03-19T12:48:37.369Z"
   },
   {
    "duration": 10,
    "start_time": "2023-03-19T12:48:37.411Z"
   },
   {
    "duration": 25,
    "start_time": "2023-03-19T12:48:37.423Z"
   },
   {
    "duration": 8,
    "start_time": "2023-03-19T12:48:37.450Z"
   },
   {
    "duration": 7,
    "start_time": "2023-03-19T12:48:37.460Z"
   },
   {
    "duration": 31,
    "start_time": "2023-03-19T12:48:37.469Z"
   },
   {
    "duration": 85,
    "start_time": "2023-03-19T12:48:37.510Z"
   },
   {
    "duration": 16,
    "start_time": "2023-03-19T12:48:37.600Z"
   },
   {
    "duration": 21,
    "start_time": "2023-03-19T12:48:37.618Z"
   },
   {
    "duration": 14,
    "start_time": "2023-03-19T12:48:37.641Z"
   },
   {
    "duration": 13,
    "start_time": "2023-03-19T12:48:37.657Z"
   },
   {
    "duration": 28,
    "start_time": "2023-03-19T12:48:37.672Z"
   },
   {
    "duration": 64,
    "start_time": "2023-03-19T12:48:37.703Z"
   },
   {
    "duration": 13,
    "start_time": "2023-03-19T12:48:37.769Z"
   },
   {
    "duration": 2074,
    "start_time": "2023-03-19T12:48:37.784Z"
   },
   {
    "duration": 169,
    "start_time": "2023-03-19T12:48:39.860Z"
   },
   {
    "duration": 1283,
    "start_time": "2023-03-19T12:48:40.032Z"
   },
   {
    "duration": 227,
    "start_time": "2023-03-19T12:48:41.317Z"
   },
   {
    "duration": 222,
    "start_time": "2023-03-19T12:48:41.546Z"
   },
   {
    "duration": 317,
    "start_time": "2023-03-19T12:48:41.770Z"
   },
   {
    "duration": 34,
    "start_time": "2023-03-19T12:48:42.093Z"
   },
   {
    "duration": 3,
    "start_time": "2023-03-19T12:48:42.134Z"
   },
   {
    "duration": 44,
    "start_time": "2023-03-19T12:48:42.139Z"
   },
   {
    "duration": 15,
    "start_time": "2023-03-19T12:48:42.185Z"
   },
   {
    "duration": 31,
    "start_time": "2023-03-19T12:48:42.205Z"
   },
   {
    "duration": 3,
    "start_time": "2023-03-19T12:48:42.238Z"
   },
   {
    "duration": 14,
    "start_time": "2023-03-19T12:48:42.244Z"
   },
   {
    "duration": 7,
    "start_time": "2023-03-19T12:48:42.260Z"
   },
   {
    "duration": 42,
    "start_time": "2023-03-19T12:48:42.270Z"
   },
   {
    "duration": 595,
    "start_time": "2023-03-19T12:48:42.321Z"
   },
   {
    "duration": 39,
    "start_time": "2023-03-19T12:48:42.918Z"
   },
   {
    "duration": 49977,
    "start_time": "2023-03-19T12:48:42.959Z"
   },
   {
    "duration": 812,
    "start_time": "2023-03-19T12:49:32.938Z"
   },
   {
    "duration": 12247,
    "start_time": "2023-03-19T12:49:33.752Z"
   },
   {
    "duration": 2094,
    "start_time": "2023-03-19T12:49:46.009Z"
   },
   {
    "duration": 195,
    "start_time": "2023-03-19T12:49:48.113Z"
   },
   {
    "duration": 1364,
    "start_time": "2023-03-19T12:49:48.311Z"
   },
   {
    "duration": 678,
    "start_time": "2023-03-19T12:49:49.677Z"
   },
   {
    "duration": 7,
    "start_time": "2023-03-19T12:49:50.357Z"
   },
   {
    "duration": 15,
    "start_time": "2023-03-19T12:49:50.366Z"
   },
   {
    "duration": 74,
    "start_time": "2023-03-19T12:49:50.397Z"
   },
   {
    "duration": 7,
    "start_time": "2023-03-19T12:49:50.474Z"
   },
   {
    "duration": 151,
    "start_time": "2023-03-19T12:49:50.484Z"
   },
   {
    "duration": 1182,
    "start_time": "2023-03-19T12:49:50.638Z"
   },
   {
    "duration": 500,
    "start_time": "2023-03-19T12:49:51.822Z"
   },
   {
    "duration": 188,
    "start_time": "2023-03-19T12:49:52.324Z"
   },
   {
    "duration": 106,
    "start_time": "2023-03-19T12:49:52.526Z"
   },
   {
    "duration": 1138,
    "start_time": "2023-03-19T12:49:52.637Z"
   },
   {
    "duration": 2974,
    "start_time": "2023-03-19T12:49:53.777Z"
   },
   {
    "duration": 1346,
    "start_time": "2023-03-19T12:49:56.791Z"
   },
   {
    "duration": 1200,
    "start_time": "2023-03-19T12:49:58.139Z"
   },
   {
    "duration": 87,
    "start_time": "2023-03-19T12:49:59.341Z"
   },
   {
    "duration": 1193,
    "start_time": "2023-03-19T12:49:59.435Z"
   },
   {
    "duration": 77,
    "start_time": "2023-03-19T12:50:00.631Z"
   },
   {
    "duration": 414,
    "start_time": "2023-03-19T12:50:00.714Z"
   },
   {
    "duration": 13906,
    "start_time": "2023-03-19T12:51:06.564Z"
   },
   {
    "duration": 10,
    "start_time": "2023-03-19T12:52:00.338Z"
   },
   {
    "duration": 1661,
    "start_time": "2023-03-19T12:52:08.442Z"
   },
   {
    "duration": 52,
    "start_time": "2023-03-19T12:52:10.114Z"
   },
   {
    "duration": 28,
    "start_time": "2023-03-19T12:52:10.168Z"
   },
   {
    "duration": 63,
    "start_time": "2023-03-19T12:52:10.200Z"
   },
   {
    "duration": 5,
    "start_time": "2023-03-19T12:52:10.266Z"
   },
   {
    "duration": 31,
    "start_time": "2023-03-19T12:52:10.273Z"
   },
   {
    "duration": 43,
    "start_time": "2023-03-19T12:52:10.306Z"
   },
   {
    "duration": 6,
    "start_time": "2023-03-19T12:52:10.351Z"
   },
   {
    "duration": 11,
    "start_time": "2023-03-19T12:52:10.359Z"
   },
   {
    "duration": 85,
    "start_time": "2023-03-19T12:52:10.372Z"
   },
   {
    "duration": 15,
    "start_time": "2023-03-19T12:52:10.462Z"
   },
   {
    "duration": 5,
    "start_time": "2023-03-19T12:52:10.479Z"
   },
   {
    "duration": 46,
    "start_time": "2023-03-19T12:52:10.490Z"
   },
   {
    "duration": 14,
    "start_time": "2023-03-19T12:52:10.541Z"
   },
   {
    "duration": 16,
    "start_time": "2023-03-19T12:52:10.556Z"
   },
   {
    "duration": 61,
    "start_time": "2023-03-19T12:52:10.574Z"
   },
   {
    "duration": 11,
    "start_time": "2023-03-19T12:52:10.641Z"
   },
   {
    "duration": 2038,
    "start_time": "2023-03-19T12:52:10.654Z"
   },
   {
    "duration": 175,
    "start_time": "2023-03-19T12:52:12.698Z"
   },
   {
    "duration": 1213,
    "start_time": "2023-03-19T12:52:12.874Z"
   },
   {
    "duration": 198,
    "start_time": "2023-03-19T12:52:14.090Z"
   },
   {
    "duration": 236,
    "start_time": "2023-03-19T12:52:14.292Z"
   },
   {
    "duration": 340,
    "start_time": "2023-03-19T12:52:14.530Z"
   },
   {
    "duration": 44,
    "start_time": "2023-03-19T12:52:14.877Z"
   },
   {
    "duration": 28,
    "start_time": "2023-03-19T12:52:14.924Z"
   },
   {
    "duration": 52,
    "start_time": "2023-03-19T12:52:14.955Z"
   },
   {
    "duration": 9,
    "start_time": "2023-03-19T12:52:15.012Z"
   },
   {
    "duration": 31,
    "start_time": "2023-03-19T12:52:15.022Z"
   },
   {
    "duration": 7,
    "start_time": "2023-03-19T12:52:15.055Z"
   },
   {
    "duration": 17,
    "start_time": "2023-03-19T12:52:15.064Z"
   },
   {
    "duration": 12,
    "start_time": "2023-03-19T12:52:15.083Z"
   },
   {
    "duration": 60,
    "start_time": "2023-03-19T12:52:15.102Z"
   },
   {
    "duration": 668,
    "start_time": "2023-03-19T12:52:15.164Z"
   },
   {
    "duration": 46,
    "start_time": "2023-03-19T12:52:15.834Z"
   },
   {
    "duration": 54834,
    "start_time": "2023-03-19T12:52:15.902Z"
   },
   {
    "duration": 921,
    "start_time": "2023-03-19T12:53:10.738Z"
   },
   {
    "duration": 13943,
    "start_time": "2023-03-19T12:53:11.661Z"
   },
   {
    "duration": 3005,
    "start_time": "2023-03-19T12:53:25.613Z"
   },
   {
    "duration": 175,
    "start_time": "2023-03-19T12:53:28.628Z"
   },
   {
    "duration": 1438,
    "start_time": "2023-03-19T12:53:28.814Z"
   },
   {
    "duration": 505,
    "start_time": "2023-03-19T12:53:30.257Z"
   },
   {
    "duration": 6,
    "start_time": "2023-03-19T12:53:30.764Z"
   },
   {
    "duration": 60,
    "start_time": "2023-03-19T12:53:30.772Z"
   },
   {
    "duration": 82,
    "start_time": "2023-03-19T12:53:30.834Z"
   },
   {
    "duration": 13,
    "start_time": "2023-03-19T12:53:30.922Z"
   },
   {
    "duration": 192,
    "start_time": "2023-03-19T12:53:30.937Z"
   },
   {
    "duration": 1353,
    "start_time": "2023-03-19T12:53:31.131Z"
   },
   {
    "duration": 497,
    "start_time": "2023-03-19T12:53:32.486Z"
   },
   {
    "duration": 113,
    "start_time": "2023-03-19T12:53:32.986Z"
   },
   {
    "duration": 155,
    "start_time": "2023-03-19T12:53:33.104Z"
   },
   {
    "duration": 1405,
    "start_time": "2023-03-19T12:53:33.262Z"
   },
   {
    "duration": 3739,
    "start_time": "2023-03-19T12:53:34.669Z"
   },
   {
    "duration": 2718,
    "start_time": "2023-03-19T12:53:38.410Z"
   },
   {
    "duration": 1214,
    "start_time": "2023-03-19T12:53:41.130Z"
   },
   {
    "duration": 65,
    "start_time": "2023-03-19T12:53:42.345Z"
   },
   {
    "duration": 1268,
    "start_time": "2023-03-19T12:53:42.411Z"
   },
   {
    "duration": 58,
    "start_time": "2023-03-19T12:53:43.681Z"
   },
   {
    "duration": 320,
    "start_time": "2023-03-19T12:53:43.793Z"
   },
   {
    "duration": 13572,
    "start_time": "2023-03-19T12:54:01.430Z"
   },
   {
    "duration": 206,
    "start_time": "2023-03-19T12:59:24.081Z"
   },
   {
    "duration": 499,
    "start_time": "2023-03-19T13:01:43.084Z"
   },
   {
    "duration": 9,
    "start_time": "2023-03-19T13:01:45.083Z"
   },
   {
    "duration": 477,
    "start_time": "2023-03-19T13:01:50.586Z"
   },
   {
    "duration": 6,
    "start_time": "2023-03-19T13:01:51.285Z"
   },
   {
    "duration": 463,
    "start_time": "2023-03-19T13:01:55.663Z"
   },
   {
    "duration": 15,
    "start_time": "2023-03-19T13:01:56.610Z"
   },
   {
    "duration": 498,
    "start_time": "2023-03-19T13:02:04.341Z"
   },
   {
    "duration": 6,
    "start_time": "2023-03-19T13:02:05.947Z"
   },
   {
    "duration": 507,
    "start_time": "2023-03-19T13:02:09.662Z"
   },
   {
    "duration": 8,
    "start_time": "2023-03-19T13:02:11.080Z"
   },
   {
    "duration": 1546,
    "start_time": "2023-03-19T13:06:15.120Z"
   },
   {
    "duration": 72,
    "start_time": "2023-03-19T13:06:16.669Z"
   },
   {
    "duration": 23,
    "start_time": "2023-03-19T13:06:16.743Z"
   },
   {
    "duration": 50,
    "start_time": "2023-03-19T13:06:16.770Z"
   },
   {
    "duration": 17,
    "start_time": "2023-03-19T13:06:16.826Z"
   },
   {
    "duration": 35,
    "start_time": "2023-03-19T13:06:16.848Z"
   },
   {
    "duration": 50,
    "start_time": "2023-03-19T13:06:16.885Z"
   },
   {
    "duration": 14,
    "start_time": "2023-03-19T13:06:16.938Z"
   },
   {
    "duration": 39,
    "start_time": "2023-03-19T13:06:16.954Z"
   },
   {
    "duration": 122,
    "start_time": "2023-03-19T13:06:16.998Z"
   },
   {
    "duration": 16,
    "start_time": "2023-03-19T13:06:17.125Z"
   },
   {
    "duration": 40,
    "start_time": "2023-03-19T13:06:17.144Z"
   },
   {
    "duration": 43,
    "start_time": "2023-03-19T13:06:17.186Z"
   },
   {
    "duration": 19,
    "start_time": "2023-03-19T13:06:17.230Z"
   },
   {
    "duration": 24,
    "start_time": "2023-03-19T13:06:17.251Z"
   },
   {
    "duration": 55,
    "start_time": "2023-03-19T13:06:17.277Z"
   },
   {
    "duration": 11,
    "start_time": "2023-03-19T13:06:17.335Z"
   },
   {
    "duration": 2019,
    "start_time": "2023-03-19T13:06:17.347Z"
   },
   {
    "duration": 174,
    "start_time": "2023-03-19T13:06:19.368Z"
   },
   {
    "duration": 1184,
    "start_time": "2023-03-19T13:06:19.544Z"
   },
   {
    "duration": 192,
    "start_time": "2023-03-19T13:06:20.730Z"
   },
   {
    "duration": 201,
    "start_time": "2023-03-19T13:06:20.924Z"
   },
   {
    "duration": 297,
    "start_time": "2023-03-19T13:06:21.127Z"
   },
   {
    "duration": 16,
    "start_time": "2023-03-19T13:06:21.426Z"
   },
   {
    "duration": 3,
    "start_time": "2023-03-19T13:06:21.444Z"
   },
   {
    "duration": 33,
    "start_time": "2023-03-19T13:06:21.448Z"
   },
   {
    "duration": 15,
    "start_time": "2023-03-19T13:06:21.493Z"
   },
   {
    "duration": 16,
    "start_time": "2023-03-19T13:06:21.516Z"
   },
   {
    "duration": 3,
    "start_time": "2023-03-19T13:06:21.534Z"
   },
   {
    "duration": 13,
    "start_time": "2023-03-19T13:06:21.539Z"
   },
   {
    "duration": 14,
    "start_time": "2023-03-19T13:06:21.554Z"
   },
   {
    "duration": 46,
    "start_time": "2023-03-19T13:06:21.570Z"
   },
   {
    "duration": 627,
    "start_time": "2023-03-19T13:06:21.619Z"
   },
   {
    "duration": 69,
    "start_time": "2023-03-19T13:06:22.248Z"
   },
   {
    "duration": 54245,
    "start_time": "2023-03-19T13:06:22.323Z"
   },
   {
    "duration": 950,
    "start_time": "2023-03-19T13:07:16.570Z"
   },
   {
    "duration": 13017,
    "start_time": "2023-03-19T13:07:17.524Z"
   },
   {
    "duration": 3973,
    "start_time": "2023-03-19T13:07:30.543Z"
   },
   {
    "duration": 199,
    "start_time": "2023-03-19T13:07:34.518Z"
   },
   {
    "duration": 1440,
    "start_time": "2023-03-19T13:07:34.722Z"
   },
   {
    "duration": 542,
    "start_time": "2023-03-19T13:07:36.164Z"
   },
   {
    "duration": 17,
    "start_time": "2023-03-19T13:07:36.713Z"
   },
   {
    "duration": 9,
    "start_time": "2023-03-19T13:07:36.731Z"
   },
   {
    "duration": 42,
    "start_time": "2023-03-19T13:07:36.742Z"
   },
   {
    "duration": 41,
    "start_time": "2023-03-19T13:07:36.786Z"
   },
   {
    "duration": 104,
    "start_time": "2023-03-19T13:07:36.908Z"
   },
   {
    "duration": 1221,
    "start_time": "2023-03-19T13:07:37.014Z"
   },
   {
    "duration": 450,
    "start_time": "2023-03-19T13:07:38.237Z"
   },
   {
    "duration": 109,
    "start_time": "2023-03-19T13:07:38.688Z"
   },
   {
    "duration": 136,
    "start_time": "2023-03-19T13:07:38.799Z"
   },
   {
    "duration": 1242,
    "start_time": "2023-03-19T13:07:38.937Z"
   },
   {
    "duration": 4412,
    "start_time": "2023-03-19T13:07:40.181Z"
   },
   {
    "duration": 1295,
    "start_time": "2023-03-19T13:07:44.596Z"
   },
   {
    "duration": 1272,
    "start_time": "2023-03-19T13:07:45.894Z"
   },
   {
    "duration": 69,
    "start_time": "2023-03-19T13:07:47.168Z"
   },
   {
    "duration": 1235,
    "start_time": "2023-03-19T13:07:47.238Z"
   },
   {
    "duration": 121,
    "start_time": "2023-03-19T13:07:48.475Z"
   },
   {
    "duration": 281,
    "start_time": "2023-03-19T13:07:48.598Z"
   },
   {
    "duration": 187,
    "start_time": "2023-03-19T13:07:48.880Z"
   }
  ],
  "kernelspec": {
   "display_name": "Python 3 (ipykernel)",
   "language": "python",
   "name": "python3"
  },
  "language_info": {
   "codemirror_mode": {
    "name": "ipython",
    "version": 3
   },
   "file_extension": ".py",
   "mimetype": "text/x-python",
   "name": "python",
   "nbconvert_exporter": "python",
   "pygments_lexer": "ipython3",
   "version": "3.10.9"
  },
  "toc": {
   "base_numbering": 1,
   "nav_menu": {},
   "number_sections": true,
   "sideBar": true,
   "skip_h1_title": true,
   "title_cell": "Содержание",
   "title_sidebar": "Contents",
   "toc_cell": true,
   "toc_position": {},
   "toc_section_display": true,
   "toc_window_display": true
  }
 },
 "nbformat": 4,
 "nbformat_minor": 2
}

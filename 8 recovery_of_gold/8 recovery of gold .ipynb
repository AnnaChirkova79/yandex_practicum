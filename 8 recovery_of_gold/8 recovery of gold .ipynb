{
 "cells": [
  {
   "cell_type": "markdown",
   "metadata": {
    "toc": true
   },
   "source": [
    "<h1>Содержание<span class=\"tocSkip\"></span></h1>\n",
    "<div class=\"toc\"><ul class=\"toc-item\"><li><span><a href=\"#Подготовка-данных\" data-toc-modified-id=\"Подготовка-данных-1\"><span class=\"toc-item-num\">1&nbsp;&nbsp;</span>Подготовка данных</a></span><ul class=\"toc-item\"><li><span><a href=\"#Изучение-данных\" data-toc-modified-id=\"Изучение-данных-1.1\"><span class=\"toc-item-num\">1.1&nbsp;&nbsp;</span>Изучение данных</a></span></li><li><span><a href=\"#Проверим,-что-эффективность-обогащения-рассчитана-правильно\" data-toc-modified-id=\"Проверим,-что-эффективность-обогащения-рассчитана-правильно-1.2\"><span class=\"toc-item-num\">1.2&nbsp;&nbsp;</span>Проверим, что эффективность обогащения рассчитана правильно</a></span></li><li><span><a href=\"#Проанализируем-признаки,-недоступные-в-тестовой-выборке.\" data-toc-modified-id=\"Проанализируем-признаки,-недоступные-в-тестовой-выборке.-1.3\"><span class=\"toc-item-num\">1.3&nbsp;&nbsp;</span>Проанализируем признаки, недоступные в тестовой выборке.</a></span></li><li><span><a href=\"#Предобработка-данных\" data-toc-modified-id=\"Предобработка-данных-1.4\"><span class=\"toc-item-num\">1.4&nbsp;&nbsp;</span>Предобработка данных</a></span></li></ul></li><li><span><a href=\"#Анализ-данных\" data-toc-modified-id=\"Анализ-данных-2\"><span class=\"toc-item-num\">2&nbsp;&nbsp;</span>Анализ данных</a></span><ul class=\"toc-item\"><li><span><a href=\"#Изменение-концентрация-металлов-(Au,-Ag,-Pb)-на-различных-этапах-очистки\" data-toc-modified-id=\"Изменение-концентрация-металлов-(Au,-Ag,-Pb)-на-различных-этапах-очистки-2.1\"><span class=\"toc-item-num\">2.1&nbsp;&nbsp;</span>Изменение концентрация металлов (Au, Ag, Pb) на различных этапах очистки</a></span></li><li><span><a href=\"#Сравнение-распределения-размеров-гранул-сырья-на-обучающей-и-тестовой-выборках\" data-toc-modified-id=\"Сравнение-распределения-размеров-гранул-сырья-на-обучающей-и-тестовой-выборках-2.2\"><span class=\"toc-item-num\">2.2&nbsp;&nbsp;</span>Сравнение распределения размеров гранул сырья на обучающей и тестовой выборках</a></span></li><li><span><a href=\"#Исследование-суммарной-концентрации-всех-веществ-на-разных-стадиях.\" data-toc-modified-id=\"Исследование-суммарной-концентрации-всех-веществ-на-разных-стадиях.-2.3\"><span class=\"toc-item-num\">2.3&nbsp;&nbsp;</span>Исследование суммарной концентрации всех веществ на разных стадиях.</a></span></li></ul></li><li><span><a href=\"#Модель\" data-toc-modified-id=\"Модель-3\"><span class=\"toc-item-num\">3&nbsp;&nbsp;</span>Модель</a></span><ul class=\"toc-item\"><li><span><a href=\"#Функция-для-вычисления-итоговой-sMAPE.\" data-toc-modified-id=\"Функция-для-вычисления-итоговой-sMAPE.-3.1\"><span class=\"toc-item-num\">3.1&nbsp;&nbsp;</span>Функция для вычисления итоговой sMAPE.</a></span></li><li><span><a href=\"#Обучение-разных-моделей-и-оценка-их-качества-кросс-валидацией\" data-toc-modified-id=\"Обучение-разных-моделей-и-оценка-их-качества-кросс-валидацией-3.2\"><span class=\"toc-item-num\">3.2&nbsp;&nbsp;</span>Обучение разных моделей и оценка их качества кросс-валидацией</a></span></li></ul></li><li><span><a href=\"#Чек-лист-готовности-проекта\" data-toc-modified-id=\"Чек-лист-готовности-проекта-4\"><span class=\"toc-item-num\">4&nbsp;&nbsp;</span>Чек-лист готовности проекта</a></span></li></ul></div>"
   ]
  },
  {
   "cell_type": "markdown",
   "metadata": {},
   "source": [
    "# Восстановление золота из руды"
   ]
  },
  {
   "cell_type": "markdown",
   "metadata": {},
   "source": [
    "Подготовьте прототип модели машинного обучения для «Цифры». Компания разрабатывает решения для эффективной работы промышленных предприятий.\n",
    "\n",
    "Модель должна предсказать коэффициент восстановления золота из золотосодержащей руды. Используйте данные с параметрами добычи и очистки. \n",
    "\n",
    "Модель поможет оптимизировать производство, чтобы не запускать предприятие с убыточными характеристиками.\n",
    "\n",
    "Вам нужно:\n",
    "\n",
    "1. Подготовить данные;\n",
    "2. Провести исследовательский анализ данных;\n",
    "3. Построить и обучить модель.\n",
    "\n",
    "Чтобы выполнить проект, обращайтесь к библиотекам *pandas*, *matplotlib* и *sklearn.* Вам поможет их документация.\n",
    "\n",
    "**Технологический процесс**\n",
    "\n",
    "Когда добытая руда проходит первичную обработку, получается дроблёная смесь. Её отправляют на флотацию (обогащение) и двухэтапную очистку.\n",
    "1. Флотация: во флотационную установку подаётся смесь золотосодержащей руды. После обогащения получается черновой концентрат и «отвальные хвосты», то есть остатки продукта с низкой концентрацией ценных металлов. На стабильность этого процесса влияет непостоянное и неоптимальное физико-химическое состояние флотационной пульпы (смеси твёрдых частиц и жидкости).\n",
    "2. Очистка. Черновой концентрат проходит две очистки. На выходе получается финальный концентрат и новые отвальные хвосты.\n",
    "\n",
    "**Описание данных**\n",
    "\n",
    "Технологический процесс\n",
    " - Rougher feed — исходное сырье\n",
    " - Rougher additions (или reagent additions) — флотационные реагенты: Xanthate, Sulphate, Depressant:\n",
    "     - Xanthate **— ксантогенат (промотер, или активатор флотации);\n",
    "     - Sulphate — сульфат (на данном производстве сульфид натрия);\n",
    "     - Depressant — депрессант (силикат натрия).\n",
    " - Rougher process (англ. «грубый процесс») — флотация\n",
    " - Rougher tails — отвальные хвосты\n",
    " - Float banks — флотационная установка\n",
    " - Cleaner process — очистка\n",
    " - Rougher Au — черновой концентрат золота\n",
    " - Final Au — финальный концентрат золота\n",
    " \n",
    "Параметры этапов\n",
    " - air amount — объём воздуха\n",
    " - fluid levels — уровень жидкости\n",
    " - feed size — размер гранул сырья\n",
    " - feed rate — скорость подачи\n",
    " \n",
    "Наименование признаков\n",
    "\n",
    "Наименование признаков должно быть такое:\n",
    "[этап].[тип_параметра].[название_параметра]\n",
    "\n",
    "Пример: rougher.input.feed_ag\n",
    "\n",
    "Возможные значения для блока [этап]:\n",
    " - rougher — флотация\n",
    " - primary_cleaner — первичная очистка\n",
    " - secondary_cleaner — вторичная очистка\n",
    " - final — финальные характеристики\n",
    "\n",
    "Возможные значения для блока [тип_параметра]:\n",
    " - input — параметры сырья\n",
    " - output — параметры продукта\n",
    " - state — параметры, характеризующие текущее состояние этапа\n",
    " - calculation — расчётные характеристики\n",
    "\n",
    "Нужно спрогнозировать сразу две величины:\n",
    " - эффективность обогащения чернового концентрата **rougher.output.recovery**;\n",
    " - эффективность обогащения финального концентрата **final.output.recovery**.\n"
   ]
  },
  {
   "cell_type": "markdown",
   "metadata": {},
   "source": [
    "## Подготовка данных"
   ]
  },
  {
   "cell_type": "markdown",
   "metadata": {},
   "source": [
    "Импортируем все необходимые библиотеки"
   ]
  },
  {
   "cell_type": "code",
   "execution_count": 1,
   "metadata": {},
   "outputs": [],
   "source": [
    "import pandas as pd\n",
    "\n",
    "import matplotlib.pyplot as plt\n",
    "import seaborn as sns\n",
    "import numpy as np\n",
    "from scipy import stats as st\n",
    "\n",
    "from sklearn.model_selection import train_test_split\n",
    "from sklearn.linear_model import LinearRegression\n",
    "from sklearn.tree import DecisionTreeRegressor\n",
    "from sklearn.ensemble import RandomForestRegressor\n",
    "from sklearn.ensemble import RandomForestClassifier\n",
    "from sklearn.metrics import mean_absolute_error\n",
    "from sklearn.metrics import mean_squared_error\n",
    "from sklearn.metrics import make_scorer\n",
    "\n",
    "from sklearn.tree import DecisionTreeClassifier\n",
    "from sklearn.metrics import accuracy_score\n",
    "from sklearn.linear_model import LogisticRegression\n",
    "from sklearn.linear_model import LinearRegression\n",
    "from sklearn.dummy import DummyRegressor\n",
    "\n",
    "from sklearn.metrics import precision_score\n",
    "from sklearn.metrics import recall_score\n",
    "from sklearn.metrics import f1_score\n",
    "from sklearn.model_selection import cross_val_score\n",
    "\n",
    "from sklearn.preprocessing import StandardScaler\n",
    "from sklearn.utils import shuffle\n",
    "from sklearn.metrics import roc_curve\n",
    "from sklearn.metrics import roc_auc_score\n",
    "from sklearn.metrics import r2_score\n",
    "\n",
    "import warnings\n",
    "#убираем системные предупреждения\n",
    "warnings.filterwarnings('ignore')"
   ]
  },
  {
   "cell_type": "markdown",
   "metadata": {},
   "source": [
    "### Изучение данных"
   ]
  },
  {
   "cell_type": "markdown",
   "metadata": {},
   "source": [
    "Считаем данные из csv-файлов в датафрейм и сохраним в переменные "
   ]
  },
  {
   "cell_type": "code",
   "execution_count": 2,
   "metadata": {},
   "outputs": [],
   "source": [
    "data_train = pd.read_csv('/datasets/gold_recovery_train_new.csv')\n",
    "data_test= pd.read_csv('/datasets/gold_recovery_test_new.csv')\n",
    "data_full = pd.read_csv('/datasets/gold_recovery_full_new.csv')"
   ]
  },
  {
   "cell_type": "code",
   "execution_count": 3,
   "metadata": {
    "scrolled": true
   },
   "outputs": [
    {
     "data": {
      "text/html": [
       "<div>\n",
       "<style scoped>\n",
       "    .dataframe tbody tr th:only-of-type {\n",
       "        vertical-align: middle;\n",
       "    }\n",
       "\n",
       "    .dataframe tbody tr th {\n",
       "        vertical-align: top;\n",
       "    }\n",
       "\n",
       "    .dataframe thead th {\n",
       "        text-align: right;\n",
       "    }\n",
       "</style>\n",
       "<table border=\"1\" class=\"dataframe\">\n",
       "  <thead>\n",
       "    <tr style=\"text-align: right;\">\n",
       "      <th></th>\n",
       "      <th>date</th>\n",
       "      <th>final.output.concentrate_ag</th>\n",
       "      <th>final.output.concentrate_pb</th>\n",
       "      <th>final.output.concentrate_sol</th>\n",
       "      <th>final.output.concentrate_au</th>\n",
       "      <th>final.output.recovery</th>\n",
       "      <th>final.output.tail_ag</th>\n",
       "      <th>final.output.tail_pb</th>\n",
       "      <th>final.output.tail_sol</th>\n",
       "      <th>final.output.tail_au</th>\n",
       "      <th>...</th>\n",
       "      <th>secondary_cleaner.state.floatbank4_a_air</th>\n",
       "      <th>secondary_cleaner.state.floatbank4_a_level</th>\n",
       "      <th>secondary_cleaner.state.floatbank4_b_air</th>\n",
       "      <th>secondary_cleaner.state.floatbank4_b_level</th>\n",
       "      <th>secondary_cleaner.state.floatbank5_a_air</th>\n",
       "      <th>secondary_cleaner.state.floatbank5_a_level</th>\n",
       "      <th>secondary_cleaner.state.floatbank5_b_air</th>\n",
       "      <th>secondary_cleaner.state.floatbank5_b_level</th>\n",
       "      <th>secondary_cleaner.state.floatbank6_a_air</th>\n",
       "      <th>secondary_cleaner.state.floatbank6_a_level</th>\n",
       "    </tr>\n",
       "  </thead>\n",
       "  <tbody>\n",
       "    <tr>\n",
       "      <th>0</th>\n",
       "      <td>2016-01-15 00:00:00</td>\n",
       "      <td>6.055403</td>\n",
       "      <td>9.889648</td>\n",
       "      <td>5.507324</td>\n",
       "      <td>42.192020</td>\n",
       "      <td>70.541216</td>\n",
       "      <td>10.411962</td>\n",
       "      <td>0.895447</td>\n",
       "      <td>16.904297</td>\n",
       "      <td>2.143149</td>\n",
       "      <td>...</td>\n",
       "      <td>14.016835</td>\n",
       "      <td>-502.488007</td>\n",
       "      <td>12.099931</td>\n",
       "      <td>-504.715942</td>\n",
       "      <td>9.925633</td>\n",
       "      <td>-498.310211</td>\n",
       "      <td>8.079666</td>\n",
       "      <td>-500.470978</td>\n",
       "      <td>14.151341</td>\n",
       "      <td>-605.841980</td>\n",
       "    </tr>\n",
       "    <tr>\n",
       "      <th>1</th>\n",
       "      <td>2016-01-15 01:00:00</td>\n",
       "      <td>6.029369</td>\n",
       "      <td>9.968944</td>\n",
       "      <td>5.257781</td>\n",
       "      <td>42.701629</td>\n",
       "      <td>69.266198</td>\n",
       "      <td>10.462676</td>\n",
       "      <td>0.927452</td>\n",
       "      <td>16.634514</td>\n",
       "      <td>2.224930</td>\n",
       "      <td>...</td>\n",
       "      <td>13.992281</td>\n",
       "      <td>-505.503262</td>\n",
       "      <td>11.950531</td>\n",
       "      <td>-501.331529</td>\n",
       "      <td>10.039245</td>\n",
       "      <td>-500.169983</td>\n",
       "      <td>7.984757</td>\n",
       "      <td>-500.582168</td>\n",
       "      <td>13.998353</td>\n",
       "      <td>-599.787184</td>\n",
       "    </tr>\n",
       "    <tr>\n",
       "      <th>2</th>\n",
       "      <td>2016-01-15 02:00:00</td>\n",
       "      <td>6.055926</td>\n",
       "      <td>10.213995</td>\n",
       "      <td>5.383759</td>\n",
       "      <td>42.657501</td>\n",
       "      <td>68.116445</td>\n",
       "      <td>10.507046</td>\n",
       "      <td>0.953716</td>\n",
       "      <td>16.208849</td>\n",
       "      <td>2.257889</td>\n",
       "      <td>...</td>\n",
       "      <td>14.015015</td>\n",
       "      <td>-502.520901</td>\n",
       "      <td>11.912783</td>\n",
       "      <td>-501.133383</td>\n",
       "      <td>10.070913</td>\n",
       "      <td>-500.129135</td>\n",
       "      <td>8.013877</td>\n",
       "      <td>-500.517572</td>\n",
       "      <td>14.028663</td>\n",
       "      <td>-601.427363</td>\n",
       "    </tr>\n",
       "    <tr>\n",
       "      <th>3</th>\n",
       "      <td>2016-01-15 03:00:00</td>\n",
       "      <td>6.047977</td>\n",
       "      <td>9.977019</td>\n",
       "      <td>4.858634</td>\n",
       "      <td>42.689819</td>\n",
       "      <td>68.347543</td>\n",
       "      <td>10.422762</td>\n",
       "      <td>0.883763</td>\n",
       "      <td>16.532835</td>\n",
       "      <td>2.146849</td>\n",
       "      <td>...</td>\n",
       "      <td>14.036510</td>\n",
       "      <td>-500.857308</td>\n",
       "      <td>11.999550</td>\n",
       "      <td>-501.193686</td>\n",
       "      <td>9.970366</td>\n",
       "      <td>-499.201640</td>\n",
       "      <td>7.977324</td>\n",
       "      <td>-500.255908</td>\n",
       "      <td>14.005551</td>\n",
       "      <td>-599.996129</td>\n",
       "    </tr>\n",
       "    <tr>\n",
       "      <th>4</th>\n",
       "      <td>2016-01-15 04:00:00</td>\n",
       "      <td>6.148599</td>\n",
       "      <td>10.142511</td>\n",
       "      <td>4.939416</td>\n",
       "      <td>42.774141</td>\n",
       "      <td>66.927016</td>\n",
       "      <td>10.360302</td>\n",
       "      <td>0.792826</td>\n",
       "      <td>16.525686</td>\n",
       "      <td>2.055292</td>\n",
       "      <td>...</td>\n",
       "      <td>14.027298</td>\n",
       "      <td>-499.838632</td>\n",
       "      <td>11.953070</td>\n",
       "      <td>-501.053894</td>\n",
       "      <td>9.925709</td>\n",
       "      <td>-501.686727</td>\n",
       "      <td>7.894242</td>\n",
       "      <td>-500.356035</td>\n",
       "      <td>13.996647</td>\n",
       "      <td>-601.496691</td>\n",
       "    </tr>\n",
       "  </tbody>\n",
       "</table>\n",
       "<p>5 rows × 87 columns</p>\n",
       "</div>"
      ],
      "text/plain": [
       "                  date  final.output.concentrate_ag  \\\n",
       "0  2016-01-15 00:00:00                     6.055403   \n",
       "1  2016-01-15 01:00:00                     6.029369   \n",
       "2  2016-01-15 02:00:00                     6.055926   \n",
       "3  2016-01-15 03:00:00                     6.047977   \n",
       "4  2016-01-15 04:00:00                     6.148599   \n",
       "\n",
       "   final.output.concentrate_pb  final.output.concentrate_sol  \\\n",
       "0                     9.889648                      5.507324   \n",
       "1                     9.968944                      5.257781   \n",
       "2                    10.213995                      5.383759   \n",
       "3                     9.977019                      4.858634   \n",
       "4                    10.142511                      4.939416   \n",
       "\n",
       "   final.output.concentrate_au  final.output.recovery  final.output.tail_ag  \\\n",
       "0                    42.192020              70.541216             10.411962   \n",
       "1                    42.701629              69.266198             10.462676   \n",
       "2                    42.657501              68.116445             10.507046   \n",
       "3                    42.689819              68.347543             10.422762   \n",
       "4                    42.774141              66.927016             10.360302   \n",
       "\n",
       "   final.output.tail_pb  final.output.tail_sol  final.output.tail_au  ...  \\\n",
       "0              0.895447              16.904297              2.143149  ...   \n",
       "1              0.927452              16.634514              2.224930  ...   \n",
       "2              0.953716              16.208849              2.257889  ...   \n",
       "3              0.883763              16.532835              2.146849  ...   \n",
       "4              0.792826              16.525686              2.055292  ...   \n",
       "\n",
       "   secondary_cleaner.state.floatbank4_a_air  \\\n",
       "0                                 14.016835   \n",
       "1                                 13.992281   \n",
       "2                                 14.015015   \n",
       "3                                 14.036510   \n",
       "4                                 14.027298   \n",
       "\n",
       "   secondary_cleaner.state.floatbank4_a_level  \\\n",
       "0                                 -502.488007   \n",
       "1                                 -505.503262   \n",
       "2                                 -502.520901   \n",
       "3                                 -500.857308   \n",
       "4                                 -499.838632   \n",
       "\n",
       "   secondary_cleaner.state.floatbank4_b_air  \\\n",
       "0                                 12.099931   \n",
       "1                                 11.950531   \n",
       "2                                 11.912783   \n",
       "3                                 11.999550   \n",
       "4                                 11.953070   \n",
       "\n",
       "   secondary_cleaner.state.floatbank4_b_level  \\\n",
       "0                                 -504.715942   \n",
       "1                                 -501.331529   \n",
       "2                                 -501.133383   \n",
       "3                                 -501.193686   \n",
       "4                                 -501.053894   \n",
       "\n",
       "   secondary_cleaner.state.floatbank5_a_air  \\\n",
       "0                                  9.925633   \n",
       "1                                 10.039245   \n",
       "2                                 10.070913   \n",
       "3                                  9.970366   \n",
       "4                                  9.925709   \n",
       "\n",
       "   secondary_cleaner.state.floatbank5_a_level  \\\n",
       "0                                 -498.310211   \n",
       "1                                 -500.169983   \n",
       "2                                 -500.129135   \n",
       "3                                 -499.201640   \n",
       "4                                 -501.686727   \n",
       "\n",
       "   secondary_cleaner.state.floatbank5_b_air  \\\n",
       "0                                  8.079666   \n",
       "1                                  7.984757   \n",
       "2                                  8.013877   \n",
       "3                                  7.977324   \n",
       "4                                  7.894242   \n",
       "\n",
       "   secondary_cleaner.state.floatbank5_b_level  \\\n",
       "0                                 -500.470978   \n",
       "1                                 -500.582168   \n",
       "2                                 -500.517572   \n",
       "3                                 -500.255908   \n",
       "4                                 -500.356035   \n",
       "\n",
       "   secondary_cleaner.state.floatbank6_a_air  \\\n",
       "0                                 14.151341   \n",
       "1                                 13.998353   \n",
       "2                                 14.028663   \n",
       "3                                 14.005551   \n",
       "4                                 13.996647   \n",
       "\n",
       "   secondary_cleaner.state.floatbank6_a_level  \n",
       "0                                 -605.841980  \n",
       "1                                 -599.787184  \n",
       "2                                 -601.427363  \n",
       "3                                 -599.996129  \n",
       "4                                 -601.496691  \n",
       "\n",
       "[5 rows x 87 columns]"
      ]
     },
     "metadata": {},
     "output_type": "display_data"
    },
    {
     "data": {
      "text/html": [
       "<div>\n",
       "<style scoped>\n",
       "    .dataframe tbody tr th:only-of-type {\n",
       "        vertical-align: middle;\n",
       "    }\n",
       "\n",
       "    .dataframe tbody tr th {\n",
       "        vertical-align: top;\n",
       "    }\n",
       "\n",
       "    .dataframe thead th {\n",
       "        text-align: right;\n",
       "    }\n",
       "</style>\n",
       "<table border=\"1\" class=\"dataframe\">\n",
       "  <thead>\n",
       "    <tr style=\"text-align: right;\">\n",
       "      <th></th>\n",
       "      <th>date</th>\n",
       "      <th>primary_cleaner.input.sulfate</th>\n",
       "      <th>primary_cleaner.input.depressant</th>\n",
       "      <th>primary_cleaner.input.feed_size</th>\n",
       "      <th>primary_cleaner.input.xanthate</th>\n",
       "      <th>primary_cleaner.state.floatbank8_a_air</th>\n",
       "      <th>primary_cleaner.state.floatbank8_a_level</th>\n",
       "      <th>primary_cleaner.state.floatbank8_b_air</th>\n",
       "      <th>primary_cleaner.state.floatbank8_b_level</th>\n",
       "      <th>primary_cleaner.state.floatbank8_c_air</th>\n",
       "      <th>...</th>\n",
       "      <th>secondary_cleaner.state.floatbank4_a_air</th>\n",
       "      <th>secondary_cleaner.state.floatbank4_a_level</th>\n",
       "      <th>secondary_cleaner.state.floatbank4_b_air</th>\n",
       "      <th>secondary_cleaner.state.floatbank4_b_level</th>\n",
       "      <th>secondary_cleaner.state.floatbank5_a_air</th>\n",
       "      <th>secondary_cleaner.state.floatbank5_a_level</th>\n",
       "      <th>secondary_cleaner.state.floatbank5_b_air</th>\n",
       "      <th>secondary_cleaner.state.floatbank5_b_level</th>\n",
       "      <th>secondary_cleaner.state.floatbank6_a_air</th>\n",
       "      <th>secondary_cleaner.state.floatbank6_a_level</th>\n",
       "    </tr>\n",
       "  </thead>\n",
       "  <tbody>\n",
       "    <tr>\n",
       "      <th>0</th>\n",
       "      <td>2016-09-01 00:59:59</td>\n",
       "      <td>210.800909</td>\n",
       "      <td>14.993118</td>\n",
       "      <td>8.080000</td>\n",
       "      <td>1.005021</td>\n",
       "      <td>1398.981301</td>\n",
       "      <td>-500.225577</td>\n",
       "      <td>1399.144926</td>\n",
       "      <td>-499.919735</td>\n",
       "      <td>1400.102998</td>\n",
       "      <td>...</td>\n",
       "      <td>12.023554</td>\n",
       "      <td>-497.795834</td>\n",
       "      <td>8.016656</td>\n",
       "      <td>-501.289139</td>\n",
       "      <td>7.946562</td>\n",
       "      <td>-432.317850</td>\n",
       "      <td>4.872511</td>\n",
       "      <td>-500.037437</td>\n",
       "      <td>26.705889</td>\n",
       "      <td>-499.709414</td>\n",
       "    </tr>\n",
       "    <tr>\n",
       "      <th>1</th>\n",
       "      <td>2016-09-01 01:59:59</td>\n",
       "      <td>215.392455</td>\n",
       "      <td>14.987471</td>\n",
       "      <td>8.080000</td>\n",
       "      <td>0.990469</td>\n",
       "      <td>1398.777912</td>\n",
       "      <td>-500.057435</td>\n",
       "      <td>1398.055362</td>\n",
       "      <td>-499.778182</td>\n",
       "      <td>1396.151033</td>\n",
       "      <td>...</td>\n",
       "      <td>12.058140</td>\n",
       "      <td>-498.695773</td>\n",
       "      <td>8.130979</td>\n",
       "      <td>-499.634209</td>\n",
       "      <td>7.958270</td>\n",
       "      <td>-525.839648</td>\n",
       "      <td>4.878850</td>\n",
       "      <td>-500.162375</td>\n",
       "      <td>25.019940</td>\n",
       "      <td>-499.819438</td>\n",
       "    </tr>\n",
       "    <tr>\n",
       "      <th>2</th>\n",
       "      <td>2016-09-01 02:59:59</td>\n",
       "      <td>215.259946</td>\n",
       "      <td>12.884934</td>\n",
       "      <td>7.786667</td>\n",
       "      <td>0.996043</td>\n",
       "      <td>1398.493666</td>\n",
       "      <td>-500.868360</td>\n",
       "      <td>1398.860436</td>\n",
       "      <td>-499.764529</td>\n",
       "      <td>1398.075709</td>\n",
       "      <td>...</td>\n",
       "      <td>11.962366</td>\n",
       "      <td>-498.767484</td>\n",
       "      <td>8.096893</td>\n",
       "      <td>-500.827423</td>\n",
       "      <td>8.071056</td>\n",
       "      <td>-500.801673</td>\n",
       "      <td>4.905125</td>\n",
       "      <td>-499.828510</td>\n",
       "      <td>24.994862</td>\n",
       "      <td>-500.622559</td>\n",
       "    </tr>\n",
       "    <tr>\n",
       "      <th>3</th>\n",
       "      <td>2016-09-01 03:59:59</td>\n",
       "      <td>215.336236</td>\n",
       "      <td>12.006805</td>\n",
       "      <td>7.640000</td>\n",
       "      <td>0.863514</td>\n",
       "      <td>1399.618111</td>\n",
       "      <td>-498.863574</td>\n",
       "      <td>1397.440120</td>\n",
       "      <td>-499.211024</td>\n",
       "      <td>1400.129303</td>\n",
       "      <td>...</td>\n",
       "      <td>12.033091</td>\n",
       "      <td>-498.350935</td>\n",
       "      <td>8.074946</td>\n",
       "      <td>-499.474407</td>\n",
       "      <td>7.897085</td>\n",
       "      <td>-500.868509</td>\n",
       "      <td>4.931400</td>\n",
       "      <td>-499.963623</td>\n",
       "      <td>24.948919</td>\n",
       "      <td>-498.709987</td>\n",
       "    </tr>\n",
       "    <tr>\n",
       "      <th>4</th>\n",
       "      <td>2016-09-01 04:59:59</td>\n",
       "      <td>199.099327</td>\n",
       "      <td>10.682530</td>\n",
       "      <td>7.530000</td>\n",
       "      <td>0.805575</td>\n",
       "      <td>1401.268123</td>\n",
       "      <td>-500.808305</td>\n",
       "      <td>1398.128818</td>\n",
       "      <td>-499.504543</td>\n",
       "      <td>1402.172226</td>\n",
       "      <td>...</td>\n",
       "      <td>12.025367</td>\n",
       "      <td>-500.786497</td>\n",
       "      <td>8.054678</td>\n",
       "      <td>-500.397500</td>\n",
       "      <td>8.107890</td>\n",
       "      <td>-509.526725</td>\n",
       "      <td>4.957674</td>\n",
       "      <td>-500.360026</td>\n",
       "      <td>25.003331</td>\n",
       "      <td>-500.856333</td>\n",
       "    </tr>\n",
       "  </tbody>\n",
       "</table>\n",
       "<p>5 rows × 53 columns</p>\n",
       "</div>"
      ],
      "text/plain": [
       "                  date  primary_cleaner.input.sulfate  \\\n",
       "0  2016-09-01 00:59:59                     210.800909   \n",
       "1  2016-09-01 01:59:59                     215.392455   \n",
       "2  2016-09-01 02:59:59                     215.259946   \n",
       "3  2016-09-01 03:59:59                     215.336236   \n",
       "4  2016-09-01 04:59:59                     199.099327   \n",
       "\n",
       "   primary_cleaner.input.depressant  primary_cleaner.input.feed_size  \\\n",
       "0                         14.993118                         8.080000   \n",
       "1                         14.987471                         8.080000   \n",
       "2                         12.884934                         7.786667   \n",
       "3                         12.006805                         7.640000   \n",
       "4                         10.682530                         7.530000   \n",
       "\n",
       "   primary_cleaner.input.xanthate  primary_cleaner.state.floatbank8_a_air  \\\n",
       "0                        1.005021                             1398.981301   \n",
       "1                        0.990469                             1398.777912   \n",
       "2                        0.996043                             1398.493666   \n",
       "3                        0.863514                             1399.618111   \n",
       "4                        0.805575                             1401.268123   \n",
       "\n",
       "   primary_cleaner.state.floatbank8_a_level  \\\n",
       "0                               -500.225577   \n",
       "1                               -500.057435   \n",
       "2                               -500.868360   \n",
       "3                               -498.863574   \n",
       "4                               -500.808305   \n",
       "\n",
       "   primary_cleaner.state.floatbank8_b_air  \\\n",
       "0                             1399.144926   \n",
       "1                             1398.055362   \n",
       "2                             1398.860436   \n",
       "3                             1397.440120   \n",
       "4                             1398.128818   \n",
       "\n",
       "   primary_cleaner.state.floatbank8_b_level  \\\n",
       "0                               -499.919735   \n",
       "1                               -499.778182   \n",
       "2                               -499.764529   \n",
       "3                               -499.211024   \n",
       "4                               -499.504543   \n",
       "\n",
       "   primary_cleaner.state.floatbank8_c_air  ...  \\\n",
       "0                             1400.102998  ...   \n",
       "1                             1396.151033  ...   \n",
       "2                             1398.075709  ...   \n",
       "3                             1400.129303  ...   \n",
       "4                             1402.172226  ...   \n",
       "\n",
       "   secondary_cleaner.state.floatbank4_a_air  \\\n",
       "0                                 12.023554   \n",
       "1                                 12.058140   \n",
       "2                                 11.962366   \n",
       "3                                 12.033091   \n",
       "4                                 12.025367   \n",
       "\n",
       "   secondary_cleaner.state.floatbank4_a_level  \\\n",
       "0                                 -497.795834   \n",
       "1                                 -498.695773   \n",
       "2                                 -498.767484   \n",
       "3                                 -498.350935   \n",
       "4                                 -500.786497   \n",
       "\n",
       "   secondary_cleaner.state.floatbank4_b_air  \\\n",
       "0                                  8.016656   \n",
       "1                                  8.130979   \n",
       "2                                  8.096893   \n",
       "3                                  8.074946   \n",
       "4                                  8.054678   \n",
       "\n",
       "   secondary_cleaner.state.floatbank4_b_level  \\\n",
       "0                                 -501.289139   \n",
       "1                                 -499.634209   \n",
       "2                                 -500.827423   \n",
       "3                                 -499.474407   \n",
       "4                                 -500.397500   \n",
       "\n",
       "   secondary_cleaner.state.floatbank5_a_air  \\\n",
       "0                                  7.946562   \n",
       "1                                  7.958270   \n",
       "2                                  8.071056   \n",
       "3                                  7.897085   \n",
       "4                                  8.107890   \n",
       "\n",
       "   secondary_cleaner.state.floatbank5_a_level  \\\n",
       "0                                 -432.317850   \n",
       "1                                 -525.839648   \n",
       "2                                 -500.801673   \n",
       "3                                 -500.868509   \n",
       "4                                 -509.526725   \n",
       "\n",
       "   secondary_cleaner.state.floatbank5_b_air  \\\n",
       "0                                  4.872511   \n",
       "1                                  4.878850   \n",
       "2                                  4.905125   \n",
       "3                                  4.931400   \n",
       "4                                  4.957674   \n",
       "\n",
       "   secondary_cleaner.state.floatbank5_b_level  \\\n",
       "0                                 -500.037437   \n",
       "1                                 -500.162375   \n",
       "2                                 -499.828510   \n",
       "3                                 -499.963623   \n",
       "4                                 -500.360026   \n",
       "\n",
       "   secondary_cleaner.state.floatbank6_a_air  \\\n",
       "0                                 26.705889   \n",
       "1                                 25.019940   \n",
       "2                                 24.994862   \n",
       "3                                 24.948919   \n",
       "4                                 25.003331   \n",
       "\n",
       "   secondary_cleaner.state.floatbank6_a_level  \n",
       "0                                 -499.709414  \n",
       "1                                 -499.819438  \n",
       "2                                 -500.622559  \n",
       "3                                 -498.709987  \n",
       "4                                 -500.856333  \n",
       "\n",
       "[5 rows x 53 columns]"
      ]
     },
     "metadata": {},
     "output_type": "display_data"
    },
    {
     "data": {
      "text/html": [
       "<div>\n",
       "<style scoped>\n",
       "    .dataframe tbody tr th:only-of-type {\n",
       "        vertical-align: middle;\n",
       "    }\n",
       "\n",
       "    .dataframe tbody tr th {\n",
       "        vertical-align: top;\n",
       "    }\n",
       "\n",
       "    .dataframe thead th {\n",
       "        text-align: right;\n",
       "    }\n",
       "</style>\n",
       "<table border=\"1\" class=\"dataframe\">\n",
       "  <thead>\n",
       "    <tr style=\"text-align: right;\">\n",
       "      <th></th>\n",
       "      <th>date</th>\n",
       "      <th>final.output.concentrate_ag</th>\n",
       "      <th>final.output.concentrate_pb</th>\n",
       "      <th>final.output.concentrate_sol</th>\n",
       "      <th>final.output.concentrate_au</th>\n",
       "      <th>final.output.recovery</th>\n",
       "      <th>final.output.tail_ag</th>\n",
       "      <th>final.output.tail_pb</th>\n",
       "      <th>final.output.tail_sol</th>\n",
       "      <th>final.output.tail_au</th>\n",
       "      <th>...</th>\n",
       "      <th>secondary_cleaner.state.floatbank4_a_air</th>\n",
       "      <th>secondary_cleaner.state.floatbank4_a_level</th>\n",
       "      <th>secondary_cleaner.state.floatbank4_b_air</th>\n",
       "      <th>secondary_cleaner.state.floatbank4_b_level</th>\n",
       "      <th>secondary_cleaner.state.floatbank5_a_air</th>\n",
       "      <th>secondary_cleaner.state.floatbank5_a_level</th>\n",
       "      <th>secondary_cleaner.state.floatbank5_b_air</th>\n",
       "      <th>secondary_cleaner.state.floatbank5_b_level</th>\n",
       "      <th>secondary_cleaner.state.floatbank6_a_air</th>\n",
       "      <th>secondary_cleaner.state.floatbank6_a_level</th>\n",
       "    </tr>\n",
       "  </thead>\n",
       "  <tbody>\n",
       "    <tr>\n",
       "      <th>0</th>\n",
       "      <td>2016-01-15 00:00:00</td>\n",
       "      <td>6.055403</td>\n",
       "      <td>9.889648</td>\n",
       "      <td>5.507324</td>\n",
       "      <td>42.192020</td>\n",
       "      <td>70.541216</td>\n",
       "      <td>10.411962</td>\n",
       "      <td>0.895447</td>\n",
       "      <td>16.904297</td>\n",
       "      <td>2.143149</td>\n",
       "      <td>...</td>\n",
       "      <td>14.016835</td>\n",
       "      <td>-502.488007</td>\n",
       "      <td>12.099931</td>\n",
       "      <td>-504.715942</td>\n",
       "      <td>9.925633</td>\n",
       "      <td>-498.310211</td>\n",
       "      <td>8.079666</td>\n",
       "      <td>-500.470978</td>\n",
       "      <td>14.151341</td>\n",
       "      <td>-605.841980</td>\n",
       "    </tr>\n",
       "    <tr>\n",
       "      <th>1</th>\n",
       "      <td>2016-01-15 01:00:00</td>\n",
       "      <td>6.029369</td>\n",
       "      <td>9.968944</td>\n",
       "      <td>5.257781</td>\n",
       "      <td>42.701629</td>\n",
       "      <td>69.266198</td>\n",
       "      <td>10.462676</td>\n",
       "      <td>0.927452</td>\n",
       "      <td>16.634514</td>\n",
       "      <td>2.224930</td>\n",
       "      <td>...</td>\n",
       "      <td>13.992281</td>\n",
       "      <td>-505.503262</td>\n",
       "      <td>11.950531</td>\n",
       "      <td>-501.331529</td>\n",
       "      <td>10.039245</td>\n",
       "      <td>-500.169983</td>\n",
       "      <td>7.984757</td>\n",
       "      <td>-500.582168</td>\n",
       "      <td>13.998353</td>\n",
       "      <td>-599.787184</td>\n",
       "    </tr>\n",
       "    <tr>\n",
       "      <th>2</th>\n",
       "      <td>2016-01-15 02:00:00</td>\n",
       "      <td>6.055926</td>\n",
       "      <td>10.213995</td>\n",
       "      <td>5.383759</td>\n",
       "      <td>42.657501</td>\n",
       "      <td>68.116445</td>\n",
       "      <td>10.507046</td>\n",
       "      <td>0.953716</td>\n",
       "      <td>16.208849</td>\n",
       "      <td>2.257889</td>\n",
       "      <td>...</td>\n",
       "      <td>14.015015</td>\n",
       "      <td>-502.520901</td>\n",
       "      <td>11.912783</td>\n",
       "      <td>-501.133383</td>\n",
       "      <td>10.070913</td>\n",
       "      <td>-500.129135</td>\n",
       "      <td>8.013877</td>\n",
       "      <td>-500.517572</td>\n",
       "      <td>14.028663</td>\n",
       "      <td>-601.427363</td>\n",
       "    </tr>\n",
       "    <tr>\n",
       "      <th>3</th>\n",
       "      <td>2016-01-15 03:00:00</td>\n",
       "      <td>6.047977</td>\n",
       "      <td>9.977019</td>\n",
       "      <td>4.858634</td>\n",
       "      <td>42.689819</td>\n",
       "      <td>68.347543</td>\n",
       "      <td>10.422762</td>\n",
       "      <td>0.883763</td>\n",
       "      <td>16.532835</td>\n",
       "      <td>2.146849</td>\n",
       "      <td>...</td>\n",
       "      <td>14.036510</td>\n",
       "      <td>-500.857308</td>\n",
       "      <td>11.999550</td>\n",
       "      <td>-501.193686</td>\n",
       "      <td>9.970366</td>\n",
       "      <td>-499.201640</td>\n",
       "      <td>7.977324</td>\n",
       "      <td>-500.255908</td>\n",
       "      <td>14.005551</td>\n",
       "      <td>-599.996129</td>\n",
       "    </tr>\n",
       "    <tr>\n",
       "      <th>4</th>\n",
       "      <td>2016-01-15 04:00:00</td>\n",
       "      <td>6.148599</td>\n",
       "      <td>10.142511</td>\n",
       "      <td>4.939416</td>\n",
       "      <td>42.774141</td>\n",
       "      <td>66.927016</td>\n",
       "      <td>10.360302</td>\n",
       "      <td>0.792826</td>\n",
       "      <td>16.525686</td>\n",
       "      <td>2.055292</td>\n",
       "      <td>...</td>\n",
       "      <td>14.027298</td>\n",
       "      <td>-499.838632</td>\n",
       "      <td>11.953070</td>\n",
       "      <td>-501.053894</td>\n",
       "      <td>9.925709</td>\n",
       "      <td>-501.686727</td>\n",
       "      <td>7.894242</td>\n",
       "      <td>-500.356035</td>\n",
       "      <td>13.996647</td>\n",
       "      <td>-601.496691</td>\n",
       "    </tr>\n",
       "  </tbody>\n",
       "</table>\n",
       "<p>5 rows × 87 columns</p>\n",
       "</div>"
      ],
      "text/plain": [
       "                  date  final.output.concentrate_ag  \\\n",
       "0  2016-01-15 00:00:00                     6.055403   \n",
       "1  2016-01-15 01:00:00                     6.029369   \n",
       "2  2016-01-15 02:00:00                     6.055926   \n",
       "3  2016-01-15 03:00:00                     6.047977   \n",
       "4  2016-01-15 04:00:00                     6.148599   \n",
       "\n",
       "   final.output.concentrate_pb  final.output.concentrate_sol  \\\n",
       "0                     9.889648                      5.507324   \n",
       "1                     9.968944                      5.257781   \n",
       "2                    10.213995                      5.383759   \n",
       "3                     9.977019                      4.858634   \n",
       "4                    10.142511                      4.939416   \n",
       "\n",
       "   final.output.concentrate_au  final.output.recovery  final.output.tail_ag  \\\n",
       "0                    42.192020              70.541216             10.411962   \n",
       "1                    42.701629              69.266198             10.462676   \n",
       "2                    42.657501              68.116445             10.507046   \n",
       "3                    42.689819              68.347543             10.422762   \n",
       "4                    42.774141              66.927016             10.360302   \n",
       "\n",
       "   final.output.tail_pb  final.output.tail_sol  final.output.tail_au  ...  \\\n",
       "0              0.895447              16.904297              2.143149  ...   \n",
       "1              0.927452              16.634514              2.224930  ...   \n",
       "2              0.953716              16.208849              2.257889  ...   \n",
       "3              0.883763              16.532835              2.146849  ...   \n",
       "4              0.792826              16.525686              2.055292  ...   \n",
       "\n",
       "   secondary_cleaner.state.floatbank4_a_air  \\\n",
       "0                                 14.016835   \n",
       "1                                 13.992281   \n",
       "2                                 14.015015   \n",
       "3                                 14.036510   \n",
       "4                                 14.027298   \n",
       "\n",
       "   secondary_cleaner.state.floatbank4_a_level  \\\n",
       "0                                 -502.488007   \n",
       "1                                 -505.503262   \n",
       "2                                 -502.520901   \n",
       "3                                 -500.857308   \n",
       "4                                 -499.838632   \n",
       "\n",
       "   secondary_cleaner.state.floatbank4_b_air  \\\n",
       "0                                 12.099931   \n",
       "1                                 11.950531   \n",
       "2                                 11.912783   \n",
       "3                                 11.999550   \n",
       "4                                 11.953070   \n",
       "\n",
       "   secondary_cleaner.state.floatbank4_b_level  \\\n",
       "0                                 -504.715942   \n",
       "1                                 -501.331529   \n",
       "2                                 -501.133383   \n",
       "3                                 -501.193686   \n",
       "4                                 -501.053894   \n",
       "\n",
       "   secondary_cleaner.state.floatbank5_a_air  \\\n",
       "0                                  9.925633   \n",
       "1                                 10.039245   \n",
       "2                                 10.070913   \n",
       "3                                  9.970366   \n",
       "4                                  9.925709   \n",
       "\n",
       "   secondary_cleaner.state.floatbank5_a_level  \\\n",
       "0                                 -498.310211   \n",
       "1                                 -500.169983   \n",
       "2                                 -500.129135   \n",
       "3                                 -499.201640   \n",
       "4                                 -501.686727   \n",
       "\n",
       "   secondary_cleaner.state.floatbank5_b_air  \\\n",
       "0                                  8.079666   \n",
       "1                                  7.984757   \n",
       "2                                  8.013877   \n",
       "3                                  7.977324   \n",
       "4                                  7.894242   \n",
       "\n",
       "   secondary_cleaner.state.floatbank5_b_level  \\\n",
       "0                                 -500.470978   \n",
       "1                                 -500.582168   \n",
       "2                                 -500.517572   \n",
       "3                                 -500.255908   \n",
       "4                                 -500.356035   \n",
       "\n",
       "   secondary_cleaner.state.floatbank6_a_air  \\\n",
       "0                                 14.151341   \n",
       "1                                 13.998353   \n",
       "2                                 14.028663   \n",
       "3                                 14.005551   \n",
       "4                                 13.996647   \n",
       "\n",
       "   secondary_cleaner.state.floatbank6_a_level  \n",
       "0                                 -605.841980  \n",
       "1                                 -599.787184  \n",
       "2                                 -601.427363  \n",
       "3                                 -599.996129  \n",
       "4                                 -601.496691  \n",
       "\n",
       "[5 rows x 87 columns]"
      ]
     },
     "metadata": {},
     "output_type": "display_data"
    }
   ],
   "source": [
    "display(data_train.head())\n",
    "display(data_test.head())\n",
    "display(data_full.head())"
   ]
  },
  {
   "cell_type": "code",
   "execution_count": 4,
   "metadata": {},
   "outputs": [
    {
     "name": "stdout",
     "output_type": "stream",
     "text": [
      "<class 'pandas.core.frame.DataFrame'>\n",
      "RangeIndex: 14149 entries, 0 to 14148\n",
      "Data columns (total 87 columns):\n",
      " #   Column                                              Non-Null Count  Dtype  \n",
      "---  ------                                              --------------  -----  \n",
      " 0   date                                                14149 non-null  object \n",
      " 1   final.output.concentrate_ag                         14148 non-null  float64\n",
      " 2   final.output.concentrate_pb                         14148 non-null  float64\n",
      " 3   final.output.concentrate_sol                        13938 non-null  float64\n",
      " 4   final.output.concentrate_au                         14149 non-null  float64\n",
      " 5   final.output.recovery                               14149 non-null  float64\n",
      " 6   final.output.tail_ag                                14149 non-null  float64\n",
      " 7   final.output.tail_pb                                14049 non-null  float64\n",
      " 8   final.output.tail_sol                               14144 non-null  float64\n",
      " 9   final.output.tail_au                                14149 non-null  float64\n",
      " 10  primary_cleaner.input.sulfate                       14129 non-null  float64\n",
      " 11  primary_cleaner.input.depressant                    14117 non-null  float64\n",
      " 12  primary_cleaner.input.feed_size                     14149 non-null  float64\n",
      " 13  primary_cleaner.input.xanthate                      14049 non-null  float64\n",
      " 14  primary_cleaner.output.concentrate_ag               14149 non-null  float64\n",
      " 15  primary_cleaner.output.concentrate_pb               14063 non-null  float64\n",
      " 16  primary_cleaner.output.concentrate_sol              13863 non-null  float64\n",
      " 17  primary_cleaner.output.concentrate_au               14149 non-null  float64\n",
      " 18  primary_cleaner.output.tail_ag                      14148 non-null  float64\n",
      " 19  primary_cleaner.output.tail_pb                      14134 non-null  float64\n",
      " 20  primary_cleaner.output.tail_sol                     14103 non-null  float64\n",
      " 21  primary_cleaner.output.tail_au                      14149 non-null  float64\n",
      " 22  primary_cleaner.state.floatbank8_a_air              14145 non-null  float64\n",
      " 23  primary_cleaner.state.floatbank8_a_level            14148 non-null  float64\n",
      " 24  primary_cleaner.state.floatbank8_b_air              14145 non-null  float64\n",
      " 25  primary_cleaner.state.floatbank8_b_level            14148 non-null  float64\n",
      " 26  primary_cleaner.state.floatbank8_c_air              14147 non-null  float64\n",
      " 27  primary_cleaner.state.floatbank8_c_level            14148 non-null  float64\n",
      " 28  primary_cleaner.state.floatbank8_d_air              14146 non-null  float64\n",
      " 29  primary_cleaner.state.floatbank8_d_level            14148 non-null  float64\n",
      " 30  rougher.calculation.sulfate_to_au_concentrate       14148 non-null  float64\n",
      " 31  rougher.calculation.floatbank10_sulfate_to_au_feed  14148 non-null  float64\n",
      " 32  rougher.calculation.floatbank11_sulfate_to_au_feed  14148 non-null  float64\n",
      " 33  rougher.calculation.au_pb_ratio                     14149 non-null  float64\n",
      " 34  rougher.input.feed_ag                               14149 non-null  float64\n",
      " 35  rougher.input.feed_pb                               14049 non-null  float64\n",
      " 36  rougher.input.feed_rate                             14141 non-null  float64\n",
      " 37  rougher.input.feed_size                             14005 non-null  float64\n",
      " 38  rougher.input.feed_sol                              14071 non-null  float64\n",
      " 39  rougher.input.feed_au                               14149 non-null  float64\n",
      " 40  rougher.input.floatbank10_sulfate                   14120 non-null  float64\n",
      " 41  rougher.input.floatbank10_xanthate                  14141 non-null  float64\n",
      " 42  rougher.input.floatbank11_sulfate                   14113 non-null  float64\n",
      " 43  rougher.input.floatbank11_xanthate                  13721 non-null  float64\n",
      " 44  rougher.output.concentrate_ag                       14149 non-null  float64\n",
      " 45  rougher.output.concentrate_pb                       14149 non-null  float64\n",
      " 46  rougher.output.concentrate_sol                      14127 non-null  float64\n",
      " 47  rougher.output.concentrate_au                       14149 non-null  float64\n",
      " 48  rougher.output.recovery                             14149 non-null  float64\n",
      " 49  rougher.output.tail_ag                              14148 non-null  float64\n",
      " 50  rougher.output.tail_pb                              14149 non-null  float64\n",
      " 51  rougher.output.tail_sol                             14149 non-null  float64\n",
      " 52  rougher.output.tail_au                              14149 non-null  float64\n",
      " 53  rougher.state.floatbank10_a_air                     14148 non-null  float64\n",
      " 54  rougher.state.floatbank10_a_level                   14148 non-null  float64\n",
      " 55  rougher.state.floatbank10_b_air                     14148 non-null  float64\n",
      " 56  rougher.state.floatbank10_b_level                   14148 non-null  float64\n",
      " 57  rougher.state.floatbank10_c_air                     14148 non-null  float64\n",
      " 58  rougher.state.floatbank10_c_level                   14148 non-null  float64\n",
      " 59  rougher.state.floatbank10_d_air                     14149 non-null  float64\n",
      " 60  rougher.state.floatbank10_d_level                   14149 non-null  float64\n",
      " 61  rougher.state.floatbank10_e_air                     13713 non-null  float64\n",
      " 62  rougher.state.floatbank10_e_level                   14149 non-null  float64\n",
      " 63  rougher.state.floatbank10_f_air                     14149 non-null  float64\n",
      " 64  rougher.state.floatbank10_f_level                   14149 non-null  float64\n",
      " 65  secondary_cleaner.output.tail_ag                    14147 non-null  float64\n",
      " 66  secondary_cleaner.output.tail_pb                    14139 non-null  float64\n",
      " 67  secondary_cleaner.output.tail_sol                   12544 non-null  float64\n",
      " 68  secondary_cleaner.output.tail_au                    14149 non-null  float64\n",
      " 69  secondary_cleaner.state.floatbank2_a_air            13932 non-null  float64\n",
      " 70  secondary_cleaner.state.floatbank2_a_level          14148 non-null  float64\n",
      " 71  secondary_cleaner.state.floatbank2_b_air            14128 non-null  float64\n",
      " 72  secondary_cleaner.state.floatbank2_b_level          14148 non-null  float64\n",
      " 73  secondary_cleaner.state.floatbank3_a_air            14145 non-null  float64\n",
      " 74  secondary_cleaner.state.floatbank3_a_level          14148 non-null  float64\n",
      " 75  secondary_cleaner.state.floatbank3_b_air            14148 non-null  float64\n",
      " 76  secondary_cleaner.state.floatbank3_b_level          14148 non-null  float64\n",
      " 77  secondary_cleaner.state.floatbank4_a_air            14143 non-null  float64\n",
      " 78  secondary_cleaner.state.floatbank4_a_level          14148 non-null  float64\n",
      " 79  secondary_cleaner.state.floatbank4_b_air            14148 non-null  float64\n",
      " 80  secondary_cleaner.state.floatbank4_b_level          14148 non-null  float64\n",
      " 81  secondary_cleaner.state.floatbank5_a_air            14148 non-null  float64\n",
      " 82  secondary_cleaner.state.floatbank5_a_level          14148 non-null  float64\n",
      " 83  secondary_cleaner.state.floatbank5_b_air            14148 non-null  float64\n",
      " 84  secondary_cleaner.state.floatbank5_b_level          14148 non-null  float64\n",
      " 85  secondary_cleaner.state.floatbank6_a_air            14147 non-null  float64\n",
      " 86  secondary_cleaner.state.floatbank6_a_level          14148 non-null  float64\n",
      "dtypes: float64(86), object(1)\n",
      "memory usage: 9.4+ MB\n"
     ]
    },
    {
     "data": {
      "text/plain": [
       "None"
      ]
     },
     "metadata": {},
     "output_type": "display_data"
    },
    {
     "name": "stdout",
     "output_type": "stream",
     "text": [
      "<class 'pandas.core.frame.DataFrame'>\n",
      "RangeIndex: 5290 entries, 0 to 5289\n",
      "Data columns (total 53 columns):\n",
      " #   Column                                      Non-Null Count  Dtype  \n",
      "---  ------                                      --------------  -----  \n",
      " 0   date                                        5290 non-null   object \n",
      " 1   primary_cleaner.input.sulfate               5286 non-null   float64\n",
      " 2   primary_cleaner.input.depressant            5285 non-null   float64\n",
      " 3   primary_cleaner.input.feed_size             5290 non-null   float64\n",
      " 4   primary_cleaner.input.xanthate              5286 non-null   float64\n",
      " 5   primary_cleaner.state.floatbank8_a_air      5290 non-null   float64\n",
      " 6   primary_cleaner.state.floatbank8_a_level    5290 non-null   float64\n",
      " 7   primary_cleaner.state.floatbank8_b_air      5290 non-null   float64\n",
      " 8   primary_cleaner.state.floatbank8_b_level    5290 non-null   float64\n",
      " 9   primary_cleaner.state.floatbank8_c_air      5290 non-null   float64\n",
      " 10  primary_cleaner.state.floatbank8_c_level    5290 non-null   float64\n",
      " 11  primary_cleaner.state.floatbank8_d_air      5290 non-null   float64\n",
      " 12  primary_cleaner.state.floatbank8_d_level    5290 non-null   float64\n",
      " 13  rougher.input.feed_ag                       5290 non-null   float64\n",
      " 14  rougher.input.feed_pb                       5290 non-null   float64\n",
      " 15  rougher.input.feed_rate                     5287 non-null   float64\n",
      " 16  rougher.input.feed_size                     5289 non-null   float64\n",
      " 17  rougher.input.feed_sol                      5269 non-null   float64\n",
      " 18  rougher.input.feed_au                       5290 non-null   float64\n",
      " 19  rougher.input.floatbank10_sulfate           5285 non-null   float64\n",
      " 20  rougher.input.floatbank10_xanthate          5290 non-null   float64\n",
      " 21  rougher.input.floatbank11_sulfate           5282 non-null   float64\n",
      " 22  rougher.input.floatbank11_xanthate          5265 non-null   float64\n",
      " 23  rougher.state.floatbank10_a_air             5290 non-null   float64\n",
      " 24  rougher.state.floatbank10_a_level           5290 non-null   float64\n",
      " 25  rougher.state.floatbank10_b_air             5290 non-null   float64\n",
      " 26  rougher.state.floatbank10_b_level           5290 non-null   float64\n",
      " 27  rougher.state.floatbank10_c_air             5290 non-null   float64\n",
      " 28  rougher.state.floatbank10_c_level           5290 non-null   float64\n",
      " 29  rougher.state.floatbank10_d_air             5290 non-null   float64\n",
      " 30  rougher.state.floatbank10_d_level           5290 non-null   float64\n",
      " 31  rougher.state.floatbank10_e_air             5290 non-null   float64\n",
      " 32  rougher.state.floatbank10_e_level           5290 non-null   float64\n",
      " 33  rougher.state.floatbank10_f_air             5290 non-null   float64\n",
      " 34  rougher.state.floatbank10_f_level           5290 non-null   float64\n",
      " 35  secondary_cleaner.state.floatbank2_a_air    5287 non-null   float64\n",
      " 36  secondary_cleaner.state.floatbank2_a_level  5290 non-null   float64\n",
      " 37  secondary_cleaner.state.floatbank2_b_air    5288 non-null   float64\n",
      " 38  secondary_cleaner.state.floatbank2_b_level  5290 non-null   float64\n",
      " 39  secondary_cleaner.state.floatbank3_a_air    5281 non-null   float64\n",
      " 40  secondary_cleaner.state.floatbank3_a_level  5290 non-null   float64\n",
      " 41  secondary_cleaner.state.floatbank3_b_air    5290 non-null   float64\n",
      " 42  secondary_cleaner.state.floatbank3_b_level  5290 non-null   float64\n",
      " 43  secondary_cleaner.state.floatbank4_a_air    5290 non-null   float64\n",
      " 44  secondary_cleaner.state.floatbank4_a_level  5290 non-null   float64\n",
      " 45  secondary_cleaner.state.floatbank4_b_air    5290 non-null   float64\n",
      " 46  secondary_cleaner.state.floatbank4_b_level  5290 non-null   float64\n",
      " 47  secondary_cleaner.state.floatbank5_a_air    5290 non-null   float64\n",
      " 48  secondary_cleaner.state.floatbank5_a_level  5290 non-null   float64\n",
      " 49  secondary_cleaner.state.floatbank5_b_air    5290 non-null   float64\n",
      " 50  secondary_cleaner.state.floatbank5_b_level  5290 non-null   float64\n",
      " 51  secondary_cleaner.state.floatbank6_a_air    5290 non-null   float64\n",
      " 52  secondary_cleaner.state.floatbank6_a_level  5290 non-null   float64\n",
      "dtypes: float64(52), object(1)\n",
      "memory usage: 2.1+ MB\n"
     ]
    },
    {
     "data": {
      "text/plain": [
       "None"
      ]
     },
     "metadata": {},
     "output_type": "display_data"
    },
    {
     "name": "stdout",
     "output_type": "stream",
     "text": [
      "<class 'pandas.core.frame.DataFrame'>\n",
      "RangeIndex: 19439 entries, 0 to 19438\n",
      "Data columns (total 87 columns):\n",
      " #   Column                                              Non-Null Count  Dtype  \n",
      "---  ------                                              --------------  -----  \n",
      " 0   date                                                19439 non-null  object \n",
      " 1   final.output.concentrate_ag                         19438 non-null  float64\n",
      " 2   final.output.concentrate_pb                         19438 non-null  float64\n",
      " 3   final.output.concentrate_sol                        19228 non-null  float64\n",
      " 4   final.output.concentrate_au                         19439 non-null  float64\n",
      " 5   final.output.recovery                               19439 non-null  float64\n",
      " 6   final.output.tail_ag                                19438 non-null  float64\n",
      " 7   final.output.tail_pb                                19338 non-null  float64\n",
      " 8   final.output.tail_sol                               19433 non-null  float64\n",
      " 9   final.output.tail_au                                19439 non-null  float64\n",
      " 10  primary_cleaner.input.sulfate                       19415 non-null  float64\n",
      " 11  primary_cleaner.input.depressant                    19402 non-null  float64\n",
      " 12  primary_cleaner.input.feed_size                     19439 non-null  float64\n",
      " 13  primary_cleaner.input.xanthate                      19335 non-null  float64\n",
      " 14  primary_cleaner.output.concentrate_ag               19439 non-null  float64\n",
      " 15  primary_cleaner.output.concentrate_pb               19323 non-null  float64\n",
      " 16  primary_cleaner.output.concentrate_sol              19069 non-null  float64\n",
      " 17  primary_cleaner.output.concentrate_au               19439 non-null  float64\n",
      " 18  primary_cleaner.output.tail_ag                      19435 non-null  float64\n",
      " 19  primary_cleaner.output.tail_pb                      19418 non-null  float64\n",
      " 20  primary_cleaner.output.tail_sol                     19377 non-null  float64\n",
      " 21  primary_cleaner.output.tail_au                      19439 non-null  float64\n",
      " 22  primary_cleaner.state.floatbank8_a_air              19435 non-null  float64\n",
      " 23  primary_cleaner.state.floatbank8_a_level            19438 non-null  float64\n",
      " 24  primary_cleaner.state.floatbank8_b_air              19435 non-null  float64\n",
      " 25  primary_cleaner.state.floatbank8_b_level            19438 non-null  float64\n",
      " 26  primary_cleaner.state.floatbank8_c_air              19437 non-null  float64\n",
      " 27  primary_cleaner.state.floatbank8_c_level            19438 non-null  float64\n",
      " 28  primary_cleaner.state.floatbank8_d_air              19436 non-null  float64\n",
      " 29  primary_cleaner.state.floatbank8_d_level            19438 non-null  float64\n",
      " 30  rougher.calculation.sulfate_to_au_concentrate       19437 non-null  float64\n",
      " 31  rougher.calculation.floatbank10_sulfate_to_au_feed  19437 non-null  float64\n",
      " 32  rougher.calculation.floatbank11_sulfate_to_au_feed  19437 non-null  float64\n",
      " 33  rougher.calculation.au_pb_ratio                     19439 non-null  float64\n",
      " 34  rougher.input.feed_ag                               19439 non-null  float64\n",
      " 35  rougher.input.feed_pb                               19339 non-null  float64\n",
      " 36  rougher.input.feed_rate                             19428 non-null  float64\n",
      " 37  rougher.input.feed_size                             19294 non-null  float64\n",
      " 38  rougher.input.feed_sol                              19340 non-null  float64\n",
      " 39  rougher.input.feed_au                               19439 non-null  float64\n",
      " 40  rougher.input.floatbank10_sulfate                   19405 non-null  float64\n",
      " 41  rougher.input.floatbank10_xanthate                  19431 non-null  float64\n",
      " 42  rougher.input.floatbank11_sulfate                   19395 non-null  float64\n",
      " 43  rougher.input.floatbank11_xanthate                  18986 non-null  float64\n",
      " 44  rougher.output.concentrate_ag                       19439 non-null  float64\n",
      " 45  rougher.output.concentrate_pb                       19439 non-null  float64\n",
      " 46  rougher.output.concentrate_sol                      19416 non-null  float64\n",
      " 47  rougher.output.concentrate_au                       19439 non-null  float64\n",
      " 48  rougher.output.recovery                             19439 non-null  float64\n",
      " 49  rougher.output.tail_ag                              19438 non-null  float64\n",
      " 50  rougher.output.tail_pb                              19439 non-null  float64\n",
      " 51  rougher.output.tail_sol                             19439 non-null  float64\n",
      " 52  rougher.output.tail_au                              19439 non-null  float64\n",
      " 53  rougher.state.floatbank10_a_air                     19438 non-null  float64\n",
      " 54  rougher.state.floatbank10_a_level                   19438 non-null  float64\n",
      " 55  rougher.state.floatbank10_b_air                     19438 non-null  float64\n",
      " 56  rougher.state.floatbank10_b_level                   19438 non-null  float64\n",
      " 57  rougher.state.floatbank10_c_air                     19438 non-null  float64\n",
      " 58  rougher.state.floatbank10_c_level                   19438 non-null  float64\n",
      " 59  rougher.state.floatbank10_d_air                     19439 non-null  float64\n",
      " 60  rougher.state.floatbank10_d_level                   19439 non-null  float64\n",
      " 61  rougher.state.floatbank10_e_air                     19003 non-null  float64\n",
      " 62  rougher.state.floatbank10_e_level                   19439 non-null  float64\n",
      " 63  rougher.state.floatbank10_f_air                     19439 non-null  float64\n",
      " 64  rougher.state.floatbank10_f_level                   19439 non-null  float64\n",
      " 65  secondary_cleaner.output.tail_ag                    19437 non-null  float64\n",
      " 66  secondary_cleaner.output.tail_pb                    19427 non-null  float64\n",
      " 67  secondary_cleaner.output.tail_sol                   17691 non-null  float64\n",
      " 68  secondary_cleaner.output.tail_au                    19439 non-null  float64\n",
      " 69  secondary_cleaner.state.floatbank2_a_air            19219 non-null  float64\n",
      " 70  secondary_cleaner.state.floatbank2_a_level          19438 non-null  float64\n",
      " 71  secondary_cleaner.state.floatbank2_b_air            19416 non-null  float64\n",
      " 72  secondary_cleaner.state.floatbank2_b_level          19438 non-null  float64\n",
      " 73  secondary_cleaner.state.floatbank3_a_air            19426 non-null  float64\n",
      " 74  secondary_cleaner.state.floatbank3_a_level          19438 non-null  float64\n",
      " 75  secondary_cleaner.state.floatbank3_b_air            19438 non-null  float64\n",
      " 76  secondary_cleaner.state.floatbank3_b_level          19438 non-null  float64\n",
      " 77  secondary_cleaner.state.floatbank4_a_air            19433 non-null  float64\n",
      " 78  secondary_cleaner.state.floatbank4_a_level          19438 non-null  float64\n",
      " 79  secondary_cleaner.state.floatbank4_b_air            19438 non-null  float64\n",
      " 80  secondary_cleaner.state.floatbank4_b_level          19438 non-null  float64\n",
      " 81  secondary_cleaner.state.floatbank5_a_air            19438 non-null  float64\n",
      " 82  secondary_cleaner.state.floatbank5_a_level          19438 non-null  float64\n",
      " 83  secondary_cleaner.state.floatbank5_b_air            19438 non-null  float64\n",
      " 84  secondary_cleaner.state.floatbank5_b_level          19438 non-null  float64\n",
      " 85  secondary_cleaner.state.floatbank6_a_air            19437 non-null  float64\n",
      " 86  secondary_cleaner.state.floatbank6_a_level          19438 non-null  float64\n",
      "dtypes: float64(86), object(1)\n",
      "memory usage: 12.9+ MB\n"
     ]
    },
    {
     "data": {
      "text/plain": [
       "None"
      ]
     },
     "metadata": {},
     "output_type": "display_data"
    }
   ],
   "source": [
    "display(data_train.info())\n",
    "display(data_test.info())\n",
    "display(data_full.info())"
   ]
  },
  {
   "cell_type": "code",
   "execution_count": 5,
   "metadata": {
    "scrolled": true
   },
   "outputs": [
    {
     "data": {
      "text/html": [
       "<div>\n",
       "<style scoped>\n",
       "    .dataframe tbody tr th:only-of-type {\n",
       "        vertical-align: middle;\n",
       "    }\n",
       "\n",
       "    .dataframe tbody tr th {\n",
       "        vertical-align: top;\n",
       "    }\n",
       "\n",
       "    .dataframe thead th {\n",
       "        text-align: right;\n",
       "    }\n",
       "</style>\n",
       "<table border=\"1\" class=\"dataframe\">\n",
       "  <thead>\n",
       "    <tr style=\"text-align: right;\">\n",
       "      <th></th>\n",
       "      <th>final.output.concentrate_ag</th>\n",
       "      <th>final.output.concentrate_pb</th>\n",
       "      <th>final.output.concentrate_sol</th>\n",
       "      <th>final.output.concentrate_au</th>\n",
       "      <th>final.output.recovery</th>\n",
       "      <th>final.output.tail_ag</th>\n",
       "      <th>final.output.tail_pb</th>\n",
       "      <th>final.output.tail_sol</th>\n",
       "      <th>final.output.tail_au</th>\n",
       "      <th>primary_cleaner.input.sulfate</th>\n",
       "      <th>...</th>\n",
       "      <th>secondary_cleaner.state.floatbank4_a_air</th>\n",
       "      <th>secondary_cleaner.state.floatbank4_a_level</th>\n",
       "      <th>secondary_cleaner.state.floatbank4_b_air</th>\n",
       "      <th>secondary_cleaner.state.floatbank4_b_level</th>\n",
       "      <th>secondary_cleaner.state.floatbank5_a_air</th>\n",
       "      <th>secondary_cleaner.state.floatbank5_a_level</th>\n",
       "      <th>secondary_cleaner.state.floatbank5_b_air</th>\n",
       "      <th>secondary_cleaner.state.floatbank5_b_level</th>\n",
       "      <th>secondary_cleaner.state.floatbank6_a_air</th>\n",
       "      <th>secondary_cleaner.state.floatbank6_a_level</th>\n",
       "    </tr>\n",
       "  </thead>\n",
       "  <tbody>\n",
       "    <tr>\n",
       "      <th>count</th>\n",
       "      <td>14148.000000</td>\n",
       "      <td>14148.000000</td>\n",
       "      <td>13938.000000</td>\n",
       "      <td>14149.000000</td>\n",
       "      <td>14149.000000</td>\n",
       "      <td>14149.000000</td>\n",
       "      <td>14049.000000</td>\n",
       "      <td>14144.000000</td>\n",
       "      <td>14149.000000</td>\n",
       "      <td>14129.000000</td>\n",
       "      <td>...</td>\n",
       "      <td>14143.000000</td>\n",
       "      <td>14148.000000</td>\n",
       "      <td>14148.000000</td>\n",
       "      <td>14148.000000</td>\n",
       "      <td>14148.000000</td>\n",
       "      <td>14148.000000</td>\n",
       "      <td>14148.000000</td>\n",
       "      <td>14148.000000</td>\n",
       "      <td>14147.000000</td>\n",
       "      <td>14148.000000</td>\n",
       "    </tr>\n",
       "    <tr>\n",
       "      <th>mean</th>\n",
       "      <td>5.142034</td>\n",
       "      <td>10.132960</td>\n",
       "      <td>9.202849</td>\n",
       "      <td>44.003792</td>\n",
       "      <td>66.518832</td>\n",
       "      <td>9.607035</td>\n",
       "      <td>2.597298</td>\n",
       "      <td>10.512122</td>\n",
       "      <td>2.918421</td>\n",
       "      <td>133.320659</td>\n",
       "      <td>...</td>\n",
       "      <td>19.985454</td>\n",
       "      <td>-478.696836</td>\n",
       "      <td>15.487065</td>\n",
       "      <td>-460.229416</td>\n",
       "      <td>16.775136</td>\n",
       "      <td>-483.956022</td>\n",
       "      <td>13.064590</td>\n",
       "      <td>-483.966564</td>\n",
       "      <td>19.577539</td>\n",
       "      <td>-506.798480</td>\n",
       "    </tr>\n",
       "    <tr>\n",
       "      <th>std</th>\n",
       "      <td>1.369586</td>\n",
       "      <td>1.654930</td>\n",
       "      <td>2.790516</td>\n",
       "      <td>4.905261</td>\n",
       "      <td>10.295402</td>\n",
       "      <td>2.319069</td>\n",
       "      <td>0.971843</td>\n",
       "      <td>3.003617</td>\n",
       "      <td>0.903712</td>\n",
       "      <td>39.431659</td>\n",
       "      <td>...</td>\n",
       "      <td>5.657723</td>\n",
       "      <td>50.736021</td>\n",
       "      <td>5.255655</td>\n",
       "      <td>58.843586</td>\n",
       "      <td>5.831906</td>\n",
       "      <td>37.892788</td>\n",
       "      <td>5.765617</td>\n",
       "      <td>39.207913</td>\n",
       "      <td>5.764417</td>\n",
       "      <td>37.079249</td>\n",
       "    </tr>\n",
       "    <tr>\n",
       "      <th>min</th>\n",
       "      <td>0.000000</td>\n",
       "      <td>0.000000</td>\n",
       "      <td>0.000000</td>\n",
       "      <td>0.000000</td>\n",
       "      <td>0.000000</td>\n",
       "      <td>0.000000</td>\n",
       "      <td>0.000000</td>\n",
       "      <td>0.000000</td>\n",
       "      <td>0.000000</td>\n",
       "      <td>0.003112</td>\n",
       "      <td>...</td>\n",
       "      <td>0.000000</td>\n",
       "      <td>-799.709069</td>\n",
       "      <td>0.000000</td>\n",
       "      <td>-799.889113</td>\n",
       "      <td>-0.372054</td>\n",
       "      <td>-797.142475</td>\n",
       "      <td>0.646208</td>\n",
       "      <td>-800.006180</td>\n",
       "      <td>0.195324</td>\n",
       "      <td>-809.398668</td>\n",
       "    </tr>\n",
       "    <tr>\n",
       "      <th>25%</th>\n",
       "      <td>4.211620</td>\n",
       "      <td>9.297355</td>\n",
       "      <td>7.484645</td>\n",
       "      <td>43.276111</td>\n",
       "      <td>62.545817</td>\n",
       "      <td>7.997429</td>\n",
       "      <td>1.905973</td>\n",
       "      <td>8.811324</td>\n",
       "      <td>2.368607</td>\n",
       "      <td>107.006651</td>\n",
       "      <td>...</td>\n",
       "      <td>14.990775</td>\n",
       "      <td>-500.628656</td>\n",
       "      <td>11.894558</td>\n",
       "      <td>-500.149000</td>\n",
       "      <td>11.083980</td>\n",
       "      <td>-500.363177</td>\n",
       "      <td>8.994405</td>\n",
       "      <td>-500.105994</td>\n",
       "      <td>14.989304</td>\n",
       "      <td>-500.745104</td>\n",
       "    </tr>\n",
       "    <tr>\n",
       "      <th>50%</th>\n",
       "      <td>4.994652</td>\n",
       "      <td>10.297144</td>\n",
       "      <td>8.845462</td>\n",
       "      <td>44.872436</td>\n",
       "      <td>67.432775</td>\n",
       "      <td>9.480270</td>\n",
       "      <td>2.592022</td>\n",
       "      <td>10.514621</td>\n",
       "      <td>2.851025</td>\n",
       "      <td>133.018328</td>\n",
       "      <td>...</td>\n",
       "      <td>20.001789</td>\n",
       "      <td>-499.681450</td>\n",
       "      <td>14.975536</td>\n",
       "      <td>-499.388738</td>\n",
       "      <td>17.932223</td>\n",
       "      <td>-499.702452</td>\n",
       "      <td>11.997547</td>\n",
       "      <td>-499.914556</td>\n",
       "      <td>19.984175</td>\n",
       "      <td>-500.061431</td>\n",
       "    </tr>\n",
       "    <tr>\n",
       "      <th>75%</th>\n",
       "      <td>5.859540</td>\n",
       "      <td>11.170603</td>\n",
       "      <td>10.487508</td>\n",
       "      <td>46.166425</td>\n",
       "      <td>72.346428</td>\n",
       "      <td>11.003707</td>\n",
       "      <td>3.241723</td>\n",
       "      <td>11.933009</td>\n",
       "      <td>3.434764</td>\n",
       "      <td>159.825396</td>\n",
       "      <td>...</td>\n",
       "      <td>24.990826</td>\n",
       "      <td>-477.472413</td>\n",
       "      <td>20.059375</td>\n",
       "      <td>-400.039008</td>\n",
       "      <td>21.346550</td>\n",
       "      <td>-487.712108</td>\n",
       "      <td>17.982903</td>\n",
       "      <td>-453.186936</td>\n",
       "      <td>24.991623</td>\n",
       "      <td>-499.536466</td>\n",
       "    </tr>\n",
       "    <tr>\n",
       "      <th>max</th>\n",
       "      <td>16.001945</td>\n",
       "      <td>17.031899</td>\n",
       "      <td>18.124851</td>\n",
       "      <td>52.756638</td>\n",
       "      <td>100.000000</td>\n",
       "      <td>19.552149</td>\n",
       "      <td>5.639565</td>\n",
       "      <td>22.317730</td>\n",
       "      <td>8.197408</td>\n",
       "      <td>250.127834</td>\n",
       "      <td>...</td>\n",
       "      <td>30.115735</td>\n",
       "      <td>-245.239184</td>\n",
       "      <td>24.007913</td>\n",
       "      <td>-145.071088</td>\n",
       "      <td>43.709931</td>\n",
       "      <td>-275.073125</td>\n",
       "      <td>27.926001</td>\n",
       "      <td>-157.396071</td>\n",
       "      <td>32.188906</td>\n",
       "      <td>-104.427459</td>\n",
       "    </tr>\n",
       "  </tbody>\n",
       "</table>\n",
       "<p>8 rows × 86 columns</p>\n",
       "</div>"
      ],
      "text/plain": [
       "       final.output.concentrate_ag  final.output.concentrate_pb  \\\n",
       "count                 14148.000000                 14148.000000   \n",
       "mean                      5.142034                    10.132960   \n",
       "std                       1.369586                     1.654930   \n",
       "min                       0.000000                     0.000000   \n",
       "25%                       4.211620                     9.297355   \n",
       "50%                       4.994652                    10.297144   \n",
       "75%                       5.859540                    11.170603   \n",
       "max                      16.001945                    17.031899   \n",
       "\n",
       "       final.output.concentrate_sol  final.output.concentrate_au  \\\n",
       "count                  13938.000000                 14149.000000   \n",
       "mean                       9.202849                    44.003792   \n",
       "std                        2.790516                     4.905261   \n",
       "min                        0.000000                     0.000000   \n",
       "25%                        7.484645                    43.276111   \n",
       "50%                        8.845462                    44.872436   \n",
       "75%                       10.487508                    46.166425   \n",
       "max                       18.124851                    52.756638   \n",
       "\n",
       "       final.output.recovery  final.output.tail_ag  final.output.tail_pb  \\\n",
       "count           14149.000000          14149.000000          14049.000000   \n",
       "mean               66.518832              9.607035              2.597298   \n",
       "std                10.295402              2.319069              0.971843   \n",
       "min                 0.000000              0.000000              0.000000   \n",
       "25%                62.545817              7.997429              1.905973   \n",
       "50%                67.432775              9.480270              2.592022   \n",
       "75%                72.346428             11.003707              3.241723   \n",
       "max               100.000000             19.552149              5.639565   \n",
       "\n",
       "       final.output.tail_sol  final.output.tail_au  \\\n",
       "count           14144.000000          14149.000000   \n",
       "mean               10.512122              2.918421   \n",
       "std                 3.003617              0.903712   \n",
       "min                 0.000000              0.000000   \n",
       "25%                 8.811324              2.368607   \n",
       "50%                10.514621              2.851025   \n",
       "75%                11.933009              3.434764   \n",
       "max                22.317730              8.197408   \n",
       "\n",
       "       primary_cleaner.input.sulfate  ...  \\\n",
       "count                   14129.000000  ...   \n",
       "mean                      133.320659  ...   \n",
       "std                        39.431659  ...   \n",
       "min                         0.003112  ...   \n",
       "25%                       107.006651  ...   \n",
       "50%                       133.018328  ...   \n",
       "75%                       159.825396  ...   \n",
       "max                       250.127834  ...   \n",
       "\n",
       "       secondary_cleaner.state.floatbank4_a_air  \\\n",
       "count                              14143.000000   \n",
       "mean                                  19.985454   \n",
       "std                                    5.657723   \n",
       "min                                    0.000000   \n",
       "25%                                   14.990775   \n",
       "50%                                   20.001789   \n",
       "75%                                   24.990826   \n",
       "max                                   30.115735   \n",
       "\n",
       "       secondary_cleaner.state.floatbank4_a_level  \\\n",
       "count                                14148.000000   \n",
       "mean                                  -478.696836   \n",
       "std                                     50.736021   \n",
       "min                                   -799.709069   \n",
       "25%                                   -500.628656   \n",
       "50%                                   -499.681450   \n",
       "75%                                   -477.472413   \n",
       "max                                   -245.239184   \n",
       "\n",
       "       secondary_cleaner.state.floatbank4_b_air  \\\n",
       "count                              14148.000000   \n",
       "mean                                  15.487065   \n",
       "std                                    5.255655   \n",
       "min                                    0.000000   \n",
       "25%                                   11.894558   \n",
       "50%                                   14.975536   \n",
       "75%                                   20.059375   \n",
       "max                                   24.007913   \n",
       "\n",
       "       secondary_cleaner.state.floatbank4_b_level  \\\n",
       "count                                14148.000000   \n",
       "mean                                  -460.229416   \n",
       "std                                     58.843586   \n",
       "min                                   -799.889113   \n",
       "25%                                   -500.149000   \n",
       "50%                                   -499.388738   \n",
       "75%                                   -400.039008   \n",
       "max                                   -145.071088   \n",
       "\n",
       "       secondary_cleaner.state.floatbank5_a_air  \\\n",
       "count                              14148.000000   \n",
       "mean                                  16.775136   \n",
       "std                                    5.831906   \n",
       "min                                   -0.372054   \n",
       "25%                                   11.083980   \n",
       "50%                                   17.932223   \n",
       "75%                                   21.346550   \n",
       "max                                   43.709931   \n",
       "\n",
       "       secondary_cleaner.state.floatbank5_a_level  \\\n",
       "count                                14148.000000   \n",
       "mean                                  -483.956022   \n",
       "std                                     37.892788   \n",
       "min                                   -797.142475   \n",
       "25%                                   -500.363177   \n",
       "50%                                   -499.702452   \n",
       "75%                                   -487.712108   \n",
       "max                                   -275.073125   \n",
       "\n",
       "       secondary_cleaner.state.floatbank5_b_air  \\\n",
       "count                              14148.000000   \n",
       "mean                                  13.064590   \n",
       "std                                    5.765617   \n",
       "min                                    0.646208   \n",
       "25%                                    8.994405   \n",
       "50%                                   11.997547   \n",
       "75%                                   17.982903   \n",
       "max                                   27.926001   \n",
       "\n",
       "       secondary_cleaner.state.floatbank5_b_level  \\\n",
       "count                                14148.000000   \n",
       "mean                                  -483.966564   \n",
       "std                                     39.207913   \n",
       "min                                   -800.006180   \n",
       "25%                                   -500.105994   \n",
       "50%                                   -499.914556   \n",
       "75%                                   -453.186936   \n",
       "max                                   -157.396071   \n",
       "\n",
       "       secondary_cleaner.state.floatbank6_a_air  \\\n",
       "count                              14147.000000   \n",
       "mean                                  19.577539   \n",
       "std                                    5.764417   \n",
       "min                                    0.195324   \n",
       "25%                                   14.989304   \n",
       "50%                                   19.984175   \n",
       "75%                                   24.991623   \n",
       "max                                   32.188906   \n",
       "\n",
       "       secondary_cleaner.state.floatbank6_a_level  \n",
       "count                                14148.000000  \n",
       "mean                                  -506.798480  \n",
       "std                                     37.079249  \n",
       "min                                   -809.398668  \n",
       "25%                                   -500.745104  \n",
       "50%                                   -500.061431  \n",
       "75%                                   -499.536466  \n",
       "max                                   -104.427459  \n",
       "\n",
       "[8 rows x 86 columns]"
      ]
     },
     "metadata": {},
     "output_type": "display_data"
    },
    {
     "data": {
      "text/html": [
       "<div>\n",
       "<style scoped>\n",
       "    .dataframe tbody tr th:only-of-type {\n",
       "        vertical-align: middle;\n",
       "    }\n",
       "\n",
       "    .dataframe tbody tr th {\n",
       "        vertical-align: top;\n",
       "    }\n",
       "\n",
       "    .dataframe thead th {\n",
       "        text-align: right;\n",
       "    }\n",
       "</style>\n",
       "<table border=\"1\" class=\"dataframe\">\n",
       "  <thead>\n",
       "    <tr style=\"text-align: right;\">\n",
       "      <th></th>\n",
       "      <th>primary_cleaner.input.sulfate</th>\n",
       "      <th>primary_cleaner.input.depressant</th>\n",
       "      <th>primary_cleaner.input.feed_size</th>\n",
       "      <th>primary_cleaner.input.xanthate</th>\n",
       "      <th>primary_cleaner.state.floatbank8_a_air</th>\n",
       "      <th>primary_cleaner.state.floatbank8_a_level</th>\n",
       "      <th>primary_cleaner.state.floatbank8_b_air</th>\n",
       "      <th>primary_cleaner.state.floatbank8_b_level</th>\n",
       "      <th>primary_cleaner.state.floatbank8_c_air</th>\n",
       "      <th>primary_cleaner.state.floatbank8_c_level</th>\n",
       "      <th>...</th>\n",
       "      <th>secondary_cleaner.state.floatbank4_a_air</th>\n",
       "      <th>secondary_cleaner.state.floatbank4_a_level</th>\n",
       "      <th>secondary_cleaner.state.floatbank4_b_air</th>\n",
       "      <th>secondary_cleaner.state.floatbank4_b_level</th>\n",
       "      <th>secondary_cleaner.state.floatbank5_a_air</th>\n",
       "      <th>secondary_cleaner.state.floatbank5_a_level</th>\n",
       "      <th>secondary_cleaner.state.floatbank5_b_air</th>\n",
       "      <th>secondary_cleaner.state.floatbank5_b_level</th>\n",
       "      <th>secondary_cleaner.state.floatbank6_a_air</th>\n",
       "      <th>secondary_cleaner.state.floatbank6_a_level</th>\n",
       "    </tr>\n",
       "  </thead>\n",
       "  <tbody>\n",
       "    <tr>\n",
       "      <th>count</th>\n",
       "      <td>5286.000000</td>\n",
       "      <td>5285.000000</td>\n",
       "      <td>5290.000000</td>\n",
       "      <td>5286.000000</td>\n",
       "      <td>5.290000e+03</td>\n",
       "      <td>5290.000000</td>\n",
       "      <td>5.290000e+03</td>\n",
       "      <td>5290.000000</td>\n",
       "      <td>5.290000e+03</td>\n",
       "      <td>5290.000000</td>\n",
       "      <td>...</td>\n",
       "      <td>5.290000e+03</td>\n",
       "      <td>5290.000000</td>\n",
       "      <td>5.290000e+03</td>\n",
       "      <td>5290.000000</td>\n",
       "      <td>5290.000000</td>\n",
       "      <td>5290.000000</td>\n",
       "      <td>5290.000000</td>\n",
       "      <td>5290.000000</td>\n",
       "      <td>5290.000000</td>\n",
       "      <td>5290.000000</td>\n",
       "    </tr>\n",
       "    <tr>\n",
       "      <th>mean</th>\n",
       "      <td>174.839652</td>\n",
       "      <td>8.683596</td>\n",
       "      <td>7.266339</td>\n",
       "      <td>1.383803</td>\n",
       "      <td>1.539494e+03</td>\n",
       "      <td>-497.665883</td>\n",
       "      <td>1.545174e+03</td>\n",
       "      <td>-500.273098</td>\n",
       "      <td>1.527272e+03</td>\n",
       "      <td>-498.330680</td>\n",
       "      <td>...</td>\n",
       "      <td>1.632007e+01</td>\n",
       "      <td>-505.144570</td>\n",
       "      <td>1.373544e+01</td>\n",
       "      <td>-463.349858</td>\n",
       "      <td>12.804186</td>\n",
       "      <td>-501.329122</td>\n",
       "      <td>9.881145</td>\n",
       "      <td>-495.663398</td>\n",
       "      <td>17.304935</td>\n",
       "      <td>-501.793193</td>\n",
       "    </tr>\n",
       "    <tr>\n",
       "      <th>std</th>\n",
       "      <td>43.027080</td>\n",
       "      <td>3.072050</td>\n",
       "      <td>0.610219</td>\n",
       "      <td>0.643474</td>\n",
       "      <td>1.167979e+02</td>\n",
       "      <td>19.952431</td>\n",
       "      <td>1.222246e+02</td>\n",
       "      <td>32.968307</td>\n",
       "      <td>1.225380e+02</td>\n",
       "      <td>21.964876</td>\n",
       "      <td>...</td>\n",
       "      <td>3.493583e+00</td>\n",
       "      <td>31.427337</td>\n",
       "      <td>3.430484e+00</td>\n",
       "      <td>86.189107</td>\n",
       "      <td>3.026591</td>\n",
       "      <td>17.951495</td>\n",
       "      <td>2.868205</td>\n",
       "      <td>34.535007</td>\n",
       "      <td>4.536544</td>\n",
       "      <td>39.044215</td>\n",
       "    </tr>\n",
       "    <tr>\n",
       "      <th>min</th>\n",
       "      <td>2.566156</td>\n",
       "      <td>0.003839</td>\n",
       "      <td>5.650000</td>\n",
       "      <td>0.004984</td>\n",
       "      <td>5.445860e-32</td>\n",
       "      <td>-795.316337</td>\n",
       "      <td>6.647490e-32</td>\n",
       "      <td>-799.997015</td>\n",
       "      <td>4.033736e-32</td>\n",
       "      <td>-799.960571</td>\n",
       "      <td>...</td>\n",
       "      <td>1.079872e-16</td>\n",
       "      <td>-799.798523</td>\n",
       "      <td>2.489718e-17</td>\n",
       "      <td>-800.836914</td>\n",
       "      <td>0.069227</td>\n",
       "      <td>-797.323986</td>\n",
       "      <td>0.528083</td>\n",
       "      <td>-800.220337</td>\n",
       "      <td>-0.079426</td>\n",
       "      <td>-809.741464</td>\n",
       "    </tr>\n",
       "    <tr>\n",
       "      <th>25%</th>\n",
       "      <td>147.121401</td>\n",
       "      <td>6.489555</td>\n",
       "      <td>6.890000</td>\n",
       "      <td>0.907623</td>\n",
       "      <td>1.498936e+03</td>\n",
       "      <td>-500.357298</td>\n",
       "      <td>1.498971e+03</td>\n",
       "      <td>-500.703002</td>\n",
       "      <td>1.473230e+03</td>\n",
       "      <td>-501.018117</td>\n",
       "      <td>...</td>\n",
       "      <td>1.403618e+01</td>\n",
       "      <td>-500.868258</td>\n",
       "      <td>1.202862e+01</td>\n",
       "      <td>-500.323028</td>\n",
       "      <td>10.914838</td>\n",
       "      <td>-500.726841</td>\n",
       "      <td>8.036719</td>\n",
       "      <td>-500.194668</td>\n",
       "      <td>13.997317</td>\n",
       "      <td>-500.690984</td>\n",
       "    </tr>\n",
       "    <tr>\n",
       "      <th>50%</th>\n",
       "      <td>177.828489</td>\n",
       "      <td>8.052207</td>\n",
       "      <td>7.250000</td>\n",
       "      <td>1.197610</td>\n",
       "      <td>1.585129e+03</td>\n",
       "      <td>-499.969164</td>\n",
       "      <td>1.595622e+03</td>\n",
       "      <td>-500.028514</td>\n",
       "      <td>1.549595e+03</td>\n",
       "      <td>-500.017711</td>\n",
       "      <td>...</td>\n",
       "      <td>1.700847e+01</td>\n",
       "      <td>-500.115727</td>\n",
       "      <td>1.496486e+01</td>\n",
       "      <td>-499.576513</td>\n",
       "      <td>12.954182</td>\n",
       "      <td>-499.990332</td>\n",
       "      <td>10.004301</td>\n",
       "      <td>-499.990535</td>\n",
       "      <td>16.014935</td>\n",
       "      <td>-500.007126</td>\n",
       "    </tr>\n",
       "    <tr>\n",
       "      <th>75%</th>\n",
       "      <td>208.125438</td>\n",
       "      <td>10.027764</td>\n",
       "      <td>7.600000</td>\n",
       "      <td>1.797819</td>\n",
       "      <td>1.602077e+03</td>\n",
       "      <td>-499.568951</td>\n",
       "      <td>1.602324e+03</td>\n",
       "      <td>-499.293257</td>\n",
       "      <td>1.601144e+03</td>\n",
       "      <td>-498.994130</td>\n",
       "      <td>...</td>\n",
       "      <td>1.803862e+01</td>\n",
       "      <td>-499.404224</td>\n",
       "      <td>1.596213e+01</td>\n",
       "      <td>-400.933805</td>\n",
       "      <td>15.097528</td>\n",
       "      <td>-499.283191</td>\n",
       "      <td>11.997467</td>\n",
       "      <td>-499.719913</td>\n",
       "      <td>21.020013</td>\n",
       "      <td>-499.373018</td>\n",
       "    </tr>\n",
       "    <tr>\n",
       "      <th>max</th>\n",
       "      <td>265.983123</td>\n",
       "      <td>40.000000</td>\n",
       "      <td>15.500000</td>\n",
       "      <td>4.102454</td>\n",
       "      <td>2.103104e+03</td>\n",
       "      <td>-57.195404</td>\n",
       "      <td>1.813084e+03</td>\n",
       "      <td>-142.527229</td>\n",
       "      <td>1.715054e+03</td>\n",
       "      <td>-150.937035</td>\n",
       "      <td>...</td>\n",
       "      <td>3.005180e+01</td>\n",
       "      <td>-401.565212</td>\n",
       "      <td>3.126971e+01</td>\n",
       "      <td>-6.506986</td>\n",
       "      <td>25.258848</td>\n",
       "      <td>-244.483566</td>\n",
       "      <td>14.086866</td>\n",
       "      <td>-137.740004</td>\n",
       "      <td>26.705889</td>\n",
       "      <td>-123.307487</td>\n",
       "    </tr>\n",
       "  </tbody>\n",
       "</table>\n",
       "<p>8 rows × 52 columns</p>\n",
       "</div>"
      ],
      "text/plain": [
       "       primary_cleaner.input.sulfate  primary_cleaner.input.depressant  \\\n",
       "count                    5286.000000                       5285.000000   \n",
       "mean                      174.839652                          8.683596   \n",
       "std                        43.027080                          3.072050   \n",
       "min                         2.566156                          0.003839   \n",
       "25%                       147.121401                          6.489555   \n",
       "50%                       177.828489                          8.052207   \n",
       "75%                       208.125438                         10.027764   \n",
       "max                       265.983123                         40.000000   \n",
       "\n",
       "       primary_cleaner.input.feed_size  primary_cleaner.input.xanthate  \\\n",
       "count                      5290.000000                     5286.000000   \n",
       "mean                          7.266339                        1.383803   \n",
       "std                           0.610219                        0.643474   \n",
       "min                           5.650000                        0.004984   \n",
       "25%                           6.890000                        0.907623   \n",
       "50%                           7.250000                        1.197610   \n",
       "75%                           7.600000                        1.797819   \n",
       "max                          15.500000                        4.102454   \n",
       "\n",
       "       primary_cleaner.state.floatbank8_a_air  \\\n",
       "count                            5.290000e+03   \n",
       "mean                             1.539494e+03   \n",
       "std                              1.167979e+02   \n",
       "min                              5.445860e-32   \n",
       "25%                              1.498936e+03   \n",
       "50%                              1.585129e+03   \n",
       "75%                              1.602077e+03   \n",
       "max                              2.103104e+03   \n",
       "\n",
       "       primary_cleaner.state.floatbank8_a_level  \\\n",
       "count                               5290.000000   \n",
       "mean                                -497.665883   \n",
       "std                                   19.952431   \n",
       "min                                 -795.316337   \n",
       "25%                                 -500.357298   \n",
       "50%                                 -499.969164   \n",
       "75%                                 -499.568951   \n",
       "max                                  -57.195404   \n",
       "\n",
       "       primary_cleaner.state.floatbank8_b_air  \\\n",
       "count                            5.290000e+03   \n",
       "mean                             1.545174e+03   \n",
       "std                              1.222246e+02   \n",
       "min                              6.647490e-32   \n",
       "25%                              1.498971e+03   \n",
       "50%                              1.595622e+03   \n",
       "75%                              1.602324e+03   \n",
       "max                              1.813084e+03   \n",
       "\n",
       "       primary_cleaner.state.floatbank8_b_level  \\\n",
       "count                               5290.000000   \n",
       "mean                                -500.273098   \n",
       "std                                   32.968307   \n",
       "min                                 -799.997015   \n",
       "25%                                 -500.703002   \n",
       "50%                                 -500.028514   \n",
       "75%                                 -499.293257   \n",
       "max                                 -142.527229   \n",
       "\n",
       "       primary_cleaner.state.floatbank8_c_air  \\\n",
       "count                            5.290000e+03   \n",
       "mean                             1.527272e+03   \n",
       "std                              1.225380e+02   \n",
       "min                              4.033736e-32   \n",
       "25%                              1.473230e+03   \n",
       "50%                              1.549595e+03   \n",
       "75%                              1.601144e+03   \n",
       "max                              1.715054e+03   \n",
       "\n",
       "       primary_cleaner.state.floatbank8_c_level  ...  \\\n",
       "count                               5290.000000  ...   \n",
       "mean                                -498.330680  ...   \n",
       "std                                   21.964876  ...   \n",
       "min                                 -799.960571  ...   \n",
       "25%                                 -501.018117  ...   \n",
       "50%                                 -500.017711  ...   \n",
       "75%                                 -498.994130  ...   \n",
       "max                                 -150.937035  ...   \n",
       "\n",
       "       secondary_cleaner.state.floatbank4_a_air  \\\n",
       "count                              5.290000e+03   \n",
       "mean                               1.632007e+01   \n",
       "std                                3.493583e+00   \n",
       "min                                1.079872e-16   \n",
       "25%                                1.403618e+01   \n",
       "50%                                1.700847e+01   \n",
       "75%                                1.803862e+01   \n",
       "max                                3.005180e+01   \n",
       "\n",
       "       secondary_cleaner.state.floatbank4_a_level  \\\n",
       "count                                 5290.000000   \n",
       "mean                                  -505.144570   \n",
       "std                                     31.427337   \n",
       "min                                   -799.798523   \n",
       "25%                                   -500.868258   \n",
       "50%                                   -500.115727   \n",
       "75%                                   -499.404224   \n",
       "max                                   -401.565212   \n",
       "\n",
       "       secondary_cleaner.state.floatbank4_b_air  \\\n",
       "count                              5.290000e+03   \n",
       "mean                               1.373544e+01   \n",
       "std                                3.430484e+00   \n",
       "min                                2.489718e-17   \n",
       "25%                                1.202862e+01   \n",
       "50%                                1.496486e+01   \n",
       "75%                                1.596213e+01   \n",
       "max                                3.126971e+01   \n",
       "\n",
       "       secondary_cleaner.state.floatbank4_b_level  \\\n",
       "count                                 5290.000000   \n",
       "mean                                  -463.349858   \n",
       "std                                     86.189107   \n",
       "min                                   -800.836914   \n",
       "25%                                   -500.323028   \n",
       "50%                                   -499.576513   \n",
       "75%                                   -400.933805   \n",
       "max                                     -6.506986   \n",
       "\n",
       "       secondary_cleaner.state.floatbank5_a_air  \\\n",
       "count                               5290.000000   \n",
       "mean                                  12.804186   \n",
       "std                                    3.026591   \n",
       "min                                    0.069227   \n",
       "25%                                   10.914838   \n",
       "50%                                   12.954182   \n",
       "75%                                   15.097528   \n",
       "max                                   25.258848   \n",
       "\n",
       "       secondary_cleaner.state.floatbank5_a_level  \\\n",
       "count                                 5290.000000   \n",
       "mean                                  -501.329122   \n",
       "std                                     17.951495   \n",
       "min                                   -797.323986   \n",
       "25%                                   -500.726841   \n",
       "50%                                   -499.990332   \n",
       "75%                                   -499.283191   \n",
       "max                                   -244.483566   \n",
       "\n",
       "       secondary_cleaner.state.floatbank5_b_air  \\\n",
       "count                               5290.000000   \n",
       "mean                                   9.881145   \n",
       "std                                    2.868205   \n",
       "min                                    0.528083   \n",
       "25%                                    8.036719   \n",
       "50%                                   10.004301   \n",
       "75%                                   11.997467   \n",
       "max                                   14.086866   \n",
       "\n",
       "       secondary_cleaner.state.floatbank5_b_level  \\\n",
       "count                                 5290.000000   \n",
       "mean                                  -495.663398   \n",
       "std                                     34.535007   \n",
       "min                                   -800.220337   \n",
       "25%                                   -500.194668   \n",
       "50%                                   -499.990535   \n",
       "75%                                   -499.719913   \n",
       "max                                   -137.740004   \n",
       "\n",
       "       secondary_cleaner.state.floatbank6_a_air  \\\n",
       "count                               5290.000000   \n",
       "mean                                  17.304935   \n",
       "std                                    4.536544   \n",
       "min                                   -0.079426   \n",
       "25%                                   13.997317   \n",
       "50%                                   16.014935   \n",
       "75%                                   21.020013   \n",
       "max                                   26.705889   \n",
       "\n",
       "       secondary_cleaner.state.floatbank6_a_level  \n",
       "count                                 5290.000000  \n",
       "mean                                  -501.793193  \n",
       "std                                     39.044215  \n",
       "min                                   -809.741464  \n",
       "25%                                   -500.690984  \n",
       "50%                                   -500.007126  \n",
       "75%                                   -499.373018  \n",
       "max                                   -123.307487  \n",
       "\n",
       "[8 rows x 52 columns]"
      ]
     },
     "metadata": {},
     "output_type": "display_data"
    },
    {
     "data": {
      "text/html": [
       "<div>\n",
       "<style scoped>\n",
       "    .dataframe tbody tr th:only-of-type {\n",
       "        vertical-align: middle;\n",
       "    }\n",
       "\n",
       "    .dataframe tbody tr th {\n",
       "        vertical-align: top;\n",
       "    }\n",
       "\n",
       "    .dataframe thead th {\n",
       "        text-align: right;\n",
       "    }\n",
       "</style>\n",
       "<table border=\"1\" class=\"dataframe\">\n",
       "  <thead>\n",
       "    <tr style=\"text-align: right;\">\n",
       "      <th></th>\n",
       "      <th>final.output.concentrate_ag</th>\n",
       "      <th>final.output.concentrate_pb</th>\n",
       "      <th>final.output.concentrate_sol</th>\n",
       "      <th>final.output.concentrate_au</th>\n",
       "      <th>final.output.recovery</th>\n",
       "      <th>final.output.tail_ag</th>\n",
       "      <th>final.output.tail_pb</th>\n",
       "      <th>final.output.tail_sol</th>\n",
       "      <th>final.output.tail_au</th>\n",
       "      <th>primary_cleaner.input.sulfate</th>\n",
       "      <th>...</th>\n",
       "      <th>secondary_cleaner.state.floatbank4_a_air</th>\n",
       "      <th>secondary_cleaner.state.floatbank4_a_level</th>\n",
       "      <th>secondary_cleaner.state.floatbank4_b_air</th>\n",
       "      <th>secondary_cleaner.state.floatbank4_b_level</th>\n",
       "      <th>secondary_cleaner.state.floatbank5_a_air</th>\n",
       "      <th>secondary_cleaner.state.floatbank5_a_level</th>\n",
       "      <th>secondary_cleaner.state.floatbank5_b_air</th>\n",
       "      <th>secondary_cleaner.state.floatbank5_b_level</th>\n",
       "      <th>secondary_cleaner.state.floatbank6_a_air</th>\n",
       "      <th>secondary_cleaner.state.floatbank6_a_level</th>\n",
       "    </tr>\n",
       "  </thead>\n",
       "  <tbody>\n",
       "    <tr>\n",
       "      <th>count</th>\n",
       "      <td>19438.000000</td>\n",
       "      <td>19438.000000</td>\n",
       "      <td>19228.000000</td>\n",
       "      <td>19439.000000</td>\n",
       "      <td>19439.000000</td>\n",
       "      <td>19438.000000</td>\n",
       "      <td>19338.000000</td>\n",
       "      <td>19433.000000</td>\n",
       "      <td>19439.000000</td>\n",
       "      <td>19415.000000</td>\n",
       "      <td>...</td>\n",
       "      <td>19433.000000</td>\n",
       "      <td>19438.000000</td>\n",
       "      <td>19438.000000</td>\n",
       "      <td>19438.000000</td>\n",
       "      <td>19438.000000</td>\n",
       "      <td>19438.000000</td>\n",
       "      <td>19438.000000</td>\n",
       "      <td>19438.000000</td>\n",
       "      <td>19437.000000</td>\n",
       "      <td>19438.000000</td>\n",
       "    </tr>\n",
       "    <tr>\n",
       "      <th>mean</th>\n",
       "      <td>5.168470</td>\n",
       "      <td>9.978895</td>\n",
       "      <td>9.501224</td>\n",
       "      <td>44.076513</td>\n",
       "      <td>67.050208</td>\n",
       "      <td>9.688589</td>\n",
       "      <td>2.705795</td>\n",
       "      <td>10.583728</td>\n",
       "      <td>3.042467</td>\n",
       "      <td>144.624774</td>\n",
       "      <td>...</td>\n",
       "      <td>18.987674</td>\n",
       "      <td>-485.894516</td>\n",
       "      <td>15.010366</td>\n",
       "      <td>-461.078636</td>\n",
       "      <td>15.694452</td>\n",
       "      <td>-488.684065</td>\n",
       "      <td>12.198224</td>\n",
       "      <td>-487.149827</td>\n",
       "      <td>18.959024</td>\n",
       "      <td>-505.436305</td>\n",
       "    </tr>\n",
       "    <tr>\n",
       "      <th>std</th>\n",
       "      <td>1.372348</td>\n",
       "      <td>1.669240</td>\n",
       "      <td>2.787537</td>\n",
       "      <td>5.129784</td>\n",
       "      <td>10.125840</td>\n",
       "      <td>2.328642</td>\n",
       "      <td>0.949077</td>\n",
       "      <td>2.868782</td>\n",
       "      <td>0.922808</td>\n",
       "      <td>44.464071</td>\n",
       "      <td>...</td>\n",
       "      <td>5.411058</td>\n",
       "      <td>47.758570</td>\n",
       "      <td>4.890228</td>\n",
       "      <td>67.405524</td>\n",
       "      <td>5.510974</td>\n",
       "      <td>34.533396</td>\n",
       "      <td>5.333024</td>\n",
       "      <td>38.347312</td>\n",
       "      <td>5.550498</td>\n",
       "      <td>37.689057</td>\n",
       "    </tr>\n",
       "    <tr>\n",
       "      <th>min</th>\n",
       "      <td>0.000000</td>\n",
       "      <td>0.000000</td>\n",
       "      <td>0.000000</td>\n",
       "      <td>0.000000</td>\n",
       "      <td>0.000000</td>\n",
       "      <td>0.000000</td>\n",
       "      <td>0.000000</td>\n",
       "      <td>0.000000</td>\n",
       "      <td>0.000000</td>\n",
       "      <td>0.003112</td>\n",
       "      <td>...</td>\n",
       "      <td>0.000000</td>\n",
       "      <td>-799.798523</td>\n",
       "      <td>0.000000</td>\n",
       "      <td>-800.836914</td>\n",
       "      <td>-0.372054</td>\n",
       "      <td>-797.323986</td>\n",
       "      <td>0.528083</td>\n",
       "      <td>-800.220337</td>\n",
       "      <td>-0.079426</td>\n",
       "      <td>-809.741464</td>\n",
       "    </tr>\n",
       "    <tr>\n",
       "      <th>25%</th>\n",
       "      <td>4.251240</td>\n",
       "      <td>9.137262</td>\n",
       "      <td>7.722820</td>\n",
       "      <td>43.402215</td>\n",
       "      <td>63.299712</td>\n",
       "      <td>8.062878</td>\n",
       "      <td>2.040119</td>\n",
       "      <td>8.938947</td>\n",
       "      <td>2.461138</td>\n",
       "      <td>114.107029</td>\n",
       "      <td>...</td>\n",
       "      <td>14.975734</td>\n",
       "      <td>-500.704892</td>\n",
       "      <td>11.940294</td>\n",
       "      <td>-500.187742</td>\n",
       "      <td>10.988606</td>\n",
       "      <td>-500.458467</td>\n",
       "      <td>8.971105</td>\n",
       "      <td>-500.129462</td>\n",
       "      <td>14.983037</td>\n",
       "      <td>-500.728067</td>\n",
       "    </tr>\n",
       "    <tr>\n",
       "      <th>50%</th>\n",
       "      <td>5.066094</td>\n",
       "      <td>10.102433</td>\n",
       "      <td>9.218961</td>\n",
       "      <td>45.011244</td>\n",
       "      <td>68.172738</td>\n",
       "      <td>9.743623</td>\n",
       "      <td>2.748730</td>\n",
       "      <td>10.622456</td>\n",
       "      <td>2.984909</td>\n",
       "      <td>143.232103</td>\n",
       "      <td>...</td>\n",
       "      <td>18.017481</td>\n",
       "      <td>-499.837793</td>\n",
       "      <td>14.971014</td>\n",
       "      <td>-499.459786</td>\n",
       "      <td>15.000036</td>\n",
       "      <td>-499.802605</td>\n",
       "      <td>11.019433</td>\n",
       "      <td>-499.935317</td>\n",
       "      <td>19.960541</td>\n",
       "      <td>-500.048400</td>\n",
       "    </tr>\n",
       "    <tr>\n",
       "      <th>75%</th>\n",
       "      <td>5.895527</td>\n",
       "      <td>11.035769</td>\n",
       "      <td>10.947813</td>\n",
       "      <td>46.275313</td>\n",
       "      <td>72.686642</td>\n",
       "      <td>11.134294</td>\n",
       "      <td>3.333216</td>\n",
       "      <td>12.104271</td>\n",
       "      <td>3.571351</td>\n",
       "      <td>175.075656</td>\n",
       "      <td>...</td>\n",
       "      <td>23.012470</td>\n",
       "      <td>-498.249730</td>\n",
       "      <td>19.034162</td>\n",
       "      <td>-400.118106</td>\n",
       "      <td>18.026190</td>\n",
       "      <td>-498.384187</td>\n",
       "      <td>14.019088</td>\n",
       "      <td>-499.436708</td>\n",
       "      <td>24.003170</td>\n",
       "      <td>-499.495378</td>\n",
       "    </tr>\n",
       "    <tr>\n",
       "      <th>max</th>\n",
       "      <td>16.001945</td>\n",
       "      <td>17.031899</td>\n",
       "      <td>19.615720</td>\n",
       "      <td>52.756638</td>\n",
       "      <td>100.000000</td>\n",
       "      <td>19.552149</td>\n",
       "      <td>5.804178</td>\n",
       "      <td>22.317730</td>\n",
       "      <td>8.245022</td>\n",
       "      <td>265.983123</td>\n",
       "      <td>...</td>\n",
       "      <td>30.115735</td>\n",
       "      <td>-245.239184</td>\n",
       "      <td>31.269706</td>\n",
       "      <td>-6.506986</td>\n",
       "      <td>43.709931</td>\n",
       "      <td>-244.483566</td>\n",
       "      <td>27.926001</td>\n",
       "      <td>-137.740004</td>\n",
       "      <td>32.188906</td>\n",
       "      <td>-104.427459</td>\n",
       "    </tr>\n",
       "  </tbody>\n",
       "</table>\n",
       "<p>8 rows × 86 columns</p>\n",
       "</div>"
      ],
      "text/plain": [
       "       final.output.concentrate_ag  final.output.concentrate_pb  \\\n",
       "count                 19438.000000                 19438.000000   \n",
       "mean                      5.168470                     9.978895   \n",
       "std                       1.372348                     1.669240   \n",
       "min                       0.000000                     0.000000   \n",
       "25%                       4.251240                     9.137262   \n",
       "50%                       5.066094                    10.102433   \n",
       "75%                       5.895527                    11.035769   \n",
       "max                      16.001945                    17.031899   \n",
       "\n",
       "       final.output.concentrate_sol  final.output.concentrate_au  \\\n",
       "count                  19228.000000                 19439.000000   \n",
       "mean                       9.501224                    44.076513   \n",
       "std                        2.787537                     5.129784   \n",
       "min                        0.000000                     0.000000   \n",
       "25%                        7.722820                    43.402215   \n",
       "50%                        9.218961                    45.011244   \n",
       "75%                       10.947813                    46.275313   \n",
       "max                       19.615720                    52.756638   \n",
       "\n",
       "       final.output.recovery  final.output.tail_ag  final.output.tail_pb  \\\n",
       "count           19439.000000          19438.000000          19338.000000   \n",
       "mean               67.050208              9.688589              2.705795   \n",
       "std                10.125840              2.328642              0.949077   \n",
       "min                 0.000000              0.000000              0.000000   \n",
       "25%                63.299712              8.062878              2.040119   \n",
       "50%                68.172738              9.743623              2.748730   \n",
       "75%                72.686642             11.134294              3.333216   \n",
       "max               100.000000             19.552149              5.804178   \n",
       "\n",
       "       final.output.tail_sol  final.output.tail_au  \\\n",
       "count           19433.000000          19439.000000   \n",
       "mean               10.583728              3.042467   \n",
       "std                 2.868782              0.922808   \n",
       "min                 0.000000              0.000000   \n",
       "25%                 8.938947              2.461138   \n",
       "50%                10.622456              2.984909   \n",
       "75%                12.104271              3.571351   \n",
       "max                22.317730              8.245022   \n",
       "\n",
       "       primary_cleaner.input.sulfate  ...  \\\n",
       "count                   19415.000000  ...   \n",
       "mean                      144.624774  ...   \n",
       "std                        44.464071  ...   \n",
       "min                         0.003112  ...   \n",
       "25%                       114.107029  ...   \n",
       "50%                       143.232103  ...   \n",
       "75%                       175.075656  ...   \n",
       "max                       265.983123  ...   \n",
       "\n",
       "       secondary_cleaner.state.floatbank4_a_air  \\\n",
       "count                              19433.000000   \n",
       "mean                                  18.987674   \n",
       "std                                    5.411058   \n",
       "min                                    0.000000   \n",
       "25%                                   14.975734   \n",
       "50%                                   18.017481   \n",
       "75%                                   23.012470   \n",
       "max                                   30.115735   \n",
       "\n",
       "       secondary_cleaner.state.floatbank4_a_level  \\\n",
       "count                                19438.000000   \n",
       "mean                                  -485.894516   \n",
       "std                                     47.758570   \n",
       "min                                   -799.798523   \n",
       "25%                                   -500.704892   \n",
       "50%                                   -499.837793   \n",
       "75%                                   -498.249730   \n",
       "max                                   -245.239184   \n",
       "\n",
       "       secondary_cleaner.state.floatbank4_b_air  \\\n",
       "count                              19438.000000   \n",
       "mean                                  15.010366   \n",
       "std                                    4.890228   \n",
       "min                                    0.000000   \n",
       "25%                                   11.940294   \n",
       "50%                                   14.971014   \n",
       "75%                                   19.034162   \n",
       "max                                   31.269706   \n",
       "\n",
       "       secondary_cleaner.state.floatbank4_b_level  \\\n",
       "count                                19438.000000   \n",
       "mean                                  -461.078636   \n",
       "std                                     67.405524   \n",
       "min                                   -800.836914   \n",
       "25%                                   -500.187742   \n",
       "50%                                   -499.459786   \n",
       "75%                                   -400.118106   \n",
       "max                                     -6.506986   \n",
       "\n",
       "       secondary_cleaner.state.floatbank5_a_air  \\\n",
       "count                              19438.000000   \n",
       "mean                                  15.694452   \n",
       "std                                    5.510974   \n",
       "min                                   -0.372054   \n",
       "25%                                   10.988606   \n",
       "50%                                   15.000036   \n",
       "75%                                   18.026190   \n",
       "max                                   43.709931   \n",
       "\n",
       "       secondary_cleaner.state.floatbank5_a_level  \\\n",
       "count                                19438.000000   \n",
       "mean                                  -488.684065   \n",
       "std                                     34.533396   \n",
       "min                                   -797.323986   \n",
       "25%                                   -500.458467   \n",
       "50%                                   -499.802605   \n",
       "75%                                   -498.384187   \n",
       "max                                   -244.483566   \n",
       "\n",
       "       secondary_cleaner.state.floatbank5_b_air  \\\n",
       "count                              19438.000000   \n",
       "mean                                  12.198224   \n",
       "std                                    5.333024   \n",
       "min                                    0.528083   \n",
       "25%                                    8.971105   \n",
       "50%                                   11.019433   \n",
       "75%                                   14.019088   \n",
       "max                                   27.926001   \n",
       "\n",
       "       secondary_cleaner.state.floatbank5_b_level  \\\n",
       "count                                19438.000000   \n",
       "mean                                  -487.149827   \n",
       "std                                     38.347312   \n",
       "min                                   -800.220337   \n",
       "25%                                   -500.129462   \n",
       "50%                                   -499.935317   \n",
       "75%                                   -499.436708   \n",
       "max                                   -137.740004   \n",
       "\n",
       "       secondary_cleaner.state.floatbank6_a_air  \\\n",
       "count                              19437.000000   \n",
       "mean                                  18.959024   \n",
       "std                                    5.550498   \n",
       "min                                   -0.079426   \n",
       "25%                                   14.983037   \n",
       "50%                                   19.960541   \n",
       "75%                                   24.003170   \n",
       "max                                   32.188906   \n",
       "\n",
       "       secondary_cleaner.state.floatbank6_a_level  \n",
       "count                                19438.000000  \n",
       "mean                                  -505.436305  \n",
       "std                                     37.689057  \n",
       "min                                   -809.741464  \n",
       "25%                                   -500.728067  \n",
       "50%                                   -500.048400  \n",
       "75%                                   -499.495378  \n",
       "max                                   -104.427459  \n",
       "\n",
       "[8 rows x 86 columns]"
      ]
     },
     "metadata": {},
     "output_type": "display_data"
    }
   ],
   "source": [
    "display(data_train.describe())\n",
    "display(data_test.describe())\n",
    "display(data_full.describe())"
   ]
  },
  {
   "cell_type": "code",
   "execution_count": 6,
   "metadata": {},
   "outputs": [
    {
     "name": "stdout",
     "output_type": "stream",
     "text": [
      "date                                            0\n",
      "final.output.concentrate_ag                     1\n",
      "final.output.concentrate_pb                     1\n",
      "final.output.concentrate_sol                  211\n",
      "final.output.concentrate_au                     0\n",
      "                                             ... \n",
      "secondary_cleaner.state.floatbank5_a_level      1\n",
      "secondary_cleaner.state.floatbank5_b_air        1\n",
      "secondary_cleaner.state.floatbank5_b_level      1\n",
      "secondary_cleaner.state.floatbank6_a_air        2\n",
      "secondary_cleaner.state.floatbank6_a_level      1\n",
      "Length: 87, dtype: int64\n",
      "\n",
      "Число дубликатов: 0\n"
     ]
    }
   ],
   "source": [
    "print(data_full.isna().sum())\n",
    "print('\\nЧисло дубликатов:', data_full.duplicated().sum())"
   ]
  },
  {
   "cell_type": "code",
   "execution_count": 7,
   "metadata": {},
   "outputs": [
    {
     "name": "stdout",
     "output_type": "stream",
     "text": [
      "date                                            0\n",
      "final.output.concentrate_ag                     1\n",
      "final.output.concentrate_pb                     1\n",
      "final.output.concentrate_sol                  211\n",
      "final.output.concentrate_au                     0\n",
      "                                             ... \n",
      "secondary_cleaner.state.floatbank5_a_level      1\n",
      "secondary_cleaner.state.floatbank5_b_air        1\n",
      "secondary_cleaner.state.floatbank5_b_level      1\n",
      "secondary_cleaner.state.floatbank6_a_air        2\n",
      "secondary_cleaner.state.floatbank6_a_level      1\n",
      "Length: 87, dtype: int64\n",
      "\n",
      "Число дубликатов: 0\n"
     ]
    }
   ],
   "source": [
    "print(data_train.isna().sum())\n",
    "print('\\nЧисло дубликатов:', data_train.duplicated().sum())"
   ]
  },
  {
   "cell_type": "code",
   "execution_count": 8,
   "metadata": {
    "scrolled": true
   },
   "outputs": [
    {
     "name": "stdout",
     "output_type": "stream",
     "text": [
      "date                                           0\n",
      "primary_cleaner.input.sulfate                  4\n",
      "primary_cleaner.input.depressant               5\n",
      "primary_cleaner.input.feed_size                0\n",
      "primary_cleaner.input.xanthate                 4\n",
      "primary_cleaner.state.floatbank8_a_air         0\n",
      "primary_cleaner.state.floatbank8_a_level       0\n",
      "primary_cleaner.state.floatbank8_b_air         0\n",
      "primary_cleaner.state.floatbank8_b_level       0\n",
      "primary_cleaner.state.floatbank8_c_air         0\n",
      "primary_cleaner.state.floatbank8_c_level       0\n",
      "primary_cleaner.state.floatbank8_d_air         0\n",
      "primary_cleaner.state.floatbank8_d_level       0\n",
      "rougher.input.feed_ag                          0\n",
      "rougher.input.feed_pb                          0\n",
      "rougher.input.feed_rate                        3\n",
      "rougher.input.feed_size                        1\n",
      "rougher.input.feed_sol                        21\n",
      "rougher.input.feed_au                          0\n",
      "rougher.input.floatbank10_sulfate              5\n",
      "rougher.input.floatbank10_xanthate             0\n",
      "rougher.input.floatbank11_sulfate              8\n",
      "rougher.input.floatbank11_xanthate            25\n",
      "rougher.state.floatbank10_a_air                0\n",
      "rougher.state.floatbank10_a_level              0\n",
      "rougher.state.floatbank10_b_air                0\n",
      "rougher.state.floatbank10_b_level              0\n",
      "rougher.state.floatbank10_c_air                0\n",
      "rougher.state.floatbank10_c_level              0\n",
      "rougher.state.floatbank10_d_air                0\n",
      "rougher.state.floatbank10_d_level              0\n",
      "rougher.state.floatbank10_e_air                0\n",
      "rougher.state.floatbank10_e_level              0\n",
      "rougher.state.floatbank10_f_air                0\n",
      "rougher.state.floatbank10_f_level              0\n",
      "secondary_cleaner.state.floatbank2_a_air       3\n",
      "secondary_cleaner.state.floatbank2_a_level     0\n",
      "secondary_cleaner.state.floatbank2_b_air       2\n",
      "secondary_cleaner.state.floatbank2_b_level     0\n",
      "secondary_cleaner.state.floatbank3_a_air       9\n",
      "secondary_cleaner.state.floatbank3_a_level     0\n",
      "secondary_cleaner.state.floatbank3_b_air       0\n",
      "secondary_cleaner.state.floatbank3_b_level     0\n",
      "secondary_cleaner.state.floatbank4_a_air       0\n",
      "secondary_cleaner.state.floatbank4_a_level     0\n",
      "secondary_cleaner.state.floatbank4_b_air       0\n",
      "secondary_cleaner.state.floatbank4_b_level     0\n",
      "secondary_cleaner.state.floatbank5_a_air       0\n",
      "secondary_cleaner.state.floatbank5_a_level     0\n",
      "secondary_cleaner.state.floatbank5_b_air       0\n",
      "secondary_cleaner.state.floatbank5_b_level     0\n",
      "secondary_cleaner.state.floatbank6_a_air       0\n",
      "secondary_cleaner.state.floatbank6_a_level     0\n",
      "dtype: int64\n",
      "\n",
      "Число дубликатов: 0\n"
     ]
    }
   ],
   "source": [
    "print(data_test.isna().sum())\n",
    "print('\\nЧисло дубликатов:', data_test.duplicated().sum())"
   ]
  },
  {
   "cell_type": "code",
   "execution_count": 9,
   "metadata": {
    "scrolled": true
   },
   "outputs": [
    {
     "data": {
      "text/plain": [
       "Index(['date', 'final.output.concentrate_ag', 'final.output.concentrate_pb',\n",
       "       'final.output.concentrate_sol', 'final.output.concentrate_au',\n",
       "       'final.output.recovery', 'final.output.tail_ag', 'final.output.tail_pb',\n",
       "       'final.output.tail_sol', 'final.output.tail_au',\n",
       "       'primary_cleaner.input.sulfate', 'primary_cleaner.input.depressant',\n",
       "       'primary_cleaner.input.feed_size', 'primary_cleaner.input.xanthate',\n",
       "       'primary_cleaner.output.concentrate_ag',\n",
       "       'primary_cleaner.output.concentrate_pb',\n",
       "       'primary_cleaner.output.concentrate_sol',\n",
       "       'primary_cleaner.output.concentrate_au',\n",
       "       'primary_cleaner.output.tail_ag', 'primary_cleaner.output.tail_pb',\n",
       "       'primary_cleaner.output.tail_sol', 'primary_cleaner.output.tail_au',\n",
       "       'primary_cleaner.state.floatbank8_a_air',\n",
       "       'primary_cleaner.state.floatbank8_a_level',\n",
       "       'primary_cleaner.state.floatbank8_b_air',\n",
       "       'primary_cleaner.state.floatbank8_b_level',\n",
       "       'primary_cleaner.state.floatbank8_c_air',\n",
       "       'primary_cleaner.state.floatbank8_c_level',\n",
       "       'primary_cleaner.state.floatbank8_d_air',\n",
       "       'primary_cleaner.state.floatbank8_d_level',\n",
       "       'rougher.calculation.sulfate_to_au_concentrate',\n",
       "       'rougher.calculation.floatbank10_sulfate_to_au_feed',\n",
       "       'rougher.calculation.floatbank11_sulfate_to_au_feed',\n",
       "       'rougher.calculation.au_pb_ratio', 'rougher.input.feed_ag',\n",
       "       'rougher.input.feed_pb', 'rougher.input.feed_rate',\n",
       "       'rougher.input.feed_size', 'rougher.input.feed_sol',\n",
       "       'rougher.input.feed_au', 'rougher.input.floatbank10_sulfate',\n",
       "       'rougher.input.floatbank10_xanthate',\n",
       "       'rougher.input.floatbank11_sulfate',\n",
       "       'rougher.input.floatbank11_xanthate', 'rougher.output.concentrate_ag',\n",
       "       'rougher.output.concentrate_pb', 'rougher.output.concentrate_sol',\n",
       "       'rougher.output.concentrate_au', 'rougher.output.recovery',\n",
       "       'rougher.output.tail_ag', 'rougher.output.tail_pb',\n",
       "       'rougher.output.tail_sol', 'rougher.output.tail_au',\n",
       "       'rougher.state.floatbank10_a_air', 'rougher.state.floatbank10_a_level',\n",
       "       'rougher.state.floatbank10_b_air', 'rougher.state.floatbank10_b_level',\n",
       "       'rougher.state.floatbank10_c_air', 'rougher.state.floatbank10_c_level',\n",
       "       'rougher.state.floatbank10_d_air', 'rougher.state.floatbank10_d_level',\n",
       "       'rougher.state.floatbank10_e_air', 'rougher.state.floatbank10_e_level',\n",
       "       'rougher.state.floatbank10_f_air', 'rougher.state.floatbank10_f_level',\n",
       "       'secondary_cleaner.output.tail_ag', 'secondary_cleaner.output.tail_pb',\n",
       "       'secondary_cleaner.output.tail_sol', 'secondary_cleaner.output.tail_au',\n",
       "       'secondary_cleaner.state.floatbank2_a_air',\n",
       "       'secondary_cleaner.state.floatbank2_a_level',\n",
       "       'secondary_cleaner.state.floatbank2_b_air',\n",
       "       'secondary_cleaner.state.floatbank2_b_level',\n",
       "       'secondary_cleaner.state.floatbank3_a_air',\n",
       "       'secondary_cleaner.state.floatbank3_a_level',\n",
       "       'secondary_cleaner.state.floatbank3_b_air',\n",
       "       'secondary_cleaner.state.floatbank3_b_level',\n",
       "       'secondary_cleaner.state.floatbank4_a_air',\n",
       "       'secondary_cleaner.state.floatbank4_a_level',\n",
       "       'secondary_cleaner.state.floatbank4_b_air',\n",
       "       'secondary_cleaner.state.floatbank4_b_level',\n",
       "       'secondary_cleaner.state.floatbank5_a_air',\n",
       "       'secondary_cleaner.state.floatbank5_a_level',\n",
       "       'secondary_cleaner.state.floatbank5_b_air',\n",
       "       'secondary_cleaner.state.floatbank5_b_level',\n",
       "       'secondary_cleaner.state.floatbank6_a_air',\n",
       "       'secondary_cleaner.state.floatbank6_a_level'],\n",
       "      dtype='object')"
      ]
     },
     "execution_count": 9,
     "metadata": {},
     "output_type": "execute_result"
    }
   ],
   "source": [
    "data_train.columns"
   ]
  },
  {
   "cell_type": "markdown",
   "metadata": {},
   "source": [
    "Рассмотрим значения целевых признаков каждой выборки."
   ]
  },
  {
   "cell_type": "code",
   "execution_count": 10,
   "metadata": {},
   "outputs": [
    {
     "data": {
      "text/plain": [
       "count    14149.000000\n",
       "mean        82.704502\n",
       "std         14.479156\n",
       "min          0.000000\n",
       "25%         79.993067\n",
       "50%         85.299462\n",
       "75%         90.165021\n",
       "max        100.000000\n",
       "Name: rougher.output.recovery, dtype: float64"
      ]
     },
     "execution_count": 10,
     "metadata": {},
     "output_type": "execute_result"
    }
   ],
   "source": [
    "data_train['rougher.output.recovery'].describe()"
   ]
  },
  {
   "cell_type": "code",
   "execution_count": 11,
   "metadata": {},
   "outputs": [
    {
     "data": {
      "text/plain": [
       "count    14149.000000\n",
       "mean        66.518832\n",
       "std         10.295402\n",
       "min          0.000000\n",
       "25%         62.545817\n",
       "50%         67.432775\n",
       "75%         72.346428\n",
       "max        100.000000\n",
       "Name: final.output.recovery, dtype: float64"
      ]
     },
     "execution_count": 11,
     "metadata": {},
     "output_type": "execute_result"
    }
   ],
   "source": [
    "data_train['final.output.recovery'].describe()"
   ]
  },
  {
   "cell_type": "code",
   "execution_count": 12,
   "metadata": {},
   "outputs": [
    {
     "data": {
      "text/plain": [
       "count    19439.000000\n",
       "mean        83.328587\n",
       "std         14.148086\n",
       "min          0.000000\n",
       "25%         81.037957\n",
       "50%         86.188892\n",
       "75%         90.010670\n",
       "max        100.000000\n",
       "Name: rougher.output.recovery, dtype: float64"
      ]
     },
     "execution_count": 12,
     "metadata": {},
     "output_type": "execute_result"
    }
   ],
   "source": [
    "data_full['rougher.output.recovery'].describe()"
   ]
  },
  {
   "cell_type": "code",
   "execution_count": 13,
   "metadata": {},
   "outputs": [
    {
     "data": {
      "text/plain": [
       "count    19439.000000\n",
       "mean        67.050208\n",
       "std         10.125840\n",
       "min          0.000000\n",
       "25%         63.299712\n",
       "50%         68.172738\n",
       "75%         72.686642\n",
       "max        100.000000\n",
       "Name: final.output.recovery, dtype: float64"
      ]
     },
     "execution_count": 13,
     "metadata": {},
     "output_type": "execute_result"
    }
   ],
   "source": [
    "data_full['final.output.recovery'].describe()"
   ]
  },
  {
   "cell_type": "markdown",
   "metadata": {},
   "source": [
    "У нас есть три выборки data_full, data_train, data_test. Размер data_full и data-train одинаковые, data_test - меньше. В data_test отсутствуют целевые признаки - rougher.output.recovery и final.output.recovery.\n",
    "\n",
    "В данных:\n",
    "\n",
    "1. Есть пропуски.\n",
    "\n",
    "2. Для столбца date нужно изменить тип данных с object на datetime, в остальном типы данных соответствуют содержимому.\n",
    "\n",
    "3. Регистр названий столбцов в датасетах соответствует типу snake_case.\n",
    "\n",
    "4. в целевых признаках имеются нулевые значения, возможно процесс очистки прошел бесполезно, так как не было получено золото (значение 0). Удалить такие значения из датасетов?"
   ]
  },
  {
   "cell_type": "markdown",
   "metadata": {},
   "source": [
    "### Проверим, что эффективность обогащения рассчитана правильно"
   ]
  },
  {
   "cell_type": "markdown",
   "metadata": {},
   "source": [
    "По условию проекта эффективность обогащения рассчитывается по формуле: \n",
    "\n",
    "$$recovery = \\frac{C*(F-T)}{F*(C-T)}*100%$$\n",
    "\n",
    "Подставляя в эту формулу наши данные, получаем:\n",
    "\n",
    "C - столбец 'rougher.output.concentrate_au'\n",
    "\n",
    "F - столбец 'rougher.input.feed_au'\n",
    "\n",
    "T - столбец 'rougher.output.tail_au'"
   ]
  },
  {
   "cell_type": "code",
   "execution_count": 14,
   "metadata": {},
   "outputs": [],
   "source": [
    "# вычислим эффективность обогащения на обучающей выборке\n",
    "C = data_train['rougher.output.concentrate_au']\n",
    "F = data_train['rougher.input.feed_au']\n",
    "T = data_train['rougher.output.tail_au']"
   ]
  },
  {
   "cell_type": "code",
   "execution_count": 15,
   "metadata": {},
   "outputs": [
    {
     "data": {
      "text/plain": [
       "82.70450164550293"
      ]
     },
     "execution_count": 15,
     "metadata": {},
     "output_type": "execute_result"
    }
   ],
   "source": [
    "# создадим новый столбец для наших вычислений\n",
    "data_train['recovery_calculation'] = ((C*(F-T))/(F*(C-T)))*100\n",
    "data_train['recovery_calculation'].mean()"
   ]
  },
  {
   "cell_type": "code",
   "execution_count": 16,
   "metadata": {},
   "outputs": [
    {
     "data": {
      "text/plain": [
       "82.70450164550293"
      ]
     },
     "execution_count": 16,
     "metadata": {},
     "output_type": "execute_result"
    }
   ],
   "source": [
    "# сравним с признаком 'rougher.output.recovery'\n",
    "data_train['rougher.output.recovery'].mean()"
   ]
  },
  {
   "cell_type": "markdown",
   "metadata": {},
   "source": [
    "Значения совпадают, делаем вывод, что эффективность рассчитана правильно."
   ]
  },
  {
   "cell_type": "markdown",
   "metadata": {},
   "source": [
    "Найдем среднюю абсолютную ошибку (MAE) между нашими расчётами и значением признака. Средняя абсолютная ошибка (англ. Mean Absolute Error) – это степень несоответствия между фактическими и прогнозируемыми значениями. Абсолютная ошибка представляет собой разность между спрогнозированным и фактическим значениями. MAE — это среднее от таких ошибок, что помогает понять эффективность Модели. Чем ближе MAE к нулю, тем точнее модель."
   ]
  },
  {
   "cell_type": "code",
   "execution_count": 17,
   "metadata": {},
   "outputs": [
    {
     "name": "stdout",
     "output_type": "stream",
     "text": [
      "MAE -  9.73512347450521e-15\n"
     ]
    }
   ],
   "source": [
    "print('MAE - ', mean_absolute_error(data_train['recovery_calculation'], data_train['rougher.output.recovery']))"
   ]
  },
  {
   "cell_type": "markdown",
   "metadata": {},
   "source": [
    "Полученное значение мало, а значит расчеты верны."
   ]
  },
  {
   "cell_type": "markdown",
   "metadata": {},
   "source": [
    "### Проанализируем признаки, недоступные в тестовой выборке."
   ]
  },
  {
   "cell_type": "code",
   "execution_count": 18,
   "metadata": {},
   "outputs": [
    {
     "data": {
      "text/plain": [
       "{'final.output.concentrate_ag',\n",
       " 'final.output.concentrate_au',\n",
       " 'final.output.concentrate_pb',\n",
       " 'final.output.concentrate_sol',\n",
       " 'final.output.recovery',\n",
       " 'final.output.tail_ag',\n",
       " 'final.output.tail_au',\n",
       " 'final.output.tail_pb',\n",
       " 'final.output.tail_sol',\n",
       " 'primary_cleaner.output.concentrate_ag',\n",
       " 'primary_cleaner.output.concentrate_au',\n",
       " 'primary_cleaner.output.concentrate_pb',\n",
       " 'primary_cleaner.output.concentrate_sol',\n",
       " 'primary_cleaner.output.tail_ag',\n",
       " 'primary_cleaner.output.tail_au',\n",
       " 'primary_cleaner.output.tail_pb',\n",
       " 'primary_cleaner.output.tail_sol',\n",
       " 'rougher.calculation.au_pb_ratio',\n",
       " 'rougher.calculation.floatbank10_sulfate_to_au_feed',\n",
       " 'rougher.calculation.floatbank11_sulfate_to_au_feed',\n",
       " 'rougher.calculation.sulfate_to_au_concentrate',\n",
       " 'rougher.output.concentrate_ag',\n",
       " 'rougher.output.concentrate_au',\n",
       " 'rougher.output.concentrate_pb',\n",
       " 'rougher.output.concentrate_sol',\n",
       " 'rougher.output.recovery',\n",
       " 'rougher.output.tail_ag',\n",
       " 'rougher.output.tail_au',\n",
       " 'rougher.output.tail_pb',\n",
       " 'rougher.output.tail_sol',\n",
       " 'secondary_cleaner.output.tail_ag',\n",
       " 'secondary_cleaner.output.tail_au',\n",
       " 'secondary_cleaner.output.tail_pb',\n",
       " 'secondary_cleaner.output.tail_sol'}"
      ]
     },
     "execution_count": 18,
     "metadata": {},
     "output_type": "execute_result"
    }
   ],
   "source": [
    "unvailable_features = set(data_full.columns) - set(data_test.columns)\n",
    "unvailable_features"
   ]
  },
  {
   "cell_type": "code",
   "execution_count": 19,
   "metadata": {},
   "outputs": [
    {
     "name": "stdout",
     "output_type": "stream",
     "text": [
      "\n",
      "Количество отсутствующих признаков - 34\n"
     ]
    }
   ],
   "source": [
    "print('\\nКоличество отсутствующих признаков -', len(unvailable_features))"
   ]
  },
  {
   "cell_type": "markdown",
   "metadata": {},
   "source": [
    "В тестовой выборке отсутствуют следующие признаки:\n",
    " - 9 столбцов final.output - характеризуют финальные характеристики продукта\n",
    " - 8 столбцов primary_cleaner.output - этап первичной очистки\n",
    " - 4 столбца rougher.calculation - расчетные характеристики на этапе флотации\n",
    " - 9 столбцов rougher.output - продукт на выходе с этапа флотации\n",
    " - 4 столбца secondary_cleaner - этап вторичной очистки.\n",
    "\n",
    "Эти признаки относятся к вторичным стадиям обогащения, к параметрам продуктов (а не сырья), следовательно они замеряются или рассчитываются значительно позже (по условию задачи)."
   ]
  },
  {
   "cell_type": "markdown",
   "metadata": {},
   "source": [
    "В data_test в том числе отсутствуют целевые признаки rougher.output.recovery и final.output.recovery. Добавим их в тестовую выборку, используя метод merge, в качестве индексов используем колонку date (данные индексируются датой и временем получения информации)."
   ]
  },
  {
   "cell_type": "code",
   "execution_count": 20,
   "metadata": {},
   "outputs": [],
   "source": [
    "data_test = data_test.merge(data_full.loc[:, ['date','rougher.output.recovery','final.output.recovery']], on='date')"
   ]
  },
  {
   "cell_type": "markdown",
   "metadata": {},
   "source": [
    "### Предобработка данных"
   ]
  },
  {
   "cell_type": "markdown",
   "metadata": {},
   "source": [
    "В процессе предобработки данных:\n",
    "1. заполним пропуски. Поскольку в описании проекта сказано, что данные индексируются датой и временем получения информации (признак date) и соседние по времени параметры часто похожи, заполним пропуски методом ffill.\n",
    "2. заменим тип данных столбца date с object на datetime."
   ]
  },
  {
   "cell_type": "code",
   "execution_count": 21,
   "metadata": {},
   "outputs": [],
   "source": [
    "data_train.ffill(axis='rows', inplace=True)\n",
    "data_test.ffill(axis='rows', inplace=True)"
   ]
  },
  {
   "cell_type": "code",
   "execution_count": 22,
   "metadata": {},
   "outputs": [
    {
     "data": {
      "text/plain": [
       "date                                          0\n",
       "final.output.concentrate_ag                   0\n",
       "final.output.concentrate_pb                   0\n",
       "final.output.concentrate_sol                  0\n",
       "final.output.concentrate_au                   0\n",
       "                                             ..\n",
       "secondary_cleaner.state.floatbank5_b_air      0\n",
       "secondary_cleaner.state.floatbank5_b_level    0\n",
       "secondary_cleaner.state.floatbank6_a_air      0\n",
       "secondary_cleaner.state.floatbank6_a_level    0\n",
       "recovery_calculation                          0\n",
       "Length: 88, dtype: int64"
      ]
     },
     "execution_count": 22,
     "metadata": {},
     "output_type": "execute_result"
    }
   ],
   "source": [
    "data_train.isna().sum()"
   ]
  },
  {
   "cell_type": "code",
   "execution_count": 23,
   "metadata": {},
   "outputs": [
    {
     "data": {
      "text/plain": [
       "date                                          0\n",
       "primary_cleaner.input.sulfate                 0\n",
       "primary_cleaner.input.depressant              0\n",
       "primary_cleaner.input.feed_size               0\n",
       "primary_cleaner.input.xanthate                0\n",
       "primary_cleaner.state.floatbank8_a_air        0\n",
       "primary_cleaner.state.floatbank8_a_level      0\n",
       "primary_cleaner.state.floatbank8_b_air        0\n",
       "primary_cleaner.state.floatbank8_b_level      0\n",
       "primary_cleaner.state.floatbank8_c_air        0\n",
       "primary_cleaner.state.floatbank8_c_level      0\n",
       "primary_cleaner.state.floatbank8_d_air        0\n",
       "primary_cleaner.state.floatbank8_d_level      0\n",
       "rougher.input.feed_ag                         0\n",
       "rougher.input.feed_pb                         0\n",
       "rougher.input.feed_rate                       0\n",
       "rougher.input.feed_size                       0\n",
       "rougher.input.feed_sol                        0\n",
       "rougher.input.feed_au                         0\n",
       "rougher.input.floatbank10_sulfate             0\n",
       "rougher.input.floatbank10_xanthate            0\n",
       "rougher.input.floatbank11_sulfate             0\n",
       "rougher.input.floatbank11_xanthate            0\n",
       "rougher.state.floatbank10_a_air               0\n",
       "rougher.state.floatbank10_a_level             0\n",
       "rougher.state.floatbank10_b_air               0\n",
       "rougher.state.floatbank10_b_level             0\n",
       "rougher.state.floatbank10_c_air               0\n",
       "rougher.state.floatbank10_c_level             0\n",
       "rougher.state.floatbank10_d_air               0\n",
       "rougher.state.floatbank10_d_level             0\n",
       "rougher.state.floatbank10_e_air               0\n",
       "rougher.state.floatbank10_e_level             0\n",
       "rougher.state.floatbank10_f_air               0\n",
       "rougher.state.floatbank10_f_level             0\n",
       "secondary_cleaner.state.floatbank2_a_air      0\n",
       "secondary_cleaner.state.floatbank2_a_level    0\n",
       "secondary_cleaner.state.floatbank2_b_air      0\n",
       "secondary_cleaner.state.floatbank2_b_level    0\n",
       "secondary_cleaner.state.floatbank3_a_air      0\n",
       "secondary_cleaner.state.floatbank3_a_level    0\n",
       "secondary_cleaner.state.floatbank3_b_air      0\n",
       "secondary_cleaner.state.floatbank3_b_level    0\n",
       "secondary_cleaner.state.floatbank4_a_air      0\n",
       "secondary_cleaner.state.floatbank4_a_level    0\n",
       "secondary_cleaner.state.floatbank4_b_air      0\n",
       "secondary_cleaner.state.floatbank4_b_level    0\n",
       "secondary_cleaner.state.floatbank5_a_air      0\n",
       "secondary_cleaner.state.floatbank5_a_level    0\n",
       "secondary_cleaner.state.floatbank5_b_air      0\n",
       "secondary_cleaner.state.floatbank5_b_level    0\n",
       "secondary_cleaner.state.floatbank6_a_air      0\n",
       "secondary_cleaner.state.floatbank6_a_level    0\n",
       "rougher.output.recovery                       0\n",
       "final.output.recovery                         0\n",
       "dtype: int64"
      ]
     },
     "execution_count": 23,
     "metadata": {},
     "output_type": "execute_result"
    }
   ],
   "source": [
    "data_test.isna().sum()"
   ]
  },
  {
   "cell_type": "markdown",
   "metadata": {},
   "source": [
    "Изменим тип данных столбца date в выборках с object на datetime."
   ]
  },
  {
   "cell_type": "code",
   "execution_count": 24,
   "metadata": {},
   "outputs": [
    {
     "data": {
      "text/plain": [
       "date                                          datetime64[ns]\n",
       "final.output.concentrate_ag                          float64\n",
       "final.output.concentrate_pb                          float64\n",
       "final.output.concentrate_sol                         float64\n",
       "final.output.concentrate_au                          float64\n",
       "                                                   ...      \n",
       "secondary_cleaner.state.floatbank5_b_air             float64\n",
       "secondary_cleaner.state.floatbank5_b_level           float64\n",
       "secondary_cleaner.state.floatbank6_a_air             float64\n",
       "secondary_cleaner.state.floatbank6_a_level           float64\n",
       "recovery_calculation                                 float64\n",
       "Length: 88, dtype: object"
      ]
     },
     "execution_count": 24,
     "metadata": {},
     "output_type": "execute_result"
    }
   ],
   "source": [
    "data_train['date'] = pd.to_datetime(data_train['date'], format='%Y-%m-%d %H:%M:%S')\n",
    "data_train.dtypes"
   ]
  },
  {
   "cell_type": "code",
   "execution_count": 25,
   "metadata": {},
   "outputs": [
    {
     "data": {
      "text/plain": [
       "date                                          datetime64[ns]\n",
       "primary_cleaner.input.sulfate                        float64\n",
       "primary_cleaner.input.depressant                     float64\n",
       "primary_cleaner.input.feed_size                      float64\n",
       "primary_cleaner.input.xanthate                       float64\n",
       "primary_cleaner.state.floatbank8_a_air               float64\n",
       "primary_cleaner.state.floatbank8_a_level             float64\n",
       "primary_cleaner.state.floatbank8_b_air               float64\n",
       "primary_cleaner.state.floatbank8_b_level             float64\n",
       "primary_cleaner.state.floatbank8_c_air               float64\n",
       "primary_cleaner.state.floatbank8_c_level             float64\n",
       "primary_cleaner.state.floatbank8_d_air               float64\n",
       "primary_cleaner.state.floatbank8_d_level             float64\n",
       "rougher.input.feed_ag                                float64\n",
       "rougher.input.feed_pb                                float64\n",
       "rougher.input.feed_rate                              float64\n",
       "rougher.input.feed_size                              float64\n",
       "rougher.input.feed_sol                               float64\n",
       "rougher.input.feed_au                                float64\n",
       "rougher.input.floatbank10_sulfate                    float64\n",
       "rougher.input.floatbank10_xanthate                   float64\n",
       "rougher.input.floatbank11_sulfate                    float64\n",
       "rougher.input.floatbank11_xanthate                   float64\n",
       "rougher.state.floatbank10_a_air                      float64\n",
       "rougher.state.floatbank10_a_level                    float64\n",
       "rougher.state.floatbank10_b_air                      float64\n",
       "rougher.state.floatbank10_b_level                    float64\n",
       "rougher.state.floatbank10_c_air                      float64\n",
       "rougher.state.floatbank10_c_level                    float64\n",
       "rougher.state.floatbank10_d_air                      float64\n",
       "rougher.state.floatbank10_d_level                    float64\n",
       "rougher.state.floatbank10_e_air                      float64\n",
       "rougher.state.floatbank10_e_level                    float64\n",
       "rougher.state.floatbank10_f_air                      float64\n",
       "rougher.state.floatbank10_f_level                    float64\n",
       "secondary_cleaner.state.floatbank2_a_air             float64\n",
       "secondary_cleaner.state.floatbank2_a_level           float64\n",
       "secondary_cleaner.state.floatbank2_b_air             float64\n",
       "secondary_cleaner.state.floatbank2_b_level           float64\n",
       "secondary_cleaner.state.floatbank3_a_air             float64\n",
       "secondary_cleaner.state.floatbank3_a_level           float64\n",
       "secondary_cleaner.state.floatbank3_b_air             float64\n",
       "secondary_cleaner.state.floatbank3_b_level           float64\n",
       "secondary_cleaner.state.floatbank4_a_air             float64\n",
       "secondary_cleaner.state.floatbank4_a_level           float64\n",
       "secondary_cleaner.state.floatbank4_b_air             float64\n",
       "secondary_cleaner.state.floatbank4_b_level           float64\n",
       "secondary_cleaner.state.floatbank5_a_air             float64\n",
       "secondary_cleaner.state.floatbank5_a_level           float64\n",
       "secondary_cleaner.state.floatbank5_b_air             float64\n",
       "secondary_cleaner.state.floatbank5_b_level           float64\n",
       "secondary_cleaner.state.floatbank6_a_air             float64\n",
       "secondary_cleaner.state.floatbank6_a_level           float64\n",
       "rougher.output.recovery                              float64\n",
       "final.output.recovery                                float64\n",
       "dtype: object"
      ]
     },
     "execution_count": 25,
     "metadata": {},
     "output_type": "execute_result"
    }
   ],
   "source": [
    "data_test['date'] = pd.to_datetime(data_test['date'], format='%Y-%m-%d %H:%M:%S')\n",
    "data_test.dtypes"
   ]
  },
  {
   "cell_type": "code",
   "execution_count": 26,
   "metadata": {},
   "outputs": [
    {
     "data": {
      "text/plain": [
       "date                                          datetime64[ns]\n",
       "final.output.concentrate_ag                          float64\n",
       "final.output.concentrate_pb                          float64\n",
       "final.output.concentrate_sol                         float64\n",
       "final.output.concentrate_au                          float64\n",
       "                                                   ...      \n",
       "secondary_cleaner.state.floatbank5_a_level           float64\n",
       "secondary_cleaner.state.floatbank5_b_air             float64\n",
       "secondary_cleaner.state.floatbank5_b_level           float64\n",
       "secondary_cleaner.state.floatbank6_a_air             float64\n",
       "secondary_cleaner.state.floatbank6_a_level           float64\n",
       "Length: 87, dtype: object"
      ]
     },
     "execution_count": 26,
     "metadata": {},
     "output_type": "execute_result"
    }
   ],
   "source": [
    "data_full['date'] = pd.to_datetime(data_full['date'], format='%Y-%m-%d %H:%M:%S')\n",
    "data_full.dtypes"
   ]
  },
  {
   "cell_type": "markdown",
   "metadata": {},
   "source": [
    "**Вывод по шагу 1:**\n",
    "\n",
    "1. Привели в соответствие тип данных для колонки date: изменили с object на datetime. В остальных признаках типы данных соответствуют содержимому.\n",
    "2. Регистр соответствует стандарту snake_case.\n",
    "3. Пропуски в обучающей и тестовой выборках были заполнены значениями предшествующими по времени (такое условие было прописано в описании проекта) методом ffill.\n",
    "4. Проверено, что эффективность обогащения рассчитана правильно. МАЕ (отличие предсказаний от истинных значений) равно достаточно малому значению, что говорит о верности расчетов.\n",
    "5. Нашли признаки, отсутствующие в тестовой выборке. Их оказалось 34 значения. Это может быть связано с тем, что они замеряются или рассчитываются значительно позже.\n",
    "6. В data_test добавили целевые признаки (rougher.output.recovery, final.output.recovery)."
   ]
  },
  {
   "cell_type": "markdown",
   "metadata": {},
   "source": [
    "## Анализ данных"
   ]
  },
  {
   "cell_type": "markdown",
   "metadata": {},
   "source": [
    "### Изменение концентрация металлов (Au, Ag, Pb) на различных этапах очистки"
   ]
  },
  {
   "cell_type": "markdown",
   "metadata": {},
   "source": [
    "Концентрация металлов (Au, Ag, Pb) на различных этапах очистки представлена в следующих столбцах:\n",
    "- final.output.concentrate_ag,\n",
    "- final.output.concentrate_pb,\n",
    "- final.output.concentrate_au\n",
    "\n",
    "\n",
    "- primary_cleaner.output.concentrate_ag,\n",
    "- primary_cleaner.output.concentrate_pb,\n",
    "- primary_cleaner.output.concentrate_au\n",
    "\n",
    "\n",
    "- rougher.output.concentrate_ag,\n",
    "- rougher.output.concentrate_pb,\n",
    "- rougher.output.concentrate_au\n",
    "\n",
    "\n",
    "- **rougher.input.feed_ag**\n",
    "- **rougher.input.feed_pb**\n",
    "- **rougher.input.feed_au**"
   ]
  },
  {
   "cell_type": "code",
   "execution_count": 27,
   "metadata": {},
   "outputs": [],
   "source": [
    "#отфильтруем данные для серебра\n",
    "data_full_ag = data_full[['rougher.input.feed_ag',\n",
    "                          'rougher.output.concentrate_ag',\n",
    "                          'primary_cleaner.output.concentrate_ag',\n",
    "                          'final.output.concentrate_ag']]"
   ]
  },
  {
   "cell_type": "code",
   "execution_count": 28,
   "metadata": {},
   "outputs": [],
   "source": [
    "#отфильтруем данные для свинца\n",
    "data_full_pb = data_full[['rougher.input.feed_pb',\n",
    "                          'rougher.output.concentrate_pb',\n",
    "                          'primary_cleaner.output.concentrate_pb',\n",
    "                          'final.output.concentrate_pb']]"
   ]
  },
  {
   "cell_type": "code",
   "execution_count": 29,
   "metadata": {},
   "outputs": [],
   "source": [
    "#отфильтруем данные для золота\n",
    "data_full_au = data_full[['rougher.input.feed_au',\n",
    "                          'rougher.output.concentrate_au',\n",
    "                          'primary_cleaner.output.concentrate_au',\n",
    "                          'final.output.concentrate_au']]"
   ]
  },
  {
   "cell_type": "markdown",
   "metadata": {},
   "source": [
    "После построения графика названия стадий очистки стали нечитабельны из-за своего длинного названия на английском языке. Поэтому для удобства пришлось вернуться на шаг раньше и переименовать названия колонок для каждого металла."
   ]
  },
  {
   "cell_type": "code",
   "execution_count": 30,
   "metadata": {},
   "outputs": [],
   "source": [
    "data_full_ag = data_full_ag.rename(columns={'rougher.input.feed_ag': 'сырье',\n",
    "                                            'rougher.output.concentrate_ag': 'флотация',\n",
    "                                            'primary_cleaner.output.concentrate_ag': 'первичная очистка',\n",
    "                                            'final.output.concentrate_ag': 'финальная очистка'})"
   ]
  },
  {
   "cell_type": "code",
   "execution_count": 31,
   "metadata": {},
   "outputs": [],
   "source": [
    "data_full_pb = data_full_pb.rename(columns={'rougher.input.feed_pb': 'сырье',\n",
    "                                            'rougher.output.concentrate_pb': 'флотация',\n",
    "                                            'primary_cleaner.output.concentrate_pb': 'первичная очистка',\n",
    "                                            'final.output.concentrate_pb': 'финальная очистка'})"
   ]
  },
  {
   "cell_type": "code",
   "execution_count": 32,
   "metadata": {},
   "outputs": [],
   "source": [
    "data_full_au = data_full_au.rename(columns={'rougher.input.feed_au': 'сырье',\n",
    "                                            'rougher.output.concentrate_au': 'флотация',\n",
    "                                            'primary_cleaner.output.concentrate_au': 'первичная очистка',\n",
    "                                            'final.output.concentrate_au': 'финальная очистка'})"
   ]
  },
  {
   "cell_type": "code",
   "execution_count": 33,
   "metadata": {},
   "outputs": [
    {
     "data": {
      "text/plain": [
       "Text(0.5, 0.98, 'Изменение концентрации металлов на различных этапах очистки')"
      ]
     },
     "execution_count": 33,
     "metadata": {},
     "output_type": "execute_result"
    },
    {
     "data": {
      "image/png": "[encoded data removed]",
      "text/plain": [
       "<Figure size 1584x432 with 3 Axes>"
      ]
     },
     "metadata": {
      "needs_background": "light"
     },
     "output_type": "display_data"
    }
   ],
   "source": [
    "#построим графики для каждого металла.\n",
    "fig, (ax1, ax2, ax3) = plt.subplots(1, 3, linewidth=3, figsize=(22, 6))#1 ряд, 3 графика\n",
    "\n",
    "data_full_ag.mean().plot(ax=ax1, subplots=True, fontsize=12)\n",
    "ax1.set_title('Серебро (Ag)', fontsize=16)\n",
    "ax1.set_ylabel('Концентрация металла', fontsize=14)\n",
    "ax1.set_xlabel('Стадии очистки', fontsize=14)\n",
    "\n",
    "data_full_pb.mean().plot(ax=ax2, subplots=True, fontsize=12)\n",
    "ax2.set_title('Свинец (Pb)', fontsize=16)\n",
    "ax2.set_ylabel('Концентрация металла', fontsize=14)\n",
    "ax2.set_xlabel('Стадии очистки', fontsize=14)\n",
    "\n",
    "data_full_au.mean().plot(ax=ax3, subplots=True, fontsize=12)\n",
    "ax3.set_title('Золото (Au)', fontsize=16)\n",
    "ax3.set_ylabel('Концентрация металла', fontsize=14)\n",
    "ax3.set_xlabel('Стадии очистки', fontsize=14)\n",
    "\n",
    "\n",
    "plt.suptitle('Изменение концентрации металлов на различных этапах очистки', fontsize=18, fontweight='bold')"
   ]
  },
  {
   "cell_type": "markdown",
   "metadata": {},
   "source": [
    "Концентрация серебра (ag) уменьшается в процессе очистки. \n",
    "\n",
    "Концентрация свинца (pb) сначала значительно повышается от стадии флотации к первичной очистке, и еще немного повышается на стадии финальной очистки.\n",
    "\n",
    "Концентрация золота (au) равномерно повышается от флотации до финальной очистки."
   ]
  },
  {
   "cell_type": "markdown",
   "metadata": {},
   "source": [
    "###  Сравнение распределения размеров гранул сырья на обучающей и тестовой выборках"
   ]
  },
  {
   "cell_type": "markdown",
   "metadata": {},
   "source": [
    "Размеры гранул сырья на обучающей и тестовой выборках представлены в столбцах rougher.input.feed_size и primary_cleaner.input.feed_size."
   ]
  },
  {
   "cell_type": "code",
   "execution_count": 34,
   "metadata": {},
   "outputs": [
    {
     "data": {
      "text/plain": [
       "count    14149.000000\n",
       "mean        60.239856\n",
       "std         23.005310\n",
       "min          9.659576\n",
       "25%         48.966751\n",
       "50%         55.269784\n",
       "75%         66.007526\n",
       "max        484.967466\n",
       "Name: rougher.input.feed_size, dtype: float64"
      ]
     },
     "execution_count": 34,
     "metadata": {},
     "output_type": "execute_result"
    }
   ],
   "source": [
    "data_train['rougher.input.feed_size'].describe()"
   ]
  },
  {
   "cell_type": "code",
   "execution_count": 35,
   "metadata": {},
   "outputs": [
    {
     "data": {
      "text/plain": [
       "count    5290.000000\n",
       "mean       55.952754\n",
       "std        19.080334\n",
       "min         0.046369\n",
       "25%        43.906504\n",
       "50%        50.846843\n",
       "75%        62.451165\n",
       "max       392.494040\n",
       "Name: rougher.input.feed_size, dtype: float64"
      ]
     },
     "execution_count": 35,
     "metadata": {},
     "output_type": "execute_result"
    }
   ],
   "source": [
    "data_test['rougher.input.feed_size'].describe()"
   ]
  },
  {
   "cell_type": "code",
   "execution_count": 36,
   "metadata": {},
   "outputs": [
    {
     "data": {
      "text/plain": [
       "count    14149.000000\n",
       "mean         7.322310\n",
       "std          0.614062\n",
       "min          1.080000\n",
       "25%          6.960000\n",
       "50%          7.290000\n",
       "75%          7.700000\n",
       "max         10.470000\n",
       "Name: primary_cleaner.input.feed_size, dtype: float64"
      ]
     },
     "execution_count": 36,
     "metadata": {},
     "output_type": "execute_result"
    }
   ],
   "source": [
    "data_train['primary_cleaner.input.feed_size'].describe()"
   ]
  },
  {
   "cell_type": "code",
   "execution_count": 37,
   "metadata": {},
   "outputs": [
    {
     "data": {
      "text/plain": [
       "count    5290.000000\n",
       "mean        7.266339\n",
       "std         0.610219\n",
       "min         5.650000\n",
       "25%         6.890000\n",
       "50%         7.250000\n",
       "75%         7.600000\n",
       "max        15.500000\n",
       "Name: primary_cleaner.input.feed_size, dtype: float64"
      ]
     },
     "execution_count": 37,
     "metadata": {},
     "output_type": "execute_result"
    }
   ],
   "source": [
    "data_test['primary_cleaner.input.feed_size'].describe()"
   ]
  },
  {
   "cell_type": "code",
   "execution_count": 38,
   "metadata": {},
   "outputs": [
    {
     "data": {
      "text/plain": [
       "<function matplotlib.pyplot.show(close=None, block=None)>"
      ]
     },
     "execution_count": 38,
     "metadata": {},
     "output_type": "execute_result"
    },
    {
     "data": {
      "image/png": "[encoded data removed]",
      "text/plain": [
       "<Figure size 1080x360 with 1 Axes>"
      ]
     },
     "metadata": {
      "needs_background": "light"
     },
     "output_type": "display_data"
    }
   ],
   "source": [
    "data_train['rougher.input.feed_size'].hist(figsize=(15, 5))\n",
    "data_test['rougher.input.feed_size'].hist(figsize=(15, 5))\n",
    "plt.title('Распределение размеров гранул на стадии флотации')\n",
    "plt.xlabel('Размер гранул')\n",
    "plt.legend(labels=['Размер гранул в обучающей выборке', 'Размер гранул в тестовой выборке'])\n",
    "plt.show"
   ]
  },
  {
   "cell_type": "code",
   "execution_count": 39,
   "metadata": {},
   "outputs": [
    {
     "data": {
      "text/plain": [
       "<function matplotlib.pyplot.show(close=None, block=None)>"
      ]
     },
     "execution_count": 39,
     "metadata": {},
     "output_type": "execute_result"
    },
    {
     "data": {
      "image/png": "[encoded data removed]",
      "text/plain": [
       "<Figure size 1080x360 with 1 Axes>"
      ]
     },
     "metadata": {
      "needs_background": "light"
     },
     "output_type": "display_data"
    }
   ],
   "source": [
    "data_train['primary_cleaner.input.feed_size'].hist(figsize=(15, 5))\n",
    "data_test['primary_cleaner.input.feed_size'].hist(figsize=(15, 5))\n",
    "plt.title('Распределение размеров гранул на стадии первичной очистки')\n",
    "plt.xlabel('Размер гранул')\n",
    "plt.legend(labels=['Размер гранул в обучающей выборке', 'Размер гранул в тестовой выборке'])\n",
    "plt.show"
   ]
  },
  {
   "cell_type": "markdown",
   "metadata": {},
   "source": [
    "На стадии флотации распределение гранул находится примерно в одинаковом диапазоне.\n",
    "\n",
    "На стадии первичной очистки распределение гранул для выборок находится в одном диапазоне, однако есть различия в количестве наблюдений. Так для обучающей выборки количество наблюдений размера гранул больше, чем для тестовой. Сами размеры гранул существенно снижаются после флотации (видимо, происходи процесс расщепления во время флотации).\n",
    "\n",
    "Метод describe показал, что средний размер гранул сырья на обучающей выборке 60,23 микрон, а на тестовой - 55,95. 4,28 микрон - совсем не большая разница, так что будем считать, что распределения примерно равны."
   ]
  },
  {
   "cell_type": "code",
   "execution_count": 40,
   "metadata": {},
   "outputs": [
    {
     "name": "stdout",
     "output_type": "stream",
     "text": [
      "count    14149.000000\n",
      "mean        60.239856\n",
      "std         23.005310\n",
      "min          9.659576\n",
      "25%         48.966751\n",
      "50%         55.269784\n",
      "75%         66.007526\n",
      "max        484.967466\n",
      "Name: rougher.input.feed_size, dtype: float64\n",
      "count    5290.000000\n",
      "mean       55.952754\n",
      "std        19.080334\n",
      "min         0.046369\n",
      "25%        43.906504\n",
      "50%        50.846843\n",
      "75%        62.451165\n",
      "max       392.494040\n",
      "Name: rougher.input.feed_size, dtype: float64\n"
     ]
    },
    {
     "data": {
      "image/png": "[encoded data removed]",
      "text/plain": [
       "<Figure size 1080x360 with 1 Axes>"
      ]
     },
     "metadata": {
      "needs_background": "light"
     },
     "output_type": "display_data"
    }
   ],
   "source": [
    "plt.figure(figsize=(15,5))\n",
    "sns.kdeplot(data_train['rougher.input.feed_size'], label='train rougher.input.feed_size', alpha=0.5, shade=True)\n",
    "sns.kdeplot(data_test['rougher.input.feed_size'], label='test rougher.input.feed_size', alpha=0.5, shade=True)\n",
    "plt.xlim([0, 175])\n",
    "plt.xlabel('Размер гранул')\n",
    "plt.ylabel('Плотность вероятности непрерывной величины')\n",
    "plt.legend(loc='upper right')\n",
    "plt.show\n",
    "print(data_train['rougher.input.feed_size'].describe())\n",
    "print(data_test['rougher.input.feed_size'].describe())"
   ]
  },
  {
   "cell_type": "code",
   "execution_count": 41,
   "metadata": {},
   "outputs": [
    {
     "name": "stdout",
     "output_type": "stream",
     "text": [
      "count    14149.000000\n",
      "mean         7.322310\n",
      "std          0.614062\n",
      "min          1.080000\n",
      "25%          6.960000\n",
      "50%          7.290000\n",
      "75%          7.700000\n",
      "max         10.470000\n",
      "Name: primary_cleaner.input.feed_size, dtype: float64\n",
      "count    5290.000000\n",
      "mean        7.266339\n",
      "std         0.610219\n",
      "min         5.650000\n",
      "25%         6.890000\n",
      "50%         7.250000\n",
      "75%         7.600000\n",
      "max        15.500000\n",
      "Name: primary_cleaner.input.feed_size, dtype: float64\n"
     ]
    },
    {
     "data": {
      "image/png": "[encoded data removed]",
      "text/plain": [
       "<Figure size 1080x360 with 1 Axes>"
      ]
     },
     "metadata": {
      "needs_background": "light"
     },
     "output_type": "display_data"
    }
   ],
   "source": [
    "plt.figure(figsize=(15,5))\n",
    "sns.kdeplot(data_train['primary_cleaner.input.feed_size'], label='train primary_cleaner.input.feed_size', alpha=0.5, shade=True)\n",
    "sns.kdeplot(data_test['primary_cleaner.input.feed_size'], label='test primary_cleaner.input.feed_size', alpha=0.5, shade=True)\n",
    "plt.xlim([0, 20])\n",
    "plt.xlabel('Размер гранул')\n",
    "plt.ylabel('Плотность вероятности непрерывной величины')\n",
    "plt.legend(loc='upper right')\n",
    "plt.show\n",
    "print(data_train['primary_cleaner.input.feed_size'].describe())\n",
    "print(data_test['primary_cleaner.input.feed_size'].describe())"
   ]
  },
  {
   "cell_type": "markdown",
   "metadata": {},
   "source": [
    "### Исследование суммарной концентрации всех веществ на разных стадиях."
   ]
  },
  {
   "cell_type": "markdown",
   "metadata": {},
   "source": [
    "Исследование суммарных концентраций проведем в общем датасете на разных стадиях: в сырье, в черновом и финальном концентратах. Берем следующие столбцы соответственно: rougher_input, rougher_output, final.\n",
    "\n",
    "Посчитаем концентрации и построим по ним гистограммы для выявления аномалий."
   ]
  },
  {
   "cell_type": "code",
   "execution_count": 42,
   "metadata": {},
   "outputs": [],
   "source": [
    "sum_concentrate_of_rougher_input = 0\n",
    "sum_concentrate_of_rougher_output = 0\n",
    "sum_concentrate_of_final_output = 0\n",
    "for metal in ['au', 'ag', 'pb', 'sol']:\n",
    "    sum_concentrate_of_rougher_input += data_full[f'rougher.input.feed_{metal}']\n",
    "    sum_concentrate_of_rougher_output += data_full[f'rougher.output.concentrate_{metal}']\n",
    "    sum_concentrate_of_final_output += data_full[f'final.output.concentrate_{metal}']"
   ]
  },
  {
   "cell_type": "code",
   "execution_count": 43,
   "metadata": {},
   "outputs": [
    {
     "data": {
      "image/png": "[encoded data removed]",
      "text/plain": [
       "<Figure size 1440x504 with 1 Axes>"
      ]
     },
     "metadata": {
      "needs_background": "light"
     },
     "output_type": "display_data"
    }
   ],
   "source": [
    "plt.figure(figsize=[20, 7])\n",
    "plt.suptitle('Суммарная концентрация всех веществ на разных стадиях', fontsize=20)\n",
    "sns.histplot(sum_concentrate_of_rougher_input, color='y', label='Сырье')\n",
    "sns.histplot(sum_concentrate_of_rougher_output, color='b', label='Концентрация после флотации')\n",
    "sns.histplot(sum_concentrate_of_final_output, color='r', label='Финальная концетрация')\n",
    "plt.xlabel('Концентрация веществ')\n",
    "plt.ylabel('Количество наблюдений')\n",
    "plt.legend()\n",
    "plt.show();"
   ]
  },
  {
   "cell_type": "markdown",
   "metadata": {},
   "source": [
    "Суммарная концентрация веществ увеличивается к финальному этапу.\n",
    "На финальной стадии и на стадии после флотации есть нули в получившихся данных. Видимо, это выбросы. **Еще не решила, что с ними делать**. Возможно, их нужно удалить, так как они могут повлиять на обучение модели."
   ]
  },
  {
   "cell_type": "code",
   "execution_count": 44,
   "metadata": {},
   "outputs": [],
   "source": [
    "# оставим в обучающей и полной выборках ненулевые значения.\n",
    "data_train_without_zero = data_train[(data_train['rougher.output.concentrate_au'] != 0) & (data_train['rougher.output.concentrate_ag'] != 0) & (data_train['rougher.output.concentrate_pb'] != 0) & (data_train['rougher.output.concentrate_sol'] != 0)]\n",
    "data_train_without_zero = data_train_without_zero[(data_train_without_zero['final.output.concentrate_au'] != 0) & (data_train_without_zero['final.output.concentrate_ag'] != 0) & (data_train_without_zero['final.output.concentrate_pb'] != 0) & (data_train_without_zero['final.output.concentrate_sol'] != 0)]\n",
    "\n",
    "data_full_without_zero = data_full[(data_full['rougher.output.concentrate_au'] != 0) & (data_full['rougher.output.concentrate_ag'] != 0) & (data_full['rougher.output.concentrate_pb'] != 0) & (data_full['rougher.output.concentrate_sol'] != 0)]\n",
    "data_full_without_zero = data_full_without_zero[(data_full_without_zero['final.output.concentrate_au'] != 0) & (data_full_without_zero['final.output.concentrate_ag'] != 0) & (data_full_without_zero['final.output.concentrate_pb'] != 0) & (data_full_without_zero['final.output.concentrate_sol'] != 0)]"
   ]
  },
  {
   "cell_type": "markdown",
   "metadata": {},
   "source": [
    "**Вывод по шагу 2:**\n",
    "\n",
    "1. Концентрация золота равномерно повышается от флотации до финальной очистки.\n",
    "2. Распределения гранул сырья на обучающей и тестовой выборках примерно равны.\n",
    "3. При проведении исследования суммарной концентрации всех веществ на разных стадиях были выявлены аномальные значения, равные 0, **которые были удалены.**"
   ]
  },
  {
   "cell_type": "markdown",
   "metadata": {},
   "source": [
    "## Модель"
   ]
  },
  {
   "cell_type": "markdown",
   "metadata": {},
   "source": [
    "### Функция для вычисления итоговой sMAPE."
   ]
  },
  {
   "cell_type": "markdown",
   "metadata": {},
   "source": [
    "Симметричная средняя абсолютная процентная ошибка (SMAPE) используется для измерения прогностической точности моделей. Он рассчитывается как:\n",
    "\n",
    "$$ sMAPE = \\frac{1}{N}\\sum_{i=1}^N\\frac{|y_i-\\hat{y_i}|}{(|y_i|+|\\hat{y_i})/2}*100 % $$\n",
    "\n",
    "Итоговая метрика складывается из двух величин:\n",
    "\n",
    "Итоговое sMAPE = 25% * sMAPE(rougher) + 75% * sMAPE(final)"
   ]
  },
  {
   "cell_type": "markdown",
   "metadata": {},
   "source": [
    "Для удобства и собственного понимания представлю отдельные части формулы, подставляя значения/названия из нашего проекта:\n",
    "\n",
    "numerator = abs(target - predictions) - числитель функции\n",
    "\n",
    "denominator = (abs(target) + abs(predictions))/2 - знаменатель функции\n",
    "\n",
    "sum = numerator/denominator.sum() - суммирование\n",
    "\n",
    "sMAPE = (1/len(target) * sum * 100) - итоговый вид функции"
   ]
  },
  {
   "cell_type": "code",
   "execution_count": 45,
   "metadata": {},
   "outputs": [],
   "source": [
    "#def smape (target, predictions):\n",
    "    #return 100/len(target) * np.sum(2 * np.abs(target - predictions) / (np.abs(target) + abs(predictions))) * 100"
   ]
  },
  {
   "cell_type": "code",
   "execution_count": 46,
   "metadata": {},
   "outputs": [],
   "source": [
    "def smape_unweighted(target, predictions):\n",
    "    error = abs(target - predictions)\n",
    "    scale = (abs(target) + abs(predictions)) / 2 + 0.000000001\n",
    "    result = (error / scale).mean()\n",
    "    return result*100"
   ]
  },
  {
   "cell_type": "code",
   "execution_count": 47,
   "metadata": {},
   "outputs": [],
   "source": [
    "def smape_total (rougher, final):\n",
    "    return 0.25 * rougher + 0.75 * final"
   ]
  },
  {
   "cell_type": "code",
   "execution_count": 48,
   "metadata": {},
   "outputs": [],
   "source": [
    "# smape надо минимизировать с помощью метода make_scorer из sklearn с аргументом greater_is_better=False\n",
    "smape_scorer = make_scorer(smape_unweighted, greater_is_better = False) "
   ]
  },
  {
   "cell_type": "markdown",
   "metadata": {},
   "source": [
    "В тестовую выборку мы добавляли целевые признаки, также думаю необходимо удалить признаки, отсутствующие в тестовой выборке из обучающей выборки: **где то я читала про утечку целевого признака (это когда информация о целевом признаке попадает в признаки).** **В противном случае в ходе обучения будущих моделей может произойти утечка целевого признака. Она происходит, когда в признаки попадает информация о целевом признаке.**"
   ]
  },
  {
   "cell_type": "code",
   "execution_count": 49,
   "metadata": {},
   "outputs": [],
   "source": [
    "delete_features = unvailable_features - set(['rougher.output.recovery','final.output.recovery'])"
   ]
  },
  {
   "cell_type": "code",
   "execution_count": 50,
   "metadata": {},
   "outputs": [
    {
     "name": "stdout",
     "output_type": "stream",
     "text": [
      "\n",
      "Количество признаков для удаления из тренировочной выборки - 32\n"
     ]
    }
   ],
   "source": [
    "print('\\nКоличество признаков для удаления из тренировочной выборки -', len(delete_features))"
   ]
  },
  {
   "cell_type": "code",
   "execution_count": 51,
   "metadata": {},
   "outputs": [],
   "source": [
    "#data_train_without_zero_1 = data_train_without_zero.drop(columns=delete_features, axis=1)"
   ]
  },
  {
   "cell_type": "code",
   "execution_count": 52,
   "metadata": {
    "scrolled": true
   },
   "outputs": [
    {
     "data": {
      "text/html": [
       "<div>\n",
       "<style scoped>\n",
       "    .dataframe tbody tr th:only-of-type {\n",
       "        vertical-align: middle;\n",
       "    }\n",
       "\n",
       "    .dataframe tbody tr th {\n",
       "        vertical-align: top;\n",
       "    }\n",
       "\n",
       "    .dataframe thead th {\n",
       "        text-align: right;\n",
       "    }\n",
       "</style>\n",
       "<table border=\"1\" class=\"dataframe\">\n",
       "  <thead>\n",
       "    <tr style=\"text-align: right;\">\n",
       "      <th></th>\n",
       "      <th>date</th>\n",
       "      <th>final.output.concentrate_ag</th>\n",
       "      <th>final.output.concentrate_pb</th>\n",
       "      <th>final.output.concentrate_sol</th>\n",
       "      <th>final.output.concentrate_au</th>\n",
       "      <th>final.output.recovery</th>\n",
       "      <th>final.output.tail_ag</th>\n",
       "      <th>final.output.tail_pb</th>\n",
       "      <th>final.output.tail_sol</th>\n",
       "      <th>final.output.tail_au</th>\n",
       "      <th>...</th>\n",
       "      <th>secondary_cleaner.state.floatbank4_a_level</th>\n",
       "      <th>secondary_cleaner.state.floatbank4_b_air</th>\n",
       "      <th>secondary_cleaner.state.floatbank4_b_level</th>\n",
       "      <th>secondary_cleaner.state.floatbank5_a_air</th>\n",
       "      <th>secondary_cleaner.state.floatbank5_a_level</th>\n",
       "      <th>secondary_cleaner.state.floatbank5_b_air</th>\n",
       "      <th>secondary_cleaner.state.floatbank5_b_level</th>\n",
       "      <th>secondary_cleaner.state.floatbank6_a_air</th>\n",
       "      <th>secondary_cleaner.state.floatbank6_a_level</th>\n",
       "      <th>recovery_calculation</th>\n",
       "    </tr>\n",
       "  </thead>\n",
       "  <tbody>\n",
       "    <tr>\n",
       "      <th>0</th>\n",
       "      <td>2016-01-15 00:00:00</td>\n",
       "      <td>6.055403</td>\n",
       "      <td>9.889648</td>\n",
       "      <td>5.507324</td>\n",
       "      <td>42.192020</td>\n",
       "      <td>70.541216</td>\n",
       "      <td>10.411962</td>\n",
       "      <td>0.895447</td>\n",
       "      <td>16.904297</td>\n",
       "      <td>2.143149</td>\n",
       "      <td>...</td>\n",
       "      <td>-502.488007</td>\n",
       "      <td>12.099931</td>\n",
       "      <td>-504.715942</td>\n",
       "      <td>9.925633</td>\n",
       "      <td>-498.310211</td>\n",
       "      <td>8.079666</td>\n",
       "      <td>-500.470978</td>\n",
       "      <td>14.151341</td>\n",
       "      <td>-605.841980</td>\n",
       "      <td>87.107763</td>\n",
       "    </tr>\n",
       "    <tr>\n",
       "      <th>1</th>\n",
       "      <td>2016-01-15 01:00:00</td>\n",
       "      <td>6.029369</td>\n",
       "      <td>9.968944</td>\n",
       "      <td>5.257781</td>\n",
       "      <td>42.701629</td>\n",
       "      <td>69.266198</td>\n",
       "      <td>10.462676</td>\n",
       "      <td>0.927452</td>\n",
       "      <td>16.634514</td>\n",
       "      <td>2.224930</td>\n",
       "      <td>...</td>\n",
       "      <td>-505.503262</td>\n",
       "      <td>11.950531</td>\n",
       "      <td>-501.331529</td>\n",
       "      <td>10.039245</td>\n",
       "      <td>-500.169983</td>\n",
       "      <td>7.984757</td>\n",
       "      <td>-500.582168</td>\n",
       "      <td>13.998353</td>\n",
       "      <td>-599.787184</td>\n",
       "      <td>86.843261</td>\n",
       "    </tr>\n",
       "    <tr>\n",
       "      <th>2</th>\n",
       "      <td>2016-01-15 02:00:00</td>\n",
       "      <td>6.055926</td>\n",
       "      <td>10.213995</td>\n",
       "      <td>5.383759</td>\n",
       "      <td>42.657501</td>\n",
       "      <td>68.116445</td>\n",
       "      <td>10.507046</td>\n",
       "      <td>0.953716</td>\n",
       "      <td>16.208849</td>\n",
       "      <td>2.257889</td>\n",
       "      <td>...</td>\n",
       "      <td>-502.520901</td>\n",
       "      <td>11.912783</td>\n",
       "      <td>-501.133383</td>\n",
       "      <td>10.070913</td>\n",
       "      <td>-500.129135</td>\n",
       "      <td>8.013877</td>\n",
       "      <td>-500.517572</td>\n",
       "      <td>14.028663</td>\n",
       "      <td>-601.427363</td>\n",
       "      <td>86.842308</td>\n",
       "    </tr>\n",
       "    <tr>\n",
       "      <th>3</th>\n",
       "      <td>2016-01-15 03:00:00</td>\n",
       "      <td>6.047977</td>\n",
       "      <td>9.977019</td>\n",
       "      <td>4.858634</td>\n",
       "      <td>42.689819</td>\n",
       "      <td>68.347543</td>\n",
       "      <td>10.422762</td>\n",
       "      <td>0.883763</td>\n",
       "      <td>16.532835</td>\n",
       "      <td>2.146849</td>\n",
       "      <td>...</td>\n",
       "      <td>-500.857308</td>\n",
       "      <td>11.999550</td>\n",
       "      <td>-501.193686</td>\n",
       "      <td>9.970366</td>\n",
       "      <td>-499.201640</td>\n",
       "      <td>7.977324</td>\n",
       "      <td>-500.255908</td>\n",
       "      <td>14.005551</td>\n",
       "      <td>-599.996129</td>\n",
       "      <td>87.226430</td>\n",
       "    </tr>\n",
       "    <tr>\n",
       "      <th>4</th>\n",
       "      <td>2016-01-15 04:00:00</td>\n",
       "      <td>6.148599</td>\n",
       "      <td>10.142511</td>\n",
       "      <td>4.939416</td>\n",
       "      <td>42.774141</td>\n",
       "      <td>66.927016</td>\n",
       "      <td>10.360302</td>\n",
       "      <td>0.792826</td>\n",
       "      <td>16.525686</td>\n",
       "      <td>2.055292</td>\n",
       "      <td>...</td>\n",
       "      <td>-499.838632</td>\n",
       "      <td>11.953070</td>\n",
       "      <td>-501.053894</td>\n",
       "      <td>9.925709</td>\n",
       "      <td>-501.686727</td>\n",
       "      <td>7.894242</td>\n",
       "      <td>-500.356035</td>\n",
       "      <td>13.996647</td>\n",
       "      <td>-601.496691</td>\n",
       "      <td>86.688794</td>\n",
       "    </tr>\n",
       "    <tr>\n",
       "      <th>...</th>\n",
       "      <td>...</td>\n",
       "      <td>...</td>\n",
       "      <td>...</td>\n",
       "      <td>...</td>\n",
       "      <td>...</td>\n",
       "      <td>...</td>\n",
       "      <td>...</td>\n",
       "      <td>...</td>\n",
       "      <td>...</td>\n",
       "      <td>...</td>\n",
       "      <td>...</td>\n",
       "      <td>...</td>\n",
       "      <td>...</td>\n",
       "      <td>...</td>\n",
       "      <td>...</td>\n",
       "      <td>...</td>\n",
       "      <td>...</td>\n",
       "      <td>...</td>\n",
       "      <td>...</td>\n",
       "      <td>...</td>\n",
       "      <td>...</td>\n",
       "    </tr>\n",
       "    <tr>\n",
       "      <th>14144</th>\n",
       "      <td>2018-08-18 06:59:59</td>\n",
       "      <td>3.224920</td>\n",
       "      <td>11.356233</td>\n",
       "      <td>6.803482</td>\n",
       "      <td>46.713954</td>\n",
       "      <td>73.755150</td>\n",
       "      <td>8.769645</td>\n",
       "      <td>3.141541</td>\n",
       "      <td>10.403181</td>\n",
       "      <td>1.529220</td>\n",
       "      <td>...</td>\n",
       "      <td>-501.167942</td>\n",
       "      <td>20.007571</td>\n",
       "      <td>-499.740028</td>\n",
       "      <td>18.006038</td>\n",
       "      <td>-499.834374</td>\n",
       "      <td>13.001114</td>\n",
       "      <td>-500.155694</td>\n",
       "      <td>20.007840</td>\n",
       "      <td>-501.296428</td>\n",
       "      <td>89.574376</td>\n",
       "    </tr>\n",
       "    <tr>\n",
       "      <th>14145</th>\n",
       "      <td>2018-08-18 07:59:59</td>\n",
       "      <td>3.195978</td>\n",
       "      <td>11.349355</td>\n",
       "      <td>6.862249</td>\n",
       "      <td>46.866780</td>\n",
       "      <td>69.049291</td>\n",
       "      <td>8.897321</td>\n",
       "      <td>3.130493</td>\n",
       "      <td>10.549470</td>\n",
       "      <td>1.612542</td>\n",
       "      <td>...</td>\n",
       "      <td>-501.612783</td>\n",
       "      <td>20.035660</td>\n",
       "      <td>-500.251357</td>\n",
       "      <td>17.998535</td>\n",
       "      <td>-500.395178</td>\n",
       "      <td>12.954048</td>\n",
       "      <td>-499.895163</td>\n",
       "      <td>19.968498</td>\n",
       "      <td>-501.041608</td>\n",
       "      <td>87.724007</td>\n",
       "    </tr>\n",
       "    <tr>\n",
       "      <th>14146</th>\n",
       "      <td>2018-08-18 08:59:59</td>\n",
       "      <td>3.109998</td>\n",
       "      <td>11.434366</td>\n",
       "      <td>6.886013</td>\n",
       "      <td>46.795691</td>\n",
       "      <td>67.002189</td>\n",
       "      <td>8.529606</td>\n",
       "      <td>2.911418</td>\n",
       "      <td>11.115147</td>\n",
       "      <td>1.596616</td>\n",
       "      <td>...</td>\n",
       "      <td>-501.711599</td>\n",
       "      <td>19.951231</td>\n",
       "      <td>-499.857027</td>\n",
       "      <td>18.019543</td>\n",
       "      <td>-500.451156</td>\n",
       "      <td>13.023431</td>\n",
       "      <td>-499.914391</td>\n",
       "      <td>19.990885</td>\n",
       "      <td>-501.518452</td>\n",
       "      <td>88.890579</td>\n",
       "    </tr>\n",
       "    <tr>\n",
       "      <th>14147</th>\n",
       "      <td>2018-08-18 09:59:59</td>\n",
       "      <td>3.367241</td>\n",
       "      <td>11.625587</td>\n",
       "      <td>6.799433</td>\n",
       "      <td>46.408188</td>\n",
       "      <td>65.523246</td>\n",
       "      <td>8.777171</td>\n",
       "      <td>2.819214</td>\n",
       "      <td>10.463847</td>\n",
       "      <td>1.602879</td>\n",
       "      <td>...</td>\n",
       "      <td>-501.153409</td>\n",
       "      <td>20.054122</td>\n",
       "      <td>-500.314711</td>\n",
       "      <td>17.979515</td>\n",
       "      <td>-499.272871</td>\n",
       "      <td>12.992404</td>\n",
       "      <td>-499.976268</td>\n",
       "      <td>20.013986</td>\n",
       "      <td>-500.625471</td>\n",
       "      <td>89.858126</td>\n",
       "    </tr>\n",
       "    <tr>\n",
       "      <th>14148</th>\n",
       "      <td>2018-08-18 10:59:59</td>\n",
       "      <td>3.598375</td>\n",
       "      <td>11.737832</td>\n",
       "      <td>6.717509</td>\n",
       "      <td>46.299438</td>\n",
       "      <td>70.281454</td>\n",
       "      <td>8.406690</td>\n",
       "      <td>2.517518</td>\n",
       "      <td>10.652193</td>\n",
       "      <td>1.389434</td>\n",
       "      <td>...</td>\n",
       "      <td>-500.492702</td>\n",
       "      <td>20.020205</td>\n",
       "      <td>-500.220296</td>\n",
       "      <td>17.963512</td>\n",
       "      <td>-499.939490</td>\n",
       "      <td>12.990306</td>\n",
       "      <td>-500.080993</td>\n",
       "      <td>19.990336</td>\n",
       "      <td>-499.191575</td>\n",
       "      <td>89.514960</td>\n",
       "    </tr>\n",
       "  </tbody>\n",
       "</table>\n",
       "<p>13792 rows × 88 columns</p>\n",
       "</div>"
      ],
      "text/plain": [
       "                     date  final.output.concentrate_ag  \\\n",
       "0     2016-01-15 00:00:00                     6.055403   \n",
       "1     2016-01-15 01:00:00                     6.029369   \n",
       "2     2016-01-15 02:00:00                     6.055926   \n",
       "3     2016-01-15 03:00:00                     6.047977   \n",
       "4     2016-01-15 04:00:00                     6.148599   \n",
       "...                   ...                          ...   \n",
       "14144 2018-08-18 06:59:59                     3.224920   \n",
       "14145 2018-08-18 07:59:59                     3.195978   \n",
       "14146 2018-08-18 08:59:59                     3.109998   \n",
       "14147 2018-08-18 09:59:59                     3.367241   \n",
       "14148 2018-08-18 10:59:59                     3.598375   \n",
       "\n",
       "       final.output.concentrate_pb  final.output.concentrate_sol  \\\n",
       "0                         9.889648                      5.507324   \n",
       "1                         9.968944                      5.257781   \n",
       "2                        10.213995                      5.383759   \n",
       "3                         9.977019                      4.858634   \n",
       "4                        10.142511                      4.939416   \n",
       "...                            ...                           ...   \n",
       "14144                    11.356233                      6.803482   \n",
       "14145                    11.349355                      6.862249   \n",
       "14146                    11.434366                      6.886013   \n",
       "14147                    11.625587                      6.799433   \n",
       "14148                    11.737832                      6.717509   \n",
       "\n",
       "       final.output.concentrate_au  final.output.recovery  \\\n",
       "0                        42.192020              70.541216   \n",
       "1                        42.701629              69.266198   \n",
       "2                        42.657501              68.116445   \n",
       "3                        42.689819              68.347543   \n",
       "4                        42.774141              66.927016   \n",
       "...                            ...                    ...   \n",
       "14144                    46.713954              73.755150   \n",
       "14145                    46.866780              69.049291   \n",
       "14146                    46.795691              67.002189   \n",
       "14147                    46.408188              65.523246   \n",
       "14148                    46.299438              70.281454   \n",
       "\n",
       "       final.output.tail_ag  final.output.tail_pb  final.output.tail_sol  \\\n",
       "0                 10.411962              0.895447              16.904297   \n",
       "1                 10.462676              0.927452              16.634514   \n",
       "2                 10.507046              0.953716              16.208849   \n",
       "3                 10.422762              0.883763              16.532835   \n",
       "4                 10.360302              0.792826              16.525686   \n",
       "...                     ...                   ...                    ...   \n",
       "14144              8.769645              3.141541              10.403181   \n",
       "14145              8.897321              3.130493              10.549470   \n",
       "14146              8.529606              2.911418              11.115147   \n",
       "14147              8.777171              2.819214              10.463847   \n",
       "14148              8.406690              2.517518              10.652193   \n",
       "\n",
       "       final.output.tail_au  ...  secondary_cleaner.state.floatbank4_a_level  \\\n",
       "0                  2.143149  ...                                 -502.488007   \n",
       "1                  2.224930  ...                                 -505.503262   \n",
       "2                  2.257889  ...                                 -502.520901   \n",
       "3                  2.146849  ...                                 -500.857308   \n",
       "4                  2.055292  ...                                 -499.838632   \n",
       "...                     ...  ...                                         ...   \n",
       "14144              1.529220  ...                                 -501.167942   \n",
       "14145              1.612542  ...                                 -501.612783   \n",
       "14146              1.596616  ...                                 -501.711599   \n",
       "14147              1.602879  ...                                 -501.153409   \n",
       "14148              1.389434  ...                                 -500.492702   \n",
       "\n",
       "       secondary_cleaner.state.floatbank4_b_air  \\\n",
       "0                                     12.099931   \n",
       "1                                     11.950531   \n",
       "2                                     11.912783   \n",
       "3                                     11.999550   \n",
       "4                                     11.953070   \n",
       "...                                         ...   \n",
       "14144                                 20.007571   \n",
       "14145                                 20.035660   \n",
       "14146                                 19.951231   \n",
       "14147                                 20.054122   \n",
       "14148                                 20.020205   \n",
       "\n",
       "       secondary_cleaner.state.floatbank4_b_level  \\\n",
       "0                                     -504.715942   \n",
       "1                                     -501.331529   \n",
       "2                                     -501.133383   \n",
       "3                                     -501.193686   \n",
       "4                                     -501.053894   \n",
       "...                                           ...   \n",
       "14144                                 -499.740028   \n",
       "14145                                 -500.251357   \n",
       "14146                                 -499.857027   \n",
       "14147                                 -500.314711   \n",
       "14148                                 -500.220296   \n",
       "\n",
       "       secondary_cleaner.state.floatbank5_a_air  \\\n",
       "0                                      9.925633   \n",
       "1                                     10.039245   \n",
       "2                                     10.070913   \n",
       "3                                      9.970366   \n",
       "4                                      9.925709   \n",
       "...                                         ...   \n",
       "14144                                 18.006038   \n",
       "14145                                 17.998535   \n",
       "14146                                 18.019543   \n",
       "14147                                 17.979515   \n",
       "14148                                 17.963512   \n",
       "\n",
       "       secondary_cleaner.state.floatbank5_a_level  \\\n",
       "0                                     -498.310211   \n",
       "1                                     -500.169983   \n",
       "2                                     -500.129135   \n",
       "3                                     -499.201640   \n",
       "4                                     -501.686727   \n",
       "...                                           ...   \n",
       "14144                                 -499.834374   \n",
       "14145                                 -500.395178   \n",
       "14146                                 -500.451156   \n",
       "14147                                 -499.272871   \n",
       "14148                                 -499.939490   \n",
       "\n",
       "       secondary_cleaner.state.floatbank5_b_air  \\\n",
       "0                                      8.079666   \n",
       "1                                      7.984757   \n",
       "2                                      8.013877   \n",
       "3                                      7.977324   \n",
       "4                                      7.894242   \n",
       "...                                         ...   \n",
       "14144                                 13.001114   \n",
       "14145                                 12.954048   \n",
       "14146                                 13.023431   \n",
       "14147                                 12.992404   \n",
       "14148                                 12.990306   \n",
       "\n",
       "       secondary_cleaner.state.floatbank5_b_level  \\\n",
       "0                                     -500.470978   \n",
       "1                                     -500.582168   \n",
       "2                                     -500.517572   \n",
       "3                                     -500.255908   \n",
       "4                                     -500.356035   \n",
       "...                                           ...   \n",
       "14144                                 -500.155694   \n",
       "14145                                 -499.895163   \n",
       "14146                                 -499.914391   \n",
       "14147                                 -499.976268   \n",
       "14148                                 -500.080993   \n",
       "\n",
       "       secondary_cleaner.state.floatbank6_a_air  \\\n",
       "0                                     14.151341   \n",
       "1                                     13.998353   \n",
       "2                                     14.028663   \n",
       "3                                     14.005551   \n",
       "4                                     13.996647   \n",
       "...                                         ...   \n",
       "14144                                 20.007840   \n",
       "14145                                 19.968498   \n",
       "14146                                 19.990885   \n",
       "14147                                 20.013986   \n",
       "14148                                 19.990336   \n",
       "\n",
       "       secondary_cleaner.state.floatbank6_a_level  recovery_calculation  \n",
       "0                                     -605.841980             87.107763  \n",
       "1                                     -599.787184             86.843261  \n",
       "2                                     -601.427363             86.842308  \n",
       "3                                     -599.996129             87.226430  \n",
       "4                                     -601.496691             86.688794  \n",
       "...                                           ...                   ...  \n",
       "14144                                 -501.296428             89.574376  \n",
       "14145                                 -501.041608             87.724007  \n",
       "14146                                 -501.518452             88.890579  \n",
       "14147                                 -500.625471             89.858126  \n",
       "14148                                 -499.191575             89.514960  \n",
       "\n",
       "[13792 rows x 88 columns]"
      ]
     },
     "metadata": {},
     "output_type": "display_data"
    },
    {
     "data": {
      "text/html": [
       "<div>\n",
       "<style scoped>\n",
       "    .dataframe tbody tr th:only-of-type {\n",
       "        vertical-align: middle;\n",
       "    }\n",
       "\n",
       "    .dataframe tbody tr th {\n",
       "        vertical-align: top;\n",
       "    }\n",
       "\n",
       "    .dataframe thead th {\n",
       "        text-align: right;\n",
       "    }\n",
       "</style>\n",
       "<table border=\"1\" class=\"dataframe\">\n",
       "  <thead>\n",
       "    <tr style=\"text-align: right;\">\n",
       "      <th></th>\n",
       "      <th>date</th>\n",
       "      <th>primary_cleaner.input.sulfate</th>\n",
       "      <th>primary_cleaner.input.depressant</th>\n",
       "      <th>primary_cleaner.input.feed_size</th>\n",
       "      <th>primary_cleaner.input.xanthate</th>\n",
       "      <th>primary_cleaner.state.floatbank8_a_air</th>\n",
       "      <th>primary_cleaner.state.floatbank8_a_level</th>\n",
       "      <th>primary_cleaner.state.floatbank8_b_air</th>\n",
       "      <th>primary_cleaner.state.floatbank8_b_level</th>\n",
       "      <th>primary_cleaner.state.floatbank8_c_air</th>\n",
       "      <th>...</th>\n",
       "      <th>secondary_cleaner.state.floatbank4_b_air</th>\n",
       "      <th>secondary_cleaner.state.floatbank4_b_level</th>\n",
       "      <th>secondary_cleaner.state.floatbank5_a_air</th>\n",
       "      <th>secondary_cleaner.state.floatbank5_a_level</th>\n",
       "      <th>secondary_cleaner.state.floatbank5_b_air</th>\n",
       "      <th>secondary_cleaner.state.floatbank5_b_level</th>\n",
       "      <th>secondary_cleaner.state.floatbank6_a_air</th>\n",
       "      <th>secondary_cleaner.state.floatbank6_a_level</th>\n",
       "      <th>rougher.output.recovery</th>\n",
       "      <th>final.output.recovery</th>\n",
       "    </tr>\n",
       "  </thead>\n",
       "  <tbody>\n",
       "    <tr>\n",
       "      <th>0</th>\n",
       "      <td>2016-09-01 00:59:59</td>\n",
       "      <td>210.800909</td>\n",
       "      <td>14.993118</td>\n",
       "      <td>8.080000</td>\n",
       "      <td>1.005021</td>\n",
       "      <td>1398.981301</td>\n",
       "      <td>-500.225577</td>\n",
       "      <td>1399.144926</td>\n",
       "      <td>-499.919735</td>\n",
       "      <td>1400.102998</td>\n",
       "      <td>...</td>\n",
       "      <td>8.016656</td>\n",
       "      <td>-501.289139</td>\n",
       "      <td>7.946562</td>\n",
       "      <td>-432.317850</td>\n",
       "      <td>4.872511</td>\n",
       "      <td>-500.037437</td>\n",
       "      <td>26.705889</td>\n",
       "      <td>-499.709414</td>\n",
       "      <td>89.993421</td>\n",
       "      <td>70.273583</td>\n",
       "    </tr>\n",
       "    <tr>\n",
       "      <th>1</th>\n",
       "      <td>2016-09-01 01:59:59</td>\n",
       "      <td>215.392455</td>\n",
       "      <td>14.987471</td>\n",
       "      <td>8.080000</td>\n",
       "      <td>0.990469</td>\n",
       "      <td>1398.777912</td>\n",
       "      <td>-500.057435</td>\n",
       "      <td>1398.055362</td>\n",
       "      <td>-499.778182</td>\n",
       "      <td>1396.151033</td>\n",
       "      <td>...</td>\n",
       "      <td>8.130979</td>\n",
       "      <td>-499.634209</td>\n",
       "      <td>7.958270</td>\n",
       "      <td>-525.839648</td>\n",
       "      <td>4.878850</td>\n",
       "      <td>-500.162375</td>\n",
       "      <td>25.019940</td>\n",
       "      <td>-499.819438</td>\n",
       "      <td>88.089657</td>\n",
       "      <td>68.910432</td>\n",
       "    </tr>\n",
       "    <tr>\n",
       "      <th>2</th>\n",
       "      <td>2016-09-01 02:59:59</td>\n",
       "      <td>215.259946</td>\n",
       "      <td>12.884934</td>\n",
       "      <td>7.786667</td>\n",
       "      <td>0.996043</td>\n",
       "      <td>1398.493666</td>\n",
       "      <td>-500.868360</td>\n",
       "      <td>1398.860436</td>\n",
       "      <td>-499.764529</td>\n",
       "      <td>1398.075709</td>\n",
       "      <td>...</td>\n",
       "      <td>8.096893</td>\n",
       "      <td>-500.827423</td>\n",
       "      <td>8.071056</td>\n",
       "      <td>-500.801673</td>\n",
       "      <td>4.905125</td>\n",
       "      <td>-499.828510</td>\n",
       "      <td>24.994862</td>\n",
       "      <td>-500.622559</td>\n",
       "      <td>88.412756</td>\n",
       "      <td>68.143213</td>\n",
       "    </tr>\n",
       "    <tr>\n",
       "      <th>3</th>\n",
       "      <td>2016-09-01 03:59:59</td>\n",
       "      <td>215.336236</td>\n",
       "      <td>12.006805</td>\n",
       "      <td>7.640000</td>\n",
       "      <td>0.863514</td>\n",
       "      <td>1399.618111</td>\n",
       "      <td>-498.863574</td>\n",
       "      <td>1397.440120</td>\n",
       "      <td>-499.211024</td>\n",
       "      <td>1400.129303</td>\n",
       "      <td>...</td>\n",
       "      <td>8.074946</td>\n",
       "      <td>-499.474407</td>\n",
       "      <td>7.897085</td>\n",
       "      <td>-500.868509</td>\n",
       "      <td>4.931400</td>\n",
       "      <td>-499.963623</td>\n",
       "      <td>24.948919</td>\n",
       "      <td>-498.709987</td>\n",
       "      <td>87.360133</td>\n",
       "      <td>67.776393</td>\n",
       "    </tr>\n",
       "    <tr>\n",
       "      <th>4</th>\n",
       "      <td>2016-09-01 04:59:59</td>\n",
       "      <td>199.099327</td>\n",
       "      <td>10.682530</td>\n",
       "      <td>7.530000</td>\n",
       "      <td>0.805575</td>\n",
       "      <td>1401.268123</td>\n",
       "      <td>-500.808305</td>\n",
       "      <td>1398.128818</td>\n",
       "      <td>-499.504543</td>\n",
       "      <td>1402.172226</td>\n",
       "      <td>...</td>\n",
       "      <td>8.054678</td>\n",
       "      <td>-500.397500</td>\n",
       "      <td>8.107890</td>\n",
       "      <td>-509.526725</td>\n",
       "      <td>4.957674</td>\n",
       "      <td>-500.360026</td>\n",
       "      <td>25.003331</td>\n",
       "      <td>-500.856333</td>\n",
       "      <td>83.236367</td>\n",
       "      <td>61.467078</td>\n",
       "    </tr>\n",
       "    <tr>\n",
       "      <th>...</th>\n",
       "      <td>...</td>\n",
       "      <td>...</td>\n",
       "      <td>...</td>\n",
       "      <td>...</td>\n",
       "      <td>...</td>\n",
       "      <td>...</td>\n",
       "      <td>...</td>\n",
       "      <td>...</td>\n",
       "      <td>...</td>\n",
       "      <td>...</td>\n",
       "      <td>...</td>\n",
       "      <td>...</td>\n",
       "      <td>...</td>\n",
       "      <td>...</td>\n",
       "      <td>...</td>\n",
       "      <td>...</td>\n",
       "      <td>...</td>\n",
       "      <td>...</td>\n",
       "      <td>...</td>\n",
       "      <td>...</td>\n",
       "      <td>...</td>\n",
       "    </tr>\n",
       "    <tr>\n",
       "      <th>5285</th>\n",
       "      <td>2017-12-31 19:59:59</td>\n",
       "      <td>173.957757</td>\n",
       "      <td>15.963399</td>\n",
       "      <td>8.070000</td>\n",
       "      <td>0.896701</td>\n",
       "      <td>1401.930554</td>\n",
       "      <td>-499.728848</td>\n",
       "      <td>1401.441445</td>\n",
       "      <td>-499.193423</td>\n",
       "      <td>1399.810313</td>\n",
       "      <td>...</td>\n",
       "      <td>12.069155</td>\n",
       "      <td>-499.673279</td>\n",
       "      <td>7.977259</td>\n",
       "      <td>-499.516126</td>\n",
       "      <td>5.933319</td>\n",
       "      <td>-499.965973</td>\n",
       "      <td>8.987171</td>\n",
       "      <td>-499.755909</td>\n",
       "      <td>95.172585</td>\n",
       "      <td>68.919891</td>\n",
       "    </tr>\n",
       "    <tr>\n",
       "      <th>5286</th>\n",
       "      <td>2017-12-31 20:59:59</td>\n",
       "      <td>172.910270</td>\n",
       "      <td>16.002605</td>\n",
       "      <td>8.070000</td>\n",
       "      <td>0.896519</td>\n",
       "      <td>1447.075722</td>\n",
       "      <td>-494.716823</td>\n",
       "      <td>1448.851892</td>\n",
       "      <td>-465.963026</td>\n",
       "      <td>1443.890424</td>\n",
       "      <td>...</td>\n",
       "      <td>13.365371</td>\n",
       "      <td>-499.122723</td>\n",
       "      <td>9.288553</td>\n",
       "      <td>-496.892967</td>\n",
       "      <td>7.372897</td>\n",
       "      <td>-499.942956</td>\n",
       "      <td>8.986832</td>\n",
       "      <td>-499.903761</td>\n",
       "      <td>94.575036</td>\n",
       "      <td>68.440582</td>\n",
       "    </tr>\n",
       "    <tr>\n",
       "      <th>5287</th>\n",
       "      <td>2017-12-31 21:59:59</td>\n",
       "      <td>171.135718</td>\n",
       "      <td>15.993669</td>\n",
       "      <td>8.070000</td>\n",
       "      <td>1.165996</td>\n",
       "      <td>1498.836182</td>\n",
       "      <td>-501.770403</td>\n",
       "      <td>1499.572353</td>\n",
       "      <td>-495.516347</td>\n",
       "      <td>1502.749213</td>\n",
       "      <td>...</td>\n",
       "      <td>15.101425</td>\n",
       "      <td>-499.936252</td>\n",
       "      <td>10.989181</td>\n",
       "      <td>-498.347898</td>\n",
       "      <td>9.020944</td>\n",
       "      <td>-500.040448</td>\n",
       "      <td>8.982038</td>\n",
       "      <td>-497.789882</td>\n",
       "      <td>93.018138</td>\n",
       "      <td>67.092759</td>\n",
       "    </tr>\n",
       "    <tr>\n",
       "      <th>5288</th>\n",
       "      <td>2017-12-31 22:59:59</td>\n",
       "      <td>179.697158</td>\n",
       "      <td>15.438979</td>\n",
       "      <td>8.070000</td>\n",
       "      <td>1.501068</td>\n",
       "      <td>1498.466243</td>\n",
       "      <td>-500.483984</td>\n",
       "      <td>1497.986986</td>\n",
       "      <td>-519.200340</td>\n",
       "      <td>1496.569047</td>\n",
       "      <td>...</td>\n",
       "      <td>15.026853</td>\n",
       "      <td>-499.723143</td>\n",
       "      <td>11.011607</td>\n",
       "      <td>-499.985046</td>\n",
       "      <td>9.009783</td>\n",
       "      <td>-499.937902</td>\n",
       "      <td>9.012660</td>\n",
       "      <td>-500.154284</td>\n",
       "      <td>92.599042</td>\n",
       "      <td>68.061186</td>\n",
       "    </tr>\n",
       "    <tr>\n",
       "      <th>5289</th>\n",
       "      <td>2017-12-31 23:59:59</td>\n",
       "      <td>181.556856</td>\n",
       "      <td>14.995850</td>\n",
       "      <td>8.070000</td>\n",
       "      <td>1.623454</td>\n",
       "      <td>1498.096303</td>\n",
       "      <td>-499.796922</td>\n",
       "      <td>1501.743791</td>\n",
       "      <td>-505.146931</td>\n",
       "      <td>1499.535978</td>\n",
       "      <td>...</td>\n",
       "      <td>14.914199</td>\n",
       "      <td>-499.948518</td>\n",
       "      <td>10.986607</td>\n",
       "      <td>-500.658027</td>\n",
       "      <td>8.989497</td>\n",
       "      <td>-500.337588</td>\n",
       "      <td>8.988632</td>\n",
       "      <td>-500.764937</td>\n",
       "      <td>91.177695</td>\n",
       "      <td>71.699976</td>\n",
       "    </tr>\n",
       "  </tbody>\n",
       "</table>\n",
       "<p>5290 rows × 55 columns</p>\n",
       "</div>"
      ],
      "text/plain": [
       "                    date  primary_cleaner.input.sulfate  \\\n",
       "0    2016-09-01 00:59:59                     210.800909   \n",
       "1    2016-09-01 01:59:59                     215.392455   \n",
       "2    2016-09-01 02:59:59                     215.259946   \n",
       "3    2016-09-01 03:59:59                     215.336236   \n",
       "4    2016-09-01 04:59:59                     199.099327   \n",
       "...                  ...                            ...   \n",
       "5285 2017-12-31 19:59:59                     173.957757   \n",
       "5286 2017-12-31 20:59:59                     172.910270   \n",
       "5287 2017-12-31 21:59:59                     171.135718   \n",
       "5288 2017-12-31 22:59:59                     179.697158   \n",
       "5289 2017-12-31 23:59:59                     181.556856   \n",
       "\n",
       "      primary_cleaner.input.depressant  primary_cleaner.input.feed_size  \\\n",
       "0                            14.993118                         8.080000   \n",
       "1                            14.987471                         8.080000   \n",
       "2                            12.884934                         7.786667   \n",
       "3                            12.006805                         7.640000   \n",
       "4                            10.682530                         7.530000   \n",
       "...                                ...                              ...   \n",
       "5285                         15.963399                         8.070000   \n",
       "5286                         16.002605                         8.070000   \n",
       "5287                         15.993669                         8.070000   \n",
       "5288                         15.438979                         8.070000   \n",
       "5289                         14.995850                         8.070000   \n",
       "\n",
       "      primary_cleaner.input.xanthate  primary_cleaner.state.floatbank8_a_air  \\\n",
       "0                           1.005021                             1398.981301   \n",
       "1                           0.990469                             1398.777912   \n",
       "2                           0.996043                             1398.493666   \n",
       "3                           0.863514                             1399.618111   \n",
       "4                           0.805575                             1401.268123   \n",
       "...                              ...                                     ...   \n",
       "5285                        0.896701                             1401.930554   \n",
       "5286                        0.896519                             1447.075722   \n",
       "5287                        1.165996                             1498.836182   \n",
       "5288                        1.501068                             1498.466243   \n",
       "5289                        1.623454                             1498.096303   \n",
       "\n",
       "      primary_cleaner.state.floatbank8_a_level  \\\n",
       "0                                  -500.225577   \n",
       "1                                  -500.057435   \n",
       "2                                  -500.868360   \n",
       "3                                  -498.863574   \n",
       "4                                  -500.808305   \n",
       "...                                        ...   \n",
       "5285                               -499.728848   \n",
       "5286                               -494.716823   \n",
       "5287                               -501.770403   \n",
       "5288                               -500.483984   \n",
       "5289                               -499.796922   \n",
       "\n",
       "      primary_cleaner.state.floatbank8_b_air  \\\n",
       "0                                1399.144926   \n",
       "1                                1398.055362   \n",
       "2                                1398.860436   \n",
       "3                                1397.440120   \n",
       "4                                1398.128818   \n",
       "...                                      ...   \n",
       "5285                             1401.441445   \n",
       "5286                             1448.851892   \n",
       "5287                             1499.572353   \n",
       "5288                             1497.986986   \n",
       "5289                             1501.743791   \n",
       "\n",
       "      primary_cleaner.state.floatbank8_b_level  \\\n",
       "0                                  -499.919735   \n",
       "1                                  -499.778182   \n",
       "2                                  -499.764529   \n",
       "3                                  -499.211024   \n",
       "4                                  -499.504543   \n",
       "...                                        ...   \n",
       "5285                               -499.193423   \n",
       "5286                               -465.963026   \n",
       "5287                               -495.516347   \n",
       "5288                               -519.200340   \n",
       "5289                               -505.146931   \n",
       "\n",
       "      primary_cleaner.state.floatbank8_c_air  ...  \\\n",
       "0                                1400.102998  ...   \n",
       "1                                1396.151033  ...   \n",
       "2                                1398.075709  ...   \n",
       "3                                1400.129303  ...   \n",
       "4                                1402.172226  ...   \n",
       "...                                      ...  ...   \n",
       "5285                             1399.810313  ...   \n",
       "5286                             1443.890424  ...   \n",
       "5287                             1502.749213  ...   \n",
       "5288                             1496.569047  ...   \n",
       "5289                             1499.535978  ...   \n",
       "\n",
       "      secondary_cleaner.state.floatbank4_b_air  \\\n",
       "0                                     8.016656   \n",
       "1                                     8.130979   \n",
       "2                                     8.096893   \n",
       "3                                     8.074946   \n",
       "4                                     8.054678   \n",
       "...                                        ...   \n",
       "5285                                 12.069155   \n",
       "5286                                 13.365371   \n",
       "5287                                 15.101425   \n",
       "5288                                 15.026853   \n",
       "5289                                 14.914199   \n",
       "\n",
       "      secondary_cleaner.state.floatbank4_b_level  \\\n",
       "0                                    -501.289139   \n",
       "1                                    -499.634209   \n",
       "2                                    -500.827423   \n",
       "3                                    -499.474407   \n",
       "4                                    -500.397500   \n",
       "...                                          ...   \n",
       "5285                                 -499.673279   \n",
       "5286                                 -499.122723   \n",
       "5287                                 -499.936252   \n",
       "5288                                 -499.723143   \n",
       "5289                                 -499.948518   \n",
       "\n",
       "      secondary_cleaner.state.floatbank5_a_air  \\\n",
       "0                                     7.946562   \n",
       "1                                     7.958270   \n",
       "2                                     8.071056   \n",
       "3                                     7.897085   \n",
       "4                                     8.107890   \n",
       "...                                        ...   \n",
       "5285                                  7.977259   \n",
       "5286                                  9.288553   \n",
       "5287                                 10.989181   \n",
       "5288                                 11.011607   \n",
       "5289                                 10.986607   \n",
       "\n",
       "      secondary_cleaner.state.floatbank5_a_level  \\\n",
       "0                                    -432.317850   \n",
       "1                                    -525.839648   \n",
       "2                                    -500.801673   \n",
       "3                                    -500.868509   \n",
       "4                                    -509.526725   \n",
       "...                                          ...   \n",
       "5285                                 -499.516126   \n",
       "5286                                 -496.892967   \n",
       "5287                                 -498.347898   \n",
       "5288                                 -499.985046   \n",
       "5289                                 -500.658027   \n",
       "\n",
       "      secondary_cleaner.state.floatbank5_b_air  \\\n",
       "0                                     4.872511   \n",
       "1                                     4.878850   \n",
       "2                                     4.905125   \n",
       "3                                     4.931400   \n",
       "4                                     4.957674   \n",
       "...                                        ...   \n",
       "5285                                  5.933319   \n",
       "5286                                  7.372897   \n",
       "5287                                  9.020944   \n",
       "5288                                  9.009783   \n",
       "5289                                  8.989497   \n",
       "\n",
       "      secondary_cleaner.state.floatbank5_b_level  \\\n",
       "0                                    -500.037437   \n",
       "1                                    -500.162375   \n",
       "2                                    -499.828510   \n",
       "3                                    -499.963623   \n",
       "4                                    -500.360026   \n",
       "...                                          ...   \n",
       "5285                                 -499.965973   \n",
       "5286                                 -499.942956   \n",
       "5287                                 -500.040448   \n",
       "5288                                 -499.937902   \n",
       "5289                                 -500.337588   \n",
       "\n",
       "      secondary_cleaner.state.floatbank6_a_air  \\\n",
       "0                                    26.705889   \n",
       "1                                    25.019940   \n",
       "2                                    24.994862   \n",
       "3                                    24.948919   \n",
       "4                                    25.003331   \n",
       "...                                        ...   \n",
       "5285                                  8.987171   \n",
       "5286                                  8.986832   \n",
       "5287                                  8.982038   \n",
       "5288                                  9.012660   \n",
       "5289                                  8.988632   \n",
       "\n",
       "      secondary_cleaner.state.floatbank6_a_level  rougher.output.recovery  \\\n",
       "0                                    -499.709414                89.993421   \n",
       "1                                    -499.819438                88.089657   \n",
       "2                                    -500.622559                88.412756   \n",
       "3                                    -498.709987                87.360133   \n",
       "4                                    -500.856333                83.236367   \n",
       "...                                          ...                      ...   \n",
       "5285                                 -499.755909                95.172585   \n",
       "5286                                 -499.903761                94.575036   \n",
       "5287                                 -497.789882                93.018138   \n",
       "5288                                 -500.154284                92.599042   \n",
       "5289                                 -500.764937                91.177695   \n",
       "\n",
       "      final.output.recovery  \n",
       "0                 70.273583  \n",
       "1                 68.910432  \n",
       "2                 68.143213  \n",
       "3                 67.776393  \n",
       "4                 61.467078  \n",
       "...                     ...  \n",
       "5285              68.919891  \n",
       "5286              68.440582  \n",
       "5287              67.092759  \n",
       "5288              68.061186  \n",
       "5289              71.699976  \n",
       "\n",
       "[5290 rows x 55 columns]"
      ]
     },
     "metadata": {},
     "output_type": "display_data"
    }
   ],
   "source": [
    "display(data_train_without_zero)\n",
    "display(data_test)"
   ]
  },
  {
   "cell_type": "markdown",
   "metadata": {},
   "source": [
    "Найдем столбец, на который различаются тестовая и обучающая выборки"
   ]
  },
  {
   "cell_type": "code",
   "execution_count": 53,
   "metadata": {},
   "outputs": [],
   "source": [
    "absent = set(data_train_without_zero.columns) - set(data_test.columns)"
   ]
  },
  {
   "cell_type": "code",
   "execution_count": 54,
   "metadata": {
    "scrolled": true
   },
   "outputs": [
    {
     "data": {
      "text/plain": [
       "{'final.output.concentrate_ag',\n",
       " 'final.output.concentrate_au',\n",
       " 'final.output.concentrate_pb',\n",
       " 'final.output.concentrate_sol',\n",
       " 'final.output.tail_ag',\n",
       " 'final.output.tail_au',\n",
       " 'final.output.tail_pb',\n",
       " 'final.output.tail_sol',\n",
       " 'primary_cleaner.output.concentrate_ag',\n",
       " 'primary_cleaner.output.concentrate_au',\n",
       " 'primary_cleaner.output.concentrate_pb',\n",
       " 'primary_cleaner.output.concentrate_sol',\n",
       " 'primary_cleaner.output.tail_ag',\n",
       " 'primary_cleaner.output.tail_au',\n",
       " 'primary_cleaner.output.tail_pb',\n",
       " 'primary_cleaner.output.tail_sol',\n",
       " 'recovery_calculation',\n",
       " 'rougher.calculation.au_pb_ratio',\n",
       " 'rougher.calculation.floatbank10_sulfate_to_au_feed',\n",
       " 'rougher.calculation.floatbank11_sulfate_to_au_feed',\n",
       " 'rougher.calculation.sulfate_to_au_concentrate',\n",
       " 'rougher.output.concentrate_ag',\n",
       " 'rougher.output.concentrate_au',\n",
       " 'rougher.output.concentrate_pb',\n",
       " 'rougher.output.concentrate_sol',\n",
       " 'rougher.output.tail_ag',\n",
       " 'rougher.output.tail_au',\n",
       " 'rougher.output.tail_pb',\n",
       " 'rougher.output.tail_sol',\n",
       " 'secondary_cleaner.output.tail_ag',\n",
       " 'secondary_cleaner.output.tail_au',\n",
       " 'secondary_cleaner.output.tail_pb',\n",
       " 'secondary_cleaner.output.tail_sol'}"
      ]
     },
     "execution_count": 54,
     "metadata": {},
     "output_type": "execute_result"
    }
   ],
   "source": [
    "absent"
   ]
  },
  {
   "cell_type": "code",
   "execution_count": 55,
   "metadata": {},
   "outputs": [],
   "source": [
    "# удалим этот столбец из обучающей выборки\n",
    "data_train_without_zero = data_train_without_zero.drop(columns=absent, axis=1)"
   ]
  },
  {
   "cell_type": "code",
   "execution_count": 56,
   "metadata": {
    "scrolled": true
   },
   "outputs": [
    {
     "data": {
      "text/html": [
       "<div>\n",
       "<style scoped>\n",
       "    .dataframe tbody tr th:only-of-type {\n",
       "        vertical-align: middle;\n",
       "    }\n",
       "\n",
       "    .dataframe tbody tr th {\n",
       "        vertical-align: top;\n",
       "    }\n",
       "\n",
       "    .dataframe thead th {\n",
       "        text-align: right;\n",
       "    }\n",
       "</style>\n",
       "<table border=\"1\" class=\"dataframe\">\n",
       "  <thead>\n",
       "    <tr style=\"text-align: right;\">\n",
       "      <th></th>\n",
       "      <th>date</th>\n",
       "      <th>final.output.recovery</th>\n",
       "      <th>primary_cleaner.input.sulfate</th>\n",
       "      <th>primary_cleaner.input.depressant</th>\n",
       "      <th>primary_cleaner.input.feed_size</th>\n",
       "      <th>primary_cleaner.input.xanthate</th>\n",
       "      <th>primary_cleaner.state.floatbank8_a_air</th>\n",
       "      <th>primary_cleaner.state.floatbank8_a_level</th>\n",
       "      <th>primary_cleaner.state.floatbank8_b_air</th>\n",
       "      <th>primary_cleaner.state.floatbank8_b_level</th>\n",
       "      <th>...</th>\n",
       "      <th>secondary_cleaner.state.floatbank4_a_air</th>\n",
       "      <th>secondary_cleaner.state.floatbank4_a_level</th>\n",
       "      <th>secondary_cleaner.state.floatbank4_b_air</th>\n",
       "      <th>secondary_cleaner.state.floatbank4_b_level</th>\n",
       "      <th>secondary_cleaner.state.floatbank5_a_air</th>\n",
       "      <th>secondary_cleaner.state.floatbank5_a_level</th>\n",
       "      <th>secondary_cleaner.state.floatbank5_b_air</th>\n",
       "      <th>secondary_cleaner.state.floatbank5_b_level</th>\n",
       "      <th>secondary_cleaner.state.floatbank6_a_air</th>\n",
       "      <th>secondary_cleaner.state.floatbank6_a_level</th>\n",
       "    </tr>\n",
       "  </thead>\n",
       "  <tbody>\n",
       "    <tr>\n",
       "      <th>0</th>\n",
       "      <td>2016-01-15 00:00:00</td>\n",
       "      <td>70.541216</td>\n",
       "      <td>127.092003</td>\n",
       "      <td>10.128295</td>\n",
       "      <td>7.25</td>\n",
       "      <td>0.988759</td>\n",
       "      <td>1549.775757</td>\n",
       "      <td>-498.912140</td>\n",
       "      <td>1551.434204</td>\n",
       "      <td>-516.403442</td>\n",
       "      <td>...</td>\n",
       "      <td>14.016835</td>\n",
       "      <td>-502.488007</td>\n",
       "      <td>12.099931</td>\n",
       "      <td>-504.715942</td>\n",
       "      <td>9.925633</td>\n",
       "      <td>-498.310211</td>\n",
       "      <td>8.079666</td>\n",
       "      <td>-500.470978</td>\n",
       "      <td>14.151341</td>\n",
       "      <td>-605.841980</td>\n",
       "    </tr>\n",
       "    <tr>\n",
       "      <th>1</th>\n",
       "      <td>2016-01-15 01:00:00</td>\n",
       "      <td>69.266198</td>\n",
       "      <td>125.629232</td>\n",
       "      <td>10.296251</td>\n",
       "      <td>7.25</td>\n",
       "      <td>1.002663</td>\n",
       "      <td>1576.166671</td>\n",
       "      <td>-500.904965</td>\n",
       "      <td>1575.950626</td>\n",
       "      <td>-499.865889</td>\n",
       "      <td>...</td>\n",
       "      <td>13.992281</td>\n",
       "      <td>-505.503262</td>\n",
       "      <td>11.950531</td>\n",
       "      <td>-501.331529</td>\n",
       "      <td>10.039245</td>\n",
       "      <td>-500.169983</td>\n",
       "      <td>7.984757</td>\n",
       "      <td>-500.582168</td>\n",
       "      <td>13.998353</td>\n",
       "      <td>-599.787184</td>\n",
       "    </tr>\n",
       "    <tr>\n",
       "      <th>2</th>\n",
       "      <td>2016-01-15 02:00:00</td>\n",
       "      <td>68.116445</td>\n",
       "      <td>123.819808</td>\n",
       "      <td>11.316280</td>\n",
       "      <td>7.25</td>\n",
       "      <td>0.991265</td>\n",
       "      <td>1601.556163</td>\n",
       "      <td>-499.997791</td>\n",
       "      <td>1600.386685</td>\n",
       "      <td>-500.607762</td>\n",
       "      <td>...</td>\n",
       "      <td>14.015015</td>\n",
       "      <td>-502.520901</td>\n",
       "      <td>11.912783</td>\n",
       "      <td>-501.133383</td>\n",
       "      <td>10.070913</td>\n",
       "      <td>-500.129135</td>\n",
       "      <td>8.013877</td>\n",
       "      <td>-500.517572</td>\n",
       "      <td>14.028663</td>\n",
       "      <td>-601.427363</td>\n",
       "    </tr>\n",
       "    <tr>\n",
       "      <th>3</th>\n",
       "      <td>2016-01-15 03:00:00</td>\n",
       "      <td>68.347543</td>\n",
       "      <td>122.270188</td>\n",
       "      <td>11.322140</td>\n",
       "      <td>7.25</td>\n",
       "      <td>0.996739</td>\n",
       "      <td>1599.968720</td>\n",
       "      <td>-500.951778</td>\n",
       "      <td>1600.659236</td>\n",
       "      <td>-499.677094</td>\n",
       "      <td>...</td>\n",
       "      <td>14.036510</td>\n",
       "      <td>-500.857308</td>\n",
       "      <td>11.999550</td>\n",
       "      <td>-501.193686</td>\n",
       "      <td>9.970366</td>\n",
       "      <td>-499.201640</td>\n",
       "      <td>7.977324</td>\n",
       "      <td>-500.255908</td>\n",
       "      <td>14.005551</td>\n",
       "      <td>-599.996129</td>\n",
       "    </tr>\n",
       "    <tr>\n",
       "      <th>4</th>\n",
       "      <td>2016-01-15 04:00:00</td>\n",
       "      <td>66.927016</td>\n",
       "      <td>117.988169</td>\n",
       "      <td>11.913613</td>\n",
       "      <td>7.25</td>\n",
       "      <td>1.009869</td>\n",
       "      <td>1601.339707</td>\n",
       "      <td>-498.975456</td>\n",
       "      <td>1601.437854</td>\n",
       "      <td>-500.323246</td>\n",
       "      <td>...</td>\n",
       "      <td>14.027298</td>\n",
       "      <td>-499.838632</td>\n",
       "      <td>11.953070</td>\n",
       "      <td>-501.053894</td>\n",
       "      <td>9.925709</td>\n",
       "      <td>-501.686727</td>\n",
       "      <td>7.894242</td>\n",
       "      <td>-500.356035</td>\n",
       "      <td>13.996647</td>\n",
       "      <td>-601.496691</td>\n",
       "    </tr>\n",
       "    <tr>\n",
       "      <th>...</th>\n",
       "      <td>...</td>\n",
       "      <td>...</td>\n",
       "      <td>...</td>\n",
       "      <td>...</td>\n",
       "      <td>...</td>\n",
       "      <td>...</td>\n",
       "      <td>...</td>\n",
       "      <td>...</td>\n",
       "      <td>...</td>\n",
       "      <td>...</td>\n",
       "      <td>...</td>\n",
       "      <td>...</td>\n",
       "      <td>...</td>\n",
       "      <td>...</td>\n",
       "      <td>...</td>\n",
       "      <td>...</td>\n",
       "      <td>...</td>\n",
       "      <td>...</td>\n",
       "      <td>...</td>\n",
       "      <td>...</td>\n",
       "      <td>...</td>\n",
       "    </tr>\n",
       "    <tr>\n",
       "      <th>14144</th>\n",
       "      <td>2018-08-18 06:59:59</td>\n",
       "      <td>73.755150</td>\n",
       "      <td>123.381787</td>\n",
       "      <td>8.028927</td>\n",
       "      <td>6.50</td>\n",
       "      <td>1.304232</td>\n",
       "      <td>1648.421193</td>\n",
       "      <td>-400.382169</td>\n",
       "      <td>1648.742005</td>\n",
       "      <td>-400.359661</td>\n",
       "      <td>...</td>\n",
       "      <td>23.031497</td>\n",
       "      <td>-501.167942</td>\n",
       "      <td>20.007571</td>\n",
       "      <td>-499.740028</td>\n",
       "      <td>18.006038</td>\n",
       "      <td>-499.834374</td>\n",
       "      <td>13.001114</td>\n",
       "      <td>-500.155694</td>\n",
       "      <td>20.007840</td>\n",
       "      <td>-501.296428</td>\n",
       "    </tr>\n",
       "    <tr>\n",
       "      <th>14145</th>\n",
       "      <td>2018-08-18 07:59:59</td>\n",
       "      <td>69.049291</td>\n",
       "      <td>120.878188</td>\n",
       "      <td>7.962636</td>\n",
       "      <td>6.50</td>\n",
       "      <td>1.302419</td>\n",
       "      <td>1649.820162</td>\n",
       "      <td>-399.930973</td>\n",
       "      <td>1649.357538</td>\n",
       "      <td>-399.721222</td>\n",
       "      <td>...</td>\n",
       "      <td>22.960095</td>\n",
       "      <td>-501.612783</td>\n",
       "      <td>20.035660</td>\n",
       "      <td>-500.251357</td>\n",
       "      <td>17.998535</td>\n",
       "      <td>-500.395178</td>\n",
       "      <td>12.954048</td>\n",
       "      <td>-499.895163</td>\n",
       "      <td>19.968498</td>\n",
       "      <td>-501.041608</td>\n",
       "    </tr>\n",
       "    <tr>\n",
       "      <th>14146</th>\n",
       "      <td>2018-08-18 08:59:59</td>\n",
       "      <td>67.002189</td>\n",
       "      <td>105.666118</td>\n",
       "      <td>7.955111</td>\n",
       "      <td>6.50</td>\n",
       "      <td>1.315926</td>\n",
       "      <td>1649.166761</td>\n",
       "      <td>-399.888631</td>\n",
       "      <td>1649.196904</td>\n",
       "      <td>-399.677571</td>\n",
       "      <td>...</td>\n",
       "      <td>23.015718</td>\n",
       "      <td>-501.711599</td>\n",
       "      <td>19.951231</td>\n",
       "      <td>-499.857027</td>\n",
       "      <td>18.019543</td>\n",
       "      <td>-500.451156</td>\n",
       "      <td>13.023431</td>\n",
       "      <td>-499.914391</td>\n",
       "      <td>19.990885</td>\n",
       "      <td>-501.518452</td>\n",
       "    </tr>\n",
       "    <tr>\n",
       "      <th>14147</th>\n",
       "      <td>2018-08-18 09:59:59</td>\n",
       "      <td>65.523246</td>\n",
       "      <td>98.880538</td>\n",
       "      <td>7.984164</td>\n",
       "      <td>6.50</td>\n",
       "      <td>1.241969</td>\n",
       "      <td>1646.547763</td>\n",
       "      <td>-398.977083</td>\n",
       "      <td>1648.212240</td>\n",
       "      <td>-400.383265</td>\n",
       "      <td>...</td>\n",
       "      <td>23.024963</td>\n",
       "      <td>-501.153409</td>\n",
       "      <td>20.054122</td>\n",
       "      <td>-500.314711</td>\n",
       "      <td>17.979515</td>\n",
       "      <td>-499.272871</td>\n",
       "      <td>12.992404</td>\n",
       "      <td>-499.976268</td>\n",
       "      <td>20.013986</td>\n",
       "      <td>-500.625471</td>\n",
       "    </tr>\n",
       "    <tr>\n",
       "      <th>14148</th>\n",
       "      <td>2018-08-18 10:59:59</td>\n",
       "      <td>70.281454</td>\n",
       "      <td>95.248427</td>\n",
       "      <td>8.078957</td>\n",
       "      <td>6.50</td>\n",
       "      <td>1.283045</td>\n",
       "      <td>1648.759906</td>\n",
       "      <td>-399.862053</td>\n",
       "      <td>1650.135395</td>\n",
       "      <td>-399.957321</td>\n",
       "      <td>...</td>\n",
       "      <td>23.018622</td>\n",
       "      <td>-500.492702</td>\n",
       "      <td>20.020205</td>\n",
       "      <td>-500.220296</td>\n",
       "      <td>17.963512</td>\n",
       "      <td>-499.939490</td>\n",
       "      <td>12.990306</td>\n",
       "      <td>-500.080993</td>\n",
       "      <td>19.990336</td>\n",
       "      <td>-499.191575</td>\n",
       "    </tr>\n",
       "  </tbody>\n",
       "</table>\n",
       "<p>13792 rows × 55 columns</p>\n",
       "</div>"
      ],
      "text/plain": [
       "                     date  final.output.recovery  \\\n",
       "0     2016-01-15 00:00:00              70.541216   \n",
       "1     2016-01-15 01:00:00              69.266198   \n",
       "2     2016-01-15 02:00:00              68.116445   \n",
       "3     2016-01-15 03:00:00              68.347543   \n",
       "4     2016-01-15 04:00:00              66.927016   \n",
       "...                   ...                    ...   \n",
       "14144 2018-08-18 06:59:59              73.755150   \n",
       "14145 2018-08-18 07:59:59              69.049291   \n",
       "14146 2018-08-18 08:59:59              67.002189   \n",
       "14147 2018-08-18 09:59:59              65.523246   \n",
       "14148 2018-08-18 10:59:59              70.281454   \n",
       "\n",
       "       primary_cleaner.input.sulfate  primary_cleaner.input.depressant  \\\n",
       "0                         127.092003                         10.128295   \n",
       "1                         125.629232                         10.296251   \n",
       "2                         123.819808                         11.316280   \n",
       "3                         122.270188                         11.322140   \n",
       "4                         117.988169                         11.913613   \n",
       "...                              ...                               ...   \n",
       "14144                     123.381787                          8.028927   \n",
       "14145                     120.878188                          7.962636   \n",
       "14146                     105.666118                          7.955111   \n",
       "14147                      98.880538                          7.984164   \n",
       "14148                      95.248427                          8.078957   \n",
       "\n",
       "       primary_cleaner.input.feed_size  primary_cleaner.input.xanthate  \\\n",
       "0                                 7.25                        0.988759   \n",
       "1                                 7.25                        1.002663   \n",
       "2                                 7.25                        0.991265   \n",
       "3                                 7.25                        0.996739   \n",
       "4                                 7.25                        1.009869   \n",
       "...                                ...                             ...   \n",
       "14144                             6.50                        1.304232   \n",
       "14145                             6.50                        1.302419   \n",
       "14146                             6.50                        1.315926   \n",
       "14147                             6.50                        1.241969   \n",
       "14148                             6.50                        1.283045   \n",
       "\n",
       "       primary_cleaner.state.floatbank8_a_air  \\\n",
       "0                                 1549.775757   \n",
       "1                                 1576.166671   \n",
       "2                                 1601.556163   \n",
       "3                                 1599.968720   \n",
       "4                                 1601.339707   \n",
       "...                                       ...   \n",
       "14144                             1648.421193   \n",
       "14145                             1649.820162   \n",
       "14146                             1649.166761   \n",
       "14147                             1646.547763   \n",
       "14148                             1648.759906   \n",
       "\n",
       "       primary_cleaner.state.floatbank8_a_level  \\\n",
       "0                                   -498.912140   \n",
       "1                                   -500.904965   \n",
       "2                                   -499.997791   \n",
       "3                                   -500.951778   \n",
       "4                                   -498.975456   \n",
       "...                                         ...   \n",
       "14144                               -400.382169   \n",
       "14145                               -399.930973   \n",
       "14146                               -399.888631   \n",
       "14147                               -398.977083   \n",
       "14148                               -399.862053   \n",
       "\n",
       "       primary_cleaner.state.floatbank8_b_air  \\\n",
       "0                                 1551.434204   \n",
       "1                                 1575.950626   \n",
       "2                                 1600.386685   \n",
       "3                                 1600.659236   \n",
       "4                                 1601.437854   \n",
       "...                                       ...   \n",
       "14144                             1648.742005   \n",
       "14145                             1649.357538   \n",
       "14146                             1649.196904   \n",
       "14147                             1648.212240   \n",
       "14148                             1650.135395   \n",
       "\n",
       "       primary_cleaner.state.floatbank8_b_level  ...  \\\n",
       "0                                   -516.403442  ...   \n",
       "1                                   -499.865889  ...   \n",
       "2                                   -500.607762  ...   \n",
       "3                                   -499.677094  ...   \n",
       "4                                   -500.323246  ...   \n",
       "...                                         ...  ...   \n",
       "14144                               -400.359661  ...   \n",
       "14145                               -399.721222  ...   \n",
       "14146                               -399.677571  ...   \n",
       "14147                               -400.383265  ...   \n",
       "14148                               -399.957321  ...   \n",
       "\n",
       "       secondary_cleaner.state.floatbank4_a_air  \\\n",
       "0                                     14.016835   \n",
       "1                                     13.992281   \n",
       "2                                     14.015015   \n",
       "3                                     14.036510   \n",
       "4                                     14.027298   \n",
       "...                                         ...   \n",
       "14144                                 23.031497   \n",
       "14145                                 22.960095   \n",
       "14146                                 23.015718   \n",
       "14147                                 23.024963   \n",
       "14148                                 23.018622   \n",
       "\n",
       "       secondary_cleaner.state.floatbank4_a_level  \\\n",
       "0                                     -502.488007   \n",
       "1                                     -505.503262   \n",
       "2                                     -502.520901   \n",
       "3                                     -500.857308   \n",
       "4                                     -499.838632   \n",
       "...                                           ...   \n",
       "14144                                 -501.167942   \n",
       "14145                                 -501.612783   \n",
       "14146                                 -501.711599   \n",
       "14147                                 -501.153409   \n",
       "14148                                 -500.492702   \n",
       "\n",
       "       secondary_cleaner.state.floatbank4_b_air  \\\n",
       "0                                     12.099931   \n",
       "1                                     11.950531   \n",
       "2                                     11.912783   \n",
       "3                                     11.999550   \n",
       "4                                     11.953070   \n",
       "...                                         ...   \n",
       "14144                                 20.007571   \n",
       "14145                                 20.035660   \n",
       "14146                                 19.951231   \n",
       "14147                                 20.054122   \n",
       "14148                                 20.020205   \n",
       "\n",
       "       secondary_cleaner.state.floatbank4_b_level  \\\n",
       "0                                     -504.715942   \n",
       "1                                     -501.331529   \n",
       "2                                     -501.133383   \n",
       "3                                     -501.193686   \n",
       "4                                     -501.053894   \n",
       "...                                           ...   \n",
       "14144                                 -499.740028   \n",
       "14145                                 -500.251357   \n",
       "14146                                 -499.857027   \n",
       "14147                                 -500.314711   \n",
       "14148                                 -500.220296   \n",
       "\n",
       "       secondary_cleaner.state.floatbank5_a_air  \\\n",
       "0                                      9.925633   \n",
       "1                                     10.039245   \n",
       "2                                     10.070913   \n",
       "3                                      9.970366   \n",
       "4                                      9.925709   \n",
       "...                                         ...   \n",
       "14144                                 18.006038   \n",
       "14145                                 17.998535   \n",
       "14146                                 18.019543   \n",
       "14147                                 17.979515   \n",
       "14148                                 17.963512   \n",
       "\n",
       "       secondary_cleaner.state.floatbank5_a_level  \\\n",
       "0                                     -498.310211   \n",
       "1                                     -500.169983   \n",
       "2                                     -500.129135   \n",
       "3                                     -499.201640   \n",
       "4                                     -501.686727   \n",
       "...                                           ...   \n",
       "14144                                 -499.834374   \n",
       "14145                                 -500.395178   \n",
       "14146                                 -500.451156   \n",
       "14147                                 -499.272871   \n",
       "14148                                 -499.939490   \n",
       "\n",
       "       secondary_cleaner.state.floatbank5_b_air  \\\n",
       "0                                      8.079666   \n",
       "1                                      7.984757   \n",
       "2                                      8.013877   \n",
       "3                                      7.977324   \n",
       "4                                      7.894242   \n",
       "...                                         ...   \n",
       "14144                                 13.001114   \n",
       "14145                                 12.954048   \n",
       "14146                                 13.023431   \n",
       "14147                                 12.992404   \n",
       "14148                                 12.990306   \n",
       "\n",
       "       secondary_cleaner.state.floatbank5_b_level  \\\n",
       "0                                     -500.470978   \n",
       "1                                     -500.582168   \n",
       "2                                     -500.517572   \n",
       "3                                     -500.255908   \n",
       "4                                     -500.356035   \n",
       "...                                           ...   \n",
       "14144                                 -500.155694   \n",
       "14145                                 -499.895163   \n",
       "14146                                 -499.914391   \n",
       "14147                                 -499.976268   \n",
       "14148                                 -500.080993   \n",
       "\n",
       "       secondary_cleaner.state.floatbank6_a_air  \\\n",
       "0                                     14.151341   \n",
       "1                                     13.998353   \n",
       "2                                     14.028663   \n",
       "3                                     14.005551   \n",
       "4                                     13.996647   \n",
       "...                                         ...   \n",
       "14144                                 20.007840   \n",
       "14145                                 19.968498   \n",
       "14146                                 19.990885   \n",
       "14147                                 20.013986   \n",
       "14148                                 19.990336   \n",
       "\n",
       "       secondary_cleaner.state.floatbank6_a_level  \n",
       "0                                     -605.841980  \n",
       "1                                     -599.787184  \n",
       "2                                     -601.427363  \n",
       "3                                     -599.996129  \n",
       "4                                     -601.496691  \n",
       "...                                           ...  \n",
       "14144                                 -501.296428  \n",
       "14145                                 -501.041608  \n",
       "14146                                 -501.518452  \n",
       "14147                                 -500.625471  \n",
       "14148                                 -499.191575  \n",
       "\n",
       "[13792 rows x 55 columns]"
      ]
     },
     "metadata": {},
     "output_type": "display_data"
    },
    {
     "data": {
      "text/html": [
       "<div>\n",
       "<style scoped>\n",
       "    .dataframe tbody tr th:only-of-type {\n",
       "        vertical-align: middle;\n",
       "    }\n",
       "\n",
       "    .dataframe tbody tr th {\n",
       "        vertical-align: top;\n",
       "    }\n",
       "\n",
       "    .dataframe thead th {\n",
       "        text-align: right;\n",
       "    }\n",
       "</style>\n",
       "<table border=\"1\" class=\"dataframe\">\n",
       "  <thead>\n",
       "    <tr style=\"text-align: right;\">\n",
       "      <th></th>\n",
       "      <th>date</th>\n",
       "      <th>primary_cleaner.input.sulfate</th>\n",
       "      <th>primary_cleaner.input.depressant</th>\n",
       "      <th>primary_cleaner.input.feed_size</th>\n",
       "      <th>primary_cleaner.input.xanthate</th>\n",
       "      <th>primary_cleaner.state.floatbank8_a_air</th>\n",
       "      <th>primary_cleaner.state.floatbank8_a_level</th>\n",
       "      <th>primary_cleaner.state.floatbank8_b_air</th>\n",
       "      <th>primary_cleaner.state.floatbank8_b_level</th>\n",
       "      <th>primary_cleaner.state.floatbank8_c_air</th>\n",
       "      <th>...</th>\n",
       "      <th>secondary_cleaner.state.floatbank4_b_air</th>\n",
       "      <th>secondary_cleaner.state.floatbank4_b_level</th>\n",
       "      <th>secondary_cleaner.state.floatbank5_a_air</th>\n",
       "      <th>secondary_cleaner.state.floatbank5_a_level</th>\n",
       "      <th>secondary_cleaner.state.floatbank5_b_air</th>\n",
       "      <th>secondary_cleaner.state.floatbank5_b_level</th>\n",
       "      <th>secondary_cleaner.state.floatbank6_a_air</th>\n",
       "      <th>secondary_cleaner.state.floatbank6_a_level</th>\n",
       "      <th>rougher.output.recovery</th>\n",
       "      <th>final.output.recovery</th>\n",
       "    </tr>\n",
       "  </thead>\n",
       "  <tbody>\n",
       "    <tr>\n",
       "      <th>0</th>\n",
       "      <td>2016-09-01 00:59:59</td>\n",
       "      <td>210.800909</td>\n",
       "      <td>14.993118</td>\n",
       "      <td>8.080000</td>\n",
       "      <td>1.005021</td>\n",
       "      <td>1398.981301</td>\n",
       "      <td>-500.225577</td>\n",
       "      <td>1399.144926</td>\n",
       "      <td>-499.919735</td>\n",
       "      <td>1400.102998</td>\n",
       "      <td>...</td>\n",
       "      <td>8.016656</td>\n",
       "      <td>-501.289139</td>\n",
       "      <td>7.946562</td>\n",
       "      <td>-432.317850</td>\n",
       "      <td>4.872511</td>\n",
       "      <td>-500.037437</td>\n",
       "      <td>26.705889</td>\n",
       "      <td>-499.709414</td>\n",
       "      <td>89.993421</td>\n",
       "      <td>70.273583</td>\n",
       "    </tr>\n",
       "    <tr>\n",
       "      <th>1</th>\n",
       "      <td>2016-09-01 01:59:59</td>\n",
       "      <td>215.392455</td>\n",
       "      <td>14.987471</td>\n",
       "      <td>8.080000</td>\n",
       "      <td>0.990469</td>\n",
       "      <td>1398.777912</td>\n",
       "      <td>-500.057435</td>\n",
       "      <td>1398.055362</td>\n",
       "      <td>-499.778182</td>\n",
       "      <td>1396.151033</td>\n",
       "      <td>...</td>\n",
       "      <td>8.130979</td>\n",
       "      <td>-499.634209</td>\n",
       "      <td>7.958270</td>\n",
       "      <td>-525.839648</td>\n",
       "      <td>4.878850</td>\n",
       "      <td>-500.162375</td>\n",
       "      <td>25.019940</td>\n",
       "      <td>-499.819438</td>\n",
       "      <td>88.089657</td>\n",
       "      <td>68.910432</td>\n",
       "    </tr>\n",
       "    <tr>\n",
       "      <th>2</th>\n",
       "      <td>2016-09-01 02:59:59</td>\n",
       "      <td>215.259946</td>\n",
       "      <td>12.884934</td>\n",
       "      <td>7.786667</td>\n",
       "      <td>0.996043</td>\n",
       "      <td>1398.493666</td>\n",
       "      <td>-500.868360</td>\n",
       "      <td>1398.860436</td>\n",
       "      <td>-499.764529</td>\n",
       "      <td>1398.075709</td>\n",
       "      <td>...</td>\n",
       "      <td>8.096893</td>\n",
       "      <td>-500.827423</td>\n",
       "      <td>8.071056</td>\n",
       "      <td>-500.801673</td>\n",
       "      <td>4.905125</td>\n",
       "      <td>-499.828510</td>\n",
       "      <td>24.994862</td>\n",
       "      <td>-500.622559</td>\n",
       "      <td>88.412756</td>\n",
       "      <td>68.143213</td>\n",
       "    </tr>\n",
       "    <tr>\n",
       "      <th>3</th>\n",
       "      <td>2016-09-01 03:59:59</td>\n",
       "      <td>215.336236</td>\n",
       "      <td>12.006805</td>\n",
       "      <td>7.640000</td>\n",
       "      <td>0.863514</td>\n",
       "      <td>1399.618111</td>\n",
       "      <td>-498.863574</td>\n",
       "      <td>1397.440120</td>\n",
       "      <td>-499.211024</td>\n",
       "      <td>1400.129303</td>\n",
       "      <td>...</td>\n",
       "      <td>8.074946</td>\n",
       "      <td>-499.474407</td>\n",
       "      <td>7.897085</td>\n",
       "      <td>-500.868509</td>\n",
       "      <td>4.931400</td>\n",
       "      <td>-499.963623</td>\n",
       "      <td>24.948919</td>\n",
       "      <td>-498.709987</td>\n",
       "      <td>87.360133</td>\n",
       "      <td>67.776393</td>\n",
       "    </tr>\n",
       "    <tr>\n",
       "      <th>4</th>\n",
       "      <td>2016-09-01 04:59:59</td>\n",
       "      <td>199.099327</td>\n",
       "      <td>10.682530</td>\n",
       "      <td>7.530000</td>\n",
       "      <td>0.805575</td>\n",
       "      <td>1401.268123</td>\n",
       "      <td>-500.808305</td>\n",
       "      <td>1398.128818</td>\n",
       "      <td>-499.504543</td>\n",
       "      <td>1402.172226</td>\n",
       "      <td>...</td>\n",
       "      <td>8.054678</td>\n",
       "      <td>-500.397500</td>\n",
       "      <td>8.107890</td>\n",
       "      <td>-509.526725</td>\n",
       "      <td>4.957674</td>\n",
       "      <td>-500.360026</td>\n",
       "      <td>25.003331</td>\n",
       "      <td>-500.856333</td>\n",
       "      <td>83.236367</td>\n",
       "      <td>61.467078</td>\n",
       "    </tr>\n",
       "    <tr>\n",
       "      <th>...</th>\n",
       "      <td>...</td>\n",
       "      <td>...</td>\n",
       "      <td>...</td>\n",
       "      <td>...</td>\n",
       "      <td>...</td>\n",
       "      <td>...</td>\n",
       "      <td>...</td>\n",
       "      <td>...</td>\n",
       "      <td>...</td>\n",
       "      <td>...</td>\n",
       "      <td>...</td>\n",
       "      <td>...</td>\n",
       "      <td>...</td>\n",
       "      <td>...</td>\n",
       "      <td>...</td>\n",
       "      <td>...</td>\n",
       "      <td>...</td>\n",
       "      <td>...</td>\n",
       "      <td>...</td>\n",
       "      <td>...</td>\n",
       "      <td>...</td>\n",
       "    </tr>\n",
       "    <tr>\n",
       "      <th>5285</th>\n",
       "      <td>2017-12-31 19:59:59</td>\n",
       "      <td>173.957757</td>\n",
       "      <td>15.963399</td>\n",
       "      <td>8.070000</td>\n",
       "      <td>0.896701</td>\n",
       "      <td>1401.930554</td>\n",
       "      <td>-499.728848</td>\n",
       "      <td>1401.441445</td>\n",
       "      <td>-499.193423</td>\n",
       "      <td>1399.810313</td>\n",
       "      <td>...</td>\n",
       "      <td>12.069155</td>\n",
       "      <td>-499.673279</td>\n",
       "      <td>7.977259</td>\n",
       "      <td>-499.516126</td>\n",
       "      <td>5.933319</td>\n",
       "      <td>-499.965973</td>\n",
       "      <td>8.987171</td>\n",
       "      <td>-499.755909</td>\n",
       "      <td>95.172585</td>\n",
       "      <td>68.919891</td>\n",
       "    </tr>\n",
       "    <tr>\n",
       "      <th>5286</th>\n",
       "      <td>2017-12-31 20:59:59</td>\n",
       "      <td>172.910270</td>\n",
       "      <td>16.002605</td>\n",
       "      <td>8.070000</td>\n",
       "      <td>0.896519</td>\n",
       "      <td>1447.075722</td>\n",
       "      <td>-494.716823</td>\n",
       "      <td>1448.851892</td>\n",
       "      <td>-465.963026</td>\n",
       "      <td>1443.890424</td>\n",
       "      <td>...</td>\n",
       "      <td>13.365371</td>\n",
       "      <td>-499.122723</td>\n",
       "      <td>9.288553</td>\n",
       "      <td>-496.892967</td>\n",
       "      <td>7.372897</td>\n",
       "      <td>-499.942956</td>\n",
       "      <td>8.986832</td>\n",
       "      <td>-499.903761</td>\n",
       "      <td>94.575036</td>\n",
       "      <td>68.440582</td>\n",
       "    </tr>\n",
       "    <tr>\n",
       "      <th>5287</th>\n",
       "      <td>2017-12-31 21:59:59</td>\n",
       "      <td>171.135718</td>\n",
       "      <td>15.993669</td>\n",
       "      <td>8.070000</td>\n",
       "      <td>1.165996</td>\n",
       "      <td>1498.836182</td>\n",
       "      <td>-501.770403</td>\n",
       "      <td>1499.572353</td>\n",
       "      <td>-495.516347</td>\n",
       "      <td>1502.749213</td>\n",
       "      <td>...</td>\n",
       "      <td>15.101425</td>\n",
       "      <td>-499.936252</td>\n",
       "      <td>10.989181</td>\n",
       "      <td>-498.347898</td>\n",
       "      <td>9.020944</td>\n",
       "      <td>-500.040448</td>\n",
       "      <td>8.982038</td>\n",
       "      <td>-497.789882</td>\n",
       "      <td>93.018138</td>\n",
       "      <td>67.092759</td>\n",
       "    </tr>\n",
       "    <tr>\n",
       "      <th>5288</th>\n",
       "      <td>2017-12-31 22:59:59</td>\n",
       "      <td>179.697158</td>\n",
       "      <td>15.438979</td>\n",
       "      <td>8.070000</td>\n",
       "      <td>1.501068</td>\n",
       "      <td>1498.466243</td>\n",
       "      <td>-500.483984</td>\n",
       "      <td>1497.986986</td>\n",
       "      <td>-519.200340</td>\n",
       "      <td>1496.569047</td>\n",
       "      <td>...</td>\n",
       "      <td>15.026853</td>\n",
       "      <td>-499.723143</td>\n",
       "      <td>11.011607</td>\n",
       "      <td>-499.985046</td>\n",
       "      <td>9.009783</td>\n",
       "      <td>-499.937902</td>\n",
       "      <td>9.012660</td>\n",
       "      <td>-500.154284</td>\n",
       "      <td>92.599042</td>\n",
       "      <td>68.061186</td>\n",
       "    </tr>\n",
       "    <tr>\n",
       "      <th>5289</th>\n",
       "      <td>2017-12-31 23:59:59</td>\n",
       "      <td>181.556856</td>\n",
       "      <td>14.995850</td>\n",
       "      <td>8.070000</td>\n",
       "      <td>1.623454</td>\n",
       "      <td>1498.096303</td>\n",
       "      <td>-499.796922</td>\n",
       "      <td>1501.743791</td>\n",
       "      <td>-505.146931</td>\n",
       "      <td>1499.535978</td>\n",
       "      <td>...</td>\n",
       "      <td>14.914199</td>\n",
       "      <td>-499.948518</td>\n",
       "      <td>10.986607</td>\n",
       "      <td>-500.658027</td>\n",
       "      <td>8.989497</td>\n",
       "      <td>-500.337588</td>\n",
       "      <td>8.988632</td>\n",
       "      <td>-500.764937</td>\n",
       "      <td>91.177695</td>\n",
       "      <td>71.699976</td>\n",
       "    </tr>\n",
       "  </tbody>\n",
       "</table>\n",
       "<p>5290 rows × 55 columns</p>\n",
       "</div>"
      ],
      "text/plain": [
       "                    date  primary_cleaner.input.sulfate  \\\n",
       "0    2016-09-01 00:59:59                     210.800909   \n",
       "1    2016-09-01 01:59:59                     215.392455   \n",
       "2    2016-09-01 02:59:59                     215.259946   \n",
       "3    2016-09-01 03:59:59                     215.336236   \n",
       "4    2016-09-01 04:59:59                     199.099327   \n",
       "...                  ...                            ...   \n",
       "5285 2017-12-31 19:59:59                     173.957757   \n",
       "5286 2017-12-31 20:59:59                     172.910270   \n",
       "5287 2017-12-31 21:59:59                     171.135718   \n",
       "5288 2017-12-31 22:59:59                     179.697158   \n",
       "5289 2017-12-31 23:59:59                     181.556856   \n",
       "\n",
       "      primary_cleaner.input.depressant  primary_cleaner.input.feed_size  \\\n",
       "0                            14.993118                         8.080000   \n",
       "1                            14.987471                         8.080000   \n",
       "2                            12.884934                         7.786667   \n",
       "3                            12.006805                         7.640000   \n",
       "4                            10.682530                         7.530000   \n",
       "...                                ...                              ...   \n",
       "5285                         15.963399                         8.070000   \n",
       "5286                         16.002605                         8.070000   \n",
       "5287                         15.993669                         8.070000   \n",
       "5288                         15.438979                         8.070000   \n",
       "5289                         14.995850                         8.070000   \n",
       "\n",
       "      primary_cleaner.input.xanthate  primary_cleaner.state.floatbank8_a_air  \\\n",
       "0                           1.005021                             1398.981301   \n",
       "1                           0.990469                             1398.777912   \n",
       "2                           0.996043                             1398.493666   \n",
       "3                           0.863514                             1399.618111   \n",
       "4                           0.805575                             1401.268123   \n",
       "...                              ...                                     ...   \n",
       "5285                        0.896701                             1401.930554   \n",
       "5286                        0.896519                             1447.075722   \n",
       "5287                        1.165996                             1498.836182   \n",
       "5288                        1.501068                             1498.466243   \n",
       "5289                        1.623454                             1498.096303   \n",
       "\n",
       "      primary_cleaner.state.floatbank8_a_level  \\\n",
       "0                                  -500.225577   \n",
       "1                                  -500.057435   \n",
       "2                                  -500.868360   \n",
       "3                                  -498.863574   \n",
       "4                                  -500.808305   \n",
       "...                                        ...   \n",
       "5285                               -499.728848   \n",
       "5286                               -494.716823   \n",
       "5287                               -501.770403   \n",
       "5288                               -500.483984   \n",
       "5289                               -499.796922   \n",
       "\n",
       "      primary_cleaner.state.floatbank8_b_air  \\\n",
       "0                                1399.144926   \n",
       "1                                1398.055362   \n",
       "2                                1398.860436   \n",
       "3                                1397.440120   \n",
       "4                                1398.128818   \n",
       "...                                      ...   \n",
       "5285                             1401.441445   \n",
       "5286                             1448.851892   \n",
       "5287                             1499.572353   \n",
       "5288                             1497.986986   \n",
       "5289                             1501.743791   \n",
       "\n",
       "      primary_cleaner.state.floatbank8_b_level  \\\n",
       "0                                  -499.919735   \n",
       "1                                  -499.778182   \n",
       "2                                  -499.764529   \n",
       "3                                  -499.211024   \n",
       "4                                  -499.504543   \n",
       "...                                        ...   \n",
       "5285                               -499.193423   \n",
       "5286                               -465.963026   \n",
       "5287                               -495.516347   \n",
       "5288                               -519.200340   \n",
       "5289                               -505.146931   \n",
       "\n",
       "      primary_cleaner.state.floatbank8_c_air  ...  \\\n",
       "0                                1400.102998  ...   \n",
       "1                                1396.151033  ...   \n",
       "2                                1398.075709  ...   \n",
       "3                                1400.129303  ...   \n",
       "4                                1402.172226  ...   \n",
       "...                                      ...  ...   \n",
       "5285                             1399.810313  ...   \n",
       "5286                             1443.890424  ...   \n",
       "5287                             1502.749213  ...   \n",
       "5288                             1496.569047  ...   \n",
       "5289                             1499.535978  ...   \n",
       "\n",
       "      secondary_cleaner.state.floatbank4_b_air  \\\n",
       "0                                     8.016656   \n",
       "1                                     8.130979   \n",
       "2                                     8.096893   \n",
       "3                                     8.074946   \n",
       "4                                     8.054678   \n",
       "...                                        ...   \n",
       "5285                                 12.069155   \n",
       "5286                                 13.365371   \n",
       "5287                                 15.101425   \n",
       "5288                                 15.026853   \n",
       "5289                                 14.914199   \n",
       "\n",
       "      secondary_cleaner.state.floatbank4_b_level  \\\n",
       "0                                    -501.289139   \n",
       "1                                    -499.634209   \n",
       "2                                    -500.827423   \n",
       "3                                    -499.474407   \n",
       "4                                    -500.397500   \n",
       "...                                          ...   \n",
       "5285                                 -499.673279   \n",
       "5286                                 -499.122723   \n",
       "5287                                 -499.936252   \n",
       "5288                                 -499.723143   \n",
       "5289                                 -499.948518   \n",
       "\n",
       "      secondary_cleaner.state.floatbank5_a_air  \\\n",
       "0                                     7.946562   \n",
       "1                                     7.958270   \n",
       "2                                     8.071056   \n",
       "3                                     7.897085   \n",
       "4                                     8.107890   \n",
       "...                                        ...   \n",
       "5285                                  7.977259   \n",
       "5286                                  9.288553   \n",
       "5287                                 10.989181   \n",
       "5288                                 11.011607   \n",
       "5289                                 10.986607   \n",
       "\n",
       "      secondary_cleaner.state.floatbank5_a_level  \\\n",
       "0                                    -432.317850   \n",
       "1                                    -525.839648   \n",
       "2                                    -500.801673   \n",
       "3                                    -500.868509   \n",
       "4                                    -509.526725   \n",
       "...                                          ...   \n",
       "5285                                 -499.516126   \n",
       "5286                                 -496.892967   \n",
       "5287                                 -498.347898   \n",
       "5288                                 -499.985046   \n",
       "5289                                 -500.658027   \n",
       "\n",
       "      secondary_cleaner.state.floatbank5_b_air  \\\n",
       "0                                     4.872511   \n",
       "1                                     4.878850   \n",
       "2                                     4.905125   \n",
       "3                                     4.931400   \n",
       "4                                     4.957674   \n",
       "...                                        ...   \n",
       "5285                                  5.933319   \n",
       "5286                                  7.372897   \n",
       "5287                                  9.020944   \n",
       "5288                                  9.009783   \n",
       "5289                                  8.989497   \n",
       "\n",
       "      secondary_cleaner.state.floatbank5_b_level  \\\n",
       "0                                    -500.037437   \n",
       "1                                    -500.162375   \n",
       "2                                    -499.828510   \n",
       "3                                    -499.963623   \n",
       "4                                    -500.360026   \n",
       "...                                          ...   \n",
       "5285                                 -499.965973   \n",
       "5286                                 -499.942956   \n",
       "5287                                 -500.040448   \n",
       "5288                                 -499.937902   \n",
       "5289                                 -500.337588   \n",
       "\n",
       "      secondary_cleaner.state.floatbank6_a_air  \\\n",
       "0                                    26.705889   \n",
       "1                                    25.019940   \n",
       "2                                    24.994862   \n",
       "3                                    24.948919   \n",
       "4                                    25.003331   \n",
       "...                                        ...   \n",
       "5285                                  8.987171   \n",
       "5286                                  8.986832   \n",
       "5287                                  8.982038   \n",
       "5288                                  9.012660   \n",
       "5289                                  8.988632   \n",
       "\n",
       "      secondary_cleaner.state.floatbank6_a_level  rougher.output.recovery  \\\n",
       "0                                    -499.709414                89.993421   \n",
       "1                                    -499.819438                88.089657   \n",
       "2                                    -500.622559                88.412756   \n",
       "3                                    -498.709987                87.360133   \n",
       "4                                    -500.856333                83.236367   \n",
       "...                                          ...                      ...   \n",
       "5285                                 -499.755909                95.172585   \n",
       "5286                                 -499.903761                94.575036   \n",
       "5287                                 -497.789882                93.018138   \n",
       "5288                                 -500.154284                92.599042   \n",
       "5289                                 -500.764937                91.177695   \n",
       "\n",
       "      final.output.recovery  \n",
       "0                 70.273583  \n",
       "1                 68.910432  \n",
       "2                 68.143213  \n",
       "3                 67.776393  \n",
       "4                 61.467078  \n",
       "...                     ...  \n",
       "5285              68.919891  \n",
       "5286              68.440582  \n",
       "5287              67.092759  \n",
       "5288              68.061186  \n",
       "5289              71.699976  \n",
       "\n",
       "[5290 rows x 55 columns]"
      ]
     },
     "metadata": {},
     "output_type": "display_data"
    }
   ],
   "source": [
    "display(data_train_without_zero)\n",
    "display(data_test)"
   ]
  },
  {
   "cell_type": "code",
   "execution_count": 57,
   "metadata": {
    "scrolled": true
   },
   "outputs": [
    {
     "name": "stdout",
     "output_type": "stream",
     "text": [
      "<class 'pandas.core.frame.DataFrame'>\n",
      "Int64Index: 13792 entries, 0 to 14148\n",
      "Data columns (total 55 columns):\n",
      " #   Column                                      Non-Null Count  Dtype         \n",
      "---  ------                                      --------------  -----         \n",
      " 0   date                                        13792 non-null  datetime64[ns]\n",
      " 1   final.output.recovery                       13792 non-null  float64       \n",
      " 2   primary_cleaner.input.sulfate               13792 non-null  float64       \n",
      " 3   primary_cleaner.input.depressant            13792 non-null  float64       \n",
      " 4   primary_cleaner.input.feed_size             13792 non-null  float64       \n",
      " 5   primary_cleaner.input.xanthate              13792 non-null  float64       \n",
      " 6   primary_cleaner.state.floatbank8_a_air      13792 non-null  float64       \n",
      " 7   primary_cleaner.state.floatbank8_a_level    13792 non-null  float64       \n",
      " 8   primary_cleaner.state.floatbank8_b_air      13792 non-null  float64       \n",
      " 9   primary_cleaner.state.floatbank8_b_level    13792 non-null  float64       \n",
      " 10  primary_cleaner.state.floatbank8_c_air      13792 non-null  float64       \n",
      " 11  primary_cleaner.state.floatbank8_c_level    13792 non-null  float64       \n",
      " 12  primary_cleaner.state.floatbank8_d_air      13792 non-null  float64       \n",
      " 13  primary_cleaner.state.floatbank8_d_level    13792 non-null  float64       \n",
      " 14  rougher.input.feed_ag                       13792 non-null  float64       \n",
      " 15  rougher.input.feed_pb                       13792 non-null  float64       \n",
      " 16  rougher.input.feed_rate                     13792 non-null  float64       \n",
      " 17  rougher.input.feed_size                     13792 non-null  float64       \n",
      " 18  rougher.input.feed_sol                      13792 non-null  float64       \n",
      " 19  rougher.input.feed_au                       13792 non-null  float64       \n",
      " 20  rougher.input.floatbank10_sulfate           13792 non-null  float64       \n",
      " 21  rougher.input.floatbank10_xanthate          13792 non-null  float64       \n",
      " 22  rougher.input.floatbank11_sulfate           13792 non-null  float64       \n",
      " 23  rougher.input.floatbank11_xanthate          13792 non-null  float64       \n",
      " 24  rougher.output.recovery                     13792 non-null  float64       \n",
      " 25  rougher.state.floatbank10_a_air             13792 non-null  float64       \n",
      " 26  rougher.state.floatbank10_a_level           13792 non-null  float64       \n",
      " 27  rougher.state.floatbank10_b_air             13792 non-null  float64       \n",
      " 28  rougher.state.floatbank10_b_level           13792 non-null  float64       \n",
      " 29  rougher.state.floatbank10_c_air             13792 non-null  float64       \n",
      " 30  rougher.state.floatbank10_c_level           13792 non-null  float64       \n",
      " 31  rougher.state.floatbank10_d_air             13792 non-null  float64       \n",
      " 32  rougher.state.floatbank10_d_level           13792 non-null  float64       \n",
      " 33  rougher.state.floatbank10_e_air             13792 non-null  float64       \n",
      " 34  rougher.state.floatbank10_e_level           13792 non-null  float64       \n",
      " 35  rougher.state.floatbank10_f_air             13792 non-null  float64       \n",
      " 36  rougher.state.floatbank10_f_level           13792 non-null  float64       \n",
      " 37  secondary_cleaner.state.floatbank2_a_air    13792 non-null  float64       \n",
      " 38  secondary_cleaner.state.floatbank2_a_level  13792 non-null  float64       \n",
      " 39  secondary_cleaner.state.floatbank2_b_air    13792 non-null  float64       \n",
      " 40  secondary_cleaner.state.floatbank2_b_level  13792 non-null  float64       \n",
      " 41  secondary_cleaner.state.floatbank3_a_air    13792 non-null  float64       \n",
      " 42  secondary_cleaner.state.floatbank3_a_level  13792 non-null  float64       \n",
      " 43  secondary_cleaner.state.floatbank3_b_air    13792 non-null  float64       \n",
      " 44  secondary_cleaner.state.floatbank3_b_level  13792 non-null  float64       \n",
      " 45  secondary_cleaner.state.floatbank4_a_air    13792 non-null  float64       \n",
      " 46  secondary_cleaner.state.floatbank4_a_level  13792 non-null  float64       \n",
      " 47  secondary_cleaner.state.floatbank4_b_air    13792 non-null  float64       \n",
      " 48  secondary_cleaner.state.floatbank4_b_level  13792 non-null  float64       \n",
      " 49  secondary_cleaner.state.floatbank5_a_air    13792 non-null  float64       \n",
      " 50  secondary_cleaner.state.floatbank5_a_level  13792 non-null  float64       \n",
      " 51  secondary_cleaner.state.floatbank5_b_air    13792 non-null  float64       \n",
      " 52  secondary_cleaner.state.floatbank5_b_level  13792 non-null  float64       \n",
      " 53  secondary_cleaner.state.floatbank6_a_air    13792 non-null  float64       \n",
      " 54  secondary_cleaner.state.floatbank6_a_level  13792 non-null  float64       \n",
      "dtypes: datetime64[ns](1), float64(54)\n",
      "memory usage: 5.9 MB\n"
     ]
    }
   ],
   "source": [
    "data_train_without_zero.info()"
   ]
  },
  {
   "cell_type": "markdown",
   "metadata": {},
   "source": [
    "Количество столбцов в обучающей и тестовой выборках одинаковое. Можно приступать к обучению."
   ]
  },
  {
   "cell_type": "markdown",
   "metadata": {},
   "source": [
    "Подготовим данные для обучения моделей"
   ]
  },
  {
   "cell_type": "code",
   "execution_count": 58,
   "metadata": {},
   "outputs": [],
   "source": [
    "# определяем признаки и целевые признаки на обучающей выборке\n",
    "target_rougher_train = data_train_without_zero['rougher.output.recovery']\n",
    "target_final_train = data_train_without_zero['final.output.recovery']\n",
    "\n",
    "features_train = data_train_without_zero.drop(['date', 'final.output.recovery', 'rougher.output.recovery'], axis=1)"
   ]
  },
  {
   "cell_type": "code",
   "execution_count": 59,
   "metadata": {},
   "outputs": [],
   "source": [
    "# определяем признаки и целевые признаки на тестовой выборке\n",
    "target_rougher_test = data_test['rougher.output.recovery']\n",
    "target_final_test = data_test['final.output.recovery']\n",
    "\n",
    "features_test = data_test.drop(['date', 'final.output.recovery', 'rougher.output.recovery'], axis=1)"
   ]
  },
  {
   "cell_type": "code",
   "execution_count": 60,
   "metadata": {},
   "outputs": [],
   "source": [
    "# проведем масштабирование признаков обучающей выборки\n",
    "scaler = StandardScaler()\n",
    "scaler.fit(features_train)\n",
    "features_train = scaler.transform(features_train)"
   ]
  },
  {
   "cell_type": "markdown",
   "metadata": {},
   "source": [
    "### Обучение разных моделей и оценка их качества кросс-валидацией"
   ]
  },
  {
   "cell_type": "code",
   "execution_count": 61,
   "metadata": {},
   "outputs": [],
   "source": [
    "# дерево решений\n",
    "#model_tree = DecisionTreeRegressor(random_state=12345)\n",
    "#cross_val_score(model_tree, features_train, target_rougher_train, cv=5, scoring=smape_scorer).mean()"
   ]
  },
  {
   "cell_type": "code",
   "execution_count": 62,
   "metadata": {},
   "outputs": [],
   "source": [
    "# линейная регрессия\n",
    "#model_lr = LinearRegression()\n",
    "#cross_val_score(model_lr, features_train, target_rougher_train, cv=5, scoring=smape_scorer).mean()"
   ]
  },
  {
   "cell_type": "code",
   "execution_count": 63,
   "metadata": {},
   "outputs": [],
   "source": [
    "# случайный лес\n",
    "#model_rfr = RandomForestRegressor(random_state=12345, n_estimators=10)\n",
    "#cross_val_score(model_rfr, features_train, target_rougher_train, cv=5, scoring=smape_scorer).mean()"
   ]
  },
  {
   "cell_type": "markdown",
   "metadata": {},
   "source": [
    "Лучшие показатели у модели линейная регрессия. Применим ее на тестовой выборке."
   ]
  },
  {
   "cell_type": "code",
   "execution_count": 64,
   "metadata": {},
   "outputs": [
    {
     "name": "stdout",
     "output_type": "stream",
     "text": [
      "sMape для линейной регрессии на стадии rougher -7.272530148831914\n",
      "sMape для линейной регрессии на стадии final -10.98817187482608\n",
      "Итоговый sMape для линейной регрессии -10.05926144332754\n"
     ]
    }
   ],
   "source": [
    "# линейная регрессия\n",
    "model_lr = LinearRegression()\n",
    "smape_scorer = make_scorer(smape_unweighted, greater_is_better = False) \n",
    "result_lr_rougher = cross_val_score(model_lr, features_train, target_rougher_train, cv=5, scoring=smape_scorer)\n",
    "result_lr_final = cross_val_score(model_lr, features_train, target_final_train, cv=5, scoring=smape_scorer)\n",
    "print('sMape для линейной регрессии на стадии rougher', result_lr_rougher.mean())\n",
    "print('sMape для линейной регрессии на стадии final', result_lr_final.mean())\n",
    "print('Итоговый sMape для линейной регрессии', smape_total(result_lr_rougher, result_lr_final).mean())"
   ]
  },
  {
   "cell_type": "code",
   "execution_count": 65,
   "metadata": {},
   "outputs": [
    {
     "name": "stdout",
     "output_type": "stream",
     "text": [
      "Итоговый smape -15.313944023507254 Лучший параметр глубины 18\n"
     ]
    }
   ],
   "source": [
    "# решающее дерево\n",
    "best_result_tree = 100\n",
    "best_param_tree = 0\n",
    "for depth in range(1, 20, 1):\n",
    "    model_tree_rougher = DecisionTreeRegressor(max_depth=depth, random_state=12345)\n",
    "    smape_rougher = cross_val_score(model_tree_rougher, features_train, target_rougher_train, scoring=smape_scorer, cv=5)\n",
    "    final_smape_rougher = smape_rougher.mean()\n",
    "\n",
    "    model_tree_final = DecisionTreeRegressor(max_depth=depth, random_state=12345)\n",
    "    smape_final = cross_val_score(model_tree_final, features_train, target_final_train, scoring=smape_scorer, cv=5)\n",
    "    final_smape_final = smape_final.mean()\n",
    "    \n",
    "    result_smape = smape_total(final_smape_rougher, final_smape_final)\n",
    "    if result_smape < best_result_tree:\n",
    "        best_result_tree = result_smape\n",
    "        best_param_tree = depth\n",
    "        \n",
    "print('Итоговый smape', best_result_tree, 'Лучший параметр глубины', best_param_tree)"
   ]
  },
  {
   "cell_type": "code",
   "execution_count": 66,
   "metadata": {},
   "outputs": [
    {
     "name": "stdout",
     "output_type": "stream",
     "text": [
      "Итоговый smape -9.052250312780732 Лучший параметр числа и глубины деревьев [40, 8]\n"
     ]
    }
   ],
   "source": [
    "# случайный лес\n",
    "best_result_forest = 100\n",
    "best_param_forest = 0\n",
    "for est in range(10, 100, 30):\n",
    "    for depth in range(2,10,2):\n",
    "        model_forest_rougher = RandomForestRegressor(n_estimators=est, max_depth=depth, random_state=12345)\n",
    "        smape_rougher = cross_val_score(model_forest_rougher, features_train, target_rougher_train, scoring=smape_scorer, cv=5)\n",
    "        final_smape_rougher = smape_rougher.mean()\n",
    "\n",
    "        model_forest_final = RandomForestRegressor(n_estimators=est, max_depth=depth, random_state=12345)\n",
    "        smape_final = cross_val_score(model_forest_final, features_train, target_final_train, scoring=smape_scorer, cv=5)\n",
    "        final_smape_final = smape_final.mean()\n",
    "        \n",
    "        result_smape = smape_total(final_smape_rougher, final_smape_final)\n",
    "        if result_smape < best_result_forest:\n",
    "            best_result_forest = result_smape\n",
    "            best_param_forest = [est, depth]\n",
    "            \n",
    "print('Итоговый smape', best_result_forest, 'Лучший параметр числа и глубины деревьев', best_param_forest)"
   ]
  },
  {
   "cell_type": "code",
   "execution_count": 67,
   "metadata": {
    "scrolled": true
   },
   "outputs": [],
   "source": [
    "# решающее дерево\n",
    "#for depth in range(1, 12, 1):\n",
    "#    model_tree = DecisionTreeRegressor(random_state=12345, max_depth=depth)\n",
    "#    smape_scorer = make_scorer(smape_unweighted, greater_is_better = False) \n",
    "#    result_tree_rougher = cross_val_score(model_tree, features_train, target_rougher_train, cv=5, scoring=smape_scorer)\n",
    "#    result_tree_final = cross_val_score(model_tree, features_train, target_final_train, cv=5, scoring=smape_scorer)\n",
    "#    print('Глубина', depth)\n",
    "#    print('sMape для решающего дерева на стадии rougher', result_tree_rougher.mean())\n",
    "#    print('sMape для решающего дерева на стадии final', result_tree_final.mean())\n",
    "#    print('Итоговый sMape для решающего дерева', smape_total(result_tree_rougher, result_tree_final).mean())\n",
    "#    print('')\n",
    "#print()"
   ]
  },
  {
   "cell_type": "code",
   "execution_count": 68,
   "metadata": {
    "scrolled": true
   },
   "outputs": [],
   "source": [
    "# случайный лес\n",
    "#for est in range(1, 11):\n",
    "#    model_forest = RandomForestRegressor(random_state=12345, n_estimators=est)\n",
    "#    smape_scorer = make_scorer(smape_unweighted, greater_is_better = False) \n",
    "#   result_forest_rougher = cross_val_score(model_forest, features_train, target_rougher_train, cv=5, scoring=smape_scorer)\n",
    "#    result_forest_final = cross_val_score(model_forest, features_train, target_final_train, cv=5, scoring=smape_scorer)\n",
    "#   print('Количество деревьев', est)\n",
    "#    print('sMape для случайного леса на стадии rougher', result_forest_rougher.mean())\n",
    "#    print('sMape для случайного леса на стадии final', result_forest_final.mean())\n",
    "#    print('Итоговый sMape для случайного леса', smape_total(result_forest_rougher, result_forest_final).mean())\n",
    "#    print('')"
   ]
  },
  {
   "cell_type": "code",
   "execution_count": 69,
   "metadata": {},
   "outputs": [],
   "source": [
    "# проведем масштабирование признаков тестовой выборки\n",
    "#scaler = StandardScaler()\n",
    "#scaler.fit(features_test)\n",
    "features_test = scaler.transform(features_test)"
   ]
  },
  {
   "cell_type": "markdown",
   "metadata": {},
   "source": [
    "Проверим лучшую модель (в нашем случае линейной регресии) на тестовой выборке."
   ]
  },
  {
   "cell_type": "code",
   "execution_count": 70,
   "metadata": {},
   "outputs": [],
   "source": [
    "#model_lr_rougher = LinearRegression()\n",
    "#model_lr_final = LinearRegression()\n",
    "\n",
    "#lr_rougher = model_lr_rougher.fit(features_train, target_rougher_train)\n",
    "#lr_final = model_lr_final.fit(features_train, target_final_train)\n",
    "\n",
    "#lr_predictions_rougher = lr_rougher.predict(features_test)\n",
    "#lr_predictions_final = lr_final.predict(features_test)"
   ]
  },
  {
   "cell_type": "code",
   "execution_count": 71,
   "metadata": {},
   "outputs": [],
   "source": [
    "#smape_rougher = smape_unweighted(target_rougher_test, lr_predictions_rougher)"
   ]
  },
  {
   "cell_type": "code",
   "execution_count": 72,
   "metadata": {},
   "outputs": [],
   "source": [
    "#smape_final = smape_unweighted(target_final_test, lr_predictions_final)"
   ]
  },
  {
   "cell_type": "code",
   "execution_count": 73,
   "metadata": {},
   "outputs": [],
   "source": [
    "#smape_total(smape_rougher, smape_final)"
   ]
  },
  {
   "cell_type": "code",
   "execution_count": 75,
   "metadata": {},
   "outputs": [
    {
     "name": "stdout",
     "output_type": "stream",
     "text": [
      "sMape для случайного леса на стадии rougher_test 8.159315621246341\n",
      "sMape для случайного леса на стадии final_test 9.74984776676575\n",
      "Итоговый sMape для случайного леса 9.352214730385898\n"
     ]
    }
   ],
   "source": [
    "model_forest_r = RandomForestRegressor(n_estimators=40, max_depth=8, random_state=12345)\n",
    "model_forest_f = RandomForestRegressor(n_estimators=40, max_depth=8, random_state=12345)\n",
    "\n",
    "smape_scorer = make_scorer(smape_unweighted, greater_is_better = False) \n",
    "\n",
    "model_forest_rougher = model_forest_r.fit(features_train, target_rougher_train)\n",
    "model_forest_final = model_forest_f.fit(features_train, target_final_train)\n",
    "\n",
    "forest_predictions_rougher = model_forest_rougher.predict(features_test)\n",
    "forest_predictions_final = model_forest_final.predict(features_test)\n",
    "\n",
    "smape_test_rougher = smape_unweighted(target_rougher_test, forest_predictions_rougher)\n",
    "smape_test_final = smape_unweighted(target_final_test, forest_predictions_final)\n",
    "#total_smape_test = smape_total(smape_test_rougher, smape_test_final)\n",
    "\n",
    "print('sMape для случайного леса на стадии rougher_test', smape_test_rougher.mean())\n",
    "print('sMape для случайного леса на стадии final_test', smape_test_final.mean())\n",
    "print('Итоговый sMape для случайного леса', smape_total(smape_test_rougher, smape_test_final).mean())"
   ]
  },
  {
   "cell_type": "markdown",
   "metadata": {},
   "source": [
    "Тест на адекватность с помощью дамми ловушки"
   ]
  },
  {
   "cell_type": "code",
   "execution_count": 76,
   "metadata": {},
   "outputs": [],
   "source": [
    "dummy_model_r = DummyRegressor(strategy=\"mean\")\n",
    "dummy_model_f = DummyRegressor(strategy=\"mean\")\n",
    "\n",
    "dummy_rougher = dummy_model_r.fit(features_train, target_rougher_train)\n",
    "dummy_predictions_rougher = dummy_rougher.predict(features_test)\n",
    "\n",
    "dummy_final = dummy_model_f.fit(features_train, target_final_train)\n",
    "dummy_predictions_final = dummy_final.predict(features_test)"
   ]
  },
  {
   "cell_type": "code",
   "execution_count": 77,
   "metadata": {},
   "outputs": [],
   "source": [
    "smape_rougher_dummy = smape_unweighted(target_rougher_test, dummy_predictions_rougher)"
   ]
  },
  {
   "cell_type": "code",
   "execution_count": 78,
   "metadata": {},
   "outputs": [],
   "source": [
    "smape_final_dummy = smape_unweighted(target_final_test, dummy_predictions_final)"
   ]
  },
  {
   "cell_type": "code",
   "execution_count": 79,
   "metadata": {},
   "outputs": [
    {
     "data": {
      "text/plain": [
       "9.821468391651027"
      ]
     },
     "execution_count": 79,
     "metadata": {},
     "output_type": "execute_result"
    }
   ],
   "source": [
    "smape_total(smape_rougher_dummy, smape_final_dummy)"
   ]
  },
  {
   "cell_type": "markdown",
   "metadata": {},
   "source": [
    "Проведена проверка модели на адекватностью Итоговая оценка smape константной модели на тестовых данных равна 9,82."
   ]
  },
  {
   "cell_type": "markdown",
   "metadata": {},
   "source": [
    "**Вывод по шагу 3:**\n",
    "1. подготовлена функция для вычисления итоговой sMAPE.\n",
    "2. подготовлены обучающие и целевые признаки для обучающей и тестовой выборок.\n",
    "3. признаки отмасштабированы.\n",
    "4. наилучшей моделью оказалась модель **решающего дерева**."
   ]
  },
  {
   "cell_type": "markdown",
   "metadata": {},
   "source": [
    "**Общие выводы**\n",
    "\n",
    "В процессе подготовки данных были сделаны следующие шаги:\n",
    "1. Привели в соответствие тип данных для колонки date: изменили с object на datetime. В остальных признаках типы данных соответствуют содержимому.\n",
    "2. Регистр соответствует стандарту snake_case.\n",
    "3. Пропуски в обучающей и тестовой выборках были заполнены значениями предшествующими по времени (такое условие было прописано в описании проекта) методом ffill.\n",
    "4. Проверено, что эффективность обогащения рассчитана правильно. МАЕ (отличие предсказаний от истинных значений) равно достаточно малому значению, что говорит о верности расчетов.\n",
    "5. Нашли признаки, отсутствующие в тестовой выборке. Их оказалось 34 значения. Это может быть связано с тем, что они замеряются или рассчитываются значительно позже.\n",
    "6. В data_test добавили целевые признаки (rougher.output.recovery, final.output.recovery).\n",
    "\n",
    "На этапе анализа данных выявили:\n",
    "1. концентрация основного элемента (золота) закономерно возрастает в процессе очистки. Концентрация серебра падает. Концентрация свинца не становится меньше, возможно в дальнейшем проводятся дополнительные этапы очистки, не представленные в этом задании.\n",
    "2. Распределения гранул сырья на обучающей и тестовой выборках примерно равны.\n",
    "3. При проведении исследования суммарной концентрации всех веществ на разных стадиях были выявлены аномальные значения, равные 0, которые были удалены.\n",
    "\n",
    "На этапе модели:\n",
    "1. подготовлена функция для вычисления итоговой sMAPE.\n",
    "2. подготовлены обучающие и целевые признаки для обучающей и тестовой выборок.\n",
    "3. признаки отмасштабированы.\n",
    "4. наилучшей моделью оказалась модель **случайного леса**."
   ]
  }
 ],
 "metadata": {
  "ExecuteTimeLog": [
   {
    "duration": 1642,
    "start_time": "2023-04-10T10:48:51.880Z"
   },
   {
    "duration": 1809,
    "start_time": "2023-04-10T10:51:00.704Z"
   },
   {
    "duration": 26,
    "start_time": "2023-04-10T10:51:52.215Z"
   },
   {
    "duration": 118,
    "start_time": "2023-04-10T10:52:26.353Z"
   },
   {
    "duration": 273,
    "start_time": "2023-04-10T10:53:12.216Z"
   },
   {
    "duration": 48,
    "start_time": "2023-04-10T15:36:45.438Z"
   },
   {
    "duration": 1534,
    "start_time": "2023-04-10T15:36:52.305Z"
   },
   {
    "duration": 3053,
    "start_time": "2023-04-10T15:36:53.841Z"
   },
   {
    "duration": 17,
    "start_time": "2023-04-10T15:36:56.895Z"
   },
   {
    "duration": 111,
    "start_time": "2023-04-10T15:36:56.914Z"
   },
   {
    "duration": 262,
    "start_time": "2023-04-10T15:36:57.027Z"
   },
   {
    "duration": 20,
    "start_time": "2023-04-10T15:37:29.169Z"
   },
   {
    "duration": 48,
    "start_time": "2023-04-10T15:38:10.244Z"
   },
   {
    "duration": 59,
    "start_time": "2023-04-10T15:39:22.779Z"
   },
   {
    "duration": 520,
    "start_time": "2023-04-10T15:41:15.344Z"
   },
   {
    "duration": 113,
    "start_time": "2023-04-10T15:41:46.896Z"
   },
   {
    "duration": 131,
    "start_time": "2023-04-10T16:34:13.546Z"
   },
   {
    "duration": 22,
    "start_time": "2023-04-10T16:34:41.713Z"
   },
   {
    "duration": 4,
    "start_time": "2023-04-10T16:45:21.443Z"
   },
   {
    "duration": 109,
    "start_time": "2023-04-10T16:52:42.411Z"
   },
   {
    "duration": 2,
    "start_time": "2023-04-10T16:53:14.768Z"
   },
   {
    "duration": 61,
    "start_time": "2023-04-10T16:56:31.131Z"
   },
   {
    "duration": 11,
    "start_time": "2023-04-10T16:56:42.924Z"
   },
   {
    "duration": 6,
    "start_time": "2023-04-10T16:57:10.669Z"
   },
   {
    "duration": 3,
    "start_time": "2023-04-10T16:57:57.029Z"
   },
   {
    "duration": 7,
    "start_time": "2023-04-10T16:57:57.538Z"
   },
   {
    "duration": 4,
    "start_time": "2023-04-10T16:59:18.572Z"
   },
   {
    "duration": 4,
    "start_time": "2023-04-10T17:02:39.541Z"
   },
   {
    "duration": 4,
    "start_time": "2023-04-10T17:10:25.187Z"
   },
   {
    "duration": 3,
    "start_time": "2023-04-10T17:32:12.805Z"
   },
   {
    "duration": 4,
    "start_time": "2023-04-10T17:34:29.137Z"
   },
   {
    "duration": 7,
    "start_time": "2023-04-10T17:35:11.154Z"
   },
   {
    "duration": 8,
    "start_time": "2023-04-10T17:35:17.738Z"
   },
   {
    "duration": 3,
    "start_time": "2023-04-10T17:35:54.128Z"
   },
   {
    "duration": 13,
    "start_time": "2023-04-10T17:38:21.149Z"
   },
   {
    "duration": 9,
    "start_time": "2023-04-10T17:40:39.637Z"
   },
   {
    "duration": 16,
    "start_time": "2023-04-10T18:38:19.017Z"
   },
   {
    "duration": 9,
    "start_time": "2023-04-10T18:39:02.031Z"
   },
   {
    "duration": 14,
    "start_time": "2023-04-10T18:39:29.797Z"
   },
   {
    "duration": 9,
    "start_time": "2023-04-10T18:39:48.231Z"
   },
   {
    "duration": 10,
    "start_time": "2023-04-10T18:50:36.566Z"
   },
   {
    "duration": 3,
    "start_time": "2023-04-10T19:03:34.978Z"
   },
   {
    "duration": 3,
    "start_time": "2023-04-10T19:03:49.448Z"
   },
   {
    "duration": 4,
    "start_time": "2023-04-10T19:04:19.236Z"
   },
   {
    "duration": 3,
    "start_time": "2023-04-10T19:08:02.797Z"
   },
   {
    "duration": 3,
    "start_time": "2023-04-10T19:08:50.399Z"
   },
   {
    "duration": 477,
    "start_time": "2023-04-10T19:11:15.534Z"
   },
   {
    "duration": 3,
    "start_time": "2023-04-10T19:18:11.638Z"
   },
   {
    "duration": 430,
    "start_time": "2023-04-10T19:18:13.762Z"
   },
   {
    "duration": 4,
    "start_time": "2023-04-10T19:19:20.762Z"
   },
   {
    "duration": 4,
    "start_time": "2023-04-10T19:19:23.225Z"
   },
   {
    "duration": 5,
    "start_time": "2023-04-10T19:19:23.578Z"
   },
   {
    "duration": 4,
    "start_time": "2023-04-10T19:19:24.404Z"
   },
   {
    "duration": 438,
    "start_time": "2023-04-10T19:19:24.969Z"
   },
   {
    "duration": 3,
    "start_time": "2023-04-10T19:21:07.855Z"
   },
   {
    "duration": 363,
    "start_time": "2023-04-10T19:21:10.055Z"
   },
   {
    "duration": 3,
    "start_time": "2023-04-10T19:22:18.334Z"
   },
   {
    "duration": 4,
    "start_time": "2023-04-10T19:22:19.716Z"
   },
   {
    "duration": 4,
    "start_time": "2023-04-10T19:23:14.699Z"
   },
   {
    "duration": 350,
    "start_time": "2023-04-10T19:23:15.781Z"
   },
   {
    "duration": 3,
    "start_time": "2023-04-10T19:23:27.796Z"
   },
   {
    "duration": 3,
    "start_time": "2023-04-10T19:23:28.212Z"
   },
   {
    "duration": 350,
    "start_time": "2023-04-10T19:23:28.876Z"
   },
   {
    "duration": 4,
    "start_time": "2023-04-10T19:23:44.403Z"
   },
   {
    "duration": 4,
    "start_time": "2023-04-10T19:23:44.949Z"
   },
   {
    "duration": 3,
    "start_time": "2023-04-10T19:23:45.843Z"
   },
   {
    "duration": 4,
    "start_time": "2023-04-10T19:23:46.195Z"
   },
   {
    "duration": 4,
    "start_time": "2023-04-10T19:23:47.403Z"
   },
   {
    "duration": 421,
    "start_time": "2023-04-10T19:23:48.660Z"
   },
   {
    "duration": 7,
    "start_time": "2023-04-10T19:24:57.497Z"
   },
   {
    "duration": 257,
    "start_time": "2023-04-10T19:25:06.216Z"
   },
   {
    "duration": 245,
    "start_time": "2023-04-10T19:25:22.027Z"
   },
   {
    "duration": 242,
    "start_time": "2023-04-10T19:25:51.426Z"
   },
   {
    "duration": 277,
    "start_time": "2023-04-10T19:26:01.497Z"
   },
   {
    "duration": 2620,
    "start_time": "2023-04-10T19:30:10.710Z"
   },
   {
    "duration": 63,
    "start_time": "2023-04-10T19:37:42.134Z"
   },
   {
    "duration": 9,
    "start_time": "2023-04-10T19:37:50.271Z"
   },
   {
    "duration": 8,
    "start_time": "2023-04-10T19:38:25.046Z"
   },
   {
    "duration": 59,
    "start_time": "2023-04-11T09:53:28.041Z"
   },
   {
    "duration": 1750,
    "start_time": "2023-04-11T09:53:35.194Z"
   },
   {
    "duration": 3324,
    "start_time": "2023-04-11T09:53:36.950Z"
   },
   {
    "duration": 76,
    "start_time": "2023-04-11T09:53:40.276Z"
   },
   {
    "duration": 58,
    "start_time": "2023-04-11T09:53:40.355Z"
   },
   {
    "duration": 665,
    "start_time": "2023-04-11T09:53:40.417Z"
   },
   {
    "duration": 118,
    "start_time": "2023-04-11T09:53:41.084Z"
   },
   {
    "duration": 145,
    "start_time": "2023-04-11T09:53:41.203Z"
   },
   {
    "duration": 23,
    "start_time": "2023-04-11T09:53:41.352Z"
   },
   {
    "duration": 5,
    "start_time": "2023-04-11T09:53:41.377Z"
   },
   {
    "duration": 5,
    "start_time": "2023-04-11T09:53:41.385Z"
   },
   {
    "duration": 29,
    "start_time": "2023-04-11T09:53:41.392Z"
   },
   {
    "duration": 13,
    "start_time": "2023-04-11T09:53:41.422Z"
   },
   {
    "duration": 7,
    "start_time": "2023-04-11T09:53:41.445Z"
   },
   {
    "duration": 10,
    "start_time": "2023-04-11T09:53:41.454Z"
   },
   {
    "duration": 6,
    "start_time": "2023-04-11T09:53:41.466Z"
   },
   {
    "duration": 18,
    "start_time": "2023-04-11T09:53:41.474Z"
   },
   {
    "duration": 22,
    "start_time": "2023-04-11T09:53:41.493Z"
   },
   {
    "duration": 32,
    "start_time": "2023-04-11T09:53:41.517Z"
   },
   {
    "duration": 4,
    "start_time": "2023-04-11T09:53:41.552Z"
   },
   {
    "duration": 11,
    "start_time": "2023-04-11T09:53:41.558Z"
   },
   {
    "duration": 10,
    "start_time": "2023-04-11T09:53:41.571Z"
   },
   {
    "duration": 11,
    "start_time": "2023-04-11T09:53:41.583Z"
   },
   {
    "duration": 11,
    "start_time": "2023-04-11T09:53:41.596Z"
   },
   {
    "duration": 7,
    "start_time": "2023-04-11T09:53:41.610Z"
   },
   {
    "duration": 475,
    "start_time": "2023-04-11T09:53:41.619Z"
   },
   {
    "duration": 417,
    "start_time": "2023-04-11T09:53:42.096Z"
   },
   {
    "duration": 340,
    "start_time": "2023-04-11T09:53:42.515Z"
   },
   {
    "duration": 331,
    "start_time": "2023-04-11T09:53:42.858Z"
   },
   {
    "duration": 13,
    "start_time": "2023-04-11T09:53:43.192Z"
   },
   {
    "duration": 32,
    "start_time": "2023-04-11T09:53:43.207Z"
   },
   {
    "duration": 174,
    "start_time": "2023-04-11T09:53:43.252Z"
   },
   {
    "duration": 184,
    "start_time": "2023-04-11T09:54:46.098Z"
   },
   {
    "duration": 132,
    "start_time": "2023-04-11T09:55:32.005Z"
   },
   {
    "duration": 292,
    "start_time": "2023-04-11T09:55:41.330Z"
   },
   {
    "duration": 209,
    "start_time": "2023-04-11T09:55:56.994Z"
   },
   {
    "duration": 180,
    "start_time": "2023-04-11T10:16:08.215Z"
   },
   {
    "duration": 274,
    "start_time": "2023-04-11T10:16:18.783Z"
   },
   {
    "duration": 184,
    "start_time": "2023-04-11T10:16:27.697Z"
   },
   {
    "duration": 206,
    "start_time": "2023-04-11T10:16:38.656Z"
   },
   {
    "duration": 184,
    "start_time": "2023-04-11T10:16:45.464Z"
   },
   {
    "duration": 172,
    "start_time": "2023-04-11T10:16:51.368Z"
   },
   {
    "duration": 123,
    "start_time": "2023-04-11T10:18:51.155Z"
   },
   {
    "duration": 1749,
    "start_time": "2023-04-11T11:18:46.603Z"
   },
   {
    "duration": 1620,
    "start_time": "2023-04-11T11:19:52.977Z"
   },
   {
    "duration": 1871,
    "start_time": "2023-04-11T11:20:20.358Z"
   },
   {
    "duration": 1185,
    "start_time": "2023-04-11T11:22:57.581Z"
   },
   {
    "duration": 667,
    "start_time": "2023-04-11T11:29:01.774Z"
   },
   {
    "duration": 886,
    "start_time": "2023-04-11T11:29:20.047Z"
   },
   {
    "duration": 15,
    "start_time": "2023-04-11T11:32:04.594Z"
   },
   {
    "duration": 58,
    "start_time": "2023-04-11T15:50:57.543Z"
   },
   {
    "duration": 1657,
    "start_time": "2023-04-11T15:51:04.393Z"
   },
   {
    "duration": 1968,
    "start_time": "2023-04-11T15:51:06.052Z"
   },
   {
    "duration": 53,
    "start_time": "2023-04-11T15:51:08.023Z"
   },
   {
    "duration": 59,
    "start_time": "2023-04-11T15:51:08.078Z"
   },
   {
    "duration": 545,
    "start_time": "2023-04-11T15:51:08.139Z"
   },
   {
    "duration": 111,
    "start_time": "2023-04-11T15:51:08.686Z"
   },
   {
    "duration": 139,
    "start_time": "2023-04-11T15:51:08.800Z"
   },
   {
    "duration": 29,
    "start_time": "2023-04-11T15:51:08.941Z"
   },
   {
    "duration": 5,
    "start_time": "2023-04-11T15:51:08.972Z"
   },
   {
    "duration": 12,
    "start_time": "2023-04-11T15:51:08.980Z"
   },
   {
    "duration": 26,
    "start_time": "2023-04-11T15:51:08.993Z"
   },
   {
    "duration": 20,
    "start_time": "2023-04-11T15:51:09.021Z"
   },
   {
    "duration": 4,
    "start_time": "2023-04-11T15:51:09.042Z"
   },
   {
    "duration": 5,
    "start_time": "2023-04-11T15:51:09.048Z"
   },
   {
    "duration": 4,
    "start_time": "2023-04-11T15:51:09.054Z"
   },
   {
    "duration": 4,
    "start_time": "2023-04-11T15:51:09.060Z"
   },
   {
    "duration": 14,
    "start_time": "2023-04-11T15:51:09.065Z"
   },
   {
    "duration": 43,
    "start_time": "2023-04-11T15:51:09.081Z"
   },
   {
    "duration": 10,
    "start_time": "2023-04-11T15:51:09.125Z"
   },
   {
    "duration": 3,
    "start_time": "2023-04-11T15:51:09.137Z"
   },
   {
    "duration": 4,
    "start_time": "2023-04-11T15:51:09.141Z"
   },
   {
    "duration": 4,
    "start_time": "2023-04-11T15:51:09.147Z"
   },
   {
    "duration": 4,
    "start_time": "2023-04-11T15:51:09.152Z"
   },
   {
    "duration": 5,
    "start_time": "2023-04-11T15:51:09.158Z"
   },
   {
    "duration": 4,
    "start_time": "2023-04-11T15:51:09.164Z"
   },
   {
    "duration": 488,
    "start_time": "2023-04-11T15:51:09.169Z"
   },
   {
    "duration": 280,
    "start_time": "2023-04-11T15:51:09.659Z"
   },
   {
    "duration": 276,
    "start_time": "2023-04-11T15:51:09.943Z"
   },
   {
    "duration": 274,
    "start_time": "2023-04-11T15:51:10.221Z"
   },
   {
    "duration": 21,
    "start_time": "2023-04-11T15:51:10.497Z"
   },
   {
    "duration": 7,
    "start_time": "2023-04-11T15:51:10.520Z"
   },
   {
    "duration": 161,
    "start_time": "2023-04-11T15:51:10.529Z"
   },
   {
    "duration": 131,
    "start_time": "2023-04-11T15:51:10.692Z"
   },
   {
    "duration": 550,
    "start_time": "2023-04-11T15:51:10.825Z"
   },
   {
    "duration": 1048,
    "start_time": "2023-04-11T15:51:11.377Z"
   },
   {
    "duration": 224,
    "start_time": "2023-04-11T15:51:12.426Z"
   },
   {
    "duration": 17,
    "start_time": "2023-04-11T15:52:05.311Z"
   },
   {
    "duration": 8,
    "start_time": "2023-04-11T15:52:23.498Z"
   },
   {
    "duration": 8,
    "start_time": "2023-04-11T15:52:24.234Z"
   },
   {
    "duration": 206,
    "start_time": "2023-04-11T15:52:55.264Z"
   },
   {
    "duration": 1398,
    "start_time": "2023-04-11T15:53:32.336Z"
   },
   {
    "duration": 9,
    "start_time": "2023-04-11T15:53:40.833Z"
   },
   {
    "duration": 9,
    "start_time": "2023-04-11T15:53:52.267Z"
   },
   {
    "duration": 20,
    "start_time": "2023-04-11T15:55:09.812Z"
   },
   {
    "duration": 9,
    "start_time": "2023-04-11T15:55:43.533Z"
   },
   {
    "duration": 10,
    "start_time": "2023-04-11T15:56:00.988Z"
   },
   {
    "duration": 14,
    "start_time": "2023-04-11T16:08:10.241Z"
   },
   {
    "duration": 14,
    "start_time": "2023-04-11T16:08:35.364Z"
   },
   {
    "duration": 13,
    "start_time": "2023-04-11T16:09:32.859Z"
   },
   {
    "duration": 9,
    "start_time": "2023-04-11T16:20:59.399Z"
   },
   {
    "duration": 11,
    "start_time": "2023-04-11T16:21:06.537Z"
   },
   {
    "duration": 10,
    "start_time": "2023-04-11T16:24:23.352Z"
   },
   {
    "duration": 30,
    "start_time": "2023-04-11T16:26:10.211Z"
   },
   {
    "duration": 20,
    "start_time": "2023-04-11T16:26:30.143Z"
   },
   {
    "duration": 13,
    "start_time": "2023-04-11T16:26:42.043Z"
   },
   {
    "duration": 20,
    "start_time": "2023-04-11T16:27:05.872Z"
   },
   {
    "duration": 12,
    "start_time": "2023-04-11T16:27:43.941Z"
   },
   {
    "duration": 164,
    "start_time": "2023-04-11T18:17:53.643Z"
   },
   {
    "duration": 173,
    "start_time": "2023-04-11T18:18:14.758Z"
   },
   {
    "duration": 205,
    "start_time": "2023-04-11T18:20:24.831Z"
   },
   {
    "duration": 182,
    "start_time": "2023-04-11T18:21:09.789Z"
   },
   {
    "duration": 217,
    "start_time": "2023-04-11T18:21:19.943Z"
   },
   {
    "duration": 240,
    "start_time": "2023-04-11T18:21:30.312Z"
   },
   {
    "duration": 285,
    "start_time": "2023-04-11T18:21:38.454Z"
   },
   {
    "duration": 8,
    "start_time": "2023-04-11T18:24:36.136Z"
   },
   {
    "duration": 8,
    "start_time": "2023-04-11T18:25:01.269Z"
   },
   {
    "duration": 211,
    "start_time": "2023-04-11T18:26:11.890Z"
   },
   {
    "duration": 216,
    "start_time": "2023-04-11T18:26:50.858Z"
   },
   {
    "duration": 256,
    "start_time": "2023-04-11T18:27:02.418Z"
   },
   {
    "duration": 6,
    "start_time": "2023-04-11T18:50:08.671Z"
   },
   {
    "duration": 10,
    "start_time": "2023-04-11T18:51:23.238Z"
   },
   {
    "duration": 6,
    "start_time": "2023-04-11T18:51:37.038Z"
   },
   {
    "duration": 1229,
    "start_time": "2023-04-11T18:51:37.751Z"
   },
   {
    "duration": 1218,
    "start_time": "2023-04-11T18:52:38.086Z"
   },
   {
    "duration": 1204,
    "start_time": "2023-04-11T18:53:04.470Z"
   },
   {
    "duration": 1204,
    "start_time": "2023-04-11T18:53:12.804Z"
   },
   {
    "duration": 1256,
    "start_time": "2023-04-11T18:53:21.892Z"
   },
   {
    "duration": 1231,
    "start_time": "2023-04-11T18:53:33.282Z"
   },
   {
    "duration": 1122,
    "start_time": "2023-04-11T18:53:39.865Z"
   },
   {
    "duration": 1219,
    "start_time": "2023-04-11T18:53:48.895Z"
   },
   {
    "duration": 1220,
    "start_time": "2023-04-11T18:53:57.361Z"
   },
   {
    "duration": 1268,
    "start_time": "2023-04-11T18:54:32.788Z"
   },
   {
    "duration": 9,
    "start_time": "2023-04-11T19:31:36.486Z"
   },
   {
    "duration": 12,
    "start_time": "2023-04-12T12:26:58.930Z"
   },
   {
    "duration": 3,
    "start_time": "2023-04-12T12:28:14.601Z"
   },
   {
    "duration": 47,
    "start_time": "2023-04-12T12:32:05.546Z"
   },
   {
    "duration": 1721,
    "start_time": "2023-04-12T12:32:13.928Z"
   },
   {
    "duration": 1801,
    "start_time": "2023-04-12T12:32:15.651Z"
   },
   {
    "duration": 67,
    "start_time": "2023-04-12T12:32:17.453Z"
   },
   {
    "duration": 50,
    "start_time": "2023-04-12T12:32:17.521Z"
   },
   {
    "duration": 659,
    "start_time": "2023-04-12T12:32:17.591Z"
   },
   {
    "duration": 113,
    "start_time": "2023-04-12T12:32:18.252Z"
   },
   {
    "duration": 142,
    "start_time": "2023-04-12T12:32:18.367Z"
   },
   {
    "duration": 24,
    "start_time": "2023-04-12T12:32:18.511Z"
   },
   {
    "duration": 5,
    "start_time": "2023-04-12T12:32:18.537Z"
   },
   {
    "duration": 15,
    "start_time": "2023-04-12T12:32:18.544Z"
   },
   {
    "duration": 33,
    "start_time": "2023-04-12T12:32:18.560Z"
   },
   {
    "duration": 1322,
    "start_time": "2023-04-12T12:32:18.595Z"
   },
   {
    "duration": 0,
    "start_time": "2023-04-12T12:32:19.920Z"
   },
   {
    "duration": 0,
    "start_time": "2023-04-12T12:32:19.922Z"
   },
   {
    "duration": 0,
    "start_time": "2023-04-12T12:32:19.923Z"
   },
   {
    "duration": 0,
    "start_time": "2023-04-12T12:32:19.925Z"
   },
   {
    "duration": 0,
    "start_time": "2023-04-12T12:32:19.926Z"
   },
   {
    "duration": 0,
    "start_time": "2023-04-12T12:32:19.928Z"
   },
   {
    "duration": 0,
    "start_time": "2023-04-12T12:32:19.929Z"
   },
   {
    "duration": 0,
    "start_time": "2023-04-12T12:32:19.930Z"
   },
   {
    "duration": 0,
    "start_time": "2023-04-12T12:32:19.931Z"
   },
   {
    "duration": 0,
    "start_time": "2023-04-12T12:32:19.932Z"
   },
   {
    "duration": 0,
    "start_time": "2023-04-12T12:32:19.933Z"
   },
   {
    "duration": 0,
    "start_time": "2023-04-12T12:32:19.934Z"
   },
   {
    "duration": 0,
    "start_time": "2023-04-12T12:32:19.936Z"
   },
   {
    "duration": 0,
    "start_time": "2023-04-12T12:32:19.937Z"
   },
   {
    "duration": 0,
    "start_time": "2023-04-12T12:32:19.938Z"
   },
   {
    "duration": 0,
    "start_time": "2023-04-12T12:32:19.939Z"
   },
   {
    "duration": 0,
    "start_time": "2023-04-12T12:32:19.941Z"
   },
   {
    "duration": 0,
    "start_time": "2023-04-12T12:32:19.942Z"
   },
   {
    "duration": 0,
    "start_time": "2023-04-12T12:32:19.944Z"
   },
   {
    "duration": 0,
    "start_time": "2023-04-12T12:32:19.945Z"
   },
   {
    "duration": 0,
    "start_time": "2023-04-12T12:32:19.946Z"
   },
   {
    "duration": 0,
    "start_time": "2023-04-12T12:32:19.948Z"
   },
   {
    "duration": 0,
    "start_time": "2023-04-12T12:32:19.949Z"
   },
   {
    "duration": 0,
    "start_time": "2023-04-12T12:32:19.950Z"
   },
   {
    "duration": 0,
    "start_time": "2023-04-12T12:32:19.951Z"
   },
   {
    "duration": 0,
    "start_time": "2023-04-12T12:32:19.952Z"
   },
   {
    "duration": 0,
    "start_time": "2023-04-12T12:32:19.953Z"
   },
   {
    "duration": 0,
    "start_time": "2023-04-12T12:32:19.954Z"
   },
   {
    "duration": 0,
    "start_time": "2023-04-12T12:32:19.955Z"
   },
   {
    "duration": 0,
    "start_time": "2023-04-12T12:32:19.957Z"
   },
   {
    "duration": 0,
    "start_time": "2023-04-12T12:32:19.990Z"
   },
   {
    "duration": 0,
    "start_time": "2023-04-12T12:32:19.991Z"
   },
   {
    "duration": 0,
    "start_time": "2023-04-12T12:32:19.993Z"
   },
   {
    "duration": 0,
    "start_time": "2023-04-12T12:32:19.994Z"
   },
   {
    "duration": 0,
    "start_time": "2023-04-12T12:32:19.995Z"
   },
   {
    "duration": 0,
    "start_time": "2023-04-12T12:32:19.996Z"
   },
   {
    "duration": 0,
    "start_time": "2023-04-12T12:32:19.997Z"
   },
   {
    "duration": 11,
    "start_time": "2023-04-12T12:34:21.444Z"
   },
   {
    "duration": 11,
    "start_time": "2023-04-12T12:34:33.509Z"
   },
   {
    "duration": 3,
    "start_time": "2023-04-12T12:34:44.916Z"
   },
   {
    "duration": 3,
    "start_time": "2023-04-12T12:34:45.412Z"
   },
   {
    "duration": 6,
    "start_time": "2023-04-12T12:34:45.877Z"
   },
   {
    "duration": 33,
    "start_time": "2023-04-12T12:34:46.283Z"
   },
   {
    "duration": 20,
    "start_time": "2023-04-12T12:37:25.450Z"
   },
   {
    "duration": 1511,
    "start_time": "2023-04-12T15:42:12.951Z"
   },
   {
    "duration": 2956,
    "start_time": "2023-04-12T15:42:14.464Z"
   },
   {
    "duration": 53,
    "start_time": "2023-04-12T15:42:17.421Z"
   },
   {
    "duration": 59,
    "start_time": "2023-04-12T15:42:17.476Z"
   },
   {
    "duration": 571,
    "start_time": "2023-04-12T15:42:17.537Z"
   },
   {
    "duration": 102,
    "start_time": "2023-04-12T15:42:18.110Z"
   },
   {
    "duration": 128,
    "start_time": "2023-04-12T15:42:18.214Z"
   },
   {
    "duration": 21,
    "start_time": "2023-04-12T15:42:18.344Z"
   },
   {
    "duration": 5,
    "start_time": "2023-04-12T15:42:18.367Z"
   },
   {
    "duration": 12,
    "start_time": "2023-04-12T15:42:18.375Z"
   },
   {
    "duration": 19,
    "start_time": "2023-04-12T15:42:18.388Z"
   },
   {
    "duration": 2318,
    "start_time": "2023-04-12T15:42:18.408Z"
   },
   {
    "duration": 0,
    "start_time": "2023-04-12T15:42:20.728Z"
   },
   {
    "duration": 0,
    "start_time": "2023-04-12T15:42:20.730Z"
   },
   {
    "duration": 0,
    "start_time": "2023-04-12T15:42:20.731Z"
   },
   {
    "duration": 0,
    "start_time": "2023-04-12T15:42:20.732Z"
   },
   {
    "duration": 0,
    "start_time": "2023-04-12T15:42:20.733Z"
   },
   {
    "duration": 0,
    "start_time": "2023-04-12T15:42:20.734Z"
   },
   {
    "duration": 0,
    "start_time": "2023-04-12T15:42:20.735Z"
   },
   {
    "duration": 0,
    "start_time": "2023-04-12T15:42:20.736Z"
   },
   {
    "duration": 0,
    "start_time": "2023-04-12T15:42:20.737Z"
   },
   {
    "duration": 0,
    "start_time": "2023-04-12T15:42:20.738Z"
   },
   {
    "duration": 0,
    "start_time": "2023-04-12T15:42:20.739Z"
   },
   {
    "duration": 0,
    "start_time": "2023-04-12T15:42:20.740Z"
   },
   {
    "duration": 0,
    "start_time": "2023-04-12T15:42:20.741Z"
   },
   {
    "duration": 0,
    "start_time": "2023-04-12T15:42:20.742Z"
   },
   {
    "duration": 0,
    "start_time": "2023-04-12T15:42:20.743Z"
   },
   {
    "duration": 0,
    "start_time": "2023-04-12T15:42:20.744Z"
   },
   {
    "duration": 0,
    "start_time": "2023-04-12T15:42:20.745Z"
   },
   {
    "duration": 0,
    "start_time": "2023-04-12T15:42:20.746Z"
   },
   {
    "duration": 0,
    "start_time": "2023-04-12T15:42:20.747Z"
   },
   {
    "duration": 0,
    "start_time": "2023-04-12T15:42:20.748Z"
   },
   {
    "duration": 0,
    "start_time": "2023-04-12T15:42:20.749Z"
   },
   {
    "duration": 0,
    "start_time": "2023-04-12T15:42:20.751Z"
   },
   {
    "duration": 0,
    "start_time": "2023-04-12T15:42:20.752Z"
   },
   {
    "duration": 0,
    "start_time": "2023-04-12T15:42:20.753Z"
   },
   {
    "duration": 0,
    "start_time": "2023-04-12T15:42:20.755Z"
   },
   {
    "duration": 0,
    "start_time": "2023-04-12T15:42:20.756Z"
   },
   {
    "duration": 0,
    "start_time": "2023-04-12T15:42:20.757Z"
   },
   {
    "duration": 0,
    "start_time": "2023-04-12T15:42:20.759Z"
   },
   {
    "duration": 0,
    "start_time": "2023-04-12T15:42:20.760Z"
   },
   {
    "duration": 0,
    "start_time": "2023-04-12T15:42:20.761Z"
   },
   {
    "duration": 0,
    "start_time": "2023-04-12T15:42:20.762Z"
   },
   {
    "duration": 0,
    "start_time": "2023-04-12T15:42:20.764Z"
   },
   {
    "duration": 0,
    "start_time": "2023-04-12T15:42:20.765Z"
   },
   {
    "duration": 0,
    "start_time": "2023-04-12T15:42:20.766Z"
   },
   {
    "duration": 0,
    "start_time": "2023-04-12T15:42:20.768Z"
   },
   {
    "duration": 0,
    "start_time": "2023-04-12T15:42:20.769Z"
   },
   {
    "duration": 0,
    "start_time": "2023-04-12T15:42:20.770Z"
   },
   {
    "duration": 0,
    "start_time": "2023-04-12T15:42:20.771Z"
   },
   {
    "duration": 3076,
    "start_time": "2023-04-12T15:43:43.920Z"
   },
   {
    "duration": 8,
    "start_time": "2023-04-12T15:43:52.793Z"
   },
   {
    "duration": 1333,
    "start_time": "2023-04-12T15:44:07.325Z"
   },
   {
    "duration": 702,
    "start_time": "2023-04-12T15:44:08.660Z"
   },
   {
    "duration": 53,
    "start_time": "2023-04-12T15:44:09.364Z"
   },
   {
    "duration": 55,
    "start_time": "2023-04-12T15:44:09.419Z"
   },
   {
    "duration": 595,
    "start_time": "2023-04-12T15:44:09.476Z"
   },
   {
    "duration": 105,
    "start_time": "2023-04-12T15:44:10.073Z"
   },
   {
    "duration": 118,
    "start_time": "2023-04-12T15:44:10.179Z"
   },
   {
    "duration": 20,
    "start_time": "2023-04-12T15:44:10.299Z"
   },
   {
    "duration": 17,
    "start_time": "2023-04-12T15:44:10.321Z"
   },
   {
    "duration": 13,
    "start_time": "2023-04-12T15:44:10.341Z"
   },
   {
    "duration": 10,
    "start_time": "2023-04-12T15:44:10.355Z"
   },
   {
    "duration": 11,
    "start_time": "2023-04-12T15:44:10.367Z"
   },
   {
    "duration": 11,
    "start_time": "2023-04-12T15:44:10.380Z"
   },
   {
    "duration": 34,
    "start_time": "2023-04-12T15:44:10.393Z"
   },
   {
    "duration": 25,
    "start_time": "2023-04-12T15:44:10.429Z"
   },
   {
    "duration": 5,
    "start_time": "2023-04-12T15:44:10.455Z"
   },
   {
    "duration": 16,
    "start_time": "2023-04-12T15:44:10.461Z"
   },
   {
    "duration": 12,
    "start_time": "2023-04-12T15:44:10.478Z"
   },
   {
    "duration": 8,
    "start_time": "2023-04-12T15:44:10.491Z"
   },
   {
    "duration": 13,
    "start_time": "2023-04-12T15:44:10.501Z"
   },
   {
    "duration": 8,
    "start_time": "2023-04-12T15:44:10.515Z"
   },
   {
    "duration": 16,
    "start_time": "2023-04-12T15:44:10.524Z"
   },
   {
    "duration": 19,
    "start_time": "2023-04-12T15:44:10.542Z"
   },
   {
    "duration": 9,
    "start_time": "2023-04-12T15:44:10.563Z"
   },
   {
    "duration": 6,
    "start_time": "2023-04-12T15:44:10.573Z"
   },
   {
    "duration": 11,
    "start_time": "2023-04-12T15:44:10.581Z"
   },
   {
    "duration": 13,
    "start_time": "2023-04-12T15:44:10.594Z"
   },
   {
    "duration": 34,
    "start_time": "2023-04-12T15:44:10.610Z"
   },
   {
    "duration": 6,
    "start_time": "2023-04-12T15:44:10.646Z"
   },
   {
    "duration": 13,
    "start_time": "2023-04-12T15:44:10.653Z"
   },
   {
    "duration": 6,
    "start_time": "2023-04-12T15:44:10.667Z"
   },
   {
    "duration": 11,
    "start_time": "2023-04-12T15:44:10.675Z"
   },
   {
    "duration": 5,
    "start_time": "2023-04-12T15:44:10.689Z"
   },
   {
    "duration": 7,
    "start_time": "2023-04-12T15:44:10.696Z"
   },
   {
    "duration": 397,
    "start_time": "2023-04-12T15:44:10.704Z"
   },
   {
    "duration": 352,
    "start_time": "2023-04-12T15:44:11.103Z"
   },
   {
    "duration": 266,
    "start_time": "2023-04-12T15:44:11.457Z"
   },
   {
    "duration": 270,
    "start_time": "2023-04-12T15:44:11.725Z"
   },
   {
    "duration": 10,
    "start_time": "2023-04-12T15:44:11.997Z"
   },
   {
    "duration": 29,
    "start_time": "2023-04-12T15:44:12.008Z"
   },
   {
    "duration": 8,
    "start_time": "2023-04-12T15:44:12.038Z"
   },
   {
    "duration": 10,
    "start_time": "2023-04-12T15:44:12.047Z"
   },
   {
    "duration": 204,
    "start_time": "2023-04-12T15:44:12.058Z"
   },
   {
    "duration": 223,
    "start_time": "2023-04-12T15:44:12.263Z"
   },
   {
    "duration": 8,
    "start_time": "2023-04-12T15:44:12.487Z"
   },
   {
    "duration": 1181,
    "start_time": "2023-04-12T15:44:12.496Z"
   },
   {
    "duration": 3,
    "start_time": "2023-04-12T15:44:13.679Z"
   },
   {
    "duration": 5,
    "start_time": "2023-04-12T15:44:13.684Z"
   },
   {
    "duration": 12,
    "start_time": "2023-04-12T15:44:13.691Z"
   },
   {
    "duration": 50,
    "start_time": "2023-04-12T15:44:13.704Z"
   },
   {
    "duration": 6,
    "start_time": "2023-04-12T15:49:24.891Z"
   },
   {
    "duration": 5,
    "start_time": "2023-04-12T15:51:02.128Z"
   },
   {
    "duration": 4,
    "start_time": "2023-04-12T16:01:52.908Z"
   },
   {
    "duration": 5,
    "start_time": "2023-04-12T16:02:22.777Z"
   },
   {
    "duration": 5,
    "start_time": "2023-04-12T16:02:32.576Z"
   },
   {
    "duration": 4,
    "start_time": "2023-04-12T16:02:38.121Z"
   },
   {
    "duration": 1569,
    "start_time": "2023-04-12T16:02:49.882Z"
   },
   {
    "duration": 748,
    "start_time": "2023-04-12T16:02:51.453Z"
   },
   {
    "duration": 81,
    "start_time": "2023-04-12T16:02:52.205Z"
   },
   {
    "duration": 61,
    "start_time": "2023-04-12T16:02:52.288Z"
   },
   {
    "duration": 673,
    "start_time": "2023-04-12T16:02:52.351Z"
   },
   {
    "duration": 110,
    "start_time": "2023-04-12T16:02:53.025Z"
   },
   {
    "duration": 120,
    "start_time": "2023-04-12T16:02:53.136Z"
   },
   {
    "duration": 23,
    "start_time": "2023-04-12T16:02:53.257Z"
   },
   {
    "duration": 7,
    "start_time": "2023-04-12T16:02:53.282Z"
   },
   {
    "duration": 13,
    "start_time": "2023-04-12T16:02:53.290Z"
   },
   {
    "duration": 1221,
    "start_time": "2023-04-12T16:02:53.305Z"
   },
   {
    "duration": 0,
    "start_time": "2023-04-12T16:02:54.531Z"
   },
   {
    "duration": 0,
    "start_time": "2023-04-12T16:02:54.534Z"
   },
   {
    "duration": 0,
    "start_time": "2023-04-12T16:02:54.535Z"
   },
   {
    "duration": 0,
    "start_time": "2023-04-12T16:02:54.536Z"
   },
   {
    "duration": 0,
    "start_time": "2023-04-12T16:02:54.538Z"
   },
   {
    "duration": 0,
    "start_time": "2023-04-12T16:02:54.539Z"
   },
   {
    "duration": 0,
    "start_time": "2023-04-12T16:02:54.540Z"
   },
   {
    "duration": 0,
    "start_time": "2023-04-12T16:02:54.541Z"
   },
   {
    "duration": 0,
    "start_time": "2023-04-12T16:02:54.543Z"
   },
   {
    "duration": 0,
    "start_time": "2023-04-12T16:02:54.544Z"
   },
   {
    "duration": 0,
    "start_time": "2023-04-12T16:02:54.545Z"
   },
   {
    "duration": 0,
    "start_time": "2023-04-12T16:02:54.546Z"
   },
   {
    "duration": 0,
    "start_time": "2023-04-12T16:02:54.547Z"
   },
   {
    "duration": 0,
    "start_time": "2023-04-12T16:02:54.548Z"
   },
   {
    "duration": 0,
    "start_time": "2023-04-12T16:02:54.549Z"
   },
   {
    "duration": 0,
    "start_time": "2023-04-12T16:02:54.550Z"
   },
   {
    "duration": 0,
    "start_time": "2023-04-12T16:02:54.551Z"
   },
   {
    "duration": 0,
    "start_time": "2023-04-12T16:02:54.552Z"
   },
   {
    "duration": 0,
    "start_time": "2023-04-12T16:02:54.554Z"
   },
   {
    "duration": 0,
    "start_time": "2023-04-12T16:02:54.555Z"
   },
   {
    "duration": 0,
    "start_time": "2023-04-12T16:02:54.557Z"
   },
   {
    "duration": 0,
    "start_time": "2023-04-12T16:02:54.558Z"
   },
   {
    "duration": 0,
    "start_time": "2023-04-12T16:02:54.559Z"
   },
   {
    "duration": 0,
    "start_time": "2023-04-12T16:02:54.561Z"
   },
   {
    "duration": 0,
    "start_time": "2023-04-12T16:02:54.562Z"
   },
   {
    "duration": 0,
    "start_time": "2023-04-12T16:02:54.563Z"
   },
   {
    "duration": 0,
    "start_time": "2023-04-12T16:02:54.564Z"
   },
   {
    "duration": 0,
    "start_time": "2023-04-12T16:02:54.565Z"
   },
   {
    "duration": 0,
    "start_time": "2023-04-12T16:02:54.567Z"
   },
   {
    "duration": 0,
    "start_time": "2023-04-12T16:02:54.568Z"
   },
   {
    "duration": 0,
    "start_time": "2023-04-12T16:02:54.569Z"
   },
   {
    "duration": 0,
    "start_time": "2023-04-12T16:02:54.570Z"
   },
   {
    "duration": 0,
    "start_time": "2023-04-12T16:02:54.571Z"
   },
   {
    "duration": 0,
    "start_time": "2023-04-12T16:02:54.571Z"
   },
   {
    "duration": 0,
    "start_time": "2023-04-12T16:02:54.573Z"
   },
   {
    "duration": 0,
    "start_time": "2023-04-12T16:02:54.574Z"
   },
   {
    "duration": 0,
    "start_time": "2023-04-12T16:02:54.634Z"
   },
   {
    "duration": 0,
    "start_time": "2023-04-12T16:02:54.635Z"
   },
   {
    "duration": 0,
    "start_time": "2023-04-12T16:02:54.636Z"
   },
   {
    "duration": 0,
    "start_time": "2023-04-12T16:02:54.638Z"
   },
   {
    "duration": 0,
    "start_time": "2023-04-12T16:02:54.639Z"
   },
   {
    "duration": 0,
    "start_time": "2023-04-12T16:02:54.640Z"
   },
   {
    "duration": 5,
    "start_time": "2023-04-12T16:03:19.472Z"
   },
   {
    "duration": 1493,
    "start_time": "2023-04-12T16:03:35.573Z"
   },
   {
    "duration": 692,
    "start_time": "2023-04-12T16:03:37.068Z"
   },
   {
    "duration": 52,
    "start_time": "2023-04-12T16:03:37.762Z"
   },
   {
    "duration": 52,
    "start_time": "2023-04-12T16:03:37.815Z"
   },
   {
    "duration": 566,
    "start_time": "2023-04-12T16:03:37.869Z"
   },
   {
    "duration": 106,
    "start_time": "2023-04-12T16:03:38.437Z"
   },
   {
    "duration": 118,
    "start_time": "2023-04-12T16:03:38.544Z"
   },
   {
    "duration": 21,
    "start_time": "2023-04-12T16:03:38.663Z"
   },
   {
    "duration": 5,
    "start_time": "2023-04-12T16:03:38.685Z"
   },
   {
    "duration": 11,
    "start_time": "2023-04-12T16:03:38.691Z"
   },
   {
    "duration": 6,
    "start_time": "2023-04-12T16:03:38.704Z"
   },
   {
    "duration": 23,
    "start_time": "2023-04-12T16:03:38.712Z"
   },
   {
    "duration": 5,
    "start_time": "2023-04-12T16:03:38.737Z"
   },
   {
    "duration": 16,
    "start_time": "2023-04-12T16:03:38.744Z"
   },
   {
    "duration": 18,
    "start_time": "2023-04-12T16:03:38.761Z"
   },
   {
    "duration": 6,
    "start_time": "2023-04-12T16:03:38.780Z"
   },
   {
    "duration": 11,
    "start_time": "2023-04-12T16:03:38.787Z"
   },
   {
    "duration": 4,
    "start_time": "2023-04-12T16:03:38.800Z"
   },
   {
    "duration": 9,
    "start_time": "2023-04-12T16:03:38.805Z"
   },
   {
    "duration": 6,
    "start_time": "2023-04-12T16:03:38.815Z"
   },
   {
    "duration": 3,
    "start_time": "2023-04-12T16:03:38.835Z"
   },
   {
    "duration": 25,
    "start_time": "2023-04-12T16:03:38.839Z"
   },
   {
    "duration": 17,
    "start_time": "2023-04-12T16:03:38.865Z"
   },
   {
    "duration": 8,
    "start_time": "2023-04-12T16:03:38.884Z"
   },
   {
    "duration": 6,
    "start_time": "2023-04-12T16:03:38.894Z"
   },
   {
    "duration": 16,
    "start_time": "2023-04-12T16:03:38.901Z"
   },
   {
    "duration": 16,
    "start_time": "2023-04-12T16:03:38.919Z"
   },
   {
    "duration": 13,
    "start_time": "2023-04-12T16:03:38.937Z"
   },
   {
    "duration": 12,
    "start_time": "2023-04-12T16:03:38.951Z"
   },
   {
    "duration": 11,
    "start_time": "2023-04-12T16:03:38.964Z"
   },
   {
    "duration": 17,
    "start_time": "2023-04-12T16:03:38.976Z"
   },
   {
    "duration": 9,
    "start_time": "2023-04-12T16:03:38.994Z"
   },
   {
    "duration": 7,
    "start_time": "2023-04-12T16:03:39.005Z"
   },
   {
    "duration": 7,
    "start_time": "2023-04-12T16:03:39.014Z"
   },
   {
    "duration": 361,
    "start_time": "2023-04-12T16:03:39.023Z"
   },
   {
    "duration": 343,
    "start_time": "2023-04-12T16:03:39.385Z"
   },
   {
    "duration": 266,
    "start_time": "2023-04-12T16:03:39.730Z"
   },
   {
    "duration": 259,
    "start_time": "2023-04-12T16:03:39.998Z"
   },
   {
    "duration": 10,
    "start_time": "2023-04-12T16:03:40.259Z"
   },
   {
    "duration": 7,
    "start_time": "2023-04-12T16:03:40.270Z"
   },
   {
    "duration": 6,
    "start_time": "2023-04-12T16:03:40.280Z"
   },
   {
    "duration": 7,
    "start_time": "2023-04-12T16:03:40.287Z"
   },
   {
    "duration": 243,
    "start_time": "2023-04-12T16:03:40.295Z"
   },
   {
    "duration": 221,
    "start_time": "2023-04-12T16:03:40.540Z"
   },
   {
    "duration": 8,
    "start_time": "2023-04-12T16:03:40.762Z"
   },
   {
    "duration": 1155,
    "start_time": "2023-04-12T16:03:40.771Z"
   },
   {
    "duration": 7,
    "start_time": "2023-04-12T16:03:41.928Z"
   },
   {
    "duration": 10,
    "start_time": "2023-04-12T16:03:41.937Z"
   },
   {
    "duration": 23,
    "start_time": "2023-04-12T16:03:41.948Z"
   },
   {
    "duration": 12,
    "start_time": "2023-04-12T16:03:41.972Z"
   },
   {
    "duration": 30,
    "start_time": "2023-04-12T16:03:41.985Z"
   },
   {
    "duration": 6,
    "start_time": "2023-04-12T16:16:12.840Z"
   },
   {
    "duration": 36,
    "start_time": "2023-04-12T16:24:28.631Z"
   },
   {
    "duration": 2,
    "start_time": "2023-04-12T16:39:19.081Z"
   },
   {
    "duration": 3,
    "start_time": "2023-04-12T16:39:19.913Z"
   },
   {
    "duration": 5,
    "start_time": "2023-04-12T16:39:21.864Z"
   },
   {
    "duration": 109,
    "start_time": "2023-04-12T16:39:40.719Z"
   },
   {
    "duration": 12,
    "start_time": "2023-04-12T16:39:55.639Z"
   },
   {
    "duration": 14,
    "start_time": "2023-04-12T16:40:18.280Z"
   },
   {
    "duration": 1459,
    "start_time": "2023-04-12T16:40:34.441Z"
   },
   {
    "duration": 724,
    "start_time": "2023-04-12T16:40:35.902Z"
   },
   {
    "duration": 67,
    "start_time": "2023-04-12T16:40:36.628Z"
   },
   {
    "duration": 80,
    "start_time": "2023-04-12T16:40:36.697Z"
   },
   {
    "duration": 608,
    "start_time": "2023-04-12T16:40:36.779Z"
   },
   {
    "duration": 105,
    "start_time": "2023-04-12T16:40:37.389Z"
   },
   {
    "duration": 122,
    "start_time": "2023-04-12T16:40:37.496Z"
   },
   {
    "duration": 32,
    "start_time": "2023-04-12T16:40:37.620Z"
   },
   {
    "duration": 10,
    "start_time": "2023-04-12T16:40:37.654Z"
   },
   {
    "duration": 24,
    "start_time": "2023-04-12T16:40:37.667Z"
   },
   {
    "duration": 22,
    "start_time": "2023-04-12T16:40:37.693Z"
   },
   {
    "duration": 30,
    "start_time": "2023-04-12T16:40:37.717Z"
   },
   {
    "duration": 43,
    "start_time": "2023-04-12T16:40:37.749Z"
   },
   {
    "duration": 35,
    "start_time": "2023-04-12T16:40:37.794Z"
   },
   {
    "duration": 18,
    "start_time": "2023-04-12T16:40:37.831Z"
   },
   {
    "duration": 40,
    "start_time": "2023-04-12T16:40:37.851Z"
   },
   {
    "duration": 60,
    "start_time": "2023-04-12T16:40:37.892Z"
   },
   {
    "duration": 28,
    "start_time": "2023-04-12T16:40:37.954Z"
   },
   {
    "duration": 20,
    "start_time": "2023-04-12T16:40:37.983Z"
   },
   {
    "duration": 33,
    "start_time": "2023-04-12T16:40:38.004Z"
   },
   {
    "duration": 39,
    "start_time": "2023-04-12T16:40:38.039Z"
   },
   {
    "duration": 47,
    "start_time": "2023-04-12T16:40:38.079Z"
   },
   {
    "duration": 17,
    "start_time": "2023-04-12T16:40:38.128Z"
   },
   {
    "duration": 33,
    "start_time": "2023-04-12T16:40:38.147Z"
   },
   {
    "duration": 24,
    "start_time": "2023-04-12T16:40:38.182Z"
   },
   {
    "duration": 14,
    "start_time": "2023-04-12T16:40:38.207Z"
   },
   {
    "duration": 30,
    "start_time": "2023-04-12T16:40:38.223Z"
   },
   {
    "duration": 25,
    "start_time": "2023-04-12T16:40:38.256Z"
   },
   {
    "duration": 19,
    "start_time": "2023-04-12T16:40:38.283Z"
   },
   {
    "duration": 36,
    "start_time": "2023-04-12T16:40:38.304Z"
   },
   {
    "duration": 31,
    "start_time": "2023-04-12T16:40:38.341Z"
   },
   {
    "duration": 17,
    "start_time": "2023-04-12T16:40:38.374Z"
   },
   {
    "duration": 20,
    "start_time": "2023-04-12T16:40:38.392Z"
   },
   {
    "duration": 30,
    "start_time": "2023-04-12T16:40:38.414Z"
   },
   {
    "duration": 393,
    "start_time": "2023-04-12T16:40:38.446Z"
   },
   {
    "duration": 340,
    "start_time": "2023-04-12T16:40:38.840Z"
   },
   {
    "duration": 285,
    "start_time": "2023-04-12T16:40:39.182Z"
   },
   {
    "duration": 291,
    "start_time": "2023-04-12T16:40:39.469Z"
   },
   {
    "duration": 10,
    "start_time": "2023-04-12T16:40:39.762Z"
   },
   {
    "duration": 25,
    "start_time": "2023-04-12T16:40:39.774Z"
   },
   {
    "duration": 24,
    "start_time": "2023-04-12T16:40:39.801Z"
   },
   {
    "duration": 8,
    "start_time": "2023-04-12T16:40:39.827Z"
   },
   {
    "duration": 217,
    "start_time": "2023-04-12T16:40:39.836Z"
   },
   {
    "duration": 220,
    "start_time": "2023-04-12T16:40:40.055Z"
   },
   {
    "duration": 8,
    "start_time": "2023-04-12T16:40:40.277Z"
   },
   {
    "duration": 1222,
    "start_time": "2023-04-12T16:40:40.287Z"
   },
   {
    "duration": 48,
    "start_time": "2023-04-12T16:40:41.510Z"
   },
   {
    "duration": 19,
    "start_time": "2023-04-12T16:40:41.559Z"
   },
   {
    "duration": 42,
    "start_time": "2023-04-12T16:40:41.579Z"
   },
   {
    "duration": 14,
    "start_time": "2023-04-12T16:40:41.623Z"
   },
   {
    "duration": 33,
    "start_time": "2023-04-12T16:40:41.639Z"
   },
   {
    "duration": 30,
    "start_time": "2023-04-12T16:40:41.673Z"
   },
   {
    "duration": 21,
    "start_time": "2023-04-12T16:40:41.705Z"
   },
   {
    "duration": 40,
    "start_time": "2023-04-12T16:40:41.727Z"
   },
   {
    "duration": 40,
    "start_time": "2023-04-12T16:40:41.768Z"
   },
   {
    "duration": 16,
    "start_time": "2023-04-12T16:41:10.542Z"
   },
   {
    "duration": 6,
    "start_time": "2023-04-12T16:41:31.693Z"
   },
   {
    "duration": 13,
    "start_time": "2023-04-12T16:41:45.552Z"
   },
   {
    "duration": 19,
    "start_time": "2023-04-12T17:22:36.573Z"
   },
   {
    "duration": 11,
    "start_time": "2023-04-12T17:22:51.248Z"
   },
   {
    "duration": 5,
    "start_time": "2023-04-12T17:23:44.263Z"
   },
   {
    "duration": 111,
    "start_time": "2023-04-12T17:31:37.254Z"
   },
   {
    "duration": 623,
    "start_time": "2023-04-12T17:32:10.820Z"
   },
   {
    "duration": 69,
    "start_time": "2023-04-12T18:18:01.975Z"
   },
   {
    "duration": 33,
    "start_time": "2023-04-12T18:18:49.612Z"
   },
   {
    "duration": 10,
    "start_time": "2023-04-12T18:23:02.151Z"
   },
   {
    "duration": 5,
    "start_time": "2023-04-12T18:23:09.400Z"
   },
   {
    "duration": 1394,
    "start_time": "2023-04-12T18:23:15.586Z"
   },
   {
    "duration": 691,
    "start_time": "2023-04-12T18:23:16.982Z"
   },
   {
    "duration": 71,
    "start_time": "2023-04-12T18:23:17.675Z"
   },
   {
    "duration": 46,
    "start_time": "2023-04-12T18:23:17.748Z"
   },
   {
    "duration": 589,
    "start_time": "2023-04-12T18:23:17.796Z"
   },
   {
    "duration": 101,
    "start_time": "2023-04-12T18:23:18.387Z"
   },
   {
    "duration": 121,
    "start_time": "2023-04-12T18:23:18.490Z"
   },
   {
    "duration": 34,
    "start_time": "2023-04-12T18:23:18.612Z"
   },
   {
    "duration": 6,
    "start_time": "2023-04-12T18:23:18.647Z"
   },
   {
    "duration": 35,
    "start_time": "2023-04-12T18:23:18.654Z"
   },
   {
    "duration": 28,
    "start_time": "2023-04-12T18:23:18.691Z"
   },
   {
    "duration": 21,
    "start_time": "2023-04-12T18:23:18.721Z"
   },
   {
    "duration": 30,
    "start_time": "2023-04-12T18:23:18.743Z"
   },
   {
    "duration": 25,
    "start_time": "2023-04-12T18:23:18.776Z"
   },
   {
    "duration": 32,
    "start_time": "2023-04-12T18:23:18.802Z"
   },
   {
    "duration": 25,
    "start_time": "2023-04-12T18:23:18.835Z"
   },
   {
    "duration": 15,
    "start_time": "2023-04-12T18:23:18.861Z"
   },
   {
    "duration": 5,
    "start_time": "2023-04-12T18:23:18.877Z"
   },
   {
    "duration": 10,
    "start_time": "2023-04-12T18:23:18.884Z"
   },
   {
    "duration": 6,
    "start_time": "2023-04-12T18:23:18.895Z"
   },
   {
    "duration": 5,
    "start_time": "2023-04-12T18:23:18.903Z"
   },
   {
    "duration": 15,
    "start_time": "2023-04-12T18:23:18.910Z"
   },
   {
    "duration": 14,
    "start_time": "2023-04-12T18:23:18.926Z"
   },
   {
    "duration": 13,
    "start_time": "2023-04-12T18:23:18.942Z"
   },
   {
    "duration": 6,
    "start_time": "2023-04-12T18:23:18.956Z"
   },
   {
    "duration": 26,
    "start_time": "2023-04-12T18:23:18.964Z"
   },
   {
    "duration": 13,
    "start_time": "2023-04-12T18:23:18.991Z"
   },
   {
    "duration": 20,
    "start_time": "2023-04-12T18:23:19.005Z"
   },
   {
    "duration": 6,
    "start_time": "2023-04-12T18:23:19.026Z"
   },
   {
    "duration": 8,
    "start_time": "2023-04-12T18:23:19.033Z"
   },
   {
    "duration": 9,
    "start_time": "2023-04-12T18:23:19.043Z"
   },
   {
    "duration": 11,
    "start_time": "2023-04-12T18:23:19.054Z"
   },
   {
    "duration": 7,
    "start_time": "2023-04-12T18:23:19.067Z"
   },
   {
    "duration": 8,
    "start_time": "2023-04-12T18:23:19.075Z"
   },
   {
    "duration": 370,
    "start_time": "2023-04-12T18:23:19.084Z"
   },
   {
    "duration": 337,
    "start_time": "2023-04-12T18:23:19.455Z"
   },
   {
    "duration": 274,
    "start_time": "2023-04-12T18:23:19.793Z"
   },
   {
    "duration": 273,
    "start_time": "2023-04-12T18:23:20.068Z"
   },
   {
    "duration": 10,
    "start_time": "2023-04-12T18:23:20.343Z"
   },
   {
    "duration": 10,
    "start_time": "2023-04-12T18:23:20.356Z"
   },
   {
    "duration": 15,
    "start_time": "2023-04-12T18:23:20.370Z"
   },
   {
    "duration": 8,
    "start_time": "2023-04-12T18:23:20.387Z"
   },
   {
    "duration": 229,
    "start_time": "2023-04-12T18:23:20.396Z"
   },
   {
    "duration": 213,
    "start_time": "2023-04-12T18:23:20.627Z"
   },
   {
    "duration": 6,
    "start_time": "2023-04-12T18:23:20.842Z"
   },
   {
    "duration": 1222,
    "start_time": "2023-04-12T18:23:20.850Z"
   },
   {
    "duration": 33,
    "start_time": "2023-04-12T18:23:22.074Z"
   },
   {
    "duration": 4,
    "start_time": "2023-04-12T18:23:22.108Z"
   },
   {
    "duration": 30,
    "start_time": "2023-04-12T18:23:22.113Z"
   },
   {
    "duration": 22,
    "start_time": "2023-04-12T18:23:22.145Z"
   },
   {
    "duration": 18,
    "start_time": "2023-04-12T18:23:22.168Z"
   },
   {
    "duration": 29,
    "start_time": "2023-04-12T18:23:22.188Z"
   },
   {
    "duration": 44,
    "start_time": "2023-04-12T18:23:22.219Z"
   },
   {
    "duration": 17,
    "start_time": "2023-04-12T18:23:22.264Z"
   },
   {
    "duration": 23,
    "start_time": "2023-04-12T18:23:22.282Z"
   },
   {
    "duration": 28,
    "start_time": "2023-04-12T18:23:22.307Z"
   },
   {
    "duration": 1105,
    "start_time": "2023-04-12T18:23:22.337Z"
   },
   {
    "duration": 1065,
    "start_time": "2023-04-12T18:23:58.071Z"
   },
   {
    "duration": 1334,
    "start_time": "2023-04-12T18:25:56.202Z"
   },
   {
    "duration": 1004,
    "start_time": "2023-04-12T18:26:07.939Z"
   },
   {
    "duration": 1269,
    "start_time": "2023-04-12T18:26:19.971Z"
   },
   {
    "duration": 11,
    "start_time": "2023-04-12T18:27:38.316Z"
   },
   {
    "duration": 8,
    "start_time": "2023-04-12T18:28:15.888Z"
   },
   {
    "duration": 1362,
    "start_time": "2023-04-12T18:28:21.611Z"
   },
   {
    "duration": 692,
    "start_time": "2023-04-12T18:28:22.975Z"
   },
   {
    "duration": 68,
    "start_time": "2023-04-12T18:28:23.668Z"
   },
   {
    "duration": 42,
    "start_time": "2023-04-12T18:28:23.738Z"
   },
   {
    "duration": 575,
    "start_time": "2023-04-12T18:28:23.781Z"
   },
   {
    "duration": 104,
    "start_time": "2023-04-12T18:28:24.357Z"
   },
   {
    "duration": 132,
    "start_time": "2023-04-12T18:28:24.463Z"
   },
   {
    "duration": 41,
    "start_time": "2023-04-12T18:28:24.597Z"
   },
   {
    "duration": 5,
    "start_time": "2023-04-12T18:28:24.640Z"
   },
   {
    "duration": 26,
    "start_time": "2023-04-12T18:28:24.648Z"
   },
   {
    "duration": 36,
    "start_time": "2023-04-12T18:28:24.675Z"
   },
   {
    "duration": 18,
    "start_time": "2023-04-12T18:28:24.713Z"
   },
   {
    "duration": 16,
    "start_time": "2023-04-12T18:28:24.732Z"
   },
   {
    "duration": 35,
    "start_time": "2023-04-12T18:28:24.749Z"
   },
   {
    "duration": 25,
    "start_time": "2023-04-12T18:28:24.786Z"
   },
   {
    "duration": 5,
    "start_time": "2023-04-12T18:28:24.812Z"
   },
   {
    "duration": 26,
    "start_time": "2023-04-12T18:28:24.818Z"
   },
   {
    "duration": 8,
    "start_time": "2023-04-12T18:28:24.845Z"
   },
   {
    "duration": 30,
    "start_time": "2023-04-12T18:28:24.855Z"
   },
   {
    "duration": 13,
    "start_time": "2023-04-12T18:28:24.887Z"
   },
   {
    "duration": 14,
    "start_time": "2023-04-12T18:28:24.901Z"
   },
   {
    "duration": 24,
    "start_time": "2023-04-12T18:28:24.916Z"
   },
   {
    "duration": 24,
    "start_time": "2023-04-12T18:28:24.941Z"
   },
   {
    "duration": 19,
    "start_time": "2023-04-12T18:28:24.966Z"
   },
   {
    "duration": 22,
    "start_time": "2023-04-12T18:28:24.986Z"
   },
   {
    "duration": 13,
    "start_time": "2023-04-12T18:28:25.010Z"
   },
   {
    "duration": 19,
    "start_time": "2023-04-12T18:28:25.024Z"
   },
   {
    "duration": 13,
    "start_time": "2023-04-12T18:28:25.046Z"
   },
   {
    "duration": 11,
    "start_time": "2023-04-12T18:28:25.060Z"
   },
   {
    "duration": 11,
    "start_time": "2023-04-12T18:28:25.072Z"
   },
   {
    "duration": 14,
    "start_time": "2023-04-12T18:28:25.085Z"
   },
   {
    "duration": 10,
    "start_time": "2023-04-12T18:28:25.100Z"
   },
   {
    "duration": 32,
    "start_time": "2023-04-12T18:28:25.112Z"
   },
   {
    "duration": 16,
    "start_time": "2023-04-12T18:28:25.145Z"
   },
   {
    "duration": 424,
    "start_time": "2023-04-12T18:28:25.163Z"
   },
   {
    "duration": 347,
    "start_time": "2023-04-12T18:28:25.589Z"
   },
   {
    "duration": 267,
    "start_time": "2023-04-12T18:28:25.938Z"
   },
   {
    "duration": 292,
    "start_time": "2023-04-12T18:28:26.207Z"
   },
   {
    "duration": 8,
    "start_time": "2023-04-12T18:28:26.501Z"
   },
   {
    "duration": 24,
    "start_time": "2023-04-12T18:28:26.511Z"
   },
   {
    "duration": 7,
    "start_time": "2023-04-12T18:28:26.536Z"
   },
   {
    "duration": 8,
    "start_time": "2023-04-12T18:28:26.544Z"
   },
   {
    "duration": 225,
    "start_time": "2023-04-12T18:28:26.554Z"
   },
   {
    "duration": 218,
    "start_time": "2023-04-12T18:28:26.780Z"
   },
   {
    "duration": 6,
    "start_time": "2023-04-12T18:28:27.000Z"
   },
   {
    "duration": 1187,
    "start_time": "2023-04-12T18:28:27.007Z"
   },
   {
    "duration": 39,
    "start_time": "2023-04-12T18:28:28.195Z"
   },
   {
    "duration": 3,
    "start_time": "2023-04-12T18:28:28.236Z"
   },
   {
    "duration": 20,
    "start_time": "2023-04-12T18:28:28.240Z"
   },
   {
    "duration": 15,
    "start_time": "2023-04-12T18:28:28.262Z"
   },
   {
    "duration": 17,
    "start_time": "2023-04-12T18:28:28.279Z"
   },
   {
    "duration": 13,
    "start_time": "2023-04-12T18:28:28.298Z"
   },
   {
    "duration": 27,
    "start_time": "2023-04-12T18:28:28.312Z"
   },
   {
    "duration": 26,
    "start_time": "2023-04-12T18:28:28.340Z"
   },
   {
    "duration": 11,
    "start_time": "2023-04-12T18:28:28.367Z"
   },
   {
    "duration": 45,
    "start_time": "2023-04-12T18:28:28.380Z"
   },
   {
    "duration": 25,
    "start_time": "2023-04-12T18:28:28.426Z"
   },
   {
    "duration": 1685,
    "start_time": "2023-04-12T18:28:28.452Z"
   },
   {
    "duration": 2,
    "start_time": "2023-04-12T18:28:39.207Z"
   },
   {
    "duration": 1463,
    "start_time": "2023-04-12T18:29:08.472Z"
   },
   {
    "duration": 1295,
    "start_time": "2023-04-12T18:29:44.743Z"
   },
   {
    "duration": 1070,
    "start_time": "2023-04-12T18:29:56.470Z"
   },
   {
    "duration": 3012,
    "start_time": "2023-04-12T18:39:06.726Z"
   },
   {
    "duration": 630,
    "start_time": "2023-04-12T18:45:39.139Z"
   },
   {
    "duration": 218,
    "start_time": "2023-04-12T18:46:33.497Z"
   },
   {
    "duration": 2453,
    "start_time": "2023-04-12T18:56:24.385Z"
   },
   {
    "duration": 17126,
    "start_time": "2023-04-12T18:58:04.639Z"
   },
   {
    "duration": 34788,
    "start_time": "2023-04-12T18:58:33.407Z"
   },
   {
    "duration": 2402773,
    "start_time": "2023-04-12T19:04:54.776Z"
   },
   {
    "duration": 268,
    "start_time": "2023-04-12T19:47:51.890Z"
   },
   {
    "duration": 9,
    "start_time": "2023-04-12T19:48:36.408Z"
   },
   {
    "duration": 5,
    "start_time": "2023-04-12T19:50:26.672Z"
   },
   {
    "duration": 11,
    "start_time": "2023-04-12T19:50:38.691Z"
   },
   {
    "duration": 568,
    "start_time": "2023-04-12T19:54:54.989Z"
   },
   {
    "duration": 17,
    "start_time": "2023-04-12T20:11:22.106Z"
   },
   {
    "duration": 29,
    "start_time": "2023-04-12T20:11:49.543Z"
   },
   {
    "duration": 9,
    "start_time": "2023-04-12T20:15:08.306Z"
   },
   {
    "duration": 13,
    "start_time": "2023-04-12T20:19:29.308Z"
   },
   {
    "duration": 2039,
    "start_time": "2023-04-13T04:29:21.402Z"
   },
   {
    "duration": 3149,
    "start_time": "2023-04-13T04:29:23.444Z"
   },
   {
    "duration": 85,
    "start_time": "2023-04-13T04:29:26.595Z"
   },
   {
    "duration": 73,
    "start_time": "2023-04-13T04:29:26.683Z"
   },
   {
    "duration": 618,
    "start_time": "2023-04-13T04:29:26.758Z"
   },
   {
    "duration": 117,
    "start_time": "2023-04-13T04:29:27.378Z"
   },
   {
    "duration": 126,
    "start_time": "2023-04-13T04:29:27.498Z"
   },
   {
    "duration": 31,
    "start_time": "2023-04-13T04:29:27.626Z"
   },
   {
    "duration": 5,
    "start_time": "2023-04-13T04:29:27.659Z"
   },
   {
    "duration": 15,
    "start_time": "2023-04-13T04:29:27.668Z"
   },
   {
    "duration": 9,
    "start_time": "2023-04-13T04:29:27.685Z"
   },
   {
    "duration": 5,
    "start_time": "2023-04-13T04:29:27.696Z"
   },
   {
    "duration": 11,
    "start_time": "2023-04-13T04:29:27.703Z"
   },
   {
    "duration": 33,
    "start_time": "2023-04-13T04:29:27.716Z"
   },
   {
    "duration": 22,
    "start_time": "2023-04-13T04:29:27.751Z"
   },
   {
    "duration": 37,
    "start_time": "2023-04-13T04:29:27.775Z"
   },
   {
    "duration": 22,
    "start_time": "2023-04-13T04:29:27.814Z"
   },
   {
    "duration": 7,
    "start_time": "2023-04-13T04:29:27.838Z"
   },
   {
    "duration": 7,
    "start_time": "2023-04-13T04:29:27.846Z"
   },
   {
    "duration": 19,
    "start_time": "2023-04-13T04:29:27.856Z"
   },
   {
    "duration": 7,
    "start_time": "2023-04-13T04:29:27.877Z"
   },
   {
    "duration": 22,
    "start_time": "2023-04-13T04:29:27.886Z"
   },
   {
    "duration": 17,
    "start_time": "2023-04-13T04:29:27.909Z"
   },
   {
    "duration": 13,
    "start_time": "2023-04-13T04:29:27.928Z"
   },
   {
    "duration": 8,
    "start_time": "2023-04-13T04:29:27.943Z"
   },
   {
    "duration": 18,
    "start_time": "2023-04-13T04:29:27.953Z"
   },
   {
    "duration": 21,
    "start_time": "2023-04-13T04:29:27.973Z"
   },
   {
    "duration": 10,
    "start_time": "2023-04-13T04:29:27.999Z"
   },
   {
    "duration": 24,
    "start_time": "2023-04-13T04:29:28.011Z"
   },
   {
    "duration": 20,
    "start_time": "2023-04-13T04:29:28.037Z"
   },
   {
    "duration": 7,
    "start_time": "2023-04-13T04:29:28.059Z"
   },
   {
    "duration": 21,
    "start_time": "2023-04-13T04:29:28.067Z"
   },
   {
    "duration": 8,
    "start_time": "2023-04-13T04:29:28.090Z"
   },
   {
    "duration": 19,
    "start_time": "2023-04-13T04:29:28.100Z"
   },
   {
    "duration": 393,
    "start_time": "2023-04-13T04:29:28.121Z"
   },
   {
    "duration": 385,
    "start_time": "2023-04-13T04:29:28.516Z"
   },
   {
    "duration": 290,
    "start_time": "2023-04-13T04:29:28.903Z"
   },
   {
    "duration": 296,
    "start_time": "2023-04-13T04:29:29.195Z"
   },
   {
    "duration": 10,
    "start_time": "2023-04-13T04:29:29.492Z"
   },
   {
    "duration": 8,
    "start_time": "2023-04-13T04:29:29.504Z"
   },
   {
    "duration": 29,
    "start_time": "2023-04-13T04:29:29.514Z"
   },
   {
    "duration": 10,
    "start_time": "2023-04-13T04:29:29.544Z"
   },
   {
    "duration": 226,
    "start_time": "2023-04-13T04:29:29.555Z"
   },
   {
    "duration": 237,
    "start_time": "2023-04-13T04:29:29.783Z"
   },
   {
    "duration": 21,
    "start_time": "2023-04-13T04:29:30.022Z"
   },
   {
    "duration": 1351,
    "start_time": "2023-04-13T04:29:30.044Z"
   },
   {
    "duration": 47,
    "start_time": "2023-04-13T04:29:31.397Z"
   },
   {
    "duration": 3,
    "start_time": "2023-04-13T04:29:31.445Z"
   },
   {
    "duration": 28,
    "start_time": "2023-04-13T04:29:31.450Z"
   },
   {
    "duration": 26,
    "start_time": "2023-04-13T04:29:31.479Z"
   },
   {
    "duration": 25,
    "start_time": "2023-04-13T04:29:31.507Z"
   },
   {
    "duration": 37,
    "start_time": "2023-04-13T04:29:31.534Z"
   },
   {
    "duration": 33,
    "start_time": "2023-04-13T04:29:31.572Z"
   },
   {
    "duration": 52,
    "start_time": "2023-04-13T04:29:31.607Z"
   },
   {
    "duration": 27,
    "start_time": "2023-04-13T04:29:31.661Z"
   },
   {
    "duration": 32,
    "start_time": "2023-04-13T04:29:31.690Z"
   },
   {
    "duration": 12,
    "start_time": "2023-04-13T04:29:31.724Z"
   },
   {
    "duration": 159,
    "start_time": "2023-04-13T04:29:31.737Z"
   },
   {
    "duration": 0,
    "start_time": "2023-04-13T04:29:31.897Z"
   },
   {
    "duration": 0,
    "start_time": "2023-04-13T04:29:31.899Z"
   },
   {
    "duration": 0,
    "start_time": "2023-04-13T04:29:31.900Z"
   },
   {
    "duration": 0,
    "start_time": "2023-04-13T04:29:31.901Z"
   },
   {
    "duration": 13,
    "start_time": "2023-04-13T04:37:44.997Z"
   },
   {
    "duration": 4,
    "start_time": "2023-04-13T04:38:41.621Z"
   },
   {
    "duration": 10,
    "start_time": "2023-04-13T04:38:55.293Z"
   },
   {
    "duration": 1553,
    "start_time": "2023-04-13T04:39:05.904Z"
   },
   {
    "duration": 709,
    "start_time": "2023-04-13T04:39:07.459Z"
   },
   {
    "duration": 76,
    "start_time": "2023-04-13T04:39:08.169Z"
   },
   {
    "duration": 49,
    "start_time": "2023-04-13T04:39:08.247Z"
   },
   {
    "duration": 639,
    "start_time": "2023-04-13T04:39:08.298Z"
   },
   {
    "duration": 120,
    "start_time": "2023-04-13T04:39:08.941Z"
   },
   {
    "duration": 131,
    "start_time": "2023-04-13T04:39:09.063Z"
   },
   {
    "duration": 45,
    "start_time": "2023-04-13T04:39:09.196Z"
   },
   {
    "duration": 13,
    "start_time": "2023-04-13T04:39:09.243Z"
   },
   {
    "duration": 57,
    "start_time": "2023-04-13T04:39:09.258Z"
   },
   {
    "duration": 28,
    "start_time": "2023-04-13T04:39:09.316Z"
   },
   {
    "duration": 28,
    "start_time": "2023-04-13T04:39:09.346Z"
   },
   {
    "duration": 23,
    "start_time": "2023-04-13T04:39:09.376Z"
   },
   {
    "duration": 25,
    "start_time": "2023-04-13T04:39:09.400Z"
   },
   {
    "duration": 37,
    "start_time": "2023-04-13T04:39:09.427Z"
   },
   {
    "duration": 5,
    "start_time": "2023-04-13T04:39:09.466Z"
   },
   {
    "duration": 11,
    "start_time": "2023-04-13T04:39:09.472Z"
   },
   {
    "duration": 39,
    "start_time": "2023-04-13T04:39:09.485Z"
   },
   {
    "duration": 19,
    "start_time": "2023-04-13T04:39:09.526Z"
   },
   {
    "duration": 37,
    "start_time": "2023-04-13T04:39:09.547Z"
   },
   {
    "duration": 62,
    "start_time": "2023-04-13T04:39:09.586Z"
   },
   {
    "duration": 53,
    "start_time": "2023-04-13T04:39:09.650Z"
   },
   {
    "duration": 40,
    "start_time": "2023-04-13T04:39:09.705Z"
   },
   {
    "duration": 10,
    "start_time": "2023-04-13T04:39:09.747Z"
   },
   {
    "duration": 9,
    "start_time": "2023-04-13T04:39:09.760Z"
   },
   {
    "duration": 15,
    "start_time": "2023-04-13T04:39:09.770Z"
   },
   {
    "duration": 12,
    "start_time": "2023-04-13T04:39:09.786Z"
   },
   {
    "duration": 42,
    "start_time": "2023-04-13T04:39:09.802Z"
   },
   {
    "duration": 17,
    "start_time": "2023-04-13T04:39:09.846Z"
   },
   {
    "duration": 23,
    "start_time": "2023-04-13T04:39:09.865Z"
   },
   {
    "duration": 30,
    "start_time": "2023-04-13T04:39:09.890Z"
   },
   {
    "duration": 16,
    "start_time": "2023-04-13T04:39:09.922Z"
   },
   {
    "duration": 12,
    "start_time": "2023-04-13T04:39:09.939Z"
   },
   {
    "duration": 7,
    "start_time": "2023-04-13T04:39:09.952Z"
   },
   {
    "duration": 426,
    "start_time": "2023-04-13T04:39:09.961Z"
   },
   {
    "duration": 396,
    "start_time": "2023-04-13T04:39:10.390Z"
   },
   {
    "duration": 308,
    "start_time": "2023-04-13T04:39:10.787Z"
   },
   {
    "duration": 314,
    "start_time": "2023-04-13T04:39:11.097Z"
   },
   {
    "duration": 10,
    "start_time": "2023-04-13T04:39:11.412Z"
   },
   {
    "duration": 23,
    "start_time": "2023-04-13T04:39:11.423Z"
   },
   {
    "duration": 8,
    "start_time": "2023-04-13T04:39:11.447Z"
   },
   {
    "duration": 16,
    "start_time": "2023-04-13T04:39:11.457Z"
   },
   {
    "duration": 238,
    "start_time": "2023-04-13T04:39:11.475Z"
   },
   {
    "duration": 245,
    "start_time": "2023-04-13T04:39:11.715Z"
   },
   {
    "duration": 9,
    "start_time": "2023-04-13T04:39:11.961Z"
   },
   {
    "duration": 1351,
    "start_time": "2023-04-13T04:39:11.971Z"
   },
   {
    "duration": 45,
    "start_time": "2023-04-13T04:39:13.324Z"
   },
   {
    "duration": 3,
    "start_time": "2023-04-13T04:39:13.371Z"
   },
   {
    "duration": 13,
    "start_time": "2023-04-13T04:39:13.376Z"
   },
   {
    "duration": 10,
    "start_time": "2023-04-13T04:39:13.391Z"
   },
   {
    "duration": 23,
    "start_time": "2023-04-13T04:39:13.403Z"
   },
   {
    "duration": 18,
    "start_time": "2023-04-13T04:39:13.428Z"
   },
   {
    "duration": 25,
    "start_time": "2023-04-13T04:39:13.448Z"
   },
   {
    "duration": 9,
    "start_time": "2023-04-13T04:39:13.475Z"
   },
   {
    "duration": 11,
    "start_time": "2023-04-13T04:39:13.486Z"
   },
   {
    "duration": 31,
    "start_time": "2023-04-13T04:39:13.499Z"
   },
   {
    "duration": 31,
    "start_time": "2023-04-13T04:39:13.531Z"
   },
   {
    "duration": 6,
    "start_time": "2023-04-13T04:39:13.564Z"
   },
   {
    "duration": 13,
    "start_time": "2023-04-13T04:39:13.572Z"
   },
   {
    "duration": 29,
    "start_time": "2023-04-13T04:39:13.586Z"
   },
   {
    "duration": 148,
    "start_time": "2023-04-13T04:39:13.617Z"
   },
   {
    "duration": 1,
    "start_time": "2023-04-13T04:39:13.766Z"
   },
   {
    "duration": 0,
    "start_time": "2023-04-13T04:39:13.768Z"
   },
   {
    "duration": 0,
    "start_time": "2023-04-13T04:39:13.769Z"
   },
   {
    "duration": 0,
    "start_time": "2023-04-13T04:39:13.770Z"
   },
   {
    "duration": 5,
    "start_time": "2023-04-13T04:41:09.808Z"
   },
   {
    "duration": 6,
    "start_time": "2023-04-13T04:42:24.545Z"
   },
   {
    "duration": 5,
    "start_time": "2023-04-13T04:42:52.553Z"
   },
   {
    "duration": 59,
    "start_time": "2023-04-13T04:46:40.450Z"
   },
   {
    "duration": 6,
    "start_time": "2023-04-13T04:48:27.895Z"
   },
   {
    "duration": 67,
    "start_time": "2023-04-13T04:48:48.933Z"
   },
   {
    "duration": 7,
    "start_time": "2023-04-13T04:53:24.170Z"
   },
   {
    "duration": 5,
    "start_time": "2023-04-13T04:53:34.299Z"
   },
   {
    "duration": 83,
    "start_time": "2023-04-13T04:54:19.876Z"
   },
   {
    "duration": 3,
    "start_time": "2023-04-13T05:02:52.955Z"
   },
   {
    "duration": 187,
    "start_time": "2023-04-13T05:03:29.411Z"
   },
   {
    "duration": 1467,
    "start_time": "2023-04-13T05:04:16.262Z"
   },
   {
    "duration": 735,
    "start_time": "2023-04-13T05:04:17.732Z"
   },
   {
    "duration": 75,
    "start_time": "2023-04-13T05:04:18.469Z"
   },
   {
    "duration": 67,
    "start_time": "2023-04-13T05:04:18.547Z"
   },
   {
    "duration": 675,
    "start_time": "2023-04-13T05:04:18.643Z"
   },
   {
    "duration": 117,
    "start_time": "2023-04-13T05:04:19.320Z"
   },
   {
    "duration": 132,
    "start_time": "2023-04-13T05:04:19.441Z"
   },
   {
    "duration": 24,
    "start_time": "2023-04-13T05:04:19.575Z"
   },
   {
    "duration": 5,
    "start_time": "2023-04-13T05:04:19.600Z"
   },
   {
    "duration": 39,
    "start_time": "2023-04-13T05:04:19.607Z"
   },
   {
    "duration": 8,
    "start_time": "2023-04-13T05:04:19.648Z"
   },
   {
    "duration": 4,
    "start_time": "2023-04-13T05:04:19.658Z"
   },
   {
    "duration": 5,
    "start_time": "2023-04-13T05:04:19.664Z"
   },
   {
    "duration": 10,
    "start_time": "2023-04-13T05:04:19.673Z"
   },
   {
    "duration": 13,
    "start_time": "2023-04-13T05:04:19.685Z"
   },
   {
    "duration": 3,
    "start_time": "2023-04-13T05:04:19.700Z"
   },
   {
    "duration": 39,
    "start_time": "2023-04-13T05:04:19.705Z"
   },
   {
    "duration": 4,
    "start_time": "2023-04-13T05:04:19.746Z"
   },
   {
    "duration": 7,
    "start_time": "2023-04-13T05:04:19.752Z"
   },
   {
    "duration": 10,
    "start_time": "2023-04-13T05:04:19.761Z"
   },
   {
    "duration": 8,
    "start_time": "2023-04-13T05:04:19.773Z"
   },
   {
    "duration": 17,
    "start_time": "2023-04-13T05:04:19.783Z"
   },
   {
    "duration": 40,
    "start_time": "2023-04-13T05:04:19.802Z"
   },
   {
    "duration": 11,
    "start_time": "2023-04-13T05:04:19.844Z"
   },
   {
    "duration": 7,
    "start_time": "2023-04-13T05:04:19.857Z"
   },
   {
    "duration": 17,
    "start_time": "2023-04-13T05:04:19.866Z"
   },
   {
    "duration": 11,
    "start_time": "2023-04-13T05:04:19.885Z"
   },
   {
    "duration": 49,
    "start_time": "2023-04-13T05:04:19.898Z"
   },
   {
    "duration": 6,
    "start_time": "2023-04-13T05:04:19.949Z"
   },
   {
    "duration": 12,
    "start_time": "2023-04-13T05:04:19.957Z"
   },
   {
    "duration": 7,
    "start_time": "2023-04-13T05:04:19.971Z"
   },
   {
    "duration": 8,
    "start_time": "2023-04-13T05:04:19.980Z"
   },
   {
    "duration": 12,
    "start_time": "2023-04-13T05:04:19.989Z"
   },
   {
    "duration": 43,
    "start_time": "2023-04-13T05:04:20.003Z"
   },
   {
    "duration": 490,
    "start_time": "2023-04-13T05:04:20.048Z"
   },
   {
    "duration": 413,
    "start_time": "2023-04-13T05:04:20.541Z"
   },
   {
    "duration": 348,
    "start_time": "2023-04-13T05:04:20.956Z"
   },
   {
    "duration": 313,
    "start_time": "2023-04-13T05:04:21.306Z"
   },
   {
    "duration": 21,
    "start_time": "2023-04-13T05:04:21.621Z"
   },
   {
    "duration": 19,
    "start_time": "2023-04-13T05:04:21.644Z"
   },
   {
    "duration": 29,
    "start_time": "2023-04-13T05:04:21.667Z"
   },
   {
    "duration": 11,
    "start_time": "2023-04-13T05:04:21.698Z"
   },
   {
    "duration": 248,
    "start_time": "2023-04-13T05:04:21.711Z"
   },
   {
    "duration": 272,
    "start_time": "2023-04-13T05:04:21.961Z"
   },
   {
    "duration": 13,
    "start_time": "2023-04-13T05:04:22.235Z"
   },
   {
    "duration": 1429,
    "start_time": "2023-04-13T05:04:22.251Z"
   },
   {
    "duration": 39,
    "start_time": "2023-04-13T05:04:23.682Z"
   },
   {
    "duration": 17,
    "start_time": "2023-04-13T05:04:23.723Z"
   },
   {
    "duration": 4,
    "start_time": "2023-04-13T05:04:23.743Z"
   },
   {
    "duration": 9,
    "start_time": "2023-04-13T05:04:23.749Z"
   },
   {
    "duration": 11,
    "start_time": "2023-04-13T05:04:23.760Z"
   },
   {
    "duration": 11,
    "start_time": "2023-04-13T05:04:23.773Z"
   },
   {
    "duration": 22,
    "start_time": "2023-04-13T05:04:23.786Z"
   },
   {
    "duration": 92,
    "start_time": "2023-04-13T05:04:23.810Z"
   },
   {
    "duration": 3,
    "start_time": "2023-04-13T05:04:23.904Z"
   },
   {
    "duration": 13,
    "start_time": "2023-04-13T05:04:23.909Z"
   },
   {
    "duration": 17,
    "start_time": "2023-04-13T05:04:23.924Z"
   },
   {
    "duration": 78,
    "start_time": "2023-04-13T05:04:23.944Z"
   },
   {
    "duration": 27,
    "start_time": "2023-04-13T05:04:24.024Z"
   },
   {
    "duration": 7,
    "start_time": "2023-04-13T05:04:24.053Z"
   },
   {
    "duration": 9,
    "start_time": "2023-04-13T05:04:24.062Z"
   },
   {
    "duration": 202,
    "start_time": "2023-04-13T05:04:24.072Z"
   },
   {
    "duration": 0,
    "start_time": "2023-04-13T05:04:24.276Z"
   },
   {
    "duration": 0,
    "start_time": "2023-04-13T05:04:24.277Z"
   },
   {
    "duration": 0,
    "start_time": "2023-04-13T05:04:24.279Z"
   },
   {
    "duration": 0,
    "start_time": "2023-04-13T05:04:24.280Z"
   },
   {
    "duration": 0,
    "start_time": "2023-04-13T05:04:24.281Z"
   },
   {
    "duration": 6,
    "start_time": "2023-04-13T05:05:35.318Z"
   },
   {
    "duration": 6,
    "start_time": "2023-04-13T05:05:35.957Z"
   },
   {
    "duration": 19,
    "start_time": "2023-04-13T05:05:36.877Z"
   },
   {
    "duration": 3841,
    "start_time": "2023-04-13T05:07:23.649Z"
   },
   {
    "duration": 4108,
    "start_time": "2023-04-13T05:07:49.658Z"
   },
   {
    "duration": 1235,
    "start_time": "2023-04-13T05:08:57.113Z"
   },
   {
    "duration": 22386,
    "start_time": "2023-04-13T05:10:23.283Z"
   },
   {
    "duration": 11,
    "start_time": "2023-04-13T05:13:33.462Z"
   },
   {
    "duration": 362,
    "start_time": "2023-04-13T05:26:29.179Z"
   },
   {
    "duration": 5,
    "start_time": "2023-04-13T05:28:51.036Z"
   },
   {
    "duration": 5,
    "start_time": "2023-04-13T05:28:51.805Z"
   },
   {
    "duration": 11,
    "start_time": "2023-04-13T05:28:52.444Z"
   },
   {
    "duration": 5,
    "start_time": "2023-04-13T05:29:12.158Z"
   },
   {
    "duration": 16,
    "start_time": "2023-04-13T05:35:06.140Z"
   },
   {
    "duration": 6,
    "start_time": "2023-04-13T05:35:27.875Z"
   },
   {
    "duration": 6,
    "start_time": "2023-04-13T05:37:31.742Z"
   },
   {
    "duration": 6,
    "start_time": "2023-04-13T05:37:32.389Z"
   },
   {
    "duration": 5,
    "start_time": "2023-04-13T05:37:32.845Z"
   },
   {
    "duration": 1525,
    "start_time": "2023-04-13T05:45:38.537Z"
   },
   {
    "duration": 738,
    "start_time": "2023-04-13T05:45:40.064Z"
   },
   {
    "duration": 73,
    "start_time": "2023-04-13T05:45:40.804Z"
   },
   {
    "duration": 73,
    "start_time": "2023-04-13T05:45:40.880Z"
   },
   {
    "duration": 625,
    "start_time": "2023-04-13T05:45:40.955Z"
   },
   {
    "duration": 121,
    "start_time": "2023-04-13T05:45:41.581Z"
   },
   {
    "duration": 140,
    "start_time": "2023-04-13T05:45:41.704Z"
   },
   {
    "duration": 23,
    "start_time": "2023-04-13T05:45:41.854Z"
   },
   {
    "duration": 7,
    "start_time": "2023-04-13T05:45:41.880Z"
   },
   {
    "duration": 9,
    "start_time": "2023-04-13T05:45:41.891Z"
   },
   {
    "duration": 8,
    "start_time": "2023-04-13T05:45:41.902Z"
   },
   {
    "duration": 2,
    "start_time": "2023-04-13T05:45:41.912Z"
   },
   {
    "duration": 29,
    "start_time": "2023-04-13T05:45:41.916Z"
   },
   {
    "duration": 28,
    "start_time": "2023-04-13T05:45:41.947Z"
   },
   {
    "duration": 13,
    "start_time": "2023-04-13T05:45:41.977Z"
   },
   {
    "duration": 9,
    "start_time": "2023-04-13T05:45:41.991Z"
   },
   {
    "duration": 12,
    "start_time": "2023-04-13T05:45:42.001Z"
   },
   {
    "duration": 6,
    "start_time": "2023-04-13T05:45:42.015Z"
   },
   {
    "duration": 12,
    "start_time": "2023-04-13T05:45:42.023Z"
   },
   {
    "duration": 19,
    "start_time": "2023-04-13T05:45:42.036Z"
   },
   {
    "duration": 9,
    "start_time": "2023-04-13T05:45:42.057Z"
   },
   {
    "duration": 20,
    "start_time": "2023-04-13T05:45:42.068Z"
   },
   {
    "duration": 16,
    "start_time": "2023-04-13T05:45:42.090Z"
   },
   {
    "duration": 9,
    "start_time": "2023-04-13T05:45:42.108Z"
   },
   {
    "duration": 6,
    "start_time": "2023-04-13T05:45:42.119Z"
   },
   {
    "duration": 29,
    "start_time": "2023-04-13T05:45:42.126Z"
   },
   {
    "duration": 14,
    "start_time": "2023-04-13T05:45:42.157Z"
   },
   {
    "duration": 12,
    "start_time": "2023-04-13T05:45:42.175Z"
   },
   {
    "duration": 12,
    "start_time": "2023-04-13T05:45:42.188Z"
   },
   {
    "duration": 9,
    "start_time": "2023-04-13T05:45:42.201Z"
   },
   {
    "duration": 17,
    "start_time": "2023-04-13T05:45:42.211Z"
   },
   {
    "duration": 9,
    "start_time": "2023-04-13T05:45:42.229Z"
   },
   {
    "duration": 24,
    "start_time": "2023-04-13T05:45:42.239Z"
   },
   {
    "duration": 10,
    "start_time": "2023-04-13T05:45:42.264Z"
   },
   {
    "duration": 415,
    "start_time": "2023-04-13T05:45:42.275Z"
   },
   {
    "duration": 410,
    "start_time": "2023-04-13T05:45:42.692Z"
   },
   {
    "duration": 306,
    "start_time": "2023-04-13T05:45:43.104Z"
   },
   {
    "duration": 317,
    "start_time": "2023-04-13T05:45:43.412Z"
   },
   {
    "duration": 26,
    "start_time": "2023-04-13T05:45:43.731Z"
   },
   {
    "duration": 23,
    "start_time": "2023-04-13T05:45:43.759Z"
   },
   {
    "duration": 11,
    "start_time": "2023-04-13T05:45:43.784Z"
   },
   {
    "duration": 17,
    "start_time": "2023-04-13T05:45:43.796Z"
   },
   {
    "duration": 250,
    "start_time": "2023-04-13T05:45:43.814Z"
   },
   {
    "duration": 248,
    "start_time": "2023-04-13T05:45:44.066Z"
   },
   {
    "duration": 8,
    "start_time": "2023-04-13T05:45:44.316Z"
   },
   {
    "duration": 1385,
    "start_time": "2023-04-13T05:45:44.325Z"
   },
   {
    "duration": 51,
    "start_time": "2023-04-13T05:45:45.712Z"
   },
   {
    "duration": 3,
    "start_time": "2023-04-13T05:45:45.765Z"
   },
   {
    "duration": 7,
    "start_time": "2023-04-13T05:45:45.770Z"
   },
   {
    "duration": 15,
    "start_time": "2023-04-13T05:45:45.779Z"
   },
   {
    "duration": 27,
    "start_time": "2023-04-13T05:45:45.797Z"
   },
   {
    "duration": 13,
    "start_time": "2023-04-13T05:45:45.826Z"
   },
   {
    "duration": 15,
    "start_time": "2023-04-13T05:45:45.850Z"
   },
   {
    "duration": 89,
    "start_time": "2023-04-13T05:45:45.867Z"
   },
   {
    "duration": 4,
    "start_time": "2023-04-13T05:45:45.958Z"
   },
   {
    "duration": 8,
    "start_time": "2023-04-13T05:45:45.964Z"
   },
   {
    "duration": 17,
    "start_time": "2023-04-13T05:45:45.974Z"
   },
   {
    "duration": 96,
    "start_time": "2023-04-13T05:45:45.993Z"
   },
   {
    "duration": 21,
    "start_time": "2023-04-13T05:45:46.091Z"
   },
   {
    "duration": 7,
    "start_time": "2023-04-13T05:45:46.114Z"
   },
   {
    "duration": 32,
    "start_time": "2023-04-13T05:45:46.123Z"
   },
   {
    "duration": 23,
    "start_time": "2023-04-13T05:45:46.158Z"
   },
   {
    "duration": 4115,
    "start_time": "2023-04-13T05:45:46.183Z"
   },
   {
    "duration": 1951,
    "start_time": "2023-04-13T05:45:50.300Z"
   },
   {
    "duration": 23609,
    "start_time": "2023-04-13T05:45:52.256Z"
   },
   {
    "duration": 23,
    "start_time": "2023-04-13T05:46:15.867Z"
   },
   {
    "duration": 1457,
    "start_time": "2023-04-13T05:46:15.892Z"
   },
   {
    "duration": 92,
    "start_time": "2023-04-13T05:46:17.352Z"
   },
   {
    "duration": 108,
    "start_time": "2023-04-13T05:46:17.446Z"
   },
   {
    "duration": 16,
    "start_time": "2023-04-13T05:46:17.557Z"
   },
   {
    "duration": 14,
    "start_time": "2023-04-13T05:46:17.575Z"
   },
   {
    "duration": 10,
    "start_time": "2023-04-13T05:46:17.591Z"
   },
   {
    "duration": 18,
    "start_time": "2023-04-13T05:46:17.603Z"
   },
   {
    "duration": 13,
    "start_time": "2023-04-13T05:46:17.623Z"
   },
   {
    "duration": 5,
    "start_time": "2023-04-13T05:57:00.238Z"
   },
   {
    "duration": 9,
    "start_time": "2023-04-13T05:57:01.252Z"
   },
   {
    "duration": 4,
    "start_time": "2023-04-13T05:57:10.232Z"
   },
   {
    "duration": 7,
    "start_time": "2023-04-13T05:57:24.063Z"
   },
   {
    "duration": 4,
    "start_time": "2023-04-13T05:57:31.093Z"
   },
   {
    "duration": 7,
    "start_time": "2023-04-13T05:57:38.069Z"
   },
   {
    "duration": 272,
    "start_time": "2023-04-13T05:57:52.304Z"
   },
   {
    "duration": 430,
    "start_time": "2023-04-13T05:58:02.467Z"
   },
   {
    "duration": 458,
    "start_time": "2023-04-13T05:58:30.862Z"
   },
   {
    "duration": 6,
    "start_time": "2023-04-13T06:02:36.373Z"
   },
   {
    "duration": 5,
    "start_time": "2023-04-13T06:02:43.679Z"
   },
   {
    "duration": 8,
    "start_time": "2023-04-13T06:02:51.258Z"
   },
   {
    "duration": 4,
    "start_time": "2023-04-13T06:02:59.108Z"
   },
   {
    "duration": 5,
    "start_time": "2023-04-13T06:03:05.869Z"
   },
   {
    "duration": 4,
    "start_time": "2023-04-13T06:03:12.712Z"
   },
   {
    "duration": 601,
    "start_time": "2023-04-13T06:03:28.072Z"
   },
   {
    "duration": 1536,
    "start_time": "2023-04-13T06:33:13.213Z"
   },
   {
    "duration": 804,
    "start_time": "2023-04-13T06:33:14.751Z"
   },
   {
    "duration": 66,
    "start_time": "2023-04-13T06:33:15.557Z"
   },
   {
    "duration": 68,
    "start_time": "2023-04-13T06:33:15.625Z"
   },
   {
    "duration": 788,
    "start_time": "2023-04-13T06:33:15.695Z"
   },
   {
    "duration": 114,
    "start_time": "2023-04-13T06:33:16.488Z"
   },
   {
    "duration": 154,
    "start_time": "2023-04-13T06:33:16.603Z"
   },
   {
    "duration": 30,
    "start_time": "2023-04-13T06:33:16.759Z"
   },
   {
    "duration": 5,
    "start_time": "2023-04-13T06:33:16.792Z"
   },
   {
    "duration": 11,
    "start_time": "2023-04-13T06:33:16.800Z"
   },
   {
    "duration": 48,
    "start_time": "2023-04-13T06:33:16.812Z"
   },
   {
    "duration": 21,
    "start_time": "2023-04-13T06:33:16.863Z"
   },
   {
    "duration": 11,
    "start_time": "2023-04-13T06:33:16.886Z"
   },
   {
    "duration": 3,
    "start_time": "2023-04-13T06:33:16.899Z"
   },
   {
    "duration": 11,
    "start_time": "2023-04-13T06:33:16.904Z"
   },
   {
    "duration": 7,
    "start_time": "2023-04-13T06:33:16.916Z"
   },
   {
    "duration": 10,
    "start_time": "2023-04-13T06:33:16.925Z"
   },
   {
    "duration": 21,
    "start_time": "2023-04-13T06:33:16.937Z"
   },
   {
    "duration": 30,
    "start_time": "2023-04-13T06:33:16.959Z"
   },
   {
    "duration": 16,
    "start_time": "2023-04-13T06:33:16.991Z"
   },
   {
    "duration": 16,
    "start_time": "2023-04-13T06:33:17.009Z"
   },
   {
    "duration": 10,
    "start_time": "2023-04-13T06:33:17.027Z"
   },
   {
    "duration": 8,
    "start_time": "2023-04-13T06:33:17.039Z"
   },
   {
    "duration": 15,
    "start_time": "2023-04-13T06:33:17.048Z"
   },
   {
    "duration": 38,
    "start_time": "2023-04-13T06:33:17.065Z"
   },
   {
    "duration": 18,
    "start_time": "2023-04-13T06:33:17.105Z"
   },
   {
    "duration": 11,
    "start_time": "2023-04-13T06:33:17.124Z"
   },
   {
    "duration": 53,
    "start_time": "2023-04-13T06:33:17.139Z"
   },
   {
    "duration": 21,
    "start_time": "2023-04-13T06:33:17.194Z"
   },
   {
    "duration": 16,
    "start_time": "2023-04-13T06:33:17.218Z"
   },
   {
    "duration": 69,
    "start_time": "2023-04-13T06:33:17.236Z"
   },
   {
    "duration": 32,
    "start_time": "2023-04-13T06:33:17.307Z"
   },
   {
    "duration": 547,
    "start_time": "2023-04-13T06:33:17.346Z"
   },
   {
    "duration": 9,
    "start_time": "2023-04-13T06:33:17.894Z"
   },
   {
    "duration": 22,
    "start_time": "2023-04-13T06:33:17.905Z"
   },
   {
    "duration": 17,
    "start_time": "2023-04-13T06:33:17.929Z"
   },
   {
    "duration": 41,
    "start_time": "2023-04-13T06:33:17.948Z"
   },
   {
    "duration": 343,
    "start_time": "2023-04-13T06:33:17.991Z"
   },
   {
    "duration": 273,
    "start_time": "2023-04-13T06:33:18.336Z"
   },
   {
    "duration": 8,
    "start_time": "2023-04-13T06:33:18.611Z"
   },
   {
    "duration": 1374,
    "start_time": "2023-04-13T06:33:18.620Z"
   },
   {
    "duration": 46,
    "start_time": "2023-04-13T06:33:19.996Z"
   },
   {
    "duration": 20,
    "start_time": "2023-04-13T06:33:20.053Z"
   },
   {
    "duration": 10,
    "start_time": "2023-04-13T06:33:20.077Z"
   },
   {
    "duration": 8,
    "start_time": "2023-04-13T06:33:20.089Z"
   },
   {
    "duration": 17,
    "start_time": "2023-04-13T06:33:20.098Z"
   },
   {
    "duration": 9,
    "start_time": "2023-04-13T06:33:20.117Z"
   },
   {
    "duration": 20,
    "start_time": "2023-04-13T06:33:20.128Z"
   },
   {
    "duration": 259,
    "start_time": "2023-04-13T06:33:20.149Z"
   },
   {
    "duration": 3,
    "start_time": "2023-04-13T06:33:20.409Z"
   },
   {
    "duration": 15,
    "start_time": "2023-04-13T06:33:20.413Z"
   },
   {
    "duration": 55,
    "start_time": "2023-04-13T06:33:20.430Z"
   },
   {
    "duration": 68,
    "start_time": "2023-04-13T06:33:20.488Z"
   },
   {
    "duration": 20,
    "start_time": "2023-04-13T06:33:20.559Z"
   },
   {
    "duration": 16,
    "start_time": "2023-04-13T06:33:20.582Z"
   },
   {
    "duration": 13,
    "start_time": "2023-04-13T06:33:20.600Z"
   },
   {
    "duration": 24,
    "start_time": "2023-04-13T06:33:20.615Z"
   },
   {
    "duration": 4223,
    "start_time": "2023-04-13T06:33:20.641Z"
   },
   {
    "duration": 3678,
    "start_time": "2023-04-13T06:33:24.867Z"
   },
   {
    "duration": 25219,
    "start_time": "2023-04-13T06:33:28.556Z"
   },
   {
    "duration": 14,
    "start_time": "2023-04-13T06:33:53.784Z"
   },
   {
    "duration": 1769,
    "start_time": "2023-04-13T06:33:53.800Z"
   },
   {
    "duration": 73,
    "start_time": "2023-04-13T06:33:55.576Z"
   },
   {
    "duration": 38,
    "start_time": "2023-04-13T06:33:55.651Z"
   },
   {
    "duration": 14,
    "start_time": "2023-04-13T06:33:55.691Z"
   },
   {
    "duration": 11,
    "start_time": "2023-04-13T06:33:55.708Z"
   },
   {
    "duration": 24,
    "start_time": "2023-04-13T06:33:55.721Z"
   },
   {
    "duration": 44,
    "start_time": "2023-04-13T06:33:55.747Z"
   },
   {
    "duration": 27,
    "start_time": "2023-04-13T06:33:55.793Z"
   },
   {
    "duration": 1603,
    "start_time": "2023-04-13T06:44:12.591Z"
   },
   {
    "duration": 780,
    "start_time": "2023-04-13T06:44:14.195Z"
   },
   {
    "duration": 94,
    "start_time": "2023-04-13T06:44:14.980Z"
   },
   {
    "duration": 57,
    "start_time": "2023-04-13T06:44:15.076Z"
   },
   {
    "duration": 702,
    "start_time": "2023-04-13T06:44:15.134Z"
   },
   {
    "duration": 140,
    "start_time": "2023-04-13T06:44:15.844Z"
   },
   {
    "duration": 157,
    "start_time": "2023-04-13T06:44:15.987Z"
   },
   {
    "duration": 39,
    "start_time": "2023-04-13T06:44:16.150Z"
   },
   {
    "duration": 109,
    "start_time": "2023-04-13T06:44:16.192Z"
   },
   {
    "duration": 77,
    "start_time": "2023-04-13T06:44:16.306Z"
   },
   {
    "duration": 35,
    "start_time": "2023-04-13T06:44:16.386Z"
   },
   {
    "duration": 26,
    "start_time": "2023-04-13T06:44:16.423Z"
   },
   {
    "duration": 56,
    "start_time": "2023-04-13T06:44:16.456Z"
   },
   {
    "duration": 83,
    "start_time": "2023-04-13T06:44:16.513Z"
   },
   {
    "duration": 30,
    "start_time": "2023-04-13T06:44:16.599Z"
   },
   {
    "duration": 14,
    "start_time": "2023-04-13T06:44:16.631Z"
   },
   {
    "duration": 63,
    "start_time": "2023-04-13T06:44:16.651Z"
   },
   {
    "duration": 19,
    "start_time": "2023-04-13T06:44:16.717Z"
   },
   {
    "duration": 54,
    "start_time": "2023-04-13T06:44:16.739Z"
   },
   {
    "duration": 32,
    "start_time": "2023-04-13T06:44:16.795Z"
   },
   {
    "duration": 22,
    "start_time": "2023-04-13T06:44:16.829Z"
   },
   {
    "duration": 53,
    "start_time": "2023-04-13T06:44:16.853Z"
   },
   {
    "duration": 8,
    "start_time": "2023-04-13T06:44:16.908Z"
   },
   {
    "duration": 13,
    "start_time": "2023-04-13T06:44:16.917Z"
   },
   {
    "duration": 51,
    "start_time": "2023-04-13T06:44:16.932Z"
   },
   {
    "duration": 21,
    "start_time": "2023-04-13T06:44:16.985Z"
   },
   {
    "duration": 77,
    "start_time": "2023-04-13T06:44:17.008Z"
   },
   {
    "duration": 23,
    "start_time": "2023-04-13T06:44:17.089Z"
   },
   {
    "duration": 12,
    "start_time": "2023-04-13T06:44:17.115Z"
   },
   {
    "duration": 59,
    "start_time": "2023-04-13T06:44:17.130Z"
   },
   {
    "duration": 35,
    "start_time": "2023-04-13T06:44:17.191Z"
   },
   {
    "duration": 81,
    "start_time": "2023-04-13T06:44:17.228Z"
   },
   {
    "duration": 498,
    "start_time": "2023-04-13T06:44:17.311Z"
   },
   {
    "duration": 9,
    "start_time": "2023-04-13T06:44:17.811Z"
   },
   {
    "duration": 66,
    "start_time": "2023-04-13T06:44:17.822Z"
   },
   {
    "duration": 26,
    "start_time": "2023-04-13T06:44:17.890Z"
   },
   {
    "duration": 19,
    "start_time": "2023-04-13T06:44:17.918Z"
   },
   {
    "duration": 418,
    "start_time": "2023-04-13T06:44:17.938Z"
   },
   {
    "duration": 285,
    "start_time": "2023-04-13T06:44:18.358Z"
   },
   {
    "duration": 13,
    "start_time": "2023-04-13T06:44:18.660Z"
   },
   {
    "duration": 1466,
    "start_time": "2023-04-13T06:44:18.680Z"
   },
   {
    "duration": 41,
    "start_time": "2023-04-13T06:44:20.148Z"
   },
   {
    "duration": 6,
    "start_time": "2023-04-13T06:44:20.195Z"
   },
   {
    "duration": 17,
    "start_time": "2023-04-13T06:44:20.202Z"
   },
   {
    "duration": 9,
    "start_time": "2023-04-13T06:44:20.220Z"
   },
   {
    "duration": 8,
    "start_time": "2023-04-13T06:44:20.231Z"
   },
   {
    "duration": 67,
    "start_time": "2023-04-13T06:44:20.241Z"
   },
   {
    "duration": 92,
    "start_time": "2023-04-13T06:44:20.310Z"
   },
   {
    "duration": 234,
    "start_time": "2023-04-13T06:44:20.404Z"
   },
   {
    "duration": 17,
    "start_time": "2023-04-13T06:44:20.640Z"
   },
   {
    "duration": 35,
    "start_time": "2023-04-13T06:44:20.662Z"
   },
   {
    "duration": 7,
    "start_time": "2023-04-13T06:44:20.700Z"
   },
   {
    "duration": 105,
    "start_time": "2023-04-13T06:44:20.708Z"
   },
   {
    "duration": 14,
    "start_time": "2023-04-13T06:44:20.814Z"
   },
   {
    "duration": 27,
    "start_time": "2023-04-13T06:44:20.830Z"
   },
   {
    "duration": 42,
    "start_time": "2023-04-13T06:44:20.865Z"
   },
   {
    "duration": 97,
    "start_time": "2023-04-13T06:44:20.909Z"
   },
   {
    "duration": 4383,
    "start_time": "2023-04-13T06:44:21.009Z"
   },
   {
    "duration": 4893,
    "start_time": "2023-04-13T06:44:25.394Z"
   },
   {
    "duration": 25137,
    "start_time": "2023-04-13T06:44:30.289Z"
   },
   {
    "duration": 19,
    "start_time": "2023-04-13T06:44:55.428Z"
   },
   {
    "duration": 1597,
    "start_time": "2023-04-13T06:44:55.449Z"
   },
   {
    "duration": 23,
    "start_time": "2023-04-13T06:44:57.051Z"
   },
   {
    "duration": 107,
    "start_time": "2023-04-13T06:44:57.081Z"
   },
   {
    "duration": 30,
    "start_time": "2023-04-13T06:44:57.190Z"
   },
   {
    "duration": 62,
    "start_time": "2023-04-13T06:44:57.222Z"
   },
   {
    "duration": 21,
    "start_time": "2023-04-13T06:44:57.286Z"
   },
   {
    "duration": 33,
    "start_time": "2023-04-13T06:44:57.309Z"
   },
   {
    "duration": 48,
    "start_time": "2023-04-13T06:44:57.346Z"
   },
   {
    "duration": 50,
    "start_time": "2023-04-13T13:49:09.266Z"
   },
   {
    "duration": 1721,
    "start_time": "2023-04-13T13:49:16.271Z"
   },
   {
    "duration": 2521,
    "start_time": "2023-04-13T13:49:17.994Z"
   },
   {
    "duration": 61,
    "start_time": "2023-04-13T13:49:20.517Z"
   },
   {
    "duration": 58,
    "start_time": "2023-04-13T13:49:20.580Z"
   },
   {
    "duration": 655,
    "start_time": "2023-04-13T13:49:20.640Z"
   },
   {
    "duration": 107,
    "start_time": "2023-04-13T13:49:21.296Z"
   },
   {
    "duration": 132,
    "start_time": "2023-04-13T13:49:21.404Z"
   },
   {
    "duration": 24,
    "start_time": "2023-04-13T13:49:21.538Z"
   },
   {
    "duration": 6,
    "start_time": "2023-04-13T13:49:21.564Z"
   },
   {
    "duration": 9,
    "start_time": "2023-04-13T13:49:21.592Z"
   },
   {
    "duration": 15,
    "start_time": "2023-04-13T13:49:21.603Z"
   },
   {
    "duration": 11,
    "start_time": "2023-04-13T13:49:21.620Z"
   },
   {
    "duration": 27,
    "start_time": "2023-04-13T13:49:21.633Z"
   },
   {
    "duration": 4,
    "start_time": "2023-04-13T13:49:21.662Z"
   },
   {
    "duration": 26,
    "start_time": "2023-04-13T13:49:21.667Z"
   },
   {
    "duration": 5,
    "start_time": "2023-04-13T13:49:21.695Z"
   },
   {
    "duration": 29,
    "start_time": "2023-04-13T13:49:21.701Z"
   },
   {
    "duration": 20,
    "start_time": "2023-04-13T13:49:21.732Z"
   },
   {
    "duration": 5,
    "start_time": "2023-04-13T13:49:21.756Z"
   },
   {
    "duration": 17,
    "start_time": "2023-04-13T13:49:21.762Z"
   },
   {
    "duration": 28,
    "start_time": "2023-04-13T13:49:21.781Z"
   },
   {
    "duration": 12,
    "start_time": "2023-04-13T13:49:21.811Z"
   },
   {
    "duration": 21,
    "start_time": "2023-04-13T13:49:21.825Z"
   },
   {
    "duration": 47,
    "start_time": "2023-04-13T13:49:21.848Z"
   },
   {
    "duration": 13,
    "start_time": "2023-04-13T13:49:21.897Z"
   },
   {
    "duration": 24,
    "start_time": "2023-04-13T13:49:21.912Z"
   },
   {
    "duration": 14,
    "start_time": "2023-04-13T13:49:21.938Z"
   },
   {
    "duration": 34,
    "start_time": "2023-04-13T13:49:21.958Z"
   },
   {
    "duration": 11,
    "start_time": "2023-04-13T13:49:21.994Z"
   },
   {
    "duration": 11,
    "start_time": "2023-04-13T13:49:22.008Z"
   },
   {
    "duration": 5,
    "start_time": "2023-04-13T13:49:22.022Z"
   },
   {
    "duration": 12,
    "start_time": "2023-04-13T13:49:22.029Z"
   },
   {
    "duration": 506,
    "start_time": "2023-04-13T13:49:22.043Z"
   },
   {
    "duration": 10,
    "start_time": "2023-04-13T13:49:22.551Z"
   },
   {
    "duration": 8,
    "start_time": "2023-04-13T13:49:22.562Z"
   },
   {
    "duration": 9,
    "start_time": "2023-04-13T13:49:22.572Z"
   },
   {
    "duration": 8,
    "start_time": "2023-04-13T13:49:22.583Z"
   },
   {
    "duration": 310,
    "start_time": "2023-04-13T13:49:22.593Z"
   },
   {
    "duration": 251,
    "start_time": "2023-04-13T13:49:22.905Z"
   },
   {
    "duration": 11,
    "start_time": "2023-04-13T13:49:23.158Z"
   },
   {
    "duration": 1263,
    "start_time": "2023-04-13T13:49:23.171Z"
   },
   {
    "duration": 37,
    "start_time": "2023-04-13T13:49:24.437Z"
   },
   {
    "duration": 3,
    "start_time": "2023-04-13T13:49:24.476Z"
   },
   {
    "duration": 6,
    "start_time": "2023-04-13T13:49:24.494Z"
   },
   {
    "duration": 4,
    "start_time": "2023-04-13T13:49:24.502Z"
   },
   {
    "duration": 4,
    "start_time": "2023-04-13T13:49:24.508Z"
   },
   {
    "duration": 4,
    "start_time": "2023-04-13T13:49:24.514Z"
   },
   {
    "duration": 6,
    "start_time": "2023-04-13T13:49:24.520Z"
   },
   {
    "duration": 226,
    "start_time": "2023-04-13T13:49:24.528Z"
   },
   {
    "duration": 4,
    "start_time": "2023-04-13T13:49:24.756Z"
   },
   {
    "duration": 7,
    "start_time": "2023-04-13T13:49:24.761Z"
   },
   {
    "duration": 24,
    "start_time": "2023-04-13T13:49:24.770Z"
   },
   {
    "duration": 54,
    "start_time": "2023-04-13T13:49:24.796Z"
   },
   {
    "duration": 14,
    "start_time": "2023-04-13T13:49:24.853Z"
   },
   {
    "duration": 28,
    "start_time": "2023-04-13T13:49:24.869Z"
   },
   {
    "duration": 6,
    "start_time": "2023-04-13T13:49:24.899Z"
   },
   {
    "duration": 19,
    "start_time": "2023-04-13T13:49:24.907Z"
   },
   {
    "duration": 4066,
    "start_time": "2023-04-13T13:49:24.928Z"
   },
   {
    "duration": 1399,
    "start_time": "2023-04-13T13:49:28.996Z"
   },
   {
    "duration": 23215,
    "start_time": "2023-04-13T13:49:30.398Z"
   },
   {
    "duration": 11,
    "start_time": "2023-04-13T13:49:53.614Z"
   },
   {
    "duration": 272,
    "start_time": "2023-04-13T13:49:53.627Z"
   },
   {
    "duration": 95,
    "start_time": "2023-04-13T13:49:53.901Z"
   },
   {
    "duration": 11,
    "start_time": "2023-04-13T13:49:53.998Z"
   },
   {
    "duration": 16,
    "start_time": "2023-04-13T13:49:54.010Z"
   },
   {
    "duration": 15,
    "start_time": "2023-04-13T13:49:54.028Z"
   },
   {
    "duration": 6,
    "start_time": "2023-04-13T13:49:54.044Z"
   },
   {
    "duration": 24,
    "start_time": "2023-04-13T13:49:54.052Z"
   },
   {
    "duration": 20,
    "start_time": "2023-04-13T13:49:54.078Z"
   },
   {
    "duration": 81,
    "start_time": "2023-04-13T13:53:39.959Z"
   },
   {
    "duration": 1522,
    "start_time": "2023-04-13T13:53:56.956Z"
   },
   {
    "duration": 658,
    "start_time": "2023-04-13T13:53:58.480Z"
   },
   {
    "duration": 69,
    "start_time": "2023-04-13T13:53:59.140Z"
   },
   {
    "duration": 50,
    "start_time": "2023-04-13T13:53:59.212Z"
   },
   {
    "duration": 645,
    "start_time": "2023-04-13T13:53:59.264Z"
   },
   {
    "duration": 110,
    "start_time": "2023-04-13T13:53:59.911Z"
   },
   {
    "duration": 130,
    "start_time": "2023-04-13T13:54:00.023Z"
   },
   {
    "duration": 49,
    "start_time": "2023-04-13T13:54:00.155Z"
   },
   {
    "duration": 5,
    "start_time": "2023-04-13T13:54:00.206Z"
   },
   {
    "duration": 61,
    "start_time": "2023-04-13T13:54:00.214Z"
   },
   {
    "duration": 41,
    "start_time": "2023-04-13T13:54:00.277Z"
   },
   {
    "duration": 40,
    "start_time": "2023-04-13T13:54:00.321Z"
   },
   {
    "duration": 17,
    "start_time": "2023-04-13T13:54:00.363Z"
   },
   {
    "duration": 30,
    "start_time": "2023-04-13T13:54:00.382Z"
   },
   {
    "duration": 24,
    "start_time": "2023-04-13T13:54:00.414Z"
   },
   {
    "duration": 28,
    "start_time": "2023-04-13T13:54:00.440Z"
   },
   {
    "duration": 33,
    "start_time": "2023-04-13T13:54:00.470Z"
   },
   {
    "duration": 35,
    "start_time": "2023-04-13T13:54:00.505Z"
   },
   {
    "duration": 20,
    "start_time": "2023-04-13T13:54:00.542Z"
   },
   {
    "duration": 50,
    "start_time": "2023-04-13T13:54:00.564Z"
   },
   {
    "duration": 30,
    "start_time": "2023-04-13T13:54:00.617Z"
   },
   {
    "duration": 14,
    "start_time": "2023-04-13T13:54:00.649Z"
   },
   {
    "duration": 37,
    "start_time": "2023-04-13T13:54:00.664Z"
   },
   {
    "duration": 28,
    "start_time": "2023-04-13T13:54:00.703Z"
   },
   {
    "duration": 28,
    "start_time": "2023-04-13T13:54:00.733Z"
   },
   {
    "duration": 31,
    "start_time": "2023-04-13T13:54:00.763Z"
   },
   {
    "duration": 29,
    "start_time": "2023-04-13T13:54:00.796Z"
   },
   {
    "duration": 19,
    "start_time": "2023-04-13T13:54:00.829Z"
   },
   {
    "duration": 53,
    "start_time": "2023-04-13T13:54:00.850Z"
   },
   {
    "duration": 75,
    "start_time": "2023-04-13T13:54:00.905Z"
   },
   {
    "duration": 0,
    "start_time": "2023-04-13T13:54:00.982Z"
   },
   {
    "duration": 0,
    "start_time": "2023-04-13T13:54:00.983Z"
   },
   {
    "duration": 0,
    "start_time": "2023-04-13T13:54:00.984Z"
   },
   {
    "duration": 0,
    "start_time": "2023-04-13T13:54:00.986Z"
   },
   {
    "duration": 0,
    "start_time": "2023-04-13T13:54:00.986Z"
   },
   {
    "duration": 0,
    "start_time": "2023-04-13T13:54:00.987Z"
   },
   {
    "duration": 0,
    "start_time": "2023-04-13T13:54:00.989Z"
   },
   {
    "duration": 0,
    "start_time": "2023-04-13T13:54:00.990Z"
   },
   {
    "duration": 0,
    "start_time": "2023-04-13T13:54:00.992Z"
   },
   {
    "duration": 0,
    "start_time": "2023-04-13T13:54:00.992Z"
   },
   {
    "duration": 0,
    "start_time": "2023-04-13T13:54:00.994Z"
   },
   {
    "duration": 0,
    "start_time": "2023-04-13T13:54:00.995Z"
   },
   {
    "duration": 0,
    "start_time": "2023-04-13T13:54:00.996Z"
   },
   {
    "duration": 0,
    "start_time": "2023-04-13T13:54:00.997Z"
   },
   {
    "duration": 0,
    "start_time": "2023-04-13T13:54:00.999Z"
   },
   {
    "duration": 0,
    "start_time": "2023-04-13T13:54:01.000Z"
   },
   {
    "duration": 0,
    "start_time": "2023-04-13T13:54:01.001Z"
   },
   {
    "duration": 0,
    "start_time": "2023-04-13T13:54:01.002Z"
   },
   {
    "duration": 0,
    "start_time": "2023-04-13T13:54:01.003Z"
   },
   {
    "duration": 0,
    "start_time": "2023-04-13T13:54:01.004Z"
   },
   {
    "duration": 0,
    "start_time": "2023-04-13T13:54:01.005Z"
   },
   {
    "duration": 0,
    "start_time": "2023-04-13T13:54:01.006Z"
   },
   {
    "duration": 0,
    "start_time": "2023-04-13T13:54:01.008Z"
   },
   {
    "duration": 0,
    "start_time": "2023-04-13T13:54:01.009Z"
   },
   {
    "duration": 0,
    "start_time": "2023-04-13T13:54:01.010Z"
   },
   {
    "duration": 0,
    "start_time": "2023-04-13T13:54:01.012Z"
   },
   {
    "duration": 0,
    "start_time": "2023-04-13T13:54:01.013Z"
   },
   {
    "duration": 0,
    "start_time": "2023-04-13T13:54:01.014Z"
   },
   {
    "duration": 0,
    "start_time": "2023-04-13T13:54:01.015Z"
   },
   {
    "duration": 0,
    "start_time": "2023-04-13T13:54:01.016Z"
   },
   {
    "duration": 0,
    "start_time": "2023-04-13T13:54:01.018Z"
   },
   {
    "duration": 0,
    "start_time": "2023-04-13T13:54:01.019Z"
   },
   {
    "duration": 0,
    "start_time": "2023-04-13T13:54:01.020Z"
   },
   {
    "duration": 0,
    "start_time": "2023-04-13T13:54:01.021Z"
   },
   {
    "duration": 0,
    "start_time": "2023-04-13T13:54:01.022Z"
   },
   {
    "duration": 0,
    "start_time": "2023-04-13T13:54:01.023Z"
   },
   {
    "duration": 1,
    "start_time": "2023-04-13T13:54:01.024Z"
   },
   {
    "duration": 0,
    "start_time": "2023-04-13T13:54:01.025Z"
   },
   {
    "duration": 0,
    "start_time": "2023-04-13T13:54:01.026Z"
   },
   {
    "duration": 3,
    "start_time": "2023-04-13T13:54:20.113Z"
   },
   {
    "duration": 4,
    "start_time": "2023-04-13T13:54:22.023Z"
   },
   {
    "duration": 4,
    "start_time": "2023-04-13T13:54:22.624Z"
   },
   {
    "duration": 1552,
    "start_time": "2023-04-13T13:54:29.487Z"
   },
   {
    "duration": 677,
    "start_time": "2023-04-13T13:54:31.041Z"
   },
   {
    "duration": 75,
    "start_time": "2023-04-13T13:54:31.720Z"
   },
   {
    "duration": 54,
    "start_time": "2023-04-13T13:54:31.797Z"
   },
   {
    "duration": 784,
    "start_time": "2023-04-13T13:54:31.854Z"
   },
   {
    "duration": 117,
    "start_time": "2023-04-13T13:54:32.640Z"
   },
   {
    "duration": 139,
    "start_time": "2023-04-13T13:54:32.758Z"
   },
   {
    "duration": 23,
    "start_time": "2023-04-13T13:54:32.899Z"
   },
   {
    "duration": 6,
    "start_time": "2023-04-13T13:54:32.924Z"
   },
   {
    "duration": 10,
    "start_time": "2023-04-13T13:54:32.931Z"
   },
   {
    "duration": 23,
    "start_time": "2023-04-13T13:54:32.943Z"
   },
   {
    "duration": 47,
    "start_time": "2023-04-13T13:54:32.968Z"
   },
   {
    "duration": 22,
    "start_time": "2023-04-13T13:54:33.017Z"
   },
   {
    "duration": 15,
    "start_time": "2023-04-13T13:54:33.042Z"
   },
   {
    "duration": 30,
    "start_time": "2023-04-13T13:54:33.059Z"
   },
   {
    "duration": 32,
    "start_time": "2023-04-13T13:54:33.091Z"
   },
   {
    "duration": 7,
    "start_time": "2023-04-13T13:54:33.125Z"
   },
   {
    "duration": 24,
    "start_time": "2023-04-13T13:54:33.134Z"
   },
   {
    "duration": 11,
    "start_time": "2023-04-13T13:54:33.159Z"
   },
   {
    "duration": 26,
    "start_time": "2023-04-13T13:54:33.172Z"
   },
   {
    "duration": 19,
    "start_time": "2023-04-13T13:54:33.201Z"
   },
   {
    "duration": 14,
    "start_time": "2023-04-13T13:54:33.223Z"
   },
   {
    "duration": 9,
    "start_time": "2023-04-13T13:54:33.239Z"
   },
   {
    "duration": 21,
    "start_time": "2023-04-13T13:54:33.249Z"
   },
   {
    "duration": 41,
    "start_time": "2023-04-13T13:54:33.272Z"
   },
   {
    "duration": 26,
    "start_time": "2023-04-13T13:54:33.315Z"
   },
   {
    "duration": 30,
    "start_time": "2023-04-13T13:54:33.343Z"
   },
   {
    "duration": 17,
    "start_time": "2023-04-13T13:54:33.375Z"
   },
   {
    "duration": 31,
    "start_time": "2023-04-13T13:54:33.395Z"
   },
   {
    "duration": 16,
    "start_time": "2023-04-13T13:54:33.428Z"
   },
   {
    "duration": 21,
    "start_time": "2023-04-13T13:54:33.446Z"
   },
   {
    "duration": 16,
    "start_time": "2023-04-13T13:54:33.470Z"
   },
   {
    "duration": 470,
    "start_time": "2023-04-13T13:54:33.488Z"
   },
   {
    "duration": 10,
    "start_time": "2023-04-13T13:54:33.959Z"
   },
   {
    "duration": 22,
    "start_time": "2023-04-13T13:54:33.971Z"
   },
   {
    "duration": 14,
    "start_time": "2023-04-13T13:54:33.995Z"
   },
   {
    "duration": 20,
    "start_time": "2023-04-13T13:54:34.011Z"
   },
   {
    "duration": 320,
    "start_time": "2023-04-13T13:54:34.033Z"
   },
   {
    "duration": 268,
    "start_time": "2023-04-13T13:54:34.355Z"
   },
   {
    "duration": 8,
    "start_time": "2023-04-13T13:54:34.625Z"
   },
   {
    "duration": 1330,
    "start_time": "2023-04-13T13:54:34.638Z"
   },
   {
    "duration": 53,
    "start_time": "2023-04-13T13:54:35.971Z"
   },
   {
    "duration": 4,
    "start_time": "2023-04-13T13:54:36.026Z"
   },
   {
    "duration": 93,
    "start_time": "2023-04-13T13:54:36.032Z"
   },
   {
    "duration": 19,
    "start_time": "2023-04-13T13:54:36.127Z"
   },
   {
    "duration": 24,
    "start_time": "2023-04-13T13:54:36.149Z"
   },
   {
    "duration": 78,
    "start_time": "2023-04-13T13:54:36.175Z"
   },
   {
    "duration": 14,
    "start_time": "2023-04-13T13:54:36.255Z"
   },
   {
    "duration": 198,
    "start_time": "2023-04-13T13:54:36.271Z"
   },
   {
    "duration": 3,
    "start_time": "2023-04-13T13:54:36.471Z"
   },
   {
    "duration": 21,
    "start_time": "2023-04-13T13:54:36.476Z"
   },
   {
    "duration": 25,
    "start_time": "2023-04-13T13:54:36.499Z"
   },
   {
    "duration": 74,
    "start_time": "2023-04-13T13:54:36.526Z"
   },
   {
    "duration": 13,
    "start_time": "2023-04-13T13:54:36.602Z"
   },
   {
    "duration": 6,
    "start_time": "2023-04-13T13:54:36.617Z"
   },
   {
    "duration": 24,
    "start_time": "2023-04-13T13:54:36.625Z"
   },
   {
    "duration": 27,
    "start_time": "2023-04-13T13:54:36.651Z"
   },
   {
    "duration": 4037,
    "start_time": "2023-04-13T13:54:36.680Z"
   },
   {
    "duration": 1277,
    "start_time": "2023-04-13T13:54:40.719Z"
   },
   {
    "duration": 23554,
    "start_time": "2023-04-13T13:54:41.997Z"
   },
   {
    "duration": 11,
    "start_time": "2023-04-13T13:55:05.553Z"
   },
   {
    "duration": 329,
    "start_time": "2023-04-13T13:55:05.566Z"
   },
   {
    "duration": 5,
    "start_time": "2023-04-13T13:55:05.897Z"
   },
   {
    "duration": 95,
    "start_time": "2023-04-13T13:55:05.904Z"
   },
   {
    "duration": 6,
    "start_time": "2023-04-13T13:55:06.001Z"
   },
   {
    "duration": 6,
    "start_time": "2023-04-13T13:55:06.008Z"
   },
   {
    "duration": 6,
    "start_time": "2023-04-13T13:55:06.015Z"
   },
   {
    "duration": 11,
    "start_time": "2023-04-13T13:55:06.022Z"
   },
   {
    "duration": 63,
    "start_time": "2023-04-13T13:55:06.035Z"
   },
   {
    "duration": 62,
    "start_time": "2023-04-14T04:34:09.839Z"
   },
   {
    "duration": 2174,
    "start_time": "2023-04-14T04:35:01.513Z"
   },
   {
    "duration": 2948,
    "start_time": "2023-04-14T04:35:03.689Z"
   },
   {
    "duration": 65,
    "start_time": "2023-04-14T04:35:06.639Z"
   },
   {
    "duration": 46,
    "start_time": "2023-04-14T04:35:06.706Z"
   },
   {
    "duration": 582,
    "start_time": "2023-04-14T04:35:06.754Z"
   },
   {
    "duration": 102,
    "start_time": "2023-04-14T04:35:07.337Z"
   },
   {
    "duration": 126,
    "start_time": "2023-04-14T04:35:07.441Z"
   },
   {
    "duration": 31,
    "start_time": "2023-04-14T04:35:07.569Z"
   },
   {
    "duration": 4,
    "start_time": "2023-04-14T04:35:07.602Z"
   },
   {
    "duration": 9,
    "start_time": "2023-04-14T04:35:07.609Z"
   },
   {
    "duration": 8,
    "start_time": "2023-04-14T04:35:07.620Z"
   },
   {
    "duration": 7,
    "start_time": "2023-04-14T04:35:07.630Z"
   },
   {
    "duration": 12,
    "start_time": "2023-04-14T04:35:07.639Z"
   },
   {
    "duration": 6,
    "start_time": "2023-04-14T04:35:07.652Z"
   },
   {
    "duration": 8,
    "start_time": "2023-04-14T04:35:07.684Z"
   },
   {
    "duration": 7,
    "start_time": "2023-04-14T04:35:07.693Z"
   },
   {
    "duration": 6,
    "start_time": "2023-04-14T04:35:07.702Z"
   },
   {
    "duration": 11,
    "start_time": "2023-04-14T04:35:07.710Z"
   },
   {
    "duration": 6,
    "start_time": "2023-04-14T04:35:07.723Z"
   },
   {
    "duration": 20,
    "start_time": "2023-04-14T04:35:07.730Z"
   },
   {
    "duration": 42,
    "start_time": "2023-04-14T04:35:07.751Z"
   },
   {
    "duration": 9,
    "start_time": "2023-04-14T04:35:07.795Z"
   },
   {
    "duration": 10,
    "start_time": "2023-04-14T04:35:07.805Z"
   },
   {
    "duration": 10,
    "start_time": "2023-04-14T04:35:07.816Z"
   },
   {
    "duration": 12,
    "start_time": "2023-04-14T04:35:07.828Z"
   },
   {
    "duration": 12,
    "start_time": "2023-04-14T04:35:07.841Z"
   },
   {
    "duration": 5,
    "start_time": "2023-04-14T04:35:07.854Z"
   },
   {
    "duration": 4,
    "start_time": "2023-04-14T04:35:07.886Z"
   },
   {
    "duration": 6,
    "start_time": "2023-04-14T04:35:07.891Z"
   },
   {
    "duration": 7,
    "start_time": "2023-04-14T04:35:07.899Z"
   },
   {
    "duration": 8,
    "start_time": "2023-04-14T04:35:07.908Z"
   },
   {
    "duration": 5,
    "start_time": "2023-04-14T04:35:07.918Z"
   },
   {
    "duration": 386,
    "start_time": "2023-04-14T04:35:07.924Z"
   },
   {
    "duration": 9,
    "start_time": "2023-04-14T04:35:08.312Z"
   },
   {
    "duration": 8,
    "start_time": "2023-04-14T04:35:08.322Z"
   },
   {
    "duration": 8,
    "start_time": "2023-04-14T04:35:08.331Z"
   },
   {
    "duration": 7,
    "start_time": "2023-04-14T04:35:08.341Z"
   },
   {
    "duration": 282,
    "start_time": "2023-04-14T04:35:08.384Z"
   },
   {
    "duration": 228,
    "start_time": "2023-04-14T04:35:08.668Z"
   },
   {
    "duration": 317,
    "start_time": "2023-04-14T04:35:08.898Z"
   },
   {
    "duration": 7,
    "start_time": "2023-04-14T04:35:09.216Z"
   },
   {
    "duration": 1281,
    "start_time": "2023-04-14T04:35:09.225Z"
   },
   {
    "duration": 36,
    "start_time": "2023-04-14T04:35:10.508Z"
   },
   {
    "duration": 7,
    "start_time": "2023-04-14T04:35:10.546Z"
   },
   {
    "duration": 30,
    "start_time": "2023-04-14T04:35:10.555Z"
   },
   {
    "duration": 9,
    "start_time": "2023-04-14T04:35:10.587Z"
   },
   {
    "duration": 14,
    "start_time": "2023-04-14T04:35:10.598Z"
   },
   {
    "duration": 19,
    "start_time": "2023-04-14T04:35:10.614Z"
   },
   {
    "duration": 12,
    "start_time": "2023-04-14T04:35:10.636Z"
   },
   {
    "duration": 60,
    "start_time": "2023-04-14T04:35:10.649Z"
   },
   {
    "duration": 3,
    "start_time": "2023-04-14T04:35:10.711Z"
   },
   {
    "duration": 12,
    "start_time": "2023-04-14T04:35:10.715Z"
   },
   {
    "duration": 15,
    "start_time": "2023-04-14T04:35:10.729Z"
   },
   {
    "duration": 75,
    "start_time": "2023-04-14T04:35:10.746Z"
   },
   {
    "duration": 14,
    "start_time": "2023-04-14T04:35:10.822Z"
   },
   {
    "duration": 9,
    "start_time": "2023-04-14T04:35:10.838Z"
   },
   {
    "duration": 30,
    "start_time": "2023-04-14T04:35:10.849Z"
   },
   {
    "duration": 32,
    "start_time": "2023-04-14T04:35:10.881Z"
   },
   {
    "duration": 3786,
    "start_time": "2023-04-14T04:35:10.915Z"
   },
   {
    "duration": 1385,
    "start_time": "2023-04-14T04:35:14.703Z"
   },
   {
    "duration": 21702,
    "start_time": "2023-04-14T04:35:16.091Z"
   },
   {
    "duration": 10,
    "start_time": "2023-04-14T04:35:37.794Z"
   },
   {
    "duration": 383,
    "start_time": "2023-04-14T04:35:37.805Z"
   },
   {
    "duration": 5,
    "start_time": "2023-04-14T04:35:38.191Z"
   },
   {
    "duration": 187,
    "start_time": "2023-04-14T04:35:38.198Z"
   },
   {
    "duration": 23,
    "start_time": "2023-04-14T04:35:38.387Z"
   },
   {
    "duration": 33,
    "start_time": "2023-04-14T04:35:38.411Z"
   },
   {
    "duration": 20,
    "start_time": "2023-04-14T04:35:38.446Z"
   },
   {
    "duration": 9,
    "start_time": "2023-04-14T04:35:38.468Z"
   },
   {
    "duration": 10,
    "start_time": "2023-04-14T04:35:38.478Z"
   },
   {
    "duration": 290,
    "start_time": "2023-04-14T04:38:05.216Z"
   },
   {
    "duration": 338,
    "start_time": "2023-04-14T04:38:09.870Z"
   },
   {
    "duration": 314,
    "start_time": "2023-04-14T04:38:14.607Z"
   },
   {
    "duration": 311,
    "start_time": "2023-04-14T04:38:26.910Z"
   },
   {
    "duration": 341,
    "start_time": "2023-04-14T04:38:34.776Z"
   },
   {
    "duration": 347,
    "start_time": "2023-04-14T04:38:45.456Z"
   },
   {
    "duration": 336,
    "start_time": "2023-04-14T04:39:17.239Z"
   },
   {
    "duration": 306,
    "start_time": "2023-04-14T04:39:25.400Z"
   },
   {
    "duration": 106,
    "start_time": "2023-04-14T04:48:25.409Z"
   },
   {
    "duration": 305,
    "start_time": "2023-04-14T04:48:59.434Z"
   },
   {
    "duration": 4,
    "start_time": "2023-04-14T04:51:56.222Z"
   },
   {
    "duration": 3,
    "start_time": "2023-04-14T04:52:35.452Z"
   },
   {
    "duration": 4,
    "start_time": "2023-04-14T04:52:36.908Z"
   },
   {
    "duration": 4,
    "start_time": "2023-04-14T04:52:37.404Z"
   },
   {
    "duration": 21,
    "start_time": "2023-04-14T04:52:38.157Z"
   },
   {
    "duration": 15,
    "start_time": "2023-04-14T04:59:56.020Z"
   },
   {
    "duration": 3,
    "start_time": "2023-04-14T05:00:09.500Z"
   },
   {
    "duration": 50,
    "start_time": "2023-04-14T05:00:25.861Z"
   },
   {
    "duration": 3,
    "start_time": "2023-04-14T05:00:47.875Z"
   },
   {
    "duration": 3,
    "start_time": "2023-04-14T05:00:48.827Z"
   },
   {
    "duration": 6,
    "start_time": "2023-04-14T05:00:52.283Z"
   },
   {
    "duration": 51,
    "start_time": "2023-04-14T05:00:54.948Z"
   },
   {
    "duration": 15,
    "start_time": "2023-04-14T05:01:10.533Z"
   },
   {
    "duration": 5,
    "start_time": "2023-04-14T05:01:15.980Z"
   },
   {
    "duration": 5,
    "start_time": "2023-04-14T05:01:18.852Z"
   },
   {
    "duration": 17,
    "start_time": "2023-04-14T05:01:20.196Z"
   },
   {
    "duration": 3759,
    "start_time": "2023-04-14T05:01:23.789Z"
   },
   {
    "duration": 1309,
    "start_time": "2023-04-14T05:01:31.076Z"
   },
   {
    "duration": 3,
    "start_time": "2023-04-14T05:04:36.152Z"
   },
   {
    "duration": 3,
    "start_time": "2023-04-14T05:04:37.290Z"
   },
   {
    "duration": 3,
    "start_time": "2023-04-14T05:04:37.647Z"
   },
   {
    "duration": 2,
    "start_time": "2023-04-14T05:04:38.056Z"
   },
   {
    "duration": 50,
    "start_time": "2023-04-14T05:04:38.633Z"
   },
   {
    "duration": 3,
    "start_time": "2023-04-14T05:04:41.623Z"
   },
   {
    "duration": 4,
    "start_time": "2023-04-14T05:04:42.071Z"
   },
   {
    "duration": 5,
    "start_time": "2023-04-14T05:04:42.678Z"
   },
   {
    "duration": 47,
    "start_time": "2023-04-14T05:04:44.127Z"
   },
   {
    "duration": 15,
    "start_time": "2023-04-14T05:04:45.186Z"
   },
   {
    "duration": 5,
    "start_time": "2023-04-14T05:04:48.256Z"
   },
   {
    "duration": 4,
    "start_time": "2023-04-14T05:04:48.671Z"
   },
   {
    "duration": 15,
    "start_time": "2023-04-14T05:04:49.527Z"
   },
   {
    "duration": 3866,
    "start_time": "2023-04-14T05:04:51.896Z"
   },
   {
    "duration": 1410,
    "start_time": "2023-04-14T05:05:00.680Z"
   },
   {
    "duration": 22102,
    "start_time": "2023-04-14T05:05:08.248Z"
   },
   {
    "duration": 4,
    "start_time": "2023-04-14T06:36:42.008Z"
   },
   {
    "duration": 4033,
    "start_time": "2023-04-14T06:36:53.426Z"
   },
   {
    "duration": 4,
    "start_time": "2023-04-14T06:37:21.511Z"
   },
   {
    "duration": 4,
    "start_time": "2023-04-14T06:37:53.384Z"
   },
   {
    "duration": 4401,
    "start_time": "2023-04-14T06:38:04.680Z"
   },
   {
    "duration": 5,
    "start_time": "2023-04-14T06:38:45.209Z"
   },
   {
    "duration": 3,
    "start_time": "2023-04-14T06:38:48.526Z"
   },
   {
    "duration": 4305,
    "start_time": "2023-04-14T06:38:55.728Z"
   },
   {
    "duration": 4,
    "start_time": "2023-04-14T06:39:20.534Z"
   },
   {
    "duration": 2,
    "start_time": "2023-04-14T06:39:24.537Z"
   },
   {
    "duration": 4274,
    "start_time": "2023-04-14T06:39:29.837Z"
   },
   {
    "duration": 2484,
    "start_time": "2023-04-14T07:39:49.604Z"
   },
   {
    "duration": 3433,
    "start_time": "2023-04-14T07:41:53.851Z"
   },
   {
    "duration": 2781,
    "start_time": "2023-04-14T08:04:35.105Z"
   },
   {
    "duration": 2585,
    "start_time": "2023-04-14T08:04:46.797Z"
   },
   {
    "duration": 15,
    "start_time": "2023-04-14T08:11:23.815Z"
   },
   {
    "duration": 1502,
    "start_time": "2023-04-14T08:12:28.977Z"
   },
   {
    "duration": 707,
    "start_time": "2023-04-14T08:12:30.481Z"
   },
   {
    "duration": 62,
    "start_time": "2023-04-14T08:12:31.190Z"
   },
   {
    "duration": 63,
    "start_time": "2023-04-14T08:12:31.254Z"
   },
   {
    "duration": 606,
    "start_time": "2023-04-14T08:12:31.319Z"
   },
   {
    "duration": 113,
    "start_time": "2023-04-14T08:12:31.926Z"
   },
   {
    "duration": 127,
    "start_time": "2023-04-14T08:12:32.041Z"
   },
   {
    "duration": 30,
    "start_time": "2023-04-14T08:12:32.169Z"
   },
   {
    "duration": 5,
    "start_time": "2023-04-14T08:12:32.200Z"
   },
   {
    "duration": 20,
    "start_time": "2023-04-14T08:12:32.207Z"
   },
   {
    "duration": 10,
    "start_time": "2023-04-14T08:12:32.228Z"
   },
   {
    "duration": 24,
    "start_time": "2023-04-14T08:12:32.239Z"
   },
   {
    "duration": 8,
    "start_time": "2023-04-14T08:12:32.265Z"
   },
   {
    "duration": 16,
    "start_time": "2023-04-14T08:12:32.274Z"
   },
   {
    "duration": 29,
    "start_time": "2023-04-14T08:12:32.292Z"
   },
   {
    "duration": 13,
    "start_time": "2023-04-14T08:12:32.323Z"
   },
   {
    "duration": 20,
    "start_time": "2023-04-14T08:12:32.337Z"
   },
   {
    "duration": 30,
    "start_time": "2023-04-14T08:12:32.359Z"
   },
   {
    "duration": 6,
    "start_time": "2023-04-14T08:12:32.391Z"
   },
   {
    "duration": 26,
    "start_time": "2023-04-14T08:12:32.399Z"
   },
   {
    "duration": 32,
    "start_time": "2023-04-14T08:12:32.426Z"
   },
   {
    "duration": 10,
    "start_time": "2023-04-14T08:12:32.460Z"
   },
   {
    "duration": 18,
    "start_time": "2023-04-14T08:12:32.472Z"
   },
   {
    "duration": 17,
    "start_time": "2023-04-14T08:12:32.491Z"
   },
   {
    "duration": 20,
    "start_time": "2023-04-14T08:12:32.511Z"
   },
   {
    "duration": 25,
    "start_time": "2023-04-14T08:12:32.533Z"
   },
   {
    "duration": 8,
    "start_time": "2023-04-14T08:12:32.560Z"
   },
   {
    "duration": 9,
    "start_time": "2023-04-14T08:12:32.571Z"
   },
   {
    "duration": 26,
    "start_time": "2023-04-14T08:12:32.582Z"
   },
   {
    "duration": 9,
    "start_time": "2023-04-14T08:12:32.610Z"
   },
   {
    "duration": 14,
    "start_time": "2023-04-14T08:12:32.621Z"
   },
   {
    "duration": 33,
    "start_time": "2023-04-14T08:12:32.636Z"
   },
   {
    "duration": 407,
    "start_time": "2023-04-14T08:12:32.670Z"
   },
   {
    "duration": 11,
    "start_time": "2023-04-14T08:12:33.078Z"
   },
   {
    "duration": 24,
    "start_time": "2023-04-14T08:12:33.091Z"
   },
   {
    "duration": 26,
    "start_time": "2023-04-14T08:12:33.117Z"
   },
   {
    "duration": 26,
    "start_time": "2023-04-14T08:12:33.145Z"
   },
   {
    "duration": 314,
    "start_time": "2023-04-14T08:12:33.173Z"
   },
   {
    "duration": 241,
    "start_time": "2023-04-14T08:12:33.489Z"
   },
   {
    "duration": 322,
    "start_time": "2023-04-14T08:12:33.733Z"
   },
   {
    "duration": 0,
    "start_time": "2023-04-14T08:12:34.057Z"
   },
   {
    "duration": 0,
    "start_time": "2023-04-14T08:12:34.059Z"
   },
   {
    "duration": 0,
    "start_time": "2023-04-14T08:12:34.060Z"
   },
   {
    "duration": 0,
    "start_time": "2023-04-14T08:12:34.062Z"
   },
   {
    "duration": 0,
    "start_time": "2023-04-14T08:12:34.063Z"
   },
   {
    "duration": 0,
    "start_time": "2023-04-14T08:12:34.083Z"
   },
   {
    "duration": 0,
    "start_time": "2023-04-14T08:12:34.084Z"
   },
   {
    "duration": 0,
    "start_time": "2023-04-14T08:12:34.085Z"
   },
   {
    "duration": 0,
    "start_time": "2023-04-14T08:12:34.086Z"
   },
   {
    "duration": 0,
    "start_time": "2023-04-14T08:12:34.087Z"
   },
   {
    "duration": 0,
    "start_time": "2023-04-14T08:12:34.087Z"
   },
   {
    "duration": 0,
    "start_time": "2023-04-14T08:12:34.088Z"
   },
   {
    "duration": 0,
    "start_time": "2023-04-14T08:12:34.089Z"
   },
   {
    "duration": 0,
    "start_time": "2023-04-14T08:12:34.091Z"
   },
   {
    "duration": 0,
    "start_time": "2023-04-14T08:12:34.091Z"
   },
   {
    "duration": 0,
    "start_time": "2023-04-14T08:12:34.092Z"
   },
   {
    "duration": 0,
    "start_time": "2023-04-14T08:12:34.094Z"
   },
   {
    "duration": 0,
    "start_time": "2023-04-14T08:12:34.095Z"
   },
   {
    "duration": 0,
    "start_time": "2023-04-14T08:12:34.095Z"
   },
   {
    "duration": 0,
    "start_time": "2023-04-14T08:12:34.096Z"
   },
   {
    "duration": 0,
    "start_time": "2023-04-14T08:12:34.097Z"
   },
   {
    "duration": 0,
    "start_time": "2023-04-14T08:12:34.098Z"
   },
   {
    "duration": 0,
    "start_time": "2023-04-14T08:12:34.099Z"
   },
   {
    "duration": 0,
    "start_time": "2023-04-14T08:12:34.100Z"
   },
   {
    "duration": 0,
    "start_time": "2023-04-14T08:12:34.101Z"
   },
   {
    "duration": 0,
    "start_time": "2023-04-14T08:12:34.102Z"
   },
   {
    "duration": 0,
    "start_time": "2023-04-14T08:12:34.103Z"
   },
   {
    "duration": 0,
    "start_time": "2023-04-14T08:12:34.104Z"
   },
   {
    "duration": 0,
    "start_time": "2023-04-14T08:12:34.105Z"
   },
   {
    "duration": 0,
    "start_time": "2023-04-14T08:12:34.107Z"
   },
   {
    "duration": 0,
    "start_time": "2023-04-14T08:12:34.108Z"
   },
   {
    "duration": 0,
    "start_time": "2023-04-14T08:12:34.109Z"
   },
   {
    "duration": 0,
    "start_time": "2023-04-14T08:12:34.109Z"
   },
   {
    "duration": 0,
    "start_time": "2023-04-14T08:12:34.110Z"
   },
   {
    "duration": 3,
    "start_time": "2023-04-14T08:13:47.279Z"
   },
   {
    "duration": 1402,
    "start_time": "2023-04-14T08:13:58.986Z"
   },
   {
    "duration": 708,
    "start_time": "2023-04-14T08:14:00.389Z"
   },
   {
    "duration": 68,
    "start_time": "2023-04-14T08:14:01.099Z"
   },
   {
    "duration": 58,
    "start_time": "2023-04-14T08:14:01.169Z"
   },
   {
    "duration": 646,
    "start_time": "2023-04-14T08:14:01.229Z"
   },
   {
    "duration": 110,
    "start_time": "2023-04-14T08:14:01.877Z"
   },
   {
    "duration": 216,
    "start_time": "2023-04-14T08:14:01.989Z"
   },
   {
    "duration": 67,
    "start_time": "2023-04-14T08:14:02.206Z"
   },
   {
    "duration": 115,
    "start_time": "2023-04-14T08:14:02.275Z"
   },
   {
    "duration": 37,
    "start_time": "2023-04-14T08:14:02.392Z"
   },
   {
    "duration": 66,
    "start_time": "2023-04-14T08:14:02.430Z"
   },
   {
    "duration": 25,
    "start_time": "2023-04-14T08:14:02.497Z"
   },
   {
    "duration": 49,
    "start_time": "2023-04-14T08:14:02.524Z"
   },
   {
    "duration": 3,
    "start_time": "2023-04-14T08:14:02.577Z"
   },
   {
    "duration": 12,
    "start_time": "2023-04-14T08:14:02.582Z"
   },
   {
    "duration": 14,
    "start_time": "2023-04-14T08:14:02.596Z"
   },
   {
    "duration": 11,
    "start_time": "2023-04-14T08:14:02.612Z"
   },
   {
    "duration": 13,
    "start_time": "2023-04-14T08:14:02.625Z"
   },
   {
    "duration": 14,
    "start_time": "2023-04-14T08:14:02.640Z"
   },
   {
    "duration": 18,
    "start_time": "2023-04-14T08:14:02.656Z"
   },
   {
    "duration": 23,
    "start_time": "2023-04-14T08:14:02.676Z"
   },
   {
    "duration": 32,
    "start_time": "2023-04-14T08:14:02.701Z"
   },
   {
    "duration": 14,
    "start_time": "2023-04-14T08:14:02.735Z"
   },
   {
    "duration": 17,
    "start_time": "2023-04-14T08:14:02.751Z"
   },
   {
    "duration": 13,
    "start_time": "2023-04-14T08:14:02.770Z"
   },
   {
    "duration": 17,
    "start_time": "2023-04-14T08:14:02.785Z"
   },
   {
    "duration": 11,
    "start_time": "2023-04-14T08:14:02.804Z"
   },
   {
    "duration": 28,
    "start_time": "2023-04-14T08:14:02.817Z"
   },
   {
    "duration": 11,
    "start_time": "2023-04-14T08:14:02.847Z"
   },
   {
    "duration": 36,
    "start_time": "2023-04-14T08:14:02.859Z"
   },
   {
    "duration": 18,
    "start_time": "2023-04-14T08:14:02.897Z"
   },
   {
    "duration": 12,
    "start_time": "2023-04-14T08:14:02.916Z"
   },
   {
    "duration": 402,
    "start_time": "2023-04-14T08:14:02.929Z"
   },
   {
    "duration": 10,
    "start_time": "2023-04-14T08:14:03.333Z"
   },
   {
    "duration": 35,
    "start_time": "2023-04-14T08:14:03.344Z"
   },
   {
    "duration": 26,
    "start_time": "2023-04-14T08:14:03.381Z"
   },
   {
    "duration": 36,
    "start_time": "2023-04-14T08:14:03.408Z"
   },
   {
    "duration": 304,
    "start_time": "2023-04-14T08:14:03.446Z"
   },
   {
    "duration": 240,
    "start_time": "2023-04-14T08:14:03.752Z"
   },
   {
    "duration": 3,
    "start_time": "2023-04-14T08:14:03.993Z"
   },
   {
    "duration": 20,
    "start_time": "2023-04-14T08:14:04.001Z"
   },
   {
    "duration": 24,
    "start_time": "2023-04-14T08:14:04.023Z"
   },
   {
    "duration": 1183,
    "start_time": "2023-04-14T08:14:04.049Z"
   },
   {
    "duration": 34,
    "start_time": "2023-04-14T08:14:05.234Z"
   },
   {
    "duration": 14,
    "start_time": "2023-04-14T08:14:05.269Z"
   },
   {
    "duration": 3,
    "start_time": "2023-04-14T08:14:05.284Z"
   },
   {
    "duration": 11,
    "start_time": "2023-04-14T08:14:05.288Z"
   },
   {
    "duration": 18,
    "start_time": "2023-04-14T08:14:05.300Z"
   },
   {
    "duration": 20,
    "start_time": "2023-04-14T08:14:05.319Z"
   },
   {
    "duration": 10,
    "start_time": "2023-04-14T08:14:05.341Z"
   },
   {
    "duration": 19,
    "start_time": "2023-04-14T08:14:05.353Z"
   },
   {
    "duration": 185,
    "start_time": "2023-04-14T08:14:05.374Z"
   },
   {
    "duration": 3,
    "start_time": "2023-04-14T08:14:05.561Z"
   },
   {
    "duration": 38,
    "start_time": "2023-04-14T08:14:05.565Z"
   },
   {
    "duration": 25,
    "start_time": "2023-04-14T08:14:05.604Z"
   },
   {
    "duration": 57,
    "start_time": "2023-04-14T08:14:05.631Z"
   },
   {
    "duration": 13,
    "start_time": "2023-04-14T08:14:05.690Z"
   },
   {
    "duration": 5,
    "start_time": "2023-04-14T08:14:05.704Z"
   },
   {
    "duration": 35,
    "start_time": "2023-04-14T08:14:05.711Z"
   },
   {
    "duration": 47,
    "start_time": "2023-04-14T08:14:05.748Z"
   },
   {
    "duration": 3884,
    "start_time": "2023-04-14T08:14:05.797Z"
   },
   {
    "duration": 2,
    "start_time": "2023-04-14T08:14:09.684Z"
   },
   {
    "duration": 22518,
    "start_time": "2023-04-14T08:14:09.687Z"
   },
   {
    "duration": 2880,
    "start_time": "2023-04-14T08:14:32.207Z"
   },
   {
    "duration": 169,
    "start_time": "2023-04-14T08:14:35.089Z"
   },
   {
    "duration": 0,
    "start_time": "2023-04-14T08:14:35.260Z"
   },
   {
    "duration": 0,
    "start_time": "2023-04-14T08:14:35.261Z"
   },
   {
    "duration": 0,
    "start_time": "2023-04-14T08:14:35.263Z"
   },
   {
    "duration": 0,
    "start_time": "2023-04-14T08:14:35.264Z"
   },
   {
    "duration": 0,
    "start_time": "2023-04-14T08:14:35.265Z"
   },
   {
    "duration": 0,
    "start_time": "2023-04-14T08:14:35.266Z"
   },
   {
    "duration": 0,
    "start_time": "2023-04-14T08:14:35.267Z"
   },
   {
    "duration": 0,
    "start_time": "2023-04-14T08:14:35.283Z"
   },
   {
    "duration": 0,
    "start_time": "2023-04-14T08:14:35.284Z"
   },
   {
    "duration": 1476,
    "start_time": "2023-04-14T08:14:37.188Z"
   },
   {
    "duration": 699,
    "start_time": "2023-04-14T08:14:38.666Z"
   },
   {
    "duration": 62,
    "start_time": "2023-04-14T08:14:39.366Z"
   },
   {
    "duration": 66,
    "start_time": "2023-04-14T08:14:39.430Z"
   },
   {
    "duration": 649,
    "start_time": "2023-04-14T08:14:39.498Z"
   },
   {
    "duration": 106,
    "start_time": "2023-04-14T08:14:40.149Z"
   },
   {
    "duration": 126,
    "start_time": "2023-04-14T08:14:40.257Z"
   },
   {
    "duration": 21,
    "start_time": "2023-04-14T08:14:40.385Z"
   },
   {
    "duration": 5,
    "start_time": "2023-04-14T08:14:40.408Z"
   },
   {
    "duration": 36,
    "start_time": "2023-04-14T08:14:40.415Z"
   },
   {
    "duration": 16,
    "start_time": "2023-04-14T08:14:40.453Z"
   },
   {
    "duration": 11,
    "start_time": "2023-04-14T08:14:40.474Z"
   },
   {
    "duration": 12,
    "start_time": "2023-04-14T08:14:40.486Z"
   },
   {
    "duration": 4,
    "start_time": "2023-04-14T08:14:40.500Z"
   },
   {
    "duration": 14,
    "start_time": "2023-04-14T08:14:40.505Z"
   },
   {
    "duration": 9,
    "start_time": "2023-04-14T08:14:40.521Z"
   },
   {
    "duration": 12,
    "start_time": "2023-04-14T08:14:40.532Z"
   },
   {
    "duration": 9,
    "start_time": "2023-04-14T08:14:40.546Z"
   },
   {
    "duration": 12,
    "start_time": "2023-04-14T08:14:40.556Z"
   },
   {
    "duration": 14,
    "start_time": "2023-04-14T08:14:40.583Z"
   },
   {
    "duration": 15,
    "start_time": "2023-04-14T08:14:40.599Z"
   },
   {
    "duration": 10,
    "start_time": "2023-04-14T08:14:40.616Z"
   },
   {
    "duration": 8,
    "start_time": "2023-04-14T08:14:40.628Z"
   },
   {
    "duration": 50,
    "start_time": "2023-04-14T08:14:40.638Z"
   },
   {
    "duration": 9,
    "start_time": "2023-04-14T08:14:40.690Z"
   },
   {
    "duration": 18,
    "start_time": "2023-04-14T08:14:40.701Z"
   },
   {
    "duration": 51,
    "start_time": "2023-04-14T08:14:40.721Z"
   },
   {
    "duration": 19,
    "start_time": "2023-04-14T08:14:40.777Z"
   },
   {
    "duration": 13,
    "start_time": "2023-04-14T08:14:40.798Z"
   },
   {
    "duration": 23,
    "start_time": "2023-04-14T08:14:40.812Z"
   },
   {
    "duration": 18,
    "start_time": "2023-04-14T08:14:40.837Z"
   },
   {
    "duration": 31,
    "start_time": "2023-04-14T08:14:40.856Z"
   },
   {
    "duration": 423,
    "start_time": "2023-04-14T08:14:40.889Z"
   },
   {
    "duration": 9,
    "start_time": "2023-04-14T08:14:41.314Z"
   },
   {
    "duration": 7,
    "start_time": "2023-04-14T08:14:41.325Z"
   },
   {
    "duration": 8,
    "start_time": "2023-04-14T08:14:41.334Z"
   },
   {
    "duration": 25,
    "start_time": "2023-04-14T08:14:41.344Z"
   },
   {
    "duration": 332,
    "start_time": "2023-04-14T08:14:41.371Z"
   },
   {
    "duration": 254,
    "start_time": "2023-04-14T08:14:41.705Z"
   },
   {
    "duration": 2,
    "start_time": "2023-04-14T08:14:41.961Z"
   },
   {
    "duration": 9,
    "start_time": "2023-04-14T08:14:41.965Z"
   },
   {
    "duration": 16,
    "start_time": "2023-04-14T08:14:41.984Z"
   },
   {
    "duration": 1236,
    "start_time": "2023-04-14T08:14:42.002Z"
   },
   {
    "duration": 43,
    "start_time": "2023-04-14T08:14:43.240Z"
   },
   {
    "duration": 2,
    "start_time": "2023-04-14T08:14:43.285Z"
   },
   {
    "duration": 22,
    "start_time": "2023-04-14T08:14:43.289Z"
   },
   {
    "duration": 12,
    "start_time": "2023-04-14T08:14:43.312Z"
   },
   {
    "duration": 19,
    "start_time": "2023-04-14T08:14:43.325Z"
   },
   {
    "duration": 16,
    "start_time": "2023-04-14T08:14:43.346Z"
   },
   {
    "duration": 10,
    "start_time": "2023-04-14T08:14:43.364Z"
   },
   {
    "duration": 20,
    "start_time": "2023-04-14T08:14:43.376Z"
   },
   {
    "duration": 166,
    "start_time": "2023-04-14T08:14:43.398Z"
   },
   {
    "duration": 3,
    "start_time": "2023-04-14T08:14:43.566Z"
   },
   {
    "duration": 25,
    "start_time": "2023-04-14T08:14:43.570Z"
   },
   {
    "duration": 12,
    "start_time": "2023-04-14T08:14:43.597Z"
   },
   {
    "duration": 74,
    "start_time": "2023-04-14T08:14:43.611Z"
   },
   {
    "duration": 14,
    "start_time": "2023-04-14T08:14:43.687Z"
   },
   {
    "duration": 7,
    "start_time": "2023-04-14T08:14:43.702Z"
   },
   {
    "duration": 10,
    "start_time": "2023-04-14T08:14:43.711Z"
   },
   {
    "duration": 31,
    "start_time": "2023-04-14T08:14:43.723Z"
   },
   {
    "duration": 4098,
    "start_time": "2023-04-14T08:14:43.756Z"
   },
   {
    "duration": 2,
    "start_time": "2023-04-14T08:14:47.856Z"
   },
   {
    "duration": 23,
    "start_time": "2023-04-14T08:14:47.860Z"
   },
   {
    "duration": 2507,
    "start_time": "2023-04-14T08:14:47.885Z"
   },
   {
    "duration": 200,
    "start_time": "2023-04-14T08:14:50.485Z"
   },
   {
    "duration": 0,
    "start_time": "2023-04-14T08:14:50.687Z"
   },
   {
    "duration": 0,
    "start_time": "2023-04-14T08:14:50.688Z"
   },
   {
    "duration": 0,
    "start_time": "2023-04-14T08:14:50.689Z"
   },
   {
    "duration": 0,
    "start_time": "2023-04-14T08:14:50.690Z"
   },
   {
    "duration": 0,
    "start_time": "2023-04-14T08:14:50.691Z"
   },
   {
    "duration": 0,
    "start_time": "2023-04-14T08:14:50.693Z"
   },
   {
    "duration": 0,
    "start_time": "2023-04-14T08:14:50.694Z"
   },
   {
    "duration": 0,
    "start_time": "2023-04-14T08:14:50.695Z"
   },
   {
    "duration": 0,
    "start_time": "2023-04-14T08:14:50.696Z"
   },
   {
    "duration": 12,
    "start_time": "2023-04-14T08:15:49.339Z"
   },
   {
    "duration": 6,
    "start_time": "2023-04-14T08:16:09.732Z"
   },
   {
    "duration": 37218,
    "start_time": "2023-04-14T08:16:46.318Z"
   },
   {
    "duration": 35165,
    "start_time": "2023-04-14T08:18:11.532Z"
   },
   {
    "duration": 11,
    "start_time": "2023-04-14T08:22:25.944Z"
   },
   {
    "duration": 222636,
    "start_time": "2023-04-14T08:22:46.267Z"
   },
   {
    "duration": 5,
    "start_time": "2023-04-14T08:31:18.255Z"
   },
   {
    "duration": 2,
    "start_time": "2023-04-14T08:32:56.306Z"
   },
   {
    "duration": 337,
    "start_time": "2023-04-14T08:36:03.147Z"
   },
   {
    "duration": 4,
    "start_time": "2023-04-14T08:40:05.672Z"
   },
   {
    "duration": 5,
    "start_time": "2023-04-14T08:40:08.129Z"
   },
   {
    "duration": 4,
    "start_time": "2023-04-14T08:40:08.758Z"
   },
   {
    "duration": 514976,
    "start_time": "2023-04-14T08:42:35.753Z"
   },
   {
    "duration": 3,
    "start_time": "2023-04-14T09:10:06.159Z"
   },
   {
    "duration": 346,
    "start_time": "2023-04-14T09:16:45.379Z"
   },
   {
    "duration": 668,
    "start_time": "2023-04-14T09:17:49.389Z"
   },
   {
    "duration": 651,
    "start_time": "2023-04-14T09:18:00.844Z"
   },
   {
    "duration": 5,
    "start_time": "2023-04-14T09:19:05.653Z"
   },
   {
    "duration": 9,
    "start_time": "2023-04-14T09:19:06.269Z"
   },
   {
    "duration": 4,
    "start_time": "2023-04-14T09:19:11.719Z"
   },
   {
    "duration": 12,
    "start_time": "2023-04-14T09:19:13.903Z"
   },
   {
    "duration": 4,
    "start_time": "2023-04-14T09:19:19.573Z"
   },
   {
    "duration": 4,
    "start_time": "2023-04-14T09:19:23.877Z"
   },
   {
    "duration": 415,
    "start_time": "2023-04-14T09:46:44.305Z"
   },
   {
    "duration": 476,
    "start_time": "2023-04-14T09:49:40.148Z"
   },
   {
    "duration": 435,
    "start_time": "2023-04-14T09:49:53.156Z"
   },
   {
    "duration": 445,
    "start_time": "2023-04-14T09:50:00.324Z"
   },
   {
    "duration": 1805,
    "start_time": "2023-04-14T10:05:04.693Z"
   },
   {
    "duration": 717,
    "start_time": "2023-04-14T10:05:06.500Z"
   },
   {
    "duration": 72,
    "start_time": "2023-04-14T10:05:07.218Z"
   },
   {
    "duration": 46,
    "start_time": "2023-04-14T10:05:07.292Z"
   },
   {
    "duration": 628,
    "start_time": "2023-04-14T10:05:07.340Z"
   },
   {
    "duration": 114,
    "start_time": "2023-04-14T10:05:07.970Z"
   },
   {
    "duration": 135,
    "start_time": "2023-04-14T10:05:08.086Z"
   },
   {
    "duration": 23,
    "start_time": "2023-04-14T10:05:08.223Z"
   },
   {
    "duration": 54,
    "start_time": "2023-04-14T10:05:08.248Z"
   },
   {
    "duration": 10,
    "start_time": "2023-04-14T10:05:08.305Z"
   },
   {
    "duration": 7,
    "start_time": "2023-04-14T10:05:08.317Z"
   },
   {
    "duration": 24,
    "start_time": "2023-04-14T10:05:08.326Z"
   },
   {
    "duration": 26,
    "start_time": "2023-04-14T10:05:08.352Z"
   },
   {
    "duration": 4,
    "start_time": "2023-04-14T10:05:08.380Z"
   },
   {
    "duration": 19,
    "start_time": "2023-04-14T10:05:08.386Z"
   },
   {
    "duration": 9,
    "start_time": "2023-04-14T10:05:08.406Z"
   },
   {
    "duration": 29,
    "start_time": "2023-04-14T10:05:08.416Z"
   },
   {
    "duration": 18,
    "start_time": "2023-04-14T10:05:08.447Z"
   },
   {
    "duration": 13,
    "start_time": "2023-04-14T10:05:08.466Z"
   },
   {
    "duration": 23,
    "start_time": "2023-04-14T10:05:08.480Z"
   },
   {
    "duration": 35,
    "start_time": "2023-04-14T10:05:08.505Z"
   },
   {
    "duration": 41,
    "start_time": "2023-04-14T10:05:08.543Z"
   },
   {
    "duration": 23,
    "start_time": "2023-04-14T10:05:08.585Z"
   },
   {
    "duration": 44,
    "start_time": "2023-04-14T10:05:08.609Z"
   },
   {
    "duration": 18,
    "start_time": "2023-04-14T10:05:08.654Z"
   },
   {
    "duration": 19,
    "start_time": "2023-04-14T10:05:08.673Z"
   },
   {
    "duration": 19,
    "start_time": "2023-04-14T10:05:08.694Z"
   },
   {
    "duration": 14,
    "start_time": "2023-04-14T10:05:08.717Z"
   },
   {
    "duration": 15,
    "start_time": "2023-04-14T10:05:08.733Z"
   },
   {
    "duration": 8,
    "start_time": "2023-04-14T10:05:08.750Z"
   },
   {
    "duration": 13,
    "start_time": "2023-04-14T10:05:08.759Z"
   },
   {
    "duration": 8,
    "start_time": "2023-04-14T10:05:08.773Z"
   },
   {
    "duration": 392,
    "start_time": "2023-04-14T10:05:08.783Z"
   },
   {
    "duration": 14,
    "start_time": "2023-04-14T10:05:09.176Z"
   },
   {
    "duration": 8,
    "start_time": "2023-04-14T10:05:09.191Z"
   },
   {
    "duration": 14,
    "start_time": "2023-04-14T10:05:09.201Z"
   },
   {
    "duration": 30,
    "start_time": "2023-04-14T10:05:09.217Z"
   },
   {
    "duration": 273,
    "start_time": "2023-04-14T10:05:09.249Z"
   },
   {
    "duration": 242,
    "start_time": "2023-04-14T10:05:09.524Z"
   },
   {
    "duration": 448,
    "start_time": "2023-04-14T10:05:09.768Z"
   },
   {
    "duration": 510,
    "start_time": "2023-04-14T10:05:10.217Z"
   },
   {
    "duration": 8,
    "start_time": "2023-04-14T10:05:10.729Z"
   },
   {
    "duration": 1378,
    "start_time": "2023-04-14T10:05:10.739Z"
   },
   {
    "duration": 34,
    "start_time": "2023-04-14T10:05:12.119Z"
   },
   {
    "duration": 2,
    "start_time": "2023-04-14T10:05:12.155Z"
   },
   {
    "duration": 11,
    "start_time": "2023-04-14T10:05:12.158Z"
   },
   {
    "duration": 3,
    "start_time": "2023-04-14T10:05:12.184Z"
   },
   {
    "duration": 15,
    "start_time": "2023-04-14T10:05:12.188Z"
   },
   {
    "duration": 11,
    "start_time": "2023-04-14T10:05:12.204Z"
   },
   {
    "duration": 32,
    "start_time": "2023-04-14T10:05:12.217Z"
   },
   {
    "duration": 11,
    "start_time": "2023-04-14T10:05:12.251Z"
   },
   {
    "duration": 62,
    "start_time": "2023-04-14T10:05:12.264Z"
   },
   {
    "duration": 3,
    "start_time": "2023-04-14T10:05:12.327Z"
   },
   {
    "duration": 26,
    "start_time": "2023-04-14T10:05:12.331Z"
   },
   {
    "duration": 12,
    "start_time": "2023-04-14T10:05:12.359Z"
   },
   {
    "duration": 68,
    "start_time": "2023-04-14T10:05:12.373Z"
   },
   {
    "duration": 14,
    "start_time": "2023-04-14T10:05:12.443Z"
   },
   {
    "duration": 20,
    "start_time": "2023-04-14T10:05:12.459Z"
   },
   {
    "duration": 33,
    "start_time": "2023-04-14T10:05:12.481Z"
   },
   {
    "duration": 24,
    "start_time": "2023-04-14T10:05:12.516Z"
   },
   {
    "duration": 4,
    "start_time": "2023-04-14T10:05:12.542Z"
   },
   {
    "duration": 11,
    "start_time": "2023-04-14T10:05:12.548Z"
   },
   {
    "duration": 15,
    "start_time": "2023-04-14T10:05:12.560Z"
   },
   {
    "duration": 2710,
    "start_time": "2023-04-14T10:05:12.577Z"
   },
   {
    "duration": 34046,
    "start_time": "2023-04-14T10:05:15.288Z"
   },
   {
    "duration": 269953,
    "start_time": "2023-04-14T10:05:49.335Z"
   },
   {
    "duration": 6,
    "start_time": "2023-04-14T10:10:19.290Z"
   },
   {
    "duration": 37,
    "start_time": "2023-04-14T10:10:19.298Z"
   },
   {
    "duration": 25,
    "start_time": "2023-04-14T10:10:19.336Z"
   },
   {
    "duration": 29,
    "start_time": "2023-04-14T10:10:19.362Z"
   },
   {
    "duration": 31,
    "start_time": "2023-04-14T10:10:19.393Z"
   },
   {
    "duration": 697,
    "start_time": "2023-04-14T10:10:19.426Z"
   },
   {
    "duration": 4,
    "start_time": "2023-04-14T10:10:20.125Z"
   },
   {
    "duration": 29,
    "start_time": "2023-04-14T10:10:20.131Z"
   },
   {
    "duration": 16,
    "start_time": "2023-04-14T10:10:20.161Z"
   },
   {
    "duration": 34,
    "start_time": "2023-04-14T10:10:20.179Z"
   },
   {
    "duration": 58,
    "start_time": "2023-04-15T07:43:29.248Z"
   },
   {
    "duration": 1678,
    "start_time": "2023-04-15T07:44:16.307Z"
   },
   {
    "duration": 3325,
    "start_time": "2023-04-15T07:44:17.987Z"
   },
   {
    "duration": 76,
    "start_time": "2023-04-15T07:44:21.314Z"
   },
   {
    "duration": 74,
    "start_time": "2023-04-15T07:44:21.393Z"
   },
   {
    "duration": 650,
    "start_time": "2023-04-15T07:44:21.471Z"
   },
   {
    "duration": 117,
    "start_time": "2023-04-15T07:44:22.123Z"
   },
   {
    "duration": 142,
    "start_time": "2023-04-15T07:44:22.242Z"
   },
   {
    "duration": 33,
    "start_time": "2023-04-15T07:44:22.386Z"
   },
   {
    "duration": 6,
    "start_time": "2023-04-15T07:44:22.435Z"
   },
   {
    "duration": 51,
    "start_time": "2023-04-15T07:44:22.444Z"
   },
   {
    "duration": 12,
    "start_time": "2023-04-15T07:44:22.497Z"
   },
   {
    "duration": 9,
    "start_time": "2023-04-15T07:44:22.511Z"
   },
   {
    "duration": 9,
    "start_time": "2023-04-15T07:44:22.521Z"
   },
   {
    "duration": 3,
    "start_time": "2023-04-15T07:44:22.531Z"
   },
   {
    "duration": 27,
    "start_time": "2023-04-15T07:44:22.536Z"
   },
   {
    "duration": 6,
    "start_time": "2023-04-15T07:44:22.564Z"
   },
   {
    "duration": 5,
    "start_time": "2023-04-15T07:44:22.572Z"
   },
   {
    "duration": 5,
    "start_time": "2023-04-15T07:44:22.579Z"
   },
   {
    "duration": 5,
    "start_time": "2023-04-15T07:44:22.586Z"
   },
   {
    "duration": 16,
    "start_time": "2023-04-15T07:44:22.593Z"
   },
   {
    "duration": 45,
    "start_time": "2023-04-15T07:44:22.611Z"
   },
   {
    "duration": 15,
    "start_time": "2023-04-15T07:44:22.657Z"
   },
   {
    "duration": 9,
    "start_time": "2023-04-15T07:44:22.673Z"
   },
   {
    "duration": 10,
    "start_time": "2023-04-15T07:44:22.683Z"
   },
   {
    "duration": 9,
    "start_time": "2023-04-15T07:44:22.695Z"
   },
   {
    "duration": 41,
    "start_time": "2023-04-15T07:44:22.705Z"
   },
   {
    "duration": 13,
    "start_time": "2023-04-15T07:44:22.748Z"
   },
   {
    "duration": 6,
    "start_time": "2023-04-15T07:44:22.765Z"
   },
   {
    "duration": 10,
    "start_time": "2023-04-15T07:44:22.773Z"
   },
   {
    "duration": 9,
    "start_time": "2023-04-15T07:44:22.785Z"
   },
   {
    "duration": 6,
    "start_time": "2023-04-15T07:44:22.796Z"
   },
   {
    "duration": 8,
    "start_time": "2023-04-15T07:44:22.803Z"
   },
   {
    "duration": 449,
    "start_time": "2023-04-15T07:44:22.813Z"
   },
   {
    "duration": 11,
    "start_time": "2023-04-15T07:44:23.264Z"
   },
   {
    "duration": 18,
    "start_time": "2023-04-15T07:44:23.277Z"
   },
   {
    "duration": 14,
    "start_time": "2023-04-15T07:44:23.297Z"
   },
   {
    "duration": 28,
    "start_time": "2023-04-15T07:44:23.313Z"
   },
   {
    "duration": 343,
    "start_time": "2023-04-15T07:44:23.343Z"
   },
   {
    "duration": 241,
    "start_time": "2023-04-15T07:44:23.688Z"
   },
   {
    "duration": 545,
    "start_time": "2023-04-15T07:44:23.931Z"
   },
   {
    "duration": 540,
    "start_time": "2023-04-15T07:44:24.477Z"
   },
   {
    "duration": 9,
    "start_time": "2023-04-15T07:44:25.020Z"
   },
   {
    "duration": 1374,
    "start_time": "2023-04-15T07:44:25.035Z"
   },
   {
    "duration": 47,
    "start_time": "2023-04-15T07:44:26.410Z"
   },
   {
    "duration": 3,
    "start_time": "2023-04-15T07:44:26.459Z"
   },
   {
    "duration": 16,
    "start_time": "2023-04-15T07:44:26.463Z"
   },
   {
    "duration": 6,
    "start_time": "2023-04-15T07:44:26.480Z"
   },
   {
    "duration": 11,
    "start_time": "2023-04-15T07:44:26.487Z"
   },
   {
    "duration": 12,
    "start_time": "2023-04-15T07:44:26.499Z"
   },
   {
    "duration": 10,
    "start_time": "2023-04-15T07:44:26.513Z"
   },
   {
    "duration": 9,
    "start_time": "2023-04-15T07:44:26.524Z"
   },
   {
    "duration": 64,
    "start_time": "2023-04-15T07:44:26.535Z"
   },
   {
    "duration": 3,
    "start_time": "2023-04-15T07:44:26.600Z"
   },
   {
    "duration": 6,
    "start_time": "2023-04-15T07:44:26.605Z"
   },
   {
    "duration": 6,
    "start_time": "2023-04-15T07:44:26.613Z"
   },
   {
    "duration": 60,
    "start_time": "2023-04-15T07:44:26.620Z"
   },
   {
    "duration": 12,
    "start_time": "2023-04-15T07:44:26.682Z"
   },
   {
    "duration": 5,
    "start_time": "2023-04-15T07:44:26.695Z"
   },
   {
    "duration": 7,
    "start_time": "2023-04-15T07:44:26.702Z"
   },
   {
    "duration": 40,
    "start_time": "2023-04-15T07:44:26.711Z"
   },
   {
    "duration": 3,
    "start_time": "2023-04-15T07:44:26.753Z"
   },
   {
    "duration": 9,
    "start_time": "2023-04-15T07:44:26.758Z"
   },
   {
    "duration": 8,
    "start_time": "2023-04-15T07:44:26.769Z"
   },
   {
    "duration": 3056,
    "start_time": "2023-04-15T07:44:26.779Z"
   },
   {
    "duration": 7,
    "start_time": "2023-04-15T07:44:29.841Z"
   },
   {
    "duration": 14,
    "start_time": "2023-04-15T07:44:29.857Z"
   },
   {
    "duration": 14,
    "start_time": "2023-04-15T07:44:29.873Z"
   },
   {
    "duration": 14,
    "start_time": "2023-04-15T07:44:29.889Z"
   },
   {
    "duration": 5,
    "start_time": "2023-04-15T07:44:29.904Z"
   },
   {
    "duration": 3,
    "start_time": "2023-04-15T07:44:29.935Z"
   },
   {
    "duration": 23,
    "start_time": "2023-04-15T07:44:29.940Z"
   },
   {
    "duration": 747,
    "start_time": "2023-04-15T07:44:29.964Z"
   },
   {
    "duration": 481,
    "start_time": "2023-04-15T07:44:30.713Z"
   },
   {
    "duration": 5,
    "start_time": "2023-04-15T07:44:31.196Z"
   },
   {
    "duration": 57,
    "start_time": "2023-04-15T07:44:31.202Z"
   },
   {
    "duration": 63,
    "start_time": "2023-04-15T07:44:31.261Z"
   },
   {
    "duration": 62,
    "start_time": "2023-04-15T07:44:31.326Z"
   },
   {
    "duration": 37129,
    "start_time": "2023-04-15T08:11:15.552Z"
   },
   {
    "duration": 37674,
    "start_time": "2023-04-15T08:14:33.011Z"
   },
   {
    "duration": 93,
    "start_time": "2023-04-15T08:18:29.727Z"
   },
   {
    "duration": 38284,
    "start_time": "2023-04-15T08:18:35.323Z"
   },
   {
    "duration": 773534,
    "start_time": "2023-04-15T08:29:58.789Z"
   },
   {
    "duration": 87336,
    "start_time": "2023-04-15T08:48:47.011Z"
   },
   {
    "duration": 427,
    "start_time": "2023-04-15T09:00:40.300Z"
   },
   {
    "duration": 1797,
    "start_time": "2023-04-15T09:01:19.444Z"
   },
   {
    "duration": 1779,
    "start_time": "2023-04-15T09:03:22.238Z"
   },
   {
    "duration": 780620,
    "start_time": "2023-04-15T09:38:40.995Z"
   },
   {
    "duration": 3,
    "start_time": "2023-04-15T09:57:11.374Z"
   },
   {
    "duration": 2,
    "start_time": "2023-04-15T09:57:12.179Z"
   },
   {
    "duration": 2,
    "start_time": "2023-04-15T09:57:12.652Z"
   },
   {
    "duration": 3,
    "start_time": "2023-04-15T09:57:13.154Z"
   },
   {
    "duration": 23763,
    "start_time": "2023-04-15T10:00:06.183Z"
   },
   {
    "duration": 164,
    "start_time": "2023-04-15T10:28:44.804Z"
   },
   {
    "duration": 20,
    "start_time": "2023-04-15T10:28:59.140Z"
   },
   {
    "duration": 1356,
    "start_time": "2023-04-15T10:29:07.728Z"
   },
   {
    "duration": 716,
    "start_time": "2023-04-15T10:29:09.086Z"
   },
   {
    "duration": 69,
    "start_time": "2023-04-15T10:29:09.804Z"
   },
   {
    "duration": 74,
    "start_time": "2023-04-15T10:29:09.875Z"
   },
   {
    "duration": 579,
    "start_time": "2023-04-15T10:29:09.951Z"
   },
   {
    "duration": 116,
    "start_time": "2023-04-15T10:29:10.534Z"
   },
   {
    "duration": 123,
    "start_time": "2023-04-15T10:29:10.651Z"
   },
   {
    "duration": 21,
    "start_time": "2023-04-15T10:29:10.776Z"
   },
   {
    "duration": 4,
    "start_time": "2023-04-15T10:29:10.799Z"
   },
   {
    "duration": 52,
    "start_time": "2023-04-15T10:29:10.807Z"
   },
   {
    "duration": 8,
    "start_time": "2023-04-15T10:29:10.860Z"
   },
   {
    "duration": 8,
    "start_time": "2023-04-15T10:29:10.870Z"
   },
   {
    "duration": 9,
    "start_time": "2023-04-15T10:29:10.880Z"
   },
   {
    "duration": 3,
    "start_time": "2023-04-15T10:29:10.890Z"
   },
   {
    "duration": 11,
    "start_time": "2023-04-15T10:29:10.894Z"
   },
   {
    "duration": 4,
    "start_time": "2023-04-15T10:29:10.906Z"
   },
   {
    "duration": 51,
    "start_time": "2023-04-15T10:29:10.912Z"
   },
   {
    "duration": 15,
    "start_time": "2023-04-15T10:29:10.965Z"
   },
   {
    "duration": 11,
    "start_time": "2023-04-15T10:29:10.982Z"
   },
   {
    "duration": 25,
    "start_time": "2023-04-15T10:29:10.995Z"
   },
   {
    "duration": 27,
    "start_time": "2023-04-15T10:29:11.022Z"
   },
   {
    "duration": 16,
    "start_time": "2023-04-15T10:29:11.059Z"
   },
   {
    "duration": 14,
    "start_time": "2023-04-15T10:29:11.077Z"
   },
   {
    "duration": 22,
    "start_time": "2023-04-15T10:29:11.093Z"
   },
   {
    "duration": 24,
    "start_time": "2023-04-15T10:29:11.117Z"
   },
   {
    "duration": 31,
    "start_time": "2023-04-15T10:29:11.148Z"
   },
   {
    "duration": 11,
    "start_time": "2023-04-15T10:29:11.180Z"
   },
   {
    "duration": 13,
    "start_time": "2023-04-15T10:29:11.197Z"
   },
   {
    "duration": 19,
    "start_time": "2023-04-15T10:29:11.211Z"
   },
   {
    "duration": 24,
    "start_time": "2023-04-15T10:29:11.231Z"
   },
   {
    "duration": 8,
    "start_time": "2023-04-15T10:29:11.256Z"
   },
   {
    "duration": 6,
    "start_time": "2023-04-15T10:29:11.266Z"
   },
   {
    "duration": 387,
    "start_time": "2023-04-15T10:29:11.274Z"
   },
   {
    "duration": 8,
    "start_time": "2023-04-15T10:29:11.663Z"
   },
   {
    "duration": 10,
    "start_time": "2023-04-15T10:29:11.673Z"
   },
   {
    "duration": 28,
    "start_time": "2023-04-15T10:29:11.684Z"
   },
   {
    "duration": 19,
    "start_time": "2023-04-15T10:29:11.713Z"
   },
   {
    "duration": 315,
    "start_time": "2023-04-15T10:29:11.734Z"
   },
   {
    "duration": 223,
    "start_time": "2023-04-15T10:29:12.051Z"
   },
   {
    "duration": 507,
    "start_time": "2023-04-15T10:29:12.276Z"
   },
   {
    "duration": 481,
    "start_time": "2023-04-15T10:29:12.784Z"
   },
   {
    "duration": 10,
    "start_time": "2023-04-15T10:29:13.267Z"
   },
   {
    "duration": 1226,
    "start_time": "2023-04-15T10:29:13.279Z"
   },
   {
    "duration": 48,
    "start_time": "2023-04-15T10:29:14.506Z"
   },
   {
    "duration": 2,
    "start_time": "2023-04-15T10:29:14.556Z"
   },
   {
    "duration": 11,
    "start_time": "2023-04-15T10:29:14.560Z"
   },
   {
    "duration": 10,
    "start_time": "2023-04-15T10:29:14.573Z"
   },
   {
    "duration": 7,
    "start_time": "2023-04-15T10:29:14.584Z"
   },
   {
    "duration": 6,
    "start_time": "2023-04-15T10:29:14.593Z"
   },
   {
    "duration": 10,
    "start_time": "2023-04-15T10:29:14.600Z"
   },
   {
    "duration": 9,
    "start_time": "2023-04-15T10:29:14.612Z"
   },
   {
    "duration": 82,
    "start_time": "2023-04-15T10:29:14.623Z"
   },
   {
    "duration": 4,
    "start_time": "2023-04-15T10:29:14.707Z"
   },
   {
    "duration": 51,
    "start_time": "2023-04-15T10:29:14.712Z"
   },
   {
    "duration": 13,
    "start_time": "2023-04-15T10:29:14.765Z"
   },
   {
    "duration": 100,
    "start_time": "2023-04-15T10:29:14.780Z"
   },
   {
    "duration": 15,
    "start_time": "2023-04-15T10:29:14.882Z"
   },
   {
    "duration": 8,
    "start_time": "2023-04-15T10:29:14.900Z"
   },
   {
    "duration": 7,
    "start_time": "2023-04-15T10:29:14.910Z"
   },
   {
    "duration": 31,
    "start_time": "2023-04-15T10:29:14.935Z"
   },
   {
    "duration": 26,
    "start_time": "2023-04-15T10:29:14.972Z"
   },
   {
    "duration": 57,
    "start_time": "2023-04-15T10:29:15.000Z"
   },
   {
    "duration": 25,
    "start_time": "2023-04-15T10:29:15.059Z"
   },
   {
    "duration": 3654,
    "start_time": "2023-04-15T10:29:15.085Z"
   },
   {
    "duration": 91216,
    "start_time": "2023-04-15T10:29:18.747Z"
   },
   {
    "duration": 783273,
    "start_time": "2023-04-15T10:30:49.965Z"
   },
   {
    "duration": 2,
    "start_time": "2023-04-15T10:43:53.239Z"
   },
   {
    "duration": 41,
    "start_time": "2023-04-15T10:43:53.243Z"
   },
   {
    "duration": 20,
    "start_time": "2023-04-15T10:43:53.286Z"
   },
   {
    "duration": 5,
    "start_time": "2023-04-15T10:43:53.308Z"
   },
   {
    "duration": 9,
    "start_time": "2023-04-15T10:43:53.315Z"
   },
   {
    "duration": 26,
    "start_time": "2023-04-15T10:43:53.325Z"
   },
   {
    "duration": 5,
    "start_time": "2023-04-15T10:43:53.353Z"
   },
   {
    "duration": 25145,
    "start_time": "2023-04-15T10:43:53.359Z"
   },
   {
    "duration": 4,
    "start_time": "2023-04-15T10:44:18.505Z"
   },
   {
    "duration": 7,
    "start_time": "2023-04-15T10:44:18.511Z"
   },
   {
    "duration": 23,
    "start_time": "2023-04-15T10:44:18.519Z"
   },
   {
    "duration": 15,
    "start_time": "2023-04-15T10:44:18.546Z"
   },
   {
    "duration": 1361,
    "start_time": "2023-04-15T10:59:08.894Z"
   },
   {
    "duration": 731,
    "start_time": "2023-04-15T10:59:10.257Z"
   },
   {
    "duration": 75,
    "start_time": "2023-04-15T10:59:10.990Z"
   },
   {
    "duration": 43,
    "start_time": "2023-04-15T10:59:11.068Z"
   },
   {
    "duration": 642,
    "start_time": "2023-04-15T10:59:11.113Z"
   },
   {
    "duration": 110,
    "start_time": "2023-04-15T10:59:11.756Z"
   },
   {
    "duration": 122,
    "start_time": "2023-04-15T10:59:11.868Z"
   },
   {
    "duration": 20,
    "start_time": "2023-04-15T10:59:11.992Z"
   },
   {
    "duration": 4,
    "start_time": "2023-04-15T10:59:12.014Z"
   },
   {
    "duration": 11,
    "start_time": "2023-04-15T10:59:12.035Z"
   },
   {
    "duration": 11,
    "start_time": "2023-04-15T10:59:12.051Z"
   },
   {
    "duration": 8,
    "start_time": "2023-04-15T10:59:12.064Z"
   },
   {
    "duration": 9,
    "start_time": "2023-04-15T10:59:12.073Z"
   },
   {
    "duration": 3,
    "start_time": "2023-04-15T10:59:12.083Z"
   },
   {
    "duration": 10,
    "start_time": "2023-04-15T10:59:12.088Z"
   },
   {
    "duration": 4,
    "start_time": "2023-04-15T10:59:12.100Z"
   },
   {
    "duration": 4,
    "start_time": "2023-04-15T10:59:12.135Z"
   },
   {
    "duration": 28,
    "start_time": "2023-04-15T10:59:12.140Z"
   },
   {
    "duration": 16,
    "start_time": "2023-04-15T10:59:12.169Z"
   },
   {
    "duration": 28,
    "start_time": "2023-04-15T10:59:12.186Z"
   },
   {
    "duration": 14,
    "start_time": "2023-04-15T10:59:12.216Z"
   },
   {
    "duration": 20,
    "start_time": "2023-04-15T10:59:12.232Z"
   },
   {
    "duration": 16,
    "start_time": "2023-04-15T10:59:12.254Z"
   },
   {
    "duration": 18,
    "start_time": "2023-04-15T10:59:12.271Z"
   },
   {
    "duration": 16,
    "start_time": "2023-04-15T10:59:12.291Z"
   },
   {
    "duration": 10,
    "start_time": "2023-04-15T10:59:12.309Z"
   },
   {
    "duration": 9,
    "start_time": "2023-04-15T10:59:12.320Z"
   },
   {
    "duration": 22,
    "start_time": "2023-04-15T10:59:12.332Z"
   },
   {
    "duration": 11,
    "start_time": "2023-04-15T10:59:12.355Z"
   },
   {
    "duration": 6,
    "start_time": "2023-04-15T10:59:12.367Z"
   },
   {
    "duration": 10,
    "start_time": "2023-04-15T10:59:12.375Z"
   },
   {
    "duration": 8,
    "start_time": "2023-04-15T10:59:12.387Z"
   },
   {
    "duration": 379,
    "start_time": "2023-04-15T10:59:12.397Z"
   },
   {
    "duration": 8,
    "start_time": "2023-04-15T10:59:12.777Z"
   },
   {
    "duration": 12,
    "start_time": "2023-04-15T10:59:12.787Z"
   },
   {
    "duration": 8,
    "start_time": "2023-04-15T10:59:12.801Z"
   },
   {
    "duration": 33,
    "start_time": "2023-04-15T10:59:12.811Z"
   },
   {
    "duration": 291,
    "start_time": "2023-04-15T10:59:12.846Z"
   },
   {
    "duration": 224,
    "start_time": "2023-04-15T10:59:13.139Z"
   },
   {
    "duration": 482,
    "start_time": "2023-04-15T10:59:13.365Z"
   },
   {
    "duration": 419,
    "start_time": "2023-04-15T10:59:13.850Z"
   },
   {
    "duration": 8,
    "start_time": "2023-04-15T10:59:14.271Z"
   },
   {
    "duration": 1303,
    "start_time": "2023-04-15T10:59:14.281Z"
   },
   {
    "duration": 32,
    "start_time": "2023-04-15T10:59:15.586Z"
   },
   {
    "duration": 3,
    "start_time": "2023-04-15T10:59:15.619Z"
   },
   {
    "duration": 24,
    "start_time": "2023-04-15T10:59:15.635Z"
   },
   {
    "duration": 42,
    "start_time": "2023-04-15T10:59:15.661Z"
   },
   {
    "duration": 22,
    "start_time": "2023-04-15T10:59:15.705Z"
   },
   {
    "duration": 33,
    "start_time": "2023-04-15T10:59:15.728Z"
   },
   {
    "duration": 21,
    "start_time": "2023-04-15T10:59:15.763Z"
   },
   {
    "duration": 39,
    "start_time": "2023-04-15T10:59:15.786Z"
   },
   {
    "duration": 86,
    "start_time": "2023-04-15T10:59:15.828Z"
   },
   {
    "duration": 3,
    "start_time": "2023-04-15T10:59:15.916Z"
   },
   {
    "duration": 32,
    "start_time": "2023-04-15T10:59:15.921Z"
   },
   {
    "duration": 19,
    "start_time": "2023-04-15T10:59:15.954Z"
   },
   {
    "duration": 61,
    "start_time": "2023-04-15T10:59:15.975Z"
   },
   {
    "duration": 18,
    "start_time": "2023-04-15T10:59:16.039Z"
   },
   {
    "duration": 5,
    "start_time": "2023-04-15T10:59:16.059Z"
   },
   {
    "duration": 12,
    "start_time": "2023-04-15T10:59:16.065Z"
   },
   {
    "duration": 20,
    "start_time": "2023-04-15T10:59:16.078Z"
   },
   {
    "duration": 2,
    "start_time": "2023-04-15T10:59:16.099Z"
   },
   {
    "duration": 10,
    "start_time": "2023-04-15T10:59:16.103Z"
   },
   {
    "duration": 6,
    "start_time": "2023-04-15T10:59:16.114Z"
   },
   {
    "duration": 4218,
    "start_time": "2023-04-15T10:59:16.121Z"
   },
   {
    "duration": 88481,
    "start_time": "2023-04-15T10:59:20.341Z"
   },
   {
    "duration": 778028,
    "start_time": "2023-04-15T11:00:48.825Z"
   },
   {
    "duration": 2,
    "start_time": "2023-04-15T11:13:46.856Z"
   },
   {
    "duration": 7,
    "start_time": "2023-04-15T11:13:46.860Z"
   },
   {
    "duration": 15,
    "start_time": "2023-04-15T11:13:46.869Z"
   },
   {
    "duration": 12,
    "start_time": "2023-04-15T11:13:46.886Z"
   },
   {
    "duration": 12,
    "start_time": "2023-04-15T11:13:46.900Z"
   },
   {
    "duration": 5,
    "start_time": "2023-04-15T11:13:46.913Z"
   },
   {
    "duration": 7,
    "start_time": "2023-04-15T11:13:46.920Z"
   },
   {
    "duration": 25788,
    "start_time": "2023-04-15T11:13:46.929Z"
   },
   {
    "duration": 0,
    "start_time": "2023-04-15T11:14:12.719Z"
   },
   {
    "duration": 0,
    "start_time": "2023-04-15T11:14:12.721Z"
   },
   {
    "duration": 0,
    "start_time": "2023-04-15T11:14:12.722Z"
   },
   {
    "duration": 0,
    "start_time": "2023-04-15T11:14:12.734Z"
   },
   {
    "duration": 24652,
    "start_time": "2023-04-15T11:25:21.502Z"
   },
   {
    "duration": 4,
    "start_time": "2023-04-15T11:25:51.824Z"
   },
   {
    "duration": 6,
    "start_time": "2023-04-15T11:25:52.565Z"
   },
   {
    "duration": 5,
    "start_time": "2023-04-15T11:25:52.963Z"
   },
   {
    "duration": 4,
    "start_time": "2023-04-15T11:25:53.396Z"
   }
  ],
  "kernelspec": {
   "display_name": "Python 3 (ipykernel)",
   "language": "python",
   "name": "python3"
  },
  "language_info": {
   "codemirror_mode": {
    "name": "ipython",
    "version": 3
   },
   "file_extension": ".py",
   "mimetype": "text/x-python",
   "name": "python",
   "nbconvert_exporter": "python",
   "pygments_lexer": "ipython3",
   "version": "3.10.9"
  },
  "toc": {
   "base_numbering": 1,
   "nav_menu": {},
   "number_sections": true,
   "sideBar": true,
   "skip_h1_title": true,
   "title_cell": "Содержание",
   "title_sidebar": "Contents",
   "toc_cell": true,
   "toc_position": {
    "height": "calc(100% - 180px)",
    "left": "10px",
    "top": "150px",
    "width": "165px"
   },
   "toc_section_display": true,
   "toc_window_display": true
  }
 },
 "nbformat": 4,
 "nbformat_minor": 2
}

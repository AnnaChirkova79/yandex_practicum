{
 "cells": [
  {
   "cell_type": "markdown",
   "id": "2f104ed5",
   "metadata": {
    "deletable": false,
    "editable": false,
    "id": "c81daeeb"
   },
   "source": [
    "# Исследование надежности заемщиков\n"
   ]
  },
  {
   "cell_type": "markdown",
   "id": "0c28f3f0",
   "metadata": {
    "deletable": false,
    "editable": false,
    "id": "827c20bf"
   },
   "source": [
    "Во второй части проекта вы выполните шаги 3 и 4. Их вручную проверит ревьюер.\n",
    "Чтобы вам не пришлось писать код заново для шагов 1 и 2, мы добавили авторские решения в ячейки с кодом. \n",
    "\n"
   ]
  },
  {
   "cell_type": "markdown",
   "id": "f9b14d39",
   "metadata": {
    "deletable": false,
    "editable": false,
    "id": "744d7639"
   },
   "source": [
    "## Откройте таблицу и изучите общую информацию о данных"
   ]
  },
  {
   "cell_type": "markdown",
   "id": "a854a727",
   "metadata": {
    "deletable": false,
    "editable": false,
    "id": "e7a14c31"
   },
   "source": [
    "**Задание 1. Импортируйте библиотеку pandas. Считайте данные из csv-файла в датафрейм и сохраните в переменную `data`. Путь к файлу:**\n",
    "\n",
    "`/datasets/data.csv`"
   ]
  },
  {
   "cell_type": "code",
   "execution_count": 1,
   "id": "d106797f",
   "metadata": {
    "deletable": false,
    "id": "7bcf75c9"
   },
   "outputs": [],
   "source": [
    "import pandas as pd\n",
    "\n",
    "try:\n",
    "    data = pd.read_csv('/datasets/data.csv')\n",
    "except:\n",
    "    data = pd.read_csv('https://code.s3.yandex.net/datasets/data.csv')"
   ]
  },
  {
   "cell_type": "markdown",
   "id": "f8d88805",
   "metadata": {
    "deletable": false,
    "editable": false,
    "id": "b8038fe3"
   },
   "source": [
    "**Задание 2. Выведите первые 20 строчек датафрейма `data` на экран.**"
   ]
  },
  {
   "cell_type": "code",
   "execution_count": 2,
   "id": "33fe8aab",
   "metadata": {
    "deletable": false,
    "id": "2a7cab99",
    "outputId": "1a8f3ef2-d323-4ec2-ddf7-89670b5944c4"
   },
   "outputs": [
    {
     "data": {
      "text/html": [
       "<div>\n",
       "<style scoped>\n",
       "    .dataframe tbody tr th:only-of-type {\n",
       "        vertical-align: middle;\n",
       "    }\n",
       "\n",
       "    .dataframe tbody tr th {\n",
       "        vertical-align: top;\n",
       "    }\n",
       "\n",
       "    .dataframe thead th {\n",
       "        text-align: right;\n",
       "    }\n",
       "</style>\n",
       "<table border=\"1\" class=\"dataframe\">\n",
       "  <thead>\n",
       "    <tr style=\"text-align: right;\">\n",
       "      <th></th>\n",
       "      <th>children</th>\n",
       "      <th>days_employed</th>\n",
       "      <th>dob_years</th>\n",
       "      <th>education</th>\n",
       "      <th>education_id</th>\n",
       "      <th>family_status</th>\n",
       "      <th>family_status_id</th>\n",
       "      <th>gender</th>\n",
       "      <th>income_type</th>\n",
       "      <th>debt</th>\n",
       "      <th>total_income</th>\n",
       "      <th>purpose</th>\n",
       "    </tr>\n",
       "  </thead>\n",
       "  <tbody>\n",
       "    <tr>\n",
       "      <th>0</th>\n",
       "      <td>1</td>\n",
       "      <td>-8437.673028</td>\n",
       "      <td>42</td>\n",
       "      <td>высшее</td>\n",
       "      <td>0</td>\n",
       "      <td>женат / замужем</td>\n",
       "      <td>0</td>\n",
       "      <td>F</td>\n",
       "      <td>сотрудник</td>\n",
       "      <td>0</td>\n",
       "      <td>253875.639453</td>\n",
       "      <td>покупка жилья</td>\n",
       "    </tr>\n",
       "    <tr>\n",
       "      <th>1</th>\n",
       "      <td>1</td>\n",
       "      <td>-4024.803754</td>\n",
       "      <td>36</td>\n",
       "      <td>среднее</td>\n",
       "      <td>1</td>\n",
       "      <td>женат / замужем</td>\n",
       "      <td>0</td>\n",
       "      <td>F</td>\n",
       "      <td>сотрудник</td>\n",
       "      <td>0</td>\n",
       "      <td>112080.014102</td>\n",
       "      <td>приобретение автомобиля</td>\n",
       "    </tr>\n",
       "    <tr>\n",
       "      <th>2</th>\n",
       "      <td>0</td>\n",
       "      <td>-5623.422610</td>\n",
       "      <td>33</td>\n",
       "      <td>Среднее</td>\n",
       "      <td>1</td>\n",
       "      <td>женат / замужем</td>\n",
       "      <td>0</td>\n",
       "      <td>M</td>\n",
       "      <td>сотрудник</td>\n",
       "      <td>0</td>\n",
       "      <td>145885.952297</td>\n",
       "      <td>покупка жилья</td>\n",
       "    </tr>\n",
       "    <tr>\n",
       "      <th>3</th>\n",
       "      <td>3</td>\n",
       "      <td>-4124.747207</td>\n",
       "      <td>32</td>\n",
       "      <td>среднее</td>\n",
       "      <td>1</td>\n",
       "      <td>женат / замужем</td>\n",
       "      <td>0</td>\n",
       "      <td>M</td>\n",
       "      <td>сотрудник</td>\n",
       "      <td>0</td>\n",
       "      <td>267628.550329</td>\n",
       "      <td>дополнительное образование</td>\n",
       "    </tr>\n",
       "    <tr>\n",
       "      <th>4</th>\n",
       "      <td>0</td>\n",
       "      <td>340266.072047</td>\n",
       "      <td>53</td>\n",
       "      <td>среднее</td>\n",
       "      <td>1</td>\n",
       "      <td>гражданский брак</td>\n",
       "      <td>1</td>\n",
       "      <td>F</td>\n",
       "      <td>пенсионер</td>\n",
       "      <td>0</td>\n",
       "      <td>158616.077870</td>\n",
       "      <td>сыграть свадьбу</td>\n",
       "    </tr>\n",
       "    <tr>\n",
       "      <th>5</th>\n",
       "      <td>0</td>\n",
       "      <td>-926.185831</td>\n",
       "      <td>27</td>\n",
       "      <td>высшее</td>\n",
       "      <td>0</td>\n",
       "      <td>гражданский брак</td>\n",
       "      <td>1</td>\n",
       "      <td>M</td>\n",
       "      <td>компаньон</td>\n",
       "      <td>0</td>\n",
       "      <td>255763.565419</td>\n",
       "      <td>покупка жилья</td>\n",
       "    </tr>\n",
       "    <tr>\n",
       "      <th>6</th>\n",
       "      <td>0</td>\n",
       "      <td>-2879.202052</td>\n",
       "      <td>43</td>\n",
       "      <td>высшее</td>\n",
       "      <td>0</td>\n",
       "      <td>женат / замужем</td>\n",
       "      <td>0</td>\n",
       "      <td>F</td>\n",
       "      <td>компаньон</td>\n",
       "      <td>0</td>\n",
       "      <td>240525.971920</td>\n",
       "      <td>операции с жильем</td>\n",
       "    </tr>\n",
       "    <tr>\n",
       "      <th>7</th>\n",
       "      <td>0</td>\n",
       "      <td>-152.779569</td>\n",
       "      <td>50</td>\n",
       "      <td>СРЕДНЕЕ</td>\n",
       "      <td>1</td>\n",
       "      <td>женат / замужем</td>\n",
       "      <td>0</td>\n",
       "      <td>M</td>\n",
       "      <td>сотрудник</td>\n",
       "      <td>0</td>\n",
       "      <td>135823.934197</td>\n",
       "      <td>образование</td>\n",
       "    </tr>\n",
       "    <tr>\n",
       "      <th>8</th>\n",
       "      <td>2</td>\n",
       "      <td>-6929.865299</td>\n",
       "      <td>35</td>\n",
       "      <td>ВЫСШЕЕ</td>\n",
       "      <td>0</td>\n",
       "      <td>гражданский брак</td>\n",
       "      <td>1</td>\n",
       "      <td>F</td>\n",
       "      <td>сотрудник</td>\n",
       "      <td>0</td>\n",
       "      <td>95856.832424</td>\n",
       "      <td>на проведение свадьбы</td>\n",
       "    </tr>\n",
       "    <tr>\n",
       "      <th>9</th>\n",
       "      <td>0</td>\n",
       "      <td>-2188.756445</td>\n",
       "      <td>41</td>\n",
       "      <td>среднее</td>\n",
       "      <td>1</td>\n",
       "      <td>женат / замужем</td>\n",
       "      <td>0</td>\n",
       "      <td>M</td>\n",
       "      <td>сотрудник</td>\n",
       "      <td>0</td>\n",
       "      <td>144425.938277</td>\n",
       "      <td>покупка жилья для семьи</td>\n",
       "    </tr>\n",
       "    <tr>\n",
       "      <th>10</th>\n",
       "      <td>2</td>\n",
       "      <td>-4171.483647</td>\n",
       "      <td>36</td>\n",
       "      <td>высшее</td>\n",
       "      <td>0</td>\n",
       "      <td>женат / замужем</td>\n",
       "      <td>0</td>\n",
       "      <td>M</td>\n",
       "      <td>компаньон</td>\n",
       "      <td>0</td>\n",
       "      <td>113943.491460</td>\n",
       "      <td>покупка недвижимости</td>\n",
       "    </tr>\n",
       "    <tr>\n",
       "      <th>11</th>\n",
       "      <td>0</td>\n",
       "      <td>-792.701887</td>\n",
       "      <td>40</td>\n",
       "      <td>среднее</td>\n",
       "      <td>1</td>\n",
       "      <td>женат / замужем</td>\n",
       "      <td>0</td>\n",
       "      <td>F</td>\n",
       "      <td>сотрудник</td>\n",
       "      <td>0</td>\n",
       "      <td>77069.234271</td>\n",
       "      <td>покупка коммерческой недвижимости</td>\n",
       "    </tr>\n",
       "    <tr>\n",
       "      <th>12</th>\n",
       "      <td>0</td>\n",
       "      <td>NaN</td>\n",
       "      <td>65</td>\n",
       "      <td>среднее</td>\n",
       "      <td>1</td>\n",
       "      <td>гражданский брак</td>\n",
       "      <td>1</td>\n",
       "      <td>M</td>\n",
       "      <td>пенсионер</td>\n",
       "      <td>0</td>\n",
       "      <td>NaN</td>\n",
       "      <td>сыграть свадьбу</td>\n",
       "    </tr>\n",
       "    <tr>\n",
       "      <th>13</th>\n",
       "      <td>0</td>\n",
       "      <td>-1846.641941</td>\n",
       "      <td>54</td>\n",
       "      <td>неоконченное высшее</td>\n",
       "      <td>2</td>\n",
       "      <td>женат / замужем</td>\n",
       "      <td>0</td>\n",
       "      <td>F</td>\n",
       "      <td>сотрудник</td>\n",
       "      <td>0</td>\n",
       "      <td>130458.228857</td>\n",
       "      <td>приобретение автомобиля</td>\n",
       "    </tr>\n",
       "    <tr>\n",
       "      <th>14</th>\n",
       "      <td>0</td>\n",
       "      <td>-1844.956182</td>\n",
       "      <td>56</td>\n",
       "      <td>высшее</td>\n",
       "      <td>0</td>\n",
       "      <td>гражданский брак</td>\n",
       "      <td>1</td>\n",
       "      <td>F</td>\n",
       "      <td>компаньон</td>\n",
       "      <td>1</td>\n",
       "      <td>165127.911772</td>\n",
       "      <td>покупка жилой недвижимости</td>\n",
       "    </tr>\n",
       "    <tr>\n",
       "      <th>15</th>\n",
       "      <td>1</td>\n",
       "      <td>-972.364419</td>\n",
       "      <td>26</td>\n",
       "      <td>среднее</td>\n",
       "      <td>1</td>\n",
       "      <td>женат / замужем</td>\n",
       "      <td>0</td>\n",
       "      <td>F</td>\n",
       "      <td>сотрудник</td>\n",
       "      <td>0</td>\n",
       "      <td>116820.904450</td>\n",
       "      <td>строительство собственной недвижимости</td>\n",
       "    </tr>\n",
       "    <tr>\n",
       "      <th>16</th>\n",
       "      <td>0</td>\n",
       "      <td>-1719.934226</td>\n",
       "      <td>35</td>\n",
       "      <td>среднее</td>\n",
       "      <td>1</td>\n",
       "      <td>женат / замужем</td>\n",
       "      <td>0</td>\n",
       "      <td>F</td>\n",
       "      <td>сотрудник</td>\n",
       "      <td>0</td>\n",
       "      <td>289202.704229</td>\n",
       "      <td>недвижимость</td>\n",
       "    </tr>\n",
       "    <tr>\n",
       "      <th>17</th>\n",
       "      <td>0</td>\n",
       "      <td>-2369.999720</td>\n",
       "      <td>33</td>\n",
       "      <td>высшее</td>\n",
       "      <td>0</td>\n",
       "      <td>гражданский брак</td>\n",
       "      <td>1</td>\n",
       "      <td>M</td>\n",
       "      <td>сотрудник</td>\n",
       "      <td>0</td>\n",
       "      <td>90410.586745</td>\n",
       "      <td>строительство недвижимости</td>\n",
       "    </tr>\n",
       "    <tr>\n",
       "      <th>18</th>\n",
       "      <td>0</td>\n",
       "      <td>400281.136913</td>\n",
       "      <td>53</td>\n",
       "      <td>среднее</td>\n",
       "      <td>1</td>\n",
       "      <td>вдовец / вдова</td>\n",
       "      <td>2</td>\n",
       "      <td>F</td>\n",
       "      <td>пенсионер</td>\n",
       "      <td>0</td>\n",
       "      <td>56823.777243</td>\n",
       "      <td>на покупку подержанного автомобиля</td>\n",
       "    </tr>\n",
       "    <tr>\n",
       "      <th>19</th>\n",
       "      <td>0</td>\n",
       "      <td>-10038.818549</td>\n",
       "      <td>48</td>\n",
       "      <td>СРЕДНЕЕ</td>\n",
       "      <td>1</td>\n",
       "      <td>в разводе</td>\n",
       "      <td>3</td>\n",
       "      <td>F</td>\n",
       "      <td>сотрудник</td>\n",
       "      <td>0</td>\n",
       "      <td>242831.107982</td>\n",
       "      <td>на покупку своего автомобиля</td>\n",
       "    </tr>\n",
       "  </tbody>\n",
       "</table>\n",
       "</div>"
      ],
      "text/plain": [
       "    children  days_employed  dob_years            education  education_id  \\\n",
       "0          1   -8437.673028         42               высшее             0   \n",
       "1          1   -4024.803754         36              среднее             1   \n",
       "2          0   -5623.422610         33              Среднее             1   \n",
       "3          3   -4124.747207         32              среднее             1   \n",
       "4          0  340266.072047         53              среднее             1   \n",
       "5          0    -926.185831         27               высшее             0   \n",
       "6          0   -2879.202052         43               высшее             0   \n",
       "7          0    -152.779569         50              СРЕДНЕЕ             1   \n",
       "8          2   -6929.865299         35               ВЫСШЕЕ             0   \n",
       "9          0   -2188.756445         41              среднее             1   \n",
       "10         2   -4171.483647         36               высшее             0   \n",
       "11         0    -792.701887         40              среднее             1   \n",
       "12         0            NaN         65              среднее             1   \n",
       "13         0   -1846.641941         54  неоконченное высшее             2   \n",
       "14         0   -1844.956182         56               высшее             0   \n",
       "15         1    -972.364419         26              среднее             1   \n",
       "16         0   -1719.934226         35              среднее             1   \n",
       "17         0   -2369.999720         33               высшее             0   \n",
       "18         0  400281.136913         53              среднее             1   \n",
       "19         0  -10038.818549         48              СРЕДНЕЕ             1   \n",
       "\n",
       "       family_status  family_status_id gender income_type  debt  \\\n",
       "0    женат / замужем                 0      F   сотрудник     0   \n",
       "1    женат / замужем                 0      F   сотрудник     0   \n",
       "2    женат / замужем                 0      M   сотрудник     0   \n",
       "3    женат / замужем                 0      M   сотрудник     0   \n",
       "4   гражданский брак                 1      F   пенсионер     0   \n",
       "5   гражданский брак                 1      M   компаньон     0   \n",
       "6    женат / замужем                 0      F   компаньон     0   \n",
       "7    женат / замужем                 0      M   сотрудник     0   \n",
       "8   гражданский брак                 1      F   сотрудник     0   \n",
       "9    женат / замужем                 0      M   сотрудник     0   \n",
       "10   женат / замужем                 0      M   компаньон     0   \n",
       "11   женат / замужем                 0      F   сотрудник     0   \n",
       "12  гражданский брак                 1      M   пенсионер     0   \n",
       "13   женат / замужем                 0      F   сотрудник     0   \n",
       "14  гражданский брак                 1      F   компаньон     1   \n",
       "15   женат / замужем                 0      F   сотрудник     0   \n",
       "16   женат / замужем                 0      F   сотрудник     0   \n",
       "17  гражданский брак                 1      M   сотрудник     0   \n",
       "18    вдовец / вдова                 2      F   пенсионер     0   \n",
       "19         в разводе                 3      F   сотрудник     0   \n",
       "\n",
       "     total_income                                 purpose  \n",
       "0   253875.639453                           покупка жилья  \n",
       "1   112080.014102                 приобретение автомобиля  \n",
       "2   145885.952297                           покупка жилья  \n",
       "3   267628.550329              дополнительное образование  \n",
       "4   158616.077870                         сыграть свадьбу  \n",
       "5   255763.565419                           покупка жилья  \n",
       "6   240525.971920                       операции с жильем  \n",
       "7   135823.934197                             образование  \n",
       "8    95856.832424                   на проведение свадьбы  \n",
       "9   144425.938277                 покупка жилья для семьи  \n",
       "10  113943.491460                    покупка недвижимости  \n",
       "11   77069.234271       покупка коммерческой недвижимости  \n",
       "12            NaN                         сыграть свадьбу  \n",
       "13  130458.228857                 приобретение автомобиля  \n",
       "14  165127.911772              покупка жилой недвижимости  \n",
       "15  116820.904450  строительство собственной недвижимости  \n",
       "16  289202.704229                            недвижимость  \n",
       "17   90410.586745              строительство недвижимости  \n",
       "18   56823.777243      на покупку подержанного автомобиля  \n",
       "19  242831.107982            на покупку своего автомобиля  "
      ]
     },
     "execution_count": 2,
     "metadata": {},
     "output_type": "execute_result"
    }
   ],
   "source": [
    "data.head(20)"
   ]
  },
  {
   "cell_type": "markdown",
   "id": "5b831322",
   "metadata": {
    "deletable": false,
    "editable": false,
    "id": "1c12e233"
   },
   "source": [
    "**Задание 3. Выведите основную информацию о датафрейме с помощью метода `info()`.**"
   ]
  },
  {
   "cell_type": "code",
   "execution_count": 3,
   "id": "2fa493f7",
   "metadata": {
    "deletable": false,
    "id": "2b757bca",
    "outputId": "15376089-8dad-46c9-b520-c05248d43158"
   },
   "outputs": [
    {
     "name": "stdout",
     "output_type": "stream",
     "text": [
      "<class 'pandas.core.frame.DataFrame'>\n",
      "RangeIndex: 21525 entries, 0 to 21524\n",
      "Data columns (total 12 columns):\n",
      " #   Column            Non-Null Count  Dtype  \n",
      "---  ------            --------------  -----  \n",
      " 0   children          21525 non-null  int64  \n",
      " 1   days_employed     19351 non-null  float64\n",
      " 2   dob_years         21525 non-null  int64  \n",
      " 3   education         21525 non-null  object \n",
      " 4   education_id      21525 non-null  int64  \n",
      " 5   family_status     21525 non-null  object \n",
      " 6   family_status_id  21525 non-null  int64  \n",
      " 7   gender            21525 non-null  object \n",
      " 8   income_type       21525 non-null  object \n",
      " 9   debt              21525 non-null  int64  \n",
      " 10  total_income      19351 non-null  float64\n",
      " 11  purpose           21525 non-null  object \n",
      "dtypes: float64(2), int64(5), object(5)\n",
      "memory usage: 2.0+ MB\n"
     ]
    }
   ],
   "source": [
    "data.info()"
   ]
  },
  {
   "cell_type": "markdown",
   "id": "6758328d",
   "metadata": {
    "deletable": false,
    "editable": false,
    "id": "333ec665"
   },
   "source": [
    "## Предобработка данных"
   ]
  },
  {
   "cell_type": "markdown",
   "id": "24eaf7d5",
   "metadata": {
    "deletable": false,
    "editable": false,
    "id": "02d92d53"
   },
   "source": [
    "### Удаление пропусков"
   ]
  },
  {
   "cell_type": "markdown",
   "id": "d3973da6",
   "metadata": {
    "deletable": false,
    "editable": false,
    "id": "cd84967c"
   },
   "source": [
    "**Задание 4. Выведите количество пропущенных значений для каждого столбца. Используйте комбинацию двух методов.**"
   ]
  },
  {
   "cell_type": "code",
   "execution_count": 4,
   "id": "b2e9fde8",
   "metadata": {
    "deletable": false,
    "id": "7f9b2309",
    "outputId": "81f4d817-781c-465c-ed15-91ce4446810d"
   },
   "outputs": [
    {
     "data": {
      "text/plain": [
       "children               0\n",
       "days_employed       2174\n",
       "dob_years              0\n",
       "education              0\n",
       "education_id           0\n",
       "family_status          0\n",
       "family_status_id       0\n",
       "gender                 0\n",
       "income_type            0\n",
       "debt                   0\n",
       "total_income        2174\n",
       "purpose                0\n",
       "dtype: int64"
      ]
     },
     "execution_count": 4,
     "metadata": {},
     "output_type": "execute_result"
    }
   ],
   "source": [
    "data.isna().sum()"
   ]
  },
  {
   "cell_type": "code",
   "execution_count": 5,
   "id": "7aa34e17",
   "metadata": {},
   "outputs": [
    {
     "name": "stdout",
     "output_type": "stream",
     "text": [
      "income_type\n",
      "безработный            2\n",
      "в декрете              1\n",
      "госслужащий         1312\n",
      "компаньон           4577\n",
      "пенсионер           3443\n",
      "предприниматель        1\n",
      "сотрудник          10014\n",
      "студент                1\n",
      "Name: total_income, dtype: int64\n"
     ]
    }
   ],
   "source": [
    "print(data.groupby('income_type')['total_income'].count())"
   ]
  },
  {
   "cell_type": "markdown",
   "id": "7731d77c",
   "metadata": {},
   "source": [
    "Выведем на экран количество заполненных ячеек дохода по группам занятости"
   ]
  },
  {
   "cell_type": "code",
   "execution_count": 6,
   "id": "f5d28c68",
   "metadata": {},
   "outputs": [
    {
     "name": "stdout",
     "output_type": "stream",
     "text": [
      "income_type\n",
      "безработный            2\n",
      "в декрете              1\n",
      "госслужащий         1312\n",
      "компаньон           4577\n",
      "пенсионер           3443\n",
      "предприниматель        1\n",
      "сотрудник          10014\n",
      "студент                1\n",
      "Name: days_employed, dtype: int64\n"
     ]
    }
   ],
   "source": [
    "print(data.groupby('income_type')['days_employed'].count()) "
   ]
  },
  {
   "cell_type": "markdown",
   "id": "02ddfc14",
   "metadata": {},
   "source": [
    "Выведем на экран количество заполненных ячеек столбца \"стаж\" по группам занятости. Количество данных в ячейках одинаковое - значит пропуски расположены в одних и тех же строках."
   ]
  },
  {
   "cell_type": "markdown",
   "id": "6a6d8486",
   "metadata": {
    "deletable": false,
    "editable": false,
    "id": "db86e27b"
   },
   "source": [
    "**Задание 5. В двух столбцах есть пропущенные значения. Один из них — `days_employed`. Пропуски в этом столбце вы обработаете на следующем этапе. Другой столбец с пропущенными значениями — `total_income` — хранит данные о доходах. На сумму дохода сильнее всего влияет тип занятости, поэтому заполнить пропуски в этом столбце нужно медианным значением по каждому типу из столбца `income_type`. Например, у человека с типом занятости `сотрудник` пропуск в столбце `total_income` должен быть заполнен медианным доходом среди всех записей с тем же типом.**"
   ]
  },
  {
   "cell_type": "code",
   "execution_count": 7,
   "id": "c556d538",
   "metadata": {
    "deletable": false,
    "id": "42006a93"
   },
   "outputs": [],
   "source": [
    "for t in data['income_type'].unique():\n",
    "    data.loc[(data['income_type'] == t) & (data['total_income'].isna()), 'total_income'] = \\\n",
    "    data.loc[(data['income_type'] == t), 'total_income'].median()"
   ]
  },
  {
   "cell_type": "markdown",
   "id": "82c8272d",
   "metadata": {
    "deletable": false,
    "editable": false,
    "id": "89da5ece"
   },
   "source": [
    "### Обработка аномальных значений"
   ]
  },
  {
   "cell_type": "markdown",
   "id": "b0acdc17",
   "metadata": {
    "deletable": false,
    "editable": false,
    "id": "57964554"
   },
   "source": [
    "**Задание 6. В данных могут встречаться артефакты (аномалии) — значения, которые не отражают действительность и появились по какой-то ошибке. таким артефактом будет отрицательное количество дней трудового стажа в столбце `days_employed`. Для реальных данных это нормально. Обработайте значения в этом столбце: замените все отрицательные значения положительными с помощью метода `abs()`.**"
   ]
  },
  {
   "cell_type": "code",
   "execution_count": 8,
   "id": "c08ef5ed",
   "metadata": {
    "deletable": false,
    "id": "f6f055bf"
   },
   "outputs": [],
   "source": [
    "data['days_employed'] = data['days_employed'].abs()"
   ]
  },
  {
   "cell_type": "markdown",
   "id": "ab11e92f",
   "metadata": {
    "deletable": false,
    "editable": false,
    "id": "6107dd2f"
   },
   "source": [
    "**Задание 7. Для каждого типа занятости выведите медианное значение трудового стажа `days_employed` в днях.**"
   ]
  },
  {
   "cell_type": "code",
   "execution_count": 9,
   "id": "8ec062b5",
   "metadata": {
    "deletable": false,
    "id": "85a5faf6",
    "outputId": "801ef80e-522b-4668-f34e-565af7432bcf"
   },
   "outputs": [
    {
     "data": {
      "text/plain": [
       "income_type\n",
       "безработный        366413.652744\n",
       "в декрете            3296.759962\n",
       "госслужащий          2689.368353\n",
       "компаньон            1547.382223\n",
       "пенсионер          365213.306266\n",
       "предприниматель       520.848083\n",
       "сотрудник            1574.202821\n",
       "студент               578.751554\n",
       "Name: days_employed, dtype: float64"
      ]
     },
     "execution_count": 9,
     "metadata": {},
     "output_type": "execute_result"
    }
   ],
   "source": [
    "data.groupby('income_type')['days_employed'].agg('median')"
   ]
  },
  {
   "cell_type": "markdown",
   "id": "419f1c19",
   "metadata": {
    "deletable": false,
    "editable": false,
    "id": "38d1a030"
   },
   "source": [
    "У двух типов (безработные и пенсионеры) получатся аномально большие значения. Исправить такие значения сложно, поэтому оставьте их как есть. Тем более этот столбец не понадобится вам для исследования."
   ]
  },
  {
   "cell_type": "markdown",
   "id": "bed5294f",
   "metadata": {
    "deletable": false,
    "editable": false,
    "id": "d8a9f147"
   },
   "source": [
    "**Задание 8. Выведите перечень уникальных значений столбца `children`.**"
   ]
  },
  {
   "cell_type": "code",
   "execution_count": 10,
   "id": "e5eb9732",
   "metadata": {
    "deletable": false,
    "id": "ef5056eb",
    "outputId": "6975b15c-7f95-4697-d16d-a0c79b657b03"
   },
   "outputs": [
    {
     "data": {
      "text/plain": [
       "array([ 1,  0,  3,  2, -1,  4, 20,  5])"
      ]
     },
     "execution_count": 10,
     "metadata": {},
     "output_type": "execute_result"
    }
   ],
   "source": [
    "data['children'].unique()"
   ]
  },
  {
   "cell_type": "markdown",
   "id": "a10305eb",
   "metadata": {
    "deletable": false,
    "editable": false,
    "id": "40b9ebf2"
   },
   "source": [
    "**Задание 9. В столбце `children` есть два аномальных значения. Удалите строки, в которых встречаются такие аномальные значения из датафрейма `data`.**"
   ]
  },
  {
   "cell_type": "code",
   "execution_count": 11,
   "id": "452a7e4f",
   "metadata": {
    "deletable": false,
    "id": "3ff9801d"
   },
   "outputs": [],
   "source": [
    "data = data[(data['children'] != -1) & (data['children'] != 20)]"
   ]
  },
  {
   "cell_type": "markdown",
   "id": "df30ade2",
   "metadata": {
    "deletable": false,
    "editable": false,
    "id": "bbc4d0ce"
   },
   "source": [
    "**Задание 10. Ещё раз выведите перечень уникальных значений столбца `children`, чтобы убедиться, что артефакты удалены.**"
   ]
  },
  {
   "cell_type": "code",
   "execution_count": 12,
   "id": "f87d9947",
   "metadata": {
    "deletable": false,
    "id": "ad4fa8b7",
    "outputId": "b2097101-d49d-44d9-901b-32a65c9463d1"
   },
   "outputs": [
    {
     "data": {
      "text/plain": [
       "array([1, 0, 3, 2, 4, 5])"
      ]
     },
     "execution_count": 12,
     "metadata": {},
     "output_type": "execute_result"
    }
   ],
   "source": [
    "data['children'].unique()"
   ]
  },
  {
   "cell_type": "markdown",
   "id": "c9d7aae8",
   "metadata": {
    "deletable": false,
    "editable": false,
    "id": "75440b63"
   },
   "source": [
    "### Удаление пропусков (продолжение)"
   ]
  },
  {
   "cell_type": "markdown",
   "id": "afcc4fbb",
   "metadata": {
    "deletable": false,
    "editable": false,
    "id": "f4ea573f"
   },
   "source": [
    "**Задание 11. Заполните пропуски в столбце `days_employed` медианными значениями по каждого типа занятости `income_type`.**"
   ]
  },
  {
   "cell_type": "code",
   "execution_count": 13,
   "id": "e0c6f913",
   "metadata": {
    "deletable": false,
    "id": "af6b1a7e"
   },
   "outputs": [],
   "source": [
    "for t in data['income_type'].unique():\n",
    "    data.loc[(data['income_type'] == t) & (data['days_employed'].isna()), 'days_employed'] = \\\n",
    "    data.loc[(data['income_type'] == t), 'days_employed'].median()"
   ]
  },
  {
   "cell_type": "markdown",
   "id": "9fe33105",
   "metadata": {
    "deletable": false,
    "editable": false,
    "id": "2753f40d"
   },
   "source": [
    "**Задание 12. Убедитесь, что все пропуски заполнены. Проверьте себя и ещё раз выведите количество пропущенных значений для каждого столбца с помощью двух методов.**"
   ]
  },
  {
   "cell_type": "code",
   "execution_count": 14,
   "id": "eb1ac9f6",
   "metadata": {
    "deletable": false,
    "id": "55f78bc2",
    "outputId": "8da1e4e1-358e-4e87-98c9-f261bce0a7b2"
   },
   "outputs": [
    {
     "data": {
      "text/plain": [
       "children            0\n",
       "days_employed       0\n",
       "dob_years           0\n",
       "education           0\n",
       "education_id        0\n",
       "family_status       0\n",
       "family_status_id    0\n",
       "gender              0\n",
       "income_type         0\n",
       "debt                0\n",
       "total_income        0\n",
       "purpose             0\n",
       "dtype: int64"
      ]
     },
     "execution_count": 14,
     "metadata": {},
     "output_type": "execute_result"
    }
   ],
   "source": [
    "data.isna().sum()"
   ]
  },
  {
   "cell_type": "markdown",
   "id": "3f68a491",
   "metadata": {
    "deletable": false,
    "editable": false,
    "id": "ddc81e43"
   },
   "source": [
    "### Изменение типов данных"
   ]
  },
  {
   "cell_type": "markdown",
   "id": "f2c1bdb8",
   "metadata": {
    "deletable": false,
    "editable": false,
    "id": "42d19d24"
   },
   "source": [
    "**Задание 13. Замените вещественный тип данных в столбце `total_income` на целочисленный с помощью метода `astype()`.**"
   ]
  },
  {
   "cell_type": "code",
   "execution_count": 15,
   "id": "157c1be0",
   "metadata": {
    "deletable": false,
    "id": "920b65ad"
   },
   "outputs": [],
   "source": [
    "data['total_income'] = data['total_income'].astype(int)"
   ]
  },
  {
   "cell_type": "markdown",
   "id": "afaf57c4",
   "metadata": {
    "deletable": false,
    "editable": false,
    "id": "80c420ba"
   },
   "source": [
    "### Обработка дубликатов"
   ]
  },
  {
   "cell_type": "markdown",
   "id": "bbdf333d",
   "metadata": {
    "deletable": false,
    "editable": false
   },
   "source": [
    "**Задание 14. Обработайте неявные дубликаты в столбце `education`. В этом столбце есть одни и те же значения, но записанные по-разному: с использованием заглавных и строчных букв. Приведите их к нижнему регистру. Проверьте остальные столбцы.**"
   ]
  },
  {
   "cell_type": "code",
   "execution_count": 16,
   "id": "9a8914eb",
   "metadata": {
    "deletable": false
   },
   "outputs": [],
   "source": [
    "data['education'] = data['education'].str.lower()"
   ]
  },
  {
   "cell_type": "markdown",
   "id": "00977c9e",
   "metadata": {
    "deletable": false,
    "editable": false,
    "id": "dc587695"
   },
   "source": [
    "**Задание 15. Выведите на экран количество строк-дубликатов в данных. Если такие строки присутствуют, удалите их.**"
   ]
  },
  {
   "cell_type": "code",
   "execution_count": 17,
   "id": "966070e2",
   "metadata": {
    "deletable": false,
    "id": "3ee445e4",
    "outputId": "9684deba-1934-42d1-99e1-cda61740f822"
   },
   "outputs": [
    {
     "data": {
      "text/plain": [
       "71"
      ]
     },
     "execution_count": 17,
     "metadata": {},
     "output_type": "execute_result"
    }
   ],
   "source": [
    "data.duplicated().sum()"
   ]
  },
  {
   "cell_type": "code",
   "execution_count": 18,
   "id": "f5254d8a",
   "metadata": {
    "deletable": false,
    "id": "8575fe05"
   },
   "outputs": [],
   "source": [
    "data = data.drop_duplicates()"
   ]
  },
  {
   "cell_type": "markdown",
   "id": "ef93dacb",
   "metadata": {
    "deletable": false,
    "editable": false,
    "id": "9904cf55"
   },
   "source": [
    "### Категоризация данных"
   ]
  },
  {
   "cell_type": "markdown",
   "id": "5c4d610e",
   "metadata": {
    "deletable": false,
    "editable": false,
    "id": "72fcc8a2"
   },
   "source": [
    "**Задание 16. На основании диапазонов, указанных ниже, создайте в датафрейме `data` столбец `total_income_category` с категориями:**\n",
    "\n",
    "- 0–30000 — `'E'`;\n",
    "- 30001–50000 — `'D'`;\n",
    "- 50001–200000 — `'C'`;\n",
    "- 200001–1000000 — `'B'`;\n",
    "- 1000001 и выше — `'A'`.\n",
    "\n",
    "\n",
    "**Например, кредитополучателю с доходом 25000 нужно назначить категорию `'E'`, а клиенту, получающему 235000, — `'B'`. Используйте собственную функцию с именем `categorize_income()` и метод `apply()`.**"
   ]
  },
  {
   "cell_type": "code",
   "execution_count": 19,
   "id": "1d9cd7cb",
   "metadata": {
    "deletable": false,
    "id": "e1771346"
   },
   "outputs": [],
   "source": [
    "def categorize_income(income):\n",
    "    try:\n",
    "        if 0 <= income <= 30000:\n",
    "            return 'E'\n",
    "        elif 30001 <= income <= 50000:\n",
    "            return 'D'\n",
    "        elif 50001 <= income <= 200000:\n",
    "            return 'C'\n",
    "        elif 200001 <= income <= 1000000:\n",
    "            return 'B'\n",
    "        elif income >= 1000001:\n",
    "            return 'A'\n",
    "    except:\n",
    "        pass"
   ]
  },
  {
   "cell_type": "code",
   "execution_count": 20,
   "id": "8e02bfb0",
   "metadata": {
    "deletable": false,
    "id": "d5f3586d"
   },
   "outputs": [],
   "source": [
    "data['total_income_category'] = data['total_income'].apply(categorize_income)"
   ]
  },
  {
   "cell_type": "markdown",
   "id": "7cb0f677",
   "metadata": {
    "deletable": false,
    "editable": false,
    "id": "dde49b5c"
   },
   "source": [
    "**Задание 17. Выведите на экран перечень уникальных целей взятия кредита из столбца `purpose`.**"
   ]
  },
  {
   "cell_type": "code",
   "execution_count": 21,
   "id": "388995a0",
   "metadata": {
    "deletable": false,
    "id": "f67ce9b3",
    "outputId": "673c12d9-7d7e-4ae0-9812-c622c89dd244"
   },
   "outputs": [
    {
     "data": {
      "text/plain": [
       "array(['покупка жилья', 'приобретение автомобиля',\n",
       "       'дополнительное образование', 'сыграть свадьбу',\n",
       "       'операции с жильем', 'образование', 'на проведение свадьбы',\n",
       "       'покупка жилья для семьи', 'покупка недвижимости',\n",
       "       'покупка коммерческой недвижимости', 'покупка жилой недвижимости',\n",
       "       'строительство собственной недвижимости', 'недвижимость',\n",
       "       'строительство недвижимости', 'на покупку подержанного автомобиля',\n",
       "       'на покупку своего автомобиля',\n",
       "       'операции с коммерческой недвижимостью',\n",
       "       'строительство жилой недвижимости', 'жилье',\n",
       "       'операции со своей недвижимостью', 'автомобили',\n",
       "       'заняться образованием', 'сделка с подержанным автомобилем',\n",
       "       'получение образования', 'автомобиль', 'свадьба',\n",
       "       'получение дополнительного образования', 'покупка своего жилья',\n",
       "       'операции с недвижимостью', 'получение высшего образования',\n",
       "       'свой автомобиль', 'сделка с автомобилем',\n",
       "       'профильное образование', 'высшее образование',\n",
       "       'покупка жилья для сдачи', 'на покупку автомобиля', 'ремонт жилью',\n",
       "       'заняться высшим образованием'], dtype=object)"
      ]
     },
     "execution_count": 21,
     "metadata": {},
     "output_type": "execute_result"
    }
   ],
   "source": [
    "data['purpose'].unique()"
   ]
  },
  {
   "cell_type": "markdown",
   "id": "56c7e0d8",
   "metadata": {
    "deletable": false,
    "editable": false,
    "id": "85d0aef0"
   },
   "source": [
    "**Задание 18. Создайте функцию, которая на основании данных из столбца `purpose` сформирует новый столбец `purpose_category`, в который войдут следующие категории:**\n",
    "\n",
    "- `'операции с автомобилем'`,\n",
    "- `'операции с недвижимостью'`,\n",
    "- `'проведение свадьбы'`,\n",
    "- `'получение образования'`.\n",
    "\n",
    "**Например, если в столбце `purpose` находится подстрока `'на покупку автомобиля'`, то в столбце `purpose_category` должна появиться строка `'операции с автомобилем'`.**\n",
    "\n",
    "**Используйте собственную функцию с именем `categorize_purpose()` и метод `apply()`. Изучите данные в столбце `purpose` и определите, какие подстроки помогут вам правильно определить категорию.**"
   ]
  },
  {
   "cell_type": "code",
   "execution_count": 22,
   "id": "c330b38f",
   "metadata": {
    "deletable": false,
    "id": "e149fab4"
   },
   "outputs": [],
   "source": [
    "def categorize_purpose(row):\n",
    "    try:\n",
    "        if 'автом' in row:\n",
    "            return 'операции с автомобилем'\n",
    "        elif 'жил' in row or 'недвиж' in row:\n",
    "            return 'операции с недвижимостью'\n",
    "        elif 'свад' in row:\n",
    "            return 'проведение свадьбы'\n",
    "        elif 'образов' in row:\n",
    "            return 'получение образования'\n",
    "    except:\n",
    "        return 'нет категории'"
   ]
  },
  {
   "cell_type": "code",
   "execution_count": 23,
   "id": "45bcafa3",
   "metadata": {
    "deletable": false,
    "id": "bf36e69b"
   },
   "outputs": [],
   "source": [
    "data['purpose_category'] = data['purpose'].apply(categorize_purpose)"
   ]
  },
  {
   "cell_type": "markdown",
   "id": "57235205",
   "metadata": {
    "deletable": false,
    "editable": false,
    "id": "09b242bf"
   },
   "source": [
    "### Шаг 3. Исследуйте данные и ответьте на вопросы"
   ]
  },
  {
   "cell_type": "markdown",
   "id": "066bbcaa",
   "metadata": {
    "deletable": false,
    "editable": false,
    "id": "c5d66278"
   },
   "source": [
    "#### 3.1 Есть ли зависимость между количеством детей и возвратом кредита в срок?"
   ]
  },
  {
   "cell_type": "code",
   "execution_count": 24,
   "id": "6053fe37",
   "metadata": {
    "deletable": false,
    "id": "2cacfc4a"
   },
   "outputs": [],
   "source": [
    "data_pivot_children = data.pivot_table(index=['children'], values='debt', aggfunc=['sum','count']) # Ваш код будет здесь. Вы можете создавать новые ячейки.\n",
    "# с помощью pivot_table создадим сводную таблицу из представленного датафрейма"
   ]
  },
  {
   "cell_type": "code",
   "execution_count": 25,
   "id": "8aac7561",
   "metadata": {},
   "outputs": [
    {
     "name": "stdout",
     "output_type": "stream",
     "text": [
      "           sum  count\n",
      "          debt   debt\n",
      "children             \n",
      "0         1063  14091\n",
      "1          444   4808\n",
      "2          194   2052\n",
      "3           27    330\n",
      "4            4     41\n",
      "5            0      9\n"
     ]
    }
   ],
   "source": [
    "print(data_pivot_children) # выведем сводную таблицу на экран"
   ]
  },
  {
   "cell_type": "markdown",
   "id": "8be78650",
   "metadata": {},
   "source": [
    "Получившаяся таблица не позволяет наглядно сделать вывод о зависимости между количеством детей и возвратом кредита в срок, так как содержит только количество просроченных платежей(sum debt) и общее количество(count debt). Для придания сводной таблице наглядности, добавим новый столбец, рассчитывающий долю просроченных платежей от общего количества платежей."
   ]
  },
  {
   "cell_type": "code",
   "execution_count": 26,
   "id": "bcbd129c",
   "metadata": {},
   "outputs": [],
   "source": [
    "def ratio(pdSerises):\n",
    "    return str(round((pdSerises.sum() / pdSerises.count()) * 100, 2)) + '%'\n",
    "# создаем собственную функцию"
   ]
  },
  {
   "cell_type": "code",
   "execution_count": 27,
   "id": "c9eeae4f",
   "metadata": {},
   "outputs": [],
   "source": [
    "data_pivot_children = data.pivot_table(index=['children'], values='debt', aggfunc=['sum','count',ratio])\n",
    "# с помощью pivot_table создаем сводную таблицу уже с учетом процентного соотношения"
   ]
  },
  {
   "cell_type": "code",
   "execution_count": 28,
   "id": "022b15cc",
   "metadata": {},
   "outputs": [
    {
     "name": "stdout",
     "output_type": "stream",
     "text": [
      "           sum  count  ratio\n",
      "          debt   debt   debt\n",
      "children                    \n",
      "0         1063  14091  7.54%\n",
      "1          444   4808  9.23%\n",
      "2          194   2052  9.45%\n",
      "3           27    330  8.18%\n",
      "4            4     41  9.76%\n",
      "5            0      9   0.0%\n"
     ]
    }
   ],
   "source": [
    "print(data_pivot_children)\n",
    "# выведем сводную таблицу на экран"
   ]
  },
  {
   "cell_type": "markdown",
   "id": "922d0102",
   "metadata": {},
   "source": [
    "Сводная таблица становится более читаемой и пригодной для анализа зависимости между количеством детей и возвратом кредита в срок. Можно отметить, что многодетные семьи (семьи, где 3 и более ребенка) неохотно берут кредиты (невысокое количество взятых кредитов). Таким образом, из-за того, что количество замещиков, у которых больше двух детей, сильно отличается по количеству от остальной выборки, есть смысл объединить их в одну категорию. "
   ]
  },
  {
   "cell_type": "code",
   "execution_count": 29,
   "id": "712cd480",
   "metadata": {},
   "outputs": [],
   "source": [
    "# Поскольку больше двух детей данных в принципе не очень много объединяем их в одну категорию\n",
    "def make_children_category(children):\n",
    "    if children == 1:\n",
    "        return '1 ребенок'\n",
    "    if children == 2:\n",
    "        return '2 ребенка'\n",
    "    if children >= 3:\n",
    "        return 'Много детей'\n",
    "    return 'Нет детей'\n",
    "\n",
    "data['children_category'] = data['children'].apply(make_children_category)"
   ]
  },
  {
   "cell_type": "code",
   "execution_count": 30,
   "id": "1447fab3",
   "metadata": {},
   "outputs": [
    {
     "name": "stdout",
     "output_type": "stream",
     "text": [
      "Нет детей      14091\n",
      "1 ребенок       4808\n",
      "2 ребенка       2052\n",
      "Много детей      380\n",
      "Name: children_category, dtype: int64\n"
     ]
    }
   ],
   "source": [
    "# проверим, что все получилось\n",
    "print(data['children_category'].value_counts())"
   ]
  },
  {
   "cell_type": "markdown",
   "id": "75431f14",
   "metadata": {},
   "source": [
    "Повторяем свои действия по получению сводной таблицы"
   ]
  },
  {
   "cell_type": "code",
   "execution_count": 31,
   "id": "9d8b8a9b",
   "metadata": {},
   "outputs": [],
   "source": [
    "data_pivot_children = data.pivot_table(index=['children_category'], values='debt', aggfunc=['sum','count',ratio])"
   ]
  },
  {
   "cell_type": "code",
   "execution_count": 32,
   "id": "47e1e66e",
   "metadata": {},
   "outputs": [
    {
     "name": "stdout",
     "output_type": "stream",
     "text": [
      "                    sum  count  ratio\n",
      "                   debt   debt   debt\n",
      "children_category                    \n",
      "1 ребенок           444   4808  9.23%\n",
      "2 ребенка           194   2052  9.45%\n",
      "Много детей          31    380  8.16%\n",
      "Нет детей          1063  14091  7.54%\n"
     ]
    }
   ],
   "source": [
    "print(data_pivot_children)"
   ]
  },
  {
   "cell_type": "markdown",
   "id": "70a1f71e",
   "metadata": {
    "deletable": false,
    "id": "3a6b99ec"
   },
   "source": [
    "**Вывод:** Наибольший процент невозврата кредита в срок у заемщиков с 2 детьми. Самые надежные заемщики с самой низкой долей просрочек по кредиту - это заемщики без детей. Таким образом, при появлении каждого нового ребенка увеличивается кредитная нагрузка, что влияет на способность возврата кредита. Кредит не бояться брать те, у кого нет детей, а чем детей больше - тем меньше желающих."
   ]
  },
  {
   "cell_type": "markdown",
   "id": "e2203c85",
   "metadata": {
    "deletable": false,
    "editable": false,
    "id": "97be82ca"
   },
   "source": [
    "#### 3.2 Есть ли зависимость между семейным положением и возвратом кредита в срок?"
   ]
  },
  {
   "cell_type": "code",
   "execution_count": 33,
   "id": "91aa64a9",
   "metadata": {
    "deletable": false,
    "id": "dc3f7ee8"
   },
   "outputs": [],
   "source": [
    "# Ваш код будет здесь. Вы можете создавать новые ячейки.\n",
    "data_pivot_family_status = data.pivot_table(index=['family_status'], values='debt', aggfunc=['sum','count',ratio])"
   ]
  },
  {
   "cell_type": "code",
   "execution_count": 34,
   "id": "368f1231",
   "metadata": {},
   "outputs": [
    {
     "name": "stdout",
     "output_type": "stream",
     "text": [
      "                       sum  count  ratio\n",
      "                      debt   debt   debt\n",
      "family_status                           \n",
      "Не женат / не замужем  273   2796  9.76%\n",
      "в разводе               84   1189  7.06%\n",
      "вдовец / вдова          63    951  6.62%\n",
      "гражданский брак       385   4134  9.31%\n",
      "женат / замужем        927  12261  7.56%\n"
     ]
    }
   ],
   "source": [
    "print(data_pivot_family_status)"
   ]
  },
  {
   "cell_type": "markdown",
   "id": "56f00527",
   "metadata": {
    "deletable": false,
    "id": "1cef7837"
   },
   "source": [
    "**Вывод:** Да, зависимость есть. Наибольший процент невозврата кредита в срок у одиноких заемщиков (не женат/не замужем – 9,76% ). Но, те кто в разводе (7,06%) или со статусом вдовец/вдова (6,62%) чаще платят в срок, чем люди в браке (7,56%). "
   ]
  },
  {
   "cell_type": "markdown",
   "id": "174b3e21",
   "metadata": {
    "deletable": false,
    "editable": false,
    "id": "1e8b2fca"
   },
   "source": [
    "#### 3.3 Есть ли зависимость между уровнем дохода и возвратом кредита в срок?"
   ]
  },
  {
   "cell_type": "code",
   "execution_count": 35,
   "id": "f720f22d",
   "metadata": {},
   "outputs": [],
   "source": [
    "# Ваш код будет здесь. Вы можете создавать новые ячейки.\n",
    "# Уровень дохода тоже нужно определить по категориям и присовить им наименования, удобные для анализа.\n",
    "# Я создала функцию и выделила следующие категории дохода. Они соответствуют ранее проведенному анализу по категориям.\n",
    "def make_name_total_income(total_income):\n",
    "    if total_income <= 30000:\n",
    "        return 'до 30'\n",
    "    if total_income <= 50000:\n",
    "        return 'от 30 до 50'\n",
    "    if total_income <= 200000:\n",
    "        return 'от 50 до 200'\n",
    "    if total_income <= 1000000:\n",
    "        return 'от 200 до 1000'\n",
    "    return 'больше 1000'\n",
    "\n",
    "data['name_total_income'] = data['total_income'].apply(make_name_total_income)"
   ]
  },
  {
   "cell_type": "code",
   "execution_count": 36,
   "id": "563cf15a",
   "metadata": {},
   "outputs": [
    {
     "name": "stdout",
     "output_type": "stream",
     "text": [
      "от 50 до 200      15921\n",
      "от 200 до 1000     5014\n",
      "от 30 до 50         349\n",
      "больше 1000          25\n",
      "до 30                22\n",
      "Name: name_total_income, dtype: int64\n"
     ]
    }
   ],
   "source": [
    "# проверим результат\n",
    "print(data['name_total_income'].value_counts())"
   ]
  },
  {
   "cell_type": "code",
   "execution_count": 37,
   "id": "94f039ae",
   "metadata": {
    "deletable": false,
    "id": "cd7e3720"
   },
   "outputs": [],
   "source": [
    "data_pivot_total_income = data.pivot_table(index=['name_total_income'], values='debt', aggfunc=['sum','count',ratio])  "
   ]
  },
  {
   "cell_type": "code",
   "execution_count": 38,
   "id": "73a179aa",
   "metadata": {},
   "outputs": [
    {
     "name": "stdout",
     "output_type": "stream",
     "text": [
      "                    sum  count  ratio\n",
      "                   debt   debt   debt\n",
      "name_total_income                    \n",
      "больше 1000           2     25   8.0%\n",
      "до 30                 2     22  9.09%\n",
      "от 200 до 1000      354   5014  7.06%\n",
      "от 30 до 50          21    349  6.02%\n",
      "от 50 до 200       1353  15921   8.5%\n"
     ]
    }
   ],
   "source": [
    "print(data_pivot_total_income)"
   ]
  },
  {
   "cell_type": "markdown",
   "id": "70aa10c6",
   "metadata": {
    "deletable": false,
    "id": "e8593def"
   },
   "source": [
    "**Вывод:** Самая малочисленная группа по взятию кредита - это потенциальные заемщики с уровнем дохода менее 30 тыс рублей, в этой же группе самая высокая доля просрочек по кредиту: доля невозврата в срок 9,09%. Также малочисленная группа по взятию кредита, это люди с доходом более 1 млн рублей. Таким образом, судя по уровню дохода, кредит не особо интересен тем, кто зарабатывает очень много, как и тем, кто зарабатывает мало. Основная группа заемщиков - люди с доходом от 50 до 200 тыс рублей. При росте дохода (при переходе  из группы \"от 50 до 200\" в группу \"от 200 до 1000\") уменьшается вероятность невозврата кредита в срок. Делаю вывод, что исправнее всего платят заемщики с доходом от 200 до 1000 тыс. рублей.\n",
    "Получается, самая \"опасная\" группа потенциальных заемщиков - это те заемщики, у которых доход от 50 до 200 тыс.рублей, так называемый условный средний класс: количество таких заемщиков больше всего среди остальных групп, и процент невозврата кредита в срок не самый маленький."
   ]
  },
  {
   "cell_type": "markdown",
   "id": "1a8c6033",
   "metadata": {
    "deletable": false,
    "editable": false,
    "id": "99ecbd1f"
   },
   "source": [
    "#### 3.4 Как разные цели кредита влияют на его возврат в срок?"
   ]
  },
  {
   "cell_type": "code",
   "execution_count": 39,
   "id": "8f32ec7b",
   "metadata": {
    "deletable": false,
    "id": "2b687290"
   },
   "outputs": [],
   "source": [
    "# Ваш код будет здесь. Вы можете создавать новые ячейки.\n",
    "data_pivot_purpose_category = data.pivot_table(index=['purpose_category'], values='debt', aggfunc=['sum','count',ratio])"
   ]
  },
  {
   "cell_type": "code",
   "execution_count": 40,
   "id": "19ba68db",
   "metadata": {},
   "outputs": [
    {
     "name": "stdout",
     "output_type": "stream",
     "text": [
      "                          sum  count  ratio\n",
      "                         debt   debt   debt\n",
      "purpose_category                           \n",
      "операции с автомобилем    400   4279  9.35%\n",
      "операции с недвижимостью  780  10751  7.26%\n",
      "получение образования     369   3988  9.25%\n",
      "проведение свадьбы        183   2313  7.91%\n"
     ]
    }
   ],
   "source": [
    "print(data_pivot_purpose_category)"
   ]
  },
  {
   "cell_type": "markdown",
   "id": "e0be9cd4",
   "metadata": {
    "deletable": false,
    "id": "b4bb2ce6"
   },
   "source": [
    "**Вывод:** Операции с недвижимостью - самая популярная категория среди кредитов, и в этой же категории самые лучшие показатели возврата в срок. Для этого могут быть следующие причины: люди, покупающие жилье, планируют семейную жизнь, или у них уже есть семья. Это чаще всего люди с постоянным доходом и осмысленным принятием такого важного решения, как покупка недвижимости."
   ]
  },
  {
   "cell_type": "markdown",
   "id": "6d50359b",
   "metadata": {
    "deletable": false,
    "editable": false,
    "id": "09c3ac4c"
   },
   "source": [
    "#### 3.5 Приведите возможные причины появления пропусков в исходных данных."
   ]
  },
  {
   "cell_type": "markdown",
   "id": "219236a7",
   "metadata": {
    "deletable": false,
    "id": "9da2ceda"
   },
   "source": [
    "*Ответ:* Основные пропуски в исходных данных наблюдались в следующих столбцах:days_imployed(общий трудовой стаж в днях) и total_income (ежемесячный доход). Причиной пропуска значений в столбце days_imployed(общий трудовой стаж в днях) может быть:\n",
    "1. ошибка при заведении информации в базу, неправильный ввод данных.\n",
    "2. отсутствие возможности получения или обработки данных.\n",
    "\n",
    "Причиной пропуска значений в столбце total_income (ежемесячный доход) может быть:\n",
    "1. ошибка при заведении информации в базу, неправильный ввод данных.\n",
    "2. нежелание разглашать информацию о доходах. "
   ]
  },
  {
   "cell_type": "markdown",
   "id": "769b7e43",
   "metadata": {},
   "source": [
    "Основные пропуски в исходных данных наблюдались в следующих столбцах: days_imployed (общий трудовой стаж в днях) и total_income (ежемесячный доход). Выше, я дополнительно сделала расчет количества пропусков, а также где они располагаются. Количество пропусков в двух вышеназванных столбцах составило по 2174 шт., то есть равное количество в двух столбцах. Построчное сравнение выявило тот факт, что значения отсутствуют в одних и тех же строках. То есть, люди не указывали стаж и доход одновременно. Так как наименования типов занятости носят размытый характер (под «сотрудником» может подразумеваться, как продавец в магазине, так и курьер, и сотрудник банка и пр.) пропуски в доходах и стаже наблюдаются среди всех многочисленных представленных групп. Таким образом, невозможно сделать о вывод о наличии пропусков только у одной группы занятых.\n",
    "\n",
    "Возможной причиной пропуска данных в столбце ежемесячный доход может являться тот факт, что потенциальный заемщик является «зарплатным» клиентом, то есть имеет карту банка и получает на нее заработную плату, таким образом, у банка есть информация о доходах заемщика, а также о его занятости (ведь это \"зарплатная\" карта). Эта же самая причина может относиться к пенсионерам, которые получают пенсию на карту банка\n",
    "\n",
    "По возможной причине пропуска данных в столбце общий трудовой стаж: в некоторых случаях Трудовой кодекс предполагает работу по трудовому договору, но без занесения сведений об этом в трудовую книжку. Таким образом, стаж работы по контракту (договору ГПХ) нигде учитывается: ни при оформлении пособия по безработице, ни при оформлении больничного листа, контракт также не предполагает оплачиваемый отпуск. Сделаю предположение, что и банк может не рассматривать такой стаж в связи с отсутствием подтвержденной записи в трудовой книжке. "
   ]
  },
  {
   "cell_type": "markdown",
   "id": "8c59433f",
   "metadata": {},
   "source": [
    "Действительно, в наших данных пропуски в столбцах \"трудовой стаж\" и \"ежемесячный доход\" абсолютно идентичны. Количество строк с отсутствующими данными в обоих указанных столбцах совпадает и равно 2174. Маловероятно, что специалисты по выдаче кредитов, заполнив все без исключения ячейки других столбцов по каждому кредитополучателю, оставляли незаполненными именно два показателя, и сделали это ровно 2174 раза в каждом столбце. Даже не проводя проверку, во всех ли случаях незаполненные ячейки находятся в одной и то же строке с высокой долей вероятности можно утверждать, что произошла техническая ошибка при формировании таблицы с исходными данными (либо некий сбой во время выгрузки данных на анализ, либо при объединении данных в единый файл, который также должен был передаваться на анализ, либо эти данные не собирались). Это моё ИМХО (врачи говорят – «второе мнение»)."
   ]
  },
  {
   "cell_type": "markdown",
   "id": "c155cffb",
   "metadata": {
    "deletable": false,
    "editable": false,
    "id": "7b0487d6"
   },
   "source": [
    "#### 3.6 Объясните, почему заполнить пропуски медианным значением — лучшее решение для количественных переменных."
   ]
  },
  {
   "cell_type": "markdown",
   "id": "0dd2cecb",
   "metadata": {
    "deletable": false,
    "id": "7ecf2b8e"
   },
   "source": [
    "*Ответ:* Медиана — это число в середине упорядоченного набора чисел (выборки): половина данных находится ниже этого значения, а половина выше. Согласно определению, среднее арифметическое зависит от всех элементов выборки, наличие экстремальных значений значительно влияет на результат. В таких ситуациях, как наша выборка, где представлены доходы и до 30 тыс рублей и свыше 1 млн рублей, и количество данных в этих двух группах невелико, среднее арифметическое может исказить смысл числовых данных и привести к неверному выводу. Поэтому замена пропусков медианным значением  - это лучшее решение."
   ]
  },
  {
   "cell_type": "markdown",
   "id": "3d5604af",
   "metadata": {
    "deletable": false,
    "editable": false,
    "id": "6db5255a"
   },
   "source": [
    "### Шаг 4: общий вывод."
   ]
  },
  {
   "cell_type": "markdown",
   "id": "a47b8ef6",
   "metadata": {
    "deletable": false,
    "id": "bad65432"
   },
   "source": [
    "Напишите ваш общий вывод. В результате проделанной работы по анализу зависимости семейного положения и количества детей клиента на факт погашения кредита в срок можно сделать вывод, что идеальными заемщиками для банка при рассмотрении заявок на кредит являются:\n",
    "1. желающие взять кредит для покупки недвижимости (ипотеку).\n",
    "2. семейные люди без детей.\n",
    "3. с уровнем дохода от 200 тыс.рублей до 1 млн. рублей"
   ]
  },
  {
   "cell_type": "markdown",
   "id": "fa388747",
   "metadata": {},
   "source": [
    " Новый общий вывод:\n",
    "Было проведено исследование, в ходе которого надо было разобраться, как влияют различные параметры (семейное положение, количество детей, доход клиента, а также цели кредита) на факт погашения кредита в срок. Входные данные от банка — статистика о платёжеспособности клиентов. Результаты исследования будут учтены при построении модели кредитного скоринга – специальной системы, которая оценивает способность потенциального заемщика вернуть кредит банку. Считается, что люди с похожими параметрами примерно одинаково обращаются с финансами. Поэтому банки сравнивают потенциальных заемщиков с другими людьми, которые уже брали похожие кредиты.\n",
    "\n",
    "В ходе исследования были выдвинуты следующие предположения для проверки:\n",
    "\n",
    "    Предположение 1: количество детей влияет на погашение кредита в срок\n",
    "    Предположение 2: семейное положение влияет на факт погашения кредита в срок\n",
    "    Предположение 3: уровень дохода влияет на факт погашения кредита в срок\n",
    "    Предположение 4: цель кредита влияет на факт погашения кредита в срок.\n",
    "\n",
    "В результате удалось выявить следующие зависимости.\n",
    "\n",
    "Предположение 1 частично подтверждено: для более точных выводов необходимо больше данных по клиентам, у которых 3 и более ребенка.\n",
    "\n",
    "    7,54% - доля просроченных кредитов у заемщиков без детей\n",
    "    9,23% - доля просроченных кредитов у заемщиков с 1 ребенком\n",
    "    9,45% - доля просроченных кредитов у заемщиков с 2 детьми\n",
    "\n",
    "Рекомендация: провести дополнительное исследование на большей выборке данных.\n",
    "\n",
    "Предположение 2 подтверждено:\n",
    "\n",
    "    у неженатых клиентов(9,76%), и у тех, кто состоит в гражданском браке (9,31%) выше вероятность стать должником.\n",
    "    те, кто в разводе (7,06%), женат/замужем(7,56%) или вдовец/вдова (6,62%) менее вероятно становятся должниками.\n",
    "\n",
    "Рекомендация: разница между высоким и низким процентом невозврата кредита достаточно невелико. Существует вероятность перехода статуса потенциальных заемщиков из одной группы в другую. Поэтому данное предположение возможно учитывать в скоринговой модели банка, однакое оно не должно быть определеяющим параметром.\n",
    "\n",
    "Предположение 3 частично подтверждено: недостаточно данных по клиентам с уровнем дохода в следующих группах: до 30 тыс. рублей, от 30 до 50 тыс. рублей и от 1 млн. рублей и выше.\n",
    "\n",
    "    7,06% - доля просроченных кредитов у заемщиков с уровнем дохода от 200 до 1000\n",
    "    8,50% - доля просроченных кредитов у заемщиков с уровнем дохода от 50 до 200\n",
    "\n",
    "Рекомендация: провести дополнительное исследование на большей выборке данных.\n",
    "\n",
    "Предположение 4 подтверждено:\n",
    "\n",
    "    7,26% - доля просроченных кредитов, целью которых было приобретение недвижимости.\n",
    "    7,91% - доля просроченных кредитов, целью которых было проведение свадьбы.\n",
    "    9,35% - доля просроченных кредитов, целью которых было приобретение автомобиля.\n",
    "    9,25% - доля просроченных кредитов, целью которых было получение образования.\n",
    "\n",
    "Рекомендация: так как предположение подтверждено, данный параметр может быть включен в расчет скоринговой системы банка. Как и другие параметры банк должен рассматривать их в совокупности, оценивая общий шанс возврата кредита в срок.\n",
    "\n",
    "Общие рекомендации:\n",
    "\n",
    "1. необходимо учитывать параметры в совокупности.\n",
    "2. специалистам банка можно учитывать зависимости из второго и четвертого предположения (семейное положение и цели кредита).\n",
    "3. необходимо собрать более полную выборку для повторной проверки первого и третьего предположений.\n",
    "\n"
   ]
  }
 ],
 "metadata": {
  "ExecuteTimeLog": [
   {
    "duration": 47,
    "start_time": "2022-12-31T14:04:44.658Z"
   },
   {
    "duration": 1110,
    "start_time": "2022-12-31T14:05:01.666Z"
   },
   {
    "duration": 22,
    "start_time": "2022-12-31T14:05:02.778Z"
   },
   {
    "duration": 14,
    "start_time": "2022-12-31T14:05:02.802Z"
   },
   {
    "duration": 9,
    "start_time": "2022-12-31T14:05:02.817Z"
   },
   {
    "duration": 33,
    "start_time": "2022-12-31T14:05:02.828Z"
   },
   {
    "duration": 36,
    "start_time": "2022-12-31T14:05:02.863Z"
   },
   {
    "duration": 15,
    "start_time": "2022-12-31T14:05:02.901Z"
   },
   {
    "duration": 5,
    "start_time": "2022-12-31T14:05:02.918Z"
   },
   {
    "duration": 9,
    "start_time": "2022-12-31T14:05:02.925Z"
   },
   {
    "duration": 5,
    "start_time": "2022-12-31T14:05:02.936Z"
   },
   {
    "duration": 54,
    "start_time": "2022-12-31T14:05:02.943Z"
   },
   {
    "duration": 9,
    "start_time": "2022-12-31T14:05:02.999Z"
   },
   {
    "duration": 7,
    "start_time": "2022-12-31T14:05:03.009Z"
   },
   {
    "duration": 10,
    "start_time": "2022-12-31T14:05:03.019Z"
   },
   {
    "duration": 21,
    "start_time": "2022-12-31T14:05:03.031Z"
   },
   {
    "duration": 47,
    "start_time": "2022-12-31T14:05:03.054Z"
   },
   {
    "duration": 4,
    "start_time": "2022-12-31T14:05:03.102Z"
   },
   {
    "duration": 12,
    "start_time": "2022-12-31T14:05:03.107Z"
   },
   {
    "duration": 10,
    "start_time": "2022-12-31T14:05:03.120Z"
   },
   {
    "duration": 5,
    "start_time": "2022-12-31T14:05:03.131Z"
   },
   {
    "duration": 14,
    "start_time": "2022-12-31T14:05:03.138Z"
   },
   {
    "duration": 80,
    "start_time": "2022-12-31T14:05:03.153Z"
   },
   {
    "duration": 0,
    "start_time": "2022-12-31T14:05:03.235Z"
   },
   {
    "duration": 0,
    "start_time": "2022-12-31T14:05:03.236Z"
   },
   {
    "duration": 0,
    "start_time": "2022-12-31T14:05:03.239Z"
   },
   {
    "duration": 19,
    "start_time": "2022-12-31T14:05:26.360Z"
   },
   {
    "duration": 15,
    "start_time": "2022-12-31T14:06:38.870Z"
   },
   {
    "duration": 20,
    "start_time": "2022-12-31T14:06:49.623Z"
   },
   {
    "duration": 13,
    "start_time": "2022-12-31T14:07:36.861Z"
   },
   {
    "duration": 9,
    "start_time": "2022-12-31T14:07:48.620Z"
   },
   {
    "duration": 743,
    "start_time": "2023-01-01T08:13:51.608Z"
   },
   {
    "duration": 20,
    "start_time": "2023-01-01T08:13:52.353Z"
   },
   {
    "duration": 14,
    "start_time": "2023-01-01T08:13:52.375Z"
   },
   {
    "duration": 9,
    "start_time": "2023-01-01T08:13:52.390Z"
   },
   {
    "duration": 43,
    "start_time": "2023-01-01T08:13:52.402Z"
   },
   {
    "duration": 3,
    "start_time": "2023-01-01T08:13:52.447Z"
   },
   {
    "duration": 18,
    "start_time": "2023-01-01T08:13:52.452Z"
   },
   {
    "duration": 4,
    "start_time": "2023-01-01T08:13:52.473Z"
   },
   {
    "duration": 8,
    "start_time": "2023-01-01T08:13:52.479Z"
   },
   {
    "duration": 5,
    "start_time": "2023-01-01T08:13:52.489Z"
   },
   {
    "duration": 45,
    "start_time": "2023-01-01T08:13:52.496Z"
   },
   {
    "duration": 8,
    "start_time": "2023-01-01T08:13:52.543Z"
   },
   {
    "duration": 7,
    "start_time": "2023-01-01T08:13:52.553Z"
   },
   {
    "duration": 11,
    "start_time": "2023-01-01T08:13:52.563Z"
   },
   {
    "duration": 43,
    "start_time": "2023-01-01T08:13:52.575Z"
   },
   {
    "duration": 17,
    "start_time": "2023-01-01T08:13:52.619Z"
   },
   {
    "duration": 4,
    "start_time": "2023-01-01T08:13:52.637Z"
   },
   {
    "duration": 13,
    "start_time": "2023-01-01T08:13:52.642Z"
   },
   {
    "duration": 5,
    "start_time": "2023-01-01T08:13:52.656Z"
   },
   {
    "duration": 5,
    "start_time": "2023-01-01T08:13:52.663Z"
   },
   {
    "duration": 13,
    "start_time": "2023-01-01T08:13:52.669Z"
   },
   {
    "duration": 42,
    "start_time": "2023-01-01T08:13:52.683Z"
   },
   {
    "duration": 2,
    "start_time": "2023-01-01T08:13:52.726Z"
   },
   {
    "duration": 10,
    "start_time": "2023-01-01T08:13:52.730Z"
   },
   {
    "duration": 4,
    "start_time": "2023-01-01T08:13:52.742Z"
   },
   {
    "duration": 66,
    "start_time": "2023-01-01T08:26:07.946Z"
   },
   {
    "duration": 496,
    "start_time": "2023-01-01T08:26:37.590Z"
   },
   {
    "duration": 20,
    "start_time": "2023-01-01T08:26:38.087Z"
   },
   {
    "duration": 15,
    "start_time": "2023-01-01T08:26:38.109Z"
   },
   {
    "duration": 9,
    "start_time": "2023-01-01T08:26:38.125Z"
   },
   {
    "duration": 32,
    "start_time": "2023-01-01T08:26:38.136Z"
   },
   {
    "duration": 5,
    "start_time": "2023-01-01T08:26:38.169Z"
   },
   {
    "duration": 10,
    "start_time": "2023-01-01T08:26:38.176Z"
   },
   {
    "duration": 5,
    "start_time": "2023-01-01T08:26:38.187Z"
   },
   {
    "duration": 22,
    "start_time": "2023-01-01T08:26:38.194Z"
   },
   {
    "duration": 3,
    "start_time": "2023-01-01T08:26:38.218Z"
   },
   {
    "duration": 32,
    "start_time": "2023-01-01T08:26:38.222Z"
   },
   {
    "duration": 12,
    "start_time": "2023-01-01T08:26:38.255Z"
   },
   {
    "duration": 10,
    "start_time": "2023-01-01T08:26:38.268Z"
   },
   {
    "duration": 11,
    "start_time": "2023-01-01T08:26:38.280Z"
   },
   {
    "duration": 34,
    "start_time": "2023-01-01T08:26:38.293Z"
   },
   {
    "duration": 16,
    "start_time": "2023-01-01T08:26:38.329Z"
   },
   {
    "duration": 3,
    "start_time": "2023-01-01T08:26:38.347Z"
   },
   {
    "duration": 11,
    "start_time": "2023-01-01T08:26:38.352Z"
   },
   {
    "duration": 6,
    "start_time": "2023-01-01T08:26:38.364Z"
   },
   {
    "duration": 3,
    "start_time": "2023-01-01T08:26:38.372Z"
   },
   {
    "duration": 38,
    "start_time": "2023-01-01T08:26:38.377Z"
   },
   {
    "duration": 67,
    "start_time": "2023-01-01T08:26:38.417Z"
   },
   {
    "duration": 0,
    "start_time": "2023-01-01T08:26:38.486Z"
   },
   {
    "duration": 0,
    "start_time": "2023-01-01T08:26:38.487Z"
   },
   {
    "duration": 0,
    "start_time": "2023-01-01T08:26:38.489Z"
   },
   {
    "duration": 0,
    "start_time": "2023-01-01T08:26:38.490Z"
   },
   {
    "duration": 13,
    "start_time": "2023-01-01T08:30:59.173Z"
   },
   {
    "duration": 15,
    "start_time": "2023-01-01T08:44:17.929Z"
   },
   {
    "duration": 13,
    "start_time": "2023-01-01T08:47:59.806Z"
   },
   {
    "duration": 5,
    "start_time": "2023-01-01T08:48:03.604Z"
   },
   {
    "duration": 15,
    "start_time": "2023-01-01T08:50:15.380Z"
   },
   {
    "duration": 13,
    "start_time": "2023-01-01T08:51:09.594Z"
   },
   {
    "duration": 5,
    "start_time": "2023-01-01T08:51:13.758Z"
   },
   {
    "duration": 12,
    "start_time": "2023-01-01T08:56:25.874Z"
   },
   {
    "duration": 5,
    "start_time": "2023-01-01T08:56:29.720Z"
   },
   {
    "duration": 522,
    "start_time": "2023-01-01T09:02:27.677Z"
   },
   {
    "duration": 5,
    "start_time": "2023-01-01T09:02:33.692Z"
   },
   {
    "duration": 56,
    "start_time": "2023-01-01T09:17:57.113Z"
   },
   {
    "duration": 43,
    "start_time": "2023-01-01T09:18:35.236Z"
   },
   {
    "duration": 3,
    "start_time": "2023-01-01T09:20:25.396Z"
   },
   {
    "duration": 6,
    "start_time": "2023-01-01T09:20:28.906Z"
   },
   {
    "duration": 54,
    "start_time": "2023-01-02T07:40:40.462Z"
   },
   {
    "duration": 41,
    "start_time": "2023-01-02T07:43:10.151Z"
   },
   {
    "duration": 964,
    "start_time": "2023-01-02T07:43:18.752Z"
   },
   {
    "duration": 22,
    "start_time": "2023-01-02T07:43:19.718Z"
   },
   {
    "duration": 14,
    "start_time": "2023-01-02T07:43:19.741Z"
   },
   {
    "duration": 10,
    "start_time": "2023-01-02T07:43:19.756Z"
   },
   {
    "duration": 29,
    "start_time": "2023-01-02T07:43:19.768Z"
   },
   {
    "duration": 23,
    "start_time": "2023-01-02T07:43:19.799Z"
   },
   {
    "duration": 10,
    "start_time": "2023-01-02T07:43:19.823Z"
   },
   {
    "duration": 7,
    "start_time": "2023-01-02T07:43:19.835Z"
   },
   {
    "duration": 9,
    "start_time": "2023-01-02T07:43:19.843Z"
   },
   {
    "duration": 12,
    "start_time": "2023-01-02T07:43:19.853Z"
   },
   {
    "duration": 33,
    "start_time": "2023-01-02T07:43:19.866Z"
   },
   {
    "duration": 21,
    "start_time": "2023-01-02T07:43:19.900Z"
   },
   {
    "duration": 3,
    "start_time": "2023-01-02T07:43:19.922Z"
   },
   {
    "duration": 16,
    "start_time": "2023-01-02T07:43:19.927Z"
   },
   {
    "duration": 20,
    "start_time": "2023-01-02T07:43:19.944Z"
   },
   {
    "duration": 15,
    "start_time": "2023-01-02T07:43:19.965Z"
   },
   {
    "duration": 3,
    "start_time": "2023-01-02T07:43:19.981Z"
   },
   {
    "duration": 13,
    "start_time": "2023-01-02T07:43:19.985Z"
   },
   {
    "duration": 22,
    "start_time": "2023-01-02T07:43:19.999Z"
   },
   {
    "duration": 4,
    "start_time": "2023-01-02T07:43:20.023Z"
   },
   {
    "duration": 23,
    "start_time": "2023-01-02T07:43:20.029Z"
   },
   {
    "duration": 11,
    "start_time": "2023-01-02T07:43:20.053Z"
   },
   {
    "duration": 4,
    "start_time": "2023-01-02T07:43:20.065Z"
   },
   {
    "duration": 6,
    "start_time": "2023-01-02T07:43:20.070Z"
   },
   {
    "duration": 13,
    "start_time": "2023-01-02T07:43:20.077Z"
   },
   {
    "duration": 7,
    "start_time": "2023-01-02T07:43:20.092Z"
   },
   {
    "duration": 12,
    "start_time": "2023-01-02T07:43:20.100Z"
   },
   {
    "duration": 5,
    "start_time": "2023-01-02T07:43:20.114Z"
   },
   {
    "duration": 8,
    "start_time": "2023-01-02T07:43:28.247Z"
   },
   {
    "duration": 4,
    "start_time": "2023-01-02T07:43:35.597Z"
   },
   {
    "duration": 47,
    "start_time": "2023-01-02T07:44:35.704Z"
   },
   {
    "duration": 8,
    "start_time": "2023-01-02T07:44:44.589Z"
   },
   {
    "duration": 5,
    "start_time": "2023-01-02T07:44:47.614Z"
   },
   {
    "duration": 49,
    "start_time": "2023-01-02T07:45:43.896Z"
   },
   {
    "duration": 0,
    "start_time": "2023-01-02T07:45:43.946Z"
   },
   {
    "duration": 13,
    "start_time": "2023-01-02T07:45:59.423Z"
   },
   {
    "duration": 4,
    "start_time": "2023-01-02T07:46:02.625Z"
   },
   {
    "duration": 742,
    "start_time": "2023-01-02T07:49:12.009Z"
   },
   {
    "duration": 3,
    "start_time": "2023-01-02T07:50:59.719Z"
   },
   {
    "duration": 29,
    "start_time": "2023-01-02T07:51:35.149Z"
   },
   {
    "duration": 5,
    "start_time": "2023-01-02T07:51:51.128Z"
   },
   {
    "duration": 47,
    "start_time": "2023-01-02T08:10:11.955Z"
   },
   {
    "duration": 7,
    "start_time": "2023-01-02T08:10:27.734Z"
   },
   {
    "duration": 773,
    "start_time": "2023-01-02T08:10:56.469Z"
   },
   {
    "duration": 721,
    "start_time": "2023-01-02T08:11:41.986Z"
   },
   {
    "duration": 9,
    "start_time": "2023-01-02T08:13:02.202Z"
   },
   {
    "duration": 5,
    "start_time": "2023-01-02T08:13:37.214Z"
   },
   {
    "duration": 3,
    "start_time": "2023-01-02T08:16:32.405Z"
   },
   {
    "duration": 27,
    "start_time": "2023-01-02T08:16:33.279Z"
   },
   {
    "duration": 5,
    "start_time": "2023-01-02T08:16:34.044Z"
   },
   {
    "duration": 25,
    "start_time": "2023-01-02T08:34:31.410Z"
   },
   {
    "duration": 5,
    "start_time": "2023-01-02T08:34:32.587Z"
   },
   {
    "duration": 1194,
    "start_time": "2023-01-02T08:48:15.894Z"
   },
   {
    "duration": 7,
    "start_time": "2023-01-02T08:48:19.932Z"
   },
   {
    "duration": 45,
    "start_time": "2023-01-03T07:47:57.141Z"
   },
   {
    "duration": 687,
    "start_time": "2023-01-03T07:48:06.108Z"
   },
   {
    "duration": 21,
    "start_time": "2023-01-03T07:48:06.797Z"
   },
   {
    "duration": 14,
    "start_time": "2023-01-03T07:48:06.819Z"
   },
   {
    "duration": 17,
    "start_time": "2023-01-03T07:48:06.835Z"
   },
   {
    "duration": 31,
    "start_time": "2023-01-03T07:48:06.853Z"
   },
   {
    "duration": 3,
    "start_time": "2023-01-03T07:48:06.886Z"
   },
   {
    "duration": 10,
    "start_time": "2023-01-03T07:48:06.891Z"
   },
   {
    "duration": 4,
    "start_time": "2023-01-03T07:48:06.921Z"
   },
   {
    "duration": 36,
    "start_time": "2023-01-03T07:48:06.926Z"
   },
   {
    "duration": 8,
    "start_time": "2023-01-03T07:48:06.964Z"
   },
   {
    "duration": 37,
    "start_time": "2023-01-03T07:48:06.974Z"
   },
   {
    "duration": 16,
    "start_time": "2023-01-03T07:48:07.012Z"
   },
   {
    "duration": 3,
    "start_time": "2023-01-03T07:48:07.030Z"
   },
   {
    "duration": 10,
    "start_time": "2023-01-03T07:48:07.036Z"
   },
   {
    "duration": 21,
    "start_time": "2023-01-03T07:48:07.048Z"
   },
   {
    "duration": 15,
    "start_time": "2023-01-03T07:48:07.070Z"
   },
   {
    "duration": 3,
    "start_time": "2023-01-03T07:48:07.087Z"
   },
   {
    "duration": 32,
    "start_time": "2023-01-03T07:48:07.091Z"
   },
   {
    "duration": 16,
    "start_time": "2023-01-03T07:48:07.125Z"
   },
   {
    "duration": 4,
    "start_time": "2023-01-03T07:48:07.143Z"
   },
   {
    "duration": 12,
    "start_time": "2023-01-03T07:48:07.148Z"
   },
   {
    "duration": 15,
    "start_time": "2023-01-03T07:48:07.161Z"
   },
   {
    "duration": 4,
    "start_time": "2023-01-03T07:48:07.177Z"
   },
   {
    "duration": 13,
    "start_time": "2023-01-03T07:48:07.183Z"
   },
   {
    "duration": 25,
    "start_time": "2023-01-03T07:48:07.197Z"
   },
   {
    "duration": 4,
    "start_time": "2023-01-03T07:48:07.224Z"
   },
   {
    "duration": 13,
    "start_time": "2023-01-03T07:48:07.230Z"
   },
   {
    "duration": 19,
    "start_time": "2023-01-03T07:48:07.244Z"
   },
   {
    "duration": 7,
    "start_time": "2023-01-03T07:48:07.265Z"
   },
   {
    "duration": 48,
    "start_time": "2023-01-03T07:48:07.273Z"
   },
   {
    "duration": 5,
    "start_time": "2023-01-03T07:48:07.323Z"
   },
   {
    "duration": 25,
    "start_time": "2023-01-03T07:48:07.329Z"
   },
   {
    "duration": 6,
    "start_time": "2023-01-03T07:48:07.355Z"
   },
   {
    "duration": 12,
    "start_time": "2023-01-03T07:48:07.362Z"
   },
   {
    "duration": 5,
    "start_time": "2023-01-03T07:48:07.376Z"
   },
   {
    "duration": 1188,
    "start_time": "2023-01-03T07:48:07.382Z"
   },
   {
    "duration": 8,
    "start_time": "2023-01-03T07:48:08.572Z"
   },
   {
    "duration": 8,
    "start_time": "2023-01-03T07:48:08.581Z"
   },
   {
    "duration": 9,
    "start_time": "2023-01-03T07:48:13.361Z"
   },
   {
    "duration": 6,
    "start_time": "2023-01-03T07:48:24.473Z"
   },
   {
    "duration": 1204,
    "start_time": "2023-01-03T07:50:13.713Z"
   },
   {
    "duration": 7,
    "start_time": "2023-01-03T07:50:15.062Z"
   },
   {
    "duration": 24,
    "start_time": "2023-01-03T07:50:53.248Z"
   },
   {
    "duration": 5,
    "start_time": "2023-01-03T07:51:00.063Z"
   },
   {
    "duration": 26,
    "start_time": "2023-01-03T08:00:03.912Z"
   },
   {
    "duration": 6,
    "start_time": "2023-01-03T08:00:04.744Z"
   },
   {
    "duration": 731,
    "start_time": "2023-01-04T07:55:58.322Z"
   },
   {
    "duration": 20,
    "start_time": "2023-01-04T07:55:59.055Z"
   },
   {
    "duration": 14,
    "start_time": "2023-01-04T07:55:59.076Z"
   },
   {
    "duration": 11,
    "start_time": "2023-01-04T07:55:59.091Z"
   },
   {
    "duration": 50,
    "start_time": "2023-01-04T07:55:59.105Z"
   },
   {
    "duration": 4,
    "start_time": "2023-01-04T07:55:59.156Z"
   },
   {
    "duration": 14,
    "start_time": "2023-01-04T07:55:59.161Z"
   },
   {
    "duration": 4,
    "start_time": "2023-01-04T07:55:59.177Z"
   },
   {
    "duration": 19,
    "start_time": "2023-01-04T07:55:59.183Z"
   },
   {
    "duration": 12,
    "start_time": "2023-01-04T07:55:59.204Z"
   },
   {
    "duration": 36,
    "start_time": "2023-01-04T07:55:59.218Z"
   },
   {
    "duration": 8,
    "start_time": "2023-01-04T07:55:59.256Z"
   },
   {
    "duration": 3,
    "start_time": "2023-01-04T07:55:59.266Z"
   },
   {
    "duration": 11,
    "start_time": "2023-01-04T07:55:59.272Z"
   },
   {
    "duration": 31,
    "start_time": "2023-01-04T07:55:59.285Z"
   },
   {
    "duration": 15,
    "start_time": "2023-01-04T07:55:59.318Z"
   },
   {
    "duration": 3,
    "start_time": "2023-01-04T07:55:59.335Z"
   },
   {
    "duration": 13,
    "start_time": "2023-01-04T07:55:59.340Z"
   },
   {
    "duration": 14,
    "start_time": "2023-01-04T07:55:59.355Z"
   },
   {
    "duration": 5,
    "start_time": "2023-01-04T07:55:59.371Z"
   },
   {
    "duration": 26,
    "start_time": "2023-01-04T07:55:59.377Z"
   },
   {
    "duration": 22,
    "start_time": "2023-01-04T07:55:59.406Z"
   },
   {
    "duration": 5,
    "start_time": "2023-01-04T07:55:59.429Z"
   },
   {
    "duration": 5,
    "start_time": "2023-01-04T07:55:59.436Z"
   },
   {
    "duration": 27,
    "start_time": "2023-01-04T07:55:59.442Z"
   },
   {
    "duration": 4,
    "start_time": "2023-01-04T07:55:59.471Z"
   },
   {
    "duration": 13,
    "start_time": "2023-01-04T07:55:59.496Z"
   },
   {
    "duration": 10,
    "start_time": "2023-01-04T07:55:59.511Z"
   },
   {
    "duration": 45,
    "start_time": "2023-01-04T07:55:59.523Z"
   },
   {
    "duration": 6,
    "start_time": "2023-01-04T07:55:59.569Z"
   },
   {
    "duration": 43,
    "start_time": "2023-01-04T07:55:59.577Z"
   },
   {
    "duration": 5,
    "start_time": "2023-01-04T07:55:59.622Z"
   },
   {
    "duration": 11,
    "start_time": "2023-01-04T07:55:59.628Z"
   },
   {
    "duration": 7,
    "start_time": "2023-01-04T07:55:59.640Z"
   },
   {
    "duration": 39,
    "start_time": "2023-01-04T07:55:59.649Z"
   },
   {
    "duration": 7,
    "start_time": "2023-01-04T07:55:59.696Z"
   },
   {
    "duration": 34,
    "start_time": "2023-01-04T07:55:59.706Z"
   },
   {
    "duration": 4,
    "start_time": "2023-01-04T07:55:59.742Z"
   },
   {
    "duration": 490,
    "start_time": "2023-01-04T08:01:41.802Z"
   },
   {
    "duration": 23,
    "start_time": "2023-01-04T08:01:42.294Z"
   },
   {
    "duration": 20,
    "start_time": "2023-01-04T08:01:42.318Z"
   },
   {
    "duration": 14,
    "start_time": "2023-01-04T08:01:42.342Z"
   },
   {
    "duration": 39,
    "start_time": "2023-01-04T08:01:42.358Z"
   },
   {
    "duration": 4,
    "start_time": "2023-01-04T08:01:42.399Z"
   },
   {
    "duration": 10,
    "start_time": "2023-01-04T08:01:42.424Z"
   },
   {
    "duration": 6,
    "start_time": "2023-01-04T08:01:42.438Z"
   },
   {
    "duration": 9,
    "start_time": "2023-01-04T08:01:42.445Z"
   },
   {
    "duration": 5,
    "start_time": "2023-01-04T08:01:42.458Z"
   },
   {
    "duration": 37,
    "start_time": "2023-01-04T08:01:42.464Z"
   },
   {
    "duration": 12,
    "start_time": "2023-01-04T08:01:42.523Z"
   },
   {
    "duration": 8,
    "start_time": "2023-01-04T08:01:42.539Z"
   },
   {
    "duration": 16,
    "start_time": "2023-01-04T08:01:42.549Z"
   },
   {
    "duration": 23,
    "start_time": "2023-01-04T08:01:42.567Z"
   },
   {
    "duration": 16,
    "start_time": "2023-01-04T08:01:42.592Z"
   },
   {
    "duration": 18,
    "start_time": "2023-01-04T08:01:42.609Z"
   },
   {
    "duration": 24,
    "start_time": "2023-01-04T08:01:42.631Z"
   },
   {
    "duration": 8,
    "start_time": "2023-01-04T08:01:42.658Z"
   },
   {
    "duration": 4,
    "start_time": "2023-01-04T08:01:42.668Z"
   },
   {
    "duration": 15,
    "start_time": "2023-01-04T08:01:42.674Z"
   },
   {
    "duration": 20,
    "start_time": "2023-01-04T08:01:42.691Z"
   },
   {
    "duration": 15,
    "start_time": "2023-01-04T08:01:42.713Z"
   },
   {
    "duration": 9,
    "start_time": "2023-01-04T08:01:42.733Z"
   },
   {
    "duration": 37,
    "start_time": "2023-01-04T08:01:42.744Z"
   },
   {
    "duration": 5,
    "start_time": "2023-01-04T08:01:42.782Z"
   },
   {
    "duration": 11,
    "start_time": "2023-01-04T08:01:42.789Z"
   },
   {
    "duration": 8,
    "start_time": "2023-01-04T08:01:42.803Z"
   },
   {
    "duration": 33,
    "start_time": "2023-01-04T08:01:42.822Z"
   },
   {
    "duration": 5,
    "start_time": "2023-01-04T08:01:42.857Z"
   },
   {
    "duration": 28,
    "start_time": "2023-01-04T08:01:42.864Z"
   },
   {
    "duration": 6,
    "start_time": "2023-01-04T08:01:42.894Z"
   },
   {
    "duration": 16,
    "start_time": "2023-01-04T08:01:42.923Z"
   },
   {
    "duration": 9,
    "start_time": "2023-01-04T08:01:42.940Z"
   },
   {
    "duration": 31,
    "start_time": "2023-01-04T08:01:42.950Z"
   },
   {
    "duration": 6,
    "start_time": "2023-01-04T08:01:42.983Z"
   },
   {
    "duration": 56,
    "start_time": "2023-01-04T08:01:42.991Z"
   },
   {
    "duration": 5,
    "start_time": "2023-01-04T08:01:43.048Z"
   },
   {
    "duration": 51,
    "start_time": "2023-01-04T18:22:41.973Z"
   },
   {
    "duration": 509,
    "start_time": "2023-01-04T18:22:54.978Z"
   },
   {
    "duration": 22,
    "start_time": "2023-01-04T18:22:55.489Z"
   },
   {
    "duration": 13,
    "start_time": "2023-01-04T18:22:55.512Z"
   },
   {
    "duration": 10,
    "start_time": "2023-01-04T18:22:55.527Z"
   },
   {
    "duration": 6,
    "start_time": "2023-01-04T18:22:55.538Z"
   },
   {
    "duration": 45,
    "start_time": "2023-01-04T18:22:55.546Z"
   },
   {
    "duration": 4,
    "start_time": "2023-01-04T18:22:55.592Z"
   },
   {
    "duration": 10,
    "start_time": "2023-01-04T18:22:55.597Z"
   },
   {
    "duration": 4,
    "start_time": "2023-01-04T18:22:55.609Z"
   },
   {
    "duration": 6,
    "start_time": "2023-01-04T18:22:55.617Z"
   },
   {
    "duration": 4,
    "start_time": "2023-01-04T18:22:55.624Z"
   },
   {
    "duration": 59,
    "start_time": "2023-01-04T18:22:55.630Z"
   },
   {
    "duration": 9,
    "start_time": "2023-01-04T18:22:55.691Z"
   },
   {
    "duration": 7,
    "start_time": "2023-01-04T18:22:55.702Z"
   },
   {
    "duration": 29,
    "start_time": "2023-01-04T18:22:55.711Z"
   },
   {
    "duration": 33,
    "start_time": "2023-01-04T18:22:55.742Z"
   },
   {
    "duration": 17,
    "start_time": "2023-01-04T18:22:55.779Z"
   },
   {
    "duration": 4,
    "start_time": "2023-01-04T18:22:55.797Z"
   },
   {
    "duration": 11,
    "start_time": "2023-01-04T18:22:55.802Z"
   },
   {
    "duration": 6,
    "start_time": "2023-01-04T18:22:55.815Z"
   },
   {
    "duration": 3,
    "start_time": "2023-01-04T18:22:55.823Z"
   },
   {
    "duration": 13,
    "start_time": "2023-01-04T18:22:55.827Z"
   },
   {
    "duration": 43,
    "start_time": "2023-01-04T18:22:55.842Z"
   },
   {
    "duration": 5,
    "start_time": "2023-01-04T18:22:55.886Z"
   },
   {
    "duration": 7,
    "start_time": "2023-01-04T18:22:55.892Z"
   },
   {
    "duration": 25,
    "start_time": "2023-01-04T18:22:55.901Z"
   },
   {
    "duration": 4,
    "start_time": "2023-01-04T18:22:55.928Z"
   },
   {
    "duration": 8,
    "start_time": "2023-01-04T18:22:55.935Z"
   },
   {
    "duration": 9,
    "start_time": "2023-01-04T18:22:55.944Z"
   },
   {
    "duration": 44,
    "start_time": "2023-01-04T18:22:55.954Z"
   },
   {
    "duration": 5,
    "start_time": "2023-01-04T18:22:56.000Z"
   },
   {
    "duration": 28,
    "start_time": "2023-01-04T18:22:56.007Z"
   },
   {
    "duration": 6,
    "start_time": "2023-01-04T18:22:56.037Z"
   },
   {
    "duration": 11,
    "start_time": "2023-01-04T18:22:56.044Z"
   },
   {
    "duration": 6,
    "start_time": "2023-01-04T18:22:56.078Z"
   },
   {
    "duration": 37,
    "start_time": "2023-01-04T18:22:56.086Z"
   },
   {
    "duration": 5,
    "start_time": "2023-01-04T18:22:56.124Z"
   },
   {
    "duration": 28,
    "start_time": "2023-01-04T18:22:56.131Z"
   },
   {
    "duration": 5,
    "start_time": "2023-01-04T18:22:56.161Z"
   },
   {
    "duration": 7,
    "start_time": "2023-01-04T18:34:35.750Z"
   },
   {
    "duration": 18,
    "start_time": "2023-01-04T18:41:54.782Z"
   },
   {
    "duration": 70,
    "start_time": "2023-01-04T18:43:32.101Z"
   },
   {
    "duration": 477,
    "start_time": "2023-01-04T18:48:34.167Z"
   },
   {
    "duration": 21,
    "start_time": "2023-01-04T18:48:34.645Z"
   },
   {
    "duration": 15,
    "start_time": "2023-01-04T18:48:34.668Z"
   },
   {
    "duration": 9,
    "start_time": "2023-01-04T18:48:34.685Z"
   },
   {
    "duration": 33,
    "start_time": "2023-01-04T18:48:34.696Z"
   },
   {
    "duration": 4,
    "start_time": "2023-01-04T18:48:34.731Z"
   },
   {
    "duration": 11,
    "start_time": "2023-01-04T18:48:34.737Z"
   },
   {
    "duration": 29,
    "start_time": "2023-01-04T18:48:34.750Z"
   },
   {
    "duration": 8,
    "start_time": "2023-01-04T18:48:34.780Z"
   },
   {
    "duration": 4,
    "start_time": "2023-01-04T18:48:34.791Z"
   },
   {
    "duration": 37,
    "start_time": "2023-01-04T18:48:34.797Z"
   },
   {
    "duration": 9,
    "start_time": "2023-01-04T18:48:34.836Z"
   },
   {
    "duration": 6,
    "start_time": "2023-01-04T18:48:34.846Z"
   },
   {
    "duration": 32,
    "start_time": "2023-01-04T18:48:34.853Z"
   },
   {
    "duration": 19,
    "start_time": "2023-01-04T18:48:34.887Z"
   },
   {
    "duration": 29,
    "start_time": "2023-01-04T18:48:34.908Z"
   },
   {
    "duration": 4,
    "start_time": "2023-01-04T18:48:34.939Z"
   },
   {
    "duration": 17,
    "start_time": "2023-01-04T18:48:34.944Z"
   },
   {
    "duration": 20,
    "start_time": "2023-01-04T18:48:34.963Z"
   },
   {
    "duration": 4,
    "start_time": "2023-01-04T18:48:34.984Z"
   },
   {
    "duration": 13,
    "start_time": "2023-01-04T18:48:34.990Z"
   },
   {
    "duration": 19,
    "start_time": "2023-01-04T18:48:35.005Z"
   },
   {
    "duration": 5,
    "start_time": "2023-01-04T18:48:35.025Z"
   },
   {
    "duration": 5,
    "start_time": "2023-01-04T18:48:35.032Z"
   },
   {
    "duration": 42,
    "start_time": "2023-01-04T18:48:35.039Z"
   },
   {
    "duration": 5,
    "start_time": "2023-01-04T18:48:35.083Z"
   },
   {
    "duration": 9,
    "start_time": "2023-01-04T18:48:35.090Z"
   },
   {
    "duration": 6,
    "start_time": "2023-01-04T18:48:35.103Z"
   },
   {
    "duration": 37,
    "start_time": "2023-01-04T18:48:35.111Z"
   },
   {
    "duration": 5,
    "start_time": "2023-01-04T18:48:35.150Z"
   },
   {
    "duration": 26,
    "start_time": "2023-01-04T18:48:35.178Z"
   },
   {
    "duration": 5,
    "start_time": "2023-01-04T18:48:35.206Z"
   },
   {
    "duration": 14,
    "start_time": "2023-01-04T18:48:35.213Z"
   },
   {
    "duration": 6,
    "start_time": "2023-01-04T18:48:35.229Z"
   },
   {
    "duration": 57,
    "start_time": "2023-01-04T18:48:35.237Z"
   },
   {
    "duration": 7,
    "start_time": "2023-01-04T18:48:35.296Z"
   },
   {
    "duration": 30,
    "start_time": "2023-01-04T18:48:35.305Z"
   },
   {
    "duration": 5,
    "start_time": "2023-01-04T18:48:35.336Z"
   },
   {
    "duration": 43,
    "start_time": "2023-01-05T06:48:07.860Z"
   },
   {
    "duration": 716,
    "start_time": "2023-01-05T06:48:15.627Z"
   },
   {
    "duration": 25,
    "start_time": "2023-01-05T06:48:16.346Z"
   },
   {
    "duration": 20,
    "start_time": "2023-01-05T06:48:16.375Z"
   },
   {
    "duration": 27,
    "start_time": "2023-01-05T06:48:16.397Z"
   },
   {
    "duration": 68,
    "start_time": "2023-01-05T06:48:16.426Z"
   },
   {
    "duration": 0,
    "start_time": "2023-01-05T06:48:16.499Z"
   },
   {
    "duration": 0,
    "start_time": "2023-01-05T06:48:16.500Z"
   },
   {
    "duration": 0,
    "start_time": "2023-01-05T06:48:16.501Z"
   },
   {
    "duration": 0,
    "start_time": "2023-01-05T06:48:16.515Z"
   },
   {
    "duration": 0,
    "start_time": "2023-01-05T06:48:16.516Z"
   },
   {
    "duration": 0,
    "start_time": "2023-01-05T06:48:16.517Z"
   },
   {
    "duration": 0,
    "start_time": "2023-01-05T06:48:16.519Z"
   },
   {
    "duration": 0,
    "start_time": "2023-01-05T06:48:16.520Z"
   },
   {
    "duration": 0,
    "start_time": "2023-01-05T06:48:16.520Z"
   },
   {
    "duration": 0,
    "start_time": "2023-01-05T06:48:16.521Z"
   },
   {
    "duration": 0,
    "start_time": "2023-01-05T06:48:16.522Z"
   },
   {
    "duration": 0,
    "start_time": "2023-01-05T06:48:16.523Z"
   },
   {
    "duration": 0,
    "start_time": "2023-01-05T06:48:16.524Z"
   },
   {
    "duration": 0,
    "start_time": "2023-01-05T06:48:16.525Z"
   },
   {
    "duration": 0,
    "start_time": "2023-01-05T06:48:16.526Z"
   },
   {
    "duration": 0,
    "start_time": "2023-01-05T06:48:16.527Z"
   },
   {
    "duration": 0,
    "start_time": "2023-01-05T06:48:16.528Z"
   },
   {
    "duration": 0,
    "start_time": "2023-01-05T06:48:16.529Z"
   },
   {
    "duration": 0,
    "start_time": "2023-01-05T06:48:16.530Z"
   },
   {
    "duration": 0,
    "start_time": "2023-01-05T06:48:16.531Z"
   },
   {
    "duration": 0,
    "start_time": "2023-01-05T06:48:16.532Z"
   },
   {
    "duration": 0,
    "start_time": "2023-01-05T06:48:16.533Z"
   },
   {
    "duration": 0,
    "start_time": "2023-01-05T06:48:16.534Z"
   },
   {
    "duration": 0,
    "start_time": "2023-01-05T06:48:16.535Z"
   },
   {
    "duration": 0,
    "start_time": "2023-01-05T06:48:16.536Z"
   },
   {
    "duration": 0,
    "start_time": "2023-01-05T06:48:16.536Z"
   },
   {
    "duration": 0,
    "start_time": "2023-01-05T06:48:16.537Z"
   },
   {
    "duration": 0,
    "start_time": "2023-01-05T06:48:16.538Z"
   },
   {
    "duration": 0,
    "start_time": "2023-01-05T06:48:16.540Z"
   },
   {
    "duration": 0,
    "start_time": "2023-01-05T06:48:16.540Z"
   },
   {
    "duration": 0,
    "start_time": "2023-01-05T06:48:16.541Z"
   },
   {
    "duration": 0,
    "start_time": "2023-01-05T06:48:16.543Z"
   },
   {
    "duration": 0,
    "start_time": "2023-01-05T06:48:16.544Z"
   },
   {
    "duration": 0,
    "start_time": "2023-01-05T06:48:16.545Z"
   },
   {
    "duration": 11,
    "start_time": "2023-01-05T06:53:27.600Z"
   },
   {
    "duration": 4,
    "start_time": "2023-01-05T06:54:40.720Z"
   },
   {
    "duration": 3,
    "start_time": "2023-01-05T06:55:09.021Z"
   },
   {
    "duration": 3,
    "start_time": "2023-01-05T06:55:20.217Z"
   },
   {
    "duration": 719,
    "start_time": "2023-01-05T06:58:07.614Z"
   },
   {
    "duration": 8,
    "start_time": "2023-01-05T06:58:20.721Z"
   },
   {
    "duration": 8,
    "start_time": "2023-01-05T06:58:51.876Z"
   },
   {
    "duration": 8,
    "start_time": "2023-01-05T06:59:56.677Z"
   },
   {
    "duration": 8,
    "start_time": "2023-01-05T07:00:19.643Z"
   },
   {
    "duration": 5,
    "start_time": "2023-01-05T07:09:03.461Z"
   },
   {
    "duration": 6,
    "start_time": "2023-01-05T07:09:57.834Z"
   },
   {
    "duration": 7,
    "start_time": "2023-01-05T07:11:48.234Z"
   },
   {
    "duration": 6,
    "start_time": "2023-01-05T07:11:57.098Z"
   },
   {
    "duration": 8,
    "start_time": "2023-01-05T08:11:07.135Z"
   },
   {
    "duration": 7,
    "start_time": "2023-01-05T08:12:10.443Z"
   },
   {
    "duration": 6,
    "start_time": "2023-01-05T08:12:28.031Z"
   },
   {
    "duration": 8,
    "start_time": "2023-01-05T08:16:38.762Z"
   },
   {
    "duration": 19,
    "start_time": "2023-01-05T08:17:58.407Z"
   },
   {
    "duration": 204,
    "start_time": "2023-01-05T08:20:09.550Z"
   },
   {
    "duration": 6,
    "start_time": "2023-01-05T08:20:58.897Z"
   },
   {
    "duration": 47,
    "start_time": "2023-01-05T08:22:33.936Z"
   },
   {
    "duration": 187,
    "start_time": "2023-01-05T08:22:44.402Z"
   },
   {
    "duration": 220,
    "start_time": "2023-01-05T08:23:09.631Z"
   },
   {
    "duration": 216,
    "start_time": "2023-01-05T08:23:31.678Z"
   },
   {
    "duration": 9,
    "start_time": "2023-01-05T08:24:12.393Z"
   },
   {
    "duration": 5,
    "start_time": "2023-01-05T08:25:33.903Z"
   },
   {
    "duration": 15,
    "start_time": "2023-01-05T08:26:20.671Z"
   },
   {
    "duration": 14,
    "start_time": "2023-01-05T08:26:39.803Z"
   },
   {
    "duration": 14,
    "start_time": "2023-01-05T08:26:58.793Z"
   },
   {
    "duration": 6,
    "start_time": "2023-01-05T08:27:18.388Z"
   },
   {
    "duration": 6,
    "start_time": "2023-01-05T08:28:11.309Z"
   },
   {
    "duration": 480,
    "start_time": "2023-01-05T08:54:07.929Z"
   },
   {
    "duration": 29,
    "start_time": "2023-01-05T08:54:08.412Z"
   },
   {
    "duration": 19,
    "start_time": "2023-01-05T08:54:08.443Z"
   },
   {
    "duration": 14,
    "start_time": "2023-01-05T08:54:08.463Z"
   },
   {
    "duration": 5,
    "start_time": "2023-01-05T08:54:08.479Z"
   },
   {
    "duration": 5,
    "start_time": "2023-01-05T08:54:08.485Z"
   },
   {
    "duration": 53,
    "start_time": "2023-01-05T08:54:08.491Z"
   },
   {
    "duration": 3,
    "start_time": "2023-01-05T08:54:08.546Z"
   },
   {
    "duration": 10,
    "start_time": "2023-01-05T08:54:08.551Z"
   },
   {
    "duration": 5,
    "start_time": "2023-01-05T08:54:08.562Z"
   },
   {
    "duration": 7,
    "start_time": "2023-01-05T08:54:08.569Z"
   },
   {
    "duration": 5,
    "start_time": "2023-01-05T08:54:08.578Z"
   },
   {
    "duration": 60,
    "start_time": "2023-01-05T08:54:08.585Z"
   },
   {
    "duration": 11,
    "start_time": "2023-01-05T08:54:08.648Z"
   },
   {
    "duration": 4,
    "start_time": "2023-01-05T08:54:08.660Z"
   },
   {
    "duration": 14,
    "start_time": "2023-01-05T08:54:08.666Z"
   },
   {
    "duration": 39,
    "start_time": "2023-01-05T08:54:08.682Z"
   },
   {
    "duration": 16,
    "start_time": "2023-01-05T08:54:08.723Z"
   },
   {
    "duration": 4,
    "start_time": "2023-01-05T08:54:08.741Z"
   },
   {
    "duration": 13,
    "start_time": "2023-01-05T08:54:08.746Z"
   },
   {
    "duration": 5,
    "start_time": "2023-01-05T08:54:08.761Z"
   },
   {
    "duration": 6,
    "start_time": "2023-01-05T08:54:08.767Z"
   },
   {
    "duration": 10,
    "start_time": "2023-01-05T08:54:08.774Z"
   },
   {
    "duration": 40,
    "start_time": "2023-01-05T08:54:08.785Z"
   },
   {
    "duration": 4,
    "start_time": "2023-01-05T08:54:08.827Z"
   },
   {
    "duration": 4,
    "start_time": "2023-01-05T08:54:08.833Z"
   },
   {
    "duration": 23,
    "start_time": "2023-01-05T08:54:08.838Z"
   },
   {
    "duration": 5,
    "start_time": "2023-01-05T08:54:08.862Z"
   },
   {
    "duration": 14,
    "start_time": "2023-01-05T08:54:08.868Z"
   },
   {
    "duration": 5,
    "start_time": "2023-01-05T08:54:08.883Z"
   },
   {
    "duration": 51,
    "start_time": "2023-01-05T08:54:08.890Z"
   },
   {
    "duration": 5,
    "start_time": "2023-01-05T08:54:08.942Z"
   },
   {
    "duration": 25,
    "start_time": "2023-01-05T08:54:08.949Z"
   },
   {
    "duration": 5,
    "start_time": "2023-01-05T08:54:08.975Z"
   },
   {
    "duration": 9,
    "start_time": "2023-01-05T08:54:08.982Z"
   },
   {
    "duration": 24,
    "start_time": "2023-01-05T08:54:08.992Z"
   },
   {
    "duration": 25,
    "start_time": "2023-01-05T08:54:09.018Z"
   },
   {
    "duration": 5,
    "start_time": "2023-01-05T08:54:09.044Z"
   },
   {
    "duration": 25,
    "start_time": "2023-01-05T08:54:09.050Z"
   },
   {
    "duration": 5,
    "start_time": "2023-01-05T08:54:09.076Z"
   },
   {
    "duration": 74,
    "start_time": "2023-01-05T15:29:26.714Z"
   },
   {
    "duration": 69,
    "start_time": "2023-01-05T15:29:37.929Z"
   },
   {
    "duration": 479,
    "start_time": "2023-01-05T15:51:25.473Z"
   },
   {
    "duration": 22,
    "start_time": "2023-01-05T15:51:25.953Z"
   },
   {
    "duration": 18,
    "start_time": "2023-01-05T15:51:25.977Z"
   },
   {
    "duration": 9,
    "start_time": "2023-01-05T15:51:25.997Z"
   },
   {
    "duration": 14,
    "start_time": "2023-01-05T15:51:26.008Z"
   },
   {
    "duration": 6,
    "start_time": "2023-01-05T15:51:26.023Z"
   },
   {
    "duration": 33,
    "start_time": "2023-01-05T15:51:26.031Z"
   },
   {
    "duration": 4,
    "start_time": "2023-01-05T15:51:26.066Z"
   },
   {
    "duration": 18,
    "start_time": "2023-01-05T15:51:26.071Z"
   },
   {
    "duration": 8,
    "start_time": "2023-01-05T15:51:26.091Z"
   },
   {
    "duration": 26,
    "start_time": "2023-01-05T15:51:26.101Z"
   },
   {
    "duration": 13,
    "start_time": "2023-01-05T15:51:26.129Z"
   },
   {
    "duration": 42,
    "start_time": "2023-01-05T15:51:26.143Z"
   },
   {
    "duration": 9,
    "start_time": "2023-01-05T15:51:26.189Z"
   },
   {
    "duration": 14,
    "start_time": "2023-01-05T15:51:26.200Z"
   },
   {
    "duration": 35,
    "start_time": "2023-01-05T15:51:26.216Z"
   },
   {
    "duration": 27,
    "start_time": "2023-01-05T15:51:26.252Z"
   },
   {
    "duration": 18,
    "start_time": "2023-01-05T15:51:26.281Z"
   },
   {
    "duration": 5,
    "start_time": "2023-01-05T15:51:26.300Z"
   },
   {
    "duration": 16,
    "start_time": "2023-01-05T15:51:26.307Z"
   },
   {
    "duration": 11,
    "start_time": "2023-01-05T15:51:26.325Z"
   },
   {
    "duration": 8,
    "start_time": "2023-01-05T15:51:26.337Z"
   },
   {
    "duration": 26,
    "start_time": "2023-01-05T15:51:26.347Z"
   },
   {
    "duration": 24,
    "start_time": "2023-01-05T15:51:26.374Z"
   },
   {
    "duration": 7,
    "start_time": "2023-01-05T15:51:26.400Z"
   },
   {
    "duration": 13,
    "start_time": "2023-01-05T15:51:26.408Z"
   },
   {
    "duration": 28,
    "start_time": "2023-01-05T15:51:26.422Z"
   },
   {
    "duration": 9,
    "start_time": "2023-01-05T15:51:26.451Z"
   },
   {
    "duration": 13,
    "start_time": "2023-01-05T15:51:26.462Z"
   },
   {
    "duration": 12,
    "start_time": "2023-01-05T15:51:26.477Z"
   },
   {
    "duration": 34,
    "start_time": "2023-01-05T15:51:26.490Z"
   },
   {
    "duration": 5,
    "start_time": "2023-01-05T15:51:26.526Z"
   },
   {
    "duration": 35,
    "start_time": "2023-01-05T15:51:26.533Z"
   },
   {
    "duration": 5,
    "start_time": "2023-01-05T15:51:26.570Z"
   },
   {
    "duration": 10,
    "start_time": "2023-01-05T15:51:26.576Z"
   },
   {
    "duration": 5,
    "start_time": "2023-01-05T15:51:26.588Z"
   },
   {
    "duration": 47,
    "start_time": "2023-01-05T15:51:26.595Z"
   },
   {
    "duration": 4,
    "start_time": "2023-01-05T15:51:26.644Z"
   },
   {
    "duration": 29,
    "start_time": "2023-01-05T15:51:26.650Z"
   },
   {
    "duration": 5,
    "start_time": "2023-01-05T15:51:26.680Z"
   },
   {
    "duration": 555,
    "start_time": "2023-01-06T09:58:34.950Z"
   },
   {
    "duration": 22,
    "start_time": "2023-01-06T09:58:35.508Z"
   },
   {
    "duration": 14,
    "start_time": "2023-01-06T09:58:35.532Z"
   },
   {
    "duration": 9,
    "start_time": "2023-01-06T09:58:35.548Z"
   },
   {
    "duration": 19,
    "start_time": "2023-01-06T09:58:35.559Z"
   },
   {
    "duration": 9,
    "start_time": "2023-01-06T09:58:35.580Z"
   },
   {
    "duration": 34,
    "start_time": "2023-01-06T09:58:35.591Z"
   },
   {
    "duration": 3,
    "start_time": "2023-01-06T09:58:35.627Z"
   },
   {
    "duration": 26,
    "start_time": "2023-01-06T09:58:35.631Z"
   },
   {
    "duration": 13,
    "start_time": "2023-01-06T09:58:35.659Z"
   },
   {
    "duration": 8,
    "start_time": "2023-01-06T09:58:35.930Z"
   },
   {
    "duration": 5,
    "start_time": "2023-01-06T09:58:35.941Z"
   },
   {
    "duration": 34,
    "start_time": "2023-01-06T09:58:35.947Z"
   },
   {
    "duration": 9,
    "start_time": "2023-01-06T09:58:35.982Z"
   },
   {
    "duration": 10,
    "start_time": "2023-01-06T09:58:35.993Z"
   },
   {
    "duration": 14,
    "start_time": "2023-01-06T09:58:36.004Z"
   },
   {
    "duration": 22,
    "start_time": "2023-01-06T09:58:36.020Z"
   },
   {
    "duration": 35,
    "start_time": "2023-01-06T09:58:36.043Z"
   },
   {
    "duration": 3,
    "start_time": "2023-01-06T09:58:36.080Z"
   },
   {
    "duration": 12,
    "start_time": "2023-01-06T09:58:36.085Z"
   },
   {
    "duration": 9,
    "start_time": "2023-01-06T09:58:36.099Z"
   },
   {
    "duration": 6,
    "start_time": "2023-01-06T09:58:36.109Z"
   },
   {
    "duration": 17,
    "start_time": "2023-01-06T09:58:36.116Z"
   },
   {
    "duration": 20,
    "start_time": "2023-01-06T09:58:36.136Z"
   },
   {
    "duration": 4,
    "start_time": "2023-01-06T09:58:36.158Z"
   },
   {
    "duration": 4,
    "start_time": "2023-01-06T09:58:36.178Z"
   },
   {
    "duration": 26,
    "start_time": "2023-01-06T09:58:36.183Z"
   },
   {
    "duration": 5,
    "start_time": "2023-01-06T09:58:36.211Z"
   },
   {
    "duration": 11,
    "start_time": "2023-01-06T09:58:36.218Z"
   },
   {
    "duration": 11,
    "start_time": "2023-01-06T09:58:36.231Z"
   },
   {
    "duration": 55,
    "start_time": "2023-01-06T09:58:36.243Z"
   },
   {
    "duration": 5,
    "start_time": "2023-01-06T09:58:36.299Z"
   },
   {
    "duration": 28,
    "start_time": "2023-01-06T09:58:36.306Z"
   },
   {
    "duration": 6,
    "start_time": "2023-01-06T09:58:36.335Z"
   },
   {
    "duration": 10,
    "start_time": "2023-01-06T09:58:36.343Z"
   },
   {
    "duration": 26,
    "start_time": "2023-01-06T09:58:36.355Z"
   },
   {
    "duration": 39,
    "start_time": "2023-01-06T09:58:36.383Z"
   },
   {
    "duration": 7,
    "start_time": "2023-01-06T09:58:36.424Z"
   },
   {
    "duration": 48,
    "start_time": "2023-01-06T09:58:36.432Z"
   },
   {
    "duration": 5,
    "start_time": "2023-01-06T09:58:36.482Z"
   }
  ],
  "colab": {
   "name": "dpp_template_part2.ipynb",
   "provenance": []
  },
  "kernelspec": {
   "display_name": "Python 3 (ipykernel)",
   "language": "python",
   "name": "python3"
  },
  "language_info": {
   "codemirror_mode": {
    "name": "ipython",
    "version": 3
   },
   "file_extension": ".py",
   "mimetype": "text/x-python",
   "name": "python",
   "nbconvert_exporter": "python",
   "pygments_lexer": "ipython3",
   "version": "3.10.9"
  },
  "toc": {
   "base_numbering": 1,
   "nav_menu": {},
   "number_sections": true,
   "sideBar": true,
   "skip_h1_title": true,
   "title_cell": "Table of Contents",
   "title_sidebar": "Contents",
   "toc_cell": false,
   "toc_position": {},
   "toc_section_display": true,
   "toc_window_display": true
  }
 },
 "nbformat": 4,
 "nbformat_minor": 5
}

{
 "cells": [
  {
   "cell_type": "markdown",
   "metadata": {},
   "source": [
    "# Определение стоимости автомобилей"
   ]
  },
  {
   "cell_type": "markdown",
   "metadata": {},
   "source": [
    "Сервис по продаже автомобилей с пробегом «Не бит, не крашен» разрабатывает приложение для привлечения новых клиентов. В нём можно быстро узнать рыночную стоимость своего автомобиля. В вашем распоряжении исторические данные: технические характеристики, комплектации и цены автомобилей. Вам нужно построить модель для определения стоимости. \n",
    "\n",
    "Заказчику важны:\n",
    "\n",
    "- качество предсказания;\n",
    "- скорость предсказания;\n",
    "- время обучения."
   ]
  },
  {
   "cell_type": "markdown",
   "metadata": {},
   "source": [
    "# План выполнения проекта:\n",
    "1. Загрузим и изучим данные.\n",
    "2. Проведем предобработку данных при необходимости: заполнение пропущенных значений (при наличии пропусков), обработка аномалий в столбцах, определение неинформативных признаков и их удаление.\n",
    "3. Подготовим выборки для обучения моделей.\n",
    "4. Обучим разные модели, одна из которых — LightGBM, как минимум одна — не бустинг. Для каждой модели попробуем разные гиперпараметры.\n",
    "5. Проанализируем время обучения, время предсказания и качество моделей.\n",
    "6. Опираясь на критерии заказчика, выберем лучшую модель, проверим её качество на тестовой выборке."
   ]
  },
  {
   "cell_type": "markdown",
   "metadata": {},
   "source": [
    "# Условия:\n",
    "\n",
    "- Для оценки качества моделей применять метрику RMSE. RMSE должно быть меньше 2500.\n",
    "- Освоить библиотеку LightGBM и её средствами построить модели градиентного бустинга.\n",
    "- Вывести время выполнения ячейки кода специальной командой\n",
    "- Не ограничиваться градиентным бустингом\n",
    "- В модели градиентного бустинга лучше изменять только два-три параметра, так как модель может долго обучаться."
   ]
  },
  {
   "cell_type": "markdown",
   "metadata": {},
   "source": [
    "# Описание данных:\n",
    "**Признаки**:\n",
    "- DateCrawled — дата скачивания анкеты из базы\n",
    "- VehicleType — тип автомобильного кузова\n",
    "- RegistrationYear — год регистрации автомобиля\n",
    "- Gearbox — тип коробки передач\n",
    "- Power — мощность (л. с.)\n",
    "- Model — модель автомобиля\n",
    "- Kilometer — пробег (км)\n",
    "- RegistrationMonth — месяц регистрации автомобиля\n",
    "- FuelType — тип топлива\n",
    "- Brand — марка автомобиля\n",
    "- Repaired — была машина в ремонте или нет\n",
    "- DateCreated — дата создания анкеты\n",
    "- NumberOfPictures — количество фотографий автомобиля\n",
    "- PostalCode — почтовый индекс владельца анкеты (пользователя)\n",
    "- LastSeen — дата последней активности пользователя\n",
    "\n",
    "**Целевой признак**:\n",
    "- Price — цена (евро)"
   ]
  },
  {
   "cell_type": "markdown",
   "metadata": {},
   "source": [
    "## Подготовка данных"
   ]
  },
  {
   "cell_type": "markdown",
   "metadata": {},
   "source": [
    "Импортируем необходимые библиотеки"
   ]
  },
  {
   "cell_type": "code",
   "execution_count": 1,
   "metadata": {},
   "outputs": [],
   "source": [
    "import pandas as pd\n",
    "\n",
    "import matplotlib.pyplot as plt\n",
    "import seaborn as sns\n",
    "import numpy as np\n",
    "from scipy import stats as st\n",
    "\n",
    "from sklearn.model_selection import train_test_split\n",
    "from sklearn.linear_model import LinearRegression\n",
    "from sklearn.metrics import mean_absolute_error\n",
    "from sklearn.metrics import mean_squared_error\n",
    "\n",
    "from sklearn.dummy import DummyRegressor\n",
    "\n",
    "from sklearn.model_selection import cross_val_score\n",
    "\n",
    "from sklearn.preprocessing import StandardScaler\n",
    "from sklearn.utils import shuffle\n",
    "\n",
    "from sklearn.model_selection import GridSearchCV\n",
    "import lightgbm as lgbm\n",
    "from catboost import CatBoostRegressor\n",
    "from sklearn.ensemble import RandomForestRegressor\n",
    "from sklearn.metrics import make_scorer\n",
    "from sklearn.preprocessing import OrdinalEncoder\n",
    "import time\n",
    "\n",
    "import warnings\n",
    "#убираем системные предупреждения\n",
    "warnings.filterwarnings('ignore')"
   ]
  },
  {
   "cell_type": "markdown",
   "metadata": {},
   "source": [
    "### Обзор данных"
   ]
  },
  {
   "cell_type": "markdown",
   "metadata": {},
   "source": [
    "Считаем данные из csv-файла в датафрейм и сохраним в переменную"
   ]
  },
  {
   "cell_type": "code",
   "execution_count": 2,
   "metadata": {},
   "outputs": [],
   "source": [
    "data_avto = pd.read_csv('/datasets/autos.csv')"
   ]
  },
  {
   "cell_type": "code",
   "execution_count": 3,
   "metadata": {},
   "outputs": [
    {
     "data": {
      "text/html": [
       "<div>\n",
       "<style scoped>\n",
       "    .dataframe tbody tr th:only-of-type {\n",
       "        vertical-align: middle;\n",
       "    }\n",
       "\n",
       "    .dataframe tbody tr th {\n",
       "        vertical-align: top;\n",
       "    }\n",
       "\n",
       "    .dataframe thead th {\n",
       "        text-align: right;\n",
       "    }\n",
       "</style>\n",
       "<table border=\"1\" class=\"dataframe\">\n",
       "  <thead>\n",
       "    <tr style=\"text-align: right;\">\n",
       "      <th></th>\n",
       "      <th>DateCrawled</th>\n",
       "      <th>Price</th>\n",
       "      <th>VehicleType</th>\n",
       "      <th>RegistrationYear</th>\n",
       "      <th>Gearbox</th>\n",
       "      <th>Power</th>\n",
       "      <th>Model</th>\n",
       "      <th>Kilometer</th>\n",
       "      <th>RegistrationMonth</th>\n",
       "      <th>FuelType</th>\n",
       "      <th>Brand</th>\n",
       "      <th>Repaired</th>\n",
       "      <th>DateCreated</th>\n",
       "      <th>NumberOfPictures</th>\n",
       "      <th>PostalCode</th>\n",
       "      <th>LastSeen</th>\n",
       "    </tr>\n",
       "  </thead>\n",
       "  <tbody>\n",
       "    <tr>\n",
       "      <th>0</th>\n",
       "      <td>2016-03-24 11:52:17</td>\n",
       "      <td>480</td>\n",
       "      <td>NaN</td>\n",
       "      <td>1993</td>\n",
       "      <td>manual</td>\n",
       "      <td>0</td>\n",
       "      <td>golf</td>\n",
       "      <td>150000</td>\n",
       "      <td>0</td>\n",
       "      <td>petrol</td>\n",
       "      <td>volkswagen</td>\n",
       "      <td>NaN</td>\n",
       "      <td>2016-03-24 00:00:00</td>\n",
       "      <td>0</td>\n",
       "      <td>70435</td>\n",
       "      <td>2016-04-07 03:16:57</td>\n",
       "    </tr>\n",
       "    <tr>\n",
       "      <th>1</th>\n",
       "      <td>2016-03-24 10:58:45</td>\n",
       "      <td>18300</td>\n",
       "      <td>coupe</td>\n",
       "      <td>2011</td>\n",
       "      <td>manual</td>\n",
       "      <td>190</td>\n",
       "      <td>NaN</td>\n",
       "      <td>125000</td>\n",
       "      <td>5</td>\n",
       "      <td>gasoline</td>\n",
       "      <td>audi</td>\n",
       "      <td>yes</td>\n",
       "      <td>2016-03-24 00:00:00</td>\n",
       "      <td>0</td>\n",
       "      <td>66954</td>\n",
       "      <td>2016-04-07 01:46:50</td>\n",
       "    </tr>\n",
       "    <tr>\n",
       "      <th>2</th>\n",
       "      <td>2016-03-14 12:52:21</td>\n",
       "      <td>9800</td>\n",
       "      <td>suv</td>\n",
       "      <td>2004</td>\n",
       "      <td>auto</td>\n",
       "      <td>163</td>\n",
       "      <td>grand</td>\n",
       "      <td>125000</td>\n",
       "      <td>8</td>\n",
       "      <td>gasoline</td>\n",
       "      <td>jeep</td>\n",
       "      <td>NaN</td>\n",
       "      <td>2016-03-14 00:00:00</td>\n",
       "      <td>0</td>\n",
       "      <td>90480</td>\n",
       "      <td>2016-04-05 12:47:46</td>\n",
       "    </tr>\n",
       "    <tr>\n",
       "      <th>3</th>\n",
       "      <td>2016-03-17 16:54:04</td>\n",
       "      <td>1500</td>\n",
       "      <td>small</td>\n",
       "      <td>2001</td>\n",
       "      <td>manual</td>\n",
       "      <td>75</td>\n",
       "      <td>golf</td>\n",
       "      <td>150000</td>\n",
       "      <td>6</td>\n",
       "      <td>petrol</td>\n",
       "      <td>volkswagen</td>\n",
       "      <td>no</td>\n",
       "      <td>2016-03-17 00:00:00</td>\n",
       "      <td>0</td>\n",
       "      <td>91074</td>\n",
       "      <td>2016-03-17 17:40:17</td>\n",
       "    </tr>\n",
       "    <tr>\n",
       "      <th>4</th>\n",
       "      <td>2016-03-31 17:25:20</td>\n",
       "      <td>3600</td>\n",
       "      <td>small</td>\n",
       "      <td>2008</td>\n",
       "      <td>manual</td>\n",
       "      <td>69</td>\n",
       "      <td>fabia</td>\n",
       "      <td>90000</td>\n",
       "      <td>7</td>\n",
       "      <td>gasoline</td>\n",
       "      <td>skoda</td>\n",
       "      <td>no</td>\n",
       "      <td>2016-03-31 00:00:00</td>\n",
       "      <td>0</td>\n",
       "      <td>60437</td>\n",
       "      <td>2016-04-06 10:17:21</td>\n",
       "    </tr>\n",
       "  </tbody>\n",
       "</table>\n",
       "</div>"
      ],
      "text/plain": [
       "           DateCrawled  Price VehicleType  RegistrationYear Gearbox  Power  \\\n",
       "0  2016-03-24 11:52:17    480         NaN              1993  manual      0   \n",
       "1  2016-03-24 10:58:45  18300       coupe              2011  manual    190   \n",
       "2  2016-03-14 12:52:21   9800         suv              2004    auto    163   \n",
       "3  2016-03-17 16:54:04   1500       small              2001  manual     75   \n",
       "4  2016-03-31 17:25:20   3600       small              2008  manual     69   \n",
       "\n",
       "   Model  Kilometer  RegistrationMonth  FuelType       Brand Repaired  \\\n",
       "0   golf     150000                  0    petrol  volkswagen      NaN   \n",
       "1    NaN     125000                  5  gasoline        audi      yes   \n",
       "2  grand     125000                  8  gasoline        jeep      NaN   \n",
       "3   golf     150000                  6    petrol  volkswagen       no   \n",
       "4  fabia      90000                  7  gasoline       skoda       no   \n",
       "\n",
       "           DateCreated  NumberOfPictures  PostalCode             LastSeen  \n",
       "0  2016-03-24 00:00:00                 0       70435  2016-04-07 03:16:57  \n",
       "1  2016-03-24 00:00:00                 0       66954  2016-04-07 01:46:50  \n",
       "2  2016-03-14 00:00:00                 0       90480  2016-04-05 12:47:46  \n",
       "3  2016-03-17 00:00:00                 0       91074  2016-03-17 17:40:17  \n",
       "4  2016-03-31 00:00:00                 0       60437  2016-04-06 10:17:21  "
      ]
     },
     "metadata": {},
     "output_type": "display_data"
    }
   ],
   "source": [
    "display(data_avto.head())"
   ]
  },
  {
   "cell_type": "code",
   "execution_count": 4,
   "metadata": {},
   "outputs": [
    {
     "name": "stdout",
     "output_type": "stream",
     "text": [
      "<class 'pandas.core.frame.DataFrame'>\n",
      "RangeIndex: 354369 entries, 0 to 354368\n",
      "Data columns (total 16 columns):\n",
      " #   Column             Non-Null Count   Dtype \n",
      "---  ------             --------------   ----- \n",
      " 0   DateCrawled        354369 non-null  object\n",
      " 1   Price              354369 non-null  int64 \n",
      " 2   VehicleType        316879 non-null  object\n",
      " 3   RegistrationYear   354369 non-null  int64 \n",
      " 4   Gearbox            334536 non-null  object\n",
      " 5   Power              354369 non-null  int64 \n",
      " 6   Model              334664 non-null  object\n",
      " 7   Kilometer          354369 non-null  int64 \n",
      " 8   RegistrationMonth  354369 non-null  int64 \n",
      " 9   FuelType           321474 non-null  object\n",
      " 10  Brand              354369 non-null  object\n",
      " 11  Repaired           283215 non-null  object\n",
      " 12  DateCreated        354369 non-null  object\n",
      " 13  NumberOfPictures   354369 non-null  int64 \n",
      " 14  PostalCode         354369 non-null  int64 \n",
      " 15  LastSeen           354369 non-null  object\n",
      "dtypes: int64(7), object(9)\n",
      "memory usage: 43.3+ MB\n"
     ]
    },
    {
     "data": {
      "text/plain": [
       "None"
      ]
     },
     "metadata": {},
     "output_type": "display_data"
    }
   ],
   "source": [
    "display(data_avto.info())"
   ]
  },
  {
   "cell_type": "code",
   "execution_count": 5,
   "metadata": {},
   "outputs": [
    {
     "data": {
      "text/html": [
       "<div>\n",
       "<style scoped>\n",
       "    .dataframe tbody tr th:only-of-type {\n",
       "        vertical-align: middle;\n",
       "    }\n",
       "\n",
       "    .dataframe tbody tr th {\n",
       "        vertical-align: top;\n",
       "    }\n",
       "\n",
       "    .dataframe thead th {\n",
       "        text-align: right;\n",
       "    }\n",
       "</style>\n",
       "<table border=\"1\" class=\"dataframe\">\n",
       "  <thead>\n",
       "    <tr style=\"text-align: right;\">\n",
       "      <th></th>\n",
       "      <th>Price</th>\n",
       "      <th>RegistrationYear</th>\n",
       "      <th>Power</th>\n",
       "      <th>Kilometer</th>\n",
       "      <th>RegistrationMonth</th>\n",
       "      <th>NumberOfPictures</th>\n",
       "      <th>PostalCode</th>\n",
       "    </tr>\n",
       "  </thead>\n",
       "  <tbody>\n",
       "    <tr>\n",
       "      <th>count</th>\n",
       "      <td>354369.000000</td>\n",
       "      <td>354369.000000</td>\n",
       "      <td>354369.000000</td>\n",
       "      <td>354369.000000</td>\n",
       "      <td>354369.000000</td>\n",
       "      <td>354369.0</td>\n",
       "      <td>354369.000000</td>\n",
       "    </tr>\n",
       "    <tr>\n",
       "      <th>mean</th>\n",
       "      <td>4416.656776</td>\n",
       "      <td>2004.234448</td>\n",
       "      <td>110.094337</td>\n",
       "      <td>128211.172535</td>\n",
       "      <td>5.714645</td>\n",
       "      <td>0.0</td>\n",
       "      <td>50508.689087</td>\n",
       "    </tr>\n",
       "    <tr>\n",
       "      <th>std</th>\n",
       "      <td>4514.158514</td>\n",
       "      <td>90.227958</td>\n",
       "      <td>189.850405</td>\n",
       "      <td>37905.341530</td>\n",
       "      <td>3.726421</td>\n",
       "      <td>0.0</td>\n",
       "      <td>25783.096248</td>\n",
       "    </tr>\n",
       "    <tr>\n",
       "      <th>min</th>\n",
       "      <td>0.000000</td>\n",
       "      <td>1000.000000</td>\n",
       "      <td>0.000000</td>\n",
       "      <td>5000.000000</td>\n",
       "      <td>0.000000</td>\n",
       "      <td>0.0</td>\n",
       "      <td>1067.000000</td>\n",
       "    </tr>\n",
       "    <tr>\n",
       "      <th>25%</th>\n",
       "      <td>1050.000000</td>\n",
       "      <td>1999.000000</td>\n",
       "      <td>69.000000</td>\n",
       "      <td>125000.000000</td>\n",
       "      <td>3.000000</td>\n",
       "      <td>0.0</td>\n",
       "      <td>30165.000000</td>\n",
       "    </tr>\n",
       "    <tr>\n",
       "      <th>50%</th>\n",
       "      <td>2700.000000</td>\n",
       "      <td>2003.000000</td>\n",
       "      <td>105.000000</td>\n",
       "      <td>150000.000000</td>\n",
       "      <td>6.000000</td>\n",
       "      <td>0.0</td>\n",
       "      <td>49413.000000</td>\n",
       "    </tr>\n",
       "    <tr>\n",
       "      <th>75%</th>\n",
       "      <td>6400.000000</td>\n",
       "      <td>2008.000000</td>\n",
       "      <td>143.000000</td>\n",
       "      <td>150000.000000</td>\n",
       "      <td>9.000000</td>\n",
       "      <td>0.0</td>\n",
       "      <td>71083.000000</td>\n",
       "    </tr>\n",
       "    <tr>\n",
       "      <th>max</th>\n",
       "      <td>20000.000000</td>\n",
       "      <td>9999.000000</td>\n",
       "      <td>20000.000000</td>\n",
       "      <td>150000.000000</td>\n",
       "      <td>12.000000</td>\n",
       "      <td>0.0</td>\n",
       "      <td>99998.000000</td>\n",
       "    </tr>\n",
       "  </tbody>\n",
       "</table>\n",
       "</div>"
      ],
      "text/plain": [
       "               Price  RegistrationYear          Power      Kilometer  \\\n",
       "count  354369.000000     354369.000000  354369.000000  354369.000000   \n",
       "mean     4416.656776       2004.234448     110.094337  128211.172535   \n",
       "std      4514.158514         90.227958     189.850405   37905.341530   \n",
       "min         0.000000       1000.000000       0.000000    5000.000000   \n",
       "25%      1050.000000       1999.000000      69.000000  125000.000000   \n",
       "50%      2700.000000       2003.000000     105.000000  150000.000000   \n",
       "75%      6400.000000       2008.000000     143.000000  150000.000000   \n",
       "max     20000.000000       9999.000000   20000.000000  150000.000000   \n",
       "\n",
       "       RegistrationMonth  NumberOfPictures     PostalCode  \n",
       "count      354369.000000          354369.0  354369.000000  \n",
       "mean            5.714645               0.0   50508.689087  \n",
       "std             3.726421               0.0   25783.096248  \n",
       "min             0.000000               0.0    1067.000000  \n",
       "25%             3.000000               0.0   30165.000000  \n",
       "50%             6.000000               0.0   49413.000000  \n",
       "75%             9.000000               0.0   71083.000000  \n",
       "max            12.000000               0.0   99998.000000  "
      ]
     },
     "execution_count": 5,
     "metadata": {},
     "output_type": "execute_result"
    }
   ],
   "source": [
    "data_avto.describe()"
   ]
  },
  {
   "cell_type": "code",
   "execution_count": 6,
   "metadata": {},
   "outputs": [
    {
     "data": {
      "text/html": [
       "<style  type=\"text/css\" >\n",
       "#T_860ef_row0_col0,#T_860ef_row1_col0,#T_860ef_row3_col0,#T_860ef_row5_col0,#T_860ef_row7_col0,#T_860ef_row8_col0,#T_860ef_row10_col0,#T_860ef_row12_col0,#T_860ef_row13_col0,#T_860ef_row14_col0,#T_860ef_row15_col0{\n",
       "            background-color:  #3b4cc0;\n",
       "            color:  #f1f1f1;\n",
       "        }#T_860ef_row2_col0{\n",
       "            background-color:  #e4d9d2;\n",
       "            color:  #000000;\n",
       "        }#T_860ef_row4_col0,#T_860ef_row6_col0{\n",
       "            background-color:  #97b8ff;\n",
       "            color:  #000000;\n",
       "        }#T_860ef_row9_col0{\n",
       "            background-color:  #d3dbe7;\n",
       "            color:  #000000;\n",
       "        }#T_860ef_row11_col0{\n",
       "            background-color:  #b40426;\n",
       "            color:  #f1f1f1;\n",
       "        }</style><table id=\"T_860ef_\" ><thead>    <tr>        <th class=\"blank level0\" ></th>        <th class=\"col_heading level0 col0\" >0</th>    </tr></thead><tbody>\n",
       "                <tr>\n",
       "                        <th id=\"T_860ef_level0_row0\" class=\"row_heading level0 row0\" >DateCrawled</th>\n",
       "                        <td id=\"T_860ef_row0_col0\" class=\"data row0 col0\" >0.000000</td>\n",
       "            </tr>\n",
       "            <tr>\n",
       "                        <th id=\"T_860ef_level0_row1\" class=\"row_heading level0 row1\" >Price</th>\n",
       "                        <td id=\"T_860ef_row1_col0\" class=\"data row1 col0\" >0.000000</td>\n",
       "            </tr>\n",
       "            <tr>\n",
       "                        <th id=\"T_860ef_level0_row2\" class=\"row_heading level0 row2\" >VehicleType</th>\n",
       "                        <td id=\"T_860ef_row2_col0\" class=\"data row2 col0\" >10.600000</td>\n",
       "            </tr>\n",
       "            <tr>\n",
       "                        <th id=\"T_860ef_level0_row3\" class=\"row_heading level0 row3\" >RegistrationYear</th>\n",
       "                        <td id=\"T_860ef_row3_col0\" class=\"data row3 col0\" >0.000000</td>\n",
       "            </tr>\n",
       "            <tr>\n",
       "                        <th id=\"T_860ef_level0_row4\" class=\"row_heading level0 row4\" >Gearbox</th>\n",
       "                        <td id=\"T_860ef_row4_col0\" class=\"data row4 col0\" >5.600000</td>\n",
       "            </tr>\n",
       "            <tr>\n",
       "                        <th id=\"T_860ef_level0_row5\" class=\"row_heading level0 row5\" >Power</th>\n",
       "                        <td id=\"T_860ef_row5_col0\" class=\"data row5 col0\" >0.000000</td>\n",
       "            </tr>\n",
       "            <tr>\n",
       "                        <th id=\"T_860ef_level0_row6\" class=\"row_heading level0 row6\" >Model</th>\n",
       "                        <td id=\"T_860ef_row6_col0\" class=\"data row6 col0\" >5.600000</td>\n",
       "            </tr>\n",
       "            <tr>\n",
       "                        <th id=\"T_860ef_level0_row7\" class=\"row_heading level0 row7\" >Kilometer</th>\n",
       "                        <td id=\"T_860ef_row7_col0\" class=\"data row7 col0\" >0.000000</td>\n",
       "            </tr>\n",
       "            <tr>\n",
       "                        <th id=\"T_860ef_level0_row8\" class=\"row_heading level0 row8\" >RegistrationMonth</th>\n",
       "                        <td id=\"T_860ef_row8_col0\" class=\"data row8 col0\" >0.000000</td>\n",
       "            </tr>\n",
       "            <tr>\n",
       "                        <th id=\"T_860ef_level0_row9\" class=\"row_heading level0 row9\" >FuelType</th>\n",
       "                        <td id=\"T_860ef_row9_col0\" class=\"data row9 col0\" >9.300000</td>\n",
       "            </tr>\n",
       "            <tr>\n",
       "                        <th id=\"T_860ef_level0_row10\" class=\"row_heading level0 row10\" >Brand</th>\n",
       "                        <td id=\"T_860ef_row10_col0\" class=\"data row10 col0\" >0.000000</td>\n",
       "            </tr>\n",
       "            <tr>\n",
       "                        <th id=\"T_860ef_level0_row11\" class=\"row_heading level0 row11\" >Repaired</th>\n",
       "                        <td id=\"T_860ef_row11_col0\" class=\"data row11 col0\" >20.100000</td>\n",
       "            </tr>\n",
       "            <tr>\n",
       "                        <th id=\"T_860ef_level0_row12\" class=\"row_heading level0 row12\" >DateCreated</th>\n",
       "                        <td id=\"T_860ef_row12_col0\" class=\"data row12 col0\" >0.000000</td>\n",
       "            </tr>\n",
       "            <tr>\n",
       "                        <th id=\"T_860ef_level0_row13\" class=\"row_heading level0 row13\" >NumberOfPictures</th>\n",
       "                        <td id=\"T_860ef_row13_col0\" class=\"data row13 col0\" >0.000000</td>\n",
       "            </tr>\n",
       "            <tr>\n",
       "                        <th id=\"T_860ef_level0_row14\" class=\"row_heading level0 row14\" >PostalCode</th>\n",
       "                        <td id=\"T_860ef_row14_col0\" class=\"data row14 col0\" >0.000000</td>\n",
       "            </tr>\n",
       "            <tr>\n",
       "                        <th id=\"T_860ef_level0_row15\" class=\"row_heading level0 row15\" >LastSeen</th>\n",
       "                        <td id=\"T_860ef_row15_col0\" class=\"data row15 col0\" >0.000000</td>\n",
       "            </tr>\n",
       "    </tbody></table>"
      ],
      "text/plain": [
       "<pandas.io.formats.style.Styler at 0x7fa4cc1a2df0>"
      ]
     },
     "execution_count": 6,
     "metadata": {},
     "output_type": "execute_result"
    }
   ],
   "source": [
    "pd.DataFrame(round(data_avto.isna().mean()*100,1)).style.background_gradient('coolwarm')"
   ]
  },
  {
   "cell_type": "markdown",
   "metadata": {},
   "source": [
    "**Вывод по шагу 1.1**:\n",
    "1. Данные загружены и изучены\n",
    "2. Есть признаки, которые никак не влияют на стоимость автомобиля - DateCrawled, RegistrationMonth, DateCreated, NumberOfPictures, PostalCode, LastSeen - эти неинформативные столбцы надо удалить перед предобработкой данных.\n",
    "3. В целевом признаке Price минимальное значение 0, аналогично и в признаках Power и RegistrationMonth. Столбец RegistrationMonth мы будем удалять, в других посмотрим на выбросы на этапе предобработки данных.\n",
    "4. В столбце RegistrationYear также присутствуют выбросы(минимальное значение 1000 и максимальное 9999). Эти выбросы тоже необходимо проанализировать в дальнейшем.\n",
    "5. Названия столбцов необходимо привести к змеиному стилю.\n",
    "6. Есть пропуски, которые требуется обработать на следующих шагах."
   ]
  },
  {
   "cell_type": "markdown",
   "metadata": {},
   "source": [
    "### Замена названия столбцов"
   ]
  },
  {
   "cell_type": "code",
   "execution_count": 7,
   "metadata": {},
   "outputs": [
    {
     "data": {
      "text/plain": [
       "Index(['DateCrawled', 'Price', 'VehicleType', 'RegistrationYear', 'Gearbox',\n",
       "       'Power', 'Model', 'Kilometer', 'RegistrationMonth', 'FuelType', 'Brand',\n",
       "       'Repaired', 'DateCreated', 'NumberOfPictures', 'PostalCode',\n",
       "       'LastSeen'],\n",
       "      dtype='object')"
      ]
     },
     "execution_count": 7,
     "metadata": {},
     "output_type": "execute_result"
    }
   ],
   "source": [
    "# выведем текущее наименование столбцов\n",
    "data_avto.columns"
   ]
  },
  {
   "cell_type": "code",
   "execution_count": 8,
   "metadata": {},
   "outputs": [
    {
     "data": {
      "text/plain": [
       "Index(['datecrawled', 'price', 'vehicletype', 'registrationyear', 'gearbox',\n",
       "       'power', 'model', 'kilometer', 'registrationmonth', 'fueltype', 'brand',\n",
       "       'repaired', 'datecreated', 'numberofpictures', 'postalcode',\n",
       "       'lastseen'],\n",
       "      dtype='object')"
      ]
     },
     "execution_count": 8,
     "metadata": {},
     "output_type": "execute_result"
    }
   ],
   "source": [
    "# приведем названия столбцов к нижнему регистру\n",
    "data_avto.columns = data_avto.columns.str.lower()\n",
    "data_avto.columns"
   ]
  },
  {
   "cell_type": "code",
   "execution_count": 9,
   "metadata": {},
   "outputs": [],
   "source": [
    "# приведем названия столбцов к змеиному стилю\n",
    "data_avto.columns = ['date_crawled', 'price', 'vehicle_type', 'registration_year', 'gearbox',\n",
    "       'power', 'model', 'kilometer', 'registration_month', 'fuel_type', 'brand',\n",
    "       'repaired', 'date_created', 'number_of_pictures', 'postal_code',\n",
    "       'last_seen']"
   ]
  },
  {
   "cell_type": "code",
   "execution_count": 10,
   "metadata": {},
   "outputs": [
    {
     "data": {
      "text/plain": [
       "Index(['date_crawled', 'price', 'vehicle_type', 'registration_year', 'gearbox',\n",
       "       'power', 'model', 'kilometer', 'registration_month', 'fuel_type',\n",
       "       'brand', 'repaired', 'date_created', 'number_of_pictures',\n",
       "       'postal_code', 'last_seen'],\n",
       "      dtype='object')"
      ]
     },
     "execution_count": 10,
     "metadata": {},
     "output_type": "execute_result"
    }
   ],
   "source": [
    "# проверим изменения\n",
    "data_avto.columns"
   ]
  },
  {
   "cell_type": "markdown",
   "metadata": {},
   "source": [
    "**Вывод по шагу 1.2**:\n",
    "\n",
    "Названия столбцов приведены к нижнему регистру и змеиному стилю."
   ]
  },
  {
   "cell_type": "markdown",
   "metadata": {},
   "source": [
    "### Определение неинформативных столбцов и их удаление"
   ]
  },
  {
   "cell_type": "markdown",
   "metadata": {},
   "source": [
    "На предыдущем шаге мы определили неинформативные столбцы ( DateCrawled, RegistrationMonth, DateCreated, NumberOfPictures, PostalCode, LastSeen), информация в которых не влияет на стоимость автомобиля. Удалим эти столбцы."
   ]
  },
  {
   "cell_type": "code",
   "execution_count": 11,
   "metadata": {},
   "outputs": [],
   "source": [
    "data_avto.drop(columns=['date_crawled', 'date_created', 'registration_month',\n",
    "                    'number_of_pictures', 'postal_code', 'last_seen'],\n",
    "           axis=1,\n",
    "           inplace=True)"
   ]
  },
  {
   "cell_type": "code",
   "execution_count": 12,
   "metadata": {},
   "outputs": [
    {
     "data": {
      "text/plain": [
       "Index(['price', 'vehicle_type', 'registration_year', 'gearbox', 'power',\n",
       "       'model', 'kilometer', 'fuel_type', 'brand', 'repaired'],\n",
       "      dtype='object')"
      ]
     },
     "execution_count": 12,
     "metadata": {},
     "output_type": "execute_result"
    }
   ],
   "source": [
    "# проверим изменения\n",
    "data_avto.columns"
   ]
  },
  {
   "cell_type": "code",
   "execution_count": 13,
   "metadata": {},
   "outputs": [
    {
     "name": "stdout",
     "output_type": "stream",
     "text": [
      "\n",
      "Число дубликатов: 45040\n"
     ]
    }
   ],
   "source": [
    "print('\\nЧисло дубликатов:', data_avto.duplicated().sum())"
   ]
  },
  {
   "cell_type": "markdown",
   "metadata": {},
   "source": [
    "**Вывод по шагу 1.3**:\n",
    "1. удалены неинформативные столбцы.\n",
    "2. выявленные дубликаты могут быть не дубликатами в прямом смысле, так как были удалены некоторые данные. В данном случае, по одной и той же марке машины может совпадать годы выпуска, тип коробки передач, мощность, тип топлива и т.д. Поэтому выявленные дубликаты удалять не будем."
   ]
  },
  {
   "cell_type": "markdown",
   "metadata": {},
   "source": [
    "### Обработка пропусков"
   ]
  },
  {
   "cell_type": "code",
   "execution_count": 14,
   "metadata": {},
   "outputs": [
    {
     "name": "stdout",
     "output_type": "stream",
     "text": [
      "<class 'pandas.core.frame.DataFrame'>\n",
      "RangeIndex: 354369 entries, 0 to 354368\n",
      "Data columns (total 10 columns):\n",
      " #   Column             Non-Null Count   Dtype \n",
      "---  ------             --------------   ----- \n",
      " 0   price              354369 non-null  int64 \n",
      " 1   vehicle_type       316879 non-null  object\n",
      " 2   registration_year  354369 non-null  int64 \n",
      " 3   gearbox            334536 non-null  object\n",
      " 4   power              354369 non-null  int64 \n",
      " 5   model              334664 non-null  object\n",
      " 6   kilometer          354369 non-null  int64 \n",
      " 7   fuel_type          321474 non-null  object\n",
      " 8   brand              354369 non-null  object\n",
      " 9   repaired           283215 non-null  object\n",
      "dtypes: int64(4), object(6)\n",
      "memory usage: 27.0+ MB\n"
     ]
    }
   ],
   "source": [
    "data_avto.info()"
   ]
  },
  {
   "cell_type": "code",
   "execution_count": 15,
   "metadata": {},
   "outputs": [
    {
     "data": {
      "text/html": [
       "<style  type=\"text/css\" >\n",
       "#T_0ce3a_row0_col0,#T_0ce3a_row2_col0,#T_0ce3a_row4_col0,#T_0ce3a_row6_col0,#T_0ce3a_row8_col0{\n",
       "            background-color:  #3b4cc0;\n",
       "            color:  #f1f1f1;\n",
       "        }#T_0ce3a_row1_col0{\n",
       "            background-color:  #e4d9d2;\n",
       "            color:  #000000;\n",
       "        }#T_0ce3a_row3_col0,#T_0ce3a_row5_col0{\n",
       "            background-color:  #97b8ff;\n",
       "            color:  #000000;\n",
       "        }#T_0ce3a_row7_col0{\n",
       "            background-color:  #d3dbe7;\n",
       "            color:  #000000;\n",
       "        }#T_0ce3a_row9_col0{\n",
       "            background-color:  #b40426;\n",
       "            color:  #f1f1f1;\n",
       "        }</style><table id=\"T_0ce3a_\" ><thead>    <tr>        <th class=\"blank level0\" ></th>        <th class=\"col_heading level0 col0\" >0</th>    </tr></thead><tbody>\n",
       "                <tr>\n",
       "                        <th id=\"T_0ce3a_level0_row0\" class=\"row_heading level0 row0\" >price</th>\n",
       "                        <td id=\"T_0ce3a_row0_col0\" class=\"data row0 col0\" >0.000000</td>\n",
       "            </tr>\n",
       "            <tr>\n",
       "                        <th id=\"T_0ce3a_level0_row1\" class=\"row_heading level0 row1\" >vehicle_type</th>\n",
       "                        <td id=\"T_0ce3a_row1_col0\" class=\"data row1 col0\" >10.600000</td>\n",
       "            </tr>\n",
       "            <tr>\n",
       "                        <th id=\"T_0ce3a_level0_row2\" class=\"row_heading level0 row2\" >registration_year</th>\n",
       "                        <td id=\"T_0ce3a_row2_col0\" class=\"data row2 col0\" >0.000000</td>\n",
       "            </tr>\n",
       "            <tr>\n",
       "                        <th id=\"T_0ce3a_level0_row3\" class=\"row_heading level0 row3\" >gearbox</th>\n",
       "                        <td id=\"T_0ce3a_row3_col0\" class=\"data row3 col0\" >5.600000</td>\n",
       "            </tr>\n",
       "            <tr>\n",
       "                        <th id=\"T_0ce3a_level0_row4\" class=\"row_heading level0 row4\" >power</th>\n",
       "                        <td id=\"T_0ce3a_row4_col0\" class=\"data row4 col0\" >0.000000</td>\n",
       "            </tr>\n",
       "            <tr>\n",
       "                        <th id=\"T_0ce3a_level0_row5\" class=\"row_heading level0 row5\" >model</th>\n",
       "                        <td id=\"T_0ce3a_row5_col0\" class=\"data row5 col0\" >5.600000</td>\n",
       "            </tr>\n",
       "            <tr>\n",
       "                        <th id=\"T_0ce3a_level0_row6\" class=\"row_heading level0 row6\" >kilometer</th>\n",
       "                        <td id=\"T_0ce3a_row6_col0\" class=\"data row6 col0\" >0.000000</td>\n",
       "            </tr>\n",
       "            <tr>\n",
       "                        <th id=\"T_0ce3a_level0_row7\" class=\"row_heading level0 row7\" >fuel_type</th>\n",
       "                        <td id=\"T_0ce3a_row7_col0\" class=\"data row7 col0\" >9.300000</td>\n",
       "            </tr>\n",
       "            <tr>\n",
       "                        <th id=\"T_0ce3a_level0_row8\" class=\"row_heading level0 row8\" >brand</th>\n",
       "                        <td id=\"T_0ce3a_row8_col0\" class=\"data row8 col0\" >0.000000</td>\n",
       "            </tr>\n",
       "            <tr>\n",
       "                        <th id=\"T_0ce3a_level0_row9\" class=\"row_heading level0 row9\" >repaired</th>\n",
       "                        <td id=\"T_0ce3a_row9_col0\" class=\"data row9 col0\" >20.100000</td>\n",
       "            </tr>\n",
       "    </tbody></table>"
      ],
      "text/plain": [
       "<pandas.io.formats.style.Styler at 0x7fa43af57d00>"
      ]
     },
     "execution_count": 15,
     "metadata": {},
     "output_type": "execute_result"
    }
   ],
   "source": [
    "pd.DataFrame(round(data_avto.isna().mean()*100,1)).style.background_gradient('coolwarm')"
   ]
  },
  {
   "cell_type": "markdown",
   "metadata": {},
   "source": [
    "#### Столбец price"
   ]
  },
  {
   "cell_type": "code",
   "execution_count": 16,
   "metadata": {},
   "outputs": [
    {
     "data": {
      "image/png": "[encoded data removed]",
      "text/plain": [
       "<Figure size 864x504 with 1 Axes>"
      ]
     },
     "metadata": {
      "needs_background": "light"
     },
     "output_type": "display_data"
    }
   ],
   "source": [
    "# посторим гистограмму по столбцу price\n",
    "data_avto.price.hist(bins=50,figsize=(12,7))\n",
    "plt.title('Стоимость автомобилей')\n",
    "plt.xlabel('Стоимость,Евро')\n",
    "plt.ylabel('Количество')\n",
    "plt.show()"
   ]
  },
  {
   "cell_type": "code",
   "execution_count": 17,
   "metadata": {},
   "outputs": [
    {
     "data": {
      "text/plain": [
       "12028"
      ]
     },
     "execution_count": 17,
     "metadata": {},
     "output_type": "execute_result"
    }
   ],
   "source": [
    "data_avto.loc[data_avto['price'] < 10]['price'].count() # определим сколько машин по цене, ниже 10 Евро."
   ]
  },
  {
   "cell_type": "markdown",
   "metadata": {},
   "source": [
    "Цену, меньше 10 евро, будем считать неприемлемой, поэтому необходимо исключить данные выбросы."
   ]
  },
  {
   "cell_type": "code",
   "execution_count": 18,
   "metadata": {},
   "outputs": [],
   "source": [
    "data_avto = data_avto.query('price> 10')"
   ]
  },
  {
   "cell_type": "code",
   "execution_count": 19,
   "metadata": {},
   "outputs": [
    {
     "data": {
      "text/plain": [
       "0"
      ]
     },
     "execution_count": 19,
     "metadata": {},
     "output_type": "execute_result"
    }
   ],
   "source": [
    "data_avto.loc[data_avto['price'] < 10]['price'].count()"
   ]
  },
  {
   "cell_type": "code",
   "execution_count": 20,
   "metadata": {},
   "outputs": [
    {
     "data": {
      "image/png": "[encoded data removed]",
      "text/plain": [
       "<Figure size 1440x720 with 1 Axes>"
      ]
     },
     "metadata": {
      "needs_background": "light"
     },
     "output_type": "display_data"
    }
   ],
   "source": [
    "data_avto.boxplot(['price'],figsize=(20,10))\n",
    "plt.title('Распределение значений столбца price')\n",
    "plt.ylabel('Стоимость,Евро')\n",
    "plt.show()"
   ]
  },
  {
   "cell_type": "markdown",
   "metadata": {},
   "source": [
    "#### Столбец vehicle_type"
   ]
  },
  {
   "cell_type": "code",
   "execution_count": 21,
   "metadata": {},
   "outputs": [],
   "source": [
    "# здесь присутствует много пропусков - 9,7%. Заменим пропущенные значения на unknown\n",
    "data_avto.fillna({'vehicle_type':'unknown'}, inplace=True)"
   ]
  },
  {
   "cell_type": "code",
   "execution_count": 22,
   "metadata": {},
   "outputs": [
    {
     "data": {
      "text/plain": [
       "sedan          89190\n",
       "small          77828\n",
       "wagon          63533\n",
       "unknown        33202\n",
       "bus            28278\n",
       "convertible    19824\n",
       "coupe          15574\n",
       "suv            11768\n",
       "other           3060\n",
       "Name: vehicle_type, dtype: int64"
      ]
     },
     "execution_count": 22,
     "metadata": {},
     "output_type": "execute_result"
    }
   ],
   "source": [
    "data_avto.vehicle_type.value_counts()"
   ]
  },
  {
   "cell_type": "markdown",
   "metadata": {},
   "source": [
    "#### Столбец registration_year\t"
   ]
  },
  {
   "cell_type": "markdown",
   "metadata": {},
   "source": [
    "Пропуски в данном столбце отсутствуют, проверим выбросы."
   ]
  },
  {
   "cell_type": "code",
   "execution_count": 23,
   "metadata": {},
   "outputs": [
    {
     "data": {
      "text/html": [
       "<div>\n",
       "<style scoped>\n",
       "    .dataframe tbody tr th:only-of-type {\n",
       "        vertical-align: middle;\n",
       "    }\n",
       "\n",
       "    .dataframe tbody tr th {\n",
       "        vertical-align: top;\n",
       "    }\n",
       "\n",
       "    .dataframe thead th {\n",
       "        text-align: right;\n",
       "    }\n",
       "</style>\n",
       "<table border=\"1\" class=\"dataframe\">\n",
       "  <thead>\n",
       "    <tr style=\"text-align: right;\">\n",
       "      <th></th>\n",
       "      <th>registration_year</th>\n",
       "      <th>count</th>\n",
       "    </tr>\n",
       "  </thead>\n",
       "  <tbody>\n",
       "    <tr>\n",
       "      <th>0</th>\n",
       "      <td>1000</td>\n",
       "      <td>28</td>\n",
       "    </tr>\n",
       "    <tr>\n",
       "      <th>1</th>\n",
       "      <td>1001</td>\n",
       "      <td>1</td>\n",
       "    </tr>\n",
       "    <tr>\n",
       "      <th>2</th>\n",
       "      <td>1039</td>\n",
       "      <td>1</td>\n",
       "    </tr>\n",
       "    <tr>\n",
       "      <th>3</th>\n",
       "      <td>1111</td>\n",
       "      <td>1</td>\n",
       "    </tr>\n",
       "    <tr>\n",
       "      <th>4</th>\n",
       "      <td>1234</td>\n",
       "      <td>4</td>\n",
       "    </tr>\n",
       "    <tr>\n",
       "      <th>...</th>\n",
       "      <td>...</td>\n",
       "      <td>...</td>\n",
       "    </tr>\n",
       "    <tr>\n",
       "      <th>134</th>\n",
       "      <td>8500</td>\n",
       "      <td>1</td>\n",
       "    </tr>\n",
       "    <tr>\n",
       "      <th>135</th>\n",
       "      <td>8888</td>\n",
       "      <td>1</td>\n",
       "    </tr>\n",
       "    <tr>\n",
       "      <th>136</th>\n",
       "      <td>9000</td>\n",
       "      <td>2</td>\n",
       "    </tr>\n",
       "    <tr>\n",
       "      <th>137</th>\n",
       "      <td>9450</td>\n",
       "      <td>1</td>\n",
       "    </tr>\n",
       "    <tr>\n",
       "      <th>138</th>\n",
       "      <td>9999</td>\n",
       "      <td>18</td>\n",
       "    </tr>\n",
       "  </tbody>\n",
       "</table>\n",
       "<p>139 rows × 2 columns</p>\n",
       "</div>"
      ],
      "text/plain": [
       "     registration_year  count\n",
       "0                 1000     28\n",
       "1                 1001      1\n",
       "2                 1039      1\n",
       "3                 1111      1\n",
       "4                 1234      4\n",
       "..                 ...    ...\n",
       "134               8500      1\n",
       "135               8888      1\n",
       "136               9000      2\n",
       "137               9450      1\n",
       "138               9999     18\n",
       "\n",
       "[139 rows x 2 columns]"
      ]
     },
     "execution_count": 23,
     "metadata": {},
     "output_type": "execute_result"
    }
   ],
   "source": [
    "data_avto_years = data_avto.groupby('registration_year')['price'].agg('count').reset_index()\n",
    "data_avto_years.columns = ['registration_year', 'count']\n",
    "data_avto_years"
   ]
  },
  {
   "cell_type": "code",
   "execution_count": 24,
   "metadata": {},
   "outputs": [
    {
     "data": {
      "image/png": "[encoded data removed]",
      "text/plain": [
       "<Figure size 1800x1080 with 1 Axes>"
      ]
     },
     "metadata": {
      "needs_background": "light"
     },
     "output_type": "display_data"
    }
   ],
   "source": [
    "# построим гистограмму\n",
    "data_avto_years.plot.bar(x = 'registration_year', y = 'count', grid=True, title='Распределение по годам',\n",
    "                   figsize=(25,15)).set(xlabel='год регистрации', ylabel='количество автомобилей');"
   ]
  },
  {
   "cell_type": "code",
   "execution_count": 25,
   "metadata": {},
   "outputs": [
    {
     "data": {
      "text/plain": [
       "array([1993, 2011, 2004, 2001, 2008, 1995, 2014, 1998, 2005, 1910, 2016,\n",
       "       2007, 2009, 2002, 2018, 1997, 1990, 2017, 1981, 2003, 1994, 1991,\n",
       "       1984, 2006, 1999, 2012, 2010, 2000, 1992, 2013, 1996, 1985, 1989,\n",
       "       2015, 1982, 1976, 1983, 1973, 1969, 1971, 1987, 1986, 1988, 1980,\n",
       "       1970, 1965, 1945, 1925, 1974, 1979, 1955, 1978, 1972, 1968, 1977,\n",
       "       1961, 1966, 1975, 1963, 1964, 1960, 5000, 1958, 1967, 1956, 3200,\n",
       "       1000, 1941, 9999, 8888, 1500, 2200, 4100, 1962, 1929, 1957, 1940,\n",
       "       3000, 2066, 1949, 2019, 1937, 1951, 1800, 1959, 1953, 1954, 1234,\n",
       "       8000, 5300, 9000, 2900, 6000, 5900, 5911, 1400, 1950, 4000, 1948,\n",
       "       1952, 8500, 1932, 1255, 3700, 3800, 4800, 1942, 7000, 1935, 1933,\n",
       "       1936, 1923, 2290, 1930, 1001, 9450, 1944, 2500, 1943, 1938, 1934,\n",
       "       1928, 5555, 5600, 1600, 1111, 2222, 1039, 1300, 2800, 1931, 4500,\n",
       "       1602, 7800, 1947, 1927, 7100, 8200, 1946])"
      ]
     },
     "execution_count": 25,
     "metadata": {},
     "output_type": "execute_result"
    }
   ],
   "source": [
    "data_avto['registration_year'].unique()"
   ]
  },
  {
   "cell_type": "code",
   "execution_count": 26,
   "metadata": {},
   "outputs": [],
   "source": [
    "data_avto=data_avto.query('registration_year >= 1923 & registration_year <= 2016')"
   ]
  },
  {
   "cell_type": "markdown",
   "metadata": {},
   "source": [
    "К продаже могут быть представлены так называемые \"ретро\"-автомобили, поэтому период регистрации автомобиля взяли с 1923.\n",
    "Проверим, как выглядит график после проведенных изменений."
   ]
  },
  {
   "cell_type": "code",
   "execution_count": 27,
   "metadata": {},
   "outputs": [
    {
     "data": {
      "text/html": [
       "<div>\n",
       "<style scoped>\n",
       "    .dataframe tbody tr th:only-of-type {\n",
       "        vertical-align: middle;\n",
       "    }\n",
       "\n",
       "    .dataframe tbody tr th {\n",
       "        vertical-align: top;\n",
       "    }\n",
       "\n",
       "    .dataframe thead th {\n",
       "        text-align: right;\n",
       "    }\n",
       "</style>\n",
       "<table border=\"1\" class=\"dataframe\">\n",
       "  <thead>\n",
       "    <tr style=\"text-align: right;\">\n",
       "      <th></th>\n",
       "      <th>registration_year</th>\n",
       "      <th>count</th>\n",
       "    </tr>\n",
       "  </thead>\n",
       "  <tbody>\n",
       "    <tr>\n",
       "      <th>0</th>\n",
       "      <td>1923</td>\n",
       "      <td>2</td>\n",
       "    </tr>\n",
       "    <tr>\n",
       "      <th>1</th>\n",
       "      <td>1925</td>\n",
       "      <td>1</td>\n",
       "    </tr>\n",
       "    <tr>\n",
       "      <th>2</th>\n",
       "      <td>1927</td>\n",
       "      <td>1</td>\n",
       "    </tr>\n",
       "    <tr>\n",
       "      <th>3</th>\n",
       "      <td>1928</td>\n",
       "      <td>2</td>\n",
       "    </tr>\n",
       "    <tr>\n",
       "      <th>4</th>\n",
       "      <td>1929</td>\n",
       "      <td>6</td>\n",
       "    </tr>\n",
       "    <tr>\n",
       "      <th>...</th>\n",
       "      <td>...</td>\n",
       "      <td>...</td>\n",
       "    </tr>\n",
       "    <tr>\n",
       "      <th>86</th>\n",
       "      <td>2012</td>\n",
       "      <td>7114</td>\n",
       "    </tr>\n",
       "    <tr>\n",
       "      <th>87</th>\n",
       "      <td>2013</td>\n",
       "      <td>4090</td>\n",
       "    </tr>\n",
       "    <tr>\n",
       "      <th>88</th>\n",
       "      <td>2014</td>\n",
       "      <td>2500</td>\n",
       "    </tr>\n",
       "    <tr>\n",
       "      <th>89</th>\n",
       "      <td>2015</td>\n",
       "      <td>1210</td>\n",
       "    </tr>\n",
       "    <tr>\n",
       "      <th>90</th>\n",
       "      <td>2016</td>\n",
       "      <td>8905</td>\n",
       "    </tr>\n",
       "  </tbody>\n",
       "</table>\n",
       "<p>91 rows × 2 columns</p>\n",
       "</div>"
      ],
      "text/plain": [
       "    registration_year  count\n",
       "0                1923      2\n",
       "1                1925      1\n",
       "2                1927      1\n",
       "3                1928      2\n",
       "4                1929      6\n",
       "..                ...    ...\n",
       "86               2012   7114\n",
       "87               2013   4090\n",
       "88               2014   2500\n",
       "89               2015   1210\n",
       "90               2016   8905\n",
       "\n",
       "[91 rows x 2 columns]"
      ]
     },
     "execution_count": 27,
     "metadata": {},
     "output_type": "execute_result"
    }
   ],
   "source": [
    "data_avto_years = data_avto.groupby('registration_year')['price'].agg('count').reset_index()\n",
    "data_avto_years.columns = ['registration_year', 'count']\n",
    "data_avto_years"
   ]
  },
  {
   "cell_type": "code",
   "execution_count": 28,
   "metadata": {},
   "outputs": [
    {
     "data": {
      "image/png": "[encoded data removed]",
      "text/plain": [
       "<Figure size 1800x1080 with 1 Axes>"
      ]
     },
     "metadata": {
      "needs_background": "light"
     },
     "output_type": "display_data"
    }
   ],
   "source": [
    "# построим гистограмму\n",
    "data_avto_years.plot.bar(x = 'registration_year', y = 'count', grid=True, title='Распределение по годам',\n",
    "                   figsize=(25,15)).set(xlabel='год регистрации', ylabel='количество автомобилей');"
   ]
  },
  {
   "cell_type": "markdown",
   "metadata": {},
   "source": [
    "#### Столбец gearbox"
   ]
  },
  {
   "cell_type": "code",
   "execution_count": 29,
   "metadata": {},
   "outputs": [
    {
     "data": {
      "text/plain": [
       "array(['manual', 'auto', nan], dtype=object)"
      ]
     },
     "execution_count": 29,
     "metadata": {},
     "output_type": "execute_result"
    }
   ],
   "source": [
    "data_avto['gearbox'].unique()"
   ]
  },
  {
   "cell_type": "markdown",
   "metadata": {},
   "source": [
    "В данном столбце присутствуют пропуски (они составляют 5,6% ,это немного). К тому же информация о корбкe передач достаточно важный параметр при покупке/продаже автомобиля. В связи с этим, лучше удалить эти данные, чем заполнить пропуски каким-то значением."
   ]
  },
  {
   "cell_type": "code",
   "execution_count": 30,
   "metadata": {},
   "outputs": [],
   "source": [
    "data_avto.dropna(subset=['gearbox'], inplace=True)"
   ]
  },
  {
   "cell_type": "code",
   "execution_count": 31,
   "metadata": {},
   "outputs": [
    {
     "data": {
      "text/plain": [
       "array(['manual', 'auto'], dtype=object)"
      ]
     },
     "execution_count": 31,
     "metadata": {},
     "output_type": "execute_result"
    }
   ],
   "source": [
    "# посмотрим на результат\n",
    "data_avto['gearbox'].unique()"
   ]
  },
  {
   "cell_type": "markdown",
   "metadata": {},
   "source": [
    "#### Столбец power"
   ]
  },
  {
   "cell_type": "markdown",
   "metadata": {},
   "source": [
    "В данном столбце пропуски отсутствуют. Проверим выбросы."
   ]
  },
  {
   "cell_type": "code",
   "execution_count": 32,
   "metadata": {},
   "outputs": [
    {
     "data": {
      "text/plain": [
       "count    313316.000000\n",
       "mean        115.622831\n",
       "std         184.828265\n",
       "min           0.000000\n",
       "25%          75.000000\n",
       "50%         107.000000\n",
       "75%         144.000000\n",
       "max       20000.000000\n",
       "Name: power, dtype: float64"
      ]
     },
     "execution_count": 32,
     "metadata": {},
     "output_type": "execute_result"
    }
   ],
   "source": [
    "data_avto['power'].describe()"
   ]
  },
  {
   "cell_type": "code",
   "execution_count": 33,
   "metadata": {},
   "outputs": [
    {
     "data": {
      "text/plain": [
       "0       22475\n",
       "75      21558\n",
       "60      14364\n",
       "150     13515\n",
       "101     12190\n",
       "        ...  \n",
       "416         1\n",
       "1079        1\n",
       "6045        1\n",
       "671         1\n",
       "1653        1\n",
       "Name: power, Length: 675, dtype: int64"
      ]
     },
     "execution_count": 33,
     "metadata": {},
     "output_type": "execute_result"
    }
   ],
   "source": [
    "data_avto['power'].value_counts()"
   ]
  },
  {
   "cell_type": "code",
   "execution_count": 34,
   "metadata": {},
   "outputs": [
    {
     "data": {
      "image/png": "[encoded data removed]",
      "text/plain": [
       "<Figure size 648x216 with 1 Axes>"
      ]
     },
     "metadata": {
      "needs_background": "light"
     },
     "output_type": "display_data"
    }
   ],
   "source": [
    "data_avto.power.hist(bins=300,figsize=(9,3))\n",
    "plt.show()"
   ]
  },
  {
   "cell_type": "markdown",
   "metadata": {},
   "source": [
    "Очевидно, что мощностей, равных 0, не бывает. Удалим эти данные."
   ]
  },
  {
   "cell_type": "code",
   "execution_count": 35,
   "metadata": {},
   "outputs": [],
   "source": [
    "data_avto=data_avto.query('power >0 & power < 2030') # внесены исправления по верхней границе"
   ]
  },
  {
   "cell_type": "code",
   "execution_count": 36,
   "metadata": {},
   "outputs": [
    {
     "data": {
      "text/plain": [
       "75      21558\n",
       "60      14364\n",
       "150     13515\n",
       "101     12190\n",
       "140     12185\n",
       "        ...  \n",
       "1200        1\n",
       "1968        1\n",
       "1625        1\n",
       "1202        1\n",
       "398         1\n",
       "Name: power, Length: 591, dtype: int64"
      ]
     },
     "execution_count": 36,
     "metadata": {},
     "output_type": "execute_result"
    }
   ],
   "source": [
    "data_avto['power'].value_counts()"
   ]
  },
  {
   "cell_type": "code",
   "execution_count": 37,
   "metadata": {},
   "outputs": [
    {
     "data": {
      "image/png": "[encoded data removed]",
      "text/plain": [
       "<Figure size 648x216 with 1 Axes>"
      ]
     },
     "metadata": {
      "needs_background": "light"
     },
     "output_type": "display_data"
    }
   ],
   "source": [
    "data_avto.power.hist(bins=300,figsize=(9,3))\n",
    "plt.show()"
   ]
  },
  {
   "cell_type": "markdown",
   "metadata": {},
   "source": [
    "#### Столбец model"
   ]
  },
  {
   "cell_type": "markdown",
   "metadata": {},
   "source": [
    "В данном столбце присутствуют пропуски (5,6%). Их немного, также модель - это важный фактор при выборе автомобиля, поэтому менять пропуски в данном столбце на какое-либо значение будет неправильным, удалим отсутствующие значения из наших данных. Также проверим на выбросы."
   ]
  },
  {
   "cell_type": "code",
   "execution_count": 38,
   "metadata": {},
   "outputs": [],
   "source": [
    "data_avto.dropna(subset=['model'], inplace=True)"
   ]
  },
  {
   "cell_type": "code",
   "execution_count": 39,
   "metadata": {
    "scrolled": true
   },
   "outputs": [
    {
     "data": {
      "text/plain": [
       "array(['grand', 'golf', 'fabia', '3er', '2_reihe', 'c_max', '3_reihe',\n",
       "       'passat', 'navara', 'twingo', 'a_klasse', 'scirocco', '5er',\n",
       "       'arosa', 'other', 'civic', 'transporter', 'punto', 'e_klasse',\n",
       "       'clio', 'kadett', 'one', 'fortwo', '1er', 'b_klasse', 'a8',\n",
       "       'jetta', 'fiesta', 'c_klasse', 'micra', 'vito', 'sprinter',\n",
       "       'astra', '156', 'escort', 'forester', 'xc_reihe', 'scenic', 'a1',\n",
       "       'focus', 'a4', 'tt', 'a6', 'jazz', 'omega', 'polo', 'slk', '7er',\n",
       "       'combo', 'corsa', '80', '147', 'z_reihe', 'sorento', 'ibiza',\n",
       "       'mustang', 'eos', 'touran', 'getz', 'insignia', 'ka', 'almera',\n",
       "       'megane', 'a3', 'lupo', 'r19', 'caddy', 'mondeo', 'cordoba',\n",
       "       'colt', 'impreza', 'vectra', 'berlingo', 'tiguan', '6_reihe', 'c4',\n",
       "       'panda', 'up', 'i_reihe', 'ceed', 'kangoo', '5_reihe', 'yeti',\n",
       "       'octavia', 'zafira', 'mii', 'rx_reihe', '6er', 'modus', 'fox',\n",
       "       'matiz', 'beetle', 'rio', 'touareg', 'logan', 'spider', 'cuore',\n",
       "       's_max', 'a2', 'galaxy', 'c3', 'viano', 's_klasse', '1_reihe',\n",
       "       'sharan', 'avensis', 'roomster', 'sl', 'kaefer', 'santa', 'leon',\n",
       "       'cooper', '4_reihe', 'a5', 'sportage', 'laguna', 'ptcruiser',\n",
       "       'clk', 'primera', 'espace', 'exeo', '159', 'transit', 'juke',\n",
       "       'x_reihe', 'v40', 'carisma', 'accord', 'corolla', 'lanos',\n",
       "       'phaeton', 'verso', 'swift', 'rav', 'qashqai', 'picanto',\n",
       "       'boxster', 'stilo', 'alhambra', 'roadster', 'ypsilon', 'galant',\n",
       "       'justy', '90', 'sirion', 'signum', 'crossfire', 'agila', 'duster',\n",
       "       'v50', 'mx_reihe', '500', 'meriva', 'c_reihe', 'v_klasse',\n",
       "       'm_klasse', 'yaris', 'c5', 'aygo', 'seicento', 'cc', 'carnival',\n",
       "       '911', 'bora', 'forfour', 'cl', 'tigra', '300c', '100', 'cr_reihe',\n",
       "       'spark', 'kuga', 'x_type', 'ducato', 's_type', 'x_trail', 'toledo',\n",
       "       'altea', 'voyager', 'calibra', 'v70', 'bravo', 'c1', 'citigo',\n",
       "       'jimny', 'cayenne', 'wrangler', 'lybra', 'lancer', 'captiva',\n",
       "       'fusion', 'discovery', 'freelander', 'sandero', 'q7', 'note',\n",
       "       'antara', '900', 'cherokee', 'clubman', 'defender', 'cx_reihe',\n",
       "       'legacy', 'pajero', 'auris', 'c2', 'niva', 's60', 'm_reihe',\n",
       "       'nubira', 'vivaro', 'tucson', 'g_klasse', 'lodgy', 'range_rover',\n",
       "       '601', '850', 'superb', 'q3', 'serie_2', 'glk', 'charade', 'croma',\n",
       "       'outlander', 'doblo', 'musa', '9000', 'kalos', 'v60', '200', '145',\n",
       "       'b_max', 'range_rover_sport', 'aveo', 'move', 'rangerover', 'q5',\n",
       "       'range_rover_evoque', 'materia', 'delta', 'terios', 'gl', 'kalina',\n",
       "       'elefantino', 'i3', 'samara', 'amarok', 'kappa', 'serie_3'],\n",
       "      dtype=object)"
      ]
     },
     "execution_count": 39,
     "metadata": {},
     "output_type": "execute_result"
    }
   ],
   "source": [
    "data_avto['model'].unique()"
   ]
  },
  {
   "cell_type": "markdown",
   "metadata": {},
   "source": [
    "#### Столбец kilometer"
   ]
  },
  {
   "cell_type": "markdown",
   "metadata": {},
   "source": [
    "В данном столбце пропусков нет. Данные готовы для обучения."
   ]
  },
  {
   "cell_type": "code",
   "execution_count": 40,
   "metadata": {},
   "outputs": [
    {
     "data": {
      "text/plain": [
       "150000    185408\n",
       "125000     30351\n",
       "100000     12218\n",
       "90000       9865\n",
       "80000       8653\n",
       "70000       7473\n",
       "60000       6577\n",
       "50000       5433\n",
       "40000       4318\n",
       "30000       3720\n",
       "20000       3036\n",
       "5000        2369\n",
       "10000        863\n",
       "Name: kilometer, dtype: int64"
      ]
     },
     "execution_count": 40,
     "metadata": {},
     "output_type": "execute_result"
    }
   ],
   "source": [
    "data_avto['kilometer'].value_counts()"
   ]
  },
  {
   "cell_type": "markdown",
   "metadata": {},
   "source": [
    "#### Столбец fuel_type"
   ]
  },
  {
   "cell_type": "code",
   "execution_count": 41,
   "metadata": {},
   "outputs": [],
   "source": [
    "# здесь присутствует много пропусков - 9,3%. Заменим пропущенные значения на unknown\n",
    "data_avto.fillna({'fuel_type':'unknown'}, inplace=True)"
   ]
  },
  {
   "cell_type": "code",
   "execution_count": 42,
   "metadata": {},
   "outputs": [
    {
     "data": {
      "text/plain": [
       "petrol      178344\n",
       "gasoline     84935\n",
       "unknown      11880\n",
       "lpg           4359\n",
       "cng            462\n",
       "hybrid         178\n",
       "other           72\n",
       "electric        54\n",
       "Name: fuel_type, dtype: int64"
      ]
     },
     "execution_count": 42,
     "metadata": {},
     "output_type": "execute_result"
    }
   ],
   "source": [
    "data_avto['fuel_type'].value_counts()"
   ]
  },
  {
   "cell_type": "markdown",
   "metadata": {},
   "source": [
    "#### Столбец brand"
   ]
  },
  {
   "cell_type": "markdown",
   "metadata": {},
   "source": [
    "Пропуски в данном столбце отсутствуют. С данными все в порядке."
   ]
  },
  {
   "cell_type": "code",
   "execution_count": 43,
   "metadata": {
    "scrolled": true
   },
   "outputs": [
    {
     "data": {
      "text/plain": [
       "volkswagen       60980\n",
       "bmw              30802\n",
       "opel             30736\n",
       "mercedes_benz    26313\n",
       "audi             24632\n",
       "ford             19791\n",
       "renault          13275\n",
       "peugeot           8762\n",
       "fiat              7253\n",
       "seat              5652\n",
       "skoda             4839\n",
       "mazda             4483\n",
       "citroen           4057\n",
       "toyota            3867\n",
       "nissan            3858\n",
       "smart             3671\n",
       "hyundai           2960\n",
       "mini              2896\n",
       "volvo             2724\n",
       "mitsubishi        2366\n",
       "honda             2241\n",
       "kia               1988\n",
       "alfa_romeo        1870\n",
       "suzuki            1869\n",
       "chevrolet         1389\n",
       "chrysler          1101\n",
       "dacia              780\n",
       "subaru             614\n",
       "porsche            599\n",
       "daihatsu           586\n",
       "jeep               557\n",
       "saab               456\n",
       "land_rover         452\n",
       "jaguar             431\n",
       "daewoo             380\n",
       "lancia             360\n",
       "rover              315\n",
       "trabant            229\n",
       "lada               150\n",
       "Name: brand, dtype: int64"
      ]
     },
     "execution_count": 43,
     "metadata": {},
     "output_type": "execute_result"
    }
   ],
   "source": [
    "data_avto['brand'].value_counts()"
   ]
  },
  {
   "cell_type": "markdown",
   "metadata": {},
   "source": [
    "#### Столбец repaired"
   ]
  },
  {
   "cell_type": "markdown",
   "metadata": {},
   "source": [
    "В данном столбце много пропусков (20,1%)."
   ]
  },
  {
   "cell_type": "code",
   "execution_count": 44,
   "metadata": {},
   "outputs": [
    {
     "data": {
      "text/plain": [
       "array([nan, 'no', 'yes'], dtype=object)"
      ]
     },
     "execution_count": 44,
     "metadata": {},
     "output_type": "execute_result"
    }
   ],
   "source": [
    "data_avto['repaired'].unique()"
   ]
  },
  {
   "cell_type": "code",
   "execution_count": 45,
   "metadata": {},
   "outputs": [
    {
     "data": {
      "text/plain": [
       "37096"
      ]
     },
     "execution_count": 45,
     "metadata": {},
     "output_type": "execute_result"
    }
   ],
   "source": [
    "data_avto['repaired'].isna().sum()"
   ]
  },
  {
   "cell_type": "code",
   "execution_count": 46,
   "metadata": {},
   "outputs": [],
   "source": [
    "# очевидно, что отсутствующие данные лучше заменить на unknown\n",
    "data_avto.fillna({'repaired':'unknown'}, inplace=True)"
   ]
  },
  {
   "cell_type": "code",
   "execution_count": 47,
   "metadata": {},
   "outputs": [
    {
     "data": {
      "text/plain": [
       "array(['unknown', 'no', 'yes'], dtype=object)"
      ]
     },
     "execution_count": 47,
     "metadata": {},
     "output_type": "execute_result"
    }
   ],
   "source": [
    "data_avto['repaired'].unique()"
   ]
  },
  {
   "cell_type": "markdown",
   "metadata": {},
   "source": [
    "**Вывод по шагу 1.4**:\n",
    "\n",
    "Пропуски обработаны."
   ]
  },
  {
   "cell_type": "code",
   "execution_count": 48,
   "metadata": {
    "scrolled": true
   },
   "outputs": [
    {
     "data": {
      "text/html": [
       "<style  type=\"text/css\" >\n",
       "#T_c4343_row0_col0,#T_c4343_row1_col0,#T_c4343_row2_col0,#T_c4343_row3_col0,#T_c4343_row4_col0,#T_c4343_row5_col0,#T_c4343_row6_col0,#T_c4343_row7_col0,#T_c4343_row8_col0,#T_c4343_row9_col0{\n",
       "            background-color:  #3b4cc0;\n",
       "            color:  #f1f1f1;\n",
       "        }</style><table id=\"T_c4343_\" ><thead>    <tr>        <th class=\"blank level0\" ></th>        <th class=\"col_heading level0 col0\" >0</th>    </tr></thead><tbody>\n",
       "                <tr>\n",
       "                        <th id=\"T_c4343_level0_row0\" class=\"row_heading level0 row0\" >price</th>\n",
       "                        <td id=\"T_c4343_row0_col0\" class=\"data row0 col0\" >0.000000</td>\n",
       "            </tr>\n",
       "            <tr>\n",
       "                        <th id=\"T_c4343_level0_row1\" class=\"row_heading level0 row1\" >vehicle_type</th>\n",
       "                        <td id=\"T_c4343_row1_col0\" class=\"data row1 col0\" >0.000000</td>\n",
       "            </tr>\n",
       "            <tr>\n",
       "                        <th id=\"T_c4343_level0_row2\" class=\"row_heading level0 row2\" >registration_year</th>\n",
       "                        <td id=\"T_c4343_row2_col0\" class=\"data row2 col0\" >0.000000</td>\n",
       "            </tr>\n",
       "            <tr>\n",
       "                        <th id=\"T_c4343_level0_row3\" class=\"row_heading level0 row3\" >gearbox</th>\n",
       "                        <td id=\"T_c4343_row3_col0\" class=\"data row3 col0\" >0.000000</td>\n",
       "            </tr>\n",
       "            <tr>\n",
       "                        <th id=\"T_c4343_level0_row4\" class=\"row_heading level0 row4\" >power</th>\n",
       "                        <td id=\"T_c4343_row4_col0\" class=\"data row4 col0\" >0.000000</td>\n",
       "            </tr>\n",
       "            <tr>\n",
       "                        <th id=\"T_c4343_level0_row5\" class=\"row_heading level0 row5\" >model</th>\n",
       "                        <td id=\"T_c4343_row5_col0\" class=\"data row5 col0\" >0.000000</td>\n",
       "            </tr>\n",
       "            <tr>\n",
       "                        <th id=\"T_c4343_level0_row6\" class=\"row_heading level0 row6\" >kilometer</th>\n",
       "                        <td id=\"T_c4343_row6_col0\" class=\"data row6 col0\" >0.000000</td>\n",
       "            </tr>\n",
       "            <tr>\n",
       "                        <th id=\"T_c4343_level0_row7\" class=\"row_heading level0 row7\" >fuel_type</th>\n",
       "                        <td id=\"T_c4343_row7_col0\" class=\"data row7 col0\" >0.000000</td>\n",
       "            </tr>\n",
       "            <tr>\n",
       "                        <th id=\"T_c4343_level0_row8\" class=\"row_heading level0 row8\" >brand</th>\n",
       "                        <td id=\"T_c4343_row8_col0\" class=\"data row8 col0\" >0.000000</td>\n",
       "            </tr>\n",
       "            <tr>\n",
       "                        <th id=\"T_c4343_level0_row9\" class=\"row_heading level0 row9\" >repaired</th>\n",
       "                        <td id=\"T_c4343_row9_col0\" class=\"data row9 col0\" >0.000000</td>\n",
       "            </tr>\n",
       "    </tbody></table>"
      ],
      "text/plain": [
       "<pandas.io.formats.style.Styler at 0x7fa4cc1a2640>"
      ]
     },
     "execution_count": 48,
     "metadata": {},
     "output_type": "execute_result"
    }
   ],
   "source": [
    "pd.DataFrame(round(data_avto.isna().mean()*100,1)).style.background_gradient('coolwarm')"
   ]
  },
  {
   "cell_type": "code",
   "execution_count": 49,
   "metadata": {},
   "outputs": [
    {
     "name": "stdout",
     "output_type": "stream",
     "text": [
      "<class 'pandas.core.frame.DataFrame'>\n",
      "Int64Index: 280284 entries, 2 to 354368\n",
      "Data columns (total 10 columns):\n",
      " #   Column             Non-Null Count   Dtype \n",
      "---  ------             --------------   ----- \n",
      " 0   price              280284 non-null  int64 \n",
      " 1   vehicle_type       280284 non-null  object\n",
      " 2   registration_year  280284 non-null  int64 \n",
      " 3   gearbox            280284 non-null  object\n",
      " 4   power              280284 non-null  int64 \n",
      " 5   model              280284 non-null  object\n",
      " 6   kilometer          280284 non-null  int64 \n",
      " 7   fuel_type          280284 non-null  object\n",
      " 8   brand              280284 non-null  object\n",
      " 9   repaired           280284 non-null  object\n",
      "dtypes: int64(4), object(6)\n",
      "memory usage: 23.5+ MB\n"
     ]
    }
   ],
   "source": [
    "data_avto.info()"
   ]
  },
  {
   "cell_type": "markdown",
   "metadata": {},
   "source": [
    "# **Общий вывод по шагу 1**:\n",
    "\n",
    "1. Данные загружены и изучены\n",
    "2. Названия столбцов приведены к нижнему регистру и змеиному стилю.\n",
    "3. Удалены неинформативные столбцы - DateCrawled, RegistrationMonth, DateCreated, NumberOfPictures, PostalCode, LastSeen.\n",
    "4. В столбцах vehicle_type, fuel_type и repaired значения заменены на unknown.\n",
    "5. В столбцах gearbox и model пропущенные данные были удалены.\n",
    "6. В столбцах price, registration_year и power избавились от выбросов.\n",
    "7. В результате обработки данных датафрейм сократился, но 288805 строк достаточно для обучения."
   ]
  },
  {
   "cell_type": "markdown",
   "metadata": {},
   "source": [
    "## Обучение моделей"
   ]
  },
  {
   "cell_type": "code",
   "execution_count": 50,
   "metadata": {},
   "outputs": [
    {
     "data": {
      "text/html": [
       "<div>\n",
       "<style scoped>\n",
       "    .dataframe tbody tr th:only-of-type {\n",
       "        vertical-align: middle;\n",
       "    }\n",
       "\n",
       "    .dataframe tbody tr th {\n",
       "        vertical-align: top;\n",
       "    }\n",
       "\n",
       "    .dataframe thead th {\n",
       "        text-align: right;\n",
       "    }\n",
       "</style>\n",
       "<table border=\"1\" class=\"dataframe\">\n",
       "  <thead>\n",
       "    <tr style=\"text-align: right;\">\n",
       "      <th></th>\n",
       "      <th>price</th>\n",
       "      <th>vehicle_type</th>\n",
       "      <th>registration_year</th>\n",
       "      <th>gearbox</th>\n",
       "      <th>power</th>\n",
       "      <th>model</th>\n",
       "      <th>kilometer</th>\n",
       "      <th>fuel_type</th>\n",
       "      <th>brand</th>\n",
       "      <th>repaired</th>\n",
       "    </tr>\n",
       "  </thead>\n",
       "  <tbody>\n",
       "    <tr>\n",
       "      <th>0</th>\n",
       "      <td>9800</td>\n",
       "      <td>suv</td>\n",
       "      <td>2004</td>\n",
       "      <td>auto</td>\n",
       "      <td>163</td>\n",
       "      <td>grand</td>\n",
       "      <td>125000</td>\n",
       "      <td>gasoline</td>\n",
       "      <td>jeep</td>\n",
       "      <td>unknown</td>\n",
       "    </tr>\n",
       "    <tr>\n",
       "      <th>1</th>\n",
       "      <td>1500</td>\n",
       "      <td>small</td>\n",
       "      <td>2001</td>\n",
       "      <td>manual</td>\n",
       "      <td>75</td>\n",
       "      <td>golf</td>\n",
       "      <td>150000</td>\n",
       "      <td>petrol</td>\n",
       "      <td>volkswagen</td>\n",
       "      <td>no</td>\n",
       "    </tr>\n",
       "    <tr>\n",
       "      <th>2</th>\n",
       "      <td>3600</td>\n",
       "      <td>small</td>\n",
       "      <td>2008</td>\n",
       "      <td>manual</td>\n",
       "      <td>69</td>\n",
       "      <td>fabia</td>\n",
       "      <td>90000</td>\n",
       "      <td>gasoline</td>\n",
       "      <td>skoda</td>\n",
       "      <td>no</td>\n",
       "    </tr>\n",
       "    <tr>\n",
       "      <th>3</th>\n",
       "      <td>650</td>\n",
       "      <td>sedan</td>\n",
       "      <td>1995</td>\n",
       "      <td>manual</td>\n",
       "      <td>102</td>\n",
       "      <td>3er</td>\n",
       "      <td>150000</td>\n",
       "      <td>petrol</td>\n",
       "      <td>bmw</td>\n",
       "      <td>yes</td>\n",
       "    </tr>\n",
       "    <tr>\n",
       "      <th>4</th>\n",
       "      <td>2200</td>\n",
       "      <td>convertible</td>\n",
       "      <td>2004</td>\n",
       "      <td>manual</td>\n",
       "      <td>109</td>\n",
       "      <td>2_reihe</td>\n",
       "      <td>150000</td>\n",
       "      <td>petrol</td>\n",
       "      <td>peugeot</td>\n",
       "      <td>no</td>\n",
       "    </tr>\n",
       "  </tbody>\n",
       "</table>\n",
       "</div>"
      ],
      "text/plain": [
       "   price vehicle_type  registration_year gearbox  power    model  kilometer  \\\n",
       "0   9800          suv               2004    auto    163    grand     125000   \n",
       "1   1500        small               2001  manual     75     golf     150000   \n",
       "2   3600        small               2008  manual     69    fabia      90000   \n",
       "3    650        sedan               1995  manual    102      3er     150000   \n",
       "4   2200  convertible               2004  manual    109  2_reihe     150000   \n",
       "\n",
       "  fuel_type       brand repaired  \n",
       "0  gasoline        jeep  unknown  \n",
       "1    petrol  volkswagen       no  \n",
       "2  gasoline       skoda       no  \n",
       "3    petrol         bmw      yes  \n",
       "4    petrol     peugeot       no  "
      ]
     },
     "execution_count": 50,
     "metadata": {},
     "output_type": "execute_result"
    }
   ],
   "source": [
    "# сбросим индексы после удаления неинформативных столбцов\n",
    "data_avto = data_avto.reset_index(drop=True)\n",
    "data_avto.head()"
   ]
  },
  {
   "cell_type": "code",
   "execution_count": 51,
   "metadata": {},
   "outputs": [
    {
     "name": "stdout",
     "output_type": "stream",
     "text": [
      "<class 'pandas.core.frame.DataFrame'>\n",
      "RangeIndex: 280284 entries, 0 to 280283\n",
      "Data columns (total 10 columns):\n",
      " #   Column             Non-Null Count   Dtype \n",
      "---  ------             --------------   ----- \n",
      " 0   price              280284 non-null  int64 \n",
      " 1   vehicle_type       280284 non-null  object\n",
      " 2   registration_year  280284 non-null  int64 \n",
      " 3   gearbox            280284 non-null  object\n",
      " 4   power              280284 non-null  int64 \n",
      " 5   model              280284 non-null  object\n",
      " 6   kilometer          280284 non-null  int64 \n",
      " 7   fuel_type          280284 non-null  object\n",
      " 8   brand              280284 non-null  object\n",
      " 9   repaired           280284 non-null  object\n",
      "dtypes: int64(4), object(6)\n",
      "memory usage: 21.4+ MB\n"
     ]
    }
   ],
   "source": [
    "data_avto.info()"
   ]
  },
  {
   "cell_type": "code",
   "execution_count": 52,
   "metadata": {},
   "outputs": [],
   "source": [
    "# выделим признаки и целевой признак\n",
    "features = data_avto.drop(['price'], axis=1)\n",
    "target = data_avto['price']"
   ]
  },
  {
   "cell_type": "markdown",
   "metadata": {},
   "source": [
    "Необходимо обучить модели. Применим следующие алгоритмы обучения:\n",
    "- LinearRegression\n",
    "- RandomForestRegressor\n",
    "- CatBoostRegressor\n",
    "- LightGBMRegressor"
   ]
  },
  {
   "cell_type": "code",
   "execution_count": 53,
   "metadata": {},
   "outputs": [],
   "source": [
    "# для расчёта целевой метрики используем RMSE и напишем функцию.\n",
    "def rmse(test,predict):\n",
    "    return ((mean_squared_error(test,predict))**0.5).round(2)"
   ]
  },
  {
   "cell_type": "code",
   "execution_count": 54,
   "metadata": {},
   "outputs": [],
   "source": [
    "# напишем функцию, котторая будет собирать данные, важные для заказчика, в сводную таблицу для анализа\n",
    "def avto_table(RMSE,l_time,p_time,model_name,data_avto):\n",
    "    data_avto.loc[model_name,'Model'] = model_name\n",
    "    data_avto.loc[model_name,'RMSE'] = RMSE\n",
    "    data_avto.loc[model_name,'Time of learn'] = l_time\n",
    "    data_avto.loc[model_name,'Predict time'] = p_time\n",
    "    return data_avto"
   ]
  },
  {
   "cell_type": "code",
   "execution_count": 55,
   "metadata": {},
   "outputs": [
    {
     "data": {
      "text/html": [
       "<div>\n",
       "<style scoped>\n",
       "    .dataframe tbody tr th:only-of-type {\n",
       "        vertical-align: middle;\n",
       "    }\n",
       "\n",
       "    .dataframe tbody tr th {\n",
       "        vertical-align: top;\n",
       "    }\n",
       "\n",
       "    .dataframe thead th {\n",
       "        text-align: right;\n",
       "    }\n",
       "</style>\n",
       "<table border=\"1\" class=\"dataframe\">\n",
       "  <thead>\n",
       "    <tr style=\"text-align: right;\">\n",
       "      <th></th>\n",
       "      <th>Model</th>\n",
       "      <th>RMSE</th>\n",
       "      <th>Time of learn</th>\n",
       "      <th>Predict time</th>\n",
       "    </tr>\n",
       "  </thead>\n",
       "  <tbody>\n",
       "  </tbody>\n",
       "</table>\n",
       "</div>"
      ],
      "text/plain": [
       "Empty DataFrame\n",
       "Columns: [Model, RMSE, Time of learn, Predict time]\n",
       "Index: []"
      ]
     },
     "execution_count": 55,
     "metadata": {},
     "output_type": "execute_result"
    }
   ],
   "source": [
    "# это будет сводная таблица\n",
    "avto_result = pd.DataFrame(columns=['Model','RMSE','Time of learn','Predict time'])\n",
    "avto_result"
   ]
  },
  {
   "cell_type": "code",
   "execution_count": 56,
   "metadata": {},
   "outputs": [],
   "source": [
    "# разделим на обучающую, валидационную и тестовую выборки\n",
    "features_train, features_valid, target_train, target_valid = train_test_split(features, target, test_size=0.3, random_state=12345)\n",
    "features_valid, features_test, target_valid, target_test = train_test_split(features_valid, target_valid, test_size=0.5, random_state=12345)"
   ]
  },
  {
   "cell_type": "markdown",
   "metadata": {},
   "source": [
    "Применим кодирование текстовых данных в категориальные цифровые значения методом OrdinalEncoder."
   ]
  },
  {
   "cell_type": "code",
   "execution_count": 57,
   "metadata": {},
   "outputs": [],
   "source": [
    "# выберем только категориальные признаки\n",
    "cat_columns=['vehicle_type', 'gearbox','model',\n",
    "       'fuel_type', 'brand', 'repaired']"
   ]
  },
  {
   "cell_type": "code",
   "execution_count": 58,
   "metadata": {},
   "outputs": [],
   "source": [
    "#encoder = OrdinalEncoder()\n",
    "#encoder.fit(features[col])\n",
    "#features_ord=features.copy()\n",
    "#features_ord[col]= pd.DataFrame(encoder.transform(features[col]), columns = features[col].columns)"
   ]
  },
  {
   "cell_type": "code",
   "execution_count": 59,
   "metadata": {},
   "outputs": [],
   "source": [
    "# проверим результат\n",
    "#features_ord.head()"
   ]
  },
  {
   "cell_type": "markdown",
   "metadata": {},
   "source": [
    "```python\n",
    "# порядковое кодирование (для \"деревянных моделей\")\n",
    "encoder = OrdinalEncoder(handle_unknown='use_encoded_value', unknown_value=9999)\n",
    "cat_columns = [список всех категориальных признаков]\n",
    "encoder.fit(features_train[cat_columns])\n",
    "\n",
    "features_train_ord = features_train.copy()\n",
    "features_valid_ord = features_valid.copy()\n",
    "features_test_ord = features_test.copy()\n",
    "\n",
    "features_train_ord[cat_columns] = encoder.transform(features_train_ord[cat_columns])\n",
    "features_valid_ord[cat_columns] = encoder.transform(features_valid_ord[cat_columns])\n",
    "features_test_ord[cat_columns] = encoder.transform(features_test_ord[cat_columns])\n",
    "```"
   ]
  },
  {
   "cell_type": "code",
   "execution_count": 60,
   "metadata": {},
   "outputs": [],
   "source": [
    "# порядковое кодирование (для \"деревянных моделей\")\n",
    "encoder = OrdinalEncoder(handle_unknown='use_encoded_value', unknown_value=9999)\n",
    "encoder.fit(features_train[cat_columns])\n",
    "\n",
    "features_train_ord = features_train.copy()\n",
    "features_valid_ord = features_valid.copy()\n",
    "features_test_ord = features_test.copy()\n",
    "\n",
    "features_train_ord[cat_columns] = encoder.transform(features_train_ord[cat_columns])\n",
    "features_valid_ord[cat_columns] = encoder.transform(features_valid_ord[cat_columns])\n",
    "features_test_ord[cat_columns] = encoder.transform(features_test_ord[cat_columns])"
   ]
  },
  {
   "cell_type": "code",
   "execution_count": 61,
   "metadata": {},
   "outputs": [],
   "source": [
    "#features_train, features_test, target_train, target_test = train_test_split(features_ord, target, test_size=0.25, random_state=12345)"
   ]
  },
  {
   "cell_type": "code",
   "execution_count": 62,
   "metadata": {},
   "outputs": [],
   "source": [
    "# У признаков разный масштаб. Необходимо их стандартизировать.\n",
    "numeric = ['registration_year','power','kilometer','vehicle_type','gearbox','model','fuel_type','brand', 'repaired']\n",
    "scaler = StandardScaler()\n",
    "scaler.fit(features_train_ord[numeric]) \n",
    "features_train_ord[numeric] = scaler.transform(features_train_ord[numeric])\n",
    "features_valid_ord[numeric] = scaler.transform(features_valid_ord[numeric])\n",
    "features_test_ord[numeric] = scaler.transform(features_test_ord[numeric])"
   ]
  },
  {
   "cell_type": "code",
   "execution_count": 63,
   "metadata": {},
   "outputs": [
    {
     "data": {
      "text/html": [
       "<div>\n",
       "<style scoped>\n",
       "    .dataframe tbody tr th:only-of-type {\n",
       "        vertical-align: middle;\n",
       "    }\n",
       "\n",
       "    .dataframe tbody tr th {\n",
       "        vertical-align: top;\n",
       "    }\n",
       "\n",
       "    .dataframe thead th {\n",
       "        text-align: right;\n",
       "    }\n",
       "</style>\n",
       "<table border=\"1\" class=\"dataframe\">\n",
       "  <thead>\n",
       "    <tr style=\"text-align: right;\">\n",
       "      <th></th>\n",
       "      <th>vehicle_type</th>\n",
       "      <th>registration_year</th>\n",
       "      <th>gearbox</th>\n",
       "      <th>power</th>\n",
       "      <th>model</th>\n",
       "      <th>kilometer</th>\n",
       "      <th>fuel_type</th>\n",
       "      <th>brand</th>\n",
       "      <th>repaired</th>\n",
       "    </tr>\n",
       "  </thead>\n",
       "  <tbody>\n",
       "    <tr>\n",
       "      <th>72549</th>\n",
       "      <td>-0.233364</td>\n",
       "      <td>-1.255025</td>\n",
       "      <td>0.503704</td>\n",
       "      <td>-0.331716</td>\n",
       "      <td>-1.116029</td>\n",
       "      <td>-0.090010</td>\n",
       "      <td>0.644702</td>\n",
       "      <td>-1.480710</td>\n",
       "      <td>-0.50549</td>\n",
       "    </tr>\n",
       "    <tr>\n",
       "      <th>9350</th>\n",
       "      <td>1.427910</td>\n",
       "      <td>-1.413166</td>\n",
       "      <td>0.503704</td>\n",
       "      <td>-0.300006</td>\n",
       "      <td>0.183528</td>\n",
       "      <td>-1.321365</td>\n",
       "      <td>0.644702</td>\n",
       "      <td>0.968268</td>\n",
       "      <td>-0.50549</td>\n",
       "    </tr>\n",
       "    <tr>\n",
       "      <th>53927</th>\n",
       "      <td>0.181954</td>\n",
       "      <td>-1.887590</td>\n",
       "      <td>0.503704</td>\n",
       "      <td>-0.981774</td>\n",
       "      <td>0.819180</td>\n",
       "      <td>-0.090010</td>\n",
       "      <td>0.644702</td>\n",
       "      <td>0.356024</td>\n",
       "      <td>-0.50549</td>\n",
       "    </tr>\n",
       "    <tr>\n",
       "      <th>15945</th>\n",
       "      <td>1.427910</td>\n",
       "      <td>0.326389</td>\n",
       "      <td>0.503704</td>\n",
       "      <td>-0.093891</td>\n",
       "      <td>-0.904145</td>\n",
       "      <td>0.594076</td>\n",
       "      <td>-1.478562</td>\n",
       "      <td>1.121329</td>\n",
       "      <td>-0.50549</td>\n",
       "    </tr>\n",
       "    <tr>\n",
       "      <th>238391</th>\n",
       "      <td>-1.479319</td>\n",
       "      <td>0.642671</td>\n",
       "      <td>0.503704</td>\n",
       "      <td>0.445181</td>\n",
       "      <td>-0.155487</td>\n",
       "      <td>-1.047730</td>\n",
       "      <td>0.644702</td>\n",
       "      <td>1.274390</td>\n",
       "      <td>-0.50549</td>\n",
       "    </tr>\n",
       "  </tbody>\n",
       "</table>\n",
       "</div>"
      ],
      "text/plain": [
       "        vehicle_type  registration_year   gearbox     power     model  \\\n",
       "72549      -0.233364          -1.255025  0.503704 -0.331716 -1.116029   \n",
       "9350        1.427910          -1.413166  0.503704 -0.300006  0.183528   \n",
       "53927       0.181954          -1.887590  0.503704 -0.981774  0.819180   \n",
       "15945       1.427910           0.326389  0.503704 -0.093891 -0.904145   \n",
       "238391     -1.479319           0.642671  0.503704  0.445181 -0.155487   \n",
       "\n",
       "        kilometer  fuel_type     brand  repaired  \n",
       "72549   -0.090010   0.644702 -1.480710  -0.50549  \n",
       "9350    -1.321365   0.644702  0.968268  -0.50549  \n",
       "53927   -0.090010   0.644702  0.356024  -0.50549  \n",
       "15945    0.594076  -1.478562  1.121329  -0.50549  \n",
       "238391  -1.047730   0.644702  1.274390  -0.50549  "
      ]
     },
     "execution_count": 63,
     "metadata": {},
     "output_type": "execute_result"
    }
   ],
   "source": [
    "features_train_ord.head() # проверка"
   ]
  },
  {
   "cell_type": "code",
   "execution_count": 64,
   "metadata": {},
   "outputs": [],
   "source": [
    "# прямое кодирование (для линейных моделей)\n",
    "features_train_ohe = pd.get_dummies(features_train, drop_first=True)\n",
    "features_valid_ohe = pd.get_dummies(features_valid, drop_first=True)\n",
    "features_test_ohe = pd.get_dummies(features_test, drop_first=True)\n",
    "# после прямого кодирования кол-во признаков в выборках будет отличаться\n",
    "# поэтому стоит удалить лишние признаки в каждой выборке\n",
    "\n",
    "# Найдем общие признаки между обучающей, валидационной и тестовой выборками\n",
    "common_columns = set(features_train_ohe.columns) & set(features_valid_ohe.columns) & set(features_test_ohe.columns)\n",
    "\n",
    "# Оставим в каждой выборке только общие признаки\n",
    "features_train_ohe = features_train_ohe[list(common_columns)]\n",
    "features_valid_ohe = features_valid_ohe[list(common_columns)]\n",
    "features_test_ohe = features_test_ohe[list(common_columns)]"
   ]
  },
  {
   "cell_type": "markdown",
   "metadata": {},
   "source": [
    "### LinearRegression"
   ]
  },
  {
   "cell_type": "code",
   "execution_count": 65,
   "metadata": {},
   "outputs": [
    {
     "name": "stdout",
     "output_type": "stream",
     "text": [
      "CPU times: user 12.5 s, sys: 6.78 s, total: 19.3 s\n",
      "Wall time: 19.6 s\n"
     ]
    }
   ],
   "source": [
    "%%time\n",
    "start = time.time()\n",
    "model_lr=LinearRegression(normalize=True) # объявляем модель\n",
    "model_lr.fit(features_train_ohe, target_train) # обучаем модель\n",
    "end = time.time()\n",
    "time_of_learn_lr=round(end-start,2)"
   ]
  },
  {
   "cell_type": "code",
   "execution_count": 66,
   "metadata": {},
   "outputs": [
    {
     "name": "stdout",
     "output_type": "stream",
     "text": [
      "CPU times: user 123 ms, sys: 128 ms, total: 250 ms\n",
      "Wall time: 288 ms\n"
     ]
    }
   ],
   "source": [
    "%%time\n",
    "start = time.time()\n",
    "predict_lr = model_lr.predict(features_valid_ohe) # получение предсказания модели\n",
    "end = time.time()\n",
    "time_of_pr_lr=round(end-start,2)"
   ]
  },
  {
   "cell_type": "code",
   "execution_count": 67,
   "metadata": {},
   "outputs": [
    {
     "name": "stdout",
     "output_type": "stream",
     "text": [
      " Гиперпараметры модели:\n",
      " LinearRegression(normalize=True)\n"
     ]
    }
   ],
   "source": [
    "print(' Гиперпараметры модели:\\n',model_lr)"
   ]
  },
  {
   "cell_type": "code",
   "execution_count": 68,
   "metadata": {},
   "outputs": [
    {
     "name": "stdout",
     "output_type": "stream",
     "text": [
      "RMSE модели Линейная Регрессия равна: 2613.0\n"
     ]
    }
   ],
   "source": [
    "rmse_lr=rmse(target_valid, predict_lr)\n",
    "print('RMSE модели Линейная Регрессия равна:', rmse_lr)"
   ]
  },
  {
   "cell_type": "code",
   "execution_count": 69,
   "metadata": {},
   "outputs": [
    {
     "data": {
      "text/html": [
       "<div>\n",
       "<style scoped>\n",
       "    .dataframe tbody tr th:only-of-type {\n",
       "        vertical-align: middle;\n",
       "    }\n",
       "\n",
       "    .dataframe tbody tr th {\n",
       "        vertical-align: top;\n",
       "    }\n",
       "\n",
       "    .dataframe thead th {\n",
       "        text-align: right;\n",
       "    }\n",
       "</style>\n",
       "<table border=\"1\" class=\"dataframe\">\n",
       "  <thead>\n",
       "    <tr style=\"text-align: right;\">\n",
       "      <th></th>\n",
       "      <th>Model</th>\n",
       "      <th>RMSE</th>\n",
       "      <th>Time of learn</th>\n",
       "      <th>Predict time</th>\n",
       "    </tr>\n",
       "  </thead>\n",
       "  <tbody>\n",
       "    <tr>\n",
       "      <th>LinearRegression</th>\n",
       "      <td>LinearRegression</td>\n",
       "      <td>2613.0</td>\n",
       "      <td>19.56</td>\n",
       "      <td>0.29</td>\n",
       "    </tr>\n",
       "  </tbody>\n",
       "</table>\n",
       "</div>"
      ],
      "text/plain": [
       "                             Model    RMSE Time of learn Predict time\n",
       "LinearRegression  LinearRegression  2613.0         19.56         0.29"
      ]
     },
     "execution_count": 69,
     "metadata": {},
     "output_type": "execute_result"
    }
   ],
   "source": [
    "avto_table(rmse_lr,time_of_learn_lr,time_of_pr_lr,'LinearRegression',avto_result) # добавим данные в сводную таблицу"
   ]
  },
  {
   "cell_type": "markdown",
   "metadata": {},
   "source": [
    "```python\n",
    "# прямое кодирование (для линейных моделей)\n",
    "features_train_ohe = pd.get_dummies(features_train, drop_first=True)\n",
    "features_valid_ohe = pd.get_dummies(features_valid, drop_first=True)\n",
    "features_test_ohe = pd.get_dummies(features_test, drop_first=True)\n",
    "# после прямого кодирования кол-во признаков в выборках будет отличаться\n",
    "# поэтому стоит удалить лишние признаки в каждой выборке\n",
    "\n",
    "# Найдем общие признаки между обучающей, валидационной и тестовой выборками\n",
    "common_columns = set(features_train_ohe.columns) & set(features_valid_ohe.columns) & set(features_test_ohe.columns)\n",
    "\n",
    "# Оставим в каждой выборке только общие признаки\n",
    "features_train_ohe = features_train_ohe[list(common_columns)]\n",
    "features_valid_ohe = features_valid_ohe[list(common_columns)]\n",
    "features_test_ohe = features_test_ohe[list(common_columns)]\n",
    "```"
   ]
  },
  {
   "cell_type": "markdown",
   "metadata": {},
   "source": [
    "### RandomForestRegressor"
   ]
  },
  {
   "cell_type": "code",
   "execution_count": 70,
   "metadata": {},
   "outputs": [
    {
     "name": "stdout",
     "output_type": "stream",
     "text": [
      "CPU times: user 15.2 s, sys: 72.5 ms, total: 15.3 s\n",
      "Wall time: 15.3 s\n"
     ]
    }
   ],
   "source": [
    "%%time\n",
    "start = time.time()\n",
    "model_forest= RandomForestRegressor(n_estimators=100, max_depth=5, random_state=12345) # объявляем модель\n",
    "model_forest.fit(features_train_ord, target_train) # обучаем модель\n",
    "end = time.time()\n",
    "time_of_learn_forest=round(end-start,2)"
   ]
  },
  {
   "cell_type": "code",
   "execution_count": 71,
   "metadata": {},
   "outputs": [
    {
     "name": "stdout",
     "output_type": "stream",
     "text": [
      "CPU times: user 171 ms, sys: 0 ns, total: 171 ms\n",
      "Wall time: 179 ms\n"
     ]
    }
   ],
   "source": [
    "%%time\n",
    "start = time.time()\n",
    "predict_forest = model_forest.predict(features_valid_ord) # получение предсказания модели\n",
    "end = time.time()\n",
    "time_of_pr_forest=round(end-start,2)"
   ]
  },
  {
   "cell_type": "code",
   "execution_count": 72,
   "metadata": {},
   "outputs": [
    {
     "name": "stdout",
     "output_type": "stream",
     "text": [
      " Гиперпараметры модели:\n",
      " RandomForestRegressor(max_depth=5, random_state=12345)\n"
     ]
    }
   ],
   "source": [
    "print(' Гиперпараметры модели:\\n',model_forest)"
   ]
  },
  {
   "cell_type": "code",
   "execution_count": 73,
   "metadata": {},
   "outputs": [
    {
     "name": "stdout",
     "output_type": "stream",
     "text": [
      "RMSE модели Случайный лес равна: 2362.42\n"
     ]
    }
   ],
   "source": [
    "rmse_forest=rmse(target_valid, predict_forest)\n",
    "print('RMSE модели Случайный лес равна:', rmse_forest)"
   ]
  },
  {
   "cell_type": "code",
   "execution_count": 74,
   "metadata": {},
   "outputs": [
    {
     "data": {
      "text/html": [
       "<div>\n",
       "<style scoped>\n",
       "    .dataframe tbody tr th:only-of-type {\n",
       "        vertical-align: middle;\n",
       "    }\n",
       "\n",
       "    .dataframe tbody tr th {\n",
       "        vertical-align: top;\n",
       "    }\n",
       "\n",
       "    .dataframe thead th {\n",
       "        text-align: right;\n",
       "    }\n",
       "</style>\n",
       "<table border=\"1\" class=\"dataframe\">\n",
       "  <thead>\n",
       "    <tr style=\"text-align: right;\">\n",
       "      <th></th>\n",
       "      <th>Model</th>\n",
       "      <th>RMSE</th>\n",
       "      <th>Time of learn</th>\n",
       "      <th>Predict time</th>\n",
       "    </tr>\n",
       "  </thead>\n",
       "  <tbody>\n",
       "    <tr>\n",
       "      <th>LinearRegression</th>\n",
       "      <td>LinearRegression</td>\n",
       "      <td>2613.0</td>\n",
       "      <td>19.56</td>\n",
       "      <td>0.29</td>\n",
       "    </tr>\n",
       "    <tr>\n",
       "      <th>RandomForestRegressor</th>\n",
       "      <td>RandomForestRegressor</td>\n",
       "      <td>2362.42</td>\n",
       "      <td>15.3</td>\n",
       "      <td>0.18</td>\n",
       "    </tr>\n",
       "  </tbody>\n",
       "</table>\n",
       "</div>"
      ],
      "text/plain": [
       "                                       Model     RMSE Time of learn  \\\n",
       "LinearRegression            LinearRegression   2613.0         19.56   \n",
       "RandomForestRegressor  RandomForestRegressor  2362.42          15.3   \n",
       "\n",
       "                      Predict time  \n",
       "LinearRegression              0.29  \n",
       "RandomForestRegressor         0.18  "
      ]
     },
     "execution_count": 74,
     "metadata": {},
     "output_type": "execute_result"
    }
   ],
   "source": [
    "# добавим данные в сводную таблицу\n",
    "avto_table(rmse_forest,time_of_learn_forest,time_of_pr_forest,'RandomForestRegressor',avto_result) "
   ]
  },
  {
   "cell_type": "markdown",
   "metadata": {},
   "source": [
    "### CatBoostRegressor"
   ]
  },
  {
   "cell_type": "code",
   "execution_count": 75,
   "metadata": {
    "scrolled": true
   },
   "outputs": [
    {
     "name": "stdout",
     "output_type": "stream",
     "text": [
      "0:\tlearn: 4030.4557043\ttotal: 74ms\tremaining: 2.14s\n",
      "5:\tlearn: 3068.2671575\ttotal: 189ms\tremaining: 758ms\n",
      "10:\tlearn: 2741.2622500\ttotal: 297ms\tremaining: 513ms\n",
      "15:\tlearn: 2591.7174199\ttotal: 383ms\tremaining: 335ms\n",
      "20:\tlearn: 2495.4849933\ttotal: 468ms\tremaining: 201ms\n",
      "25:\tlearn: 2439.7085053\ttotal: 552ms\tremaining: 85ms\n",
      "29:\tlearn: 2406.3845469\ttotal: 623ms\tremaining: 0us\n",
      "0:\tlearn: 3495.9755769\ttotal: 35.4ms\tremaining: 1.02s\n",
      "5:\tlearn: 2134.6140998\ttotal: 187ms\tremaining: 748ms\n",
      "10:\tlearn: 1937.8456095\ttotal: 329ms\tremaining: 568ms\n",
      "15:\tlearn: 1862.3160516\ttotal: 469ms\tremaining: 410ms\n",
      "20:\tlearn: 1808.9629945\ttotal: 611ms\tremaining: 262ms\n",
      "25:\tlearn: 1780.6842364\ttotal: 744ms\tremaining: 114ms\n",
      "29:\tlearn: 1754.2376854\ttotal: 855ms\tremaining: 0us\n",
      "0:\tlearn: 3371.8955952\ttotal: 65.6ms\tremaining: 1.9s\n",
      "5:\tlearn: 1876.0948074\ttotal: 419ms\tremaining: 1.68s\n",
      "10:\tlearn: 1730.7561364\ttotal: 750ms\tremaining: 1.29s\n",
      "15:\tlearn: 1672.8705785\ttotal: 1.08s\tremaining: 942ms\n",
      "20:\tlearn: 1636.4539116\ttotal: 1.42s\tremaining: 607ms\n",
      "25:\tlearn: 1604.9760168\ttotal: 1.77s\tremaining: 272ms\n",
      "29:\tlearn: 1580.4306105\ttotal: 2.03s\tremaining: 0us\n",
      "0:\tlearn: 3327.6743305\ttotal: 1.4s\tremaining: 40.5s\n",
      "5:\tlearn: 1715.1128845\ttotal: 7.55s\tremaining: 30.2s\n",
      "10:\tlearn: 1573.6097596\ttotal: 13.4s\tremaining: 23.2s\n",
      "15:\tlearn: 1519.0851273\ttotal: 19.4s\tremaining: 17s\n",
      "20:\tlearn: 1476.0408795\ttotal: 25.3s\tremaining: 10.8s\n",
      "25:\tlearn: 1437.1167985\ttotal: 31.2s\tremaining: 4.79s\n",
      "29:\tlearn: 1414.4981269\ttotal: 35.8s\tremaining: 0us\n"
     ]
    },
    {
     "data": {
      "text/plain": [
       "1571.06"
      ]
     },
     "metadata": {},
     "output_type": "display_data"
    },
    {
     "data": {
      "text/plain": [
       "16"
      ]
     },
     "metadata": {},
     "output_type": "display_data"
    },
    {
     "name": "stdout",
     "output_type": "stream",
     "text": [
      "CPU times: user 24.6 s, sys: 15.3 s, total: 39.9 s\n",
      "Wall time: 42.3 s\n"
     ]
    }
   ],
   "source": [
    "%%time\n",
    "best_result = 5000\n",
    "depth = 0\n",
    "depths = []\n",
    "results = []\n",
    "\n",
    "for depth in range(1, 21, 5):\n",
    "    model_catboost = CatBoostRegressor(iterations=30, learning_rate=0.4, max_depth=depth, random_state=12345, verbose=5)\n",
    "    model_catboost.fit(features_train_ord, target_train)\n",
    "    predictions_valid = model_catboost.predict(features_valid_ord)\n",
    "    result = rmse(target_valid, predictions_valid)\n",
    "    depths.append(depth)\n",
    "    results.append(result)\n",
    "   \n",
    "    if result < best_result:\n",
    "        best_depth = depth\n",
    "        best_result = result\n",
    "\n",
    "display(best_result, best_depth)"
   ]
  },
  {
   "cell_type": "markdown",
   "metadata": {},
   "source": [
    "Значение `verbose=5` означает, что при обучении модели будут выводиться более подробные сообщения о процессе обучения. Значение `verbose=5` может быть полезно для мониторинга процесса обучения, отладки и оптимизации параметров модели. Однако, такое высокое значение `verbose` может быть слишком многословным и неудобным в случае больших объемов данных."
   ]
  },
  {
   "cell_type": "code",
   "execution_count": 76,
   "metadata": {},
   "outputs": [
    {
     "name": "stdout",
     "output_type": "stream",
     "text": [
      "0:\tlearn: 3327.6743305\ttest: 3315.5641719\tbest: 3315.5641719 (0)\ttotal: 1.17s\tremaining: 33.9s\n",
      "5:\tlearn: 1715.1128845\ttest: 1758.8678731\tbest: 1758.8678731 (5)\ttotal: 6.9s\tremaining: 27.6s\n",
      "10:\tlearn: 1573.6097596\ttest: 1653.4789096\tbest: 1653.4789096 (10)\ttotal: 12.7s\tremaining: 22s\n",
      "15:\tlearn: 1519.0851273\ttest: 1621.7547553\tbest: 1621.7547553 (15)\ttotal: 18.6s\tremaining: 16.3s\n",
      "20:\tlearn: 1476.0408795\ttest: 1596.5470821\tbest: 1596.5470821 (20)\ttotal: 24.5s\tremaining: 10.5s\n",
      "25:\tlearn: 1437.1167985\ttest: 1579.8254310\tbest: 1579.8254310 (25)\ttotal: 30.4s\tremaining: 4.67s\n",
      "29:\tlearn: 1414.4981269\ttest: 1571.0623785\tbest: 1571.0623785 (29)\ttotal: 35.1s\tremaining: 0us\n",
      "\n",
      "bestTest = 1571.062378\n",
      "bestIteration = 29\n",
      "\n",
      "CPU times: user 20.6 s, sys: 14.6 s, total: 35.3 s\n",
      "Wall time: 35.9 s\n"
     ]
    }
   ],
   "source": [
    "%%time\n",
    "start = time.time()\n",
    "model_catboost = CatBoostRegressor(iterations=30, learning_rate=0.4, max_depth=16, random_state=12345, verbose=5)\n",
    "model_catboost.fit(features_train_ord, target_train, eval_set=(features_valid_ord,target_valid))\n",
    "end = time.time()\n",
    "time_of_learn_catboost=round(end-start,2)"
   ]
  },
  {
   "cell_type": "code",
   "execution_count": 77,
   "metadata": {},
   "outputs": [
    {
     "name": "stdout",
     "output_type": "stream",
     "text": [
      "CPU times: user 15.7 ms, sys: 0 ns, total: 15.7 ms\n",
      "Wall time: 13.8 ms\n"
     ]
    }
   ],
   "source": [
    "%%time\n",
    "start = time.time()\n",
    "predict_catboost = model_catboost.predict(features_valid_ord)\n",
    "end = time.time()\n",
    "time_of_pr_catboost=round(end-start,2)"
   ]
  },
  {
   "cell_type": "code",
   "execution_count": 78,
   "metadata": {},
   "outputs": [
    {
     "name": "stdout",
     "output_type": "stream",
     "text": [
      " Гиперпараметры модели:\n",
      " <catboost.core.CatBoostRegressor object at 0x7fa43a6da820>\n"
     ]
    }
   ],
   "source": [
    "print(' Гиперпараметры модели:\\n',model_catboost)"
   ]
  },
  {
   "cell_type": "code",
   "execution_count": 79,
   "metadata": {},
   "outputs": [
    {
     "name": "stdout",
     "output_type": "stream",
     "text": [
      "RMSE модели CatBoostRegressor равна: 1571.06\n"
     ]
    }
   ],
   "source": [
    "rmse_catboost=rmse(target_valid, predict_catboost)\n",
    "print('RMSE модели CatBoostRegressor равна:', rmse_catboost)"
   ]
  },
  {
   "cell_type": "code",
   "execution_count": 80,
   "metadata": {},
   "outputs": [
    {
     "data": {
      "text/html": [
       "<div>\n",
       "<style scoped>\n",
       "    .dataframe tbody tr th:only-of-type {\n",
       "        vertical-align: middle;\n",
       "    }\n",
       "\n",
       "    .dataframe tbody tr th {\n",
       "        vertical-align: top;\n",
       "    }\n",
       "\n",
       "    .dataframe thead th {\n",
       "        text-align: right;\n",
       "    }\n",
       "</style>\n",
       "<table border=\"1\" class=\"dataframe\">\n",
       "  <thead>\n",
       "    <tr style=\"text-align: right;\">\n",
       "      <th></th>\n",
       "      <th>Model</th>\n",
       "      <th>RMSE</th>\n",
       "      <th>Time of learn</th>\n",
       "      <th>Predict time</th>\n",
       "    </tr>\n",
       "  </thead>\n",
       "  <tbody>\n",
       "    <tr>\n",
       "      <th>LinearRegression</th>\n",
       "      <td>LinearRegression</td>\n",
       "      <td>2613.0</td>\n",
       "      <td>19.56</td>\n",
       "      <td>0.29</td>\n",
       "    </tr>\n",
       "    <tr>\n",
       "      <th>RandomForestRegressor</th>\n",
       "      <td>RandomForestRegressor</td>\n",
       "      <td>2362.42</td>\n",
       "      <td>15.3</td>\n",
       "      <td>0.18</td>\n",
       "    </tr>\n",
       "    <tr>\n",
       "      <th>CatBoostRegressor</th>\n",
       "      <td>CatBoostRegressor</td>\n",
       "      <td>1571.06</td>\n",
       "      <td>35.94</td>\n",
       "      <td>0.01</td>\n",
       "    </tr>\n",
       "  </tbody>\n",
       "</table>\n",
       "</div>"
      ],
      "text/plain": [
       "                                       Model     RMSE Time of learn  \\\n",
       "LinearRegression            LinearRegression   2613.0         19.56   \n",
       "RandomForestRegressor  RandomForestRegressor  2362.42          15.3   \n",
       "CatBoostRegressor          CatBoostRegressor  1571.06         35.94   \n",
       "\n",
       "                      Predict time  \n",
       "LinearRegression              0.29  \n",
       "RandomForestRegressor         0.18  \n",
       "CatBoostRegressor             0.01  "
      ]
     },
     "execution_count": 80,
     "metadata": {},
     "output_type": "execute_result"
    }
   ],
   "source": [
    "# добавим данные в сводную таблицу\n",
    "avto_table(rmse_catboost,time_of_learn_catboost,time_of_pr_catboost,'CatBoostRegressor',avto_result)"
   ]
  },
  {
   "cell_type": "markdown",
   "metadata": {},
   "source": [
    "### LightGBM"
   ]
  },
  {
   "cell_type": "markdown",
   "metadata": {},
   "source": [
    "LightGBM - это библиотека, которая обеспечивает реализацию деревьев решенией с градиентным бустингом"
   ]
  },
  {
   "cell_type": "code",
   "execution_count": 81,
   "metadata": {},
   "outputs": [
    {
     "name": "stdout",
     "output_type": "stream",
     "text": [
      "[100]\tvalid_0's rmse: 1560.89\n",
      "[200]\tvalid_0's rmse: 1530.6\n",
      "[300]\tvalid_0's rmse: 1515.12\n",
      "[400]\tvalid_0's rmse: 1504.76\n",
      "[500]\tvalid_0's rmse: 1502.9\n",
      "[600]\tvalid_0's rmse: 1501.36\n",
      "[700]\tvalid_0's rmse: 1500.99\n",
      "[800]\tvalid_0's rmse: 1500.64\n",
      "[900]\tvalid_0's rmse: 1501.07\n",
      "[1000]\tvalid_0's rmse: 1501\n",
      "CPU times: user 25min 4s, sys: 11.5 s, total: 25min 15s\n",
      "Wall time: 25min 26s\n"
     ]
    }
   ],
   "source": [
    "%%time\n",
    "start = time.time()\n",
    "model_LGB = lgbm.sklearn.LGBMRegressor(n_estimators=1000, random_state=12345, learning_rate=0.4, objective='rmse')\n",
    "model_LGB.fit(features_train_ord, target_train, eval_set=(features_valid_ord,target_valid), verbose=100)\n",
    "end = time.time()\n",
    "time_of_learn_lgb=round(end-start,2)"
   ]
  },
  {
   "cell_type": "code",
   "execution_count": 82,
   "metadata": {},
   "outputs": [
    {
     "name": "stdout",
     "output_type": "stream",
     "text": [
      "CPU times: user 3.26 s, sys: 0 ns, total: 3.26 s\n",
      "Wall time: 3.22 s\n"
     ]
    }
   ],
   "source": [
    "%%time\n",
    "start = time.time()\n",
    "predict_LGB = model_LGB.predict(features_valid_ord)\n",
    "end = time.time()\n",
    "time_of_pr_lgb=round(end-start,2)"
   ]
  },
  {
   "cell_type": "code",
   "execution_count": 83,
   "metadata": {},
   "outputs": [
    {
     "name": "stdout",
     "output_type": "stream",
     "text": [
      " Гиперпараметры модели:\n",
      " LGBMRegressor(learning_rate=0.4, n_estimators=1000, objective='rmse',\n",
      "              random_state=12345)\n"
     ]
    }
   ],
   "source": [
    "print(' Гиперпараметры модели:\\n',model_LGB)"
   ]
  },
  {
   "cell_type": "code",
   "execution_count": 84,
   "metadata": {},
   "outputs": [
    {
     "name": "stdout",
     "output_type": "stream",
     "text": [
      "RMSE модели LightGBM равна: 1501.0\n"
     ]
    }
   ],
   "source": [
    "rmse_LGB=rmse(target_valid, predict_LGB)\n",
    "print('RMSE модели LightGBM равна:', rmse_LGB)"
   ]
  },
  {
   "cell_type": "code",
   "execution_count": 85,
   "metadata": {},
   "outputs": [
    {
     "data": {
      "text/html": [
       "<div>\n",
       "<style scoped>\n",
       "    .dataframe tbody tr th:only-of-type {\n",
       "        vertical-align: middle;\n",
       "    }\n",
       "\n",
       "    .dataframe tbody tr th {\n",
       "        vertical-align: top;\n",
       "    }\n",
       "\n",
       "    .dataframe thead th {\n",
       "        text-align: right;\n",
       "    }\n",
       "</style>\n",
       "<table border=\"1\" class=\"dataframe\">\n",
       "  <thead>\n",
       "    <tr style=\"text-align: right;\">\n",
       "      <th></th>\n",
       "      <th>Model</th>\n",
       "      <th>RMSE</th>\n",
       "      <th>Time of learn</th>\n",
       "      <th>Predict time</th>\n",
       "    </tr>\n",
       "  </thead>\n",
       "  <tbody>\n",
       "    <tr>\n",
       "      <th>LinearRegression</th>\n",
       "      <td>LinearRegression</td>\n",
       "      <td>2613.0</td>\n",
       "      <td>19.56</td>\n",
       "      <td>0.29</td>\n",
       "    </tr>\n",
       "    <tr>\n",
       "      <th>RandomForestRegressor</th>\n",
       "      <td>RandomForestRegressor</td>\n",
       "      <td>2362.42</td>\n",
       "      <td>15.3</td>\n",
       "      <td>0.18</td>\n",
       "    </tr>\n",
       "    <tr>\n",
       "      <th>CatBoostRegressor</th>\n",
       "      <td>CatBoostRegressor</td>\n",
       "      <td>1571.06</td>\n",
       "      <td>35.94</td>\n",
       "      <td>0.01</td>\n",
       "    </tr>\n",
       "    <tr>\n",
       "      <th>LightGBM</th>\n",
       "      <td>LightGBM</td>\n",
       "      <td>1501.0</td>\n",
       "      <td>1526.9</td>\n",
       "      <td>3.22</td>\n",
       "    </tr>\n",
       "  </tbody>\n",
       "</table>\n",
       "</div>"
      ],
      "text/plain": [
       "                                       Model     RMSE Time of learn  \\\n",
       "LinearRegression            LinearRegression   2613.0         19.56   \n",
       "RandomForestRegressor  RandomForestRegressor  2362.42          15.3   \n",
       "CatBoostRegressor          CatBoostRegressor  1571.06         35.94   \n",
       "LightGBM                            LightGBM   1501.0        1526.9   \n",
       "\n",
       "                      Predict time  \n",
       "LinearRegression              0.29  \n",
       "RandomForestRegressor         0.18  \n",
       "CatBoostRegressor             0.01  \n",
       "LightGBM                      3.22  "
      ]
     },
     "execution_count": 85,
     "metadata": {},
     "output_type": "execute_result"
    }
   ],
   "source": [
    "avto_table(rmse_LGB,time_of_learn_lgb,time_of_pr_lgb,'LightGBM',avto_result)"
   ]
  },
  {
   "cell_type": "markdown",
   "metadata": {},
   "source": [
    "## Анализ моделей"
   ]
  },
  {
   "cell_type": "markdown",
   "metadata": {},
   "source": [
    "Проанализируем время обучения, время предсказания и качество моделей. Для оценки качества моделей применим метрику RMSE."
   ]
  },
  {
   "cell_type": "code",
   "execution_count": 86,
   "metadata": {},
   "outputs": [
    {
     "data": {
      "text/html": [
       "<div>\n",
       "<style scoped>\n",
       "    .dataframe tbody tr th:only-of-type {\n",
       "        vertical-align: middle;\n",
       "    }\n",
       "\n",
       "    .dataframe tbody tr th {\n",
       "        vertical-align: top;\n",
       "    }\n",
       "\n",
       "    .dataframe thead th {\n",
       "        text-align: right;\n",
       "    }\n",
       "</style>\n",
       "<table border=\"1\" class=\"dataframe\">\n",
       "  <thead>\n",
       "    <tr style=\"text-align: right;\">\n",
       "      <th></th>\n",
       "      <th>LinearRegression</th>\n",
       "      <th>RandomForestRegressor</th>\n",
       "      <th>CatBoostRegressor</th>\n",
       "      <th>LightGBM</th>\n",
       "    </tr>\n",
       "  </thead>\n",
       "  <tbody>\n",
       "    <tr>\n",
       "      <th>RMSE</th>\n",
       "      <td>2613.00</td>\n",
       "      <td>2362.42</td>\n",
       "      <td>1571.06</td>\n",
       "      <td>1501.00</td>\n",
       "    </tr>\n",
       "    <tr>\n",
       "      <th>Time of learn</th>\n",
       "      <td>19.56</td>\n",
       "      <td>15.30</td>\n",
       "      <td>35.94</td>\n",
       "      <td>1526.90</td>\n",
       "    </tr>\n",
       "    <tr>\n",
       "      <th>Predict time</th>\n",
       "      <td>0.29</td>\n",
       "      <td>0.18</td>\n",
       "      <td>0.01</td>\n",
       "      <td>3.22</td>\n",
       "    </tr>\n",
       "  </tbody>\n",
       "</table>\n",
       "</div>"
      ],
      "text/plain": [
       "               LinearRegression  RandomForestRegressor  CatBoostRegressor  \\\n",
       "RMSE                    2613.00                2362.42            1571.06   \n",
       "Time of learn             19.56                  15.30              35.94   \n",
       "Predict time               0.29                   0.18               0.01   \n",
       "\n",
       "               LightGBM  \n",
       "RMSE            1501.00  \n",
       "Time of learn   1526.90  \n",
       "Predict time       3.22  "
      ]
     },
     "execution_count": 86,
     "metadata": {},
     "output_type": "execute_result"
    }
   ],
   "source": [
    "column=['RMSE','Time of learn','Predict time']\n",
    "\n",
    "general_table = pd.DataFrame(index=['RMSE','Time of learn', 'Predict time'], columns=['LinearRegression','RandomForestRegressor','CatBoostRegressor','LightGBM'])\n",
    "general_table['LinearRegression'] = rmse_lr, time_of_learn_lr, time_of_pr_lr\n",
    "general_table['RandomForestRegressor'] = rmse_forest, time_of_learn_forest, time_of_pr_forest\n",
    "general_table['CatBoostRegressor'] = rmse_catboost, time_of_learn_catboost, time_of_pr_catboost\n",
    "general_table['LightGBM'] = rmse_LGB,time_of_learn_lgb,time_of_pr_lgb\n",
    "\n",
    "general_table"
   ]
  },
  {
   "cell_type": "markdown",
   "metadata": {},
   "source": [
    "## Тестирование лучшей модели"
   ]
  },
  {
   "cell_type": "markdown",
   "metadata": {},
   "source": [
    "В результате проведенного обучения и анализа выбрана лучшая модель. Ей оказалась модель LightGBM с лучшим резкльтатом RMSE. Проверим ее качество на тестовой выборке. "
   ]
  },
  {
   "cell_type": "code",
   "execution_count": 87,
   "metadata": {},
   "outputs": [
    {
     "name": "stdout",
     "output_type": "stream",
     "text": [
      "[100]\tvalid_0's rmse: 1586.7\n",
      "[200]\tvalid_0's rmse: 1556.16\n",
      "[300]\tvalid_0's rmse: 1540.78\n",
      "[400]\tvalid_0's rmse: 1531.9\n",
      "[500]\tvalid_0's rmse: 1528.94\n",
      "[600]\tvalid_0's rmse: 1527.27\n",
      "[700]\tvalid_0's rmse: 1525.38\n",
      "[800]\tvalid_0's rmse: 1522.94\n",
      "[900]\tvalid_0's rmse: 1522.69\n",
      "[1000]\tvalid_0's rmse: 1522.28\n",
      "CPU times: user 14min 37s, sys: 6.62 s, total: 14min 44s\n",
      "Wall time: 14min 50s\n"
     ]
    }
   ],
   "source": [
    "%%time\n",
    "start = time.time()\n",
    "model_LGB_test = lgbm.sklearn.LGBMRegressor(n_estimators=1000, random_state=12345, learning_rate=0.4, objective='rmse')\n",
    "model_LGB_test.fit(features_train_ord, target_train, eval_set=(features_test_ord,target_test), verbose=100)\n",
    "end = time.time()\n",
    "time_of_learn_lgb_test=round(end-start,2)"
   ]
  },
  {
   "cell_type": "code",
   "execution_count": 88,
   "metadata": {},
   "outputs": [
    {
     "name": "stdout",
     "output_type": "stream",
     "text": [
      "CPU times: user 3.37 s, sys: 0 ns, total: 3.37 s\n",
      "Wall time: 3.4 s\n"
     ]
    }
   ],
   "source": [
    "%%time\n",
    "start = time.time()\n",
    "predict_LGB_test = model_LGB_test.predict(features_test_ord)\n",
    "end = time.time()\n",
    "time_of_pr_lgb_test=round(end-start,2)"
   ]
  },
  {
   "cell_type": "code",
   "execution_count": 89,
   "metadata": {},
   "outputs": [
    {
     "name": "stdout",
     "output_type": "stream",
     "text": [
      "RMSE модели LightGBM_test равна: 1522.28\n"
     ]
    }
   ],
   "source": [
    "rmse_LGB_test=rmse(target_test, predict_LGB_test)\n",
    "print('RMSE модели LightGBM_test равна:', rmse_LGB_test)"
   ]
  },
  {
   "cell_type": "code",
   "execution_count": 90,
   "metadata": {},
   "outputs": [
    {
     "data": {
      "text/html": [
       "<div>\n",
       "<style scoped>\n",
       "    .dataframe tbody tr th:only-of-type {\n",
       "        vertical-align: middle;\n",
       "    }\n",
       "\n",
       "    .dataframe tbody tr th {\n",
       "        vertical-align: top;\n",
       "    }\n",
       "\n",
       "    .dataframe thead th {\n",
       "        text-align: right;\n",
       "    }\n",
       "</style>\n",
       "<table border=\"1\" class=\"dataframe\">\n",
       "  <thead>\n",
       "    <tr style=\"text-align: right;\">\n",
       "      <th></th>\n",
       "      <th>Model</th>\n",
       "      <th>RMSE</th>\n",
       "      <th>Time of learn</th>\n",
       "      <th>Predict time</th>\n",
       "    </tr>\n",
       "  </thead>\n",
       "  <tbody>\n",
       "    <tr>\n",
       "      <th>LinearRegression</th>\n",
       "      <td>LinearRegression</td>\n",
       "      <td>2613.0</td>\n",
       "      <td>19.56</td>\n",
       "      <td>0.29</td>\n",
       "    </tr>\n",
       "    <tr>\n",
       "      <th>RandomForestRegressor</th>\n",
       "      <td>RandomForestRegressor</td>\n",
       "      <td>2362.42</td>\n",
       "      <td>15.3</td>\n",
       "      <td>0.18</td>\n",
       "    </tr>\n",
       "    <tr>\n",
       "      <th>CatBoostRegressor</th>\n",
       "      <td>CatBoostRegressor</td>\n",
       "      <td>1571.06</td>\n",
       "      <td>35.94</td>\n",
       "      <td>0.01</td>\n",
       "    </tr>\n",
       "    <tr>\n",
       "      <th>LightGBM</th>\n",
       "      <td>LightGBM</td>\n",
       "      <td>1501.0</td>\n",
       "      <td>1526.9</td>\n",
       "      <td>3.22</td>\n",
       "    </tr>\n",
       "    <tr>\n",
       "      <th>LightGBM_test</th>\n",
       "      <td>LightGBM_test</td>\n",
       "      <td>1522.28</td>\n",
       "      <td>890.22</td>\n",
       "      <td>3.4</td>\n",
       "    </tr>\n",
       "  </tbody>\n",
       "</table>\n",
       "</div>"
      ],
      "text/plain": [
       "                                       Model     RMSE Time of learn  \\\n",
       "LinearRegression            LinearRegression   2613.0         19.56   \n",
       "RandomForestRegressor  RandomForestRegressor  2362.42          15.3   \n",
       "CatBoostRegressor          CatBoostRegressor  1571.06         35.94   \n",
       "LightGBM                            LightGBM   1501.0        1526.9   \n",
       "LightGBM_test                  LightGBM_test  1522.28        890.22   \n",
       "\n",
       "                      Predict time  \n",
       "LinearRegression              0.29  \n",
       "RandomForestRegressor         0.18  \n",
       "CatBoostRegressor             0.01  \n",
       "LightGBM                      3.22  \n",
       "LightGBM_test                  3.4  "
      ]
     },
     "execution_count": 90,
     "metadata": {},
     "output_type": "execute_result"
    }
   ],
   "source": [
    "avto_table(rmse_LGB_test,time_of_learn_lgb_test,time_of_pr_lgb_test,'LightGBM_test',avto_result)"
   ]
  },
  {
   "cell_type": "markdown",
   "metadata": {},
   "source": [
    "# Общий вывод\n",
    "\n",
    "Нам нужно было построить модель для определения стоимости автомобиля. При этом Заказчику важны:\n",
    "\n",
    "- качество предсказания;\n",
    "- скорость предсказания;\n",
    "- время обучения.\n",
    "\n",
    "В нашем распоряжении были исторические данные: технические характеристики, комплектации и цены автомобилей.\n",
    "\n",
    "В ходе работы было выполнено:\n",
    "1. Загружены данные и проведена предобработка.\n",
    "2. Изучено 4 модели с использованием различных наборов гиперпараметров: технология градиетного бустинга в моделях CatBoostRegressor и LightGBM, а также базовые модели LinearRegression и RandomForestRegressor.\n",
    "3. В итоге выбрана лучшая модель по результатам метрики RMSE и времени обучения.\n",
    "\n",
    "Если рассматривать только качество предсказания (RMSE), то лучший показатель у LightGBM - 1501,00. Следом идет CatBoostRegressor - 1571,06.\n",
    "У LinearRegression и RandomForestRegressor качество намного хуже (2613,00 и 2362,42 соответственно).\n",
    "Таким образом, если важна точность, то LightGBM подойдет лучше всех, однако потребуется больше времени на обучение и предсказание по сравнению с другими моделями. Модель CatBoostRegressor близка по качеству к LightGBM, но обладает более лучшими показателями по скорости обучения и скорости предсказания.\n",
    "Модель LightGBM на тестовой выборке показала хорошие результаты (RMSE=1522,28) и рекомендована к использованию."
   ]
  }
 ],
 "metadata": {
  "ExecuteTimeLog": [
   {
    "duration": 2668,
    "start_time": "2023-05-11T18:19:41.399Z"
   },
   {
    "duration": 4711,
    "start_time": "2023-05-11T18:21:48.270Z"
   },
   {
    "duration": 1160,
    "start_time": "2023-05-11T18:22:18.638Z"
   },
   {
    "duration": 27,
    "start_time": "2023-05-11T18:23:01.379Z"
   },
   {
    "duration": 265,
    "start_time": "2023-05-11T18:23:53.883Z"
   },
   {
    "duration": 1087,
    "start_time": "2023-05-11T18:30:32.071Z"
   },
   {
    "duration": 788,
    "start_time": "2023-05-11T18:32:32.001Z"
   },
   {
    "duration": 328,
    "start_time": "2023-05-11T18:32:46.479Z"
   },
   {
    "duration": 770,
    "start_time": "2023-05-11T18:45:21.536Z"
   },
   {
    "duration": 1016,
    "start_time": "2023-05-11T18:46:06.708Z"
   },
   {
    "duration": 748,
    "start_time": "2023-05-11T18:46:11.375Z"
   },
   {
    "duration": 685,
    "start_time": "2023-05-11T18:46:33.991Z"
   },
   {
    "duration": 6,
    "start_time": "2023-05-11T18:52:12.728Z"
   },
   {
    "duration": 6,
    "start_time": "2023-05-11T18:52:57.937Z"
   },
   {
    "duration": 50,
    "start_time": "2023-05-12T05:52:12.986Z"
   },
   {
    "duration": 1472,
    "start_time": "2023-05-12T05:52:18.684Z"
   },
   {
    "duration": 2702,
    "start_time": "2023-05-12T05:52:20.158Z"
   },
   {
    "duration": 16,
    "start_time": "2023-05-12T05:52:22.862Z"
   },
   {
    "duration": 126,
    "start_time": "2023-05-12T05:52:22.880Z"
   },
   {
    "duration": 165,
    "start_time": "2023-05-12T05:52:23.007Z"
   },
   {
    "duration": 463,
    "start_time": "2023-05-12T05:52:23.174Z"
   },
   {
    "duration": 451,
    "start_time": "2023-05-12T05:52:23.639Z"
   },
   {
    "duration": 4,
    "start_time": "2023-05-12T05:52:24.092Z"
   },
   {
    "duration": 25,
    "start_time": "2023-05-12T05:52:24.097Z"
   },
   {
    "duration": 149,
    "start_time": "2023-05-12T05:52:24.124Z"
   },
   {
    "duration": 3,
    "start_time": "2023-05-12T05:54:14.789Z"
   },
   {
    "duration": 4,
    "start_time": "2023-05-12T05:54:29.726Z"
   },
   {
    "duration": 24,
    "start_time": "2023-05-12T05:54:36.989Z"
   },
   {
    "duration": 5,
    "start_time": "2023-05-12T05:54:47.171Z"
   },
   {
    "duration": 1436,
    "start_time": "2023-05-12T05:56:03.359Z"
   },
   {
    "duration": 918,
    "start_time": "2023-05-12T05:56:04.797Z"
   },
   {
    "duration": 21,
    "start_time": "2023-05-12T05:56:05.717Z"
   },
   {
    "duration": 152,
    "start_time": "2023-05-12T05:56:05.741Z"
   },
   {
    "duration": 180,
    "start_time": "2023-05-12T05:56:05.894Z"
   },
   {
    "duration": 499,
    "start_time": "2023-05-12T05:56:06.076Z"
   },
   {
    "duration": 485,
    "start_time": "2023-05-12T05:56:06.577Z"
   },
   {
    "duration": 4,
    "start_time": "2023-05-12T05:56:07.064Z"
   },
   {
    "duration": 15,
    "start_time": "2023-05-12T05:56:07.070Z"
   },
   {
    "duration": 19,
    "start_time": "2023-05-12T05:56:07.087Z"
   },
   {
    "duration": 29,
    "start_time": "2023-05-12T05:56:07.107Z"
   },
   {
    "duration": 3,
    "start_time": "2023-05-12T06:08:23.492Z"
   },
   {
    "duration": 3,
    "start_time": "2023-05-12T06:10:44.923Z"
   },
   {
    "duration": 4,
    "start_time": "2023-05-12T06:10:45.543Z"
   },
   {
    "duration": 139,
    "start_time": "2023-05-12T06:15:07.867Z"
   },
   {
    "duration": 76,
    "start_time": "2023-05-12T06:15:21.906Z"
   },
   {
    "duration": 204,
    "start_time": "2023-05-12T06:15:49.170Z"
   },
   {
    "duration": 10,
    "start_time": "2023-05-12T06:18:23.651Z"
   },
   {
    "duration": 3912,
    "start_time": "2023-05-12T06:18:33.685Z"
   },
   {
    "duration": 159,
    "start_time": "2023-05-12T06:18:54.117Z"
   },
   {
    "duration": 1519,
    "start_time": "2023-05-12T06:19:08.463Z"
   },
   {
    "duration": 982,
    "start_time": "2023-05-12T06:19:09.984Z"
   },
   {
    "duration": 25,
    "start_time": "2023-05-12T06:19:10.968Z"
   },
   {
    "duration": 220,
    "start_time": "2023-05-12T06:19:10.995Z"
   },
   {
    "duration": 245,
    "start_time": "2023-05-12T06:19:11.216Z"
   },
   {
    "duration": 586,
    "start_time": "2023-05-12T06:19:11.463Z"
   },
   {
    "duration": 552,
    "start_time": "2023-05-12T06:19:12.050Z"
   },
   {
    "duration": 4,
    "start_time": "2023-05-12T06:19:12.604Z"
   },
   {
    "duration": 27,
    "start_time": "2023-05-12T06:19:12.609Z"
   },
   {
    "duration": 28,
    "start_time": "2023-05-12T06:19:12.641Z"
   },
   {
    "duration": 8,
    "start_time": "2023-05-12T06:19:12.670Z"
   },
   {
    "duration": 4,
    "start_time": "2023-05-12T06:19:12.679Z"
   },
   {
    "duration": 5,
    "start_time": "2023-05-12T06:19:12.685Z"
   },
   {
    "duration": 68,
    "start_time": "2023-05-12T06:19:12.692Z"
   },
   {
    "duration": 4035,
    "start_time": "2023-05-12T06:19:12.761Z"
   },
   {
    "duration": 157,
    "start_time": "2023-05-12T06:19:16.798Z"
   },
   {
    "duration": 50,
    "start_time": "2023-05-12T06:25:31.753Z"
   },
   {
    "duration": 195,
    "start_time": "2023-05-12T06:27:23.618Z"
   },
   {
    "duration": 1143,
    "start_time": "2023-05-12T06:40:59.218Z"
   },
   {
    "duration": 1789,
    "start_time": "2023-05-12T07:19:53.501Z"
   },
   {
    "duration": 867,
    "start_time": "2023-05-12T07:19:55.292Z"
   },
   {
    "duration": 15,
    "start_time": "2023-05-12T07:19:56.161Z"
   },
   {
    "duration": 152,
    "start_time": "2023-05-12T07:19:56.178Z"
   },
   {
    "duration": 177,
    "start_time": "2023-05-12T07:19:56.335Z"
   },
   {
    "duration": 492,
    "start_time": "2023-05-12T07:19:56.514Z"
   },
   {
    "duration": 493,
    "start_time": "2023-05-12T07:19:57.008Z"
   },
   {
    "duration": 1141,
    "start_time": "2023-05-12T07:19:57.503Z"
   },
   {
    "duration": 4,
    "start_time": "2023-05-12T07:19:58.645Z"
   },
   {
    "duration": 135,
    "start_time": "2023-05-12T07:19:58.651Z"
   },
   {
    "duration": 35,
    "start_time": "2023-05-12T07:19:58.788Z"
   },
   {
    "duration": 39,
    "start_time": "2023-05-12T07:19:58.824Z"
   },
   {
    "duration": 57,
    "start_time": "2023-05-12T07:19:58.865Z"
   },
   {
    "duration": 220,
    "start_time": "2023-05-12T07:19:58.925Z"
   },
   {
    "duration": 122,
    "start_time": "2023-05-12T07:21:21.720Z"
   },
   {
    "duration": 1421,
    "start_time": "2023-05-12T07:21:55.246Z"
   },
   {
    "duration": 869,
    "start_time": "2023-05-12T07:21:56.669Z"
   },
   {
    "duration": 15,
    "start_time": "2023-05-12T07:21:57.540Z"
   },
   {
    "duration": 142,
    "start_time": "2023-05-12T07:21:57.556Z"
   },
   {
    "duration": 99,
    "start_time": "2023-05-12T07:21:57.700Z"
   },
   {
    "duration": 183,
    "start_time": "2023-05-12T07:21:57.801Z"
   },
   {
    "duration": 516,
    "start_time": "2023-05-12T07:21:57.985Z"
   },
   {
    "duration": 502,
    "start_time": "2023-05-12T07:21:58.503Z"
   },
   {
    "duration": 5,
    "start_time": "2023-05-12T07:21:59.006Z"
   },
   {
    "duration": 29,
    "start_time": "2023-05-12T07:21:59.024Z"
   },
   {
    "duration": 27,
    "start_time": "2023-05-12T07:21:59.055Z"
   },
   {
    "duration": 25,
    "start_time": "2023-05-12T07:21:59.084Z"
   },
   {
    "duration": 69,
    "start_time": "2023-05-12T07:21:59.110Z"
   },
   {
    "duration": 236,
    "start_time": "2023-05-12T07:21:59.182Z"
   },
   {
    "duration": 1501,
    "start_time": "2023-05-12T07:32:39.617Z"
   },
   {
    "duration": 1028,
    "start_time": "2023-05-12T07:32:41.121Z"
   },
   {
    "duration": 24,
    "start_time": "2023-05-12T07:32:42.151Z"
   },
   {
    "duration": 205,
    "start_time": "2023-05-12T07:32:42.176Z"
   },
   {
    "duration": 129,
    "start_time": "2023-05-12T07:32:42.385Z"
   },
   {
    "duration": 199,
    "start_time": "2023-05-12T07:32:42.516Z"
   },
   {
    "duration": 528,
    "start_time": "2023-05-12T07:32:42.717Z"
   },
   {
    "duration": 536,
    "start_time": "2023-05-12T07:32:43.248Z"
   },
   {
    "duration": 4,
    "start_time": "2023-05-12T07:32:43.786Z"
   },
   {
    "duration": 9,
    "start_time": "2023-05-12T07:32:43.792Z"
   },
   {
    "duration": 28,
    "start_time": "2023-05-12T07:32:43.802Z"
   },
   {
    "duration": 18,
    "start_time": "2023-05-12T07:32:43.833Z"
   },
   {
    "duration": 37,
    "start_time": "2023-05-12T07:32:43.853Z"
   },
   {
    "duration": 210,
    "start_time": "2023-05-12T07:32:43.894Z"
   },
   {
    "duration": 127,
    "start_time": "2023-05-12T07:38:29.668Z"
   },
   {
    "duration": 1880,
    "start_time": "2023-05-12T07:39:04.939Z"
   },
   {
    "duration": 907,
    "start_time": "2023-05-12T07:39:06.821Z"
   },
   {
    "duration": 19,
    "start_time": "2023-05-12T07:39:07.729Z"
   },
   {
    "duration": 186,
    "start_time": "2023-05-12T07:39:07.750Z"
   },
   {
    "duration": 177,
    "start_time": "2023-05-12T07:39:07.938Z"
   },
   {
    "duration": 167,
    "start_time": "2023-05-12T07:39:08.116Z"
   },
   {
    "duration": 561,
    "start_time": "2023-05-12T07:39:08.286Z"
   },
   {
    "duration": 535,
    "start_time": "2023-05-12T07:39:08.849Z"
   },
   {
    "duration": 55,
    "start_time": "2023-05-12T07:39:09.386Z"
   },
   {
    "duration": 41,
    "start_time": "2023-05-12T07:39:09.443Z"
   },
   {
    "duration": 38,
    "start_time": "2023-05-12T07:39:09.487Z"
   },
   {
    "duration": 921,
    "start_time": "2023-05-12T07:39:09.527Z"
   },
   {
    "duration": 0,
    "start_time": "2023-05-12T07:39:10.451Z"
   },
   {
    "duration": 0,
    "start_time": "2023-05-12T07:39:10.452Z"
   },
   {
    "duration": 0,
    "start_time": "2023-05-12T07:39:10.454Z"
   },
   {
    "duration": 9,
    "start_time": "2023-05-12T07:39:52.732Z"
   },
   {
    "duration": 15,
    "start_time": "2023-05-12T07:40:19.746Z"
   },
   {
    "duration": 5,
    "start_time": "2023-05-12T07:40:42.527Z"
   },
   {
    "duration": 1702,
    "start_time": "2023-05-12T07:42:19.572Z"
   },
   {
    "duration": 914,
    "start_time": "2023-05-12T07:42:21.276Z"
   },
   {
    "duration": 34,
    "start_time": "2023-05-12T07:42:22.192Z"
   },
   {
    "duration": 147,
    "start_time": "2023-05-12T07:42:22.230Z"
   },
   {
    "duration": 148,
    "start_time": "2023-05-12T07:42:22.379Z"
   },
   {
    "duration": 205,
    "start_time": "2023-05-12T07:42:22.529Z"
   },
   {
    "duration": 505,
    "start_time": "2023-05-12T07:42:22.736Z"
   },
   {
    "duration": 495,
    "start_time": "2023-05-12T07:42:23.243Z"
   },
   {
    "duration": 5,
    "start_time": "2023-05-12T07:42:23.740Z"
   },
   {
    "duration": 44,
    "start_time": "2023-05-12T07:42:23.748Z"
   },
   {
    "duration": 38,
    "start_time": "2023-05-12T07:42:23.793Z"
   },
   {
    "duration": 31,
    "start_time": "2023-05-12T07:42:23.834Z"
   },
   {
    "duration": 150,
    "start_time": "2023-05-12T07:42:23.867Z"
   },
   {
    "duration": 0,
    "start_time": "2023-05-12T07:42:24.019Z"
   },
   {
    "duration": 0,
    "start_time": "2023-05-12T07:42:24.020Z"
   },
   {
    "duration": 46,
    "start_time": "2023-05-12T07:44:14.537Z"
   },
   {
    "duration": 23,
    "start_time": "2023-05-12T07:44:35.049Z"
   },
   {
    "duration": 20,
    "start_time": "2023-05-12T07:45:04.086Z"
   },
   {
    "duration": 1497,
    "start_time": "2023-05-12T07:45:24.362Z"
   },
   {
    "duration": 878,
    "start_time": "2023-05-12T07:45:25.861Z"
   },
   {
    "duration": 18,
    "start_time": "2023-05-12T07:45:26.741Z"
   },
   {
    "duration": 166,
    "start_time": "2023-05-12T07:45:26.761Z"
   },
   {
    "duration": 115,
    "start_time": "2023-05-12T07:45:26.930Z"
   },
   {
    "duration": 186,
    "start_time": "2023-05-12T07:45:27.047Z"
   },
   {
    "duration": 524,
    "start_time": "2023-05-12T07:45:27.235Z"
   },
   {
    "duration": 457,
    "start_time": "2023-05-12T07:45:27.761Z"
   },
   {
    "duration": 4,
    "start_time": "2023-05-12T07:45:28.224Z"
   },
   {
    "duration": 13,
    "start_time": "2023-05-12T07:45:28.229Z"
   },
   {
    "duration": 16,
    "start_time": "2023-05-12T07:45:28.244Z"
   },
   {
    "duration": 25,
    "start_time": "2023-05-12T07:45:28.263Z"
   },
   {
    "duration": 43,
    "start_time": "2023-05-12T07:45:28.290Z"
   },
   {
    "duration": 24,
    "start_time": "2023-05-12T07:45:28.336Z"
   },
   {
    "duration": 90,
    "start_time": "2023-05-12T07:45:28.362Z"
   },
   {
    "duration": 5,
    "start_time": "2023-05-12T07:49:13.331Z"
   },
   {
    "duration": 4,
    "start_time": "2023-05-12T07:49:56.768Z"
   },
   {
    "duration": 188,
    "start_time": "2023-05-12T07:50:02.865Z"
   },
   {
    "duration": 179,
    "start_time": "2023-05-12T07:50:35.614Z"
   },
   {
    "duration": 337,
    "start_time": "2023-05-12T07:53:16.374Z"
   },
   {
    "duration": 1642,
    "start_time": "2023-05-12T07:53:29.639Z"
   },
   {
    "duration": 864,
    "start_time": "2023-05-12T07:53:31.284Z"
   },
   {
    "duration": 16,
    "start_time": "2023-05-12T07:53:32.150Z"
   },
   {
    "duration": 161,
    "start_time": "2023-05-12T07:53:32.168Z"
   },
   {
    "duration": 108,
    "start_time": "2023-05-12T07:53:32.333Z"
   },
   {
    "duration": 172,
    "start_time": "2023-05-12T07:53:32.443Z"
   },
   {
    "duration": 23,
    "start_time": "2023-05-12T07:53:32.616Z"
   },
   {
    "duration": 22,
    "start_time": "2023-05-12T07:53:32.641Z"
   },
   {
    "duration": 43,
    "start_time": "2023-05-12T07:53:32.664Z"
   },
   {
    "duration": 40,
    "start_time": "2023-05-12T07:53:32.709Z"
   },
   {
    "duration": 66,
    "start_time": "2023-05-12T07:53:32.750Z"
   },
   {
    "duration": 49,
    "start_time": "2023-05-12T07:53:32.817Z"
   },
   {
    "duration": 210,
    "start_time": "2023-05-12T07:53:32.868Z"
   },
   {
    "duration": 15,
    "start_time": "2023-05-12T07:53:33.081Z"
   },
   {
    "duration": 103,
    "start_time": "2023-05-12T07:53:33.098Z"
   },
   {
    "duration": 4,
    "start_time": "2023-05-12T07:54:00.349Z"
   },
   {
    "duration": 1482,
    "start_time": "2023-05-12T07:54:13.738Z"
   },
   {
    "duration": 830,
    "start_time": "2023-05-12T07:54:15.221Z"
   },
   {
    "duration": 17,
    "start_time": "2023-05-12T07:54:16.053Z"
   },
   {
    "duration": 168,
    "start_time": "2023-05-12T07:54:16.073Z"
   },
   {
    "duration": 125,
    "start_time": "2023-05-12T07:54:16.242Z"
   },
   {
    "duration": 195,
    "start_time": "2023-05-12T07:54:16.368Z"
   },
   {
    "duration": 4,
    "start_time": "2023-05-12T07:54:16.565Z"
   },
   {
    "duration": 13,
    "start_time": "2023-05-12T07:54:16.570Z"
   },
   {
    "duration": 19,
    "start_time": "2023-05-12T07:54:16.585Z"
   },
   {
    "duration": 18,
    "start_time": "2023-05-12T07:54:16.606Z"
   },
   {
    "duration": 46,
    "start_time": "2023-05-12T07:54:16.625Z"
   },
   {
    "duration": 4,
    "start_time": "2023-05-12T07:54:16.673Z"
   },
   {
    "duration": 219,
    "start_time": "2023-05-12T07:54:16.678Z"
   },
   {
    "duration": 28,
    "start_time": "2023-05-12T07:54:16.898Z"
   },
   {
    "duration": 109,
    "start_time": "2023-05-12T07:54:16.928Z"
   },
   {
    "duration": 80,
    "start_time": "2023-05-12T11:05:41.257Z"
   },
   {
    "duration": 1747,
    "start_time": "2023-05-12T11:05:48.194Z"
   },
   {
    "duration": 1315,
    "start_time": "2023-05-12T11:05:49.943Z"
   },
   {
    "duration": 27,
    "start_time": "2023-05-12T11:05:51.260Z"
   },
   {
    "duration": 166,
    "start_time": "2023-05-12T11:05:51.289Z"
   },
   {
    "duration": 169,
    "start_time": "2023-05-12T11:05:51.459Z"
   },
   {
    "duration": 194,
    "start_time": "2023-05-12T11:05:51.631Z"
   },
   {
    "duration": 6,
    "start_time": "2023-05-12T11:05:51.827Z"
   },
   {
    "duration": 17,
    "start_time": "2023-05-12T11:05:51.835Z"
   },
   {
    "duration": 16,
    "start_time": "2023-05-12T11:05:51.855Z"
   },
   {
    "duration": 22,
    "start_time": "2023-05-12T11:05:51.876Z"
   },
   {
    "duration": 47,
    "start_time": "2023-05-12T11:05:51.900Z"
   },
   {
    "duration": 26,
    "start_time": "2023-05-12T11:05:51.949Z"
   },
   {
    "duration": 219,
    "start_time": "2023-05-12T11:05:51.978Z"
   },
   {
    "duration": 263,
    "start_time": "2023-05-12T11:05:52.200Z"
   },
   {
    "duration": 28,
    "start_time": "2023-05-12T11:05:52.465Z"
   },
   {
    "duration": 98,
    "start_time": "2023-05-12T11:05:52.495Z"
   },
   {
    "duration": 45,
    "start_time": "2023-05-12T11:07:20.295Z"
   },
   {
    "duration": 44,
    "start_time": "2023-05-12T11:07:32.163Z"
   },
   {
    "duration": 22,
    "start_time": "2023-05-12T11:11:02.006Z"
   },
   {
    "duration": 33,
    "start_time": "2023-05-12T11:11:15.259Z"
   },
   {
    "duration": 27,
    "start_time": "2023-05-12T11:13:57.799Z"
   },
   {
    "duration": 32,
    "start_time": "2023-05-12T11:14:19.002Z"
   },
   {
    "duration": 106,
    "start_time": "2023-05-12T11:16:55.031Z"
   },
   {
    "duration": 121,
    "start_time": "2023-05-12T11:17:33.068Z"
   },
   {
    "duration": 102,
    "start_time": "2023-05-12T11:18:21.207Z"
   },
   {
    "duration": 96,
    "start_time": "2023-05-12T11:20:38.460Z"
   },
   {
    "duration": 6,
    "start_time": "2023-05-12T11:22:41.909Z"
   },
   {
    "duration": 566,
    "start_time": "2023-05-12T11:24:20.193Z"
   },
   {
    "duration": 586,
    "start_time": "2023-05-12T11:24:34.221Z"
   },
   {
    "duration": 519,
    "start_time": "2023-05-12T11:24:43.139Z"
   },
   {
    "duration": 555,
    "start_time": "2023-05-12T11:24:53.199Z"
   },
   {
    "duration": 605,
    "start_time": "2023-05-12T11:24:59.596Z"
   },
   {
    "duration": 30,
    "start_time": "2023-05-12T11:29:02.020Z"
   },
   {
    "duration": 43,
    "start_time": "2023-05-12T11:29:44.935Z"
   },
   {
    "duration": 1444,
    "start_time": "2023-05-12T11:29:54.313Z"
   },
   {
    "duration": 931,
    "start_time": "2023-05-12T11:29:55.759Z"
   },
   {
    "duration": 17,
    "start_time": "2023-05-12T11:29:56.691Z"
   },
   {
    "duration": 160,
    "start_time": "2023-05-12T11:29:56.709Z"
   },
   {
    "duration": 122,
    "start_time": "2023-05-12T11:29:56.872Z"
   },
   {
    "duration": 204,
    "start_time": "2023-05-12T11:29:56.997Z"
   },
   {
    "duration": 4,
    "start_time": "2023-05-12T11:29:57.203Z"
   },
   {
    "duration": 11,
    "start_time": "2023-05-12T11:29:57.208Z"
   },
   {
    "duration": 8,
    "start_time": "2023-05-12T11:29:57.221Z"
   },
   {
    "duration": 19,
    "start_time": "2023-05-12T11:29:57.230Z"
   },
   {
    "duration": 57,
    "start_time": "2023-05-12T11:29:57.251Z"
   },
   {
    "duration": 4,
    "start_time": "2023-05-12T11:29:57.310Z"
   },
   {
    "duration": 234,
    "start_time": "2023-05-12T11:29:57.315Z"
   },
   {
    "duration": 111,
    "start_time": "2023-05-12T11:29:57.552Z"
   },
   {
    "duration": 116,
    "start_time": "2023-05-12T11:29:57.675Z"
   },
   {
    "duration": 295,
    "start_time": "2023-05-12T11:29:57.794Z"
   },
   {
    "duration": 11,
    "start_time": "2023-05-12T11:29:58.092Z"
   },
   {
    "duration": 27,
    "start_time": "2023-05-12T11:29:58.105Z"
   },
   {
    "duration": 6,
    "start_time": "2023-05-12T11:29:58.134Z"
   },
   {
    "duration": 599,
    "start_time": "2023-05-12T11:29:58.143Z"
   },
   {
    "duration": 52,
    "start_time": "2023-05-12T11:29:58.743Z"
   },
   {
    "duration": 19,
    "start_time": "2023-05-12T11:29:58.797Z"
   },
   {
    "duration": 18,
    "start_time": "2023-05-12T11:29:58.818Z"
   },
   {
    "duration": 96,
    "start_time": "2023-05-12T11:29:58.838Z"
   },
   {
    "duration": 33,
    "start_time": "2023-05-12T11:30:25.513Z"
   },
   {
    "duration": 127,
    "start_time": "2023-05-12T11:33:34.844Z"
   },
   {
    "duration": 18,
    "start_time": "2023-05-12T11:37:03.826Z"
   },
   {
    "duration": 28,
    "start_time": "2023-05-12T11:37:11.672Z"
   },
   {
    "duration": 2173,
    "start_time": "2023-05-12T11:38:42.659Z"
   },
   {
    "duration": 2051,
    "start_time": "2023-05-12T11:39:00.088Z"
   },
   {
    "duration": 2158,
    "start_time": "2023-05-12T11:39:06.923Z"
   },
   {
    "duration": 2080,
    "start_time": "2023-05-12T11:39:17.515Z"
   },
   {
    "duration": 1983,
    "start_time": "2023-05-12T11:39:25.343Z"
   },
   {
    "duration": 2200,
    "start_time": "2023-05-12T11:39:33.613Z"
   },
   {
    "duration": 2075,
    "start_time": "2023-05-12T11:39:42.493Z"
   },
   {
    "duration": 2301,
    "start_time": "2023-05-12T11:40:00.030Z"
   },
   {
    "duration": 7,
    "start_time": "2023-05-12T11:43:29.124Z"
   },
   {
    "duration": 51,
    "start_time": "2023-05-12T11:47:08.493Z"
   },
   {
    "duration": 54,
    "start_time": "2023-05-12T11:47:29.468Z"
   },
   {
    "duration": 20,
    "start_time": "2023-05-12T11:49:35.393Z"
   },
   {
    "duration": 1525,
    "start_time": "2023-05-12T11:49:59.741Z"
   },
   {
    "duration": 1576,
    "start_time": "2023-05-12T15:11:04.294Z"
   },
   {
    "duration": 3141,
    "start_time": "2023-05-12T15:11:05.872Z"
   },
   {
    "duration": 17,
    "start_time": "2023-05-12T15:11:09.014Z"
   },
   {
    "duration": 135,
    "start_time": "2023-05-12T15:11:09.032Z"
   },
   {
    "duration": 93,
    "start_time": "2023-05-12T15:11:09.168Z"
   },
   {
    "duration": 153,
    "start_time": "2023-05-12T15:11:09.262Z"
   },
   {
    "duration": 4,
    "start_time": "2023-05-12T15:11:09.416Z"
   },
   {
    "duration": 18,
    "start_time": "2023-05-12T15:11:09.421Z"
   },
   {
    "duration": 34,
    "start_time": "2023-05-12T15:11:09.441Z"
   },
   {
    "duration": 42,
    "start_time": "2023-05-12T15:11:09.477Z"
   },
   {
    "duration": 58,
    "start_time": "2023-05-12T15:11:09.520Z"
   },
   {
    "duration": 5,
    "start_time": "2023-05-12T15:11:09.579Z"
   },
   {
    "duration": 189,
    "start_time": "2023-05-12T15:11:09.586Z"
   },
   {
    "duration": 77,
    "start_time": "2023-05-12T15:11:09.777Z"
   },
   {
    "duration": 85,
    "start_time": "2023-05-12T15:11:09.855Z"
   },
   {
    "duration": 243,
    "start_time": "2023-05-12T15:11:09.941Z"
   },
   {
    "duration": 8,
    "start_time": "2023-05-12T15:11:10.185Z"
   },
   {
    "duration": 45,
    "start_time": "2023-05-12T15:11:10.195Z"
   },
   {
    "duration": 5,
    "start_time": "2023-05-12T15:11:10.242Z"
   },
   {
    "duration": 454,
    "start_time": "2023-05-12T15:11:10.248Z"
   },
   {
    "duration": 16,
    "start_time": "2023-05-12T15:11:10.704Z"
   },
   {
    "duration": 29,
    "start_time": "2023-05-12T15:11:10.721Z"
   },
   {
    "duration": 19,
    "start_time": "2023-05-12T15:11:10.752Z"
   },
   {
    "duration": 1824,
    "start_time": "2023-05-12T15:11:10.772Z"
   },
   {
    "duration": 77,
    "start_time": "2023-05-12T15:11:12.597Z"
   },
   {
    "duration": 0,
    "start_time": "2023-05-12T15:11:12.676Z"
   },
   {
    "duration": 0,
    "start_time": "2023-05-12T15:11:12.677Z"
   },
   {
    "duration": 0,
    "start_time": "2023-05-12T15:11:12.677Z"
   },
   {
    "duration": 0,
    "start_time": "2023-05-12T15:11:12.678Z"
   },
   {
    "duration": 0,
    "start_time": "2023-05-12T15:11:12.679Z"
   },
   {
    "duration": 205,
    "start_time": "2023-05-12T15:12:18.454Z"
   },
   {
    "duration": 6,
    "start_time": "2023-05-12T15:12:22.734Z"
   },
   {
    "duration": 1359,
    "start_time": "2023-05-12T15:12:31.916Z"
   },
   {
    "duration": 770,
    "start_time": "2023-05-12T15:12:33.278Z"
   },
   {
    "duration": 16,
    "start_time": "2023-05-12T15:12:34.049Z"
   },
   {
    "duration": 129,
    "start_time": "2023-05-12T15:12:34.067Z"
   },
   {
    "duration": 105,
    "start_time": "2023-05-12T15:12:34.199Z"
   },
   {
    "duration": 161,
    "start_time": "2023-05-12T15:12:34.305Z"
   },
   {
    "duration": 4,
    "start_time": "2023-05-12T15:12:34.468Z"
   },
   {
    "duration": 7,
    "start_time": "2023-05-12T15:12:34.474Z"
   },
   {
    "duration": 8,
    "start_time": "2023-05-12T15:12:34.482Z"
   },
   {
    "duration": 25,
    "start_time": "2023-05-12T15:12:34.492Z"
   },
   {
    "duration": 74,
    "start_time": "2023-05-12T15:12:34.519Z"
   },
   {
    "duration": 27,
    "start_time": "2023-05-12T15:12:34.594Z"
   },
   {
    "duration": 244,
    "start_time": "2023-05-12T15:12:34.622Z"
   },
   {
    "duration": 84,
    "start_time": "2023-05-12T15:12:34.869Z"
   },
   {
    "duration": 83,
    "start_time": "2023-05-12T15:12:34.955Z"
   },
   {
    "duration": 232,
    "start_time": "2023-05-12T15:12:35.039Z"
   },
   {
    "duration": 8,
    "start_time": "2023-05-12T15:12:35.273Z"
   },
   {
    "duration": 48,
    "start_time": "2023-05-12T15:12:35.282Z"
   },
   {
    "duration": 5,
    "start_time": "2023-05-12T15:12:35.332Z"
   },
   {
    "duration": 492,
    "start_time": "2023-05-12T15:12:35.338Z"
   },
   {
    "duration": 16,
    "start_time": "2023-05-12T15:12:35.832Z"
   },
   {
    "duration": 55,
    "start_time": "2023-05-12T15:12:35.850Z"
   },
   {
    "duration": 29,
    "start_time": "2023-05-12T15:12:35.907Z"
   },
   {
    "duration": 1812,
    "start_time": "2023-05-12T15:12:35.938Z"
   },
   {
    "duration": 116,
    "start_time": "2023-05-12T15:12:37.751Z"
   },
   {
    "duration": 0,
    "start_time": "2023-05-12T15:12:37.869Z"
   },
   {
    "duration": 0,
    "start_time": "2023-05-12T15:12:37.870Z"
   },
   {
    "duration": 0,
    "start_time": "2023-05-12T15:12:37.871Z"
   },
   {
    "duration": 0,
    "start_time": "2023-05-12T15:12:37.872Z"
   },
   {
    "duration": 0,
    "start_time": "2023-05-12T15:12:37.873Z"
   },
   {
    "duration": 129,
    "start_time": "2023-05-12T15:14:16.047Z"
   },
   {
    "duration": 6,
    "start_time": "2023-05-12T15:14:31.898Z"
   },
   {
    "duration": 29,
    "start_time": "2023-05-12T15:14:42.590Z"
   },
   {
    "duration": 16,
    "start_time": "2023-05-12T15:14:45.185Z"
   },
   {
    "duration": 1262,
    "start_time": "2023-05-12T15:14:50.006Z"
   },
   {
    "duration": 14,
    "start_time": "2023-05-12T15:14:59.014Z"
   },
   {
    "duration": 55,
    "start_time": "2023-05-12T15:14:59.593Z"
   },
   {
    "duration": 18,
    "start_time": "2023-05-12T15:16:18.256Z"
   },
   {
    "duration": 46,
    "start_time": "2023-05-12T15:21:35.953Z"
   },
   {
    "duration": 20,
    "start_time": "2023-05-12T15:21:58.428Z"
   },
   {
    "duration": 18,
    "start_time": "2023-05-12T15:23:36.260Z"
   },
   {
    "duration": 210,
    "start_time": "2023-05-12T15:24:21.909Z"
   },
   {
    "duration": 180,
    "start_time": "2023-05-12T15:24:35.990Z"
   },
   {
    "duration": 333,
    "start_time": "2023-05-12T15:24:44.886Z"
   },
   {
    "duration": 190,
    "start_time": "2023-05-12T15:24:52.655Z"
   },
   {
    "duration": 176,
    "start_time": "2023-05-12T15:25:00.389Z"
   },
   {
    "duration": 218,
    "start_time": "2023-05-12T15:25:11.933Z"
   },
   {
    "duration": 364,
    "start_time": "2023-05-12T15:25:17.793Z"
   },
   {
    "duration": 529,
    "start_time": "2023-05-12T15:26:45.485Z"
   },
   {
    "duration": 8,
    "start_time": "2023-05-12T15:27:19.701Z"
   },
   {
    "duration": 28,
    "start_time": "2023-05-12T15:30:33.013Z"
   },
   {
    "duration": 8,
    "start_time": "2023-05-12T15:31:11.246Z"
   },
   {
    "duration": 37,
    "start_time": "2023-05-12T15:37:45.258Z"
   },
   {
    "duration": 18,
    "start_time": "2023-05-12T15:38:38.328Z"
   },
   {
    "duration": 23,
    "start_time": "2023-05-12T15:38:48.352Z"
   },
   {
    "duration": 7,
    "start_time": "2023-05-12T15:43:21.401Z"
   },
   {
    "duration": 21,
    "start_time": "2023-05-12T15:58:23.325Z"
   },
   {
    "duration": 20,
    "start_time": "2023-05-12T15:58:53.796Z"
   },
   {
    "duration": 30,
    "start_time": "2023-05-12T16:00:05.815Z"
   },
   {
    "duration": 36,
    "start_time": "2023-05-12T16:02:44.527Z"
   },
   {
    "duration": 30,
    "start_time": "2023-05-12T16:05:00.239Z"
   },
   {
    "duration": 16,
    "start_time": "2023-05-12T16:05:20.002Z"
   },
   {
    "duration": 14,
    "start_time": "2023-05-12T16:17:26.067Z"
   },
   {
    "duration": 3,
    "start_time": "2023-05-12T16:18:24.763Z"
   },
   {
    "duration": 15,
    "start_time": "2023-05-12T16:19:04.811Z"
   },
   {
    "duration": 17,
    "start_time": "2023-05-12T16:19:17.094Z"
   },
   {
    "duration": 64,
    "start_time": "2023-05-12T16:35:34.402Z"
   },
   {
    "duration": 63,
    "start_time": "2023-05-12T16:41:15.191Z"
   },
   {
    "duration": 3,
    "start_time": "2023-05-12T17:11:41.567Z"
   },
   {
    "duration": 3,
    "start_time": "2023-05-12T18:49:43.486Z"
   },
   {
    "duration": 14,
    "start_time": "2023-05-12T18:51:33.523Z"
   },
   {
    "duration": 1568,
    "start_time": "2023-05-12T18:53:30.716Z"
   },
   {
    "duration": 776,
    "start_time": "2023-05-12T18:53:32.286Z"
   },
   {
    "duration": 19,
    "start_time": "2023-05-12T18:53:33.063Z"
   },
   {
    "duration": 139,
    "start_time": "2023-05-12T18:53:33.084Z"
   },
   {
    "duration": 146,
    "start_time": "2023-05-12T18:53:33.226Z"
   },
   {
    "duration": 185,
    "start_time": "2023-05-12T18:53:33.374Z"
   },
   {
    "duration": 4,
    "start_time": "2023-05-12T18:53:33.561Z"
   },
   {
    "duration": 6,
    "start_time": "2023-05-12T18:53:33.566Z"
   },
   {
    "duration": 7,
    "start_time": "2023-05-12T18:53:33.573Z"
   },
   {
    "duration": 13,
    "start_time": "2023-05-12T18:53:33.582Z"
   },
   {
    "duration": 59,
    "start_time": "2023-05-12T18:53:33.596Z"
   },
   {
    "duration": 5,
    "start_time": "2023-05-12T18:53:33.658Z"
   },
   {
    "duration": 186,
    "start_time": "2023-05-12T18:53:33.664Z"
   },
   {
    "duration": 82,
    "start_time": "2023-05-12T18:53:33.851Z"
   },
   {
    "duration": 90,
    "start_time": "2023-05-12T18:53:33.936Z"
   },
   {
    "duration": 259,
    "start_time": "2023-05-12T18:53:34.028Z"
   },
   {
    "duration": 8,
    "start_time": "2023-05-12T18:53:34.288Z"
   },
   {
    "duration": 44,
    "start_time": "2023-05-12T18:53:34.297Z"
   },
   {
    "duration": 5,
    "start_time": "2023-05-12T18:53:34.343Z"
   },
   {
    "duration": 652,
    "start_time": "2023-05-12T18:53:34.350Z"
   },
   {
    "duration": 31,
    "start_time": "2023-05-12T18:53:35.004Z"
   },
   {
    "duration": 56,
    "start_time": "2023-05-12T18:53:35.039Z"
   },
   {
    "duration": 15,
    "start_time": "2023-05-12T18:53:35.096Z"
   },
   {
    "duration": 2019,
    "start_time": "2023-05-12T18:53:35.112Z"
   },
   {
    "duration": 10,
    "start_time": "2023-05-12T18:53:37.133Z"
   },
   {
    "duration": 33,
    "start_time": "2023-05-12T18:53:37.145Z"
   },
   {
    "duration": 14,
    "start_time": "2023-05-12T18:53:37.179Z"
   },
   {
    "duration": 1372,
    "start_time": "2023-05-12T18:53:37.222Z"
   },
   {
    "duration": 23,
    "start_time": "2023-05-12T18:53:38.595Z"
   },
   {
    "duration": 48,
    "start_time": "2023-05-12T18:53:38.620Z"
   },
   {
    "duration": 22,
    "start_time": "2023-05-12T18:53:38.670Z"
   },
   {
    "duration": 38,
    "start_time": "2023-05-12T18:53:38.693Z"
   },
   {
    "duration": 12,
    "start_time": "2023-05-12T18:53:38.732Z"
   },
   {
    "duration": 568,
    "start_time": "2023-05-12T18:53:38.746Z"
   },
   {
    "duration": 32,
    "start_time": "2023-05-12T18:53:39.317Z"
   },
   {
    "duration": 8,
    "start_time": "2023-05-12T18:53:39.351Z"
   },
   {
    "duration": 32,
    "start_time": "2023-05-12T18:53:39.360Z"
   },
   {
    "duration": 46,
    "start_time": "2023-05-12T18:53:39.394Z"
   },
   {
    "duration": 11,
    "start_time": "2023-05-12T18:53:39.442Z"
   },
   {
    "duration": 14,
    "start_time": "2023-05-12T18:53:39.455Z"
   },
   {
    "duration": 74,
    "start_time": "2023-05-12T18:53:39.471Z"
   },
   {
    "duration": 101,
    "start_time": "2023-05-12T18:53:39.547Z"
   },
   {
    "duration": 20,
    "start_time": "2023-05-12T18:53:39.650Z"
   },
   {
    "duration": 16,
    "start_time": "2023-05-12T18:53:39.671Z"
   },
   {
    "duration": 30,
    "start_time": "2023-05-12T18:53:39.688Z"
   },
   {
    "duration": 29,
    "start_time": "2023-05-12T18:53:39.720Z"
   },
   {
    "duration": 88,
    "start_time": "2023-05-12T18:53:39.751Z"
   },
   {
    "duration": 103,
    "start_time": "2023-05-12T18:53:39.842Z"
   },
   {
    "duration": 13,
    "start_time": "2023-05-12T18:53:39.947Z"
   },
   {
    "duration": 40,
    "start_time": "2023-05-12T18:53:39.962Z"
   },
   {
    "duration": 17,
    "start_time": "2023-05-12T18:53:40.004Z"
   },
   {
    "duration": 11,
    "start_time": "2023-05-12T18:53:40.023Z"
   },
   {
    "duration": 561,
    "start_time": "2023-05-12T18:53:40.036Z"
   },
   {
    "duration": 145,
    "start_time": "2023-05-12T18:53:40.599Z"
   },
   {
    "duration": 12,
    "start_time": "2023-05-12T18:55:01.355Z"
   },
   {
    "duration": 80,
    "start_time": "2023-05-12T18:59:20.644Z"
   },
   {
    "duration": 147,
    "start_time": "2023-05-12T19:00:46.764Z"
   },
   {
    "duration": 135,
    "start_time": "2023-05-12T19:01:06.752Z"
   },
   {
    "duration": 123,
    "start_time": "2023-05-12T19:02:39.851Z"
   },
   {
    "duration": 138,
    "start_time": "2023-05-12T19:07:36.421Z"
   },
   {
    "duration": 29,
    "start_time": "2023-05-12T19:08:31.811Z"
   },
   {
    "duration": 1482,
    "start_time": "2023-05-12T19:23:16.053Z"
   },
   {
    "duration": 812,
    "start_time": "2023-05-12T19:23:17.538Z"
   },
   {
    "duration": 21,
    "start_time": "2023-05-12T19:23:18.351Z"
   },
   {
    "duration": 157,
    "start_time": "2023-05-12T19:23:18.374Z"
   },
   {
    "duration": 104,
    "start_time": "2023-05-12T19:23:18.533Z"
   },
   {
    "duration": 179,
    "start_time": "2023-05-12T19:23:18.639Z"
   },
   {
    "duration": 4,
    "start_time": "2023-05-12T19:23:18.833Z"
   },
   {
    "duration": 9,
    "start_time": "2023-05-12T19:23:18.838Z"
   },
   {
    "duration": 6,
    "start_time": "2023-05-12T19:23:18.848Z"
   },
   {
    "duration": 4,
    "start_time": "2023-05-12T19:23:18.857Z"
   },
   {
    "duration": 41,
    "start_time": "2023-05-12T19:23:18.863Z"
   },
   {
    "duration": 20,
    "start_time": "2023-05-12T19:23:18.917Z"
   },
   {
    "duration": 198,
    "start_time": "2023-05-12T19:23:18.939Z"
   },
   {
    "duration": 101,
    "start_time": "2023-05-12T19:23:19.139Z"
   },
   {
    "duration": 94,
    "start_time": "2023-05-12T19:23:19.242Z"
   },
   {
    "duration": 297,
    "start_time": "2023-05-12T19:23:19.338Z"
   },
   {
    "duration": 9,
    "start_time": "2023-05-12T19:23:19.641Z"
   },
   {
    "duration": 38,
    "start_time": "2023-05-12T19:23:19.651Z"
   },
   {
    "duration": 8,
    "start_time": "2023-05-12T19:23:19.691Z"
   },
   {
    "duration": 578,
    "start_time": "2023-05-12T19:23:19.700Z"
   },
   {
    "duration": 29,
    "start_time": "2023-05-12T19:23:20.280Z"
   },
   {
    "duration": 61,
    "start_time": "2023-05-12T19:23:20.317Z"
   },
   {
    "duration": 18,
    "start_time": "2023-05-12T19:23:20.380Z"
   },
   {
    "duration": 1877,
    "start_time": "2023-05-12T19:23:20.400Z"
   },
   {
    "duration": 5,
    "start_time": "2023-05-12T19:23:22.279Z"
   },
   {
    "duration": 49,
    "start_time": "2023-05-12T19:23:22.286Z"
   },
   {
    "duration": 17,
    "start_time": "2023-05-12T19:23:22.337Z"
   },
   {
    "duration": 1327,
    "start_time": "2023-05-12T19:23:22.358Z"
   },
   {
    "duration": 18,
    "start_time": "2023-05-12T19:23:23.687Z"
   },
   {
    "duration": 53,
    "start_time": "2023-05-12T19:23:23.718Z"
   },
   {
    "duration": 22,
    "start_time": "2023-05-12T19:23:23.773Z"
   },
   {
    "duration": 38,
    "start_time": "2023-05-12T19:23:23.796Z"
   },
   {
    "duration": 9,
    "start_time": "2023-05-12T19:23:23.836Z"
   },
   {
    "duration": 542,
    "start_time": "2023-05-12T19:23:23.847Z"
   },
   {
    "duration": 29,
    "start_time": "2023-05-12T19:23:24.391Z"
   },
   {
    "duration": 19,
    "start_time": "2023-05-12T19:23:24.422Z"
   },
   {
    "duration": 50,
    "start_time": "2023-05-12T19:23:24.443Z"
   },
   {
    "duration": 50,
    "start_time": "2023-05-12T19:23:24.495Z"
   },
   {
    "duration": 16,
    "start_time": "2023-05-12T19:23:24.547Z"
   },
   {
    "duration": 29,
    "start_time": "2023-05-12T19:23:24.565Z"
   },
   {
    "duration": 85,
    "start_time": "2023-05-12T19:23:24.596Z"
   },
   {
    "duration": 41,
    "start_time": "2023-05-12T19:23:24.683Z"
   },
   {
    "duration": 40,
    "start_time": "2023-05-12T19:23:24.726Z"
   },
   {
    "duration": 32,
    "start_time": "2023-05-12T19:23:24.768Z"
   },
   {
    "duration": 33,
    "start_time": "2023-05-12T19:23:24.802Z"
   },
   {
    "duration": 23,
    "start_time": "2023-05-12T19:23:24.843Z"
   },
   {
    "duration": 101,
    "start_time": "2023-05-12T19:23:24.868Z"
   },
   {
    "duration": 69,
    "start_time": "2023-05-12T19:23:24.971Z"
   },
   {
    "duration": 25,
    "start_time": "2023-05-12T19:23:25.042Z"
   },
   {
    "duration": 40,
    "start_time": "2023-05-12T19:23:25.069Z"
   },
   {
    "duration": 17,
    "start_time": "2023-05-12T19:23:25.111Z"
   },
   {
    "duration": 13,
    "start_time": "2023-05-12T19:23:25.129Z"
   },
   {
    "duration": 560,
    "start_time": "2023-05-12T19:23:25.144Z"
   },
   {
    "duration": 32,
    "start_time": "2023-05-12T19:23:25.706Z"
   },
   {
    "duration": 127,
    "start_time": "2023-05-12T19:23:25.741Z"
   },
   {
    "duration": 11,
    "start_time": "2023-05-12T19:23:25.870Z"
   },
   {
    "duration": 141,
    "start_time": "2023-05-12T19:23:25.882Z"
   },
   {
    "duration": 102,
    "start_time": "2023-05-12T19:24:07.900Z"
   },
   {
    "duration": 132,
    "start_time": "2023-05-12T19:24:33.674Z"
   },
   {
    "duration": 543,
    "start_time": "2023-05-12T19:28:16.657Z"
   },
   {
    "duration": 12,
    "start_time": "2023-05-12T19:28:17.231Z"
   },
   {
    "duration": 148,
    "start_time": "2023-05-12T19:29:53.987Z"
   },
   {
    "duration": 14,
    "start_time": "2023-05-12T19:29:55.457Z"
   },
   {
    "duration": 48,
    "start_time": "2023-05-13T14:24:55.690Z"
   },
   {
    "duration": 1774,
    "start_time": "2023-05-13T14:25:01.901Z"
   },
   {
    "duration": 2960,
    "start_time": "2023-05-13T14:25:03.677Z"
   },
   {
    "duration": 17,
    "start_time": "2023-05-13T14:25:06.639Z"
   },
   {
    "duration": 141,
    "start_time": "2023-05-13T14:25:06.657Z"
   },
   {
    "duration": 102,
    "start_time": "2023-05-13T14:25:06.800Z"
   },
   {
    "duration": 179,
    "start_time": "2023-05-13T14:25:06.904Z"
   },
   {
    "duration": 4,
    "start_time": "2023-05-13T14:25:07.084Z"
   },
   {
    "duration": 34,
    "start_time": "2023-05-13T14:25:07.090Z"
   },
   {
    "duration": 11,
    "start_time": "2023-05-13T14:25:07.126Z"
   },
   {
    "duration": 16,
    "start_time": "2023-05-13T14:25:07.138Z"
   },
   {
    "duration": 61,
    "start_time": "2023-05-13T14:25:07.156Z"
   },
   {
    "duration": 43,
    "start_time": "2023-05-13T14:25:07.219Z"
   },
   {
    "duration": 231,
    "start_time": "2023-05-13T14:25:07.264Z"
   },
   {
    "duration": 108,
    "start_time": "2023-05-13T14:25:07.499Z"
   },
   {
    "duration": 94,
    "start_time": "2023-05-13T14:25:07.609Z"
   },
   {
    "duration": 333,
    "start_time": "2023-05-13T14:25:07.704Z"
   },
   {
    "duration": 11,
    "start_time": "2023-05-13T14:25:08.039Z"
   },
   {
    "duration": 40,
    "start_time": "2023-05-13T14:25:08.053Z"
   },
   {
    "duration": 31,
    "start_time": "2023-05-13T14:25:08.095Z"
   },
   {
    "duration": 542,
    "start_time": "2023-05-13T14:25:08.128Z"
   },
   {
    "duration": 30,
    "start_time": "2023-05-13T14:25:08.672Z"
   },
   {
    "duration": 54,
    "start_time": "2023-05-13T14:25:08.704Z"
   },
   {
    "duration": 25,
    "start_time": "2023-05-13T14:25:08.760Z"
   },
   {
    "duration": 2069,
    "start_time": "2023-05-13T14:25:08.786Z"
   },
   {
    "duration": 8,
    "start_time": "2023-05-13T14:25:10.857Z"
   },
   {
    "duration": 43,
    "start_time": "2023-05-13T14:25:10.867Z"
   },
   {
    "duration": 21,
    "start_time": "2023-05-13T14:25:10.911Z"
   },
   {
    "duration": 1494,
    "start_time": "2023-05-13T14:25:10.934Z"
   },
   {
    "duration": 22,
    "start_time": "2023-05-13T14:25:12.430Z"
   },
   {
    "duration": 62,
    "start_time": "2023-05-13T14:25:12.454Z"
   },
   {
    "duration": 27,
    "start_time": "2023-05-13T14:25:12.523Z"
   },
   {
    "duration": 19,
    "start_time": "2023-05-13T14:25:12.557Z"
   },
   {
    "duration": 15,
    "start_time": "2023-05-13T14:25:12.577Z"
   },
   {
    "duration": 648,
    "start_time": "2023-05-13T14:25:12.593Z"
   },
   {
    "duration": 35,
    "start_time": "2023-05-13T14:25:13.244Z"
   },
   {
    "duration": 10,
    "start_time": "2023-05-13T14:25:13.282Z"
   },
   {
    "duration": 67,
    "start_time": "2023-05-13T14:25:13.294Z"
   },
   {
    "duration": 36,
    "start_time": "2023-05-13T14:25:13.363Z"
   },
   {
    "duration": 24,
    "start_time": "2023-05-13T14:25:13.402Z"
   },
   {
    "duration": 71,
    "start_time": "2023-05-13T14:25:13.428Z"
   },
   {
    "duration": 89,
    "start_time": "2023-05-13T14:25:13.504Z"
   },
   {
    "duration": 55,
    "start_time": "2023-05-13T14:25:13.595Z"
   },
   {
    "duration": 41,
    "start_time": "2023-05-13T14:25:13.651Z"
   },
   {
    "duration": 29,
    "start_time": "2023-05-13T14:25:13.694Z"
   },
   {
    "duration": 55,
    "start_time": "2023-05-13T14:25:13.728Z"
   },
   {
    "duration": 54,
    "start_time": "2023-05-13T14:25:13.785Z"
   },
   {
    "duration": 101,
    "start_time": "2023-05-13T14:25:13.842Z"
   },
   {
    "duration": 92,
    "start_time": "2023-05-13T14:25:13.945Z"
   },
   {
    "duration": 15,
    "start_time": "2023-05-13T14:25:14.039Z"
   },
   {
    "duration": 89,
    "start_time": "2023-05-13T14:25:14.056Z"
   },
   {
    "duration": 3,
    "start_time": "2023-05-13T14:25:14.147Z"
   },
   {
    "duration": 16,
    "start_time": "2023-05-13T14:25:14.152Z"
   },
   {
    "duration": 582,
    "start_time": "2023-05-13T14:25:14.170Z"
   },
   {
    "duration": 13,
    "start_time": "2023-05-13T14:25:14.753Z"
   },
   {
    "duration": 118,
    "start_time": "2023-05-13T14:25:14.768Z"
   },
   {
    "duration": 214,
    "start_time": "2023-05-13T14:25:14.888Z"
   },
   {
    "duration": 23,
    "start_time": "2023-05-13T14:25:15.104Z"
   },
   {
    "duration": 172,
    "start_time": "2023-05-13T14:25:15.129Z"
   },
   {
    "duration": 137,
    "start_time": "2023-05-13T14:26:08.648Z"
   },
   {
    "duration": 12,
    "start_time": "2023-05-13T14:26:09.618Z"
   },
   {
    "duration": 14,
    "start_time": "2023-05-13T14:26:17.771Z"
   },
   {
    "duration": 9,
    "start_time": "2023-05-13T14:28:25.856Z"
   },
   {
    "duration": 69,
    "start_time": "2023-05-13T14:44:33.087Z"
   },
   {
    "duration": 26,
    "start_time": "2023-05-13T14:44:57.328Z"
   },
   {
    "duration": 42,
    "start_time": "2023-05-13T14:49:06.481Z"
   },
   {
    "duration": 37,
    "start_time": "2023-05-13T14:49:14.459Z"
   },
   {
    "duration": 68,
    "start_time": "2023-05-13T14:49:42.918Z"
   },
   {
    "duration": 3,
    "start_time": "2023-05-13T14:51:22.282Z"
   },
   {
    "duration": 545,
    "start_time": "2023-05-13T14:51:22.825Z"
   },
   {
    "duration": 13,
    "start_time": "2023-05-13T14:51:24.125Z"
   },
   {
    "duration": 127,
    "start_time": "2023-05-13T14:53:14.338Z"
   },
   {
    "duration": 12,
    "start_time": "2023-05-13T14:53:15.775Z"
   },
   {
    "duration": 145,
    "start_time": "2023-05-13T14:54:18.911Z"
   },
   {
    "duration": 13,
    "start_time": "2023-05-13T14:54:20.505Z"
   },
   {
    "duration": 25,
    "start_time": "2023-05-13T16:32:53.954Z"
   },
   {
    "duration": 21,
    "start_time": "2023-05-13T16:33:00.542Z"
   },
   {
    "duration": 63,
    "start_time": "2023-05-13T16:34:01.395Z"
   },
   {
    "duration": 4,
    "start_time": "2023-05-13T16:34:09.416Z"
   },
   {
    "duration": 56,
    "start_time": "2023-05-13T16:34:16.120Z"
   },
   {
    "duration": 73,
    "start_time": "2023-05-13T16:34:21.691Z"
   },
   {
    "duration": 12,
    "start_time": "2023-05-13T16:34:24.168Z"
   },
   {
    "duration": 2,
    "start_time": "2023-05-13T16:34:30.324Z"
   },
   {
    "duration": 7,
    "start_time": "2023-05-13T16:34:31.406Z"
   },
   {
    "duration": 4,
    "start_time": "2023-05-13T16:34:35.260Z"
   },
   {
    "duration": 454,
    "start_time": "2023-05-13T16:34:36.471Z"
   },
   {
    "duration": 12,
    "start_time": "2023-05-13T16:34:37.280Z"
   },
   {
    "duration": 40,
    "start_time": "2023-05-13T16:34:40.545Z"
   },
   {
    "duration": 403,
    "start_time": "2023-05-13T16:34:46.849Z"
   },
   {
    "duration": 16,
    "start_time": "2023-05-13T16:34:53.869Z"
   },
   {
    "duration": 16,
    "start_time": "2023-05-13T16:38:01.419Z"
   },
   {
    "duration": 69,
    "start_time": "2023-05-13T16:38:07.846Z"
   },
   {
    "duration": 16,
    "start_time": "2023-05-13T16:38:14.368Z"
   },
   {
    "duration": 14,
    "start_time": "2023-05-13T16:38:19.969Z"
   },
   {
    "duration": 2,
    "start_time": "2023-05-13T16:38:21.019Z"
   },
   {
    "duration": 3,
    "start_time": "2023-05-13T16:38:23.548Z"
   },
   {
    "duration": 8,
    "start_time": "2023-05-13T16:38:35.418Z"
   },
   {
    "duration": 3,
    "start_time": "2023-05-13T16:38:37.959Z"
   },
   {
    "duration": 442,
    "start_time": "2023-05-13T16:38:52.544Z"
   },
   {
    "duration": 11,
    "start_time": "2023-05-13T16:38:53.073Z"
   },
   {
    "duration": 42,
    "start_time": "2023-05-13T16:39:02.363Z"
   },
   {
    "duration": 427,
    "start_time": "2023-05-13T16:39:07.881Z"
   },
   {
    "duration": 12,
    "start_time": "2023-05-13T16:39:08.556Z"
   },
   {
    "duration": 21,
    "start_time": "2023-05-13T16:39:21.270Z"
   },
   {
    "duration": 53,
    "start_time": "2023-05-13T16:42:46.342Z"
   },
   {
    "duration": 124,
    "start_time": "2023-05-13T16:42:57.805Z"
   },
   {
    "duration": 5,
    "start_time": "2023-05-13T16:44:17.851Z"
   },
   {
    "duration": 5,
    "start_time": "2023-05-13T16:44:45.778Z"
   },
   {
    "duration": 5,
    "start_time": "2023-05-13T16:44:51.394Z"
   },
   {
    "duration": 5,
    "start_time": "2023-05-13T16:46:43.544Z"
   },
   {
    "duration": 1414,
    "start_time": "2023-05-13T16:53:55.598Z"
   },
   {
    "duration": 798,
    "start_time": "2023-05-13T16:53:57.014Z"
   },
   {
    "duration": 20,
    "start_time": "2023-05-13T16:53:57.814Z"
   },
   {
    "duration": 151,
    "start_time": "2023-05-13T16:53:57.836Z"
   },
   {
    "duration": 95,
    "start_time": "2023-05-13T16:53:57.988Z"
   },
   {
    "duration": 165,
    "start_time": "2023-05-13T16:53:58.085Z"
   },
   {
    "duration": 3,
    "start_time": "2023-05-13T16:53:58.252Z"
   },
   {
    "duration": 19,
    "start_time": "2023-05-13T16:53:58.257Z"
   },
   {
    "duration": 20,
    "start_time": "2023-05-13T16:53:58.277Z"
   },
   {
    "duration": 8,
    "start_time": "2023-05-13T16:53:58.299Z"
   },
   {
    "duration": 57,
    "start_time": "2023-05-13T16:53:58.308Z"
   },
   {
    "duration": 3,
    "start_time": "2023-05-13T16:53:58.367Z"
   },
   {
    "duration": 203,
    "start_time": "2023-05-13T16:53:58.372Z"
   },
   {
    "duration": 93,
    "start_time": "2023-05-13T16:53:58.577Z"
   },
   {
    "duration": 88,
    "start_time": "2023-05-13T16:53:58.672Z"
   },
   {
    "duration": 245,
    "start_time": "2023-05-13T16:53:58.762Z"
   },
   {
    "duration": 19,
    "start_time": "2023-05-13T16:53:59.009Z"
   },
   {
    "duration": 35,
    "start_time": "2023-05-13T16:53:59.029Z"
   },
   {
    "duration": 6,
    "start_time": "2023-05-13T16:53:59.066Z"
   },
   {
    "duration": 513,
    "start_time": "2023-05-13T16:53:59.073Z"
   },
   {
    "duration": 18,
    "start_time": "2023-05-13T16:53:59.588Z"
   },
   {
    "duration": 43,
    "start_time": "2023-05-13T16:53:59.607Z"
   },
   {
    "duration": 23,
    "start_time": "2023-05-13T16:53:59.651Z"
   },
   {
    "duration": 2029,
    "start_time": "2023-05-13T16:53:59.676Z"
   },
   {
    "duration": 18,
    "start_time": "2023-05-13T16:54:01.707Z"
   },
   {
    "duration": 52,
    "start_time": "2023-05-13T16:54:01.727Z"
   },
   {
    "duration": 14,
    "start_time": "2023-05-13T16:54:01.781Z"
   },
   {
    "duration": 1480,
    "start_time": "2023-05-13T16:54:01.799Z"
   },
   {
    "duration": 20,
    "start_time": "2023-05-13T16:54:03.281Z"
   },
   {
    "duration": 61,
    "start_time": "2023-05-13T16:54:03.302Z"
   },
   {
    "duration": 18,
    "start_time": "2023-05-13T16:54:03.365Z"
   },
   {
    "duration": 16,
    "start_time": "2023-05-13T16:54:03.384Z"
   },
   {
    "duration": 27,
    "start_time": "2023-05-13T16:54:03.401Z"
   },
   {
    "duration": 637,
    "start_time": "2023-05-13T16:54:03.429Z"
   },
   {
    "duration": 24,
    "start_time": "2023-05-13T16:54:04.068Z"
   },
   {
    "duration": 11,
    "start_time": "2023-05-13T16:54:04.094Z"
   },
   {
    "duration": 52,
    "start_time": "2023-05-13T16:54:04.107Z"
   },
   {
    "duration": 26,
    "start_time": "2023-05-13T16:54:04.161Z"
   },
   {
    "duration": 9,
    "start_time": "2023-05-13T16:54:04.188Z"
   },
   {
    "duration": 32,
    "start_time": "2023-05-13T16:54:04.199Z"
   },
   {
    "duration": 49,
    "start_time": "2023-05-13T16:54:04.233Z"
   },
   {
    "duration": 47,
    "start_time": "2023-05-13T16:54:04.284Z"
   },
   {
    "duration": 22,
    "start_time": "2023-05-13T16:54:04.333Z"
   },
   {
    "duration": 21,
    "start_time": "2023-05-13T16:54:04.357Z"
   },
   {
    "duration": 32,
    "start_time": "2023-05-13T16:54:04.379Z"
   },
   {
    "duration": 20,
    "start_time": "2023-05-13T16:54:04.413Z"
   },
   {
    "duration": 85,
    "start_time": "2023-05-13T16:54:04.434Z"
   },
   {
    "duration": 98,
    "start_time": "2023-05-13T16:54:04.524Z"
   },
   {
    "duration": 24,
    "start_time": "2023-05-13T16:54:04.623Z"
   },
   {
    "duration": 84,
    "start_time": "2023-05-13T16:54:04.649Z"
   },
   {
    "duration": 13,
    "start_time": "2023-05-13T16:54:04.734Z"
   },
   {
    "duration": 3,
    "start_time": "2023-05-13T16:54:04.749Z"
   },
   {
    "duration": 10,
    "start_time": "2023-05-13T16:54:04.753Z"
   },
   {
    "duration": 15,
    "start_time": "2023-05-13T16:54:04.764Z"
   },
   {
    "duration": 10,
    "start_time": "2023-05-13T16:54:04.780Z"
   },
   {
    "duration": 550,
    "start_time": "2023-05-13T16:54:04.791Z"
   },
   {
    "duration": 11,
    "start_time": "2023-05-13T16:54:05.343Z"
   },
   {
    "duration": 70,
    "start_time": "2023-05-13T16:54:05.355Z"
   },
   {
    "duration": 428,
    "start_time": "2023-05-13T16:54:05.426Z"
   },
   {
    "duration": 11,
    "start_time": "2023-05-13T16:54:05.856Z"
   },
   {
    "duration": 5,
    "start_time": "2023-05-13T16:54:05.869Z"
   },
   {
    "duration": 58,
    "start_time": "2023-05-13T16:55:10.416Z"
   },
   {
    "duration": 3,
    "start_time": "2023-05-13T16:55:25.538Z"
   },
   {
    "duration": 4,
    "start_time": "2023-05-13T16:55:27.632Z"
   },
   {
    "duration": 5,
    "start_time": "2023-05-13T16:56:20.537Z"
   },
   {
    "duration": 6,
    "start_time": "2023-05-13T16:56:44.827Z"
   },
   {
    "duration": 45,
    "start_time": "2023-05-13T16:57:28.628Z"
   },
   {
    "duration": 44,
    "start_time": "2023-05-13T16:57:41.135Z"
   },
   {
    "duration": 49,
    "start_time": "2023-05-13T16:57:53.177Z"
   },
   {
    "duration": 46,
    "start_time": "2023-05-13T16:58:21.393Z"
   },
   {
    "duration": 45,
    "start_time": "2023-05-13T16:58:33.551Z"
   },
   {
    "duration": 44,
    "start_time": "2023-05-13T16:58:39.630Z"
   },
   {
    "duration": 44,
    "start_time": "2023-05-13T16:58:46.199Z"
   },
   {
    "duration": 154,
    "start_time": "2023-05-13T16:59:00.575Z"
   },
   {
    "duration": 152,
    "start_time": "2023-05-13T16:59:21.928Z"
   },
   {
    "duration": 1499,
    "start_time": "2023-05-13T16:59:33.898Z"
   },
   {
    "duration": 760,
    "start_time": "2023-05-13T16:59:35.399Z"
   },
   {
    "duration": 15,
    "start_time": "2023-05-13T16:59:36.161Z"
   },
   {
    "duration": 153,
    "start_time": "2023-05-13T16:59:36.177Z"
   },
   {
    "duration": 102,
    "start_time": "2023-05-13T16:59:36.331Z"
   },
   {
    "duration": 170,
    "start_time": "2023-05-13T16:59:36.435Z"
   },
   {
    "duration": 4,
    "start_time": "2023-05-13T16:59:36.606Z"
   },
   {
    "duration": 16,
    "start_time": "2023-05-13T16:59:36.612Z"
   },
   {
    "duration": 6,
    "start_time": "2023-05-13T16:59:36.629Z"
   },
   {
    "duration": 12,
    "start_time": "2023-05-13T16:59:36.637Z"
   },
   {
    "duration": 46,
    "start_time": "2023-05-13T16:59:36.650Z"
   },
   {
    "duration": 4,
    "start_time": "2023-05-13T16:59:36.698Z"
   },
   {
    "duration": 198,
    "start_time": "2023-05-13T16:59:36.703Z"
   },
   {
    "duration": 89,
    "start_time": "2023-05-13T16:59:36.902Z"
   },
   {
    "duration": 89,
    "start_time": "2023-05-13T16:59:36.992Z"
   },
   {
    "duration": 243,
    "start_time": "2023-05-13T16:59:37.083Z"
   },
   {
    "duration": 10,
    "start_time": "2023-05-13T16:59:37.328Z"
   },
   {
    "duration": 39,
    "start_time": "2023-05-13T16:59:37.340Z"
   },
   {
    "duration": 6,
    "start_time": "2023-05-13T16:59:37.381Z"
   },
   {
    "duration": 544,
    "start_time": "2023-05-13T16:59:37.389Z"
   },
   {
    "duration": 17,
    "start_time": "2023-05-13T16:59:37.935Z"
   },
   {
    "duration": 37,
    "start_time": "2023-05-13T16:59:37.954Z"
   },
   {
    "duration": 28,
    "start_time": "2023-05-13T16:59:37.993Z"
   },
   {
    "duration": 1946,
    "start_time": "2023-05-13T16:59:38.025Z"
   },
   {
    "duration": 6,
    "start_time": "2023-05-13T16:59:39.973Z"
   },
   {
    "duration": 58,
    "start_time": "2023-05-13T16:59:39.980Z"
   },
   {
    "duration": 13,
    "start_time": "2023-05-13T16:59:40.040Z"
   },
   {
    "duration": 1384,
    "start_time": "2023-05-13T16:59:40.056Z"
   },
   {
    "duration": 19,
    "start_time": "2023-05-13T16:59:41.442Z"
   },
   {
    "duration": 53,
    "start_time": "2023-05-13T16:59:41.463Z"
   },
   {
    "duration": 18,
    "start_time": "2023-05-13T16:59:41.518Z"
   },
   {
    "duration": 19,
    "start_time": "2023-05-13T16:59:41.538Z"
   },
   {
    "duration": 11,
    "start_time": "2023-05-13T16:59:41.559Z"
   },
   {
    "duration": 621,
    "start_time": "2023-05-13T16:59:41.572Z"
   },
   {
    "duration": 38,
    "start_time": "2023-05-13T16:59:42.194Z"
   },
   {
    "duration": 10,
    "start_time": "2023-05-13T16:59:42.233Z"
   },
   {
    "duration": 36,
    "start_time": "2023-05-13T16:59:42.245Z"
   },
   {
    "duration": 45,
    "start_time": "2023-05-13T16:59:42.283Z"
   },
   {
    "duration": 7,
    "start_time": "2023-05-13T16:59:42.329Z"
   },
   {
    "duration": 43,
    "start_time": "2023-05-13T16:59:42.337Z"
   },
   {
    "duration": 30,
    "start_time": "2023-05-13T16:59:42.381Z"
   },
   {
    "duration": 32,
    "start_time": "2023-05-13T16:59:42.413Z"
   },
   {
    "duration": 20,
    "start_time": "2023-05-13T16:59:42.447Z"
   },
   {
    "duration": 20,
    "start_time": "2023-05-13T16:59:42.469Z"
   },
   {
    "duration": 18,
    "start_time": "2023-05-13T16:59:42.490Z"
   },
   {
    "duration": 28,
    "start_time": "2023-05-13T16:59:42.510Z"
   },
   {
    "duration": 91,
    "start_time": "2023-05-13T16:59:42.540Z"
   },
   {
    "duration": 75,
    "start_time": "2023-05-13T16:59:42.632Z"
   },
   {
    "duration": 33,
    "start_time": "2023-05-13T16:59:42.708Z"
   },
   {
    "duration": 85,
    "start_time": "2023-05-13T16:59:42.742Z"
   },
   {
    "duration": 13,
    "start_time": "2023-05-13T16:59:42.828Z"
   },
   {
    "duration": 2,
    "start_time": "2023-05-13T16:59:42.843Z"
   },
   {
    "duration": 6,
    "start_time": "2023-05-13T16:59:42.846Z"
   },
   {
    "duration": 17,
    "start_time": "2023-05-13T16:59:42.854Z"
   },
   {
    "duration": 7,
    "start_time": "2023-05-13T16:59:42.872Z"
   },
   {
    "duration": 524,
    "start_time": "2023-05-13T16:59:42.881Z"
   },
   {
    "duration": 18,
    "start_time": "2023-05-13T16:59:43.407Z"
   },
   {
    "duration": 57,
    "start_time": "2023-05-13T16:59:43.427Z"
   },
   {
    "duration": 457,
    "start_time": "2023-05-13T16:59:43.486Z"
   },
   {
    "duration": 13,
    "start_time": "2023-05-13T16:59:43.944Z"
   },
   {
    "duration": 78,
    "start_time": "2023-05-13T16:59:43.959Z"
   },
   {
    "duration": 47,
    "start_time": "2023-05-13T17:00:10.797Z"
   },
   {
    "duration": 45,
    "start_time": "2023-05-13T17:01:49.548Z"
   },
   {
    "duration": 73,
    "start_time": "2023-05-13T17:03:01.057Z"
   },
   {
    "duration": 9,
    "start_time": "2023-05-13T17:03:24.737Z"
   },
   {
    "duration": 8,
    "start_time": "2023-05-13T17:03:30.466Z"
   },
   {
    "duration": 5,
    "start_time": "2023-05-13T17:04:01.589Z"
   },
   {
    "duration": 12,
    "start_time": "2023-05-13T17:05:28.406Z"
   },
   {
    "duration": 4,
    "start_time": "2023-05-13T17:05:32.710Z"
   },
   {
    "duration": 4,
    "start_time": "2023-05-13T17:05:53.206Z"
   },
   {
    "duration": 15396,
    "start_time": "2023-05-13T17:11:38.239Z"
   },
   {
    "duration": 290,
    "start_time": "2023-05-13T17:14:40.906Z"
   },
   {
    "duration": 272,
    "start_time": "2023-05-13T17:15:03.879Z"
   },
   {
    "duration": 3,
    "start_time": "2023-05-13T17:15:22.694Z"
   },
   {
    "duration": 6,
    "start_time": "2023-05-13T17:16:23.471Z"
   },
   {
    "duration": 30393,
    "start_time": "2023-05-13T17:18:58.255Z"
   },
   {
    "duration": 84,
    "start_time": "2023-05-13T17:27:05.460Z"
   },
   {
    "duration": 4,
    "start_time": "2023-05-13T17:27:40.322Z"
   },
   {
    "duration": 4,
    "start_time": "2023-05-13T17:28:40.221Z"
   },
   {
    "duration": 44822,
    "start_time": "2023-05-13T17:30:44.125Z"
   },
   {
    "duration": 5725,
    "start_time": "2023-05-13T17:32:26.947Z"
   },
   {
    "duration": 5,
    "start_time": "2023-05-13T17:33:05.955Z"
   },
   {
    "duration": 114,
    "start_time": "2023-05-13T17:34:01.631Z"
   },
   {
    "duration": 5,
    "start_time": "2023-05-13T17:34:13.572Z"
   },
   {
    "duration": 18,
    "start_time": "2023-05-13T17:55:22.716Z"
   },
   {
    "duration": 18,
    "start_time": "2023-05-13T17:56:01.790Z"
   },
   {
    "duration": 16,
    "start_time": "2023-05-13T17:56:59.274Z"
   },
   {
    "duration": 16,
    "start_time": "2023-05-13T17:58:08.122Z"
   },
   {
    "duration": 15,
    "start_time": "2023-05-13T17:58:15.626Z"
   },
   {
    "duration": 17,
    "start_time": "2023-05-13T18:32:21.667Z"
   },
   {
    "duration": 12,
    "start_time": "2023-05-13T18:33:17.144Z"
   },
   {
    "duration": 25,
    "start_time": "2023-05-13T18:36:55.479Z"
   },
   {
    "duration": 28,
    "start_time": "2023-05-13T18:38:13.710Z"
   },
   {
    "duration": 26,
    "start_time": "2023-05-13T18:39:11.771Z"
   },
   {
    "duration": 25,
    "start_time": "2023-05-13T18:47:51.808Z"
   },
   {
    "duration": 27,
    "start_time": "2023-05-13T18:48:08.465Z"
   },
   {
    "duration": 24,
    "start_time": "2023-05-13T18:48:52.641Z"
   },
   {
    "duration": 14,
    "start_time": "2023-05-13T18:49:39.702Z"
   },
   {
    "duration": 29,
    "start_time": "2023-05-13T18:49:50.946Z"
   },
   {
    "duration": 26,
    "start_time": "2023-05-13T18:50:14.213Z"
   },
   {
    "duration": 20,
    "start_time": "2023-05-13T18:50:26.633Z"
   },
   {
    "duration": 13,
    "start_time": "2023-05-13T18:51:11.384Z"
   },
   {
    "duration": 1434,
    "start_time": "2023-05-13T19:31:08.662Z"
   },
   {
    "duration": 800,
    "start_time": "2023-05-13T19:31:10.098Z"
   },
   {
    "duration": 27,
    "start_time": "2023-05-13T19:31:10.899Z"
   },
   {
    "duration": 177,
    "start_time": "2023-05-13T19:31:10.929Z"
   },
   {
    "duration": 122,
    "start_time": "2023-05-13T19:31:11.107Z"
   },
   {
    "duration": 199,
    "start_time": "2023-05-13T19:31:11.231Z"
   },
   {
    "duration": 5,
    "start_time": "2023-05-13T19:31:11.431Z"
   },
   {
    "duration": 31,
    "start_time": "2023-05-13T19:31:11.437Z"
   },
   {
    "duration": 47,
    "start_time": "2023-05-13T19:31:11.470Z"
   },
   {
    "duration": 27,
    "start_time": "2023-05-13T19:31:11.520Z"
   },
   {
    "duration": 66,
    "start_time": "2023-05-13T19:31:11.549Z"
   },
   {
    "duration": 5,
    "start_time": "2023-05-13T19:31:11.617Z"
   },
   {
    "duration": 231,
    "start_time": "2023-05-13T19:31:11.623Z"
   },
   {
    "duration": 102,
    "start_time": "2023-05-13T19:31:11.856Z"
   },
   {
    "duration": 101,
    "start_time": "2023-05-13T19:31:11.960Z"
   },
   {
    "duration": 251,
    "start_time": "2023-05-13T19:31:12.062Z"
   },
   {
    "duration": 17,
    "start_time": "2023-05-13T19:31:12.315Z"
   },
   {
    "duration": 72,
    "start_time": "2023-05-13T19:31:12.334Z"
   },
   {
    "duration": 5,
    "start_time": "2023-05-13T19:31:12.408Z"
   },
   {
    "duration": 598,
    "start_time": "2023-05-13T19:31:12.414Z"
   },
   {
    "duration": 22,
    "start_time": "2023-05-13T19:31:13.013Z"
   },
   {
    "duration": 56,
    "start_time": "2023-05-13T19:31:13.037Z"
   },
   {
    "duration": 27,
    "start_time": "2023-05-13T19:31:13.094Z"
   },
   {
    "duration": 2109,
    "start_time": "2023-05-13T19:31:13.123Z"
   },
   {
    "duration": 7,
    "start_time": "2023-05-13T19:31:15.234Z"
   },
   {
    "duration": 79,
    "start_time": "2023-05-13T19:31:15.243Z"
   },
   {
    "duration": 20,
    "start_time": "2023-05-13T19:31:15.324Z"
   },
   {
    "duration": 1451,
    "start_time": "2023-05-13T19:31:15.348Z"
   },
   {
    "duration": 27,
    "start_time": "2023-05-13T19:31:16.800Z"
   },
   {
    "duration": 65,
    "start_time": "2023-05-13T19:31:16.829Z"
   },
   {
    "duration": 21,
    "start_time": "2023-05-13T19:31:16.896Z"
   },
   {
    "duration": 15,
    "start_time": "2023-05-13T19:31:16.919Z"
   },
   {
    "duration": 15,
    "start_time": "2023-05-13T19:31:16.936Z"
   },
   {
    "duration": 574,
    "start_time": "2023-05-13T19:31:16.953Z"
   },
   {
    "duration": 22,
    "start_time": "2023-05-13T19:31:17.529Z"
   },
   {
    "duration": 9,
    "start_time": "2023-05-13T19:31:17.553Z"
   },
   {
    "duration": 30,
    "start_time": "2023-05-13T19:31:17.564Z"
   },
   {
    "duration": 41,
    "start_time": "2023-05-13T19:31:17.596Z"
   },
   {
    "duration": 8,
    "start_time": "2023-05-13T19:31:17.638Z"
   },
   {
    "duration": 15,
    "start_time": "2023-05-13T19:31:17.647Z"
   },
   {
    "duration": 40,
    "start_time": "2023-05-13T19:31:17.663Z"
   },
   {
    "duration": 64,
    "start_time": "2023-05-13T19:31:17.724Z"
   },
   {
    "duration": 43,
    "start_time": "2023-05-13T19:31:17.790Z"
   },
   {
    "duration": 30,
    "start_time": "2023-05-13T19:31:17.835Z"
   },
   {
    "duration": 25,
    "start_time": "2023-05-13T19:31:17.867Z"
   },
   {
    "duration": 31,
    "start_time": "2023-05-13T19:31:17.894Z"
   },
   {
    "duration": 75,
    "start_time": "2023-05-13T19:31:17.927Z"
   },
   {
    "duration": 86,
    "start_time": "2023-05-13T19:31:18.004Z"
   },
   {
    "duration": 26,
    "start_time": "2023-05-13T19:31:18.092Z"
   },
   {
    "duration": 76,
    "start_time": "2023-05-13T19:31:18.119Z"
   },
   {
    "duration": 14,
    "start_time": "2023-05-13T19:31:18.196Z"
   },
   {
    "duration": 3,
    "start_time": "2023-05-13T19:31:18.224Z"
   },
   {
    "duration": 16,
    "start_time": "2023-05-13T19:31:18.228Z"
   },
   {
    "duration": 16,
    "start_time": "2023-05-13T19:31:18.245Z"
   },
   {
    "duration": 6,
    "start_time": "2023-05-13T19:31:18.262Z"
   },
   {
    "duration": 502,
    "start_time": "2023-05-13T19:31:18.269Z"
   },
   {
    "duration": 12,
    "start_time": "2023-05-13T19:31:18.772Z"
   },
   {
    "duration": 79,
    "start_time": "2023-05-13T19:31:18.786Z"
   },
   {
    "duration": 425,
    "start_time": "2023-05-13T19:31:18.867Z"
   },
   {
    "duration": 11,
    "start_time": "2023-05-13T19:31:19.294Z"
   },
   {
    "duration": 68,
    "start_time": "2023-05-13T19:31:19.306Z"
   },
   {
    "duration": 50,
    "start_time": "2023-05-13T19:31:19.376Z"
   },
   {
    "duration": 100,
    "start_time": "2023-05-13T19:31:19.427Z"
   },
   {
    "duration": 24,
    "start_time": "2023-05-13T19:31:19.529Z"
   },
   {
    "duration": 15185,
    "start_time": "2023-05-13T19:31:19.555Z"
   },
   {
    "duration": 286,
    "start_time": "2023-05-13T19:31:34.742Z"
   },
   {
    "duration": 5,
    "start_time": "2023-05-13T19:31:35.030Z"
   },
   {
    "duration": 15,
    "start_time": "2023-05-13T19:31:35.037Z"
   },
   {
    "duration": 29202,
    "start_time": "2023-05-13T19:31:35.053Z"
   },
   {
    "duration": 79,
    "start_time": "2023-05-13T19:32:04.257Z"
   },
   {
    "duration": 3,
    "start_time": "2023-05-13T19:32:04.338Z"
   },
   {
    "duration": 36,
    "start_time": "2023-05-13T19:32:04.343Z"
   },
   {
    "duration": 276756,
    "start_time": "2023-05-13T19:32:04.381Z"
   },
   {
    "duration": 5516,
    "start_time": "2023-05-13T19:36:41.138Z"
   },
   {
    "duration": 4,
    "start_time": "2023-05-13T19:36:46.656Z"
   },
   {
    "duration": 64,
    "start_time": "2023-05-13T19:36:46.661Z"
   },
   {
    "duration": 12,
    "start_time": "2023-05-13T19:36:46.726Z"
   },
   {
    "duration": 1614,
    "start_time": "2023-05-14T07:15:42.901Z"
   },
   {
    "duration": 1113,
    "start_time": "2023-05-14T07:15:44.517Z"
   },
   {
    "duration": 19,
    "start_time": "2023-05-14T07:15:45.632Z"
   },
   {
    "duration": 119,
    "start_time": "2023-05-14T07:15:45.653Z"
   },
   {
    "duration": 113,
    "start_time": "2023-05-14T07:15:45.774Z"
   },
   {
    "duration": 149,
    "start_time": "2023-05-14T07:15:45.889Z"
   },
   {
    "duration": 4,
    "start_time": "2023-05-14T07:15:46.040Z"
   },
   {
    "duration": 6,
    "start_time": "2023-05-14T07:15:46.057Z"
   },
   {
    "duration": 5,
    "start_time": "2023-05-14T07:15:46.064Z"
   },
   {
    "duration": 7,
    "start_time": "2023-05-14T07:15:46.071Z"
   },
   {
    "duration": 53,
    "start_time": "2023-05-14T07:15:46.080Z"
   },
   {
    "duration": 23,
    "start_time": "2023-05-14T07:15:46.135Z"
   },
   {
    "duration": 200,
    "start_time": "2023-05-14T07:15:46.160Z"
   },
   {
    "duration": 80,
    "start_time": "2023-05-14T07:15:46.361Z"
   },
   {
    "duration": 84,
    "start_time": "2023-05-14T07:15:46.443Z"
   },
   {
    "duration": 264,
    "start_time": "2023-05-14T07:15:46.529Z"
   },
   {
    "duration": 13,
    "start_time": "2023-05-14T07:15:46.795Z"
   },
   {
    "duration": 47,
    "start_time": "2023-05-14T07:15:46.810Z"
   },
   {
    "duration": 7,
    "start_time": "2023-05-14T07:15:46.859Z"
   },
   {
    "duration": 590,
    "start_time": "2023-05-14T07:15:46.868Z"
   },
   {
    "duration": 17,
    "start_time": "2023-05-14T07:15:47.460Z"
   },
   {
    "duration": 32,
    "start_time": "2023-05-14T07:15:47.479Z"
   },
   {
    "duration": 20,
    "start_time": "2023-05-14T07:15:47.513Z"
   },
   {
    "duration": 1801,
    "start_time": "2023-05-14T07:15:47.556Z"
   },
   {
    "duration": 6,
    "start_time": "2023-05-14T07:15:49.359Z"
   },
   {
    "duration": 33,
    "start_time": "2023-05-14T07:15:49.366Z"
   },
   {
    "duration": 14,
    "start_time": "2023-05-14T07:15:49.401Z"
   },
   {
    "duration": 1397,
    "start_time": "2023-05-14T07:15:49.419Z"
   },
   {
    "duration": 17,
    "start_time": "2023-05-14T07:15:50.817Z"
   },
   {
    "duration": 51,
    "start_time": "2023-05-14T07:15:50.836Z"
   },
   {
    "duration": 21,
    "start_time": "2023-05-14T07:15:50.889Z"
   },
   {
    "duration": 18,
    "start_time": "2023-05-14T07:15:50.912Z"
   },
   {
    "duration": 26,
    "start_time": "2023-05-14T07:15:50.932Z"
   },
   {
    "duration": 560,
    "start_time": "2023-05-14T07:15:50.960Z"
   },
   {
    "duration": 23,
    "start_time": "2023-05-14T07:15:51.522Z"
   },
   {
    "duration": 8,
    "start_time": "2023-05-14T07:15:51.556Z"
   },
   {
    "duration": 41,
    "start_time": "2023-05-14T07:15:51.565Z"
   },
   {
    "duration": 17,
    "start_time": "2023-05-14T07:15:51.608Z"
   },
   {
    "duration": 11,
    "start_time": "2023-05-14T07:15:51.627Z"
   },
   {
    "duration": 25,
    "start_time": "2023-05-14T07:15:51.639Z"
   },
   {
    "duration": 27,
    "start_time": "2023-05-14T07:15:51.665Z"
   },
   {
    "duration": 36,
    "start_time": "2023-05-14T07:15:51.694Z"
   },
   {
    "duration": 17,
    "start_time": "2023-05-14T07:15:51.731Z"
   },
   {
    "duration": 18,
    "start_time": "2023-05-14T07:15:51.749Z"
   },
   {
    "duration": 33,
    "start_time": "2023-05-14T07:15:51.769Z"
   },
   {
    "duration": 17,
    "start_time": "2023-05-14T07:15:51.804Z"
   },
   {
    "duration": 72,
    "start_time": "2023-05-14T07:15:51.823Z"
   },
   {
    "duration": 62,
    "start_time": "2023-05-14T07:15:51.896Z"
   },
   {
    "duration": 21,
    "start_time": "2023-05-14T07:15:51.959Z"
   },
   {
    "duration": 54,
    "start_time": "2023-05-14T07:15:51.982Z"
   },
   {
    "duration": 13,
    "start_time": "2023-05-14T07:15:52.057Z"
   },
   {
    "duration": 2,
    "start_time": "2023-05-14T07:15:52.072Z"
   },
   {
    "duration": 11,
    "start_time": "2023-05-14T07:15:52.076Z"
   },
   {
    "duration": 18,
    "start_time": "2023-05-14T07:15:52.089Z"
   },
   {
    "duration": 3,
    "start_time": "2023-05-14T07:15:52.109Z"
   },
   {
    "duration": 453,
    "start_time": "2023-05-14T07:15:52.113Z"
   },
   {
    "duration": 12,
    "start_time": "2023-05-14T07:15:52.567Z"
   },
   {
    "duration": 49,
    "start_time": "2023-05-14T07:15:52.581Z"
   },
   {
    "duration": 418,
    "start_time": "2023-05-14T07:15:52.632Z"
   },
   {
    "duration": 14,
    "start_time": "2023-05-14T07:15:53.052Z"
   },
   {
    "duration": 58,
    "start_time": "2023-05-14T07:15:53.067Z"
   },
   {
    "duration": 132,
    "start_time": "2023-05-14T07:15:53.127Z"
   },
   {
    "duration": 6,
    "start_time": "2023-05-14T07:15:53.260Z"
   },
   {
    "duration": 105,
    "start_time": "2023-05-14T07:15:53.267Z"
   },
   {
    "duration": 14788,
    "start_time": "2023-05-14T07:15:53.374Z"
   },
   {
    "duration": 246,
    "start_time": "2023-05-14T07:16:08.164Z"
   },
   {
    "duration": 3,
    "start_time": "2023-05-14T07:16:08.412Z"
   },
   {
    "duration": 5,
    "start_time": "2023-05-14T07:16:08.417Z"
   },
   {
    "duration": 30356,
    "start_time": "2023-05-14T07:16:08.424Z"
   },
   {
    "duration": 70,
    "start_time": "2023-05-14T07:16:38.781Z"
   },
   {
    "duration": 2,
    "start_time": "2023-05-14T07:16:38.853Z"
   },
   {
    "duration": 6,
    "start_time": "2023-05-14T07:16:38.857Z"
   },
   {
    "duration": 28802,
    "start_time": "2023-05-14T07:16:38.864Z"
   },
   {
    "duration": 5723,
    "start_time": "2023-05-14T07:17:07.668Z"
   },
   {
    "duration": 3,
    "start_time": "2023-05-14T07:17:13.393Z"
   },
   {
    "duration": 24,
    "start_time": "2023-05-14T07:17:13.398Z"
   },
   {
    "duration": 15,
    "start_time": "2023-05-14T07:17:13.456Z"
   },
   {
    "duration": 47,
    "start_time": "2023-05-14T07:27:58.294Z"
   },
   {
    "duration": 10,
    "start_time": "2023-05-14T07:28:11.458Z"
   },
   {
    "duration": 4,
    "start_time": "2023-05-14T07:28:23.534Z"
   },
   {
    "duration": 5,
    "start_time": "2023-05-14T07:28:26.917Z"
   },
   {
    "duration": 12,
    "start_time": "2023-05-14T07:28:42.403Z"
   },
   {
    "duration": 4,
    "start_time": "2023-05-14T07:57:23.122Z"
   },
   {
    "duration": 16,
    "start_time": "2023-05-14T07:57:23.951Z"
   },
   {
    "duration": 16,
    "start_time": "2023-05-14T08:00:37.686Z"
   },
   {
    "duration": 149,
    "start_time": "2023-05-14T08:00:54.291Z"
   },
   {
    "duration": 41,
    "start_time": "2023-05-14T08:01:01.857Z"
   },
   {
    "duration": 144,
    "start_time": "2023-05-14T09:01:56.492Z"
   },
   {
    "duration": 50,
    "start_time": "2023-05-14T09:03:50.083Z"
   },
   {
    "duration": 114,
    "start_time": "2023-05-14T09:04:07.497Z"
   },
   {
    "duration": 52537,
    "start_time": "2023-05-14T09:04:20.553Z"
   },
   {
    "duration": 217,
    "start_time": "2023-05-14T09:08:30.654Z"
   },
   {
    "duration": 54228,
    "start_time": "2023-05-14T09:08:47.845Z"
   },
   {
    "duration": 155,
    "start_time": "2023-05-14T09:11:19.103Z"
   },
   {
    "duration": 1626,
    "start_time": "2023-05-14T09:11:28.705Z"
   },
   {
    "duration": 3,
    "start_time": "2023-05-14T09:11:50.123Z"
   },
   {
    "duration": 3185,
    "start_time": "2023-05-14T09:11:51.815Z"
   },
   {
    "duration": 49091,
    "start_time": "2023-05-14T09:12:10.287Z"
   },
   {
    "duration": 8,
    "start_time": "2023-05-14T10:05:38.924Z"
   },
   {
    "duration": 1517,
    "start_time": "2023-05-14T10:05:49.077Z"
   },
   {
    "duration": 999,
    "start_time": "2023-05-14T10:05:50.598Z"
   },
   {
    "duration": 18,
    "start_time": "2023-05-14T10:05:51.599Z"
   },
   {
    "duration": 149,
    "start_time": "2023-05-14T10:05:51.619Z"
   },
   {
    "duration": 122,
    "start_time": "2023-05-14T10:05:51.771Z"
   },
   {
    "duration": 173,
    "start_time": "2023-05-14T10:05:51.895Z"
   },
   {
    "duration": 3,
    "start_time": "2023-05-14T10:05:52.070Z"
   },
   {
    "duration": 11,
    "start_time": "2023-05-14T10:05:52.075Z"
   },
   {
    "duration": 20,
    "start_time": "2023-05-14T10:05:52.088Z"
   },
   {
    "duration": 17,
    "start_time": "2023-05-14T10:05:52.111Z"
   },
   {
    "duration": 80,
    "start_time": "2023-05-14T10:05:52.129Z"
   },
   {
    "duration": 4,
    "start_time": "2023-05-14T10:05:52.211Z"
   },
   {
    "duration": 224,
    "start_time": "2023-05-14T10:05:52.217Z"
   },
   {
    "duration": 103,
    "start_time": "2023-05-14T10:05:52.443Z"
   },
   {
    "duration": 91,
    "start_time": "2023-05-14T10:05:52.557Z"
   },
   {
    "duration": 342,
    "start_time": "2023-05-14T10:05:52.650Z"
   },
   {
    "duration": 13,
    "start_time": "2023-05-14T10:05:53.000Z"
   },
   {
    "duration": 39,
    "start_time": "2023-05-14T10:05:53.014Z"
   },
   {
    "duration": 23,
    "start_time": "2023-05-14T10:05:53.055Z"
   },
   {
    "duration": 696,
    "start_time": "2023-05-14T10:05:53.080Z"
   },
   {
    "duration": 30,
    "start_time": "2023-05-14T10:05:53.778Z"
   },
   {
    "duration": 30,
    "start_time": "2023-05-14T10:05:53.810Z"
   },
   {
    "duration": 32,
    "start_time": "2023-05-14T10:05:53.842Z"
   },
   {
    "duration": 2233,
    "start_time": "2023-05-14T10:05:53.876Z"
   },
   {
    "duration": 6,
    "start_time": "2023-05-14T10:05:56.110Z"
   },
   {
    "duration": 47,
    "start_time": "2023-05-14T10:05:56.118Z"
   },
   {
    "duration": 29,
    "start_time": "2023-05-14T10:05:56.172Z"
   },
   {
    "duration": 1542,
    "start_time": "2023-05-14T10:05:56.205Z"
   },
   {
    "duration": 43,
    "start_time": "2023-05-14T10:05:57.749Z"
   },
   {
    "duration": 53,
    "start_time": "2023-05-14T10:05:57.795Z"
   },
   {
    "duration": 35,
    "start_time": "2023-05-14T10:05:57.850Z"
   },
   {
    "duration": 21,
    "start_time": "2023-05-14T10:05:57.889Z"
   },
   {
    "duration": 11,
    "start_time": "2023-05-14T10:05:57.911Z"
   },
   {
    "duration": 661,
    "start_time": "2023-05-14T10:05:57.924Z"
   },
   {
    "duration": 27,
    "start_time": "2023-05-14T10:05:58.589Z"
   },
   {
    "duration": 8,
    "start_time": "2023-05-14T10:05:58.617Z"
   },
   {
    "duration": 60,
    "start_time": "2023-05-14T10:05:58.627Z"
   },
   {
    "duration": 23,
    "start_time": "2023-05-14T10:05:58.689Z"
   },
   {
    "duration": 7,
    "start_time": "2023-05-14T10:05:58.714Z"
   },
   {
    "duration": 15,
    "start_time": "2023-05-14T10:05:58.723Z"
   },
   {
    "duration": 51,
    "start_time": "2023-05-14T10:05:58.740Z"
   },
   {
    "duration": 34,
    "start_time": "2023-05-14T10:05:58.792Z"
   },
   {
    "duration": 53,
    "start_time": "2023-05-14T10:05:58.827Z"
   },
   {
    "duration": 14,
    "start_time": "2023-05-14T10:05:58.887Z"
   },
   {
    "duration": 14,
    "start_time": "2023-05-14T10:05:58.903Z"
   },
   {
    "duration": 21,
    "start_time": "2023-05-14T10:05:58.919Z"
   },
   {
    "duration": 75,
    "start_time": "2023-05-14T10:05:58.942Z"
   },
   {
    "duration": 78,
    "start_time": "2023-05-14T10:05:59.018Z"
   },
   {
    "duration": 21,
    "start_time": "2023-05-14T10:05:59.098Z"
   },
   {
    "duration": 87,
    "start_time": "2023-05-14T10:05:59.121Z"
   },
   {
    "duration": 13,
    "start_time": "2023-05-14T10:05:59.210Z"
   },
   {
    "duration": 5,
    "start_time": "2023-05-14T10:05:59.225Z"
   },
   {
    "duration": 94,
    "start_time": "2023-05-14T10:05:59.231Z"
   },
   {
    "duration": 0,
    "start_time": "2023-05-14T10:05:59.327Z"
   },
   {
    "duration": 0,
    "start_time": "2023-05-14T10:05:59.329Z"
   },
   {
    "duration": 0,
    "start_time": "2023-05-14T10:05:59.330Z"
   },
   {
    "duration": 0,
    "start_time": "2023-05-14T10:05:59.332Z"
   },
   {
    "duration": 0,
    "start_time": "2023-05-14T10:05:59.334Z"
   },
   {
    "duration": 0,
    "start_time": "2023-05-14T10:05:59.335Z"
   },
   {
    "duration": 0,
    "start_time": "2023-05-14T10:05:59.336Z"
   },
   {
    "duration": 0,
    "start_time": "2023-05-14T10:05:59.338Z"
   },
   {
    "duration": 0,
    "start_time": "2023-05-14T10:05:59.340Z"
   },
   {
    "duration": 0,
    "start_time": "2023-05-14T10:05:59.342Z"
   },
   {
    "duration": 0,
    "start_time": "2023-05-14T10:05:59.343Z"
   },
   {
    "duration": 0,
    "start_time": "2023-05-14T10:05:59.345Z"
   },
   {
    "duration": 0,
    "start_time": "2023-05-14T10:05:59.346Z"
   },
   {
    "duration": 0,
    "start_time": "2023-05-14T10:05:59.348Z"
   },
   {
    "duration": 0,
    "start_time": "2023-05-14T10:05:59.350Z"
   },
   {
    "duration": 0,
    "start_time": "2023-05-14T10:05:59.352Z"
   },
   {
    "duration": 0,
    "start_time": "2023-05-14T10:05:59.354Z"
   },
   {
    "duration": 0,
    "start_time": "2023-05-14T10:05:59.355Z"
   },
   {
    "duration": 0,
    "start_time": "2023-05-14T10:05:59.359Z"
   },
   {
    "duration": 0,
    "start_time": "2023-05-14T10:05:59.360Z"
   },
   {
    "duration": 0,
    "start_time": "2023-05-14T10:05:59.360Z"
   },
   {
    "duration": 0,
    "start_time": "2023-05-14T10:05:59.361Z"
   },
   {
    "duration": 0,
    "start_time": "2023-05-14T10:05:59.362Z"
   },
   {
    "duration": 0,
    "start_time": "2023-05-14T10:05:59.362Z"
   },
   {
    "duration": 0,
    "start_time": "2023-05-14T10:05:59.363Z"
   },
   {
    "duration": 0,
    "start_time": "2023-05-14T10:05:59.364Z"
   },
   {
    "duration": 4,
    "start_time": "2023-05-14T10:06:15.610Z"
   },
   {
    "duration": 8,
    "start_time": "2023-05-14T10:06:17.329Z"
   },
   {
    "duration": 3,
    "start_time": "2023-05-14T10:06:21.349Z"
   },
   {
    "duration": 582,
    "start_time": "2023-05-14T10:06:21.721Z"
   },
   {
    "duration": 15,
    "start_time": "2023-05-14T10:06:22.306Z"
   },
   {
    "duration": 81,
    "start_time": "2023-05-14T10:06:25.946Z"
   },
   {
    "duration": 489,
    "start_time": "2023-05-14T10:06:27.153Z"
   },
   {
    "duration": 13,
    "start_time": "2023-05-14T10:06:28.505Z"
   },
   {
    "duration": 83,
    "start_time": "2023-05-14T10:06:30.715Z"
   },
   {
    "duration": 12,
    "start_time": "2023-05-14T10:06:32.130Z"
   },
   {
    "duration": 7,
    "start_time": "2023-05-14T10:06:33.004Z"
   },
   {
    "duration": 7,
    "start_time": "2023-05-14T10:06:34.013Z"
   },
   {
    "duration": 11,
    "start_time": "2023-05-14T10:06:35.406Z"
   },
   {
    "duration": 17837,
    "start_time": "2023-05-14T10:06:40.507Z"
   },
   {
    "duration": 269,
    "start_time": "2023-05-14T10:07:02.652Z"
   },
   {
    "duration": 4,
    "start_time": "2023-05-14T10:07:04.998Z"
   },
   {
    "duration": 5,
    "start_time": "2023-05-14T10:07:07.701Z"
   },
   {
    "duration": 10,
    "start_time": "2023-05-14T10:07:11.856Z"
   },
   {
    "duration": 47517,
    "start_time": "2023-05-14T10:09:37.497Z"
   },
   {
    "duration": 40334,
    "start_time": "2023-05-14T10:12:19.807Z"
   },
   {
    "duration": 25,
    "start_time": "2023-05-14T10:13:12.701Z"
   },
   {
    "duration": 4,
    "start_time": "2023-05-14T10:13:18.100Z"
   },
   {
    "duration": 5,
    "start_time": "2023-05-14T10:13:19.512Z"
   },
   {
    "duration": 5,
    "start_time": "2023-05-14T10:13:28.808Z"
   },
   {
    "duration": 1781,
    "start_time": "2023-05-14T10:57:14.750Z"
   },
   {
    "duration": 1155,
    "start_time": "2023-05-14T10:57:16.534Z"
   },
   {
    "duration": 25,
    "start_time": "2023-05-14T10:57:17.691Z"
   },
   {
    "duration": 155,
    "start_time": "2023-05-14T10:57:17.718Z"
   },
   {
    "duration": 130,
    "start_time": "2023-05-14T10:57:17.875Z"
   },
   {
    "duration": 193,
    "start_time": "2023-05-14T10:57:18.007Z"
   },
   {
    "duration": 5,
    "start_time": "2023-05-14T10:57:18.202Z"
   },
   {
    "duration": 13,
    "start_time": "2023-05-14T10:57:18.209Z"
   },
   {
    "duration": 4,
    "start_time": "2023-05-14T10:57:18.225Z"
   },
   {
    "duration": 34,
    "start_time": "2023-05-14T10:57:18.233Z"
   },
   {
    "duration": 48,
    "start_time": "2023-05-14T10:57:18.269Z"
   },
   {
    "duration": 7,
    "start_time": "2023-05-14T10:57:18.319Z"
   },
   {
    "duration": 216,
    "start_time": "2023-05-14T10:57:18.328Z"
   },
   {
    "duration": 132,
    "start_time": "2023-05-14T10:57:18.548Z"
   },
   {
    "duration": 114,
    "start_time": "2023-05-14T10:57:18.682Z"
   },
   {
    "duration": 353,
    "start_time": "2023-05-14T10:57:18.799Z"
   },
   {
    "duration": 17,
    "start_time": "2023-05-14T10:57:19.154Z"
   },
   {
    "duration": 51,
    "start_time": "2023-05-14T10:57:19.172Z"
   },
   {
    "duration": 7,
    "start_time": "2023-05-14T10:57:19.225Z"
   },
   {
    "duration": 648,
    "start_time": "2023-05-14T10:57:19.235Z"
   },
   {
    "duration": 16,
    "start_time": "2023-05-14T10:57:19.885Z"
   },
   {
    "duration": 61,
    "start_time": "2023-05-14T10:57:19.904Z"
   },
   {
    "duration": 25,
    "start_time": "2023-05-14T10:57:19.967Z"
   },
   {
    "duration": 2133,
    "start_time": "2023-05-14T10:57:19.994Z"
   },
   {
    "duration": 7,
    "start_time": "2023-05-14T10:57:22.129Z"
   },
   {
    "duration": 54,
    "start_time": "2023-05-14T10:57:22.137Z"
   },
   {
    "duration": 16,
    "start_time": "2023-05-14T10:57:22.194Z"
   },
   {
    "duration": 1617,
    "start_time": "2023-05-14T10:57:22.212Z"
   },
   {
    "duration": 39,
    "start_time": "2023-05-14T10:57:23.831Z"
   },
   {
    "duration": 60,
    "start_time": "2023-05-14T10:57:23.872Z"
   },
   {
    "duration": 41,
    "start_time": "2023-05-14T10:57:23.934Z"
   },
   {
    "duration": 23,
    "start_time": "2023-05-14T10:57:23.979Z"
   },
   {
    "duration": 12,
    "start_time": "2023-05-14T10:57:24.005Z"
   },
   {
    "duration": 767,
    "start_time": "2023-05-14T10:57:24.019Z"
   },
   {
    "duration": 26,
    "start_time": "2023-05-14T10:57:24.787Z"
   },
   {
    "duration": 9,
    "start_time": "2023-05-14T10:57:24.815Z"
   },
   {
    "duration": 69,
    "start_time": "2023-05-14T10:57:24.826Z"
   },
   {
    "duration": 29,
    "start_time": "2023-05-14T10:57:24.897Z"
   },
   {
    "duration": 36,
    "start_time": "2023-05-14T10:57:24.928Z"
   },
   {
    "duration": 22,
    "start_time": "2023-05-14T10:57:24.965Z"
   },
   {
    "duration": 43,
    "start_time": "2023-05-14T10:57:24.995Z"
   },
   {
    "duration": 59,
    "start_time": "2023-05-14T10:57:25.040Z"
   },
   {
    "duration": 28,
    "start_time": "2023-05-14T10:57:25.101Z"
   },
   {
    "duration": 17,
    "start_time": "2023-05-14T10:57:25.131Z"
   },
   {
    "duration": 32,
    "start_time": "2023-05-14T10:57:25.151Z"
   },
   {
    "duration": 19,
    "start_time": "2023-05-14T10:57:25.186Z"
   },
   {
    "duration": 86,
    "start_time": "2023-05-14T10:57:25.207Z"
   },
   {
    "duration": 107,
    "start_time": "2023-05-14T10:57:25.295Z"
   },
   {
    "duration": 27,
    "start_time": "2023-05-14T10:57:25.404Z"
   },
   {
    "duration": 103,
    "start_time": "2023-05-14T10:57:25.433Z"
   },
   {
    "duration": 31,
    "start_time": "2023-05-14T10:57:25.538Z"
   },
   {
    "duration": 5,
    "start_time": "2023-05-14T10:57:25.576Z"
   },
   {
    "duration": 4,
    "start_time": "2023-05-14T10:57:25.583Z"
   },
   {
    "duration": 21,
    "start_time": "2023-05-14T10:57:25.589Z"
   },
   {
    "duration": 12,
    "start_time": "2023-05-14T10:57:25.612Z"
   },
   {
    "duration": 571,
    "start_time": "2023-05-14T10:57:25.625Z"
   },
   {
    "duration": 14,
    "start_time": "2023-05-14T10:57:26.198Z"
   },
   {
    "duration": 83,
    "start_time": "2023-05-14T10:57:26.214Z"
   },
   {
    "duration": 461,
    "start_time": "2023-05-14T10:57:26.299Z"
   },
   {
    "duration": 17,
    "start_time": "2023-05-14T10:57:26.767Z"
   },
   {
    "duration": 83,
    "start_time": "2023-05-14T10:57:26.786Z"
   },
   {
    "duration": 9,
    "start_time": "2023-05-14T10:57:26.880Z"
   },
   {
    "duration": 74,
    "start_time": "2023-05-14T10:57:26.891Z"
   },
   {
    "duration": 5,
    "start_time": "2023-05-14T10:57:26.970Z"
   },
   {
    "duration": 81,
    "start_time": "2023-05-14T10:57:26.979Z"
   },
   {
    "duration": 19444,
    "start_time": "2023-05-14T10:57:27.063Z"
   },
   {
    "duration": 376,
    "start_time": "2023-05-14T10:57:46.510Z"
   },
   {
    "duration": 6,
    "start_time": "2023-05-14T10:57:46.888Z"
   },
   {
    "duration": 7,
    "start_time": "2023-05-14T10:57:46.897Z"
   },
   {
    "duration": 17,
    "start_time": "2023-05-14T10:57:46.908Z"
   },
   {
    "duration": 50947,
    "start_time": "2023-05-14T10:57:46.927Z"
   },
   {
    "duration": 40891,
    "start_time": "2023-05-14T10:58:37.876Z"
   },
   {
    "duration": 33,
    "start_time": "2023-05-14T10:59:18.774Z"
   },
   {
    "duration": 4,
    "start_time": "2023-05-14T10:59:18.809Z"
   },
   {
    "duration": 8,
    "start_time": "2023-05-14T10:59:18.814Z"
   },
   {
    "duration": 13,
    "start_time": "2023-05-14T10:59:18.823Z"
   },
   {
    "duration": 285,
    "start_time": "2023-05-14T10:59:18.838Z"
   },
   {
    "duration": 2084,
    "start_time": "2023-05-14T11:33:37.242Z"
   },
   {
    "duration": 1786,
    "start_time": "2023-05-14T11:33:39.328Z"
   },
   {
    "duration": 60,
    "start_time": "2023-05-14T11:33:41.131Z"
   },
   {
    "duration": 285,
    "start_time": "2023-05-14T11:33:41.197Z"
   },
   {
    "duration": 222,
    "start_time": "2023-05-14T11:33:41.493Z"
   },
   {
    "duration": 303,
    "start_time": "2023-05-14T11:33:41.738Z"
   },
   {
    "duration": 10,
    "start_time": "2023-05-14T11:33:42.048Z"
   },
   {
    "duration": 39,
    "start_time": "2023-05-14T11:33:42.065Z"
   },
   {
    "duration": 8,
    "start_time": "2023-05-14T11:33:42.111Z"
   },
   {
    "duration": 12,
    "start_time": "2023-05-14T11:33:42.130Z"
   },
   {
    "duration": 93,
    "start_time": "2023-05-14T11:33:42.151Z"
   },
   {
    "duration": 10,
    "start_time": "2023-05-14T11:33:42.251Z"
   },
   {
    "duration": 372,
    "start_time": "2023-05-14T11:33:42.269Z"
   },
   {
    "duration": 165,
    "start_time": "2023-05-14T11:33:42.649Z"
   },
   {
    "duration": 211,
    "start_time": "2023-05-14T11:33:42.832Z"
   },
   {
    "duration": 490,
    "start_time": "2023-05-14T11:33:43.049Z"
   },
   {
    "duration": 25,
    "start_time": "2023-05-14T11:33:43.541Z"
   },
   {
    "duration": 92,
    "start_time": "2023-05-14T11:33:43.571Z"
   },
   {
    "duration": 37,
    "start_time": "2023-05-14T11:33:43.669Z"
   },
   {
    "duration": 881,
    "start_time": "2023-05-14T11:33:43.719Z"
   },
   {
    "duration": 38,
    "start_time": "2023-05-14T11:33:44.604Z"
   },
   {
    "duration": 71,
    "start_time": "2023-05-14T11:33:44.643Z"
   },
   {
    "duration": 35,
    "start_time": "2023-05-14T11:33:44.719Z"
   },
   {
    "duration": 3382,
    "start_time": "2023-05-14T11:33:44.761Z"
   },
   {
    "duration": 12,
    "start_time": "2023-05-14T11:33:48.145Z"
   },
   {
    "duration": 148,
    "start_time": "2023-05-14T11:33:48.160Z"
   },
   {
    "duration": 37,
    "start_time": "2023-05-14T11:33:48.317Z"
   },
   {
    "duration": 2247,
    "start_time": "2023-05-14T11:33:48.367Z"
   },
   {
    "duration": 55,
    "start_time": "2023-05-14T11:33:50.618Z"
   },
   {
    "duration": 153,
    "start_time": "2023-05-14T11:33:50.686Z"
   },
   {
    "duration": 64,
    "start_time": "2023-05-14T11:33:50.841Z"
   },
   {
    "duration": 45,
    "start_time": "2023-05-14T11:33:50.911Z"
   },
   {
    "duration": 22,
    "start_time": "2023-05-14T11:33:50.970Z"
   },
   {
    "duration": 1037,
    "start_time": "2023-05-14T11:33:50.998Z"
   },
   {
    "duration": 53,
    "start_time": "2023-05-14T11:33:52.041Z"
   },
   {
    "duration": 17,
    "start_time": "2023-05-14T11:33:52.101Z"
   },
   {
    "duration": 67,
    "start_time": "2023-05-14T11:33:52.127Z"
   },
   {
    "duration": 40,
    "start_time": "2023-05-14T11:33:52.201Z"
   },
   {
    "duration": 15,
    "start_time": "2023-05-14T11:33:52.248Z"
   },
   {
    "duration": 27,
    "start_time": "2023-05-14T11:33:52.270Z"
   },
   {
    "duration": 53,
    "start_time": "2023-05-14T11:33:52.304Z"
   },
   {
    "duration": 53,
    "start_time": "2023-05-14T11:33:52.364Z"
   },
   {
    "duration": 34,
    "start_time": "2023-05-14T11:33:52.425Z"
   },
   {
    "duration": 27,
    "start_time": "2023-05-14T11:33:52.467Z"
   },
   {
    "duration": 42,
    "start_time": "2023-05-14T11:33:52.500Z"
   },
   {
    "duration": 79,
    "start_time": "2023-05-14T11:33:52.549Z"
   },
   {
    "duration": 124,
    "start_time": "2023-05-14T11:33:52.642Z"
   },
   {
    "duration": 141,
    "start_time": "2023-05-14T11:33:52.773Z"
   },
   {
    "duration": 37,
    "start_time": "2023-05-14T11:33:52.920Z"
   },
   {
    "duration": 202,
    "start_time": "2023-05-14T11:33:52.971Z"
   },
   {
    "duration": 21,
    "start_time": "2023-05-14T11:33:53.176Z"
   },
   {
    "duration": 3,
    "start_time": "2023-05-14T11:33:53.201Z"
   },
   {
    "duration": 20,
    "start_time": "2023-05-14T11:33:53.208Z"
   },
   {
    "duration": 22,
    "start_time": "2023-05-14T11:33:53.231Z"
   },
   {
    "duration": 16,
    "start_time": "2023-05-14T11:33:53.256Z"
   },
   {
    "duration": 887,
    "start_time": "2023-05-14T11:33:53.282Z"
   },
   {
    "duration": 52,
    "start_time": "2023-05-14T11:33:54.171Z"
   },
   {
    "duration": 93,
    "start_time": "2023-05-14T11:33:54.230Z"
   },
   {
    "duration": 680,
    "start_time": "2023-05-14T11:33:54.341Z"
   },
   {
    "duration": 17,
    "start_time": "2023-05-14T11:33:55.023Z"
   },
   {
    "duration": 89,
    "start_time": "2023-05-14T11:33:55.042Z"
   },
   {
    "duration": 151,
    "start_time": "2023-05-14T11:33:55.133Z"
   },
   {
    "duration": 31,
    "start_time": "2023-05-14T11:33:55.296Z"
   },
   {
    "duration": 17,
    "start_time": "2023-05-14T11:33:55.342Z"
   },
   {
    "duration": 30,
    "start_time": "2023-05-14T11:33:55.366Z"
   },
   {
    "duration": 26872,
    "start_time": "2023-05-14T11:33:55.401Z"
   },
   {
    "duration": 405,
    "start_time": "2023-05-14T11:34:22.279Z"
   },
   {
    "duration": 8,
    "start_time": "2023-05-14T11:34:22.690Z"
   },
   {
    "duration": 39,
    "start_time": "2023-05-14T11:34:22.710Z"
   },
   {
    "duration": 41,
    "start_time": "2023-05-14T11:34:22.753Z"
   },
   {
    "duration": 59466,
    "start_time": "2023-05-14T11:34:22.796Z"
   },
   {
    "duration": 53534,
    "start_time": "2023-05-14T11:35:22.263Z"
   },
   {
    "duration": 48,
    "start_time": "2023-05-14T11:36:15.802Z"
   },
   {
    "duration": 10,
    "start_time": "2023-05-14T11:36:15.856Z"
   },
   {
    "duration": 11,
    "start_time": "2023-05-14T11:36:15.871Z"
   },
   {
    "duration": 16,
    "start_time": "2023-05-14T11:36:15.890Z"
   },
   {
    "duration": 3260291,
    "start_time": "2023-05-14T11:36:15.918Z"
   },
   {
    "duration": 5813,
    "start_time": "2023-05-14T12:30:36.215Z"
   },
   {
    "duration": 5,
    "start_time": "2023-05-14T12:30:42.030Z"
   },
   {
    "duration": 33,
    "start_time": "2023-05-14T12:30:42.037Z"
   },
   {
    "duration": 16,
    "start_time": "2023-05-14T12:30:42.074Z"
   },
   {
    "duration": 28,
    "start_time": "2023-05-14T12:30:42.098Z"
   },
   {
    "duration": 148,
    "start_time": "2023-05-14T15:35:48.483Z"
   },
   {
    "duration": 1559,
    "start_time": "2023-05-14T15:39:58.365Z"
   },
   {
    "duration": 905,
    "start_time": "2023-05-14T15:39:59.926Z"
   },
   {
    "duration": 18,
    "start_time": "2023-05-14T15:40:00.832Z"
   },
   {
    "duration": 143,
    "start_time": "2023-05-14T15:40:00.859Z"
   },
   {
    "duration": 114,
    "start_time": "2023-05-14T15:40:01.003Z"
   },
   {
    "duration": 164,
    "start_time": "2023-05-14T15:40:01.118Z"
   },
   {
    "duration": 4,
    "start_time": "2023-05-14T15:40:01.284Z"
   },
   {
    "duration": 25,
    "start_time": "2023-05-14T15:40:01.290Z"
   },
   {
    "duration": 31,
    "start_time": "2023-05-14T15:40:01.317Z"
   },
   {
    "duration": 27,
    "start_time": "2023-05-14T15:40:01.351Z"
   },
   {
    "duration": 61,
    "start_time": "2023-05-14T15:40:01.380Z"
   },
   {
    "duration": 22,
    "start_time": "2023-05-14T15:40:01.443Z"
   },
   {
    "duration": 232,
    "start_time": "2023-05-14T15:40:01.467Z"
   },
   {
    "duration": 92,
    "start_time": "2023-05-14T15:40:01.701Z"
   },
   {
    "duration": 101,
    "start_time": "2023-05-14T15:40:01.795Z"
   },
   {
    "duration": 264,
    "start_time": "2023-05-14T15:40:01.898Z"
   },
   {
    "duration": 15,
    "start_time": "2023-05-14T15:40:02.164Z"
   },
   {
    "duration": 43,
    "start_time": "2023-05-14T15:40:02.181Z"
   },
   {
    "duration": 5,
    "start_time": "2023-05-14T15:40:02.225Z"
   },
   {
    "duration": 576,
    "start_time": "2023-05-14T15:40:02.232Z"
   },
   {
    "duration": 14,
    "start_time": "2023-05-14T15:40:02.810Z"
   },
   {
    "duration": 71,
    "start_time": "2023-05-14T15:40:02.825Z"
   },
   {
    "duration": 17,
    "start_time": "2023-05-14T15:40:02.897Z"
   },
   {
    "duration": 2283,
    "start_time": "2023-05-14T15:40:02.915Z"
   },
   {
    "duration": 7,
    "start_time": "2023-05-14T15:40:05.199Z"
   },
   {
    "duration": 54,
    "start_time": "2023-05-14T15:40:05.208Z"
   },
   {
    "duration": 20,
    "start_time": "2023-05-14T15:40:05.264Z"
   },
   {
    "duration": 1615,
    "start_time": "2023-05-14T15:40:05.288Z"
   },
   {
    "duration": 20,
    "start_time": "2023-05-14T15:40:06.905Z"
   },
   {
    "duration": 67,
    "start_time": "2023-05-14T15:40:06.927Z"
   },
   {
    "duration": 22,
    "start_time": "2023-05-14T15:40:06.996Z"
   },
   {
    "duration": 19,
    "start_time": "2023-05-14T15:40:07.020Z"
   },
   {
    "duration": 24,
    "start_time": "2023-05-14T15:40:07.057Z"
   },
   {
    "duration": 701,
    "start_time": "2023-05-14T15:40:07.084Z"
   },
   {
    "duration": 30,
    "start_time": "2023-05-14T15:40:07.787Z"
   },
   {
    "duration": 11,
    "start_time": "2023-05-14T15:40:07.819Z"
   },
   {
    "duration": 64,
    "start_time": "2023-05-14T15:40:07.832Z"
   },
   {
    "duration": 22,
    "start_time": "2023-05-14T15:40:07.898Z"
   },
   {
    "duration": 7,
    "start_time": "2023-05-14T15:40:07.922Z"
   },
   {
    "duration": 41,
    "start_time": "2023-05-14T15:40:07.931Z"
   },
   {
    "duration": 28,
    "start_time": "2023-05-14T15:40:07.975Z"
   },
   {
    "duration": 26,
    "start_time": "2023-05-14T15:40:08.005Z"
   },
   {
    "duration": 46,
    "start_time": "2023-05-14T15:40:08.032Z"
   },
   {
    "duration": 26,
    "start_time": "2023-05-14T15:40:08.079Z"
   },
   {
    "duration": 13,
    "start_time": "2023-05-14T15:40:08.107Z"
   },
   {
    "duration": 52,
    "start_time": "2023-05-14T15:40:08.123Z"
   },
   {
    "duration": 93,
    "start_time": "2023-05-14T15:40:08.183Z"
   },
   {
    "duration": 83,
    "start_time": "2023-05-14T15:40:08.279Z"
   },
   {
    "duration": 26,
    "start_time": "2023-05-14T15:40:08.365Z"
   },
   {
    "duration": 76,
    "start_time": "2023-05-14T15:40:08.393Z"
   },
   {
    "duration": 17,
    "start_time": "2023-05-14T15:40:08.472Z"
   },
   {
    "duration": 3,
    "start_time": "2023-05-14T15:40:08.491Z"
   },
   {
    "duration": 5,
    "start_time": "2023-05-14T15:40:08.495Z"
   },
   {
    "duration": 10,
    "start_time": "2023-05-14T15:40:08.502Z"
   },
   {
    "duration": 3,
    "start_time": "2023-05-14T15:40:08.514Z"
   },
   {
    "duration": 513,
    "start_time": "2023-05-14T15:40:08.558Z"
   },
   {
    "duration": 16,
    "start_time": "2023-05-14T15:40:09.074Z"
   },
   {
    "duration": 135,
    "start_time": "2023-05-14T15:40:09.093Z"
   },
   {
    "duration": 0,
    "start_time": "2023-05-14T15:40:09.230Z"
   },
   {
    "duration": 0,
    "start_time": "2023-05-14T15:40:09.232Z"
   },
   {
    "duration": 0,
    "start_time": "2023-05-14T15:40:09.233Z"
   },
   {
    "duration": 0,
    "start_time": "2023-05-14T15:40:09.235Z"
   },
   {
    "duration": 0,
    "start_time": "2023-05-14T15:40:09.236Z"
   },
   {
    "duration": 0,
    "start_time": "2023-05-14T15:40:09.237Z"
   },
   {
    "duration": 0,
    "start_time": "2023-05-14T15:40:09.239Z"
   },
   {
    "duration": 0,
    "start_time": "2023-05-14T15:40:09.240Z"
   },
   {
    "duration": 0,
    "start_time": "2023-05-14T15:40:09.258Z"
   },
   {
    "duration": 0,
    "start_time": "2023-05-14T15:40:09.259Z"
   },
   {
    "duration": 0,
    "start_time": "2023-05-14T15:40:09.260Z"
   },
   {
    "duration": 0,
    "start_time": "2023-05-14T15:40:09.262Z"
   },
   {
    "duration": 0,
    "start_time": "2023-05-14T15:40:09.263Z"
   },
   {
    "duration": 0,
    "start_time": "2023-05-14T15:40:09.264Z"
   },
   {
    "duration": 0,
    "start_time": "2023-05-14T15:40:09.265Z"
   },
   {
    "duration": 0,
    "start_time": "2023-05-14T15:40:09.266Z"
   },
   {
    "duration": 0,
    "start_time": "2023-05-14T15:40:09.268Z"
   },
   {
    "duration": 0,
    "start_time": "2023-05-14T15:40:09.269Z"
   },
   {
    "duration": 0,
    "start_time": "2023-05-14T15:40:09.271Z"
   },
   {
    "duration": 0,
    "start_time": "2023-05-14T15:40:09.272Z"
   },
   {
    "duration": 0,
    "start_time": "2023-05-14T15:40:09.273Z"
   },
   {
    "duration": 0,
    "start_time": "2023-05-14T15:40:09.278Z"
   },
   {
    "duration": 0,
    "start_time": "2023-05-14T15:40:09.279Z"
   },
   {
    "duration": 0,
    "start_time": "2023-05-14T15:40:09.281Z"
   },
   {
    "duration": 1486,
    "start_time": "2023-05-14T15:47:14.171Z"
   },
   {
    "duration": 841,
    "start_time": "2023-05-14T15:47:15.659Z"
   },
   {
    "duration": 18,
    "start_time": "2023-05-14T15:47:16.502Z"
   },
   {
    "duration": 143,
    "start_time": "2023-05-14T15:47:16.522Z"
   },
   {
    "duration": 140,
    "start_time": "2023-05-14T15:47:16.667Z"
   },
   {
    "duration": 166,
    "start_time": "2023-05-14T15:47:16.809Z"
   },
   {
    "duration": 5,
    "start_time": "2023-05-14T15:47:16.977Z"
   },
   {
    "duration": 9,
    "start_time": "2023-05-14T15:47:16.983Z"
   },
   {
    "duration": 4,
    "start_time": "2023-05-14T15:47:16.994Z"
   },
   {
    "duration": 7,
    "start_time": "2023-05-14T15:47:17.002Z"
   },
   {
    "duration": 70,
    "start_time": "2023-05-14T15:47:17.011Z"
   },
   {
    "duration": 5,
    "start_time": "2023-05-14T15:47:17.083Z"
   },
   {
    "duration": 206,
    "start_time": "2023-05-14T15:47:17.090Z"
   },
   {
    "duration": 84,
    "start_time": "2023-05-14T15:47:17.298Z"
   },
   {
    "duration": 84,
    "start_time": "2023-05-14T15:47:17.384Z"
   },
   {
    "duration": 247,
    "start_time": "2023-05-14T15:47:17.470Z"
   },
   {
    "duration": 14,
    "start_time": "2023-05-14T15:47:17.719Z"
   },
   {
    "duration": 54,
    "start_time": "2023-05-14T15:47:17.735Z"
   },
   {
    "duration": 8,
    "start_time": "2023-05-14T15:47:17.791Z"
   },
   {
    "duration": 719,
    "start_time": "2023-05-14T15:47:17.801Z"
   },
   {
    "duration": 17,
    "start_time": "2023-05-14T15:47:18.522Z"
   },
   {
    "duration": 39,
    "start_time": "2023-05-14T15:47:18.541Z"
   },
   {
    "duration": 19,
    "start_time": "2023-05-14T15:47:18.582Z"
   },
   {
    "duration": 2177,
    "start_time": "2023-05-14T15:47:18.604Z"
   },
   {
    "duration": 10,
    "start_time": "2023-05-14T15:47:20.783Z"
   },
   {
    "duration": 37,
    "start_time": "2023-05-14T15:47:20.795Z"
   },
   {
    "duration": 33,
    "start_time": "2023-05-14T15:47:20.834Z"
   },
   {
    "duration": 1444,
    "start_time": "2023-05-14T15:47:20.871Z"
   },
   {
    "duration": 20,
    "start_time": "2023-05-14T15:47:22.316Z"
   },
   {
    "duration": 55,
    "start_time": "2023-05-14T15:47:22.338Z"
   },
   {
    "duration": 17,
    "start_time": "2023-05-14T15:47:22.395Z"
   },
   {
    "duration": 22,
    "start_time": "2023-05-14T15:47:22.414Z"
   },
   {
    "duration": 23,
    "start_time": "2023-05-14T15:47:22.437Z"
   },
   {
    "duration": 611,
    "start_time": "2023-05-14T15:47:22.462Z"
   },
   {
    "duration": 24,
    "start_time": "2023-05-14T15:47:23.074Z"
   },
   {
    "duration": 8,
    "start_time": "2023-05-14T15:47:23.100Z"
   },
   {
    "duration": 51,
    "start_time": "2023-05-14T15:47:23.109Z"
   },
   {
    "duration": 20,
    "start_time": "2023-05-14T15:47:23.163Z"
   },
   {
    "duration": 7,
    "start_time": "2023-05-14T15:47:23.185Z"
   },
   {
    "duration": 18,
    "start_time": "2023-05-14T15:47:23.194Z"
   },
   {
    "duration": 45,
    "start_time": "2023-05-14T15:47:23.213Z"
   },
   {
    "duration": 26,
    "start_time": "2023-05-14T15:47:23.260Z"
   },
   {
    "duration": 16,
    "start_time": "2023-05-14T15:47:23.288Z"
   },
   {
    "duration": 18,
    "start_time": "2023-05-14T15:47:23.306Z"
   },
   {
    "duration": 35,
    "start_time": "2023-05-14T15:47:23.325Z"
   },
   {
    "duration": 15,
    "start_time": "2023-05-14T15:47:23.361Z"
   },
   {
    "duration": 76,
    "start_time": "2023-05-14T15:47:23.378Z"
   },
   {
    "duration": 67,
    "start_time": "2023-05-14T15:47:23.455Z"
   },
   {
    "duration": 19,
    "start_time": "2023-05-14T15:47:23.524Z"
   },
   {
    "duration": 63,
    "start_time": "2023-05-14T15:47:23.545Z"
   },
   {
    "duration": 13,
    "start_time": "2023-05-14T15:47:23.609Z"
   },
   {
    "duration": 4,
    "start_time": "2023-05-14T15:47:23.623Z"
   },
   {
    "duration": 29,
    "start_time": "2023-05-14T15:47:23.628Z"
   },
   {
    "duration": 17,
    "start_time": "2023-05-14T15:47:23.660Z"
   },
   {
    "duration": 6,
    "start_time": "2023-05-14T15:47:23.678Z"
   },
   {
    "duration": 506,
    "start_time": "2023-05-14T15:47:23.686Z"
   },
   {
    "duration": 12,
    "start_time": "2023-05-14T15:47:24.194Z"
   },
   {
    "duration": 88,
    "start_time": "2023-05-14T15:47:24.207Z"
   },
   {
    "duration": 409,
    "start_time": "2023-05-14T15:47:24.296Z"
   },
   {
    "duration": 12,
    "start_time": "2023-05-14T15:47:24.707Z"
   },
   {
    "duration": 68,
    "start_time": "2023-05-14T15:47:24.721Z"
   },
   {
    "duration": 167,
    "start_time": "2023-05-14T15:47:24.791Z"
   },
   {
    "duration": 5,
    "start_time": "2023-05-14T15:47:24.960Z"
   },
   {
    "duration": 5,
    "start_time": "2023-05-14T15:47:24.966Z"
   },
   {
    "duration": 9,
    "start_time": "2023-05-14T15:47:24.972Z"
   },
   {
    "duration": 15867,
    "start_time": "2023-05-14T15:47:24.983Z"
   },
   {
    "duration": 262,
    "start_time": "2023-05-14T15:47:40.852Z"
   },
   {
    "duration": 4,
    "start_time": "2023-05-14T15:47:41.115Z"
   },
   {
    "duration": 6,
    "start_time": "2023-05-14T15:47:41.120Z"
   },
   {
    "duration": 8,
    "start_time": "2023-05-14T15:47:41.128Z"
   },
   {
    "duration": 42758,
    "start_time": "2023-05-14T15:47:41.156Z"
   },
   {
    "duration": 35898,
    "start_time": "2023-05-14T15:48:23.915Z"
   },
   {
    "duration": 24,
    "start_time": "2023-05-14T15:48:59.814Z"
   },
   {
    "duration": 3,
    "start_time": "2023-05-14T15:48:59.840Z"
   },
   {
    "duration": 5,
    "start_time": "2023-05-14T15:48:59.856Z"
   },
   {
    "duration": 12,
    "start_time": "2023-05-14T15:48:59.862Z"
   },
   {
    "duration": 232094,
    "start_time": "2023-05-14T15:48:59.875Z"
   },
   {
    "duration": 5388,
    "start_time": "2023-05-14T15:52:51.970Z"
   },
   {
    "duration": 4,
    "start_time": "2023-05-14T15:52:57.361Z"
   },
   {
    "duration": 18,
    "start_time": "2023-05-14T15:52:57.367Z"
   },
   {
    "duration": 15,
    "start_time": "2023-05-14T15:52:57.387Z"
   },
   {
    "duration": 15,
    "start_time": "2023-05-14T15:52:57.407Z"
   },
   {
    "duration": 53,
    "start_time": "2023-05-15T10:28:34.179Z"
   },
   {
    "duration": 1968,
    "start_time": "2023-05-15T10:28:53.696Z"
   },
   {
    "duration": 1722,
    "start_time": "2023-05-15T10:28:55.673Z"
   },
   {
    "duration": 18,
    "start_time": "2023-05-15T10:28:57.397Z"
   },
   {
    "duration": 107,
    "start_time": "2023-05-15T10:28:57.416Z"
   },
   {
    "duration": 156,
    "start_time": "2023-05-15T10:28:57.525Z"
   },
   {
    "duration": 123,
    "start_time": "2023-05-15T10:28:57.686Z"
   },
   {
    "duration": 200,
    "start_time": "2023-05-15T10:28:57.811Z"
   },
   {
    "duration": 5,
    "start_time": "2023-05-15T10:28:58.012Z"
   },
   {
    "duration": 6,
    "start_time": "2023-05-15T10:28:58.019Z"
   },
   {
    "duration": 7,
    "start_time": "2023-05-15T10:28:58.027Z"
   },
   {
    "duration": 38,
    "start_time": "2023-05-15T10:28:58.036Z"
   },
   {
    "duration": 47,
    "start_time": "2023-05-15T10:28:58.079Z"
   },
   {
    "duration": 5,
    "start_time": "2023-05-15T10:28:58.128Z"
   },
   {
    "duration": 248,
    "start_time": "2023-05-15T10:28:58.136Z"
   },
   {
    "duration": 118,
    "start_time": "2023-05-15T10:28:58.386Z"
   },
   {
    "duration": 101,
    "start_time": "2023-05-15T10:28:58.506Z"
   },
   {
    "duration": 316,
    "start_time": "2023-05-15T10:28:58.609Z"
   },
   {
    "duration": 15,
    "start_time": "2023-05-15T10:28:58.928Z"
   },
   {
    "duration": 55,
    "start_time": "2023-05-15T10:28:58.963Z"
   },
   {
    "duration": 8,
    "start_time": "2023-05-15T10:28:59.021Z"
   },
   {
    "duration": 846,
    "start_time": "2023-05-15T10:28:59.031Z"
   },
   {
    "duration": 29,
    "start_time": "2023-05-15T10:28:59.880Z"
   },
   {
    "duration": 32,
    "start_time": "2023-05-15T10:28:59.911Z"
   },
   {
    "duration": 37,
    "start_time": "2023-05-15T10:28:59.967Z"
   },
   {
    "duration": 2378,
    "start_time": "2023-05-15T10:29:00.007Z"
   },
   {
    "duration": 11,
    "start_time": "2023-05-15T10:29:02.387Z"
   },
   {
    "duration": 33,
    "start_time": "2023-05-15T10:29:02.400Z"
   },
   {
    "duration": 34,
    "start_time": "2023-05-15T10:29:02.435Z"
   },
   {
    "duration": 1660,
    "start_time": "2023-05-15T10:29:02.471Z"
   },
   {
    "duration": 34,
    "start_time": "2023-05-15T10:29:04.133Z"
   },
   {
    "duration": 49,
    "start_time": "2023-05-15T10:29:04.170Z"
   },
   {
    "duration": 36,
    "start_time": "2023-05-15T10:29:04.222Z"
   },
   {
    "duration": 23,
    "start_time": "2023-05-15T10:29:04.261Z"
   },
   {
    "duration": 10,
    "start_time": "2023-05-15T10:29:04.286Z"
   },
   {
    "duration": 819,
    "start_time": "2023-05-15T10:29:04.299Z"
   },
   {
    "duration": 42,
    "start_time": "2023-05-15T10:29:05.121Z"
   },
   {
    "duration": 18,
    "start_time": "2023-05-15T10:29:05.166Z"
   },
   {
    "duration": 43,
    "start_time": "2023-05-15T10:29:05.186Z"
   },
   {
    "duration": 70,
    "start_time": "2023-05-15T10:29:05.231Z"
   },
   {
    "duration": 11,
    "start_time": "2023-05-15T10:29:05.305Z"
   },
   {
    "duration": 23,
    "start_time": "2023-05-15T10:29:05.322Z"
   },
   {
    "duration": 55,
    "start_time": "2023-05-15T10:29:05.346Z"
   },
   {
    "duration": 44,
    "start_time": "2023-05-15T10:29:05.406Z"
   },
   {
    "duration": 33,
    "start_time": "2023-05-15T10:29:05.458Z"
   },
   {
    "duration": 36,
    "start_time": "2023-05-15T10:29:05.493Z"
   },
   {
    "duration": 26,
    "start_time": "2023-05-15T10:29:05.531Z"
   },
   {
    "duration": 27,
    "start_time": "2023-05-15T10:29:05.559Z"
   },
   {
    "duration": 108,
    "start_time": "2023-05-15T10:29:05.590Z"
   },
   {
    "duration": 87,
    "start_time": "2023-05-15T10:29:05.700Z"
   },
   {
    "duration": 45,
    "start_time": "2023-05-15T10:29:05.790Z"
   },
   {
    "duration": 96,
    "start_time": "2023-05-15T10:29:05.837Z"
   },
   {
    "duration": 22,
    "start_time": "2023-05-15T10:29:05.936Z"
   },
   {
    "duration": 3,
    "start_time": "2023-05-15T10:29:05.960Z"
   },
   {
    "duration": 32,
    "start_time": "2023-05-15T10:29:05.965Z"
   },
   {
    "duration": 28,
    "start_time": "2023-05-15T10:29:06.000Z"
   },
   {
    "duration": 18,
    "start_time": "2023-05-15T10:29:06.030Z"
   },
   {
    "duration": 613,
    "start_time": "2023-05-15T10:29:06.051Z"
   },
   {
    "duration": 43,
    "start_time": "2023-05-15T10:29:06.668Z"
   },
   {
    "duration": 75,
    "start_time": "2023-05-15T10:29:06.714Z"
   },
   {
    "duration": 472,
    "start_time": "2023-05-15T10:29:06.792Z"
   },
   {
    "duration": 25,
    "start_time": "2023-05-15T10:29:07.266Z"
   },
   {
    "duration": 94,
    "start_time": "2023-05-15T10:29:07.293Z"
   },
   {
    "duration": 98,
    "start_time": "2023-05-15T10:29:07.397Z"
   },
   {
    "duration": 5,
    "start_time": "2023-05-15T10:29:07.498Z"
   },
   {
    "duration": 14,
    "start_time": "2023-05-15T10:29:07.558Z"
   },
   {
    "duration": 26,
    "start_time": "2023-05-15T10:29:07.578Z"
   },
   {
    "duration": 19144,
    "start_time": "2023-05-15T10:29:07.657Z"
   },
   {
    "duration": 298,
    "start_time": "2023-05-15T10:29:26.803Z"
   },
   {
    "duration": 4,
    "start_time": "2023-05-15T10:29:27.103Z"
   },
   {
    "duration": 6,
    "start_time": "2023-05-15T10:29:27.109Z"
   },
   {
    "duration": 9,
    "start_time": "2023-05-15T10:29:27.117Z"
   },
   {
    "duration": 50577,
    "start_time": "2023-05-15T10:29:27.128Z"
   },
   {
    "duration": 43978,
    "start_time": "2023-05-15T10:30:17.706Z"
   },
   {
    "duration": 62,
    "start_time": "2023-05-15T10:31:01.686Z"
   },
   {
    "duration": 4,
    "start_time": "2023-05-15T10:31:01.750Z"
   },
   {
    "duration": 24,
    "start_time": "2023-05-15T10:31:01.757Z"
   },
   {
    "duration": 31,
    "start_time": "2023-05-15T10:31:01.783Z"
   },
   {
    "duration": 2374866,
    "start_time": "2023-05-15T10:31:01.816Z"
   },
   {
    "duration": 5885,
    "start_time": "2023-05-15T11:10:36.688Z"
   },
   {
    "duration": 10,
    "start_time": "2023-05-15T11:10:42.579Z"
   },
   {
    "duration": 15,
    "start_time": "2023-05-15T11:10:42.592Z"
   },
   {
    "duration": 33,
    "start_time": "2023-05-15T11:10:42.609Z"
   },
   {
    "duration": 25,
    "start_time": "2023-05-15T11:10:42.644Z"
   },
   {
    "duration": 31,
    "start_time": "2023-05-15T11:13:40.158Z"
   },
   {
    "duration": 17,
    "start_time": "2023-05-15T11:13:43.282Z"
   },
   {
    "duration": 1504,
    "start_time": "2023-05-15T11:13:45.572Z"
   },
   {
    "duration": 147,
    "start_time": "2023-05-15T11:19:42.921Z"
   },
   {
    "duration": 27,
    "start_time": "2023-05-15T11:19:48.955Z"
   },
   {
    "duration": 11,
    "start_time": "2023-05-15T11:19:54.308Z"
   },
   {
    "duration": 34,
    "start_time": "2023-05-15T11:20:03.680Z"
   },
   {
    "duration": 21,
    "start_time": "2023-05-15T11:21:11.280Z"
   },
   {
    "duration": 24,
    "start_time": "2023-05-15T11:23:25.097Z"
   },
   {
    "duration": 251,
    "start_time": "2023-05-15T11:25:02.616Z"
   },
   {
    "duration": 39,
    "start_time": "2023-05-15T11:25:11.993Z"
   },
   {
    "duration": 18,
    "start_time": "2023-05-15T11:25:15.001Z"
   },
   {
    "duration": 694,
    "start_time": "2023-05-15T11:25:47.581Z"
   },
   {
    "duration": 49,
    "start_time": "2023-05-15T16:03:12.777Z"
   },
   {
    "duration": 1689,
    "start_time": "2023-05-15T16:03:33.826Z"
   },
   {
    "duration": 82,
    "start_time": "2023-05-15T16:03:49.033Z"
   },
   {
    "duration": 12,
    "start_time": "2023-05-15T16:03:59.707Z"
   },
   {
    "duration": 1457,
    "start_time": "2023-05-15T16:04:06.900Z"
   },
   {
    "duration": 2860,
    "start_time": "2023-05-15T16:04:08.359Z"
   },
   {
    "duration": 16,
    "start_time": "2023-05-15T16:04:11.221Z"
   },
   {
    "duration": 158,
    "start_time": "2023-05-15T16:04:11.238Z"
   },
   {
    "duration": 103,
    "start_time": "2023-05-15T16:04:11.399Z"
   },
   {
    "duration": 181,
    "start_time": "2023-05-15T16:04:11.504Z"
   },
   {
    "duration": 4,
    "start_time": "2023-05-15T16:04:11.687Z"
   },
   {
    "duration": 8,
    "start_time": "2023-05-15T16:04:11.693Z"
   },
   {
    "duration": 22,
    "start_time": "2023-05-15T16:04:11.703Z"
   },
   {
    "duration": 13,
    "start_time": "2023-05-15T16:04:11.726Z"
   },
   {
    "duration": 40,
    "start_time": "2023-05-15T16:04:11.741Z"
   },
   {
    "duration": 3,
    "start_time": "2023-05-15T16:04:11.783Z"
   },
   {
    "duration": 205,
    "start_time": "2023-05-15T16:04:11.788Z"
   },
   {
    "duration": 96,
    "start_time": "2023-05-15T16:04:11.996Z"
   },
   {
    "duration": 97,
    "start_time": "2023-05-15T16:04:12.094Z"
   },
   {
    "duration": 272,
    "start_time": "2023-05-15T16:04:12.192Z"
   },
   {
    "duration": 12,
    "start_time": "2023-05-15T16:04:12.466Z"
   },
   {
    "duration": 51,
    "start_time": "2023-05-15T16:04:12.479Z"
   },
   {
    "duration": 6,
    "start_time": "2023-05-15T16:04:12.532Z"
   },
   {
    "duration": 578,
    "start_time": "2023-05-15T16:04:12.539Z"
   },
   {
    "duration": 20,
    "start_time": "2023-05-15T16:04:13.119Z"
   },
   {
    "duration": 34,
    "start_time": "2023-05-15T16:04:13.140Z"
   },
   {
    "duration": 18,
    "start_time": "2023-05-15T16:04:13.176Z"
   },
   {
    "duration": 2117,
    "start_time": "2023-05-15T16:04:13.196Z"
   },
   {
    "duration": 12,
    "start_time": "2023-05-15T16:04:15.315Z"
   },
   {
    "duration": 38,
    "start_time": "2023-05-15T16:04:15.328Z"
   },
   {
    "duration": 18,
    "start_time": "2023-05-15T16:04:15.368Z"
   },
   {
    "duration": 1446,
    "start_time": "2023-05-15T16:04:15.388Z"
   },
   {
    "duration": 21,
    "start_time": "2023-05-15T16:04:16.836Z"
   },
   {
    "duration": 42,
    "start_time": "2023-05-15T16:04:16.859Z"
   },
   {
    "duration": 35,
    "start_time": "2023-05-15T16:04:16.903Z"
   },
   {
    "duration": 16,
    "start_time": "2023-05-15T16:04:16.939Z"
   },
   {
    "duration": 7,
    "start_time": "2023-05-15T16:04:16.957Z"
   },
   {
    "duration": 637,
    "start_time": "2023-05-15T16:04:16.965Z"
   },
   {
    "duration": 29,
    "start_time": "2023-05-15T16:04:17.604Z"
   },
   {
    "duration": 8,
    "start_time": "2023-05-15T16:04:17.635Z"
   },
   {
    "duration": 499,
    "start_time": "2023-05-15T16:04:17.644Z"
   },
   {
    "duration": 33,
    "start_time": "2023-05-15T16:04:18.144Z"
   },
   {
    "duration": 20,
    "start_time": "2023-05-15T16:04:18.179Z"
   },
   {
    "duration": 26,
    "start_time": "2023-05-15T16:04:18.201Z"
   },
   {
    "duration": 15,
    "start_time": "2023-05-15T16:04:18.231Z"
   },
   {
    "duration": 31,
    "start_time": "2023-05-15T16:04:18.247Z"
   },
   {
    "duration": 46,
    "start_time": "2023-05-15T16:04:18.280Z"
   },
   {
    "duration": 23,
    "start_time": "2023-05-15T16:04:18.328Z"
   },
   {
    "duration": 16,
    "start_time": "2023-05-15T16:04:18.352Z"
   },
   {
    "duration": 15,
    "start_time": "2023-05-15T16:04:18.370Z"
   },
   {
    "duration": 40,
    "start_time": "2023-05-15T16:04:18.387Z"
   },
   {
    "duration": 71,
    "start_time": "2023-05-15T16:04:18.429Z"
   },
   {
    "duration": 82,
    "start_time": "2023-05-15T16:04:18.502Z"
   },
   {
    "duration": 19,
    "start_time": "2023-05-15T16:04:18.585Z"
   },
   {
    "duration": 88,
    "start_time": "2023-05-15T16:04:18.606Z"
   },
   {
    "duration": 29,
    "start_time": "2023-05-15T16:04:18.696Z"
   },
   {
    "duration": 3,
    "start_time": "2023-05-15T16:04:18.727Z"
   },
   {
    "duration": 9,
    "start_time": "2023-05-15T16:04:18.732Z"
   },
   {
    "duration": 11,
    "start_time": "2023-05-15T16:04:18.743Z"
   },
   {
    "duration": 81,
    "start_time": "2023-05-15T16:04:18.755Z"
   },
   {
    "duration": 4,
    "start_time": "2023-05-15T16:04:18.838Z"
   },
   {
    "duration": 3,
    "start_time": "2023-05-15T16:04:18.844Z"
   },
   {
    "duration": 3,
    "start_time": "2023-05-15T16:04:18.849Z"
   },
   {
    "duration": 4,
    "start_time": "2023-05-15T16:04:18.854Z"
   },
   {
    "duration": 140,
    "start_time": "2023-05-15T16:04:18.859Z"
   },
   {
    "duration": 0,
    "start_time": "2023-05-15T16:04:19.001Z"
   },
   {
    "duration": 0,
    "start_time": "2023-05-15T16:04:19.003Z"
   },
   {
    "duration": 0,
    "start_time": "2023-05-15T16:04:19.004Z"
   },
   {
    "duration": 0,
    "start_time": "2023-05-15T16:04:19.005Z"
   },
   {
    "duration": 0,
    "start_time": "2023-05-15T16:04:19.005Z"
   },
   {
    "duration": 0,
    "start_time": "2023-05-15T16:04:19.006Z"
   },
   {
    "duration": 0,
    "start_time": "2023-05-15T16:04:19.007Z"
   },
   {
    "duration": 0,
    "start_time": "2023-05-15T16:04:19.008Z"
   },
   {
    "duration": 0,
    "start_time": "2023-05-15T16:04:19.025Z"
   },
   {
    "duration": 0,
    "start_time": "2023-05-15T16:04:19.026Z"
   },
   {
    "duration": 0,
    "start_time": "2023-05-15T16:04:19.027Z"
   },
   {
    "duration": 0,
    "start_time": "2023-05-15T16:04:19.029Z"
   },
   {
    "duration": 0,
    "start_time": "2023-05-15T16:04:19.030Z"
   },
   {
    "duration": 0,
    "start_time": "2023-05-15T16:04:19.031Z"
   },
   {
    "duration": 0,
    "start_time": "2023-05-15T16:04:19.032Z"
   },
   {
    "duration": 0,
    "start_time": "2023-05-15T16:04:19.033Z"
   },
   {
    "duration": 0,
    "start_time": "2023-05-15T16:04:19.034Z"
   },
   {
    "duration": 0,
    "start_time": "2023-05-15T16:04:19.035Z"
   },
   {
    "duration": 0,
    "start_time": "2023-05-15T16:04:19.036Z"
   },
   {
    "duration": 0,
    "start_time": "2023-05-15T16:04:19.038Z"
   },
   {
    "duration": 0,
    "start_time": "2023-05-15T16:04:19.039Z"
   },
   {
    "duration": 0,
    "start_time": "2023-05-15T16:04:19.040Z"
   },
   {
    "duration": 0,
    "start_time": "2023-05-15T16:04:19.041Z"
   },
   {
    "duration": 88,
    "start_time": "2023-05-15T16:23:30.676Z"
   },
   {
    "duration": 754,
    "start_time": "2023-05-15T16:25:40.410Z"
   },
   {
    "duration": 14,
    "start_time": "2023-05-15T16:26:05.658Z"
   },
   {
    "duration": 13,
    "start_time": "2023-05-15T16:26:14.677Z"
   },
   {
    "duration": 13,
    "start_time": "2023-05-15T16:26:20.333Z"
   },
   {
    "duration": 113,
    "start_time": "2023-05-15T16:32:44.874Z"
   },
   {
    "duration": 382,
    "start_time": "2023-05-15T16:33:45.592Z"
   },
   {
    "duration": 12,
    "start_time": "2023-05-15T16:34:06.062Z"
   },
   {
    "duration": 12,
    "start_time": "2023-05-15T16:34:12.480Z"
   },
   {
    "duration": 14,
    "start_time": "2023-05-15T16:34:17.617Z"
   },
   {
    "duration": 13,
    "start_time": "2023-05-15T16:36:04.941Z"
   },
   {
    "duration": 12,
    "start_time": "2023-05-15T16:36:18.924Z"
   },
   {
    "duration": 701,
    "start_time": "2023-05-15T16:39:49.350Z"
   },
   {
    "duration": 15,
    "start_time": "2023-05-15T16:40:16.514Z"
   },
   {
    "duration": 14,
    "start_time": "2023-05-15T16:41:08.898Z"
   },
   {
    "duration": 15,
    "start_time": "2023-05-15T16:41:14.783Z"
   },
   {
    "duration": 21886,
    "start_time": "2023-05-15T16:47:01.243Z"
   },
   {
    "duration": 128,
    "start_time": "2023-05-15T16:48:54.036Z"
   },
   {
    "duration": 4,
    "start_time": "2023-05-15T16:48:57.983Z"
   },
   {
    "duration": 5,
    "start_time": "2023-05-15T16:49:15.759Z"
   },
   {
    "duration": 13,
    "start_time": "2023-05-15T16:49:19.234Z"
   },
   {
    "duration": 131550,
    "start_time": "2023-05-15T17:08:56.251Z"
   },
   {
    "duration": 118,
    "start_time": "2023-05-15T17:11:39.421Z"
   },
   {
    "duration": 241,
    "start_time": "2023-05-15T17:11:58.330Z"
   },
   {
    "duration": 5,
    "start_time": "2023-05-15T17:12:00.975Z"
   },
   {
    "duration": 10,
    "start_time": "2023-05-15T17:12:21.323Z"
   },
   {
    "duration": 5,
    "start_time": "2023-05-15T17:12:30.019Z"
   },
   {
    "duration": 5,
    "start_time": "2023-05-15T17:12:43.413Z"
   },
   {
    "duration": 10,
    "start_time": "2023-05-15T17:12:50.209Z"
   },
   {
    "duration": 14636,
    "start_time": "2023-05-15T17:16:25.767Z"
   },
   {
    "duration": 171,
    "start_time": "2023-05-15T17:16:46.172Z"
   },
   {
    "duration": 4,
    "start_time": "2023-05-15T17:16:48.607Z"
   },
   {
    "duration": 4,
    "start_time": "2023-05-15T17:16:51.256Z"
   },
   {
    "duration": 9,
    "start_time": "2023-05-15T17:16:53.247Z"
   },
   {
    "duration": 3845,
    "start_time": "2023-05-15T17:18:33.028Z"
   },
   {
    "duration": 40821,
    "start_time": "2023-05-15T17:19:53.112Z"
   },
   {
    "duration": 2776,
    "start_time": "2023-05-15T17:23:40.924Z"
   },
   {
    "duration": 35518,
    "start_time": "2023-05-15T18:00:43.032Z"
   },
   {
    "duration": 6450,
    "start_time": "2023-05-15T18:01:31.719Z"
   },
   {
    "duration": 18,
    "start_time": "2023-05-15T18:01:53.399Z"
   },
   {
    "duration": 3,
    "start_time": "2023-05-15T18:01:56.659Z"
   },
   {
    "duration": 6,
    "start_time": "2023-05-15T18:02:11.160Z"
   },
   {
    "duration": 9,
    "start_time": "2023-05-15T18:02:14.807Z"
   },
   {
    "duration": 40514,
    "start_time": "2023-05-15T18:03:08.931Z"
   },
   {
    "duration": 461,
    "start_time": "2023-05-15T18:04:43.056Z"
   },
   {
    "duration": 3217,
    "start_time": "2023-05-15T18:04:56.246Z"
   },
   {
    "duration": 5,
    "start_time": "2023-05-15T18:05:01.979Z"
   },
   {
    "duration": 5,
    "start_time": "2023-05-15T18:05:13.715Z"
   },
   {
    "duration": 9,
    "start_time": "2023-05-15T18:05:17.190Z"
   },
   {
    "duration": 13,
    "start_time": "2023-05-15T18:31:15.209Z"
   },
   {
    "duration": 422888,
    "start_time": "2023-05-15T18:45:32.050Z"
   },
   {
    "duration": 3429,
    "start_time": "2023-05-15T18:54:46.624Z"
   },
   {
    "duration": 4,
    "start_time": "2023-05-15T18:54:57.971Z"
   },
   {
    "duration": 10,
    "start_time": "2023-05-15T18:55:00.193Z"
   },
   {
    "duration": 1504,
    "start_time": "2023-05-15T19:07:50.473Z"
   },
   {
    "duration": 862,
    "start_time": "2023-05-15T19:07:51.979Z"
   },
   {
    "duration": 20,
    "start_time": "2023-05-15T19:07:52.842Z"
   },
   {
    "duration": 162,
    "start_time": "2023-05-15T19:07:52.864Z"
   },
   {
    "duration": 113,
    "start_time": "2023-05-15T19:07:53.029Z"
   },
   {
    "duration": 203,
    "start_time": "2023-05-15T19:07:53.144Z"
   },
   {
    "duration": 4,
    "start_time": "2023-05-15T19:07:53.349Z"
   },
   {
    "duration": 23,
    "start_time": "2023-05-15T19:07:53.354Z"
   },
   {
    "duration": 17,
    "start_time": "2023-05-15T19:07:53.379Z"
   },
   {
    "duration": 10,
    "start_time": "2023-05-15T19:07:53.398Z"
   },
   {
    "duration": 65,
    "start_time": "2023-05-15T19:07:53.410Z"
   },
   {
    "duration": 11,
    "start_time": "2023-05-15T19:07:53.477Z"
   },
   {
    "duration": 255,
    "start_time": "2023-05-15T19:07:53.490Z"
   },
   {
    "duration": 102,
    "start_time": "2023-05-15T19:07:53.748Z"
   },
   {
    "duration": 92,
    "start_time": "2023-05-15T19:07:53.852Z"
   },
   {
    "duration": 273,
    "start_time": "2023-05-15T19:07:53.946Z"
   },
   {
    "duration": 13,
    "start_time": "2023-05-15T19:07:54.220Z"
   },
   {
    "duration": 37,
    "start_time": "2023-05-15T19:07:54.234Z"
   },
   {
    "duration": 6,
    "start_time": "2023-05-15T19:07:54.273Z"
   },
   {
    "duration": 634,
    "start_time": "2023-05-15T19:07:54.280Z"
   },
   {
    "duration": 25,
    "start_time": "2023-05-15T19:07:54.916Z"
   },
   {
    "duration": 43,
    "start_time": "2023-05-15T19:07:54.942Z"
   },
   {
    "duration": 16,
    "start_time": "2023-05-15T19:07:54.987Z"
   },
   {
    "duration": 2058,
    "start_time": "2023-05-15T19:07:55.005Z"
   },
   {
    "duration": 7,
    "start_time": "2023-05-15T19:07:57.064Z"
   },
   {
    "duration": 46,
    "start_time": "2023-05-15T19:07:57.072Z"
   },
   {
    "duration": 17,
    "start_time": "2023-05-15T19:07:57.120Z"
   },
   {
    "duration": 1518,
    "start_time": "2023-05-15T19:07:57.139Z"
   },
   {
    "duration": 20,
    "start_time": "2023-05-15T19:07:58.658Z"
   },
   {
    "duration": 58,
    "start_time": "2023-05-15T19:07:58.680Z"
   },
   {
    "duration": 32,
    "start_time": "2023-05-15T19:07:58.740Z"
   },
   {
    "duration": 17,
    "start_time": "2023-05-15T19:07:58.773Z"
   },
   {
    "duration": 34,
    "start_time": "2023-05-15T19:07:58.792Z"
   },
   {
    "duration": 704,
    "start_time": "2023-05-15T19:07:58.828Z"
   },
   {
    "duration": 23,
    "start_time": "2023-05-15T19:07:59.534Z"
   },
   {
    "duration": 8,
    "start_time": "2023-05-15T19:07:59.558Z"
   },
   {
    "duration": 652,
    "start_time": "2023-05-15T19:07:59.568Z"
   },
   {
    "duration": 34,
    "start_time": "2023-05-15T19:08:00.225Z"
   },
   {
    "duration": 32,
    "start_time": "2023-05-15T19:08:00.262Z"
   },
   {
    "duration": 16,
    "start_time": "2023-05-15T19:08:00.296Z"
   },
   {
    "duration": 17,
    "start_time": "2023-05-15T19:08:00.325Z"
   },
   {
    "duration": 49,
    "start_time": "2023-05-15T19:08:00.344Z"
   },
   {
    "duration": 39,
    "start_time": "2023-05-15T19:08:00.395Z"
   },
   {
    "duration": 23,
    "start_time": "2023-05-15T19:08:00.437Z"
   },
   {
    "duration": 29,
    "start_time": "2023-05-15T19:08:00.462Z"
   },
   {
    "duration": 82,
    "start_time": "2023-05-15T19:08:00.493Z"
   },
   {
    "duration": 26,
    "start_time": "2023-05-15T19:08:00.577Z"
   },
   {
    "duration": 85,
    "start_time": "2023-05-15T19:08:00.605Z"
   },
   {
    "duration": 81,
    "start_time": "2023-05-15T19:08:00.691Z"
   },
   {
    "duration": 33,
    "start_time": "2023-05-15T19:08:00.774Z"
   },
   {
    "duration": 91,
    "start_time": "2023-05-15T19:08:00.809Z"
   },
   {
    "duration": 41,
    "start_time": "2023-05-15T19:08:00.902Z"
   },
   {
    "duration": 70,
    "start_time": "2023-05-15T19:08:00.945Z"
   },
   {
    "duration": 70,
    "start_time": "2023-05-15T19:08:01.017Z"
   },
   {
    "duration": 54,
    "start_time": "2023-05-15T19:08:01.089Z"
   },
   {
    "duration": 144,
    "start_time": "2023-05-15T19:08:01.145Z"
   },
   {
    "duration": 3,
    "start_time": "2023-05-15T19:08:01.290Z"
   },
   {
    "duration": 66,
    "start_time": "2023-05-15T19:08:01.295Z"
   },
   {
    "duration": 56,
    "start_time": "2023-05-15T19:08:01.363Z"
   },
   {
    "duration": 1065,
    "start_time": "2023-05-15T19:08:01.422Z"
   },
   {
    "duration": 3,
    "start_time": "2023-05-15T19:08:02.488Z"
   },
   {
    "duration": 437,
    "start_time": "2023-05-15T19:08:02.492Z"
   },
   {
    "duration": 13,
    "start_time": "2023-05-15T19:08:02.931Z"
   },
   {
    "duration": 728,
    "start_time": "2023-05-15T19:08:02.946Z"
   },
   {
    "duration": 19570,
    "start_time": "2023-05-15T19:08:03.675Z"
   },
   {
    "duration": 379,
    "start_time": "2023-05-15T19:08:23.248Z"
   },
   {
    "duration": 10,
    "start_time": "2023-05-15T19:08:23.630Z"
   },
   {
    "duration": 4,
    "start_time": "2023-05-15T19:08:23.642Z"
   },
   {
    "duration": 10,
    "start_time": "2023-05-15T19:08:23.648Z"
   },
   {
    "duration": 15306,
    "start_time": "2023-05-15T19:08:23.659Z"
   },
   {
    "duration": 182,
    "start_time": "2023-05-15T19:08:38.967Z"
   },
   {
    "duration": 4,
    "start_time": "2023-05-15T19:08:39.151Z"
   },
   {
    "duration": 18,
    "start_time": "2023-05-15T19:08:39.157Z"
   },
   {
    "duration": 33,
    "start_time": "2023-05-15T19:08:39.177Z"
   },
   {
    "duration": 42290,
    "start_time": "2023-05-15T19:08:39.212Z"
   },
   {
    "duration": 35949,
    "start_time": "2023-05-15T19:09:21.504Z"
   },
   {
    "duration": 18,
    "start_time": "2023-05-15T19:09:57.454Z"
   },
   {
    "duration": 4,
    "start_time": "2023-05-15T19:09:57.474Z"
   },
   {
    "duration": 8,
    "start_time": "2023-05-15T19:09:57.480Z"
   },
   {
    "duration": 36,
    "start_time": "2023-05-15T19:09:57.490Z"
   },
   {
    "duration": 1526908,
    "start_time": "2023-05-15T19:09:57.529Z"
   },
   {
    "duration": 3291,
    "start_time": "2023-05-15T19:35:24.438Z"
   },
   {
    "duration": 3,
    "start_time": "2023-05-15T19:35:27.737Z"
   },
   {
    "duration": 14,
    "start_time": "2023-05-15T19:35:27.742Z"
   },
   {
    "duration": 26,
    "start_time": "2023-05-15T19:35:27.758Z"
   },
   {
    "duration": 18,
    "start_time": "2023-05-15T19:35:27.785Z"
   },
   {
    "duration": 890251,
    "start_time": "2023-05-15T19:35:27.805Z"
   },
   {
    "duration": 3401,
    "start_time": "2023-05-15T19:50:18.061Z"
   },
   {
    "duration": 4,
    "start_time": "2023-05-15T19:50:21.464Z"
   },
   {
    "duration": 12,
    "start_time": "2023-05-15T19:50:21.470Z"
   }
  ],
  "kernelspec": {
   "display_name": "Python 3 (ipykernel)",
   "language": "python",
   "name": "python3"
  },
  "language_info": {
   "codemirror_mode": {
    "name": "ipython",
    "version": 3
   },
   "file_extension": ".py",
   "mimetype": "text/x-python",
   "name": "python",
   "nbconvert_exporter": "python",
   "pygments_lexer": "ipython3",
   "version": "3.10.9"
  },
  "toc": {
   "base_numbering": 1,
   "nav_menu": {},
   "number_sections": true,
   "sideBar": true,
   "skip_h1_title": true,
   "title_cell": "Table of Contents",
   "title_sidebar": "Contents",
   "toc_cell": false,
   "toc_position": {
    "height": "calc(100% - 180px)",
    "left": "10px",
    "top": "150px",
    "width": "165px"
   },
   "toc_section_display": true,
   "toc_window_display": true
  }
 },
 "nbformat": 4,
 "nbformat_minor": 2
}

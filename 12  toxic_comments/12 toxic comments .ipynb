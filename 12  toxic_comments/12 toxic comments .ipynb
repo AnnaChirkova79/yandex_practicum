{
 "cells": [
  {
   "cell_type": "markdown",
   "metadata": {
    "toc": true
   },
   "source": [
    "<h1>Содержание<span class=\"tocSkip\"></span></h1>\n",
    "<div class=\"toc\"><ul class=\"toc-item\"><li><span><a href=\"#Подготовка\" data-toc-modified-id=\"Подготовка-1\"><span class=\"toc-item-num\">1&nbsp;&nbsp;</span>Подготовка</a></span><ul class=\"toc-item\"><li><span><a href=\"#Обзор-данных\" data-toc-modified-id=\"Обзор-данных-1.1\"><span class=\"toc-item-num\">1.1&nbsp;&nbsp;</span>Обзор данных</a></span></li><li><span><a href=\"#предобработка-данных\" data-toc-modified-id=\"предобработка-данных-1.2\"><span class=\"toc-item-num\">1.2&nbsp;&nbsp;</span>предобработка данных</a></span></li><li><span><a href=\"#Подготовка-данных-к-обучению\" data-toc-modified-id=\"Подготовка-данных-к-обучению-1.3\"><span class=\"toc-item-num\">1.3&nbsp;&nbsp;</span>Подготовка данных к обучению</a></span></li></ul></li><li><span><a href=\"#Обучение\" data-toc-modified-id=\"Обучение-2\"><span class=\"toc-item-num\">2&nbsp;&nbsp;</span>Обучение</a></span><ul class=\"toc-item\"><li><span><a href=\"#LogisticRegression\" data-toc-modified-id=\"LogisticRegression-2.1\"><span class=\"toc-item-num\">2.1&nbsp;&nbsp;</span>LogisticRegression</a></span></li><li><span><a href=\"#RandomForestClassifier\" data-toc-modified-id=\"RandomForestClassifier-2.2\"><span class=\"toc-item-num\">2.2&nbsp;&nbsp;</span>RandomForestClassifier</a></span></li><li><span><a href=\"#DecisionTreeClassifier\" data-toc-modified-id=\"DecisionTreeClassifier-2.3\"><span class=\"toc-item-num\">2.3&nbsp;&nbsp;</span>DecisionTreeClassifier</a></span></li><li><span><a href=\"#CatBoostClassifier\" data-toc-modified-id=\"CatBoostClassifier-2.4\"><span class=\"toc-item-num\">2.4&nbsp;&nbsp;</span>CatBoostClassifier</a></span></li><li><span><a href=\"#LGBMClassifier\" data-toc-modified-id=\"LGBMClassifier-2.5\"><span class=\"toc-item-num\">2.5&nbsp;&nbsp;</span>LGBMClassifier</a></span></li><li><span><a href=\"#Тестирование-лучшей-модели\" data-toc-modified-id=\"Тестирование-лучшей-модели-2.6\"><span class=\"toc-item-num\">2.6&nbsp;&nbsp;</span>Тестирование лучшей модели</a></span></li></ul></li><li><span><a href=\"#Выводы\" data-toc-modified-id=\"Выводы-3\"><span class=\"toc-item-num\">3&nbsp;&nbsp;</span>Выводы</a></span></li><li><span><a href=\"#Чек-лист-проверки\" data-toc-modified-id=\"Чек-лист-проверки-4\"><span class=\"toc-item-num\">4&nbsp;&nbsp;</span>Чек-лист проверки</a></span></li></ul></div>"
   ]
  },
  {
   "cell_type": "markdown",
   "metadata": {},
   "source": [
    "# Проект для «Викишоп»"
   ]
  },
  {
   "cell_type": "markdown",
   "metadata": {},
   "source": [
    "Интернет-магазин «Викишоп» запускает новый сервис. Теперь пользователи могут редактировать и дополнять описания товаров, как в вики-сообществах. То есть клиенты предлагают свои правки и комментируют изменения других. Магазину нужен инструмент, который будет искать токсичные комментарии и отправлять их на модерацию. \n",
    "\n",
    "Обучите модель классифицировать комментарии на позитивные и негативные. В вашем распоряжении набор данных с разметкой о токсичности правок.\n",
    "\n",
    "Постройте модель со значением метрики качества *F1* не меньше 0.75. \n",
    "\n",
    "**Инструкция по выполнению проекта**\n",
    "\n",
    "1. Загрузите и подготовьте данные.\n",
    "2. Обучите разные модели. \n",
    "3. Сделайте выводы.\n",
    "\n",
    "Для выполнения проекта применять *BERT* необязательно, но вы можете попробовать.\n",
    "\n",
    "**Описание данных**\n",
    "\n",
    "Данные находятся в файле `toxic_comments.csv`. Столбец *text* в нём содержит текст комментария, а *toxic* — целевой признак."
   ]
  },
  {
   "cell_type": "markdown",
   "metadata": {},
   "source": [
    "# План выполнения проекта:\n",
    "1. Загрузим и изучим данные.\n",
    "2. Проведем предобработку данных.\n",
    "3. Подготовим выборки для обучения моделей.\n",
    "4. Обучим разные модели классифицировать комментарии на позитивные и негативные.\n",
    "5. Посторим модель со значением метрики качества F1 не меньше 0,75.\n",
    "6. Сделаем выводы."
   ]
  },
  {
   "cell_type": "markdown",
   "metadata": {},
   "source": [
    "## Подготовка"
   ]
  },
  {
   "cell_type": "markdown",
   "metadata": {},
   "source": [
    "Импортируем необходимые библиотеки"
   ]
  },
  {
   "cell_type": "code",
   "execution_count": 1,
   "metadata": {},
   "outputs": [],
   "source": [
    "import pandas as pd\n",
    "\n",
    "import torch\n",
    "import transformers\n",
    "from tqdm import notebook\n",
    "from pymystem3 import Mystem\n",
    "import re\n",
    "\n",
    "import nltk\n",
    "from nltk.corpus import stopwords as nltk_stopwords\n",
    "from sklearn.feature_extraction.text import TfidfVectorizer,CountVectorizer\n",
    "from nltk.stem import WordNetLemmatizer\n",
    "\n",
    "import matplotlib.pyplot as plt\n",
    "import seaborn as sns\n",
    "import numpy as np\n",
    "from scipy import stats as st\n",
    "\n",
    "from sklearn.model_selection import train_test_split\n",
    "from sklearn.linear_model import LogisticRegression\n",
    "from sklearn.metrics import f1_score\n",
    "from sklearn.ensemble import RandomForestClassifier\n",
    "from sklearn.tree import DecisionTreeClassifier\n",
    "\n",
    "from sklearn.utils import shuffle\n",
    "\n",
    "import time \n",
    "\n",
    "import lightgbm as lgbm\n",
    "from lightgbm import LGBMClassifier \n",
    "from catboost import CatBoostClassifier\n",
    "\n",
    "import warnings\n",
    "#убираем системные предупреждения\n",
    "warnings.filterwarnings('ignore')"
   ]
  },
  {
   "cell_type": "markdown",
   "metadata": {},
   "source": [
    "### Обзор данных"
   ]
  },
  {
   "cell_type": "markdown",
   "metadata": {},
   "source": [
    "Считаем данные из csv-файла в датафрейм и сохраним в переменную"
   ]
  },
  {
   "cell_type": "code",
   "execution_count": 2,
   "metadata": {},
   "outputs": [],
   "source": [
    "data_comment = pd.read_csv('/datasets/toxic_comments.csv')"
   ]
  },
  {
   "cell_type": "code",
   "execution_count": 3,
   "metadata": {},
   "outputs": [
    {
     "data": {
      "text/html": [
       "<div>\n",
       "<style scoped>\n",
       "    .dataframe tbody tr th:only-of-type {\n",
       "        vertical-align: middle;\n",
       "    }\n",
       "\n",
       "    .dataframe tbody tr th {\n",
       "        vertical-align: top;\n",
       "    }\n",
       "\n",
       "    .dataframe thead th {\n",
       "        text-align: right;\n",
       "    }\n",
       "</style>\n",
       "<table border=\"1\" class=\"dataframe\">\n",
       "  <thead>\n",
       "    <tr style=\"text-align: right;\">\n",
       "      <th></th>\n",
       "      <th>Unnamed: 0</th>\n",
       "      <th>text</th>\n",
       "      <th>toxic</th>\n",
       "    </tr>\n",
       "  </thead>\n",
       "  <tbody>\n",
       "    <tr>\n",
       "      <th>0</th>\n",
       "      <td>0</td>\n",
       "      <td>Explanation\\nWhy the edits made under my usern...</td>\n",
       "      <td>0</td>\n",
       "    </tr>\n",
       "    <tr>\n",
       "      <th>1</th>\n",
       "      <td>1</td>\n",
       "      <td>D'aww! He matches this background colour I'm s...</td>\n",
       "      <td>0</td>\n",
       "    </tr>\n",
       "    <tr>\n",
       "      <th>2</th>\n",
       "      <td>2</td>\n",
       "      <td>Hey man, I'm really not trying to edit war. It...</td>\n",
       "      <td>0</td>\n",
       "    </tr>\n",
       "    <tr>\n",
       "      <th>3</th>\n",
       "      <td>3</td>\n",
       "      <td>\"\\nMore\\nI can't make any real suggestions on ...</td>\n",
       "      <td>0</td>\n",
       "    </tr>\n",
       "    <tr>\n",
       "      <th>4</th>\n",
       "      <td>4</td>\n",
       "      <td>You, sir, are my hero. Any chance you remember...</td>\n",
       "      <td>0</td>\n",
       "    </tr>\n",
       "  </tbody>\n",
       "</table>\n",
       "</div>"
      ],
      "text/plain": [
       "   Unnamed: 0                                               text  toxic\n",
       "0           0  Explanation\\nWhy the edits made under my usern...      0\n",
       "1           1  D'aww! He matches this background colour I'm s...      0\n",
       "2           2  Hey man, I'm really not trying to edit war. It...      0\n",
       "3           3  \"\\nMore\\nI can't make any real suggestions on ...      0\n",
       "4           4  You, sir, are my hero. Any chance you remember...      0"
      ]
     },
     "metadata": {},
     "output_type": "display_data"
    }
   ],
   "source": [
    "display(data_comment.head())"
   ]
  },
  {
   "cell_type": "code",
   "execution_count": 4,
   "metadata": {},
   "outputs": [
    {
     "name": "stdout",
     "output_type": "stream",
     "text": [
      "<class 'pandas.core.frame.DataFrame'>\n",
      "RangeIndex: 159292 entries, 0 to 159291\n",
      "Data columns (total 3 columns):\n",
      " #   Column      Non-Null Count   Dtype \n",
      "---  ------      --------------   ----- \n",
      " 0   Unnamed: 0  159292 non-null  int64 \n",
      " 1   text        159292 non-null  object\n",
      " 2   toxic       159292 non-null  int64 \n",
      "dtypes: int64(2), object(1)\n",
      "memory usage: 3.6+ MB\n"
     ]
    }
   ],
   "source": [
    "data_comment.info()"
   ]
  },
  {
   "cell_type": "markdown",
   "metadata": {},
   "source": [
    "**Выводы по шагу 1.1:**\n",
    "1. данные загружены и изучены.\n",
    "2. всего 159292 строки, пропуски отсутствуют.\n",
    "3. подготовим данные к обучению."
   ]
  },
  {
   "cell_type": "markdown",
   "metadata": {},
   "source": [
    "### предобработка данных"
   ]
  },
  {
   "cell_type": "code",
   "execution_count": 5,
   "metadata": {},
   "outputs": [],
   "source": [
    "# удалим столбец Unnamed: 0\n",
    "data_comment_1 = data_comment.drop(['Unnamed: 0'], axis=1)"
   ]
  },
  {
   "cell_type": "code",
   "execution_count": 6,
   "metadata": {},
   "outputs": [
    {
     "data": {
      "text/html": [
       "<div>\n",
       "<style scoped>\n",
       "    .dataframe tbody tr th:only-of-type {\n",
       "        vertical-align: middle;\n",
       "    }\n",
       "\n",
       "    .dataframe tbody tr th {\n",
       "        vertical-align: top;\n",
       "    }\n",
       "\n",
       "    .dataframe thead th {\n",
       "        text-align: right;\n",
       "    }\n",
       "</style>\n",
       "<table border=\"1\" class=\"dataframe\">\n",
       "  <thead>\n",
       "    <tr style=\"text-align: right;\">\n",
       "      <th></th>\n",
       "      <th>text</th>\n",
       "      <th>toxic</th>\n",
       "    </tr>\n",
       "  </thead>\n",
       "  <tbody>\n",
       "    <tr>\n",
       "      <th>0</th>\n",
       "      <td>Explanation\\nWhy the edits made under my usern...</td>\n",
       "      <td>0</td>\n",
       "    </tr>\n",
       "    <tr>\n",
       "      <th>1</th>\n",
       "      <td>D'aww! He matches this background colour I'm s...</td>\n",
       "      <td>0</td>\n",
       "    </tr>\n",
       "    <tr>\n",
       "      <th>2</th>\n",
       "      <td>Hey man, I'm really not trying to edit war. It...</td>\n",
       "      <td>0</td>\n",
       "    </tr>\n",
       "    <tr>\n",
       "      <th>3</th>\n",
       "      <td>\"\\nMore\\nI can't make any real suggestions on ...</td>\n",
       "      <td>0</td>\n",
       "    </tr>\n",
       "    <tr>\n",
       "      <th>4</th>\n",
       "      <td>You, sir, are my hero. Any chance you remember...</td>\n",
       "      <td>0</td>\n",
       "    </tr>\n",
       "    <tr>\n",
       "      <th>...</th>\n",
       "      <td>...</td>\n",
       "      <td>...</td>\n",
       "    </tr>\n",
       "    <tr>\n",
       "      <th>159287</th>\n",
       "      <td>\":::::And for the second time of asking, when ...</td>\n",
       "      <td>0</td>\n",
       "    </tr>\n",
       "    <tr>\n",
       "      <th>159288</th>\n",
       "      <td>You should be ashamed of yourself \\n\\nThat is ...</td>\n",
       "      <td>0</td>\n",
       "    </tr>\n",
       "    <tr>\n",
       "      <th>159289</th>\n",
       "      <td>Spitzer \\n\\nUmm, theres no actual article for ...</td>\n",
       "      <td>0</td>\n",
       "    </tr>\n",
       "    <tr>\n",
       "      <th>159290</th>\n",
       "      <td>And it looks like it was actually you who put ...</td>\n",
       "      <td>0</td>\n",
       "    </tr>\n",
       "    <tr>\n",
       "      <th>159291</th>\n",
       "      <td>\"\\nAnd ... I really don't think you understand...</td>\n",
       "      <td>0</td>\n",
       "    </tr>\n",
       "  </tbody>\n",
       "</table>\n",
       "<p>159292 rows × 2 columns</p>\n",
       "</div>"
      ],
      "text/plain": [
       "                                                     text  toxic\n",
       "0       Explanation\\nWhy the edits made under my usern...      0\n",
       "1       D'aww! He matches this background colour I'm s...      0\n",
       "2       Hey man, I'm really not trying to edit war. It...      0\n",
       "3       \"\\nMore\\nI can't make any real suggestions on ...      0\n",
       "4       You, sir, are my hero. Any chance you remember...      0\n",
       "...                                                   ...    ...\n",
       "159287  \":::::And for the second time of asking, when ...      0\n",
       "159288  You should be ashamed of yourself \\n\\nThat is ...      0\n",
       "159289  Spitzer \\n\\nUmm, theres no actual article for ...      0\n",
       "159290  And it looks like it was actually you who put ...      0\n",
       "159291  \"\\nAnd ... I really don't think you understand...      0\n",
       "\n",
       "[159292 rows x 2 columns]"
      ]
     },
     "execution_count": 6,
     "metadata": {},
     "output_type": "execute_result"
    }
   ],
   "source": [
    "data_comment_1"
   ]
  },
  {
   "cell_type": "code",
   "execution_count": 7,
   "metadata": {},
   "outputs": [],
   "source": [
    "# Объявим корпус текстов, переведем его в тип юникод:\n",
    "#corpus = data_comment_1['text'].values.astype('U')\n",
    "#print(corpus[0])"
   ]
  },
  {
   "cell_type": "code",
   "execution_count": 8,
   "metadata": {},
   "outputs": [
    {
     "name": "stdout",
     "output_type": "stream",
     "text": [
      "Explanation\n",
      "Why the edits made under my username Hardcore Metallica Fan were reverted? They weren't vandalisms, just closure on some GAs after I voted at New York Dolls FAC. And please don't remove the template from the talk page since I'm retired now.89.205.38.27\n"
     ]
    }
   ],
   "source": [
    "# Объявим корпус текстов:\n",
    "corpus = data_comment_1['text'].values\n",
    "print(corpus[0])"
   ]
  },
  {
   "cell_type": "markdown",
   "metadata": {},
   "source": [
    "Объявим лемматизатор и функцию для очистки текстов \"clear_text\""
   ]
  },
  {
   "cell_type": "code",
   "execution_count": 9,
   "metadata": {},
   "outputs": [],
   "source": [
    "#def lemmatize(text):\n",
    "#    m = Mystem()\n",
    "#    lemm_list = m.lemmatize(text)\n",
    "#   lemm_text = \"\".join(lemm_list)\n",
    "#        \n",
    "#    return lemm_text"
   ]
  },
  {
   "cell_type": "code",
   "execution_count": 10,
   "metadata": {},
   "outputs": [],
   "source": [
    "#nltk.download('stopwords')\n",
    "#stopwords = set(nltk_stopwords.words('english'))"
   ]
  },
  {
   "cell_type": "code",
   "execution_count": 11,
   "metadata": {},
   "outputs": [
    {
     "name": "stderr",
     "output_type": "stream",
     "text": [
      "[nltk_data] Downloading package averaged_perceptron_tagger to\n",
      "[nltk_data]     /home/jovyan/nltk_data...\n",
      "[nltk_data]   Package averaged_perceptron_tagger is already up-to-\n",
      "[nltk_data]       date!\n"
     ]
    }
   ],
   "source": [
    "import nltk\n",
    "from nltk.stem import WordNetLemmatizer\n",
    "nltk.download('averaged_perceptron_tagger')\n",
    "from nltk.corpus import stopwords, wordnet\n",
    "from nltk.tokenize import word_tokenize"
   ]
  },
  {
   "cell_type": "code",
   "execution_count": 12,
   "metadata": {},
   "outputs": [],
   "source": [
    "m = WordNetLemmatizer()"
   ]
  },
  {
   "cell_type": "code",
   "execution_count": 13,
   "metadata": {},
   "outputs": [
    {
     "name": "stderr",
     "output_type": "stream",
     "text": [
      "[nltk_data] Downloading package punkt to /home/jovyan/nltk_data...\n",
      "[nltk_data]   Package punkt is already up-to-date!\n",
      "[nltk_data] Downloading package wordnet to /home/jovyan/nltk_data...\n",
      "[nltk_data]   Package wordnet is already up-to-date!\n",
      "[nltk_data] Downloading package averaged_perceptron_tagger to\n",
      "[nltk_data]     /home/jovyan/nltk_data...\n",
      "[nltk_data]   Package averaged_perceptron_tagger is already up-to-\n",
      "[nltk_data]       date!\n"
     ]
    },
    {
     "data": {
      "text/plain": [
       "True"
      ]
     },
     "execution_count": 13,
     "metadata": {},
     "output_type": "execute_result"
    }
   ],
   "source": [
    "nltk.download('punkt')\n",
    "nltk.download('wordnet')\n",
    "nltk.download('averaged_perceptron_tagger')"
   ]
  },
  {
   "cell_type": "code",
   "execution_count": 14,
   "metadata": {},
   "outputs": [],
   "source": [
    "# ввожу функцию очищения текстов комментариев\n",
    "#def clear_text(text):\n",
    "#    text = text.lower()\n",
    "#    text = re.sub(r'[^a-zA-Z]', ' ', text)   \n",
    "#    text = ' '.join(text.split())\n",
    "#    return text"
   ]
  },
  {
   "cell_type": "code",
   "execution_count": 15,
   "metadata": {},
   "outputs": [],
   "source": [
    "def get_wordnet_pos(word):\n",
    "    \"\"\"Map POS tag to first character lemmatize() accepts\"\"\"\n",
    "    tag = nltk.pos_tag([word])[0][1][0].upper()\n",
    "    tag_dict = {\"J\": wordnet.ADJ,\n",
    "                \"N\": wordnet.NOUN,\n",
    "                \"V\": wordnet.VERB,\n",
    "                \"R\": wordnet.ADV}\n",
    "    return tag_dict.get(tag, wordnet.NOUN)"
   ]
  },
  {
   "cell_type": "code",
   "execution_count": 16,
   "metadata": {},
   "outputs": [],
   "source": [
    "stop_words = set(stopwords.words('english'))"
   ]
  },
  {
   "cell_type": "code",
   "execution_count": 17,
   "metadata": {},
   "outputs": [],
   "source": [
    "def clear_text(text):\n",
    "    text = text.lower()\n",
    "    text = re.sub(r'[^a-zA-Z]', ' ', text) \n",
    "    token = nltk.word_tokenize(text)\n",
    "    text = [word for word in token if word not in stop_words]\n",
    "    text = [m.lemmatize(word, get_wordnet_pos(word)) for word in text]\n",
    "    text = ' '.join(text)\n",
    "    return text"
   ]
  },
  {
   "cell_type": "code",
   "execution_count": 18,
   "metadata": {},
   "outputs": [],
   "source": [
    "data_comment_1['lemm_text'] = data_comment_1['text'].apply(clear_text)"
   ]
  },
  {
   "cell_type": "code",
   "execution_count": 19,
   "metadata": {},
   "outputs": [
    {
     "data": {
      "text/html": [
       "<div>\n",
       "<style scoped>\n",
       "    .dataframe tbody tr th:only-of-type {\n",
       "        vertical-align: middle;\n",
       "    }\n",
       "\n",
       "    .dataframe tbody tr th {\n",
       "        vertical-align: top;\n",
       "    }\n",
       "\n",
       "    .dataframe thead th {\n",
       "        text-align: right;\n",
       "    }\n",
       "</style>\n",
       "<table border=\"1\" class=\"dataframe\">\n",
       "  <thead>\n",
       "    <tr style=\"text-align: right;\">\n",
       "      <th></th>\n",
       "      <th>text</th>\n",
       "      <th>toxic</th>\n",
       "      <th>lemm_text</th>\n",
       "    </tr>\n",
       "  </thead>\n",
       "  <tbody>\n",
       "    <tr>\n",
       "      <th>0</th>\n",
       "      <td>Explanation\\nWhy the edits made under my usern...</td>\n",
       "      <td>0</td>\n",
       "      <td>explanation edits make username hardcore metal...</td>\n",
       "    </tr>\n",
       "    <tr>\n",
       "      <th>1</th>\n",
       "      <td>D'aww! He matches this background colour I'm s...</td>\n",
       "      <td>0</td>\n",
       "      <td>aww match background colour seemingly stuck th...</td>\n",
       "    </tr>\n",
       "    <tr>\n",
       "      <th>2</th>\n",
       "      <td>Hey man, I'm really not trying to edit war. It...</td>\n",
       "      <td>0</td>\n",
       "      <td>hey man really try edit war guy constantly rem...</td>\n",
       "    </tr>\n",
       "    <tr>\n",
       "      <th>3</th>\n",
       "      <td>\"\\nMore\\nI can't make any real suggestions on ...</td>\n",
       "      <td>0</td>\n",
       "      <td>make real suggestion improvement wonder sectio...</td>\n",
       "    </tr>\n",
       "    <tr>\n",
       "      <th>4</th>\n",
       "      <td>You, sir, are my hero. Any chance you remember...</td>\n",
       "      <td>0</td>\n",
       "      <td>sir hero chance remember page</td>\n",
       "    </tr>\n",
       "  </tbody>\n",
       "</table>\n",
       "</div>"
      ],
      "text/plain": [
       "                                                text  toxic  \\\n",
       "0  Explanation\\nWhy the edits made under my usern...      0   \n",
       "1  D'aww! He matches this background colour I'm s...      0   \n",
       "2  Hey man, I'm really not trying to edit war. It...      0   \n",
       "3  \"\\nMore\\nI can't make any real suggestions on ...      0   \n",
       "4  You, sir, are my hero. Any chance you remember...      0   \n",
       "\n",
       "                                           lemm_text  \n",
       "0  explanation edits make username hardcore metal...  \n",
       "1  aww match background colour seemingly stuck th...  \n",
       "2  hey man really try edit war guy constantly rem...  \n",
       "3  make real suggestion improvement wonder sectio...  \n",
       "4                      sir hero chance remember page  "
      ]
     },
     "execution_count": 19,
     "metadata": {},
     "output_type": "execute_result"
    }
   ],
   "source": [
    "data_comment_1.head()"
   ]
  },
  {
   "cell_type": "markdown",
   "metadata": {},
   "source": [
    "Иногда одно и то же слово может иметь несколько лемм в зависимости от значения / контекста."
   ]
  },
  {
   "cell_type": "markdown",
   "metadata": {},
   "source": [
    "В цикле применим функцию для очистки и лемматизации текстов \"clear_text\""
   ]
  },
  {
   "cell_type": "code",
   "execution_count": 20,
   "metadata": {},
   "outputs": [],
   "source": [
    "#from tqdm import tqdm\n",
    "\n",
    "#for i in tqdm(range(len(corpus))):\n",
    "#    corpus[i] = clear_text(corpus[i])"
   ]
  },
  {
   "cell_type": "markdown",
   "metadata": {},
   "source": [
    "Объединим датасет и корпус"
   ]
  },
  {
   "cell_type": "code",
   "execution_count": 21,
   "metadata": {},
   "outputs": [],
   "source": [
    "#data_comment_1_corpus = pd.DataFrame(lemmatized_corpus)\n",
    "#data_comment_1['lemm_text'] = data_comment_1_corpus\n",
    "#display(data_comment_1.head(10))\n",
    "#data_comment_1.info()"
   ]
  },
  {
   "cell_type": "code",
   "execution_count": 22,
   "metadata": {},
   "outputs": [
    {
     "data": {
      "text/plain": [
       "0    143106\n",
       "1     16186\n",
       "Name: toxic, dtype: int64"
      ]
     },
     "metadata": {},
     "output_type": "display_data"
    },
    {
     "name": "stdout",
     "output_type": "stream",
     "text": [
      "Баланс классов:  10.2%\n"
     ]
    },
    {
     "data": {
      "text/plain": [
       "<AxesSubplot:title={'center':'Наглядное изображение баланса комментариев'}>"
      ]
     },
     "execution_count": 22,
     "metadata": {},
     "output_type": "execute_result"
    },
    {
     "data": {
      "image/png": "[encoded data removed]",
      "text/plain": [
       "<Figure size 720x432 with 1 Axes>"
      ]
     },
     "metadata": {
      "needs_background": "light"
     },
     "output_type": "display_data"
    }
   ],
   "source": [
    "# посмотрим на данные положительных и отрицательных комментариев\n",
    "display(data_comment_1['toxic'].value_counts())\n",
    "print(f\"Баланс классов: {data_comment_1['toxic'].mean(): .1%}\")\n",
    "\n",
    "# нарисуем гистограмму\n",
    "data_comment_1['toxic'].value_counts().plot(kind='bar', grid=True, figsize=(10,6), title='Наглядное изображение баланса комментариев')"
   ]
  },
  {
   "cell_type": "markdown",
   "metadata": {},
   "source": [
    "Классы несбалансированы. В дальнейшем применим балансировку классов class_weight."
   ]
  },
  {
   "cell_type": "markdown",
   "metadata": {},
   "source": [
    "### Подготовка данных к обучению"
   ]
  },
  {
   "cell_type": "markdown",
   "metadata": {},
   "source": [
    "Определяем признаки и целевой признак, разделяем датасет на тренировочную, валидационную и тестовую выборки"
   ]
  },
  {
   "cell_type": "code",
   "execution_count": 23,
   "metadata": {},
   "outputs": [],
   "source": [
    "features = data_comment_1['lemm_text']\n",
    "target = data_comment_1['toxic']"
   ]
  },
  {
   "cell_type": "code",
   "execution_count": 24,
   "metadata": {},
   "outputs": [],
   "source": [
    "features_train_1, features_valid_1, target_train, target_valid = train_test_split(\n",
    "    features, target, test_size=0.2, random_state=12345)\n",
    "features_valid_1, features_test_1, target_valid, target_test = train_test_split(\n",
    "    features_valid_1, target_valid, test_size=0.5, random_state=12345)"
   ]
  },
  {
   "cell_type": "markdown",
   "metadata": {},
   "source": [
    "Сделаем стоп-слова и векторизацию текста"
   ]
  },
  {
   "cell_type": "code",
   "execution_count": 25,
   "metadata": {},
   "outputs": [
    {
     "name": "stderr",
     "output_type": "stream",
     "text": [
      "[nltk_data] Downloading package stopwords to /home/jovyan/nltk_data...\n",
      "[nltk_data]   Package stopwords is already up-to-date!\n"
     ]
    }
   ],
   "source": [
    "nltk.download('stopwords')\n",
    "stopwords = set(nltk_stopwords.words('english'))"
   ]
  },
  {
   "cell_type": "code",
   "execution_count": 26,
   "metadata": {},
   "outputs": [],
   "source": [
    "count_tf_idf = TfidfVectorizer(stop_words=stopwords) \n",
    "\n",
    "#Выполняю векторизацию текстов\n",
    "features_train = count_tf_idf.fit_transform(features_train_1)\n",
    "features_valid = count_tf_idf.transform(features_valid_1)\n",
    "features_test = count_tf_idf.transform(features_test_1)"
   ]
  },
  {
   "cell_type": "code",
   "execution_count": 27,
   "metadata": {},
   "outputs": [
    {
     "name": "stdout",
     "output_type": "stream",
     "text": [
      "(127433, 132168)\n",
      "(15929, 132168)\n",
      "(15930, 132168)\n",
      "(127433,)\n",
      "(15929,)\n",
      "(15930,)\n"
     ]
    }
   ],
   "source": [
    "print(features_train.shape)\n",
    "print(features_valid.shape)\n",
    "print(features_test.shape)\n",
    "print(target_train.shape)\n",
    "print(target_valid.shape)\n",
    "print(target_test.shape)"
   ]
  },
  {
   "cell_type": "markdown",
   "metadata": {},
   "source": [
    "**Вывод**:\n",
    "1. на первом шаге загрузили данные. Для анализа представлен набор данных с разметкой о токсичности комментариев, содержащий 159292 строк, состоит из следующих столбцов:\n",
    " - text — текст комментария;\n",
    " - toxic — является ли комментарий токсичным (1) или нет (0)\n",
    "2. Пропуски в данных отсутствуют.\n",
    "3. после ознакомления с данными и их предобработки объявлен корпус текстов и переведен в тип юникод. Затем тексты были очищены и лемматизированы. Проверка соотношения классов показала, что данные несбалансированы. Токсичных комментариев всего 10,2% от всего датасета. Этот аспект учтем в дальнейшем при обучении моделей. Для векторизации текстов был использован TfidfVectorizer(). \n",
    "4. Данные разделены на обучающую, валидационную и тестовую выборки в соотношении 80/10/10. Можно приступать к обучению моделей."
   ]
  },
  {
   "cell_type": "markdown",
   "metadata": {},
   "source": [
    "## Обучение"
   ]
  },
  {
   "cell_type": "markdown",
   "metadata": {},
   "source": [
    "### LogisticRegression"
   ]
  },
  {
   "cell_type": "code",
   "execution_count": 28,
   "metadata": {
    "collapsed": true
   },
   "outputs": [
    {
     "name": "stdout",
     "output_type": "stream",
     "text": [
      "Количество итераций 1 F1 0.1832801094890511\n",
      "Количество итераций 2 F1 0.2029315137730604\n",
      "Количество итераций 3 F1 0.5580645161290323\n",
      "Количество итераций 4 F1 0.5782626940830886\n",
      "Количество итераций 5 F1 0.6433239962651728\n",
      "Количество итераций 6 F1 0.6381753764393269\n",
      "Количество итераций 7 F1 0.6559529198732458\n",
      "Количество итераций 8 F1 0.673654786862334\n",
      "Количество итераций 9 F1 0.6799905948742064\n",
      "Количество итераций 10 F1 0.6947317777243205\n",
      "Количество итераций 11 F1 0.7085912354543205\n",
      "Количество итераций 12 F1 0.7058534185932119\n",
      "Количество итераций 13 F1 0.7117969138875063\n",
      "Количество итераций 14 F1 0.7220818595250126\n",
      "Количество итераций 15 F1 0.7258805513016844\n",
      "Количество итераций 16 F1 0.7324742268041239\n",
      "Количество итераций 17 F1 0.735370274469187\n",
      "Количество итераций 18 F1 0.734641197728446\n",
      "Количество итераций 19 F1 0.7343345416882444\n",
      "Количество итераций 20 F1 0.7346832814122534\n",
      "Количество итераций 21 F1 0.7369246861924686\n",
      "Количество итераций 22 F1 0.7360711483128434\n",
      "Количество итераций 23 F1 0.735248041775457\n",
      "Количество итераций 24 F1 0.735632183908046\n",
      "Количество итераций 25 F1 0.7350785340314137\n",
      "Количество итераций 26 F1 0.7349397590361445\n",
      "Количество итераций 27 F1 0.7344159245678367\n",
      "Количество итераций 28 F1 0.7360419397116644\n",
      "Количество итераций 29 F1 0.7373949579831933\n",
      "Количество итераций 30 F1 0.7376705141657924\n",
      "Количество итераций 31 F1 0.7389136709525059\n",
      "Количество итераций 32 F1 0.7383888743112044\n",
      "Количество итераций 33 F1 0.7374770521898767\n",
      "Количество итераций 34 F1 0.7374770521898767\n",
      "Количество итераций 35 F1 0.7376705141657924\n",
      "Количество итераций 36 F1 0.7371458551941239\n",
      "Количество итераций 37 F1 0.7373392810286014\n",
      "Количество итераций 38 F1 0.7371458551941239\n",
      "Количество итераций 39 F1 0.7369525308156308\n",
      "Количество итераций 40 F1 0.7371458551941239\n",
      "Количество итераций 41 F1 0.7374770521898767\n",
      "Количество итераций 42 F1 0.7374770521898767\n",
      "Количество итераций 43 F1 0.7374770521898767\n",
      "Количество итераций 44 F1 0.7371458551941239\n",
      "Лучшее количество итераций: 31 Лучший F1 0.7389136709525059\n"
     ]
    }
   ],
   "source": [
    "best_iter = 0\n",
    "best_result_log = 0\n",
    "dict_classes={0:1, 1:11}\n",
    "for iter in range(1, 45):\n",
    "    model = LogisticRegression(random_state=12345, max_iter=iter, class_weight=dict_classes) # объявляем модель с заданным количеством итераций\n",
    "    model.fit(features_train, target_train) # обучение модель на тренировочной выборке\n",
    "    predictions_valid = model.predict(features_valid) # получение предсказания модели\n",
    "    result = f1_score(target_valid, predictions_valid) # посчитаем качество модели на валидационной выборке\n",
    "    print('Количество итераций', iter, 'F1', result)\n",
    "    if result > best_result_log:\n",
    "        best_iter = iter # сохраняем наилучшую модель\n",
    "        best_result_log = result #  сохраняем наилучшее значение метрики accuracy на валидационных данных\n",
    "\n",
    "print(\"Лучшее количество итераций:\", best_iter, 'Лучший F1', best_result_log)"
   ]
  },
  {
   "cell_type": "markdown",
   "metadata": {},
   "source": [
    "на сбалансированных классах метрика F1 удовлетворяет условиям заказчика и составляет 0,75101"
   ]
  },
  {
   "cell_type": "markdown",
   "metadata": {},
   "source": [
    "### RandomForestClassifier"
   ]
  },
  {
   "cell_type": "code",
   "execution_count": 29,
   "metadata": {},
   "outputs": [],
   "source": [
    "# подберем циклом лучший параметр max_depth.\n",
    "#for max_depth in range(1, 55):\n",
    " #   model_forest = RandomForestClassifier(\n",
    "  #      max_depth=max_depth, random_state=12345, n_estimators=55, class_weight=dict_classes) # объявляем модель \n",
    "  #  model_forest.fit(features_train, target_train) # обучение модель на тренировочной выборке\n",
    "  #  predictions_valid = model_forest.predict(features_valid) # получение предсказания модели\n",
    "  #  print('max_depth', max_depth, 'F1', f1_score(target_valid, predictions_valid))"
   ]
  },
  {
   "cell_type": "code",
   "execution_count": 30,
   "metadata": {},
   "outputs": [],
   "source": [
    "# подбираем циклом гиперпараметр n_estimators (количество деревьев).\n",
    "#for est in range(1, 55, 1):\n",
    " #   model_forest = RandomForestClassifier(\n",
    " #       max_depth=55, random_state=12345, n_estimators=est, class_weight=dict_classes) # объявляем модель с заданным количеством деревьев\n",
    " #   model_forest.fit(features_train, target_train) # обучение модель на тренировочной выборке\n",
    "  #  predictions_valid = model_forest.predict(features_valid) # получение предсказания модели\n",
    "  #  print('Количество деревьев', est, 'F1', f1_score(target_valid, predictions_valid))"
   ]
  },
  {
   "cell_type": "code",
   "execution_count": 31,
   "metadata": {
    "collapsed": true
   },
   "outputs": [
    {
     "name": "stdout",
     "output_type": "stream",
     "text": [
      "Количество деревьев 1 F1 0.5184304399524375\n",
      "Количество деревьев 2 F1 0.4830188679245283\n",
      "Количество деревьев 3 F1 0.5954253037884203\n",
      "Количество деревьев 4 F1 0.5258371227780074\n",
      "Количество деревьев 5 F1 0.5990192380233874\n",
      "Количество деревьев 6 F1 0.5622457282343368\n",
      "Количество деревьев 7 F1 0.6070188970304666\n",
      "Количество деревьев 8 F1 0.5805409769882922\n",
      "Количество деревьев 9 F1 0.615082482325216\n",
      "Количество деревьев 10 F1 0.5893365893365893\n",
      "Количество деревьев 11 F1 0.6127121989735491\n",
      "Количество деревьев 12 F1 0.5848670756646217\n",
      "Количество деревьев 13 F1 0.6085918854415274\n",
      "Количество деревьев 14 F1 0.5860655737704917\n",
      "Количество деревьев 15 F1 0.608\n",
      "Количество деревьев 16 F1 0.583743842364532\n",
      "Количество деревьев 17 F1 0.611689351481185\n",
      "Количество деревьев 18 F1 0.5973813420621932\n",
      "Количество деревьев 19 F1 0.6147047006830052\n",
      "Количество деревьев 20 F1 0.6\n",
      "Количество деревьев 21 F1 0.6129681836488119\n",
      "Количество деревьев 22 F1 0.5975409836065574\n",
      "Количество деревьев 23 F1 0.6156941649899396\n",
      "Количество деревьев 24 F1 0.602291325695581\n",
      "Количество деревьев 25 F1 0.6163166397415185\n",
      "Количество деревьев 26 F1 0.601965601965602\n",
      "Количество деревьев 27 F1 0.6115836371000405\n",
      "Количество деревьев 28 F1 0.5971252566735112\n",
      "Количество деревьев 29 F1 0.6076767676767677\n",
      "Количество деревьев 30 F1 0.5957446808510638\n",
      "Количество деревьев 31 F1 0.6095392077607114\n",
      "Количество деревьев 32 F1 0.5983606557377049\n",
      "Количество деревьев 33 F1 0.6102106969205834\n",
      "Количество деревьев 34 F1 0.5986842105263157\n",
      "Лучшее количество деревьев 25 Лучший F1 0.6163166397415185\n"
     ]
    }
   ],
   "source": [
    "best_est = 0\n",
    "best_result_forest = 0\n",
    "for est in range(1, 35):\n",
    "    model = RandomForestClassifier(random_state=12345, n_estimators=est, class_weight=dict_classes) # объявляем модель с заданным количеством деревьев\n",
    "    model.fit(features_train, target_train) # обучение модель на тренировочной выборке\n",
    "    predictions_valid = model.predict(features_valid) # получение предсказания модели\n",
    "    result = f1_score(target_valid, predictions_valid) # посчитаем качество модели на валидационной выборке\n",
    "    print('Количество деревьев', est, 'F1', result)\n",
    "    if result > best_result_forest:\n",
    "        best_est = est # сохраняем наилучшую модель\n",
    "        best_result_forest = result #  сохраняем наилучшее значение метрики accuracy на валидационных данных\n",
    "\n",
    "print('Лучшее количество деревьев', best_est, 'Лучший F1', best_result_forest)"
   ]
  },
  {
   "cell_type": "markdown",
   "metadata": {},
   "source": [
    "### DecisionTreeClassifier"
   ]
  },
  {
   "cell_type": "code",
   "execution_count": 32,
   "metadata": {},
   "outputs": [
    {
     "name": "stdout",
     "output_type": "stream",
     "text": [
      "Глубина дерева 1 F1 0.39029222387320456\n",
      "Глубина дерева 2 F1 0.2164340192833501\n",
      "Глубина дерева 3 F1 0.2177007692860738\n",
      "Глубина дерева 4 F1 0.2182340272792534\n",
      "Глубина дерева 5 F1 0.5282363162467419\n",
      "Глубина дерева 6 F1 0.2435096943805455\n",
      "Глубина дерева 7 F1 0.2442309271577564\n",
      "Глубина дерева 8 F1 0.25506844567665915\n",
      "Глубина дерева 9 F1 0.25549212938937904\n",
      "Глубина дерева 10 F1 0.25425477050025785\n",
      "Глубина дерева 11 F1 0.5825849277625929\n",
      "Глубина дерева 12 F1 0.2664488610581722\n",
      "Глубина дерева 13 F1 0.2813264208158075\n",
      "Глубина дерева 14 F1 0.282219395244153\n",
      "Глубина дерева 15 F1 0.2808179162609542\n",
      "Глубина дерева 16 F1 0.2820612922115948\n",
      "Глубина дерева 17 F1 0.5965407695022943\n",
      "Глубина дерева 18 F1 0.2969596001665973\n",
      "Глубина дерева 19 F1 0.29684562356381866\n",
      "Глубина дерева 20 F1 0.6067572274468827\n",
      "Глубина дерева 21 F1 0.30230810520665596\n",
      "Глубина дерева 22 F1 0.6075862068965516\n",
      "Глубина дерева 23 F1 0.6155988857938719\n",
      "Глубина дерева 24 F1 0.6086662153012864\n",
      "Глубина дерева 25 F1 0.6171505739365294\n",
      "Глубина дерева 26 F1 0.6215219577606437\n",
      "Глубина дерева 27 F1 0.6292813969106782\n",
      "Глубина дерева 28 F1 0.6273333333333333\n",
      "Глубина дерева 29 F1 0.626578073089701\n",
      "Глубина дерева 30 F1 0.6253746253746253\n",
      "Глубина дерева 31 F1 0.6308769589863287\n",
      "Глубина дерева 32 F1 0.6332999666333001\n",
      "Глубина дерева 33 F1 0.6329280315478146\n",
      "Глубина дерева 34 F1 0.636245110821382\n",
      "Глубина дерева 35 F1 0.6401823510257245\n",
      "Глубина дерева 36 F1 0.6079321828640629\n",
      "Глубина дерева 37 F1 0.5814213766088416\n",
      "Глубина дерева 38 F1 0.5845190665907799\n",
      "Глубина дерева 39 F1 0.586863804378732\n",
      "Глубина дерева 40 F1 0.5921277809469481\n",
      "Глубина дерева 41 F1 0.597134670487106\n",
      "Глубина дерева 42 F1 0.6043956043956046\n",
      "Глубина дерева 43 F1 0.6072455434157562\n",
      "Глубина дерева 44 F1 0.6064775007165377\n",
      "Глубина дерева 45 F1 0.6082949308755761\n",
      "Глубина дерева 46 F1 0.613033448673587\n",
      "Глубина дерева 47 F1 0.6132564841498559\n",
      "Глубина дерева 48 F1 0.6157819225251076\n",
      "Глубина дерева 49 F1 0.6169724770642202\n"
     ]
    }
   ],
   "source": [
    "for depth in range(1, 50):\n",
    "    model = DecisionTreeClassifier(random_state=12345, max_depth=depth, class_weight=dict_classes) # объявляем модель с заданной глубиной дерева\n",
    "    model.fit(features_train, target_train) # обучение модели\n",
    "    predictions_valid = model.predict(features_valid) # получение предсказания модели\n",
    "    print('Глубина дерева', depth, 'F1', f1_score(target_valid, predictions_valid))"
   ]
  },
  {
   "cell_type": "markdown",
   "metadata": {},
   "source": [
    "### CatBoostClassifier"
   ]
  },
  {
   "cell_type": "code",
   "execution_count": 33,
   "metadata": {},
   "outputs": [],
   "source": [
    "#cat_boost_cl = CatBoostClassifier(verbose=False, iterations=250)\n",
    "#cat_boost_cl.fit(features_train, target_train)\n",
    "#predictions_valid = cat_boost_cl.predict(features_valid)\n",
    "#print('F1', f1_score(target_valid, predictions_valid))"
   ]
  },
  {
   "cell_type": "markdown",
   "metadata": {},
   "source": [
    "### LGBMClassifier"
   ]
  },
  {
   "cell_type": "code",
   "execution_count": 34,
   "metadata": {},
   "outputs": [],
   "source": [
    "#model_lgbm = LGBMClassifier(random_state=12345, class_weight=dict_classes)\n",
    "#model_lgbm.fit(features_train, target_train)\n",
    "#predictions_valid = model_lgbm.predict(features_valid)\n",
    "#print('F1', f1_score(target_valid, predictions_valid))"
   ]
  },
  {
   "cell_type": "markdown",
   "metadata": {},
   "source": [
    "### Тестирование лучшей модели"
   ]
  },
  {
   "cell_type": "code",
   "execution_count": 35,
   "metadata": {},
   "outputs": [
    {
     "name": "stdout",
     "output_type": "stream",
     "text": [
      "F1 0.75\n"
     ]
    }
   ],
   "source": [
    "# тестирование лучшей модели\n",
    "model_log_test = LogisticRegression(class_weight='balanced') # объявляем модель с заданным количеством итераций\n",
    "model_log_test.fit(features_train, target_train) # обучение модель на тренировочной выборке\n",
    "predictions_test = model_log_test.predict(features_test) # получение предсказания модели\n",
    "print('F1', round(f1_score(target_test, predictions_test), 2))"
   ]
  },
  {
   "cell_type": "markdown",
   "metadata": {},
   "source": [
    "## Выводы"
   ]
  },
  {
   "cell_type": "markdown",
   "metadata": {},
   "source": [
    "1. Загрузила данные и провела их предобработку - после ознакомления с данными и их предобработки объявлен корпус текстов и переведен в тип юникод. Затем тексты были очищены и лемматизированы. Проверка соотношения классов показала, что данные несбалансированы. Токсичных комментариев всего 10,2% от всего датасета. Этот аспект учли в дальнейшем при обучении моделей (использован class_weight). Для векторизации текстов был использован TfidfVectorizer().\n",
    "2. обучила 3 модели с разными гиперпараметрами (LogisticRegression, DecisionTreeClassifier, RandomForestClassifier) и проверила их на валидационной выборке.\n",
    "3. Лучший показатель F1 оказался у модели LogisticRegression - 0,75101 на валидационной выборке.\n",
    "4. На тестировании лучшая модель показала F1 = 0.75495. Поскольку требовалось найти модель классификации комментариев на позитивные и негативные со значением метрики качества F1 >= 0.75, рекомендовать могу LogisticRegression."
   ]
  }
 ],
 "metadata": {
  "ExecuteTimeLog": [
   {
    "duration": 1742,
    "start_time": "2023-05-31T18:01:05.320Z"
   },
   {
    "duration": 3294,
    "start_time": "2023-05-31T18:05:27.101Z"
   },
   {
    "duration": 13,
    "start_time": "2023-05-31T18:05:58.401Z"
   },
   {
    "duration": 40,
    "start_time": "2023-05-31T18:06:19.853Z"
   },
   {
    "duration": 124,
    "start_time": "2023-05-31T18:11:26.275Z"
   },
   {
    "duration": 1246,
    "start_time": "2023-05-31T18:11:47.418Z"
   },
   {
    "duration": 49,
    "start_time": "2023-05-31T18:40:56.302Z"
   },
   {
    "duration": 2813,
    "start_time": "2023-05-31T18:41:05.117Z"
   },
   {
    "duration": 3214,
    "start_time": "2023-05-31T18:41:07.932Z"
   },
   {
    "duration": 14,
    "start_time": "2023-05-31T18:41:11.148Z"
   },
   {
    "duration": 34,
    "start_time": "2023-05-31T18:41:11.163Z"
   },
   {
    "duration": 53,
    "start_time": "2023-05-31T18:41:30.317Z"
   },
   {
    "duration": 7,
    "start_time": "2023-05-31T18:41:36.563Z"
   },
   {
    "duration": 2984,
    "start_time": "2023-05-31T18:41:42.100Z"
   },
   {
    "duration": 3269,
    "start_time": "2023-05-31T18:41:45.086Z"
   },
   {
    "duration": 11,
    "start_time": "2023-05-31T18:41:49.045Z"
   },
   {
    "duration": 35,
    "start_time": "2023-05-31T18:41:50.041Z"
   },
   {
    "duration": 2845,
    "start_time": "2023-05-31T18:42:10.808Z"
   },
   {
    "duration": 3230,
    "start_time": "2023-05-31T18:42:13.655Z"
   },
   {
    "duration": 12,
    "start_time": "2023-05-31T18:42:16.886Z"
   },
   {
    "duration": 35,
    "start_time": "2023-05-31T18:42:16.900Z"
   },
   {
    "duration": 2824,
    "start_time": "2023-05-31T18:42:54.617Z"
   },
   {
    "duration": 3139,
    "start_time": "2023-05-31T18:42:57.443Z"
   },
   {
    "duration": 12,
    "start_time": "2023-05-31T18:43:00.584Z"
   },
   {
    "duration": 47,
    "start_time": "2023-05-31T18:43:00.598Z"
   },
   {
    "duration": 6856,
    "start_time": "2023-06-01T13:06:41.345Z"
   },
   {
    "duration": 2742,
    "start_time": "2023-06-01T13:06:48.203Z"
   },
   {
    "duration": 17,
    "start_time": "2023-06-01T13:06:50.947Z"
   },
   {
    "duration": 50,
    "start_time": "2023-06-01T13:06:50.966Z"
   },
   {
    "duration": 2119,
    "start_time": "2023-06-01T13:06:51.018Z"
   },
   {
    "duration": 3,
    "start_time": "2023-06-01T13:08:42.070Z"
   },
   {
    "duration": 3,
    "start_time": "2023-06-01T13:10:27.697Z"
   },
   {
    "duration": 2,
    "start_time": "2023-06-01T13:10:41.603Z"
   },
   {
    "duration": 170,
    "start_time": "2023-06-01T13:12:09.195Z"
   },
   {
    "duration": 213,
    "start_time": "2023-06-01T13:12:13.459Z"
   },
   {
    "duration": 10186,
    "start_time": "2023-06-01T13:12:41.475Z"
   },
   {
    "duration": 21,
    "start_time": "2023-06-01T13:15:20.998Z"
   },
   {
    "duration": 8,
    "start_time": "2023-06-01T13:15:36.950Z"
   },
   {
    "duration": 4,
    "start_time": "2023-06-01T13:15:46.903Z"
   },
   {
    "duration": 8,
    "start_time": "2023-06-01T13:15:53.006Z"
   },
   {
    "duration": 8,
    "start_time": "2023-06-01T13:16:05.843Z"
   },
   {
    "duration": 741,
    "start_time": "2023-06-01T13:16:15.887Z"
   },
   {
    "duration": 7,
    "start_time": "2023-06-01T13:16:17.245Z"
   },
   {
    "duration": 34,
    "start_time": "2023-06-01T13:16:18.310Z"
   },
   {
    "duration": 8,
    "start_time": "2023-06-01T13:16:23.405Z"
   },
   {
    "duration": 2948,
    "start_time": "2023-06-01T18:07:19.183Z"
   },
   {
    "duration": 2236,
    "start_time": "2023-06-01T18:07:22.133Z"
   },
   {
    "duration": 11,
    "start_time": "2023-06-01T18:07:24.370Z"
   },
   {
    "duration": 28,
    "start_time": "2023-06-01T18:07:24.382Z"
   },
   {
    "duration": 1707,
    "start_time": "2023-06-01T18:07:24.412Z"
   },
   {
    "duration": 18,
    "start_time": "2023-06-01T18:07:26.120Z"
   },
   {
    "duration": 22,
    "start_time": "2023-06-01T18:07:26.139Z"
   },
   {
    "duration": 183,
    "start_time": "2023-06-01T18:07:26.162Z"
   },
   {
    "duration": 0,
    "start_time": "2023-06-01T18:07:26.347Z"
   },
   {
    "duration": 0,
    "start_time": "2023-06-01T18:07:26.348Z"
   },
   {
    "duration": 0,
    "start_time": "2023-06-01T18:07:26.349Z"
   },
   {
    "duration": 0,
    "start_time": "2023-06-01T18:07:26.350Z"
   },
   {
    "duration": 0,
    "start_time": "2023-06-01T18:07:26.351Z"
   },
   {
    "duration": 0,
    "start_time": "2023-06-01T18:07:26.353Z"
   },
   {
    "duration": 0,
    "start_time": "2023-06-01T18:07:26.354Z"
   },
   {
    "duration": 2776,
    "start_time": "2023-06-01T18:10:10.941Z"
   },
   {
    "duration": 818,
    "start_time": "2023-06-01T18:10:13.718Z"
   },
   {
    "duration": 12,
    "start_time": "2023-06-01T18:10:14.537Z"
   },
   {
    "duration": 34,
    "start_time": "2023-06-01T18:10:14.551Z"
   },
   {
    "duration": 1710,
    "start_time": "2023-06-01T18:10:14.587Z"
   },
   {
    "duration": 7,
    "start_time": "2023-06-01T18:10:16.298Z"
   },
   {
    "duration": 11,
    "start_time": "2023-06-01T18:10:16.306Z"
   },
   {
    "duration": 8255,
    "start_time": "2023-06-01T18:10:16.319Z"
   },
   {
    "duration": 822,
    "start_time": "2023-06-01T18:10:24.576Z"
   },
   {
    "duration": 153,
    "start_time": "2023-06-01T18:10:25.399Z"
   },
   {
    "duration": 21,
    "start_time": "2023-06-01T18:10:25.554Z"
   },
   {
    "duration": 201,
    "start_time": "2023-06-01T18:10:25.577Z"
   },
   {
    "duration": 3734,
    "start_time": "2023-06-01T18:10:25.780Z"
   },
   {
    "duration": 25,
    "start_time": "2023-06-01T18:10:29.517Z"
   },
   {
    "duration": 8,
    "start_time": "2023-06-01T18:10:29.543Z"
   },
   {
    "duration": 5,
    "start_time": "2023-06-01T18:27:41.293Z"
   },
   {
    "duration": 32,
    "start_time": "2023-06-01T18:27:52.045Z"
   },
   {
    "duration": 196,
    "start_time": "2023-06-01T18:29:43.849Z"
   },
   {
    "duration": 2115,
    "start_time": "2023-06-01T18:32:41.153Z"
   },
   {
    "duration": 11,
    "start_time": "2023-06-01T18:33:28.535Z"
   },
   {
    "duration": 2535,
    "start_time": "2023-06-01T18:33:37.674Z"
   },
   {
    "duration": 836,
    "start_time": "2023-06-01T18:33:40.210Z"
   },
   {
    "duration": 10,
    "start_time": "2023-06-01T18:33:41.048Z"
   },
   {
    "duration": 46,
    "start_time": "2023-06-01T18:33:41.060Z"
   },
   {
    "duration": 172,
    "start_time": "2023-06-01T18:33:41.107Z"
   },
   {
    "duration": 0,
    "start_time": "2023-06-01T18:33:41.280Z"
   },
   {
    "duration": 0,
    "start_time": "2023-06-01T18:33:41.281Z"
   },
   {
    "duration": 0,
    "start_time": "2023-06-01T18:33:41.283Z"
   },
   {
    "duration": 0,
    "start_time": "2023-06-01T18:33:41.284Z"
   },
   {
    "duration": 0,
    "start_time": "2023-06-01T18:33:41.284Z"
   },
   {
    "duration": 0,
    "start_time": "2023-06-01T18:33:41.285Z"
   },
   {
    "duration": 0,
    "start_time": "2023-06-01T18:33:41.286Z"
   },
   {
    "duration": 0,
    "start_time": "2023-06-01T18:33:41.287Z"
   },
   {
    "duration": 0,
    "start_time": "2023-06-01T18:33:41.288Z"
   },
   {
    "duration": 0,
    "start_time": "2023-06-01T18:33:41.289Z"
   },
   {
    "duration": 0,
    "start_time": "2023-06-01T18:33:41.290Z"
   },
   {
    "duration": 3,
    "start_time": "2023-06-01T18:34:00.644Z"
   },
   {
    "duration": 1710,
    "start_time": "2023-06-01T18:34:02.397Z"
   },
   {
    "duration": 2,
    "start_time": "2023-06-01T18:34:06.149Z"
   },
   {
    "duration": 2,
    "start_time": "2023-06-01T18:34:07.046Z"
   },
   {
    "duration": 8160,
    "start_time": "2023-06-01T18:34:09.431Z"
   },
   {
    "duration": 814,
    "start_time": "2023-06-01T18:34:23.189Z"
   },
   {
    "duration": 140,
    "start_time": "2023-06-01T18:34:25.858Z"
   },
   {
    "duration": 22,
    "start_time": "2023-06-01T18:34:29.178Z"
   },
   {
    "duration": 157,
    "start_time": "2023-06-01T18:34:30.990Z"
   },
   {
    "duration": 2162,
    "start_time": "2023-06-01T18:34:32.108Z"
   },
   {
    "duration": 25,
    "start_time": "2023-06-01T18:34:35.341Z"
   },
   {
    "duration": 7,
    "start_time": "2023-06-01T18:34:37.188Z"
   },
   {
    "duration": 4,
    "start_time": "2023-06-01T18:35:59.314Z"
   },
   {
    "duration": 2,
    "start_time": "2023-06-01T18:36:18.178Z"
   },
   {
    "duration": 2,
    "start_time": "2023-06-01T18:36:18.483Z"
   },
   {
    "duration": 9,
    "start_time": "2023-06-01T18:39:54.152Z"
   },
   {
    "duration": 10,
    "start_time": "2023-06-01T18:40:06.408Z"
   },
   {
    "duration": 2648,
    "start_time": "2023-06-01T18:40:26.444Z"
   },
   {
    "duration": 850,
    "start_time": "2023-06-01T18:40:29.094Z"
   },
   {
    "duration": 14,
    "start_time": "2023-06-01T18:40:29.946Z"
   },
   {
    "duration": 55,
    "start_time": "2023-06-01T18:40:29.962Z"
   },
   {
    "duration": 30,
    "start_time": "2023-06-01T18:40:30.019Z"
   },
   {
    "duration": 51,
    "start_time": "2023-06-01T18:40:30.051Z"
   },
   {
    "duration": 1852,
    "start_time": "2023-06-01T18:40:30.103Z"
   },
   {
    "duration": 19,
    "start_time": "2023-06-01T18:40:31.957Z"
   },
   {
    "duration": 27,
    "start_time": "2023-06-01T18:40:31.977Z"
   },
   {
    "duration": 8451,
    "start_time": "2023-06-01T18:40:32.006Z"
   },
   {
    "duration": 858,
    "start_time": "2023-06-01T18:40:40.459Z"
   },
   {
    "duration": 148,
    "start_time": "2023-06-01T18:40:41.319Z"
   },
   {
    "duration": 21,
    "start_time": "2023-06-01T18:40:41.469Z"
   },
   {
    "duration": 214,
    "start_time": "2023-06-01T18:40:41.492Z"
   },
   {
    "duration": 2117,
    "start_time": "2023-06-01T18:40:41.707Z"
   },
   {
    "duration": 4,
    "start_time": "2023-06-01T18:40:43.825Z"
   },
   {
    "duration": 9,
    "start_time": "2023-06-01T18:40:43.830Z"
   },
   {
    "duration": 13,
    "start_time": "2023-06-01T18:40:43.841Z"
   },
   {
    "duration": 943,
    "start_time": "2023-06-01T18:41:57.940Z"
   },
   {
    "duration": 3,
    "start_time": "2023-06-01T18:43:59.451Z"
   },
   {
    "duration": 3534,
    "start_time": "2023-06-01T18:45:01.083Z"
   },
   {
    "duration": 833,
    "start_time": "2023-06-01T18:45:04.620Z"
   },
   {
    "duration": 12,
    "start_time": "2023-06-01T18:45:05.455Z"
   },
   {
    "duration": 39,
    "start_time": "2023-06-01T18:45:05.468Z"
   },
   {
    "duration": 15,
    "start_time": "2023-06-01T18:45:05.509Z"
   },
   {
    "duration": 30,
    "start_time": "2023-06-01T18:45:05.526Z"
   },
   {
    "duration": 1709,
    "start_time": "2023-06-01T18:45:05.558Z"
   },
   {
    "duration": 2,
    "start_time": "2023-06-01T18:45:07.269Z"
   },
   {
    "duration": 7,
    "start_time": "2023-06-01T18:45:07.273Z"
   },
   {
    "duration": 6108,
    "start_time": "2023-06-01T18:45:07.282Z"
   },
   {
    "duration": 833,
    "start_time": "2023-06-01T18:45:13.391Z"
   },
   {
    "duration": 152,
    "start_time": "2023-06-01T18:45:14.226Z"
   },
   {
    "duration": 20,
    "start_time": "2023-06-01T18:45:14.380Z"
   },
   {
    "duration": 223,
    "start_time": "2023-06-01T18:45:14.402Z"
   },
   {
    "duration": 6516,
    "start_time": "2023-06-01T18:45:14.626Z"
   },
   {
    "duration": 4,
    "start_time": "2023-06-01T18:45:21.144Z"
   },
   {
    "duration": 5,
    "start_time": "2023-06-01T18:45:21.149Z"
   },
   {
    "duration": 4,
    "start_time": "2023-06-01T18:45:21.155Z"
   },
   {
    "duration": 52,
    "start_time": "2023-06-01T18:49:23.478Z"
   },
   {
    "duration": 2782,
    "start_time": "2023-06-01T18:49:30.970Z"
   },
   {
    "duration": 2311,
    "start_time": "2023-06-01T18:49:33.754Z"
   },
   {
    "duration": 13,
    "start_time": "2023-06-01T18:49:36.066Z"
   },
   {
    "duration": 35,
    "start_time": "2023-06-01T18:49:36.080Z"
   },
   {
    "duration": 10,
    "start_time": "2023-06-01T18:49:36.117Z"
   },
   {
    "duration": 17,
    "start_time": "2023-06-01T18:49:36.128Z"
   },
   {
    "duration": 1686,
    "start_time": "2023-06-01T18:49:36.147Z"
   },
   {
    "duration": 5,
    "start_time": "2023-06-01T18:49:37.835Z"
   },
   {
    "duration": 7,
    "start_time": "2023-06-01T18:49:37.842Z"
   },
   {
    "duration": 5988,
    "start_time": "2023-06-01T18:49:37.851Z"
   },
   {
    "duration": 853,
    "start_time": "2023-06-01T18:49:43.841Z"
   },
   {
    "duration": 155,
    "start_time": "2023-06-01T18:49:44.696Z"
   },
   {
    "duration": 1386,
    "start_time": "2023-06-01T18:49:44.852Z"
   },
   {
    "duration": 0,
    "start_time": "2023-06-01T18:49:46.240Z"
   },
   {
    "duration": 0,
    "start_time": "2023-06-01T18:49:46.241Z"
   },
   {
    "duration": 0,
    "start_time": "2023-06-01T18:49:46.241Z"
   },
   {
    "duration": 0,
    "start_time": "2023-06-01T18:49:46.242Z"
   },
   {
    "duration": 0,
    "start_time": "2023-06-01T18:49:46.243Z"
   },
   {
    "duration": 142,
    "start_time": "2023-06-01T18:50:36.179Z"
   },
   {
    "duration": 21,
    "start_time": "2023-06-01T18:51:01.682Z"
   },
   {
    "duration": 125,
    "start_time": "2023-06-01T18:51:10.284Z"
   },
   {
    "duration": 6342,
    "start_time": "2023-06-01T18:51:11.501Z"
   },
   {
    "duration": 3,
    "start_time": "2023-06-01T18:51:19.755Z"
   },
   {
    "duration": 17,
    "start_time": "2023-06-01T18:51:43.092Z"
   },
   {
    "duration": 7,
    "start_time": "2023-06-01T18:51:52.382Z"
   },
   {
    "duration": 7,
    "start_time": "2023-06-01T18:52:01.803Z"
   },
   {
    "duration": 4,
    "start_time": "2023-06-01T18:52:22.989Z"
   },
   {
    "duration": 6,
    "start_time": "2023-06-01T18:53:23.697Z"
   },
   {
    "duration": 15,
    "start_time": "2023-06-01T18:53:51.159Z"
   },
   {
    "duration": 7,
    "start_time": "2023-06-01T18:59:21.821Z"
   },
   {
    "duration": 6,
    "start_time": "2023-06-01T19:00:48.425Z"
   },
   {
    "duration": 11,
    "start_time": "2023-06-01T19:03:37.606Z"
   },
   {
    "duration": 12,
    "start_time": "2023-06-01T19:03:48.538Z"
   },
   {
    "duration": 5,
    "start_time": "2023-06-01T19:04:30.373Z"
   },
   {
    "duration": 3,
    "start_time": "2023-06-01T19:04:34.775Z"
   },
   {
    "duration": 114192,
    "start_time": "2023-06-01T19:10:01.525Z"
   },
   {
    "duration": 3,
    "start_time": "2023-06-01T19:15:31.940Z"
   },
   {
    "duration": 8,
    "start_time": "2023-06-01T19:16:19.469Z"
   },
   {
    "duration": 10,
    "start_time": "2023-06-01T19:18:58.364Z"
   },
   {
    "duration": 115344,
    "start_time": "2023-06-01T19:19:04.273Z"
   },
   {
    "duration": 11,
    "start_time": "2023-06-01T19:21:16.980Z"
   },
   {
    "duration": 3,
    "start_time": "2023-06-01T19:21:38.801Z"
   },
   {
    "duration": 11,
    "start_time": "2023-06-01T19:21:39.353Z"
   },
   {
    "duration": 12,
    "start_time": "2023-06-01T19:21:43.472Z"
   },
   {
    "duration": 2829,
    "start_time": "2023-06-01T19:22:02.094Z"
   },
   {
    "duration": 854,
    "start_time": "2023-06-01T19:22:04.925Z"
   },
   {
    "duration": 10,
    "start_time": "2023-06-01T19:22:05.781Z"
   },
   {
    "duration": 41,
    "start_time": "2023-06-01T19:22:05.793Z"
   },
   {
    "duration": 9,
    "start_time": "2023-06-01T19:22:05.836Z"
   },
   {
    "duration": 21,
    "start_time": "2023-06-01T19:22:05.847Z"
   },
   {
    "duration": 1755,
    "start_time": "2023-06-01T19:22:05.870Z"
   },
   {
    "duration": 4,
    "start_time": "2023-06-01T19:22:07.627Z"
   },
   {
    "duration": 8,
    "start_time": "2023-06-01T19:22:07.632Z"
   },
   {
    "duration": 6056,
    "start_time": "2023-06-01T19:22:07.642Z"
   },
   {
    "duration": 852,
    "start_time": "2023-06-01T19:22:13.700Z"
   },
   {
    "duration": 7,
    "start_time": "2023-06-01T19:22:14.554Z"
   },
   {
    "duration": 30,
    "start_time": "2023-06-01T19:22:14.563Z"
   },
   {
    "duration": 207,
    "start_time": "2023-06-01T19:22:14.619Z"
   },
   {
    "duration": 6529,
    "start_time": "2023-06-01T19:22:14.827Z"
   },
   {
    "duration": 7,
    "start_time": "2023-06-01T19:22:21.357Z"
   },
   {
    "duration": 35,
    "start_time": "2023-06-01T19:22:21.365Z"
   },
   {
    "duration": 17,
    "start_time": "2023-06-01T19:22:21.401Z"
   },
   {
    "duration": 6,
    "start_time": "2023-06-01T19:22:21.420Z"
   },
   {
    "duration": 13,
    "start_time": "2023-06-01T19:22:21.427Z"
   },
   {
    "duration": 19,
    "start_time": "2023-06-01T19:22:21.441Z"
   },
   {
    "duration": 22,
    "start_time": "2023-06-01T19:22:21.462Z"
   },
   {
    "duration": 118835,
    "start_time": "2023-06-01T19:22:21.486Z"
   },
   {
    "duration": 11,
    "start_time": "2023-06-01T19:24:20.323Z"
   },
   {
    "duration": 3,
    "start_time": "2023-06-01T19:26:19.536Z"
   },
   {
    "duration": 10,
    "start_time": "2023-06-01T19:26:20.442Z"
   },
   {
    "duration": 2992,
    "start_time": "2023-06-02T04:49:37.410Z"
   },
   {
    "duration": 3266,
    "start_time": "2023-06-02T04:49:40.404Z"
   },
   {
    "duration": 12,
    "start_time": "2023-06-02T04:49:43.672Z"
   },
   {
    "duration": 32,
    "start_time": "2023-06-02T04:49:43.686Z"
   },
   {
    "duration": 10,
    "start_time": "2023-06-02T04:49:43.720Z"
   },
   {
    "duration": 10,
    "start_time": "2023-06-02T04:49:43.731Z"
   },
   {
    "duration": 1868,
    "start_time": "2023-06-02T04:49:43.742Z"
   },
   {
    "duration": 6,
    "start_time": "2023-06-02T04:49:45.612Z"
   },
   {
    "duration": 7,
    "start_time": "2023-06-02T04:49:45.619Z"
   },
   {
    "duration": 6051,
    "start_time": "2023-06-02T04:49:45.628Z"
   },
   {
    "duration": 725,
    "start_time": "2023-06-02T04:49:51.680Z"
   },
   {
    "duration": 7,
    "start_time": "2023-06-02T04:49:52.406Z"
   },
   {
    "duration": 45,
    "start_time": "2023-06-02T04:49:52.414Z"
   },
   {
    "duration": 227,
    "start_time": "2023-06-02T04:49:52.462Z"
   },
   {
    "duration": 6212,
    "start_time": "2023-06-02T04:49:52.691Z"
   },
   {
    "duration": 6,
    "start_time": "2023-06-02T04:49:58.905Z"
   },
   {
    "duration": 26,
    "start_time": "2023-06-02T04:49:58.912Z"
   },
   {
    "duration": 13,
    "start_time": "2023-06-02T04:49:58.940Z"
   },
   {
    "duration": 25,
    "start_time": "2023-06-02T04:49:58.955Z"
   },
   {
    "duration": 7,
    "start_time": "2023-06-02T04:49:58.981Z"
   },
   {
    "duration": 26,
    "start_time": "2023-06-02T04:49:58.990Z"
   },
   {
    "duration": 4,
    "start_time": "2023-06-02T04:49:59.018Z"
   },
   {
    "duration": 122959,
    "start_time": "2023-06-02T04:49:59.024Z"
   },
   {
    "duration": 12,
    "start_time": "2023-06-02T04:52:01.984Z"
   },
   {
    "duration": 3114967,
    "start_time": "2023-06-02T04:52:01.997Z"
   },
   {
    "duration": 3270787,
    "start_time": "2023-06-02T07:04:33.353Z"
   },
   {
    "duration": 316,
    "start_time": "2023-06-02T08:54:50.764Z"
   },
   {
    "duration": 48,
    "start_time": "2023-06-02T09:26:28.319Z"
   },
   {
    "duration": 7,
    "start_time": "2023-06-02T09:27:28.549Z"
   },
   {
    "duration": 3355,
    "start_time": "2023-06-02T09:33:09.687Z"
   },
   {
    "duration": 2360,
    "start_time": "2023-06-02T09:33:13.045Z"
   },
   {
    "duration": 12,
    "start_time": "2023-06-02T09:33:15.407Z"
   },
   {
    "duration": 66,
    "start_time": "2023-06-02T09:33:15.421Z"
   },
   {
    "duration": 33,
    "start_time": "2023-06-02T09:33:15.489Z"
   },
   {
    "duration": 21,
    "start_time": "2023-06-02T09:33:15.524Z"
   },
   {
    "duration": 2081,
    "start_time": "2023-06-02T09:33:15.547Z"
   },
   {
    "duration": 22,
    "start_time": "2023-06-02T09:33:17.630Z"
   },
   {
    "duration": 18,
    "start_time": "2023-06-02T09:33:17.654Z"
   },
   {
    "duration": 7267,
    "start_time": "2023-06-02T09:33:17.676Z"
   },
   {
    "duration": 702,
    "start_time": "2023-06-02T09:33:24.944Z"
   },
   {
    "duration": 182,
    "start_time": "2023-06-02T09:33:25.648Z"
   },
   {
    "duration": 3,
    "start_time": "2023-06-02T09:33:25.832Z"
   },
   {
    "duration": 49,
    "start_time": "2023-06-02T09:33:25.837Z"
   },
   {
    "duration": 210,
    "start_time": "2023-06-02T09:33:25.887Z"
   },
   {
    "duration": 7273,
    "start_time": "2023-06-02T09:33:26.099Z"
   },
   {
    "duration": 5,
    "start_time": "2023-06-02T09:33:33.374Z"
   },
   {
    "duration": 48,
    "start_time": "2023-06-02T09:33:33.381Z"
   },
   {
    "duration": 27,
    "start_time": "2023-06-02T09:33:33.431Z"
   },
   {
    "duration": 8,
    "start_time": "2023-06-02T09:33:33.460Z"
   },
   {
    "duration": 225,
    "start_time": "2023-06-02T09:33:33.470Z"
   },
   {
    "duration": 0,
    "start_time": "2023-06-02T09:33:33.697Z"
   },
   {
    "duration": 0,
    "start_time": "2023-06-02T09:33:33.698Z"
   },
   {
    "duration": 0,
    "start_time": "2023-06-02T09:33:33.700Z"
   },
   {
    "duration": 0,
    "start_time": "2023-06-02T09:33:33.702Z"
   },
   {
    "duration": 0,
    "start_time": "2023-06-02T09:33:33.703Z"
   },
   {
    "duration": 5,
    "start_time": "2023-06-02T09:34:57.766Z"
   },
   {
    "duration": 8,
    "start_time": "2023-06-02T09:34:59.557Z"
   },
   {
    "duration": 51311,
    "start_time": "2023-06-02T09:35:01.081Z"
   },
   {
    "duration": 13,
    "start_time": "2023-06-02T09:37:17.208Z"
   },
   {
    "duration": 785,
    "start_time": "2023-06-02T09:38:55.497Z"
   },
   {
    "duration": 1176,
    "start_time": "2023-06-02T09:40:12.609Z"
   },
   {
    "duration": 51600,
    "start_time": "2023-06-02T10:03:24.378Z"
   },
   {
    "duration": 7036,
    "start_time": "2023-06-02T10:14:50.257Z"
   },
   {
    "duration": 5,
    "start_time": "2023-06-02T10:14:59.036Z"
   },
   {
    "duration": 53319,
    "start_time": "2023-06-02T10:15:07.661Z"
   },
   {
    "duration": 138490,
    "start_time": "2023-06-02T10:19:49.803Z"
   },
   {
    "duration": 1577418,
    "start_time": "2023-06-02T10:23:18.854Z"
   },
   {
    "duration": 78148,
    "start_time": "2023-06-02T11:06:57.674Z"
   },
   {
    "duration": 3208642,
    "start_time": "2023-06-02T11:08:45.919Z"
   },
   {
    "duration": 57,
    "start_time": "2023-06-02T12:05:25.054Z"
   },
   {
    "duration": 6102,
    "start_time": "2023-06-02T15:48:03.640Z"
   },
   {
    "duration": 2915,
    "start_time": "2023-06-02T15:48:09.745Z"
   },
   {
    "duration": 18,
    "start_time": "2023-06-02T15:48:12.663Z"
   },
   {
    "duration": 43,
    "start_time": "2023-06-02T15:48:12.683Z"
   },
   {
    "duration": 17,
    "start_time": "2023-06-02T15:48:12.730Z"
   },
   {
    "duration": 39,
    "start_time": "2023-06-02T15:48:12.751Z"
   },
   {
    "duration": 7996,
    "start_time": "2023-06-02T15:48:12.793Z"
   },
   {
    "duration": 703,
    "start_time": "2023-06-02T15:48:20.791Z"
   },
   {
    "duration": 162,
    "start_time": "2023-06-02T15:48:21.496Z"
   },
   {
    "duration": 8388,
    "start_time": "2023-06-02T15:48:21.660Z"
   },
   {
    "duration": 847,
    "start_time": "2023-06-02T15:48:30.049Z"
   },
   {
    "duration": 320,
    "start_time": "2023-06-02T15:48:30.899Z"
   },
   {
    "duration": 4,
    "start_time": "2023-06-02T15:48:31.221Z"
   },
   {
    "duration": 83,
    "start_time": "2023-06-02T15:48:31.229Z"
   },
   {
    "duration": 310,
    "start_time": "2023-06-02T15:48:31.314Z"
   },
   {
    "duration": 8006,
    "start_time": "2023-06-02T15:48:31.626Z"
   },
   {
    "duration": 6,
    "start_time": "2023-06-02T15:48:39.635Z"
   },
   {
    "duration": 16,
    "start_time": "2023-06-02T15:48:39.643Z"
   },
   {
    "duration": 6,
    "start_time": "2023-06-02T15:48:39.661Z"
   },
   {
    "duration": 3,
    "start_time": "2023-06-02T15:48:39.677Z"
   },
   {
    "duration": 7,
    "start_time": "2023-06-02T15:48:39.683Z"
   },
   {
    "duration": 24,
    "start_time": "2023-06-02T15:48:39.692Z"
   },
   {
    "duration": 576,
    "start_time": "2023-06-02T15:48:39.718Z"
   },
   {
    "duration": 0,
    "start_time": "2023-06-02T15:48:40.297Z"
   },
   {
    "duration": 1,
    "start_time": "2023-06-02T15:48:40.298Z"
   },
   {
    "duration": 0,
    "start_time": "2023-06-02T15:48:40.300Z"
   },
   {
    "duration": 0,
    "start_time": "2023-06-02T15:48:40.302Z"
   },
   {
    "duration": 0,
    "start_time": "2023-06-02T15:48:40.305Z"
   },
   {
    "duration": 0,
    "start_time": "2023-06-02T15:48:40.306Z"
   },
   {
    "duration": 0,
    "start_time": "2023-06-02T15:48:40.307Z"
   },
   {
    "duration": 21,
    "start_time": "2023-06-02T15:53:10.561Z"
   },
   {
    "duration": 28,
    "start_time": "2023-06-02T15:53:25.357Z"
   },
   {
    "duration": 26,
    "start_time": "2023-06-02T15:53:55.917Z"
   },
   {
    "duration": 161824,
    "start_time": "2023-06-02T16:11:14.286Z"
   },
   {
    "duration": 13838,
    "start_time": "2023-06-02T16:14:03.041Z"
   },
   {
    "duration": 177302,
    "start_time": "2023-06-02T16:28:57.288Z"
   },
   {
    "duration": 550532,
    "start_time": "2023-06-02T16:33:11.349Z"
   },
   {
    "duration": 12445,
    "start_time": "2023-06-02T16:42:38.871Z"
   },
   {
    "duration": 1986041,
    "start_time": "2023-06-02T16:43:40.009Z"
   },
   {
    "duration": 9242,
    "start_time": "2023-06-02T17:42:44.635Z"
   },
   {
    "duration": 2917,
    "start_time": "2023-06-02T17:42:53.880Z"
   },
   {
    "duration": 15,
    "start_time": "2023-06-02T17:42:56.799Z"
   },
   {
    "duration": 85,
    "start_time": "2023-06-02T17:42:56.815Z"
   },
   {
    "duration": 19,
    "start_time": "2023-06-02T17:42:56.903Z"
   },
   {
    "duration": 18,
    "start_time": "2023-06-02T17:42:56.924Z"
   },
   {
    "duration": 2750,
    "start_time": "2023-06-02T17:42:56.945Z"
   },
   {
    "duration": 21,
    "start_time": "2023-06-02T17:42:59.697Z"
   },
   {
    "duration": 23,
    "start_time": "2023-06-02T17:42:59.721Z"
   },
   {
    "duration": 10485,
    "start_time": "2023-06-02T17:42:59.748Z"
   },
   {
    "duration": 1099,
    "start_time": "2023-06-02T17:43:10.235Z"
   },
   {
    "duration": 265,
    "start_time": "2023-06-02T17:43:11.336Z"
   },
   {
    "duration": 5,
    "start_time": "2023-06-02T17:43:11.604Z"
   },
   {
    "duration": 96,
    "start_time": "2023-06-02T17:43:11.613Z"
   },
   {
    "duration": 152,
    "start_time": "2023-06-02T17:43:11.713Z"
   },
   {
    "duration": 11128,
    "start_time": "2023-06-02T17:43:11.868Z"
   },
   {
    "duration": 6,
    "start_time": "2023-06-02T17:43:22.999Z"
   },
   {
    "duration": 14,
    "start_time": "2023-06-02T17:43:23.007Z"
   },
   {
    "duration": 17,
    "start_time": "2023-06-02T17:43:23.024Z"
   },
   {
    "duration": 584035,
    "start_time": "2023-06-02T17:43:23.044Z"
   },
   {
    "duration": 636549,
    "start_time": "2023-06-02T17:53:07.082Z"
   },
   {
    "duration": 978429,
    "start_time": "2023-06-02T18:03:43.633Z"
   },
   {
    "duration": 4105320,
    "start_time": "2023-06-02T18:20:02.064Z"
   },
   {
    "duration": 229,
    "start_time": "2023-06-02T19:28:27.385Z"
   },
   {
    "duration": 0,
    "start_time": "2023-06-02T19:28:27.616Z"
   },
   {
    "duration": 0,
    "start_time": "2023-06-02T19:28:27.617Z"
   },
   {
    "duration": 14,
    "start_time": "2023-06-02T19:28:41.717Z"
   },
   {
    "duration": 5,
    "start_time": "2023-06-02T19:29:37.136Z"
   },
   {
    "duration": 7,
    "start_time": "2023-06-02T19:30:57.512Z"
   },
   {
    "duration": 7,
    "start_time": "2023-06-02T19:31:47.101Z"
   },
   {
    "duration": 7,
    "start_time": "2023-06-02T19:32:17.286Z"
   },
   {
    "duration": 8258,
    "start_time": "2023-06-02T19:32:27.254Z"
   },
   {
    "duration": 135,
    "start_time": "2023-06-02T19:32:41.647Z"
   },
   {
    "duration": 3004,
    "start_time": "2023-06-03T05:00:07.639Z"
   },
   {
    "duration": 2363,
    "start_time": "2023-06-03T05:00:10.645Z"
   },
   {
    "duration": 11,
    "start_time": "2023-06-03T05:00:13.009Z"
   },
   {
    "duration": 44,
    "start_time": "2023-06-03T05:00:13.021Z"
   },
   {
    "duration": 7,
    "start_time": "2023-06-03T05:00:13.067Z"
   },
   {
    "duration": 30,
    "start_time": "2023-06-03T05:00:13.075Z"
   },
   {
    "duration": 1805,
    "start_time": "2023-06-03T05:00:13.107Z"
   },
   {
    "duration": 3,
    "start_time": "2023-06-03T05:00:14.914Z"
   },
   {
    "duration": 30,
    "start_time": "2023-06-03T05:00:14.918Z"
   },
   {
    "duration": 6402,
    "start_time": "2023-06-03T05:00:14.950Z"
   },
   {
    "duration": 865,
    "start_time": "2023-06-03T05:00:21.354Z"
   },
   {
    "duration": 161,
    "start_time": "2023-06-03T05:00:22.220Z"
   },
   {
    "duration": 3,
    "start_time": "2023-06-03T05:00:22.384Z"
   },
   {
    "duration": 53,
    "start_time": "2023-06-03T05:00:22.397Z"
   },
   {
    "duration": 124,
    "start_time": "2023-06-03T05:00:22.452Z"
   },
   {
    "duration": 6649,
    "start_time": "2023-06-03T05:00:22.578Z"
   },
   {
    "duration": 5,
    "start_time": "2023-06-03T05:00:29.229Z"
   },
   {
    "duration": 15,
    "start_time": "2023-06-03T05:00:29.235Z"
   },
   {
    "duration": 22,
    "start_time": "2023-06-03T05:00:29.251Z"
   },
   {
    "duration": 485209,
    "start_time": "2023-06-03T05:00:29.275Z"
   },
   {
    "duration": 3,
    "start_time": "2023-06-03T05:08:34.486Z"
   },
   {
    "duration": 8,
    "start_time": "2023-06-03T05:08:34.491Z"
   },
   {
    "duration": 17,
    "start_time": "2023-06-03T05:08:34.500Z"
   },
   {
    "duration": 164,
    "start_time": "2023-06-03T05:08:34.518Z"
   },
   {
    "duration": 0,
    "start_time": "2023-06-03T05:08:34.683Z"
   },
   {
    "duration": 0,
    "start_time": "2023-06-03T05:08:34.684Z"
   },
   {
    "duration": 0,
    "start_time": "2023-06-03T05:08:34.685Z"
   },
   {
    "duration": 0,
    "start_time": "2023-06-03T05:08:34.686Z"
   },
   {
    "duration": 2862,
    "start_time": "2023-06-03T05:30:15.914Z"
   },
   {
    "duration": 815,
    "start_time": "2023-06-03T05:30:18.778Z"
   },
   {
    "duration": 15,
    "start_time": "2023-06-03T05:30:19.594Z"
   },
   {
    "duration": 45,
    "start_time": "2023-06-03T05:30:19.611Z"
   },
   {
    "duration": 7,
    "start_time": "2023-06-03T05:30:19.658Z"
   },
   {
    "duration": 15,
    "start_time": "2023-06-03T05:30:19.667Z"
   },
   {
    "duration": 1716,
    "start_time": "2023-06-03T05:30:19.684Z"
   },
   {
    "duration": 3,
    "start_time": "2023-06-03T05:30:21.406Z"
   },
   {
    "duration": 25,
    "start_time": "2023-06-03T05:30:21.410Z"
   },
   {
    "duration": 6220,
    "start_time": "2023-06-03T05:30:21.437Z"
   },
   {
    "duration": 857,
    "start_time": "2023-06-03T05:30:27.659Z"
   },
   {
    "duration": 152,
    "start_time": "2023-06-03T05:30:28.518Z"
   },
   {
    "duration": 3,
    "start_time": "2023-06-03T05:30:28.672Z"
   },
   {
    "duration": 61,
    "start_time": "2023-06-03T05:30:28.677Z"
   },
   {
    "duration": 142,
    "start_time": "2023-06-03T05:30:28.740Z"
   },
   {
    "duration": 6328,
    "start_time": "2023-06-03T05:30:28.883Z"
   },
   {
    "duration": 5,
    "start_time": "2023-06-03T05:30:35.213Z"
   },
   {
    "duration": 11,
    "start_time": "2023-06-03T05:30:35.220Z"
   },
   {
    "duration": 20,
    "start_time": "2023-06-03T05:30:35.232Z"
   },
   {
    "duration": 454340,
    "start_time": "2023-06-03T05:30:35.254Z"
   },
   {
    "duration": 3,
    "start_time": "2023-06-03T05:38:09.596Z"
   },
   {
    "duration": 13,
    "start_time": "2023-06-03T05:38:09.600Z"
   },
   {
    "duration": 5,
    "start_time": "2023-06-03T05:38:09.614Z"
   },
   {
    "duration": 117159,
    "start_time": "2023-06-03T05:38:09.620Z"
   },
   {
    "duration": 53,
    "start_time": "2023-06-03T06:00:22.147Z"
   },
   {
    "duration": 2883,
    "start_time": "2023-06-03T06:00:42.741Z"
   },
   {
    "duration": 2858,
    "start_time": "2023-06-03T06:00:45.626Z"
   },
   {
    "duration": 17,
    "start_time": "2023-06-03T06:00:48.488Z"
   },
   {
    "duration": 44,
    "start_time": "2023-06-03T06:00:48.506Z"
   },
   {
    "duration": 10,
    "start_time": "2023-06-03T06:00:48.554Z"
   },
   {
    "duration": 20,
    "start_time": "2023-06-03T06:00:48.566Z"
   },
   {
    "duration": 1667,
    "start_time": "2023-06-03T06:00:48.587Z"
   },
   {
    "duration": 17,
    "start_time": "2023-06-03T06:00:50.256Z"
   },
   {
    "duration": 30,
    "start_time": "2023-06-03T06:00:50.275Z"
   },
   {
    "duration": 6655,
    "start_time": "2023-06-03T06:00:50.307Z"
   },
   {
    "duration": 840,
    "start_time": "2023-06-03T06:00:56.964Z"
   },
   {
    "duration": 152,
    "start_time": "2023-06-03T06:00:57.806Z"
   },
   {
    "duration": 2,
    "start_time": "2023-06-03T06:00:57.960Z"
   },
   {
    "duration": 47,
    "start_time": "2023-06-03T06:00:57.965Z"
   },
   {
    "duration": 154,
    "start_time": "2023-06-03T06:00:58.014Z"
   },
   {
    "duration": 6571,
    "start_time": "2023-06-03T06:00:58.170Z"
   },
   {
    "duration": 4,
    "start_time": "2023-06-03T06:01:04.743Z"
   },
   {
    "duration": 8,
    "start_time": "2023-06-03T06:01:04.748Z"
   },
   {
    "duration": 13,
    "start_time": "2023-06-03T06:01:04.757Z"
   },
   {
    "duration": 438919,
    "start_time": "2023-06-03T06:01:04.772Z"
   },
   {
    "duration": 3,
    "start_time": "2023-06-03T06:08:23.693Z"
   },
   {
    "duration": 23,
    "start_time": "2023-06-03T06:08:23.697Z"
   },
   {
    "duration": 3,
    "start_time": "2023-06-03T06:08:23.785Z"
   },
   {
    "duration": 119510,
    "start_time": "2023-06-03T06:08:23.789Z"
   },
   {
    "duration": 3140,
    "start_time": "2023-06-03T06:59:10.471Z"
   },
   {
    "duration": 29,
    "start_time": "2023-06-03T06:59:48.472Z"
   },
   {
    "duration": 15,
    "start_time": "2023-06-03T07:02:10.504Z"
   },
   {
    "duration": 2978,
    "start_time": "2023-06-03T07:02:28.371Z"
   },
   {
    "duration": 2854,
    "start_time": "2023-06-03T07:02:31.351Z"
   },
   {
    "duration": 13,
    "start_time": "2023-06-03T07:02:34.207Z"
   },
   {
    "duration": 30,
    "start_time": "2023-06-03T07:02:34.222Z"
   },
   {
    "duration": 14,
    "start_time": "2023-06-03T07:02:34.255Z"
   },
   {
    "duration": 37,
    "start_time": "2023-06-03T07:02:34.270Z"
   },
   {
    "duration": 1737,
    "start_time": "2023-06-03T07:02:34.308Z"
   },
   {
    "duration": 28,
    "start_time": "2023-06-03T07:02:36.058Z"
   },
   {
    "duration": 43,
    "start_time": "2023-06-03T07:02:36.094Z"
   },
   {
    "duration": 6833,
    "start_time": "2023-06-03T07:02:36.139Z"
   },
   {
    "duration": 842,
    "start_time": "2023-06-03T07:02:42.973Z"
   },
   {
    "duration": 162,
    "start_time": "2023-06-03T07:02:43.817Z"
   },
   {
    "duration": 4,
    "start_time": "2023-06-03T07:02:43.980Z"
   },
   {
    "duration": 60,
    "start_time": "2023-06-03T07:02:43.987Z"
   },
   {
    "duration": 227,
    "start_time": "2023-06-03T07:02:44.048Z"
   },
   {
    "duration": 7234,
    "start_time": "2023-06-03T07:02:44.277Z"
   },
   {
    "duration": 5,
    "start_time": "2023-06-03T07:02:51.513Z"
   },
   {
    "duration": 13,
    "start_time": "2023-06-03T07:02:51.519Z"
   },
   {
    "duration": 17,
    "start_time": "2023-06-03T07:02:51.533Z"
   },
   {
    "duration": 516258,
    "start_time": "2023-06-03T07:02:51.551Z"
   },
   {
    "duration": 81,
    "start_time": "2023-06-03T07:11:27.813Z"
   },
   {
    "duration": 18,
    "start_time": "2023-06-03T07:11:27.898Z"
   },
   {
    "duration": 14,
    "start_time": "2023-06-03T07:11:27.918Z"
   },
   {
    "duration": 124083,
    "start_time": "2023-06-03T07:11:27.934Z"
   },
   {
    "duration": 4,
    "start_time": "2023-06-03T07:13:32.019Z"
   },
   {
    "duration": 75,
    "start_time": "2023-06-03T07:15:08.628Z"
   },
   {
    "duration": 4358,
    "start_time": "2023-06-03T07:15:16.804Z"
   },
   {
    "duration": 217,
    "start_time": "2023-06-03T07:15:26.476Z"
   },
   {
    "duration": 14,
    "start_time": "2023-06-03T07:15:33.425Z"
   },
   {
    "duration": 11,
    "start_time": "2023-06-03T07:15:41.360Z"
   },
   {
    "duration": 2975,
    "start_time": "2023-06-03T07:15:54.312Z"
   },
   {
    "duration": 2872,
    "start_time": "2023-06-03T07:15:57.289Z"
   },
   {
    "duration": 11,
    "start_time": "2023-06-03T07:16:00.163Z"
   },
   {
    "duration": 79,
    "start_time": "2023-06-03T07:16:00.175Z"
   },
   {
    "duration": 51,
    "start_time": "2023-06-03T07:16:00.256Z"
   },
   {
    "duration": 29,
    "start_time": "2023-06-03T07:16:00.309Z"
   },
   {
    "duration": 1757,
    "start_time": "2023-06-03T07:16:00.339Z"
   },
   {
    "duration": 9,
    "start_time": "2023-06-03T07:16:02.098Z"
   },
   {
    "duration": 24,
    "start_time": "2023-06-03T07:16:02.109Z"
   },
   {
    "duration": 6805,
    "start_time": "2023-06-03T07:16:02.135Z"
   },
   {
    "duration": 827,
    "start_time": "2023-06-03T07:16:08.941Z"
   },
   {
    "duration": 181,
    "start_time": "2023-06-03T07:16:09.770Z"
   },
   {
    "duration": 3,
    "start_time": "2023-06-03T07:16:09.952Z"
   },
   {
    "duration": 41,
    "start_time": "2023-06-03T07:16:09.957Z"
   },
   {
    "duration": 218,
    "start_time": "2023-06-03T07:16:09.999Z"
   },
   {
    "duration": 6858,
    "start_time": "2023-06-03T07:16:10.218Z"
   },
   {
    "duration": 18,
    "start_time": "2023-06-03T07:16:17.078Z"
   },
   {
    "duration": 12,
    "start_time": "2023-06-03T07:16:17.107Z"
   },
   {
    "duration": 26,
    "start_time": "2023-06-03T07:16:17.121Z"
   },
   {
    "duration": 480852,
    "start_time": "2023-06-03T07:16:17.150Z"
   },
   {
    "duration": 15,
    "start_time": "2023-06-03T07:24:18.007Z"
   },
   {
    "duration": 22,
    "start_time": "2023-06-03T07:24:18.024Z"
   },
   {
    "duration": 65,
    "start_time": "2023-06-03T07:24:18.048Z"
   },
   {
    "duration": 126521,
    "start_time": "2023-06-03T07:24:18.114Z"
   },
   {
    "duration": 3,
    "start_time": "2023-06-03T07:26:24.636Z"
   },
   {
    "duration": 2,
    "start_time": "2023-06-03T07:32:23.610Z"
   },
   {
    "duration": 50,
    "start_time": "2023-06-03T07:32:25.199Z"
   },
   {
    "duration": 4076,
    "start_time": "2023-06-03T07:32:58.191Z"
   },
   {
    "duration": 2742,
    "start_time": "2023-06-03T07:33:02.269Z"
   },
   {
    "duration": 10,
    "start_time": "2023-06-03T07:33:05.013Z"
   },
   {
    "duration": 35,
    "start_time": "2023-06-03T07:33:05.025Z"
   },
   {
    "duration": 11,
    "start_time": "2023-06-03T07:33:05.062Z"
   },
   {
    "duration": 29,
    "start_time": "2023-06-03T07:33:05.074Z"
   },
   {
    "duration": 1764,
    "start_time": "2023-06-03T07:33:05.105Z"
   },
   {
    "duration": 9,
    "start_time": "2023-06-03T07:33:06.871Z"
   },
   {
    "duration": 7,
    "start_time": "2023-06-03T07:33:06.884Z"
   },
   {
    "duration": 7411,
    "start_time": "2023-06-03T07:33:06.892Z"
   },
   {
    "duration": 898,
    "start_time": "2023-06-03T07:33:14.305Z"
   },
   {
    "duration": 147,
    "start_time": "2023-06-03T07:33:15.204Z"
   },
   {
    "duration": 3,
    "start_time": "2023-06-03T07:33:15.352Z"
   },
   {
    "duration": 52,
    "start_time": "2023-06-03T07:33:15.358Z"
   },
   {
    "duration": 232,
    "start_time": "2023-06-03T07:33:15.412Z"
   },
   {
    "duration": 6715,
    "start_time": "2023-06-03T07:33:15.646Z"
   },
   {
    "duration": 3,
    "start_time": "2023-06-03T07:33:22.363Z"
   },
   {
    "duration": 43,
    "start_time": "2023-06-03T07:33:22.368Z"
   },
   {
    "duration": 9,
    "start_time": "2023-06-03T07:33:22.413Z"
   },
   {
    "duration": 480760,
    "start_time": "2023-06-03T07:33:22.424Z"
   },
   {
    "duration": 4,
    "start_time": "2023-06-03T07:41:23.185Z"
   },
   {
    "duration": 13,
    "start_time": "2023-06-03T07:41:23.191Z"
   },
   {
    "duration": 6,
    "start_time": "2023-06-03T07:41:23.206Z"
   },
   {
    "duration": 118419,
    "start_time": "2023-06-03T07:41:23.213Z"
   },
   {
    "duration": 2,
    "start_time": "2023-06-03T07:43:21.634Z"
   },
   {
    "duration": 14,
    "start_time": "2023-06-03T07:43:21.638Z"
   },
   {
    "duration": 45954,
    "start_time": "2023-06-03T07:43:21.653Z"
   },
   {
    "duration": 2,
    "start_time": "2023-06-03T07:44:07.609Z"
   },
   {
    "duration": 15,
    "start_time": "2023-06-03T07:44:07.693Z"
   },
   {
    "duration": 976868,
    "start_time": "2023-06-03T07:46:19.600Z"
   },
   {
    "duration": 4060,
    "start_time": "2023-06-03T08:51:42.458Z"
   },
   {
    "duration": 1327,
    "start_time": "2023-06-03T08:51:46.519Z"
   },
   {
    "duration": 9,
    "start_time": "2023-06-03T08:51:47.847Z"
   },
   {
    "duration": 48,
    "start_time": "2023-06-03T08:51:47.858Z"
   },
   {
    "duration": 15,
    "start_time": "2023-06-03T08:51:47.908Z"
   },
   {
    "duration": 16,
    "start_time": "2023-06-03T08:51:47.925Z"
   },
   {
    "duration": 1662,
    "start_time": "2023-06-03T08:51:47.943Z"
   },
   {
    "duration": 9,
    "start_time": "2023-06-03T08:51:49.609Z"
   },
   {
    "duration": 13,
    "start_time": "2023-06-03T08:51:49.619Z"
   },
   {
    "duration": 5990,
    "start_time": "2023-06-03T08:51:49.633Z"
   },
   {
    "duration": 898,
    "start_time": "2023-06-03T08:51:55.625Z"
   },
   {
    "duration": 131,
    "start_time": "2023-06-03T08:51:56.524Z"
   },
   {
    "duration": 3,
    "start_time": "2023-06-03T08:51:56.656Z"
   },
   {
    "duration": 47,
    "start_time": "2023-06-03T08:51:56.661Z"
   },
   {
    "duration": 131,
    "start_time": "2023-06-03T08:51:56.709Z"
   },
   {
    "duration": 6238,
    "start_time": "2023-06-03T08:51:56.841Z"
   },
   {
    "duration": 20,
    "start_time": "2023-06-03T08:52:03.080Z"
   },
   {
    "duration": 501202,
    "start_time": "2023-06-03T08:52:03.108Z"
   },
   {
    "duration": 11,
    "start_time": "2023-06-03T09:00:24.319Z"
   },
   {
    "duration": 21,
    "start_time": "2023-06-03T09:00:24.385Z"
   },
   {
    "duration": 3208225,
    "start_time": "2023-06-03T09:00:24.427Z"
   },
   {
    "duration": 1010088,
    "start_time": "2023-06-03T09:53:52.654Z"
   },
   {
    "duration": 2,
    "start_time": "2023-06-03T10:10:42.744Z"
   },
   {
    "duration": 25,
    "start_time": "2023-06-03T10:10:42.747Z"
   },
   {
    "duration": 51971,
    "start_time": "2023-06-03T10:10:42.773Z"
   },
   {
    "duration": 56,
    "start_time": "2023-06-03T16:29:03.530Z"
   },
   {
    "duration": 2981,
    "start_time": "2023-06-03T16:29:14.019Z"
   },
   {
    "duration": 2341,
    "start_time": "2023-06-03T16:29:17.025Z"
   },
   {
    "duration": 11,
    "start_time": "2023-06-03T16:29:20.328Z"
   },
   {
    "duration": 32,
    "start_time": "2023-06-03T16:29:23.682Z"
   },
   {
    "duration": 10,
    "start_time": "2023-06-03T16:30:43.724Z"
   },
   {
    "duration": 9,
    "start_time": "2023-06-03T16:30:44.700Z"
   },
   {
    "duration": 2,
    "start_time": "2023-06-03T16:33:30.413Z"
   },
   {
    "duration": 4,
    "start_time": "2023-06-03T16:37:17.200Z"
   },
   {
    "duration": 4,
    "start_time": "2023-06-03T16:39:07.103Z"
   },
   {
    "duration": 3,
    "start_time": "2023-06-03T16:39:11.428Z"
   },
   {
    "duration": 4,
    "start_time": "2023-06-03T16:39:12.209Z"
   },
   {
    "duration": 275252,
    "start_time": "2023-06-03T16:39:19.598Z"
   },
   {
    "duration": 12,
    "start_time": "2023-06-03T17:47:16.470Z"
   },
   {
    "duration": 7,
    "start_time": "2023-06-03T17:49:24.572Z"
   },
   {
    "duration": 408,
    "start_time": "2023-06-03T18:30:10.718Z"
   },
   {
    "duration": 6,
    "start_time": "2023-06-03T19:07:25.374Z"
   },
   {
    "duration": 1742,
    "start_time": "2023-06-03T19:07:28.598Z"
   },
   {
    "duration": 8,
    "start_time": "2023-06-03T19:07:30.342Z"
   },
   {
    "duration": 33,
    "start_time": "2023-06-03T19:07:30.688Z"
   },
   {
    "duration": 12,
    "start_time": "2023-06-03T19:07:40.376Z"
   },
   {
    "duration": 11,
    "start_time": "2023-06-03T19:07:42.137Z"
   },
   {
    "duration": 2,
    "start_time": "2023-06-03T19:07:43.917Z"
   },
   {
    "duration": 3,
    "start_time": "2023-06-03T19:07:47.917Z"
   },
   {
    "duration": 2,
    "start_time": "2023-06-03T19:07:52.757Z"
   },
   {
    "duration": 4,
    "start_time": "2023-06-03T19:07:53.356Z"
   },
   {
    "duration": 2,
    "start_time": "2023-06-03T19:07:54.838Z"
   },
   {
    "duration": 12,
    "start_time": "2023-06-03T19:07:56.157Z"
   },
   {
    "duration": 6,
    "start_time": "2023-06-03T19:07:59.286Z"
   },
   {
    "duration": 5,
    "start_time": "2023-06-03T19:08:02.838Z"
   },
   {
    "duration": 4,
    "start_time": "2023-06-03T19:08:03.638Z"
   },
   {
    "duration": 5,
    "start_time": "2023-06-03T19:08:04.358Z"
   },
   {
    "duration": 631,
    "start_time": "2023-06-03T19:08:05.973Z"
   },
   {
    "duration": 4,
    "start_time": "2023-06-03T19:08:11.076Z"
   },
   {
    "duration": 148,
    "start_time": "2023-06-03T19:08:12.567Z"
   },
   {
    "duration": 3,
    "start_time": "2023-06-03T19:11:39.897Z"
   },
   {
    "duration": 364107,
    "start_time": "2023-06-03T19:11:54.099Z"
   },
   {
    "duration": 12,
    "start_time": "2023-06-03T19:18:03.357Z"
   },
   {
    "duration": 13,
    "start_time": "2023-06-03T19:18:15.933Z"
   },
   {
    "duration": 1165,
    "start_time": "2023-06-03T19:18:33.813Z"
   },
   {
    "duration": 9,
    "start_time": "2023-06-03T19:26:56.265Z"
   },
   {
    "duration": 6100,
    "start_time": "2023-06-03T19:27:30.977Z"
   },
   {
    "duration": 7,
    "start_time": "2023-06-03T19:27:39.049Z"
   },
   {
    "duration": 262,
    "start_time": "2023-06-03T19:33:41.795Z"
   },
   {
    "duration": 3998,
    "start_time": "2023-06-03T19:36:29.120Z"
   },
   {
    "duration": 12,
    "start_time": "2023-06-03T19:36:56.020Z"
   },
   {
    "duration": 4,
    "start_time": "2023-06-03T19:37:40.480Z"
   },
   {
    "duration": 3,
    "start_time": "2023-06-03T19:39:01.390Z"
   },
   {
    "duration": 12,
    "start_time": "2023-06-03T19:40:42.210Z"
   },
   {
    "duration": 9,
    "start_time": "2023-06-03T19:40:42.660Z"
   },
   {
    "duration": 3,
    "start_time": "2023-06-03T19:40:43.629Z"
   },
   {
    "duration": 4,
    "start_time": "2023-06-03T19:40:45.810Z"
   },
   {
    "duration": 3,
    "start_time": "2023-06-03T19:40:49.751Z"
   },
   {
    "duration": 439,
    "start_time": "2023-06-03T19:40:50.240Z"
   },
   {
    "duration": 4,
    "start_time": "2023-06-03T19:40:51.587Z"
   },
   {
    "duration": 2,
    "start_time": "2023-06-03T19:40:52.350Z"
   },
   {
    "duration": 9,
    "start_time": "2023-06-03T19:40:53.109Z"
   },
   {
    "duration": 4,
    "start_time": "2023-06-03T19:40:56.766Z"
   },
   {
    "duration": 4,
    "start_time": "2023-06-03T19:40:57.748Z"
   },
   {
    "duration": 4,
    "start_time": "2023-06-03T19:40:58.558Z"
   },
   {
    "duration": 318,
    "start_time": "2023-06-03T19:41:01.521Z"
   },
   {
    "duration": 6,
    "start_time": "2023-06-03T19:41:04.477Z"
   },
   {
    "duration": 12,
    "start_time": "2023-06-03T19:41:43.636Z"
   },
   {
    "duration": 1422,
    "start_time": "2023-06-03T19:42:03.100Z"
   },
   {
    "duration": 14,
    "start_time": "2023-06-03T19:43:02.911Z"
   },
   {
    "duration": 6,
    "start_time": "2023-06-03T19:43:13.130Z"
   },
   {
    "duration": 13,
    "start_time": "2023-06-03T19:43:23.810Z"
   },
   {
    "duration": 13,
    "start_time": "2023-06-03T19:43:38.917Z"
   },
   {
    "duration": 38,
    "start_time": "2023-06-03T19:43:45.641Z"
   },
   {
    "duration": 1259,
    "start_time": "2023-06-03T19:47:44.460Z"
   },
   {
    "duration": 5560,
    "start_time": "2023-06-04T07:28:30.009Z"
   },
   {
    "duration": 2155,
    "start_time": "2023-06-04T07:28:42.289Z"
   },
   {
    "duration": 11,
    "start_time": "2023-06-04T07:28:45.534Z"
   },
   {
    "duration": 30,
    "start_time": "2023-06-04T07:28:50.202Z"
   },
   {
    "duration": 10,
    "start_time": "2023-06-04T07:28:58.749Z"
   },
   {
    "duration": 9,
    "start_time": "2023-06-04T07:29:00.844Z"
   },
   {
    "duration": 2,
    "start_time": "2023-06-04T07:29:02.140Z"
   },
   {
    "duration": 2,
    "start_time": "2023-06-04T07:29:12.609Z"
   },
   {
    "duration": 4,
    "start_time": "2023-06-04T07:29:13.935Z"
   },
   {
    "duration": 3,
    "start_time": "2023-06-04T07:29:16.714Z"
   },
   {
    "duration": 2,
    "start_time": "2023-06-04T07:29:17.241Z"
   },
   {
    "duration": 2,
    "start_time": "2023-06-04T07:29:17.662Z"
   },
   {
    "duration": 2,
    "start_time": "2023-06-04T07:29:18.394Z"
   },
   {
    "duration": 2,
    "start_time": "2023-06-04T07:29:21.017Z"
   },
   {
    "duration": 3,
    "start_time": "2023-06-04T07:29:21.544Z"
   },
   {
    "duration": 2,
    "start_time": "2023-06-04T07:29:22.324Z"
   },
   {
    "duration": 3,
    "start_time": "2023-06-04T07:29:22.799Z"
   },
   {
    "duration": 2,
    "start_time": "2023-06-04T07:29:23.644Z"
   },
   {
    "duration": 171,
    "start_time": "2023-06-04T07:29:25.505Z"
   },
   {
    "duration": 4,
    "start_time": "2023-06-04T07:29:39.064Z"
   },
   {
    "duration": 185,
    "start_time": "2023-06-04T07:29:42.460Z"
   },
   {
    "duration": 266897,
    "start_time": "2023-06-04T07:29:53.723Z"
   },
   {
    "duration": 1193,
    "start_time": "2023-06-04T07:34:38.256Z"
   },
   {
    "duration": 67,
    "start_time": "2023-06-04T07:35:54.874Z"
   },
   {
    "duration": 2702,
    "start_time": "2023-06-04T07:36:13.689Z"
   },
   {
    "duration": 788,
    "start_time": "2023-06-04T07:36:16.393Z"
   },
   {
    "duration": 11,
    "start_time": "2023-06-04T07:36:17.182Z"
   },
   {
    "duration": 46,
    "start_time": "2023-06-04T07:36:17.195Z"
   },
   {
    "duration": 40,
    "start_time": "2023-06-04T07:36:17.243Z"
   },
   {
    "duration": 26,
    "start_time": "2023-06-04T07:36:17.285Z"
   },
   {
    "duration": 34,
    "start_time": "2023-06-04T07:36:17.312Z"
   },
   {
    "duration": 14,
    "start_time": "2023-06-04T07:36:17.348Z"
   },
   {
    "duration": 49,
    "start_time": "2023-06-04T07:36:17.363Z"
   },
   {
    "duration": 25,
    "start_time": "2023-06-04T07:36:17.416Z"
   },
   {
    "duration": 29,
    "start_time": "2023-06-04T07:36:17.443Z"
   },
   {
    "duration": 31,
    "start_time": "2023-06-04T07:36:17.474Z"
   },
   {
    "duration": 47,
    "start_time": "2023-06-04T07:36:17.507Z"
   },
   {
    "duration": 65,
    "start_time": "2023-06-04T07:36:17.555Z"
   },
   {
    "duration": 34,
    "start_time": "2023-06-04T07:36:17.622Z"
   },
   {
    "duration": 42,
    "start_time": "2023-06-04T07:36:17.658Z"
   },
   {
    "duration": 16,
    "start_time": "2023-06-04T07:36:17.701Z"
   },
   {
    "duration": 41,
    "start_time": "2023-06-04T07:36:17.719Z"
   },
   {
    "duration": 280600,
    "start_time": "2023-06-04T07:36:17.761Z"
   },
   {
    "duration": 88,
    "start_time": "2023-06-04T07:40:58.363Z"
   },
   {
    "duration": 176,
    "start_time": "2023-06-04T07:40:58.453Z"
   },
   {
    "duration": 3,
    "start_time": "2023-06-04T07:40:58.631Z"
   },
   {
    "duration": 73,
    "start_time": "2023-06-04T07:40:58.638Z"
   },
   {
    "duration": 154,
    "start_time": "2023-06-04T07:40:58.717Z"
   },
   {
    "duration": 7234,
    "start_time": "2023-06-04T07:40:58.872Z"
   },
   {
    "duration": 5,
    "start_time": "2023-06-04T07:41:06.107Z"
   },
   {
    "duration": 517106,
    "start_time": "2023-06-04T07:41:06.124Z"
   },
   {
    "duration": 3,
    "start_time": "2023-06-04T07:49:43.232Z"
   },
   {
    "duration": 22,
    "start_time": "2023-06-04T07:49:43.236Z"
   },
   {
    "duration": 3481202,
    "start_time": "2023-06-04T07:49:43.259Z"
   },
   {
    "duration": 1023713,
    "start_time": "2023-06-04T08:47:44.462Z"
   },
   {
    "duration": 2,
    "start_time": "2023-06-04T09:04:48.176Z"
   },
   {
    "duration": 22,
    "start_time": "2023-06-04T09:04:48.179Z"
   },
   {
    "duration": 54434,
    "start_time": "2023-06-04T09:04:48.203Z"
   },
   {
    "duration": 3,
    "start_time": "2023-06-04T11:25:00.906Z"
   },
   {
    "duration": 228,
    "start_time": "2023-06-04T11:31:27.265Z"
   },
   {
    "duration": 460,
    "start_time": "2023-06-04T11:31:28.545Z"
   },
   {
    "duration": 3,
    "start_time": "2023-06-04T11:31:30.369Z"
   },
   {
    "duration": 3,
    "start_time": "2023-06-04T11:31:32.522Z"
   },
   {
    "duration": 3,
    "start_time": "2023-06-04T11:31:33.453Z"
   },
   {
    "duration": 3,
    "start_time": "2023-06-04T11:31:34.159Z"
   },
   {
    "duration": 76,
    "start_time": "2023-06-04T11:34:22.139Z"
   },
   {
    "duration": 92,
    "start_time": "2023-06-04T11:34:50.956Z"
   },
   {
    "duration": 4,
    "start_time": "2023-06-04T11:35:05.072Z"
   },
   {
    "duration": 5,
    "start_time": "2023-06-04T11:35:07.616Z"
   },
   {
    "duration": 4,
    "start_time": "2023-06-04T11:35:15.963Z"
   },
   {
    "duration": 8,
    "start_time": "2023-06-04T11:35:20.985Z"
   },
   {
    "duration": 4,
    "start_time": "2023-06-04T11:35:50.963Z"
   },
   {
    "duration": 59,
    "start_time": "2023-06-04T11:35:52.802Z"
   },
   {
    "duration": 164,
    "start_time": "2023-06-04T11:37:54.084Z"
   },
   {
    "duration": 42596,
    "start_time": "2023-06-04T11:38:47.762Z"
   },
   {
    "duration": 89,
    "start_time": "2023-06-04T11:41:36.519Z"
   },
   {
    "duration": 6,
    "start_time": "2023-06-04T11:43:05.329Z"
   },
   {
    "duration": 1290,
    "start_time": "2023-06-04T11:43:41.019Z"
   },
   {
    "duration": 13,
    "start_time": "2023-06-04T11:43:53.037Z"
   },
   {
    "duration": 24,
    "start_time": "2023-06-04T11:43:58.874Z"
   },
   {
    "duration": 52,
    "start_time": "2023-06-04T11:44:19.237Z"
   },
   {
    "duration": 10,
    "start_time": "2023-06-04T11:44:40.377Z"
   },
   {
    "duration": 20,
    "start_time": "2023-06-04T11:45:42.322Z"
   },
   {
    "duration": 10,
    "start_time": "2023-06-04T11:45:55.854Z"
   },
   {
    "duration": 10,
    "start_time": "2023-06-04T11:48:26.175Z"
   },
   {
    "duration": 3,
    "start_time": "2023-06-04T11:48:56.277Z"
   },
   {
    "duration": 3,
    "start_time": "2023-06-04T11:48:57.294Z"
   },
   {
    "duration": 3,
    "start_time": "2023-06-04T11:48:58.421Z"
   },
   {
    "duration": 6,
    "start_time": "2023-06-04T11:49:00.077Z"
   },
   {
    "duration": 13,
    "start_time": "2023-06-04T11:49:01.718Z"
   },
   {
    "duration": 44,
    "start_time": "2023-06-04T11:49:22.146Z"
   },
   {
    "duration": 7,
    "start_time": "2023-06-04T11:50:11.397Z"
   },
   {
    "duration": 7306,
    "start_time": "2023-06-04T11:54:39.921Z"
   },
   {
    "duration": 11,
    "start_time": "2023-06-04T11:55:26.554Z"
   },
   {
    "duration": 3,
    "start_time": "2023-06-04T12:02:05.388Z"
   },
   {
    "duration": 4,
    "start_time": "2023-06-04T12:02:49.653Z"
   },
   {
    "duration": 6,
    "start_time": "2023-06-04T12:02:51.873Z"
   },
   {
    "duration": 408,
    "start_time": "2023-06-04T12:03:32.666Z"
   },
   {
    "duration": 2731,
    "start_time": "2023-06-04T12:03:49.856Z"
   },
   {
    "duration": 816,
    "start_time": "2023-06-04T12:03:52.589Z"
   },
   {
    "duration": 10,
    "start_time": "2023-06-04T12:03:53.407Z"
   },
   {
    "duration": 36,
    "start_time": "2023-06-04T12:03:53.425Z"
   },
   {
    "duration": 17,
    "start_time": "2023-06-04T12:03:53.463Z"
   },
   {
    "duration": 20,
    "start_time": "2023-06-04T12:03:53.481Z"
   },
   {
    "duration": 10,
    "start_time": "2023-06-04T12:03:53.503Z"
   },
   {
    "duration": 25,
    "start_time": "2023-06-04T12:03:53.515Z"
   },
   {
    "duration": 14,
    "start_time": "2023-06-04T12:03:53.541Z"
   },
   {
    "duration": 182,
    "start_time": "2023-06-04T12:03:53.559Z"
   },
   {
    "duration": 9,
    "start_time": "2023-06-04T12:03:53.743Z"
   },
   {
    "duration": 2,
    "start_time": "2023-06-04T12:03:53.754Z"
   },
   {
    "duration": 20,
    "start_time": "2023-06-04T12:03:53.758Z"
   },
   {
    "duration": 61,
    "start_time": "2023-06-04T12:03:53.780Z"
   },
   {
    "duration": 476,
    "start_time": "2023-06-04T12:03:53.842Z"
   },
   {
    "duration": 0,
    "start_time": "2023-06-04T12:03:54.321Z"
   },
   {
    "duration": 0,
    "start_time": "2023-06-04T12:03:54.322Z"
   },
   {
    "duration": 0,
    "start_time": "2023-06-04T12:03:54.324Z"
   },
   {
    "duration": 0,
    "start_time": "2023-06-04T12:03:54.325Z"
   },
   {
    "duration": 0,
    "start_time": "2023-06-04T12:03:54.326Z"
   },
   {
    "duration": 0,
    "start_time": "2023-06-04T12:03:54.327Z"
   },
   {
    "duration": 0,
    "start_time": "2023-06-04T12:03:54.328Z"
   },
   {
    "duration": 0,
    "start_time": "2023-06-04T12:03:54.329Z"
   },
   {
    "duration": 0,
    "start_time": "2023-06-04T12:03:54.330Z"
   },
   {
    "duration": 0,
    "start_time": "2023-06-04T12:03:54.331Z"
   },
   {
    "duration": 0,
    "start_time": "2023-06-04T12:03:54.332Z"
   },
   {
    "duration": 0,
    "start_time": "2023-06-04T12:03:54.333Z"
   },
   {
    "duration": 0,
    "start_time": "2023-06-04T12:03:54.334Z"
   },
   {
    "duration": 0,
    "start_time": "2023-06-04T12:03:54.335Z"
   },
   {
    "duration": 0,
    "start_time": "2023-06-04T12:03:54.336Z"
   },
   {
    "duration": 0,
    "start_time": "2023-06-04T12:03:54.337Z"
   },
   {
    "duration": 2,
    "start_time": "2023-06-04T12:13:19.714Z"
   },
   {
    "duration": 349,
    "start_time": "2023-06-04T12:13:20.744Z"
   },
   {
    "duration": 445,
    "start_time": "2023-06-04T12:13:52.242Z"
   },
   {
    "duration": 331,
    "start_time": "2023-06-04T12:14:13.623Z"
   },
   {
    "duration": 489,
    "start_time": "2023-06-04T12:14:31.689Z"
   },
   {
    "duration": 4,
    "start_time": "2023-06-04T12:14:42.453Z"
   },
   {
    "duration": 3,
    "start_time": "2023-06-04T12:14:43.503Z"
   },
   {
    "duration": 11,
    "start_time": "2023-06-04T12:18:07.114Z"
   },
   {
    "duration": 3,
    "start_time": "2023-06-04T12:18:12.051Z"
   },
   {
    "duration": 18,
    "start_time": "2023-06-04T12:18:13.146Z"
   },
   {
    "duration": 18,
    "start_time": "2023-06-04T12:18:39.735Z"
   },
   {
    "duration": 18,
    "start_time": "2023-06-04T12:19:01.063Z"
   },
   {
    "duration": 4233,
    "start_time": "2023-06-04T12:20:38.045Z"
   },
   {
    "duration": 61,
    "start_time": "2023-06-04T12:20:46.745Z"
   },
   {
    "duration": 4,
    "start_time": "2023-06-04T12:26:23.765Z"
   },
   {
    "duration": 3,
    "start_time": "2023-06-04T12:26:39.913Z"
   },
   {
    "duration": 4,
    "start_time": "2023-06-04T12:26:40.617Z"
   },
   {
    "duration": 5,
    "start_time": "2023-06-04T12:29:37.797Z"
   },
   {
    "duration": 792,
    "start_time": "2023-06-04T12:29:40.174Z"
   },
   {
    "duration": 7,
    "start_time": "2023-06-04T12:29:40.969Z"
   },
   {
    "duration": 36,
    "start_time": "2023-06-04T12:29:43.114Z"
   },
   {
    "duration": 11,
    "start_time": "2023-06-04T12:29:49.793Z"
   },
   {
    "duration": 9,
    "start_time": "2023-06-04T12:29:51.258Z"
   },
   {
    "duration": 2,
    "start_time": "2023-06-04T12:29:59.424Z"
   },
   {
    "duration": 4,
    "start_time": "2023-06-04T12:30:01.049Z"
   },
   {
    "duration": 2,
    "start_time": "2023-06-04T12:30:03.248Z"
   },
   {
    "duration": 3,
    "start_time": "2023-06-04T12:30:04.191Z"
   },
   {
    "duration": 3,
    "start_time": "2023-06-04T12:30:05.440Z"
   },
   {
    "duration": 2,
    "start_time": "2023-06-04T12:30:08.998Z"
   },
   {
    "duration": 6,
    "start_time": "2023-06-04T12:30:10.688Z"
   },
   {
    "duration": 12,
    "start_time": "2023-06-04T12:31:11.697Z"
   },
   {
    "duration": 11,
    "start_time": "2023-06-04T12:31:24.280Z"
   },
   {
    "duration": 80,
    "start_time": "2023-06-04T12:31:49.621Z"
   },
   {
    "duration": 3,
    "start_time": "2023-06-04T12:31:56.316Z"
   },
   {
    "duration": 9,
    "start_time": "2023-06-04T12:31:57.686Z"
   },
   {
    "duration": 4298,
    "start_time": "2023-06-04T12:32:29.932Z"
   },
   {
    "duration": 9,
    "start_time": "2023-06-04T12:32:35.177Z"
   },
   {
    "duration": 63,
    "start_time": "2023-06-04T12:32:52.389Z"
   },
   {
    "duration": 24,
    "start_time": "2023-06-04T12:33:41.067Z"
   },
   {
    "duration": 53,
    "start_time": "2023-06-04T12:33:56.076Z"
   },
   {
    "duration": 237,
    "start_time": "2023-06-04T12:41:50.782Z"
   },
   {
    "duration": 83,
    "start_time": "2023-06-04T12:42:40.059Z"
   },
   {
    "duration": 15,
    "start_time": "2023-06-04T12:43:09.759Z"
   },
   {
    "duration": 12,
    "start_time": "2023-06-04T12:44:21.491Z"
   },
   {
    "duration": 24,
    "start_time": "2023-06-04T12:45:13.149Z"
   },
   {
    "duration": 10,
    "start_time": "2023-06-04T12:45:26.397Z"
   },
   {
    "duration": 2622,
    "start_time": "2023-06-04T12:46:07.775Z"
   },
   {
    "duration": 844,
    "start_time": "2023-06-04T12:46:10.399Z"
   },
   {
    "duration": 11,
    "start_time": "2023-06-04T12:46:11.245Z"
   },
   {
    "duration": 71,
    "start_time": "2023-06-04T12:46:11.258Z"
   },
   {
    "duration": 63,
    "start_time": "2023-06-04T12:46:11.332Z"
   },
   {
    "duration": 52,
    "start_time": "2023-06-04T12:46:11.397Z"
   },
   {
    "duration": 33,
    "start_time": "2023-06-04T12:46:11.451Z"
   },
   {
    "duration": 25,
    "start_time": "2023-06-04T12:46:11.486Z"
   },
   {
    "duration": 26,
    "start_time": "2023-06-04T12:46:11.513Z"
   },
   {
    "duration": 242,
    "start_time": "2023-06-04T12:46:11.542Z"
   },
   {
    "duration": 9,
    "start_time": "2023-06-04T12:46:11.785Z"
   },
   {
    "duration": 38,
    "start_time": "2023-06-04T12:46:11.796Z"
   },
   {
    "duration": 68,
    "start_time": "2023-06-04T12:46:11.836Z"
   },
   {
    "duration": 3,
    "start_time": "2023-06-04T12:46:11.906Z"
   },
   {
    "duration": 4164,
    "start_time": "2023-06-04T12:46:11.910Z"
   },
   {
    "duration": 1208,
    "start_time": "2023-06-04T12:46:16.076Z"
   },
   {
    "duration": 69,
    "start_time": "2023-06-04T12:46:17.286Z"
   },
   {
    "duration": 289,
    "start_time": "2023-06-04T12:46:17.356Z"
   },
   {
    "duration": 3,
    "start_time": "2023-06-04T12:46:17.646Z"
   },
   {
    "duration": 57,
    "start_time": "2023-06-04T12:46:17.650Z"
   },
   {
    "duration": 4,
    "start_time": "2023-06-04T12:46:17.708Z"
   },
   {
    "duration": 6536,
    "start_time": "2023-06-04T12:46:17.714Z"
   },
   {
    "duration": 6,
    "start_time": "2023-06-04T12:46:24.252Z"
   },
   {
    "duration": 518771,
    "start_time": "2023-06-04T12:46:24.259Z"
   },
   {
    "duration": 91,
    "start_time": "2023-06-04T12:55:03.032Z"
   },
   {
    "duration": 30,
    "start_time": "2023-06-04T12:55:03.126Z"
   },
   {
    "duration": 3600669,
    "start_time": "2023-06-04T12:55:03.157Z"
   },
   {
    "duration": 1027035,
    "start_time": "2023-06-04T13:55:03.829Z"
   },
   {
    "duration": 3,
    "start_time": "2023-06-04T14:12:10.865Z"
   },
   {
    "duration": 21,
    "start_time": "2023-06-04T14:12:10.870Z"
   },
   {
    "duration": 48038,
    "start_time": "2023-06-04T14:12:10.893Z"
   },
   {
    "duration": 3330,
    "start_time": "2023-06-05T08:57:46.970Z"
   },
   {
    "duration": 2628,
    "start_time": "2023-06-05T08:57:50.302Z"
   },
   {
    "duration": 14,
    "start_time": "2023-06-05T08:57:55.354Z"
   },
   {
    "duration": 24,
    "start_time": "2023-06-05T08:57:57.166Z"
   },
   {
    "duration": 15,
    "start_time": "2023-06-05T08:58:01.813Z"
   },
   {
    "duration": 9,
    "start_time": "2023-06-05T08:58:02.500Z"
   },
   {
    "duration": 2,
    "start_time": "2023-06-05T08:58:04.566Z"
   },
   {
    "duration": 4,
    "start_time": "2023-06-05T08:58:07.227Z"
   },
   {
    "duration": 2,
    "start_time": "2023-06-05T08:58:10.863Z"
   },
   {
    "duration": 172,
    "start_time": "2023-06-05T08:58:11.697Z"
   },
   {
    "duration": 316,
    "start_time": "2023-06-05T08:58:12.331Z"
   },
   {
    "duration": 3,
    "start_time": "2023-06-05T08:58:14.158Z"
   },
   {
    "duration": 188,
    "start_time": "2023-06-05T08:58:16.079Z"
   },
   {
    "duration": 3,
    "start_time": "2023-06-05T08:58:18.129Z"
   },
   {
    "duration": 4222,
    "start_time": "2023-06-05T08:58:23.667Z"
   },
   {
    "duration": 1439,
    "start_time": "2023-06-05T08:58:46.374Z"
   },
   {
    "duration": 96,
    "start_time": "2023-06-05T09:14:44.051Z"
   },
   {
    "duration": 193,
    "start_time": "2023-06-05T09:14:56.758Z"
   },
   {
    "duration": 17,
    "start_time": "2023-06-05T09:15:55.793Z"
   },
   {
    "duration": 4,
    "start_time": "2023-06-05T10:10:51.447Z"
   },
   {
    "duration": 1472247,
    "start_time": "2023-06-05T10:11:18.327Z"
   },
   {
    "duration": 51,
    "start_time": "2023-06-05T10:46:17.836Z"
   },
   {
    "duration": 3489,
    "start_time": "2023-06-05T10:46:26.074Z"
   },
   {
    "duration": 2333,
    "start_time": "2023-06-05T10:46:31.753Z"
   },
   {
    "duration": 11,
    "start_time": "2023-06-05T10:46:34.710Z"
   },
   {
    "duration": 26,
    "start_time": "2023-06-05T10:46:35.505Z"
   },
   {
    "duration": 8,
    "start_time": "2023-06-05T10:46:39.114Z"
   },
   {
    "duration": 9,
    "start_time": "2023-06-05T10:46:39.926Z"
   },
   {
    "duration": 2,
    "start_time": "2023-06-05T10:46:42.833Z"
   },
   {
    "duration": 4,
    "start_time": "2023-06-05T10:46:48.241Z"
   },
   {
    "duration": 2,
    "start_time": "2023-06-05T10:46:53.506Z"
   },
   {
    "duration": 209,
    "start_time": "2023-06-05T10:46:54.044Z"
   },
   {
    "duration": 175,
    "start_time": "2023-06-05T10:46:56.234Z"
   },
   {
    "duration": 3,
    "start_time": "2023-06-05T10:46:57.226Z"
   },
   {
    "duration": 183,
    "start_time": "2023-06-05T10:46:57.890Z"
   },
   {
    "duration": 3,
    "start_time": "2023-06-05T10:46:59.682Z"
   },
   {
    "duration": 4112,
    "start_time": "2023-06-05T10:47:01.682Z"
   },
   {
    "duration": 7,
    "start_time": "2023-06-05T10:47:06.859Z"
   },
   {
    "duration": 4,
    "start_time": "2023-06-05T10:47:08.890Z"
   },
   {
    "duration": 20,
    "start_time": "2023-06-05T11:11:45.899Z"
   },
   {
    "duration": 4,
    "start_time": "2023-06-05T11:20:59.004Z"
   },
   {
    "duration": 3,
    "start_time": "2023-06-05T11:20:59.891Z"
   },
   {
    "duration": 6,
    "start_time": "2023-06-05T11:21:00.474Z"
   },
   {
    "duration": 3,
    "start_time": "2023-06-05T11:21:01.818Z"
   },
   {
    "duration": 3,
    "start_time": "2023-06-05T11:21:03.483Z"
   },
   {
    "duration": 674,
    "start_time": "2023-06-05T11:21:04.625Z"
   },
   {
    "duration": 3,
    "start_time": "2023-06-05T11:21:35.003Z"
   },
   {
    "duration": 368,
    "start_time": "2023-06-05T11:21:35.987Z"
   },
   {
    "duration": 3,
    "start_time": "2023-06-05T11:22:00.972Z"
   },
   {
    "duration": 3,
    "start_time": "2023-06-05T11:22:04.226Z"
   },
   {
    "duration": 3,
    "start_time": "2023-06-05T11:23:34.911Z"
   },
   {
    "duration": 5,
    "start_time": "2023-06-05T11:23:35.517Z"
   },
   {
    "duration": 2,
    "start_time": "2023-06-05T11:23:36.117Z"
   },
   {
    "duration": 5,
    "start_time": "2023-06-05T11:23:36.925Z"
   },
   {
    "duration": 2,
    "start_time": "2023-06-05T11:23:38.189Z"
   },
   {
    "duration": 15,
    "start_time": "2023-06-05T11:23:40.621Z"
   },
   {
    "duration": 11,
    "start_time": "2023-06-05T11:23:47.886Z"
   },
   {
    "duration": 12,
    "start_time": "2023-06-05T11:23:50.429Z"
   },
   {
    "duration": 3,
    "start_time": "2023-06-05T11:24:03.629Z"
   },
   {
    "duration": 3,
    "start_time": "2023-06-05T11:24:05.285Z"
   },
   {
    "duration": 63593,
    "start_time": "2023-06-05T11:24:07.365Z"
   },
   {
    "duration": 8,
    "start_time": "2023-06-05T11:26:18.527Z"
   },
   {
    "duration": 2712,
    "start_time": "2023-06-05T11:28:56.723Z"
   },
   {
    "duration": 850,
    "start_time": "2023-06-05T11:28:59.436Z"
   },
   {
    "duration": 10,
    "start_time": "2023-06-05T11:29:00.288Z"
   },
   {
    "duration": 56,
    "start_time": "2023-06-05T11:29:00.300Z"
   },
   {
    "duration": 34,
    "start_time": "2023-06-05T11:29:00.358Z"
   },
   {
    "duration": 39,
    "start_time": "2023-06-05T11:29:00.394Z"
   },
   {
    "duration": 23,
    "start_time": "2023-06-05T11:29:00.435Z"
   },
   {
    "duration": 31,
    "start_time": "2023-06-05T11:29:00.460Z"
   },
   {
    "duration": 42,
    "start_time": "2023-06-05T11:29:00.493Z"
   },
   {
    "duration": 15,
    "start_time": "2023-06-05T11:29:00.540Z"
   },
   {
    "duration": 169,
    "start_time": "2023-06-05T11:29:00.557Z"
   },
   {
    "duration": 3,
    "start_time": "2023-06-05T11:29:00.728Z"
   },
   {
    "duration": 95,
    "start_time": "2023-06-05T11:29:00.732Z"
   },
   {
    "duration": 5,
    "start_time": "2023-06-05T11:29:00.828Z"
   },
   {
    "duration": 29,
    "start_time": "2023-06-05T11:29:00.834Z"
   },
   {
    "duration": 40,
    "start_time": "2023-06-05T11:29:00.865Z"
   },
   {
    "duration": 69642,
    "start_time": "2023-06-05T11:29:00.907Z"
   },
   {
    "duration": 15,
    "start_time": "2023-06-05T11:30:10.551Z"
   },
   {
    "duration": 71984,
    "start_time": "2023-06-05T11:30:10.568Z"
   },
   {
    "duration": 3,
    "start_time": "2023-06-05T11:31:22.553Z"
   },
   {
    "duration": 281,
    "start_time": "2023-06-05T11:31:22.557Z"
   },
   {
    "duration": 3,
    "start_time": "2023-06-05T11:31:22.840Z"
   },
   {
    "duration": 32,
    "start_time": "2023-06-05T11:31:22.845Z"
   },
   {
    "duration": 4,
    "start_time": "2023-06-05T11:31:22.878Z"
   },
   {
    "duration": 4694,
    "start_time": "2023-06-05T11:31:22.884Z"
   },
   {
    "duration": 6,
    "start_time": "2023-06-05T11:31:27.580Z"
   },
   {
    "duration": 450445,
    "start_time": "2023-06-05T11:31:27.588Z"
   },
   {
    "duration": 3,
    "start_time": "2023-06-05T11:38:58.036Z"
   },
   {
    "duration": 13,
    "start_time": "2023-06-05T11:38:58.040Z"
   },
   {
    "duration": 3191059,
    "start_time": "2023-06-05T11:38:58.055Z"
   },
   {
    "duration": 1003854,
    "start_time": "2023-06-05T12:32:09.115Z"
   },
   {
    "duration": 2,
    "start_time": "2023-06-05T12:48:52.970Z"
   },
   {
    "duration": 10,
    "start_time": "2023-06-05T12:48:52.974Z"
   },
   {
    "duration": 47958,
    "start_time": "2023-06-05T12:48:52.988Z"
   },
   {
    "duration": 5425,
    "start_time": "2023-06-06T08:27:35.942Z"
   },
   {
    "duration": 3482,
    "start_time": "2023-06-06T08:27:48.983Z"
   },
   {
    "duration": 12,
    "start_time": "2023-06-06T08:27:53.329Z"
   },
   {
    "duration": 48,
    "start_time": "2023-06-06T08:27:54.234Z"
   },
   {
    "duration": 18,
    "start_time": "2023-06-06T08:27:58.898Z"
   },
   {
    "duration": 9,
    "start_time": "2023-06-06T08:28:00.020Z"
   },
   {
    "duration": 2,
    "start_time": "2023-06-06T08:28:03.115Z"
   },
   {
    "duration": 4,
    "start_time": "2023-06-06T08:28:08.325Z"
   },
   {
    "duration": 2,
    "start_time": "2023-06-06T08:28:13.228Z"
   },
   {
    "duration": 2,
    "start_time": "2023-06-06T08:28:13.685Z"
   },
   {
    "duration": 1071,
    "start_time": "2023-06-06T08:28:14.497Z"
   },
   {
    "duration": 3,
    "start_time": "2023-06-06T08:28:20.692Z"
   },
   {
    "duration": 305,
    "start_time": "2023-06-06T08:28:21.268Z"
   },
   {
    "duration": 3,
    "start_time": "2023-06-06T08:28:58.380Z"
   },
   {
    "duration": 4,
    "start_time": "2023-06-06T08:31:49.216Z"
   },
   {
    "duration": 2558,
    "start_time": "2023-06-06T08:31:51.076Z"
   },
   {
    "duration": 4,
    "start_time": "2023-06-06T08:32:04.318Z"
   },
   {
    "duration": 4,
    "start_time": "2023-06-06T08:32:05.191Z"
   },
   {
    "duration": 8,
    "start_time": "2023-06-06T08:32:06.175Z"
   },
   {
    "duration": 875342,
    "start_time": "2023-06-06T08:32:07.304Z"
   },
   {
    "duration": 8,
    "start_time": "2023-06-06T08:51:50.872Z"
   },
   {
    "duration": 2931,
    "start_time": "2023-06-06T09:04:06.958Z"
   },
   {
    "duration": 800,
    "start_time": "2023-06-06T09:04:09.891Z"
   },
   {
    "duration": 11,
    "start_time": "2023-06-06T09:04:10.693Z"
   },
   {
    "duration": 48,
    "start_time": "2023-06-06T09:04:10.705Z"
   },
   {
    "duration": 24,
    "start_time": "2023-06-06T09:04:10.756Z"
   },
   {
    "duration": 45,
    "start_time": "2023-06-06T09:04:10.781Z"
   },
   {
    "duration": 14,
    "start_time": "2023-06-06T09:04:10.828Z"
   },
   {
    "duration": 58,
    "start_time": "2023-06-06T09:04:10.843Z"
   },
   {
    "duration": 27,
    "start_time": "2023-06-06T09:04:10.902Z"
   },
   {
    "duration": 28,
    "start_time": "2023-06-06T09:04:10.930Z"
   },
   {
    "duration": 216,
    "start_time": "2023-06-06T09:04:10.959Z"
   },
   {
    "duration": 3,
    "start_time": "2023-06-06T09:04:11.176Z"
   },
   {
    "duration": 81,
    "start_time": "2023-06-06T09:04:11.180Z"
   },
   {
    "duration": 3,
    "start_time": "2023-06-06T09:04:11.264Z"
   },
   {
    "duration": 26,
    "start_time": "2023-06-06T09:04:11.268Z"
   },
   {
    "duration": 20,
    "start_time": "2023-06-06T09:04:11.296Z"
   },
   {
    "duration": 19,
    "start_time": "2023-06-06T09:04:11.317Z"
   },
   {
    "duration": 822280,
    "start_time": "2023-06-06T09:04:11.337Z"
   },
   {
    "duration": 11,
    "start_time": "2023-06-06T09:17:53.619Z"
   },
   {
    "duration": 874746,
    "start_time": "2023-06-06T09:17:53.632Z"
   },
   {
    "duration": 2,
    "start_time": "2023-06-06T09:32:28.380Z"
   },
   {
    "duration": 341,
    "start_time": "2023-06-06T09:32:28.384Z"
   },
   {
    "duration": 3,
    "start_time": "2023-06-06T09:32:28.727Z"
   },
   {
    "duration": 53,
    "start_time": "2023-06-06T09:32:28.732Z"
   },
   {
    "duration": 5,
    "start_time": "2023-06-06T09:32:28.787Z"
   },
   {
    "duration": 5580,
    "start_time": "2023-06-06T09:32:28.793Z"
   },
   {
    "duration": 6,
    "start_time": "2023-06-06T09:32:34.375Z"
   },
   {
    "duration": 516473,
    "start_time": "2023-06-06T09:32:34.383Z"
   },
   {
    "duration": 2,
    "start_time": "2023-06-06T09:41:10.859Z"
   },
   {
    "duration": 10,
    "start_time": "2023-06-06T09:41:10.863Z"
   },
   {
    "duration": 3972935,
    "start_time": "2023-06-06T09:41:10.875Z"
   },
   {
    "duration": 1182150,
    "start_time": "2023-06-06T10:47:23.812Z"
   },
   {
    "duration": 3,
    "start_time": "2023-06-06T11:07:05.964Z"
   },
   {
    "duration": 14,
    "start_time": "2023-06-06T11:07:05.969Z"
   },
   {
    "duration": 51983,
    "start_time": "2023-06-06T11:07:05.985Z"
   },
   {
    "duration": 747,
    "start_time": "2023-06-06T11:34:07.365Z"
   },
   {
    "duration": 56068,
    "start_time": "2023-06-06T11:34:17.897Z"
   },
   {
    "duration": 3592,
    "start_time": "2023-06-06T11:35:55.696Z"
   },
   {
    "duration": 945,
    "start_time": "2023-06-06T11:35:59.290Z"
   },
   {
    "duration": 33,
    "start_time": "2023-06-06T11:36:00.237Z"
   },
   {
    "duration": 89,
    "start_time": "2023-06-06T11:36:00.275Z"
   },
   {
    "duration": 63,
    "start_time": "2023-06-06T11:36:00.371Z"
   },
   {
    "duration": 69,
    "start_time": "2023-06-06T11:36:00.436Z"
   },
   {
    "duration": 34,
    "start_time": "2023-06-06T11:36:00.507Z"
   },
   {
    "duration": 80,
    "start_time": "2023-06-06T11:36:00.542Z"
   },
   {
    "duration": 75,
    "start_time": "2023-06-06T11:36:00.624Z"
   },
   {
    "duration": 78,
    "start_time": "2023-06-06T11:36:00.701Z"
   },
   {
    "duration": 356,
    "start_time": "2023-06-06T11:36:00.780Z"
   },
   {
    "duration": 3,
    "start_time": "2023-06-06T11:36:01.139Z"
   },
   {
    "duration": 122,
    "start_time": "2023-06-06T11:36:01.145Z"
   },
   {
    "duration": 4,
    "start_time": "2023-06-06T11:36:01.271Z"
   },
   {
    "duration": 27,
    "start_time": "2023-06-06T11:36:01.278Z"
   },
   {
    "duration": 36,
    "start_time": "2023-06-06T11:36:01.308Z"
   },
   {
    "duration": 50,
    "start_time": "2023-06-06T11:36:01.345Z"
   },
   {
    "duration": 836470,
    "start_time": "2023-06-06T11:36:01.397Z"
   },
   {
    "duration": 13,
    "start_time": "2023-06-06T11:49:57.869Z"
   },
   {
    "duration": 6,
    "start_time": "2023-06-06T11:49:57.884Z"
   },
   {
    "duration": 19,
    "start_time": "2023-06-06T11:49:57.892Z"
   },
   {
    "duration": 357,
    "start_time": "2023-06-06T11:49:57.913Z"
   },
   {
    "duration": 2,
    "start_time": "2023-06-06T11:49:58.272Z"
   },
   {
    "duration": 49,
    "start_time": "2023-06-06T11:49:58.276Z"
   },
   {
    "duration": 6,
    "start_time": "2023-06-06T11:49:58.328Z"
   },
   {
    "duration": 5634,
    "start_time": "2023-06-06T11:49:58.352Z"
   },
   {
    "duration": 5,
    "start_time": "2023-06-06T11:50:03.987Z"
   },
   {
    "duration": 507063,
    "start_time": "2023-06-06T11:50:03.993Z"
   },
   {
    "duration": 7,
    "start_time": "2023-06-06T11:58:31.060Z"
   },
   {
    "duration": 30,
    "start_time": "2023-06-06T11:58:31.068Z"
   },
   {
    "duration": 3949487,
    "start_time": "2023-06-06T11:58:31.099Z"
   },
   {
    "duration": 1085879,
    "start_time": "2023-06-06T13:04:20.588Z"
   },
   {
    "duration": 3,
    "start_time": "2023-06-06T13:22:26.469Z"
   },
   {
    "duration": 6,
    "start_time": "2023-06-06T13:22:26.473Z"
   },
   {
    "duration": 48874,
    "start_time": "2023-06-06T13:22:26.480Z"
   }
  ],
  "kernelspec": {
   "display_name": "Python 3 (ipykernel)",
   "language": "python",
   "name": "python3"
  },
  "language_info": {
   "codemirror_mode": {
    "name": "ipython",
    "version": 3
   },
   "file_extension": ".py",
   "mimetype": "text/x-python",
   "name": "python",
   "nbconvert_exporter": "python",
   "pygments_lexer": "ipython3",
   "version": "3.10.9"
  },
  "toc": {
   "base_numbering": 1,
   "nav_menu": {},
   "number_sections": true,
   "sideBar": true,
   "skip_h1_title": true,
   "title_cell": "Содержание",
   "title_sidebar": "Contents",
   "toc_cell": true,
   "toc_position": {
    "height": "calc(100% - 180px)",
    "left": "10px",
    "top": "150px",
    "width": "302.386px"
   },
   "toc_section_display": true,
   "toc_window_display": true
  }
 },
 "nbformat": 4,
 "nbformat_minor": 2
}

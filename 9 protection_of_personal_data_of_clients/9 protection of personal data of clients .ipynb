{
 "cells": [
  {
   "cell_type": "markdown",
   "metadata": {
    "toc": true
   },
   "source": [
    "<h1>Содержание<span class=\"tocSkip\"></span></h1>\n",
    "<div class=\"toc\"><ul class=\"toc-item\"><li><span><a href=\"#Загрузка-данных\" data-toc-modified-id=\"Загрузка-данных-1\"><span class=\"toc-item-num\">1&nbsp;&nbsp;</span>Загрузка данных</a></span></li><li><span><a href=\"#Умножение-матриц\" data-toc-modified-id=\"Умножение-матриц-2\"><span class=\"toc-item-num\">2&nbsp;&nbsp;</span>Умножение матриц</a></span></li><li><span><a href=\"#Алгоритм-преобразования\" data-toc-modified-id=\"Алгоритм-преобразования-3\"><span class=\"toc-item-num\">3&nbsp;&nbsp;</span>Алгоритм преобразования</a></span></li><li><span><a href=\"#Проверка-алгоритма\" data-toc-modified-id=\"Проверка-алгоритма-4\"><span class=\"toc-item-num\">4&nbsp;&nbsp;</span>Проверка алгоритма</a></span></li><li><span><a href=\"#Чек-лист-проверки\" data-toc-modified-id=\"Чек-лист-проверки-5\"><span class=\"toc-item-num\">5&nbsp;&nbsp;</span>Чек-лист проверки</a></span></li></ul></div>"
   ]
  },
  {
   "cell_type": "markdown",
   "metadata": {},
   "source": [
    "# Защита персональных данных клиентов"
   ]
  },
  {
   "cell_type": "markdown",
   "metadata": {},
   "source": [
    "Вам нужно защитить данные клиентов страховой компании «Хоть потоп». Разработайте такой метод преобразования данных, чтобы по ним было сложно восстановить персональную информацию. Обоснуйте корректность его работы.\n",
    "\n",
    "Нужно защитить данные, чтобы при преобразовании качество моделей машинного обучения не ухудшилось. Подбирать наилучшую модель не требуется."
   ]
  },
  {
   "cell_type": "markdown",
   "metadata": {},
   "source": [
    "# План выполнения проекта\n",
    "\n",
    "1. Загрузим и изучим данные.\n",
    "2. Ответим на вопрос (необходимо обоснованиие): Признаки умножают на обратимую матрицу. Изменится ли качество линейной регрессии? (Её можно обучить заново.)\n",
    " - a. Изменится. Приведите примеры матриц.\n",
    " - b. Не изменится. Укажите, как связаны параметры линейной регрессии в исходной задаче и в преобразованной.\n",
    "3. Составим алгоритм преобразования данных для решения задачи (с обоснованием, почему качество линейной регрессии не поменяется).\n",
    "4. Запрограммируем этот алгоритм, применив матричные операции. Проверим, что качество линейной регрессии из sklearn не отличается до и после преобразования. Применим метрику R2."
   ]
  },
  {
   "cell_type": "markdown",
   "metadata": {},
   "source": [
    "# Описание данных:\n",
    "\n",
    " - **Признаки**: пол, возраст и зарплата застрахованного, количество членов его семьи.\n",
    " - **Целевой признак**: количество страховых выплат клиенту за последние 5 лет."
   ]
  },
  {
   "cell_type": "markdown",
   "metadata": {},
   "source": [
    "## Загрузка данных"
   ]
  },
  {
   "cell_type": "markdown",
   "metadata": {},
   "source": [
    "Импортируем все необходимые библиотеки"
   ]
  },
  {
   "cell_type": "code",
   "execution_count": 1,
   "metadata": {},
   "outputs": [],
   "source": [
    "import pandas as pd\n",
    "\n",
    "import matplotlib.pyplot as plt\n",
    "import seaborn as sns\n",
    "import numpy as np\n",
    "from scipy import stats as st\n",
    "\n",
    "\n",
    "from sklearn.linear_model import LinearRegression\n",
    "\n",
    "from sklearn.metrics import r2_score\n",
    "\n",
    "import plotly.express as px\n",
    "\n",
    "import warnings\n",
    "#убираем системные предупреждения\n",
    "warnings.filterwarnings('ignore')"
   ]
  },
  {
   "cell_type": "markdown",
   "metadata": {},
   "source": [
    "Считаем данные из csv-файла в датафрейм и сохраним в переменную."
   ]
  },
  {
   "cell_type": "code",
   "execution_count": 2,
   "metadata": {},
   "outputs": [],
   "source": [
    "data_personal = pd.read_csv('/datasets/insurance.csv')"
   ]
  },
  {
   "cell_type": "code",
   "execution_count": 3,
   "metadata": {},
   "outputs": [
    {
     "data": {
      "text/html": [
       "<div>\n",
       "<style scoped>\n",
       "    .dataframe tbody tr th:only-of-type {\n",
       "        vertical-align: middle;\n",
       "    }\n",
       "\n",
       "    .dataframe tbody tr th {\n",
       "        vertical-align: top;\n",
       "    }\n",
       "\n",
       "    .dataframe thead th {\n",
       "        text-align: right;\n",
       "    }\n",
       "</style>\n",
       "<table border=\"1\" class=\"dataframe\">\n",
       "  <thead>\n",
       "    <tr style=\"text-align: right;\">\n",
       "      <th></th>\n",
       "      <th>Пол</th>\n",
       "      <th>Возраст</th>\n",
       "      <th>Зарплата</th>\n",
       "      <th>Члены семьи</th>\n",
       "      <th>Страховые выплаты</th>\n",
       "    </tr>\n",
       "  </thead>\n",
       "  <tbody>\n",
       "    <tr>\n",
       "      <th>0</th>\n",
       "      <td>1</td>\n",
       "      <td>41.0</td>\n",
       "      <td>49600.0</td>\n",
       "      <td>1</td>\n",
       "      <td>0</td>\n",
       "    </tr>\n",
       "    <tr>\n",
       "      <th>1</th>\n",
       "      <td>0</td>\n",
       "      <td>46.0</td>\n",
       "      <td>38000.0</td>\n",
       "      <td>1</td>\n",
       "      <td>1</td>\n",
       "    </tr>\n",
       "    <tr>\n",
       "      <th>2</th>\n",
       "      <td>0</td>\n",
       "      <td>29.0</td>\n",
       "      <td>21000.0</td>\n",
       "      <td>0</td>\n",
       "      <td>0</td>\n",
       "    </tr>\n",
       "    <tr>\n",
       "      <th>3</th>\n",
       "      <td>0</td>\n",
       "      <td>21.0</td>\n",
       "      <td>41700.0</td>\n",
       "      <td>2</td>\n",
       "      <td>0</td>\n",
       "    </tr>\n",
       "    <tr>\n",
       "      <th>4</th>\n",
       "      <td>1</td>\n",
       "      <td>28.0</td>\n",
       "      <td>26100.0</td>\n",
       "      <td>0</td>\n",
       "      <td>0</td>\n",
       "    </tr>\n",
       "  </tbody>\n",
       "</table>\n",
       "</div>"
      ],
      "text/plain": [
       "   Пол  Возраст  Зарплата  Члены семьи  Страховые выплаты\n",
       "0    1     41.0   49600.0            1                  0\n",
       "1    0     46.0   38000.0            1                  1\n",
       "2    0     29.0   21000.0            0                  0\n",
       "3    0     21.0   41700.0            2                  0\n",
       "4    1     28.0   26100.0            0                  0"
      ]
     },
     "execution_count": 3,
     "metadata": {},
     "output_type": "execute_result"
    }
   ],
   "source": [
    "data_personal.head()"
   ]
  },
  {
   "cell_type": "code",
   "execution_count": 4,
   "metadata": {},
   "outputs": [
    {
     "name": "stdout",
     "output_type": "stream",
     "text": [
      "<class 'pandas.core.frame.DataFrame'>\n",
      "RangeIndex: 5000 entries, 0 to 4999\n",
      "Data columns (total 5 columns):\n",
      " #   Column             Non-Null Count  Dtype  \n",
      "---  ------             --------------  -----  \n",
      " 0   Пол                5000 non-null   int64  \n",
      " 1   Возраст            5000 non-null   float64\n",
      " 2   Зарплата           5000 non-null   float64\n",
      " 3   Члены семьи        5000 non-null   int64  \n",
      " 4   Страховые выплаты  5000 non-null   int64  \n",
      "dtypes: float64(2), int64(3)\n",
      "memory usage: 195.4 KB\n"
     ]
    }
   ],
   "source": [
    "data_personal.info()"
   ]
  },
  {
   "cell_type": "code",
   "execution_count": 5,
   "metadata": {},
   "outputs": [
    {
     "data": {
      "text/plain": [
       "153"
      ]
     },
     "execution_count": 5,
     "metadata": {},
     "output_type": "execute_result"
    }
   ],
   "source": [
    "data_personal.duplicated().sum()"
   ]
  },
  {
   "cell_type": "code",
   "execution_count": 6,
   "metadata": {},
   "outputs": [
    {
     "data": {
      "image/png": "[encoded data removed]",
      "text/plain": [
       "<Figure size 1080x1440 with 6 Axes>"
      ]
     },
     "metadata": {
      "needs_background": "light"
     },
     "output_type": "display_data"
    }
   ],
   "source": [
    "data_personal.hist(figsize=(15, 20));"
   ]
  },
  {
   "cell_type": "code",
   "execution_count": 7,
   "metadata": {},
   "outputs": [
    {
     "data": {
      "text/html": [
       "<div>\n",
       "<style scoped>\n",
       "    .dataframe tbody tr th:only-of-type {\n",
       "        vertical-align: middle;\n",
       "    }\n",
       "\n",
       "    .dataframe tbody tr th {\n",
       "        vertical-align: top;\n",
       "    }\n",
       "\n",
       "    .dataframe thead th {\n",
       "        text-align: right;\n",
       "    }\n",
       "</style>\n",
       "<table border=\"1\" class=\"dataframe\">\n",
       "  <thead>\n",
       "    <tr style=\"text-align: right;\">\n",
       "      <th></th>\n",
       "      <th>Пол</th>\n",
       "      <th>Возраст</th>\n",
       "      <th>Зарплата</th>\n",
       "      <th>Члены семьи</th>\n",
       "      <th>Страховые выплаты</th>\n",
       "    </tr>\n",
       "  </thead>\n",
       "  <tbody>\n",
       "    <tr>\n",
       "      <th>count</th>\n",
       "      <td>5000.000000</td>\n",
       "      <td>5000.000000</td>\n",
       "      <td>5000.000000</td>\n",
       "      <td>5000.000000</td>\n",
       "      <td>5000.000000</td>\n",
       "    </tr>\n",
       "    <tr>\n",
       "      <th>mean</th>\n",
       "      <td>0.499000</td>\n",
       "      <td>30.952800</td>\n",
       "      <td>39916.360000</td>\n",
       "      <td>1.194200</td>\n",
       "      <td>0.148000</td>\n",
       "    </tr>\n",
       "    <tr>\n",
       "      <th>std</th>\n",
       "      <td>0.500049</td>\n",
       "      <td>8.440807</td>\n",
       "      <td>9900.083569</td>\n",
       "      <td>1.091387</td>\n",
       "      <td>0.463183</td>\n",
       "    </tr>\n",
       "    <tr>\n",
       "      <th>min</th>\n",
       "      <td>0.000000</td>\n",
       "      <td>18.000000</td>\n",
       "      <td>5300.000000</td>\n",
       "      <td>0.000000</td>\n",
       "      <td>0.000000</td>\n",
       "    </tr>\n",
       "    <tr>\n",
       "      <th>25%</th>\n",
       "      <td>0.000000</td>\n",
       "      <td>24.000000</td>\n",
       "      <td>33300.000000</td>\n",
       "      <td>0.000000</td>\n",
       "      <td>0.000000</td>\n",
       "    </tr>\n",
       "    <tr>\n",
       "      <th>50%</th>\n",
       "      <td>0.000000</td>\n",
       "      <td>30.000000</td>\n",
       "      <td>40200.000000</td>\n",
       "      <td>1.000000</td>\n",
       "      <td>0.000000</td>\n",
       "    </tr>\n",
       "    <tr>\n",
       "      <th>75%</th>\n",
       "      <td>1.000000</td>\n",
       "      <td>37.000000</td>\n",
       "      <td>46600.000000</td>\n",
       "      <td>2.000000</td>\n",
       "      <td>0.000000</td>\n",
       "    </tr>\n",
       "    <tr>\n",
       "      <th>max</th>\n",
       "      <td>1.000000</td>\n",
       "      <td>65.000000</td>\n",
       "      <td>79000.000000</td>\n",
       "      <td>6.000000</td>\n",
       "      <td>5.000000</td>\n",
       "    </tr>\n",
       "  </tbody>\n",
       "</table>\n",
       "</div>"
      ],
      "text/plain": [
       "               Пол      Возраст      Зарплата  Члены семьи  Страховые выплаты\n",
       "count  5000.000000  5000.000000   5000.000000  5000.000000        5000.000000\n",
       "mean      0.499000    30.952800  39916.360000     1.194200           0.148000\n",
       "std       0.500049     8.440807   9900.083569     1.091387           0.463183\n",
       "min       0.000000    18.000000   5300.000000     0.000000           0.000000\n",
       "25%       0.000000    24.000000  33300.000000     0.000000           0.000000\n",
       "50%       0.000000    30.000000  40200.000000     1.000000           0.000000\n",
       "75%       1.000000    37.000000  46600.000000     2.000000           0.000000\n",
       "max       1.000000    65.000000  79000.000000     6.000000           5.000000"
      ]
     },
     "execution_count": 7,
     "metadata": {},
     "output_type": "execute_result"
    }
   ],
   "source": [
    "data_personal.describe()"
   ]
  },
  {
   "cell_type": "markdown",
   "metadata": {},
   "source": [
    "\n"
   ]
  },
  {
   "cell_type": "code",
   "execution_count": 8,
   "metadata": {},
   "outputs": [],
   "source": [
    "#data_personal.corr()"
   ]
  },
  {
   "cell_type": "code",
   "execution_count": 9,
   "metadata": {},
   "outputs": [
    {
     "data": {
      "text/html": [
       "<div>\n",
       "<style scoped>\n",
       "    .dataframe tbody tr th:only-of-type {\n",
       "        vertical-align: middle;\n",
       "    }\n",
       "\n",
       "    .dataframe tbody tr th {\n",
       "        vertical-align: top;\n",
       "    }\n",
       "\n",
       "    .dataframe thead th {\n",
       "        text-align: right;\n",
       "    }\n",
       "</style>\n",
       "<table border=\"1\" class=\"dataframe\">\n",
       "  <thead>\n",
       "    <tr style=\"text-align: right;\">\n",
       "      <th></th>\n",
       "      <th>Страховые выплаты</th>\n",
       "      <th>count</th>\n",
       "    </tr>\n",
       "  </thead>\n",
       "  <tbody>\n",
       "    <tr>\n",
       "      <th>0</th>\n",
       "      <td>0</td>\n",
       "      <td>4436</td>\n",
       "    </tr>\n",
       "    <tr>\n",
       "      <th>1</th>\n",
       "      <td>1</td>\n",
       "      <td>423</td>\n",
       "    </tr>\n",
       "    <tr>\n",
       "      <th>2</th>\n",
       "      <td>2</td>\n",
       "      <td>115</td>\n",
       "    </tr>\n",
       "    <tr>\n",
       "      <th>3</th>\n",
       "      <td>3</td>\n",
       "      <td>18</td>\n",
       "    </tr>\n",
       "    <tr>\n",
       "      <th>4</th>\n",
       "      <td>4</td>\n",
       "      <td>7</td>\n",
       "    </tr>\n",
       "    <tr>\n",
       "      <th>5</th>\n",
       "      <td>5</td>\n",
       "      <td>1</td>\n",
       "    </tr>\n",
       "  </tbody>\n",
       "</table>\n",
       "</div>"
      ],
      "text/plain": [
       "   Страховые выплаты  count\n",
       "0                  0   4436\n",
       "1                  1    423\n",
       "2                  2    115\n",
       "3                  3     18\n",
       "4                  4      7\n",
       "5                  5      1"
      ]
     },
     "execution_count": 9,
     "metadata": {},
     "output_type": "execute_result"
    }
   ],
   "source": [
    "data_1 = data_personal.groupby('Страховые выплаты')['Возраст'].agg('count').reset_index()\n",
    "data_1.columns = ['Страховые выплаты', 'count']\n",
    "data_1"
   ]
  },
  {
   "cell_type": "code",
   "execution_count": 10,
   "metadata": {},
   "outputs": [
    {
     "data": {
      "text/html": [
       "<div>\n",
       "<style scoped>\n",
       "    .dataframe tbody tr th:only-of-type {\n",
       "        vertical-align: middle;\n",
       "    }\n",
       "\n",
       "    .dataframe tbody tr th {\n",
       "        vertical-align: top;\n",
       "    }\n",
       "\n",
       "    .dataframe thead th {\n",
       "        text-align: right;\n",
       "    }\n",
       "</style>\n",
       "<table border=\"1\" class=\"dataframe\">\n",
       "  <thead>\n",
       "    <tr style=\"text-align: right;\">\n",
       "      <th></th>\n",
       "      <th>Возраст</th>\n",
       "      <th>count</th>\n",
       "      <th>sum</th>\n",
       "    </tr>\n",
       "  </thead>\n",
       "  <tbody>\n",
       "    <tr>\n",
       "      <th>0</th>\n",
       "      <td>18.0</td>\n",
       "      <td>117</td>\n",
       "      <td>0</td>\n",
       "    </tr>\n",
       "    <tr>\n",
       "      <th>1</th>\n",
       "      <td>19.0</td>\n",
       "      <td>223</td>\n",
       "      <td>0</td>\n",
       "    </tr>\n",
       "    <tr>\n",
       "      <th>2</th>\n",
       "      <td>20.0</td>\n",
       "      <td>195</td>\n",
       "      <td>0</td>\n",
       "    </tr>\n",
       "    <tr>\n",
       "      <th>3</th>\n",
       "      <td>21.0</td>\n",
       "      <td>200</td>\n",
       "      <td>0</td>\n",
       "    </tr>\n",
       "    <tr>\n",
       "      <th>4</th>\n",
       "      <td>22.0</td>\n",
       "      <td>209</td>\n",
       "      <td>0</td>\n",
       "    </tr>\n",
       "    <tr>\n",
       "      <th>5</th>\n",
       "      <td>23.0</td>\n",
       "      <td>202</td>\n",
       "      <td>0</td>\n",
       "    </tr>\n",
       "    <tr>\n",
       "      <th>6</th>\n",
       "      <td>24.0</td>\n",
       "      <td>182</td>\n",
       "      <td>0</td>\n",
       "    </tr>\n",
       "    <tr>\n",
       "      <th>7</th>\n",
       "      <td>25.0</td>\n",
       "      <td>214</td>\n",
       "      <td>0</td>\n",
       "    </tr>\n",
       "    <tr>\n",
       "      <th>8</th>\n",
       "      <td>26.0</td>\n",
       "      <td>211</td>\n",
       "      <td>0</td>\n",
       "    </tr>\n",
       "    <tr>\n",
       "      <th>9</th>\n",
       "      <td>27.0</td>\n",
       "      <td>209</td>\n",
       "      <td>0</td>\n",
       "    </tr>\n",
       "    <tr>\n",
       "      <th>10</th>\n",
       "      <td>28.0</td>\n",
       "      <td>204</td>\n",
       "      <td>0</td>\n",
       "    </tr>\n",
       "    <tr>\n",
       "      <th>11</th>\n",
       "      <td>29.0</td>\n",
       "      <td>203</td>\n",
       "      <td>0</td>\n",
       "    </tr>\n",
       "    <tr>\n",
       "      <th>12</th>\n",
       "      <td>30.0</td>\n",
       "      <td>202</td>\n",
       "      <td>0</td>\n",
       "    </tr>\n",
       "    <tr>\n",
       "      <th>13</th>\n",
       "      <td>31.0</td>\n",
       "      <td>212</td>\n",
       "      <td>0</td>\n",
       "    </tr>\n",
       "    <tr>\n",
       "      <th>14</th>\n",
       "      <td>32.0</td>\n",
       "      <td>206</td>\n",
       "      <td>0</td>\n",
       "    </tr>\n",
       "    <tr>\n",
       "      <th>15</th>\n",
       "      <td>33.0</td>\n",
       "      <td>191</td>\n",
       "      <td>0</td>\n",
       "    </tr>\n",
       "    <tr>\n",
       "      <th>16</th>\n",
       "      <td>34.0</td>\n",
       "      <td>177</td>\n",
       "      <td>0</td>\n",
       "    </tr>\n",
       "    <tr>\n",
       "      <th>17</th>\n",
       "      <td>35.0</td>\n",
       "      <td>179</td>\n",
       "      <td>0</td>\n",
       "    </tr>\n",
       "    <tr>\n",
       "      <th>18</th>\n",
       "      <td>36.0</td>\n",
       "      <td>193</td>\n",
       "      <td>0</td>\n",
       "    </tr>\n",
       "    <tr>\n",
       "      <th>19</th>\n",
       "      <td>37.0</td>\n",
       "      <td>147</td>\n",
       "      <td>0</td>\n",
       "    </tr>\n",
       "    <tr>\n",
       "      <th>20</th>\n",
       "      <td>38.0</td>\n",
       "      <td>139</td>\n",
       "      <td>0</td>\n",
       "    </tr>\n",
       "    <tr>\n",
       "      <th>21</th>\n",
       "      <td>39.0</td>\n",
       "      <td>141</td>\n",
       "      <td>0</td>\n",
       "    </tr>\n",
       "    <tr>\n",
       "      <th>22</th>\n",
       "      <td>40.0</td>\n",
       "      <td>114</td>\n",
       "      <td>0</td>\n",
       "    </tr>\n",
       "    <tr>\n",
       "      <th>23</th>\n",
       "      <td>41.0</td>\n",
       "      <td>129</td>\n",
       "      <td>0</td>\n",
       "    </tr>\n",
       "    <tr>\n",
       "      <th>24</th>\n",
       "      <td>42.0</td>\n",
       "      <td>93</td>\n",
       "      <td>56</td>\n",
       "    </tr>\n",
       "    <tr>\n",
       "      <th>25</th>\n",
       "      <td>43.0</td>\n",
       "      <td>77</td>\n",
       "      <td>77</td>\n",
       "    </tr>\n",
       "    <tr>\n",
       "      <th>26</th>\n",
       "      <td>44.0</td>\n",
       "      <td>74</td>\n",
       "      <td>74</td>\n",
       "    </tr>\n",
       "    <tr>\n",
       "      <th>27</th>\n",
       "      <td>45.0</td>\n",
       "      <td>73</td>\n",
       "      <td>73</td>\n",
       "    </tr>\n",
       "    <tr>\n",
       "      <th>28</th>\n",
       "      <td>46.0</td>\n",
       "      <td>60</td>\n",
       "      <td>60</td>\n",
       "    </tr>\n",
       "    <tr>\n",
       "      <th>29</th>\n",
       "      <td>47.0</td>\n",
       "      <td>47</td>\n",
       "      <td>47</td>\n",
       "    </tr>\n",
       "    <tr>\n",
       "      <th>30</th>\n",
       "      <td>48.0</td>\n",
       "      <td>26</td>\n",
       "      <td>26</td>\n",
       "    </tr>\n",
       "    <tr>\n",
       "      <th>31</th>\n",
       "      <td>49.0</td>\n",
       "      <td>37</td>\n",
       "      <td>64</td>\n",
       "    </tr>\n",
       "    <tr>\n",
       "      <th>32</th>\n",
       "      <td>50.0</td>\n",
       "      <td>27</td>\n",
       "      <td>54</td>\n",
       "    </tr>\n",
       "    <tr>\n",
       "      <th>33</th>\n",
       "      <td>51.0</td>\n",
       "      <td>21</td>\n",
       "      <td>42</td>\n",
       "    </tr>\n",
       "    <tr>\n",
       "      <th>34</th>\n",
       "      <td>52.0</td>\n",
       "      <td>22</td>\n",
       "      <td>44</td>\n",
       "    </tr>\n",
       "    <tr>\n",
       "      <th>35</th>\n",
       "      <td>53.0</td>\n",
       "      <td>11</td>\n",
       "      <td>22</td>\n",
       "    </tr>\n",
       "    <tr>\n",
       "      <th>36</th>\n",
       "      <td>54.0</td>\n",
       "      <td>7</td>\n",
       "      <td>14</td>\n",
       "    </tr>\n",
       "    <tr>\n",
       "      <th>37</th>\n",
       "      <td>55.0</td>\n",
       "      <td>9</td>\n",
       "      <td>27</td>\n",
       "    </tr>\n",
       "    <tr>\n",
       "      <th>38</th>\n",
       "      <td>56.0</td>\n",
       "      <td>5</td>\n",
       "      <td>15</td>\n",
       "    </tr>\n",
       "    <tr>\n",
       "      <th>39</th>\n",
       "      <td>57.0</td>\n",
       "      <td>2</td>\n",
       "      <td>6</td>\n",
       "    </tr>\n",
       "    <tr>\n",
       "      <th>40</th>\n",
       "      <td>58.0</td>\n",
       "      <td>2</td>\n",
       "      <td>6</td>\n",
       "    </tr>\n",
       "    <tr>\n",
       "      <th>41</th>\n",
       "      <td>59.0</td>\n",
       "      <td>3</td>\n",
       "      <td>12</td>\n",
       "    </tr>\n",
       "    <tr>\n",
       "      <th>42</th>\n",
       "      <td>60.0</td>\n",
       "      <td>2</td>\n",
       "      <td>8</td>\n",
       "    </tr>\n",
       "    <tr>\n",
       "      <th>43</th>\n",
       "      <td>61.0</td>\n",
       "      <td>1</td>\n",
       "      <td>4</td>\n",
       "    </tr>\n",
       "    <tr>\n",
       "      <th>44</th>\n",
       "      <td>62.0</td>\n",
       "      <td>1</td>\n",
       "      <td>4</td>\n",
       "    </tr>\n",
       "    <tr>\n",
       "      <th>45</th>\n",
       "      <td>65.0</td>\n",
       "      <td>1</td>\n",
       "      <td>5</td>\n",
       "    </tr>\n",
       "  </tbody>\n",
       "</table>\n",
       "</div>"
      ],
      "text/plain": [
       "    Возраст  count  sum\n",
       "0      18.0    117    0\n",
       "1      19.0    223    0\n",
       "2      20.0    195    0\n",
       "3      21.0    200    0\n",
       "4      22.0    209    0\n",
       "5      23.0    202    0\n",
       "6      24.0    182    0\n",
       "7      25.0    214    0\n",
       "8      26.0    211    0\n",
       "9      27.0    209    0\n",
       "10     28.0    204    0\n",
       "11     29.0    203    0\n",
       "12     30.0    202    0\n",
       "13     31.0    212    0\n",
       "14     32.0    206    0\n",
       "15     33.0    191    0\n",
       "16     34.0    177    0\n",
       "17     35.0    179    0\n",
       "18     36.0    193    0\n",
       "19     37.0    147    0\n",
       "20     38.0    139    0\n",
       "21     39.0    141    0\n",
       "22     40.0    114    0\n",
       "23     41.0    129    0\n",
       "24     42.0     93   56\n",
       "25     43.0     77   77\n",
       "26     44.0     74   74\n",
       "27     45.0     73   73\n",
       "28     46.0     60   60\n",
       "29     47.0     47   47\n",
       "30     48.0     26   26\n",
       "31     49.0     37   64\n",
       "32     50.0     27   54\n",
       "33     51.0     21   42\n",
       "34     52.0     22   44\n",
       "35     53.0     11   22\n",
       "36     54.0      7   14\n",
       "37     55.0      9   27\n",
       "38     56.0      5   15\n",
       "39     57.0      2    6\n",
       "40     58.0      2    6\n",
       "41     59.0      3   12\n",
       "42     60.0      2    8\n",
       "43     61.0      1    4\n",
       "44     62.0      1    4\n",
       "45     65.0      1    5"
      ]
     },
     "execution_count": 10,
     "metadata": {},
     "output_type": "execute_result"
    }
   ],
   "source": [
    "data_2 = data_personal.groupby('Возраст')['Страховые выплаты'].agg(['count', 'sum']).reset_index()\n",
    "data_2.columns = ['Возраст', 'count', 'sum']\n",
    "data_2"
   ]
  },
  {
   "cell_type": "markdown",
   "metadata": {},
   "source": [
    "**Вывод по шагу 1:**\n",
    "\n",
    "1. пропуски отсутствуют.\n",
    "2. есть дубликаты - 153 шт., но, учитывая размер датасета, эти данные вполне могут относиться к разным людям, поэтому удалять из датафрейма их не будем. К тому же по условию, данные необходимо защитить.\n",
    "3. выбросы визуально не наблюдаются.\n",
    "4. Пол: мужчин и женщин примерно одинаковое количество\n",
    "5. Среднее значение возраста 30 лет\n",
    "6. По зарплате распределение близко к нормальному. Чуть скошено вправо.\n",
    "7. В среднем в семье 1,1 член семьи. \n",
    "8. страховые выплаты: 4436 человек никогда не получали страховых выплат, 423 человека - один раз, 115 человек - 2 раза, 18 человек - 3 раза, 7 человек - 4 раза и один клиент получил выплаты 5 раз за последние пять лет.\n"
   ]
  },
  {
   "cell_type": "markdown",
   "metadata": {},
   "source": [
    "## Умножение матриц"
   ]
  },
  {
   "cell_type": "markdown",
   "metadata": {},
   "source": [
    "В этом задании вы можете записывать формулы в *Jupyter Notebook.*\n",
    "\n",
    "Чтобы записать формулу внутри текста, окружите её символами доллара \\\\$; если снаружи —  двойными символами \\\\$\\\\$. Эти формулы записываются на языке вёрстки *LaTeX.* \n",
    "\n",
    "Для примера мы записали формулы линейной регрессии. Можете их скопировать и отредактировать, чтобы решить задачу.\n",
    "\n",
    "Работать в *LaTeX* необязательно."
   ]
  },
  {
   "cell_type": "markdown",
   "metadata": {},
   "source": [
    "Обозначения:\n",
    "\n",
    "- $X$ — матрица признаков (нулевой столбец состоит из единиц)\n",
    "\n",
    "- $y$ — вектор целевого признака\n",
    "\n",
    "- $P$ — матрица, на которую умножаются признаки\n",
    "\n",
    "- $w$ — вектор весов линейной регрессии (нулевой элемент равен сдвигу)"
   ]
  },
  {
   "cell_type": "markdown",
   "metadata": {},
   "source": [
    "Предсказания:\n",
    "\n",
    "$$\n",
    "a = Xw\n",
    "$$\n",
    "\n",
    "Задача обучения:\n",
    "\n",
    "$$\n",
    "w = \\arg\\min_w MSE(Xw, y)\n",
    "$$\n",
    "\n",
    "Формула обучения:\n",
    "\n",
    "$$\n",
    "w = (X^T X)^{-1} X^T y\n",
    "$$"
   ]
  },
  {
   "cell_type": "markdown",
   "metadata": {},
   "source": [
    "В рамках данного шага нужно ответить на следующий вопрос с обоснованием: Признаки умножают на обратимую матрицу. Изменится ли качество линейной регрессии?"
   ]
  },
  {
   "cell_type": "markdown",
   "metadata": {},
   "source": [
    "**Ответ:** не изменится.\n",
    "\n",
    "**Обоснование:** \n",
    "\n",
    "Предсказания высчитываются по формуле\n",
    "$$a=Xw$$\n",
    "\n",
    "Запишем новую матрицу признаков с учетом домножения на обратную матрицу (1.1)\n",
    "\n",
    "$$Z=XP$$\n",
    "\n",
    "Заменим X на Z и посмотрим, чему будет равно предсказание (1.2)\n",
    "\n",
    "$$a_1=Zw_1$$\n",
    "\n",
    "и вектор весов (1.3)\n",
    "\n",
    "$$w_1 = (Z^T Z)^{-1} Z^T y$$\n",
    "\n",
    "Подставим в уравнение 1.2 правую часть уравнения 1.3 (1.4)\n",
    "\n",
    "$$a_1=Z(Z^T Z)^{-1} Z^T y$$\n",
    "\n",
    "Заменим все Z правой части уравнения 1.1 (1.5)\n",
    "\n",
    "$$a_1=XP((XP)^T (XP))^{-1} (XP)^T y$$\n",
    "\n",
    "Раскроем $((XP)^T (XP))^{-1}$, применив следующее свойство обратной матрицы $(AB)^{-1}=B^{-1}A^{-1}$ (1.6)\n",
    "\n",
    "$$a_1=XP((XP)^T (XP))^{-1} (XP)^T y=(XP)(XP)^{-1}((XP)^T)^{-1}(XP)^Ty=XPP^{-1}X^{-1}((XP)^T)^{-1}(XP)^Ty$$\n",
    "\n",
    "Умножение приведет к следующему $PP^{-1}=E$\n",
    "\n",
    "Дальше нам понадобится следующее свойство транспонированной матрицы $(AB)^T=B^TA^T$\n",
    "\n",
    "Умножение на единичную матрицу ничего не изменит. Раскроем скобки $((XP)^T)^{-1}(XP)^Ty$ (1.7)\n",
    "\n",
    "$$a_1=XEX^{-1}((XP)^T)^{-1}(XP)^Ty=XX^{-1}(P^TX^T)^{-1}P^TX^Ty=XX^{-1}(X^T)^{-1}(P^T)^{-1}P^TX^Ty$$\n",
    "\n",
    "Умножение $(P^T)^{-1}P^T=E$. Упростим выражение (1.7)\n",
    "\n",
    "$$a_1=XX^{-1}(X^T)^{-1}EX^Ty=X(X^TX)^{-1}X^Ty=Xw=a$$"
   ]
  },
  {
   "cell_type": "markdown",
   "metadata": {},
   "source": [
    "<div class=\"alert alert-info\">\n",
    "<b>Комментарий студента №1</b>\n",
    "    \n",
    "Предсказания высчитываются по формуле\n",
    "$$a=Xw$$\n",
    "\n",
    "Запишем новую матрицу признаков с учетом домножения на обратную матрицу \n",
    "    \n",
    "$$Z=XP$$\n",
    "\n",
    "Формула обучения весов модели:\n",
    "\n",
    "$$w=(X^TX)^{-1}X^Ty$$\n",
    "\n",
    "Домножим матрицу признаков X на матрицу P:\n",
    "    \n",
    "$$w_1=((XP)^TXP)^{-1}(XP)^Ty$$\n",
    "\n",
    "Раскроем скобки, применив $(AB)^T=B^TA^T$\n",
    "    \n",
    "$$w_1=(P^TX^TXP)^{-1}P^TX^Ty$$\n",
    "    \n",
    "Раскроем скобки, применив $(AB)^{-1}=B^{-1}A^{-1}$ \n",
    "\n",
    "$$w_1=(P^T(X^TX)P)^{-1}P^TX^Ty$$\n",
    "    \n",
    "$$w_1=P^{-1}(X^TX)^{-1}(P^T)^{-1}P^TX^Ty$$\n",
    "    \n",
    "Так как $(P^T)^{-1}P^T=E$, формула примет вид\n",
    "    \n",
    "$$w_1=P^{-1}(X^TX)^{-1}EX^Ty$$\n",
    "    \n",
    "Упростим выражение (уберем E) и получим\n",
    "    \n",
    "$$w_1=P^{-1}(X^TX)^{-1}X^Ty$$\n",
    "    \n",
    "$$w_1=P^{-1}w$$\n",
    "\n",
    "Подставим полученное значение вектора весов линейной регрессии в формулу предсказаний    \n",
    "$$a_1=Zw_1$$\n",
    "    $$a_1=XP(P^{-1}w)$$\n",
    "    $$a_1=Xw=a$$\n",
    "</div>"
   ]
  },
  {
   "cell_type": "markdown",
   "metadata": {},
   "source": [
    "**Вывод по шагу 2**\n",
    "\n",
    "Так как нам удалось доказать, что $a = a_1$, делаем вывод, что качество линейной регрессии не меняется, если умножать признаки на обратимую матрицу.\n",
    "Параметры в линейной регрессии с исходной задаче и в преобразованной связаны через веса матрицы, которая может быть умножена на обратную матрицу."
   ]
  },
  {
   "cell_type": "markdown",
   "metadata": {},
   "source": [
    "<div class=\"alert alert-info\">\n",
    "<b>Комментарий студента №1</b>\n",
    "    \n",
    "Параметры в линейной регрессии с исходной задаче и в преобразованной связаны через веса матрицы, которая может быть умножена на обратную матрицу.\n",
    "    \n",
    "Таким образом из формул видно, что веса исходной и домноженной матриц связаны как: $w_1=P^{-1}w$\n",
    "\n",
    "</div>"
   ]
  },
  {
   "cell_type": "markdown",
   "metadata": {},
   "source": [
    "## Алгоритм преобразования"
   ]
  },
  {
   "cell_type": "markdown",
   "metadata": {},
   "source": [
    "По условиям проекта нужно защитить данные, чтобы при преобразовании данных качество моделей машинного обучения не ухудшилось. Пропишем следующие этапы алгоритма, а на следующем шаге проверим алгоритм."
   ]
  },
  {
   "cell_type": "markdown",
   "metadata": {},
   "source": [
    "**Алгоритм**:\n",
    "1. Определение признаков и целевого признака.\n",
    "2. Обучение модели без преобразования и получение метрики R2.\n",
    "3. Создание рандомной матрицы.\n",
    "4. Получение обратной рандомной матрицы.\n",
    "5. Умножение обратимой матрицы на матрицу признаков.\n",
    "6. Обучение модели на преобразованных признаках и получение метрики R2.\n",
    "7. Сравнение метрики, вывод"
   ]
  },
  {
   "cell_type": "markdown",
   "metadata": {},
   "source": [
    "**Обоснование**:\n",
    "\n",
    "В соответствии с проведенным исследованием в пункте 2, домножение признаков на рандомную обратимую матрицу не приведет к изменению предсказаний, поэтому результаты r2 должны совпасть."
   ]
  },
  {
   "cell_type": "markdown",
   "metadata": {},
   "source": [
    "## Проверка алгоритма"
   ]
  },
  {
   "cell_type": "markdown",
   "metadata": {},
   "source": [
    "**Проведем действия согласно алгоритма, написанного выше**"
   ]
  },
  {
   "cell_type": "markdown",
   "metadata": {},
   "source": [
    "**Определим признаки и целевой признак.**"
   ]
  },
  {
   "cell_type": "code",
   "execution_count": 11,
   "metadata": {},
   "outputs": [],
   "source": [
    "features = data_personal.drop('Страховые выплаты', axis=1)\n",
    "target = data_personal['Страховые выплаты']"
   ]
  },
  {
   "cell_type": "markdown",
   "metadata": {},
   "source": [
    "**Обучим модель на данных до преобразования и получим метрику r2**"
   ]
  },
  {
   "cell_type": "code",
   "execution_count": 12,
   "metadata": {},
   "outputs": [
    {
     "data": {
      "text/plain": [
       "0.424945503"
      ]
     },
     "execution_count": 12,
     "metadata": {},
     "output_type": "execute_result"
    }
   ],
   "source": [
    "model = LinearRegression()\n",
    "model.fit(features, target)\n",
    "prediction = model.predict(features)\n",
    "r2 = r2_score(target, prediction).round(9)\n",
    "r2"
   ]
  },
  {
   "cell_type": "markdown",
   "metadata": {},
   "source": [
    "**Создадим рандомную матрицу.**"
   ]
  },
  {
   "cell_type": "code",
   "execution_count": 13,
   "metadata": {},
   "outputs": [],
   "source": [
    "random_matrix = np.random.randn(4, 4)"
   ]
  },
  {
   "cell_type": "markdown",
   "metadata": {},
   "source": [
    "В соответствии с полученными теоретическими знаниями из тренажера: \"Чтобы найти обратную матрицу, вызовите функцию numpy.linalg.inv() (от англ. linear algebra, «линейная алгебра»; invert, «обратить»). Также она поможет проверить матрицу на обратимость: если матрица необратима, будет обнаружена ошибка.\""
   ]
  },
  {
   "cell_type": "code",
   "execution_count": 14,
   "metadata": {},
   "outputs": [
    {
     "name": "stdout",
     "output_type": "stream",
     "text": [
      "\n",
      "Обратная матрица к заданной существует\n"
     ]
    }
   ],
   "source": [
    "try:\n",
    "    matrix_linalg = np.linalg.inv(random_matrix)\n",
    "    print('\\nОбратная матрица к заданной существует')\n",
    "except:\n",
    "    print('\\nОбратная матрица к заданной не существует')"
   ]
  },
  {
   "cell_type": "markdown",
   "metadata": {},
   "source": [
    "**Умножим обратимую рандомную матрицу на матрицу признаков**"
   ]
  },
  {
   "cell_type": "code",
   "execution_count": 15,
   "metadata": {},
   "outputs": [],
   "source": [
    "new_features=np.dot(features, matrix_linalg)"
   ]
  },
  {
   "cell_type": "code",
   "execution_count": 16,
   "metadata": {},
   "outputs": [
    {
     "data": {
      "text/html": [
       "<div>\n",
       "<style scoped>\n",
       "    .dataframe tbody tr th:only-of-type {\n",
       "        vertical-align: middle;\n",
       "    }\n",
       "\n",
       "    .dataframe tbody tr th {\n",
       "        vertical-align: top;\n",
       "    }\n",
       "\n",
       "    .dataframe thead th {\n",
       "        text-align: right;\n",
       "    }\n",
       "</style>\n",
       "<table border=\"1\" class=\"dataframe\">\n",
       "  <thead>\n",
       "    <tr style=\"text-align: right;\">\n",
       "      <th></th>\n",
       "      <th>Пол</th>\n",
       "      <th>Возраст</th>\n",
       "      <th>Зарплата</th>\n",
       "      <th>Члены семьи</th>\n",
       "    </tr>\n",
       "  </thead>\n",
       "  <tbody>\n",
       "    <tr>\n",
       "      <th>0</th>\n",
       "      <td>1</td>\n",
       "      <td>41.0</td>\n",
       "      <td>49600.0</td>\n",
       "      <td>1</td>\n",
       "    </tr>\n",
       "    <tr>\n",
       "      <th>1</th>\n",
       "      <td>0</td>\n",
       "      <td>46.0</td>\n",
       "      <td>38000.0</td>\n",
       "      <td>1</td>\n",
       "    </tr>\n",
       "    <tr>\n",
       "      <th>2</th>\n",
       "      <td>0</td>\n",
       "      <td>29.0</td>\n",
       "      <td>21000.0</td>\n",
       "      <td>0</td>\n",
       "    </tr>\n",
       "    <tr>\n",
       "      <th>3</th>\n",
       "      <td>0</td>\n",
       "      <td>21.0</td>\n",
       "      <td>41700.0</td>\n",
       "      <td>2</td>\n",
       "    </tr>\n",
       "    <tr>\n",
       "      <th>4</th>\n",
       "      <td>1</td>\n",
       "      <td>28.0</td>\n",
       "      <td>26100.0</td>\n",
       "      <td>0</td>\n",
       "    </tr>\n",
       "  </tbody>\n",
       "</table>\n",
       "</div>"
      ],
      "text/plain": [
       "   Пол  Возраст  Зарплата  Члены семьи\n",
       "0    1     41.0   49600.0            1\n",
       "1    0     46.0   38000.0            1\n",
       "2    0     29.0   21000.0            0\n",
       "3    0     21.0   41700.0            2\n",
       "4    1     28.0   26100.0            0"
      ]
     },
     "metadata": {},
     "output_type": "display_data"
    }
   ],
   "source": [
    "display(features.head()) # выведем данные признаков до преобразования"
   ]
  },
  {
   "cell_type": "code",
   "execution_count": 17,
   "metadata": {},
   "outputs": [
    {
     "data": {
      "text/html": [
       "<div>\n",
       "<style scoped>\n",
       "    .dataframe tbody tr th:only-of-type {\n",
       "        vertical-align: middle;\n",
       "    }\n",
       "\n",
       "    .dataframe tbody tr th {\n",
       "        vertical-align: top;\n",
       "    }\n",
       "\n",
       "    .dataframe thead th {\n",
       "        text-align: right;\n",
       "    }\n",
       "</style>\n",
       "<table border=\"1\" class=\"dataframe\">\n",
       "  <thead>\n",
       "    <tr style=\"text-align: right;\">\n",
       "      <th></th>\n",
       "      <th>0</th>\n",
       "      <th>1</th>\n",
       "      <th>2</th>\n",
       "      <th>3</th>\n",
       "    </tr>\n",
       "  </thead>\n",
       "  <tbody>\n",
       "    <tr>\n",
       "      <th>0</th>\n",
       "      <td>728.127086</td>\n",
       "      <td>-48109.270578</td>\n",
       "      <td>56842.747722</td>\n",
       "      <td>61842.388452</td>\n",
       "    </tr>\n",
       "    <tr>\n",
       "      <th>1</th>\n",
       "      <td>557.520436</td>\n",
       "      <td>-36858.428456</td>\n",
       "      <td>43542.373800</td>\n",
       "      <td>47381.256340</td>\n",
       "    </tr>\n",
       "    <tr>\n",
       "      <th>2</th>\n",
       "      <td>308.035797</td>\n",
       "      <td>-20369.466265</td>\n",
       "      <td>24061.006003</td>\n",
       "      <td>26184.688344</td>\n",
       "    </tr>\n",
       "    <tr>\n",
       "      <th>3</th>\n",
       "      <td>613.020091</td>\n",
       "      <td>-40446.372258</td>\n",
       "      <td>47796.700855</td>\n",
       "      <td>51991.594513</td>\n",
       "    </tr>\n",
       "    <tr>\n",
       "      <th>4</th>\n",
       "      <td>382.691674</td>\n",
       "      <td>-25315.669288</td>\n",
       "      <td>29907.558535</td>\n",
       "      <td>32542.460168</td>\n",
       "    </tr>\n",
       "  </tbody>\n",
       "</table>\n",
       "</div>"
      ],
      "text/plain": [
       "            0             1             2             3\n",
       "0  728.127086 -48109.270578  56842.747722  61842.388452\n",
       "1  557.520436 -36858.428456  43542.373800  47381.256340\n",
       "2  308.035797 -20369.466265  24061.006003  26184.688344\n",
       "3  613.020091 -40446.372258  47796.700855  51991.594513\n",
       "4  382.691674 -25315.669288  29907.558535  32542.460168"
      ]
     },
     "metadata": {},
     "output_type": "display_data"
    }
   ],
   "source": [
    "n_f = pd.DataFrame(new_features)\n",
    "display(n_f.head()) # выведем данные признаков после преобразования"
   ]
  },
  {
   "cell_type": "markdown",
   "metadata": {},
   "source": [
    "Данные приобрели непонятные значения, что и требовалось для защиты информации."
   ]
  },
  {
   "cell_type": "markdown",
   "metadata": {},
   "source": [
    "**Обучение модели на преобразованных признаках и получение метрики R2**"
   ]
  },
  {
   "cell_type": "code",
   "execution_count": 18,
   "metadata": {},
   "outputs": [
    {
     "data": {
      "text/plain": [
       "0.424945503"
      ]
     },
     "execution_count": 18,
     "metadata": {},
     "output_type": "execute_result"
    }
   ],
   "source": [
    "new_model = LinearRegression()\n",
    "new_model.fit(new_features, target)\n",
    "new_prediction = new_model.predict(new_features)\n",
    "new_r2 = r2_score(target, new_prediction).round(9)\n",
    "new_r2"
   ]
  },
  {
   "cell_type": "markdown",
   "metadata": {},
   "source": [
    "**Вывод**:\n",
    "1. Провели исследование датафрейма в рамках предобработки данных.\n",
    "2. Создали случайную обратимую матрицу.\n",
    "3. Далее признаки умножили на рандомную обратимую матрицу.\n",
    "4. Потом провели обучение модели и посмотрели изменится ли r2, если модель обучать на преобразованных признаках.\n",
    "5. Проведенное сравнение качества моделей до преобразования и на преобразованных признаках показало, что значение r2 не изменилось. Это подтверждает, что умножение матрицы признаков на случайную (рандомную) матрицу преобразовывает данные и не влиеят на качество оценки модели."
   ]
  }
 ],
 "metadata": {
  "ExecuteTimeLog": [
   {
    "duration": 2126,
    "start_time": "2023-04-27T16:41:30.561Z"
   },
   {
    "duration": 92,
    "start_time": "2023-04-27T16:44:07.345Z"
   },
   {
    "duration": 17,
    "start_time": "2023-04-27T16:44:24.021Z"
   },
   {
    "duration": 14,
    "start_time": "2023-04-27T16:44:48.745Z"
   },
   {
    "duration": 9,
    "start_time": "2023-04-27T16:45:33.239Z"
   },
   {
    "duration": 129,
    "start_time": "2023-04-27T18:11:33.749Z"
   },
   {
    "duration": 9,
    "start_time": "2023-04-27T18:15:19.230Z"
   },
   {
    "duration": 23,
    "start_time": "2023-04-27T18:15:47.023Z"
   },
   {
    "duration": 167,
    "start_time": "2023-04-27T18:20:43.155Z"
   },
   {
    "duration": 184,
    "start_time": "2023-04-27T18:21:25.075Z"
   },
   {
    "duration": 159,
    "start_time": "2023-04-27T18:22:15.604Z"
   },
   {
    "duration": 144,
    "start_time": "2023-04-27T18:22:48.225Z"
   },
   {
    "duration": 5,
    "start_time": "2023-04-27T18:23:14.047Z"
   },
   {
    "duration": 13,
    "start_time": "2023-04-27T18:24:06.154Z"
   },
   {
    "duration": 851,
    "start_time": "2023-04-27T18:26:13.319Z"
   },
   {
    "duration": 783,
    "start_time": "2023-04-27T18:26:21.713Z"
   },
   {
    "duration": 11,
    "start_time": "2023-04-27T18:28:58.771Z"
   },
   {
    "duration": 15,
    "start_time": "2023-04-27T18:30:04.017Z"
   },
   {
    "duration": 16,
    "start_time": "2023-04-27T18:30:46.378Z"
   },
   {
    "duration": 338,
    "start_time": "2023-04-27T18:32:20.340Z"
   },
   {
    "duration": 18,
    "start_time": "2023-04-27T18:32:54.406Z"
   },
   {
    "duration": 20,
    "start_time": "2023-04-27T18:33:43.896Z"
   },
   {
    "duration": 5,
    "start_time": "2023-04-27T18:38:14.106Z"
   },
   {
    "duration": 7,
    "start_time": "2023-04-27T18:44:23.434Z"
   },
   {
    "duration": 12,
    "start_time": "2023-04-27T18:45:34.716Z"
   },
   {
    "duration": 100,
    "start_time": "2023-04-27T18:46:10.071Z"
   },
   {
    "duration": 709,
    "start_time": "2023-04-27T18:46:17.904Z"
   },
   {
    "duration": 36,
    "start_time": "2023-04-27T18:48:52.272Z"
   },
   {
    "duration": 5,
    "start_time": "2023-04-27T19:01:57.828Z"
   },
   {
    "duration": 5,
    "start_time": "2023-04-27T19:04:11.529Z"
   },
   {
    "duration": 52,
    "start_time": "2023-04-28T10:33:00.497Z"
   },
   {
    "duration": 1837,
    "start_time": "2023-04-28T10:33:09.180Z"
   },
   {
    "duration": 86,
    "start_time": "2023-04-28T10:33:11.019Z"
   },
   {
    "duration": 14,
    "start_time": "2023-04-28T10:33:11.107Z"
   },
   {
    "duration": 12,
    "start_time": "2023-04-28T10:33:11.122Z"
   },
   {
    "duration": 5,
    "start_time": "2023-04-28T10:33:11.136Z"
   },
   {
    "duration": 813,
    "start_time": "2023-04-28T10:33:11.143Z"
   },
   {
    "duration": 32,
    "start_time": "2023-04-28T10:33:11.958Z"
   },
   {
    "duration": 11,
    "start_time": "2023-04-28T10:33:11.992Z"
   },
   {
    "duration": 10,
    "start_time": "2023-04-28T10:33:12.004Z"
   },
   {
    "duration": 23,
    "start_time": "2023-04-28T10:33:12.015Z"
   },
   {
    "duration": 4,
    "start_time": "2023-04-28T10:33:12.039Z"
   },
   {
    "duration": 18,
    "start_time": "2023-04-28T10:33:12.045Z"
   },
   {
    "duration": 31,
    "start_time": "2023-04-28T10:33:12.065Z"
   },
   {
    "duration": 4,
    "start_time": "2023-04-28T19:01:31.452Z"
   },
   {
    "duration": 48,
    "start_time": "2023-04-28T19:03:48.006Z"
   },
   {
    "duration": 2229,
    "start_time": "2023-04-28T19:03:57.385Z"
   },
   {
    "duration": 93,
    "start_time": "2023-04-28T19:03:59.616Z"
   },
   {
    "duration": 13,
    "start_time": "2023-04-28T19:03:59.711Z"
   },
   {
    "duration": 12,
    "start_time": "2023-04-28T19:03:59.726Z"
   },
   {
    "duration": 5,
    "start_time": "2023-04-28T19:03:59.740Z"
   },
   {
    "duration": 747,
    "start_time": "2023-04-28T19:03:59.747Z"
   },
   {
    "duration": 24,
    "start_time": "2023-04-28T19:04:00.496Z"
   },
   {
    "duration": 11,
    "start_time": "2023-04-28T19:04:00.521Z"
   },
   {
    "duration": 16,
    "start_time": "2023-04-28T19:04:00.533Z"
   },
   {
    "duration": 42,
    "start_time": "2023-04-28T19:04:00.552Z"
   },
   {
    "duration": 36,
    "start_time": "2023-04-28T19:04:00.595Z"
   },
   {
    "duration": 30,
    "start_time": "2023-04-28T19:04:00.633Z"
   },
   {
    "duration": 46,
    "start_time": "2023-04-28T19:04:00.665Z"
   },
   {
    "duration": 84,
    "start_time": "2023-04-28T19:04:00.714Z"
   },
   {
    "duration": 4,
    "start_time": "2023-04-28T19:07:29.282Z"
   },
   {
    "duration": 3,
    "start_time": "2023-04-28T19:15:07.629Z"
   },
   {
    "duration": 25,
    "start_time": "2023-04-28T19:18:22.171Z"
   },
   {
    "duration": 14,
    "start_time": "2023-04-28T19:18:38.464Z"
   },
   {
    "duration": 12,
    "start_time": "2023-04-28T19:18:43.265Z"
   },
   {
    "duration": 114,
    "start_time": "2023-04-28T19:50:53.523Z"
   },
   {
    "duration": 1449,
    "start_time": "2023-04-28T19:51:02.816Z"
   },
   {
    "duration": 29,
    "start_time": "2023-04-28T19:51:04.267Z"
   },
   {
    "duration": 12,
    "start_time": "2023-04-28T19:51:04.297Z"
   },
   {
    "duration": 18,
    "start_time": "2023-04-28T19:51:04.311Z"
   },
   {
    "duration": 24,
    "start_time": "2023-04-28T19:51:04.331Z"
   },
   {
    "duration": 789,
    "start_time": "2023-04-28T19:51:04.357Z"
   },
   {
    "duration": 22,
    "start_time": "2023-04-28T19:51:05.148Z"
   },
   {
    "duration": 30,
    "start_time": "2023-04-28T19:51:05.172Z"
   },
   {
    "duration": 15,
    "start_time": "2023-04-28T19:51:05.203Z"
   },
   {
    "duration": 26,
    "start_time": "2023-04-28T19:51:05.219Z"
   },
   {
    "duration": 3,
    "start_time": "2023-04-28T19:51:05.247Z"
   },
   {
    "duration": 41,
    "start_time": "2023-04-28T19:51:05.251Z"
   },
   {
    "duration": 95,
    "start_time": "2023-04-28T19:51:05.293Z"
   },
   {
    "duration": 109,
    "start_time": "2023-04-28T19:51:05.394Z"
   },
   {
    "duration": 270,
    "start_time": "2023-04-28T19:51:05.505Z"
   },
   {
    "duration": 0,
    "start_time": "2023-04-28T19:51:05.777Z"
   },
   {
    "duration": 4,
    "start_time": "2023-04-28T19:51:18.819Z"
   },
   {
    "duration": 9,
    "start_time": "2023-04-28T19:51:50.466Z"
   },
   {
    "duration": 11,
    "start_time": "2023-04-28T19:52:00.815Z"
   },
   {
    "duration": 14,
    "start_time": "2023-04-28T19:53:10.214Z"
   },
   {
    "duration": 1571,
    "start_time": "2023-04-28T19:53:31.277Z"
   },
   {
    "duration": 28,
    "start_time": "2023-04-28T19:53:32.850Z"
   },
   {
    "duration": 13,
    "start_time": "2023-04-28T19:53:32.880Z"
   },
   {
    "duration": 12,
    "start_time": "2023-04-28T19:53:32.895Z"
   },
   {
    "duration": 7,
    "start_time": "2023-04-28T19:53:32.910Z"
   },
   {
    "duration": 756,
    "start_time": "2023-04-28T19:53:32.918Z"
   },
   {
    "duration": 29,
    "start_time": "2023-04-28T19:53:33.676Z"
   },
   {
    "duration": 10,
    "start_time": "2023-04-28T19:53:33.707Z"
   },
   {
    "duration": 10,
    "start_time": "2023-04-28T19:53:33.719Z"
   },
   {
    "duration": 15,
    "start_time": "2023-04-28T19:53:33.730Z"
   },
   {
    "duration": 38,
    "start_time": "2023-04-28T19:53:33.747Z"
   },
   {
    "duration": 15,
    "start_time": "2023-04-28T19:53:33.787Z"
   },
   {
    "duration": 82,
    "start_time": "2023-04-28T19:53:33.804Z"
   },
   {
    "duration": 100,
    "start_time": "2023-04-28T19:53:33.892Z"
   },
   {
    "duration": 10,
    "start_time": "2023-04-28T19:53:33.994Z"
   },
   {
    "duration": 87,
    "start_time": "2023-04-28T19:53:34.007Z"
   },
   {
    "duration": 50,
    "start_time": "2023-04-29T08:03:39.620Z"
   },
   {
    "duration": 1721,
    "start_time": "2023-04-29T08:03:45.873Z"
   },
   {
    "duration": 88,
    "start_time": "2023-04-29T08:03:47.596Z"
   },
   {
    "duration": 15,
    "start_time": "2023-04-29T08:03:47.686Z"
   },
   {
    "duration": 32,
    "start_time": "2023-04-29T08:03:47.704Z"
   },
   {
    "duration": 20,
    "start_time": "2023-04-29T08:03:47.738Z"
   },
   {
    "duration": 762,
    "start_time": "2023-04-29T08:03:47.760Z"
   },
   {
    "duration": 27,
    "start_time": "2023-04-29T08:03:48.523Z"
   },
   {
    "duration": 11,
    "start_time": "2023-04-29T08:03:48.552Z"
   },
   {
    "duration": 9,
    "start_time": "2023-04-29T08:03:48.565Z"
   },
   {
    "duration": 48,
    "start_time": "2023-04-29T08:03:48.577Z"
   },
   {
    "duration": 12,
    "start_time": "2023-04-29T08:03:48.626Z"
   },
   {
    "duration": 78,
    "start_time": "2023-04-29T08:03:48.639Z"
   },
   {
    "duration": 93,
    "start_time": "2023-04-29T08:03:48.719Z"
   },
   {
    "duration": 29,
    "start_time": "2023-04-29T08:03:48.815Z"
   },
   {
    "duration": 65,
    "start_time": "2023-04-29T08:03:48.846Z"
   },
   {
    "duration": 15,
    "start_time": "2023-04-29T08:03:48.915Z"
   },
   {
    "duration": 12,
    "start_time": "2023-04-29T08:03:49.012Z"
   },
   {
    "duration": 122,
    "start_time": "2023-04-29T08:05:00.882Z"
   },
   {
    "duration": 5,
    "start_time": "2023-04-29T08:05:29.435Z"
   },
   {
    "duration": 9,
    "start_time": "2023-04-29T08:05:40.291Z"
   },
   {
    "duration": 10,
    "start_time": "2023-04-29T08:08:03.817Z"
   },
   {
    "duration": 4,
    "start_time": "2023-04-29T08:08:16.979Z"
   },
   {
    "duration": 10,
    "start_time": "2023-04-29T08:08:29.486Z"
   },
   {
    "duration": 9,
    "start_time": "2023-04-29T08:09:36.607Z"
   },
   {
    "duration": 1481,
    "start_time": "2023-04-29T08:29:39.181Z"
   },
   {
    "duration": 28,
    "start_time": "2023-04-29T08:29:40.664Z"
   },
   {
    "duration": 14,
    "start_time": "2023-04-29T08:29:40.694Z"
   },
   {
    "duration": 13,
    "start_time": "2023-04-29T08:29:40.710Z"
   },
   {
    "duration": 7,
    "start_time": "2023-04-29T08:29:40.725Z"
   },
   {
    "duration": 738,
    "start_time": "2023-04-29T08:29:40.734Z"
   },
   {
    "duration": 24,
    "start_time": "2023-04-29T08:29:41.474Z"
   },
   {
    "duration": 10,
    "start_time": "2023-04-29T08:29:41.513Z"
   },
   {
    "duration": 14,
    "start_time": "2023-04-29T08:29:41.525Z"
   },
   {
    "duration": 18,
    "start_time": "2023-04-29T08:29:41.541Z"
   },
   {
    "duration": 3,
    "start_time": "2023-04-29T08:29:41.561Z"
   },
   {
    "duration": 49,
    "start_time": "2023-04-29T08:29:41.566Z"
   },
   {
    "duration": 104,
    "start_time": "2023-04-29T08:29:41.616Z"
   },
   {
    "duration": 6,
    "start_time": "2023-04-29T08:29:41.723Z"
   },
   {
    "duration": 5,
    "start_time": "2023-04-29T08:29:41.731Z"
   },
   {
    "duration": 82,
    "start_time": "2023-04-29T08:29:41.739Z"
   },
   {
    "duration": 90,
    "start_time": "2023-04-29T08:29:41.823Z"
   },
   {
    "duration": 10,
    "start_time": "2023-04-29T08:29:41.914Z"
   },
   {
    "duration": 2320,
    "start_time": "2023-04-29T09:43:09.873Z"
   },
   {
    "duration": 77,
    "start_time": "2023-04-29T09:43:12.196Z"
   },
   {
    "duration": 13,
    "start_time": "2023-04-29T09:43:12.275Z"
   },
   {
    "duration": 13,
    "start_time": "2023-04-29T09:43:12.290Z"
   },
   {
    "duration": 5,
    "start_time": "2023-04-29T09:43:12.304Z"
   },
   {
    "duration": 803,
    "start_time": "2023-04-29T09:43:12.310Z"
   },
   {
    "duration": 37,
    "start_time": "2023-04-29T09:43:13.115Z"
   },
   {
    "duration": 12,
    "start_time": "2023-04-29T09:43:13.153Z"
   },
   {
    "duration": 12,
    "start_time": "2023-04-29T09:43:13.167Z"
   },
   {
    "duration": 22,
    "start_time": "2023-04-29T09:43:13.182Z"
   },
   {
    "duration": 4,
    "start_time": "2023-04-29T09:43:13.235Z"
   },
   {
    "duration": 19,
    "start_time": "2023-04-29T09:43:13.241Z"
   },
   {
    "duration": 99,
    "start_time": "2023-04-29T09:43:13.336Z"
   },
   {
    "duration": 12,
    "start_time": "2023-04-29T09:43:13.437Z"
   },
   {
    "duration": 16,
    "start_time": "2023-04-29T09:43:13.451Z"
   },
   {
    "duration": 15,
    "start_time": "2023-04-29T09:43:13.535Z"
   },
   {
    "duration": 9,
    "start_time": "2023-04-29T09:43:13.633Z"
   },
   {
    "duration": 21,
    "start_time": "2023-04-29T09:43:13.644Z"
   },
   {
    "duration": 8,
    "start_time": "2023-04-29T09:48:02.033Z"
   },
   {
    "duration": 6,
    "start_time": "2023-04-29T10:02:22.967Z"
   },
   {
    "duration": 1637,
    "start_time": "2023-04-29T16:38:07.035Z"
   },
   {
    "duration": 87,
    "start_time": "2023-04-29T16:38:08.674Z"
   },
   {
    "duration": 14,
    "start_time": "2023-04-29T16:38:08.762Z"
   },
   {
    "duration": 11,
    "start_time": "2023-04-29T16:38:08.778Z"
   },
   {
    "duration": 8,
    "start_time": "2023-04-29T16:38:08.791Z"
   },
   {
    "duration": 755,
    "start_time": "2023-04-29T16:38:08.802Z"
   },
   {
    "duration": 25,
    "start_time": "2023-04-29T16:38:09.558Z"
   },
   {
    "duration": 2,
    "start_time": "2023-04-29T16:38:09.585Z"
   },
   {
    "duration": 27,
    "start_time": "2023-04-29T16:38:09.589Z"
   },
   {
    "duration": 15,
    "start_time": "2023-04-29T16:38:09.619Z"
   },
   {
    "duration": 4,
    "start_time": "2023-04-29T16:38:09.635Z"
   },
   {
    "duration": 113,
    "start_time": "2023-04-29T16:38:09.641Z"
   },
   {
    "duration": 11,
    "start_time": "2023-04-29T16:38:09.813Z"
   },
   {
    "duration": 6,
    "start_time": "2023-04-29T16:38:09.913Z"
   },
   {
    "duration": 5,
    "start_time": "2023-04-29T16:38:09.923Z"
   },
   {
    "duration": 89,
    "start_time": "2023-04-29T16:38:09.929Z"
   },
   {
    "duration": 91,
    "start_time": "2023-04-29T16:38:10.021Z"
   },
   {
    "duration": 9,
    "start_time": "2023-04-29T16:38:10.114Z"
   },
   {
    "duration": 2110,
    "start_time": "2023-04-29T16:56:32.183Z"
   },
   {
    "duration": 89,
    "start_time": "2023-04-29T16:56:34.294Z"
   },
   {
    "duration": 13,
    "start_time": "2023-04-29T16:56:34.384Z"
   },
   {
    "duration": 21,
    "start_time": "2023-04-29T16:56:34.399Z"
   },
   {
    "duration": 4,
    "start_time": "2023-04-29T16:56:34.422Z"
   },
   {
    "duration": 536,
    "start_time": "2023-04-29T16:56:34.427Z"
   },
   {
    "duration": 22,
    "start_time": "2023-04-29T16:56:34.965Z"
   },
   {
    "duration": 2,
    "start_time": "2023-04-29T16:56:34.989Z"
   },
   {
    "duration": 11,
    "start_time": "2023-04-29T16:56:34.992Z"
   },
   {
    "duration": 11,
    "start_time": "2023-04-29T16:56:35.005Z"
   },
   {
    "duration": 3,
    "start_time": "2023-04-29T16:56:35.017Z"
   },
   {
    "duration": 91,
    "start_time": "2023-04-29T16:56:35.021Z"
   },
   {
    "duration": 159,
    "start_time": "2023-04-29T16:56:35.114Z"
   },
   {
    "duration": 8,
    "start_time": "2023-04-29T16:56:35.274Z"
   },
   {
    "duration": 18,
    "start_time": "2023-04-29T16:56:35.284Z"
   },
   {
    "duration": 76,
    "start_time": "2023-04-29T16:56:35.303Z"
   },
   {
    "duration": 92,
    "start_time": "2023-04-29T16:56:35.381Z"
   },
   {
    "duration": 14,
    "start_time": "2023-04-29T16:56:35.474Z"
   }
  ],
  "kernelspec": {
   "display_name": "Python 3 (ipykernel)",
   "language": "python",
   "name": "python3"
  },
  "language_info": {
   "codemirror_mode": {
    "name": "ipython",
    "version": 3
   },
   "file_extension": ".py",
   "mimetype": "text/x-python",
   "name": "python",
   "nbconvert_exporter": "python",
   "pygments_lexer": "ipython3",
   "version": "3.10.9"
  },
  "toc": {
   "base_numbering": 1,
   "nav_menu": {},
   "number_sections": true,
   "sideBar": true,
   "skip_h1_title": true,
   "title_cell": "Содержание",
   "title_sidebar": "Contents",
   "toc_cell": true,
   "toc_position": {},
   "toc_section_display": true,
   "toc_window_display": true
  }
 },
 "nbformat": 4,
 "nbformat_minor": 2
}

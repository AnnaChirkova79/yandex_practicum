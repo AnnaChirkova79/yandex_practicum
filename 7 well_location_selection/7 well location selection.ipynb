{
 "cells": [
  {
   "cell_type": "markdown",
   "metadata": {},
   "source": [
    "# Выбор локации для скважины"
   ]
  },
  {
   "cell_type": "markdown",
   "metadata": {},
   "source": [
    "Допустим, вы работаете в добывающей компании «ГлавРосГосНефть». Нужно решить, где бурить новую скважину.\n",
    "\n",
    "Вам предоставлены пробы нефти в трёх регионах: в каждом 10 000 месторождений, где измерили качество нефти и объём её запасов. Постройте модель машинного обучения, которая поможет определить регион, где добыча принесёт наибольшую прибыль. Проанализируйте возможную прибыль и риски техникой *Bootstrap.*\n",
    "\n",
    "Шаги для выбора локации:\n",
    "\n",
    "- В избранном регионе ищут месторождения, для каждого определяют значения признаков;\n",
    "- Строят модель и оценивают объём запасов;\n",
    "- Выбирают месторождения с самым высокими оценками значений. Количество месторождений зависит от бюджета компании и стоимости разработки одной скважины;\n",
    "- Прибыль равна суммарной прибыли отобранных месторождений."
   ]
  },
  {
   "cell_type": "markdown",
   "metadata": {},
   "source": [
    "# Цель исследования\n",
    "Построение модели машинного обучения, которая поможет определить регион, где добыча принесет наибольшую прибыль.\n",
    "\n",
    "Исследование пройдет по следующим шагам:\n",
    "\n",
    "1. Подготовка и обзор данных.\n",
    "2. Обучение и проверка модели.\n",
    "3. подготовка к расчету прибыли.\n",
    "4. расчет прибыли и рисков.\n",
    "\n",
    "Представлены следующие данные:\n",
    "- id — уникальный идентификатор скважины;\n",
    "- f0, f1, f2 — три признака точек (неважно, что они означают, но сами признаки значимы);\n",
    "- product — объём запасов в скважине (тыс. баррелей)."
   ]
  },
  {
   "cell_type": "markdown",
   "metadata": {},
   "source": [
    "## Загрузка и подготовка данных"
   ]
  },
  {
   "cell_type": "markdown",
   "metadata": {},
   "source": [
    "Импортируем все необходимые библиотеки"
   ]
  },
  {
   "cell_type": "code",
   "execution_count": 1,
   "metadata": {},
   "outputs": [],
   "source": [
    "import pandas as pd\n",
    "\n",
    "import matplotlib.pyplot as plt\n",
    "import seaborn as sns\n",
    "import numpy as np\n",
    "from scipy import stats as st\n",
    "\n",
    "from sklearn.model_selection import train_test_split\n",
    "from sklearn.linear_model import LinearRegression\n",
    "from sklearn.tree import DecisionTreeRegressor\n",
    "from sklearn.ensemble import RandomForestRegressor\n",
    "from sklearn.ensemble import RandomForestClassifier\n",
    "from sklearn.metrics import mean_absolute_error\n",
    "from sklearn.metrics import mean_squared_error\n",
    "\n",
    "from sklearn.tree import DecisionTreeClassifier\n",
    "from sklearn.metrics import accuracy_score\n",
    "from sklearn.linear_model import LogisticRegression\n",
    "from sklearn.linear_model import LinearRegression\n",
    "\n",
    "from sklearn.metrics import precision_score\n",
    "from sklearn.metrics import recall_score\n",
    "from sklearn.metrics import f1_score\n",
    "\n",
    "from sklearn.preprocessing import StandardScaler\n",
    "from sklearn.utils import shuffle\n",
    "from sklearn.metrics import roc_curve\n",
    "from sklearn.metrics import roc_auc_score\n",
    "from sklearn.metrics import r2_score\n",
    "\n",
    "import warnings\n",
    "#убираем системные предупреждения\n",
    "warnings.filterwarnings('ignore')"
   ]
  },
  {
   "cell_type": "markdown",
   "metadata": {},
   "source": [
    "Считаем данные из csv-файлов в датафрейм и сохраним в переменные data_one, data_two, data_three (данные геологоразведки трёх регионов находятся в трех файлах):"
   ]
  },
  {
   "cell_type": "code",
   "execution_count": 2,
   "metadata": {},
   "outputs": [],
   "source": [
    "data_one = pd.read_csv('/datasets/geo_data_0.csv')\n",
    "data_two = pd.read_csv('/datasets/geo_data_1.csv')\n",
    "data_three = pd.read_csv('/datasets/geo_data_2.csv')"
   ]
  },
  {
   "cell_type": "markdown",
   "metadata": {},
   "source": [
    "### Информация о данных первого региона"
   ]
  },
  {
   "cell_type": "code",
   "execution_count": 3,
   "metadata": {},
   "outputs": [
    {
     "data": {
      "text/html": [
       "<div>\n",
       "<style scoped>\n",
       "    .dataframe tbody tr th:only-of-type {\n",
       "        vertical-align: middle;\n",
       "    }\n",
       "\n",
       "    .dataframe tbody tr th {\n",
       "        vertical-align: top;\n",
       "    }\n",
       "\n",
       "    .dataframe thead th {\n",
       "        text-align: right;\n",
       "    }\n",
       "</style>\n",
       "<table border=\"1\" class=\"dataframe\">\n",
       "  <thead>\n",
       "    <tr style=\"text-align: right;\">\n",
       "      <th></th>\n",
       "      <th>id</th>\n",
       "      <th>f0</th>\n",
       "      <th>f1</th>\n",
       "      <th>f2</th>\n",
       "      <th>product</th>\n",
       "    </tr>\n",
       "  </thead>\n",
       "  <tbody>\n",
       "    <tr>\n",
       "      <th>0</th>\n",
       "      <td>txEyH</td>\n",
       "      <td>0.705745</td>\n",
       "      <td>-0.497823</td>\n",
       "      <td>1.221170</td>\n",
       "      <td>105.280062</td>\n",
       "    </tr>\n",
       "    <tr>\n",
       "      <th>1</th>\n",
       "      <td>2acmU</td>\n",
       "      <td>1.334711</td>\n",
       "      <td>-0.340164</td>\n",
       "      <td>4.365080</td>\n",
       "      <td>73.037750</td>\n",
       "    </tr>\n",
       "    <tr>\n",
       "      <th>2</th>\n",
       "      <td>409Wp</td>\n",
       "      <td>1.022732</td>\n",
       "      <td>0.151990</td>\n",
       "      <td>1.419926</td>\n",
       "      <td>85.265647</td>\n",
       "    </tr>\n",
       "    <tr>\n",
       "      <th>3</th>\n",
       "      <td>iJLyR</td>\n",
       "      <td>-0.032172</td>\n",
       "      <td>0.139033</td>\n",
       "      <td>2.978566</td>\n",
       "      <td>168.620776</td>\n",
       "    </tr>\n",
       "    <tr>\n",
       "      <th>4</th>\n",
       "      <td>Xdl7t</td>\n",
       "      <td>1.988431</td>\n",
       "      <td>0.155413</td>\n",
       "      <td>4.751769</td>\n",
       "      <td>154.036647</td>\n",
       "    </tr>\n",
       "  </tbody>\n",
       "</table>\n",
       "</div>"
      ],
      "text/plain": [
       "      id        f0        f1        f2     product\n",
       "0  txEyH  0.705745 -0.497823  1.221170  105.280062\n",
       "1  2acmU  1.334711 -0.340164  4.365080   73.037750\n",
       "2  409Wp  1.022732  0.151990  1.419926   85.265647\n",
       "3  iJLyR -0.032172  0.139033  2.978566  168.620776\n",
       "4  Xdl7t  1.988431  0.155413  4.751769  154.036647"
      ]
     },
     "execution_count": 3,
     "metadata": {},
     "output_type": "execute_result"
    }
   ],
   "source": [
    "data_one.head() "
   ]
  },
  {
   "cell_type": "code",
   "execution_count": 4,
   "metadata": {},
   "outputs": [
    {
     "name": "stdout",
     "output_type": "stream",
     "text": [
      "id         0\n",
      "f0         0\n",
      "f1         0\n",
      "f2         0\n",
      "product    0\n",
      "dtype: int64\n",
      "\n",
      "Число дубликатов: 0\n"
     ]
    }
   ],
   "source": [
    "print(data_one.isna().sum())\n",
    "print('\\nЧисло дубликатов:', data_one.duplicated().sum())"
   ]
  },
  {
   "cell_type": "code",
   "execution_count": 5,
   "metadata": {},
   "outputs": [
    {
     "name": "stdout",
     "output_type": "stream",
     "text": [
      "<class 'pandas.core.frame.DataFrame'>\n",
      "RangeIndex: 100000 entries, 0 to 99999\n",
      "Data columns (total 5 columns):\n",
      " #   Column   Non-Null Count   Dtype  \n",
      "---  ------   --------------   -----  \n",
      " 0   id       100000 non-null  object \n",
      " 1   f0       100000 non-null  float64\n",
      " 2   f1       100000 non-null  float64\n",
      " 3   f2       100000 non-null  float64\n",
      " 4   product  100000 non-null  float64\n",
      "dtypes: float64(4), object(1)\n",
      "memory usage: 3.8+ MB\n"
     ]
    },
    {
     "data": {
      "text/html": [
       "<div>\n",
       "<style scoped>\n",
       "    .dataframe tbody tr th:only-of-type {\n",
       "        vertical-align: middle;\n",
       "    }\n",
       "\n",
       "    .dataframe tbody tr th {\n",
       "        vertical-align: top;\n",
       "    }\n",
       "\n",
       "    .dataframe thead th {\n",
       "        text-align: right;\n",
       "    }\n",
       "</style>\n",
       "<table border=\"1\" class=\"dataframe\">\n",
       "  <thead>\n",
       "    <tr style=\"text-align: right;\">\n",
       "      <th></th>\n",
       "      <th>f0</th>\n",
       "      <th>f1</th>\n",
       "      <th>f2</th>\n",
       "      <th>product</th>\n",
       "    </tr>\n",
       "  </thead>\n",
       "  <tbody>\n",
       "    <tr>\n",
       "      <th>count</th>\n",
       "      <td>100000.000000</td>\n",
       "      <td>100000.000000</td>\n",
       "      <td>100000.000000</td>\n",
       "      <td>100000.000000</td>\n",
       "    </tr>\n",
       "    <tr>\n",
       "      <th>mean</th>\n",
       "      <td>0.500419</td>\n",
       "      <td>0.250143</td>\n",
       "      <td>2.502647</td>\n",
       "      <td>92.500000</td>\n",
       "    </tr>\n",
       "    <tr>\n",
       "      <th>std</th>\n",
       "      <td>0.871832</td>\n",
       "      <td>0.504433</td>\n",
       "      <td>3.248248</td>\n",
       "      <td>44.288691</td>\n",
       "    </tr>\n",
       "    <tr>\n",
       "      <th>min</th>\n",
       "      <td>-1.408605</td>\n",
       "      <td>-0.848218</td>\n",
       "      <td>-12.088328</td>\n",
       "      <td>0.000000</td>\n",
       "    </tr>\n",
       "    <tr>\n",
       "      <th>25%</th>\n",
       "      <td>-0.072580</td>\n",
       "      <td>-0.200881</td>\n",
       "      <td>0.287748</td>\n",
       "      <td>56.497507</td>\n",
       "    </tr>\n",
       "    <tr>\n",
       "      <th>50%</th>\n",
       "      <td>0.502360</td>\n",
       "      <td>0.250252</td>\n",
       "      <td>2.515969</td>\n",
       "      <td>91.849972</td>\n",
       "    </tr>\n",
       "    <tr>\n",
       "      <th>75%</th>\n",
       "      <td>1.073581</td>\n",
       "      <td>0.700646</td>\n",
       "      <td>4.715088</td>\n",
       "      <td>128.564089</td>\n",
       "    </tr>\n",
       "    <tr>\n",
       "      <th>max</th>\n",
       "      <td>2.362331</td>\n",
       "      <td>1.343769</td>\n",
       "      <td>16.003790</td>\n",
       "      <td>185.364347</td>\n",
       "    </tr>\n",
       "  </tbody>\n",
       "</table>\n",
       "</div>"
      ],
      "text/plain": [
       "                  f0             f1             f2        product\n",
       "count  100000.000000  100000.000000  100000.000000  100000.000000\n",
       "mean        0.500419       0.250143       2.502647      92.500000\n",
       "std         0.871832       0.504433       3.248248      44.288691\n",
       "min        -1.408605      -0.848218     -12.088328       0.000000\n",
       "25%        -0.072580      -0.200881       0.287748      56.497507\n",
       "50%         0.502360       0.250252       2.515969      91.849972\n",
       "75%         1.073581       0.700646       4.715088     128.564089\n",
       "max         2.362331       1.343769      16.003790     185.364347"
      ]
     },
     "execution_count": 5,
     "metadata": {},
     "output_type": "execute_result"
    }
   ],
   "source": [
    "data_one.info()\n",
    "data_one.describe()"
   ]
  },
  {
   "cell_type": "code",
   "execution_count": 6,
   "metadata": {},
   "outputs": [
    {
     "data": {
      "text/html": [
       "<div>\n",
       "<style scoped>\n",
       "    .dataframe tbody tr th:only-of-type {\n",
       "        vertical-align: middle;\n",
       "    }\n",
       "\n",
       "    .dataframe tbody tr th {\n",
       "        vertical-align: top;\n",
       "    }\n",
       "\n",
       "    .dataframe thead th {\n",
       "        text-align: right;\n",
       "    }\n",
       "</style>\n",
       "<table border=\"1\" class=\"dataframe\">\n",
       "  <thead>\n",
       "    <tr style=\"text-align: right;\">\n",
       "      <th></th>\n",
       "      <th>f0</th>\n",
       "      <th>f1</th>\n",
       "      <th>f2</th>\n",
       "      <th>product</th>\n",
       "    </tr>\n",
       "  </thead>\n",
       "  <tbody>\n",
       "    <tr>\n",
       "      <th>f0</th>\n",
       "      <td>1.000000</td>\n",
       "      <td>-0.440723</td>\n",
       "      <td>-0.003153</td>\n",
       "      <td>0.143536</td>\n",
       "    </tr>\n",
       "    <tr>\n",
       "      <th>f1</th>\n",
       "      <td>-0.440723</td>\n",
       "      <td>1.000000</td>\n",
       "      <td>0.001724</td>\n",
       "      <td>-0.192356</td>\n",
       "    </tr>\n",
       "    <tr>\n",
       "      <th>f2</th>\n",
       "      <td>-0.003153</td>\n",
       "      <td>0.001724</td>\n",
       "      <td>1.000000</td>\n",
       "      <td>0.483663</td>\n",
       "    </tr>\n",
       "    <tr>\n",
       "      <th>product</th>\n",
       "      <td>0.143536</td>\n",
       "      <td>-0.192356</td>\n",
       "      <td>0.483663</td>\n",
       "      <td>1.000000</td>\n",
       "    </tr>\n",
       "  </tbody>\n",
       "</table>\n",
       "</div>"
      ],
      "text/plain": [
       "               f0        f1        f2   product\n",
       "f0       1.000000 -0.440723 -0.003153  0.143536\n",
       "f1      -0.440723  1.000000  0.001724 -0.192356\n",
       "f2      -0.003153  0.001724  1.000000  0.483663\n",
       "product  0.143536 -0.192356  0.483663  1.000000"
      ]
     },
     "execution_count": 6,
     "metadata": {},
     "output_type": "execute_result"
    }
   ],
   "source": [
    "data_one.corr()"
   ]
  },
  {
   "cell_type": "code",
   "execution_count": 7,
   "metadata": {},
   "outputs": [],
   "source": [
    "# удалим столбец id\n",
    "data_one_del = data_one.drop(['id'], axis=1)"
   ]
  },
  {
   "cell_type": "markdown",
   "metadata": {},
   "source": [
    "### Информация о данных второго региона"
   ]
  },
  {
   "cell_type": "code",
   "execution_count": 8,
   "metadata": {},
   "outputs": [
    {
     "data": {
      "text/html": [
       "<div>\n",
       "<style scoped>\n",
       "    .dataframe tbody tr th:only-of-type {\n",
       "        vertical-align: middle;\n",
       "    }\n",
       "\n",
       "    .dataframe tbody tr th {\n",
       "        vertical-align: top;\n",
       "    }\n",
       "\n",
       "    .dataframe thead th {\n",
       "        text-align: right;\n",
       "    }\n",
       "</style>\n",
       "<table border=\"1\" class=\"dataframe\">\n",
       "  <thead>\n",
       "    <tr style=\"text-align: right;\">\n",
       "      <th></th>\n",
       "      <th>id</th>\n",
       "      <th>f0</th>\n",
       "      <th>f1</th>\n",
       "      <th>f2</th>\n",
       "      <th>product</th>\n",
       "    </tr>\n",
       "  </thead>\n",
       "  <tbody>\n",
       "    <tr>\n",
       "      <th>0</th>\n",
       "      <td>kBEdx</td>\n",
       "      <td>-15.001348</td>\n",
       "      <td>-8.276000</td>\n",
       "      <td>-0.005876</td>\n",
       "      <td>3.179103</td>\n",
       "    </tr>\n",
       "    <tr>\n",
       "      <th>1</th>\n",
       "      <td>62mP7</td>\n",
       "      <td>14.272088</td>\n",
       "      <td>-3.475083</td>\n",
       "      <td>0.999183</td>\n",
       "      <td>26.953261</td>\n",
       "    </tr>\n",
       "    <tr>\n",
       "      <th>2</th>\n",
       "      <td>vyE1P</td>\n",
       "      <td>6.263187</td>\n",
       "      <td>-5.948386</td>\n",
       "      <td>5.001160</td>\n",
       "      <td>134.766305</td>\n",
       "    </tr>\n",
       "    <tr>\n",
       "      <th>3</th>\n",
       "      <td>KcrkZ</td>\n",
       "      <td>-13.081196</td>\n",
       "      <td>-11.506057</td>\n",
       "      <td>4.999415</td>\n",
       "      <td>137.945408</td>\n",
       "    </tr>\n",
       "    <tr>\n",
       "      <th>4</th>\n",
       "      <td>AHL4O</td>\n",
       "      <td>12.702195</td>\n",
       "      <td>-8.147433</td>\n",
       "      <td>5.004363</td>\n",
       "      <td>134.766305</td>\n",
       "    </tr>\n",
       "  </tbody>\n",
       "</table>\n",
       "</div>"
      ],
      "text/plain": [
       "      id         f0         f1        f2     product\n",
       "0  kBEdx -15.001348  -8.276000 -0.005876    3.179103\n",
       "1  62mP7  14.272088  -3.475083  0.999183   26.953261\n",
       "2  vyE1P   6.263187  -5.948386  5.001160  134.766305\n",
       "3  KcrkZ -13.081196 -11.506057  4.999415  137.945408\n",
       "4  AHL4O  12.702195  -8.147433  5.004363  134.766305"
      ]
     },
     "execution_count": 8,
     "metadata": {},
     "output_type": "execute_result"
    }
   ],
   "source": [
    "data_two.head() "
   ]
  },
  {
   "cell_type": "code",
   "execution_count": 9,
   "metadata": {},
   "outputs": [
    {
     "name": "stdout",
     "output_type": "stream",
     "text": [
      "id         0\n",
      "f0         0\n",
      "f1         0\n",
      "f2         0\n",
      "product    0\n",
      "dtype: int64\n",
      "\n",
      "Число дубликатов: 0\n"
     ]
    }
   ],
   "source": [
    "print(data_two.isna().sum())\n",
    "print('\\nЧисло дубликатов:', data_two.duplicated().sum())"
   ]
  },
  {
   "cell_type": "code",
   "execution_count": 10,
   "metadata": {},
   "outputs": [
    {
     "name": "stdout",
     "output_type": "stream",
     "text": [
      "<class 'pandas.core.frame.DataFrame'>\n",
      "RangeIndex: 100000 entries, 0 to 99999\n",
      "Data columns (total 5 columns):\n",
      " #   Column   Non-Null Count   Dtype  \n",
      "---  ------   --------------   -----  \n",
      " 0   id       100000 non-null  object \n",
      " 1   f0       100000 non-null  float64\n",
      " 2   f1       100000 non-null  float64\n",
      " 3   f2       100000 non-null  float64\n",
      " 4   product  100000 non-null  float64\n",
      "dtypes: float64(4), object(1)\n",
      "memory usage: 3.8+ MB\n"
     ]
    },
    {
     "data": {
      "text/html": [
       "<div>\n",
       "<style scoped>\n",
       "    .dataframe tbody tr th:only-of-type {\n",
       "        vertical-align: middle;\n",
       "    }\n",
       "\n",
       "    .dataframe tbody tr th {\n",
       "        vertical-align: top;\n",
       "    }\n",
       "\n",
       "    .dataframe thead th {\n",
       "        text-align: right;\n",
       "    }\n",
       "</style>\n",
       "<table border=\"1\" class=\"dataframe\">\n",
       "  <thead>\n",
       "    <tr style=\"text-align: right;\">\n",
       "      <th></th>\n",
       "      <th>f0</th>\n",
       "      <th>f1</th>\n",
       "      <th>f2</th>\n",
       "      <th>product</th>\n",
       "    </tr>\n",
       "  </thead>\n",
       "  <tbody>\n",
       "    <tr>\n",
       "      <th>count</th>\n",
       "      <td>100000.000000</td>\n",
       "      <td>100000.000000</td>\n",
       "      <td>100000.000000</td>\n",
       "      <td>100000.000000</td>\n",
       "    </tr>\n",
       "    <tr>\n",
       "      <th>mean</th>\n",
       "      <td>1.141296</td>\n",
       "      <td>-4.796579</td>\n",
       "      <td>2.494541</td>\n",
       "      <td>68.825000</td>\n",
       "    </tr>\n",
       "    <tr>\n",
       "      <th>std</th>\n",
       "      <td>8.965932</td>\n",
       "      <td>5.119872</td>\n",
       "      <td>1.703572</td>\n",
       "      <td>45.944423</td>\n",
       "    </tr>\n",
       "    <tr>\n",
       "      <th>min</th>\n",
       "      <td>-31.609576</td>\n",
       "      <td>-26.358598</td>\n",
       "      <td>-0.018144</td>\n",
       "      <td>0.000000</td>\n",
       "    </tr>\n",
       "    <tr>\n",
       "      <th>25%</th>\n",
       "      <td>-6.298551</td>\n",
       "      <td>-8.267985</td>\n",
       "      <td>1.000021</td>\n",
       "      <td>26.953261</td>\n",
       "    </tr>\n",
       "    <tr>\n",
       "      <th>50%</th>\n",
       "      <td>1.153055</td>\n",
       "      <td>-4.813172</td>\n",
       "      <td>2.011479</td>\n",
       "      <td>57.085625</td>\n",
       "    </tr>\n",
       "    <tr>\n",
       "      <th>75%</th>\n",
       "      <td>8.621015</td>\n",
       "      <td>-1.332816</td>\n",
       "      <td>3.999904</td>\n",
       "      <td>107.813044</td>\n",
       "    </tr>\n",
       "    <tr>\n",
       "      <th>max</th>\n",
       "      <td>29.421755</td>\n",
       "      <td>18.734063</td>\n",
       "      <td>5.019721</td>\n",
       "      <td>137.945408</td>\n",
       "    </tr>\n",
       "  </tbody>\n",
       "</table>\n",
       "</div>"
      ],
      "text/plain": [
       "                  f0             f1             f2        product\n",
       "count  100000.000000  100000.000000  100000.000000  100000.000000\n",
       "mean        1.141296      -4.796579       2.494541      68.825000\n",
       "std         8.965932       5.119872       1.703572      45.944423\n",
       "min       -31.609576     -26.358598      -0.018144       0.000000\n",
       "25%        -6.298551      -8.267985       1.000021      26.953261\n",
       "50%         1.153055      -4.813172       2.011479      57.085625\n",
       "75%         8.621015      -1.332816       3.999904     107.813044\n",
       "max        29.421755      18.734063       5.019721     137.945408"
      ]
     },
     "execution_count": 10,
     "metadata": {},
     "output_type": "execute_result"
    }
   ],
   "source": [
    "data_two.info()\n",
    "data_two.describe()"
   ]
  },
  {
   "cell_type": "code",
   "execution_count": 11,
   "metadata": {},
   "outputs": [
    {
     "data": {
      "text/html": [
       "<div>\n",
       "<style scoped>\n",
       "    .dataframe tbody tr th:only-of-type {\n",
       "        vertical-align: middle;\n",
       "    }\n",
       "\n",
       "    .dataframe tbody tr th {\n",
       "        vertical-align: top;\n",
       "    }\n",
       "\n",
       "    .dataframe thead th {\n",
       "        text-align: right;\n",
       "    }\n",
       "</style>\n",
       "<table border=\"1\" class=\"dataframe\">\n",
       "  <thead>\n",
       "    <tr style=\"text-align: right;\">\n",
       "      <th></th>\n",
       "      <th>f0</th>\n",
       "      <th>f1</th>\n",
       "      <th>f2</th>\n",
       "      <th>product</th>\n",
       "    </tr>\n",
       "  </thead>\n",
       "  <tbody>\n",
       "    <tr>\n",
       "      <th>f0</th>\n",
       "      <td>1.000000</td>\n",
       "      <td>0.182287</td>\n",
       "      <td>-0.001777</td>\n",
       "      <td>-0.030491</td>\n",
       "    </tr>\n",
       "    <tr>\n",
       "      <th>f1</th>\n",
       "      <td>0.182287</td>\n",
       "      <td>1.000000</td>\n",
       "      <td>-0.002595</td>\n",
       "      <td>-0.010155</td>\n",
       "    </tr>\n",
       "    <tr>\n",
       "      <th>f2</th>\n",
       "      <td>-0.001777</td>\n",
       "      <td>-0.002595</td>\n",
       "      <td>1.000000</td>\n",
       "      <td>0.999397</td>\n",
       "    </tr>\n",
       "    <tr>\n",
       "      <th>product</th>\n",
       "      <td>-0.030491</td>\n",
       "      <td>-0.010155</td>\n",
       "      <td>0.999397</td>\n",
       "      <td>1.000000</td>\n",
       "    </tr>\n",
       "  </tbody>\n",
       "</table>\n",
       "</div>"
      ],
      "text/plain": [
       "               f0        f1        f2   product\n",
       "f0       1.000000  0.182287 -0.001777 -0.030491\n",
       "f1       0.182287  1.000000 -0.002595 -0.010155\n",
       "f2      -0.001777 -0.002595  1.000000  0.999397\n",
       "product -0.030491 -0.010155  0.999397  1.000000"
      ]
     },
     "execution_count": 11,
     "metadata": {},
     "output_type": "execute_result"
    }
   ],
   "source": [
    "data_two.corr()"
   ]
  },
  {
   "cell_type": "code",
   "execution_count": 12,
   "metadata": {},
   "outputs": [],
   "source": [
    "# удалим столбец id\n",
    "data_two_del = data_two.drop(['id'], axis=1)"
   ]
  },
  {
   "cell_type": "markdown",
   "metadata": {},
   "source": [
    "### Информация о данных третьего региона"
   ]
  },
  {
   "cell_type": "code",
   "execution_count": 13,
   "metadata": {},
   "outputs": [
    {
     "data": {
      "text/html": [
       "<div>\n",
       "<style scoped>\n",
       "    .dataframe tbody tr th:only-of-type {\n",
       "        vertical-align: middle;\n",
       "    }\n",
       "\n",
       "    .dataframe tbody tr th {\n",
       "        vertical-align: top;\n",
       "    }\n",
       "\n",
       "    .dataframe thead th {\n",
       "        text-align: right;\n",
       "    }\n",
       "</style>\n",
       "<table border=\"1\" class=\"dataframe\">\n",
       "  <thead>\n",
       "    <tr style=\"text-align: right;\">\n",
       "      <th></th>\n",
       "      <th>id</th>\n",
       "      <th>f0</th>\n",
       "      <th>f1</th>\n",
       "      <th>f2</th>\n",
       "      <th>product</th>\n",
       "    </tr>\n",
       "  </thead>\n",
       "  <tbody>\n",
       "    <tr>\n",
       "      <th>0</th>\n",
       "      <td>fwXo0</td>\n",
       "      <td>-1.146987</td>\n",
       "      <td>0.963328</td>\n",
       "      <td>-0.828965</td>\n",
       "      <td>27.758673</td>\n",
       "    </tr>\n",
       "    <tr>\n",
       "      <th>1</th>\n",
       "      <td>WJtFt</td>\n",
       "      <td>0.262778</td>\n",
       "      <td>0.269839</td>\n",
       "      <td>-2.530187</td>\n",
       "      <td>56.069697</td>\n",
       "    </tr>\n",
       "    <tr>\n",
       "      <th>2</th>\n",
       "      <td>ovLUW</td>\n",
       "      <td>0.194587</td>\n",
       "      <td>0.289035</td>\n",
       "      <td>-5.586433</td>\n",
       "      <td>62.871910</td>\n",
       "    </tr>\n",
       "    <tr>\n",
       "      <th>3</th>\n",
       "      <td>q6cA6</td>\n",
       "      <td>2.236060</td>\n",
       "      <td>-0.553760</td>\n",
       "      <td>0.930038</td>\n",
       "      <td>114.572842</td>\n",
       "    </tr>\n",
       "    <tr>\n",
       "      <th>4</th>\n",
       "      <td>WPMUX</td>\n",
       "      <td>-0.515993</td>\n",
       "      <td>1.716266</td>\n",
       "      <td>5.899011</td>\n",
       "      <td>149.600746</td>\n",
       "    </tr>\n",
       "  </tbody>\n",
       "</table>\n",
       "</div>"
      ],
      "text/plain": [
       "      id        f0        f1        f2     product\n",
       "0  fwXo0 -1.146987  0.963328 -0.828965   27.758673\n",
       "1  WJtFt  0.262778  0.269839 -2.530187   56.069697\n",
       "2  ovLUW  0.194587  0.289035 -5.586433   62.871910\n",
       "3  q6cA6  2.236060 -0.553760  0.930038  114.572842\n",
       "4  WPMUX -0.515993  1.716266  5.899011  149.600746"
      ]
     },
     "execution_count": 13,
     "metadata": {},
     "output_type": "execute_result"
    }
   ],
   "source": [
    "data_three.head() "
   ]
  },
  {
   "cell_type": "code",
   "execution_count": 14,
   "metadata": {},
   "outputs": [
    {
     "name": "stdout",
     "output_type": "stream",
     "text": [
      "id         0\n",
      "f0         0\n",
      "f1         0\n",
      "f2         0\n",
      "product    0\n",
      "dtype: int64\n",
      "\n",
      "Число дубликатов: 0\n"
     ]
    }
   ],
   "source": [
    "print(data_three.isna().sum())\n",
    "print('\\nЧисло дубликатов:', data_three.duplicated().sum())"
   ]
  },
  {
   "cell_type": "code",
   "execution_count": 15,
   "metadata": {},
   "outputs": [
    {
     "name": "stdout",
     "output_type": "stream",
     "text": [
      "<class 'pandas.core.frame.DataFrame'>\n",
      "RangeIndex: 100000 entries, 0 to 99999\n",
      "Data columns (total 5 columns):\n",
      " #   Column   Non-Null Count   Dtype  \n",
      "---  ------   --------------   -----  \n",
      " 0   id       100000 non-null  object \n",
      " 1   f0       100000 non-null  float64\n",
      " 2   f1       100000 non-null  float64\n",
      " 3   f2       100000 non-null  float64\n",
      " 4   product  100000 non-null  float64\n",
      "dtypes: float64(4), object(1)\n",
      "memory usage: 3.8+ MB\n"
     ]
    },
    {
     "data": {
      "text/html": [
       "<div>\n",
       "<style scoped>\n",
       "    .dataframe tbody tr th:only-of-type {\n",
       "        vertical-align: middle;\n",
       "    }\n",
       "\n",
       "    .dataframe tbody tr th {\n",
       "        vertical-align: top;\n",
       "    }\n",
       "\n",
       "    .dataframe thead th {\n",
       "        text-align: right;\n",
       "    }\n",
       "</style>\n",
       "<table border=\"1\" class=\"dataframe\">\n",
       "  <thead>\n",
       "    <tr style=\"text-align: right;\">\n",
       "      <th></th>\n",
       "      <th>f0</th>\n",
       "      <th>f1</th>\n",
       "      <th>f2</th>\n",
       "      <th>product</th>\n",
       "    </tr>\n",
       "  </thead>\n",
       "  <tbody>\n",
       "    <tr>\n",
       "      <th>count</th>\n",
       "      <td>100000.000000</td>\n",
       "      <td>100000.000000</td>\n",
       "      <td>100000.000000</td>\n",
       "      <td>100000.000000</td>\n",
       "    </tr>\n",
       "    <tr>\n",
       "      <th>mean</th>\n",
       "      <td>0.002023</td>\n",
       "      <td>-0.002081</td>\n",
       "      <td>2.495128</td>\n",
       "      <td>95.000000</td>\n",
       "    </tr>\n",
       "    <tr>\n",
       "      <th>std</th>\n",
       "      <td>1.732045</td>\n",
       "      <td>1.730417</td>\n",
       "      <td>3.473445</td>\n",
       "      <td>44.749921</td>\n",
       "    </tr>\n",
       "    <tr>\n",
       "      <th>min</th>\n",
       "      <td>-8.760004</td>\n",
       "      <td>-7.084020</td>\n",
       "      <td>-11.970335</td>\n",
       "      <td>0.000000</td>\n",
       "    </tr>\n",
       "    <tr>\n",
       "      <th>25%</th>\n",
       "      <td>-1.162288</td>\n",
       "      <td>-1.174820</td>\n",
       "      <td>0.130359</td>\n",
       "      <td>59.450441</td>\n",
       "    </tr>\n",
       "    <tr>\n",
       "      <th>50%</th>\n",
       "      <td>0.009424</td>\n",
       "      <td>-0.009482</td>\n",
       "      <td>2.484236</td>\n",
       "      <td>94.925613</td>\n",
       "    </tr>\n",
       "    <tr>\n",
       "      <th>75%</th>\n",
       "      <td>1.158535</td>\n",
       "      <td>1.163678</td>\n",
       "      <td>4.858794</td>\n",
       "      <td>130.595027</td>\n",
       "    </tr>\n",
       "    <tr>\n",
       "      <th>max</th>\n",
       "      <td>7.238262</td>\n",
       "      <td>7.844801</td>\n",
       "      <td>16.739402</td>\n",
       "      <td>190.029838</td>\n",
       "    </tr>\n",
       "  </tbody>\n",
       "</table>\n",
       "</div>"
      ],
      "text/plain": [
       "                  f0             f1             f2        product\n",
       "count  100000.000000  100000.000000  100000.000000  100000.000000\n",
       "mean        0.002023      -0.002081       2.495128      95.000000\n",
       "std         1.732045       1.730417       3.473445      44.749921\n",
       "min        -8.760004      -7.084020     -11.970335       0.000000\n",
       "25%        -1.162288      -1.174820       0.130359      59.450441\n",
       "50%         0.009424      -0.009482       2.484236      94.925613\n",
       "75%         1.158535       1.163678       4.858794     130.595027\n",
       "max         7.238262       7.844801      16.739402     190.029838"
      ]
     },
     "execution_count": 15,
     "metadata": {},
     "output_type": "execute_result"
    }
   ],
   "source": [
    "data_three.info()\n",
    "data_three.describe()"
   ]
  },
  {
   "cell_type": "code",
   "execution_count": 16,
   "metadata": {},
   "outputs": [
    {
     "data": {
      "text/html": [
       "<div>\n",
       "<style scoped>\n",
       "    .dataframe tbody tr th:only-of-type {\n",
       "        vertical-align: middle;\n",
       "    }\n",
       "\n",
       "    .dataframe tbody tr th {\n",
       "        vertical-align: top;\n",
       "    }\n",
       "\n",
       "    .dataframe thead th {\n",
       "        text-align: right;\n",
       "    }\n",
       "</style>\n",
       "<table border=\"1\" class=\"dataframe\">\n",
       "  <thead>\n",
       "    <tr style=\"text-align: right;\">\n",
       "      <th></th>\n",
       "      <th>f0</th>\n",
       "      <th>f1</th>\n",
       "      <th>f2</th>\n",
       "      <th>product</th>\n",
       "    </tr>\n",
       "  </thead>\n",
       "  <tbody>\n",
       "    <tr>\n",
       "      <th>f0</th>\n",
       "      <td>1.000000</td>\n",
       "      <td>0.000528</td>\n",
       "      <td>-0.000448</td>\n",
       "      <td>-0.001987</td>\n",
       "    </tr>\n",
       "    <tr>\n",
       "      <th>f1</th>\n",
       "      <td>0.000528</td>\n",
       "      <td>1.000000</td>\n",
       "      <td>0.000779</td>\n",
       "      <td>-0.001012</td>\n",
       "    </tr>\n",
       "    <tr>\n",
       "      <th>f2</th>\n",
       "      <td>-0.000448</td>\n",
       "      <td>0.000779</td>\n",
       "      <td>1.000000</td>\n",
       "      <td>0.445871</td>\n",
       "    </tr>\n",
       "    <tr>\n",
       "      <th>product</th>\n",
       "      <td>-0.001987</td>\n",
       "      <td>-0.001012</td>\n",
       "      <td>0.445871</td>\n",
       "      <td>1.000000</td>\n",
       "    </tr>\n",
       "  </tbody>\n",
       "</table>\n",
       "</div>"
      ],
      "text/plain": [
       "               f0        f1        f2   product\n",
       "f0       1.000000  0.000528 -0.000448 -0.001987\n",
       "f1       0.000528  1.000000  0.000779 -0.001012\n",
       "f2      -0.000448  0.000779  1.000000  0.445871\n",
       "product -0.001987 -0.001012  0.445871  1.000000"
      ]
     },
     "execution_count": 16,
     "metadata": {},
     "output_type": "execute_result"
    }
   ],
   "source": [
    "data_three.corr()"
   ]
  },
  {
   "cell_type": "code",
   "execution_count": 17,
   "metadata": {},
   "outputs": [],
   "source": [
    "# удалим столбец id\n",
    "data_three_del = data_three.drop(['id'], axis=1)"
   ]
  },
  {
   "cell_type": "markdown",
   "metadata": {},
   "source": [
    "**<u>Вывод по шагу 1:</u>**\n",
    "\n",
    "Данные успешно загружены и не требуют дополнительной предобработки, пропуски и дубликаты отсутствуют, удален столбец id, чтобы избежать ошибок в дальнейшем.\n",
    "\n",
    "Отметим так же, что на корреляции данных значений второго региона, мы видим сильную зависимость целевого показателя 'product' от f2. Значение коэффициента корреляции близко к 1, что означает, что есть сильная положительная связь между показателями - при увеличении одного показателя, значительно увеличивается и второй показатель.\n",
    "\n",
    "Данные готовы к обучению.\n",
    "Признаки:\n",
    "- fo\n",
    "- f1\n",
    "- f2\n",
    "\n",
    "Целевой признак:\n",
    "- product"
   ]
  },
  {
   "cell_type": "markdown",
   "metadata": {},
   "source": [
    "## Обучение и проверка модели"
   ]
  },
  {
   "cell_type": "markdown",
   "metadata": {},
   "source": [
    "### Разобьём данные на обучающую и валидационную выборки в соотношении 75:25"
   ]
  },
  {
   "cell_type": "code",
   "execution_count": 18,
   "metadata": {},
   "outputs": [],
   "source": [
    "# выделим признаки и целевой признак в каждом регионе\n",
    "target_one=data_one_del['product']\n",
    "features_one=data_one_del.drop(['product'], axis=1)\n",
    "\n",
    "target_two=data_two_del['product']\n",
    "features_two=data_two_del.drop(['product'], axis=1)\n",
    "\n",
    "target_three=data_three_del['product']\n",
    "features_three=data_three_del.drop(['product'], axis=1)"
   ]
  },
  {
   "cell_type": "code",
   "execution_count": 19,
   "metadata": {},
   "outputs": [],
   "source": [
    "features_train_one, features_valid_one, target_train_one, target_valid_one = train_test_split(features_one, target_one, test_size=0.25, random_state=12345)"
   ]
  },
  {
   "cell_type": "code",
   "execution_count": 20,
   "metadata": {},
   "outputs": [],
   "source": [
    "features_train_two, features_valid_two, target_train_two, target_valid_two = train_test_split(features_two, target_two, test_size=0.25, random_state=12345)"
   ]
  },
  {
   "cell_type": "code",
   "execution_count": 21,
   "metadata": {},
   "outputs": [],
   "source": [
    "features_train_three, features_valid_three, target_train_three, target_valid_three = train_test_split(features_three, target_three, test_size=0.25, random_state=12345)"
   ]
  },
  {
   "cell_type": "markdown",
   "metadata": {},
   "source": [
    "Данные трех регионов разбиты на обучающие и валидационные выборки в соотношении 75:25"
   ]
  },
  {
   "cell_type": "markdown",
   "metadata": {},
   "source": [
    "### Обучим модель и сделаем предсказания на валидационной выборке."
   ]
  },
  {
   "cell_type": "code",
   "execution_count": 22,
   "metadata": {},
   "outputs": [],
   "source": [
    "# Создаем модель линейной регрессии для первого региона\n",
    "model_one = LinearRegression()"
   ]
  },
  {
   "cell_type": "code",
   "execution_count": 23,
   "metadata": {},
   "outputs": [
    {
     "name": "stdout",
     "output_type": "stream",
     "text": [
      "Первый регион: средний запас предсказанного сырья: 92.59256778438035, RMSE = 37.5794217150813\n"
     ]
    }
   ],
   "source": [
    "# обучим модель на данных первого региона\n",
    "model_one.fit(features_train_one, target_train_one)\n",
    "one_predicted = model_one.predict(features_valid_one)\n",
    "mse_one = mean_squared_error(target_valid_one, one_predicted)\n",
    "rmse_one = mse_one**0.5\n",
    "one_mean = one_predicted.mean()\n",
    "\n",
    "print(f'Первый регион: средний запас предсказанного сырья: {one_mean}, RMSE = {rmse_one}')"
   ]
  },
  {
   "cell_type": "code",
   "execution_count": 24,
   "metadata": {},
   "outputs": [],
   "source": [
    "# Создаем модель линейной регрессии для второго региона\n",
    "model_two = LinearRegression()"
   ]
  },
  {
   "cell_type": "code",
   "execution_count": 25,
   "metadata": {},
   "outputs": [
    {
     "name": "stdout",
     "output_type": "stream",
     "text": [
      "Второй регион: средний запас предсказанного сырья: 68.728546895446, RMSE = 0.893099286775617\n"
     ]
    }
   ],
   "source": [
    "# обучим модель на данных второго региона\n",
    "model_two.fit(features_train_two, target_train_two)\n",
    "two_predicted = model_two.predict(features_valid_two)\n",
    "mse_two = mean_squared_error(target_valid_two, two_predicted)\n",
    "rmse_two = mse_two**0.5\n",
    "two_mean = two_predicted.mean()\n",
    "\n",
    "print(f'Второй регион: средний запас предсказанного сырья: {two_mean}, RMSE = {rmse_two}')"
   ]
  },
  {
   "cell_type": "code",
   "execution_count": 26,
   "metadata": {},
   "outputs": [],
   "source": [
    "# Создаем модель линейной регрессии для третьего региона\n",
    "model_three = LinearRegression()"
   ]
  },
  {
   "cell_type": "code",
   "execution_count": 27,
   "metadata": {},
   "outputs": [
    {
     "name": "stdout",
     "output_type": "stream",
     "text": [
      "Третий регион: средний запас предсказанного сырья: 94.96504596800489, RMSE = 40.02970873393434\n"
     ]
    }
   ],
   "source": [
    "# обучим модель на данных второго региона\n",
    "model_three.fit(features_train_three, target_train_three)\n",
    "three_predicted = model_three.predict(features_valid_three)\n",
    "mse_three = mean_squared_error(target_valid_three, three_predicted)\n",
    "rmse_three = mse_three**0.5\n",
    "three_mean = three_predicted.mean()\n",
    "\n",
    "print(f'Третий регион: средний запас предсказанного сырья: {three_mean}, RMSE = {rmse_three}')"
   ]
  },
  {
   "cell_type": "markdown",
   "metadata": {},
   "source": [
    "**<u>Вывод по шагу 2:</u>**\n",
    "1. разделили данные каждого региона на обучающую и валидационную выборки.\n",
    "2. обучили модель линейной регрессии на тренировочных данных каждого региона.\n",
    "3. посчитали среднее количество предсказанных запасов в каждом регионе и посчитали среднеквадратичную ошибку.\n",
    "4. в первом регионе: средний запас предсказанного сырья: 92.59 тыс. баррелей, RMSE = 37.5794217150813.\n",
    "5. во втором регионе: средний запас предсказанного сырья: 68.72 тыс. баррелей, RMSE = 0.893099286775617.\n",
    "6. в третьем регионе: средний запас предсказанного сырья: 94.96 тыс. баррелей, RMSE = 40.02970873393434.\n",
    "7. Лучше всего модель предсказала запасы во втором регионе (RMSE = 0.89), далее в тертьем и первом соответственно."
   ]
  },
  {
   "cell_type": "markdown",
   "metadata": {},
   "source": [
    "## Подготовка к расчёту прибыли"
   ]
  },
  {
   "cell_type": "markdown",
   "metadata": {},
   "source": [
    "### Сохранение ключевых значений для расчётов в отдельных переменных"
   ]
  },
  {
   "cell_type": "markdown",
   "metadata": {},
   "source": [
    "Условия задачи:\n",
    "\n",
    "- При разведке региона исследуют 500 точек, из которых с помощью машинного обучения выбирают 200 лучших для разработки.\n",
    "- Бюджет на разработку скважин в регионе — 10 млрд рублей.\n",
    "- При нынешних ценах один баррель сырья приносит 450 рублей дохода. Доход с каждой единицы продукта составляет 450 тыс. рублей, поскольку объём указан в тысячах баррелей.\n",
    "- После оценки рисков нужно оставить лишь те регионы, в которых вероятность убытков меньше 2.5%. Среди них выбирают регион с наибольшей средней прибылью."
   ]
  },
  {
   "cell_type": "code",
   "execution_count": 28,
   "metadata": {},
   "outputs": [],
   "source": [
    "# сохраняем ключевые значения для регионов\n",
    "best_mines_count = 200 # количество лучших скважин для разработки\n",
    "budget = 10000000000 # Бюджет на разработку скважин в регионе\n",
    "income_barrel_one = 450 # Доход с одного барреля сырья\n",
    "income_unit = 450000 # Доход с каждой единицы продукта\n",
    "probability_losses = 2.5/100 # вероятность убытков"
   ]
  },
  {
   "cell_type": "markdown",
   "metadata": {},
   "source": [
    "###  Расчет достаточного объёма сырья для безубыточной разработки новой скважины"
   ]
  },
  {
   "cell_type": "code",
   "execution_count": 29,
   "metadata": {},
   "outputs": [
    {
     "data": {
      "text/plain": [
       "111.11"
      ]
     },
     "execution_count": 29,
     "metadata": {},
     "output_type": "execute_result"
    }
   ],
   "source": [
    "payback = budget/income_unit # рассчитываем количество единиц продукта, чтобы выйти в ноль при определнных вложениях (бюджете)\n",
    "production_volume = payback/best_mines_count # объем сырья, \n",
    "round(production_volume,2)"
   ]
  },
  {
   "cell_type": "markdown",
   "metadata": {},
   "source": [
    "### Сравнение полученного объёма сырья со средним запасом в каждом регионе. "
   ]
  },
  {
   "cell_type": "code",
   "execution_count": 30,
   "metadata": {},
   "outputs": [
    {
     "name": "stdout",
     "output_type": "stream",
     "text": [
      "Cредний запас сырья в первом регионе: 92.59 тыс.баррелей\n",
      "Cредний запас сырья во втором регионе: 68.73 тыс.баррелей\n",
      "Cредний запас сырья в третьем регионе: 94.97 тыс.баррелей\n"
     ]
    }
   ],
   "source": [
    "print('Cредний запас сырья в первом регионе: %.2f тыс.баррелей'%one_mean)\n",
    "print('Cредний запас сырья во втором регионе: %.2f тыс.баррелей'%two_mean)\n",
    "print('Cредний запас сырья в третьем регионе: %.2f тыс.баррелей'%three_mean)"
   ]
  },
  {
   "cell_type": "code",
   "execution_count": 31,
   "metadata": {},
   "outputs": [
    {
     "name": "stdout",
     "output_type": "stream",
     "text": [
      "Разница объёма сырья по первому региону составляет: 18.52 тыс.баррелей\n"
     ]
    }
   ],
   "source": [
    "print('Разница объёма сырья по первому региону составляет: {:.2f} тыс.баррелей'.format(production_volume-one_mean))"
   ]
  },
  {
   "cell_type": "code",
   "execution_count": 32,
   "metadata": {},
   "outputs": [
    {
     "name": "stdout",
     "output_type": "stream",
     "text": [
      "Разница объёма сырья по второму региону составляет: 42.38 тыс.баррелей\n"
     ]
    }
   ],
   "source": [
    "print('Разница объёма сырья по второму региону составляет: {:.2f} тыс.баррелей'.format(production_volume-two_mean))"
   ]
  },
  {
   "cell_type": "code",
   "execution_count": 33,
   "metadata": {},
   "outputs": [
    {
     "name": "stdout",
     "output_type": "stream",
     "text": [
      "Разница объёма сырья по третьему региону составляет: 16.15 тыс.баррелей\n"
     ]
    }
   ],
   "source": [
    "print('Разница объёма сырья по третьему региону составляет: {:.2f} тыс.баррелей'.format(production_volume-three_mean))"
   ]
  },
  {
   "cell_type": "markdown",
   "metadata": {},
   "source": [
    "Как видно, средний запас сырья во всех трех регионах ниже чем расчетное количество сырья для безубыточного производства.\n",
    "Таким образом, в дальнейшем необходимо отбирать лучшие скважины."
   ]
  },
  {
   "cell_type": "markdown",
   "metadata": {},
   "source": [
    "### Функция для расчёта прибыли по выбранным скважинам и предсказаниям модели"
   ]
  },
  {
   "cell_type": "code",
   "execution_count": 34,
   "metadata": {},
   "outputs": [
    {
     "data": {
      "text/plain": [
       "array([ 95.89495185,  77.57258261,  77.89263965, ...,  61.50983303,\n",
       "       118.18039721, 118.16939229])"
      ]
     },
     "execution_count": 34,
     "metadata": {},
     "output_type": "execute_result"
    }
   ],
   "source": [
    "# Выберем скважины с максимальными значениями предсказаний: посмотрим на значения первого региона.\n",
    "one_predicted"
   ]
  },
  {
   "cell_type": "code",
   "execution_count": 35,
   "metadata": {},
   "outputs": [
    {
     "data": {
      "text/plain": [
       "93073    180.180713\n",
       "46784    176.252213\n",
       "78948    175.850623\n",
       "43388    175.658429\n",
       "6496     173.299686\n",
       "            ...    \n",
       "30488    148.507064\n",
       "98799    148.481767\n",
       "53840    148.476498\n",
       "4638     148.436761\n",
       "75908    148.365941\n",
       "Length: 200, dtype: float64"
      ]
     },
     "execution_count": 35,
     "metadata": {},
     "output_type": "execute_result"
    }
   ],
   "source": [
    "# отсортируем по убыванию\n",
    "probs_sorted_one = pd.Series(one_predicted, index=target_valid_one.index).sort_values(ascending=False)\n",
    "selected_max_one = probs_sorted_one[:200] # берем 200 лучших скважин по объему предсказанного сырья\n",
    "selected_max_one"
   ]
  },
  {
   "cell_type": "markdown",
   "metadata": {},
   "source": [
    "Так как затраты на разработку будут направлены только на 200 лучших скважин, сложим показатели скважин исходя из максимальных значений предсказаний нашей модели по объёму сырья для получения максимальной прибыли."
   ]
  },
  {
   "cell_type": "code",
   "execution_count": 36,
   "metadata": {},
   "outputs": [
    {
     "name": "stdout",
     "output_type": "stream",
     "text": [
      "Запас сырья в 200 лучших скважинах первого региона составит: 31102.33 тыс.баррелей\n"
     ]
    }
   ],
   "source": [
    "selected_max_one_sum = selected_max_one.sum()\n",
    "print('Запас сырья в 200 лучших скважинах первого региона составит: %.2f тыс.баррелей'%selected_max_one_sum)"
   ]
  },
  {
   "cell_type": "code",
   "execution_count": 37,
   "metadata": {},
   "outputs": [
    {
     "name": "stdout",
     "output_type": "stream",
     "text": [
      "Прибыль для полученного объема сырья 200 лучших скважин первого региона: 3996.05 млн.рублей\n"
     ]
    }
   ],
   "source": [
    "# расчитаем прибыль для полученного объема сырья\n",
    "profit_one = (selected_max_one_sum*income_unit) - budget\n",
    "print('Прибыль для полученного объема сырья 200 лучших скважин первого региона: %.2f млн.рублей'%(profit_one/1000000))"
   ]
  },
  {
   "cell_type": "code",
   "execution_count": 38,
   "metadata": {},
   "outputs": [],
   "source": [
    "# внесем все эти формулы в функцию и посчитаем значения для трех регионов\n",
    "def profit_best(target, predict,count):\n",
    "    probs_sorted = pd.Series(predict, index=target.index).sort_values(ascending=False)\n",
    "    selected = probs_sorted[:count].sum()\n",
    "    profit_est=(selected*income_unit) - budget\n",
    "    print('Запас сырья в 200 лучших скважинах составит: %.2f тыс.баррелей'%selected)\n",
    "    print('Прибыль для полученного объема сырья 200 лучших скважин составит %.2f млн.рублей'%(profit_est/1000000))"
   ]
  },
  {
   "cell_type": "code",
   "execution_count": 39,
   "metadata": {},
   "outputs": [
    {
     "name": "stdout",
     "output_type": "stream",
     "text": [
      "Запас сырья в 200 лучших скважинах составит: 31102.33 тыс.баррелей\n",
      "Прибыль для полученного объема сырья 200 лучших скважин составит 3996.05 млн.рублей\n"
     ]
    }
   ],
   "source": [
    "# рассчитаем запас сырья и прибыль для первого региона\n",
    "profit_best(target_valid_one, one_predicted, 200)"
   ]
  },
  {
   "cell_type": "code",
   "execution_count": 40,
   "metadata": {},
   "outputs": [
    {
     "name": "stdout",
     "output_type": "stream",
     "text": [
      "Запас сырья в 200 лучших скважинах составит: 27746.03 тыс.баррелей\n",
      "Прибыль для полученного объема сырья 200 лучших скважин составит 2485.71 млн.рублей\n"
     ]
    }
   ],
   "source": [
    "# рассчитаем запас сырья и прибыль для второго региона\n",
    "profit_best(target_valid_two, two_predicted, 200)"
   ]
  },
  {
   "cell_type": "code",
   "execution_count": 41,
   "metadata": {},
   "outputs": [
    {
     "name": "stdout",
     "output_type": "stream",
     "text": [
      "Запас сырья в 200 лучших скважинах составит: 29603.90 тыс.баррелей\n",
      "Прибыль для полученного объема сырья 200 лучших скважин составит 3321.75 млн.рублей\n"
     ]
    }
   ],
   "source": [
    "# рассчитаем запас сырья и прибыль для третьего региона\n",
    "profit_best(target_valid_three,three_predicted, 200)"
   ]
  },
  {
   "cell_type": "markdown",
   "metadata": {},
   "source": [
    "**<u>Вывод по шагу 3:</u>**\n",
    "1. сохранили ключевые значения для расчетов в переменных.\n",
    "2. сделали расчет необходимого количества сырья для безубыточной разработки новой скважины - это 111.11 тыс. баррелей;\n",
    "3. выяснили, что среднее значение запасов во всех трех регионах меньше необходимого количества для безубыточной разработки\n",
    " - на 18,52 тыс.баррелей в первом регионе\n",
    " - на 42,38 тыс.баррелей во втором регионе\n",
    " - на 16,15 тыс.баррелей в третьем регионе\n",
    "4. Ближе всего к необходимому количеству предсказанные запасы в третьем регионе, меньше всего предсказанных запасов во втором регионе.\n",
    "5. прибыль для полученного объема сырья по регионам составит:\n",
    " - в первом регионе - 3996.05 млн.рублей\n",
    " - во втором регионе - 2485.71 млн.рублей\n",
    " - в третьем регионе - 3321.75 млн.рублей\n",
    "\n",
    "Все три региона потенциально прибыльные, в следующей главе определим вероятность рисков убытков."
   ]
  },
  {
   "cell_type": "markdown",
   "metadata": {},
   "source": [
    "## Расчет прибыли и рисков для каждого региона"
   ]
  },
  {
   "cell_type": "markdown",
   "metadata": {},
   "source": [
    "### Применим технику Bootstrap с 1000 выборок, чтобы найти распределение прибыли."
   ]
  },
  {
   "cell_type": "code",
   "execution_count": 42,
   "metadata": {},
   "outputs": [],
   "source": [
    "def profit_best_2(predict,target,count):\n",
    "    probs_sorted = pd.Series(predict).sort_values(ascending=False)\n",
    "    selected_count = target[probs_sorted.index][:count]\n",
    "    selected_sum = selected_count.sum()\n",
    "    revenue = selected_sum * income_unit\n",
    "    return revenue - budget"
   ]
  },
  {
   "cell_type": "code",
   "execution_count": 43,
   "metadata": {},
   "outputs": [],
   "source": [
    "def bootstrap_1000(target,predict):\n",
    "    values = []\n",
    "    count=0\n",
    "    state = np.random.RandomState(12345)\n",
    "    predict_a = pd.Series(predict, index=target.index)\n",
    "    \n",
    "    for i in range(1000):\n",
    "        target_subsample = target.sample(n=500,replace=True, random_state=state)\n",
    "  \n",
    "        probs_subsample = predict_a[target_subsample.index]\n",
    "        values.append(profit_best_2(probs_subsample,target_subsample, 200))  \n",
    "    for i in values:\n",
    "        if i < 0:\n",
    "            count +=1\n",
    "            \n",
    "    values = pd.Series(values)\n",
    "    mean = values.mean()\n",
    "    confidence_interval = st.t.interval(0.95, len(values)-1, values.mean(), values.sem())\n",
    "    \n",
    "     \n",
    "    lower = values.quantile(0.025)\n",
    "    higher = values.quantile(0.975)\n",
    "    \n",
    "    print(\"Средняя прибыль: {:.2f} млн.руб\".format(mean/1000000))\n",
    "    print('С вероятностью 95% прибыль в данном регионе будет составлять от: {:.2f} млн.руб до: {:.2f} млн.руб'.format((lower/1000000),(higher/1000000)))\n",
    "    print(\"95%-ый доверительный интервал: от {:.2f} млн.руб до {:.2f} млн.руб\". format((confidence_interval[0]/1000000),(confidence_interval[1]/1000000)))\n",
    "    print ('Процент вероятности убытка в данном регионе составит {:.1%}'.format(count/1000))"
   ]
  },
  {
   "cell_type": "markdown",
   "metadata": {},
   "source": [
    "### Найдем среднюю прибыль, 95%-й доверительный интервал и риск убытков"
   ]
  },
  {
   "cell_type": "code",
   "execution_count": 44,
   "metadata": {},
   "outputs": [
    {
     "name": "stdout",
     "output_type": "stream",
     "text": [
      "Средняя прибыль: 425.94 млн.руб\n",
      "С вероятностью 95% прибыль в данном регионе будет составлять от: -102.09 млн.руб до: 947.98 млн.руб\n",
      "95%-ый доверительный интервал: от 408.73 млн.руб до 443.14 млн.руб\n",
      "Процент вероятности убытка в данном регионе составит 6.0%\n"
     ]
    }
   ],
   "source": [
    "bootstrap_1000(target_valid_one,one_predicted)"
   ]
  },
  {
   "cell_type": "code",
   "execution_count": 45,
   "metadata": {},
   "outputs": [
    {
     "name": "stdout",
     "output_type": "stream",
     "text": [
      "Средняя прибыль: 515.22 млн.руб\n",
      "С вероятностью 95% прибыль в данном регионе будет составлять от: 68.87 млн.руб до: 931.55 млн.руб\n",
      "95%-ый доверительный интервал: от 501.62 млн.руб до 528.82 млн.руб\n",
      "Процент вероятности убытка в данном регионе составит 1.0%\n"
     ]
    }
   ],
   "source": [
    "bootstrap_1000(target_valid_two,two_predicted)"
   ]
  },
  {
   "cell_type": "code",
   "execution_count": 46,
   "metadata": {},
   "outputs": [
    {
     "name": "stdout",
     "output_type": "stream",
     "text": [
      "Средняя прибыль: 435.01 млн.руб\n",
      "С вероятностью 95% прибыль в данном регионе будет составлять от: -128.88 млн.руб до: 969.71 млн.руб\n",
      "95%-ый доверительный интервал: от 417.45 млн.руб до 452.56 млн.руб\n",
      "Процент вероятности убытка в данном регионе составит 6.4%\n"
     ]
    }
   ],
   "source": [
    "bootstrap_1000(target_valid_three,three_predicted)"
   ]
  },
  {
   "cell_type": "markdown",
   "metadata": {},
   "source": [
    "**<u>Вывод по шагу 4:</u>**\n",
    "\n",
    "После применения техники Bootstrap, наиболее прибыльным будет разработка месторождений во втором регионе, так как в данном регионе самые высокие показатели средней выручки - 515.22 млн.руб и 95%-ного доверительного интервала - от 501.62 млн.руб до 528.82 млн.руб. Также во втором регионе самый низкий риск убытков - 1.0%."
   ]
  },
  {
   "cell_type": "markdown",
   "metadata": {},
   "source": [
    "# Общий вывод\n",
    "\n",
    "Данные успешно загружены и проанализированы на предмет пропусков и дубликатов, удален столбец id, чтобы избежать ошибок в дальнейшем.\n",
    "Признаки:\n",
    "\n",
    " - fo\n",
    " - f1\n",
    " - f2\n",
    " \n",
    "Целевой признак:\n",
    "\n",
    " - product\n",
    "\n",
    "На корреляции данных значений второго региона присутствует сильная зависимость целевого показателя 'product' от f2. Значение коэффициента корреляции близко к 1, что означает, что есть сильная положительная связь между показателями - при увеличении одного показателя, значительно увеличивается и второй показатель.\n",
    "\n",
    "Далее:\n",
    "\n",
    " - разделили данные каждого региона на обучающую и валидационную выборки.\n",
    " - обучили модель линейной регрессии на тренировочных данных каждого региона.\n",
    " - посчитали среднее количество предсказанных запасов в каждом регионе и посчитали среднеквадратичную ошибку.\n",
    " - в первом регионе: средний запас предсказанного сырья: 92.59 тыс. баррелей, RMSE = 37.5794217150813.\n",
    " - во втором регионе: средний запас предсказанного сырья: 68.72 тыс. баррелей, RMSE = 0.893099286775617.\n",
    " - в третьем регионе: средний запас предсказанного сырья: 94.96 тыс. баррелей, RMSE = 40.02970873393434.\n",
    " \n",
    "Лучше всего модель предсказала запасы во втором регионе (RMSE = 0.89), далее в тертьем и первом соответственно.\n",
    "\n",
    "Ключевые значения для расчетов были сохранены в переменные.\n",
    "\n",
    "По итогам расчета необходимого количества сырья для безубыточной разработки новой скважины у нас получилось - это 111.11 тыс. баррелей. Таким образом, среднее значение запасов во всех трех регионах меньше необходимого количества для безубыточной разработки во всех трех регионах:\n",
    " - на 18,52 тыс.баррелей в первом регионе\n",
    " - на 42,38 тыс.баррелей во втором регионе\n",
    " - на 16,15 тыс.баррелей в третьем регионе\n",
    "\n",
    "Прибыль для полученного объема сырья по регионам составит:\n",
    " - в первом регионе - 3996.05 млн.рублей\n",
    " - во втором регионе - 2485.71 млн.рублей\n",
    " - в третьем регионе - 3321.75 млн.рублей\n",
    "\n",
    "Все три региона потенциально прибыльные.\n",
    "\n",
    "В связи с этим, ограничив вероятность убытка величиной 2,5% необходимо выбрать наиболее перспективный регион.\n",
    "После применения техники Bootstrap, наиболее прибыльным будет разработка месторождений во втором регионе, так как в данном регионе самые высокие показатели средней выручки - 515.22 млн.руб и 95%-ного доверительного интервала - от 501.62 млн.руб до 528.82 млн.руб. Также во втором регионе самый низкий риск убытков - 1.0%. Второй регион рекомендован к разработке."
   ]
  }
 ],
 "metadata": {
  "ExecuteTimeLog": [
   {
    "duration": 1897,
    "start_time": "2023-03-29T11:23:53.398Z"
   },
   {
    "duration": 1439,
    "start_time": "2023-03-29T11:26:57.859Z"
   },
   {
    "duration": 13,
    "start_time": "2023-03-29T11:29:33.552Z"
   },
   {
    "duration": 9,
    "start_time": "2023-03-29T11:31:27.395Z"
   },
   {
    "duration": 11,
    "start_time": "2023-03-29T11:31:44.116Z"
   },
   {
    "duration": 10,
    "start_time": "2023-03-29T11:32:00.253Z"
   },
   {
    "duration": 49,
    "start_time": "2023-03-29T16:07:56.347Z"
   },
   {
    "duration": 1492,
    "start_time": "2023-03-29T16:08:02.682Z"
   },
   {
    "duration": 1180,
    "start_time": "2023-03-29T16:08:04.175Z"
   },
   {
    "duration": 12,
    "start_time": "2023-03-29T16:08:05.357Z"
   },
   {
    "duration": 8,
    "start_time": "2023-03-29T16:08:05.370Z"
   },
   {
    "duration": 9,
    "start_time": "2023-03-29T16:08:05.380Z"
   },
   {
    "duration": 17,
    "start_time": "2023-03-29T16:08:05.391Z"
   },
   {
    "duration": 9,
    "start_time": "2023-03-29T16:08:28.771Z"
   },
   {
    "duration": 8,
    "start_time": "2023-03-29T16:08:39.050Z"
   },
   {
    "duration": 44,
    "start_time": "2023-03-29T16:09:03.580Z"
   },
   {
    "duration": 44,
    "start_time": "2023-03-29T16:09:11.965Z"
   },
   {
    "duration": 42,
    "start_time": "2023-03-29T16:09:47.890Z"
   },
   {
    "duration": 44,
    "start_time": "2023-03-29T16:09:55.883Z"
   },
   {
    "duration": 46,
    "start_time": "2023-03-29T16:10:46.276Z"
   },
   {
    "duration": 43,
    "start_time": "2023-03-29T16:11:24.219Z"
   },
   {
    "duration": 43,
    "start_time": "2023-03-29T16:11:40.521Z"
   },
   {
    "duration": 1749,
    "start_time": "2023-03-29T18:19:11.120Z"
   },
   {
    "duration": 1732,
    "start_time": "2023-03-29T18:19:12.872Z"
   },
   {
    "duration": 16,
    "start_time": "2023-03-29T18:19:14.606Z"
   },
   {
    "duration": 20,
    "start_time": "2023-03-29T18:19:14.625Z"
   },
   {
    "duration": 21,
    "start_time": "2023-03-29T18:19:14.648Z"
   },
   {
    "duration": 18,
    "start_time": "2023-03-29T18:19:14.671Z"
   },
   {
    "duration": 16,
    "start_time": "2023-03-29T18:19:14.691Z"
   },
   {
    "duration": 33,
    "start_time": "2023-03-29T18:19:14.710Z"
   },
   {
    "duration": 103,
    "start_time": "2023-03-29T18:19:14.746Z"
   },
   {
    "duration": 50,
    "start_time": "2023-03-29T18:19:14.853Z"
   },
   {
    "duration": 78,
    "start_time": "2023-03-29T18:19:14.906Z"
   },
   {
    "duration": 80,
    "start_time": "2023-03-29T18:19:14.986Z"
   },
   {
    "duration": 76,
    "start_time": "2023-03-29T18:19:15.068Z"
   },
   {
    "duration": 56,
    "start_time": "2023-03-29T18:19:15.146Z"
   },
   {
    "duration": 117,
    "start_time": "2023-03-29T18:19:48.649Z"
   },
   {
    "duration": 12,
    "start_time": "2023-03-29T18:19:53.609Z"
   },
   {
    "duration": 25,
    "start_time": "2023-03-29T18:20:10.215Z"
   },
   {
    "duration": 68,
    "start_time": "2023-03-29T18:27:16.117Z"
   },
   {
    "duration": 88,
    "start_time": "2023-03-29T18:27:46.586Z"
   },
   {
    "duration": 79,
    "start_time": "2023-03-29T18:27:59.286Z"
   },
   {
    "duration": 90,
    "start_time": "2023-03-29T18:28:07.952Z"
   },
   {
    "duration": 57,
    "start_time": "2023-03-29T18:28:28.786Z"
   },
   {
    "duration": 91,
    "start_time": "2023-03-29T18:28:39.288Z"
   },
   {
    "duration": 93,
    "start_time": "2023-03-29T18:32:58.045Z"
   },
   {
    "duration": 22,
    "start_time": "2023-03-29T18:33:27.905Z"
   },
   {
    "duration": 28,
    "start_time": "2023-03-29T18:33:44.176Z"
   },
   {
    "duration": 89,
    "start_time": "2023-03-29T18:37:49.209Z"
   },
   {
    "duration": 53,
    "start_time": "2023-03-29T18:38:11.191Z"
   },
   {
    "duration": 29,
    "start_time": "2023-03-29T18:38:54.206Z"
   },
   {
    "duration": 65,
    "start_time": "2023-03-29T18:40:26.454Z"
   },
   {
    "duration": 84,
    "start_time": "2023-03-29T18:40:42.525Z"
   },
   {
    "duration": 22,
    "start_time": "2023-03-29T18:40:59.644Z"
   },
   {
    "duration": 5,
    "start_time": "2023-03-29T18:47:39.414Z"
   },
   {
    "duration": 14,
    "start_time": "2023-03-29T18:48:18.649Z"
   },
   {
    "duration": 536,
    "start_time": "2023-03-29T18:48:30.732Z"
   },
   {
    "duration": 568,
    "start_time": "2023-03-29T18:49:10.334Z"
   },
   {
    "duration": 534,
    "start_time": "2023-03-29T18:49:29.830Z"
   },
   {
    "duration": 3,
    "start_time": "2023-03-29T18:58:16.599Z"
   },
   {
    "duration": 19,
    "start_time": "2023-03-29T19:04:19.307Z"
   },
   {
    "duration": 27,
    "start_time": "2023-03-29T19:05:54.054Z"
   },
   {
    "duration": 22,
    "start_time": "2023-03-29T19:07:26.357Z"
   },
   {
    "duration": 26,
    "start_time": "2023-03-29T19:07:28.923Z"
   },
   {
    "duration": 32,
    "start_time": "2023-03-29T19:09:46.920Z"
   },
   {
    "duration": 26,
    "start_time": "2023-03-29T19:09:59.369Z"
   },
   {
    "duration": 18,
    "start_time": "2023-03-29T19:12:53.063Z"
   },
   {
    "duration": 81,
    "start_time": "2023-03-30T11:19:22.628Z"
   },
   {
    "duration": 69,
    "start_time": "2023-03-30T11:19:32.577Z"
   },
   {
    "duration": 42,
    "start_time": "2023-03-30T11:19:42.234Z"
   },
   {
    "duration": 1657,
    "start_time": "2023-03-30T11:19:49.980Z"
   },
   {
    "duration": 1149,
    "start_time": "2023-03-30T11:19:51.640Z"
   },
   {
    "duration": 14,
    "start_time": "2023-03-30T11:19:52.790Z"
   },
   {
    "duration": 81,
    "start_time": "2023-03-30T11:19:52.806Z"
   },
   {
    "duration": 46,
    "start_time": "2023-03-30T11:19:52.889Z"
   },
   {
    "duration": 66,
    "start_time": "2023-03-30T11:19:52.937Z"
   },
   {
    "duration": 8,
    "start_time": "2023-03-30T11:19:53.004Z"
   },
   {
    "duration": 82,
    "start_time": "2023-03-30T11:19:53.014Z"
   },
   {
    "duration": 64,
    "start_time": "2023-03-30T11:19:53.098Z"
   },
   {
    "duration": 18,
    "start_time": "2023-03-30T11:19:53.165Z"
   },
   {
    "duration": 10,
    "start_time": "2023-03-30T11:19:53.185Z"
   },
   {
    "duration": 85,
    "start_time": "2023-03-30T11:19:53.196Z"
   },
   {
    "duration": 50,
    "start_time": "2023-03-30T11:19:53.283Z"
   },
   {
    "duration": 21,
    "start_time": "2023-03-30T11:19:53.335Z"
   },
   {
    "duration": 4,
    "start_time": "2023-03-30T11:19:53.358Z"
   },
   {
    "duration": 538,
    "start_time": "2023-03-30T11:19:53.364Z"
   },
   {
    "duration": 436,
    "start_time": "2023-03-30T11:19:53.904Z"
   },
   {
    "duration": 470,
    "start_time": "2023-03-30T11:19:54.342Z"
   },
   {
    "duration": 19,
    "start_time": "2023-03-30T11:19:54.814Z"
   },
   {
    "duration": 38,
    "start_time": "2023-03-30T11:19:54.835Z"
   },
   {
    "duration": 18,
    "start_time": "2023-03-30T11:19:54.875Z"
   },
   {
    "duration": 19,
    "start_time": "2023-03-30T11:19:54.895Z"
   },
   {
    "duration": 8,
    "start_time": "2023-03-30T11:19:54.915Z"
   },
   {
    "duration": 81,
    "start_time": "2023-03-30T11:26:00.584Z"
   },
   {
    "duration": 155,
    "start_time": "2023-03-30T11:26:14.665Z"
   },
   {
    "duration": 36,
    "start_time": "2023-03-30T11:26:36.755Z"
   },
   {
    "duration": 83,
    "start_time": "2023-03-30T11:26:45.986Z"
   },
   {
    "duration": 36,
    "start_time": "2023-03-30T11:28:08.011Z"
   },
   {
    "duration": 36,
    "start_time": "2023-03-30T11:43:03.642Z"
   },
   {
    "duration": 9,
    "start_time": "2023-03-30T11:47:36.308Z"
   },
   {
    "duration": 6,
    "start_time": "2023-03-30T11:48:21.398Z"
   },
   {
    "duration": 9,
    "start_time": "2023-03-30T11:48:34.998Z"
   },
   {
    "duration": 21,
    "start_time": "2023-03-30T11:48:49.733Z"
   },
   {
    "duration": 19,
    "start_time": "2023-03-30T11:48:50.485Z"
   },
   {
    "duration": 31,
    "start_time": "2023-03-30T11:48:50.982Z"
   },
   {
    "duration": 24,
    "start_time": "2023-03-30T11:48:51.421Z"
   },
   {
    "duration": 2,
    "start_time": "2023-03-30T11:48:51.842Z"
   },
   {
    "duration": 24,
    "start_time": "2023-03-30T11:48:53.645Z"
   },
   {
    "duration": 8,
    "start_time": "2023-03-30T11:50:13.298Z"
   },
   {
    "duration": 13,
    "start_time": "2023-03-30T11:50:17.897Z"
   },
   {
    "duration": 14,
    "start_time": "2023-03-30T11:50:42.032Z"
   },
   {
    "duration": 15,
    "start_time": "2023-03-30T11:52:38.516Z"
   },
   {
    "duration": 11,
    "start_time": "2023-03-30T11:53:05.145Z"
   },
   {
    "duration": 3,
    "start_time": "2023-03-30T11:53:45.586Z"
   },
   {
    "duration": 15,
    "start_time": "2023-03-30T11:53:47.059Z"
   },
   {
    "duration": 16,
    "start_time": "2023-03-30T11:54:48.996Z"
   },
   {
    "duration": 9,
    "start_time": "2023-03-30T11:54:54.344Z"
   },
   {
    "duration": 8,
    "start_time": "2023-03-30T11:55:04.443Z"
   },
   {
    "duration": 1391,
    "start_time": "2023-03-30T11:55:18.187Z"
   },
   {
    "duration": 349,
    "start_time": "2023-03-30T11:55:19.580Z"
   },
   {
    "duration": 13,
    "start_time": "2023-03-30T11:55:19.931Z"
   },
   {
    "duration": 49,
    "start_time": "2023-03-30T11:55:19.946Z"
   },
   {
    "duration": 63,
    "start_time": "2023-03-30T11:55:19.997Z"
   },
   {
    "duration": 54,
    "start_time": "2023-03-30T11:55:20.062Z"
   },
   {
    "duration": 9,
    "start_time": "2023-03-30T11:55:20.124Z"
   },
   {
    "duration": 23,
    "start_time": "2023-03-30T11:55:20.135Z"
   },
   {
    "duration": 49,
    "start_time": "2023-03-30T11:55:20.159Z"
   },
   {
    "duration": 55,
    "start_time": "2023-03-30T11:55:20.211Z"
   },
   {
    "duration": 19,
    "start_time": "2023-03-30T11:55:20.268Z"
   },
   {
    "duration": 8,
    "start_time": "2023-03-30T11:55:20.289Z"
   },
   {
    "duration": 71,
    "start_time": "2023-03-30T11:55:20.299Z"
   },
   {
    "duration": 72,
    "start_time": "2023-03-30T11:55:20.372Z"
   },
   {
    "duration": 22,
    "start_time": "2023-03-30T11:55:20.446Z"
   },
   {
    "duration": 5,
    "start_time": "2023-03-30T11:55:20.471Z"
   },
   {
    "duration": 509,
    "start_time": "2023-03-30T11:55:20.479Z"
   },
   {
    "duration": 473,
    "start_time": "2023-03-30T11:55:20.990Z"
   },
   {
    "duration": 402,
    "start_time": "2023-03-30T11:55:21.465Z"
   },
   {
    "duration": 14,
    "start_time": "2023-03-30T11:55:21.869Z"
   },
   {
    "duration": 17,
    "start_time": "2023-03-30T11:55:21.885Z"
   },
   {
    "duration": 32,
    "start_time": "2023-03-30T11:55:21.904Z"
   },
   {
    "duration": 19,
    "start_time": "2023-03-30T11:55:21.938Z"
   },
   {
    "duration": 3,
    "start_time": "2023-03-30T11:55:21.958Z"
   },
   {
    "duration": 154,
    "start_time": "2023-03-30T11:55:21.962Z"
   },
   {
    "duration": 2,
    "start_time": "2023-03-30T11:58:18.446Z"
   },
   {
    "duration": 45,
    "start_time": "2023-03-30T16:23:45.688Z"
   },
   {
    "duration": 1511,
    "start_time": "2023-03-30T16:23:52.386Z"
   },
   {
    "duration": 1577,
    "start_time": "2023-03-30T16:23:53.899Z"
   },
   {
    "duration": 12,
    "start_time": "2023-03-30T16:23:55.478Z"
   },
   {
    "duration": 55,
    "start_time": "2023-03-30T16:23:55.492Z"
   },
   {
    "duration": 43,
    "start_time": "2023-03-30T16:23:55.549Z"
   },
   {
    "duration": 62,
    "start_time": "2023-03-30T16:23:55.593Z"
   },
   {
    "duration": 15,
    "start_time": "2023-03-30T16:23:55.656Z"
   },
   {
    "duration": 7,
    "start_time": "2023-03-30T16:23:55.673Z"
   },
   {
    "duration": 12,
    "start_time": "2023-03-30T16:23:55.682Z"
   },
   {
    "duration": 64,
    "start_time": "2023-03-30T16:23:55.696Z"
   },
   {
    "duration": 43,
    "start_time": "2023-03-30T16:23:55.762Z"
   },
   {
    "duration": 39,
    "start_time": "2023-03-30T16:23:55.807Z"
   },
   {
    "duration": 9,
    "start_time": "2023-03-30T16:23:55.847Z"
   },
   {
    "duration": 76,
    "start_time": "2023-03-30T16:23:55.858Z"
   },
   {
    "duration": 42,
    "start_time": "2023-03-30T16:23:55.936Z"
   },
   {
    "duration": 18,
    "start_time": "2023-03-30T16:23:55.979Z"
   },
   {
    "duration": 20,
    "start_time": "2023-03-30T16:23:55.998Z"
   },
   {
    "duration": 469,
    "start_time": "2023-03-30T16:23:56.020Z"
   },
   {
    "duration": 377,
    "start_time": "2023-03-30T16:23:56.491Z"
   },
   {
    "duration": 355,
    "start_time": "2023-03-30T16:23:56.870Z"
   },
   {
    "duration": 14,
    "start_time": "2023-03-30T16:23:57.227Z"
   },
   {
    "duration": 23,
    "start_time": "2023-03-30T16:23:57.243Z"
   },
   {
    "duration": 35,
    "start_time": "2023-03-30T16:23:57.268Z"
   },
   {
    "duration": 25,
    "start_time": "2023-03-30T16:23:57.305Z"
   },
   {
    "duration": 11,
    "start_time": "2023-03-30T16:23:57.331Z"
   },
   {
    "duration": 150,
    "start_time": "2023-03-30T16:23:57.343Z"
   },
   {
    "duration": 0,
    "start_time": "2023-03-30T16:23:57.494Z"
   },
   {
    "duration": 0,
    "start_time": "2023-03-30T16:23:57.496Z"
   },
   {
    "duration": 0,
    "start_time": "2023-03-30T16:23:57.496Z"
   },
   {
    "duration": 0,
    "start_time": "2023-03-30T16:23:57.497Z"
   },
   {
    "duration": 0,
    "start_time": "2023-03-30T16:23:57.498Z"
   },
   {
    "duration": 0,
    "start_time": "2023-03-30T16:23:57.499Z"
   },
   {
    "duration": 0,
    "start_time": "2023-03-30T16:23:57.500Z"
   },
   {
    "duration": 0,
    "start_time": "2023-03-30T16:23:57.501Z"
   },
   {
    "duration": 17,
    "start_time": "2023-03-30T16:25:10.047Z"
   },
   {
    "duration": 15,
    "start_time": "2023-03-30T16:25:54.404Z"
   },
   {
    "duration": 11,
    "start_time": "2023-03-30T16:47:36.026Z"
   },
   {
    "duration": 6,
    "start_time": "2023-03-30T16:48:23.046Z"
   },
   {
    "duration": 6,
    "start_time": "2023-03-30T16:48:45.745Z"
   },
   {
    "duration": 15,
    "start_time": "2023-03-30T16:51:07.709Z"
   },
   {
    "duration": 13,
    "start_time": "2023-03-30T16:51:08.101Z"
   },
   {
    "duration": 13,
    "start_time": "2023-03-30T16:51:08.623Z"
   },
   {
    "duration": 12,
    "start_time": "2023-03-30T16:51:10.062Z"
   },
   {
    "duration": 2,
    "start_time": "2023-03-30T16:51:11.996Z"
   },
   {
    "duration": 17,
    "start_time": "2023-03-30T16:51:24.857Z"
   },
   {
    "duration": 10,
    "start_time": "2023-03-30T16:51:50.376Z"
   },
   {
    "duration": 1289,
    "start_time": "2023-03-30T16:52:01.866Z"
   },
   {
    "duration": 360,
    "start_time": "2023-03-30T16:52:03.157Z"
   },
   {
    "duration": 16,
    "start_time": "2023-03-30T16:52:03.519Z"
   },
   {
    "duration": 68,
    "start_time": "2023-03-30T16:52:03.537Z"
   },
   {
    "duration": 47,
    "start_time": "2023-03-30T16:52:03.607Z"
   },
   {
    "duration": 14,
    "start_time": "2023-03-30T16:52:03.655Z"
   },
   {
    "duration": 13,
    "start_time": "2023-03-30T16:52:03.670Z"
   },
   {
    "duration": 18,
    "start_time": "2023-03-30T16:52:03.685Z"
   },
   {
    "duration": 53,
    "start_time": "2023-03-30T16:52:03.705Z"
   },
   {
    "duration": 41,
    "start_time": "2023-03-30T16:52:03.760Z"
   },
   {
    "duration": 12,
    "start_time": "2023-03-30T16:52:03.803Z"
   },
   {
    "duration": 20,
    "start_time": "2023-03-30T16:52:03.817Z"
   },
   {
    "duration": 16,
    "start_time": "2023-03-30T16:52:03.838Z"
   },
   {
    "duration": 67,
    "start_time": "2023-03-30T16:52:03.856Z"
   },
   {
    "duration": 44,
    "start_time": "2023-03-30T16:52:03.924Z"
   },
   {
    "duration": 26,
    "start_time": "2023-03-30T16:52:03.970Z"
   },
   {
    "duration": 35,
    "start_time": "2023-03-30T16:52:03.998Z"
   },
   {
    "duration": 24,
    "start_time": "2023-03-30T16:52:04.034Z"
   },
   {
    "duration": 37,
    "start_time": "2023-03-30T16:52:04.059Z"
   },
   {
    "duration": 16,
    "start_time": "2023-03-30T16:52:04.097Z"
   },
   {
    "duration": 14,
    "start_time": "2023-03-30T16:52:04.114Z"
   },
   {
    "duration": 12,
    "start_time": "2023-03-30T16:52:04.130Z"
   },
   {
    "duration": 27,
    "start_time": "2023-03-30T16:52:04.144Z"
   },
   {
    "duration": 168,
    "start_time": "2023-03-30T16:52:04.173Z"
   },
   {
    "duration": 24,
    "start_time": "2023-03-30T16:52:04.342Z"
   },
   {
    "duration": 168,
    "start_time": "2023-03-30T16:52:04.368Z"
   },
   {
    "duration": 32,
    "start_time": "2023-03-30T16:52:04.539Z"
   },
   {
    "duration": 161,
    "start_time": "2023-03-30T16:52:04.575Z"
   },
   {
    "duration": 21,
    "start_time": "2023-03-30T16:52:04.738Z"
   },
   {
    "duration": 17,
    "start_time": "2023-03-30T16:52:04.761Z"
   },
   {
    "duration": 54,
    "start_time": "2023-03-30T16:52:04.779Z"
   },
   {
    "duration": 14,
    "start_time": "2023-03-30T16:55:54.108Z"
   },
   {
    "duration": 15,
    "start_time": "2023-03-30T16:56:03.768Z"
   },
   {
    "duration": 3,
    "start_time": "2023-03-30T17:00:54.816Z"
   },
   {
    "duration": 3,
    "start_time": "2023-03-30T18:13:59.597Z"
   },
   {
    "duration": 4,
    "start_time": "2023-03-30T18:17:07.541Z"
   },
   {
    "duration": 5,
    "start_time": "2023-03-30T18:18:01.140Z"
   },
   {
    "duration": 3,
    "start_time": "2023-03-30T18:18:15.989Z"
   },
   {
    "duration": 48,
    "start_time": "2023-03-30T18:23:13.241Z"
   },
   {
    "duration": 23,
    "start_time": "2023-03-30T18:25:38.105Z"
   },
   {
    "duration": 11,
    "start_time": "2023-03-30T18:26:11.435Z"
   },
   {
    "duration": 6,
    "start_time": "2023-03-30T18:29:09.344Z"
   },
   {
    "duration": 4,
    "start_time": "2023-03-30T18:29:18.015Z"
   },
   {
    "duration": 12,
    "start_time": "2023-03-30T18:30:12.613Z"
   },
   {
    "duration": 3,
    "start_time": "2023-03-30T18:30:58.566Z"
   },
   {
    "duration": 11,
    "start_time": "2023-03-30T18:30:58.926Z"
   },
   {
    "duration": 1388,
    "start_time": "2023-03-30T18:31:12.722Z"
   },
   {
    "duration": 378,
    "start_time": "2023-03-30T18:31:14.112Z"
   },
   {
    "duration": 13,
    "start_time": "2023-03-30T18:31:14.492Z"
   },
   {
    "duration": 69,
    "start_time": "2023-03-30T18:31:14.507Z"
   },
   {
    "duration": 72,
    "start_time": "2023-03-30T18:31:14.578Z"
   },
   {
    "duration": 16,
    "start_time": "2023-03-30T18:31:14.652Z"
   },
   {
    "duration": 8,
    "start_time": "2023-03-30T18:31:14.670Z"
   },
   {
    "duration": 19,
    "start_time": "2023-03-30T18:31:14.680Z"
   },
   {
    "duration": 86,
    "start_time": "2023-03-30T18:31:14.701Z"
   },
   {
    "duration": 60,
    "start_time": "2023-03-30T18:31:14.791Z"
   },
   {
    "duration": 14,
    "start_time": "2023-03-30T18:31:14.852Z"
   },
   {
    "duration": 4,
    "start_time": "2023-03-30T18:31:14.867Z"
   },
   {
    "duration": 12,
    "start_time": "2023-03-30T18:31:14.872Z"
   },
   {
    "duration": 68,
    "start_time": "2023-03-30T18:31:14.885Z"
   },
   {
    "duration": 49,
    "start_time": "2023-03-30T18:31:14.955Z"
   },
   {
    "duration": 36,
    "start_time": "2023-03-30T18:31:15.006Z"
   },
   {
    "duration": 4,
    "start_time": "2023-03-30T18:31:15.044Z"
   },
   {
    "duration": 22,
    "start_time": "2023-03-30T18:31:15.049Z"
   },
   {
    "duration": 31,
    "start_time": "2023-03-30T18:31:15.073Z"
   },
   {
    "duration": 31,
    "start_time": "2023-03-30T18:31:15.106Z"
   },
   {
    "duration": 22,
    "start_time": "2023-03-30T18:31:15.138Z"
   },
   {
    "duration": 3,
    "start_time": "2023-03-30T18:31:15.162Z"
   },
   {
    "duration": 71,
    "start_time": "2023-03-30T18:31:15.166Z"
   },
   {
    "duration": 3,
    "start_time": "2023-03-30T18:31:15.239Z"
   },
   {
    "duration": 101,
    "start_time": "2023-03-30T18:31:15.244Z"
   },
   {
    "duration": 191,
    "start_time": "2023-03-30T18:31:15.347Z"
   },
   {
    "duration": 19,
    "start_time": "2023-03-30T18:31:15.539Z"
   },
   {
    "duration": 103,
    "start_time": "2023-03-30T18:31:15.635Z"
   },
   {
    "duration": 7,
    "start_time": "2023-03-30T18:31:15.739Z"
   },
   {
    "duration": 5,
    "start_time": "2023-03-30T18:31:15.747Z"
   },
   {
    "duration": 10,
    "start_time": "2023-03-30T18:31:15.753Z"
   },
   {
    "duration": 13,
    "start_time": "2023-03-30T18:31:15.764Z"
   },
   {
    "duration": 18,
    "start_time": "2023-03-30T18:31:15.779Z"
   },
   {
    "duration": 11,
    "start_time": "2023-03-30T18:33:23.382Z"
   },
   {
    "duration": 10,
    "start_time": "2023-03-30T18:35:26.471Z"
   },
   {
    "duration": 3,
    "start_time": "2023-03-30T18:38:27.091Z"
   },
   {
    "duration": 3,
    "start_time": "2023-03-30T18:48:47.422Z"
   },
   {
    "duration": 5,
    "start_time": "2023-03-30T18:56:38.499Z"
   },
   {
    "duration": 113,
    "start_time": "2023-03-30T18:59:15.505Z"
   },
   {
    "duration": 1389,
    "start_time": "2023-03-30T18:59:42.248Z"
   },
   {
    "duration": 377,
    "start_time": "2023-03-30T18:59:43.638Z"
   },
   {
    "duration": 13,
    "start_time": "2023-03-30T18:59:44.017Z"
   },
   {
    "duration": 68,
    "start_time": "2023-03-30T18:59:44.035Z"
   },
   {
    "duration": 48,
    "start_time": "2023-03-30T18:59:44.104Z"
   },
   {
    "duration": 14,
    "start_time": "2023-03-30T18:59:44.153Z"
   },
   {
    "duration": 4,
    "start_time": "2023-03-30T18:59:44.168Z"
   },
   {
    "duration": 15,
    "start_time": "2023-03-30T18:59:44.173Z"
   },
   {
    "duration": 67,
    "start_time": "2023-03-30T18:59:44.189Z"
   },
   {
    "duration": 42,
    "start_time": "2023-03-30T18:59:44.259Z"
   },
   {
    "duration": 34,
    "start_time": "2023-03-30T18:59:44.303Z"
   },
   {
    "duration": 4,
    "start_time": "2023-03-30T18:59:44.338Z"
   },
   {
    "duration": 66,
    "start_time": "2023-03-30T18:59:44.344Z"
   },
   {
    "duration": 61,
    "start_time": "2023-03-30T18:59:44.412Z"
   },
   {
    "duration": 45,
    "start_time": "2023-03-30T18:59:44.474Z"
   },
   {
    "duration": 25,
    "start_time": "2023-03-30T18:59:44.521Z"
   },
   {
    "duration": 4,
    "start_time": "2023-03-30T18:59:44.547Z"
   },
   {
    "duration": 30,
    "start_time": "2023-03-30T18:59:44.553Z"
   },
   {
    "duration": 21,
    "start_time": "2023-03-30T18:59:44.585Z"
   },
   {
    "duration": 23,
    "start_time": "2023-03-30T18:59:44.608Z"
   },
   {
    "duration": 16,
    "start_time": "2023-03-30T18:59:44.633Z"
   },
   {
    "duration": 2,
    "start_time": "2023-03-30T18:59:44.651Z"
   },
   {
    "duration": 39,
    "start_time": "2023-03-30T18:59:44.655Z"
   },
   {
    "duration": 100,
    "start_time": "2023-03-30T18:59:44.736Z"
   },
   {
    "duration": 57,
    "start_time": "2023-03-30T18:59:44.838Z"
   },
   {
    "duration": 144,
    "start_time": "2023-03-30T18:59:44.898Z"
   },
   {
    "duration": 35,
    "start_time": "2023-03-30T18:59:45.044Z"
   },
   {
    "duration": 54,
    "start_time": "2023-03-30T18:59:45.083Z"
   },
   {
    "duration": 106,
    "start_time": "2023-03-30T18:59:45.139Z"
   },
   {
    "duration": 9,
    "start_time": "2023-03-30T18:59:45.247Z"
   },
   {
    "duration": 4,
    "start_time": "2023-03-30T18:59:45.258Z"
   },
   {
    "duration": 137,
    "start_time": "2023-03-30T18:59:45.264Z"
   },
   {
    "duration": 3,
    "start_time": "2023-03-30T19:01:55.179Z"
   },
   {
    "duration": 8,
    "start_time": "2023-03-30T19:02:38.870Z"
   },
   {
    "duration": 5,
    "start_time": "2023-03-30T19:02:41.917Z"
   },
   {
    "duration": 918,
    "start_time": "2023-03-30T19:02:45.320Z"
   },
   {
    "duration": 8,
    "start_time": "2023-03-30T19:03:45.485Z"
   },
   {
    "duration": 7,
    "start_time": "2023-03-30T19:03:46.773Z"
   },
   {
    "duration": 935,
    "start_time": "2023-03-30T19:04:54.358Z"
   },
   {
    "duration": 856,
    "start_time": "2023-03-30T19:05:40.075Z"
   },
   {
    "duration": 43,
    "start_time": "2023-03-31T10:18:34.031Z"
   },
   {
    "duration": 1662,
    "start_time": "2023-03-31T10:18:40.415Z"
   },
   {
    "duration": 1524,
    "start_time": "2023-03-31T10:18:42.079Z"
   },
   {
    "duration": 20,
    "start_time": "2023-03-31T10:18:43.606Z"
   },
   {
    "duration": 80,
    "start_time": "2023-03-31T10:18:43.630Z"
   },
   {
    "duration": 49,
    "start_time": "2023-03-31T10:18:43.711Z"
   },
   {
    "duration": 21,
    "start_time": "2023-03-31T10:18:43.762Z"
   },
   {
    "duration": 11,
    "start_time": "2023-03-31T10:18:43.784Z"
   },
   {
    "duration": 21,
    "start_time": "2023-03-31T10:18:43.796Z"
   },
   {
    "duration": 77,
    "start_time": "2023-03-31T10:18:43.820Z"
   },
   {
    "duration": 55,
    "start_time": "2023-03-31T10:18:43.904Z"
   },
   {
    "duration": 21,
    "start_time": "2023-03-31T10:18:43.976Z"
   },
   {
    "duration": 8,
    "start_time": "2023-03-31T10:18:43.999Z"
   },
   {
    "duration": 13,
    "start_time": "2023-03-31T10:18:44.009Z"
   },
   {
    "duration": 58,
    "start_time": "2023-03-31T10:18:44.024Z"
   },
   {
    "duration": 49,
    "start_time": "2023-03-31T10:18:44.085Z"
   },
   {
    "duration": 13,
    "start_time": "2023-03-31T10:18:44.136Z"
   },
   {
    "duration": 4,
    "start_time": "2023-03-31T10:18:44.150Z"
   },
   {
    "duration": 27,
    "start_time": "2023-03-31T10:18:44.155Z"
   },
   {
    "duration": 35,
    "start_time": "2023-03-31T10:18:44.183Z"
   },
   {
    "duration": 13,
    "start_time": "2023-03-31T10:18:44.220Z"
   },
   {
    "duration": 12,
    "start_time": "2023-03-31T10:18:44.235Z"
   },
   {
    "duration": 2,
    "start_time": "2023-03-31T10:18:44.248Z"
   },
   {
    "duration": 38,
    "start_time": "2023-03-31T10:18:44.251Z"
   },
   {
    "duration": 5,
    "start_time": "2023-03-31T10:18:44.292Z"
   },
   {
    "duration": 70,
    "start_time": "2023-03-31T10:18:44.300Z"
   },
   {
    "duration": 2,
    "start_time": "2023-03-31T10:18:44.374Z"
   },
   {
    "duration": 99,
    "start_time": "2023-03-31T10:18:44.378Z"
   },
   {
    "duration": 5,
    "start_time": "2023-03-31T10:18:44.483Z"
   },
   {
    "duration": 9,
    "start_time": "2023-03-31T10:18:44.490Z"
   },
   {
    "duration": 72,
    "start_time": "2023-03-31T10:18:44.501Z"
   },
   {
    "duration": 10,
    "start_time": "2023-03-31T10:18:44.577Z"
   },
   {
    "duration": 6,
    "start_time": "2023-03-31T10:18:44.597Z"
   },
   {
    "duration": 12,
    "start_time": "2023-03-31T10:18:44.605Z"
   },
   {
    "duration": 8,
    "start_time": "2023-03-31T10:18:44.618Z"
   },
   {
    "duration": 8,
    "start_time": "2023-03-31T10:18:44.627Z"
   },
   {
    "duration": 7,
    "start_time": "2023-03-31T10:18:44.637Z"
   },
   {
    "duration": 1043,
    "start_time": "2023-03-31T10:18:44.645Z"
   },
   {
    "duration": 875,
    "start_time": "2023-03-31T10:18:45.692Z"
   },
   {
    "duration": 998,
    "start_time": "2023-03-31T10:18:46.579Z"
   },
   {
    "duration": 89,
    "start_time": "2023-03-31T10:20:18.646Z"
   },
   {
    "duration": 14,
    "start_time": "2023-03-31T10:21:42.093Z"
   },
   {
    "duration": 4,
    "start_time": "2023-03-31T10:22:13.002Z"
   },
   {
    "duration": 3,
    "start_time": "2023-03-31T10:22:56.936Z"
   },
   {
    "duration": 6,
    "start_time": "2023-03-31T10:24:51.467Z"
   },
   {
    "duration": 46,
    "start_time": "2023-03-31T18:33:06.900Z"
   },
   {
    "duration": 1783,
    "start_time": "2023-03-31T18:33:13.605Z"
   },
   {
    "duration": 1454,
    "start_time": "2023-03-31T18:33:15.390Z"
   },
   {
    "duration": 13,
    "start_time": "2023-03-31T18:33:16.846Z"
   },
   {
    "duration": 58,
    "start_time": "2023-03-31T18:33:16.861Z"
   },
   {
    "duration": 56,
    "start_time": "2023-03-31T18:33:16.921Z"
   },
   {
    "duration": 24,
    "start_time": "2023-03-31T18:33:16.979Z"
   },
   {
    "duration": 4,
    "start_time": "2023-03-31T18:33:17.004Z"
   },
   {
    "duration": 10,
    "start_time": "2023-03-31T18:33:17.010Z"
   },
   {
    "duration": 77,
    "start_time": "2023-03-31T18:33:17.021Z"
   },
   {
    "duration": 48,
    "start_time": "2023-03-31T18:33:17.103Z"
   },
   {
    "duration": 32,
    "start_time": "2023-03-31T18:33:17.153Z"
   },
   {
    "duration": 7,
    "start_time": "2023-03-31T18:33:17.186Z"
   },
   {
    "duration": 16,
    "start_time": "2023-03-31T18:33:17.194Z"
   },
   {
    "duration": 60,
    "start_time": "2023-03-31T18:33:17.212Z"
   },
   {
    "duration": 49,
    "start_time": "2023-03-31T18:33:17.281Z"
   },
   {
    "duration": 13,
    "start_time": "2023-03-31T18:33:17.332Z"
   },
   {
    "duration": 4,
    "start_time": "2023-03-31T18:33:17.347Z"
   },
   {
    "duration": 49,
    "start_time": "2023-03-31T18:33:17.352Z"
   },
   {
    "duration": 18,
    "start_time": "2023-03-31T18:33:17.402Z"
   },
   {
    "duration": 15,
    "start_time": "2023-03-31T18:33:17.421Z"
   },
   {
    "duration": 14,
    "start_time": "2023-03-31T18:33:17.437Z"
   },
   {
    "duration": 3,
    "start_time": "2023-03-31T18:33:17.453Z"
   },
   {
    "duration": 35,
    "start_time": "2023-03-31T18:33:17.457Z"
   },
   {
    "duration": 10,
    "start_time": "2023-03-31T18:33:17.494Z"
   },
   {
    "duration": 175,
    "start_time": "2023-03-31T18:33:17.506Z"
   },
   {
    "duration": 13,
    "start_time": "2023-03-31T18:33:17.685Z"
   },
   {
    "duration": 102,
    "start_time": "2023-03-31T18:33:17.700Z"
   },
   {
    "duration": 79,
    "start_time": "2023-03-31T18:33:17.807Z"
   },
   {
    "duration": 211,
    "start_time": "2023-03-31T18:33:17.888Z"
   },
   {
    "duration": 0,
    "start_time": "2023-03-31T18:33:18.103Z"
   },
   {
    "duration": 0,
    "start_time": "2023-03-31T18:33:18.104Z"
   },
   {
    "duration": 0,
    "start_time": "2023-03-31T18:33:18.106Z"
   },
   {
    "duration": 0,
    "start_time": "2023-03-31T18:33:18.107Z"
   },
   {
    "duration": 0,
    "start_time": "2023-03-31T18:33:18.108Z"
   },
   {
    "duration": 0,
    "start_time": "2023-03-31T18:33:18.109Z"
   },
   {
    "duration": 0,
    "start_time": "2023-03-31T18:33:18.110Z"
   },
   {
    "duration": 0,
    "start_time": "2023-03-31T18:33:18.111Z"
   },
   {
    "duration": 0,
    "start_time": "2023-03-31T18:33:18.112Z"
   },
   {
    "duration": 11,
    "start_time": "2023-03-31T18:33:35.224Z"
   },
   {
    "duration": 10,
    "start_time": "2023-03-31T18:33:53.817Z"
   },
   {
    "duration": 4,
    "start_time": "2023-03-31T18:34:07.525Z"
   },
   {
    "duration": 16,
    "start_time": "2023-03-31T18:35:02.673Z"
   },
   {
    "duration": 4,
    "start_time": "2023-03-31T18:36:13.533Z"
   },
   {
    "duration": 9,
    "start_time": "2023-03-31T18:36:54.831Z"
   },
   {
    "duration": 11,
    "start_time": "2023-03-31T18:37:08.074Z"
   },
   {
    "duration": 5,
    "start_time": "2023-03-31T18:37:29.254Z"
   },
   {
    "duration": 3,
    "start_time": "2023-03-31T18:37:47.765Z"
   },
   {
    "duration": 3,
    "start_time": "2023-03-31T18:39:26.336Z"
   },
   {
    "duration": 3,
    "start_time": "2023-03-31T18:42:35.961Z"
   },
   {
    "duration": 6,
    "start_time": "2023-03-31T18:42:51.696Z"
   },
   {
    "duration": 3,
    "start_time": "2023-03-31T18:43:01.071Z"
   },
   {
    "duration": 1462,
    "start_time": "2023-03-31T18:43:27.980Z"
   },
   {
    "duration": 401,
    "start_time": "2023-03-31T18:43:29.444Z"
   },
   {
    "duration": 12,
    "start_time": "2023-03-31T18:43:29.846Z"
   },
   {
    "duration": 75,
    "start_time": "2023-03-31T18:43:29.860Z"
   },
   {
    "duration": 59,
    "start_time": "2023-03-31T18:43:29.936Z"
   },
   {
    "duration": 19,
    "start_time": "2023-03-31T18:43:29.998Z"
   },
   {
    "duration": 37,
    "start_time": "2023-03-31T18:43:30.018Z"
   },
   {
    "duration": 49,
    "start_time": "2023-03-31T18:43:30.057Z"
   },
   {
    "duration": 64,
    "start_time": "2023-03-31T18:43:30.108Z"
   },
   {
    "duration": 52,
    "start_time": "2023-03-31T18:43:30.175Z"
   },
   {
    "duration": 14,
    "start_time": "2023-03-31T18:43:30.228Z"
   },
   {
    "duration": 12,
    "start_time": "2023-03-31T18:43:30.244Z"
   },
   {
    "duration": 44,
    "start_time": "2023-03-31T18:43:30.257Z"
   },
   {
    "duration": 60,
    "start_time": "2023-03-31T18:43:30.304Z"
   },
   {
    "duration": 60,
    "start_time": "2023-03-31T18:43:30.366Z"
   },
   {
    "duration": 16,
    "start_time": "2023-03-31T18:43:30.428Z"
   },
   {
    "duration": 18,
    "start_time": "2023-03-31T18:43:30.446Z"
   },
   {
    "duration": 38,
    "start_time": "2023-03-31T18:43:30.466Z"
   },
   {
    "duration": 31,
    "start_time": "2023-03-31T18:43:30.506Z"
   },
   {
    "duration": 15,
    "start_time": "2023-03-31T18:43:30.538Z"
   },
   {
    "duration": 27,
    "start_time": "2023-03-31T18:43:30.554Z"
   },
   {
    "duration": 5,
    "start_time": "2023-03-31T18:43:30.584Z"
   },
   {
    "duration": 42,
    "start_time": "2023-03-31T18:43:30.595Z"
   },
   {
    "duration": 9,
    "start_time": "2023-03-31T18:43:30.678Z"
   },
   {
    "duration": 114,
    "start_time": "2023-03-31T18:43:30.691Z"
   },
   {
    "duration": 77,
    "start_time": "2023-03-31T18:43:30.806Z"
   },
   {
    "duration": 122,
    "start_time": "2023-03-31T18:43:30.885Z"
   },
   {
    "duration": 71,
    "start_time": "2023-03-31T18:43:31.012Z"
   },
   {
    "duration": 96,
    "start_time": "2023-03-31T18:43:31.086Z"
   },
   {
    "duration": 18,
    "start_time": "2023-03-31T18:43:31.184Z"
   },
   {
    "duration": 20,
    "start_time": "2023-03-31T18:43:31.204Z"
   },
   {
    "duration": 22,
    "start_time": "2023-03-31T18:43:31.226Z"
   },
   {
    "duration": 20,
    "start_time": "2023-03-31T18:43:31.250Z"
   },
   {
    "duration": 24,
    "start_time": "2023-03-31T18:43:31.271Z"
   },
   {
    "duration": 27,
    "start_time": "2023-03-31T18:43:31.300Z"
   },
   {
    "duration": 15,
    "start_time": "2023-03-31T18:43:31.329Z"
   },
   {
    "duration": 38,
    "start_time": "2023-03-31T18:43:31.346Z"
   },
   {
    "duration": 30,
    "start_time": "2023-03-31T18:43:31.386Z"
   },
   {
    "duration": 1018,
    "start_time": "2023-03-31T18:43:31.418Z"
   },
   {
    "duration": 982,
    "start_time": "2023-03-31T18:43:32.438Z"
   },
   {
    "duration": 1087,
    "start_time": "2023-03-31T18:43:33.422Z"
   },
   {
    "duration": 6,
    "start_time": "2023-03-31T18:46:40.298Z"
   },
   {
    "duration": 19,
    "start_time": "2023-03-31T19:00:37.700Z"
   },
   {
    "duration": 117,
    "start_time": "2023-03-31T19:04:11.301Z"
   },
   {
    "duration": 10,
    "start_time": "2023-03-31T19:04:56.095Z"
   },
   {
    "duration": 9,
    "start_time": "2023-03-31T19:09:39.301Z"
   },
   {
    "duration": 11,
    "start_time": "2023-03-31T19:11:09.653Z"
   },
   {
    "duration": 11,
    "start_time": "2023-03-31T19:11:32.102Z"
   },
   {
    "duration": 6,
    "start_time": "2023-03-31T19:12:44.181Z"
   },
   {
    "duration": 6,
    "start_time": "2023-03-31T19:14:06.479Z"
   },
   {
    "duration": 4,
    "start_time": "2023-03-31T19:14:18.776Z"
   },
   {
    "duration": 4,
    "start_time": "2023-03-31T19:17:49.274Z"
   },
   {
    "duration": 4,
    "start_time": "2023-03-31T19:20:18.193Z"
   },
   {
    "duration": 5,
    "start_time": "2023-03-31T19:20:53.783Z"
   },
   {
    "duration": 11,
    "start_time": "2023-03-31T19:24:40.480Z"
   },
   {
    "duration": 3,
    "start_time": "2023-03-31T19:25:00.401Z"
   },
   {
    "duration": 3,
    "start_time": "2023-03-31T19:25:19.417Z"
   },
   {
    "duration": 4,
    "start_time": "2023-03-31T19:25:34.215Z"
   },
   {
    "duration": 5,
    "start_time": "2023-03-31T19:29:32.385Z"
   },
   {
    "duration": 11,
    "start_time": "2023-03-31T19:30:56.407Z"
   },
   {
    "duration": 17,
    "start_time": "2023-03-31T19:31:16.080Z"
   },
   {
    "duration": 7,
    "start_time": "2023-03-31T19:32:15.111Z"
   },
   {
    "duration": 7,
    "start_time": "2023-03-31T19:33:26.855Z"
   },
   {
    "duration": 7,
    "start_time": "2023-03-31T19:34:21.827Z"
   },
   {
    "duration": 6,
    "start_time": "2023-03-31T19:49:17.295Z"
   },
   {
    "duration": 1335,
    "start_time": "2023-03-31T19:49:54.200Z"
   },
   {
    "duration": 7,
    "start_time": "2023-03-31T19:50:47.411Z"
   },
   {
    "duration": 1277,
    "start_time": "2023-03-31T19:50:51.823Z"
   },
   {
    "duration": 5,
    "start_time": "2023-03-31T19:51:46.153Z"
   },
   {
    "duration": 12,
    "start_time": "2023-03-31T19:52:24.486Z"
   },
   {
    "duration": 14,
    "start_time": "2023-03-31T19:52:33.087Z"
   },
   {
    "duration": 16,
    "start_time": "2023-03-31T19:52:43.494Z"
   },
   {
    "duration": 23,
    "start_time": "2023-03-31T19:52:59.385Z"
   },
   {
    "duration": 1021,
    "start_time": "2023-03-31T20:02:37.799Z"
   },
   {
    "duration": 988,
    "start_time": "2023-03-31T20:03:00.663Z"
   },
   {
    "duration": 988,
    "start_time": "2023-03-31T20:03:21.359Z"
   },
   {
    "duration": 991,
    "start_time": "2023-03-31T20:03:29.308Z"
   },
   {
    "duration": 1078,
    "start_time": "2023-03-31T20:04:34.351Z"
   },
   {
    "duration": 5,
    "start_time": "2023-03-31T20:05:11.127Z"
   },
   {
    "duration": 24,
    "start_time": "2023-03-31T20:05:14.192Z"
   },
   {
    "duration": 5,
    "start_time": "2023-03-31T20:05:42.326Z"
   },
   {
    "duration": 25,
    "start_time": "2023-03-31T20:05:44.267Z"
   },
   {
    "duration": 5,
    "start_time": "2023-03-31T20:06:05.102Z"
   },
   {
    "duration": 962,
    "start_time": "2023-03-31T20:06:08.276Z"
   },
   {
    "duration": 7,
    "start_time": "2023-03-31T20:07:21.328Z"
   },
   {
    "duration": 1046,
    "start_time": "2023-03-31T20:07:22.994Z"
   },
   {
    "duration": 5,
    "start_time": "2023-03-31T20:07:51.793Z"
   },
   {
    "duration": 20,
    "start_time": "2023-03-31T20:07:55.171Z"
   },
   {
    "duration": 1465,
    "start_time": "2023-03-31T20:08:07.427Z"
   },
   {
    "duration": 398,
    "start_time": "2023-03-31T20:08:08.895Z"
   },
   {
    "duration": 15,
    "start_time": "2023-03-31T20:08:09.295Z"
   },
   {
    "duration": 67,
    "start_time": "2023-03-31T20:08:09.314Z"
   },
   {
    "duration": 50,
    "start_time": "2023-03-31T20:08:09.388Z"
   },
   {
    "duration": 15,
    "start_time": "2023-03-31T20:08:09.439Z"
   },
   {
    "duration": 4,
    "start_time": "2023-03-31T20:08:09.456Z"
   },
   {
    "duration": 11,
    "start_time": "2023-03-31T20:08:09.480Z"
   },
   {
    "duration": 54,
    "start_time": "2023-03-31T20:08:09.493Z"
   },
   {
    "duration": 68,
    "start_time": "2023-03-31T20:08:09.549Z"
   },
   {
    "duration": 16,
    "start_time": "2023-03-31T20:08:09.618Z"
   },
   {
    "duration": 11,
    "start_time": "2023-03-31T20:08:09.636Z"
   },
   {
    "duration": 40,
    "start_time": "2023-03-31T20:08:09.649Z"
   },
   {
    "duration": 54,
    "start_time": "2023-03-31T20:08:09.690Z"
   },
   {
    "duration": 53,
    "start_time": "2023-03-31T20:08:09.746Z"
   },
   {
    "duration": 15,
    "start_time": "2023-03-31T20:08:09.801Z"
   },
   {
    "duration": 12,
    "start_time": "2023-03-31T20:08:09.817Z"
   },
   {
    "duration": 24,
    "start_time": "2023-03-31T20:08:09.830Z"
   },
   {
    "duration": 24,
    "start_time": "2023-03-31T20:08:09.855Z"
   },
   {
    "duration": 14,
    "start_time": "2023-03-31T20:08:09.884Z"
   },
   {
    "duration": 24,
    "start_time": "2023-03-31T20:08:09.900Z"
   },
   {
    "duration": 21,
    "start_time": "2023-03-31T20:08:09.926Z"
   },
   {
    "duration": 50,
    "start_time": "2023-03-31T20:08:09.949Z"
   },
   {
    "duration": 85,
    "start_time": "2023-03-31T20:08:10.001Z"
   },
   {
    "duration": 102,
    "start_time": "2023-03-31T20:08:10.094Z"
   },
   {
    "duration": 4,
    "start_time": "2023-03-31T20:08:10.198Z"
   },
   {
    "duration": 101,
    "start_time": "2023-03-31T20:08:10.275Z"
   },
   {
    "duration": 18,
    "start_time": "2023-03-31T20:08:10.380Z"
   },
   {
    "duration": 8,
    "start_time": "2023-03-31T20:08:10.476Z"
   },
   {
    "duration": 4,
    "start_time": "2023-03-31T20:08:10.493Z"
   },
   {
    "duration": 14,
    "start_time": "2023-03-31T20:08:10.499Z"
   },
   {
    "duration": 8,
    "start_time": "2023-03-31T20:08:10.515Z"
   },
   {
    "duration": 8,
    "start_time": "2023-03-31T20:08:10.525Z"
   },
   {
    "duration": 7,
    "start_time": "2023-03-31T20:08:10.534Z"
   },
   {
    "duration": 9,
    "start_time": "2023-03-31T20:08:10.542Z"
   },
   {
    "duration": 4,
    "start_time": "2023-03-31T20:08:10.553Z"
   },
   {
    "duration": 11,
    "start_time": "2023-03-31T20:08:10.577Z"
   },
   {
    "duration": 22,
    "start_time": "2023-03-31T20:08:10.590Z"
   },
   {
    "duration": 16,
    "start_time": "2023-03-31T20:08:10.614Z"
   },
   {
    "duration": 8,
    "start_time": "2023-03-31T20:08:10.632Z"
   },
   {
    "duration": 6,
    "start_time": "2023-03-31T20:08:10.642Z"
   },
   {
    "duration": 7,
    "start_time": "2023-03-31T20:08:10.650Z"
   },
   {
    "duration": 169,
    "start_time": "2023-03-31T20:08:10.658Z"
   },
   {
    "duration": 0,
    "start_time": "2023-03-31T20:08:10.828Z"
   },
   {
    "duration": 0,
    "start_time": "2023-03-31T20:08:10.830Z"
   },
   {
    "duration": 6,
    "start_time": "2023-03-31T20:09:26.621Z"
   },
   {
    "duration": 17,
    "start_time": "2023-03-31T20:09:31.859Z"
   },
   {
    "duration": 18,
    "start_time": "2023-03-31T20:10:05.871Z"
   },
   {
    "duration": 20,
    "start_time": "2023-03-31T20:10:07.967Z"
   },
   {
    "duration": 6,
    "start_time": "2023-03-31T20:11:00.040Z"
   },
   {
    "duration": 29,
    "start_time": "2023-03-31T20:11:01.667Z"
   },
   {
    "duration": 41,
    "start_time": "2023-04-01T05:38:22.452Z"
   },
   {
    "duration": 1467,
    "start_time": "2023-04-01T05:38:29.444Z"
   },
   {
    "duration": 850,
    "start_time": "2023-04-01T05:38:30.913Z"
   },
   {
    "duration": 11,
    "start_time": "2023-04-01T05:38:31.765Z"
   },
   {
    "duration": 43,
    "start_time": "2023-04-01T05:38:31.778Z"
   },
   {
    "duration": 51,
    "start_time": "2023-04-01T05:38:31.823Z"
   },
   {
    "duration": 12,
    "start_time": "2023-04-01T05:38:31.876Z"
   },
   {
    "duration": 4,
    "start_time": "2023-04-01T05:38:31.889Z"
   },
   {
    "duration": 12,
    "start_time": "2023-04-01T05:38:31.894Z"
   },
   {
    "duration": 60,
    "start_time": "2023-04-01T05:38:31.908Z"
   },
   {
    "duration": 38,
    "start_time": "2023-04-01T05:38:31.970Z"
   },
   {
    "duration": 12,
    "start_time": "2023-04-01T05:38:32.010Z"
   },
   {
    "duration": 3,
    "start_time": "2023-04-01T05:38:32.024Z"
   },
   {
    "duration": 10,
    "start_time": "2023-04-01T05:38:32.028Z"
   },
   {
    "duration": 43,
    "start_time": "2023-04-01T05:38:32.068Z"
   },
   {
    "duration": 37,
    "start_time": "2023-04-01T05:38:32.112Z"
   },
   {
    "duration": 26,
    "start_time": "2023-04-01T05:38:32.150Z"
   },
   {
    "duration": 3,
    "start_time": "2023-04-01T05:38:32.177Z"
   },
   {
    "duration": 10,
    "start_time": "2023-04-01T05:38:32.182Z"
   },
   {
    "duration": 12,
    "start_time": "2023-04-01T05:38:32.193Z"
   },
   {
    "duration": 12,
    "start_time": "2023-04-01T05:38:32.206Z"
   },
   {
    "duration": 11,
    "start_time": "2023-04-01T05:38:32.219Z"
   },
   {
    "duration": 2,
    "start_time": "2023-04-01T05:38:32.231Z"
   },
   {
    "duration": 42,
    "start_time": "2023-04-01T05:38:32.235Z"
   },
   {
    "duration": 2,
    "start_time": "2023-04-01T05:38:32.278Z"
   },
   {
    "duration": 187,
    "start_time": "2023-04-01T05:38:32.282Z"
   },
   {
    "duration": 2,
    "start_time": "2023-04-01T05:38:32.471Z"
   },
   {
    "duration": 106,
    "start_time": "2023-04-01T05:38:32.474Z"
   },
   {
    "duration": 5,
    "start_time": "2023-04-01T05:38:32.582Z"
   },
   {
    "duration": 87,
    "start_time": "2023-04-01T05:38:32.589Z"
   },
   {
    "duration": 3,
    "start_time": "2023-04-01T05:38:32.769Z"
   },
   {
    "duration": 6,
    "start_time": "2023-04-01T05:38:32.773Z"
   },
   {
    "duration": 4,
    "start_time": "2023-04-01T05:38:32.781Z"
   },
   {
    "duration": 4,
    "start_time": "2023-04-01T05:38:32.786Z"
   },
   {
    "duration": 5,
    "start_time": "2023-04-01T05:38:32.791Z"
   },
   {
    "duration": 8,
    "start_time": "2023-04-01T05:38:32.797Z"
   },
   {
    "duration": 3,
    "start_time": "2023-04-01T05:38:32.806Z"
   },
   {
    "duration": 3,
    "start_time": "2023-04-01T05:38:32.810Z"
   },
   {
    "duration": 3,
    "start_time": "2023-04-01T05:38:32.815Z"
   },
   {
    "duration": 9,
    "start_time": "2023-04-01T05:38:32.819Z"
   },
   {
    "duration": 132,
    "start_time": "2023-04-01T05:38:32.829Z"
   },
   {
    "duration": 0,
    "start_time": "2023-04-01T05:38:32.962Z"
   },
   {
    "duration": 0,
    "start_time": "2023-04-01T05:38:32.968Z"
   },
   {
    "duration": 0,
    "start_time": "2023-04-01T05:38:32.969Z"
   },
   {
    "duration": 0,
    "start_time": "2023-04-01T05:38:32.970Z"
   },
   {
    "duration": 0,
    "start_time": "2023-04-01T05:38:32.971Z"
   },
   {
    "duration": 0,
    "start_time": "2023-04-01T05:38:32.972Z"
   },
   {
    "duration": 6,
    "start_time": "2023-04-01T05:39:24.619Z"
   },
   {
    "duration": 6,
    "start_time": "2023-04-01T05:39:45.002Z"
   },
   {
    "duration": 4,
    "start_time": "2023-04-01T05:43:05.075Z"
   },
   {
    "duration": 7,
    "start_time": "2023-04-01T05:43:05.692Z"
   },
   {
    "duration": 6,
    "start_time": "2023-04-01T05:43:06.391Z"
   },
   {
    "duration": 6,
    "start_time": "2023-04-01T05:43:06.995Z"
   },
   {
    "duration": 11,
    "start_time": "2023-04-01T05:47:53.922Z"
   },
   {
    "duration": 4,
    "start_time": "2023-04-01T05:51:00.800Z"
   },
   {
    "duration": 4,
    "start_time": "2023-04-01T05:51:43.013Z"
   },
   {
    "duration": 8,
    "start_time": "2023-04-01T05:54:29.974Z"
   },
   {
    "duration": 1305,
    "start_time": "2023-04-01T05:54:53.507Z"
   },
   {
    "duration": 342,
    "start_time": "2023-04-01T05:54:54.813Z"
   },
   {
    "duration": 17,
    "start_time": "2023-04-01T05:54:55.156Z"
   },
   {
    "duration": 47,
    "start_time": "2023-04-01T05:54:55.175Z"
   },
   {
    "duration": 65,
    "start_time": "2023-04-01T05:54:55.224Z"
   },
   {
    "duration": 15,
    "start_time": "2023-04-01T05:54:55.290Z"
   },
   {
    "duration": 4,
    "start_time": "2023-04-01T05:54:55.306Z"
   },
   {
    "duration": 11,
    "start_time": "2023-04-01T05:54:55.311Z"
   },
   {
    "duration": 67,
    "start_time": "2023-04-01T05:54:55.323Z"
   },
   {
    "duration": 45,
    "start_time": "2023-04-01T05:54:55.392Z"
   },
   {
    "duration": 32,
    "start_time": "2023-04-01T05:54:55.439Z"
   },
   {
    "duration": 3,
    "start_time": "2023-04-01T05:54:55.473Z"
   },
   {
    "duration": 9,
    "start_time": "2023-04-01T05:54:55.478Z"
   },
   {
    "duration": 54,
    "start_time": "2023-04-01T05:54:55.488Z"
   },
   {
    "duration": 62,
    "start_time": "2023-04-01T05:54:55.543Z"
   },
   {
    "duration": 13,
    "start_time": "2023-04-01T05:54:55.607Z"
   },
   {
    "duration": 4,
    "start_time": "2023-04-01T05:54:55.621Z"
   },
   {
    "duration": 13,
    "start_time": "2023-04-01T05:54:55.626Z"
   },
   {
    "duration": 37,
    "start_time": "2023-04-01T05:54:55.641Z"
   },
   {
    "duration": 12,
    "start_time": "2023-04-01T05:54:55.679Z"
   },
   {
    "duration": 12,
    "start_time": "2023-04-01T05:54:55.693Z"
   },
   {
    "duration": 3,
    "start_time": "2023-04-01T05:54:55.706Z"
   },
   {
    "duration": 61,
    "start_time": "2023-04-01T05:54:55.710Z"
   },
   {
    "duration": 3,
    "start_time": "2023-04-01T05:54:55.774Z"
   },
   {
    "duration": 114,
    "start_time": "2023-04-01T05:54:55.778Z"
   },
   {
    "duration": 2,
    "start_time": "2023-04-01T05:54:55.894Z"
   },
   {
    "duration": 173,
    "start_time": "2023-04-01T05:54:55.898Z"
   },
   {
    "duration": 93,
    "start_time": "2023-04-01T05:54:56.075Z"
   },
   {
    "duration": 4,
    "start_time": "2023-04-01T05:54:56.170Z"
   },
   {
    "duration": 9,
    "start_time": "2023-04-01T05:54:56.175Z"
   },
   {
    "duration": 17,
    "start_time": "2023-04-01T05:54:56.185Z"
   },
   {
    "duration": 6,
    "start_time": "2023-04-01T05:54:56.203Z"
   },
   {
    "duration": 6,
    "start_time": "2023-04-01T05:54:56.210Z"
   },
   {
    "duration": 13,
    "start_time": "2023-04-01T05:54:56.217Z"
   },
   {
    "duration": 9,
    "start_time": "2023-04-01T05:54:56.232Z"
   },
   {
    "duration": 3,
    "start_time": "2023-04-01T05:54:56.242Z"
   },
   {
    "duration": 5,
    "start_time": "2023-04-01T05:54:56.246Z"
   },
   {
    "duration": 16,
    "start_time": "2023-04-01T05:54:56.252Z"
   },
   {
    "duration": 8,
    "start_time": "2023-04-01T05:54:56.270Z"
   },
   {
    "duration": 5,
    "start_time": "2023-04-01T05:54:56.280Z"
   },
   {
    "duration": 6,
    "start_time": "2023-04-01T05:54:56.287Z"
   },
   {
    "duration": 5,
    "start_time": "2023-04-01T05:54:56.295Z"
   },
   {
    "duration": 132,
    "start_time": "2023-04-01T05:54:56.301Z"
   },
   {
    "duration": 0,
    "start_time": "2023-04-01T05:54:56.434Z"
   },
   {
    "duration": 0,
    "start_time": "2023-04-01T05:54:56.436Z"
   },
   {
    "duration": 0,
    "start_time": "2023-04-01T05:54:56.437Z"
   },
   {
    "duration": 0,
    "start_time": "2023-04-01T05:54:56.438Z"
   },
   {
    "duration": 5,
    "start_time": "2023-04-01T05:55:48.698Z"
   },
   {
    "duration": 17,
    "start_time": "2023-04-01T05:55:53.118Z"
   },
   {
    "duration": 6,
    "start_time": "2023-04-01T06:14:24.289Z"
   },
   {
    "duration": 16,
    "start_time": "2023-04-01T06:14:25.315Z"
   },
   {
    "duration": 5,
    "start_time": "2023-04-01T06:15:14.975Z"
   },
   {
    "duration": 16,
    "start_time": "2023-04-01T06:15:15.624Z"
   },
   {
    "duration": 9,
    "start_time": "2023-04-01T06:15:46.768Z"
   },
   {
    "duration": 5,
    "start_time": "2023-04-01T06:15:49.837Z"
   },
   {
    "duration": 16,
    "start_time": "2023-04-01T06:15:50.963Z"
   },
   {
    "duration": 6,
    "start_time": "2023-04-01T06:15:59.361Z"
   },
   {
    "duration": 18,
    "start_time": "2023-04-01T06:16:01.823Z"
   },
   {
    "duration": 8,
    "start_time": "2023-04-01T06:16:15.853Z"
   },
   {
    "duration": 5,
    "start_time": "2023-04-01T06:17:53.245Z"
   },
   {
    "duration": 10,
    "start_time": "2023-04-01T06:17:53.764Z"
   },
   {
    "duration": 5,
    "start_time": "2023-04-01T06:18:18.241Z"
   },
   {
    "duration": 14,
    "start_time": "2023-04-01T06:18:18.677Z"
   },
   {
    "duration": 3,
    "start_time": "2023-04-01T06:45:34.462Z"
   },
   {
    "duration": 7,
    "start_time": "2023-04-01T06:46:45.471Z"
   },
   {
    "duration": 13,
    "start_time": "2023-04-01T06:47:17.277Z"
   },
   {
    "duration": 6,
    "start_time": "2023-04-01T07:02:36.304Z"
   },
   {
    "duration": 14,
    "start_time": "2023-04-01T07:02:37.756Z"
   },
   {
    "duration": 1526,
    "start_time": "2023-04-01T07:02:52.399Z"
   },
   {
    "duration": 383,
    "start_time": "2023-04-01T07:02:53.926Z"
   },
   {
    "duration": 14,
    "start_time": "2023-04-01T07:02:54.311Z"
   },
   {
    "duration": 63,
    "start_time": "2023-04-01T07:02:54.327Z"
   },
   {
    "duration": 49,
    "start_time": "2023-04-01T07:02:54.392Z"
   },
   {
    "duration": 41,
    "start_time": "2023-04-01T07:02:54.443Z"
   },
   {
    "duration": 5,
    "start_time": "2023-04-01T07:02:54.486Z"
   },
   {
    "duration": 12,
    "start_time": "2023-04-01T07:02:54.493Z"
   },
   {
    "duration": 64,
    "start_time": "2023-04-01T07:02:54.507Z"
   },
   {
    "duration": 49,
    "start_time": "2023-04-01T07:02:54.578Z"
   },
   {
    "duration": 14,
    "start_time": "2023-04-01T07:02:54.629Z"
   },
   {
    "duration": 3,
    "start_time": "2023-04-01T07:02:54.645Z"
   },
   {
    "duration": 11,
    "start_time": "2023-04-01T07:02:54.674Z"
   },
   {
    "duration": 53,
    "start_time": "2023-04-01T07:02:54.686Z"
   },
   {
    "duration": 62,
    "start_time": "2023-04-01T07:02:54.740Z"
   },
   {
    "duration": 13,
    "start_time": "2023-04-01T07:02:54.804Z"
   },
   {
    "duration": 3,
    "start_time": "2023-04-01T07:02:54.819Z"
   },
   {
    "duration": 12,
    "start_time": "2023-04-01T07:02:54.824Z"
   },
   {
    "duration": 40,
    "start_time": "2023-04-01T07:02:54.837Z"
   },
   {
    "duration": 12,
    "start_time": "2023-04-01T07:02:54.881Z"
   },
   {
    "duration": 12,
    "start_time": "2023-04-01T07:02:54.895Z"
   },
   {
    "duration": 2,
    "start_time": "2023-04-01T07:02:54.909Z"
   },
   {
    "duration": 65,
    "start_time": "2023-04-01T07:02:54.912Z"
   },
   {
    "duration": 4,
    "start_time": "2023-04-01T07:02:54.979Z"
   },
   {
    "duration": 100,
    "start_time": "2023-04-01T07:02:54.984Z"
   },
   {
    "duration": 2,
    "start_time": "2023-04-01T07:02:55.085Z"
   },
   {
    "duration": 201,
    "start_time": "2023-04-01T07:02:55.089Z"
   },
   {
    "duration": 9,
    "start_time": "2023-04-01T07:02:55.369Z"
   },
   {
    "duration": 7,
    "start_time": "2023-04-01T07:02:55.379Z"
   },
   {
    "duration": 4,
    "start_time": "2023-04-01T07:02:55.388Z"
   },
   {
    "duration": 20,
    "start_time": "2023-04-01T07:02:55.394Z"
   },
   {
    "duration": 10,
    "start_time": "2023-04-01T07:02:55.415Z"
   },
   {
    "duration": 46,
    "start_time": "2023-04-01T07:02:55.427Z"
   },
   {
    "duration": 13,
    "start_time": "2023-04-01T07:02:55.475Z"
   },
   {
    "duration": 11,
    "start_time": "2023-04-01T07:02:55.489Z"
   },
   {
    "duration": 4,
    "start_time": "2023-04-01T07:02:55.501Z"
   },
   {
    "duration": 11,
    "start_time": "2023-04-01T07:02:55.506Z"
   },
   {
    "duration": 13,
    "start_time": "2023-04-01T07:02:55.518Z"
   },
   {
    "duration": 10,
    "start_time": "2023-04-01T07:02:55.533Z"
   },
   {
    "duration": 5,
    "start_time": "2023-04-01T07:02:55.545Z"
   },
   {
    "duration": 26,
    "start_time": "2023-04-01T07:02:55.552Z"
   },
   {
    "duration": 3,
    "start_time": "2023-04-01T07:02:55.580Z"
   },
   {
    "duration": 12,
    "start_time": "2023-04-01T07:02:55.584Z"
   },
   {
    "duration": 1526,
    "start_time": "2023-04-01T07:02:55.597Z"
   },
   {
    "duration": 5,
    "start_time": "2023-04-01T07:02:57.124Z"
   },
   {
    "duration": 118,
    "start_time": "2023-04-01T07:02:57.130Z"
   },
   {
    "duration": 0,
    "start_time": "2023-04-01T07:02:57.250Z"
   },
   {
    "duration": 0,
    "start_time": "2023-04-01T07:02:57.251Z"
   },
   {
    "duration": 0,
    "start_time": "2023-04-01T07:02:57.252Z"
   },
   {
    "duration": 0,
    "start_time": "2023-04-01T07:02:57.253Z"
   },
   {
    "duration": 6,
    "start_time": "2023-04-01T07:03:24.299Z"
   },
   {
    "duration": 1417,
    "start_time": "2023-04-01T07:03:25.028Z"
   },
   {
    "duration": 8,
    "start_time": "2023-04-01T07:05:21.116Z"
   },
   {
    "duration": 1333,
    "start_time": "2023-04-01T07:05:30.255Z"
   },
   {
    "duration": 348,
    "start_time": "2023-04-01T07:05:31.590Z"
   },
   {
    "duration": 12,
    "start_time": "2023-04-01T07:05:31.939Z"
   },
   {
    "duration": 65,
    "start_time": "2023-04-01T07:05:31.952Z"
   },
   {
    "duration": 42,
    "start_time": "2023-04-01T07:05:32.019Z"
   },
   {
    "duration": 26,
    "start_time": "2023-04-01T07:05:32.062Z"
   },
   {
    "duration": 4,
    "start_time": "2023-04-01T07:05:32.089Z"
   },
   {
    "duration": 11,
    "start_time": "2023-04-01T07:05:32.094Z"
   },
   {
    "duration": 43,
    "start_time": "2023-04-01T07:05:32.107Z"
   },
   {
    "duration": 63,
    "start_time": "2023-04-01T07:05:32.151Z"
   },
   {
    "duration": 12,
    "start_time": "2023-04-01T07:05:32.215Z"
   },
   {
    "duration": 4,
    "start_time": "2023-04-01T07:05:32.228Z"
   },
   {
    "duration": 20,
    "start_time": "2023-04-01T07:05:32.233Z"
   },
   {
    "duration": 49,
    "start_time": "2023-04-01T07:05:32.256Z"
   },
   {
    "duration": 39,
    "start_time": "2023-04-01T07:05:32.306Z"
   },
   {
    "duration": 37,
    "start_time": "2023-04-01T07:05:32.346Z"
   },
   {
    "duration": 4,
    "start_time": "2023-04-01T07:05:32.384Z"
   },
   {
    "duration": 17,
    "start_time": "2023-04-01T07:05:32.390Z"
   },
   {
    "duration": 13,
    "start_time": "2023-04-01T07:05:32.409Z"
   },
   {
    "duration": 14,
    "start_time": "2023-04-01T07:05:32.424Z"
   },
   {
    "duration": 13,
    "start_time": "2023-04-01T07:05:32.439Z"
   },
   {
    "duration": 22,
    "start_time": "2023-04-01T07:05:32.454Z"
   },
   {
    "duration": 23,
    "start_time": "2023-04-01T07:05:32.477Z"
   },
   {
    "duration": 5,
    "start_time": "2023-04-01T07:05:32.502Z"
   },
   {
    "duration": 111,
    "start_time": "2023-04-01T07:05:32.570Z"
   },
   {
    "duration": 4,
    "start_time": "2023-04-01T07:05:32.683Z"
   },
   {
    "duration": 186,
    "start_time": "2023-04-01T07:05:32.689Z"
   },
   {
    "duration": 4,
    "start_time": "2023-04-01T07:05:32.877Z"
   },
   {
    "duration": 88,
    "start_time": "2023-04-01T07:05:32.883Z"
   },
   {
    "duration": 16,
    "start_time": "2023-04-01T07:05:32.973Z"
   },
   {
    "duration": 8,
    "start_time": "2023-04-01T07:05:32.991Z"
   },
   {
    "duration": 5,
    "start_time": "2023-04-01T07:05:33.000Z"
   },
   {
    "duration": 6,
    "start_time": "2023-04-01T07:05:33.006Z"
   },
   {
    "duration": 5,
    "start_time": "2023-04-01T07:05:33.014Z"
   },
   {
    "duration": 12,
    "start_time": "2023-04-01T07:05:33.020Z"
   },
   {
    "duration": 48,
    "start_time": "2023-04-01T07:05:33.033Z"
   },
   {
    "duration": 3,
    "start_time": "2023-04-01T07:05:33.083Z"
   },
   {
    "duration": 6,
    "start_time": "2023-04-01T07:05:33.087Z"
   },
   {
    "duration": 13,
    "start_time": "2023-04-01T07:05:33.094Z"
   },
   {
    "duration": 10,
    "start_time": "2023-04-01T07:05:33.108Z"
   },
   {
    "duration": 6,
    "start_time": "2023-04-01T07:05:33.121Z"
   },
   {
    "duration": 4,
    "start_time": "2023-04-01T07:05:33.128Z"
   },
   {
    "duration": 5,
    "start_time": "2023-04-01T07:05:33.133Z"
   },
   {
    "duration": 1221,
    "start_time": "2023-04-01T07:05:33.139Z"
   },
   {
    "duration": 1240,
    "start_time": "2023-04-01T07:05:34.362Z"
   },
   {
    "duration": 6,
    "start_time": "2023-04-01T07:05:35.603Z"
   },
   {
    "duration": 117,
    "start_time": "2023-04-01T07:05:35.610Z"
   },
   {
    "duration": 0,
    "start_time": "2023-04-01T07:05:35.728Z"
   },
   {
    "duration": 0,
    "start_time": "2023-04-01T07:05:35.729Z"
   },
   {
    "duration": 0,
    "start_time": "2023-04-01T07:05:35.731Z"
   },
   {
    "duration": 0,
    "start_time": "2023-04-01T07:05:35.732Z"
   },
   {
    "duration": 1255,
    "start_time": "2023-04-01T07:06:01.940Z"
   },
   {
    "duration": 4,
    "start_time": "2023-04-01T07:28:04.250Z"
   },
   {
    "duration": 3,
    "start_time": "2023-04-01T07:28:14.552Z"
   },
   {
    "duration": 4,
    "start_time": "2023-04-01T07:28:20.414Z"
   },
   {
    "duration": 3,
    "start_time": "2023-04-01T07:28:26.218Z"
   },
   {
    "duration": 6,
    "start_time": "2023-04-01T07:37:38.222Z"
   },
   {
    "duration": 1147,
    "start_time": "2023-04-01T07:37:40.910Z"
   },
   {
    "duration": 5,
    "start_time": "2023-04-01T07:38:08.616Z"
   },
   {
    "duration": 1243,
    "start_time": "2023-04-01T07:38:10.453Z"
   },
   {
    "duration": 6,
    "start_time": "2023-04-01T07:43:55.708Z"
   },
   {
    "duration": 1154,
    "start_time": "2023-04-01T07:43:56.957Z"
   },
   {
    "duration": 1213,
    "start_time": "2023-04-01T07:44:44.077Z"
   },
   {
    "duration": 1387,
    "start_time": "2023-04-01T07:44:52.813Z"
   },
   {
    "duration": 1279,
    "start_time": "2023-04-01T08:12:00.609Z"
   },
   {
    "duration": 324,
    "start_time": "2023-04-01T08:12:01.889Z"
   },
   {
    "duration": 12,
    "start_time": "2023-04-01T08:12:02.216Z"
   },
   {
    "duration": 56,
    "start_time": "2023-04-01T08:12:02.229Z"
   },
   {
    "duration": 43,
    "start_time": "2023-04-01T08:12:02.288Z"
   },
   {
    "duration": 13,
    "start_time": "2023-04-01T08:12:02.333Z"
   },
   {
    "duration": 21,
    "start_time": "2023-04-01T08:12:02.347Z"
   },
   {
    "duration": 27,
    "start_time": "2023-04-01T08:12:02.369Z"
   },
   {
    "duration": 95,
    "start_time": "2023-04-01T08:12:02.398Z"
   },
   {
    "duration": 51,
    "start_time": "2023-04-01T08:12:02.495Z"
   },
   {
    "duration": 28,
    "start_time": "2023-04-01T08:12:02.547Z"
   },
   {
    "duration": 4,
    "start_time": "2023-04-01T08:12:02.577Z"
   },
   {
    "duration": 11,
    "start_time": "2023-04-01T08:12:02.583Z"
   },
   {
    "duration": 71,
    "start_time": "2023-04-01T08:12:02.597Z"
   },
   {
    "duration": 38,
    "start_time": "2023-04-01T08:12:02.670Z"
   },
   {
    "duration": 12,
    "start_time": "2023-04-01T08:12:02.710Z"
   },
   {
    "duration": 3,
    "start_time": "2023-04-01T08:12:02.723Z"
   },
   {
    "duration": 11,
    "start_time": "2023-04-01T08:12:02.728Z"
   },
   {
    "duration": 38,
    "start_time": "2023-04-01T08:12:02.741Z"
   },
   {
    "duration": 15,
    "start_time": "2023-04-01T08:12:02.780Z"
   },
   {
    "duration": 16,
    "start_time": "2023-04-01T08:12:02.797Z"
   },
   {
    "duration": 3,
    "start_time": "2023-04-01T08:12:02.814Z"
   },
   {
    "duration": 17,
    "start_time": "2023-04-01T08:12:02.819Z"
   },
   {
    "duration": 4,
    "start_time": "2023-04-01T08:12:02.870Z"
   },
   {
    "duration": 99,
    "start_time": "2023-04-01T08:12:02.876Z"
   },
   {
    "duration": 4,
    "start_time": "2023-04-01T08:12:02.977Z"
   },
   {
    "duration": 188,
    "start_time": "2023-04-01T08:12:02.983Z"
   },
   {
    "duration": 3,
    "start_time": "2023-04-01T08:12:03.173Z"
   },
   {
    "duration": 93,
    "start_time": "2023-04-01T08:12:03.178Z"
   },
   {
    "duration": 6,
    "start_time": "2023-04-01T08:12:03.273Z"
   },
   {
    "duration": 18,
    "start_time": "2023-04-01T08:12:03.280Z"
   },
   {
    "duration": 9,
    "start_time": "2023-04-01T08:12:03.299Z"
   },
   {
    "duration": 9,
    "start_time": "2023-04-01T08:12:03.309Z"
   },
   {
    "duration": 5,
    "start_time": "2023-04-01T08:12:03.320Z"
   },
   {
    "duration": 8,
    "start_time": "2023-04-01T08:12:03.326Z"
   },
   {
    "duration": 3,
    "start_time": "2023-04-01T08:12:03.368Z"
   },
   {
    "duration": 5,
    "start_time": "2023-04-01T08:12:03.372Z"
   },
   {
    "duration": 4,
    "start_time": "2023-04-01T08:12:03.378Z"
   },
   {
    "duration": 18,
    "start_time": "2023-04-01T08:12:03.383Z"
   },
   {
    "duration": 7,
    "start_time": "2023-04-01T08:12:03.402Z"
   },
   {
    "duration": 7,
    "start_time": "2023-04-01T08:12:03.413Z"
   },
   {
    "duration": 4,
    "start_time": "2023-04-01T08:12:03.421Z"
   },
   {
    "duration": 6,
    "start_time": "2023-04-01T08:12:03.427Z"
   },
   {
    "duration": 1210,
    "start_time": "2023-04-01T08:12:03.435Z"
   },
   {
    "duration": 1189,
    "start_time": "2023-04-01T08:12:04.647Z"
   },
   {
    "duration": 1266,
    "start_time": "2023-04-01T08:12:05.838Z"
   },
   {
    "duration": 1409,
    "start_time": "2023-04-01T08:21:31.794Z"
   },
   {
    "duration": 331,
    "start_time": "2023-04-01T08:21:33.205Z"
   },
   {
    "duration": 13,
    "start_time": "2023-04-01T08:21:33.537Z"
   },
   {
    "duration": 59,
    "start_time": "2023-04-01T08:21:33.552Z"
   },
   {
    "duration": 42,
    "start_time": "2023-04-01T08:21:33.613Z"
   },
   {
    "duration": 15,
    "start_time": "2023-04-01T08:21:33.668Z"
   },
   {
    "duration": 4,
    "start_time": "2023-04-01T08:21:33.685Z"
   },
   {
    "duration": 11,
    "start_time": "2023-04-01T08:21:33.690Z"
   },
   {
    "duration": 72,
    "start_time": "2023-04-01T08:21:33.702Z"
   },
   {
    "duration": 48,
    "start_time": "2023-04-01T08:21:33.777Z"
   },
   {
    "duration": 12,
    "start_time": "2023-04-01T08:21:33.827Z"
   },
   {
    "duration": 16,
    "start_time": "2023-04-01T08:21:33.840Z"
   },
   {
    "duration": 27,
    "start_time": "2023-04-01T08:21:33.858Z"
   },
   {
    "duration": 56,
    "start_time": "2023-04-01T08:21:33.887Z"
   },
   {
    "duration": 43,
    "start_time": "2023-04-01T08:21:33.945Z"
   },
   {
    "duration": 13,
    "start_time": "2023-04-01T08:21:33.990Z"
   },
   {
    "duration": 4,
    "start_time": "2023-04-01T08:21:34.004Z"
   },
   {
    "duration": 43,
    "start_time": "2023-04-01T08:21:34.010Z"
   },
   {
    "duration": 26,
    "start_time": "2023-04-01T08:21:34.055Z"
   },
   {
    "duration": 13,
    "start_time": "2023-04-01T08:21:34.083Z"
   },
   {
    "duration": 13,
    "start_time": "2023-04-01T08:21:34.097Z"
   },
   {
    "duration": 3,
    "start_time": "2023-04-01T08:21:34.111Z"
   },
   {
    "duration": 154,
    "start_time": "2023-04-01T08:21:34.115Z"
   },
   {
    "duration": 3,
    "start_time": "2023-04-01T08:21:34.271Z"
   },
   {
    "duration": 101,
    "start_time": "2023-04-01T08:21:34.275Z"
   },
   {
    "duration": 5,
    "start_time": "2023-04-01T08:21:34.379Z"
   },
   {
    "duration": 104,
    "start_time": "2023-04-01T08:21:34.387Z"
   },
   {
    "duration": 77,
    "start_time": "2023-04-01T08:21:34.492Z"
   },
   {
    "duration": 10,
    "start_time": "2023-04-01T08:21:34.571Z"
   },
   {
    "duration": 3,
    "start_time": "2023-04-01T08:21:34.583Z"
   },
   {
    "duration": 83,
    "start_time": "2023-04-01T08:21:34.587Z"
   },
   {
    "duration": 4,
    "start_time": "2023-04-01T08:21:34.672Z"
   },
   {
    "duration": 3,
    "start_time": "2023-04-01T08:21:34.678Z"
   },
   {
    "duration": 5,
    "start_time": "2023-04-01T08:21:34.683Z"
   },
   {
    "duration": 8,
    "start_time": "2023-04-01T08:21:34.690Z"
   },
   {
    "duration": 2,
    "start_time": "2023-04-01T08:21:34.700Z"
   },
   {
    "duration": 4,
    "start_time": "2023-04-01T08:21:34.704Z"
   },
   {
    "duration": 4,
    "start_time": "2023-04-01T08:21:34.709Z"
   },
   {
    "duration": 10,
    "start_time": "2023-04-01T08:21:34.714Z"
   },
   {
    "duration": 10,
    "start_time": "2023-04-01T08:21:34.725Z"
   },
   {
    "duration": 8,
    "start_time": "2023-04-01T08:21:34.770Z"
   },
   {
    "duration": 5,
    "start_time": "2023-04-01T08:21:34.780Z"
   },
   {
    "duration": 7,
    "start_time": "2023-04-01T08:21:34.786Z"
   },
   {
    "duration": 1344,
    "start_time": "2023-04-01T08:21:34.795Z"
   },
   {
    "duration": 1244,
    "start_time": "2023-04-01T08:21:36.140Z"
   },
   {
    "duration": 1272,
    "start_time": "2023-04-01T08:21:37.388Z"
   },
   {
    "duration": 81,
    "start_time": "2023-04-01T10:12:20.356Z"
   }
  ],
  "kernelspec": {
   "display_name": "Python 3 (ipykernel)",
   "language": "python",
   "name": "python3"
  },
  "language_info": {
   "codemirror_mode": {
    "name": "ipython",
    "version": 3
   },
   "file_extension": ".py",
   "mimetype": "text/x-python",
   "name": "python",
   "nbconvert_exporter": "python",
   "pygments_lexer": "ipython3",
   "version": "3.10.9"
  },
  "toc": {
   "base_numbering": 1,
   "nav_menu": {},
   "number_sections": true,
   "sideBar": true,
   "skip_h1_title": true,
   "title_cell": "Table of Contents",
   "title_sidebar": "Contents",
   "toc_cell": false,
   "toc_position": {},
   "toc_section_display": true,
   "toc_window_display": true
  }
 },
 "nbformat": 4,
 "nbformat_minor": 2
}
